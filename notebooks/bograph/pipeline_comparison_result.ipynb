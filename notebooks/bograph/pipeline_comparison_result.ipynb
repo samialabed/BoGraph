{
 "cells": [
  {
   "cell_type": "code",
   "execution_count": 2,
   "id": "initial_id",
   "metadata": {
    "collapsed": true,
    "ExecuteTime": {
     "end_time": "2024-01-23T21:52:13.312525Z",
     "start_time": "2024-01-23T21:52:13.236437Z"
    }
   },
   "outputs": [],
   "source": [
    "import pathlib\n",
    "%matplotlib inline\n",
    "%load_ext autoreload\n",
    "%autoreload 2"
   ]
  },
  {
   "cell_type": "code",
   "execution_count": 3,
   "outputs": [
    {
     "data": {
      "text/plain": "True"
     },
     "execution_count": 3,
     "metadata": {},
     "output_type": "execute_result"
    }
   ],
   "source": [
    "import torch\n",
    "\n",
    "torch.cuda.is_available()"
   ],
   "metadata": {
    "collapsed": false,
    "ExecuteTime": {
     "end_time": "2024-01-23T21:52:22.051391Z",
     "start_time": "2024-01-23T21:52:13.311878Z"
    }
   },
   "id": "a64adbe729875a7a"
  },
  {
   "cell_type": "code",
   "outputs": [
    {
     "name": "stderr",
     "output_type": "stream",
     "text": [
      "/home/salabed/workspace/autorocks/autorocks/data/loader/exp_dao.py:65: PerformanceWarning: DataFrame is highly fragmented.  This is usually the result of calling `frame.insert` many times, which has poor performance.  Consider joining all columns at once using pd.concat(axis=1) instead. To get a de-fragmented frame, use `newframe = frame.copy()`\n",
      "  self.sys_observations[col_name] = col_val\n",
      "/home/salabed/workspace/autorocks/autorocks/data/loader/all_models_result_aggregator.py:47: FutureWarning: The frame.append method is deprecated and will be removed from pandas in a future version. Use pandas.concat instead.\n",
      "  param_df = param_df.append(model_data.sys_params, ignore_index=True)\n",
      "/home/salabed/workspace/autorocks/autorocks/data/loader/all_models_result_aggregator.py:48: FutureWarning: The frame.append method is deprecated and will be removed from pandas in a future version. Use pandas.concat instead.\n",
      "  model_perf = model_perf.append(model_data.model_performance, ignore_index=True)\n",
      "/home/salabed/workspace/autorocks/autorocks/data/loader/all_models_result_aggregator.py:49: FutureWarning: The frame.append method is deprecated and will be removed from pandas in a future version. Use pandas.concat instead.\n",
      "  sys_observations = sys_observations.append(\n",
      "/home/salabed/workspace/autorocks/autorocks/data/loader/exp_dao.py:65: PerformanceWarning: DataFrame is highly fragmented.  This is usually the result of calling `frame.insert` many times, which has poor performance.  Consider joining all columns at once using pd.concat(axis=1) instead. To get a de-fragmented frame, use `newframe = frame.copy()`\n",
      "  self.sys_observations[col_name] = col_val\n",
      "/home/salabed/workspace/autorocks/autorocks/data/loader/all_models_result_aggregator.py:47: FutureWarning: The frame.append method is deprecated and will be removed from pandas in a future version. Use pandas.concat instead.\n",
      "  param_df = param_df.append(model_data.sys_params, ignore_index=True)\n",
      "/home/salabed/workspace/autorocks/autorocks/data/loader/all_models_result_aggregator.py:48: FutureWarning: The frame.append method is deprecated and will be removed from pandas in a future version. Use pandas.concat instead.\n",
      "  model_perf = model_perf.append(model_data.model_performance, ignore_index=True)\n",
      "/home/salabed/workspace/autorocks/autorocks/data/loader/all_models_result_aggregator.py:49: FutureWarning: The frame.append method is deprecated and will be removed from pandas in a future version. Use pandas.concat instead.\n",
      "  sys_observations = sys_observations.append(\n",
      "/home/salabed/workspace/autorocks/autorocks/data/loader/exp_dao.py:65: PerformanceWarning: DataFrame is highly fragmented.  This is usually the result of calling `frame.insert` many times, which has poor performance.  Consider joining all columns at once using pd.concat(axis=1) instead. To get a de-fragmented frame, use `newframe = frame.copy()`\n",
      "  self.sys_observations[col_name] = col_val\n",
      "/home/salabed/workspace/autorocks/autorocks/data/loader/all_models_result_aggregator.py:47: FutureWarning: The frame.append method is deprecated and will be removed from pandas in a future version. Use pandas.concat instead.\n",
      "  param_df = param_df.append(model_data.sys_params, ignore_index=True)\n",
      "/home/salabed/workspace/autorocks/autorocks/data/loader/all_models_result_aggregator.py:48: FutureWarning: The frame.append method is deprecated and will be removed from pandas in a future version. Use pandas.concat instead.\n",
      "  model_perf = model_perf.append(model_data.model_performance, ignore_index=True)\n",
      "/home/salabed/workspace/autorocks/autorocks/data/loader/all_models_result_aggregator.py:49: FutureWarning: The frame.append method is deprecated and will be removed from pandas in a future version. Use pandas.concat instead.\n",
      "  sys_observations = sys_observations.append(\n",
      "/home/salabed/workspace/autorocks/autorocks/data/loader/exp_dao.py:65: PerformanceWarning: DataFrame is highly fragmented.  This is usually the result of calling `frame.insert` many times, which has poor performance.  Consider joining all columns at once using pd.concat(axis=1) instead. To get a de-fragmented frame, use `newframe = frame.copy()`\n",
      "  self.sys_observations[col_name] = col_val\n",
      "/home/salabed/workspace/autorocks/autorocks/data/loader/all_models_result_aggregator.py:47: FutureWarning: The frame.append method is deprecated and will be removed from pandas in a future version. Use pandas.concat instead.\n",
      "  param_df = param_df.append(model_data.sys_params, ignore_index=True)\n",
      "/home/salabed/workspace/autorocks/autorocks/data/loader/all_models_result_aggregator.py:48: FutureWarning: The frame.append method is deprecated and will be removed from pandas in a future version. Use pandas.concat instead.\n",
      "  model_perf = model_perf.append(model_data.model_performance, ignore_index=True)\n",
      "/home/salabed/workspace/autorocks/autorocks/data/loader/all_models_result_aggregator.py:49: FutureWarning: The frame.append method is deprecated and will be removed from pandas in a future version. Use pandas.concat instead.\n",
      "  sys_observations = sys_observations.append(\n"
     ]
    }
   ],
   "source": [
    "from autorocks.data.loader.all_models_result_aggregator import create_all_models_comparison_dataset\n",
    "from autorocks.dir_struct import PackageRootDir\n",
    "from sysgym.envs.rocksdb import schema\n",
    "\n",
    "param_space = schema.RocksDB10Params()\n",
    "\n",
    "all_model_df = create_all_models_comparison_dataset(\n",
    "    PackageRootDir / \"ProcessedDataNew/rocksdb/iops/zippy_workload_15min/10_params/50_iter\", save_results=False)"
   ],
   "metadata": {
    "collapsed": false,
    "ExecuteTime": {
     "end_time": "2024-01-23T21:52:25.054008Z",
     "start_time": "2024-01-23T21:52:22.046737Z"
    }
   },
   "id": "9d4a0cc939cf6fa1",
   "execution_count": 4
  },
  {
   "cell_type": "code",
   "outputs": [
    {
     "data": {
      "text/plain": "     max_background_compactions  max_background_flushes  write_buffer_size  \\\n0                           154                       6           25583963   \n1                            72                       3           29858923   \n2                           214                       4           35550988   \n3                           113                       6           62248535   \n4                           129                       5           16385055   \n..                          ...                     ...                ...   \n619                         174                       4           37466346   \n620                          41                       4           19346230   \n621                         128                       7           58907658   \n622                         234                       8           72614168   \n623                         119                      10           41263397   \n\n     max_write_buffer_number  min_write_buffer_number_to_merge  \\\n0                         16                                22   \n1                          2                                 5   \n2                         21                                29   \n3                         20                                14   \n4                         11                                13   \n..                       ...                               ...   \n619                      123                                19   \n620                       10                                30   \n621                       75                                26   \n622                       40                                 7   \n623                      115                                24   \n\n     max_bytes_for_level_multiplier  block_size  \\\n0                          7.071408      430913   \n1                          5.869691      368029   \n2                         11.865346      483343   \n3                          7.908903       10359   \n4                         10.681709      238208   \n..                              ...         ...   \n619                        6.807059       97078   \n620                        7.847812      386514   \n621                        7.183811      336787   \n622                        7.988892      344358   \n623                        7.966446      284945   \n\n     level0_file_num_compaction_trigger  level0_slowdown_writes_trigger  \\\n0                                    30                             646   \n1                                     5                             525   \n2                                    10                             556   \n3                                     8                             926   \n4                                    52                             563   \n..                                  ...                             ...   \n619                                  25                              87   \n620                                  42                              41   \n621                                  41                             601   \n622                                  28                             889   \n623                                  24                             993   \n\n     level0_stop_writes_trigger  ... cpu_usage.p100  cpu_usage.count  \\\n0                            31  ...          107.5               90   \n1                           230  ...          103.4               90   \n2                           698  ...          100.0               90   \n3                           430  ...          100.1               90   \n4                           375  ...          103.6               90   \n..                          ...  ...            ...              ...   \n619                         375  ...          112.9               90   \n620                         647  ...          103.8               90   \n621                         491  ...          100.0               90   \n622                         348  ...          108.6               90   \n623                         255  ...          100.1               90   \n\n     cpu_usage.sum  mem_usage.name  mem_usage.p50 mem_usage.p95  \\\n0           8397.4       mem_usage       0.450180      0.519665   \n1           7562.0       mem_usage       0.395880      0.453498   \n2           8869.5       mem_usage       0.535667      0.705914   \n3           8868.2       mem_usage       0.641479      0.849507   \n4           6297.6       mem_usage       0.355343      0.404423   \n..             ...             ...            ...           ...   \n619         8880.9       mem_usage       0.543461      0.717233   \n620         6127.0       mem_usage       0.367821      0.369583   \n621         8867.2       mem_usage       0.632977      0.837250   \n622         8652.5       mem_usage       0.565750      0.676937   \n623         8867.7       mem_usage       0.561588      0.742296   \n\n     mem_usage.p99  mem_usage.p100  mem_usage.count  mem_usage.sum  \n0         0.519665        0.519665               90      37.931385  \n1         0.454830        0.454830               90      34.711170  \n2         0.718183        0.721096               90      45.135750  \n3         0.864744        0.868553               90      53.885429  \n4         0.404478        0.404926               90      30.268112  \n..             ...             ...              ...            ...  \n619       0.730835        0.740463               90      45.783016  \n620       0.369583        0.369583               90      29.557873  \n621       0.852180        0.855541               90      53.190914  \n622       0.676937        0.676937               90      48.170998  \n623       0.755489        0.758850               90      47.262959  \n\n[624 rows x 738 columns]",
      "text/html": "<div>\n<style scoped>\n    .dataframe tbody tr th:only-of-type {\n        vertical-align: middle;\n    }\n\n    .dataframe tbody tr th {\n        vertical-align: top;\n    }\n\n    .dataframe thead th {\n        text-align: right;\n    }\n</style>\n<table border=\"1\" class=\"dataframe\">\n  <thead>\n    <tr style=\"text-align: right;\">\n      <th></th>\n      <th>max_background_compactions</th>\n      <th>max_background_flushes</th>\n      <th>write_buffer_size</th>\n      <th>max_write_buffer_number</th>\n      <th>min_write_buffer_number_to_merge</th>\n      <th>max_bytes_for_level_multiplier</th>\n      <th>block_size</th>\n      <th>level0_file_num_compaction_trigger</th>\n      <th>level0_slowdown_writes_trigger</th>\n      <th>level0_stop_writes_trigger</th>\n      <th>...</th>\n      <th>cpu_usage.p100</th>\n      <th>cpu_usage.count</th>\n      <th>cpu_usage.sum</th>\n      <th>mem_usage.name</th>\n      <th>mem_usage.p50</th>\n      <th>mem_usage.p95</th>\n      <th>mem_usage.p99</th>\n      <th>mem_usage.p100</th>\n      <th>mem_usage.count</th>\n      <th>mem_usage.sum</th>\n    </tr>\n  </thead>\n  <tbody>\n    <tr>\n      <th>0</th>\n      <td>154</td>\n      <td>6</td>\n      <td>25583963</td>\n      <td>16</td>\n      <td>22</td>\n      <td>7.071408</td>\n      <td>430913</td>\n      <td>30</td>\n      <td>646</td>\n      <td>31</td>\n      <td>...</td>\n      <td>107.5</td>\n      <td>90</td>\n      <td>8397.4</td>\n      <td>mem_usage</td>\n      <td>0.450180</td>\n      <td>0.519665</td>\n      <td>0.519665</td>\n      <td>0.519665</td>\n      <td>90</td>\n      <td>37.931385</td>\n    </tr>\n    <tr>\n      <th>1</th>\n      <td>72</td>\n      <td>3</td>\n      <td>29858923</td>\n      <td>2</td>\n      <td>5</td>\n      <td>5.869691</td>\n      <td>368029</td>\n      <td>5</td>\n      <td>525</td>\n      <td>230</td>\n      <td>...</td>\n      <td>103.4</td>\n      <td>90</td>\n      <td>7562.0</td>\n      <td>mem_usage</td>\n      <td>0.395880</td>\n      <td>0.453498</td>\n      <td>0.454830</td>\n      <td>0.454830</td>\n      <td>90</td>\n      <td>34.711170</td>\n    </tr>\n    <tr>\n      <th>2</th>\n      <td>214</td>\n      <td>4</td>\n      <td>35550988</td>\n      <td>21</td>\n      <td>29</td>\n      <td>11.865346</td>\n      <td>483343</td>\n      <td>10</td>\n      <td>556</td>\n      <td>698</td>\n      <td>...</td>\n      <td>100.0</td>\n      <td>90</td>\n      <td>8869.5</td>\n      <td>mem_usage</td>\n      <td>0.535667</td>\n      <td>0.705914</td>\n      <td>0.718183</td>\n      <td>0.721096</td>\n      <td>90</td>\n      <td>45.135750</td>\n    </tr>\n    <tr>\n      <th>3</th>\n      <td>113</td>\n      <td>6</td>\n      <td>62248535</td>\n      <td>20</td>\n      <td>14</td>\n      <td>7.908903</td>\n      <td>10359</td>\n      <td>8</td>\n      <td>926</td>\n      <td>430</td>\n      <td>...</td>\n      <td>100.1</td>\n      <td>90</td>\n      <td>8868.2</td>\n      <td>mem_usage</td>\n      <td>0.641479</td>\n      <td>0.849507</td>\n      <td>0.864744</td>\n      <td>0.868553</td>\n      <td>90</td>\n      <td>53.885429</td>\n    </tr>\n    <tr>\n      <th>4</th>\n      <td>129</td>\n      <td>5</td>\n      <td>16385055</td>\n      <td>11</td>\n      <td>13</td>\n      <td>10.681709</td>\n      <td>238208</td>\n      <td>52</td>\n      <td>563</td>\n      <td>375</td>\n      <td>...</td>\n      <td>103.6</td>\n      <td>90</td>\n      <td>6297.6</td>\n      <td>mem_usage</td>\n      <td>0.355343</td>\n      <td>0.404423</td>\n      <td>0.404478</td>\n      <td>0.404926</td>\n      <td>90</td>\n      <td>30.268112</td>\n    </tr>\n    <tr>\n      <th>...</th>\n      <td>...</td>\n      <td>...</td>\n      <td>...</td>\n      <td>...</td>\n      <td>...</td>\n      <td>...</td>\n      <td>...</td>\n      <td>...</td>\n      <td>...</td>\n      <td>...</td>\n      <td>...</td>\n      <td>...</td>\n      <td>...</td>\n      <td>...</td>\n      <td>...</td>\n      <td>...</td>\n      <td>...</td>\n      <td>...</td>\n      <td>...</td>\n      <td>...</td>\n      <td>...</td>\n    </tr>\n    <tr>\n      <th>619</th>\n      <td>174</td>\n      <td>4</td>\n      <td>37466346</td>\n      <td>123</td>\n      <td>19</td>\n      <td>6.807059</td>\n      <td>97078</td>\n      <td>25</td>\n      <td>87</td>\n      <td>375</td>\n      <td>...</td>\n      <td>112.9</td>\n      <td>90</td>\n      <td>8880.9</td>\n      <td>mem_usage</td>\n      <td>0.543461</td>\n      <td>0.717233</td>\n      <td>0.730835</td>\n      <td>0.740463</td>\n      <td>90</td>\n      <td>45.783016</td>\n    </tr>\n    <tr>\n      <th>620</th>\n      <td>41</td>\n      <td>4</td>\n      <td>19346230</td>\n      <td>10</td>\n      <td>30</td>\n      <td>7.847812</td>\n      <td>386514</td>\n      <td>42</td>\n      <td>41</td>\n      <td>647</td>\n      <td>...</td>\n      <td>103.8</td>\n      <td>90</td>\n      <td>6127.0</td>\n      <td>mem_usage</td>\n      <td>0.367821</td>\n      <td>0.369583</td>\n      <td>0.369583</td>\n      <td>0.369583</td>\n      <td>90</td>\n      <td>29.557873</td>\n    </tr>\n    <tr>\n      <th>621</th>\n      <td>128</td>\n      <td>7</td>\n      <td>58907658</td>\n      <td>75</td>\n      <td>26</td>\n      <td>7.183811</td>\n      <td>336787</td>\n      <td>41</td>\n      <td>601</td>\n      <td>491</td>\n      <td>...</td>\n      <td>100.0</td>\n      <td>90</td>\n      <td>8867.2</td>\n      <td>mem_usage</td>\n      <td>0.632977</td>\n      <td>0.837250</td>\n      <td>0.852180</td>\n      <td>0.855541</td>\n      <td>90</td>\n      <td>53.190914</td>\n    </tr>\n    <tr>\n      <th>622</th>\n      <td>234</td>\n      <td>8</td>\n      <td>72614168</td>\n      <td>40</td>\n      <td>7</td>\n      <td>7.988892</td>\n      <td>344358</td>\n      <td>28</td>\n      <td>889</td>\n      <td>348</td>\n      <td>...</td>\n      <td>108.6</td>\n      <td>90</td>\n      <td>8652.5</td>\n      <td>mem_usage</td>\n      <td>0.565750</td>\n      <td>0.676937</td>\n      <td>0.676937</td>\n      <td>0.676937</td>\n      <td>90</td>\n      <td>48.170998</td>\n    </tr>\n    <tr>\n      <th>623</th>\n      <td>119</td>\n      <td>10</td>\n      <td>41263397</td>\n      <td>115</td>\n      <td>24</td>\n      <td>7.966446</td>\n      <td>284945</td>\n      <td>24</td>\n      <td>993</td>\n      <td>255</td>\n      <td>...</td>\n      <td>100.1</td>\n      <td>90</td>\n      <td>8867.7</td>\n      <td>mem_usage</td>\n      <td>0.561588</td>\n      <td>0.742296</td>\n      <td>0.755489</td>\n      <td>0.758850</td>\n      <td>90</td>\n      <td>47.262959</td>\n    </tr>\n  </tbody>\n</table>\n<p>624 rows × 738 columns</p>\n</div>"
     },
     "execution_count": 5,
     "metadata": {},
     "output_type": "execute_result"
    }
   ],
   "source": [
    "import pandas as pd\n",
    "import regex as re\n",
    "\n",
    "combined_df = pd.merge(all_model_df.sys_params, all_model_df.sys_observations, on=[\"model\", \"iteration\", \"step\"]).drop(\n",
    "    columns=[\"model\", \"iteration\", \"step\", \"db_bench.mixgraph.name\"])\n",
    "combined_df.rename(columns=lambda x: re.sub(r'^db_bench\\.mixgraph\\.', '', x), inplace=True)\n",
    "combined_df.rename(columns=lambda x: re.sub('rocksdb[\\_]?', '', x), inplace=True)\n",
    "combined_df.rename(columns=lambda x: re.sub(r'_statistics', '', x), inplace=True)\n",
    "combined_df.rename(columns=lambda x: re.sub(r'_stats', '', x), inplace=True)\n",
    "combined_df.rename(columns=lambda x: re.sub(r'^statistics.', '', x), inplace=True)\n",
    "combined_df"
   ],
   "metadata": {
    "collapsed": false,
    "ExecuteTime": {
     "end_time": "2024-01-23T21:52:25.657826Z",
     "start_time": "2024-01-23T21:52:25.056483Z"
    }
   },
   "id": "13d6f65a3ee49b79",
   "execution_count": 5
  },
  {
   "cell_type": "code",
   "execution_count": 6,
   "outputs": [
    {
     "data": {
      "text/plain": "     compaction.overall_compaction.interval_compaction.time_sec  \\\n0                                                  0.8            \n1                                                  4.3            \n2                                                  0.0            \n3                                                  0.0            \n4                                                  0.4            \n..                                                 ...            \n619                                                1.3            \n620                                                0.0            \n621                                                0.0            \n622                                                0.9            \n623                                                0.0            \n\n     compaction.overall_compaction.addfile_total_files.total  \\\n0                                                    0         \n1                                                    0         \n2                                                    0         \n3                                                    0         \n4                                                    0         \n..                                                 ...         \n619                                                  0         \n620                                                  0         \n621                                                  0         \n622                                                  0         \n623                                                  0         \n\n     bytes_per_write.p95  blobdb_blob_file_sync_micros.count  \\\n0             186.514186                                   0   \n1             186.466398                                   0   \n2             186.460042                                   0   \n3             186.569808                                   0   \n4             186.463534                                   0   \n..                   ...                                 ...   \n619           186.499929                                   0   \n620           186.368767                                   0   \n621           186.547413                                   0   \n622           186.477110                                   0   \n623           186.465616                                   0   \n\n     blobdb_gc_bytes_overwritten.count  db_write_micros.p50  \\\n0                                    0             3.559901   \n1                                    0             3.204317   \n2                                    0             3.793996   \n3                                    0             3.916484   \n4                                    0             3.666555   \n..                                 ...                  ...   \n619                                  0             3.681676   \n620                                  0             3.641209   \n621                                  0             3.833909   \n622                                  0             3.549798   \n623                                  0             3.811023   \n\n     compact_read_bytes.count  block_cachecompressed_miss.count  \\\n0                           0                                 0   \n1                   405691865                                 0   \n2                           0                                 0   \n3                           0                                 0   \n4                           0                                 0   \n..                        ...                               ...   \n619                         0                                 0   \n620                         0                                 0   \n621                         0                                 0   \n622                         0                                 0   \n623                         0                                 0   \n\n     l0_slowdown_count.count  sst_read_micros.count  ...  \\\n0                          0                 304233  ...   \n1                          0                 961113  ...   \n2                          0                   7591  ...   \n3                          0                  10633  ...   \n4                          0                1836763  ...   \n..                       ...                    ...  ...   \n619                        0                   8538  ...   \n620                        0                1639948  ...   \n621                        0                   7619  ...   \n622                        0                 257324  ...   \n623                        0                   7661  ...   \n\n     numfiles_in_singlecompaction.count  \\\n0                                     0   \n1                                    14   \n2                                     0   \n3                                     0   \n4                                     0   \n..                                  ...   \n619                                   0   \n620                                   0   \n621                                   0   \n622                                   0   \n623                                   0   \n\n     compaction_range_del_drop_obsolete.count  memtable_compaction_count.sum  \\\n0                                           0                              0   \n1                                           0                              0   \n2                                           0                              0   \n3                                           0                              0   \n4                                           0                              0   \n..                                        ...                            ...   \n619                                         0                              0   \n620                                         0                              0   \n621                                         0                              0   \n622                                         0                              0   \n623                                         0                              0   \n\n     compaction.overall_compaction.addfile_l0_files.total  \\\n0                                                    0      \n1                                                    0      \n2                                                    0      \n3                                                    0      \n4                                                    0      \n..                                                 ...      \n619                                                  0      \n620                                                  0      \n621                                                  0      \n622                                                  0      \n623                                                  0      \n\n     sst_read_micros.p50  blobdb_gc_num_files.count  \\\n0             179.432605                          0   \n1             148.743499                          0   \n2              69.183343                          0   \n3              68.066320                          0   \n4             147.255245                          0   \n..                   ...                        ...   \n619            71.204507                          0   \n620           179.239266                          0   \n621            70.211562                          0   \n622            95.991579                          0   \n623            69.320738                          0   \n\n     read_block_get_micros.p95  \\\n0                   527.391254   \n1                   372.678619   \n2                   147.638261   \n3                   124.470032   \n4                   367.457759   \n..                         ...   \n619                 173.511628   \n620                 530.721093   \n621                 152.036036   \n622                 204.134256   \n623                 147.970480   \n\n     compaction.overall_compaction.interval_compaction.read_size_mb  \\\n0                                                  0.0                \n1                                                470.0                \n2                                                  0.0                \n3                                                  0.0                \n4                                                  0.0                \n..                                                 ...                \n619                                                0.0                \n620                                                0.0                \n621                                                0.0                \n622                                                0.0                \n623                                                0.0                \n\n     rate_limit_delay_millis.count  sst_batch_size.p95  \n0                                0                 0.0  \n1                                0                 0.0  \n2                                0                 0.0  \n3                                0                 0.0  \n4                                0                 0.0  \n..                             ...                 ...  \n619                              0                 0.0  \n620                              0                 0.0  \n621                              0                 0.0  \n622                              0                 0.0  \n623                              0                 0.0  \n\n[624 rows x 498 columns]",
      "text/html": "<div>\n<style scoped>\n    .dataframe tbody tr th:only-of-type {\n        vertical-align: middle;\n    }\n\n    .dataframe tbody tr th {\n        vertical-align: top;\n    }\n\n    .dataframe thead th {\n        text-align: right;\n    }\n</style>\n<table border=\"1\" class=\"dataframe\">\n  <thead>\n    <tr style=\"text-align: right;\">\n      <th></th>\n      <th>compaction.overall_compaction.interval_compaction.time_sec</th>\n      <th>compaction.overall_compaction.addfile_total_files.total</th>\n      <th>bytes_per_write.p95</th>\n      <th>blobdb_blob_file_sync_micros.count</th>\n      <th>blobdb_gc_bytes_overwritten.count</th>\n      <th>db_write_micros.p50</th>\n      <th>compact_read_bytes.count</th>\n      <th>block_cachecompressed_miss.count</th>\n      <th>l0_slowdown_count.count</th>\n      <th>sst_read_micros.count</th>\n      <th>...</th>\n      <th>numfiles_in_singlecompaction.count</th>\n      <th>compaction_range_del_drop_obsolete.count</th>\n      <th>memtable_compaction_count.sum</th>\n      <th>compaction.overall_compaction.addfile_l0_files.total</th>\n      <th>sst_read_micros.p50</th>\n      <th>blobdb_gc_num_files.count</th>\n      <th>read_block_get_micros.p95</th>\n      <th>compaction.overall_compaction.interval_compaction.read_size_mb</th>\n      <th>rate_limit_delay_millis.count</th>\n      <th>sst_batch_size.p95</th>\n    </tr>\n  </thead>\n  <tbody>\n    <tr>\n      <th>0</th>\n      <td>0.8</td>\n      <td>0</td>\n      <td>186.514186</td>\n      <td>0</td>\n      <td>0</td>\n      <td>3.559901</td>\n      <td>0</td>\n      <td>0</td>\n      <td>0</td>\n      <td>304233</td>\n      <td>...</td>\n      <td>0</td>\n      <td>0</td>\n      <td>0</td>\n      <td>0</td>\n      <td>179.432605</td>\n      <td>0</td>\n      <td>527.391254</td>\n      <td>0.0</td>\n      <td>0</td>\n      <td>0.0</td>\n    </tr>\n    <tr>\n      <th>1</th>\n      <td>4.3</td>\n      <td>0</td>\n      <td>186.466398</td>\n      <td>0</td>\n      <td>0</td>\n      <td>3.204317</td>\n      <td>405691865</td>\n      <td>0</td>\n      <td>0</td>\n      <td>961113</td>\n      <td>...</td>\n      <td>14</td>\n      <td>0</td>\n      <td>0</td>\n      <td>0</td>\n      <td>148.743499</td>\n      <td>0</td>\n      <td>372.678619</td>\n      <td>470.0</td>\n      <td>0</td>\n      <td>0.0</td>\n    </tr>\n    <tr>\n      <th>2</th>\n      <td>0.0</td>\n      <td>0</td>\n      <td>186.460042</td>\n      <td>0</td>\n      <td>0</td>\n      <td>3.793996</td>\n      <td>0</td>\n      <td>0</td>\n      <td>0</td>\n      <td>7591</td>\n      <td>...</td>\n      <td>0</td>\n      <td>0</td>\n      <td>0</td>\n      <td>0</td>\n      <td>69.183343</td>\n      <td>0</td>\n      <td>147.638261</td>\n      <td>0.0</td>\n      <td>0</td>\n      <td>0.0</td>\n    </tr>\n    <tr>\n      <th>3</th>\n      <td>0.0</td>\n      <td>0</td>\n      <td>186.569808</td>\n      <td>0</td>\n      <td>0</td>\n      <td>3.916484</td>\n      <td>0</td>\n      <td>0</td>\n      <td>0</td>\n      <td>10633</td>\n      <td>...</td>\n      <td>0</td>\n      <td>0</td>\n      <td>0</td>\n      <td>0</td>\n      <td>68.066320</td>\n      <td>0</td>\n      <td>124.470032</td>\n      <td>0.0</td>\n      <td>0</td>\n      <td>0.0</td>\n    </tr>\n    <tr>\n      <th>4</th>\n      <td>0.4</td>\n      <td>0</td>\n      <td>186.463534</td>\n      <td>0</td>\n      <td>0</td>\n      <td>3.666555</td>\n      <td>0</td>\n      <td>0</td>\n      <td>0</td>\n      <td>1836763</td>\n      <td>...</td>\n      <td>0</td>\n      <td>0</td>\n      <td>0</td>\n      <td>0</td>\n      <td>147.255245</td>\n      <td>0</td>\n      <td>367.457759</td>\n      <td>0.0</td>\n      <td>0</td>\n      <td>0.0</td>\n    </tr>\n    <tr>\n      <th>...</th>\n      <td>...</td>\n      <td>...</td>\n      <td>...</td>\n      <td>...</td>\n      <td>...</td>\n      <td>...</td>\n      <td>...</td>\n      <td>...</td>\n      <td>...</td>\n      <td>...</td>\n      <td>...</td>\n      <td>...</td>\n      <td>...</td>\n      <td>...</td>\n      <td>...</td>\n      <td>...</td>\n      <td>...</td>\n      <td>...</td>\n      <td>...</td>\n      <td>...</td>\n      <td>...</td>\n    </tr>\n    <tr>\n      <th>619</th>\n      <td>1.3</td>\n      <td>0</td>\n      <td>186.499929</td>\n      <td>0</td>\n      <td>0</td>\n      <td>3.681676</td>\n      <td>0</td>\n      <td>0</td>\n      <td>0</td>\n      <td>8538</td>\n      <td>...</td>\n      <td>0</td>\n      <td>0</td>\n      <td>0</td>\n      <td>0</td>\n      <td>71.204507</td>\n      <td>0</td>\n      <td>173.511628</td>\n      <td>0.0</td>\n      <td>0</td>\n      <td>0.0</td>\n    </tr>\n    <tr>\n      <th>620</th>\n      <td>0.0</td>\n      <td>0</td>\n      <td>186.368767</td>\n      <td>0</td>\n      <td>0</td>\n      <td>3.641209</td>\n      <td>0</td>\n      <td>0</td>\n      <td>0</td>\n      <td>1639948</td>\n      <td>...</td>\n      <td>0</td>\n      <td>0</td>\n      <td>0</td>\n      <td>0</td>\n      <td>179.239266</td>\n      <td>0</td>\n      <td>530.721093</td>\n      <td>0.0</td>\n      <td>0</td>\n      <td>0.0</td>\n    </tr>\n    <tr>\n      <th>621</th>\n      <td>0.0</td>\n      <td>0</td>\n      <td>186.547413</td>\n      <td>0</td>\n      <td>0</td>\n      <td>3.833909</td>\n      <td>0</td>\n      <td>0</td>\n      <td>0</td>\n      <td>7619</td>\n      <td>...</td>\n      <td>0</td>\n      <td>0</td>\n      <td>0</td>\n      <td>0</td>\n      <td>70.211562</td>\n      <td>0</td>\n      <td>152.036036</td>\n      <td>0.0</td>\n      <td>0</td>\n      <td>0.0</td>\n    </tr>\n    <tr>\n      <th>622</th>\n      <td>0.9</td>\n      <td>0</td>\n      <td>186.477110</td>\n      <td>0</td>\n      <td>0</td>\n      <td>3.549798</td>\n      <td>0</td>\n      <td>0</td>\n      <td>0</td>\n      <td>257324</td>\n      <td>...</td>\n      <td>0</td>\n      <td>0</td>\n      <td>0</td>\n      <td>0</td>\n      <td>95.991579</td>\n      <td>0</td>\n      <td>204.134256</td>\n      <td>0.0</td>\n      <td>0</td>\n      <td>0.0</td>\n    </tr>\n    <tr>\n      <th>623</th>\n      <td>0.0</td>\n      <td>0</td>\n      <td>186.465616</td>\n      <td>0</td>\n      <td>0</td>\n      <td>3.811023</td>\n      <td>0</td>\n      <td>0</td>\n      <td>0</td>\n      <td>7661</td>\n      <td>...</td>\n      <td>0</td>\n      <td>0</td>\n      <td>0</td>\n      <td>0</td>\n      <td>69.320738</td>\n      <td>0</td>\n      <td>147.970480</td>\n      <td>0.0</td>\n      <td>0</td>\n      <td>0.0</td>\n    </tr>\n  </tbody>\n</table>\n<p>624 rows × 498 columns</p>\n</div>"
     },
     "execution_count": 6,
     "metadata": {},
     "output_type": "execute_result"
    }
   ],
   "source": [
    "intermediate_col = set(combined_df.columns) - set(param_space) - {\"iops\", \"exe_time\", \"cpu_usage.count\",\n",
    "                                                                  \"cpu_usage.p100\", \"cpu_usage.p99\",\n",
    "                                                                  \"cpu_usage.p95\", \"cpu_usage.p90\", \"cpu_usage.p50\",\n",
    "                                                                  \"cpu_usage.sum\",\n",
    "                                                                  \"mem_usage.count\", \"mem_usage.p100\", \"mem_usage.p99\",\n",
    "                                                                  \"mem_usage.p95\", \"mem_usage.p90\", \"mem_usage.p50\",\n",
    "                                                                  \"mem_usage.sum\",\n",
    "                                                                  }\n",
    "intermediate_df = combined_df[list(intermediate_col)]\n",
    "# Remove string\n",
    "intermediate_df = intermediate_df[intermediate_df.T[intermediate_df.dtypes != object].index]\n",
    "intermediate_df"
   ],
   "metadata": {
    "collapsed": false,
    "ExecuteTime": {
     "end_time": "2024-01-23T21:58:53.700378Z",
     "start_time": "2024-01-23T21:58:53.628208Z"
    }
   },
   "id": "36efd22948f9cf97"
  },
  {
   "cell_type": "code",
   "execution_count": 7,
   "outputs": [
    {
     "data": {
      "text/plain": "['blobdb_blob_file_bytes_read.count',\n 'blobdb_blob_file_bytes_written.count',\n 'blobdb_blob_file_read_micros.count',\n 'blobdb_blob_file_read_micros.p100',\n 'blobdb_blob_file_read_micros.p50',\n 'blobdb_blob_file_read_micros.p95',\n 'blobdb_blob_file_read_micros.p99',\n 'blobdb_blob_file_read_micros.sum',\n 'blobdb_blob_file_sync_micros.count',\n 'blobdb_blob_file_sync_micros.p100',\n 'blobdb_blob_file_sync_micros.p50',\n 'blobdb_blob_file_sync_micros.p95',\n 'blobdb_blob_file_sync_micros.p99',\n 'blobdb_blob_file_sync_micros.sum',\n 'blobdb_blob_file_synced.count',\n 'blobdb_blob_file_write_micros.count',\n 'blobdb_blob_file_write_micros.p100',\n 'blobdb_blob_file_write_micros.p50',\n 'blobdb_blob_file_write_micros.p95',\n 'blobdb_blob_file_write_micros.p99',\n 'blobdb_blob_file_write_micros.sum',\n 'blobdb_blob_index_evicted_count.count',\n 'blobdb_blob_index_evicted_size.count',\n 'blobdb_blob_index_expired_count.count',\n 'blobdb_blob_index_expired_size.count',\n 'blobdb_bytes_read.count',\n 'blobdb_bytes_written.count',\n 'blobdb_compression_micros.count',\n 'blobdb_compression_micros.p100',\n 'blobdb_compression_micros.p50',\n 'blobdb_compression_micros.p95',\n 'blobdb_compression_micros.p99',\n 'blobdb_compression_micros.sum',\n 'blobdb_decompression_micros.count',\n 'blobdb_decompression_micros.p100',\n 'blobdb_decompression_micros.p50',\n 'blobdb_decompression_micros.p95',\n 'blobdb_decompression_micros.p99',\n 'blobdb_decompression_micros.sum',\n 'blobdb_fifo_bytes_evicted.count',\n 'blobdb_fifo_num_files_evicted.count',\n 'blobdb_fifo_num_keys_evicted.count',\n 'blobdb_gc_bytes_expired.count',\n 'blobdb_gc_bytes_overwritten.count',\n 'blobdb_gc_bytes_relocated.count',\n 'blobdb_gc_failures.count',\n 'blobdb_gc_micros.count',\n 'blobdb_gc_micros.p100',\n 'blobdb_gc_micros.p50',\n 'blobdb_gc_micros.p95',\n 'blobdb_gc_micros.p99',\n 'blobdb_gc_micros.sum',\n 'blobdb_gc_num_files.count',\n 'blobdb_gc_num_keys_expired.count',\n 'blobdb_gc_num_keys_overwritten.count',\n 'blobdb_gc_num_keys_relocated.count',\n 'blobdb_gc_num_new_files.count',\n 'blobdb_get_micros.count',\n 'blobdb_get_micros.p100',\n 'blobdb_get_micros.p50',\n 'blobdb_get_micros.p95',\n 'blobdb_get_micros.p99',\n 'blobdb_get_micros.sum',\n 'blobdb_key_size.count',\n 'blobdb_key_size.p100',\n 'blobdb_key_size.p50',\n 'blobdb_key_size.p95',\n 'blobdb_key_size.p99',\n 'blobdb_key_size.sum',\n 'blobdb_multiget_micros.count',\n 'blobdb_multiget_micros.p100',\n 'blobdb_multiget_micros.p50',\n 'blobdb_multiget_micros.p95',\n 'blobdb_multiget_micros.p99',\n 'blobdb_multiget_micros.sum',\n 'blobdb_next_micros.count',\n 'blobdb_next_micros.p100',\n 'blobdb_next_micros.p50',\n 'blobdb_next_micros.p95',\n 'blobdb_next_micros.p99',\n 'blobdb_next_micros.sum',\n 'blobdb_num_get.count',\n 'blobdb_num_keys_read.count',\n 'blobdb_num_keys_written.count',\n 'blobdb_num_multiget.count',\n 'blobdb_num_next.count',\n 'blobdb_num_prev.count',\n 'blobdb_num_put.count',\n 'blobdb_num_seek.count',\n 'blobdb_num_write.count',\n 'blobdb_prev_micros.count',\n 'blobdb_prev_micros.p100',\n 'blobdb_prev_micros.p50',\n 'blobdb_prev_micros.p95',\n 'blobdb_prev_micros.p99',\n 'blobdb_prev_micros.sum',\n 'blobdb_seek_micros.count',\n 'blobdb_seek_micros.p100',\n 'blobdb_seek_micros.p50',\n 'blobdb_seek_micros.p95',\n 'blobdb_seek_micros.p99',\n 'blobdb_seek_micros.sum',\n 'blobdb_value_size.count',\n 'blobdb_value_size.p100',\n 'blobdb_value_size.p50',\n 'blobdb_value_size.p95',\n 'blobdb_value_size.p99',\n 'blobdb_value_size.sum',\n 'blobdb_write_blob.count',\n 'blobdb_write_blob_ttl.count',\n 'blobdb_write_inlined.count',\n 'blobdb_write_inlined_ttl.count',\n 'blobdb_write_micros.count',\n 'blobdb_write_micros.p100',\n 'blobdb_write_micros.p50',\n 'blobdb_write_micros.p95',\n 'blobdb_write_micros.p99',\n 'blobdb_write_micros.sum',\n 'block_cache_add.count',\n 'block_cache_add_failures.count',\n 'block_cache_add_redundant.count',\n 'block_cache_bytes_read.count',\n 'block_cache_bytes_write.count',\n 'block_cache_compression_dict_add.count',\n 'block_cache_compression_dict_add_redundant.count',\n 'block_cache_compression_dict_bytes_evict.count',\n 'block_cache_compression_dict_bytes_insert.count',\n 'block_cache_compression_dict_hit.count',\n 'block_cache_compression_dict_miss.count',\n 'block_cache_data_add.count',\n 'block_cache_data_add_redundant.count',\n 'block_cache_data_bytes_insert.count',\n 'block_cache_data_hit.count',\n 'block_cache_data_miss.count',\n 'block_cache_filter_add.count',\n 'block_cache_filter_add_redundant.count',\n 'block_cache_filter_bytes_evict.count',\n 'block_cache_filter_bytes_insert.count',\n 'block_cache_filter_hit.count',\n 'block_cache_filter_miss.count',\n 'block_cache_hit.count',\n 'block_cache_index_add.count',\n 'block_cache_index_add_redundant.count',\n 'block_cache_index_bytes_evict.count',\n 'block_cache_index_bytes_insert.count',\n 'block_cache_index_hit.count',\n 'block_cache_index_miss.count',\n 'block_cache_miss.count',\n 'block_cachecompressed_add.count',\n 'block_cachecompressed_add_failures.count',\n 'block_cachecompressed_hit.count',\n 'block_cachecompressed_miss.count',\n 'bloom_filter_full_positive.count',\n 'bloom_filter_full_true_positive.count',\n 'bloom_filter_micros.count',\n 'bloom_filter_prefix_checked.count',\n 'bloom_filter_prefix_useful.count',\n 'bloom_filter_useful.count',\n 'bytes_compressed.count',\n 'bytes_compressed.p100',\n 'bytes_compressed.p50',\n 'bytes_compressed.p95',\n 'bytes_compressed.p99',\n 'bytes_compressed.sum',\n 'bytes_decompressed.count',\n 'bytes_decompressed.p100',\n 'bytes_decompressed.p50',\n 'bytes_decompressed.p95',\n 'bytes_decompressed.p99',\n 'bytes_decompressed.sum',\n 'bytes_per_multiget.count',\n 'bytes_per_multiget.p100',\n 'bytes_per_multiget.p50',\n 'bytes_per_multiget.p95',\n 'bytes_per_multiget.p99',\n 'bytes_per_multiget.sum',\n 'bytes_per_read.count',\n 'bytes_per_read.p100',\n 'bytes_per_read.p50',\n 'bytes_per_read.p95',\n 'bytes_per_read.p99',\n 'bytes_per_read.sum',\n 'bytes_per_write.count',\n 'bytes_per_write.p100',\n 'bytes_per_write.p50',\n 'bytes_per_write.p95',\n 'bytes_per_write.p99',\n 'bytes_per_write.sum',\n 'bytes_read.count',\n 'bytes_written.count',\n 'compact_read_bytes.count',\n 'compact_read_marked_bytes.count',\n 'compact_read_periodic_bytes.count',\n 'compact_read_ttl_bytes.count',\n 'compact_write_bytes.count',\n 'compact_write_marked_bytes.count',\n 'compact_write_periodic_bytes.count',\n 'compact_write_ttl_bytes.count',\n 'compaction.overall_compaction.addfile_gb.interval',\n 'compaction.overall_compaction.addfile_gb.total',\n 'compaction.overall_compaction.addfile_keys.interval',\n 'compaction.overall_compaction.addfile_keys.total',\n 'compaction.overall_compaction.addfile_l0_files.interval',\n 'compaction.overall_compaction.addfile_l0_files.total',\n 'compaction.overall_compaction.addfile_total_files.interval',\n 'compaction.overall_compaction.addfile_total_files.total',\n 'compaction.overall_compaction.cumulative_compaction.read_size_mb',\n 'compaction.overall_compaction.cumulative_compaction.read_throughput',\n 'compaction.overall_compaction.cumulative_compaction.time_sec',\n 'compaction.overall_compaction.cumulative_compaction.write_size_mb',\n 'compaction.overall_compaction.cumulative_compaction.write_throughput',\n 'compaction.overall_compaction.flush_gb.interval',\n 'compaction.overall_compaction.flush_gb.total',\n 'compaction.overall_compaction.interval_compaction.read_size_mb',\n 'compaction.overall_compaction.interval_compaction.read_throughput',\n 'compaction.overall_compaction.interval_compaction.time_sec',\n 'compaction.overall_compaction.interval_compaction.write_size_mb',\n 'compaction.overall_compaction.interval_compaction.write_throughput',\n 'compaction.overall_compaction.stalls_count.level0_numfiles',\n 'compaction.overall_compaction.stalls_count.level0_numfiles_with_compaction',\n 'compaction.overall_compaction.stalls_count.level0_slowdown',\n 'compaction.overall_compaction.stalls_count.level0_slowdown_with_compaction',\n 'compaction.overall_compaction.stalls_count.memtable_compaction',\n 'compaction.overall_compaction.stalls_count.memtable_slowdown',\n 'compaction.overall_compaction.stalls_count.slowdown',\n 'compaction.overall_compaction.stalls_count.stop',\n 'compaction.overall_compaction.stalls_count.total',\n 'compaction.overall_compaction.uptime_secs.interval',\n 'compaction.overall_compaction.uptime_secs.total',\n 'compaction_cancelled.count',\n 'compaction_key_drop_new.count',\n 'compaction_key_drop_obsolete.count',\n 'compaction_key_drop_range_del.count',\n 'compaction_key_drop_user.count',\n 'compaction_optimized_del_drop_obsolete.count',\n 'compaction_outfile_sync_micros.count',\n 'compaction_outfile_sync_micros.p100',\n 'compaction_outfile_sync_micros.p50',\n 'compaction_outfile_sync_micros.p95',\n 'compaction_outfile_sync_micros.p99',\n 'compaction_outfile_sync_micros.sum',\n 'compaction_range_del_drop_obsolete.count',\n 'compaction_times_cpu_micros.count',\n 'compaction_times_cpu_micros.p100',\n 'compaction_times_cpu_micros.p50',\n 'compaction_times_cpu_micros.p95',\n 'compaction_times_cpu_micros.p99',\n 'compaction_times_cpu_micros.sum',\n 'compaction_times_micros.count',\n 'compaction_times_micros.p100',\n 'compaction_times_micros.p50',\n 'compaction_times_micros.p95',\n 'compaction_times_micros.p99',\n 'compaction_times_micros.sum',\n 'compression_times_nanos.count',\n 'compression_times_nanos.p100',\n 'compression_times_nanos.p50',\n 'compression_times_nanos.p95',\n 'compression_times_nanos.p99',\n 'compression_times_nanos.sum',\n 'db_flush_micros.count',\n 'db_flush_micros.p100',\n 'db_flush_micros.p50',\n 'db_flush_micros.p95',\n 'db_flush_micros.p99',\n 'db_flush_micros.sum',\n 'db_get_micros.count',\n 'db_get_micros.p100',\n 'db_get_micros.p50',\n 'db_get_micros.p95',\n 'db_get_micros.p99',\n 'db_get_micros.sum',\n 'db_iter_bytes_read.count',\n 'db_multiget_micros.count',\n 'db_multiget_micros.p100',\n 'db_multiget_micros.p50',\n 'db_multiget_micros.p95',\n 'db_multiget_micros.p99',\n 'db_multiget_micros.sum',\n 'db_mutex_wait_micros.count',\n 'db_seek_micros.count',\n 'db_seek_micros.p100',\n 'db_seek_micros.p50',\n 'db_seek_micros.p95',\n 'db_seek_micros.p99',\n 'db_seek_micros.sum',\n 'db_write_micros.count',\n 'db_write_micros.p100',\n 'db_write_micros.p50',\n 'db_write_micros.p95',\n 'db_write_micros.p99',\n 'db_write_micros.sum',\n 'db_write_stall.count',\n 'db_write_stall.p100',\n 'db_write_stall.p50',\n 'db_write_stall.p95',\n 'db_write_stall.p99',\n 'db_write_stall.sum',\n 'decompression_times_nanos.count',\n 'decompression_times_nanos.p100',\n 'decompression_times_nanos.p50',\n 'decompression_times_nanos.p95',\n 'decompression_times_nanos.p99',\n 'decompression_times_nanos.sum',\n 'files_deleted_immediately.count',\n 'files_marked_trash.count',\n 'filter_operation_time_nanos.count',\n 'flush_write_bytes.count',\n 'getupdatessince_calls.count',\n 'hard_rate_limit_delay_count.count',\n 'hard_rate_limit_delay_count.p100',\n 'hard_rate_limit_delay_count.p50',\n 'hard_rate_limit_delay_count.p95',\n 'hard_rate_limit_delay_count.p99',\n 'hard_rate_limit_delay_count.sum',\n 'io_size',\n 'l0_hit.count',\n 'l0_num_files_stall_micros.count',\n 'l0_slowdown_count.count',\n 'l0_slowdown_count.p100',\n 'l0_slowdown_count.p50',\n 'l0_slowdown_count.p95',\n 'l0_slowdown_count.p99',\n 'l0_slowdown_count.sum',\n 'l0_slowdown_micros.count',\n 'l1_hit.count',\n 'l2andup_hit.count',\n 'latency',\n 'manifest_file_sync_micros.count',\n 'manifest_file_sync_micros.p100',\n 'manifest_file_sync_micros.p50',\n 'manifest_file_sync_micros.p95',\n 'manifest_file_sync_micros.p99',\n 'manifest_file_sync_micros.sum',\n 'memtable_compaction_count.count',\n 'memtable_compaction_count.p100',\n 'memtable_compaction_count.p50',\n 'memtable_compaction_count.p95',\n 'memtable_compaction_count.p99',\n 'memtable_compaction_count.sum',\n 'memtable_compaction_micros.count',\n 'memtable_hit.count',\n 'memtable_miss.count',\n 'merge_operation_time_nanos.count',\n 'no_file_closes.count',\n 'no_file_errors.count',\n 'no_file_opens.count',\n 'num_data_blocks_read_per_level.count',\n 'num_data_blocks_read_per_level.p100',\n 'num_data_blocks_read_per_level.p50',\n 'num_data_blocks_read_per_level.p95',\n 'num_data_blocks_read_per_level.p99',\n 'num_data_blocks_read_per_level.sum',\n 'num_files_stall_count.count',\n 'num_files_stall_count.p100',\n 'num_files_stall_count.p50',\n 'num_files_stall_count.p95',\n 'num_files_stall_count.p99',\n 'num_files_stall_count.sum',\n 'num_index_and_filter_blocks_read_per_level.count',\n 'num_index_and_filter_blocks_read_per_level.p100',\n 'num_index_and_filter_blocks_read_per_level.p50',\n 'num_index_and_filter_blocks_read_per_level.p95',\n 'num_index_and_filter_blocks_read_per_level.p99',\n 'num_index_and_filter_blocks_read_per_level.sum',\n 'num_iterator_created.count',\n 'num_iterator_deleted.count',\n 'num_iterators.count',\n 'num_sst_read_per_level.count',\n 'num_sst_read_per_level.p100',\n 'num_sst_read_per_level.p50',\n 'num_sst_read_per_level.p95',\n 'num_sst_read_per_level.p99',\n 'num_sst_read_per_level.sum',\n 'num_subcompactions_scheduled.count',\n 'num_subcompactions_scheduled.p100',\n 'num_subcompactions_scheduled.p50',\n 'num_subcompactions_scheduled.p95',\n 'num_subcompactions_scheduled.p99',\n 'num_subcompactions_scheduled.sum',\n 'number_block_compressed.count',\n 'number_block_decompressed.count',\n 'number_block_not_compressed.count',\n 'number_db_next.count',\n 'number_db_next_found.count',\n 'number_db_prev.count',\n 'number_db_prev_found.count',\n 'number_db_seek.count',\n 'number_db_seek_found.count',\n 'number_deletes_filtered.count',\n 'number_direct_load_table_properties.count',\n 'number_iter_skip.count',\n 'number_keys_read.count',\n 'number_keys_updated.count',\n 'number_keys_written.count',\n 'number_merge_failures.count',\n 'number_multiget_bytes_read.count',\n 'number_multiget_get.count',\n 'number_multiget_keys_found.count',\n 'number_multiget_keys_read.count',\n 'number_rate_limiter_drains.count',\n 'number_reseeks_iteration.count',\n 'number_superversion_acquires.count',\n 'number_superversion_cleanups.count',\n 'number_superversion_releases.count',\n 'numfiles_in_singlecompaction.count',\n 'numfiles_in_singlecompaction.p100',\n 'numfiles_in_singlecompaction.p50',\n 'numfiles_in_singlecompaction.p95',\n 'numfiles_in_singlecompaction.p99',\n 'numfiles_in_singlecompaction.sum',\n 'persistent_cache_hit.count',\n 'persistent_cache_miss.count',\n 'rate_limit_delay_millis.count',\n 'read_amp_estimate_useful_bytes.count',\n 'read_amp_total_read_bytes.count',\n 'read_block_compaction_micros.count',\n 'read_block_compaction_micros.p100',\n 'read_block_compaction_micros.p50',\n 'read_block_compaction_micros.p95',\n 'read_block_compaction_micros.p99',\n 'read_block_compaction_micros.sum',\n 'read_block_get_micros.count',\n 'read_block_get_micros.p100',\n 'read_block_get_micros.p50',\n 'read_block_get_micros.p95',\n 'read_block_get_micros.p99',\n 'read_block_get_micros.sum',\n 'read_num_merge_operands.count',\n 'read_num_merge_operands.p100',\n 'read_num_merge_operands.p50',\n 'read_num_merge_operands.p95',\n 'read_num_merge_operands.p99',\n 'read_num_merge_operands.sum',\n 'row_cache_hit.count',\n 'row_cache_miss.count',\n 'sim_block_cache_hit.count',\n 'sim_block_cache_miss.count',\n 'soft_rate_limit_delay_count.count',\n 'soft_rate_limit_delay_count.p100',\n 'soft_rate_limit_delay_count.p50',\n 'soft_rate_limit_delay_count.p95',\n 'soft_rate_limit_delay_count.p99',\n 'soft_rate_limit_delay_count.sum',\n 'sst_batch_size.count',\n 'sst_batch_size.p100',\n 'sst_batch_size.p50',\n 'sst_batch_size.p95',\n 'sst_batch_size.p99',\n 'sst_batch_size.sum',\n 'sst_read_micros.count',\n 'sst_read_micros.p100',\n 'sst_read_micros.p50',\n 'sst_read_micros.p95',\n 'sst_read_micros.p99',\n 'sst_read_micros.sum',\n 'stall_micros.count',\n 'subcompaction_setup_times_micros.count',\n 'subcompaction_setup_times_micros.p100',\n 'subcompaction_setup_times_micros.p50',\n 'subcompaction_setup_times_micros.p95',\n 'subcompaction_setup_times_micros.p99',\n 'subcompaction_setup_times_micros.sum',\n 'table_open_io_micros.count',\n 'table_open_io_micros.p100',\n 'table_open_io_micros.p50',\n 'table_open_io_micros.p95',\n 'table_open_io_micros.p99',\n 'table_open_io_micros.sum',\n 'table_sync_micros.count',\n 'table_sync_micros.p100',\n 'table_sync_micros.p50',\n 'table_sync_micros.p95',\n 'table_sync_micros.p99',\n 'table_sync_micros.sum',\n 'txn_get_tryagain.count',\n 'txn_overhead_duplicate_key.count',\n 'txn_overhead_mutex_old_commit_map.count',\n 'txn_overhead_mutex_prepare.count',\n 'txn_overhead_mutex_snapshot.count',\n 'wal_bytes.count',\n 'wal_file_sync_micros.count',\n 'wal_file_sync_micros.p100',\n 'wal_file_sync_micros.p50',\n 'wal_file_sync_micros.p95',\n 'wal_file_sync_micros.p99',\n 'wal_file_sync_micros.sum',\n 'wal_synced.count',\n 'write_other.count',\n 'write_raw_block_micros.count',\n 'write_raw_block_micros.p100',\n 'write_raw_block_micros.p50',\n 'write_raw_block_micros.p95',\n 'write_raw_block_micros.p99',\n 'write_raw_block_micros.sum',\n 'write_self.count',\n 'write_timeout.count',\n 'write_wal.count']"
     },
     "execution_count": 7,
     "metadata": {},
     "output_type": "execute_result"
    }
   ],
   "source": [
    "list(sorted(intermediate_df.columns))\n",
    "\n"
   ],
   "metadata": {
    "collapsed": false,
    "ExecuteTime": {
     "end_time": "2024-01-23T21:58:55.029678Z",
     "start_time": "2024-01-23T21:58:54.951977Z"
    }
   },
   "id": "9055b044063a6b51"
  },
  {
   "cell_type": "code",
   "outputs": [],
   "source": [
    "# create test/training dataset, split to 100 train, the rest will be used to test\n",
    "\n",
    "X_FULL = combined_df[list(param_space)]\n",
    "Y_FULL = combined_df[\"iops\"]"
   ],
   "metadata": {
    "collapsed": false,
    "ExecuteTime": {
     "end_time": "2024-01-23T21:58:56.812731Z",
     "start_time": "2024-01-23T21:58:56.783450Z"
    }
   },
   "id": "5055804fb3ea9d89",
   "execution_count": 8
  },
  {
   "cell_type": "code",
   "execution_count": 9,
   "outputs": [
    {
     "name": "stderr",
     "output_type": "stream",
     "text": [
      "2024-01-28 12:22:06,969 - /home/salabed/anaconda3/envs/rocksdb/lib/python3.8/site-packages/castle/backend/__init__.py[line:36] - INFO: You can use `os.environ['CASTLE_BACKEND'] = backend` to set the backend(`pytorch` or `mindspore`).\n",
      "2024-01-28 12:22:07,017 - /home/salabed/anaconda3/envs/rocksdb/lib/python3.8/site-packages/castle/algorithms/__init__.py[line:36] - INFO: You are using ``pytorch`` as the backend.\n"
     ]
    }
   ],
   "source": [
    "from autorocks.optimizer.bograph.bograph_dao import BoGraphDataPandas\n",
    "import exp_util\n",
    "\n",
    "data = BoGraphDataPandas(\n",
    "    params=combined_df[list(param_space)].copy(),\n",
    "    objs=combined_df[\"iops\"].copy(),\n",
    "    intermediate=intermediate_df.copy(),\n",
    ")\n",
    "\n",
    "preprocessing_comparison = []\n",
    "\n",
    "strategies = [exp_util.Strategy.NO_COMPRESS,\n",
    "              exp_util.Strategy.RANKER5,\n",
    "              exp_util.Strategy.RANKER10,\n",
    "              exp_util.Strategy.RANKER15,\n",
    "              exp_util.Strategy.PCA]\n"
   ],
   "metadata": {
    "collapsed": false
   }
  },
  {
   "cell_type": "code",
   "execution_count": 15,
   "outputs": [
    {
     "name": "stderr",
     "output_type": "stream",
     "text": [
      "2024-01-28 13:08:21,268 - /home/salabed/anaconda3/envs/rocksdb/lib/python3.8/site-packages/castle/algorithms/gradient/notears/torch/golem.py[line:120] - INFO: GPU is available.\n",
      "2024-01-28 13:08:21,273 - /home/salabed/anaconda3/envs/rocksdb/lib/python3.8/site-packages/castle/algorithms/gradient/notears/torch/golem.py[line:207] - INFO: Started training for 100000 iterations.\n",
      "2024-01-28 13:08:21,275 - /home/salabed/anaconda3/envs/rocksdb/lib/python3.8/site-packages/castle/algorithms/gradient/notears/torch/golem.py[line:221] - INFO: [Iter 0] score=180.354, likelihood=180.354, h=0.0e+00\n",
      "2024-01-28 13:08:32,980 - /home/salabed/anaconda3/envs/rocksdb/lib/python3.8/site-packages/castle/algorithms/gradient/notears/torch/golem.py[line:221] - INFO: [Iter 5000] score=160.342, likelihood=155.743, h=6.5e-02\n",
      "2024-01-28 13:08:45,328 - /home/salabed/anaconda3/envs/rocksdb/lib/python3.8/site-packages/castle/algorithms/gradient/notears/torch/golem.py[line:221] - INFO: [Iter 10000] score=159.064, likelihood=153.426, h=6.3e-02\n",
      "2024-01-28 13:08:57,744 - /home/salabed/anaconda3/envs/rocksdb/lib/python3.8/site-packages/castle/algorithms/gradient/notears/torch/golem.py[line:221] - INFO: [Iter 15000] score=158.327, likelihood=152.575, h=6.9e-02\n",
      "2024-01-28 13:09:10,436 - /home/salabed/anaconda3/envs/rocksdb/lib/python3.8/site-packages/castle/algorithms/gradient/notears/torch/golem.py[line:221] - INFO: [Iter 20000] score=158.047, likelihood=152.123, h=5.6e-02\n",
      "2024-01-28 13:09:23,243 - /home/salabed/anaconda3/envs/rocksdb/lib/python3.8/site-packages/castle/algorithms/gradient/notears/torch/golem.py[line:221] - INFO: [Iter 25000] score=157.837, likelihood=151.761, h=5.9e-02\n",
      "2024-01-28 13:09:36,100 - /home/salabed/anaconda3/envs/rocksdb/lib/python3.8/site-packages/castle/algorithms/gradient/notears/torch/golem.py[line:221] - INFO: [Iter 30000] score=157.534, likelihood=151.385, h=5.3e-02\n",
      "2024-01-28 13:09:49,068 - /home/salabed/anaconda3/envs/rocksdb/lib/python3.8/site-packages/castle/algorithms/gradient/notears/torch/golem.py[line:221] - INFO: [Iter 35000] score=157.516, likelihood=151.220, h=5.5e-02\n",
      "2024-01-28 13:10:01,988 - /home/salabed/anaconda3/envs/rocksdb/lib/python3.8/site-packages/castle/algorithms/gradient/notears/torch/golem.py[line:221] - INFO: [Iter 40000] score=157.810, likelihood=151.137, h=1.2e-01\n",
      "2024-01-28 13:10:14,933 - /home/salabed/anaconda3/envs/rocksdb/lib/python3.8/site-packages/castle/algorithms/gradient/notears/torch/golem.py[line:221] - INFO: [Iter 45000] score=157.503, likelihood=151.126, h=5.4e-02\n",
      "2024-01-28 13:10:27,583 - /home/salabed/anaconda3/envs/rocksdb/lib/python3.8/site-packages/castle/algorithms/gradient/notears/torch/golem.py[line:221] - INFO: [Iter 50000] score=157.576, likelihood=151.157, h=6.4e-02\n",
      "2024-01-28 13:10:40,502 - /home/salabed/anaconda3/envs/rocksdb/lib/python3.8/site-packages/castle/algorithms/gradient/notears/torch/golem.py[line:221] - INFO: [Iter 55000] score=157.519, likelihood=151.146, h=5.3e-02\n",
      "2024-01-28 13:10:53,493 - /home/salabed/anaconda3/envs/rocksdb/lib/python3.8/site-packages/castle/algorithms/gradient/notears/torch/golem.py[line:221] - INFO: [Iter 60000] score=157.504, likelihood=151.120, h=5.3e-02\n",
      "2024-01-28 13:11:06,460 - /home/salabed/anaconda3/envs/rocksdb/lib/python3.8/site-packages/castle/algorithms/gradient/notears/torch/golem.py[line:221] - INFO: [Iter 65000] score=157.492, likelihood=151.089, h=5.5e-02\n",
      "2024-01-28 13:11:19,464 - /home/salabed/anaconda3/envs/rocksdb/lib/python3.8/site-packages/castle/algorithms/gradient/notears/torch/golem.py[line:221] - INFO: [Iter 70000] score=157.526, likelihood=151.110, h=5.9e-02\n",
      "2024-01-28 13:11:32,479 - /home/salabed/anaconda3/envs/rocksdb/lib/python3.8/site-packages/castle/algorithms/gradient/notears/torch/golem.py[line:221] - INFO: [Iter 75000] score=157.493, likelihood=151.094, h=5.5e-02\n",
      "2024-01-28 13:11:45,487 - /home/salabed/anaconda3/envs/rocksdb/lib/python3.8/site-packages/castle/algorithms/gradient/notears/torch/golem.py[line:221] - INFO: [Iter 80000] score=157.515, likelihood=151.126, h=5.4e-02\n",
      "2024-01-28 13:11:58,400 - /home/salabed/anaconda3/envs/rocksdb/lib/python3.8/site-packages/castle/algorithms/gradient/notears/torch/golem.py[line:221] - INFO: [Iter 85000] score=157.510, likelihood=151.095, h=5.7e-02\n",
      "2024-01-28 13:12:11,442 - /home/salabed/anaconda3/envs/rocksdb/lib/python3.8/site-packages/castle/algorithms/gradient/notears/torch/golem.py[line:221] - INFO: [Iter 90000] score=157.558, likelihood=151.095, h=6.7e-02\n",
      "2024-01-28 13:12:24,454 - /home/salabed/anaconda3/envs/rocksdb/lib/python3.8/site-packages/castle/algorithms/gradient/notears/torch/golem.py[line:221] - INFO: [Iter 95000] score=157.586, likelihood=151.090, h=7.3e-02\n",
      "2024-01-28 13:12:37,430 - /home/salabed/anaconda3/envs/rocksdb/lib/python3.8/site-packages/castle/algorithms/gradient/notears/torch/golem.py[line:221] - INFO: [Iter 100000] score=157.588, likelihood=151.120, h=7.0e-02\n",
      "2024-01-28 13:12:37,436 - /home/salabed/workspace/autorocks/autorocks/optimizer/bograph/dag_postprocessor.py[line:19] - WARNING: Hierarchical parameter detected: max_bytes_for_level_multiplier, max_background_compactions\n",
      "2024-01-28 13:12:37,436 - /home/salabed/workspace/autorocks/autorocks/optimizer/bograph/dag_postprocessor.py[line:19] - WARNING: Hierarchical parameter detected: max_bytes_for_level_multiplier, max_write_buffer_number\n",
      "2024-01-28 13:12:37,437 - /home/salabed/workspace/autorocks/autorocks/optimizer/bograph/dag_postprocessor.py[line:19] - WARNING: Hierarchical parameter detected: max_bytes_for_level_multiplier, level0_stop_writes_trigger\n",
      "2024-01-28 13:12:37,437 - /home/salabed/workspace/autorocks/autorocks/optimizer/bograph/dag_postprocessor.py[line:67] - INFO: Flipping the order of: ('iops', 'db_seek_micros.p95'), to ('db_seek_micros.p95', 'iops')\n",
      "2024-01-28 13:12:37,437 - /home/salabed/workspace/autorocks/autorocks/optimizer/bograph/dag_postprocessor.py[line:67] - INFO: Flipping the order of: ('iops', 'db_get_micros.p95'), to ('db_get_micros.p95', 'iops')\n",
      "2024-01-28 13:12:37,438 - /home/salabed/workspace/autorocks/autorocks/optimizer/bograph/dag_postprocessor.py[line:67] - INFO: Flipping the order of: ('iops', 'table_open_io_micros.p95'), to ('table_open_io_micros.p95', 'iops')\n",
      "2024-01-28 13:12:37,438 - /home/salabed/workspace/autorocks/autorocks/optimizer/bograph/dag_postprocessor.py[line:67] - INFO: Flipping the order of: ('iops', 'numfiles_in_singlecompaction.p95'), to ('numfiles_in_singlecompaction.p95', 'iops')\n",
      "2024-01-28 13:12:37,438 - /home/salabed/workspace/autorocks/autorocks/optimizer/bograph/dag_postprocessor.py[line:67] - INFO: Flipping the order of: ('iops', 'compaction.overall_compaction.cumulative_compaction.time_sec'), to ('compaction.overall_compaction.cumulative_compaction.time_sec', 'iops')\n",
      "2024-01-28 13:12:37,439 - /home/salabed/workspace/autorocks/autorocks/optimizer/bograph/dag_postprocessor.py[line:67] - INFO: Flipping the order of: ('iops', 'latency'), to ('latency', 'iops')\n",
      "2024-01-28 13:12:37,439 - /home/salabed/workspace/autorocks/autorocks/optimizer/bograph/dag_postprocessor.py[line:67] - INFO: Flipping the order of: ('iops', 'io_size'), to ('io_size', 'iops')\n"
     ]
    },
    {
     "name": "stdout",
     "output_type": "stream",
     "text": [
      "Done\n",
      "Manually connecting param:  {'max_background_compactions', 'max_write_buffer_number', 'level0_stop_writes_trigger'}\n",
      "group={'max_bytes_for_level_multiplier', 'level0_stop_writes_trigger', 'max_write_buffer_number', 'max_background_compactions', 'write_buffer_size'}\n",
      "group={'read_block_get_micros.p95', 'bytes_decompressed.p95', 'sst_read_micros.p95', 'level0_slowdown_writes_trigger', 'max_background_flushes'}\n",
      "group={'db_write_micros.p95', 'compaction.overall_compaction.cumulative_compaction.write_throughput', 'compaction_times_micros.p95', 'block_size', 'compaction.overall_compaction.cumulative_compaction.read_throughput', 'bytes_compressed.p95', 'db_seek_micros.p95', 'io_size', 'latency', 'min_write_buffer_number_to_merge'}\n",
      "group={'compaction.overall_compaction.cumulative_compaction.write_throughput', 'compaction_times_micros.p95', 'block_size', 'compaction_outfile_sync_micros.p95', 'compaction.overall_compaction.cumulative_compaction.read_throughput', 'compaction_times_cpu_micros.avg', 'bytes_compressed.p95', 'level0_file_num_compaction_trigger'}\n",
      "group={'compaction_times_cpu_micros.avg', 'read_block_get_micros.p95', 'level0_file_num_compaction_trigger', 'level0_slowdown_writes_trigger', 'compaction_outfile_sync_micros.p95'}\n",
      "group={'db_write_micros.p95', 'compaction_outfile_sync_micros.p95', 'compaction_times_cpu_micros.avg', 'db_seek_micros.p95', 'io_size', 'level0_file_num_compaction_trigger', 'latency', 'min_write_buffer_number_to_merge'}\n",
      "group={'bytes_compressed.p95', 'read_block_get_micros.p95', 'compaction.overall_compaction.cumulative_compaction.write_throughput', 'compaction_times_micros.p95', 'compaction.overall_compaction.cumulative_compaction.read_throughput', 'level0_slowdown_writes_trigger', 'block_size'}\n"
     ]
    },
    {
     "name": "stderr",
     "output_type": "stream",
     "text": [
      "2024-01-28 13:12:37,650 - /home/salabed/anaconda3/envs/rocksdb/lib/python3.8/site-packages/castle/algorithms/gradient/notears/torch/golem.py[line:120] - INFO: GPU is available.\n",
      "2024-01-28 13:12:37,654 - /home/salabed/anaconda3/envs/rocksdb/lib/python3.8/site-packages/castle/algorithms/gradient/notears/torch/golem.py[line:207] - INFO: Started training for 100000 iterations.\n",
      "2024-01-28 13:12:37,657 - /home/salabed/anaconda3/envs/rocksdb/lib/python3.8/site-packages/castle/algorithms/gradient/notears/torch/golem.py[line:221] - INFO: [Iter 0] score=73.670, likelihood=73.670, h=0.0e+00\n",
      "2024-01-28 13:12:47,872 - /home/salabed/anaconda3/envs/rocksdb/lib/python3.8/site-packages/castle/algorithms/gradient/notears/torch/golem.py[line:221] - INFO: [Iter 5000] score=66.953, likelihood=65.037, h=5.2e-02\n",
      "2024-01-28 13:12:58,400 - /home/salabed/anaconda3/envs/rocksdb/lib/python3.8/site-packages/castle/algorithms/gradient/notears/torch/golem.py[line:221] - INFO: [Iter 10000] score=66.516, likelihood=64.214, h=4.7e-02\n",
      "2024-01-28 13:13:08,946 - /home/salabed/anaconda3/envs/rocksdb/lib/python3.8/site-packages/castle/algorithms/gradient/notears/torch/golem.py[line:221] - INFO: [Iter 15000] score=66.401, likelihood=63.793, h=4.6e-02\n",
      "2024-01-28 13:13:19,613 - /home/salabed/anaconda3/envs/rocksdb/lib/python3.8/site-packages/castle/algorithms/gradient/notears/torch/golem.py[line:221] - INFO: [Iter 20000] score=66.399, likelihood=63.730, h=4.7e-02\n",
      "2024-01-28 13:13:30,019 - /home/salabed/anaconda3/envs/rocksdb/lib/python3.8/site-packages/castle/algorithms/gradient/notears/torch/golem.py[line:221] - INFO: [Iter 25000] score=66.399, likelihood=63.731, h=4.7e-02\n",
      "2024-01-28 13:13:40,451 - /home/salabed/anaconda3/envs/rocksdb/lib/python3.8/site-packages/castle/algorithms/gradient/notears/torch/golem.py[line:221] - INFO: [Iter 30000] score=66.399, likelihood=63.730, h=4.7e-02\n",
      "2024-01-28 13:13:50,894 - /home/salabed/anaconda3/envs/rocksdb/lib/python3.8/site-packages/castle/algorithms/gradient/notears/torch/golem.py[line:221] - INFO: [Iter 35000] score=66.399, likelihood=63.730, h=4.7e-02\n",
      "2024-01-28 13:14:01,564 - /home/salabed/anaconda3/envs/rocksdb/lib/python3.8/site-packages/castle/algorithms/gradient/notears/torch/golem.py[line:221] - INFO: [Iter 40000] score=66.399, likelihood=63.730, h=4.7e-02\n",
      "2024-01-28 13:14:11,928 - /home/salabed/anaconda3/envs/rocksdb/lib/python3.8/site-packages/castle/algorithms/gradient/notears/torch/golem.py[line:221] - INFO: [Iter 45000] score=66.399, likelihood=63.730, h=4.7e-02\n",
      "2024-01-28 13:14:22,528 - /home/salabed/anaconda3/envs/rocksdb/lib/python3.8/site-packages/castle/algorithms/gradient/notears/torch/golem.py[line:221] - INFO: [Iter 50000] score=66.399, likelihood=63.731, h=4.7e-02\n",
      "2024-01-28 13:14:33,001 - /home/salabed/anaconda3/envs/rocksdb/lib/python3.8/site-packages/castle/algorithms/gradient/notears/torch/golem.py[line:221] - INFO: [Iter 55000] score=66.399, likelihood=63.730, h=4.7e-02\n",
      "2024-01-28 13:14:43,521 - /home/salabed/anaconda3/envs/rocksdb/lib/python3.8/site-packages/castle/algorithms/gradient/notears/torch/golem.py[line:221] - INFO: [Iter 60000] score=66.399, likelihood=63.730, h=4.7e-02\n",
      "2024-01-28 13:14:53,946 - /home/salabed/anaconda3/envs/rocksdb/lib/python3.8/site-packages/castle/algorithms/gradient/notears/torch/golem.py[line:221] - INFO: [Iter 65000] score=66.399, likelihood=63.730, h=4.7e-02\n",
      "2024-01-28 13:15:04,628 - /home/salabed/anaconda3/envs/rocksdb/lib/python3.8/site-packages/castle/algorithms/gradient/notears/torch/golem.py[line:221] - INFO: [Iter 70000] score=66.399, likelihood=63.730, h=4.7e-02\n",
      "2024-01-28 13:15:15,041 - /home/salabed/anaconda3/envs/rocksdb/lib/python3.8/site-packages/castle/algorithms/gradient/notears/torch/golem.py[line:221] - INFO: [Iter 75000] score=66.399, likelihood=63.730, h=4.7e-02\n",
      "2024-01-28 13:15:25,694 - /home/salabed/anaconda3/envs/rocksdb/lib/python3.8/site-packages/castle/algorithms/gradient/notears/torch/golem.py[line:221] - INFO: [Iter 80000] score=66.399, likelihood=63.730, h=4.7e-02\n",
      "2024-01-28 13:15:36,054 - /home/salabed/anaconda3/envs/rocksdb/lib/python3.8/site-packages/castle/algorithms/gradient/notears/torch/golem.py[line:221] - INFO: [Iter 85000] score=66.399, likelihood=63.730, h=4.7e-02\n",
      "2024-01-28 13:15:46,482 - /home/salabed/anaconda3/envs/rocksdb/lib/python3.8/site-packages/castle/algorithms/gradient/notears/torch/golem.py[line:221] - INFO: [Iter 90000] score=66.399, likelihood=63.730, h=4.7e-02\n",
      "2024-01-28 13:15:56,845 - /home/salabed/anaconda3/envs/rocksdb/lib/python3.8/site-packages/castle/algorithms/gradient/notears/torch/golem.py[line:221] - INFO: [Iter 95000] score=66.399, likelihood=63.730, h=4.7e-02\n",
      "2024-01-28 13:16:07,165 - /home/salabed/anaconda3/envs/rocksdb/lib/python3.8/site-packages/castle/algorithms/gradient/notears/torch/golem.py[line:221] - INFO: [Iter 100000] score=66.399, likelihood=63.730, h=4.7e-02\n",
      "2024-01-28 13:16:07,167 - /home/salabed/workspace/autorocks/autorocks/optimizer/bograph/dag_postprocessor.py[line:19] - WARNING: Hierarchical parameter detected: write_buffer_size, max_write_buffer_number\n",
      "2024-01-28 13:16:07,168 - /home/salabed/workspace/autorocks/autorocks/optimizer/bograph/dag_postprocessor.py[line:19] - WARNING: Hierarchical parameter detected: min_write_buffer_number_to_merge, write_buffer_size\n",
      "2024-01-28 13:16:07,168 - /home/salabed/workspace/autorocks/autorocks/optimizer/bograph/dag_postprocessor.py[line:19] - WARNING: Hierarchical parameter detected: max_bytes_for_level_multiplier, level0_file_num_compaction_trigger\n",
      "2024-01-28 13:16:07,168 - /home/salabed/workspace/autorocks/autorocks/optimizer/bograph/dag_postprocessor.py[line:19] - WARNING: Hierarchical parameter detected: block_size, level0_stop_writes_trigger\n",
      "2024-01-28 13:16:07,169 - /home/salabed/workspace/autorocks/autorocks/optimizer/bograph/dag_postprocessor.py[line:19] - WARNING: Hierarchical parameter detected: level0_slowdown_writes_trigger, max_background_flushes\n",
      "2024-01-28 13:16:07,169 - /home/salabed/workspace/autorocks/autorocks/optimizer/bograph/dag_postprocessor.py[line:67] - INFO: Flipping the order of: ('iops', 'io_size'), to ('io_size', 'iops')\n"
     ]
    },
    {
     "name": "stdout",
     "output_type": "stream",
     "text": [
      "Done\n",
      "Manually connecting param:  {'min_write_buffer_number_to_merge'}\n",
      "group={'level0_file_num_compaction_trigger', 'max_bytes_for_level_multiplier', 'min_write_buffer_number_to_merge', 'write_buffer_size'}\n",
      "group={'compaction.overall_compaction.cumulative_compaction.write_size_mb', 'level0_stop_writes_trigger', 'block_size', 'level0_slowdown_writes_trigger', 'max_background_flushes', 'max_background_compactions'}\n",
      "group={'max_write_buffer_number', 'io_size'}\n"
     ]
    },
    {
     "name": "stderr",
     "output_type": "stream",
     "text": [
      "2024-01-28 13:16:07,392 - /home/salabed/anaconda3/envs/rocksdb/lib/python3.8/site-packages/castle/algorithms/gradient/notears/torch/golem.py[line:120] - INFO: GPU is available.\n",
      "2024-01-28 13:16:07,395 - /home/salabed/anaconda3/envs/rocksdb/lib/python3.8/site-packages/castle/algorithms/gradient/notears/torch/golem.py[line:207] - INFO: Started training for 100000 iterations.\n",
      "2024-01-28 13:16:07,397 - /home/salabed/anaconda3/envs/rocksdb/lib/python3.8/site-packages/castle/algorithms/gradient/notears/torch/golem.py[line:221] - INFO: [Iter 0] score=99.547, likelihood=99.547, h=0.0e+00\n",
      "2024-01-28 13:16:18,360 - /home/salabed/anaconda3/envs/rocksdb/lib/python3.8/site-packages/castle/algorithms/gradient/notears/torch/golem.py[line:221] - INFO: [Iter 5000] score=87.578, likelihood=85.052, h=5.1e-02\n",
      "2024-01-28 13:16:29,844 - /home/salabed/anaconda3/envs/rocksdb/lib/python3.8/site-packages/castle/algorithms/gradient/notears/torch/golem.py[line:221] - INFO: [Iter 10000] score=86.544, likelihood=83.200, h=5.7e-02\n",
      "2024-01-28 13:16:41,275 - /home/salabed/anaconda3/envs/rocksdb/lib/python3.8/site-packages/castle/algorithms/gradient/notears/torch/golem.py[line:221] - INFO: [Iter 15000] score=86.114, likelihood=82.096, h=6.1e-02\n",
      "2024-01-28 13:16:52,833 - /home/salabed/anaconda3/envs/rocksdb/lib/python3.8/site-packages/castle/algorithms/gradient/notears/torch/golem.py[line:221] - INFO: [Iter 20000] score=86.020, likelihood=81.872, h=5.8e-02\n",
      "2024-01-28 13:17:04,185 - /home/salabed/anaconda3/envs/rocksdb/lib/python3.8/site-packages/castle/algorithms/gradient/notears/torch/golem.py[line:221] - INFO: [Iter 25000] score=85.998, likelihood=81.873, h=5.7e-02\n",
      "2024-01-28 13:17:15,879 - /home/salabed/anaconda3/envs/rocksdb/lib/python3.8/site-packages/castle/algorithms/gradient/notears/torch/golem.py[line:221] - INFO: [Iter 30000] score=85.852, likelihood=81.681, h=5.9e-02\n",
      "2024-01-28 13:17:27,560 - /home/salabed/anaconda3/envs/rocksdb/lib/python3.8/site-packages/castle/algorithms/gradient/notears/torch/golem.py[line:221] - INFO: [Iter 35000] score=85.819, likelihood=81.683, h=5.2e-02\n",
      "2024-01-28 13:17:38,805 - /home/salabed/anaconda3/envs/rocksdb/lib/python3.8/site-packages/castle/algorithms/gradient/notears/torch/golem.py[line:221] - INFO: [Iter 40000] score=85.863, likelihood=81.676, h=6.1e-02\n",
      "2024-01-28 13:17:50,146 - /home/salabed/anaconda3/envs/rocksdb/lib/python3.8/site-packages/castle/algorithms/gradient/notears/torch/golem.py[line:221] - INFO: [Iter 45000] score=85.828, likelihood=81.676, h=5.4e-02\n",
      "2024-01-28 13:18:01,633 - /home/salabed/anaconda3/envs/rocksdb/lib/python3.8/site-packages/castle/algorithms/gradient/notears/torch/golem.py[line:221] - INFO: [Iter 50000] score=85.842, likelihood=81.693, h=5.6e-02\n",
      "2024-01-28 13:18:13,255 - /home/salabed/anaconda3/envs/rocksdb/lib/python3.8/site-packages/castle/algorithms/gradient/notears/torch/golem.py[line:221] - INFO: [Iter 55000] score=85.819, likelihood=81.675, h=5.3e-02\n",
      "2024-01-28 13:18:26,611 - /home/salabed/anaconda3/envs/rocksdb/lib/python3.8/site-packages/castle/algorithms/gradient/notears/torch/golem.py[line:221] - INFO: [Iter 60000] score=85.842, likelihood=81.683, h=5.7e-02\n",
      "2024-01-28 13:18:38,407 - /home/salabed/anaconda3/envs/rocksdb/lib/python3.8/site-packages/castle/algorithms/gradient/notears/torch/golem.py[line:221] - INFO: [Iter 65000] score=85.823, likelihood=81.681, h=5.3e-02\n",
      "2024-01-28 13:18:50,308 - /home/salabed/anaconda3/envs/rocksdb/lib/python3.8/site-packages/castle/algorithms/gradient/notears/torch/golem.py[line:221] - INFO: [Iter 70000] score=85.819, likelihood=81.685, h=5.2e-02\n",
      "2024-01-28 13:19:02,090 - /home/salabed/anaconda3/envs/rocksdb/lib/python3.8/site-packages/castle/algorithms/gradient/notears/torch/golem.py[line:221] - INFO: [Iter 75000] score=85.889, likelihood=81.678, h=6.6e-02\n",
      "2024-01-28 13:19:13,931 - /home/salabed/anaconda3/envs/rocksdb/lib/python3.8/site-packages/castle/algorithms/gradient/notears/torch/golem.py[line:221] - INFO: [Iter 80000] score=85.827, likelihood=81.681, h=5.4e-02\n",
      "2024-01-28 13:19:25,780 - /home/salabed/anaconda3/envs/rocksdb/lib/python3.8/site-packages/castle/algorithms/gradient/notears/torch/golem.py[line:221] - INFO: [Iter 85000] score=86.270, likelihood=81.678, h=1.4e-01\n",
      "2024-01-28 13:19:37,694 - /home/salabed/anaconda3/envs/rocksdb/lib/python3.8/site-packages/castle/algorithms/gradient/notears/torch/golem.py[line:221] - INFO: [Iter 90000] score=85.826, likelihood=81.677, h=5.4e-02\n",
      "2024-01-28 13:19:49,352 - /home/salabed/anaconda3/envs/rocksdb/lib/python3.8/site-packages/castle/algorithms/gradient/notears/torch/golem.py[line:221] - INFO: [Iter 95000] score=85.817, likelihood=81.675, h=5.2e-02\n",
      "2024-01-28 13:20:01,155 - /home/salabed/anaconda3/envs/rocksdb/lib/python3.8/site-packages/castle/algorithms/gradient/notears/torch/golem.py[line:221] - INFO: [Iter 100000] score=85.827, likelihood=81.678, h=5.4e-02\n",
      "2024-01-28 13:20:01,160 - /home/salabed/workspace/autorocks/autorocks/optimizer/bograph/dag_postprocessor.py[line:19] - WARNING: Hierarchical parameter detected: max_background_compactions, max_bytes_for_level_multiplier\n",
      "2024-01-28 13:20:01,160 - /home/salabed/workspace/autorocks/autorocks/optimizer/bograph/dag_postprocessor.py[line:19] - WARNING: Hierarchical parameter detected: write_buffer_size, max_write_buffer_number\n",
      "2024-01-28 13:20:01,160 - /home/salabed/workspace/autorocks/autorocks/optimizer/bograph/dag_postprocessor.py[line:19] - WARNING: Hierarchical parameter detected: max_write_buffer_number, level0_stop_writes_trigger\n",
      "2024-01-28 13:20:01,161 - /home/salabed/workspace/autorocks/autorocks/optimizer/bograph/dag_postprocessor.py[line:19] - WARNING: Hierarchical parameter detected: level0_file_num_compaction_trigger, max_background_flushes\n",
      "2024-01-28 13:20:01,161 - /home/salabed/workspace/autorocks/autorocks/optimizer/bograph/dag_postprocessor.py[line:19] - WARNING: Hierarchical parameter detected: level0_file_num_compaction_trigger, level0_slowdown_writes_trigger\n"
     ]
    },
    {
     "name": "stdout",
     "output_type": "stream",
     "text": [
      "Done\n",
      "Manually connecting param:  {'level0_file_num_compaction_trigger', 'max_background_flushes'}\n",
      "group={'level0_file_num_compaction_trigger', 'max_bytes_for_level_multiplier', 'max_background_flushes', 'max_background_compactions'}\n",
      "group={'level0_stop_writes_trigger', 'compaction.overall_compaction.cumulative_compaction.write_throughput', 'compaction.overall_compaction.cumulative_compaction.read_throughput', 'block_size', 'compaction.overall_compaction.cumulative_compaction.read_size_mb', 'compaction.overall_compaction.cumulative_compaction.write_size_mb', 'min_write_buffer_number_to_merge'}\n",
      "group={'max_write_buffer_number', 'level0_slowdown_writes_trigger', 'io_size'}\n",
      "group={'level0_stop_writes_trigger', 'compaction.overall_compaction.cumulative_compaction.write_throughput', 'max_write_buffer_number', 'io_size', 'level0_slowdown_writes_trigger'}\n",
      "group={'max_write_buffer_number', 'compaction_times_cpu_micros.avg', 'io_size', 'level0_slowdown_writes_trigger', 'write_buffer_size'}\n",
      "group={'compaction_times_cpu_micros.avg', 'io_size', 'level0_stop_writes_trigger', 'compaction.overall_compaction.cumulative_compaction.write_throughput', 'write_buffer_size'}\n",
      "group={'compaction.overall_compaction.cumulative_compaction.write_throughput', 'compaction.overall_compaction.cumulative_compaction.read_size_mb', 'min_write_buffer_number_to_merge', 'level0_stop_writes_trigger'}\n",
      "group={'compaction.overall_compaction.cumulative_compaction.write_throughput', 'max_write_buffer_number', 'compaction.overall_compaction.cumulative_compaction.read_throughput', 'block_size', 'compaction.overall_compaction.cumulative_compaction.read_size_mb', 'compaction.overall_compaction.cumulative_compaction.write_size_mb', 'io_size', 'level0_slowdown_writes_trigger'}\n"
     ]
    },
    {
     "name": "stderr",
     "output_type": "stream",
     "text": [
      "2024-01-28 13:20:01,368 - /home/salabed/anaconda3/envs/rocksdb/lib/python3.8/site-packages/castle/algorithms/gradient/notears/torch/golem.py[line:120] - INFO: GPU is available.\n",
      "2024-01-28 13:20:01,371 - /home/salabed/anaconda3/envs/rocksdb/lib/python3.8/site-packages/castle/algorithms/gradient/notears/torch/golem.py[line:207] - INFO: Started training for 100000 iterations.\n",
      "2024-01-28 13:20:01,373 - /home/salabed/anaconda3/envs/rocksdb/lib/python3.8/site-packages/castle/algorithms/gradient/notears/torch/golem.py[line:221] - INFO: [Iter 0] score=126.025, likelihood=126.025, h=0.0e+00\n",
      "2024-01-28 13:20:12,445 - /home/salabed/anaconda3/envs/rocksdb/lib/python3.8/site-packages/castle/algorithms/gradient/notears/torch/golem.py[line:221] - INFO: [Iter 5000] score=111.083, likelihood=108.177, h=5.2e-02\n",
      "2024-01-28 13:20:23,756 - /home/salabed/anaconda3/envs/rocksdb/lib/python3.8/site-packages/castle/algorithms/gradient/notears/torch/golem.py[line:221] - INFO: [Iter 10000] score=110.119, likelihood=106.452, h=4.8e-02\n",
      "2024-01-28 13:20:35,686 - /home/salabed/anaconda3/envs/rocksdb/lib/python3.8/site-packages/castle/algorithms/gradient/notears/torch/golem.py[line:221] - INFO: [Iter 15000] score=109.831, likelihood=105.774, h=4.5e-02\n",
      "2024-01-28 13:20:47,484 - /home/salabed/anaconda3/envs/rocksdb/lib/python3.8/site-packages/castle/algorithms/gradient/notears/torch/golem.py[line:221] - INFO: [Iter 20000] score=109.755, likelihood=105.453, h=4.6e-02\n",
      "2024-01-28 13:20:59,219 - /home/salabed/anaconda3/envs/rocksdb/lib/python3.8/site-packages/castle/algorithms/gradient/notears/torch/golem.py[line:221] - INFO: [Iter 25000] score=109.751, likelihood=105.378, h=4.7e-02\n",
      "2024-01-28 13:21:11,176 - /home/salabed/anaconda3/envs/rocksdb/lib/python3.8/site-packages/castle/algorithms/gradient/notears/torch/golem.py[line:221] - INFO: [Iter 30000] score=109.752, likelihood=105.377, h=4.7e-02\n",
      "2024-01-28 13:21:23,073 - /home/salabed/anaconda3/envs/rocksdb/lib/python3.8/site-packages/castle/algorithms/gradient/notears/torch/golem.py[line:221] - INFO: [Iter 35000] score=109.752, likelihood=105.378, h=4.7e-02\n",
      "2024-01-28 13:21:34,984 - /home/salabed/anaconda3/envs/rocksdb/lib/python3.8/site-packages/castle/algorithms/gradient/notears/torch/golem.py[line:221] - INFO: [Iter 40000] score=109.752, likelihood=105.377, h=4.7e-02\n",
      "2024-01-28 13:21:46,750 - /home/salabed/anaconda3/envs/rocksdb/lib/python3.8/site-packages/castle/algorithms/gradient/notears/torch/golem.py[line:221] - INFO: [Iter 45000] score=109.752, likelihood=105.377, h=4.7e-02\n",
      "2024-01-28 13:21:58,449 - /home/salabed/anaconda3/envs/rocksdb/lib/python3.8/site-packages/castle/algorithms/gradient/notears/torch/golem.py[line:221] - INFO: [Iter 50000] score=109.751, likelihood=105.377, h=4.7e-02\n",
      "2024-01-28 13:22:10,071 - /home/salabed/anaconda3/envs/rocksdb/lib/python3.8/site-packages/castle/algorithms/gradient/notears/torch/golem.py[line:221] - INFO: [Iter 55000] score=109.752, likelihood=105.378, h=4.7e-02\n",
      "2024-01-28 13:22:21,887 - /home/salabed/anaconda3/envs/rocksdb/lib/python3.8/site-packages/castle/algorithms/gradient/notears/torch/golem.py[line:221] - INFO: [Iter 60000] score=109.752, likelihood=105.379, h=4.7e-02\n",
      "2024-01-28 13:22:33,827 - /home/salabed/anaconda3/envs/rocksdb/lib/python3.8/site-packages/castle/algorithms/gradient/notears/torch/golem.py[line:221] - INFO: [Iter 65000] score=109.751, likelihood=105.377, h=4.7e-02\n",
      "2024-01-28 13:22:45,648 - /home/salabed/anaconda3/envs/rocksdb/lib/python3.8/site-packages/castle/algorithms/gradient/notears/torch/golem.py[line:221] - INFO: [Iter 70000] score=109.752, likelihood=105.377, h=4.7e-02\n",
      "2024-01-28 13:22:57,537 - /home/salabed/anaconda3/envs/rocksdb/lib/python3.8/site-packages/castle/algorithms/gradient/notears/torch/golem.py[line:221] - INFO: [Iter 75000] score=109.751, likelihood=105.377, h=4.7e-02\n",
      "2024-01-28 13:23:09,419 - /home/salabed/anaconda3/envs/rocksdb/lib/python3.8/site-packages/castle/algorithms/gradient/notears/torch/golem.py[line:221] - INFO: [Iter 80000] score=109.751, likelihood=105.378, h=4.7e-02\n",
      "2024-01-28 13:23:21,183 - /home/salabed/anaconda3/envs/rocksdb/lib/python3.8/site-packages/castle/algorithms/gradient/notears/torch/golem.py[line:221] - INFO: [Iter 85000] score=109.752, likelihood=105.378, h=4.7e-02\n",
      "2024-01-28 13:23:32,965 - /home/salabed/anaconda3/envs/rocksdb/lib/python3.8/site-packages/castle/algorithms/gradient/notears/torch/golem.py[line:221] - INFO: [Iter 90000] score=109.751, likelihood=105.378, h=4.7e-02\n",
      "2024-01-28 13:23:44,763 - /home/salabed/anaconda3/envs/rocksdb/lib/python3.8/site-packages/castle/algorithms/gradient/notears/torch/golem.py[line:221] - INFO: [Iter 95000] score=109.751, likelihood=105.377, h=4.7e-02\n",
      "2024-01-28 13:23:56,665 - /home/salabed/anaconda3/envs/rocksdb/lib/python3.8/site-packages/castle/algorithms/gradient/notears/torch/golem.py[line:221] - INFO: [Iter 100000] score=109.751, likelihood=105.377, h=4.7e-02\n",
      "2024-01-28 13:23:56,670 - /home/salabed/workspace/autorocks/autorocks/optimizer/bograph/dag_postprocessor.py[line:19] - WARNING: Hierarchical parameter detected: write_buffer_size, max_write_buffer_number\n",
      "2024-01-28 13:23:56,670 - /home/salabed/workspace/autorocks/autorocks/optimizer/bograph/dag_postprocessor.py[line:19] - WARNING: Hierarchical parameter detected: write_buffer_size, min_write_buffer_number_to_merge\n",
      "2024-01-28 13:23:56,670 - /home/salabed/workspace/autorocks/autorocks/optimizer/bograph/dag_postprocessor.py[line:19] - WARNING: Hierarchical parameter detected: max_write_buffer_number, level0_file_num_compaction_trigger\n",
      "2024-01-28 13:23:56,671 - /home/salabed/workspace/autorocks/autorocks/optimizer/bograph/dag_postprocessor.py[line:19] - WARNING: Hierarchical parameter detected: min_write_buffer_number_to_merge, max_write_buffer_number\n",
      "2024-01-28 13:23:56,671 - /home/salabed/workspace/autorocks/autorocks/optimizer/bograph/dag_postprocessor.py[line:19] - WARNING: Hierarchical parameter detected: level0_file_num_compaction_trigger, max_background_flushes\n",
      "2024-01-28 13:23:56,671 - /home/salabed/workspace/autorocks/autorocks/optimizer/bograph/dag_postprocessor.py[line:19] - WARNING: Hierarchical parameter detected: level0_file_num_compaction_trigger, level0_slowdown_writes_trigger\n",
      "2024-01-28 13:23:56,672 - /home/salabed/workspace/autorocks/autorocks/optimizer/bograph/dag_postprocessor.py[line:19] - WARNING: Hierarchical parameter detected: level0_stop_writes_trigger, max_background_compactions\n",
      "2024-01-28 13:23:56,673 - /home/salabed/workspace/autorocks/autorocks/optimizer/bograph/dag_postprocessor.py[line:67] - INFO: Flipping the order of: ('iops', 'compaction_outfile_sync_micros.p95'), to ('compaction_outfile_sync_micros.p95', 'iops')\n"
     ]
    },
    {
     "name": "stdout",
     "output_type": "stream",
     "text": [
      "Done\n",
      "Manually connecting param:  {'level0_file_num_compaction_trigger', 'level0_slowdown_writes_trigger', 'max_background_flushes'}\n",
      "group={'level0_file_num_compaction_trigger', 'max_bytes_for_level_multiplier', 'level0_slowdown_writes_trigger', 'max_background_flushes'}\n",
      "group={'compaction_times_micros.p95', 'block_size', 'compaction.overall_compaction.cumulative_compaction.read_size_mb', 'compaction.overall_compaction.cumulative_compaction.write_size_mb', 'compaction.overall_compaction.cumulative_compaction.time_sec', 'latency', 'write_raw_block_micros.p95', 'write_buffer_size'}\n",
      "group={'db_write_micros.p95', 'compaction_times_micros.p95', 'block_size', 'compaction.overall_compaction.cumulative_compaction.read_size_mb', 'compaction.overall_compaction.cumulative_compaction.write_size_mb', 'compaction.overall_compaction.cumulative_compaction.time_sec', 'latency', 'min_write_buffer_number_to_merge', 'write_raw_block_micros.p95'}\n",
      "group={'level0_stop_writes_trigger', 'max_background_compactions', 'block_size', 'compaction.overall_compaction.cumulative_compaction.read_size_mb', 'compaction.overall_compaction.cumulative_compaction.write_size_mb', 'compaction.overall_compaction.cumulative_compaction.time_sec', 'write_raw_block_micros.p95'}\n",
      "group={'compaction.overall_compaction.cumulative_compaction.read_size_mb', 'compaction.overall_compaction.cumulative_compaction.write_size_mb', 'level0_stop_writes_trigger', 'write_raw_block_micros.p95', 'max_background_compactions'}\n",
      "group={'compaction.overall_compaction.cumulative_compaction.read_size_mb', 'compaction.overall_compaction.cumulative_compaction.write_size_mb', 'compaction_times_micros.p95', 'max_write_buffer_number', 'max_background_compactions'}\n",
      "group={'compaction.overall_compaction.cumulative_compaction.write_size_mb', 'compaction_times_micros.p95', 'level0_stop_writes_trigger', 'max_write_buffer_number', 'write_raw_block_micros.p95'}\n",
      "group={'compaction.overall_compaction.cumulative_compaction.write_size_mb', 'compaction_times_micros.p95', 'max_write_buffer_number', 'latency', 'write_buffer_size'}\n",
      "group={'db_write_micros.p95', 'compaction_times_micros.p95', 'max_write_buffer_number', 'latency', 'min_write_buffer_number_to_merge'}\n",
      "group={'compaction.overall_compaction.cumulative_compaction.read_size_mb', 'compaction.overall_compaction.cumulative_compaction.write_size_mb', 'compaction_times_micros.p95', 'latency', 'write_buffer_size', 'max_background_compactions'}\n",
      "group={'db_write_micros.p95', 'compaction.overall_compaction.cumulative_compaction.read_size_mb', 'compaction.overall_compaction.cumulative_compaction.write_size_mb', 'compaction_times_micros.p95', 'latency', 'min_write_buffer_number_to_merge', 'max_background_compactions'}\n",
      "group={'compaction.overall_compaction.cumulative_compaction.write_size_mb', 'level0_stop_writes_trigger', 'compaction_times_micros.p95', 'latency', 'write_raw_block_micros.p95', 'write_buffer_size'}\n",
      "group={'db_write_micros.p95', 'compaction.overall_compaction.cumulative_compaction.write_size_mb', 'level0_stop_writes_trigger', 'compaction_times_micros.p95', 'latency', 'min_write_buffer_number_to_merge', 'write_raw_block_micros.p95'}\n",
      "group={'compaction.overall_compaction.cumulative_compaction.read_size_mb', 'compaction.overall_compaction.cumulative_compaction.write_size_mb', 'compaction.overall_compaction.cumulative_compaction.time_sec', 'compaction_times_micros.p95', 'max_write_buffer_number', 'write_raw_block_micros.p95', 'block_size'}\n",
      "group={'db_write_micros.p95', 'compaction.overall_compaction.cumulative_compaction.write_size_mb', 'compaction_times_micros.p95', 'latency', 'min_write_buffer_number_to_merge', 'write_buffer_size'}\n"
     ]
    },
    {
     "name": "stderr",
     "output_type": "stream",
     "text": [
      "2024-01-28 13:23:56,914 - /home/salabed/anaconda3/envs/rocksdb/lib/python3.8/site-packages/castle/algorithms/gradient/notears/torch/golem.py[line:120] - INFO: GPU is available.\n",
      "2024-01-28 13:23:56,917 - /home/salabed/anaconda3/envs/rocksdb/lib/python3.8/site-packages/castle/algorithms/gradient/notears/torch/golem.py[line:207] - INFO: Started training for 100000 iterations.\n",
      "2024-01-28 13:23:56,920 - /home/salabed/anaconda3/envs/rocksdb/lib/python3.8/site-packages/castle/algorithms/gradient/notears/torch/golem.py[line:221] - INFO: [Iter 0] score=160.313, likelihood=160.313, h=0.0e+00\n",
      "2024-01-28 13:24:07,778 - /home/salabed/anaconda3/envs/rocksdb/lib/python3.8/site-packages/castle/algorithms/gradient/notears/torch/golem.py[line:221] - INFO: [Iter 5000] score=147.078, likelihood=144.048, h=4.5e-02\n",
      "2024-01-28 13:24:19,085 - /home/salabed/anaconda3/envs/rocksdb/lib/python3.8/site-packages/castle/algorithms/gradient/notears/torch/golem.py[line:221] - INFO: [Iter 10000] score=146.208, likelihood=143.123, h=4.1e-02\n",
      "2024-01-28 13:24:30,620 - /home/salabed/anaconda3/envs/rocksdb/lib/python3.8/site-packages/castle/algorithms/gradient/notears/torch/golem.py[line:221] - INFO: [Iter 15000] score=146.071, likelihood=142.657, h=4.0e-02\n",
      "2024-01-28 13:24:42,284 - /home/salabed/anaconda3/envs/rocksdb/lib/python3.8/site-packages/castle/algorithms/gradient/notears/torch/golem.py[line:221] - INFO: [Iter 20000] score=145.866, likelihood=142.483, h=4.1e-02\n",
      "2024-01-28 13:24:54,088 - /home/salabed/anaconda3/envs/rocksdb/lib/python3.8/site-packages/castle/algorithms/gradient/notears/torch/golem.py[line:221] - INFO: [Iter 25000] score=145.748, likelihood=142.181, h=4.1e-02\n",
      "2024-01-28 13:25:05,955 - /home/salabed/anaconda3/envs/rocksdb/lib/python3.8/site-packages/castle/algorithms/gradient/notears/torch/golem.py[line:221] - INFO: [Iter 30000] score=145.747, likelihood=142.129, h=4.1e-02\n",
      "2024-01-28 13:25:17,768 - /home/salabed/anaconda3/envs/rocksdb/lib/python3.8/site-packages/castle/algorithms/gradient/notears/torch/golem.py[line:221] - INFO: [Iter 35000] score=145.747, likelihood=142.129, h=4.1e-02\n",
      "2024-01-28 13:25:29,639 - /home/salabed/anaconda3/envs/rocksdb/lib/python3.8/site-packages/castle/algorithms/gradient/notears/torch/golem.py[line:221] - INFO: [Iter 40000] score=145.747, likelihood=142.129, h=4.1e-02\n",
      "2024-01-28 13:25:41,371 - /home/salabed/anaconda3/envs/rocksdb/lib/python3.8/site-packages/castle/algorithms/gradient/notears/torch/golem.py[line:221] - INFO: [Iter 45000] score=145.747, likelihood=142.129, h=4.1e-02\n",
      "2024-01-28 13:25:53,059 - /home/salabed/anaconda3/envs/rocksdb/lib/python3.8/site-packages/castle/algorithms/gradient/notears/torch/golem.py[line:221] - INFO: [Iter 50000] score=145.747, likelihood=142.130, h=4.1e-02\n",
      "2024-01-28 13:26:04,941 - /home/salabed/anaconda3/envs/rocksdb/lib/python3.8/site-packages/castle/algorithms/gradient/notears/torch/golem.py[line:221] - INFO: [Iter 55000] score=145.747, likelihood=142.129, h=4.1e-02\n",
      "2024-01-28 13:26:16,622 - /home/salabed/anaconda3/envs/rocksdb/lib/python3.8/site-packages/castle/algorithms/gradient/notears/torch/golem.py[line:221] - INFO: [Iter 60000] score=145.747, likelihood=142.129, h=4.1e-02\n",
      "2024-01-28 13:26:28,047 - /home/salabed/anaconda3/envs/rocksdb/lib/python3.8/site-packages/castle/algorithms/gradient/notears/torch/golem.py[line:221] - INFO: [Iter 65000] score=145.747, likelihood=142.129, h=4.1e-02\n",
      "2024-01-28 13:26:39,815 - /home/salabed/anaconda3/envs/rocksdb/lib/python3.8/site-packages/castle/algorithms/gradient/notears/torch/golem.py[line:221] - INFO: [Iter 70000] score=145.747, likelihood=142.129, h=4.1e-02\n",
      "2024-01-28 13:26:51,558 - /home/salabed/anaconda3/envs/rocksdb/lib/python3.8/site-packages/castle/algorithms/gradient/notears/torch/golem.py[line:221] - INFO: [Iter 75000] score=145.747, likelihood=142.129, h=4.1e-02\n",
      "2024-01-28 13:27:03,337 - /home/salabed/anaconda3/envs/rocksdb/lib/python3.8/site-packages/castle/algorithms/gradient/notears/torch/golem.py[line:221] - INFO: [Iter 80000] score=145.747, likelihood=142.130, h=4.1e-02\n",
      "2024-01-28 13:27:15,121 - /home/salabed/anaconda3/envs/rocksdb/lib/python3.8/site-packages/castle/algorithms/gradient/notears/torch/golem.py[line:221] - INFO: [Iter 85000] score=145.747, likelihood=142.129, h=4.1e-02\n",
      "2024-01-28 13:27:26,891 - /home/salabed/anaconda3/envs/rocksdb/lib/python3.8/site-packages/castle/algorithms/gradient/notears/torch/golem.py[line:221] - INFO: [Iter 90000] score=145.747, likelihood=142.129, h=4.1e-02\n",
      "2024-01-28 13:27:38,604 - /home/salabed/anaconda3/envs/rocksdb/lib/python3.8/site-packages/castle/algorithms/gradient/notears/torch/golem.py[line:221] - INFO: [Iter 95000] score=145.747, likelihood=142.130, h=4.1e-02\n",
      "2024-01-28 13:27:50,370 - /home/salabed/anaconda3/envs/rocksdb/lib/python3.8/site-packages/castle/algorithms/gradient/notears/torch/golem.py[line:221] - INFO: [Iter 100000] score=145.747, likelihood=142.130, h=4.1e-02\n",
      "2024-01-28 13:27:50,374 - /home/salabed/workspace/autorocks/autorocks/optimizer/bograph/dag_postprocessor.py[line:19] - WARNING: Hierarchical parameter detected: write_buffer_size, min_write_buffer_number_to_merge\n",
      "2024-01-28 13:27:50,375 - /home/salabed/workspace/autorocks/autorocks/optimizer/bograph/dag_postprocessor.py[line:67] - INFO: Flipping the order of: ('iops', 'numfiles_in_singlecompaction'), to ('numfiles_in_singlecompaction', 'iops')\n"
     ]
    },
    {
     "name": "stdout",
     "output_type": "stream",
     "text": [
      "Done\n",
      "Manually connecting param:  {'max_bytes_for_level_multiplier', 'level0_stop_writes_trigger', 'max_background_compactions', 'min_write_buffer_number_to_merge', 'max_background_flushes'}\n",
      "group={'max_bytes_for_level_multiplier', 'level0_stop_writes_trigger', 'max_background_compactions', 'min_write_buffer_number_to_merge', 'max_background_flushes'}\n",
      "group={'compaction_times_cpu_micros', 'io_size', 'read_block_get_micros', 'numfiles_in_singlecompaction', 'write_buffer_size', 'block_size'}\n",
      "group={'compaction_outfile_sync_micros', 'read_block_get_micros', 'max_write_buffer_number', 'level0_slowdown_writes_trigger', 'bytes_decompressed', 'sst_read_micros'}\n",
      "group={'compaction_times_cpu_micros', 'io_size', 'read_block_get_micros', 'level0_file_num_compaction_trigger', 'compaction_outfile_sync_micros', 'block_size'}\n",
      "group={'compaction_times_cpu_micros', 'compaction_outfile_sync_micros', 'read_block_get_micros', 'level0_file_num_compaction_trigger', 'level0_slowdown_writes_trigger', 'sst_read_micros'}\n",
      "group={'compaction_times_cpu_micros', 'level0_file_num_compaction_trigger', 'max_write_buffer_number', 'bytes_decompressed', 'compaction_outfile_sync_micros'}\n",
      "group={'compaction_times_cpu_micros', 'sst_read_micros', 'compaction_outfile_sync_micros', 'read_block_get_micros', 'numfiles_in_singlecompaction', 'level0_slowdown_writes_trigger', 'write_buffer_size'}\n",
      "group={'compaction_times_cpu_micros', 'max_write_buffer_number', 'numfiles_in_singlecompaction', 'bytes_decompressed', 'write_buffer_size'}\n",
      "group={'io_size', 'read_block_get_micros', 'sst_read_micros', 'level0_slowdown_writes_trigger', 'compaction_outfile_sync_micros', 'block_size'}\n",
      "group={'compaction_times_cpu_micros', 'compaction_outfile_sync_micros', 'level0_file_num_compaction_trigger', 'numfiles_in_singlecompaction', 'write_buffer_size'}\n",
      "group={'io_size', 'read_block_get_micros', 'max_write_buffer_number', 'bytes_decompressed', 'block_size'}\n"
     ]
    },
    {
     "name": "stderr",
     "output_type": "stream",
     "text": [
      "2024-01-28 13:27:50,579 - /home/salabed/anaconda3/envs/rocksdb/lib/python3.8/site-packages/castle/algorithms/gradient/notears/torch/golem.py[line:120] - INFO: GPU is available.\n",
      "2024-01-28 13:27:50,581 - /home/salabed/anaconda3/envs/rocksdb/lib/python3.8/site-packages/castle/algorithms/gradient/notears/torch/golem.py[line:207] - INFO: Started training for 100000 iterations.\n",
      "2024-01-28 13:27:50,583 - /home/salabed/anaconda3/envs/rocksdb/lib/python3.8/site-packages/castle/algorithms/gradient/notears/torch/golem.py[line:221] - INFO: [Iter 0] score=180.354, likelihood=180.354, h=0.0e+00\n",
      "2024-01-28 13:28:02,014 - /home/salabed/anaconda3/envs/rocksdb/lib/python3.8/site-packages/castle/algorithms/gradient/notears/torch/golem.py[line:221] - INFO: [Iter 5000] score=160.342, likelihood=155.743, h=6.5e-02\n",
      "2024-01-28 13:28:14,114 - /home/salabed/anaconda3/envs/rocksdb/lib/python3.8/site-packages/castle/algorithms/gradient/notears/torch/golem.py[line:221] - INFO: [Iter 10000] score=159.064, likelihood=153.426, h=6.3e-02\n",
      "2024-01-28 13:28:26,506 - /home/salabed/anaconda3/envs/rocksdb/lib/python3.8/site-packages/castle/algorithms/gradient/notears/torch/golem.py[line:221] - INFO: [Iter 15000] score=158.327, likelihood=152.575, h=6.9e-02\n",
      "2024-01-28 13:28:38,874 - /home/salabed/anaconda3/envs/rocksdb/lib/python3.8/site-packages/castle/algorithms/gradient/notears/torch/golem.py[line:221] - INFO: [Iter 20000] score=158.047, likelihood=152.123, h=5.6e-02\n",
      "2024-01-28 13:28:51,357 - /home/salabed/anaconda3/envs/rocksdb/lib/python3.8/site-packages/castle/algorithms/gradient/notears/torch/golem.py[line:221] - INFO: [Iter 25000] score=157.837, likelihood=151.761, h=5.9e-02\n",
      "2024-01-28 13:29:03,990 - /home/salabed/anaconda3/envs/rocksdb/lib/python3.8/site-packages/castle/algorithms/gradient/notears/torch/golem.py[line:221] - INFO: [Iter 30000] score=157.534, likelihood=151.385, h=5.3e-02\n",
      "2024-01-28 13:29:16,562 - /home/salabed/anaconda3/envs/rocksdb/lib/python3.8/site-packages/castle/algorithms/gradient/notears/torch/golem.py[line:221] - INFO: [Iter 35000] score=157.516, likelihood=151.220, h=5.5e-02\n",
      "2024-01-28 13:29:29,288 - /home/salabed/anaconda3/envs/rocksdb/lib/python3.8/site-packages/castle/algorithms/gradient/notears/torch/golem.py[line:221] - INFO: [Iter 40000] score=157.810, likelihood=151.137, h=1.2e-01\n",
      "2024-01-28 13:29:41,994 - /home/salabed/anaconda3/envs/rocksdb/lib/python3.8/site-packages/castle/algorithms/gradient/notears/torch/golem.py[line:221] - INFO: [Iter 45000] score=157.503, likelihood=151.126, h=5.4e-02\n",
      "2024-01-28 13:29:54,671 - /home/salabed/anaconda3/envs/rocksdb/lib/python3.8/site-packages/castle/algorithms/gradient/notears/torch/golem.py[line:221] - INFO: [Iter 50000] score=157.576, likelihood=151.157, h=6.4e-02\n",
      "2024-01-28 13:30:07,310 - /home/salabed/anaconda3/envs/rocksdb/lib/python3.8/site-packages/castle/algorithms/gradient/notears/torch/golem.py[line:221] - INFO: [Iter 55000] score=157.519, likelihood=151.146, h=5.3e-02\n",
      "2024-01-28 13:30:19,727 - /home/salabed/anaconda3/envs/rocksdb/lib/python3.8/site-packages/castle/algorithms/gradient/notears/torch/golem.py[line:221] - INFO: [Iter 60000] score=157.504, likelihood=151.120, h=5.3e-02\n",
      "2024-01-28 13:30:32,414 - /home/salabed/anaconda3/envs/rocksdb/lib/python3.8/site-packages/castle/algorithms/gradient/notears/torch/golem.py[line:221] - INFO: [Iter 65000] score=157.492, likelihood=151.089, h=5.5e-02\n",
      "2024-01-28 13:30:45,158 - /home/salabed/anaconda3/envs/rocksdb/lib/python3.8/site-packages/castle/algorithms/gradient/notears/torch/golem.py[line:221] - INFO: [Iter 70000] score=157.526, likelihood=151.110, h=5.9e-02\n",
      "2024-01-28 13:30:57,824 - /home/salabed/anaconda3/envs/rocksdb/lib/python3.8/site-packages/castle/algorithms/gradient/notears/torch/golem.py[line:221] - INFO: [Iter 75000] score=157.493, likelihood=151.094, h=5.5e-02\n",
      "2024-01-28 13:31:10,542 - /home/salabed/anaconda3/envs/rocksdb/lib/python3.8/site-packages/castle/algorithms/gradient/notears/torch/golem.py[line:221] - INFO: [Iter 80000] score=157.515, likelihood=151.126, h=5.4e-02\n",
      "2024-01-28 13:31:23,280 - /home/salabed/anaconda3/envs/rocksdb/lib/python3.8/site-packages/castle/algorithms/gradient/notears/torch/golem.py[line:221] - INFO: [Iter 85000] score=157.510, likelihood=151.095, h=5.7e-02\n",
      "2024-01-28 13:31:35,891 - /home/salabed/anaconda3/envs/rocksdb/lib/python3.8/site-packages/castle/algorithms/gradient/notears/torch/golem.py[line:221] - INFO: [Iter 90000] score=157.558, likelihood=151.095, h=6.7e-02\n",
      "2024-01-28 13:31:48,432 - /home/salabed/anaconda3/envs/rocksdb/lib/python3.8/site-packages/castle/algorithms/gradient/notears/torch/golem.py[line:221] - INFO: [Iter 95000] score=157.586, likelihood=151.090, h=7.3e-02\n",
      "2024-01-28 13:32:00,949 - /home/salabed/anaconda3/envs/rocksdb/lib/python3.8/site-packages/castle/algorithms/gradient/notears/torch/golem.py[line:221] - INFO: [Iter 100000] score=157.588, likelihood=151.120, h=7.0e-02\n",
      "2024-01-28 13:32:00,955 - /home/salabed/workspace/autorocks/autorocks/optimizer/bograph/dag_postprocessor.py[line:19] - WARNING: Hierarchical parameter detected: max_bytes_for_level_multiplier, max_background_compactions\n",
      "2024-01-28 13:32:00,956 - /home/salabed/workspace/autorocks/autorocks/optimizer/bograph/dag_postprocessor.py[line:19] - WARNING: Hierarchical parameter detected: max_bytes_for_level_multiplier, max_write_buffer_number\n",
      "2024-01-28 13:32:00,956 - /home/salabed/workspace/autorocks/autorocks/optimizer/bograph/dag_postprocessor.py[line:19] - WARNING: Hierarchical parameter detected: max_bytes_for_level_multiplier, level0_stop_writes_trigger\n",
      "2024-01-28 13:32:00,957 - /home/salabed/workspace/autorocks/autorocks/optimizer/bograph/dag_postprocessor.py[line:67] - INFO: Flipping the order of: ('iops', 'db_seek_micros.p95'), to ('db_seek_micros.p95', 'iops')\n",
      "2024-01-28 13:32:00,957 - /home/salabed/workspace/autorocks/autorocks/optimizer/bograph/dag_postprocessor.py[line:67] - INFO: Flipping the order of: ('iops', 'db_get_micros.p95'), to ('db_get_micros.p95', 'iops')\n",
      "2024-01-28 13:32:00,957 - /home/salabed/workspace/autorocks/autorocks/optimizer/bograph/dag_postprocessor.py[line:67] - INFO: Flipping the order of: ('iops', 'table_open_io_micros.p95'), to ('table_open_io_micros.p95', 'iops')\n",
      "2024-01-28 13:32:00,958 - /home/salabed/workspace/autorocks/autorocks/optimizer/bograph/dag_postprocessor.py[line:67] - INFO: Flipping the order of: ('iops', 'numfiles_in_singlecompaction.p95'), to ('numfiles_in_singlecompaction.p95', 'iops')\n",
      "2024-01-28 13:32:00,958 - /home/salabed/workspace/autorocks/autorocks/optimizer/bograph/dag_postprocessor.py[line:67] - INFO: Flipping the order of: ('iops', 'compaction.overall_compaction.cumulative_compaction.time_sec'), to ('compaction.overall_compaction.cumulative_compaction.time_sec', 'iops')\n",
      "2024-01-28 13:32:00,958 - /home/salabed/workspace/autorocks/autorocks/optimizer/bograph/dag_postprocessor.py[line:67] - INFO: Flipping the order of: ('iops', 'latency'), to ('latency', 'iops')\n",
      "2024-01-28 13:32:00,959 - /home/salabed/workspace/autorocks/autorocks/optimizer/bograph/dag_postprocessor.py[line:67] - INFO: Flipping the order of: ('iops', 'io_size'), to ('io_size', 'iops')\n"
     ]
    },
    {
     "name": "stdout",
     "output_type": "stream",
     "text": [
      "Done\n",
      "Manually connecting param:  {'max_background_compactions', 'max_write_buffer_number', 'level0_stop_writes_trigger'}\n",
      "group={'max_bytes_for_level_multiplier', 'level0_stop_writes_trigger', 'max_write_buffer_number', 'max_background_compactions', 'write_buffer_size'}\n",
      "group={'read_block_get_micros.p95', 'bytes_decompressed.p95', 'sst_read_micros.p95', 'level0_slowdown_writes_trigger', 'max_background_flushes'}\n",
      "group={'db_write_micros.p95', 'compaction.overall_compaction.cumulative_compaction.write_throughput', 'compaction_times_micros.p95', 'block_size', 'compaction.overall_compaction.cumulative_compaction.read_throughput', 'bytes_compressed.p95', 'db_seek_micros.p95', 'io_size', 'latency', 'min_write_buffer_number_to_merge'}\n",
      "group={'compaction.overall_compaction.cumulative_compaction.write_throughput', 'compaction_times_micros.p95', 'block_size', 'compaction_outfile_sync_micros.p95', 'compaction.overall_compaction.cumulative_compaction.read_throughput', 'compaction_times_cpu_micros.avg', 'bytes_compressed.p95', 'level0_file_num_compaction_trigger'}\n",
      "group={'compaction_times_cpu_micros.avg', 'read_block_get_micros.p95', 'level0_file_num_compaction_trigger', 'level0_slowdown_writes_trigger', 'compaction_outfile_sync_micros.p95'}\n",
      "group={'db_write_micros.p95', 'compaction_outfile_sync_micros.p95', 'compaction_times_cpu_micros.avg', 'db_seek_micros.p95', 'io_size', 'level0_file_num_compaction_trigger', 'latency', 'min_write_buffer_number_to_merge'}\n",
      "group={'bytes_compressed.p95', 'read_block_get_micros.p95', 'compaction.overall_compaction.cumulative_compaction.write_throughput', 'compaction_times_micros.p95', 'compaction.overall_compaction.cumulative_compaction.read_throughput', 'level0_slowdown_writes_trigger', 'block_size'}\n"
     ]
    },
    {
     "name": "stderr",
     "output_type": "stream",
     "text": [
      "2024-01-28 13:32:01,165 - /home/salabed/anaconda3/envs/rocksdb/lib/python3.8/site-packages/castle/algorithms/gradient/notears/torch/golem.py[line:120] - INFO: GPU is available.\n",
      "2024-01-28 13:32:01,168 - /home/salabed/anaconda3/envs/rocksdb/lib/python3.8/site-packages/castle/algorithms/gradient/notears/torch/golem.py[line:207] - INFO: Started training for 100000 iterations.\n",
      "2024-01-28 13:32:01,171 - /home/salabed/anaconda3/envs/rocksdb/lib/python3.8/site-packages/castle/algorithms/gradient/notears/torch/golem.py[line:221] - INFO: [Iter 0] score=73.670, likelihood=73.670, h=0.0e+00\n",
      "2024-01-28 13:32:11,111 - /home/salabed/anaconda3/envs/rocksdb/lib/python3.8/site-packages/castle/algorithms/gradient/notears/torch/golem.py[line:221] - INFO: [Iter 5000] score=66.953, likelihood=65.037, h=5.2e-02\n",
      "2024-01-28 13:32:21,379 - /home/salabed/anaconda3/envs/rocksdb/lib/python3.8/site-packages/castle/algorithms/gradient/notears/torch/golem.py[line:221] - INFO: [Iter 10000] score=66.516, likelihood=64.214, h=4.7e-02\n",
      "2024-01-28 13:32:31,683 - /home/salabed/anaconda3/envs/rocksdb/lib/python3.8/site-packages/castle/algorithms/gradient/notears/torch/golem.py[line:221] - INFO: [Iter 15000] score=66.401, likelihood=63.793, h=4.6e-02\n",
      "2024-01-28 13:32:42,099 - /home/salabed/anaconda3/envs/rocksdb/lib/python3.8/site-packages/castle/algorithms/gradient/notears/torch/golem.py[line:221] - INFO: [Iter 20000] score=66.399, likelihood=63.730, h=4.7e-02\n",
      "2024-01-28 13:32:52,368 - /home/salabed/anaconda3/envs/rocksdb/lib/python3.8/site-packages/castle/algorithms/gradient/notears/torch/golem.py[line:221] - INFO: [Iter 25000] score=66.399, likelihood=63.731, h=4.7e-02\n",
      "2024-01-28 13:33:02,421 - /home/salabed/anaconda3/envs/rocksdb/lib/python3.8/site-packages/castle/algorithms/gradient/notears/torch/golem.py[line:221] - INFO: [Iter 30000] score=66.399, likelihood=63.730, h=4.7e-02\n",
      "2024-01-28 13:33:12,823 - /home/salabed/anaconda3/envs/rocksdb/lib/python3.8/site-packages/castle/algorithms/gradient/notears/torch/golem.py[line:221] - INFO: [Iter 35000] score=66.399, likelihood=63.730, h=4.7e-02\n",
      "2024-01-28 13:33:23,121 - /home/salabed/anaconda3/envs/rocksdb/lib/python3.8/site-packages/castle/algorithms/gradient/notears/torch/golem.py[line:221] - INFO: [Iter 40000] score=66.399, likelihood=63.730, h=4.7e-02\n",
      "2024-01-28 13:33:33,535 - /home/salabed/anaconda3/envs/rocksdb/lib/python3.8/site-packages/castle/algorithms/gradient/notears/torch/golem.py[line:221] - INFO: [Iter 45000] score=66.399, likelihood=63.730, h=4.7e-02\n",
      "2024-01-28 13:33:43,688 - /home/salabed/anaconda3/envs/rocksdb/lib/python3.8/site-packages/castle/algorithms/gradient/notears/torch/golem.py[line:221] - INFO: [Iter 50000] score=66.399, likelihood=63.731, h=4.7e-02\n",
      "2024-01-28 13:33:55,287 - /home/salabed/anaconda3/envs/rocksdb/lib/python3.8/site-packages/castle/algorithms/gradient/notears/torch/golem.py[line:221] - INFO: [Iter 55000] score=66.399, likelihood=63.730, h=4.7e-02\n",
      "2024-01-28 13:34:05,661 - /home/salabed/anaconda3/envs/rocksdb/lib/python3.8/site-packages/castle/algorithms/gradient/notears/torch/golem.py[line:221] - INFO: [Iter 60000] score=66.399, likelihood=63.730, h=4.7e-02\n",
      "2024-01-28 13:34:16,069 - /home/salabed/anaconda3/envs/rocksdb/lib/python3.8/site-packages/castle/algorithms/gradient/notears/torch/golem.py[line:221] - INFO: [Iter 65000] score=66.399, likelihood=63.730, h=4.7e-02\n",
      "2024-01-28 13:34:26,461 - /home/salabed/anaconda3/envs/rocksdb/lib/python3.8/site-packages/castle/algorithms/gradient/notears/torch/golem.py[line:221] - INFO: [Iter 70000] score=66.399, likelihood=63.730, h=4.7e-02\n",
      "2024-01-28 13:34:36,859 - /home/salabed/anaconda3/envs/rocksdb/lib/python3.8/site-packages/castle/algorithms/gradient/notears/torch/golem.py[line:221] - INFO: [Iter 75000] score=66.399, likelihood=63.730, h=4.7e-02\n",
      "2024-01-28 13:34:47,229 - /home/salabed/anaconda3/envs/rocksdb/lib/python3.8/site-packages/castle/algorithms/gradient/notears/torch/golem.py[line:221] - INFO: [Iter 80000] score=66.399, likelihood=63.730, h=4.7e-02\n",
      "2024-01-28 13:34:57,592 - /home/salabed/anaconda3/envs/rocksdb/lib/python3.8/site-packages/castle/algorithms/gradient/notears/torch/golem.py[line:221] - INFO: [Iter 85000] score=66.399, likelihood=63.730, h=4.7e-02\n",
      "2024-01-28 13:35:07,788 - /home/salabed/anaconda3/envs/rocksdb/lib/python3.8/site-packages/castle/algorithms/gradient/notears/torch/golem.py[line:221] - INFO: [Iter 90000] score=66.399, likelihood=63.730, h=4.7e-02\n",
      "2024-01-28 13:35:18,213 - /home/salabed/anaconda3/envs/rocksdb/lib/python3.8/site-packages/castle/algorithms/gradient/notears/torch/golem.py[line:221] - INFO: [Iter 95000] score=66.399, likelihood=63.730, h=4.7e-02\n",
      "2024-01-28 13:35:28,369 - /home/salabed/anaconda3/envs/rocksdb/lib/python3.8/site-packages/castle/algorithms/gradient/notears/torch/golem.py[line:221] - INFO: [Iter 100000] score=66.399, likelihood=63.730, h=4.7e-02\n",
      "2024-01-28 13:35:28,372 - /home/salabed/workspace/autorocks/autorocks/optimizer/bograph/dag_postprocessor.py[line:19] - WARNING: Hierarchical parameter detected: write_buffer_size, max_write_buffer_number\n",
      "2024-01-28 13:35:28,373 - /home/salabed/workspace/autorocks/autorocks/optimizer/bograph/dag_postprocessor.py[line:19] - WARNING: Hierarchical parameter detected: min_write_buffer_number_to_merge, write_buffer_size\n",
      "2024-01-28 13:35:28,373 - /home/salabed/workspace/autorocks/autorocks/optimizer/bograph/dag_postprocessor.py[line:19] - WARNING: Hierarchical parameter detected: max_bytes_for_level_multiplier, level0_file_num_compaction_trigger\n",
      "2024-01-28 13:35:28,373 - /home/salabed/workspace/autorocks/autorocks/optimizer/bograph/dag_postprocessor.py[line:19] - WARNING: Hierarchical parameter detected: block_size, level0_stop_writes_trigger\n",
      "2024-01-28 13:35:28,374 - /home/salabed/workspace/autorocks/autorocks/optimizer/bograph/dag_postprocessor.py[line:19] - WARNING: Hierarchical parameter detected: level0_slowdown_writes_trigger, max_background_flushes\n",
      "2024-01-28 13:35:28,374 - /home/salabed/workspace/autorocks/autorocks/optimizer/bograph/dag_postprocessor.py[line:67] - INFO: Flipping the order of: ('iops', 'io_size'), to ('io_size', 'iops')\n"
     ]
    },
    {
     "name": "stdout",
     "output_type": "stream",
     "text": [
      "Done\n",
      "Manually connecting param:  {'min_write_buffer_number_to_merge'}\n",
      "group={'level0_file_num_compaction_trigger', 'max_bytes_for_level_multiplier', 'min_write_buffer_number_to_merge', 'write_buffer_size'}\n",
      "group={'compaction.overall_compaction.cumulative_compaction.write_size_mb', 'level0_stop_writes_trigger', 'block_size', 'level0_slowdown_writes_trigger', 'max_background_flushes', 'max_background_compactions'}\n",
      "group={'max_write_buffer_number', 'io_size'}\n"
     ]
    },
    {
     "name": "stderr",
     "output_type": "stream",
     "text": [
      "2024-01-28 13:35:28,575 - /home/salabed/anaconda3/envs/rocksdb/lib/python3.8/site-packages/castle/algorithms/gradient/notears/torch/golem.py[line:120] - INFO: GPU is available.\n",
      "2024-01-28 13:35:28,577 - /home/salabed/anaconda3/envs/rocksdb/lib/python3.8/site-packages/castle/algorithms/gradient/notears/torch/golem.py[line:207] - INFO: Started training for 100000 iterations.\n",
      "2024-01-28 13:35:28,580 - /home/salabed/anaconda3/envs/rocksdb/lib/python3.8/site-packages/castle/algorithms/gradient/notears/torch/golem.py[line:221] - INFO: [Iter 0] score=99.547, likelihood=99.547, h=0.0e+00\n",
      "2024-01-28 13:35:39,293 - /home/salabed/anaconda3/envs/rocksdb/lib/python3.8/site-packages/castle/algorithms/gradient/notears/torch/golem.py[line:221] - INFO: [Iter 5000] score=87.578, likelihood=85.052, h=5.1e-02\n",
      "2024-01-28 13:35:50,400 - /home/salabed/anaconda3/envs/rocksdb/lib/python3.8/site-packages/castle/algorithms/gradient/notears/torch/golem.py[line:221] - INFO: [Iter 10000] score=86.544, likelihood=83.200, h=5.7e-02\n",
      "2024-01-28 13:36:01,684 - /home/salabed/anaconda3/envs/rocksdb/lib/python3.8/site-packages/castle/algorithms/gradient/notears/torch/golem.py[line:221] - INFO: [Iter 15000] score=86.114, likelihood=82.096, h=6.1e-02\n",
      "2024-01-28 13:36:13,093 - /home/salabed/anaconda3/envs/rocksdb/lib/python3.8/site-packages/castle/algorithms/gradient/notears/torch/golem.py[line:221] - INFO: [Iter 20000] score=86.020, likelihood=81.872, h=5.8e-02\n",
      "2024-01-28 13:36:24,098 - /home/salabed/anaconda3/envs/rocksdb/lib/python3.8/site-packages/castle/algorithms/gradient/notears/torch/golem.py[line:221] - INFO: [Iter 25000] score=85.998, likelihood=81.873, h=5.7e-02\n",
      "2024-01-28 13:36:35,402 - /home/salabed/anaconda3/envs/rocksdb/lib/python3.8/site-packages/castle/algorithms/gradient/notears/torch/golem.py[line:221] - INFO: [Iter 30000] score=85.852, likelihood=81.681, h=5.9e-02\n",
      "2024-01-28 13:36:46,799 - /home/salabed/anaconda3/envs/rocksdb/lib/python3.8/site-packages/castle/algorithms/gradient/notears/torch/golem.py[line:221] - INFO: [Iter 35000] score=85.819, likelihood=81.683, h=5.2e-02\n",
      "2024-01-28 13:36:57,940 - /home/salabed/anaconda3/envs/rocksdb/lib/python3.8/site-packages/castle/algorithms/gradient/notears/torch/golem.py[line:221] - INFO: [Iter 40000] score=85.863, likelihood=81.676, h=6.1e-02\n",
      "2024-01-28 13:37:09,069 - /home/salabed/anaconda3/envs/rocksdb/lib/python3.8/site-packages/castle/algorithms/gradient/notears/torch/golem.py[line:221] - INFO: [Iter 45000] score=85.828, likelihood=81.676, h=5.4e-02\n",
      "2024-01-28 13:37:20,446 - /home/salabed/anaconda3/envs/rocksdb/lib/python3.8/site-packages/castle/algorithms/gradient/notears/torch/golem.py[line:221] - INFO: [Iter 50000] score=85.842, likelihood=81.693, h=5.6e-02\n",
      "2024-01-28 13:37:31,756 - /home/salabed/anaconda3/envs/rocksdb/lib/python3.8/site-packages/castle/algorithms/gradient/notears/torch/golem.py[line:221] - INFO: [Iter 55000] score=85.819, likelihood=81.675, h=5.3e-02\n",
      "2024-01-28 13:37:43,134 - /home/salabed/anaconda3/envs/rocksdb/lib/python3.8/site-packages/castle/algorithms/gradient/notears/torch/golem.py[line:221] - INFO: [Iter 60000] score=85.842, likelihood=81.683, h=5.7e-02\n",
      "2024-01-28 13:37:54,362 - /home/salabed/anaconda3/envs/rocksdb/lib/python3.8/site-packages/castle/algorithms/gradient/notears/torch/golem.py[line:221] - INFO: [Iter 65000] score=85.823, likelihood=81.681, h=5.3e-02\n",
      "2024-01-28 13:38:05,675 - /home/salabed/anaconda3/envs/rocksdb/lib/python3.8/site-packages/castle/algorithms/gradient/notears/torch/golem.py[line:221] - INFO: [Iter 70000] score=85.819, likelihood=81.685, h=5.2e-02\n",
      "2024-01-28 13:38:17,057 - /home/salabed/anaconda3/envs/rocksdb/lib/python3.8/site-packages/castle/algorithms/gradient/notears/torch/golem.py[line:221] - INFO: [Iter 75000] score=85.889, likelihood=81.678, h=6.6e-02\n",
      "2024-01-28 13:38:28,402 - /home/salabed/anaconda3/envs/rocksdb/lib/python3.8/site-packages/castle/algorithms/gradient/notears/torch/golem.py[line:221] - INFO: [Iter 80000] score=85.827, likelihood=81.681, h=5.4e-02\n",
      "2024-01-28 13:38:39,608 - /home/salabed/anaconda3/envs/rocksdb/lib/python3.8/site-packages/castle/algorithms/gradient/notears/torch/golem.py[line:221] - INFO: [Iter 85000] score=86.270, likelihood=81.678, h=1.4e-01\n",
      "2024-01-28 13:38:51,007 - /home/salabed/anaconda3/envs/rocksdb/lib/python3.8/site-packages/castle/algorithms/gradient/notears/torch/golem.py[line:221] - INFO: [Iter 90000] score=85.826, likelihood=81.677, h=5.4e-02\n",
      "2024-01-28 13:39:01,949 - /home/salabed/anaconda3/envs/rocksdb/lib/python3.8/site-packages/castle/algorithms/gradient/notears/torch/golem.py[line:221] - INFO: [Iter 95000] score=85.817, likelihood=81.675, h=5.2e-02\n",
      "2024-01-28 13:39:13,137 - /home/salabed/anaconda3/envs/rocksdb/lib/python3.8/site-packages/castle/algorithms/gradient/notears/torch/golem.py[line:221] - INFO: [Iter 100000] score=85.827, likelihood=81.678, h=5.4e-02\n",
      "2024-01-28 13:39:13,141 - /home/salabed/workspace/autorocks/autorocks/optimizer/bograph/dag_postprocessor.py[line:19] - WARNING: Hierarchical parameter detected: max_background_compactions, max_bytes_for_level_multiplier\n",
      "2024-01-28 13:39:13,141 - /home/salabed/workspace/autorocks/autorocks/optimizer/bograph/dag_postprocessor.py[line:19] - WARNING: Hierarchical parameter detected: write_buffer_size, max_write_buffer_number\n",
      "2024-01-28 13:39:13,142 - /home/salabed/workspace/autorocks/autorocks/optimizer/bograph/dag_postprocessor.py[line:19] - WARNING: Hierarchical parameter detected: max_write_buffer_number, level0_stop_writes_trigger\n",
      "2024-01-28 13:39:13,142 - /home/salabed/workspace/autorocks/autorocks/optimizer/bograph/dag_postprocessor.py[line:19] - WARNING: Hierarchical parameter detected: level0_file_num_compaction_trigger, max_background_flushes\n",
      "2024-01-28 13:39:13,142 - /home/salabed/workspace/autorocks/autorocks/optimizer/bograph/dag_postprocessor.py[line:19] - WARNING: Hierarchical parameter detected: level0_file_num_compaction_trigger, level0_slowdown_writes_trigger\n"
     ]
    },
    {
     "name": "stdout",
     "output_type": "stream",
     "text": [
      "Done\n",
      "Manually connecting param:  {'level0_file_num_compaction_trigger', 'max_background_flushes'}\n",
      "group={'level0_file_num_compaction_trigger', 'max_bytes_for_level_multiplier', 'max_background_flushes', 'max_background_compactions'}\n",
      "group={'level0_stop_writes_trigger', 'compaction.overall_compaction.cumulative_compaction.write_throughput', 'compaction.overall_compaction.cumulative_compaction.read_throughput', 'block_size', 'compaction.overall_compaction.cumulative_compaction.read_size_mb', 'compaction.overall_compaction.cumulative_compaction.write_size_mb', 'min_write_buffer_number_to_merge'}\n",
      "group={'max_write_buffer_number', 'level0_slowdown_writes_trigger', 'io_size'}\n",
      "group={'level0_stop_writes_trigger', 'compaction.overall_compaction.cumulative_compaction.write_throughput', 'max_write_buffer_number', 'io_size', 'level0_slowdown_writes_trigger'}\n",
      "group={'max_write_buffer_number', 'compaction_times_cpu_micros.avg', 'io_size', 'level0_slowdown_writes_trigger', 'write_buffer_size'}\n",
      "group={'compaction_times_cpu_micros.avg', 'io_size', 'level0_stop_writes_trigger', 'compaction.overall_compaction.cumulative_compaction.write_throughput', 'write_buffer_size'}\n",
      "group={'compaction.overall_compaction.cumulative_compaction.write_throughput', 'compaction.overall_compaction.cumulative_compaction.read_size_mb', 'min_write_buffer_number_to_merge', 'level0_stop_writes_trigger'}\n",
      "group={'compaction.overall_compaction.cumulative_compaction.write_throughput', 'max_write_buffer_number', 'compaction.overall_compaction.cumulative_compaction.read_throughput', 'block_size', 'compaction.overall_compaction.cumulative_compaction.read_size_mb', 'compaction.overall_compaction.cumulative_compaction.write_size_mb', 'io_size', 'level0_slowdown_writes_trigger'}\n"
     ]
    },
    {
     "name": "stderr",
     "output_type": "stream",
     "text": [
      "2024-01-28 13:39:13,346 - /home/salabed/anaconda3/envs/rocksdb/lib/python3.8/site-packages/castle/algorithms/gradient/notears/torch/golem.py[line:120] - INFO: GPU is available.\n",
      "2024-01-28 13:39:13,350 - /home/salabed/anaconda3/envs/rocksdb/lib/python3.8/site-packages/castle/algorithms/gradient/notears/torch/golem.py[line:207] - INFO: Started training for 100000 iterations.\n",
      "2024-01-28 13:39:13,353 - /home/salabed/anaconda3/envs/rocksdb/lib/python3.8/site-packages/castle/algorithms/gradient/notears/torch/golem.py[line:221] - INFO: [Iter 0] score=126.025, likelihood=126.025, h=0.0e+00\n",
      "2024-01-28 13:39:24,309 - /home/salabed/anaconda3/envs/rocksdb/lib/python3.8/site-packages/castle/algorithms/gradient/notears/torch/golem.py[line:221] - INFO: [Iter 5000] score=111.083, likelihood=108.177, h=5.2e-02\n",
      "2024-01-28 13:39:35,781 - /home/salabed/anaconda3/envs/rocksdb/lib/python3.8/site-packages/castle/algorithms/gradient/notears/torch/golem.py[line:221] - INFO: [Iter 10000] score=110.119, likelihood=106.452, h=4.8e-02\n",
      "2024-01-28 13:39:47,296 - /home/salabed/anaconda3/envs/rocksdb/lib/python3.8/site-packages/castle/algorithms/gradient/notears/torch/golem.py[line:221] - INFO: [Iter 15000] score=109.831, likelihood=105.774, h=4.5e-02\n",
      "2024-01-28 13:39:58,953 - /home/salabed/anaconda3/envs/rocksdb/lib/python3.8/site-packages/castle/algorithms/gradient/notears/torch/golem.py[line:221] - INFO: [Iter 20000] score=109.755, likelihood=105.453, h=4.6e-02\n",
      "2024-01-28 13:40:10,793 - /home/salabed/anaconda3/envs/rocksdb/lib/python3.8/site-packages/castle/algorithms/gradient/notears/torch/golem.py[line:221] - INFO: [Iter 25000] score=109.751, likelihood=105.378, h=4.7e-02\n",
      "2024-01-28 13:40:22,559 - /home/salabed/anaconda3/envs/rocksdb/lib/python3.8/site-packages/castle/algorithms/gradient/notears/torch/golem.py[line:221] - INFO: [Iter 30000] score=109.752, likelihood=105.377, h=4.7e-02\n",
      "2024-01-28 13:40:34,394 - /home/salabed/anaconda3/envs/rocksdb/lib/python3.8/site-packages/castle/algorithms/gradient/notears/torch/golem.py[line:221] - INFO: [Iter 35000] score=109.752, likelihood=105.378, h=4.7e-02\n",
      "2024-01-28 13:40:46,195 - /home/salabed/anaconda3/envs/rocksdb/lib/python3.8/site-packages/castle/algorithms/gradient/notears/torch/golem.py[line:221] - INFO: [Iter 40000] score=109.752, likelihood=105.377, h=4.7e-02\n",
      "2024-01-28 13:40:58,065 - /home/salabed/anaconda3/envs/rocksdb/lib/python3.8/site-packages/castle/algorithms/gradient/notears/torch/golem.py[line:221] - INFO: [Iter 45000] score=109.752, likelihood=105.377, h=4.7e-02\n",
      "2024-01-28 13:41:09,922 - /home/salabed/anaconda3/envs/rocksdb/lib/python3.8/site-packages/castle/algorithms/gradient/notears/torch/golem.py[line:221] - INFO: [Iter 50000] score=109.751, likelihood=105.377, h=4.7e-02\n",
      "2024-01-28 13:41:21,800 - /home/salabed/anaconda3/envs/rocksdb/lib/python3.8/site-packages/castle/algorithms/gradient/notears/torch/golem.py[line:221] - INFO: [Iter 55000] score=109.752, likelihood=105.378, h=4.7e-02\n",
      "2024-01-28 13:41:33,643 - /home/salabed/anaconda3/envs/rocksdb/lib/python3.8/site-packages/castle/algorithms/gradient/notears/torch/golem.py[line:221] - INFO: [Iter 60000] score=109.752, likelihood=105.379, h=4.7e-02\n",
      "2024-01-28 13:41:45,469 - /home/salabed/anaconda3/envs/rocksdb/lib/python3.8/site-packages/castle/algorithms/gradient/notears/torch/golem.py[line:221] - INFO: [Iter 65000] score=109.751, likelihood=105.377, h=4.7e-02\n",
      "2024-01-28 13:41:57,246 - /home/salabed/anaconda3/envs/rocksdb/lib/python3.8/site-packages/castle/algorithms/gradient/notears/torch/golem.py[line:221] - INFO: [Iter 70000] score=109.752, likelihood=105.377, h=4.7e-02\n",
      "2024-01-28 13:42:08,893 - /home/salabed/anaconda3/envs/rocksdb/lib/python3.8/site-packages/castle/algorithms/gradient/notears/torch/golem.py[line:221] - INFO: [Iter 75000] score=109.751, likelihood=105.377, h=4.7e-02\n",
      "2024-01-28 13:42:20,702 - /home/salabed/anaconda3/envs/rocksdb/lib/python3.8/site-packages/castle/algorithms/gradient/notears/torch/golem.py[line:221] - INFO: [Iter 80000] score=109.751, likelihood=105.378, h=4.7e-02\n",
      "2024-01-28 13:42:32,372 - /home/salabed/anaconda3/envs/rocksdb/lib/python3.8/site-packages/castle/algorithms/gradient/notears/torch/golem.py[line:221] - INFO: [Iter 85000] score=109.752, likelihood=105.378, h=4.7e-02\n",
      "2024-01-28 13:42:44,263 - /home/salabed/anaconda3/envs/rocksdb/lib/python3.8/site-packages/castle/algorithms/gradient/notears/torch/golem.py[line:221] - INFO: [Iter 90000] score=109.751, likelihood=105.378, h=4.7e-02\n",
      "2024-01-28 13:42:57,718 - /home/salabed/anaconda3/envs/rocksdb/lib/python3.8/site-packages/castle/algorithms/gradient/notears/torch/golem.py[line:221] - INFO: [Iter 95000] score=109.751, likelihood=105.377, h=4.7e-02\n",
      "2024-01-28 13:43:09,588 - /home/salabed/anaconda3/envs/rocksdb/lib/python3.8/site-packages/castle/algorithms/gradient/notears/torch/golem.py[line:221] - INFO: [Iter 100000] score=109.751, likelihood=105.377, h=4.7e-02\n",
      "2024-01-28 13:43:09,593 - /home/salabed/workspace/autorocks/autorocks/optimizer/bograph/dag_postprocessor.py[line:19] - WARNING: Hierarchical parameter detected: write_buffer_size, max_write_buffer_number\n",
      "2024-01-28 13:43:09,593 - /home/salabed/workspace/autorocks/autorocks/optimizer/bograph/dag_postprocessor.py[line:19] - WARNING: Hierarchical parameter detected: write_buffer_size, min_write_buffer_number_to_merge\n",
      "2024-01-28 13:43:09,593 - /home/salabed/workspace/autorocks/autorocks/optimizer/bograph/dag_postprocessor.py[line:19] - WARNING: Hierarchical parameter detected: max_write_buffer_number, level0_file_num_compaction_trigger\n",
      "2024-01-28 13:43:09,594 - /home/salabed/workspace/autorocks/autorocks/optimizer/bograph/dag_postprocessor.py[line:19] - WARNING: Hierarchical parameter detected: min_write_buffer_number_to_merge, max_write_buffer_number\n",
      "2024-01-28 13:43:09,594 - /home/salabed/workspace/autorocks/autorocks/optimizer/bograph/dag_postprocessor.py[line:19] - WARNING: Hierarchical parameter detected: level0_file_num_compaction_trigger, max_background_flushes\n",
      "2024-01-28 13:43:09,594 - /home/salabed/workspace/autorocks/autorocks/optimizer/bograph/dag_postprocessor.py[line:19] - WARNING: Hierarchical parameter detected: level0_file_num_compaction_trigger, level0_slowdown_writes_trigger\n",
      "2024-01-28 13:43:09,595 - /home/salabed/workspace/autorocks/autorocks/optimizer/bograph/dag_postprocessor.py[line:19] - WARNING: Hierarchical parameter detected: level0_stop_writes_trigger, max_background_compactions\n",
      "2024-01-28 13:43:09,595 - /home/salabed/workspace/autorocks/autorocks/optimizer/bograph/dag_postprocessor.py[line:67] - INFO: Flipping the order of: ('iops', 'compaction_outfile_sync_micros.p95'), to ('compaction_outfile_sync_micros.p95', 'iops')\n"
     ]
    },
    {
     "name": "stdout",
     "output_type": "stream",
     "text": [
      "Done\n",
      "Manually connecting param:  {'level0_file_num_compaction_trigger', 'level0_slowdown_writes_trigger', 'max_background_flushes'}\n",
      "group={'level0_file_num_compaction_trigger', 'max_bytes_for_level_multiplier', 'level0_slowdown_writes_trigger', 'max_background_flushes'}\n",
      "group={'compaction_times_micros.p95', 'block_size', 'compaction.overall_compaction.cumulative_compaction.read_size_mb', 'compaction.overall_compaction.cumulative_compaction.write_size_mb', 'compaction.overall_compaction.cumulative_compaction.time_sec', 'latency', 'write_raw_block_micros.p95', 'write_buffer_size'}\n",
      "group={'db_write_micros.p95', 'compaction_times_micros.p95', 'block_size', 'compaction.overall_compaction.cumulative_compaction.read_size_mb', 'compaction.overall_compaction.cumulative_compaction.write_size_mb', 'compaction.overall_compaction.cumulative_compaction.time_sec', 'latency', 'min_write_buffer_number_to_merge', 'write_raw_block_micros.p95'}\n",
      "group={'level0_stop_writes_trigger', 'max_background_compactions', 'block_size', 'compaction.overall_compaction.cumulative_compaction.read_size_mb', 'compaction.overall_compaction.cumulative_compaction.write_size_mb', 'compaction.overall_compaction.cumulative_compaction.time_sec', 'write_raw_block_micros.p95'}\n",
      "group={'compaction.overall_compaction.cumulative_compaction.read_size_mb', 'compaction.overall_compaction.cumulative_compaction.write_size_mb', 'level0_stop_writes_trigger', 'write_raw_block_micros.p95', 'max_background_compactions'}\n",
      "group={'compaction.overall_compaction.cumulative_compaction.read_size_mb', 'compaction.overall_compaction.cumulative_compaction.write_size_mb', 'compaction_times_micros.p95', 'max_write_buffer_number', 'max_background_compactions'}\n",
      "group={'compaction.overall_compaction.cumulative_compaction.write_size_mb', 'compaction_times_micros.p95', 'level0_stop_writes_trigger', 'max_write_buffer_number', 'write_raw_block_micros.p95'}\n",
      "group={'compaction.overall_compaction.cumulative_compaction.write_size_mb', 'compaction_times_micros.p95', 'max_write_buffer_number', 'latency', 'write_buffer_size'}\n",
      "group={'db_write_micros.p95', 'compaction_times_micros.p95', 'max_write_buffer_number', 'latency', 'min_write_buffer_number_to_merge'}\n",
      "group={'compaction.overall_compaction.cumulative_compaction.read_size_mb', 'compaction.overall_compaction.cumulative_compaction.write_size_mb', 'compaction_times_micros.p95', 'latency', 'write_buffer_size', 'max_background_compactions'}\n",
      "group={'db_write_micros.p95', 'compaction.overall_compaction.cumulative_compaction.read_size_mb', 'compaction.overall_compaction.cumulative_compaction.write_size_mb', 'compaction_times_micros.p95', 'latency', 'min_write_buffer_number_to_merge', 'max_background_compactions'}\n",
      "group={'compaction.overall_compaction.cumulative_compaction.write_size_mb', 'level0_stop_writes_trigger', 'compaction_times_micros.p95', 'latency', 'write_raw_block_micros.p95', 'write_buffer_size'}\n",
      "group={'db_write_micros.p95', 'compaction.overall_compaction.cumulative_compaction.write_size_mb', 'level0_stop_writes_trigger', 'compaction_times_micros.p95', 'latency', 'min_write_buffer_number_to_merge', 'write_raw_block_micros.p95'}\n",
      "group={'compaction.overall_compaction.cumulative_compaction.read_size_mb', 'compaction.overall_compaction.cumulative_compaction.write_size_mb', 'compaction.overall_compaction.cumulative_compaction.time_sec', 'compaction_times_micros.p95', 'max_write_buffer_number', 'write_raw_block_micros.p95', 'block_size'}\n",
      "group={'db_write_micros.p95', 'compaction.overall_compaction.cumulative_compaction.write_size_mb', 'compaction_times_micros.p95', 'latency', 'min_write_buffer_number_to_merge', 'write_buffer_size'}\n"
     ]
    },
    {
     "name": "stderr",
     "output_type": "stream",
     "text": [
      "2024-01-28 13:43:09,833 - /home/salabed/anaconda3/envs/rocksdb/lib/python3.8/site-packages/castle/algorithms/gradient/notears/torch/golem.py[line:120] - INFO: GPU is available.\n",
      "2024-01-28 13:43:09,836 - /home/salabed/anaconda3/envs/rocksdb/lib/python3.8/site-packages/castle/algorithms/gradient/notears/torch/golem.py[line:207] - INFO: Started training for 100000 iterations.\n",
      "2024-01-28 13:43:09,842 - /home/salabed/anaconda3/envs/rocksdb/lib/python3.8/site-packages/castle/algorithms/gradient/notears/torch/golem.py[line:221] - INFO: [Iter 0] score=160.313, likelihood=160.313, h=0.0e+00\n",
      "2024-01-28 13:43:20,875 - /home/salabed/anaconda3/envs/rocksdb/lib/python3.8/site-packages/castle/algorithms/gradient/notears/torch/golem.py[line:221] - INFO: [Iter 5000] score=147.078, likelihood=144.048, h=4.5e-02\n",
      "2024-01-28 13:43:32,071 - /home/salabed/anaconda3/envs/rocksdb/lib/python3.8/site-packages/castle/algorithms/gradient/notears/torch/golem.py[line:221] - INFO: [Iter 10000] score=146.208, likelihood=143.123, h=4.1e-02\n",
      "2024-01-28 13:43:43,540 - /home/salabed/anaconda3/envs/rocksdb/lib/python3.8/site-packages/castle/algorithms/gradient/notears/torch/golem.py[line:221] - INFO: [Iter 15000] score=146.071, likelihood=142.657, h=4.0e-02\n",
      "2024-01-28 13:43:55,161 - /home/salabed/anaconda3/envs/rocksdb/lib/python3.8/site-packages/castle/algorithms/gradient/notears/torch/golem.py[line:221] - INFO: [Iter 20000] score=145.866, likelihood=142.483, h=4.1e-02\n",
      "2024-01-28 13:44:06,988 - /home/salabed/anaconda3/envs/rocksdb/lib/python3.8/site-packages/castle/algorithms/gradient/notears/torch/golem.py[line:221] - INFO: [Iter 25000] score=145.748, likelihood=142.181, h=4.1e-02\n",
      "2024-01-28 13:44:18,860 - /home/salabed/anaconda3/envs/rocksdb/lib/python3.8/site-packages/castle/algorithms/gradient/notears/torch/golem.py[line:221] - INFO: [Iter 30000] score=145.747, likelihood=142.129, h=4.1e-02\n",
      "2024-01-28 13:44:30,566 - /home/salabed/anaconda3/envs/rocksdb/lib/python3.8/site-packages/castle/algorithms/gradient/notears/torch/golem.py[line:221] - INFO: [Iter 35000] score=145.747, likelihood=142.129, h=4.1e-02\n",
      "2024-01-28 13:44:42,107 - /home/salabed/anaconda3/envs/rocksdb/lib/python3.8/site-packages/castle/algorithms/gradient/notears/torch/golem.py[line:221] - INFO: [Iter 40000] score=145.747, likelihood=142.129, h=4.1e-02\n",
      "2024-01-28 13:44:53,857 - /home/salabed/anaconda3/envs/rocksdb/lib/python3.8/site-packages/castle/algorithms/gradient/notears/torch/golem.py[line:221] - INFO: [Iter 45000] score=145.747, likelihood=142.129, h=4.1e-02\n",
      "2024-01-28 13:45:05,696 - /home/salabed/anaconda3/envs/rocksdb/lib/python3.8/site-packages/castle/algorithms/gradient/notears/torch/golem.py[line:221] - INFO: [Iter 50000] score=145.747, likelihood=142.130, h=4.1e-02\n",
      "2024-01-28 13:45:17,432 - /home/salabed/anaconda3/envs/rocksdb/lib/python3.8/site-packages/castle/algorithms/gradient/notears/torch/golem.py[line:221] - INFO: [Iter 55000] score=145.747, likelihood=142.129, h=4.1e-02\n",
      "2024-01-28 13:45:29,173 - /home/salabed/anaconda3/envs/rocksdb/lib/python3.8/site-packages/castle/algorithms/gradient/notears/torch/golem.py[line:221] - INFO: [Iter 60000] score=145.747, likelihood=142.129, h=4.1e-02\n",
      "2024-01-28 13:45:40,897 - /home/salabed/anaconda3/envs/rocksdb/lib/python3.8/site-packages/castle/algorithms/gradient/notears/torch/golem.py[line:221] - INFO: [Iter 65000] score=145.747, likelihood=142.129, h=4.1e-02\n",
      "2024-01-28 13:45:52,699 - /home/salabed/anaconda3/envs/rocksdb/lib/python3.8/site-packages/castle/algorithms/gradient/notears/torch/golem.py[line:221] - INFO: [Iter 70000] score=145.747, likelihood=142.129, h=4.1e-02\n",
      "2024-01-28 13:46:04,470 - /home/salabed/anaconda3/envs/rocksdb/lib/python3.8/site-packages/castle/algorithms/gradient/notears/torch/golem.py[line:221] - INFO: [Iter 75000] score=145.747, likelihood=142.129, h=4.1e-02\n",
      "2024-01-28 13:46:16,139 - /home/salabed/anaconda3/envs/rocksdb/lib/python3.8/site-packages/castle/algorithms/gradient/notears/torch/golem.py[line:221] - INFO: [Iter 80000] score=145.747, likelihood=142.130, h=4.1e-02\n",
      "2024-01-28 13:46:27,950 - /home/salabed/anaconda3/envs/rocksdb/lib/python3.8/site-packages/castle/algorithms/gradient/notears/torch/golem.py[line:221] - INFO: [Iter 85000] score=145.747, likelihood=142.129, h=4.1e-02\n",
      "2024-01-28 13:46:39,532 - /home/salabed/anaconda3/envs/rocksdb/lib/python3.8/site-packages/castle/algorithms/gradient/notears/torch/golem.py[line:221] - INFO: [Iter 90000] score=145.747, likelihood=142.129, h=4.1e-02\n",
      "2024-01-28 13:46:51,295 - /home/salabed/anaconda3/envs/rocksdb/lib/python3.8/site-packages/castle/algorithms/gradient/notears/torch/golem.py[line:221] - INFO: [Iter 95000] score=145.747, likelihood=142.130, h=4.1e-02\n",
      "2024-01-28 13:47:03,120 - /home/salabed/anaconda3/envs/rocksdb/lib/python3.8/site-packages/castle/algorithms/gradient/notears/torch/golem.py[line:221] - INFO: [Iter 100000] score=145.747, likelihood=142.130, h=4.1e-02\n",
      "2024-01-28 13:47:03,124 - /home/salabed/workspace/autorocks/autorocks/optimizer/bograph/dag_postprocessor.py[line:19] - WARNING: Hierarchical parameter detected: write_buffer_size, min_write_buffer_number_to_merge\n",
      "2024-01-28 13:47:03,125 - /home/salabed/workspace/autorocks/autorocks/optimizer/bograph/dag_postprocessor.py[line:67] - INFO: Flipping the order of: ('iops', 'numfiles_in_singlecompaction'), to ('numfiles_in_singlecompaction', 'iops')\n"
     ]
    },
    {
     "name": "stdout",
     "output_type": "stream",
     "text": [
      "Done\n",
      "Manually connecting param:  {'max_bytes_for_level_multiplier', 'level0_stop_writes_trigger', 'max_background_compactions', 'min_write_buffer_number_to_merge', 'max_background_flushes'}\n",
      "group={'max_bytes_for_level_multiplier', 'level0_stop_writes_trigger', 'max_background_compactions', 'min_write_buffer_number_to_merge', 'max_background_flushes'}\n",
      "group={'compaction_times_cpu_micros', 'io_size', 'read_block_get_micros', 'numfiles_in_singlecompaction', 'write_buffer_size', 'block_size'}\n",
      "group={'compaction_outfile_sync_micros', 'read_block_get_micros', 'max_write_buffer_number', 'level0_slowdown_writes_trigger', 'bytes_decompressed', 'sst_read_micros'}\n",
      "group={'compaction_times_cpu_micros', 'io_size', 'read_block_get_micros', 'level0_file_num_compaction_trigger', 'compaction_outfile_sync_micros', 'block_size'}\n",
      "group={'compaction_times_cpu_micros', 'compaction_outfile_sync_micros', 'read_block_get_micros', 'level0_file_num_compaction_trigger', 'level0_slowdown_writes_trigger', 'sst_read_micros'}\n",
      "group={'compaction_times_cpu_micros', 'level0_file_num_compaction_trigger', 'max_write_buffer_number', 'bytes_decompressed', 'compaction_outfile_sync_micros'}\n",
      "group={'compaction_times_cpu_micros', 'sst_read_micros', 'compaction_outfile_sync_micros', 'read_block_get_micros', 'numfiles_in_singlecompaction', 'level0_slowdown_writes_trigger', 'write_buffer_size'}\n",
      "group={'compaction_times_cpu_micros', 'max_write_buffer_number', 'numfiles_in_singlecompaction', 'bytes_decompressed', 'write_buffer_size'}\n",
      "group={'io_size', 'read_block_get_micros', 'sst_read_micros', 'level0_slowdown_writes_trigger', 'compaction_outfile_sync_micros', 'block_size'}\n",
      "group={'compaction_times_cpu_micros', 'compaction_outfile_sync_micros', 'level0_file_num_compaction_trigger', 'numfiles_in_singlecompaction', 'write_buffer_size'}\n",
      "group={'io_size', 'read_block_get_micros', 'max_write_buffer_number', 'bytes_decompressed', 'block_size'}\n"
     ]
    },
    {
     "name": "stderr",
     "output_type": "stream",
     "text": [
      "2024-01-28 13:47:03,329 - /home/salabed/anaconda3/envs/rocksdb/lib/python3.8/site-packages/castle/algorithms/gradient/notears/torch/golem.py[line:120] - INFO: GPU is available.\n",
      "2024-01-28 13:47:03,331 - /home/salabed/anaconda3/envs/rocksdb/lib/python3.8/site-packages/castle/algorithms/gradient/notears/torch/golem.py[line:207] - INFO: Started training for 100000 iterations.\n",
      "2024-01-28 13:47:03,332 - /home/salabed/anaconda3/envs/rocksdb/lib/python3.8/site-packages/castle/algorithms/gradient/notears/torch/golem.py[line:221] - INFO: [Iter 0] score=180.354, likelihood=180.354, h=0.0e+00\n",
      "2024-01-28 13:47:14,793 - /home/salabed/anaconda3/envs/rocksdb/lib/python3.8/site-packages/castle/algorithms/gradient/notears/torch/golem.py[line:221] - INFO: [Iter 5000] score=160.342, likelihood=155.743, h=6.5e-02\n",
      "2024-01-28 13:47:26,901 - /home/salabed/anaconda3/envs/rocksdb/lib/python3.8/site-packages/castle/algorithms/gradient/notears/torch/golem.py[line:221] - INFO: [Iter 10000] score=159.064, likelihood=153.426, h=6.3e-02\n",
      "2024-01-28 13:47:39,213 - /home/salabed/anaconda3/envs/rocksdb/lib/python3.8/site-packages/castle/algorithms/gradient/notears/torch/golem.py[line:221] - INFO: [Iter 15000] score=158.327, likelihood=152.575, h=6.9e-02\n",
      "2024-01-28 13:47:51,690 - /home/salabed/anaconda3/envs/rocksdb/lib/python3.8/site-packages/castle/algorithms/gradient/notears/torch/golem.py[line:221] - INFO: [Iter 20000] score=158.047, likelihood=152.123, h=5.6e-02\n",
      "2024-01-28 13:48:04,234 - /home/salabed/anaconda3/envs/rocksdb/lib/python3.8/site-packages/castle/algorithms/gradient/notears/torch/golem.py[line:221] - INFO: [Iter 25000] score=157.837, likelihood=151.761, h=5.9e-02\n",
      "2024-01-28 13:48:16,988 - /home/salabed/anaconda3/envs/rocksdb/lib/python3.8/site-packages/castle/algorithms/gradient/notears/torch/golem.py[line:221] - INFO: [Iter 30000] score=157.534, likelihood=151.385, h=5.3e-02\n",
      "2024-01-28 13:48:29,700 - /home/salabed/anaconda3/envs/rocksdb/lib/python3.8/site-packages/castle/algorithms/gradient/notears/torch/golem.py[line:221] - INFO: [Iter 35000] score=157.516, likelihood=151.220, h=5.5e-02\n",
      "2024-01-28 13:48:42,355 - /home/salabed/anaconda3/envs/rocksdb/lib/python3.8/site-packages/castle/algorithms/gradient/notears/torch/golem.py[line:221] - INFO: [Iter 40000] score=157.810, likelihood=151.137, h=1.2e-01\n",
      "2024-01-28 13:48:55,175 - /home/salabed/anaconda3/envs/rocksdb/lib/python3.8/site-packages/castle/algorithms/gradient/notears/torch/golem.py[line:221] - INFO: [Iter 45000] score=157.503, likelihood=151.126, h=5.4e-02\n",
      "2024-01-28 13:49:07,684 - /home/salabed/anaconda3/envs/rocksdb/lib/python3.8/site-packages/castle/algorithms/gradient/notears/torch/golem.py[line:221] - INFO: [Iter 50000] score=157.576, likelihood=151.157, h=6.4e-02\n",
      "2024-01-28 13:49:20,204 - /home/salabed/anaconda3/envs/rocksdb/lib/python3.8/site-packages/castle/algorithms/gradient/notears/torch/golem.py[line:221] - INFO: [Iter 55000] score=157.519, likelihood=151.146, h=5.3e-02\n",
      "2024-01-28 13:49:32,672 - /home/salabed/anaconda3/envs/rocksdb/lib/python3.8/site-packages/castle/algorithms/gradient/notears/torch/golem.py[line:221] - INFO: [Iter 60000] score=157.504, likelihood=151.120, h=5.3e-02\n",
      "2024-01-28 13:49:45,393 - /home/salabed/anaconda3/envs/rocksdb/lib/python3.8/site-packages/castle/algorithms/gradient/notears/torch/golem.py[line:221] - INFO: [Iter 65000] score=157.492, likelihood=151.089, h=5.5e-02\n",
      "2024-01-28 13:49:58,126 - /home/salabed/anaconda3/envs/rocksdb/lib/python3.8/site-packages/castle/algorithms/gradient/notears/torch/golem.py[line:221] - INFO: [Iter 70000] score=157.526, likelihood=151.110, h=5.9e-02\n",
      "2024-01-28 13:50:10,700 - /home/salabed/anaconda3/envs/rocksdb/lib/python3.8/site-packages/castle/algorithms/gradient/notears/torch/golem.py[line:221] - INFO: [Iter 75000] score=157.493, likelihood=151.094, h=5.5e-02\n",
      "2024-01-28 13:50:23,385 - /home/salabed/anaconda3/envs/rocksdb/lib/python3.8/site-packages/castle/algorithms/gradient/notears/torch/golem.py[line:221] - INFO: [Iter 80000] score=157.515, likelihood=151.126, h=5.4e-02\n",
      "2024-01-28 13:50:35,894 - /home/salabed/anaconda3/envs/rocksdb/lib/python3.8/site-packages/castle/algorithms/gradient/notears/torch/golem.py[line:221] - INFO: [Iter 85000] score=157.510, likelihood=151.095, h=5.7e-02\n",
      "2024-01-28 13:50:48,632 - /home/salabed/anaconda3/envs/rocksdb/lib/python3.8/site-packages/castle/algorithms/gradient/notears/torch/golem.py[line:221] - INFO: [Iter 90000] score=157.558, likelihood=151.095, h=6.7e-02\n",
      "2024-01-28 13:51:01,108 - /home/salabed/anaconda3/envs/rocksdb/lib/python3.8/site-packages/castle/algorithms/gradient/notears/torch/golem.py[line:221] - INFO: [Iter 95000] score=157.586, likelihood=151.090, h=7.3e-02\n",
      "2024-01-28 13:51:13,431 - /home/salabed/anaconda3/envs/rocksdb/lib/python3.8/site-packages/castle/algorithms/gradient/notears/torch/golem.py[line:221] - INFO: [Iter 100000] score=157.588, likelihood=151.120, h=7.0e-02\n",
      "2024-01-28 13:51:13,437 - /home/salabed/workspace/autorocks/autorocks/optimizer/bograph/dag_postprocessor.py[line:19] - WARNING: Hierarchical parameter detected: max_bytes_for_level_multiplier, max_background_compactions\n",
      "2024-01-28 13:51:13,437 - /home/salabed/workspace/autorocks/autorocks/optimizer/bograph/dag_postprocessor.py[line:19] - WARNING: Hierarchical parameter detected: max_bytes_for_level_multiplier, max_write_buffer_number\n",
      "2024-01-28 13:51:13,437 - /home/salabed/workspace/autorocks/autorocks/optimizer/bograph/dag_postprocessor.py[line:19] - WARNING: Hierarchical parameter detected: max_bytes_for_level_multiplier, level0_stop_writes_trigger\n",
      "2024-01-28 13:51:13,438 - /home/salabed/workspace/autorocks/autorocks/optimizer/bograph/dag_postprocessor.py[line:67] - INFO: Flipping the order of: ('iops', 'db_seek_micros.p95'), to ('db_seek_micros.p95', 'iops')\n",
      "2024-01-28 13:51:13,438 - /home/salabed/workspace/autorocks/autorocks/optimizer/bograph/dag_postprocessor.py[line:67] - INFO: Flipping the order of: ('iops', 'db_get_micros.p95'), to ('db_get_micros.p95', 'iops')\n",
      "2024-01-28 13:51:13,439 - /home/salabed/workspace/autorocks/autorocks/optimizer/bograph/dag_postprocessor.py[line:67] - INFO: Flipping the order of: ('iops', 'table_open_io_micros.p95'), to ('table_open_io_micros.p95', 'iops')\n",
      "2024-01-28 13:51:13,439 - /home/salabed/workspace/autorocks/autorocks/optimizer/bograph/dag_postprocessor.py[line:67] - INFO: Flipping the order of: ('iops', 'numfiles_in_singlecompaction.p95'), to ('numfiles_in_singlecompaction.p95', 'iops')\n",
      "2024-01-28 13:51:13,439 - /home/salabed/workspace/autorocks/autorocks/optimizer/bograph/dag_postprocessor.py[line:67] - INFO: Flipping the order of: ('iops', 'compaction.overall_compaction.cumulative_compaction.time_sec'), to ('compaction.overall_compaction.cumulative_compaction.time_sec', 'iops')\n",
      "2024-01-28 13:51:13,440 - /home/salabed/workspace/autorocks/autorocks/optimizer/bograph/dag_postprocessor.py[line:67] - INFO: Flipping the order of: ('iops', 'latency'), to ('latency', 'iops')\n",
      "2024-01-28 13:51:13,440 - /home/salabed/workspace/autorocks/autorocks/optimizer/bograph/dag_postprocessor.py[line:67] - INFO: Flipping the order of: ('iops', 'io_size'), to ('io_size', 'iops')\n"
     ]
    },
    {
     "name": "stdout",
     "output_type": "stream",
     "text": [
      "Done\n",
      "Manually connecting param:  {'max_background_compactions', 'max_write_buffer_number', 'level0_stop_writes_trigger'}\n",
      "group={'max_bytes_for_level_multiplier', 'level0_stop_writes_trigger', 'max_write_buffer_number', 'max_background_compactions', 'write_buffer_size'}\n",
      "group={'read_block_get_micros.p95', 'bytes_decompressed.p95', 'sst_read_micros.p95', 'level0_slowdown_writes_trigger', 'max_background_flushes'}\n",
      "group={'db_write_micros.p95', 'compaction.overall_compaction.cumulative_compaction.write_throughput', 'compaction_times_micros.p95', 'block_size', 'compaction.overall_compaction.cumulative_compaction.read_throughput', 'bytes_compressed.p95', 'db_seek_micros.p95', 'io_size', 'latency', 'min_write_buffer_number_to_merge'}\n",
      "group={'compaction.overall_compaction.cumulative_compaction.write_throughput', 'compaction_times_micros.p95', 'block_size', 'compaction_outfile_sync_micros.p95', 'compaction.overall_compaction.cumulative_compaction.read_throughput', 'compaction_times_cpu_micros.avg', 'bytes_compressed.p95', 'level0_file_num_compaction_trigger'}\n",
      "group={'compaction_times_cpu_micros.avg', 'read_block_get_micros.p95', 'level0_file_num_compaction_trigger', 'level0_slowdown_writes_trigger', 'compaction_outfile_sync_micros.p95'}\n",
      "group={'db_write_micros.p95', 'compaction_outfile_sync_micros.p95', 'compaction_times_cpu_micros.avg', 'db_seek_micros.p95', 'io_size', 'level0_file_num_compaction_trigger', 'latency', 'min_write_buffer_number_to_merge'}\n",
      "group={'bytes_compressed.p95', 'read_block_get_micros.p95', 'compaction.overall_compaction.cumulative_compaction.write_throughput', 'compaction_times_micros.p95', 'compaction.overall_compaction.cumulative_compaction.read_throughput', 'level0_slowdown_writes_trigger', 'block_size'}\n"
     ]
    },
    {
     "name": "stderr",
     "output_type": "stream",
     "text": [
      "2024-01-28 13:51:13,649 - /home/salabed/anaconda3/envs/rocksdb/lib/python3.8/site-packages/castle/algorithms/gradient/notears/torch/golem.py[line:120] - INFO: GPU is available.\n",
      "2024-01-28 13:51:13,652 - /home/salabed/anaconda3/envs/rocksdb/lib/python3.8/site-packages/castle/algorithms/gradient/notears/torch/golem.py[line:207] - INFO: Started training for 100000 iterations.\n",
      "2024-01-28 13:51:13,654 - /home/salabed/anaconda3/envs/rocksdb/lib/python3.8/site-packages/castle/algorithms/gradient/notears/torch/golem.py[line:221] - INFO: [Iter 0] score=73.670, likelihood=73.670, h=0.0e+00\n",
      "2024-01-28 13:51:23,624 - /home/salabed/anaconda3/envs/rocksdb/lib/python3.8/site-packages/castle/algorithms/gradient/notears/torch/golem.py[line:221] - INFO: [Iter 5000] score=66.953, likelihood=65.037, h=5.2e-02\n",
      "2024-01-28 13:51:33,862 - /home/salabed/anaconda3/envs/rocksdb/lib/python3.8/site-packages/castle/algorithms/gradient/notears/torch/golem.py[line:221] - INFO: [Iter 10000] score=66.516, likelihood=64.214, h=4.7e-02\n",
      "2024-01-28 13:51:44,204 - /home/salabed/anaconda3/envs/rocksdb/lib/python3.8/site-packages/castle/algorithms/gradient/notears/torch/golem.py[line:221] - INFO: [Iter 15000] score=66.401, likelihood=63.793, h=4.6e-02\n",
      "2024-01-28 13:51:54,536 - /home/salabed/anaconda3/envs/rocksdb/lib/python3.8/site-packages/castle/algorithms/gradient/notears/torch/golem.py[line:221] - INFO: [Iter 20000] score=66.399, likelihood=63.730, h=4.7e-02\n",
      "2024-01-28 13:52:04,689 - /home/salabed/anaconda3/envs/rocksdb/lib/python3.8/site-packages/castle/algorithms/gradient/notears/torch/golem.py[line:221] - INFO: [Iter 25000] score=66.399, likelihood=63.731, h=4.7e-02\n",
      "2024-01-28 13:52:15,018 - /home/salabed/anaconda3/envs/rocksdb/lib/python3.8/site-packages/castle/algorithms/gradient/notears/torch/golem.py[line:221] - INFO: [Iter 30000] score=66.399, likelihood=63.730, h=4.7e-02\n",
      "2024-01-28 13:52:25,468 - /home/salabed/anaconda3/envs/rocksdb/lib/python3.8/site-packages/castle/algorithms/gradient/notears/torch/golem.py[line:221] - INFO: [Iter 35000] score=66.399, likelihood=63.730, h=4.7e-02\n",
      "2024-01-28 13:52:35,888 - /home/salabed/anaconda3/envs/rocksdb/lib/python3.8/site-packages/castle/algorithms/gradient/notears/torch/golem.py[line:221] - INFO: [Iter 40000] score=66.399, likelihood=63.730, h=4.7e-02\n",
      "2024-01-28 13:52:46,360 - /home/salabed/anaconda3/envs/rocksdb/lib/python3.8/site-packages/castle/algorithms/gradient/notears/torch/golem.py[line:221] - INFO: [Iter 45000] score=66.399, likelihood=63.730, h=4.7e-02\n",
      "2024-01-28 13:52:56,747 - /home/salabed/anaconda3/envs/rocksdb/lib/python3.8/site-packages/castle/algorithms/gradient/notears/torch/golem.py[line:221] - INFO: [Iter 50000] score=66.399, likelihood=63.731, h=4.7e-02\n",
      "2024-01-28 13:53:11,481 - /home/salabed/anaconda3/envs/rocksdb/lib/python3.8/site-packages/castle/algorithms/gradient/notears/torch/golem.py[line:221] - INFO: [Iter 55000] score=66.399, likelihood=63.730, h=4.7e-02\n",
      "2024-01-28 13:53:22,894 - /home/salabed/anaconda3/envs/rocksdb/lib/python3.8/site-packages/castle/algorithms/gradient/notears/torch/golem.py[line:221] - INFO: [Iter 60000] score=66.399, likelihood=63.730, h=4.7e-02\n",
      "2024-01-28 13:53:34,280 - /home/salabed/anaconda3/envs/rocksdb/lib/python3.8/site-packages/castle/algorithms/gradient/notears/torch/golem.py[line:221] - INFO: [Iter 65000] score=66.399, likelihood=63.730, h=4.7e-02\n",
      "2024-01-28 13:53:45,329 - /home/salabed/anaconda3/envs/rocksdb/lib/python3.8/site-packages/castle/algorithms/gradient/notears/torch/golem.py[line:221] - INFO: [Iter 70000] score=66.399, likelihood=63.730, h=4.7e-02\n",
      "2024-01-28 13:53:57,016 - /home/salabed/anaconda3/envs/rocksdb/lib/python3.8/site-packages/castle/algorithms/gradient/notears/torch/golem.py[line:221] - INFO: [Iter 75000] score=66.399, likelihood=63.730, h=4.7e-02\n",
      "2024-01-28 13:54:08,536 - /home/salabed/anaconda3/envs/rocksdb/lib/python3.8/site-packages/castle/algorithms/gradient/notears/torch/golem.py[line:221] - INFO: [Iter 80000] score=66.399, likelihood=63.730, h=4.7e-02\n",
      "2024-01-28 13:54:20,023 - /home/salabed/anaconda3/envs/rocksdb/lib/python3.8/site-packages/castle/algorithms/gradient/notears/torch/golem.py[line:221] - INFO: [Iter 85000] score=66.399, likelihood=63.730, h=4.7e-02\n",
      "2024-01-28 13:54:31,473 - /home/salabed/anaconda3/envs/rocksdb/lib/python3.8/site-packages/castle/algorithms/gradient/notears/torch/golem.py[line:221] - INFO: [Iter 90000] score=66.399, likelihood=63.730, h=4.7e-02\n",
      "2024-01-28 13:54:43,002 - /home/salabed/anaconda3/envs/rocksdb/lib/python3.8/site-packages/castle/algorithms/gradient/notears/torch/golem.py[line:221] - INFO: [Iter 95000] score=66.399, likelihood=63.730, h=4.7e-02\n",
      "2024-01-28 13:54:54,273 - /home/salabed/anaconda3/envs/rocksdb/lib/python3.8/site-packages/castle/algorithms/gradient/notears/torch/golem.py[line:221] - INFO: [Iter 100000] score=66.399, likelihood=63.730, h=4.7e-02\n",
      "2024-01-28 13:54:54,276 - /home/salabed/workspace/autorocks/autorocks/optimizer/bograph/dag_postprocessor.py[line:19] - WARNING: Hierarchical parameter detected: write_buffer_size, max_write_buffer_number\n",
      "2024-01-28 13:54:54,276 - /home/salabed/workspace/autorocks/autorocks/optimizer/bograph/dag_postprocessor.py[line:19] - WARNING: Hierarchical parameter detected: min_write_buffer_number_to_merge, write_buffer_size\n",
      "2024-01-28 13:54:54,277 - /home/salabed/workspace/autorocks/autorocks/optimizer/bograph/dag_postprocessor.py[line:19] - WARNING: Hierarchical parameter detected: max_bytes_for_level_multiplier, level0_file_num_compaction_trigger\n",
      "2024-01-28 13:54:54,277 - /home/salabed/workspace/autorocks/autorocks/optimizer/bograph/dag_postprocessor.py[line:19] - WARNING: Hierarchical parameter detected: block_size, level0_stop_writes_trigger\n",
      "2024-01-28 13:54:54,277 - /home/salabed/workspace/autorocks/autorocks/optimizer/bograph/dag_postprocessor.py[line:19] - WARNING: Hierarchical parameter detected: level0_slowdown_writes_trigger, max_background_flushes\n",
      "2024-01-28 13:54:54,278 - /home/salabed/workspace/autorocks/autorocks/optimizer/bograph/dag_postprocessor.py[line:67] - INFO: Flipping the order of: ('iops', 'io_size'), to ('io_size', 'iops')\n"
     ]
    },
    {
     "name": "stdout",
     "output_type": "stream",
     "text": [
      "Done\n",
      "Manually connecting param:  {'min_write_buffer_number_to_merge'}\n",
      "group={'level0_file_num_compaction_trigger', 'max_bytes_for_level_multiplier', 'min_write_buffer_number_to_merge', 'write_buffer_size'}\n",
      "group={'compaction.overall_compaction.cumulative_compaction.write_size_mb', 'level0_stop_writes_trigger', 'block_size', 'level0_slowdown_writes_trigger', 'max_background_flushes', 'max_background_compactions'}\n",
      "group={'max_write_buffer_number', 'io_size'}\n"
     ]
    },
    {
     "name": "stderr",
     "output_type": "stream",
     "text": [
      "2024-01-28 13:54:54,483 - /home/salabed/anaconda3/envs/rocksdb/lib/python3.8/site-packages/castle/algorithms/gradient/notears/torch/golem.py[line:120] - INFO: GPU is available.\n",
      "2024-01-28 13:54:54,486 - /home/salabed/anaconda3/envs/rocksdb/lib/python3.8/site-packages/castle/algorithms/gradient/notears/torch/golem.py[line:207] - INFO: Started training for 100000 iterations.\n",
      "2024-01-28 13:54:54,489 - /home/salabed/anaconda3/envs/rocksdb/lib/python3.8/site-packages/castle/algorithms/gradient/notears/torch/golem.py[line:221] - INFO: [Iter 0] score=99.547, likelihood=99.547, h=0.0e+00\n",
      "2024-01-28 13:55:06,264 - /home/salabed/anaconda3/envs/rocksdb/lib/python3.8/site-packages/castle/algorithms/gradient/notears/torch/golem.py[line:221] - INFO: [Iter 5000] score=87.578, likelihood=85.052, h=5.1e-02\n",
      "2024-01-28 13:55:18,567 - /home/salabed/anaconda3/envs/rocksdb/lib/python3.8/site-packages/castle/algorithms/gradient/notears/torch/golem.py[line:221] - INFO: [Iter 10000] score=86.544, likelihood=83.200, h=5.7e-02\n",
      "2024-01-28 13:55:31,162 - /home/salabed/anaconda3/envs/rocksdb/lib/python3.8/site-packages/castle/algorithms/gradient/notears/torch/golem.py[line:221] - INFO: [Iter 15000] score=86.114, likelihood=82.096, h=6.1e-02\n",
      "2024-01-28 13:55:43,719 - /home/salabed/anaconda3/envs/rocksdb/lib/python3.8/site-packages/castle/algorithms/gradient/notears/torch/golem.py[line:221] - INFO: [Iter 20000] score=86.020, likelihood=81.872, h=5.8e-02\n",
      "2024-01-28 13:55:56,426 - /home/salabed/anaconda3/envs/rocksdb/lib/python3.8/site-packages/castle/algorithms/gradient/notears/torch/golem.py[line:221] - INFO: [Iter 25000] score=85.998, likelihood=81.873, h=5.7e-02\n",
      "2024-01-28 13:56:09,054 - /home/salabed/anaconda3/envs/rocksdb/lib/python3.8/site-packages/castle/algorithms/gradient/notears/torch/golem.py[line:221] - INFO: [Iter 30000] score=85.852, likelihood=81.681, h=5.9e-02\n",
      "2024-01-28 13:56:21,746 - /home/salabed/anaconda3/envs/rocksdb/lib/python3.8/site-packages/castle/algorithms/gradient/notears/torch/golem.py[line:221] - INFO: [Iter 35000] score=85.819, likelihood=81.683, h=5.2e-02\n",
      "2024-01-28 13:56:34,479 - /home/salabed/anaconda3/envs/rocksdb/lib/python3.8/site-packages/castle/algorithms/gradient/notears/torch/golem.py[line:221] - INFO: [Iter 40000] score=85.863, likelihood=81.676, h=6.1e-02\n",
      "2024-01-28 13:56:47,160 - /home/salabed/anaconda3/envs/rocksdb/lib/python3.8/site-packages/castle/algorithms/gradient/notears/torch/golem.py[line:221] - INFO: [Iter 45000] score=85.828, likelihood=81.676, h=5.4e-02\n",
      "2024-01-28 13:56:59,740 - /home/salabed/anaconda3/envs/rocksdb/lib/python3.8/site-packages/castle/algorithms/gradient/notears/torch/golem.py[line:221] - INFO: [Iter 50000] score=85.842, likelihood=81.693, h=5.6e-02\n",
      "2024-01-28 13:57:11,978 - /home/salabed/anaconda3/envs/rocksdb/lib/python3.8/site-packages/castle/algorithms/gradient/notears/torch/golem.py[line:221] - INFO: [Iter 55000] score=85.819, likelihood=81.675, h=5.3e-02\n",
      "2024-01-28 13:57:24,387 - /home/salabed/anaconda3/envs/rocksdb/lib/python3.8/site-packages/castle/algorithms/gradient/notears/torch/golem.py[line:221] - INFO: [Iter 60000] score=85.842, likelihood=81.683, h=5.7e-02\n",
      "2024-01-28 13:57:37,068 - /home/salabed/anaconda3/envs/rocksdb/lib/python3.8/site-packages/castle/algorithms/gradient/notears/torch/golem.py[line:221] - INFO: [Iter 65000] score=85.823, likelihood=81.681, h=5.3e-02\n",
      "2024-01-28 13:57:49,467 - /home/salabed/anaconda3/envs/rocksdb/lib/python3.8/site-packages/castle/algorithms/gradient/notears/torch/golem.py[line:221] - INFO: [Iter 70000] score=85.819, likelihood=81.685, h=5.2e-02\n",
      "2024-01-28 13:58:02,040 - /home/salabed/anaconda3/envs/rocksdb/lib/python3.8/site-packages/castle/algorithms/gradient/notears/torch/golem.py[line:221] - INFO: [Iter 75000] score=85.889, likelihood=81.678, h=6.6e-02\n",
      "2024-01-28 13:58:14,762 - /home/salabed/anaconda3/envs/rocksdb/lib/python3.8/site-packages/castle/algorithms/gradient/notears/torch/golem.py[line:221] - INFO: [Iter 80000] score=85.827, likelihood=81.681, h=5.4e-02\n",
      "2024-01-28 13:58:27,141 - /home/salabed/anaconda3/envs/rocksdb/lib/python3.8/site-packages/castle/algorithms/gradient/notears/torch/golem.py[line:221] - INFO: [Iter 85000] score=86.270, likelihood=81.678, h=1.4e-01\n",
      "2024-01-28 13:58:39,674 - /home/salabed/anaconda3/envs/rocksdb/lib/python3.8/site-packages/castle/algorithms/gradient/notears/torch/golem.py[line:221] - INFO: [Iter 90000] score=85.826, likelihood=81.677, h=5.4e-02\n",
      "2024-01-28 13:58:52,362 - /home/salabed/anaconda3/envs/rocksdb/lib/python3.8/site-packages/castle/algorithms/gradient/notears/torch/golem.py[line:221] - INFO: [Iter 95000] score=85.817, likelihood=81.675, h=5.2e-02\n",
      "2024-01-28 13:59:04,985 - /home/salabed/anaconda3/envs/rocksdb/lib/python3.8/site-packages/castle/algorithms/gradient/notears/torch/golem.py[line:221] - INFO: [Iter 100000] score=85.827, likelihood=81.678, h=5.4e-02\n",
      "2024-01-28 13:59:04,989 - /home/salabed/workspace/autorocks/autorocks/optimizer/bograph/dag_postprocessor.py[line:19] - WARNING: Hierarchical parameter detected: max_background_compactions, max_bytes_for_level_multiplier\n",
      "2024-01-28 13:59:04,989 - /home/salabed/workspace/autorocks/autorocks/optimizer/bograph/dag_postprocessor.py[line:19] - WARNING: Hierarchical parameter detected: write_buffer_size, max_write_buffer_number\n",
      "2024-01-28 13:59:04,990 - /home/salabed/workspace/autorocks/autorocks/optimizer/bograph/dag_postprocessor.py[line:19] - WARNING: Hierarchical parameter detected: max_write_buffer_number, level0_stop_writes_trigger\n",
      "2024-01-28 13:59:04,990 - /home/salabed/workspace/autorocks/autorocks/optimizer/bograph/dag_postprocessor.py[line:19] - WARNING: Hierarchical parameter detected: level0_file_num_compaction_trigger, max_background_flushes\n",
      "2024-01-28 13:59:04,991 - /home/salabed/workspace/autorocks/autorocks/optimizer/bograph/dag_postprocessor.py[line:19] - WARNING: Hierarchical parameter detected: level0_file_num_compaction_trigger, level0_slowdown_writes_trigger\n"
     ]
    },
    {
     "name": "stdout",
     "output_type": "stream",
     "text": [
      "Done\n",
      "Manually connecting param:  {'level0_file_num_compaction_trigger', 'max_background_flushes'}\n",
      "group={'level0_file_num_compaction_trigger', 'max_bytes_for_level_multiplier', 'max_background_flushes', 'max_background_compactions'}\n",
      "group={'level0_stop_writes_trigger', 'compaction.overall_compaction.cumulative_compaction.write_throughput', 'compaction.overall_compaction.cumulative_compaction.read_throughput', 'block_size', 'compaction.overall_compaction.cumulative_compaction.read_size_mb', 'compaction.overall_compaction.cumulative_compaction.write_size_mb', 'min_write_buffer_number_to_merge'}\n",
      "group={'max_write_buffer_number', 'level0_slowdown_writes_trigger', 'io_size'}\n",
      "group={'level0_stop_writes_trigger', 'compaction.overall_compaction.cumulative_compaction.write_throughput', 'max_write_buffer_number', 'io_size', 'level0_slowdown_writes_trigger'}\n",
      "group={'max_write_buffer_number', 'compaction_times_cpu_micros.avg', 'io_size', 'level0_slowdown_writes_trigger', 'write_buffer_size'}\n",
      "group={'compaction_times_cpu_micros.avg', 'io_size', 'level0_stop_writes_trigger', 'compaction.overall_compaction.cumulative_compaction.write_throughput', 'write_buffer_size'}\n",
      "group={'compaction.overall_compaction.cumulative_compaction.write_throughput', 'compaction.overall_compaction.cumulative_compaction.read_size_mb', 'min_write_buffer_number_to_merge', 'level0_stop_writes_trigger'}\n",
      "group={'compaction.overall_compaction.cumulative_compaction.write_throughput', 'max_write_buffer_number', 'compaction.overall_compaction.cumulative_compaction.read_throughput', 'block_size', 'compaction.overall_compaction.cumulative_compaction.read_size_mb', 'compaction.overall_compaction.cumulative_compaction.write_size_mb', 'io_size', 'level0_slowdown_writes_trigger'}\n"
     ]
    },
    {
     "name": "stderr",
     "output_type": "stream",
     "text": [
      "2024-01-28 13:59:05,193 - /home/salabed/anaconda3/envs/rocksdb/lib/python3.8/site-packages/castle/algorithms/gradient/notears/torch/golem.py[line:120] - INFO: GPU is available.\n",
      "2024-01-28 13:59:05,196 - /home/salabed/anaconda3/envs/rocksdb/lib/python3.8/site-packages/castle/algorithms/gradient/notears/torch/golem.py[line:207] - INFO: Started training for 100000 iterations.\n",
      "2024-01-28 13:59:05,199 - /home/salabed/anaconda3/envs/rocksdb/lib/python3.8/site-packages/castle/algorithms/gradient/notears/torch/golem.py[line:221] - INFO: [Iter 0] score=126.025, likelihood=126.025, h=0.0e+00\n",
      "2024-01-28 13:59:17,405 - /home/salabed/anaconda3/envs/rocksdb/lib/python3.8/site-packages/castle/algorithms/gradient/notears/torch/golem.py[line:221] - INFO: [Iter 5000] score=111.083, likelihood=108.177, h=5.2e-02\n",
      "2024-01-28 13:59:30,294 - /home/salabed/anaconda3/envs/rocksdb/lib/python3.8/site-packages/castle/algorithms/gradient/notears/torch/golem.py[line:221] - INFO: [Iter 10000] score=110.119, likelihood=106.452, h=4.8e-02\n",
      "2024-01-28 13:59:43,223 - /home/salabed/anaconda3/envs/rocksdb/lib/python3.8/site-packages/castle/algorithms/gradient/notears/torch/golem.py[line:221] - INFO: [Iter 15000] score=109.831, likelihood=105.774, h=4.5e-02\n",
      "2024-01-28 13:59:56,439 - /home/salabed/anaconda3/envs/rocksdb/lib/python3.8/site-packages/castle/algorithms/gradient/notears/torch/golem.py[line:221] - INFO: [Iter 20000] score=109.755, likelihood=105.453, h=4.6e-02\n",
      "2024-01-28 14:00:09,511 - /home/salabed/anaconda3/envs/rocksdb/lib/python3.8/site-packages/castle/algorithms/gradient/notears/torch/golem.py[line:221] - INFO: [Iter 25000] score=109.751, likelihood=105.378, h=4.7e-02\n",
      "2024-01-28 14:00:22,512 - /home/salabed/anaconda3/envs/rocksdb/lib/python3.8/site-packages/castle/algorithms/gradient/notears/torch/golem.py[line:221] - INFO: [Iter 30000] score=109.752, likelihood=105.377, h=4.7e-02\n",
      "2024-01-28 14:00:35,712 - /home/salabed/anaconda3/envs/rocksdb/lib/python3.8/site-packages/castle/algorithms/gradient/notears/torch/golem.py[line:221] - INFO: [Iter 35000] score=109.752, likelihood=105.378, h=4.7e-02\n",
      "2024-01-28 14:00:48,980 - /home/salabed/anaconda3/envs/rocksdb/lib/python3.8/site-packages/castle/algorithms/gradient/notears/torch/golem.py[line:221] - INFO: [Iter 40000] score=109.752, likelihood=105.377, h=4.7e-02\n",
      "2024-01-28 14:01:02,143 - /home/salabed/anaconda3/envs/rocksdb/lib/python3.8/site-packages/castle/algorithms/gradient/notears/torch/golem.py[line:221] - INFO: [Iter 45000] score=109.752, likelihood=105.377, h=4.7e-02\n",
      "2024-01-28 14:01:15,335 - /home/salabed/anaconda3/envs/rocksdb/lib/python3.8/site-packages/castle/algorithms/gradient/notears/torch/golem.py[line:221] - INFO: [Iter 50000] score=109.751, likelihood=105.377, h=4.7e-02\n",
      "2024-01-28 14:01:28,425 - /home/salabed/anaconda3/envs/rocksdb/lib/python3.8/site-packages/castle/algorithms/gradient/notears/torch/golem.py[line:221] - INFO: [Iter 55000] score=109.752, likelihood=105.378, h=4.7e-02\n",
      "2024-01-28 14:01:41,476 - /home/salabed/anaconda3/envs/rocksdb/lib/python3.8/site-packages/castle/algorithms/gradient/notears/torch/golem.py[line:221] - INFO: [Iter 60000] score=109.752, likelihood=105.379, h=4.7e-02\n",
      "2024-01-28 14:01:54,696 - /home/salabed/anaconda3/envs/rocksdb/lib/python3.8/site-packages/castle/algorithms/gradient/notears/torch/golem.py[line:221] - INFO: [Iter 65000] score=109.751, likelihood=105.377, h=4.7e-02\n",
      "2024-01-28 14:02:07,817 - /home/salabed/anaconda3/envs/rocksdb/lib/python3.8/site-packages/castle/algorithms/gradient/notears/torch/golem.py[line:221] - INFO: [Iter 70000] score=109.752, likelihood=105.377, h=4.7e-02\n",
      "2024-01-28 14:02:20,879 - /home/salabed/anaconda3/envs/rocksdb/lib/python3.8/site-packages/castle/algorithms/gradient/notears/torch/golem.py[line:221] - INFO: [Iter 75000] score=109.751, likelihood=105.377, h=4.7e-02\n",
      "2024-01-28 14:02:34,038 - /home/salabed/anaconda3/envs/rocksdb/lib/python3.8/site-packages/castle/algorithms/gradient/notears/torch/golem.py[line:221] - INFO: [Iter 80000] score=109.751, likelihood=105.378, h=4.7e-02\n",
      "2024-01-28 14:02:47,273 - /home/salabed/anaconda3/envs/rocksdb/lib/python3.8/site-packages/castle/algorithms/gradient/notears/torch/golem.py[line:221] - INFO: [Iter 85000] score=109.752, likelihood=105.378, h=4.7e-02\n",
      "2024-01-28 14:03:00,445 - /home/salabed/anaconda3/envs/rocksdb/lib/python3.8/site-packages/castle/algorithms/gradient/notears/torch/golem.py[line:221] - INFO: [Iter 90000] score=109.751, likelihood=105.378, h=4.7e-02\n",
      "2024-01-28 14:03:13,632 - /home/salabed/anaconda3/envs/rocksdb/lib/python3.8/site-packages/castle/algorithms/gradient/notears/torch/golem.py[line:221] - INFO: [Iter 95000] score=109.751, likelihood=105.377, h=4.7e-02\n",
      "2024-01-28 14:03:26,574 - /home/salabed/anaconda3/envs/rocksdb/lib/python3.8/site-packages/castle/algorithms/gradient/notears/torch/golem.py[line:221] - INFO: [Iter 100000] score=109.751, likelihood=105.377, h=4.7e-02\n",
      "2024-01-28 14:03:26,578 - /home/salabed/workspace/autorocks/autorocks/optimizer/bograph/dag_postprocessor.py[line:19] - WARNING: Hierarchical parameter detected: write_buffer_size, max_write_buffer_number\n",
      "2024-01-28 14:03:26,579 - /home/salabed/workspace/autorocks/autorocks/optimizer/bograph/dag_postprocessor.py[line:19] - WARNING: Hierarchical parameter detected: write_buffer_size, min_write_buffer_number_to_merge\n",
      "2024-01-28 14:03:26,579 - /home/salabed/workspace/autorocks/autorocks/optimizer/bograph/dag_postprocessor.py[line:19] - WARNING: Hierarchical parameter detected: max_write_buffer_number, level0_file_num_compaction_trigger\n",
      "2024-01-28 14:03:26,580 - /home/salabed/workspace/autorocks/autorocks/optimizer/bograph/dag_postprocessor.py[line:19] - WARNING: Hierarchical parameter detected: min_write_buffer_number_to_merge, max_write_buffer_number\n",
      "2024-01-28 14:03:26,580 - /home/salabed/workspace/autorocks/autorocks/optimizer/bograph/dag_postprocessor.py[line:19] - WARNING: Hierarchical parameter detected: level0_file_num_compaction_trigger, max_background_flushes\n",
      "2024-01-28 14:03:26,580 - /home/salabed/workspace/autorocks/autorocks/optimizer/bograph/dag_postprocessor.py[line:19] - WARNING: Hierarchical parameter detected: level0_file_num_compaction_trigger, level0_slowdown_writes_trigger\n",
      "2024-01-28 14:03:26,581 - /home/salabed/workspace/autorocks/autorocks/optimizer/bograph/dag_postprocessor.py[line:19] - WARNING: Hierarchical parameter detected: level0_stop_writes_trigger, max_background_compactions\n",
      "2024-01-28 14:03:26,581 - /home/salabed/workspace/autorocks/autorocks/optimizer/bograph/dag_postprocessor.py[line:67] - INFO: Flipping the order of: ('iops', 'compaction_outfile_sync_micros.p95'), to ('compaction_outfile_sync_micros.p95', 'iops')\n"
     ]
    },
    {
     "name": "stdout",
     "output_type": "stream",
     "text": [
      "Done\n",
      "Manually connecting param:  {'level0_file_num_compaction_trigger', 'level0_slowdown_writes_trigger', 'max_background_flushes'}\n",
      "group={'level0_file_num_compaction_trigger', 'max_bytes_for_level_multiplier', 'level0_slowdown_writes_trigger', 'max_background_flushes'}\n",
      "group={'compaction_times_micros.p95', 'block_size', 'compaction.overall_compaction.cumulative_compaction.read_size_mb', 'compaction.overall_compaction.cumulative_compaction.write_size_mb', 'compaction.overall_compaction.cumulative_compaction.time_sec', 'latency', 'write_raw_block_micros.p95', 'write_buffer_size'}\n",
      "group={'db_write_micros.p95', 'compaction_times_micros.p95', 'block_size', 'compaction.overall_compaction.cumulative_compaction.read_size_mb', 'compaction.overall_compaction.cumulative_compaction.write_size_mb', 'compaction.overall_compaction.cumulative_compaction.time_sec', 'latency', 'min_write_buffer_number_to_merge', 'write_raw_block_micros.p95'}\n",
      "group={'level0_stop_writes_trigger', 'max_background_compactions', 'block_size', 'compaction.overall_compaction.cumulative_compaction.read_size_mb', 'compaction.overall_compaction.cumulative_compaction.write_size_mb', 'compaction.overall_compaction.cumulative_compaction.time_sec', 'write_raw_block_micros.p95'}\n",
      "group={'compaction.overall_compaction.cumulative_compaction.read_size_mb', 'compaction.overall_compaction.cumulative_compaction.write_size_mb', 'level0_stop_writes_trigger', 'write_raw_block_micros.p95', 'max_background_compactions'}\n",
      "group={'compaction.overall_compaction.cumulative_compaction.read_size_mb', 'compaction.overall_compaction.cumulative_compaction.write_size_mb', 'compaction_times_micros.p95', 'max_write_buffer_number', 'max_background_compactions'}\n",
      "group={'compaction.overall_compaction.cumulative_compaction.write_size_mb', 'compaction_times_micros.p95', 'level0_stop_writes_trigger', 'max_write_buffer_number', 'write_raw_block_micros.p95'}\n",
      "group={'compaction.overall_compaction.cumulative_compaction.write_size_mb', 'compaction_times_micros.p95', 'max_write_buffer_number', 'latency', 'write_buffer_size'}\n",
      "group={'db_write_micros.p95', 'compaction_times_micros.p95', 'max_write_buffer_number', 'latency', 'min_write_buffer_number_to_merge'}\n",
      "group={'compaction.overall_compaction.cumulative_compaction.read_size_mb', 'compaction.overall_compaction.cumulative_compaction.write_size_mb', 'compaction_times_micros.p95', 'latency', 'write_buffer_size', 'max_background_compactions'}\n",
      "group={'db_write_micros.p95', 'compaction.overall_compaction.cumulative_compaction.read_size_mb', 'compaction.overall_compaction.cumulative_compaction.write_size_mb', 'compaction_times_micros.p95', 'latency', 'min_write_buffer_number_to_merge', 'max_background_compactions'}\n",
      "group={'compaction.overall_compaction.cumulative_compaction.write_size_mb', 'level0_stop_writes_trigger', 'compaction_times_micros.p95', 'latency', 'write_raw_block_micros.p95', 'write_buffer_size'}\n",
      "group={'db_write_micros.p95', 'compaction.overall_compaction.cumulative_compaction.write_size_mb', 'level0_stop_writes_trigger', 'compaction_times_micros.p95', 'latency', 'min_write_buffer_number_to_merge', 'write_raw_block_micros.p95'}\n",
      "group={'compaction.overall_compaction.cumulative_compaction.read_size_mb', 'compaction.overall_compaction.cumulative_compaction.write_size_mb', 'compaction.overall_compaction.cumulative_compaction.time_sec', 'compaction_times_micros.p95', 'max_write_buffer_number', 'write_raw_block_micros.p95', 'block_size'}\n",
      "group={'db_write_micros.p95', 'compaction.overall_compaction.cumulative_compaction.write_size_mb', 'compaction_times_micros.p95', 'latency', 'min_write_buffer_number_to_merge', 'write_buffer_size'}\n"
     ]
    },
    {
     "name": "stderr",
     "output_type": "stream",
     "text": [
      "2024-01-28 14:03:26,829 - /home/salabed/anaconda3/envs/rocksdb/lib/python3.8/site-packages/castle/algorithms/gradient/notears/torch/golem.py[line:120] - INFO: GPU is available.\n",
      "2024-01-28 14:03:26,832 - /home/salabed/anaconda3/envs/rocksdb/lib/python3.8/site-packages/castle/algorithms/gradient/notears/torch/golem.py[line:207] - INFO: Started training for 100000 iterations.\n",
      "2024-01-28 14:03:26,844 - /home/salabed/anaconda3/envs/rocksdb/lib/python3.8/site-packages/castle/algorithms/gradient/notears/torch/golem.py[line:221] - INFO: [Iter 0] score=160.313, likelihood=160.313, h=0.0e+00\n",
      "2024-01-28 14:03:39,016 - /home/salabed/anaconda3/envs/rocksdb/lib/python3.8/site-packages/castle/algorithms/gradient/notears/torch/golem.py[line:221] - INFO: [Iter 5000] score=147.078, likelihood=144.048, h=4.5e-02\n",
      "2024-01-28 14:03:51,591 - /home/salabed/anaconda3/envs/rocksdb/lib/python3.8/site-packages/castle/algorithms/gradient/notears/torch/golem.py[line:221] - INFO: [Iter 10000] score=146.208, likelihood=143.123, h=4.1e-02\n",
      "2024-01-28 14:04:04,287 - /home/salabed/anaconda3/envs/rocksdb/lib/python3.8/site-packages/castle/algorithms/gradient/notears/torch/golem.py[line:221] - INFO: [Iter 15000] score=146.071, likelihood=142.657, h=4.0e-02\n",
      "2024-01-28 14:04:17,349 - /home/salabed/anaconda3/envs/rocksdb/lib/python3.8/site-packages/castle/algorithms/gradient/notears/torch/golem.py[line:221] - INFO: [Iter 20000] score=145.866, likelihood=142.483, h=4.1e-02\n",
      "2024-01-28 14:04:30,560 - /home/salabed/anaconda3/envs/rocksdb/lib/python3.8/site-packages/castle/algorithms/gradient/notears/torch/golem.py[line:221] - INFO: [Iter 25000] score=145.748, likelihood=142.181, h=4.1e-02\n",
      "2024-01-28 14:04:43,800 - /home/salabed/anaconda3/envs/rocksdb/lib/python3.8/site-packages/castle/algorithms/gradient/notears/torch/golem.py[line:221] - INFO: [Iter 30000] score=145.747, likelihood=142.129, h=4.1e-02\n",
      "2024-01-28 14:04:56,937 - /home/salabed/anaconda3/envs/rocksdb/lib/python3.8/site-packages/castle/algorithms/gradient/notears/torch/golem.py[line:221] - INFO: [Iter 35000] score=145.747, likelihood=142.129, h=4.1e-02\n",
      "2024-01-28 14:05:10,124 - /home/salabed/anaconda3/envs/rocksdb/lib/python3.8/site-packages/castle/algorithms/gradient/notears/torch/golem.py[line:221] - INFO: [Iter 40000] score=145.747, likelihood=142.129, h=4.1e-02\n",
      "2024-01-28 14:05:23,295 - /home/salabed/anaconda3/envs/rocksdb/lib/python3.8/site-packages/castle/algorithms/gradient/notears/torch/golem.py[line:221] - INFO: [Iter 45000] score=145.747, likelihood=142.129, h=4.1e-02\n",
      "2024-01-28 14:05:36,336 - /home/salabed/anaconda3/envs/rocksdb/lib/python3.8/site-packages/castle/algorithms/gradient/notears/torch/golem.py[line:221] - INFO: [Iter 50000] score=145.747, likelihood=142.130, h=4.1e-02\n",
      "2024-01-28 14:05:49,379 - /home/salabed/anaconda3/envs/rocksdb/lib/python3.8/site-packages/castle/algorithms/gradient/notears/torch/golem.py[line:221] - INFO: [Iter 55000] score=145.747, likelihood=142.129, h=4.1e-02\n",
      "2024-01-28 14:06:02,503 - /home/salabed/anaconda3/envs/rocksdb/lib/python3.8/site-packages/castle/algorithms/gradient/notears/torch/golem.py[line:221] - INFO: [Iter 60000] score=145.747, likelihood=142.129, h=4.1e-02\n",
      "2024-01-28 14:06:15,680 - /home/salabed/anaconda3/envs/rocksdb/lib/python3.8/site-packages/castle/algorithms/gradient/notears/torch/golem.py[line:221] - INFO: [Iter 65000] score=145.747, likelihood=142.129, h=4.1e-02\n",
      "2024-01-28 14:06:28,750 - /home/salabed/anaconda3/envs/rocksdb/lib/python3.8/site-packages/castle/algorithms/gradient/notears/torch/golem.py[line:221] - INFO: [Iter 70000] score=145.747, likelihood=142.129, h=4.1e-02\n",
      "2024-01-28 14:06:41,922 - /home/salabed/anaconda3/envs/rocksdb/lib/python3.8/site-packages/castle/algorithms/gradient/notears/torch/golem.py[line:221] - INFO: [Iter 75000] score=145.747, likelihood=142.129, h=4.1e-02\n",
      "2024-01-28 14:06:54,794 - /home/salabed/anaconda3/envs/rocksdb/lib/python3.8/site-packages/castle/algorithms/gradient/notears/torch/golem.py[line:221] - INFO: [Iter 80000] score=145.747, likelihood=142.130, h=4.1e-02\n",
      "2024-01-28 14:07:07,783 - /home/salabed/anaconda3/envs/rocksdb/lib/python3.8/site-packages/castle/algorithms/gradient/notears/torch/golem.py[line:221] - INFO: [Iter 85000] score=145.747, likelihood=142.129, h=4.1e-02\n",
      "2024-01-28 14:07:20,900 - /home/salabed/anaconda3/envs/rocksdb/lib/python3.8/site-packages/castle/algorithms/gradient/notears/torch/golem.py[line:221] - INFO: [Iter 90000] score=145.747, likelihood=142.129, h=4.1e-02\n",
      "2024-01-28 14:07:34,063 - /home/salabed/anaconda3/envs/rocksdb/lib/python3.8/site-packages/castle/algorithms/gradient/notears/torch/golem.py[line:221] - INFO: [Iter 95000] score=145.747, likelihood=142.130, h=4.1e-02\n",
      "2024-01-28 14:07:47,172 - /home/salabed/anaconda3/envs/rocksdb/lib/python3.8/site-packages/castle/algorithms/gradient/notears/torch/golem.py[line:221] - INFO: [Iter 100000] score=145.747, likelihood=142.130, h=4.1e-02\n",
      "2024-01-28 14:07:47,175 - /home/salabed/workspace/autorocks/autorocks/optimizer/bograph/dag_postprocessor.py[line:19] - WARNING: Hierarchical parameter detected: write_buffer_size, min_write_buffer_number_to_merge\n",
      "2024-01-28 14:07:47,176 - /home/salabed/workspace/autorocks/autorocks/optimizer/bograph/dag_postprocessor.py[line:67] - INFO: Flipping the order of: ('iops', 'numfiles_in_singlecompaction'), to ('numfiles_in_singlecompaction', 'iops')\n"
     ]
    },
    {
     "name": "stdout",
     "output_type": "stream",
     "text": [
      "Done\n",
      "Manually connecting param:  {'max_bytes_for_level_multiplier', 'level0_stop_writes_trigger', 'max_background_compactions', 'min_write_buffer_number_to_merge', 'max_background_flushes'}\n",
      "group={'max_bytes_for_level_multiplier', 'level0_stop_writes_trigger', 'max_background_compactions', 'min_write_buffer_number_to_merge', 'max_background_flushes'}\n",
      "group={'compaction_times_cpu_micros', 'io_size', 'read_block_get_micros', 'numfiles_in_singlecompaction', 'write_buffer_size', 'block_size'}\n",
      "group={'compaction_outfile_sync_micros', 'read_block_get_micros', 'max_write_buffer_number', 'level0_slowdown_writes_trigger', 'bytes_decompressed', 'sst_read_micros'}\n",
      "group={'compaction_times_cpu_micros', 'io_size', 'read_block_get_micros', 'level0_file_num_compaction_trigger', 'compaction_outfile_sync_micros', 'block_size'}\n",
      "group={'compaction_times_cpu_micros', 'compaction_outfile_sync_micros', 'read_block_get_micros', 'level0_file_num_compaction_trigger', 'level0_slowdown_writes_trigger', 'sst_read_micros'}\n",
      "group={'compaction_times_cpu_micros', 'level0_file_num_compaction_trigger', 'max_write_buffer_number', 'bytes_decompressed', 'compaction_outfile_sync_micros'}\n",
      "group={'compaction_times_cpu_micros', 'sst_read_micros', 'compaction_outfile_sync_micros', 'read_block_get_micros', 'numfiles_in_singlecompaction', 'level0_slowdown_writes_trigger', 'write_buffer_size'}\n",
      "group={'compaction_times_cpu_micros', 'max_write_buffer_number', 'numfiles_in_singlecompaction', 'bytes_decompressed', 'write_buffer_size'}\n",
      "group={'io_size', 'read_block_get_micros', 'sst_read_micros', 'level0_slowdown_writes_trigger', 'compaction_outfile_sync_micros', 'block_size'}\n",
      "group={'compaction_times_cpu_micros', 'compaction_outfile_sync_micros', 'level0_file_num_compaction_trigger', 'numfiles_in_singlecompaction', 'write_buffer_size'}\n",
      "group={'io_size', 'read_block_get_micros', 'max_write_buffer_number', 'bytes_decompressed', 'block_size'}\n"
     ]
    }
   ],
   "source": [
    "for restart in range(3):\n",
    "    for strategy in strategies:\n",
    "        exp_result = exp_util.perform_dag_compression_exp(strategy, data, set(param_space), {\"iops\"})\n",
    "        preprocessing_comparison.append({\"Restart\": restart,\n",
    "                                         \"Strategy\": strategy,\n",
    "                                         \"Likelihood\": exp_result.likelihood,\n",
    "                                         \"Score\": exp_result.score,\n",
    "                                         \"Runtime\": exp_result.runtime,\n",
    "                                         \"MaxDim\": exp_result.max_dim\n",
    "                                         })"
   ],
   "metadata": {
    "collapsed": false,
    "ExecuteTime": {
     "end_time": "2024-01-23T22:17:24.833550Z",
     "start_time": "2024-01-23T22:17:24.743704Z"
    }
   },
   "id": "45e40a51e008643e"
  },
  {
   "cell_type": "code",
   "execution_count": 63,
   "outputs": [
    {
     "name": "stderr",
     "output_type": "stream",
     "text": [
      "/tmp/ipykernel_7546/3364804088.py:7: FutureWarning: The default value of regex will change from True to False in a future version.\n",
      "  results_df['Strategy'] = results_df['Strategy'].astype(str).str.replace(\"Strategy.\", \"\").str.title().str.replace(\"_\", \"\")\n"
     ]
    }
   ],
   "source": [
    "import numpy as np\n",
    "results_df = pd.DataFrame(preprocessing_comparison)\n",
    "\n",
    "results_df['Likelihood'] = np.array(results_df['Likelihood'], dtype=float)\n",
    "results_df['LogLikelihood'] = np.log(results_df['Likelihood'])\n",
    "results_df['Score'] = np.array(results_df['Score'], dtype=float)\n",
    "results_df['Strategy'] = results_df['Strategy'].astype(str).str.replace(\"Strategy.\", \"\").str.title().str.replace(\"_\", \"\")\n"
   ],
   "metadata": {
    "collapsed": false
   }
  },
  {
   "cell_type": "code",
   "execution_count": 64,
   "outputs": [],
   "source": [
    "results_df.to_csv(\"processing_compare.csv\")"
   ],
   "metadata": {
    "collapsed": false
   }
  },
  {
   "cell_type": "code",
   "execution_count": 76,
   "outputs": [
    {
     "data": {
      "text/plain": "{'Likelihood', 'LogLikelihood', 'MaxDim', 'Restart', 'Score', 'Strategy'}"
     },
     "execution_count": 76,
     "metadata": {},
     "output_type": "execute_result"
    }
   ],
   "source": [
    "set(results_df.columns).difference({\"Runtime\"})"
   ],
   "metadata": {
    "collapsed": false
   }
  },
  {
   "cell_type": "code",
   "execution_count": 77,
   "outputs": [
    {
     "data": {
      "text/plain": "      Strategy  Restart       variable       value\n0   NoCompress        0  LogLikelihood    5.018078\n1      Ranker5        0  LogLikelihood    4.154659\n2     Ranker10        0  LogLikelihood    4.402779\n3     Ranker15        0  LogLikelihood    4.657546\n4          Pca        0  LogLikelihood    4.956739\n5   NoCompress        1  LogLikelihood    5.018078\n6      Ranker5        1  LogLikelihood    4.154659\n7     Ranker10        1  LogLikelihood    4.402779\n8     Ranker15        1  LogLikelihood    4.657546\n9          Pca        1  LogLikelihood    4.956739\n10  NoCompress        2  LogLikelihood    5.018078\n11     Ranker5        2  LogLikelihood    4.154659\n12    Ranker10        2  LogLikelihood    4.402779\n13    Ranker15        2  LogLikelihood    4.657546\n14         Pca        2  LogLikelihood    4.956739\n15  NoCompress        0          Score  157.587890\n16     Ranker5        0          Score   66.399446\n17    Ranker10        0          Score   85.826858\n18    Ranker15        0          Score  109.750990\n19         Pca        0          Score  145.746993\n20  NoCompress        1          Score  157.587890\n21     Ranker5        1          Score   66.399446\n22    Ranker10        1          Score   85.826858\n23    Ranker15        1          Score  109.750990\n24         Pca        1          Score  145.746993\n25  NoCompress        2          Score  157.587890\n26     Ranker5        2          Score   66.399446\n27    Ranker10        2          Score   85.826858\n28    Ranker15        2          Score  109.750990\n29         Pca        2          Score  145.746993\n30  NoCompress        0     Likelihood  151.120496\n31     Ranker5        0     Likelihood   63.730256\n32    Ranker10        0     Likelihood   81.677575\n33    Ranker15        0     Likelihood  105.377126\n34         Pca        0     Likelihood  142.129545\n35  NoCompress        1     Likelihood  151.120496\n36     Ranker5        1     Likelihood   63.730256\n37    Ranker10        1     Likelihood   81.677575\n38    Ranker15        1     Likelihood  105.377126\n39         Pca        1     Likelihood  142.129545\n40  NoCompress        2     Likelihood  151.120496\n41     Ranker5        2     Likelihood   63.730256\n42    Ranker10        2     Likelihood   81.677575\n43    Ranker15        2     Likelihood  105.377126\n44         Pca        2     Likelihood  142.129545\n45  NoCompress        0         MaxDim    6.000000\n46     Ranker5        0         MaxDim    5.000000\n47    Ranker10        0         MaxDim    4.000000\n48    Ranker15        0         MaxDim    4.000000\n49         Pca        0         MaxDim    5.000000\n50  NoCompress        1         MaxDim    6.000000\n51     Ranker5        1         MaxDim    5.000000\n52    Ranker10        1         MaxDim    4.000000\n53    Ranker15        1         MaxDim    4.000000\n54         Pca        1         MaxDim    5.000000\n55  NoCompress        2         MaxDim    6.000000\n56     Ranker5        2         MaxDim    5.000000\n57    Ranker10        2         MaxDim    4.000000\n58    Ranker15        2         MaxDim    4.000000\n59         Pca        2         MaxDim    5.000000",
      "text/html": "<div>\n<style scoped>\n    .dataframe tbody tr th:only-of-type {\n        vertical-align: middle;\n    }\n\n    .dataframe tbody tr th {\n        vertical-align: top;\n    }\n\n    .dataframe thead th {\n        text-align: right;\n    }\n</style>\n<table border=\"1\" class=\"dataframe\">\n  <thead>\n    <tr style=\"text-align: right;\">\n      <th></th>\n      <th>Strategy</th>\n      <th>Restart</th>\n      <th>variable</th>\n      <th>value</th>\n    </tr>\n  </thead>\n  <tbody>\n    <tr>\n      <th>0</th>\n      <td>NoCompress</td>\n      <td>0</td>\n      <td>LogLikelihood</td>\n      <td>5.018078</td>\n    </tr>\n    <tr>\n      <th>1</th>\n      <td>Ranker5</td>\n      <td>0</td>\n      <td>LogLikelihood</td>\n      <td>4.154659</td>\n    </tr>\n    <tr>\n      <th>2</th>\n      <td>Ranker10</td>\n      <td>0</td>\n      <td>LogLikelihood</td>\n      <td>4.402779</td>\n    </tr>\n    <tr>\n      <th>3</th>\n      <td>Ranker15</td>\n      <td>0</td>\n      <td>LogLikelihood</td>\n      <td>4.657546</td>\n    </tr>\n    <tr>\n      <th>4</th>\n      <td>Pca</td>\n      <td>0</td>\n      <td>LogLikelihood</td>\n      <td>4.956739</td>\n    </tr>\n    <tr>\n      <th>5</th>\n      <td>NoCompress</td>\n      <td>1</td>\n      <td>LogLikelihood</td>\n      <td>5.018078</td>\n    </tr>\n    <tr>\n      <th>6</th>\n      <td>Ranker5</td>\n      <td>1</td>\n      <td>LogLikelihood</td>\n      <td>4.154659</td>\n    </tr>\n    <tr>\n      <th>7</th>\n      <td>Ranker10</td>\n      <td>1</td>\n      <td>LogLikelihood</td>\n      <td>4.402779</td>\n    </tr>\n    <tr>\n      <th>8</th>\n      <td>Ranker15</td>\n      <td>1</td>\n      <td>LogLikelihood</td>\n      <td>4.657546</td>\n    </tr>\n    <tr>\n      <th>9</th>\n      <td>Pca</td>\n      <td>1</td>\n      <td>LogLikelihood</td>\n      <td>4.956739</td>\n    </tr>\n    <tr>\n      <th>10</th>\n      <td>NoCompress</td>\n      <td>2</td>\n      <td>LogLikelihood</td>\n      <td>5.018078</td>\n    </tr>\n    <tr>\n      <th>11</th>\n      <td>Ranker5</td>\n      <td>2</td>\n      <td>LogLikelihood</td>\n      <td>4.154659</td>\n    </tr>\n    <tr>\n      <th>12</th>\n      <td>Ranker10</td>\n      <td>2</td>\n      <td>LogLikelihood</td>\n      <td>4.402779</td>\n    </tr>\n    <tr>\n      <th>13</th>\n      <td>Ranker15</td>\n      <td>2</td>\n      <td>LogLikelihood</td>\n      <td>4.657546</td>\n    </tr>\n    <tr>\n      <th>14</th>\n      <td>Pca</td>\n      <td>2</td>\n      <td>LogLikelihood</td>\n      <td>4.956739</td>\n    </tr>\n    <tr>\n      <th>15</th>\n      <td>NoCompress</td>\n      <td>0</td>\n      <td>Score</td>\n      <td>157.587890</td>\n    </tr>\n    <tr>\n      <th>16</th>\n      <td>Ranker5</td>\n      <td>0</td>\n      <td>Score</td>\n      <td>66.399446</td>\n    </tr>\n    <tr>\n      <th>17</th>\n      <td>Ranker10</td>\n      <td>0</td>\n      <td>Score</td>\n      <td>85.826858</td>\n    </tr>\n    <tr>\n      <th>18</th>\n      <td>Ranker15</td>\n      <td>0</td>\n      <td>Score</td>\n      <td>109.750990</td>\n    </tr>\n    <tr>\n      <th>19</th>\n      <td>Pca</td>\n      <td>0</td>\n      <td>Score</td>\n      <td>145.746993</td>\n    </tr>\n    <tr>\n      <th>20</th>\n      <td>NoCompress</td>\n      <td>1</td>\n      <td>Score</td>\n      <td>157.587890</td>\n    </tr>\n    <tr>\n      <th>21</th>\n      <td>Ranker5</td>\n      <td>1</td>\n      <td>Score</td>\n      <td>66.399446</td>\n    </tr>\n    <tr>\n      <th>22</th>\n      <td>Ranker10</td>\n      <td>1</td>\n      <td>Score</td>\n      <td>85.826858</td>\n    </tr>\n    <tr>\n      <th>23</th>\n      <td>Ranker15</td>\n      <td>1</td>\n      <td>Score</td>\n      <td>109.750990</td>\n    </tr>\n    <tr>\n      <th>24</th>\n      <td>Pca</td>\n      <td>1</td>\n      <td>Score</td>\n      <td>145.746993</td>\n    </tr>\n    <tr>\n      <th>25</th>\n      <td>NoCompress</td>\n      <td>2</td>\n      <td>Score</td>\n      <td>157.587890</td>\n    </tr>\n    <tr>\n      <th>26</th>\n      <td>Ranker5</td>\n      <td>2</td>\n      <td>Score</td>\n      <td>66.399446</td>\n    </tr>\n    <tr>\n      <th>27</th>\n      <td>Ranker10</td>\n      <td>2</td>\n      <td>Score</td>\n      <td>85.826858</td>\n    </tr>\n    <tr>\n      <th>28</th>\n      <td>Ranker15</td>\n      <td>2</td>\n      <td>Score</td>\n      <td>109.750990</td>\n    </tr>\n    <tr>\n      <th>29</th>\n      <td>Pca</td>\n      <td>2</td>\n      <td>Score</td>\n      <td>145.746993</td>\n    </tr>\n    <tr>\n      <th>30</th>\n      <td>NoCompress</td>\n      <td>0</td>\n      <td>Likelihood</td>\n      <td>151.120496</td>\n    </tr>\n    <tr>\n      <th>31</th>\n      <td>Ranker5</td>\n      <td>0</td>\n      <td>Likelihood</td>\n      <td>63.730256</td>\n    </tr>\n    <tr>\n      <th>32</th>\n      <td>Ranker10</td>\n      <td>0</td>\n      <td>Likelihood</td>\n      <td>81.677575</td>\n    </tr>\n    <tr>\n      <th>33</th>\n      <td>Ranker15</td>\n      <td>0</td>\n      <td>Likelihood</td>\n      <td>105.377126</td>\n    </tr>\n    <tr>\n      <th>34</th>\n      <td>Pca</td>\n      <td>0</td>\n      <td>Likelihood</td>\n      <td>142.129545</td>\n    </tr>\n    <tr>\n      <th>35</th>\n      <td>NoCompress</td>\n      <td>1</td>\n      <td>Likelihood</td>\n      <td>151.120496</td>\n    </tr>\n    <tr>\n      <th>36</th>\n      <td>Ranker5</td>\n      <td>1</td>\n      <td>Likelihood</td>\n      <td>63.730256</td>\n    </tr>\n    <tr>\n      <th>37</th>\n      <td>Ranker10</td>\n      <td>1</td>\n      <td>Likelihood</td>\n      <td>81.677575</td>\n    </tr>\n    <tr>\n      <th>38</th>\n      <td>Ranker15</td>\n      <td>1</td>\n      <td>Likelihood</td>\n      <td>105.377126</td>\n    </tr>\n    <tr>\n      <th>39</th>\n      <td>Pca</td>\n      <td>1</td>\n      <td>Likelihood</td>\n      <td>142.129545</td>\n    </tr>\n    <tr>\n      <th>40</th>\n      <td>NoCompress</td>\n      <td>2</td>\n      <td>Likelihood</td>\n      <td>151.120496</td>\n    </tr>\n    <tr>\n      <th>41</th>\n      <td>Ranker5</td>\n      <td>2</td>\n      <td>Likelihood</td>\n      <td>63.730256</td>\n    </tr>\n    <tr>\n      <th>42</th>\n      <td>Ranker10</td>\n      <td>2</td>\n      <td>Likelihood</td>\n      <td>81.677575</td>\n    </tr>\n    <tr>\n      <th>43</th>\n      <td>Ranker15</td>\n      <td>2</td>\n      <td>Likelihood</td>\n      <td>105.377126</td>\n    </tr>\n    <tr>\n      <th>44</th>\n      <td>Pca</td>\n      <td>2</td>\n      <td>Likelihood</td>\n      <td>142.129545</td>\n    </tr>\n    <tr>\n      <th>45</th>\n      <td>NoCompress</td>\n      <td>0</td>\n      <td>MaxDim</td>\n      <td>6.000000</td>\n    </tr>\n    <tr>\n      <th>46</th>\n      <td>Ranker5</td>\n      <td>0</td>\n      <td>MaxDim</td>\n      <td>5.000000</td>\n    </tr>\n    <tr>\n      <th>47</th>\n      <td>Ranker10</td>\n      <td>0</td>\n      <td>MaxDim</td>\n      <td>4.000000</td>\n    </tr>\n    <tr>\n      <th>48</th>\n      <td>Ranker15</td>\n      <td>0</td>\n      <td>MaxDim</td>\n      <td>4.000000</td>\n    </tr>\n    <tr>\n      <th>49</th>\n      <td>Pca</td>\n      <td>0</td>\n      <td>MaxDim</td>\n      <td>5.000000</td>\n    </tr>\n    <tr>\n      <th>50</th>\n      <td>NoCompress</td>\n      <td>1</td>\n      <td>MaxDim</td>\n      <td>6.000000</td>\n    </tr>\n    <tr>\n      <th>51</th>\n      <td>Ranker5</td>\n      <td>1</td>\n      <td>MaxDim</td>\n      <td>5.000000</td>\n    </tr>\n    <tr>\n      <th>52</th>\n      <td>Ranker10</td>\n      <td>1</td>\n      <td>MaxDim</td>\n      <td>4.000000</td>\n    </tr>\n    <tr>\n      <th>53</th>\n      <td>Ranker15</td>\n      <td>1</td>\n      <td>MaxDim</td>\n      <td>4.000000</td>\n    </tr>\n    <tr>\n      <th>54</th>\n      <td>Pca</td>\n      <td>1</td>\n      <td>MaxDim</td>\n      <td>5.000000</td>\n    </tr>\n    <tr>\n      <th>55</th>\n      <td>NoCompress</td>\n      <td>2</td>\n      <td>MaxDim</td>\n      <td>6.000000</td>\n    </tr>\n    <tr>\n      <th>56</th>\n      <td>Ranker5</td>\n      <td>2</td>\n      <td>MaxDim</td>\n      <td>5.000000</td>\n    </tr>\n    <tr>\n      <th>57</th>\n      <td>Ranker10</td>\n      <td>2</td>\n      <td>MaxDim</td>\n      <td>4.000000</td>\n    </tr>\n    <tr>\n      <th>58</th>\n      <td>Ranker15</td>\n      <td>2</td>\n      <td>MaxDim</td>\n      <td>4.000000</td>\n    </tr>\n    <tr>\n      <th>59</th>\n      <td>Pca</td>\n      <td>2</td>\n      <td>MaxDim</td>\n      <td>5.000000</td>\n    </tr>\n  </tbody>\n</table>\n</div>"
     },
     "execution_count": 77,
     "metadata": {},
     "output_type": "execute_result"
    }
   ],
   "source": [],
   "metadata": {
    "collapsed": false
   }
  },
  {
   "cell_type": "code",
   "outputs": [
    {
     "name": "stderr",
     "output_type": "stream",
     "text": [
      "2024-01-28 17:29:50,289 - /home/salabed/anaconda3/envs/rocksdb/lib/python3.8/site-packages/matplotlib/font_manager.py[line:1350] - WARNING: findfont: Font family ['Arial'] not found. Falling back to Helvetica.\n",
      "2024-01-28 17:29:50,321 - /home/salabed/anaconda3/envs/rocksdb/lib/python3.8/site-packages/matplotlib/font_manager.py[line:1350] - WARNING: findfont: Font family ['Arial'] not found. Falling back to Helvetica.\n",
      "2024-01-28 17:29:50,348 - /home/salabed/anaconda3/envs/rocksdb/lib/python3.8/site-packages/matplotlib/font_manager.py[line:1350] - WARNING: findfont: Font family ['Arial'] not found. Falling back to Helvetica.\n"
     ]
    },
    {
     "data": {
      "text/plain": "<Figure size 400x300 with 1 Axes>",
      "image/png": "[encoded data removed]"
     },
     "metadata": {},
     "output_type": "display_data"
    }
   ],
   "source": [
    "import seaborn as sns\n",
    "import matplotlib.pyplot as plt\n",
    "\n",
    "plt.style.use(\"ggplot\")\n",
    "sns.set_theme(style=\"ticks\", rc={\"axes.spines.right\": False, \"axes.spines.top\": False})\n",
    "sns.set_context(\"paper\")  # , font_scale=1.5, rc={\"lines.linewidth\": 1.5})\n",
    "plt.rcParams[\"svg.fonttype\"] = \"none\"\n",
    "plt.rcParams[\"font.family\"] = \"Arial\"\n",
    "plt.rc(\"text\", usetex=False)\n",
    "plt.rc(\"xtick\", labelsize=\"small\")\n",
    "plt.rc(\"ytick\", labelsize=\"small\")\n",
    "plt.rc(\"axes\", labelsize=\"medium\")\n",
    "plt.rc(\"pdf\", use14corefonts=True)\n",
    "\n",
    "\n",
    "fig, ax = plt.subplots(figsize=(4, 3))\n",
    "sns.barplot(data=results_df[list(set(results_df.columns).difference({\"Runtime\", \"Score\", \"Likelihood\"}))].melt([\"Strategy\", \"Restart\"]),\n",
    "            x=\"Strategy\", y=\"value\", hue=\"variable\", ax=ax,\n",
    "            order=[\"Ranker5\", \"Ranker10\", \"Ranker15\", \"Pca\", \"NoCompress\"]\n",
    "            )\n",
    "fig.savefig(\"max_dim_likelihood.pdf\", bbox_inches=\"tight\")\n",
    "fig.savefig(\"max_dim_likelihood.svg\", bbox_inches=\"tight\")\n"
   ],
   "metadata": {
    "collapsed": false,
    "ExecuteTime": {
     "end_time": "2024-01-21T16:43:53.826179Z",
     "start_time": "2024-01-21T16:43:52.365926Z"
    }
   },
   "id": "19d4eb8fae2a94ff",
   "execution_count": 106
  },
  {
   "cell_type": "code",
   "execution_count": 107,
   "outputs": [
    {
     "data": {
      "text/plain": "<Figure size 400x300 with 1 Axes>",
      "image/png": "[encoded data removed]"
     },
     "metadata": {},
     "output_type": "display_data"
    }
   ],
   "source": [
    "fig, ax = plt.subplots(figsize=(4, 3))\n",
    "\n",
    "sns.boxplot(data=results_df, x=\"Strategy\", y=\"Runtime\", hue=\"Strategy\", dodge=False, ax=ax,\n",
    "                        order=[\"Ranker5\", \"Ranker10\", \"Ranker15\", \"Pca\", \"NoCompress\"]\n",
    "            )\n",
    "ax.legend().set_visible(False)\n",
    "\n",
    "fig.savefig(\"processing_runtime.pdf\", bbox_inches=\"tight\")\n",
    "fig.savefig(\"processing_runtime.svg\", bbox_inches=\"tight\")\n"
   ],
   "metadata": {
    "collapsed": false
   }
  },
  {
   "cell_type": "code",
   "execution_count": null,
   "outputs": [],
   "source": [],
   "metadata": {
    "collapsed": false
   }
  }
 ],
 "metadata": {
  "kernelspec": {
   "display_name": "Python 3",
   "language": "python",
   "name": "python3"
  },
  "language_info": {
   "codemirror_mode": {
    "name": "ipython",
    "version": 2
   },
   "file_extension": ".py",
   "mimetype": "text/x-python",
   "name": "python",
   "nbconvert_exporter": "python",
   "pygments_lexer": "ipython2",
   "version": "2.7.6"
  }
 },
 "nbformat": 4,
 "nbformat_minor": 5
}
