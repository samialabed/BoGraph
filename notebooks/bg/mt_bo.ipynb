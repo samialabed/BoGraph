{
 "cells": [
  {
   "cell_type": "code",
   "execution_count": 1,
   "id": "initial_id",
   "metadata": {
    "collapsed": true,
    "ExecuteTime": {
     "end_time": "2023-12-19T15:40:53.908672Z",
     "start_time": "2023-12-19T15:40:53.877457Z"
    }
   },
   "source": [
    "import pandas as pd\n",
    "%matplotlib inline\n",
    "%load_ext autoreload\n",
    "%autoreload 2"
   ],
   "outputs": []
  },
  {
   "cell_type": "code",
   "execution_count": 80,
   "source": [
    "import matplotlib.pyplot as plt\n",
    "import seaborn as sns\n",
    "from autorocks.viz import plots_setup\n",
    "import torch\n",
    "import gpytorch\n",
    "import botorch.posteriors\n",
    "from botorch import models\n",
    "from botorch.optim import fit\n",
    "import torch\n",
    "import numpy as np\n",
    "import pandas as pd\n",
    "import botorch\n",
    "\n",
    "output_location = \"/Users/salabed/workspace/latex_writings/thesis/phd_dissertation/Chapters/Background/Figures/\"\n",
    "\n",
    "tkwargs = {\n",
    "    \"dtype\": torch.double,\n",
    "    \"device\": torch.device(\"cuda\" if torch.cuda.is_available() else \"cpu\"),\n",
    "}\n",
    "problem = botorch.test_functions.BraninCurrin(negate = True, noise_std = 0).to(**tkwargs)\n",
    "\n",
    "ref_point = problem.ref_point\n",
    "standard_bounds = torch.zeros(2, problem.dim, dtype = torch.float64)\n",
    "standard_bounds[1] = 1\n",
    "\n",
    "import warnings\n",
    "from botorch.exceptions import BadInitialCandidatesWarning\n",
    "\n",
    "warnings.filterwarnings(\"ignore\", category = BadInitialCandidatesWarning)\n",
    "# warnings.filterwarnings(\"ignore\", category=RuntimeWarning)\n"
   ],
   "metadata": {
    "collapsed": false,
    "ExecuteTime": {
     "end_time": "2023-12-19T17:08:28.746419Z",
     "start_time": "2023-12-19T17:08:28.714375Z"
    }
   },
   "id": "abdc17ae6eb5ee7e",
   "outputs": []
  },
  {
   "cell_type": "code",
   "execution_count": 81,
   "source": [
    "num_observations = 10\n",
    "num_restarts = 3\n",
    "num_optimization_rounds = 100\n",
    "MC_SAMPLES = 128\n",
    "\n",
    "initial_train_x, initial_train_y = plots_setup.generate_data(num_observations, problem)\n",
    "\n",
    "# test_x, test_y = plots_setup.generate_data(100, problem)"
   ],
   "metadata": {
    "collapsed": false,
    "ExecuteTime": {
     "end_time": "2023-12-19T17:08:30.578894Z",
     "start_time": "2023-12-19T17:08:30.549462Z"
    }
   },
   "id": "d3ce3f6bfc3e3477",
   "outputs": []
  },
  {
   "cell_type": "code",
   "execution_count": 53,
   "source": [
    "from botorch.sampling import SobolQMCNormalSampler\n",
    "from botorch.utils.multi_objective.box_decompositions import (DominatedPartitioning, FastNondominatedPartitioning)\n",
    "# Train two independent GP to model the tasks. \n",
    "\n",
    "from botorch.models.transforms.outcome import Standardize\n",
    "import botorch.acquisition.multi_objective\n",
    "\n",
    "independent_pred = []\n",
    "for restart in range(num_restarts):\n",
    "    train_x = initial_train_x.clone().detach()\n",
    "    print(f\"{restart=}\")\n",
    "    for step in range(num_optimization_rounds):\n",
    "        # fit the model \n",
    "        train_y = problem(train_x)\n",
    "        model = models.SingleTaskGP(\n",
    "            train_X = train_x,\n",
    "            train_Y = train_y,\n",
    "            outcome_transform = Standardize(m = 2)\n",
    "        )\n",
    "        # Fit and train the model\n",
    "        mll = gpytorch.mlls.ExactMarginalLogLikelihood(model.likelihood, model)\n",
    "        fit.fit_gpytorch_mll_scipy(mll)\n",
    "\n",
    "        model.eval()\n",
    "\n",
    "        with torch.no_grad():\n",
    "            pred = model.posterior(botorch.utils.transforms.normalize(train_x, problem.bounds)).mean\n",
    "        partitioning = FastNondominatedPartitioning(\n",
    "            ref_point = problem.ref_point,\n",
    "            Y = pred,\n",
    "        )\n",
    "\n",
    "        acf = botorch.acquisition.multi_objective.qExpectedHypervolumeImprovement(model,\n",
    "                                                                                  ref_point = problem._ref_point,\n",
    "                                                                                  partitioning = partitioning,\n",
    "                                                                                  sampler = SobolQMCNormalSampler(\n",
    "                                                                                      sample_shape = torch.Size(\n",
    "                                                                                          [MC_SAMPLES])))\n",
    "        new_candidate, _ = botorch.optim.optimize_acqf(\n",
    "            acf, bounds = standard_bounds, q = 1, num_restarts = 1, raw_samples = 64)\n",
    "\n",
    "        new_candidate = botorch.utils.transforms.unnormalize(new_candidate, problem.bounds).detach()\n",
    "        train_x = torch.concat([train_x, new_candidate])\n",
    "        new_y = problem(new_candidate)\n",
    "\n",
    "        best_f = train_y.sum(-1, keepdim = True).max()\n",
    "\n",
    "        bd = DominatedPartitioning(ref_point = problem.ref_point, Y = train_y)\n",
    "        # volume = partitioning.compute_hypervolume().item()\n",
    "        volume = bd.compute_hypervolume().item()\n",
    "        independent_pred.append({\n",
    "            \"score\": float(volume),\n",
    "            \"branin\": float(new_y[:, 0].cpu().detach().numpy()),\n",
    "            \"currin\": float(new_y[:, 1].cpu().detach().numpy()),\n",
    "            \"candidate\": new_candidate.detach().cpu().numpy(),\n",
    "            \"best_f\": float(best_f.detach().cpu().numpy()),\n",
    "            \"model\": \"Independent\",\n",
    "            \"step\": step,\n",
    "            \"restart\": restart,\n",
    "        })"
   ],
   "metadata": {
    "collapsed": false,
    "ExecuteTime": {
     "end_time": "2023-12-19T16:53:43.224440Z",
     "start_time": "2023-12-19T16:49:36.681741Z"
    }
   },
   "id": "27f29ebca88fc431",
   "outputs": []
  },
  {
   "cell_type": "code",
   "execution_count": 103,
   "source": [
    "from botorch.utils.multi_objective.box_decompositions import FastNondominatedPartitioning\n",
    "# Train two independent GP to model the tasks. \n",
    "\n",
    "from botorch.models.transforms.outcome import Standardize\n",
    "import botorch.acquisition.multi_objective\n",
    "\n",
    "mt_pred = []\n",
    "\n",
    "for restart in range(num_restarts):\n",
    "    train_x = initial_train_x.clone()\n",
    "    print(f\"{restart=}\")\n",
    "    for step in range(num_optimization_rounds):\n",
    "        # fit the model \n",
    "        train_y = problem(train_x)\n",
    "        train_x_f1 = torch.hstack([train_x, torch.zeros(train_x.shape[0], 1)])\n",
    "        train_x_f2 = torch.hstack([train_x, torch.ones(train_x.shape[0], 1)])\n",
    "\n",
    "        model = models.FixedNoiseMultiTaskGP(\n",
    "            train_X = torch.concat([train_x_f1, train_x_f2]),\n",
    "            train_Y = train_y.T.reshape(-1, 1),\n",
    "            train_Yvar = torch.zeros_like(train_y.T.reshape(-1, 1)),\n",
    "            task_feature = -1,\n",
    "            # outcome_transform = Standardize(m = 1),\n",
    "        )\n",
    "        # Fit and train the model\n",
    "        mll = gpytorch.mlls.ExactMarginalLogLikelihood(model.likelihood, model)\n",
    "        fit.fit_gpytorch_mll_scipy(mll)\n",
    "\n",
    "        model.eval()\n",
    "\n",
    "        with torch.no_grad():\n",
    "            pred = model.posterior(train_x).mean.reshape(-1, 2)\n",
    "        partitioning = FastNondominatedPartitioning(\n",
    "            ref_point = problem.ref_point,\n",
    "            Y = pred,\n",
    "        )\n",
    "\n",
    "        acf = botorch.acquisition.multi_objective.ExpectedHypervolumeImprovement(model,\n",
    "                                                                                 ref_point = problem.ref_point,\n",
    "                                                                                 partitioning = partitioning,\n",
    "                                                                                 sampler = SobolQMCNormalSampler(\n",
    "                                                                                     sample_shape = torch.Size(\n",
    "                                                                                         [MC_SAMPLES])))\n",
    "        new_candidate, _ = botorch.optim.optimize_acqf(\n",
    "            acf, bounds = problem.bounds, q = 1, num_restarts = 4, raw_samples = 512)\n",
    "\n",
    "        new_candidate = botorch.utils.transforms.unnormalize(new_candidate, problem.bounds).detach()\n",
    "        train_x = torch.concat([train_x, new_candidate])\n",
    "        new_y = problem(new_candidate)\n",
    "\n",
    "        best_f = train_y.sum(-1, keepdim = True).max()\n",
    "        bd = DominatedPartitioning(ref_point = problem.ref_point, Y = train_y)\n",
    "        volume = bd.compute_hypervolume().item()\n",
    "        # volume = partitioning.compute_hypervolume().item()\n",
    "        mt_pred.append({\n",
    "            \"score\": float(volume),\n",
    "            \"branin\": float(new_y[:, 0].cpu().detach().numpy()),\n",
    "            \"currin\": float(new_y[:, 1].cpu().detach().numpy()),\n",
    "            \"candidate\": new_candidate.detach().cpu().numpy(),\n",
    "            \"best_f\": float(best_f.detach().cpu().numpy()),\n",
    "            \"model\": \"MultiTask\",\n",
    "            \"step\": step,\n",
    "            \"restart\": restart,\n",
    "        })"
   ],
   "metadata": {
    "collapsed": false,
    "ExecuteTime": {
     "end_time": "2023-12-19T17:17:52.277166Z",
     "start_time": "2023-12-19T17:13:05.870784Z"
    }
   },
   "id": "a430922cbb7bf6fd",
   "outputs": []
  },
  {
   "cell_type": "code",
   "execution_count": 197,
   "source": [
    "\n",
    "all_pred = independent_pred + mt_pred\n",
    "\n",
    "df = pd.DataFrame(all_pred)\n",
    "df['score'] = df['score'].astype(float)\n",
    "df['log_hv'] = np.log10(problem.max_hv - df['score'])\n",
    "df['step'] = df['step'].astype(int)\n",
    "df['restart'] = df['restart'].astype(int)\n",
    "df['model'] = df['model'].str.replace('Independent', 'SingleTask')\n",
    "df"
   ],
   "metadata": {
    "collapsed": false,
    "ExecuteTime": {
     "end_time": "2023-12-19T18:22:25.957152Z",
     "start_time": "2023-12-19T18:22:25.904555Z"
    }
   },
   "id": "dc4eaee46f88ca69",
   "outputs": []
  },
  {
   "cell_type": "code",
   "execution_count": 198,
   "source": [
    "plt.style.use(\"ggplot\")\n",
    "sns.set_theme(style = \"white\", rc = {\"axes.spines.right\": False, \"axes.spines.top\": False})\n",
    "sns.set_context(\"paper\")  # , font_scale=1.5, rc={\"lines.linewidth\": 1.5})\n",
    "plt.rcParams[\"svg.fonttype\"] = \"none\"\n",
    "plt.rcParams[\"font.family\"] = \"Arial\"\n",
    "plt.rc(\"text\", usetex = False)\n",
    "plt.rc(\"xtick\", labelsize = \"large\")\n",
    "plt.rc(\"ytick\", labelsize = \"large\")\n",
    "plt.rc(\"axes\", labelsize = \"large\")\n",
    "plt.rc(\"pdf\", use14corefonts = True)\n",
    "\n",
    "# Initialize plot\n",
    "f, ax = plt.subplots(1, 1, figsize = (4, 3))\n",
    "\n",
    "# x_axis is the number of observation\n",
    "# y_axis is the score \n",
    "df\n",
    "sns.lineplot(df, x = \"step\", y = \"log_hv\", hue = \"model\", ax = ax)\n",
    "ax.set(xlabel = \"Step\", ylabel = \"Log Hypervolume Difference\")\n",
    "\n",
    "# ax.set(ylim = (-1, 5))\n",
    "# # Plot training data as red stars\n",
    "# ax.plot(train_x_full.numpy(), train_y_full.numpy(), 'r*')\n",
    "# # Plot predictive means as blue line\n",
    "# ax.plot(test_x.numpy(), mean.numpy(), 'b')\n",
    "# # Shade between the lower and upper confidence bounds\n",
    "# ax.fill_between(test_x.numpy(), lower.squeeze().numpy(), upper.squeeze().numpy(), alpha = 0.2)\n",
    "# ax.legend(['Observed Data', \"Real Function\", 'Mean', 'Confidence'])\n",
    "# plt.gca().xaxis.set_major_locator(plt.NullLocator())\n",
    "# plt.gca().yaxis.set_major_locator(plt.NullLocator())\n",
    "\n",
    "output_format = \"pdf\"\n",
    "f.savefig(f\"{output_location}/mt_score_comparison.{output_format}\", bbox_inches = \"tight\", format = f\"{output_format}\",\n",
    "          dpi = 300)\n"
   ],
   "metadata": {
    "collapsed": false,
    "ExecuteTime": {
     "end_time": "2023-12-19T18:22:39.097806Z",
     "start_time": "2023-12-19T18:22:36.154903Z"
    }
   },
   "id": "57d82bd7aa1c30cf",
   "outputs": []
  },
  {
   "cell_type": "code",
   "execution_count": 208,
   "source": [
    "plt.style.use(\"ggplot\")\n",
    "sns.set_theme(style = \"white\", rc = {\"axes.spines.right\": False, \"axes.spines.top\": False})\n",
    "sns.set_context(\"paper\")  # , font_scale=1.5, rc={\"lines.linewidth\": 1.5})\n",
    "plt.rcParams[\"svg.fonttype\"] = \"none\"\n",
    "plt.rcParams[\"font.family\"] = \"Arial\"\n",
    "plt.rc(\"text\", usetex = False)\n",
    "plt.rc(\"xtick\", labelsize = \"large\")\n",
    "plt.rc(\"ytick\", labelsize = \"large\")\n",
    "plt.rc(\"axes\", labelsize = \"large\")\n",
    "plt.rc(\"pdf\", use14corefonts = True)\n",
    "\n",
    "# Initialize plot\n",
    "# f, ax = plt.subplots(1, 2, figsize = (16, 9))\n",
    "\n",
    "# x_axis is the number of observation\n",
    "# y_axis is the score \n",
    "df[\"Pareto-Front\"] = botorch.utils.multi_objective.is_non_dominated(torch.tensor(df[['branin', 'currin']].to_numpy()))\n",
    "grid = sns.FacetGrid(df, col = \"model\", palette = \"tab20c\", col_wrap = 2, height = 4)\n",
    "grid.map(sns.scatterplot, \"branin\", \"currin\", 'step', \"step\", \"Pareto-Front\")\n",
    "grid.set(xlabel = \"Branin\", ylabel = \"Currin\")\n",
    "grid.add_legend()\n",
    "\n",
    "# sns.scatterplot(df[df['model'] == 'Independent'], x = \"branin\", y = \"currin\",  ax = ax[0], hue = \"step\")\n",
    "# sns.scatterplot(df[df['model'] == 'MultiTask'], x = \"branin\", y = \"currin\", ax = ax[1], hue = \"step\")\n",
    "# \n",
    "\n",
    "# ax.set(ylim = (-1, 5))\n",
    "# # Plot training data as red stars\n",
    "# ax.plot(train_x_full.numpy(), train_y_full.numpy(), 'r*')\n",
    "# # Plot predictive means as blue line\n",
    "# ax.plot(test_x.numpy(), mean.numpy(), 'b')\n",
    "# # Shade between the lower and upper confidence bounds\n",
    "# ax.fill_between(test_x.numpy(), lower.squeeze().numpy(), upper.squeeze().numpy(), alpha = 0.2)\n",
    "# ax.legend(['Observed Data', \"Real Function\", 'Mean', 'Confidence'])\n",
    "# plt.gca().xaxis.set_major_locator(plt.NullLocator())\n",
    "# plt.gca().yaxis.set_major_locator(plt.NullLocator())\n",
    "\n",
    "plt.rcParams['axes.unicode_minus'] = False\n",
    "output_format = \"pdf\"\n",
    "grid.fig.savefig(f\"{output_location}/mt_mobo.{output_format}\", bbox_inches = \"tight\", format = f\"{output_format}\", \n",
    "                 dpi = 300)\n"
   ],
   "metadata": {
    "collapsed": false,
    "ExecuteTime": {
     "end_time": "2023-12-19T18:29:33.881473Z",
     "start_time": "2023-12-19T18:29:32.688141Z"
    }
   },
   "id": "a145418bb45af371",
   "outputs": []
  },
  {
   "cell_type": "code",
   "execution_count": 193,
   "source": [
    "df.to_csv('./mt_bo.csv')"
   ],
   "metadata": {
    "collapsed": false,
    "ExecuteTime": {
     "end_time": "2023-12-19T17:56:34.251372Z",
     "start_time": "2023-12-19T17:56:34.192474Z"
    }
   },
   "id": "1d9367a8cca957b9",
   "outputs": []
  },
  {
   "cell_type": "code",
   "execution_count": 204,
   "source": [],
   "metadata": {
    "collapsed": false,
    "ExecuteTime": {
     "end_time": "2023-12-19T18:27:59.270435Z",
     "start_time": "2023-12-19T18:27:59.227966Z"
    }
   },
   "id": "b85183a253fa489",
   "outputs": []
  }
 ],
 "metadata": {
  "kernelspec": {
   "display_name": "Python 3",
   "language": "python",
   "name": "python3"
  },
  "language_info": {
   "codemirror_mode": {
    "name": "ipython",
    "version": 2
   },
   "file_extension": ".py",
   "mimetype": "text/x-python",
   "name": "python",
   "nbconvert_exporter": "python",
   "pygments_lexer": "ipython2",
   "version": "2.7.6"
  }
 },
 "nbformat": 4,
 "nbformat_minor": 5
}
