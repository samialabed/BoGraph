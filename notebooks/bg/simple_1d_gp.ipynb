{
 "cells": [
  {
   "cell_type": "code",
   "execution_count": 1,
   "id": "initial_id",
   "metadata": {
    "collapsed": true,
    "ExecuteTime": {
     "end_time": "2023-10-29T20:32:38.721403Z",
     "start_time": "2023-10-29T20:32:38.692676Z"
    }
   },
   "source": [
    "import pandas as pd\n",
    "%matplotlib inline\n",
    "%load_ext autoreload\n",
    "%autoreload 2"
   ],
   "outputs": []
  },
  {
   "cell_type": "code",
   "execution_count": 2,
   "source": [
    "from autorocks.viz import plots_setup\n",
    "import torch\n",
    "import gpytorch\n",
    "import botorch.posteriors\n",
    "\n",
    "class Forrester(botorch.test_functions.SyntheticTestFunction):\n",
    "\n",
    "    dim = 1\n",
    "    _bounds = [(0.0, 1.0)]\n",
    "    _optimal_value = -6.0\n",
    "    _optimizers = [(0.78)]\n",
    "\n",
    "    def evaluate_true(self, X: torch.Tensor) -> torch.Tensor:\n",
    "        return torch.pow(6 * X - 2, 2) * torch.sin(12 * X - 4) \n",
    "        \n",
    "    \n",
    "problem = Forrester(negate = True)\n",
    "\n"
   ],
   "metadata": {
    "collapsed": false,
    "ExecuteTime": {
     "end_time": "2023-10-29T20:32:41.136520Z",
     "start_time": "2023-10-29T20:32:38.722619Z"
    }
   },
   "id": "810c586a04f3364f",
   "outputs": []
  },
  {
   "cell_type": "code",
   "execution_count": 3,
   "source": [
    "from botorch import models\n",
    "from botorch.optim import fit\n",
    "import matplotlib.pyplot as plt\n",
    "import seaborn as sns\n",
    "import torch\n",
    "import numpy as np\n",
    "import pandas as pd\n",
    "\n",
    "plt.style.use(\"ggplot\")\n",
    "sns.set_theme(style=\"ticks\", rc={\"axes.spines.right\": False, \"axes.spines.top\": False})\n",
    "sns.set_context(\"paper\")  # , font_scale=1.5, rc={\"lines.linewidth\": 1.5})\n",
    "plt.rcParams[\"svg.fonttype\"] = \"none\"\n",
    "plt.rcParams[\"font.family\"] = \"Arial\"\n",
    "plt.rc(\"text\", usetex=False)\n",
    "plt.rc(\"xtick\", labelsize=\"large\")\n",
    "plt.rc(\"ytick\", labelsize=\"large\")\n",
    "plt.rc(\"axes\", labelsize=\"large\")\n",
    "plt.rc(\"pdf\", use14corefonts=True)\n",
    "\n",
    "\n",
    "\n",
    "class ParametricMean(gpytorch.means.Mean):\n",
    "    def __init__(self, input_size, batch_shape=torch.Size()):\n",
    "        super().__init__()\n",
    "        self.register_parameter(name=\"weight_pow\", parameter=torch.nn.Parameter(torch.randn(*batch_shape, input_size, 1)))\n",
    "        self.register_parameter(name=\"weight_sin\", parameter=torch.nn.Parameter(torch.randn(*batch_shape, input_size, 1)))\n",
    "        self.register_parameter(name=\"bias_pow\", parameter=torch.nn.Parameter(torch.randn(*batch_shape, 1)))\n",
    "        self.register_parameter(name=\"bias_sin\", parameter=torch.nn.Parameter(torch.randn(*batch_shape, 1)))\n",
    "\n",
    "    def forward(self, x):\n",
    "        return (torch.pow(x * self.weight_pow + self.bias_pow, 2) * torch.sin(x * self.weight_sin + self.bias_sin)).squeeze(-1) \n",
    "\n",
    "mean_functions = {\n",
    "    \"Zero\": gpytorch.means.ZeroMean(),\n",
    "    \"Constant\": gpytorch.means.ConstantMean(),\n",
    "    \"Linear\": gpytorch.means.LinearMean(1),\n",
    "    \"Parametric\": ParametricMean(1)\n",
    "}\n",
    "\n",
    "res = {}\n",
    "\n",
    "num_observations = 10\n",
    "train_x_full, train_y_full = plots_setup.generate_data(num_observations, problem)\n"
   ],
   "metadata": {
    "collapsed": false,
    "ExecuteTime": {
     "end_time": "2023-10-29T20:33:06.079565Z",
     "start_time": "2023-10-29T20:33:05.509959Z"
    }
   },
   "id": "83c93eefcf424c8c",
   "outputs": []
  },
  {
   "cell_type": "code",
   "execution_count": 8,
   "source": [
    "# func = \"Constant\"\n",
    "predicted = []\n",
    "for func in mean_functions.keys():\n",
    "    for i in [1, 3, 7, 9]:\n",
    "        train_x = train_x_full[:i]\n",
    "        train_y = train_y_full[:i]\n",
    "        torch.cuda.empty_cache()\n",
    "        model = models.FixedNoiseGP(\n",
    "                train_X=train_x,\n",
    "                train_Y=train_y,\n",
    "                train_Yvar=torch.zeros_like(train_y),\n",
    "                mean_module = mean_functions[func]\n",
    "        )\n",
    "        mll = gpytorch.mlls.ExactMarginalLogLikelihood(model.likelihood, model)\n",
    "        fit.fit_gpytorch_scipy(mll)\n",
    "    \n",
    "        test_x = torch.linspace(0, 1)\n",
    "        test_y = problem(test_x)\n",
    "        cr = plots_setup.predict(model = model, test_x = test_x, observation_noise = False)\n",
    "    \n",
    "        lower, upper, mean = cr.lower, cr.upper, cr.mean\n",
    "        sorted_x = np.argsort(test_x)\n",
    "        for x_iter, y_iter, lower_iter, upper_iter in zip(test_x[sorted_x].squeeze().cpu().numpy().tolist(),\n",
    "                                                          mean[sorted_x].squeeze().cpu().numpy().tolist(),\n",
    "                                                          lower[sorted_x].squeeze().cpu().numpy().tolist(),\n",
    "                                                          upper[sorted_x].squeeze().cpu().numpy().tolist()): \n",
    "            predicted.append({\"x\":x_iter , \n",
    "                              \"y\": y_iter,\n",
    "                              \"Obs\":i,\n",
    "                              \"Mean\": func})\n",
    "            predicted.append({\"x\":x_iter , \n",
    "                              \"y\": lower_iter,\n",
    "                              \"Obs\":i,\n",
    "                              \"Mean\": func\n",
    "                              })\n",
    "            predicted.append({\"x\":x_iter , \n",
    "                              \"y\": upper_iter,\n",
    "                              \"Obs\":i,\n",
    "                              \"Mean\": func\n",
    "                              })\n",
    "        \n",
    "        for (observed_x, observed_y) in zip(train_x.cpu().numpy().tolist(),\n",
    "                                            train_y.cpu().numpy().tolist()):\n",
    "            predicted.append({\"x_train\": observed_x[0],\n",
    "                              \"y_train\": observed_y[0],\n",
    "                              \"Obs\":i,\n",
    "                              \"Mean\": func\n",
    "                              })\n",
    "        for (x_truth, y_truth) in zip(train_x_full.squeeze().cpu().numpy().tolist(), \n",
    "                                      train_y_full.squeeze().cpu().numpy().tolist()):\n",
    "            truth_sorted = np.argsort(test_x)\n",
    "            predicted.append({\"x_truth\": x_truth,\n",
    "                              \"y_truth\": y_truth,\n",
    "                              \"Obs\":i,\n",
    "                              \"Mean\": func\n",
    "                              })\n",
    "\n",
    "import pandas as pd \n",
    "df = pd.DataFrame.from_dict(predicted)\n",
    "df"
   ],
   "metadata": {
    "collapsed": false,
    "ExecuteTime": {
     "end_time": "2023-10-29T20:34:57.886986Z",
     "start_time": "2023-10-29T20:34:56.340855Z"
    }
   },
   "id": "e9c18ba5b3836776",
   "outputs": []
  },
  {
   "cell_type": "code",
   "execution_count": 9,
   "source": [
    "import numpy as np \n",
    "DPI = 300  # default dpi for most printers\n",
    "plt.style.use(\"ggplot\")\n",
    "sns.set_theme(style=\"ticks\", rc={\"axes.spines.right\": False, \"axes.spines.top\": False})\n",
    "sns.set_context(\"paper\", font_scale=1.5, rc={\"lines.linewidth\": 1.5})\n",
    "plt.rcParams[\"svg.fonttype\"] = \"none\"\n",
    "plt.rcParams[\"font.family\"] = \"Arial\"\n",
    "plt.rc(\"text\", usetex=False)\n",
    "plt.rc(\"xtick\", labelsize=\"small\")\n",
    "plt.rc(\"ytick\", labelsize=\"small\")\n",
    "plt.rc(\"axes\", labelsize=\"medium\")\n",
    "plt.rc(\"pdf\", use14corefonts=True)\n",
    "\n",
    "grid = sns.FacetGrid(df, row=\"Mean\", col=\"Obs\", hue=\"Mean\", palette=\"hls\")\n",
    "# https://seaborn.pydata.org/examples/many_facets.html\n",
    "grid = grid.map(sns.lineplot, \"x_truth\", \"y_truth\", label=\"True Function\", alpha=0.4, color = \"black\", linestyle='--')\n",
    "grid = grid.map(sns.scatterplot, \"x_train\", \"y_train\", color='black', marker=\"*\", label=\"Observed\", s=48)\n",
    "observed_func_legend = grid._legend_data.copy()\n",
    "grid = grid.map(sns.lineplot, \"x\", \"y\", label=\"prediction\", alpha=0.7)\n",
    "grid.set(xlim=(0, 1), ylim=(-6, 7))\n",
    "grid.add_legend()\n",
    "\n",
    "# To save fig use https://stackoverflow.com/questions/10101700/moving-matplotlib-legend-outside-of-the-axis-makes-it-cutoff-by-the-figure-box "
   ],
   "metadata": {
    "collapsed": false,
    "ExecuteTime": {
     "end_time": "2023-10-29T20:35:21.311985Z",
     "start_time": "2023-10-29T20:34:57.880349Z"
    }
   },
   "id": "410b7c4110c85320",
   "outputs": []
  },
  {
   "cell_type": "code",
   "execution_count": 10,
   "source": [
    "output_location = \"./\"\n",
    "output_format = \"svg\"\n",
    "\n",
    "grid.savefig(f\"{output_location}/mean_funcs.{output_format}\", bbox_inches=\"tight\", format=f\"{output_format}\", dpi=300)"
   ],
   "metadata": {
    "collapsed": false,
    "ExecuteTime": {
     "end_time": "2023-10-29T20:37:15.099354Z",
     "start_time": "2023-10-29T20:37:14.401491Z"
    }
   },
   "id": "c874ee88b12e79c3",
   "outputs": []
  },
  {
   "cell_type": "code",
   "execution_count": null,
   "source": [],
   "metadata": {
    "collapsed": false
   },
   "id": "c95d43662fb4f0d4",
   "outputs": []
  }
 ],
 "metadata": {
  "kernelspec": {
   "display_name": "Python 3",
   "language": "python",
   "name": "python3"
  },
  "language_info": {
   "codemirror_mode": {
    "name": "ipython",
    "version": 2
   },
   "file_extension": ".py",
   "mimetype": "text/x-python",
   "name": "python",
   "nbconvert_exporter": "python",
   "pygments_lexer": "ipython2",
   "version": "2.7.6"
  }
 },
 "nbformat": 4,
 "nbformat_minor": 5
}
