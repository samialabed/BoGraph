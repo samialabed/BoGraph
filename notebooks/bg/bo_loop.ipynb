{
 "cells": [
  {
   "cell_type": "code",
   "execution_count": 1,
   "id": "initial_id",
   "metadata": {
    "collapsed": true,
    "ExecuteTime": {
     "end_time": "2023-11-05T15:25:45.192512Z",
     "start_time": "2023-11-05T15:25:45.145417Z"
    }
   },
   "source": [
    "import pandas as pd\n",
    "%matplotlib inline\n",
    "%load_ext autoreload\n",
    "%autoreload 2"
   ],
   "outputs": []
  },
  {
   "cell_type": "code",
   "execution_count": 2,
   "source": [
    "import matplotlib.pyplot as plt\n",
    "import seaborn as sns\n",
    "from autorocks.viz import plots_setup\n",
    "import torch\n",
    "import gpytorch\n",
    "import botorch.posteriors\n",
    "from botorch import models\n",
    "from botorch.optim import fit\n",
    "import torch\n",
    "import numpy as np\n",
    "import pandas as pd\n",
    "import botorch\n",
    "\n",
    "output_location = \"/Users/salabed/workspace/latex_writings/thesis/phd_dissertation/Chapters/Background/Figures/\"\n",
    "\n",
    "\n",
    "\n",
    "\n",
    "class Forrester(botorch.test_functions.SyntheticTestFunction):\n",
    "\n",
    "    dim = 1\n",
    "    _bounds = [(0.0, 1.0)]\n",
    "    _optimal_value = -6.0\n",
    "    _optimizers = [(0.78)]\n",
    "\n",
    "    def evaluate_true(self, X: torch.Tensor) -> torch.Tensor:\n",
    "        return torch.pow(6 * X - 2, 2) * torch.sin(12 * X - 4) \n",
    "        \n",
    "    \n",
    "problem = Forrester(negate = True)\n",
    "\n"
   ],
   "metadata": {
    "collapsed": false,
    "ExecuteTime": {
     "end_time": "2023-11-05T15:25:47.221546Z",
     "start_time": "2023-11-05T15:25:45.193993Z"
    }
   },
   "id": "abdc17ae6eb5ee7e",
   "outputs": []
  },
  {
   "cell_type": "code",
   "execution_count": 3,
   "source": [
    "num_observations = 5\n",
    "train_x_full, train_y_full = plots_setup.generate_data(num_observations, problem)\n",
    "\n"
   ],
   "metadata": {
    "collapsed": false,
    "ExecuteTime": {
     "end_time": "2023-11-05T15:25:47.249577Z",
     "start_time": "2023-11-05T15:25:47.222304Z"
    }
   },
   "id": "d3ce3f6bfc3e3477",
   "outputs": []
  },
  {
   "cell_type": "code",
   "execution_count": 4,
   "source": [
    "model = models.FixedNoiseGP(\n",
    "    train_X=train_x_full,\n",
    "    train_Y=train_y_full,\n",
    "    train_Yvar=torch.zeros_like(train_y_full)\n",
    ")\n",
    "mll = gpytorch.mlls.ExactMarginalLogLikelihood(model.likelihood, model)\n",
    "fit.fit_gpytorch_scipy(mll)\n"
   ],
   "metadata": {
    "collapsed": false,
    "ExecuteTime": {
     "end_time": "2023-11-05T15:25:51.223750Z",
     "start_time": "2023-11-05T15:25:50.434191Z"
    }
   },
   "id": "cbbb8bbff285812f",
   "outputs": []
  },
  {
   "cell_type": "code",
   "execution_count": 5,
   "source": [
    "test_x = torch.linspace(0, 1)\n",
    "test_y = problem(test_x)\n",
    "cr = plots_setup.predict(model = model, test_x = test_x, observation_noise = False)\n",
    "\n",
    "lower, upper, mean = cr.lower, cr.upper, cr.mean\n",
    "sorted_x = np.argsort(test_x)\n",
    "\n",
    "# plot the test_x as an x axis, then plot the mean prediction, fill the lower and upper\n",
    "# then plot the observed x and y\n"
   ],
   "metadata": {
    "collapsed": false,
    "ExecuteTime": {
     "end_time": "2023-11-05T15:25:53.751643Z",
     "start_time": "2023-11-05T15:25:53.698108Z"
    }
   },
   "id": "4f357384230f5a04",
   "outputs": []
  },
  {
   "cell_type": "code",
   "execution_count": 21,
   "source": [
    "plt.style.use(\"ggplot\")\n",
    "sns.set_theme(style=\"white\", rc={\"axes.spines.right\": False, \"axes.spines.top\": False})\n",
    "sns.set_context(\"paper\")  # , font_scale=1.5, rc={\"lines.linewidth\": 1.5})\n",
    "plt.rcParams[\"svg.fonttype\"] = \"none\"\n",
    "plt.rcParams[\"font.family\"] = \"Arial\"\n",
    "plt.rc(\"text\", usetex=False)\n",
    "plt.rc(\"xtick\", labelsize=\"large\")\n",
    "plt.rc(\"ytick\", labelsize=\"large\")\n",
    "plt.rc(\"axes\", labelsize=\"large\")\n",
    "plt.rc(\"pdf\", use14corefonts=True)\n",
    "\n",
    " # Initialize plot\n",
    "f, ax = plt.subplots(1, 1, figsize=(4, 3))\n",
    "\n",
    "# Plot training data as red stars\n",
    "ax.plot(train_x_full.numpy(), train_y_full.numpy(), 'r*')\n",
    "# Plot predictive means as blue line\n",
    "ax.plot(test_x.numpy(), mean.numpy(), 'b')\n",
    "# Shade between the lower and upper confidence bounds\n",
    "ax.fill_between(test_x.numpy(), lower.squeeze().numpy(), upper.squeeze().numpy(), alpha=0.2)\n",
    "ax.legend(['Observed Data', \"Real Function\", 'Mean', 'Confidence'])\n",
    "plt.gca().xaxis.set_major_locator(plt.NullLocator())\n",
    "plt.gca().yaxis.set_major_locator(plt.NullLocator())\n",
    "\n",
    "output_format = \"png\"\n",
    "f.savefig(f\"{output_location}/bo_loop_gp.{output_format}\", bbox_inches=\"tight\", format=f\"{output_format}\", dpi=300)\n"
   ],
   "metadata": {
    "collapsed": false,
    "ExecuteTime": {
     "end_time": "2023-11-05T15:30:46.944309Z",
     "start_time": "2023-11-05T15:30:46.810220Z"
    }
   },
   "id": "57d82bd7aa1c30cf",
   "outputs": []
  },
  {
   "cell_type": "code",
   "execution_count": 20,
   "source": [
    "f, ax = plt.subplots(1, 1, figsize=(4, 3))\n",
    "\n",
    "with torch.no_grad():\n",
    "    ei = botorch.acquisition.ExpectedImprovement(model, best_f = train_y_full.min())(test_x.reshape(-1, 1, 1))\n",
    "\n",
    "data = pd.DataFrame([\n",
    "    {'AF': 'EI', 'f(x)': ei.numpy(), \"x\": test_x.numpy() },\n",
    "])\n",
    "\n",
    "plt.gca().xaxis.set_major_locator(plt.NullLocator())\n",
    "plt.gca().yaxis.set_major_locator(plt.NullLocator())\n",
    "\n",
    "ax = sns.lineplot(data.explode(column=[\"f(x)\", \"x\"]), x=\"x\", y=\"f(x)\", ax=ax, palette = \"hls\")\n",
    "ax.legend(['Expected Improvement(M(X))'])\n",
    "\n",
    "output_format = \"png\"\n",
    "f.savefig(f\"{output_location}/bo_loop_acf.{output_format}\", bbox_inches=\"tight\", format=f\"{output_format}\", dpi=300)\n"
   ],
   "metadata": {
    "collapsed": false,
    "ExecuteTime": {
     "end_time": "2023-11-05T15:30:16.292142Z",
     "start_time": "2023-11-05T15:30:16.167548Z"
    }
   },
   "id": "5190bf6cf875f3e6",
   "outputs": []
  },
  {
   "cell_type": "code",
   "execution_count": 118,
   "source": [],
   "metadata": {
    "collapsed": false,
    "ExecuteTime": {
     "end_time": "2023-10-26T08:02:34.292658Z",
     "start_time": "2023-10-26T08:02:34.262922Z"
    }
   },
   "id": "33639dcab3f06d26",
   "outputs": []
  }
 ],
 "metadata": {
  "kernelspec": {
   "display_name": "Python 3",
   "language": "python",
   "name": "python3"
  },
  "language_info": {
   "codemirror_mode": {
    "name": "ipython",
    "version": 2
   },
   "file_extension": ".py",
   "mimetype": "text/x-python",
   "name": "python",
   "nbconvert_exporter": "python",
   "pygments_lexer": "ipython2",
   "version": "2.7.6"
  }
 },
 "nbformat": 4,
 "nbformat_minor": 5
}
