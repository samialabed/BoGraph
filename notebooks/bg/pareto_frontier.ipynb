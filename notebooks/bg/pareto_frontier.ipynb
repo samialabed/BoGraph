{
 "cells": [
  {
   "cell_type": "code",
   "execution_count": 1,
   "id": "initial_id",
   "metadata": {
    "collapsed": true,
    "ExecuteTime": {
     "end_time": "2023-10-29T19:42:51.764815Z",
     "start_time": "2023-10-29T19:42:51.714019Z"
    }
   },
   "outputs": [],
   "source": [
    "%matplotlib inline\n",
    "%load_ext autoreload\n",
    "%autoreload 2"
   ]
  },
  {
   "cell_type": "code",
   "execution_count": 2,
   "outputs": [],
   "source": [
    "import matplotlib.pyplot as plt\n",
    "import seaborn as sns\n",
    "from autorocks.viz import plots_setup\n",
    "import torch\n",
    "import gpytorch\n",
    "import botorch.posteriors\n",
    "from botorch import models\n",
    "from botorch.optim import fit\n",
    "import torch\n",
    "import numpy as np\n",
    "import pandas as pd\n",
    "import botorch\n",
    "\n",
    "output_location = \"/Users/salabed/workspace/latex_writings/thesis/phd_dissertation/Chapters/Background/Figures/\"\n",
    "plt.style.use(\"ggplot\")\n",
    "sns.set_theme(style=\"ticks\", rc={\"axes.spines.right\": False, \"axes.spines.top\": False})\n",
    "sns.set_context(\"paper\")  # , font_scale=1.5, rc={\"lines.linewidth\": 1.5})\n",
    "plt.rcParams[\"svg.fonttype\"] = \"none\"\n",
    "plt.rcParams[\"font.family\"] = \"Arial\"\n",
    "plt.rc(\"text\", usetex=False)\n",
    "plt.rc(\"xtick\", labelsize=\"large\")\n",
    "plt.rc(\"ytick\", labelsize=\"large\")\n",
    "plt.rc(\"axes\", labelsize=\"large\")\n",
    "plt.rc(\"pdf\", use14corefonts=True)\n",
    "\n"
   ],
   "metadata": {
    "collapsed": false,
    "ExecuteTime": {
     "end_time": "2023-10-29T19:43:05.584798Z",
     "start_time": "2023-10-29T19:43:02.480066Z"
    }
   },
   "id": "8318bace60e1752"
  },
  {
   "cell_type": "code",
   "execution_count": 3,
   "outputs": [],
   "source": [
    "\n",
    "problem = botorch.test_functions.multi_objective.BraninCurrin()"
   ],
   "metadata": {
    "collapsed": false,
    "ExecuteTime": {
     "end_time": "2023-10-29T19:48:22.536793Z",
     "start_time": "2023-10-29T19:48:22.454617Z"
    }
   },
   "id": "f733c7c69708deea"
  },
  {
   "cell_type": "code",
   "execution_count": 106,
   "outputs": [],
   "source": [
    "x_branin, x_currin= torch.meshgrid(torch.linspace(0, 1), torch.linspace(0, 1))\n",
    "with torch.no_grad():\n",
    "    y_branin, y_currin = problem(x_branin), problem(x_currin)\n",
    "\n",
    "    random =  problem(botorch.utils.draw_sobol_samples(bounds=problem.bounds, n=1000, q=1).squeeze(1))\n",
    "    x_branin = torch.concat([y_branin[:, 0], y_currin[:, 0], random[:, 0]])\n",
    "    x_currin = torch.concat([y_branin[:,1], y_currin[:, 1], random[:, 1]])\n",
    "    x_all = torch.vstack([x_branin, x_currin]).T\n"
   ],
   "metadata": {
    "collapsed": false,
    "ExecuteTime": {
     "end_time": "2023-10-29T20:23:48.553440Z",
     "start_time": "2023-10-29T20:23:48.522426Z"
    }
   },
   "id": "63332dbada99710c"
  },
  {
   "cell_type": "code",
   "execution_count": 107,
   "outputs": [],
   "source": [
    "# pred = {\"Branin\": torch.concat([y_branin[:, 0], y_currin[:, 0], random[:, 0]]),\n",
    "#          \"Currin\": torch.concat([y_branin[:,1], y_currin[:, 1], random[:, 1]])}\n",
    "pred = {\"Branin\": x_all[:, 0],\n",
    "         \"Currin\": x_all[:, 1]}\n",
    "\n",
    "df = pd.DataFrame.from_dict(pred)"
   ],
   "metadata": {
    "collapsed": false,
    "ExecuteTime": {
     "end_time": "2023-10-29T20:23:48.915006Z",
     "start_time": "2023-10-29T20:23:48.881198Z"
    }
   },
   "id": "2b148f35bb4a2fb3"
  },
  {
   "cell_type": "code",
   "execution_count": 108,
   "outputs": [],
   "source": [
    "import botorch.utils.multi_objective\n",
    "\n",
    "non_dominated = botorch.utils.multi_objective.is_non_dominated(x_all)"
   ],
   "metadata": {
    "collapsed": false,
    "ExecuteTime": {
     "end_time": "2023-10-29T20:23:49.142826Z",
     "start_time": "2023-10-29T20:23:49.111444Z"
    }
   },
   "id": "b94c4b078ec8c9f8"
  },
  {
   "cell_type": "code",
   "execution_count": 109,
   "outputs": [
    {
     "data": {
      "text/plain": "<AxesSubplot: xlabel='Currin', ylabel='Branin'>"
     },
     "execution_count": 109,
     "metadata": {},
     "output_type": "execute_result"
    },
    {
     "data": {
      "text/plain": "<Figure size 288x216 with 1 Axes>",
      "image/png": "[encoded data removed]"
     },
     "metadata": {},
     "output_type": "display_data"
    }
   ],
   "source": [
    "\n",
    "f, ax = plt.subplots(1, 1, figsize=(4, 3))\n",
    "\n",
    "ax = sns.scatterplot(df, x=\"Currin\", y=\"Branin\", alpha=0.3, s=24, label=\"Observations\", ax=ax)\n",
    "sns.lineplot(\n",
    "    x= x_all[non_dominated][:, 1],\n",
    "    y=x_all[non_dominated][:, 0],\n",
    "    label = \"Pareto-Front\",\n",
    "    color = \"red\",\n",
    "    ax=ax)\n"
   ],
   "metadata": {
    "collapsed": false,
    "ExecuteTime": {
     "end_time": "2023-10-29T20:23:49.740807Z",
     "start_time": "2023-10-29T20:23:49.522572Z"
    }
   },
   "id": "40015771ccecf6a0"
  },
  {
   "cell_type": "code",
   "execution_count": 111,
   "outputs": [
    {
     "name": "stderr",
     "output_type": "stream",
     "text": [
      "findfont: Font family ['Arial'] not found. Falling back to Helvetica.\n",
      "findfont: Font family ['Arial'] not found. Falling back to Helvetica.\n",
      "findfont: Font family 'Arial' not found.\n",
      "findfont: Font family 'Arial' not found.\n",
      "findfont: Font family 'Arial' not found.\n",
      "findfont: Font family 'Arial' not found.\n",
      "findfont: Font family 'Arial' not found.\n",
      "findfont: Font family 'Arial' not found.\n",
      "findfont: Font family 'Arial' not found.\n",
      "findfont: Font family 'Arial' not found.\n",
      "findfont: Font family 'Arial' not found.\n",
      "findfont: Font family 'Arial' not found.\n",
      "findfont: Font family 'Arial' not found.\n",
      "findfont: Font family 'Arial' not found.\n",
      "findfont: Font family 'Arial' not found.\n",
      "findfont: Font family 'Arial' not found.\n",
      "findfont: Font family 'Arial' not found.\n",
      "findfont: Font family 'Arial' not found.\n"
     ]
    }
   ],
   "source": [
    "output_format = \"pdf\"\n",
    "f.savefig(f\"{output_location}/pareto_front.{output_format}\", bbox_inches=\"tight\", format=f\"{output_format}\", dpi=300)\n"
   ],
   "metadata": {
    "collapsed": false,
    "ExecuteTime": {
     "end_time": "2023-10-29T20:24:08.835477Z",
     "start_time": "2023-10-29T20:24:08.136593Z"
    }
   },
   "id": "e31a399900b269dd"
  },
  {
   "cell_type": "code",
   "execution_count": null,
   "outputs": [],
   "source": [],
   "metadata": {
    "collapsed": false
   },
   "id": "3d8f770cb68bf0ba"
  }
 ],
 "metadata": {
  "kernelspec": {
   "display_name": "Python 3",
   "language": "python",
   "name": "python3"
  },
  "language_info": {
   "codemirror_mode": {
    "name": "ipython",
    "version": 2
   },
   "file_extension": ".py",
   "mimetype": "text/x-python",
   "name": "python",
   "nbconvert_exporter": "python",
   "pygments_lexer": "ipython2",
   "version": "2.7.6"
  }
 },
 "nbformat": 4,
 "nbformat_minor": 5
}
