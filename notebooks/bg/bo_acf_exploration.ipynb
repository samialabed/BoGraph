{
 "cells": [
  {
   "cell_type": "code",
   "execution_count": 1,
   "id": "initial_id",
   "metadata": {
    "collapsed": true,
    "ExecuteTime": {
     "end_time": "2023-10-29T11:16:12.399186Z",
     "start_time": "2023-10-29T11:16:12.300327Z"
    }
   },
   "source": [
    "import pandas as pd\n",
    "%matplotlib inline\n",
    "%load_ext autoreload\n",
    "%autoreload 2"
   ],
   "outputs": []
  },
  {
   "cell_type": "code",
   "execution_count": 52,
   "source": [
    "import matplotlib.pyplot as plt\n",
    "import seaborn as sns\n",
    "from autorocks.viz import plots_setup\n",
    "import torch\n",
    "import gpytorch\n",
    "import botorch.posteriors\n",
    "from botorch import models\n",
    "from botorch.optim import fit\n",
    "import torch\n",
    "import numpy as np\n",
    "import pandas as pd\n",
    "import botorch\n",
    "\n",
    "output_location = \"/Users/salabed/workspace/latex_writings/thesis/phd_dissertation/Chapters/Background/Figures/\"\n",
    "plt.style.use(\"ggplot\")\n",
    "sns.set_theme(style=\"ticks\", rc={\"axes.spines.right\": False, \"axes.spines.top\": False})\n",
    "sns.set_context(\"paper\")  # , font_scale=1.5, rc={\"lines.linewidth\": 1.5})\n",
    "plt.rcParams[\"svg.fonttype\"] = \"none\"\n",
    "plt.rcParams[\"font.family\"] = \"Arial\"\n",
    "plt.rc(\"text\", usetex=False)\n",
    "plt.rc(\"xtick\", labelsize=\"large\")\n",
    "plt.rc(\"ytick\", labelsize=\"large\")\n",
    "plt.rc(\"axes\", labelsize=\"large\")\n",
    "plt.rc(\"pdf\", use14corefonts=True)\n",
    "\n",
    "\n",
    "\n",
    "class Forrester(botorch.test_functions.SyntheticTestFunction):\n",
    "\n",
    "    dim = 1\n",
    "    _bounds = [(0.0, 1.0)]\n",
    "    _optimal_value = -6.0\n",
    "    _optimizers = [(0.78)]\n",
    "\n",
    "    def evaluate_true(self, X: torch.Tensor) -> torch.Tensor:\n",
    "        return torch.pow(6 * X - 2, 2) * torch.sin(12 * X - 4) \n",
    "        \n",
    "    \n",
    "problem = Forrester(negate = True)\n",
    "\n"
   ],
   "metadata": {
    "collapsed": false,
    "ExecuteTime": {
     "end_time": "2023-10-29T14:24:21.185951Z",
     "start_time": "2023-10-29T14:24:21.103797Z"
    }
   },
   "id": "abdc17ae6eb5ee7e",
   "outputs": []
  },
  {
   "cell_type": "code",
   "execution_count": 235,
   "source": [
    "num_observations = 1\n",
    "train_x_full, train_y_full = plots_setup.generate_data(num_observations, problem)\n",
    "\n",
    "acf_map = {\n",
    "    \"EI\": botorch.acquisition.ExpectedImprovement,\n",
    "    \"UCB\": botorch.acquisition.UpperConfidenceBound,\n",
    "    \"PI\": botorch.acquisition.ProbabilityOfImprovement\n",
    "}\n"
   ],
   "metadata": {
    "collapsed": false,
    "ExecuteTime": {
     "end_time": "2023-10-29T15:33:21.038171Z",
     "start_time": "2023-10-29T15:33:21.012414Z"
    }
   },
   "id": "d3ce3f6bfc3e3477",
   "outputs": []
  },
  {
   "cell_type": "code",
   "execution_count": 360,
   "source": [
    "test_x = torch.linspace(0, 1)\n",
    "real_y = problem(test_x)\n",
    "predicted = []\n",
    "\n",
    "train_x_full = torch.tensor([[0.2]])\n",
    "for acf_name, func in acf_map.items():\n",
    "    train_x = train_x_full.detach().clone()\n",
    "    for i in range(1, 13):\n",
    "        train_y = problem(train_x)\n",
    "        model = models.FixedNoiseGP(\n",
    "            train_X=train_x,\n",
    "            train_Y=train_y,\n",
    "            train_Yvar=torch.zeros_like(train_y)\n",
    "        )\n",
    "        mll = gpytorch.mlls.ExactMarginalLogLikelihood(model.likelihood, model)\n",
    "        fit.fit_gpytorch_scipy(mll)\n",
    "        cr = plots_setup.predict(model = model, test_x = test_x, observation_noise = False)\n",
    "        lower, upper, mean = cr.lower, cr.upper, cr.mean\n",
    "        # Next get the valuation of the acquisition function\n",
    "        \n",
    "        # Use the next value and append it to train_x\n",
    "        if acf_name == \"UCB\": \n",
    "            acf = func(model=model, beta=1)        \n",
    "        else:\n",
    "            acf = func(model=model, best_f=train_y.max())\n",
    "        new_candidate, acf_value = botorch.optim.optimize_acqf(acf, bounds=torch.tensor(problem._bounds).T, q=1, num_restarts = 1, raw_samples=64)\n",
    "\n",
    "        # Get the whole acf line.\n",
    "        acf_line = acf(test_x.reshape(-1, 1, 1))\n",
    "        if i % 3 == 0:\n",
    "            predicted.append({\n",
    "                  \"x\":test_x.detach().squeeze().cpu().numpy() ,\n",
    "                  # Y: Model prediction\n",
    "                  \"y\": mean.detach().squeeze().cpu().numpy(),\n",
    "                  \"low\": lower.detach().squeeze().cpu().numpy(),\n",
    "                  \"high\": upper.detach().squeeze().cpu().numpy(), \n",
    "                  # X_train: The observation so far\n",
    "                  \"x_train\": train_x.detach().squeeze().cpu().numpy(),\n",
    "                  # Y_train: The observation so far and their value\n",
    "                  \"y_train\": train_y.detach().squeeze().cpu().numpy(),\n",
    "                  # x_truth: the full line  value\n",
    "                  \"x_truth\": test_x.detach().squeeze().cpu().numpy(),\n",
    "                  # y_truth: the full line value\n",
    "                  \"y_truth\": real_y.detach().squeeze().cpu().numpy(),\n",
    "                  # ACF_Value: The AF evaluation that led to choosing the cnadidate\n",
    "                   \"acf_value\": acf_value.detach().squeeze().cpu().numpy()[np.newaxis, ...],\n",
    "                  # acf_line: The evaluation of alpha(x), should be plotted with x_truth\n",
    "                  \"acf_line\": acf_line.detach().squeeze().cpu().numpy(),\n",
    "                  # Candidate: the next candidate as suggested by the optimizer\n",
    "                  \"candidate\": new_candidate.detach().squeeze().cpu().numpy()[np.newaxis, ...],\n",
    "                  \"Obs\": np.array([i]),\n",
    "                  \"AF\": np.array([acf_name])})\n",
    "        train_x = torch.concat([train_x, new_candidate])\n"
   ],
   "metadata": {
    "collapsed": false,
    "ExecuteTime": {
     "end_time": "2023-10-29T18:43:57.098308Z",
     "start_time": "2023-10-29T18:43:53.133279Z"
    }
   },
   "id": "4f357384230f5a04",
   "outputs": []
  },
  {
   "cell_type": "code",
   "execution_count": 361,
   "source": [
    "df = pd.DataFrame.from_dict(predicted)\n"
   ],
   "metadata": {
    "collapsed": false,
    "ExecuteTime": {
     "end_time": "2023-10-29T18:43:57.671741Z",
     "start_time": "2023-10-29T18:43:57.635827Z"
    }
   },
   "id": "5ab90d700aec034e",
   "outputs": []
  },
  {
   "cell_type": "code",
   "execution_count": 362,
   "source": [
    "\n",
    "# df = df.explode(column=[\"x\", \"y\", \"x_train\", \"y_train\", \"x_truth\", \"y_truth\",\"acf_line\"]).reset_index(drop=True)\n",
    "import itertools\n",
    "\n",
    "df1 = (df.apply(lambda x: list(itertools.zip_longest(x[\"x\"], x[\"y\"], x[\"low\"], x[\"high\"], x[\"x_train\"], x[\"y_train\"], x[\"x_truth\"], x[\"y_truth\"],x[\"acf_line\"], x[\"Obs\"], x[\"AF\"], x[\"candidate\"], x[\"acf_value\"])), axis=1)\n",
    "       .explode()\n",
    "       .apply(lambda x: pd.Series(x, index=[\"x\", \"y\", \"low\", \"high\", \"x_train\", \"y_train\", \"x_truth\", \"y_truth\", \"acf_line\", \"Obs\", \"AF\", \"candidate\", \"acf_value\"]))\n",
    "       .groupby(level=0).ffill())\n",
    "\n",
    "df1\n"
   ],
   "metadata": {
    "collapsed": false,
    "ExecuteTime": {
     "end_time": "2023-10-29T18:43:58.189142Z",
     "start_time": "2023-10-29T18:43:58.004828Z"
    }
   },
   "id": "4924caab140729e0",
   "outputs": []
  },
  {
   "cell_type": "code",
   "execution_count": 363,
   "source": [
    "DPI = 300  # default dpi for most printers\n",
    "plt.style.use(\"ggplot\")\n",
    "sns.set_theme(style=\"ticks\", rc={\"axes.spines.right\": False, \"axes.spines.top\": False})\n",
    "sns.set_context(\"paper\", font_scale=1.5, rc={\"lines.linewidth\": 1.5})\n",
    "plt.rcParams[\"svg.fonttype\"] = \"none\"\n",
    "plt.rcParams[\"font.family\"] = \"Arial\"\n",
    "plt.rc(\"text\", usetex=False)\n",
    "plt.rc(\"xtick\", labelsize=\"small\")\n",
    "plt.rc(\"ytick\", labelsize=\"small\")\n",
    "plt.rc(\"axes\", labelsize=\"medium\")\n",
    "plt.rc(\"pdf\", use14corefonts=True)\n",
    "\n",
    "grid = sns.FacetGrid(df1, row=\"AF\", col=\"Obs\", hue=\"AF\", palette=\"hls\")\n",
    "\n",
    "# https://seaborn.pydata.org/examples/many_facets.html\n",
    "grid.map_dataframe(sns.lineplot, \"x_truth\", \"y_truth\", label=\"True Function\", alpha=0.4, color = \"black\", linestyle='--')\n",
    "grid.map_dataframe(sns.scatterplot, \"x_train\", \"y_train\", color='black', marker=\"*\", label=\"Observed\", s=128)\n",
    "grid.map_dataframe(sns.scatterplot, \"candidate\", \"acf_value\", label=\"Next Candidate\", marker=\"+\", color=\"orange\", s=128, linewidth=1.5)\n",
    "grid.map_dataframe(plt.fill_between, \"x\", \"low\", \"high\", label=\"CI\", alpha=0.1)\n",
    "grid.map_dataframe(sns.lineplot, \"x\", \"y\", label=\"prediction\", alpha=0.7)\n",
    "grid.set(xlim=(0, 1))\n",
    "grid.add_legend()\n",
    "\n",
    "output_format = \"svg\"\n",
    "grid.savefig(f\"{output_location}/acf_explores.{output_format}\", bbox_inches=\"tight\", format=f\"{output_format}\", dpi=300)\n"
   ],
   "metadata": {
    "collapsed": false,
    "ExecuteTime": {
     "end_time": "2023-10-29T18:44:03.484748Z",
     "start_time": "2023-10-29T18:43:58.855271Z"
    }
   },
   "id": "dadbc1b05e9d4ff9",
   "outputs": []
  },
  {
   "cell_type": "code",
   "execution_count": 359,
   "source": [
    "grid = sns.FacetGrid(df1, row=\"AF\", col=\"Obs\", hue='AF', palette=\"hls\", sharey=False)\n",
    "grid.map_dataframe(sns.scatterplot, \"candidate\", \"acf_value\", label=\"Next Candidate\", marker=\"+\", color=\"orange\", s=128, linewidth=1.5)\n",
    "grid.map_dataframe(sns.lineplot, \"x\", \"acf_line\", label=\"AF(x)\")\n",
    "grid.set_ylabels(\"AF(x)\")\n",
    "grid.add_legend()\n",
    "\n",
    "output_format = \"svg\"\n",
    "grid.savefig(f\"{output_location}/acf_eval.{output_format}\", bbox_inches=\"tight\", format=f\"{output_format}\", dpi=300)\n"
   ],
   "metadata": {
    "collapsed": false,
    "ExecuteTime": {
     "end_time": "2023-10-29T18:43:43.118308Z",
     "start_time": "2023-10-29T18:43:39.454513Z"
    }
   },
   "id": "6d1537e22aec1c7c",
   "outputs": []
  },
  {
   "cell_type": "code",
   "execution_count": null,
   "source": [],
   "metadata": {
    "collapsed": false
   },
   "id": "6ac261255776e5d6",
   "outputs": []
  }
 ],
 "metadata": {
  "kernelspec": {
   "display_name": "Python 3",
   "language": "python",
   "name": "python3"
  },
  "language_info": {
   "codemirror_mode": {
    "name": "ipython",
    "version": 2
   },
   "file_extension": ".py",
   "mimetype": "text/x-python",
   "name": "python",
   "nbconvert_exporter": "python",
   "pygments_lexer": "ipython2",
   "version": "2.7.6"
  }
 },
 "nbformat": 4,
 "nbformat_minor": 5
}
