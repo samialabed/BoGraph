{
 "cells": [
  {
   "cell_type": "code",
   "execution_count": 1,
   "source": [
    "%matplotlib inline\n",
    "%load_ext autoreload\n",
    "%autoreload 2"
   ],
   "metadata": {
    "collapsed": false,
    "pycharm": {
     "name": "#%%\n"
    }
   },
   "outputs": []
  },
  {
   "cell_type": "code",
   "execution_count": 6,
   "source": [
    "from autorocks.data.loader.all_models_result_aggregator import create_all_models_comparison_dataset\n",
    "from autorocks.global_flags import DEVICE\n",
    "import gpytorch.means as means\n",
    "from botorch.utils.transforms import normalize\n",
    "\n",
    "from autorocks.data.dataset import BOSystemDataset\n",
    "from autorocks.data.debugger import OfflineDebugger\n",
    "from autorocks.dir_struct import LocalResultDir\n",
    "from autorocks.envs.synthetic.funcs.ackley import Ackley6DParametersSpace\n",
    "from autorocks.optimizer.bograph.dag_dao.model_nodes.node_singlegp import SingleTaskGPModelNode\n",
    "import torch\n",
    "\n",
    "\n",
    "data = create_all_models_comparison_dataset(\n",
    "    exp_dir=LocalResultDir / \"synthetic/target/Akcley/6_params/100_iter\", save_results=False\n",
    ")\n",
    "\n",
    "historic_data_df = data.combine_sys_params_metric()\n",
    "sys_param = Ackley6DParametersSpace()\n",
    "dataset = BOSystemDataset(\n",
    "    historic_data_df=historic_data_df,\n",
    "    parameters_name=[\"x1\", \"x2\", \"x3\", \"x4\", \"x5\", \"x6\"],\n",
    "    objectives_name=[\"target\"],\n",
    "    transform=lambda X: normalize(X, bounds=torch.tensor(sys_param.bounds().T)),\n",
    "    target_transform=lambda X: -X,\n",
    ")\n",
    "\n",
    "subset_dataset = (\n",
    "    data.filter_for_specific_models({\"BoTorch_SingleTaskGP\"})\n",
    "    .filter_col_for_values(\"iteration\", {1})\n",
    "    .combine_sys_params_metric()\n",
    ")\n",
    "\n",
    "specific_model_dataset = BOSystemDataset(\n",
    "    historic_data_df=subset_dataset,\n",
    "    parameters_name=[\"x1\", \"x2\", \"x3\", \"x4\", \"x5\", \"x6\"],\n",
    "    objectives_name=[\"target\"],\n",
    "    transform=lambda X: normalize(X, bounds=torch.tensor(sys_param.bounds().T)),\n",
    "    target_transform=lambda X: -X,\n",
    ")\n",
    "debugger = OfflineDebugger(\n",
    "    observed_dataset=dataset,\n",
    "    model_callable=lambda train_x, train_y: SingleTaskGPModelNode(\n",
    "        train_x=train_x, train_y=train_y, mean_module=means.ConstantMean(), small_noise=False\n",
    "    ),\n",
    "    shuffle_dataset=False,\n",
    "    separate_dataset=specific_model_dataset,\n",
    ")"
   ],
   "metadata": {
    "collapsed": false,
    "pycharm": {
     "name": "#%%\n"
    }
   },
   "outputs": []
  },
  {
   "cell_type": "code",
   "execution_count": 21,
   "source": [
    "analysis_res = debugger.regress_against_all_dataset(50)\n",
    "\n",
    "analysis_res.fig"
   ],
   "metadata": {
    "collapsed": false,
    "pycharm": {
     "name": "#%%\n"
    }
   },
   "outputs": []
  },
  {
   "cell_type": "code",
   "execution_count": 22,
   "source": [
    "debugger.regress_on_top_of_test(30)"
   ],
   "metadata": {
    "collapsed": false,
    "pycharm": {
     "name": "#%%\n"
    }
   },
   "outputs": []
  },
  {
   "cell_type": "code",
   "execution_count": 24,
   "source": [
    "from autorocks.optimizer.acqf import AcqfOptimizerCfg\n",
    "from botorch.sampling import SobolQMCNormalSampler\n",
    "import autorocks.optimizer.acqf as acqf_wrapper\n",
    "\n",
    "\n",
    "debugger.regression_at_step(\n",
    "    40,\n",
    "    acqf_wrapper=acqf_wrapper.qUpperConfidenceBoundWrapper(\n",
    "        beta=0.2,\n",
    "        sampler=SobolQMCNormalSampler(num_samples=1024),\n",
    "        optimizer_cfg=AcqfOptimizerCfg(dim=sys_param.dimensions),\n",
    "    ),\n",
    ")"
   ],
   "metadata": {
    "collapsed": false,
    "pycharm": {
     "name": "#%%\n"
    }
   },
   "outputs": []
  },
  {
   "cell_type": "code",
   "execution_count": null,
   "source": [],
   "metadata": {
    "collapsed": false,
    "pycharm": {
     "name": "#%%\n"
    }
   },
   "outputs": []
  }
 ],
 "metadata": {
  "kernelspec": {
   "display_name": "Python 3",
   "language": "python",
   "name": "python3"
  },
  "language_info": {
   "codemirror_mode": {
    "name": "ipython",
    "version": 2
   },
   "file_extension": ".py",
   "mimetype": "text/x-python",
   "name": "python",
   "nbconvert_exporter": "python",
   "pygments_lexer": "ipython2",
   "version": "2.7.6"
  }
 },
 "nbformat": 4,
 "nbformat_minor": 0
}
