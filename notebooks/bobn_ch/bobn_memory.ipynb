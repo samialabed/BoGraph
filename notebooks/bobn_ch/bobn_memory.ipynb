{
 "cells": [
  {
   "cell_type": "code",
   "execution_count": 1,
   "id": "initial_id",
   "metadata": {
    "collapsed": true,
    "ExecuteTime": {
     "end_time": "2023-12-30T13:05:26.397937Z",
     "start_time": "2023-12-30T13:05:23.876277Z"
    }
   },
   "outputs": [],
   "source": [
    "%matplotlib inline\n",
    "%load_ext autoreload\n",
    "%autoreload 2"
   ]
  },
  {
   "cell_type": "code",
   "outputs": [
    {
     "data": {
      "text/plain": "<IPython.core.display.SVG object>",
      "image/svg+xml": "<svg xmlns=\"http://www.w3.org/2000/svg\" xmlns:xlink=\"http://www.w3.org/1999/xlink\" width=\"475pt\" height=\"188pt\" viewBox=\"0.00 0.00 475.29 188.00\">\n<g id=\"graph0\" class=\"graph\" transform=\"scale(1 1) rotate(0) translate(4 184)\">\n<polygon fill=\"#ffffff\" stroke=\"transparent\" points=\"-4,4 -4,-184 471.293,-184 471.293,4 -4,4\"/>\n<!-- x1 -->\n<g id=\"node1\" class=\"node\">\n<title>x1</title>\n<ellipse fill=\"none\" stroke=\"#000000\" cx=\"39.6465\" cy=\"-162\" rx=\"27\" ry=\"18\"/>\n<text text-anchor=\"middle\" x=\"39.6465\" y=\"-158.3\" font-family=\"Times,serif\" font-size=\"14.00\" fill=\"#000000\">x1</text>\n</g>\n<!-- mid(x1) -->\n<g id=\"node2\" class=\"node\">\n<title>mid(x1)</title>\n<ellipse fill=\"none\" stroke=\"#000000\" cx=\"39.6465\" cy=\"-90\" rx=\"39.7935\" ry=\"18\"/>\n<text text-anchor=\"middle\" x=\"39.6465\" y=\"-86.3\" font-family=\"Times,serif\" font-size=\"14.00\" fill=\"#000000\">mid(x1)</text>\n</g>\n<!-- x1&#45;&gt;mid(x1) -->\n<g id=\"edge1\" class=\"edge\">\n<title>x1-&gt;mid(x1)</title>\n<path fill=\"none\" stroke=\"#000000\" d=\"M39.6465,-143.8314C39.6465,-136.131 39.6465,-126.9743 39.6465,-118.4166\"/>\n<polygon fill=\"#000000\" stroke=\"#000000\" points=\"43.1466,-118.4132 39.6465,-108.4133 36.1466,-118.4133 43.1466,-118.4132\"/>\n</g>\n<!-- y -->\n<g id=\"node3\" class=\"node\">\n<title>y</title>\n<ellipse fill=\"none\" stroke=\"#000000\" cx=\"233.6465\" cy=\"-18\" rx=\"27\" ry=\"18\"/>\n<text text-anchor=\"middle\" x=\"233.6465\" y=\"-14.3\" font-family=\"Times,serif\" font-size=\"14.00\" fill=\"#000000\">y</text>\n</g>\n<!-- mid(x1)&#45;&gt;y -->\n<g id=\"edge2\" class=\"edge\">\n<title>mid(x1)-&gt;y</title>\n<path fill=\"none\" stroke=\"#000000\" d=\"M70.3665,-78.4565C76.1075,-76.3059 82.0584,-74.0812 87.6465,-72 126.328,-57.5939 170.8226,-41.1562 200.425,-30.239\"/>\n<polygon fill=\"#000000\" stroke=\"#000000\" points=\"201.6914,-33.5024 209.8632,-26.7591 199.2698,-26.9346 201.6914,-33.5024\"/>\n</g>\n<!-- x2 -->\n<g id=\"node4\" class=\"node\">\n<title>x2</title>\n<ellipse fill=\"none\" stroke=\"#000000\" cx=\"136.6465\" cy=\"-162\" rx=\"27\" ry=\"18\"/>\n<text text-anchor=\"middle\" x=\"136.6465\" y=\"-158.3\" font-family=\"Times,serif\" font-size=\"14.00\" fill=\"#000000\">x2</text>\n</g>\n<!-- mid(x2) -->\n<g id=\"node5\" class=\"node\">\n<title>mid(x2)</title>\n<ellipse fill=\"none\" stroke=\"#000000\" cx=\"136.6465\" cy=\"-90\" rx=\"39.7935\" ry=\"18\"/>\n<text text-anchor=\"middle\" x=\"136.6465\" y=\"-86.3\" font-family=\"Times,serif\" font-size=\"14.00\" fill=\"#000000\">mid(x2)</text>\n</g>\n<!-- x2&#45;&gt;mid(x2) -->\n<g id=\"edge3\" class=\"edge\">\n<title>x2-&gt;mid(x2)</title>\n<path fill=\"none\" stroke=\"#000000\" d=\"M136.6465,-143.8314C136.6465,-136.131 136.6465,-126.9743 136.6465,-118.4166\"/>\n<polygon fill=\"#000000\" stroke=\"#000000\" points=\"140.1466,-118.4132 136.6465,-108.4133 133.1466,-118.4133 140.1466,-118.4132\"/>\n</g>\n<!-- mid(x2)&#45;&gt;y -->\n<g id=\"edge4\" class=\"edge\">\n<title>mid(x2)-&gt;y</title>\n<path fill=\"none\" stroke=\"#000000\" d=\"M157.694,-74.3771C172.2682,-63.5591 191.7738,-49.0808 207.3686,-37.5052\"/>\n<polygon fill=\"#000000\" stroke=\"#000000\" points=\"209.6302,-40.1853 215.5739,-31.4147 205.4581,-34.5645 209.6302,-40.1853\"/>\n</g>\n<!-- x3 -->\n<g id=\"node6\" class=\"node\">\n<title>x3</title>\n<ellipse fill=\"none\" stroke=\"#000000\" cx=\"233.6465\" cy=\"-162\" rx=\"27\" ry=\"18\"/>\n<text text-anchor=\"middle\" x=\"233.6465\" y=\"-158.3\" font-family=\"Times,serif\" font-size=\"14.00\" fill=\"#000000\">x3</text>\n</g>\n<!-- mid(x3) -->\n<g id=\"node7\" class=\"node\">\n<title>mid(x3)</title>\n<ellipse fill=\"none\" stroke=\"#000000\" cx=\"233.6465\" cy=\"-90\" rx=\"39.7935\" ry=\"18\"/>\n<text text-anchor=\"middle\" x=\"233.6465\" y=\"-86.3\" font-family=\"Times,serif\" font-size=\"14.00\" fill=\"#000000\">mid(x3)</text>\n</g>\n<!-- x3&#45;&gt;mid(x3) -->\n<g id=\"edge5\" class=\"edge\">\n<title>x3-&gt;mid(x3)</title>\n<path fill=\"none\" stroke=\"#000000\" d=\"M233.6465,-143.8314C233.6465,-136.131 233.6465,-126.9743 233.6465,-118.4166\"/>\n<polygon fill=\"#000000\" stroke=\"#000000\" points=\"237.1466,-118.4132 233.6465,-108.4133 230.1466,-118.4133 237.1466,-118.4132\"/>\n</g>\n<!-- mid(x3)&#45;&gt;y -->\n<g id=\"edge6\" class=\"edge\">\n<title>mid(x3)-&gt;y</title>\n<path fill=\"none\" stroke=\"#000000\" d=\"M233.6465,-71.8314C233.6465,-64.131 233.6465,-54.9743 233.6465,-46.4166\"/>\n<polygon fill=\"#000000\" stroke=\"#000000\" points=\"237.1466,-46.4132 233.6465,-36.4133 230.1466,-46.4133 237.1466,-46.4132\"/>\n</g>\n<!-- x4 -->\n<g id=\"node8\" class=\"node\">\n<title>x4</title>\n<ellipse fill=\"none\" stroke=\"#000000\" cx=\"330.6465\" cy=\"-162\" rx=\"27\" ry=\"18\"/>\n<text text-anchor=\"middle\" x=\"330.6465\" y=\"-158.3\" font-family=\"Times,serif\" font-size=\"14.00\" fill=\"#000000\">x4</text>\n</g>\n<!-- mid(x4) -->\n<g id=\"node9\" class=\"node\">\n<title>mid(x4)</title>\n<ellipse fill=\"none\" stroke=\"#000000\" cx=\"330.6465\" cy=\"-90\" rx=\"39.7935\" ry=\"18\"/>\n<text text-anchor=\"middle\" x=\"330.6465\" y=\"-86.3\" font-family=\"Times,serif\" font-size=\"14.00\" fill=\"#000000\">mid(x4)</text>\n</g>\n<!-- x4&#45;&gt;mid(x4) -->\n<g id=\"edge7\" class=\"edge\">\n<title>x4-&gt;mid(x4)</title>\n<path fill=\"none\" stroke=\"#000000\" d=\"M330.6465,-143.8314C330.6465,-136.131 330.6465,-126.9743 330.6465,-118.4166\"/>\n<polygon fill=\"#000000\" stroke=\"#000000\" points=\"334.1466,-118.4132 330.6465,-108.4133 327.1466,-118.4133 334.1466,-118.4132\"/>\n</g>\n<!-- mid(x4)&#45;&gt;y -->\n<g id=\"edge8\" class=\"edge\">\n<title>mid(x4)-&gt;y</title>\n<path fill=\"none\" stroke=\"#000000\" d=\"M309.5989,-74.3771C295.0247,-63.5591 275.5192,-49.0808 259.9244,-37.5052\"/>\n<polygon fill=\"#000000\" stroke=\"#000000\" points=\"261.8349,-34.5645 251.7191,-31.4147 257.6627,-40.1853 261.8349,-34.5645\"/>\n</g>\n<!-- x5 -->\n<g id=\"node10\" class=\"node\">\n<title>x5</title>\n<ellipse fill=\"none\" stroke=\"#000000\" cx=\"427.6465\" cy=\"-162\" rx=\"27\" ry=\"18\"/>\n<text text-anchor=\"middle\" x=\"427.6465\" y=\"-158.3\" font-family=\"Times,serif\" font-size=\"14.00\" fill=\"#000000\">x5</text>\n</g>\n<!-- mid(x5) -->\n<g id=\"node11\" class=\"node\">\n<title>mid(x5)</title>\n<ellipse fill=\"none\" stroke=\"#000000\" cx=\"427.6465\" cy=\"-90\" rx=\"39.7935\" ry=\"18\"/>\n<text text-anchor=\"middle\" x=\"427.6465\" y=\"-86.3\" font-family=\"Times,serif\" font-size=\"14.00\" fill=\"#000000\">mid(x5)</text>\n</g>\n<!-- x5&#45;&gt;mid(x5) -->\n<g id=\"edge9\" class=\"edge\">\n<title>x5-&gt;mid(x5)</title>\n<path fill=\"none\" stroke=\"#000000\" d=\"M427.6465,-143.8314C427.6465,-136.131 427.6465,-126.9743 427.6465,-118.4166\"/>\n<polygon fill=\"#000000\" stroke=\"#000000\" points=\"431.1466,-118.4132 427.6465,-108.4133 424.1466,-118.4133 431.1466,-118.4132\"/>\n</g>\n<!-- mid(x5)&#45;&gt;y -->\n<g id=\"edge10\" class=\"edge\">\n<title>mid(x5)-&gt;y</title>\n<path fill=\"none\" stroke=\"#000000\" d=\"M396.9265,-78.4565C391.1854,-76.3059 385.2345,-74.0812 379.6465,-72 340.965,-57.5939 296.4704,-41.1562 266.868,-30.239\"/>\n<polygon fill=\"#000000\" stroke=\"#000000\" points=\"268.0231,-26.9346 257.4297,-26.7591 265.6016,-33.5024 268.0231,-26.9346\"/>\n</g>\n</g>\n</svg>"
     },
     "metadata": {},
     "output_type": "display_data"
    }
   ],
   "source": [
    "import dataclasses\n",
    "\n",
    "import botorch\n",
    "import networkx as nx\n",
    "import torch\n",
    "import math\n",
    "import sysgym.params.boxes as boxes\n",
    "import utils\n",
    "from sysgym.params import ParamsSpace\n",
    "from typing import Mapping\n",
    "\n",
    "tkwargs = {\n",
    "    \"dtype\": torch.double,\n",
    "    \"device\": torch.device(\"cuda\" if torch.cuda.is_available() else \"cpu\"),\n",
    "}\n",
    "\n",
    "\n",
    "@dataclasses.dataclass(init=False, frozen=True)\n",
    "class MichalewiczSpace(ParamsSpace):\n",
    "    x1: boxes.ContinuousBox = boxes.ContinuousBox(0.0, math.pi)\n",
    "    x2: boxes.ContinuousBox = boxes.ContinuousBox(0.0, math.pi)\n",
    "    x3: boxes.ContinuousBox = boxes.ContinuousBox(0.0, math.pi)\n",
    "    x4: boxes.ContinuousBox = boxes.ContinuousBox(0.0, math.pi)\n",
    "    x5: boxes.ContinuousBox = boxes.ContinuousBox(0.0, math.pi)\n",
    "\n",
    "\n",
    "problem = botorch.test_functions.Michalewicz(negate=True, dim=5, noise_std=0.0001)\n",
    "space = MichalewiczSpace()\n",
    "dag = nx.DiGraph()\n",
    "dag.add_node(\"y\")\n",
    "for i in space:\n",
    "    dag.add_node(i)\n",
    "    # One term\n",
    "    # dag.add_edges_from([(i, f\"z({i})\"), (f\"z({i})\", \"y\")])\n",
    "    # Both terms:\n",
    "    # dag.add_edges_from([(i, f\"f1({i})\"), (i, f\"f2({i})\"),\n",
    "    #                     (f\"f1({i})\", \"y\"), (f\"f2({i})\", \"y\")\n",
    "    #                     ])\n",
    "    dag.add_edge(i, f'mid({i})')\n",
    "    dag.add_edge(f'mid({i})', 'y')\n",
    "\n",
    "\n",
    "\n",
    "def eval_structure(x: torch.Tensor) -> torch.Tensor:\n",
    "    m = 10\n",
    "    return torch.sin(x) * torch.sin(problem.i * x**2 / math.pi) ** (2 * m)\n",
    "\n",
    "\n",
    "utils.draw(dag)\n",
    "\n"
   ],
   "metadata": {
    "collapsed": false,
    "ExecuteTime": {
     "end_time": "2023-12-31T12:08:38.923309Z",
     "start_time": "2023-12-31T12:08:38.807368Z"
    }
   },
   "id": "40ec824f31d13a08",
   "execution_count": 2
  },
  {
   "cell_type": "code",
   "outputs": [
    {
     "data": {
      "text/plain": "{'y': [0.2130930870771408,\n  0.5366595983505249,\n  0.9587554931640625,\n  0.8490046262741089,\n  0.7814024686813354,\n  0.2087351381778717,\n  1.188902735710144,\n  0.5117972493171692,\n  0.5820977687835693,\n  0.10621323436498642],\n 'x1': [1.8186140060424805,\n  1.2593423128128052,\n  0.6220703125,\n  2.3577117919921875,\n  2.9683315753936768,\n  0.040596358478069305,\n  1.0722918510437012,\n  2.0348100662231445,\n  2.3400752544403076,\n  0.9326964020729065],\n 'mid(x1)': [0.05819357559084892,\n  4.6690652766301355e-07,\n  3.5814992158743084e-19,\n  0.47462090849876404,\n  4.2001874200892075e-11,\n  0.0,\n  1.0432171793084422e-09,\n  0.4685956537723541,\n  0.533176839351654,\n  4.366846294290294e-12],\n 'x2': [0.49586790800094604,\n  1.689877986907959,\n  0.8099740147590637,\n  2.7962868213653564,\n  1.1882075071334839,\n  2.369180202484131,\n  0.13165535032749176,\n  2.103393793106079,\n  1.164102554321289,\n  3.129321575164795],\n 'mid(x2)': [3.4210661505421227e-17,\n  0.5355473160743713,\n  1.0527697824613824e-08,\n  0.16587567329406738,\n  0.006886698305606842,\n  1.892879453180285e-08,\n  9.400470618076603e-41,\n  1.0469545369540256e-10,\n  0.0037566781975328922,\n  7.715968691995246e-29],\n 'x3': [0.7301967740058899,\n  2.468188524246216,\n  1.2829804420471191,\n  1.8919621706008911,\n  2.7787961959838867,\n  0.20631930232048035,\n  2.1769251823425293,\n  0.8316329717636108,\n  2.0927493572235107,\n  1.0818592309951782],\n 'mid(x3)': [3.824493148840702e-07,\n  6.95800324024276e-08,\n  0.9588558077812195,\n  5.048272130186993e-12,\n  0.03215062618255615,\n  3.0908936713854785e-29,\n  0.5781992673873901,\n  4.211867053527385e-05,\n  0.04521710425615311,\n  0.10516364127397537],\n 'x4': [2.1109299659729004,\n  0.32309281826019287,\n  3.060899496078491,\n  0.9723909497261047,\n  1.378623604774475,\n  2.430173635482788,\n  0.4567478895187378,\n  1.808969497680664,\n  2.661571979522705,\n  1.3584367036819458],\n 'mid(x4)': [1.2285414413781837e-05,\n  8.86035133521635e-19,\n  2.492201929271687e-06,\n  0.2083982676267624,\n  0.0002461593830958009,\n  0.20864716172218323,\n  1.0650115771920765e-12,\n  0.0420294813811779,\n  3.790575409112762e-09,\n  0.0010888497345149517],\n 'x5': [2.9840424060821533,\n  1.214487075805664,\n  0.12622559070587158,\n  1.909391164779663,\n  2.2324578762054443,\n  0.44431450963020325,\n  0.9393017888069153,\n  2.7161507606506348,\n  1.4604426622390747,\n  2.8332414627075195],\n 'mid(x5)': [0.15501022338867188,\n  0.0010873753344640136,\n  1.5183139620926648e-33,\n  1.8875064711210143e-07,\n  0.7422512769699097,\n  2.7160855162189357e-11,\n  0.6107476949691772,\n  0.0008591887890361249,\n  9.274439939990775e-13,\n  6.8916180305056505e-15]}"
     },
     "execution_count": 3,
     "metadata": {},
     "output_type": "execute_result"
    }
   ],
   "source": [
    "from autorocks.viz import plots_setup\n",
    "\n",
    "initial_train_x, initial_train_y = plots_setup.generate_data(10, problem)\n",
    "\n",
    "initial_structure = eval_structure(initial_train_x)\n",
    "\n",
    "initial_data = {\n",
    "    'y': initial_train_y.tolist()\n",
    "}\n",
    "for idx, i in enumerate(space):\n",
    "    initial_data[i] = initial_train_x[:, idx].tolist()\n",
    "    initial_data[f\"mid({i})\"] = initial_structure[:, idx].tolist()\n",
    "initial_data"
   ],
   "metadata": {
    "collapsed": false
   },
   "id": "e759e6326a3578ab",
   "execution_count": 3
  },
  {
   "cell_type": "code",
   "execution_count": 4,
   "outputs": [
    {
     "name": "stdout",
     "output_type": "stream",
     "text": [
      "True\n"
     ]
    }
   ],
   "source": [
    "from notebooks.bobn_ch import bench_util\n",
    "\n",
    "num_optimization_rounds = 150\n",
    "num_restarts = 3\n",
    "print(torch.cuda.is_available())"
   ],
   "metadata": {
    "collapsed": false
   },
   "id": "d8eee194eeeae5d8"
  },
  {
   "cell_type": "code",
   "outputs": [
    {
     "name": "stdout",
     "output_type": "stream",
     "text": [
      "group={'x5', 'mid(x5)'}\n",
      "group={'mid(x1)', 'x1'}\n",
      "group={'mid(x4)', 'x4'}\n",
      "group={'x3', 'mid(x3)'}\n",
      "group={'x2', 'mid(x2)'}\n",
      "Built independent subgraph: {'x5', 'y', 'mid(x5)'}\n",
      "Built independent subgraph: {'x1', 'mid(x1)', 'y'}\n",
      "Built independent subgraph: {'mid(x4)', 'y', 'x4'}\n",
      "Built independent subgraph: {'x3', 'mid(x3)', 'y'}\n",
      "Built independent subgraph: {'x2', 'y', 'mid(x2)'}\n",
      "restart_id=0/3\n",
      "ExperimentResult(model='BoBn', step=0, restart=0, candidate={'x5': 0.9965815271862424, 'x1': 2.2032312591602126, 'x4': 1.1138853241022653, 'x3': 1.2851076120751022, 'x2': 1.5708249919144317}, result=4.495931625366211, best_f=4.495931625366211, steps_to_best_f=0, peak_memory=152654848, runtime_ms=14.052942991256714)\n",
      "ExperimentResult(model='BoBn', step=1, restart=0, candidate={'x5': 0.9965818213766389, 'x1': 2.203242494199788, 'x4': 1.1138845923835656, 'x3': 1.2851073550945915, 'x2': 1.5708251030427913}, result=4.495838165283203, best_f=4.495931625366211, steps_to_best_f=0, peak_memory=152152576, runtime_ms=20.23135280609131)\n",
      "ExperimentResult(model='BoBn', step=2, restart=0, candidate={'x5': 0.9965816808810518, 'x1': 2.2031958568688097, 'x4': 1.1138844281058706, 'x3': 1.2851074319531135, 'x2': 1.5708252112545684}, result=4.495879650115967, best_f=4.495931625366211, steps_to_best_f=0, peak_memory=154401280, runtime_ms=17.888208389282227)\n",
      "ExperimentResult(model='BoBn', step=3, restart=0, candidate={'x5': 0.9965819069565599, 'x1': 2.2031967309273477, 'x4': 1.1138839181670528, 'x3': 1.2851071119757893, 'x2': 1.570824976869801}, result=4.495866775512695, best_f=4.495931625366211, steps_to_best_f=0, peak_memory=152711680, runtime_ms=19.92200756072998)\n",
      "ExperimentResult(model='BoBn', step=4, restart=0, candidate={'x5': 0.9965820979666967, 'x1': 2.2031975572526585, 'x4': 1.1138834149729004, 'x3': 1.2851072173320564, 'x2': 1.5708247290275617}, result=4.495842456817627, best_f=4.495931625366211, steps_to_best_f=0, peak_memory=153796608, runtime_ms=12.771425247192383)\n",
      "ExperimentResult(model='BoBn', step=5, restart=0, candidate={'x5': 0.996582214446019, 'x1': 2.203228460612419, 'x4': 1.1138830243202833, 'x3': 1.2851068977367317, 'x2': 1.5708250967970896}, result=4.4958343505859375, best_f=4.495931625366211, steps_to_best_f=0, peak_memory=152796672, runtime_ms=14.319472074508667)\n",
      "ExperimentResult(model='BoBn', step=6, restart=0, candidate={'x5': 0.9965824958789444, 'x1': 2.2031991558175164, 'x4': 1.113882456107351, 'x3': 1.2851067509466452, 'x2': 1.570824811667953}, result=4.495776176452637, best_f=4.495931625366211, steps_to_best_f=0, peak_memory=153217024, runtime_ms=15.117735147476196)\n",
      "ExperimentResult(model='BoBn', step=7, restart=0, candidate={'x5': 0.9965827867672149, 'x1': 2.2031998605004217, 'x4': 1.1138819300590803, 'x3': 1.285106749614861, 'x2': 1.570824407130322}, result=4.495898723602295, best_f=4.495931625366211, steps_to_best_f=0, peak_memory=154464256, runtime_ms=12.137726783752441)\n",
      "ExperimentResult(model='BoBn', step=8, restart=0, candidate={'x5': 0.9965829788124304, 'x1': 2.203200661292707, 'x4': 1.1138814013247729, 'x3': 1.2851066087876326, 'x2': 1.5708241136455083}, result=4.495926856994629, best_f=4.495931625366211, steps_to_best_f=0, peak_memory=153055232, runtime_ms=10.70266342163086)\n",
      "ExperimentResult(model='BoBn', step=9, restart=0, candidate={'x5': 0.9965831748703345, 'x1': 2.20320139043953, 'x4': 1.1138807771847778, 'x3': 1.285106526139156, 'x2': 1.5708240994684672}, result=4.495908260345459, best_f=4.495931625366211, steps_to_best_f=0, peak_memory=153690112, runtime_ms=12.741262674331665)\n",
      "ExperimentResult(model='BoBn', step=10, restart=0, candidate={'x5': 0.9965834807632522, 'x1': 2.203202173221485, 'x4': 1.1138807085255304, 'x3': 1.285106470597582, 'x2': 1.5708234728824866}, result=4.495890140533447, best_f=4.495931625366211, steps_to_best_f=0, peak_memory=155947520, runtime_ms=8.237012147903442)\n",
      "ExperimentResult(model='BoBn', step=11, restart=0, candidate={'x5': 0.9965836380842619, 'x1': 2.2032028758572064, 'x4': 1.1138799392307879, 'x3': 1.2851063318906848, 'x2': 1.5708227692418615}, result=4.495870113372803, best_f=4.495931625366211, steps_to_best_f=0, peak_memory=155530240, runtime_ms=15.258729696273804)\n",
      "ExperimentResult(model='BoBn', step=12, restart=0, candidate={'x5': 0.9965837435340914, 'x1': 2.203203556134122, 'x4': 1.1138794191692283, 'x3': 1.2851062601501886, 'x2': 1.5708238712118712}, result=4.495956897735596, best_f=4.495956897735596, steps_to_best_f=12, peak_memory=156307456, runtime_ms=9.949926614761353)\n",
      "ExperimentResult(model='BoBn', step=13, restart=0, candidate={'x5': 0.9965840371972793, 'x1': 2.203204327580263, 'x4': 1.1138789718354936, 'x3': 1.285106141825994, 'x2': 1.5708237160731933}, result=4.4958672523498535, best_f=4.495956897735596, steps_to_best_f=12, peak_memory=154923520, runtime_ms=17.252527236938477)\n",
      "ExperimentResult(model='BoBn', step=14, restart=0, candidate={'x5': 0.9965840410742526, 'x1': 2.2032050593750117, 'x4': 1.1138783730080153, 'x3': 1.2851060782481911, 'x2': 1.5708235014255167}, result=4.4959235191345215, best_f=4.495956897735596, steps_to_best_f=12, peak_memory=156263424, runtime_ms=14.342121362686157)\n",
      "ExperimentResult(model='BoBn', step=15, restart=0, candidate={'x5': 0.9965842296357, 'x1': 2.203205826824594, 'x4': 1.113878156310637, 'x3': 1.2851058999207692, 'x2': 1.5708234101063119}, result=4.495873928070068, best_f=4.495956897735596, steps_to_best_f=12, peak_memory=156388352, runtime_ms=6.301906108856201)\n",
      "ExperimentResult(model='BoBn', step=16, restart=0, candidate={'x5': 0.9965846619308772, 'x1': 2.203206475623183, 'x4': 1.1138781996996472, 'x3': 1.2851058006864555, 'x2': 1.5708232990343631}, result=4.495738983154297, best_f=4.495956897735596, steps_to_best_f=12, peak_memory=156216832, runtime_ms=14.005552291870117)\n",
      "ExperimentResult(model='BoBn', step=17, restart=0, candidate={'x5': 0.9965846334051965, 'x1': 2.203207103016952, 'x4': 1.113876852846071, 'x3': 1.2851057110902675, 'x2': 1.570823226897055}, result=4.495837211608887, best_f=4.495956897735596, steps_to_best_f=12, peak_memory=158126080, runtime_ms=10.974882364273071)\n",
      "ExperimentResult(model='BoBn', step=18, restart=0, candidate={'x5': 0.9965848609301484, 'x1': 2.2032076675544534, 'x4': 1.113876374831195, 'x3': 1.2851055242904306, 'x2': 1.5708417949177362}, result=4.495945453643799, best_f=4.495956897735596, steps_to_best_f=12, peak_memory=157495808, runtime_ms=22.56573462486267)\n",
      "ExperimentResult(model='BoBn', step=19, restart=0, candidate={'x5': 0.9965849771963883, 'x1': 2.2032083453931732, 'x4': 1.1138758908754103, 'x3': 1.2851054501653254, 'x2': 1.570816745652166}, result=4.4957709312438965, best_f=4.495956897735596, steps_to_best_f=12, peak_memory=157639680, runtime_ms=19.181766510009766)\n",
      "ExperimentResult(model='BoBn', step=20, restart=0, candidate={'x5': 0.9965853833129268, 'x1': 2.203208918506742, 'x4': 1.1138756340123956, 'x3': 1.2851053343960135, 'x2': 1.570822960912101}, result=4.495838642120361, best_f=4.495956897735596, steps_to_best_f=12, peak_memory=157898752, runtime_ms=6.636877775192261)\n",
      "ExperimentResult(model='BoBn', step=21, restart=0, candidate={'x5': 0.9965853387885492, 'x1': 2.20320947754834, 'x4': 1.1138751822801305, 'x3': 1.2851052403450212, 'x2': 1.5708226575514974}, result=4.4959564208984375, best_f=4.495956897735596, steps_to_best_f=12, peak_memory=158724096, runtime_ms=12.379842519760132)\n",
      "ExperimentResult(model='BoBn', step=22, restart=0, candidate={'x5': 0.9965854660810372, 'x1': 2.203209997362247, 'x4': 1.1138747150986197, 'x3': 1.2851050919189808, 'x2': 1.5708225830596054}, result=4.4960479736328125, best_f=4.4960479736328125, steps_to_best_f=22, peak_memory=158074368, runtime_ms=11.28957200050354)\n",
      "ExperimentResult(model='BoBn', step=23, restart=0, candidate={'x5': 0.9965857162004813, 'x1': 2.203210418855655, 'x4': 1.1138742420243184, 'x3': 1.2851049576359042, 'x2': 1.57082253911264}, result=4.495805740356445, best_f=4.4960479736328125, steps_to_best_f=22, peak_memory=158794240, runtime_ms=27.59387707710266)\n",
      "ExperimentResult(model='BoBn', step=24, restart=0, candidate={'x5': 0.9965860175742102, 'x1': 2.2032109452913753, 'x4': 1.1138734948799285, 'x3': 1.2851049089820483, 'x2': 1.5708222424145124}, result=4.495927333831787, best_f=4.4960479736328125, steps_to_best_f=22, peak_memory=159243776, runtime_ms=11.777690172195435)\n",
      "ExperimentResult(model='BoBn', step=25, restart=0, candidate={'x5': 0.9965858467088282, 'x1': 2.203211304231519, 'x4': 1.113873199139356, 'x3': 1.2851047395250572, 'x2': 1.5708224741415786}, result=4.4957451820373535, best_f=4.4960479736328125, steps_to_best_f=22, peak_memory=161103872, runtime_ms=12.169773578643799)\n",
      "ExperimentResult(model='BoBn', step=26, restart=0, candidate={'x5': 0.996586377235809, 'x1': 2.2032118300425254, 'x4': 1.1138727566164732, 'x3': 1.2851046737260563, 'x2': 1.5708220897468286}, result=4.495781898498535, best_f=4.4960479736328125, steps_to_best_f=22, peak_memory=159102976, runtime_ms=18.93390464782715)\n",
      "ExperimentResult(model='BoBn', step=27, restart=0, candidate={'x5': 0.9965864707734381, 'x1': 2.203212154998298, 'x4': 1.1138722601039375, 'x3': 1.285104599889427, 'x2': 1.5708220189752633}, result=4.495944976806641, best_f=4.4960479736328125, steps_to_best_f=22, peak_memory=160159744, runtime_ms=17.98506736755371)\n",
      "ExperimentResult(model='BoBn', step=28, restart=0, candidate={'x5': 0.9965867167134774, 'x1': 2.2032125993756653, 'x4': 1.1138721796524136, 'x3': 1.2851044771317601, 'x2': 1.5708218862777117}, result=4.495851993560791, best_f=4.4960479736328125, steps_to_best_f=22, peak_memory=161878016, runtime_ms=13.931901931762695)\n",
      "ExperimentResult(model='BoBn', step=29, restart=0, candidate={'x5': 0.9965858772785248, 'x1': 2.2032129186937595, 'x4': 1.1138714935419878, 'x3': 1.2851043450576085, 'x2': 1.570841500055455}, result=4.495896816253662, best_f=4.4960479736328125, steps_to_best_f=22, peak_memory=163340288, runtime_ms=10.317326545715332)\n",
      "ExperimentResult(model='BoBn', step=30, restart=0, candidate={'x5': 0.9965869225471006, 'x1': 2.2032132721168973, 'x4': 1.1139348074498898, 'x3': 1.2851042658806948, 'x2': 1.5708415642403701}, result=4.495921611785889, best_f=4.4960479736328125, steps_to_best_f=22, peak_memory=164334080, runtime_ms=11.368336200714111)\n",
      "ExperimentResult(model='BoBn', step=31, restart=0, candidate={'x5': 0.9965870498674128, 'x1': 2.2032137353852947, 'x4': 1.1138704421600942, 'x3': 1.2851039538595508, 'x2': 1.5708415731366994}, result=4.495853424072266, best_f=4.4960479736328125, steps_to_best_f=22, peak_memory=164000256, runtime_ms=12.578874826431274)\n",
      "ExperimentResult(model='BoBn', step=32, restart=0, candidate={'x5': 0.9965874594935051, 'x1': 2.203214014319847, 'x4': 1.1138688373095884, 'x3': 1.285104058359883, 'x2': 1.5708416168944146}, result=4.495798587799072, best_f=4.4960479736328125, steps_to_best_f=22, peak_memory=164896768, runtime_ms=8.274059057235718)\n",
      "ExperimentResult(model='BoBn', step=33, restart=0, candidate={'x5': 0.9965877249483956, 'x1': 2.203214280469561, 'x4': 1.1139364743417477, 'x3': 1.2851039522977485, 'x2': 1.5708415554853605}, result=4.495851516723633, best_f=4.4960479736328125, steps_to_best_f=22, peak_memory=163566592, runtime_ms=12.26018762588501)\n",
      "ExperimentResult(model='BoBn', step=34, restart=0, candidate={'x5': 0.9965877121271842, 'x1': 2.2032145589442895, 'x4': 1.1138727728200821, 'x3': 1.2851038795989034, 'x2': 1.5708414784564935}, result=4.495832920074463, best_f=4.4960479736328125, steps_to_best_f=22, peak_memory=163947520, runtime_ms=11.571845769882202)\n",
      "ExperimentResult(model='BoBn', step=35, restart=0, candidate={'x5': 0.9965877586311457, 'x1': 2.2032149304525794, 'x4': 1.1138688952227853, 'x3': 1.2851037701353192, 'x2': 1.5708414046322858}, result=4.49580717086792, best_f=4.4960479736328125, steps_to_best_f=22, peak_memory=166874112, runtime_ms=11.546199321746826)\n",
      "ExperimentResult(model='BoBn', step=36, restart=0, candidate={'x5': 0.9965876744365214, 'x1': 2.203215204049355, 'x4': 1.1138734493546845, 'x3': 1.2851038111231394, 'x2': 1.570841240066907}, result=4.4957075119018555, best_f=4.4960479736328125, steps_to_best_f=22, peak_memory=166526464, runtime_ms=11.917354106903076)\n",
      "ExperimentResult(model='BoBn', step=37, restart=0, candidate={'x5': 0.9965879908724704, 'x1': 2.203215405819836, 'x4': 1.1138679116350303, 'x3': 1.2851035947617448, 'x2': 1.5708412487710561}, result=4.495966911315918, best_f=4.4960479736328125, steps_to_best_f=22, peak_memory=165848064, runtime_ms=15.224871158599854)\n",
      "ExperimentResult(model='BoBn', step=38, restart=0, candidate={'x5': 0.9965887217022241, 'x1': 2.203215529000729, 'x4': 1.113867513600298, 'x3': 1.2851035625718878, 'x2': 1.570841007665264}, result=4.495913028717041, best_f=4.4960479736328125, steps_to_best_f=22, peak_memory=165955072, runtime_ms=19.479087352752686)\n",
      "ExperimentResult(model='BoBn', step=39, restart=0, candidate={'x5': 0.9965883222033636, 'x1': 2.2032158000559745, 'x4': 1.1138664766894877, 'x3': 1.285103454246994, 'x2': 1.5708409667087513}, result=4.495931625366211, best_f=4.4960479736328125, steps_to_best_f=22, peak_memory=166222336, runtime_ms=8.145357370376587)\n",
      "ExperimentResult(model='BoBn', step=40, restart=0, candidate={'x5': 0.9965884759523674, 'x1': 2.203215911559099, 'x4': 1.1138666222819473, 'x3': 1.2851034202077565, 'x2': 1.5708407625269445}, result=4.495882987976074, best_f=4.4960479736328125, steps_to_best_f=22, peak_memory=166422528, runtime_ms=18.57503366470337)\n",
      "ExperimentResult(model='BoBn', step=41, restart=0, candidate={'x5': 0.996588688739055, 'x1': 2.203216081280204, 'x4': 1.1138662272412962, 'x3': 1.28510345856091, 'x2': 1.570834996233751}, result=4.49601411819458, best_f=4.4960479736328125, steps_to_best_f=22, peak_memory=168626688, runtime_ms=13.46573519706726)\n",
      "ExperimentResult(model='BoBn', step=42, restart=0, candidate={'x5': 0.9965894589608003, 'x1': 2.2032162522025627, 'x4': 1.1138657677362236, 'x3': 1.2851034401845602, 'x2': 1.570819644064165}, result=4.4959821701049805, best_f=4.4960479736328125, steps_to_best_f=22, peak_memory=168105984, runtime_ms=15.490473747253418)\n",
      "ExperimentResult(model='BoBn', step=43, restart=0, candidate={'x5': 0.9965889946551323, 'x1': 2.203216388799506, 'x4': 1.1138653377736036, 'x3': 1.285103559734823, 'x2': 1.5708201943133524}, result=4.4959893226623535, best_f=4.4960479736328125, steps_to_best_f=22, peak_memory=167832576, runtime_ms=14.222790241241455)\n",
      "ExperimentResult(model='BoBn', step=44, restart=0, candidate={'x5': 0.9965892333814242, 'x1': 2.203216559224143, 'x4': 1.1138648296059919, 'x3': 1.2851254669864778, 'x2': 1.5708196328964255}, result=4.495635986328125, best_f=4.4960479736328125, steps_to_best_f=22, peak_memory=168500224, runtime_ms=21.146624326705933)\n",
      "ExperimentResult(model='BoBn', step=45, restart=0, candidate={'x5': 0.9965892231562793, 'x1': 2.203216717814584, 'x4': 1.1138644393912207, 'x3': 1.285104387947361, 'x2': 1.57081988095331}, result=4.496191501617432, best_f=4.496191501617432, steps_to_best_f=45, peak_memory=168905216, runtime_ms=11.572703838348389)\n",
      "ExperimentResult(model='BoBn', step=46, restart=0, candidate={'x5': 0.9965897288288665, 'x1': 2.2032167987702853, 'x4': 1.113864099460584, 'x3': 1.2851057053495338, 'x2': 1.5708200246862054}, result=4.495882511138916, best_f=4.496191501617432, steps_to_best_f=45, peak_memory=168209408, runtime_ms=11.380799770355225)\n",
      "ExperimentResult(model='BoBn', step=47, restart=0, candidate={'x5': 0.9965900482376768, 'x1': 2.2032170769768262, 'x4': 1.1138636230110779, 'x3': 1.2851088901620904, 'x2': 1.5708196956472487}, result=4.4957451820373535, best_f=4.496191501617432, steps_to_best_f=45, peak_memory=168489472, runtime_ms=11.502148389816284)\n",
      "ExperimentResult(model='BoBn', step=48, restart=0, candidate={'x5': 0.9965898735832649, 'x1': 2.2032170030518747, 'x4': 1.1138557700025264, 'x3': 1.2851105625364883, 'x2': 1.5708196390715121}, result=4.495826721191406, best_f=4.496191501617432, steps_to_best_f=45, peak_memory=168796160, runtime_ms=15.43988823890686)\n",
      "ExperimentResult(model='BoBn', step=49, restart=0, candidate={'x5': 0.9965899443444948, 'x1': 2.2032130083988193, 'x4': 1.1138656950665626, 'x3': 1.2851074566541365, 'x2': 1.570820604623341}, result=4.495968341827393, best_f=4.496191501617432, steps_to_best_f=45, peak_memory=168843264, runtime_ms=13.462152481079102)\n",
      "ExperimentResult(model='BoBn', step=50, restart=0, candidate={'x5': 0.9965903273970177, 'x1': 2.203217154425802, 'x4': 1.113859988796803, 'x3': 1.2851244839566176, 'x2': 1.5708193299174527}, result=4.495928764343262, best_f=4.496191501617432, steps_to_best_f=45, peak_memory=169557504, runtime_ms=14.938246488571167)\n",
      "ExperimentResult(model='BoBn', step=51, restart=0, candidate={'x5': 0.9965904324535766, 'x1': 2.203217043927442, 'x4': 1.1138620051050638, 'x3': 1.2851034431554005, 'x2': 1.5708193659381853}, result=4.495799541473389, best_f=4.496191501617432, steps_to_best_f=45, peak_memory=169266176, runtime_ms=13.720871925354004)\n",
      "ExperimentResult(model='BoBn', step=52, restart=0, candidate={'x5': 0.9965903066001419, 'x1': 2.203217006327591, 'x4': 1.113861774779254, 'x3': 1.2851028650631968, 'x2': 1.5708197072112948}, result=4.495856285095215, best_f=4.496191501617432, steps_to_best_f=45, peak_memory=170473984, runtime_ms=12.382892370223999)\n",
      "ExperimentResult(model='BoBn', step=53, restart=0, candidate={'x5': 0.9965904436256922, 'x1': 2.2032168296089636, 'x4': 1.1139253530801994, 'x3': 1.2851024750702311, 'x2': 1.5708202991022813}, result=4.495805740356445, best_f=4.496191501617432, steps_to_best_f=45, peak_memory=170745856, runtime_ms=13.678953409194946)\n",
      "ExperimentResult(model='BoBn', step=54, restart=0, candidate={'x5': 0.9965916167208296, 'x1': 2.2032170795195785, 'x4': 1.113862660599888, 'x3': 1.285102133231721, 'x2': 1.5708213994743025}, result=4.495840072631836, best_f=4.496191501617432, steps_to_best_f=45, peak_memory=172051456, runtime_ms=22.74295949935913)\n",
      "ExperimentResult(model='BoBn', step=55, restart=0, candidate={'x5': 0.9965906720955467, 'x1': 2.2031995362573245, 'x4': 1.1138604074485967, 'x3': 1.285101889250991, 'x2': 1.5708221205472583}, result=4.495956897735596, best_f=4.496191501617432, steps_to_best_f=45, peak_memory=171485184, runtime_ms=8.333568334579468)\n",
      "ExperimentResult(model='BoBn', step=56, restart=0, candidate={'x5': 0.9965911509354617, 'x1': 2.203198940788387, 'x4': 1.113860192410945, 'x3': 1.2851017758966654, 'x2': 1.570818881858201}, result=4.495872497558594, best_f=4.496191501617432, steps_to_best_f=45, peak_memory=171750912, runtime_ms=13.580161333084106)\n",
      "ExperimentResult(model='BoBn', step=57, restart=0, candidate={'x5': 0.9965918922004392, 'x1': 2.2032156385080865, 'x4': 1.113859664741253, 'x3': 1.2851015850563585, 'x2': 1.570818563885977}, result=4.496102809906006, best_f=4.496191501617432, steps_to_best_f=45, peak_memory=172103680, runtime_ms=28.394193410873413)\n",
      "ExperimentResult(model='BoBn', step=58, restart=0, candidate={'x5': 0.9965914081144561, 'x1': 2.2032162501000796, 'x4': 1.1138592813877957, 'x3': 1.2851013504007285, 'x2': 1.5708186908391018}, result=4.495859622955322, best_f=4.496191501617432, steps_to_best_f=45, peak_memory=172716544, runtime_ms=17.61160969734192)\n",
      "ExperimentResult(model='BoBn', step=59, restart=0, candidate={'x5': 0.9965914354946303, 'x1': 2.2031974399410936, 'x4': 1.1139221366748986, 'x3': 1.2851012933299808, 'x2': 1.5708185058928459}, result=4.495933532714844, best_f=4.496191501617432, steps_to_best_f=45, peak_memory=173010432, runtime_ms=12.786003589630127)\n",
      "ExperimentResult(model='BoBn', step=60, restart=0, candidate={'x5': 0.9965916863089566, 'x1': 2.2032161373289676, 'x4': 1.1139171823928935, 'x3': 1.2851011858077834, 'x2': 1.5708183387085937}, result=4.496037006378174, best_f=4.496191501617432, steps_to_best_f=45, peak_memory=174306816, runtime_ms=12.863569259643555)\n",
      "ExperimentResult(model='BoBn', step=61, restart=0, candidate={'x5': 0.9965919164198631, 'x1': 2.20321558741729, 'x4': 1.1138591359834766, 'x3': 1.28510104004284, 'x2': 1.5708181354685842}, result=4.4958930015563965, best_f=4.496191501617432, steps_to_best_f=45, peak_memory=173795328, runtime_ms=10.391126871109009)\n",
      "ExperimentResult(model='BoBn', step=62, restart=0, candidate={'x5': 0.9965919272692726, 'x1': 2.203205455832797, 'x4': 1.1138509512236154, 'x3': 1.2851008682876042, 'x2': 1.5708181371515857}, result=4.496023654937744, best_f=4.496191501617432, steps_to_best_f=45, peak_memory=175122432, runtime_ms=14.5043785572052)\n",
      "ExperimentResult(model='BoBn', step=63, restart=0, candidate={'x5': 0.9965921974292327, 'x1': 2.203205207928759, 'x4': 1.113857360787465, 'x3': 1.2851006673962988, 'x2': 1.5708178610124264}, result=4.495872497558594, best_f=4.496191501617432, steps_to_best_f=45, peak_memory=175549440, runtime_ms=29.494876384735107)\n",
      "ExperimentResult(model='BoBn', step=64, restart=0, candidate={'x5': 0.9965921382588024, 'x1': 2.2032152380143546, 'x4': 1.1139193025103546, 'x3': 1.2851007600531972, 'x2': 1.57081793836151}, result=4.495936870574951, best_f=4.496191501617432, steps_to_best_f=45, peak_memory=175076864, runtime_ms=24.648728370666504)\n",
      "ExperimentResult(model='BoBn', step=65, restart=0, candidate={'x5': 0.9965923933635357, 'x1': 2.2032161411919895, 'x4': 1.1138565486802388, 'x3': 1.2851007432404626, 'x2': 1.5708169445034703}, result=4.496028423309326, best_f=4.496191501617432, steps_to_best_f=45, peak_memory=176253952, runtime_ms=13.651482343673706)\n",
      "ExperimentResult(model='BoBn', step=66, restart=0, candidate={'x5': 0.9965921300404567, 'x1': 2.203193589368328, 'x4': 1.1139188792942134, 'x3': 1.2851005358071257, 'x2': 1.5708176191799743}, result=4.495802402496338, best_f=4.496191501617432, steps_to_best_f=45, peak_memory=176707072, runtime_ms=12.800508975982666)\n",
      "ExperimentResult(model='BoBn', step=67, restart=0, candidate={'x5': 0.9965929066685049, 'x1': 2.203214599553783, 'x4': 1.1138557968729879, 'x3': 1.2851004050191288, 'x2': 1.5708171157580872}, result=4.495873928070068, best_f=4.496191501617432, steps_to_best_f=45, peak_memory=176962560, runtime_ms=24.621021032333374)\n",
      "ExperimentResult(model='BoBn', step=68, restart=0, candidate={'x5': 0.9965930615298342, 'x1': 2.2031924635781257, 'x4': 1.1138552480200568, 'x3': 1.2851216803354981, 'x2': 1.5708174513917297}, result=4.495803356170654, best_f=4.496191501617432, steps_to_best_f=45, peak_memory=177555968, runtime_ms=12.84635066986084)\n",
      "ExperimentResult(model='BoBn', step=69, restart=0, candidate={'x5': 0.996592766740836, 'x1': 2.203191899307794, 'x4': 1.1139157460882356, 'x3': 1.2851220701041506, 'x2': 1.5708168038089396}, result=4.496011734008789, best_f=4.496191501617432, steps_to_best_f=45, peak_memory=178747392, runtime_ms=12.318702220916748)\n",
      "ExperimentResult(model='BoBn', step=70, restart=0, candidate={'x5': 0.9965929907941811, 'x1': 2.2031911774613304, 'x4': 1.1138548371999288, 'x3': 1.2851219182985378, 'x2': 1.5708173749772905}, result=4.495689868927002, best_f=4.496191501617432, steps_to_best_f=45, peak_memory=179088384, runtime_ms=20.585260152816772)\n",
      "ExperimentResult(model='BoBn', step=71, restart=0, candidate={'x5': 0.9965931521942568, 'x1': 2.2031906755824706, 'x4': 1.1138543355201098, 'x3': 1.2851217024922457, 'x2': 1.570816921080249}, result=4.49561071395874, best_f=4.496191501617432, steps_to_best_f=45, peak_memory=180796928, runtime_ms=12.49877142906189)\n",
      "ExperimentResult(model='BoBn', step=72, restart=0, candidate={'x5': 0.9965930305681386, 'x1': 2.2032004878101894, 'x4': 1.1138542238548002, 'x3': 1.2851214677815594, 'x2': 1.570817830601592}, result=4.4959917068481445, best_f=4.496191501617432, steps_to_best_f=45, peak_memory=179923456, runtime_ms=14.45383906364441)\n",
      "ExperimentResult(model='BoBn', step=73, restart=0, candidate={'x5': 0.9965934329879278, 'x1': 2.2032124270533338, 'x4': 1.1138537249233567, 'x3': 1.2850998737995805, 'x2': 1.570829404501497}, result=4.495845794677734, best_f=4.496191501617432, steps_to_best_f=45, peak_memory=183632896, runtime_ms=11.27863597869873)\n",
      "ExperimentResult(model='BoBn', step=74, restart=0, candidate={'x5': 0.9965934182260714, 'x1': 2.20321212847947, 'x4': 1.1138533036429736, 'x3': 1.2850996867187114, 'x2': 1.5708294959477038}, result=4.495997905731201, best_f=4.496191501617432, steps_to_best_f=45, peak_memory=181133824, runtime_ms=11.055285215377808)\n",
      "ExperimentResult(model='BoBn', step=75, restart=0, candidate={'x5': 0.9965932124475012, 'x1': 2.203212336076037, 'x4': 1.1138531324495902, 'x3': 1.2850992530301035, 'x2': 1.5708309199022623}, result=4.4958014488220215, best_f=4.496191501617432, steps_to_best_f=45, peak_memory=182360064, runtime_ms=17.19340944290161)\n",
      "ExperimentResult(model='BoBn', step=76, restart=0, candidate={'x5': 0.996593769910119, 'x1': 2.2031879557229352, 'x4': 1.1138525362791667, 'x3': 1.2850995720124807, 'x2': 1.5708294551476187}, result=4.495922565460205, best_f=4.496191501617432, steps_to_best_f=45, peak_memory=183437312, runtime_ms=16.151519298553467)\n",
      "ExperimentResult(model='BoBn', step=77, restart=0, candidate={'x5': 0.9965937768458387, 'x1': 2.2032117908777993, 'x4': 1.1138520957764193, 'x3': 1.2850994890773084, 'x2': 1.5708305054654974}, result=4.4958648681640625, best_f=4.496191501617432, steps_to_best_f=45, peak_memory=184588800, runtime_ms=9.034363508224487)\n",
      "ExperimentResult(model='BoBn', step=78, restart=0, candidate={'x5': 0.9965939898585097, 'x1': 2.20321121000996, 'x4': 1.1138517537152597, 'x3': 1.2850993076141486, 'x2': 1.5708311015558227}, result=4.495920181274414, best_f=4.496191501617432, steps_to_best_f=45, peak_memory=184287744, runtime_ms=14.663589477539062)\n",
      "ExperimentResult(model='BoBn', step=79, restart=0, candidate={'x5': 0.9965941310747685, 'x1': 2.2031862932763464, 'x4': 1.1138516262063876, 'x3': 1.2850991067553712, 'x2': 1.5708365646348361}, result=4.49599552154541, best_f=4.496191501617432, steps_to_best_f=45, peak_memory=184507392, runtime_ms=19.492788314819336)\n",
      "ExperimentResult(model='BoBn', step=80, restart=0, candidate={'x5': 0.9965943176989056, 'x1': 2.203210215318199, 'x4': 1.1138510767169132, 'x3': 1.285099151593575, 'x2': 1.570815062432819}, result=4.495978832244873, best_f=4.496191501617432, steps_to_best_f=45, peak_memory=183545856, runtime_ms=14.313910961151123)\n",
      "ExperimentResult(model='BoBn', step=81, restart=0, candidate={'x5': 0.9965942681035611, 'x1': 2.2031852566240944, 'x4': 1.1138506566503485, 'x3': 1.2850991042156845, 'x2': 1.5708314666978127}, result=4.4959025382995605, best_f=4.496191501617432, steps_to_best_f=45, peak_memory=185807360, runtime_ms=13.872001647949219)\n",
      "ExperimentResult(model='BoBn', step=82, restart=0, candidate={'x5': 0.9965949354671423, 'x1': 2.203184688458444, 'x4': 1.11385040367117, 'x3': 1.2850989745682186, 'x2': 1.5708148533542041}, result=4.495913505554199, best_f=4.496191501617432, steps_to_best_f=45, peak_memory=184411136, runtime_ms=19.29120397567749)\n",
      "ExperimentResult(model='BoBn', step=83, restart=0, candidate={'x5': 0.9965945429120547, 'x1': 2.2032092307449065, 'x4': 1.113850148183237, 'x3': 1.2850988768435585, 'x2': 1.570816052142507}, result=4.495898723602295, best_f=4.496191501617432, steps_to_best_f=45, peak_memory=185565696, runtime_ms=13.818411111831665)\n",
      "ExperimentResult(model='BoBn', step=84, restart=0, candidate={'x5': 0.9965945371067645, 'x1': 2.2031836492019248, 'x4': 1.1138496559370135, 'x3': 1.2850986334532, 'x2': 1.5708159452607244}, result=4.495652198791504, best_f=4.496191501617432, steps_to_best_f=45, peak_memory=185247744, runtime_ms=16.017735958099365)\n",
      "ExperimentResult(model='BoBn', step=85, restart=0, candidate={'x5': 0.9965947367924866, 'x1': 2.203206294565488, 'x4': 1.113849441467268, 'x3': 1.2850986361566525, 'x2': 1.5708159213077155}, result=4.495745658874512, best_f=4.496191501617432, steps_to_best_f=45, peak_memory=187713536, runtime_ms=25.008620738983154)\n",
      "ExperimentResult(model='BoBn', step=86, restart=0, candidate={'x5': 0.9965949896874714, 'x1': 2.203210429663781, 'x4': 1.113844884587927, 'x3': 1.2850986021544557, 'x2': 1.570815770797002}, result=4.49606466293335, best_f=4.496191501617432, steps_to_best_f=45, peak_memory=185228288, runtime_ms=15.546350479125977)\n",
      "ExperimentResult(model='BoBn', step=87, restart=0, candidate={'x5': 0.9965957162346614, 'x1': 2.2032086042463113, 'x4': 1.113907338663441, 'x3': 1.285098516805497, 'x2': 1.5708305593660385}, result=4.4958577156066895, best_f=4.496191501617432, steps_to_best_f=45, peak_memory=187652608, runtime_ms=8.39493441581726)\n",
      "ExperimentResult(model='BoBn', step=88, restart=0, candidate={'x5': 0.9965959157879878, 'x1': 2.203181579738338, 'x4': 1.113902971184374, 'x3': 1.2850985870819063, 'x2': 1.5708154886250347}, result=4.495946884155273, best_f=4.496191501617432, steps_to_best_f=45, peak_memory=186464256, runtime_ms=14.285613775253296)\n",
      "ExperimentResult(model='BoBn', step=89, restart=0, candidate={'x5': 0.9965953467168602, 'x1': 2.2031810776643663, 'x4': 1.1139057649890465, 'x3': 1.2850983182984634, 'x2': 1.5708146962115643}, result=4.495747089385986, best_f=4.496191501617432, steps_to_best_f=45, peak_memory=188121088, runtime_ms=14.98790955543518)\n",
      "ExperimentResult(model='BoBn', step=90, restart=0, candidate={'x5': 0.9965955560600014, 'x1': 2.203206129344363, 'x4': 1.1138474560301899, 'x3': 1.2850976788900181, 'x2': 1.5708330343515466}, result=4.495961666107178, best_f=4.496191501617432, steps_to_best_f=45, peak_memory=187127808, runtime_ms=10.609089851379395)\n",
      "ExperimentResult(model='BoBn', step=91, restart=0, candidate={'x5': 0.9965953188369259, 'x1': 2.203179977314283, 'x4': 1.1139062026441442, 'x3': 1.2851196286068056, 'x2': 1.570829847630014}, result=4.495874404907227, best_f=4.496191501617432, steps_to_best_f=45, peak_memory=188849152, runtime_ms=14.370298385620117)\n",
      "ExperimentResult(model='BoBn', step=92, restart=0, candidate={'x5': 0.996595725357088, 'x1': 2.2031795737660342, 'x4': 1.1138466769771227, 'x3': 1.285119638766107, 'x2': 1.5708151888098287}, result=4.495899200439453, best_f=4.496191501617432, steps_to_best_f=45, peak_memory=187284480, runtime_ms=11.061011552810669)\n",
      "ExperimentResult(model='BoBn', step=93, restart=0, candidate={'x5': 0.9965961125415669, 'x1': 2.203178927144244, 'x4': 1.1138468103106984, 'x3': 1.2851193548458055, 'x2': 1.5708261095459621}, result=4.496026515960693, best_f=4.496191501617432, steps_to_best_f=45, peak_memory=189223936, runtime_ms=16.413594961166382)\n",
      "ExperimentResult(model='BoBn', step=94, restart=0, candidate={'x5': 0.9965960541963652, 'x1': 2.20320381546907, 'x4': 1.1138470034351569, 'x3': 1.2851192635160278, 'x2': 1.5708277362009428}, result=4.495841026306152, best_f=4.496191501617432, steps_to_best_f=45, peak_memory=189430272, runtime_ms=15.948889255523682)\n",
      "ExperimentResult(model='BoBn', step=95, restart=0, candidate={'x5': 0.9965957691504389, 'x1': 2.203207249004928, 'x4': 1.1138460650326436, 'x3': 1.2851191665840076, 'x2': 1.5708260953432402}, result=4.495823383331299, best_f=4.496191501617432, steps_to_best_f=45, peak_memory=189395968, runtime_ms=14.34788465499878)\n",
      "ExperimentResult(model='BoBn', step=96, restart=0, candidate={'x5': 0.9965959790735661, 'x1': 2.203177301679613, 'x4': 1.113845763281908, 'x3': 1.2851190575580487, 'x2': 1.5708266056070759}, result=4.4957966804504395, best_f=4.496191501617432, steps_to_best_f=45, peak_memory=189897728, runtime_ms=14.287245750427246)\n",
      "ExperimentResult(model='BoBn', step=97, restart=0, candidate={'x5': 0.9965962201181698, 'x1': 2.2031766765850245, 'x4': 1.113903775549902, 'x3': 1.2851190343019612, 'x2': 1.5708286505233742}, result=4.495873928070068, best_f=4.496191501617432, steps_to_best_f=45, peak_memory=190231552, runtime_ms=11.80337405204773)\n",
      "ExperimentResult(model='BoBn', step=98, restart=0, candidate={'x5': 0.9965962386068353, 'x1': 2.2031762188373776, 'x4': 1.1139028272221416, 'x3': 1.2851189972417794, 'x2': 1.5708267847814101}, result=4.495852470397949, best_f=4.496191501617432, steps_to_best_f=45, peak_memory=190452224, runtime_ms=16.25555992126465)\n",
      "ExperimentResult(model='BoBn', step=99, restart=0, candidate={'x5': 0.9965963200126552, 'x1': 2.2032010937046196, 'x4': 1.1138425792950386, 'x3': 1.2850974174284253, 'x2': 1.5708269751023871}, result=4.49594259262085, best_f=4.496191501617432, steps_to_best_f=45, peak_memory=190392320, runtime_ms=15.927839040756226)\n",
      "ExperimentResult(model='BoBn', step=100, restart=0, candidate={'x5': 0.9965965113477415, 'x1': 2.2031751976115257, 'x4': 1.1138444134737182, 'x3': 1.2850973134757773, 'x2': 1.5708140251062581}, result=4.495907783508301, best_f=4.496191501617432, steps_to_best_f=45, peak_memory=192150528, runtime_ms=15.195286273956299)\n",
      "ExperimentResult(model='BoBn', step=101, restart=0, candidate={'x5': 0.9965966203355738, 'x1': 2.203174718107491, 'x4': 1.113843969056642, 'x3': 1.2850972184802907, 'x2': 1.570828144226815}, result=4.49587869644165, best_f=4.496191501617432, steps_to_best_f=45, peak_memory=191161856, runtime_ms=26.554428339004517)\n",
      "ExperimentResult(model='BoBn', step=102, restart=0, candidate={'x5': 0.9965951103673913, 'x1': 2.2031714627640557, 'x4': 1.1138442780980846, 'x3': 1.28509693702376, 'x2': 1.5708132719436152}, result=4.495710849761963, best_f=4.496191501617432, steps_to_best_f=45, peak_memory=191478784, runtime_ms=13.757410526275635)\n",
      "ExperimentResult(model='BoBn', step=103, restart=0, candidate={'x5': 0.996597100360794, 'x1': 2.2031736466976533, 'x4': 1.113843317817916, 'x3': 1.2850970302270337, 'x2': 1.5708136071607235}, result=4.495814323425293, best_f=4.496191501617432, steps_to_best_f=45, peak_memory=193325056, runtime_ms=12.903452396392822)\n",
      "ExperimentResult(model='BoBn', step=104, restart=0, candidate={'x5': 0.9965975142572504, 'x1': 2.2031731345406382, 'x4': 1.113842980940313, 'x3': 1.2850970515109899, 'x2': 1.5708251943337175}, result=4.495876789093018, best_f=4.496191501617432, steps_to_best_f=45, peak_memory=193639424, runtime_ms=10.818511009216309)\n",
      "ExperimentResult(model='BoBn', step=105, restart=0, candidate={'x5': 0.9965971016063464, 'x1': 2.203172337620594, 'x4': 1.1138426253641893, 'x3': 1.2850969195732969, 'x2': 1.5708292720978414}, result=4.495788097381592, best_f=4.496191501617432, steps_to_best_f=45, peak_memory=194661376, runtime_ms=11.28629732131958)\n",
      "ExperimentResult(model='BoBn', step=106, restart=0, candidate={'x5': 0.9965970896924543, 'x1': 2.203171892939735, 'x4': 1.1138424897497359, 'x3': 1.2850968619945018, 'x2': 1.5708286555915099}, result=4.4959492683410645, best_f=4.496191501617432, steps_to_best_f=45, peak_memory=194727936, runtime_ms=13.57076644897461)\n",
      "ExperimentResult(model='BoBn', step=107, restart=0, candidate={'x5': 0.9965972032711636, 'x1': 2.203171239989025, 'x4': 1.1138420317369881, 'x3': 1.2850969101371295, 'x2': 1.570825109067622}, result=4.49576473236084, best_f=4.496191501617432, steps_to_best_f=45, peak_memory=195724288, runtime_ms=16.396870136260986)\n",
      "ExperimentResult(model='BoBn', step=108, restart=0, candidate={'x5': 0.9965973869894457, 'x1': 2.203170950570114, 'x4': 1.1138421199224344, 'x3': 1.285096649757276, 'x2': 1.5708301264139217}, result=4.495871543884277, best_f=4.496191501617432, steps_to_best_f=45, peak_memory=195644928, runtime_ms=12.151793241500854)\n",
      "ExperimentResult(model='BoBn', step=109, restart=0, candidate={'x5': 0.9965945189796979, 'x1': 2.20317042939571, 'x4': 1.1138414253081337, 'x3': 1.285096473312319, 'x2': 1.570826744009236}, result=4.495908260345459, best_f=4.496191501617432, steps_to_best_f=45, peak_memory=195837952, runtime_ms=13.206721544265747)\n",
      "ExperimentResult(model='BoBn', step=110, restart=0, candidate={'x5': 0.9965976023224958, 'x1': 2.2031697323737585, 'x4': 1.1138412540739855, 'x3': 1.285116587570641, 'x2': 1.5708128787067814}, result=4.495987415313721, best_f=4.496191501617432, steps_to_best_f=45, peak_memory=196838912, runtime_ms=10.677204608917236)\n",
      "ExperimentResult(model='BoBn', step=111, restart=0, candidate={'x5': 0.9965976352707216, 'x1': 2.203169203258194, 'x4': 1.1138408512214806, 'x3': 1.285117351392095, 'x2': 1.5708312924635872}, result=4.4959540367126465, best_f=4.496191501617432, steps_to_best_f=45, peak_memory=196316160, runtime_ms=15.70496654510498)\n",
      "ExperimentResult(model='BoBn', step=112, restart=0, candidate={'x5': 0.9965977881173629, 'x1': 2.203168683596427, 'x4': 1.1138403951739468, 'x3': 1.2851171601555862, 'x2': 1.5708304965038595}, result=4.495873928070068, best_f=4.496191501617432, steps_to_best_f=45, peak_memory=196221952, runtime_ms=12.104610443115234)\n",
      "ExperimentResult(model='BoBn', step=113, restart=0, candidate={'x5': 0.9965978586776167, 'x1': 2.203168147499723, 'x4': 1.113840285529044, 'x3': 1.2851170129045617, 'x2': 1.5708134556671702}, result=4.495788097381592, best_f=4.496191501617432, steps_to_best_f=45, peak_memory=197177856, runtime_ms=23.941534757614136)\n",
      "ExperimentResult(model='BoBn', step=114, restart=0, candidate={'x5': 0.996597940083868, 'x1': 2.2031676631067483, 'x4': 1.1138366574340428, 'x3': 1.2851168569991966, 'x2': 1.570829934648267}, result=4.495828628540039, best_f=4.496191501617432, steps_to_best_f=45, peak_memory=198765568, runtime_ms=12.922263622283936)\n",
      "ExperimentResult(model='BoBn', step=115, restart=0, candidate={'x5': 0.9965983782787818, 'x1': 2.20316785050323, 'x4': 1.1138950666001737, 'x3': 1.2850971481939253, 'x2': 1.5708128799738446}, result=4.495792388916016, best_f=4.496191501617432, steps_to_best_f=45, peak_memory=198959616, runtime_ms=13.78997278213501)\n",
      "ExperimentResult(model='BoBn', step=116, restart=0, candidate={'x5': 0.9965982307118103, 'x1': 2.2031665529014965, 'x4': 1.1138392807847344, 'x3': 1.2850958742934393, 'x2': 1.5708301991457005}, result=4.495795249938965, best_f=4.496191501617432, steps_to_best_f=45, peak_memory=198307328, runtime_ms=12.10997200012207)\n",
      "ExperimentResult(model='BoBn', step=117, restart=0, candidate={'x5': 0.9965983557450279, 'x1': 2.203165952095766, 'x4': 1.113838962080873, 'x3': 1.2850956849654134, 'x2': 1.5708130723014602}, result=4.495704650878906, best_f=4.496191501617432, steps_to_best_f=45, peak_memory=199752192, runtime_ms=12.881229400634766)\n",
      "ExperimentResult(model='BoBn', step=118, restart=0, candidate={'x5': 0.9965984011561682, 'x1': 2.203165365526766, 'x4': 1.1138937459863962, 'x3': 1.285095625111732, 'x2': 1.5708128396756482}, result=4.495870590209961, best_f=4.496191501617432, steps_to_best_f=45, peak_memory=199082496, runtime_ms=13.12619924545288)\n",
      "ExperimentResult(model='BoBn', step=119, restart=0, candidate={'x5': 0.9965985004710137, 'x1': 2.2031648615709605, 'x4': 1.113836161206729, 'x3': 1.2850953908713296, 'x2': 1.5708290844726611}, result=4.495888710021973, best_f=4.496191501617432, steps_to_best_f=45, peak_memory=201132544, runtime_ms=14.563071966171265)\n",
      "ExperimentResult(model='BoBn', step=120, restart=0, candidate={'x5': 0.9965987962727819, 'x1': 2.2031643261402314, 'x4': 1.1138383889286956, 'x3': 1.2850954283014906, 'x2': 1.5708291343568905}, result=4.495760440826416, best_f=4.496191501617432, steps_to_best_f=45, peak_memory=200339968, runtime_ms=18.122929334640503)\n",
      "ExperimentResult(model='BoBn', step=121, restart=0, candidate={'x5': 0.9965986648644527, 'x1': 2.203163738113984, 'x4': 1.1138378143850314, 'x3': 1.2850953327390453, 'x2': 1.570812550316167}, result=4.4958720207214355, best_f=4.496191501617432, steps_to_best_f=45, peak_memory=200028160, runtime_ms=17.355427026748657)\n",
      "ExperimentResult(model='BoBn', step=122, restart=0, candidate={'x5': 0.9965996439139156, 'x1': 2.203163252217481, 'x4': 1.1138375513771177, 'x3': 1.2850951841157459, 'x2': 1.5708287491773272}, result=4.495804786682129, best_f=4.496191501617432, steps_to_best_f=45, peak_memory=201399296, runtime_ms=8.411942481994629)\n",
      "ExperimentResult(model='BoBn', step=123, restart=0, candidate={'x5': 0.9965990505241539, 'x1': 2.2031626209863853, 'x4': 1.1138927385186363, 'x3': 1.285095083434364, 'x2': 1.5708124490949427}, result=4.4959397315979, best_f=4.496191501617432, steps_to_best_f=45, peak_memory=202143232, runtime_ms=14.188372373580933)\n",
      "ExperimentResult(model='BoBn', step=124, restart=0, candidate={'x5': 0.9965994319022213, 'x1': 2.203162004896766, 'x4': 1.1138368605644329, 'x3': 1.2850950967920278, 'x2': 1.5708124142605702}, result=4.495911121368408, best_f=4.496191501617432, steps_to_best_f=45, peak_memory=201779712, runtime_ms=14.62631630897522)\n",
      "ExperimentResult(model='BoBn', step=125, restart=0, candidate={'x5': 0.9965992800533549, 'x1': 2.2031614966466027, 'x4': 1.1138367298887217, 'x3': 1.285094981450167, 'x2': 1.570829499881103}, result=4.49583625793457, best_f=4.496191501617432, steps_to_best_f=45, peak_memory=201665024, runtime_ms=13.473325252532959)\n",
      "ExperimentResult(model='BoBn', step=126, restart=0, candidate={'x5': 0.9965992618048494, 'x1': 2.203161052946831, 'x4': 1.1138363458024552, 'x3': 1.2850951518930256, 'x2': 1.570812192343923}, result=4.4957804679870605, best_f=4.496191501617432, steps_to_best_f=45, peak_memory=202248192, runtime_ms=14.634764432907104)\n",
      "ExperimentResult(model='BoBn', step=127, restart=0, candidate={'x5': 0.9965996866859277, 'x1': 2.20316061019402, 'x4': 1.1138360590292542, 'x3': 1.2850948407410065, 'x2': 1.5708253507927117}, result=4.495833396911621, best_f=4.496191501617432, steps_to_best_f=45, peak_memory=204527104, runtime_ms=12.898411750793457)\n",
      "ExperimentResult(model='BoBn', step=128, restart=0, candidate={'x5': 0.996599937192038, 'x1': 2.2031602358287445, 'x4': 1.113835802609562, 'x3': 1.2850947438006317, 'x2': 1.570812290861423}, result=4.49594783782959, best_f=4.496191501617432, steps_to_best_f=45, peak_memory=204330496, runtime_ms=25.784991025924683)\n",
      "ExperimentResult(model='BoBn', step=129, restart=0, candidate={'x5': 0.9965959450227555, 'x1': 2.203159737436328, 'x4': 1.1138355634917418, 'x3': 1.285095365383764, 'x2': 1.5708125254327463}, result=4.496000289916992, best_f=4.496191501617432, steps_to_best_f=45, peak_memory=204456960, runtime_ms=15.795380353927612)\n",
      "ExperimentResult(model='BoBn', step=130, restart=0, candidate={'x5': 0.9965995566666148, 'x1': 2.203159113248845, 'x4': 1.1138348089962267, 'x3': 1.2850945064105752, 'x2': 1.5708119872251374}, result=4.496112823486328, best_f=4.496191501617432, steps_to_best_f=45, peak_memory=206102016, runtime_ms=17.094545125961304)\n",
      "ExperimentResult(model='BoBn', step=131, restart=0, candidate={'x5': 0.9966004258753186, 'x1': 2.2031587423036734, 'x4': 1.1138336374367512, 'x3': 1.285094968103677, 'x2': 1.5708114368036965}, result=4.495992183685303, best_f=4.496191501617432, steps_to_best_f=45, peak_memory=206205440, runtime_ms=13.21047306060791)\n",
      "ExperimentResult(model='BoBn', step=132, restart=0, candidate={'x5': 0.9966000729492331, 'x1': 2.2031579635965057, 'x4': 1.1138345880216383, 'x3': 1.285094336004958, 'x2': 1.5708301242758433}, result=4.495916366577148, best_f=4.496191501617432, steps_to_best_f=45, peak_memory=205999616, runtime_ms=15.582775115966797)\n",
      "ExperimentResult(model='BoBn', step=133, restart=0, candidate={'x5': 0.9966011211594159, 'x1': 2.203157529240999, 'x4': 1.1138344420244028, 'x3': 1.2851150030913847, 'x2': 1.5708110678664386}, result=4.495981216430664, best_f=4.496191501617432, steps_to_best_f=45, peak_memory=207100416, runtime_ms=11.144050598144531)\n",
      "ExperimentResult(model='BoBn', step=134, restart=0, candidate={'x5': 0.9966008003938448, 'x1': 2.2031568534512886, 'x4': 1.1138341423790699, 'x3': 1.2851146779228797, 'x2': 1.5708298411065953}, result=4.495879650115967, best_f=4.496191501617432, steps_to_best_f=45, peak_memory=206777344, runtime_ms=15.382272720336914)\n",
      "ExperimentResult(model='BoBn', step=135, restart=0, candidate={'x5': 0.996600247717052, 'x1': 2.203156199613743, 'x4': 1.1138340115684346, 'x3': 1.2851143864966632, 'x2': 1.5708300629516796}, result=4.495858669281006, best_f=4.496191501617432, steps_to_best_f=45, peak_memory=207131136, runtime_ms=15.637397050857544)\n",
      "ExperimentResult(model='BoBn', step=136, restart=0, candidate={'x5': 0.9966003597407883, 'x1': 2.2031556510884003, 'x4': 1.1138333222273422, 'x3': 1.285094061671528, 'x2': 1.5708297559422644}, result=4.495920658111572, best_f=4.496191501617432, steps_to_best_f=45, peak_memory=207655936, runtime_ms=19.71867823600769)\n",
      "ExperimentResult(model='BoBn', step=137, restart=0, candidate={'x5': 0.9966008455971284, 'x1': 2.203155034698487, 'x4': 1.1138330388335043, 'x3': 1.2850939649972817, 'x2': 1.570810713996334}, result=4.495896339416504, best_f=4.496191501617432, steps_to_best_f=45, peak_memory=207451136, runtime_ms=12.60212230682373)\n",
      "ExperimentResult(model='BoBn', step=138, restart=0, candidate={'x5': 0.9966004332891776, 'x1': 2.203154622347985, 'x4': 1.113832889582711, 'x3': 1.285093922919356, 'x2': 1.570811259575616}, result=4.495945930480957, best_f=4.496191501617432, steps_to_best_f=45, peak_memory=208769024, runtime_ms=13.462228298187256)\n",
      "ExperimentResult(model='BoBn', step=139, restart=0, candidate={'x5': 0.9966006577367931, 'x1': 2.203154022531652, 'x4': 1.1138323148638343, 'x3': 1.2850938740481628, 'x2': 1.570826153820188}, result=4.495855331420898, best_f=4.496191501617432, steps_to_best_f=45, peak_memory=209102848, runtime_ms=9.206292390823364)\n",
      "ExperimentResult(model='BoBn', step=140, restart=0, candidate={'x5': 0.9966006196390295, 'x1': 2.2031534515126814, 'x4': 1.1138322926744526, 'x3': 1.2850942764606101, 'x2': 1.5708296340331733}, result=4.495909214019775, best_f=4.496191501617432, steps_to_best_f=45, peak_memory=207682560, runtime_ms=15.581405639648438)\n",
      "ExperimentResult(model='BoBn', step=141, restart=0, candidate={'x5': 0.9966015686524565, 'x1': 2.2031529360066417, 'x4': 1.1138326651976418, 'x3': 1.2851023373971677, 'x2': 1.5708223381214512}, result=4.495772838592529, best_f=4.496191501617432, steps_to_best_f=45, peak_memory=211272192, runtime_ms=14.141067028045654)\n",
      "ExperimentResult(model='BoBn', step=142, restart=0, candidate={'x5': 0.9966008482581914, 'x1': 2.203152360498658, 'x4': 1.1138317112639033, 'x3': 1.2850937534662965, 'x2': 1.5708240494957069}, result=4.495904445648193, best_f=4.496191501617432, steps_to_best_f=45, peak_memory=211081216, runtime_ms=25.52029037475586)\n",
      "ExperimentResult(model='BoBn', step=143, restart=0, candidate={'x5': 0.9966011976965012, 'x1': 2.2031517660547015, 'x4': 1.1138314736122088, 'x3': 1.2850933866732415, 'x2': 1.5708236512820166}, result=4.4959330558776855, best_f=4.496191501617432, steps_to_best_f=45, peak_memory=212201984, runtime_ms=15.707385778427124)\n",
      "ExperimentResult(model='BoBn', step=144, restart=0, candidate={'x5': 0.9966016343437097, 'x1': 2.2031516309837524, 'x4': 1.1138312053545538, 'x3': 1.2850932964888844, 'x2': 1.5708106082740907}, result=4.49578857421875, best_f=4.496191501617432, steps_to_best_f=45, peak_memory=210489344, runtime_ms=34.36555242538452)\n",
      "ExperimentResult(model='BoBn', step=145, restart=0, candidate={'x5': 0.9966013235366834, 'x1': 2.203150975457352, 'x4': 1.1138307437233455, 'x3': 1.285093134100701, 'x2': 1.5708232664277577}, result=4.495747089385986, best_f=4.496191501617432, steps_to_best_f=45, peak_memory=212661248, runtime_ms=14.936315774917603)\n",
      "ExperimentResult(model='BoBn', step=146, restart=0, candidate={'x5': 0.9966016167265531, 'x1': 2.2031503775096444, 'x4': 1.113830331152031, 'x3': 1.2850930718308136, 'x2': 1.5708254735763745}, result=4.495808124542236, best_f=4.496191501617432, steps_to_best_f=45, peak_memory=210784768, runtime_ms=8.431322813034058)\n",
      "ExperimentResult(model='BoBn', step=147, restart=0, candidate={'x5': 0.9966017166576221, 'x1': 2.2031498873510853, 'x4': 1.113830399906805, 'x3': 1.2850929622357994, 'x2': 1.570824724899417}, result=4.496089935302734, best_f=4.496191501617432, steps_to_best_f=45, peak_memory=213478400, runtime_ms=14.426222085952759)\n",
      "ExperimentResult(model='BoBn', step=148, restart=0, candidate={'x5': 0.996601667538958, 'x1': 2.203149343047096, 'x4': 1.113830150002832, 'x3': 1.2850928669647945, 'x2': 1.5708106142061709}, result=4.496119499206543, best_f=4.496191501617432, steps_to_best_f=45, peak_memory=211797504, runtime_ms=19.77690362930298)\n",
      "ExperimentResult(model='BoBn', step=149, restart=0, candidate={'x5': 0.9966018955263247, 'x1': 2.2031487146621473, 'x4': 1.1138309183651236, 'x3': 1.2850929142566894, 'x2': 1.570811155481295}, result=4.496025562286377, best_f=4.496191501617432, steps_to_best_f=45, peak_memory=213553152, runtime_ms=12.415026426315308)\n",
      "restart_id=1/3\n",
      "ExperimentResult(model='BoBn', step=0, restart=1, candidate={'x5': 0.9966017809343569, 'x1': 2.203148353018621, 'x4': 1.1138295987715034, 'x3': 1.2850926150499256, 'x2': 1.5708103028732856}, result=4.495791435241699, best_f=4.495791435241699, steps_to_best_f=0, peak_memory=212992512, runtime_ms=20.452720165252686)\n",
      "ExperimentResult(model='BoBn', step=1, restart=1, candidate={'x5': 0.9966024558399615, 'x1': 2.203147872501328, 'x4': 1.1138292090738546, 'x3': 1.2850925578197625, 'x2': 1.5708209732414269}, result=4.495837211608887, best_f=4.495837211608887, steps_to_best_f=1, peak_memory=213278208, runtime_ms=15.312350273132324)\n",
      "ExperimentResult(model='BoBn', step=2, restart=1, candidate={'x5': 0.9966020012732537, 'x1': 2.203147231693437, 'x4': 1.1138291579901924, 'x3': 1.285092480011084, 'x2': 1.5708238902734724}, result=4.495819568634033, best_f=4.495837211608887, steps_to_best_f=1, peak_memory=214564352, runtime_ms=14.69942307472229)\n",
      "ExperimentResult(model='BoBn', step=3, restart=1, candidate={'x5': 0.9966017892804048, 'x1': 2.203146773544344, 'x4': 1.1138286671191393, 'x3': 1.2850923982797076, 'x2': 1.5708262536143398}, result=4.496026515960693, best_f=4.496026515960693, steps_to_best_f=3, peak_memory=214503424, runtime_ms=9.837436199188232)\n",
      "ExperimentResult(model='BoBn', step=4, restart=1, candidate={'x5': 0.9966030957599773, 'x1': 2.203146341979169, 'x4': 1.1138284683017001, 'x3': 1.2850922941772065, 'x2': 1.5708100890033914}, result=4.495841979980469, best_f=4.496026515960693, steps_to_best_f=3, peak_memory=213261824, runtime_ms=17.05133891105652)\n",
      "ExperimentResult(model='BoBn', step=5, restart=1, candidate={'x5': 0.9966028151496763, 'x1': 2.203145711849717, 'x4': 1.1138284500553974, 'x3': 1.285112383086857, 'x2': 1.5708275606981945}, result=4.495950222015381, best_f=4.496026515960693, steps_to_best_f=3, peak_memory=215585280, runtime_ms=13.8062162399292)\n",
      "ExperimentResult(model='BoBn', step=6, restart=1, candidate={'x5': 0.9966024697792782, 'x1': 2.2031452083320997, 'x4': 1.1138280608848148, 'x3': 1.2851122385402909, 'x2': 1.5708258126607562}, result=4.495931625366211, best_f=4.496026515960693, steps_to_best_f=3, peak_memory=215476736, runtime_ms=13.59493613243103)\n",
      "ExperimentResult(model='BoBn', step=7, restart=1, candidate={'x5': 0.996602391613612, 'x1': 2.2031446842334135, 'x4': 1.113828182058761, 'x3': 1.2851121938074381, 'x2': 1.5708254423459427}, result=4.495681285858154, best_f=4.496026515960693, steps_to_best_f=3, peak_memory=218602496, runtime_ms=15.024351835250854)\n",
      "ExperimentResult(model='BoBn', step=8, restart=1, candidate={'x5': 0.9966021513053215, 'x1': 2.203144154826463, 'x4': 1.1138277020804659, 'x3': 1.2850924397303194, 'x2': 1.570809810823919}, result=4.49599552154541, best_f=4.496026515960693, steps_to_best_f=3, peak_memory=217586688, runtime_ms=20.35453462600708)\n",
      "ExperimentResult(model='BoBn', step=9, restart=1, candidate={'x5': 0.9966024802005443, 'x1': 2.203143606330709, 'x4': 1.113827355809202, 'x3': 1.2850925581628962, 'x2': 1.5708097383826958}, result=4.496021270751953, best_f=4.496026515960693, steps_to_best_f=3, peak_memory=217345024, runtime_ms=25.25067901611328)\n",
      "ExperimentResult(model='BoBn', step=10, restart=1, candidate={'x5': 0.9966020452722882, 'x1': 2.203143065671781, 'x4': 1.113827027367544, 'x3': 1.2850918980532982, 'x2': 1.5708096529305078}, result=4.495833396911621, best_f=4.496026515960693, steps_to_best_f=3, peak_memory=217351680, runtime_ms=12.835328578948975)\n",
      "ExperimentResult(model='BoBn', step=11, restart=1, candidate={'x5': 0.9966025785543802, 'x1': 2.2031425723079807, 'x4': 1.113826564668298, 'x3': 1.2850918204658157, 'x2': 1.5708263740240094}, result=4.495883464813232, best_f=4.496026515960693, steps_to_best_f=3, peak_memory=218405376, runtime_ms=21.779886722564697)\n",
      "ExperimentResult(model='BoBn', step=12, restart=1, candidate={'x5': 0.9966020252325085, 'x1': 2.2031420138864024, 'x4': 1.1138262863809092, 'x3': 1.285091575538552, 'x2': 1.5708195489503436}, result=4.495855331420898, best_f=4.496026515960693, steps_to_best_f=3, peak_memory=218187776, runtime_ms=32.51850080490112)\n",
      "ExperimentResult(model='BoBn', step=13, restart=1, candidate={'x5': 0.9966030187275201, 'x1': 2.203141545883956, 'x4': 1.1138265445267146, 'x3': 1.285091530719423, 'x2': 1.570809404765554}, result=4.496074676513672, best_f=4.496074676513672, steps_to_best_f=13, peak_memory=218463232, runtime_ms=20.33961033821106)\n",
      "ExperimentResult(model='BoBn', step=14, restart=1, candidate={'x5': 0.996603204011871, 'x1': 2.2031409699299878, 'x4': 1.1138260974098209, 'x3': 1.2850914728401963, 'x2': 1.5708092051647828}, result=4.4959564208984375, best_f=4.496074676513672, steps_to_best_f=13, peak_memory=219531776, runtime_ms=19.30000376701355)\n",
      "ExperimentResult(model='BoBn', step=15, restart=1, candidate={'x5': 0.9966029042335551, 'x1': 2.2031404484078263, 'x4': 1.113826019327782, 'x3': 1.2850913397183426, 'x2': 1.5708095237099364}, result=4.496217250823975, best_f=4.496217250823975, steps_to_best_f=15, peak_memory=219073536, runtime_ms=20.023070573806763)\n",
      "ExperimentResult(model='BoBn', step=16, restart=1, candidate={'x5': 0.9966027121713757, 'x1': 2.2031399851522115, 'x4': 1.113825792635536, 'x3': 1.2850912935793006, 'x2': 1.570809077186471}, result=4.495837688446045, best_f=4.496217250823975, steps_to_best_f=15, peak_memory=219266048, runtime_ms=17.06465172767639)\n",
      "ExperimentResult(model='BoBn', step=17, restart=1, candidate={'x5': 0.9966030389755294, 'x1': 2.203139484661291, 'x4': 1.1138252086141067, 'x3': 1.2850912245997321, 'x2': 1.5708093834223977}, result=4.495885848999023, best_f=4.496217250823975, steps_to_best_f=15, peak_memory=220623872, runtime_ms=21.040765523910522)\n",
      "ExperimentResult(model='BoBn', step=18, restart=1, candidate={'x5': 0.9966032359238908, 'x1': 2.2031389602747504, 'x4': 1.1138248851720658, 'x3': 1.2850912691280783, 'x2': 1.570808919558288}, result=4.495931625366211, best_f=4.496217250823975, steps_to_best_f=15, peak_memory=220005376, runtime_ms=22.266339540481567)\n",
      "ExperimentResult(model='BoBn', step=19, restart=1, candidate={'x5': 0.9966035828340722, 'x1': 2.2031384616177667, 'x4': 1.1138247792011622, 'x3': 1.2850910055902196, 'x2': 1.5708244280160149}, result=4.495923042297363, best_f=4.496217250823975, steps_to_best_f=15, peak_memory=222310912, runtime_ms=9.520143508911133)\n",
      "ExperimentResult(model='BoBn', step=20, restart=1, candidate={'x5': 0.9966026590813905, 'x1': 2.2031379419182957, 'x4': 1.1138245167724434, 'x3': 1.2850910227746435, 'x2': 1.5708090843288551}, result=4.49588680267334, best_f=4.496217250823975, steps_to_best_f=15, peak_memory=221715456, runtime_ms=21.702834606170654)\n",
      "ExperimentResult(model='BoBn', step=21, restart=1, candidate={'x5': 0.9966035341502638, 'x1': 2.2031374812910833, 'x4': 1.1138243438935365, 'x3': 1.2851106622994126, 'x2': 1.570808890748271}, result=4.495916366577148, best_f=4.496217250823975, steps_to_best_f=15, peak_memory=222333952, runtime_ms=35.10494613647461)\n",
      "ExperimentResult(model='BoBn', step=22, restart=1, candidate={'x5': 0.9966036493373852, 'x1': 2.2031369573930424, 'x4': 1.113823857744256, 'x3': 1.2851105869482302, 'x2': 1.570808722237477}, result=4.495787620544434, best_f=4.496217250823975, steps_to_best_f=15, peak_memory=223635968, runtime_ms=17.23075819015503)\n",
      "ExperimentResult(model='BoBn', step=23, restart=1, candidate={'x5': 0.9966038451007996, 'x1': 2.203136452081051, 'x4': 1.1138238462268433, 'x3': 1.2851105260362374, 'x2': 1.5708084851465216}, result=4.496016502380371, best_f=4.496217250823975, steps_to_best_f=15, peak_memory=221921792, runtime_ms=17.270185470581055)\n",
      "ExperimentResult(model='BoBn', step=24, restart=1, candidate={'x5': 0.9966038734759941, 'x1': 2.2031359139352054, 'x4': 1.1138238032222991, 'x3': 1.2851104433202662, 'x2': 1.5708087022604202}, result=4.495914459228516, best_f=4.496217250823975, steps_to_best_f=15, peak_memory=224262144, runtime_ms=18.927830696105957)\n",
      "ExperimentResult(model='BoBn', step=25, restart=1, candidate={'x5': 0.9966038801879663, 'x1': 2.2031354047435197, 'x4': 1.1138233575882905, 'x3': 1.2851102978079532, 'x2': 1.5708086710806126}, result=4.49576997756958, best_f=4.496217250823975, steps_to_best_f=15, peak_memory=223148032, runtime_ms=15.088911056518555)\n",
      "ExperimentResult(model='BoBn', step=26, restart=1, candidate={'x5': 0.9966040890852992, 'x1': 2.203134949812252, 'x4': 1.1138230287481599, 'x3': 1.2851102688414042, 'x2': 1.570808531330715}, result=4.495700836181641, best_f=4.496217250823975, steps_to_best_f=15, peak_memory=225488384, runtime_ms=25.897136449813843)\n",
      "ExperimentResult(model='BoBn', step=27, restart=1, candidate={'x5': 0.9966042634116832, 'x1': 2.2031353679937657, 'x4': 1.1138229029674354, 'x3': 1.2851111608168333, 'x2': 1.5708083997172224}, result=4.496032238006592, best_f=4.496217250823975, steps_to_best_f=15, peak_memory=224554496, runtime_ms=15.908415794372559)\n",
      "ExperimentResult(model='BoBn', step=28, restart=1, candidate={'x5': 0.9966044160389418, 'x1': 2.2031339877526595, 'x4': 1.1138226457068414, 'x3': 1.2851101536525604, 'x2': 1.5708083662704964}, result=4.496072292327881, best_f=4.496217250823975, steps_to_best_f=15, peak_memory=227535872, runtime_ms=16.831112146377563)\n",
      "ExperimentResult(model='BoBn', step=29, restart=1, candidate={'x5': 0.9966045734470148, 'x1': 2.2031336215481216, 'x4': 1.1138222459426705, 'x3': 1.2851099987830512, 'x2': 1.5708083874149696}, result=4.49577522277832, best_f=4.496217250823975, steps_to_best_f=15, peak_memory=227688448, runtime_ms=9.981567144393921)\n",
      "ExperimentResult(model='BoBn', step=30, restart=1, candidate={'x5': 0.9966041245081877, 'x1': 2.2031330709795935, 'x4': 1.113822051923325, 'x3': 1.285109902493988, 'x2': 1.5708082859233286}, result=4.495691776275635, best_f=4.496217250823975, steps_to_best_f=15, peak_memory=228777472, runtime_ms=16.662729024887085)\n",
      "ExperimentResult(model='BoBn', step=31, restart=1, candidate={'x5': 0.9966040929294654, 'x1': 2.2031326408981395, 'x4': 1.113821916101124, 'x3': 1.2851097990060916, 'x2': 1.5708086100968721}, result=4.49592399597168, best_f=4.496217250823975, steps_to_best_f=15, peak_memory=227995136, runtime_ms=13.84106183052063)\n",
      "ExperimentResult(model='BoBn', step=32, restart=1, candidate={'x5': 0.9966051436281361, 'x1': 2.203131984562231, 'x4': 1.1138215707586976, 'x3': 1.28510967123189, 'x2': 1.570808091521649}, result=4.495856285095215, best_f=4.496217250823975, steps_to_best_f=15, peak_memory=227633664, runtime_ms=18.89986801147461)\n",
      "ExperimentResult(model='BoBn', step=33, restart=1, candidate={'x5': 0.9966046494226133, 'x1': 2.2031315569113294, 'x4': 1.113821469320097, 'x3': 1.2850907944325511, 'x2': 1.5708078849079605}, result=4.495841979980469, best_f=4.496217250823975, steps_to_best_f=15, peak_memory=229807616, runtime_ms=15.757253646850586)\n",
      "ExperimentResult(model='BoBn', step=34, restart=1, candidate={'x5': 0.9966046173070818, 'x1': 2.2031310234042216, 'x4': 1.113821181855176, 'x3': 1.2850899321303664, 'x2': 1.5708078637507212}, result=4.495769500732422, best_f=4.496217250823975, steps_to_best_f=15, peak_memory=229258240, runtime_ms=14.810127258300781)\n",
      "ExperimentResult(model='BoBn', step=35, restart=1, candidate={'x5': 0.9966056723856003, 'x1': 2.2031304852938094, 'x4': 1.1138211886278044, 'x3': 1.2851093276976397, 'x2': 1.5708084110624725}, result=4.495938301086426, best_f=4.496217250823975, steps_to_best_f=15, peak_memory=229056512, runtime_ms=18.4400954246521)\n",
      "ExperimentResult(model='BoBn', step=36, restart=1, candidate={'x5': 0.9966046025448845, 'x1': 2.203129967982559, 'x4': 1.1138208757983228, 'x3': 1.2850897943166406, 'x2': 1.5708258222305063}, result=4.49611234664917, best_f=4.496217250823975, steps_to_best_f=15, peak_memory=230728704, runtime_ms=17.16602063179016)\n",
      "ExperimentResult(model='BoBn', step=37, restart=1, candidate={'x5': 0.9966056627846938, 'x1': 2.203129533002959, 'x4': 1.1138205066020803, 'x3': 1.2850896832315688, 'x2': 1.5708078256589622}, result=4.496003150939941, best_f=4.496217250823975, steps_to_best_f=15, peak_memory=228960256, runtime_ms=17.857429265975952)\n",
      "ExperimentResult(model='BoBn', step=38, restart=1, candidate={'x5': 0.9966046207697832, 'x1': 2.2031394709521908, 'x4': 1.113820540737146, 'x3': 1.2850896002082537, 'x2': 1.5708256787996007}, result=4.495880126953125, best_f=4.496217250823975, steps_to_best_f=15, peak_memory=230785536, runtime_ms=20.7636456489563)\n",
      "ExperimentResult(model='BoBn', step=39, restart=1, candidate={'x5': 0.9966047184540813, 'x1': 2.2031386840150025, 'x4': 1.1138203377344014, 'x3': 1.2851088576600678, 'x2': 1.5708079154995058}, result=4.495916843414307, best_f=4.496217250823975, steps_to_best_f=15, peak_memory=230728704, runtime_ms=16.534008979797363)\n",
      "ExperimentResult(model='BoBn', step=40, restart=1, candidate={'x5': 0.9966048466690596, 'x1': 2.2031381519128135, 'x4': 1.1138058965115574, 'x3': 1.2850893954892986, 'x2': 1.570807511679485}, result=4.495979309082031, best_f=4.496217250823975, steps_to_best_f=15, peak_memory=232797184, runtime_ms=21.765828132629395)\n",
      "ExperimentResult(model='BoBn', step=41, restart=1, candidate={'x5': 0.9966049941549834, 'x1': 2.203137712698808, 'x4': 1.113868791056869, 'x3': 1.2850891079536793, 'x2': 1.570807533626252}, result=4.49580717086792, best_f=4.496217250823975, steps_to_best_f=15, peak_memory=231258112, runtime_ms=9.66109585762024)\n",
      "ExperimentResult(model='BoBn', step=42, restart=1, candidate={'x5': 0.9966047964066533, 'x1': 2.2031368418881545, 'x4': 1.113819386749269, 'x3': 1.2851085730518166, 'x2': 1.5708075017136058}, result=4.495946407318115, best_f=4.496217250823975, steps_to_best_f=15, peak_memory=233157120, runtime_ms=30.21392560005188)\n",
      "ExperimentResult(model='BoBn', step=43, restart=1, candidate={'x5': 0.9966044633429837, 'x1': 2.2031360643122566, 'x4': 1.1138686475729063, 'x3': 1.285089102140716, 'x2': 1.57080731171417}, result=4.496082782745361, best_f=4.496217250823975, steps_to_best_f=15, peak_memory=231159808, runtime_ms=18.810635328292847)\n",
      "ExperimentResult(model='BoBn', step=44, restart=1, candidate={'x5': 0.9966050201493684, 'x1': 2.203126063201713, 'x4': 1.1138674715768246, 'x3': 1.285089008612395, 'x2': 1.570807281144736}, result=4.496144771575928, best_f=4.496217250823975, steps_to_best_f=15, peak_memory=230445056, runtime_ms=14.20701551437378)\n",
      "ExperimentResult(model='BoBn', step=45, restart=1, candidate={'x5': 0.9966066072508623, 'x1': 2.2031236381917316, 'x4': 1.1138684360217694, 'x3': 1.285089056794456, 'x2': 1.570806944237869}, result=4.495889186859131, best_f=4.496217250823975, steps_to_best_f=15, peak_memory=233577984, runtime_ms=12.755162954330444)\n",
      "ExperimentResult(model='BoBn', step=46, restart=1, candidate={'x5': 0.9966064563183664, 'x1': 2.2031250904094635, 'x4': 1.113867025991397, 'x3': 1.285088824558515, 'x2': 1.5708071819667646}, result=4.496194362640381, best_f=4.496217250823975, steps_to_best_f=15, peak_memory=232717312, runtime_ms=30.41746759414673)\n",
      "ExperimentResult(model='BoBn', step=47, restart=1, candidate={'x5': 0.9966054505240953, 'x1': 2.2031246361313657, 'x4': 1.1138673744038567, 'x3': 1.285088760652482, 'x2': 1.5708072590128082}, result=4.495962619781494, best_f=4.496217250823975, steps_to_best_f=15, peak_memory=234639360, runtime_ms=25.09463095664978)\n",
      "ExperimentResult(model='BoBn', step=48, restart=1, candidate={'x5': 0.9966056356435948, 'x1': 2.2031240063276014, 'x4': 1.1138673945559296, 'x3': 1.2850886684736837, 'x2': 1.5708071072586245}, result=4.495949745178223, best_f=4.496217250823975, steps_to_best_f=15, peak_memory=236119040, runtime_ms=18.313916206359863)\n",
      "ExperimentResult(model='BoBn', step=49, restart=1, candidate={'x5': 0.9966053296681995, 'x1': 2.203123467930982, 'x4': 1.1138670839420397, 'x3': 1.2850886035061326, 'x2': 1.5708246676822926}, result=4.4957733154296875, best_f=4.496217250823975, steps_to_best_f=15, peak_memory=235949056, runtime_ms=14.298458099365234)\n",
      "ExperimentResult(model='BoBn', step=50, restart=1, candidate={'x5': 0.9966070811809513, 'x1': 2.203123135455405, 'x4': 1.1138175140781814, 'x3': 1.285088746585833, 'x2': 1.5708248627667645}, result=4.495725154876709, best_f=4.496217250823975, steps_to_best_f=15, peak_memory=236612608, runtime_ms=17.77704906463623)\n",
      "ExperimentResult(model='BoBn', step=51, restart=1, candidate={'x5': 0.9966070709680251, 'x1': 2.2031226274477396, 'x4': 1.113866387510085, 'x3': 1.2850883988939221, 'x2': 1.5708246708446483}, result=4.495872497558594, best_f=4.496217250823975, steps_to_best_f=15, peak_memory=237106688, runtime_ms=19.647889852523804)\n",
      "ExperimentResult(model='BoBn', step=52, restart=1, candidate={'x5': 0.9966071697578611, 'x1': 2.2031220782340726, 'x4': 1.1138660429661675, 'x3': 1.2850883172725895, 'x2': 1.5708066683283264}, result=4.495804309844971, best_f=4.496217250823975, steps_to_best_f=15, peak_memory=237796352, runtime_ms=19.54551601409912)\n",
      "ExperimentResult(model='BoBn', step=53, restart=1, candidate={'x5': 0.9966065074187349, 'x1': 2.2031216306466033, 'x4': 1.1138657609269944, 'x3': 1.2850882029560897, 'x2': 1.5708066601292785}, result=4.495835304260254, best_f=4.496217250823975, steps_to_best_f=15, peak_memory=236814336, runtime_ms=20.8730251789093)\n",
      "ExperimentResult(model='BoBn', step=54, restart=1, candidate={'x5': 0.9966060293262751, 'x1': 2.203133195983478, 'x4': 1.1138654964360544, 'x3': 1.2850881102651248, 'x2': 1.5708066349215217}, result=4.495877742767334, best_f=4.496217250823975, steps_to_best_f=15, peak_memory=238037504, runtime_ms=20.2055606842041)\n",
      "ExperimentResult(model='BoBn', step=55, restart=1, candidate={'x5': 0.9966060957331832, 'x1': 2.203120672057846, 'x4': 1.1138166537831615, 'x3': 1.2850880833312395, 'x2': 1.5708065611623268}, result=4.49582052230835, best_f=4.496217250823975, steps_to_best_f=15, peak_memory=238742528, runtime_ms=23.468656539916992)\n",
      "ExperimentResult(model='BoBn', step=56, restart=1, candidate={'x5': 0.9966067016061659, 'x1': 2.2031268837642, 'x4': 1.1138160284020184, 'x3': 1.2850879963713024, 'x2': 1.570806545740647}, result=4.495883464813232, best_f=4.496217250823975, steps_to_best_f=15, peak_memory=238725120, runtime_ms=27.63216257095337)\n",
      "ExperimentResult(model='BoBn', step=57, restart=1, candidate={'x5': 0.9966062517334029, 'x1': 2.2031274130988736, 'x4': 1.113864050627327, 'x3': 1.2850879005717628, 'x2': 1.5708063304183597}, result=4.495845794677734, best_f=4.496217250823975, steps_to_best_f=15, peak_memory=239853568, runtime_ms=19.562074899673462)\n",
      "ExperimentResult(model='BoBn', step=58, restart=1, candidate={'x5': 0.9966060057127749, 'x1': 2.2031226439763576, 'x4': 1.1138159272540262, 'x3': 1.2850877935233989, 'x2': 1.5708062397193747}, result=4.496013164520264, best_f=4.496217250823975, steps_to_best_f=15, peak_memory=239256576, runtime_ms=15.479101657867432)\n",
      "ExperimentResult(model='BoBn', step=59, restart=1, candidate={'x5': 0.9966065045536772, 'x1': 2.2031260942363153, 'x4': 1.1138158080162435, 'x3': 1.285087678974806, 'x2': 1.5708065644339466}, result=4.495892524719238, best_f=4.496217250823975, steps_to_best_f=15, peak_memory=239444992, runtime_ms=20.226262092590332)\n",
      "ExperimentResult(model='BoBn', step=60, restart=1, candidate={'x5': 0.9966069935501161, 'x1': 2.203125540840445, 'x4': 1.1138147884638683, 'x3': 1.285106535384346, 'x2': 1.5708057485861324}, result=4.495966911315918, best_f=4.496217250823975, steps_to_best_f=15, peak_memory=240186368, runtime_ms=15.847171068191528)\n",
      "ExperimentResult(model='BoBn', step=61, restart=1, candidate={'x5': 0.9966062971137246, 'x1': 2.203125664759325, 'x4': 1.1138155233560185, 'x3': 1.2850876232716117, 'x2': 1.5708058729109773}, result=4.4959917068481445, best_f=4.496217250823975, steps_to_best_f=15, peak_memory=240936448, runtime_ms=22.713629007339478)\n",
      "ExperimentResult(model='BoBn', step=62, restart=1, candidate={'x5': 0.9966062073347041, 'x1': 2.203126810276962, 'x4': 1.1138156016967755, 'x3': 1.2851064544579016, 'x2': 1.5708061897102474}, result=4.495983123779297, best_f=4.496217250823975, steps_to_best_f=15, peak_memory=241350144, runtime_ms=19.030670166015625)\n",
      "ExperimentResult(model='BoBn', step=63, restart=1, candidate={'x5': 0.9966064536944542, 'x1': 2.2031170542210754, 'x4': 1.1138148827877363, 'x3': 1.285087400643041, 'x2': 1.5708056947741202}, result=4.496016979217529, best_f=4.496217250823975, steps_to_best_f=15, peak_memory=241650176, runtime_ms=21.561757802963257)\n",
      "ExperimentResult(model='BoBn', step=64, restart=1, candidate={'x5': 0.9966066541983218, 'x1': 2.203116684550862, 'x4': 1.113814950128942, 'x3': 1.2850873887664829, 'x2': 1.5708061964824966}, result=4.495883464813232, best_f=4.496217250823975, steps_to_best_f=15, peak_memory=241351680, runtime_ms=19.306888818740845)\n",
      "ExperimentResult(model='BoBn', step=65, restart=1, candidate={'x5': 0.996606537599554, 'x1': 2.2031160767110376, 'x4': 1.113862023056113, 'x3': 1.2851062157065634, 'x2': 1.570806088845509}, result=4.4959397315979, best_f=4.496217250823975, steps_to_best_f=15, peak_memory=245157376, runtime_ms=19.29145050048828)\n",
      "ExperimentResult(model='BoBn', step=66, restart=1, candidate={'x5': 0.9966063375447741, 'x1': 2.203128086992414, 'x4': 1.1138142609637516, 'x3': 1.2850872495120294, 'x2': 1.570806362844429}, result=4.496095657348633, best_f=4.496217250823975, steps_to_best_f=15, peak_memory=243956736, runtime_ms=18.957895517349243)\n",
      "ExperimentResult(model='BoBn', step=67, restart=1, candidate={'x5': 0.9966063682040653, 'x1': 2.2031267099091516, 'x4': 1.1138142677156058, 'x3': 1.2850871328424072, 'x2': 1.5708058451935294}, result=4.495861053466797, best_f=4.496217250823975, steps_to_best_f=15, peak_memory=244788736, runtime_ms=26.6544771194458)\n",
      "ExperimentResult(model='BoBn', step=68, restart=1, candidate={'x5': 0.9966069112371563, 'x1': 2.2031151476007156, 'x4': 1.1138604575686113, 'x3': 1.2850870671477965, 'x2': 1.5708064034771045}, result=4.4959397315979, best_f=4.496217250823975, steps_to_best_f=15, peak_memory=246495744, runtime_ms=18.45324158668518)\n",
      "ExperimentResult(model='BoBn', step=69, restart=1, candidate={'x5': 0.9966065554100876, 'x1': 2.2031266929930813, 'x4': 1.1138586809415143, 'x3': 1.2850870505670113, 'x2': 1.5708187274966947}, result=4.495940208435059, best_f=4.496217250823975, steps_to_best_f=15, peak_memory=246015488, runtime_ms=18.58241891860962)\n",
      "ExperimentResult(model='BoBn', step=70, restart=1, candidate={'x5': 0.9966068643103205, 'x1': 2.203113821206738, 'x4': 1.1138600759858472, 'x3': 1.2851060835382184, 'x2': 1.5708215761358921}, result=4.495929718017578, best_f=4.496217250823975, steps_to_best_f=15, peak_memory=246955520, runtime_ms=18.899702072143555)\n",
      "ExperimentResult(model='BoBn', step=71, restart=1, candidate={'x5': 0.9966069807243271, 'x1': 2.203113445151236, 'x4': 1.1138596472101558, 'x3': 1.285105697110625, 'x2': 1.5708219363699671}, result=4.495748519897461, best_f=4.496217250823975, steps_to_best_f=15, peak_memory=247477760, runtime_ms=18.22624373435974)\n",
      "ExperimentResult(model='BoBn', step=72, restart=1, candidate={'x5': 0.9966068585681782, 'x1': 2.203113038457934, 'x4': 1.1138131463048795, 'x3': 1.285086931169807, 'x2': 1.5708055294034782}, result=4.4957966804504395, best_f=4.496217250823975, steps_to_best_f=15, peak_memory=246626816, runtime_ms=20.193129301071167)\n",
      "ExperimentResult(model='BoBn', step=73, restart=1, candidate={'x5': 0.9966071182989148, 'x1': 2.203112454338177, 'x4': 1.1138170502406575, 'x3': 1.2850867512228958, 'x2': 1.5708207697216443}, result=4.496110916137695, best_f=4.496217250823975, steps_to_best_f=15, peak_memory=246011904, runtime_ms=22.470253467559814)\n",
      "ExperimentResult(model='BoBn', step=74, restart=1, candidate={'x5': 0.9966069903607295, 'x1': 2.2031116352317497, 'x4': 1.1138596641387921, 'x3': 1.2850872683784609, 'x2': 1.570804963384283}, result=4.496018409729004, best_f=4.496217250823975, steps_to_best_f=15, peak_memory=248002560, runtime_ms=17.464972257614136)\n",
      "ExperimentResult(model='BoBn', step=75, restart=1, candidate={'x5': 0.9966073047811336, 'x1': 2.203111571286307, 'x4': 1.113812505835889, 'x3': 1.2850866073067986, 'x2': 1.570805514502887}, result=4.495913505554199, best_f=4.496217250823975, steps_to_best_f=15, peak_memory=247745024, runtime_ms=18.59931206703186)\n",
      "ExperimentResult(model='BoBn', step=76, restart=1, candidate={'x5': 0.9966070673095736, 'x1': 2.2031110927819113, 'x4': 1.1138583325560047, 'x3': 1.285086483953256, 'x2': 1.5708054432579743}, result=4.4959306716918945, best_f=4.496217250823975, steps_to_best_f=15, peak_memory=248766976, runtime_ms=19.965702772140503)\n",
      "ExperimentResult(model='BoBn', step=77, restart=1, candidate={'x5': 0.9966072023454318, 'x1': 2.203110559745012, 'x4': 1.11381223409565, 'x3': 1.285086429784065, 'x2': 1.5708051314373128}, result=4.495967388153076, best_f=4.496217250823975, steps_to_best_f=15, peak_memory=246198272, runtime_ms=21.882165908813477)\n",
      "ExperimentResult(model='BoBn', step=78, restart=1, candidate={'x5': 0.9966072553776802, 'x1': 2.20311009906024, 'x4': 1.1138117989139558, 'x3': 1.2850862705577495, 'x2': 1.5708052499506184}, result=4.49594259262085, best_f=4.496217250823975, steps_to_best_f=15, peak_memory=249041408, runtime_ms=15.863136529922485)\n",
      "ExperimentResult(model='BoBn', step=79, restart=1, candidate={'x5': 0.9966073723866621, 'x1': 2.2031096548617057, 'x4': 1.1138116405035097, 'x3': 1.285086186039649, 'x2': 1.5708050788950279}, result=4.495825290679932, best_f=4.496217250823975, steps_to_best_f=15, peak_memory=249333760, runtime_ms=15.997965812683105)\n",
      "ExperimentResult(model='BoBn', step=80, restart=1, candidate={'x5': 0.9966075711962763, 'x1': 2.203113535818474, 'x4': 1.1138119358440324, 'x3': 1.2850860342953074, 'x2': 1.570805126711044}, result=4.4957990646362305, best_f=4.496217250823975, steps_to_best_f=15, peak_memory=250880000, runtime_ms=25.71071481704712)\n",
      "ExperimentResult(model='BoBn', step=81, restart=1, candidate={'x5': 0.9966092717499274, 'x1': 2.2031130192482573, 'x4': 1.1138117377365169, 'x3': 1.2850860084013687, 'x2': 1.570805019348948}, result=4.49590539932251, best_f=4.496217250823975, steps_to_best_f=15, peak_memory=251064320, runtime_ms=21.198252201080322)\n",
      "ExperimentResult(model='BoBn', step=82, restart=1, candidate={'x5': 0.9966075969746202, 'x1': 2.203112427906639, 'x4': 1.1138577264745912, 'x3': 1.2850859209035903, 'x2': 1.5708049151228618}, result=4.495987415313721, best_f=4.496217250823975, steps_to_best_f=15, peak_memory=251786752, runtime_ms=17.956225156784058)\n",
      "ExperimentResult(model='BoBn', step=83, restart=1, candidate={'x5': 0.9966075997901751, 'x1': 2.2031118823180527, 'x4': 1.1138112333155503, 'x3': 1.285085817968243, 'x2': 1.5708048920839541}, result=4.495840072631836, best_f=4.496217250823975, steps_to_best_f=15, peak_memory=251417600, runtime_ms=39.442933082580566)\n",
      "ExperimentResult(model='BoBn', step=84, restart=1, candidate={'x5': 0.9966078004614803, 'x1': 2.2031113453769584, 'x4': 1.1138107934980979, 'x3': 1.2850855895098683, 'x2': 1.5708206222047247}, result=4.495848655700684, best_f=4.496217250823975, steps_to_best_f=15, peak_memory=252181504, runtime_ms=25.476128339767456)\n",
      "ExperimentResult(model='BoBn', step=85, restart=1, candidate={'x5': 0.9966094885610659, 'x1': 2.203110726190209, 'x4': 1.113810365657421, 'x3': 1.285104148075521, 'x2': 1.5708190514313125}, result=4.495907306671143, best_f=4.496217250823975, steps_to_best_f=15, peak_memory=253097984, runtime_ms=18.722118854522705)\n",
      "ExperimentResult(model='BoBn', step=86, restart=1, candidate={'x5': 0.9966094600305456, 'x1': 2.203110274890264, 'x4': 1.1138105703554941, 'x3': 1.2850856206719783, 'x2': 1.570804765749814}, result=4.495944499969482, best_f=4.496217250823975, steps_to_best_f=15, peak_memory=253386240, runtime_ms=22.108134984970093)\n",
      "ExperimentResult(model='BoBn', step=87, restart=1, candidate={'x5': 0.996609598841384, 'x1': 2.2031096904423637, 'x4': 1.113810249991385, 'x3': 1.2850854646853707, 'x2': 1.570804654690024}, result=4.4958014488220215, best_f=4.496217250823975, steps_to_best_f=15, peak_memory=253151744, runtime_ms=17.375109672546387)\n",
      "ExperimentResult(model='BoBn', step=88, restart=1, candidate={'x5': 0.9966095815864547, 'x1': 2.203109100561697, 'x4': 1.1138101325400827, 'x3': 1.2850854127649898, 'x2': 1.5708046262884954}, result=4.4958930015563965, best_f=4.496217250823975, steps_to_best_f=15, peak_memory=253036544, runtime_ms=17.90714454650879)\n",
      "ExperimentResult(model='BoBn', step=89, restart=1, candidate={'x5': 0.9966093913230989, 'x1': 2.2031085324823008, 'x4': 1.1138098197822812, 'x3': 1.2850852453631973, 'x2': 1.5708051962310605}, result=4.495987892150879, best_f=4.496217250823975, steps_to_best_f=15, peak_memory=253574144, runtime_ms=17.349214553833008)\n",
      "ExperimentResult(model='BoBn', step=90, restart=1, candidate={'x5': 0.9966096582564876, 'x1': 2.2031080064977835, 'x4': 1.1138142082684555, 'x3': 1.2850851815709134, 'x2': 1.5708044666452832}, result=4.495665550231934, best_f=4.496217250823975, steps_to_best_f=15, peak_memory=253894144, runtime_ms=18.429269790649414)\n",
      "ExperimentResult(model='BoBn', step=91, restart=1, candidate={'x5': 0.9966097814232785, 'x1': 2.2031072997104295, 'x4': 1.113809501986816, 'x3': 1.2850851464648765, 'x2': 1.5708053309823358}, result=4.495805263519287, best_f=4.496217250823975, steps_to_best_f=15, peak_memory=255286784, runtime_ms=25.11059856414795)\n",
      "ExperimentResult(model='BoBn', step=92, restart=1, candidate={'x5': 0.9966097310933504, 'x1': 2.2031069379540704, 'x4': 1.1138093312300923, 'x3': 1.285085007442549, 'x2': 1.5708045074643715}, result=4.49594783782959, best_f=4.496217250823975, steps_to_best_f=15, peak_memory=255863296, runtime_ms=19.977081537246704)\n",
      "ExperimentResult(model='BoBn', step=93, restart=1, candidate={'x5': 0.9966081473917627, 'x1': 2.2031063740217536, 'x4': 1.1138098412775594, 'x3': 1.2850849133580509, 'x2': 1.5708201875972785}, result=4.496133804321289, best_f=4.496217250823975, steps_to_best_f=15, peak_memory=255788032, runtime_ms=24.017910480499268)\n",
      "ExperimentResult(model='BoBn', step=94, restart=1, candidate={'x5': 0.9966083626480884, 'x1': 2.2031058059058837, 'x4': 1.1138084903914403, 'x3': 1.2850848296511703, 'x2': 1.5708198547329935}, result=4.49577522277832, best_f=4.496217250823975, steps_to_best_f=15, peak_memory=256626176, runtime_ms=29.66026544570923)\n",
      "ExperimentResult(model='BoBn', step=95, restart=1, candidate={'x5': 0.9966083478802633, 'x1': 2.2031052255756993, 'x4': 1.113808781600381, 'x3': 1.285084735883367, 'x2': 1.570804057892938}, result=4.495856761932373, best_f=4.496217250823975, steps_to_best_f=15, peak_memory=255719424, runtime_ms=24.722861528396606)\n",
      "ExperimentResult(model='BoBn', step=96, restart=1, candidate={'x5': 0.9966080907947482, 'x1': 2.2031047327222772, 'x4': 1.1138085165836573, 'x3': 1.2850846891357302, 'x2': 1.5708042603253505}, result=4.495943546295166, best_f=4.496217250823975, steps_to_best_f=15, peak_memory=257101824, runtime_ms=23.445095539093018)\n",
      "ExperimentResult(model='BoBn', step=97, restart=1, candidate={'x5': 0.9966084734667742, 'x1': 2.2031041392861845, 'x4': 1.1138084311222125, 'x3': 1.2850846025044116, 'x2': 1.5708193841227809}, result=4.495846271514893, best_f=4.496217250823975, steps_to_best_f=15, peak_memory=259305472, runtime_ms=30.905670642852783)\n",
      "ExperimentResult(model='BoBn', step=98, restart=1, candidate={'x5': 0.996608424830156, 'x1': 2.2031037147073684, 'x4': 1.113808198332748, 'x3': 1.285084644409246, 'x2': 1.5708040600118416}, result=4.495819091796875, best_f=4.496217250823975, steps_to_best_f=15, peak_memory=257833472, runtime_ms=21.608275651931763)\n",
      "ExperimentResult(model='BoBn', step=99, restart=1, candidate={'x5': 0.9966085763843433, 'x1': 2.2031030813203265, 'x4': 1.1138147205225337, 'x3': 1.2850844105499002, 'x2': 1.570804004622113}, result=4.495896339416504, best_f=4.496217250823975, steps_to_best_f=15, peak_memory=258479616, runtime_ms=23.3033549785614)\n",
      "ExperimentResult(model='BoBn', step=100, restart=1, candidate={'x5': 0.9966086517592183, 'x1': 2.203102547287035, 'x4': 1.1138111689136603, 'x3': 1.2850842764141623, 'x2': 1.5708038641224362}, result=4.4957685470581055, best_f=4.496217250823975, steps_to_best_f=15, peak_memory=258179072, runtime_ms=24.079912424087524)\n",
      "ExperimentResult(model='BoBn', step=101, restart=1, candidate={'x5': 0.9966085504907464, 'x1': 2.2031021185496624, 'x4': 1.113807678321906, 'x3': 1.2850842739092443, 'x2': 1.5708196248230666}, result=4.496093273162842, best_f=4.496217250823975, steps_to_best_f=15, peak_memory=258045440, runtime_ms=20.040530681610107)\n",
      "ExperimentResult(model='BoBn', step=102, restart=1, candidate={'x5': 0.9966088777519776, 'x1': 2.2031016480185968, 'x4': 1.1138517794517107, 'x3': 1.2851023075032189, 'x2': 1.5708038421486266}, result=4.495863437652588, best_f=4.496217250823975, steps_to_best_f=15, peak_memory=260317184, runtime_ms=27.892864227294922)\n",
      "ExperimentResult(model='BoBn', step=103, restart=1, candidate={'x5': 0.9966088448736952, 'x1': 2.2031010796880186, 'x4': 1.1138073211097637, 'x3': 1.2851022105082128, 'x2': 1.570803714064285}, result=4.495979309082031, best_f=4.496217250823975, steps_to_best_f=15, peak_memory=259480576, runtime_ms=12.57638669013977)\n",
      "ExperimentResult(model='BoBn', step=104, restart=1, candidate={'x5': 0.9966086258993491, 'x1': 2.203100507063709, 'x4': 1.113851646157305, 'x3': 1.2851019237436099, 'x2': 1.570803298332458}, result=4.496038436889648, best_f=4.496217250823975, steps_to_best_f=15, peak_memory=261067264, runtime_ms=19.383739233016968)\n",
      "ExperimentResult(model='BoBn', step=105, restart=1, candidate={'x5': 0.9966089922490157, 'x1': 2.2030999134898424, 'x4': 1.1138512504772446, 'x3': 1.2851019987501215, 'x2': 1.5708037264381502}, result=4.495995998382568, best_f=4.496217250823975, steps_to_best_f=15, peak_memory=259610624, runtime_ms=28.48717498779297)\n",
      "ExperimentResult(model='BoBn', step=106, restart=1, candidate={'x5': 0.9966090185181326, 'x1': 2.203099464537194, 'x4': 1.1138068351204287, 'x3': 1.2851019375166044, 'x2': 1.5708039093206076}, result=4.495759010314941, best_f=4.496217250823975, steps_to_best_f=15, peak_memory=261748224, runtime_ms=23.36292266845703)\n",
      "ExperimentResult(model='BoBn', step=107, restart=1, candidate={'x5': 0.996610558109643, 'x1': 2.2030991075128554, 'x4': 1.113806617344728, 'x3': 1.2851017407975154, 'x2': 1.570812780024802}, result=4.495865345001221, best_f=4.496217250823975, steps_to_best_f=15, peak_memory=260673536, runtime_ms=21.526973962783813)\n",
      "ExperimentResult(model='BoBn', step=108, restart=1, candidate={'x5': 0.9966099774658039, 'x1': 2.203098624276308, 'x4': 1.113850701554148, 'x3': 1.2850837169341738, 'x2': 1.5708034343285584}, result=4.495951175689697, best_f=4.496217250823975, steps_to_best_f=15, peak_memory=260795904, runtime_ms=21.586929082870483)\n",
      "ExperimentResult(model='BoBn', step=109, restart=1, candidate={'x5': 0.9966100594180624, 'x1': 2.2030980302841816, 'x4': 1.1138061553989396, 'x3': 1.2850836544652036, 'x2': 1.570803366690423}, result=4.4958672523498535, best_f=4.496217250823975, steps_to_best_f=15, peak_memory=261827072, runtime_ms=22.351282358169556)\n",
      "ExperimentResult(model='BoBn', step=110, restart=1, candidate={'x5': 0.9966107855212573, 'x1': 2.2030975350556674, 'x4': 1.1138505432594792, 'x3': 1.2851015643205541, 'x2': 1.5708033850708603}, result=4.495876312255859, best_f=4.496217250823975, steps_to_best_f=15, peak_memory=262002688, runtime_ms=11.701996803283691)\n",
      "ExperimentResult(model='BoBn', step=111, restart=1, candidate={'x5': 0.9966093739824281, 'x1': 2.203097021956575, 'x4': 1.1138500686227408, 'x3': 1.285083495471931, 'x2': 1.5708031807043163}, result=4.495913028717041, best_f=4.496217250823975, steps_to_best_f=15, peak_memory=261494784, runtime_ms=21.39142107963562)\n",
      "ExperimentResult(model='BoBn', step=112, restart=1, candidate={'x5': 0.9966108417033602, 'x1': 2.2030965350360128, 'x4': 1.113849790925236, 'x3': 1.285083389384466, 'x2': 1.5708032715641744}, result=4.4958319664001465, best_f=4.496217250823975, steps_to_best_f=15, peak_memory=262937600, runtime_ms=21.61339044570923)\n",
      "ExperimentResult(model='BoBn', step=113, restart=1, candidate={'x5': 0.9966108755778683, 'x1': 2.203095990425512, 'x4': 1.1138053492633466, 'x3': 1.2851012311527856, 'x2': 1.5708033069444494}, result=4.495996952056885, best_f=4.496217250823975, steps_to_best_f=15, peak_memory=262717440, runtime_ms=17.112448692321777)\n",
      "ExperimentResult(model='BoBn', step=114, restart=1, candidate={'x5': 0.9966093989521952, 'x1': 2.2030955471735827, 'x4': 1.1138054488210503, 'x3': 1.2850833184588455, 'x2': 1.5708031940043226}, result=4.495816707611084, best_f=4.496217250823975, steps_to_best_f=15, peak_memory=263552000, runtime_ms=18.307161569595337)\n",
      "ExperimentResult(model='BoBn', step=115, restart=1, candidate={'x5': 0.9966094949266937, 'x1': 2.20309510550796, 'x4': 1.1138054083309854, 'x3': 1.2850831364789648, 'x2': 1.5708030974131786}, result=4.495809555053711, best_f=4.496217250823975, steps_to_best_f=15, peak_memory=262874624, runtime_ms=11.84772777557373)\n",
      "ExperimentResult(model='BoBn', step=116, restart=1, candidate={'x5': 0.9966098211652236, 'x1': 2.203094612689031, 'x4': 1.1138053051311594, 'x3': 1.2850831675921295, 'x2': 1.5708027397438977}, result=4.495927810668945, best_f=4.496217250823975, steps_to_best_f=15, peak_memory=264397824, runtime_ms=17.339884042739868)\n",
      "ExperimentResult(model='BoBn', step=117, restart=1, candidate={'x5': 0.9966112126444991, 'x1': 2.203093842754377, 'x4': 1.1138054849707668, 'x3': 1.2851009804368148, 'x2': 1.5708194748175757}, result=4.49582052230835, best_f=4.496217250823975, steps_to_best_f=15, peak_memory=263845888, runtime_ms=15.92025876045227)\n",
      "ExperimentResult(model='BoBn', step=118, restart=1, candidate={'x5': 0.9966111955041181, 'x1': 2.203093602468795, 'x4': 1.113804782680705, 'x3': 1.2850829967426414, 'x2': 1.5708193183864851}, result=4.495818614959717, best_f=4.496217250823975, steps_to_best_f=15, peak_memory=266103808, runtime_ms=21.19855785369873)\n",
      "ExperimentResult(model='BoBn', step=119, restart=1, candidate={'x5': 0.9966114106523104, 'x1': 2.203093642162416, 'x4': 1.1138474772958509, 'x3': 1.2851007714780476, 'x2': 1.570819164070742}, result=4.495905876159668, best_f=4.496217250823975, steps_to_best_f=15, peak_memory=266693120, runtime_ms=21.47383737564087)\n",
      "ExperimentResult(model='BoBn', step=120, restart=1, candidate={'x5': 0.9966097706308602, 'x1': 2.2030926090795186, 'x4': 1.113804509848281, 'x3': 1.2850828700946497, 'x2': 1.5708189577166796}, result=4.495965957641602, best_f=4.496217250823975, steps_to_best_f=15, peak_memory=269577216, runtime_ms=49.537721157073975)\n",
      "ExperimentResult(model='BoBn', step=121, restart=1, candidate={'x5': 0.9966114596285591, 'x1': 2.203092198347829, 'x4': 1.113846499772261, 'x3': 1.285100536844856, 'x2': 1.5708189371118293}, result=4.495790004730225, best_f=4.496217250823975, steps_to_best_f=15, peak_memory=267027456, runtime_ms=16.729301691055298)\n",
      "ExperimentResult(model='BoBn', step=122, restart=1, candidate={'x5': 0.9966112006301214, 'x1': 2.2030917396078515, 'x4': 1.1138039862961224, 'x3': 1.2850827632578712, 'x2': 1.5708187995647438}, result=4.495977401733398, best_f=4.496217250823975, steps_to_best_f=15, peak_memory=269391360, runtime_ms=20.686473846435547)\n",
      "ExperimentResult(model='BoBn', step=123, restart=1, candidate={'x5': 0.996610030903867, 'x1': 2.2030912156591906, 'x4': 1.113803916719528, 'x3': 1.2850826276385279, 'x2': 1.5708187503470523}, result=4.495865821838379, best_f=4.496217250823975, steps_to_best_f=15, peak_memory=268518912, runtime_ms=12.2932870388031)\n",
      "ExperimentResult(model='BoBn', step=124, restart=1, candidate={'x5': 0.9966099843890137, 'x1': 2.203090781411061, 'x4': 1.1138035561980526, 'x3': 1.285100245379725, 'x2': 1.5708186172872658}, result=4.495828151702881, best_f=4.496217250823975, steps_to_best_f=15, peak_memory=269659136, runtime_ms=28.391372203826904)\n",
      "ExperimentResult(model='BoBn', step=125, restart=1, candidate={'x5': 0.9966103294412256, 'x1': 2.2030903706659783, 'x4': 1.1138067652570014, 'x3': 1.285082490391522, 'x2': 1.5708184979679627}, result=4.495888710021973, best_f=4.496217250823975, steps_to_best_f=15, peak_memory=269214208, runtime_ms=17.304814100265503)\n",
      "ExperimentResult(model='BoBn', step=126, restart=1, candidate={'x5': 0.9966118160039322, 'x1': 2.2030898826480008, 'x4': 1.1138132560063176, 'x3': 1.285082399362668, 'x2': 1.5708185986700738}, result=4.495853900909424, best_f=4.496217250823975, steps_to_best_f=15, peak_memory=270346752, runtime_ms=18.000266313552856)\n",
      "ExperimentResult(model='BoBn', step=127, restart=1, candidate={'x5': 0.996611876419188, 'x1': 2.203089182482816, 'x4': 1.1137988805963153, 'x3': 1.285082373569308, 'x2': 1.570802579832179}, result=4.495911121368408, best_f=4.496217250823975, steps_to_best_f=15, peak_memory=269724672, runtime_ms=23.615379571914673)\n",
      "ExperimentResult(model='BoBn', step=128, restart=1, candidate={'x5': 0.9966118488530741, 'x1': 2.203088908147264, 'x4': 1.1138463722765688, 'x3': 1.285082233933135, 'x2': 1.5708024584356928}, result=4.495850563049316, best_f=4.496217250823975, steps_to_best_f=15, peak_memory=271025152, runtime_ms=19.762978315353394)\n",
      "ExperimentResult(model='BoBn', step=129, restart=1, candidate={'x5': 0.9966114879247345, 'x1': 2.20308842999589, 'x4': 1.1138460512503945, 'x3': 1.2850821108670245, 'x2': 1.5708023944492757}, result=4.495907306671143, best_f=4.496217250823975, steps_to_best_f=15, peak_memory=269203456, runtime_ms=12.312282800674438)\n",
      "ExperimentResult(model='BoBn', step=130, restart=1, candidate={'x5': 0.9966103248529459, 'x1': 2.20308805288609, 'x4': 1.1138458395882411, 'x3': 1.285082106776958, 'x2': 1.570817634211491}, result=4.495842456817627, best_f=4.496217250823975, steps_to_best_f=15, peak_memory=273098752, runtime_ms=20.22224497795105)\n",
      "ExperimentResult(model='BoBn', step=131, restart=1, candidate={'x5': 0.9966120754888784, 'x1': 2.2030877126366653, 'x4': 1.113802726138731, 'x3': 1.2850819986339375, 'x2': 1.570818351349946}, result=4.496053695678711, best_f=4.496217250823975, steps_to_best_f=15, peak_memory=271089664, runtime_ms=32.84894108772278)\n",
      "ExperimentResult(model='BoBn', step=132, restart=1, candidate={'x5': 0.9966121392689724, 'x1': 2.203087194868868, 'x4': 1.1138448179791853, 'x3': 1.2850818527077421, 'x2': 1.5708181821602911}, result=4.496015548706055, best_f=4.496217250823975, steps_to_best_f=15, peak_memory=272086528, runtime_ms=23.128308057785034)\n",
      "ExperimentResult(model='BoBn', step=133, restart=1, candidate={'x5': 0.9966122004890787, 'x1': 2.2030867784925716, 'x4': 1.1138023833062054, 'x3': 1.2850818006760873, 'x2': 1.5708120203153049}, result=4.495974063873291, best_f=4.496217250823975, steps_to_best_f=15, peak_memory=272584704, runtime_ms=19.50621199607849)\n",
      "ExperimentResult(model='BoBn', step=134, restart=1, candidate={'x5': 0.9966122779980218, 'x1': 2.203086378465852, 'x4': 1.1138022692228158, 'x3': 1.285081679114764, 'x2': 1.5708023415567318}, result=4.495868682861328, best_f=4.496217250823975, steps_to_best_f=15, peak_memory=274589696, runtime_ms=12.388702154159546)\n",
      "ExperimentResult(model='BoBn', step=135, restart=1, candidate={'x5': 0.9966122894549237, 'x1': 2.2030860121256177, 'x4': 1.113801936433023, 'x3': 1.2850816052643135, 'x2': 1.5708021585422995}, result=4.495955944061279, best_f=4.496217250823975, steps_to_best_f=15, peak_memory=272346624, runtime_ms=17.927528381347656)\n",
      "ExperimentResult(model='BoBn', step=136, restart=1, candidate={'x5': 0.9966123882014816, 'x1': 2.2030855751528566, 'x4': 1.1138443560987306, 'x3': 1.2850814073470995, 'x2': 1.570802133351432}, result=4.495741367340088, best_f=4.496217250823975, steps_to_best_f=15, peak_memory=275203584, runtime_ms=21.547175884246826)\n",
      "ExperimentResult(model='BoBn', step=137, restart=1, candidate={'x5': 0.9966108810208882, 'x1': 2.2030852778539387, 'x4': 1.1138441807703, 'x3': 1.285081610406657, 'x2': 1.570801949576101}, result=4.49595832824707, best_f=4.496217250823975, steps_to_best_f=15, peak_memory=274628608, runtime_ms=19.516636610031128)\n",
      "ExperimentResult(model='BoBn', step=138, restart=1, candidate={'x5': 0.9966115723371018, 'x1': 2.2030847190851683, 'x4': 1.1138411286470562, 'x3': 1.2850813193951585, 'x2': 1.5708016597456926}, result=4.495934009552002, best_f=4.496217250823975, steps_to_best_f=15, peak_memory=277663232, runtime_ms=37.8764488697052)\n",
      "ExperimentResult(model='BoBn', step=139, restart=1, candidate={'x5': 0.9966125434480543, 'x1': 2.2030844332233106, 'x4': 1.113841880836413, 'x3': 1.2850986464548138, 'x2': 1.5708181068349985}, result=4.4957356452941895, best_f=4.496217250823975, steps_to_best_f=15, peak_memory=277192192, runtime_ms=27.060827255249023)\n",
      "ExperimentResult(model='BoBn', step=140, restart=1, candidate={'x5': 0.9966110527675098, 'x1': 2.2030839862126266, 'x4': 1.1138430622440463, 'x3': 1.2850812319802531, 'x2': 1.5708175582050283}, result=4.4959306716918945, best_f=4.496217250823975, steps_to_best_f=15, peak_memory=278263808, runtime_ms=16.3872172832489)\n",
      "ExperimentResult(model='BoBn', step=141, restart=1, candidate={'x5': 0.9966110378689246, 'x1': 2.203083593821399, 'x4': 1.1138010531878608, 'x3': 1.2850811535845073, 'x2': 1.5708139613938814}, result=4.495944023132324, best_f=4.496217250823975, steps_to_best_f=15, peak_memory=277463552, runtime_ms=17.03899121284485)\n",
      "ExperimentResult(model='BoBn', step=142, restart=1, candidate={'x5': 0.996611698612953, 'x1': 2.203083157327067, 'x4': 1.1138431174420762, 'x3': 1.2850810252783236, 'x2': 1.5708170177880159}, result=4.4959306716918945, best_f=4.496217250823975, steps_to_best_f=15, peak_memory=279186944, runtime_ms=26.27649974822998)\n",
      "ExperimentResult(model='BoBn', step=143, restart=1, candidate={'x5': 0.9966109386300188, 'x1': 2.203082817808185, 'x4': 1.1138061093825387, 'x3': 1.285080987949663, 'x2': 1.5708170038041804}, result=4.495784282684326, best_f=4.496217250823975, steps_to_best_f=15, peak_memory=277745664, runtime_ms=24.058693408966064)\n",
      "ExperimentResult(model='BoBn', step=144, restart=1, candidate={'x5': 0.9966124320921416, 'x1': 2.203082447278899, 'x4': 1.1138408472966026, 'x3': 1.2850808706327685, 'x2': 1.5708016312700164}, result=4.495720863342285, best_f=4.496217250823975, steps_to_best_f=15, peak_memory=279615488, runtime_ms=25.041566371917725)\n",
      "ExperimentResult(model='BoBn', step=145, restart=1, candidate={'x5': 0.9966110041515984, 'x1': 2.2030820767113917, 'x4': 1.1138424581136745, 'x3': 1.2850980121080566, 'x2': 1.5708017401783256}, result=4.495715141296387, best_f=4.496217250823975, steps_to_best_f=15, peak_memory=278007296, runtime_ms=20.163777589797974)\n",
      "ExperimentResult(model='BoBn', step=146, restart=1, candidate={'x5': 0.996611101846535, 'x1': 2.2030816882709225, 'x4': 1.1138423173047978, 'x3': 1.2850807153035526, 'x2': 1.5708019385030263}, result=4.495815277099609, best_f=4.496217250823975, steps_to_best_f=15, peak_memory=279432192, runtime_ms=16.686072826385498)\n",
      "ExperimentResult(model='BoBn', step=147, restart=1, candidate={'x5': 0.9966113761906024, 'x1': 2.203081143441821, 'x4': 1.113800163606989, 'x3': 1.2850806260092187, 'x2': 1.5708164763297245}, result=4.495850086212158, best_f=4.496217250823975, steps_to_best_f=15, peak_memory=278231040, runtime_ms=19.798928260803223)\n",
      "ExperimentResult(model='BoBn', step=148, restart=1, candidate={'x5': 0.9966113097374752, 'x1': 2.2030807923304954, 'x4': 1.1138416658540737, 'x3': 1.2850805831002186, 'x2': 1.5708016316342437}, result=4.495794296264648, best_f=4.496217250823975, steps_to_best_f=15, peak_memory=279887872, runtime_ms=15.988019227981567)\n",
      "ExperimentResult(model='BoBn', step=149, restart=1, candidate={'x5': 0.9966109995479984, 'x1': 2.203080434336741, 'x4': 1.1137999307093285, 'x3': 1.2850805094715696, 'x2': 1.5708007692400705}, result=4.4957475662231445, best_f=4.496217250823975, steps_to_best_f=15, peak_memory=279074816, runtime_ms=26.61243510246277)\n",
      "restart_id=2/3\n",
      "ExperimentResult(model='BoBn', step=0, restart=2, candidate={'x5': 0.996611245553164, 'x1': 2.2030800518499043, 'x4': 1.1137997355663694, 'x3': 1.2850804621428695, 'x2': 1.5708016777147706}, result=4.495882987976074, best_f=4.495882987976074, steps_to_best_f=0, peak_memory=280769024, runtime_ms=32.625880002975464)\n",
      "ExperimentResult(model='BoBn', step=1, restart=2, candidate={'x5': 0.9966113734610175, 'x1': 2.203079576535649, 'x4': 1.113841065833541, 'x3': 1.2850802980478906, 'x2': 1.5708013865653299}, result=4.496007919311523, best_f=4.496007919311523, steps_to_best_f=1, peak_memory=279855616, runtime_ms=19.400774240493774)\n",
      "ExperimentResult(model='BoBn', step=2, restart=2, candidate={'x5': 0.9966114035075119, 'x1': 2.2030792831178254, 'x4': 1.1137994330248138, 'x3': 1.2850803373533217, 'x2': 1.5708012473291004}, result=4.495944023132324, best_f=4.496007919311523, steps_to_best_f=1, peak_memory=281473536, runtime_ms=17.677314043045044)\n",
      "ExperimentResult(model='BoBn', step=3, restart=2, candidate={'x5': 0.9966114156218395, 'x1': 2.203078898110231, 'x4': 1.1138409279878856, 'x3': 1.2850803727864666, 'x2': 1.5708012748260511}, result=4.495955944061279, best_f=4.496007919311523, steps_to_best_f=1, peak_memory=281879040, runtime_ms=21.3185818195343)\n",
      "ExperimentResult(model='BoBn', step=4, restart=2, candidate={'x5': 0.9966115305273032, 'x1': 2.203078480005688, 'x4': 1.1137987476593518, 'x3': 1.285097142046562, 'x2': 1.570801193382351}, result=4.496061325073242, best_f=4.496061325073242, steps_to_best_f=4, peak_memory=281237504, runtime_ms=23.24088168144226)\n",
      "ExperimentResult(model='BoBn', step=5, restart=2, candidate={'x5': 0.996611622544035, 'x1': 2.2030779794545277, 'x4': 1.113839416648718, 'x3': 1.2850802194135498, 'x2': 1.57080220245085}, result=4.496012210845947, best_f=4.496061325073242, steps_to_best_f=4, peak_memory=281216000, runtime_ms=18.162184238433838)\n",
      "ExperimentResult(model='BoBn', step=6, restart=2, candidate={'x5': 0.9966116522182944, 'x1': 2.203077699696941, 'x4': 1.1138017800969837, 'x3': 1.2850800374375553, 'x2': 1.5708011567820839}, result=4.495998382568359, best_f=4.496061325073242, steps_to_best_f=4, peak_memory=282515968, runtime_ms=26.34047245979309)\n",
      "ExperimentResult(model='BoBn', step=7, restart=2, candidate={'x5': 0.9966116765187555, 'x1': 2.2030773863259814, 'x4': 1.1138359971680325, 'x3': 1.2850798835104804, 'x2': 1.5708018630607796}, result=4.495973110198975, best_f=4.496061325073242, steps_to_best_f=4, peak_memory=282637824, runtime_ms=35.67714881896973)\n",
      "ExperimentResult(model='BoBn', step=8, restart=2, candidate={'x5': 0.9966129176224217, 'x1': 2.2030767308168047, 'x4': 1.11379880183429, 'x3': 1.2850800597774419, 'x2': 1.5708026481783233}, result=4.495777130126953, best_f=4.496061325073242, steps_to_best_f=4, peak_memory=283262976, runtime_ms=21.04798913002014)\n",
      "ExperimentResult(model='BoBn', step=9, restart=2, candidate={'x5': 0.9966118234882767, 'x1': 2.2030765544322137, 'x4': 1.113850595390288, 'x3': 1.2850797350196261, 'x2': 1.5708009872861217}, result=4.495932579040527, best_f=4.496061325073242, steps_to_best_f=4, peak_memory=284882944, runtime_ms=36.88122081756592)\n",
      "ExperimentResult(model='BoBn', step=10, restart=2, candidate={'x5': 0.9966118447310234, 'x1': 2.203076105919909, 'x4': 1.1137979979428134, 'x3': 1.2850796859148803, 'x2': 1.5708009608638611}, result=4.496112823486328, best_f=4.496112823486328, steps_to_best_f=10, peak_memory=284022784, runtime_ms=23.806705713272095)\n",
      "ExperimentResult(model='BoBn', step=11, restart=2, candidate={'x5': 0.9966120072096855, 'x1': 2.203075703313627, 'x4': 1.1137980409417276, 'x3': 1.2850796745712205, 'x2': 1.570799300555034}, result=4.495889186859131, best_f=4.496112823486328, steps_to_best_f=10, peak_memory=285476352, runtime_ms=24.214426040649414)\n",
      "ExperimentResult(model='BoBn', step=12, restart=2, candidate={'x5': 0.9966118614452577, 'x1': 2.203075391121202, 'x4': 1.113798041026189, 'x3': 1.2850795712243563, 'x2': 1.5708007343279256}, result=4.495811939239502, best_f=4.496112823486328, steps_to_best_f=10, peak_memory=285187072, runtime_ms=39.33667492866516)\n",
      "ExperimentResult(model='BoBn', step=13, restart=2, candidate={'x5': 0.9966120182794945, 'x1': 2.2030749272771715, 'x4': 1.113835167880674, 'x3': 1.285079535145886, 'x2': 1.570800768540186}, result=4.495689392089844, best_f=4.496112823486328, steps_to_best_f=10, peak_memory=285906944, runtime_ms=23.82445979118347)\n",
      "ExperimentResult(model='BoBn', step=14, restart=2, candidate={'x5': 0.9966122890921826, 'x1': 2.2030747062077753, 'x4': 1.1137976670727945, 'x3': 1.2850793950415338, 'x2': 1.5708007059238558}, result=4.495828151702881, best_f=4.496112823486328, steps_to_best_f=10, peak_memory=285517312, runtime_ms=14.134499073028564)\n",
      "ExperimentResult(model='BoBn', step=15, restart=2, candidate={'x5': 0.996612292151404, 'x1': 2.203074339166593, 'x4': 1.1137975118775845, 'x3': 1.285079360603367, 'x2': 1.5708005417595983}, result=4.495882987976074, best_f=4.496112823486328, steps_to_best_f=10, peak_memory=287044608, runtime_ms=30.117675304412842)\n",
      "ExperimentResult(model='BoBn', step=16, restart=2, candidate={'x5': 0.9966122415796465, 'x1': 2.2030741021927316, 'x4': 1.1138230279000036, 'x3': 1.2850792929504837, 'x2': 1.5708005260271272}, result=4.495912551879883, best_f=4.496112823486328, steps_to_best_f=10, peak_memory=286927872, runtime_ms=21.843783378601074)\n",
      "ExperimentResult(model='BoBn', step=17, restart=2, candidate={'x5': 0.9966120815891377, 'x1': 2.203073746010368, 'x4': 1.1138229055839968, 'x3': 1.2850793234012936, 'x2': 1.5708154008920852}, result=4.4959330558776855, best_f=4.496112823486328, steps_to_best_f=10, peak_memory=287003136, runtime_ms=23.079457998275757)\n",
      "ExperimentResult(model='BoBn', step=18, restart=2, candidate={'x5': 0.996612244813586, 'x1': 2.2030733332958907, 'x4': 1.1137970949499074, 'x3': 1.285096064080444, 'x2': 1.570800555732938}, result=4.495798110961914, best_f=4.496112823486328, steps_to_best_f=10, peak_memory=288611328, runtime_ms=20.67978596687317)\n",
      "ExperimentResult(model='BoBn', step=19, restart=2, candidate={'x5': 0.9966089896967184, 'x1': 2.2030718186549034, 'x4': 1.1138352144438233, 'x3': 1.2850769425140547, 'x2': 1.5707997423895341}, result=4.4958271980285645, best_f=4.496112823486328, steps_to_best_f=10, peak_memory=287962112, runtime_ms=19.34925150871277)\n",
      "ExperimentResult(model='BoBn', step=20, restart=2, candidate={'x5': 0.9966123073716994, 'x1': 2.203072614906828, 'x4': 1.1137966504827637, 'x3': 1.2850790629743183, 'x2': 1.570800518772114}, result=4.495893955230713, best_f=4.496112823486328, steps_to_best_f=10, peak_memory=289068032, runtime_ms=23.95003390312195)\n",
      "ExperimentResult(model='BoBn', step=21, restart=2, candidate={'x5': 0.9966128080948911, 'x1': 2.20307230787423, 'x4': 1.1137967014539043, 'x3': 1.2850789544521837, 'x2': 1.5708005086781844}, result=4.495696067810059, best_f=4.496112823486328, steps_to_best_f=10, peak_memory=288387072, runtime_ms=23.14977264404297)\n",
      "ExperimentResult(model='BoBn', step=22, restart=2, candidate={'x5': 0.9966122184519517, 'x1': 2.2030719714878697, 'x4': 1.1276578161607538, 'x3': 1.2850789384776296, 'x2': 1.5708151251792568}, result=4.481740951538086, best_f=4.496112823486328, steps_to_best_f=10, peak_memory=288760320, runtime_ms=26.593612670898438)\n",
      "ExperimentResult(model='BoBn', step=23, restart=2, candidate={'x5': 0.9966126966757421, 'x1': 2.2030715317242304, 'x4': 1.1136499206492492, 'x3': 1.2850788272218199, 'x2': 1.5707996044204013}, result=4.495612144470215, best_f=4.496112823486328, steps_to_best_f=10, peak_memory=289694208, runtime_ms=30.625460147857666)\n",
      "ExperimentResult(model='BoBn', step=24, restart=2, candidate={'x5': 0.9966123297040538, 'x1': 2.2030711525025803, 'x4': 1.1136497088420882, 'x3': 1.2850787699043118, 'x2': 1.57079998994741}, result=4.495795249938965, best_f=4.496112823486328, steps_to_best_f=10, peak_memory=290038784, runtime_ms=25.0480215549469)\n",
      "ExperimentResult(model='BoBn', step=25, restart=2, candidate={'x5': 0.996612419764604, 'x1': 2.203070797456972, 'x4': 1.1136420498352422, 'x3': 1.2850787106339878, 'x2': 1.5708001746854712}, result=4.495952129364014, best_f=4.496112823486328, steps_to_best_f=10, peak_memory=291807744, runtime_ms=19.999542713165283)\n",
      "ExperimentResult(model='BoBn', step=26, restart=2, candidate={'x5': 0.9966124837650758, 'x1': 2.203070462470551, 'x4': 1.1136502544471094, 'x3': 1.2850785423179663, 'x2': 1.570800212613734}, result=4.496026039123535, best_f=4.496112823486328, steps_to_best_f=10, peak_memory=292305920, runtime_ms=27.98485517501831)\n",
      "ExperimentResult(model='BoBn', step=27, restart=2, candidate={'x5': 0.9966142640169066, 'x1': 2.203070087199232, 'x4': 1.1136503517563108, 'x3': 1.2850784126145554, 'x2': 1.5708001532555005}, result=4.495825290679932, best_f=4.496112823486328, steps_to_best_f=10, peak_memory=291841024, runtime_ms=32.863401889801025)\n",
      "ExperimentResult(model='BoBn', step=28, restart=2, candidate={'x5': 0.996614347804473, 'x1': 2.20306975193578, 'x4': 1.1136425977247266, 'x3': 1.285078356648919, 'x2': 1.5708004525007073}, result=4.495772838592529, best_f=4.496112823486328, steps_to_best_f=10, peak_memory=293611008, runtime_ms=30.64169216156006)\n",
      "ExperimentResult(model='BoBn', step=29, restart=2, candidate={'x5': 0.9966126436720965, 'x1': 2.203069551818448, 'x4': 1.113650772759429, 'x3': 1.2850782821058961, 'x2': 1.570800108803051}, result=4.495845317840576, best_f=4.496112823486328, steps_to_best_f=10, peak_memory=293520896, runtime_ms=24.607816457748413)\n",
      "ExperimentResult(model='BoBn', step=30, restart=2, candidate={'x5': 0.9966117934985723, 'x1': 2.2030690540788966, 'x4': 1.1136427603852077, 'x3': 1.2850938997224919, 'x2': 1.570800736118649}, result=4.495978355407715, best_f=4.496112823486328, steps_to_best_f=10, peak_memory=296222720, runtime_ms=18.573622941970825)\n",
      "ExperimentResult(model='BoBn', step=31, restart=2, candidate={'x5': 0.9966125392442038, 'x1': 2.2030688573143338, 'x4': 1.1136431414747705, 'x3': 1.2850780618776265, 'x2': 1.570799997137354}, result=4.4958343505859375, best_f=4.496112823486328, steps_to_best_f=10, peak_memory=294648832, runtime_ms=26.26168394088745)\n",
      "ExperimentResult(model='BoBn', step=32, restart=2, candidate={'x5': 0.9966126655156385, 'x1': 2.20306846704515, 'x4': 1.113651330047046, 'x3': 1.2850779988999161, 'x2': 1.5708004606813102}, result=4.495763301849365, best_f=4.496112823486328, steps_to_best_f=10, peak_memory=297525248, runtime_ms=27.795645236968994)\n",
      "ExperimentResult(model='BoBn', step=33, restart=2, candidate={'x5': 0.9966129258018952, 'x1': 2.2030680913885665, 'x4': 1.1136439889841967, 'x3': 1.2850944114883034, 'x2': 1.5707999173269958}, result=4.495848655700684, best_f=4.496112823486328, steps_to_best_f=10, peak_memory=298920448, runtime_ms=23.556835174560547)\n",
      "ExperimentResult(model='BoBn', step=34, restart=2, candidate={'x5': 0.9966147675780895, 'x1': 2.2030679003843425, 'x4': 1.113643746619002, 'x3': 1.2850789064045611, 'x2': 1.5707980513050874}, result=4.495858669281006, best_f=4.496112823486328, steps_to_best_f=10, peak_memory=297586176, runtime_ms=16.78788733482361)\n",
      "ExperimentResult(model='BoBn', step=35, restart=2, candidate={'x5': 0.9966142732867223, 'x1': 2.2030675699461755, 'x4': 1.1136519873191473, 'x3': 1.2850942097752052, 'x2': 1.5708093096760614}, result=4.495820045471191, best_f=4.496112823486328, steps_to_best_f=10, peak_memory=295739392, runtime_ms=48.856138706207275)\n",
      "ExperimentResult(model='BoBn', step=36, restart=2, candidate={'x5': 0.996612850161491, 'x1': 2.2030672389590147, 'x4': 1.1136521268528494, 'x3': 1.285077641257552, 'x2': 1.5708120148113347}, result=4.495949745178223, best_f=4.496112823486328, steps_to_best_f=10, peak_memory=300085760, runtime_ms=25.605693340301514)\n",
      "ExperimentResult(model='BoBn', step=37, restart=2, candidate={'x5': 0.9966146446761678, 'x1': 2.203066889478884, 'x4': 1.1136511214826499, 'x3': 1.2850939624185087, 'x2': 1.5707994233951528}, result=4.495920181274414, best_f=4.496112823486328, steps_to_best_f=10, peak_memory=298628608, runtime_ms=18.744542837142944)\n",
      "ExperimentResult(model='BoBn', step=38, restart=2, candidate={'x5': 0.9966148053165456, 'x1': 2.2030664707015943, 'x4': 1.113652416033045, 'x3': 1.2850775307498938, 'x2': 1.5707996922755547}, result=4.496128082275391, best_f=4.496128082275391, steps_to_best_f=38, peak_memory=299413504, runtime_ms=23.83230209350586)\n",
      "ExperimentResult(model='BoBn', step=39, restart=2, candidate={'x5': 0.9966149485626306, 'x1': 2.2030662177355698, 'x4': 1.113654430186567, 'x3': 1.2850774073901468, 'x2': 1.5708139628625284}, result=4.495768070220947, best_f=4.496128082275391, steps_to_best_f=38, peak_memory=298005504, runtime_ms=31.156911849975586)\n",
      "ExperimentResult(model='BoBn', step=40, restart=2, candidate={'x5': 0.996614834832806, 'x1': 2.2030663933865653, 'x4': 1.1136527504811464, 'x3': 1.285093684029323, 'x2': 1.5708002871739626}, result=4.495815753936768, best_f=4.496128082275391, steps_to_best_f=38, peak_memory=300676096, runtime_ms=19.477633476257324)\n",
      "ExperimentResult(model='BoBn', step=41, restart=2, candidate={'x5': 0.9966142172918535, 'x1': 2.2030657512219767, 'x4': 1.1136452141882172, 'x3': 1.2850772999015594, 'x2': 1.5708137879657589}, result=4.495845794677734, best_f=4.496128082275391, steps_to_best_f=38, peak_memory=301139968, runtime_ms=22.52293109893799)\n",
      "ExperimentResult(model='BoBn', step=42, restart=2, candidate={'x5': 0.9966149880374687, 'x1': 2.203064602978731, 'x4': 1.1136423972831, 'x3': 1.2850763222809376, 'x2': 1.5708117347239308}, result=4.495998382568359, best_f=4.496128082275391, steps_to_best_f=38, peak_memory=300946944, runtime_ms=21.7332820892334)\n",
      "ExperimentResult(model='BoBn', step=43, restart=2, candidate={'x5': 0.9966152152972962, 'x1': 2.203070845626254, 'x4': 1.1136534064050188, 'x3': 1.285077554792637, 'x2': 1.5708137659043593}, result=4.495718002319336, best_f=4.496128082275391, steps_to_best_f=38, peak_memory=300253184, runtime_ms=23.21555233001709)\n",
      "ExperimentResult(model='BoBn', step=44, restart=2, candidate={'x5': 0.9966142014497643, 'x1': 2.203064166938485, 'x4': 1.1136458448081124, 'x3': 1.2850772702215203, 'x2': 1.570799407531634}, result=4.495815277099609, best_f=4.496128082275391, steps_to_best_f=38, peak_memory=301061632, runtime_ms=34.67849087715149)\n",
      "ExperimentResult(model='BoBn', step=45, restart=2, candidate={'x5': 0.9966132834932274, 'x1': 2.2030643873287072, 'x4': 1.1136465945655496, 'x3': 1.2850771602254059, 'x2': 1.570799885682885}, result=4.495769500732422, best_f=4.496128082275391, steps_to_best_f=38, peak_memory=301808128, runtime_ms=20.558279514312744)\n",
      "ExperimentResult(model='BoBn', step=46, restart=2, candidate={'x5': 0.9966133264948108, 'x1': 2.2030762997784445, 'x4': 1.1136460928285652, 'x3': 1.2850770280389867, 'x2': 1.5707992971535327}, result=4.495619773864746, best_f=4.496128082275391, steps_to_best_f=38, peak_memory=303148544, runtime_ms=28.271246910095215)\n",
      "ExperimentResult(model='BoBn', step=47, restart=2, candidate={'x5': 0.9966153629713286, 'x1': 2.2030632526849017, 'x4': 1.1136542561953684, 'x3': 1.2850768858060928, 'x2': 1.5707994981105968}, result=4.496043682098389, best_f=4.496128082275391, steps_to_best_f=38, peak_memory=302807552, runtime_ms=62.389310359954834)\n",
      "ExperimentResult(model='BoBn', step=48, restart=2, candidate={'x5': 0.9966134262159343, 'x1': 2.20306301094822, 'x4': 1.113646939917699, 'x3': 1.2850929493762118, 'x2': 1.5707993715628752}, result=4.495964050292969, best_f=4.496128082275391, steps_to_best_f=38, peak_memory=302675968, runtime_ms=23.76363706588745)\n",
      "ExperimentResult(model='BoBn', step=49, restart=2, candidate={'x5': 0.9966154935756876, 'x1': 2.2030622348752873, 'x4': 1.113645602541114, 'x3': 1.2850770099108828, 'x2': 1.570796497484792}, result=4.4959716796875, best_f=4.496128082275391, steps_to_best_f=38, peak_memory=302420480, runtime_ms=19.04069709777832)\n",
      "ExperimentResult(model='BoBn', step=50, restart=2, candidate={'x5': 0.9966152573360684, 'x1': 2.2030752332924566, 'x4': 1.1136476973089569, 'x3': 1.285076606745823, 'x2': 1.5707954242954854}, result=4.4957804679870605, best_f=4.496128082275391, steps_to_best_f=38, peak_memory=304059392, runtime_ms=22.64623260498047)\n",
      "ExperimentResult(model='BoBn', step=51, restart=2, candidate={'x5': 0.9966154717932423, 'x1': 2.203061932388873, 'x4': 1.1136480039363346, 'x3': 1.2850925324433111, 'x2': 1.5708121397762116}, result=4.495837211608887, best_f=4.496128082275391, steps_to_best_f=38, peak_memory=304064000, runtime_ms=20.70427441596985)\n",
      "ExperimentResult(model='BoBn', step=52, restart=2, candidate={'x5': 0.9966155222398291, 'x1': 2.20306158716797, 'x4': 1.1136484132096869, 'x3': 1.2850925732998564, 'x2': 1.570799453440798}, result=4.495988368988037, best_f=4.496128082275391, steps_to_best_f=38, peak_memory=305816064, runtime_ms=32.445679664611816)\n",
      "ExperimentResult(model='BoBn', step=53, restart=2, candidate={'x5': 0.9966138570441011, 'x1': 2.2030612317140266, 'x4': 1.113648471674278, 'x3': 1.2850925489422307, 'x2': 1.5708132316310481}, result=4.495786190032959, best_f=4.496128082275391, steps_to_best_f=38, peak_memory=304725504, runtime_ms=30.31036376953125)\n",
      "ExperimentResult(model='BoBn', step=54, restart=2, candidate={'x5': 0.9966147592069433, 'x1': 2.2030737391916437, 'x4': 1.1136552124532968, 'x3': 1.2850763796231923, 'x2': 1.5708129694395485}, result=4.4957780838012695, best_f=4.496128082275391, steps_to_best_f=38, peak_memory=305741312, runtime_ms=36.86414837837219)\n",
      "ExperimentResult(model='BoBn', step=55, restart=2, candidate={'x5': 0.9966155680471599, 'x1': 2.203060604969123, 'x4': 1.1136555460197348, 'x3': 1.2850761691877624, 'x2': 1.5708126728290048}, result=4.495903968811035, best_f=4.496128082275391, steps_to_best_f=38, peak_memory=305050624, runtime_ms=22.35164189338684)\n",
      "ExperimentResult(model='BoBn', step=56, restart=2, candidate={'x5': 0.9966157072773981, 'x1': 2.2030731474690524, 'x4': 1.1136494787467128, 'x3': 1.2850762010240033, 'x2': 1.5708123538597831}, result=4.4959397315979, best_f=4.496128082275391, steps_to_best_f=38, peak_memory=306084864, runtime_ms=12.844598293304443)\n",
      "ExperimentResult(model='BoBn', step=57, restart=2, candidate={'x5': 0.9966158204561787, 'x1': 2.2030773862578585, 'x4': 1.113644820199235, 'x3': 1.2850761308193452, 'x2': 1.5708128474352356}, result=4.495789527893066, best_f=4.496128082275391, steps_to_best_f=38, peak_memory=306118656, runtime_ms=18.31717824935913)\n",
      "ExperimentResult(model='BoBn', step=58, restart=2, candidate={'x5': 0.996615706122083, 'x1': 2.2030597601524913, 'x4': 1.1136496052422167, 'x3': 1.2850760792417655, 'x2': 1.570798976914622}, result=4.495866298675537, best_f=4.496128082275391, steps_to_best_f=38, peak_memory=307018752, runtime_ms=34.32525849342346)\n",
      "ExperimentResult(model='BoBn', step=59, restart=2, candidate={'x5': 0.9966157444284113, 'x1': 2.203059432902171, 'x4': 1.1136560021263564, 'x3': 1.285076044937837, 'x2': 1.5707987824536713}, result=4.495909214019775, best_f=4.496128082275391, steps_to_best_f=38, peak_memory=307120128, runtime_ms=26.91553544998169)\n",
      "ExperimentResult(model='BoBn', step=60, restart=2, candidate={'x5': 0.9966167483807277, 'x1': 2.2030594246933553, 'x4': 1.113658459594992, 'x3': 1.285076038045165, 'x2': 1.5708134621027332}, result=4.495803356170654, best_f=4.496128082275391, steps_to_best_f=38, peak_memory=307361792, runtime_ms=16.521444082260132)\n",
      "ExperimentResult(model='BoBn', step=61, restart=2, candidate={'x5': 0.9966154538851132, 'x1': 2.20305879785568, 'x4': 1.113656212340076, 'x3': 1.2850759509842218, 'x2': 1.5707988022680375}, result=4.495774269104004, best_f=4.496128082275391, steps_to_best_f=38, peak_memory=309212160, runtime_ms=23.23204016685486)\n",
      "ExperimentResult(model='BoBn', step=62, restart=2, candidate={'x5': 0.9966159677621937, 'x1': 2.2030584169968344, 'x4': 1.113650633846056, 'x3': 1.2850758507648188, 'x2': 1.5707993911677494}, result=4.495889186859131, best_f=4.496128082275391, steps_to_best_f=38, peak_memory=309349376, runtime_ms=22.082764863967896)\n",
      "ExperimentResult(model='BoBn', step=63, restart=2, candidate={'x5': 0.9966137435587066, 'x1': 2.203058164746286, 'x4': 1.1136567603606367, 'x3': 1.2850757558239896, 'x2': 1.5708125325033688}, result=4.495938777923584, best_f=4.496128082275391, steps_to_best_f=38, peak_memory=310027264, runtime_ms=25.700100898742676)\n",
      "ExperimentResult(model='BoBn', step=64, restart=2, candidate={'x5': 0.9966159120885631, 'x1': 2.2030580201742964, 'x4': 1.113650785823373, 'x3': 1.285075715455753, 'x2': 1.5707987105313412}, result=4.495777606964111, best_f=4.496128082275391, steps_to_best_f=38, peak_memory=311554048, runtime_ms=31.55851674079895)\n",
      "ExperimentResult(model='BoBn', step=65, restart=2, candidate={'x5': 0.9966140941621077, 'x1': 2.203058839901198, 'x4': 1.1136506543007767, 'x3': 1.2850880366154, 'x2': 1.5708121591658097}, result=4.495731830596924, best_f=4.496128082275391, steps_to_best_f=38, peak_memory=311494144, runtime_ms=17.912693977355957)\n",
      "ExperimentResult(model='BoBn', step=66, restart=2, candidate={'x5': 0.9966140291617229, 'x1': 2.2030572754745568, 'x4': 1.113651076499482, 'x3': 1.2850756207506313, 'x2': 1.5707985638245765}, result=4.495862007141113, best_f=4.496128082275391, steps_to_best_f=38, peak_memory=310974976, runtime_ms=16.049383878707886)\n",
      "ExperimentResult(model='BoBn', step=67, restart=2, candidate={'x5': 0.9966161383215933, 'x1': 2.2030569136534814, 'x4': 1.113657723759895, 'x3': 1.2850755398194722, 'x2': 1.5708119478015472}, result=4.49584436416626, best_f=4.496128082275391, steps_to_best_f=38, peak_memory=311836160, runtime_ms=18.814419746398926)\n",
      "ExperimentResult(model='BoBn', step=68, restart=2, candidate={'x5': 0.9966141129982871, 'x1': 2.203069291726168, 'x4': 1.1136576022370999, 'x3': 1.2850755553875444, 'x2': 1.5708111647122698}, result=4.495829105377197, best_f=4.496128082275391, steps_to_best_f=38, peak_memory=311616000, runtime_ms=18.67872190475464)\n",
      "ExperimentResult(model='BoBn', step=69, restart=2, candidate={'x5': 0.9966162327346576, 'x1': 2.2030694488312417, 'x4': 1.1136516527356621, 'x3': 1.2850745132922141, 'x2': 1.5707991649278386}, result=4.495987892150879, best_f=4.496128082275391, steps_to_best_f=38, peak_memory=311923200, runtime_ms=22.732588529586792)\n",
      "ExperimentResult(model='BoBn', step=70, restart=2, candidate={'x5': 0.9966162587910586, 'x1': 2.20305608692923, 'x4': 1.113651485361627, 'x3': 1.2850752978582023, 'x2': 1.5708101780565766}, result=4.495866775512695, best_f=4.496128082275391, steps_to_best_f=38, peak_memory=315733504, runtime_ms=13.421086311340332)\n",
      "ExperimentResult(model='BoBn', step=71, restart=2, candidate={'x5': 0.9966141632831321, 'x1': 2.2030557785387748, 'x4': 1.113657940729253, 'x3': 1.2850752021586225, 'x2': 1.5708111734636026}, result=4.495881080627441, best_f=4.496128082275391, steps_to_best_f=38, peak_memory=314550272, runtime_ms=26.070319890975952)\n",
      "ExperimentResult(model='BoBn', step=72, restart=2, candidate={'x5': 0.996616379365345, 'x1': 2.2030681936912155, 'x4': 1.1136519206934345, 'x3': 1.2850910100350157, 'x2': 1.570797584541337}, result=4.495613098144531, best_f=4.496128082275391, steps_to_best_f=38, peak_memory=318053888, runtime_ms=23.917412281036377)\n",
      "ExperimentResult(model='BoBn', step=73, restart=2, candidate={'x5': 0.9966162939714999, 'x1': 2.2030679103565007, 'x4': 1.113651649193803, 'x3': 1.2850909292924568, 'x2': 1.570798319793738}, result=4.4958953857421875, best_f=4.496128082275391, steps_to_best_f=38, peak_memory=314600448, runtime_ms=27.421149015426636)\n",
      "ExperimentResult(model='BoBn', step=74, restart=2, candidate={'x5': 0.9966166118207304, 'x1': 2.2030677200954876, 'x4': 1.1136523815094033, 'x3': 1.2850908638096985, 'x2': 1.5707981409100977}, result=4.495875835418701, best_f=4.496128082275391, steps_to_best_f=38, peak_memory=317605376, runtime_ms=30.056140661239624)\n",
      "ExperimentResult(model='BoBn', step=75, restart=2, candidate={'x5': 0.9966127303276948, 'x1': 2.203055895687006, 'x4': 1.1136533550036003, 'x3': 1.285074228214205, 'x2': 1.5708123974040962}, result=4.495790004730225, best_f=4.496128082275391, steps_to_best_f=38, peak_memory=315052544, runtime_ms=17.149791479110718)\n",
      "ExperimentResult(model='BoBn', step=76, restart=2, candidate={'x5': 0.9966164836573639, 'x1': 2.2030543586986138, 'x4': 1.1136527008945527, 'x3': 1.2850749864573368, 'x2': 1.5708121016926737}, result=4.496024131774902, best_f=4.496128082275391, steps_to_best_f=38, peak_memory=316532736, runtime_ms=31.646644830703735)\n",
      "ExperimentResult(model='BoBn', step=77, restart=2, candidate={'x5': 0.9966145081874604, 'x1': 2.203054050423038, 'x4': 1.1136589734633948, 'x3': 1.285074886313954, 'x2': 1.5707981185944582}, result=4.495875835418701, best_f=4.496128082275391, steps_to_best_f=38, peak_memory=316382208, runtime_ms=28.691181182861328)\n",
      "ExperimentResult(model='BoBn', step=78, restart=2, candidate={'x5': 0.9966156394182161, 'x1': 2.2030503989316457, 'x4': 1.1136605190915865, 'x3': 1.2850741622029658, 'x2': 1.5708122184000144}, result=4.495899200439453, best_f=4.496128082275391, steps_to_best_f=38, peak_memory=318748672, runtime_ms=20.81415867805481)\n",
      "ExperimentResult(model='BoBn', step=79, restart=2, candidate={'x5': 0.9966165554867112, 'x1': 2.203053320530339, 'x4': 1.1136525299308901, 'x3': 1.2850746937922368, 'x2': 1.570798053636027}, result=4.495874881744385, best_f=4.496128082275391, steps_to_best_f=38, peak_memory=317712896, runtime_ms=28.660521507263184)\n",
      "ExperimentResult(model='BoBn', step=80, restart=2, candidate={'x5': 0.9966164430293938, 'x1': 2.203051823230674, 'x4': 1.1136523685078705, 'x3': 1.2850744484453456, 'x2': 1.570798816557803}, result=4.495945453643799, best_f=4.496128082275391, steps_to_best_f=38, peak_memory=318170624, runtime_ms=18.134767293930054)\n",
      "ExperimentResult(model='BoBn', step=81, restart=2, candidate={'x5': 0.9966154979547134, 'x1': 2.2030665325768872, 'x4': 1.1136584576118167, 'x3': 1.2850745420744734, 'x2': 1.5707984914492479}, result=4.4959397315979, best_f=4.496128082275391, steps_to_best_f=38, peak_memory=318742528, runtime_ms=23.406886339187622)\n",
      "ExperimentResult(model='BoBn', step=82, restart=2, candidate={'x5': 0.9966165614474631, 'x1': 2.203065262922461, 'x4': 1.1136528913575736, 'x3': 1.2850744287495264, 'x2': 1.5708090969988195}, result=4.4960432052612305, best_f=4.496128082275391, steps_to_best_f=38, peak_memory=318179328, runtime_ms=42.35593032836914)\n",
      "ExperimentResult(model='BoBn', step=83, restart=2, candidate={'x5': 2.2711648547812, 'x1': 2.203052211014432, 'x4': 1.113652755272815, 'x3': 1.2850743422330417, 'x2': 1.570797723370669}, result=3.867123603820801, best_f=4.496128082275391, steps_to_best_f=38, peak_memory=321021952, runtime_ms=26.184959888458252)\n",
      "ExperimentResult(model='BoBn', step=84, restart=2, candidate={'x5': 0.9966027918134911, 'x1': 2.203051865371189, 'x4': 1.1136600316387808, 'x3': 1.2850743640209359, 'x2': 1.5708088589062563}, result=4.495823383331299, best_f=4.496128082275391, steps_to_best_f=38, peak_memory=321488384, runtime_ms=29.25934100151062)\n",
      "ExperimentResult(model='BoBn', step=85, restart=2, candidate={'x5': 0.9966072372422342, 'x1': 2.2030516016268704, 'x4': 1.1136530867279142, 'x3': 1.2850741976558244, 'x2': 1.5708087912601127}, result=4.495871067047119, best_f=4.496128082275391, steps_to_best_f=38, peak_memory=321984512, runtime_ms=22.732842683792114)\n",
      "ExperimentResult(model='BoBn', step=86, restart=2, candidate={'x5': 0.9966165672411478, 'x1': 2.2030633129328843, 'x4': 1.1136541529563093, 'x3': 1.2850744217166394, 'x2': 1.5708115856612457}, result=4.4958343505859375, best_f=4.496128082275391, steps_to_best_f=38, peak_memory=320612352, runtime_ms=14.359033823013306)\n",
      "ExperimentResult(model='BoBn', step=87, restart=2, candidate={'x5': 0.9966012363602893, 'x1': 2.2030511190899946, 'x4': 1.1136540126721826, 'x3': 1.285074033809201, 'x2': 1.570797949184536}, result=4.495858192443848, best_f=4.496128082275391, steps_to_best_f=38, peak_memory=321108992, runtime_ms=31.24870753288269)\n",
      "ExperimentResult(model='BoBn', step=88, restart=2, candidate={'x5': 0.996601312588105, 'x1': 2.2030513682677415, 'x4': 1.1136540586764356, 'x3': 1.2850891195964764, 'x2': 1.5708116399751129}, result=4.495962142944336, best_f=4.496128082275391, steps_to_best_f=38, peak_memory=322410496, runtime_ms=17.822667360305786)\n",
      "ExperimentResult(model='BoBn', step=89, restart=2, candidate={'x5': 0.9966172557449076, 'x1': 2.203050283757663, 'x4': 1.1136544978414962, 'x3': 1.285089329510028, 'x2': 1.5708092777175158}, result=4.496018409729004, best_f=4.496128082275391, steps_to_best_f=38, peak_memory=323238912, runtime_ms=20.38362407684326)\n",
      "ExperimentResult(model='BoBn', step=90, restart=2, candidate={'x5': 0.9966105438464226, 'x1': 2.203050191914274, 'x4': 1.1136612217176698, 'x3': 1.2850902625385467, 'x2': 1.5707976895238174}, result=4.495739459991455, best_f=4.496128082275391, steps_to_best_f=38, peak_memory=323073536, runtime_ms=18.657881021499634)\n",
      "ExperimentResult(model='BoBn', step=91, restart=2, candidate={'x5': 0.9966016374550298, 'x1': 2.2030499113098174, 'x4': 1.1136548977209542, 'x3': 1.2850737569501287, 'x2': 1.570808376685245}, result=4.496059894561768, best_f=4.496128082275391, steps_to_best_f=38, peak_memory=322705920, runtime_ms=32.84433054924011)\n",
      "ExperimentResult(model='BoBn', step=92, restart=2, candidate={'x5': 0.9966138386662091, 'x1': 2.2030497106115736, 'x4': 1.113661427781422, 'x3': 1.285073629976621, 'x2': 1.570797396988807}, result=4.495932579040527, best_f=4.496128082275391, steps_to_best_f=38, peak_memory=324225536, runtime_ms=18.447057962417603)\n",
      "ExperimentResult(model='BoBn', step=93, restart=2, candidate={'x5': 0.9966142657523702, 'x1': 2.203049344921846, 'x4': 1.1136550109531769, 'x3': 1.2850734390320102, 'x2': 1.5707975314986553}, result=4.495911121368408, best_f=4.496128082275391, steps_to_best_f=38, peak_memory=323511296, runtime_ms=26.217663288116455)\n",
      "ExperimentResult(model='BoBn', step=94, restart=2, candidate={'x5': 0.9966137539717296, 'x1': 2.2030498445131736, 'x4': 1.1136557109035046, 'x3': 1.285070811898416, 'x2': 1.5708051706429809}, result=4.495991230010986, best_f=4.496128082275391, steps_to_best_f=38, peak_memory=325764096, runtime_ms=20.25757074356079)\n",
      "ExperimentResult(model='BoBn', step=95, restart=2, candidate={'x5': 0.996613578628136, 'x1': 2.20304876011196, 'x4': 1.1136552762233802, 'x3': 1.285073385632299, 'x2': 1.570797191412952}, result=4.495940685272217, best_f=4.496128082275391, steps_to_best_f=38, peak_memory=324532224, runtime_ms=16.0358943939209)\n",
      "ExperimentResult(model='BoBn', step=96, restart=2, candidate={'x5': 0.9966057885925403, 'x1': 2.203063471836308, 'x4': 1.1136554256717914, 'x3': 1.2850733036134725, 'x2': 1.5707974283564712}, result=4.495851993560791, best_f=4.496128082275391, steps_to_best_f=38, peak_memory=324318208, runtime_ms=33.8855721950531)\n",
      "ExperimentResult(model='BoBn', step=97, restart=2, candidate={'x5': 0.996607953611709, 'x1': 2.203048074518071, 'x4': 1.1136624023762574, 'x3': 1.285073249649495, 'x2': 1.570807411162593}, result=4.496050834655762, best_f=4.496128082275391, steps_to_best_f=38, peak_memory=324995072, runtime_ms=28.325290203094482)\n",
      "ExperimentResult(model='BoBn', step=98, restart=2, candidate={'x5': 0.9966167188270822, 'x1': 2.203062933529428, 'x4': 1.1136546126585285, 'x3': 1.2850732149605635, 'x2': 1.5708075013098748}, result=4.495791435241699, best_f=4.496128082275391, steps_to_best_f=38, peak_memory=327346176, runtime_ms=29.341147661209106)\n",
      "ExperimentResult(model='BoBn', step=99, restart=2, candidate={'x5': 0.9966175194848469, 'x1': 2.2030476027257904, 'x4': 1.1136541662500916, 'x3': 1.2850731433180627, 'x2': 1.5708091260969481}, result=4.495983123779297, best_f=4.496128082275391, steps_to_best_f=38, peak_memory=328129024, runtime_ms=22.38529324531555)\n",
      "ExperimentResult(model='BoBn', step=100, restart=2, candidate={'x5': 0.996601716217497, 'x1': 2.2030600282940664, 'x4': 1.1136540799833967, 'x3': 1.2850730324294688, 'x2': 1.5708061712617676}, result=4.496082782745361, best_f=4.496128082275391, steps_to_best_f=38, peak_memory=328181760, runtime_ms=30.586135864257812)\n",
      "ExperimentResult(model='BoBn', step=101, restart=2, candidate={'x5': 0.9966177184436601, 'x1': 2.2030595833869153, 'x4': 1.1136552502466133, 'x3': 1.2850728233071482, 'x2': 1.5708107798593727}, result=4.495968818664551, best_f=4.496128082275391, steps_to_best_f=38, peak_memory=327795712, runtime_ms=24.94350576400757)\n",
      "ExperimentResult(model='BoBn', step=102, restart=2, candidate={'x5': 0.9966159616556838, 'x1': 2.2030465516540256, 'x4': 1.113658589335871, 'x3': 1.285072292514157, 'x2': 1.570797522467517}, result=4.495954513549805, best_f=4.496128082275391, steps_to_best_f=38, peak_memory=329279488, runtime_ms=20.155426025390625)\n",
      "ExperimentResult(model='BoBn', step=103, restart=2, candidate={'x5': 0.996602064218222, 'x1': 2.203046126330244, 'x4': 1.113656329019175, 'x3': 1.2850723840532305, 'x2': 1.5707962076082864}, result=4.495959758758545, best_f=4.496128082275391, steps_to_best_f=38, peak_memory=328880128, runtime_ms=16.338968992233276)\n",
      "ExperimentResult(model='BoBn', step=104, restart=2, candidate={'x5': 0.9966018096873296, 'x1': 2.2030462144001937, 'x4': 1.1136553935529128, 'x3': 1.2850727206668662, 'x2': 1.5707970322655134}, result=4.495786666870117, best_f=4.496128082275391, steps_to_best_f=38, peak_memory=329844736, runtime_ms=22.63404870033264)\n",
      "ExperimentResult(model='BoBn', step=105, restart=2, candidate={'x5': 0.9966018154923206, 'x1': 2.203058495617035, 'x4': 1.1136558513290713, 'x3': 1.2850727473724246, 'x2': 1.5708056510596604}, result=4.49593448638916, best_f=4.496128082275391, steps_to_best_f=38, peak_memory=330087424, runtime_ms=24.135459661483765)\n",
      "ExperimentResult(model='BoBn', step=106, restart=2, candidate={'x5': 0.9966079269057976, 'x1': 2.203058444412523, 'x4': 1.1136632434292661, 'x3': 1.2850725654810673, 'x2': 1.5708085485906285}, result=4.495874881744385, best_f=4.496128082275391, steps_to_best_f=38, peak_memory=330688512, runtime_ms=37.83769750595093)\n",
      "ExperimentResult(model='BoBn', step=107, restart=2, candidate={'x5': 0.9966018500388841, 'x1': 2.203058239367627, 'x4': 1.1136637745333462, 'x3': 1.285072553845284, 'x2': 1.5708105248130573}, result=4.495882034301758, best_f=4.496128082275391, steps_to_best_f=38, peak_memory=330412544, runtime_ms=45.12463736534119)\n",
      "ExperimentResult(model='BoBn', step=108, restart=2, candidate={'x5': 0.9966178643108107, 'x1': 2.20304517962581, 'x4': 1.1136640437595815, 'x3': 1.2850724808949794, 'x2': 1.5707969240459478}, result=4.4957075119018555, best_f=4.496128082275391, steps_to_best_f=38, peak_memory=331534848, runtime_ms=27.93638801574707)\n",
      "ExperimentResult(model='BoBn', step=109, restart=2, candidate={'x5': 0.9966173934117333, 'x1': 2.2030577300996708, 'x4': 1.1136636597599257, 'x3': 1.2850724189314506, 'x2': 1.5707970864862657}, result=4.4958271980285645, best_f=4.496128082275391, steps_to_best_f=38, peak_memory=331248640, runtime_ms=25.77745795249939)\n",
      "ExperimentResult(model='BoBn', step=110, restart=2, candidate={'x5': 0.996602293498703, 'x1': 2.20305747506497, 'x4': 1.113663601669476, 'x3': 1.2850722561254846, 'x2': 1.5708083966711455}, result=4.4958624839782715, best_f=4.496128082275391, steps_to_best_f=38, peak_memory=333478912, runtime_ms=24.51072096824646)\n",
      "ExperimentResult(model='BoBn', step=111, restart=2, candidate={'x5': 0.9966022619054601, 'x1': 2.2030445813321786, 'x4': 1.1136564377579294, 'x3': 1.2850722521434406, 'x2': 1.5707963551220556}, result=4.496002674102783, best_f=4.496128082275391, steps_to_best_f=38, peak_memory=332243968, runtime_ms=25.45126986503601)\n",
      "ExperimentResult(model='BoBn', step=112, restart=2, candidate={'x5': 0.9965996276014579, 'x1': 2.203056923498232, 'x4': 1.1136588797437976, 'x3': 1.2850722655517648, 'x2': 1.570810373292036}, result=4.496043682098389, best_f=4.496128082275391, steps_to_best_f=38, peak_memory=334057472, runtime_ms=30.613959550857544)\n",
      "ExperimentResult(model='BoBn', step=113, restart=2, candidate={'x5': 0.996617463317891, 'x1': 2.203056762888574, 'x4': 1.1136567174579117, 'x3': 1.2850721505234661, 'x2': 1.5707969502347305}, result=4.495999336242676, best_f=4.496128082275391, steps_to_best_f=38, peak_memory=334064640, runtime_ms=20.363624811172485)\n",
      "ExperimentResult(model='BoBn', step=114, restart=2, candidate={'x5': 0.9966180201153692, 'x1': 2.2030564389077805, 'x4': 1.1136568007259258, 'x3': 1.2850871407730715, 'x2': 1.5708076913095341}, result=4.495962619781494, best_f=4.496128082275391, steps_to_best_f=38, peak_memory=336055808, runtime_ms=25.913413524627686)\n",
      "ExperimentResult(model='BoBn', step=115, restart=2, candidate={'x5': 0.9966179974690674, 'x1': 2.203056360963049, 'x4': 1.1136579738874095, 'x3': 1.285072053719376, 'x2': 1.5708097258758882}, result=4.49601411819458, best_f=4.496128082275391, steps_to_best_f=38, peak_memory=335667712, runtime_ms=28.534499883651733)\n",
      "ExperimentResult(model='BoBn', step=116, restart=2, candidate={'x5': 0.9966024966587476, 'x1': 2.203043360036136, 'x4': 1.1136569857859673, 'x3': 1.2850719704113382, 'x2': 1.5707966822545292}, result=4.495884418487549, best_f=4.496128082275391, steps_to_best_f=38, peak_memory=335784960, runtime_ms=26.58902597427368)\n",
      "ExperimentResult(model='BoBn', step=117, restart=2, candidate={'x5': 0.9966024660116207, 'x1': 2.2030558679591805, 'x4': 1.1136649834032604, 'x3': 1.2850718312212366, 'x2': 1.5708087766527656}, result=4.495907306671143, best_f=4.496128082275391, steps_to_best_f=38, peak_memory=335963648, runtime_ms=24.913906574249268)\n",
      "ExperimentResult(model='BoBn', step=118, restart=2, candidate={'x5': 0.9966166012830434, 'x1': 2.2030555302094235, 'x4': 1.1136650768505931, 'x3': 1.2850719144549092, 'x2': 1.5707963289039784}, result=4.495685577392578, best_f=4.496128082275391, steps_to_best_f=38, peak_memory=339538944, runtime_ms=25.154811143875122)\n",
      "ExperimentResult(model='BoBn', step=119, restart=2, candidate={'x5': 0.9966175114579132, 'x1': 2.2030550595414877, 'x4': 1.1136576228070534, 'x3': 1.2850867789065712, 'x2': 1.570796107103387}, result=4.495772838592529, best_f=4.496128082275391, steps_to_best_f=38, peak_memory=338231808, runtime_ms=28.699746131896973)\n",
      "ExperimentResult(model='BoBn', step=120, restart=2, candidate={'x5': 0.996602452152619, 'x1': 2.203055055368714, 'x4': 1.1136653923404554, 'x3': 1.2850717616185359, 'x2': 1.5707965886862754}, result=4.4957709312438965, best_f=4.496128082275391, steps_to_best_f=38, peak_memory=339782656, runtime_ms=26.584609270095825)\n",
      "ExperimentResult(model='BoBn', step=121, restart=2, candidate={'x5': 0.9966033217787086, 'x1': 2.203054745507976, 'x4': 1.1136654635118262, 'x3': 1.2850716717414385, 'x2': 1.5707967008311008}, result=4.495972156524658, best_f=4.496128082275391, steps_to_best_f=38, peak_memory=339062272, runtime_ms=32.80111289024353)\n",
      "ExperimentResult(model='BoBn', step=122, restart=2, candidate={'x5': 0.996602459885401, 'x1': 2.2030558244721274, 'x4': 1.1136570298672934, 'x3': 1.2850716395248438, 'x2': 1.570809337653448}, result=4.495786666870117, best_f=4.496128082275391, steps_to_best_f=38, peak_memory=339377152, runtime_ms=21.641422510147095)\n",
      "ExperimentResult(model='BoBn', step=123, restart=2, candidate={'x5': 0.9966183728171052, 'x1': 2.203041666999, 'x4': 1.1136591300146437, 'x3': 1.2850716059972598, 'x2': 1.570796547354556}, result=4.495879173278809, best_f=4.496128082275391, steps_to_best_f=38, peak_memory=338903040, runtime_ms=24.63037371635437)\n",
      "ExperimentResult(model='BoBn', step=124, restart=2, candidate={'x5': 0.996602847360323, 'x1': 2.203041397902902, 'x4': 1.1136591729405811, 'x3': 1.2850715823703138, 'x2': 1.5707963722134104}, result=4.495965957641602, best_f=4.496128082275391, steps_to_best_f=38, peak_memory=339398656, runtime_ms=21.587274312973022)\n",
      "ExperimentResult(model='BoBn', step=125, restart=2, candidate={'x5': 0.996602664287358, 'x1': 2.2030536822912223, 'x4': 1.1136595271371355, 'x3': 1.285071511456676, 'x2': 1.5707965575501726}, result=4.495893478393555, best_f=4.496128082275391, steps_to_best_f=38, peak_memory=340902912, runtime_ms=25.54628300666809)\n",
      "ExperimentResult(model='BoBn', step=126, restart=2, candidate={'x5': 0.9966184549291471, 'x1': 2.203053371154099, 'x4': 1.1136595204729622, 'x3': 1.2850714477593352, 'x2': 1.5707962713329604}, result=4.495930194854736, best_f=4.496128082275391, steps_to_best_f=38, peak_memory=341430272, runtime_ms=28.511693477630615)\n",
      "ExperimentResult(model='BoBn', step=127, restart=2, candidate={'x5': 0.9966099227485072, 'x1': 2.2030527933151194, 'x4': 1.113666115727148, 'x3': 1.2850713128371496, 'x2': 1.5707963228007151}, result=4.495802402496338, best_f=4.496128082275391, steps_to_best_f=38, peak_memory=341103616, runtime_ms=24.21410846710205)\n",
      "ExperimentResult(model='BoBn', step=128, restart=2, candidate={'x5': 0.9966033089782188, 'x1': 2.203040315662257, 'x4': 1.1136598749472968, 'x3': 1.2850713555199804, 'x2': 1.5707962664983628}, result=4.495885372161865, best_f=4.496128082275391, steps_to_best_f=38, peak_memory=342005248, runtime_ms=22.83980917930603)\n",
      "ExperimentResult(model='BoBn', step=129, restart=2, candidate={'x5': 0.9966032656034202, 'x1': 2.2030402136009712, 'x4': 1.1136598592359257, 'x3': 1.2850712985535662, 'x2': 1.570796297537852}, result=4.495851039886475, best_f=4.496128082275391, steps_to_best_f=38, peak_memory=341770752, runtime_ms=26.020243406295776)\n",
      "ExperimentResult(model='BoBn', step=130, restart=2, candidate={'x5': 0.9966029978915965, 'x1': 2.203039957000964, 'x4': 1.1136600357289805, 'x3': 1.285071236898032, 'x2': 1.570805611822399}, result=4.495826244354248, best_f=4.496128082275391, steps_to_best_f=38, peak_memory=342268928, runtime_ms=23.120592832565308)\n",
      "ExperimentResult(model='BoBn', step=131, restart=2, candidate={'x5': 0.9966043860452825, 'x1': 2.203052177874221, 'x4': 1.1136602276148155, 'x3': 1.285071146920962, 'x2': 1.5707961727995203}, result=4.495693683624268, best_f=4.496128082275391, steps_to_best_f=38, peak_memory=342167552, runtime_ms=26.002556085586548)\n",
      "ExperimentResult(model='BoBn', step=132, restart=2, candidate={'x5': 0.9966160818783737, 'x1': 2.2030393491736397, 'x4': 1.1136603447346458, 'x3': 1.2850711298326076, 'x2': 1.5708048925775793}, result=4.495819568634033, best_f=4.496128082275391, steps_to_best_f=38, peak_memory=343756800, runtime_ms=33.058300495147705)\n",
      "ExperimentResult(model='BoBn', step=133, restart=2, candidate={'x5': 0.9966088313287573, 'x1': 2.2030516838809433, 'x4': 1.1136604903152847, 'x3': 1.2850858583858733, 'x2': 1.5707959911155105}, result=4.495911598205566, best_f=4.496128082275391, steps_to_best_f=38, peak_memory=344855040, runtime_ms=31.68277144432068)\n",
      "ExperimentResult(model='BoBn', step=134, restart=2, candidate={'x5': 0.9966098076928174, 'x1': 2.2030511751768147, 'x4': 1.1136670568340434, 'x3': 1.285070967612436, 'x2': 1.5708092104764648}, result=4.4956889152526855, best_f=4.496128082275391, steps_to_best_f=38, peak_memory=347261440, runtime_ms=23.649567365646362)\n",
      "ExperimentResult(model='BoBn', step=135, restart=2, candidate={'x5': 0.9966090673626892, 'x1': 2.203050454610246, 'x4': 1.1136607737229172, 'x3': 1.2850710655691215, 'x2': 1.5708095448776427}, result=4.495882987976074, best_f=4.496128082275391, steps_to_best_f=38, peak_memory=345593344, runtime_ms=20.073888540267944)\n",
      "ExperimentResult(model='BoBn', step=136, restart=2, candidate={'x5': 0.9966169001750571, 'x1': 2.203050860784282, 'x4': 1.1136608720933152, 'x3': 1.2850707881750776, 'x2': 1.5707960622160158}, result=4.495842456817627, best_f=4.496128082275391, steps_to_best_f=38, peak_memory=345931776, runtime_ms=18.712230443954468)\n",
      "ExperimentResult(model='BoBn', step=137, restart=2, candidate={'x5': 0.9966032882857984, 'x1': 2.203037994069549, 'x4': 1.1136610551375867, 'x3': 1.285070701578102, 'x2': 1.5707958358035383}, result=4.495991230010986, best_f=4.496128082275391, steps_to_best_f=38, peak_memory=346233856, runtime_ms=29.702937841415405)\n",
      "ExperimentResult(model='BoBn', step=138, restart=2, candidate={'x5': 0.9966186144025645, 'x1': 2.2030377365334544, 'x4': 1.1136611134837247, 'x3': 1.2850706225173445, 'x2': 1.5707957973251745}, result=4.495957374572754, best_f=4.496128082275391, steps_to_best_f=38, peak_memory=346626048, runtime_ms=33.219568967819214)\n",
      "ExperimentResult(model='BoBn', step=139, restart=2, candidate={'x5': 0.9966034441566144, 'x1': 2.2030375467843935, 'x4': 1.113667529221357, 'x3': 1.2850705869834649, 'x2': 1.5708054523155561}, result=4.496109962463379, best_f=4.496128082275391, steps_to_best_f=38, peak_memory=347814912, runtime_ms=31.605409145355225)\n",
      "ExperimentResult(model='BoBn', step=140, restart=2, candidate={'x5': 0.996619063791971, 'x1': 2.2030371566562326, 'x4': 1.1136614741396504, 'x3': 1.2850704775522792, 'x2': 1.5708062289310902}, result=4.4959716796875, best_f=4.496128082275391, steps_to_best_f=38, peak_memory=348244992, runtime_ms=27.55922532081604)\n",
      "ExperimentResult(model='BoBn', step=141, restart=2, candidate={'x5': 0.9966034533909338, 'x1': 2.203036535055015, 'x4': 1.1136616191368451, 'x3': 1.285070341894882, 'x2': 1.5707958767289663}, result=4.495931148529053, best_f=4.496128082275391, steps_to_best_f=38, peak_memory=348824064, runtime_ms=18.883848428726196)\n",
      "ExperimentResult(model='BoBn', step=142, restart=2, candidate={'x5': 0.9966034343053845, 'x1': 2.203036593905927, 'x4': 1.1136682554058845, 'x3': 1.285070340818378, 'x2': 1.5707955684363413}, result=4.495956897735596, best_f=4.496128082275391, steps_to_best_f=38, peak_memory=348974080, runtime_ms=34.581254959106445)\n",
      "ExperimentResult(model='BoBn', step=143, restart=2, candidate={'x5': 0.9966191413900847, 'x1': 2.203036327943214, 'x4': 1.1136617673967868, 'x3': 1.2850702047664506, 'x2': 1.5708058472212165}, result=4.49591064453125, best_f=4.496128082275391, steps_to_best_f=38, peak_memory=351365120, runtime_ms=40.62633514404297)\n",
      "ExperimentResult(model='BoBn', step=144, restart=2, candidate={'x5': 0.9966191312417032, 'x1': 2.20303605829114, 'x4': 1.1136617394782686, 'x3': 1.2850847476749887, 'x2': 1.5707958352475948}, result=4.495923042297363, best_f=4.496128082275391, steps_to_best_f=38, peak_memory=350361088, runtime_ms=31.908302545547485)\n",
      "ExperimentResult(model='BoBn', step=145, restart=2, candidate={'x5': 0.9966038602475107, 'x1': 2.20303578800642, 'x4': 1.1136685591673199, 'x3': 1.2850701004017955, 'x2': 1.5707956304523834}, result=4.495879173278809, best_f=4.496128082275391, steps_to_best_f=38, peak_memory=350314496, runtime_ms=30.340330839157104)\n",
      "ExperimentResult(model='BoBn', step=146, restart=2, candidate={'x5': 0.996619130921403, 'x1': 2.20303545362255, 'x4': 1.1136620832084747, 'x3': 1.285069993472638, 'x2': 1.5708059763450204}, result=4.495840072631836, best_f=4.496128082275391, steps_to_best_f=38, peak_memory=352237056, runtime_ms=30.75711154937744)\n",
      "ExperimentResult(model='BoBn', step=147, restart=2, candidate={'x5': 0.996603625981441, 'x1': 2.2030352289207693, 'x4': 1.1136688721492651, 'x3': 1.2850699933271417, 'x2': 1.5708059862708952}, result=4.49606466293335, best_f=4.496128082275391, steps_to_best_f=38, peak_memory=353184768, runtime_ms=33.80754780769348)\n",
      "ExperimentResult(model='BoBn', step=148, restart=2, candidate={'x5': 0.9966034851996829, 'x1': 2.2030350173890065, 'x4': 1.1136633682222201, 'x3': 1.2850698611716722, 'x2': 1.570795582941799}, result=4.495845317840576, best_f=4.496128082275391, steps_to_best_f=38, peak_memory=350999552, runtime_ms=30.24665665626526)\n",
      "ExperimentResult(model='BoBn', step=149, restart=2, candidate={'x5': 0.996619198426403, 'x1': 2.2030348203440577, 'x4': 1.113662525519364, 'x3': 1.2850697842918144, 'x2': 1.5707957219402537}, result=4.4959330558776855, best_f=4.496128082275391, steps_to_best_f=38, peak_memory=353746432, runtime_ms=18.072554111480713)\n"
     ]
    }
   ],
   "source": [
    "import torch\n",
    "import time\n",
    "\n",
    "from notebooks.bobn_ch import bobn\n",
    "bobn_opt = bobn.BoBn(dag,\n",
    "                 params=space,\n",
    "                 objectives={'y'})\n",
    "\n",
    "bobn_results = []\n",
    "# BO loop\n",
    "for restart_id in range(num_restarts):\n",
    "    print(f\"{restart_id=}/{num_restarts}\")\n",
    "    observations = {}\n",
    "    observations.update(initial_data)\n",
    "    best_f = float(initial_train_y.max())\n",
    "    steps_to_best_f = 0\n",
    "    for optimization_round in range(num_optimization_rounds):\n",
    "        bench_util.clear_memory()\n",
    "        start_memory = torch.cuda.max_memory_allocated(\"cuda\")\n",
    "        start_time = time.time()\n",
    "\n",
    "        next_candidate = bobn_opt.opt(observations)\n",
    "\n",
    "        elapsed_time = time.time() - start_time\n",
    "        total_memory_usage = torch.cuda.max_memory_allocated(\"cuda\") - start_memory\n",
    "\n",
    "        for k, v in next_candidate.items():\n",
    "            observations[k].append(v)\n",
    "        next_candidate_tensor = []\n",
    "        for p in space:\n",
    "            next_candidate_tensor.append(next_candidate[p])\n",
    "        next_candidate_tensor = torch.tensor(next_candidate_tensor)\n",
    "        y = float(problem(next_candidate_tensor))\n",
    "        if y > best_f:\n",
    "            best_f = y\n",
    "            steps_to_best_f = optimization_round\n",
    "        observations['y'].append(float(y))\n",
    "        structure_eval = eval_structure(next_candidate_tensor)\n",
    "        for idx, i in enumerate(space):\n",
    "            observations[f\"mid({i})\"].append(float(structure_eval[idx]))\n",
    "\n",
    "        exp_result = bench_util.ExperimentResult(model=\"BoBn\", step=optimization_round, restart=restart_id,\n",
    "                                             candidate=next_candidate, result=float(y), best_f=best_f,\n",
    "                                             steps_to_best_f=steps_to_best_f,\n",
    "                                             peak_memory=total_memory_usage, runtime_ms=elapsed_time)\n",
    "        bobn_results.append(exp_result)\n",
    "        print(exp_result)\n",
    "\n"
   ],
   "metadata": {
    "collapsed": false,
    "ExecuteTime": {
     "end_time": "2023-12-30T13:54:57.083149Z",
     "start_time": "2023-12-30T13:54:55.390933Z"
    }
   },
   "id": "a86277c56292bd90",
   "execution_count": 7
  },
  {
   "cell_type": "code",
   "execution_count": 5,
   "outputs": [
    {
     "name": "stdout",
     "output_type": "stream",
     "text": [
      "group={'x5', 'mid(x5)'}\n",
      "group={'mid(x1)', 'x1'}\n",
      "group={'mid(x4)', 'x4'}\n",
      "group={'x3', 'mid(x3)'}\n",
      "group={'x2', 'mid(x2)'}\n",
      "Built independent subgraph: {'x5', 'y', 'mid(x5)'}\n",
      "Built independent subgraph: {'x1', 'mid(x1)', 'y'}\n",
      "Built independent subgraph: {'mid(x4)', 'y', 'x4'}\n",
      "Built independent subgraph: {'x3', 'mid(x3)', 'y'}\n",
      "Built independent subgraph: {'x2', 'y', 'mid(x2)'}\n",
      "restart_id=0/3\n",
      "ExperimentResult(model='Conservative BoBn', step=0, restart=0, candidate={'x5': 2.130097073586063, 'x1': 2.2040625224190054, 'x4': 2.2957796699487125, 'x3': 1.464208441053007, 'x2': 1.7456519402055537}, result=1.1504356861114502, best_f=1.188902735710144, steps_to_best_f=0, peak_memory=34321920, runtime_ms=7.2810211181640625)\n",
      "ExperimentResult(model='Conservative BoBn', step=1, restart=0, candidate={'x5': 2.104105881450225, 'x1': 2.201012920159125, 'x4': 1.0479401985305916, 'x3': 1.4799708890931538, 'x2': 1.666527281852298}, result=2.17467999458313, best_f=2.17467999458313, steps_to_best_f=1, peak_memory=34368512, runtime_ms=3.7556190490722656)\n",
      "ExperimentResult(model='Conservative BoBn', step=2, restart=0, candidate={'x5': 1.0520107480377376, 'x1': 2.2033085056060684, 'x4': 0.9912830239640049, 'x3': 1.4912494625169697, 'x2': 1.6355049641623367}, result=2.577071189880371, best_f=2.577071189880371, steps_to_best_f=2, peak_memory=34426880, runtime_ms=3.438145399093628)\n",
      "ExperimentResult(model='Conservative BoBn', step=3, restart=0, candidate={'x5': 0.9946464067215643, 'x1': 2.2032522978880773, 'x4': 0.9880516788802027, 'x3': 1.5004026075893098, 'x2': 1.5711597796539962}, result=2.9475958347320557, best_f=2.9475958347320557, steps_to_best_f=3, peak_memory=34477568, runtime_ms=5.091078519821167)\n",
      "ExperimentResult(model='Conservative BoBn', step=4, restart=0, candidate={'x5': 0.993850889722679, 'x1': 2.203217378773891, 'x4': 0.9969159032417528, 'x3': 1.5078673619610692, 'x2': 1.564004821663192}, result=2.98451828956604, best_f=2.98451828956604, steps_to_best_f=4, peak_memory=34535936, runtime_ms=7.133853912353516)\n",
      "ExperimentResult(model='Conservative BoBn', step=5, restart=0, candidate={'x5': 0.9954487471416416, 'x1': 2.2031965194969017, 'x4': 1.0147528212633565, 'x3': 1.5136571646087282, 'x2': 1.5675938178780369}, result=3.0857696533203125, best_f=3.0857696533203125, steps_to_best_f=5, peak_memory=34585088, runtime_ms=3.377243995666504)\n",
      "ExperimentResult(model='Conservative BoBn', step=6, restart=0, candidate={'x5': 0.9957128269022083, 'x1': 2.203185945140618, 'x4': 1.0964351313562373, 'x3': 1.5174348706304532, 'x2': 1.5673941784737462}, result=3.529416561126709, best_f=3.529416561126709, steps_to_best_f=6, peak_memory=34634240, runtime_ms=6.97313928604126)\n",
      "ExperimentResult(model='Conservative BoBn', step=7, restart=0, candidate={'x5': 0.9958440602494402, 'x1': 2.2031826019637553, 'x4': 1.1204147820231767, 'x3': 1.5186553705475296, 'x2': 1.5750983047953688}, result=3.5464060306549072, best_f=3.5464060306549072, steps_to_best_f=7, peak_memory=34692608, runtime_ms=5.583479404449463)\n",
      "ExperimentResult(model='Conservative BoBn', step=8, restart=0, candidate={'x5': 0.9959207917276511, 'x1': 2.203184331247411, 'x4': 1.1147093327448605, 'x3': 1.5162261860473067, 'x2': 1.5685133571735494}, result=3.5515451431274414, best_f=3.5515451431274414, steps_to_best_f=8, peak_memory=34750976, runtime_ms=6.883429765701294)\n",
      "ExperimentResult(model='Conservative BoBn', step=9, restart=0, candidate={'x5': 0.9959710861129066, 'x1': 2.203189670313861, 'x4': 1.114704690696017, 'x3': 2.025914761360734, 'x2': 1.5684617205918616}, result=3.537222146987915, best_f=3.5515451431274414, steps_to_best_f=8, peak_memory=34800128, runtime_ms=8.046558380126953)\n",
      "ExperimentResult(model='Conservative BoBn', step=10, restart=0, candidate={'x5': 0.9960073802643825, 'x1': 2.203197631083144, 'x4': 1.1147423512128267, 'x3': 1.3250796045605564, 'x2': 1.5684291642747346}, result=4.403167247772217, best_f=4.403167247772217, steps_to_best_f=10, peak_memory=34858496, runtime_ms=6.0355072021484375)\n",
      "ExperimentResult(model='Conservative BoBn', step=11, restart=0, candidate={'x5': 0.9960352949439982, 'x1': 2.203207398699258, 'x4': 1.1147759882383725, 'x3': 1.2199994390453934, 'x2': 1.5684103086701784}, result=4.286914825439453, best_f=4.403167247772217, steps_to_best_f=10, peak_memory=34907648, runtime_ms=4.227381467819214)\n",
      "ExperimentResult(model='Conservative BoBn', step=12, restart=0, candidate={'x5': 0.9960582665397374, 'x1': 2.203218395296237, 'x4': 1.1148075367974175, 'x3': 1.2851354387320866, 'x2': 1.568401498274971}, result=4.495425224304199, best_f=4.495425224304199, steps_to_best_f=12, peak_memory=34966016, runtime_ms=7.483299255371094)\n",
      "ExperimentResult(model='Conservative BoBn', step=13, restart=0, candidate={'x5': 0.9960771068397571, 'x1': 2.2032301706317874, 'x4': 1.1148282168383437, 'x3': 1.2851621326500704, 'x2': 1.5684001449446505}, result=4.495486259460449, best_f=4.495486259460449, steps_to_best_f=13, peak_memory=35024384, runtime_ms=5.055000066757202)\n",
      "ExperimentResult(model='Conservative BoBn', step=14, restart=0, candidate={'x5': 0.9960930807207169, 'x1': 2.2032427007194046, 'x4': 1.114847704182289, 'x3': 1.2851728803071352, 'x2': 1.5684046110619783}, result=4.4956865310668945, best_f=4.4956865310668945, steps_to_best_f=14, peak_memory=35073536, runtime_ms=4.375849962234497)\n",
      "ExperimentResult(model='Conservative BoBn', step=15, restart=0, candidate={'x5': 0.9961071648197677, 'x1': 2.20325513733844, 'x4': 1.1148605277074215, 'x3': 1.2851790007535, 'x2': 1.5684134650056838}, result=4.495234966278076, best_f=4.4956865310668945, steps_to_best_f=14, peak_memory=35131904, runtime_ms=7.392858266830444)\n",
      "ExperimentResult(model='Conservative BoBn', step=16, restart=0, candidate={'x5': 0.9961189896112073, 'x1': 2.203267879111591, 'x4': 1.1148698275976976, 'x3': 1.2851828833948722, 'x2': 1.5684252934122453}, result=4.495617389678955, best_f=4.4956865310668945, steps_to_best_f=14, peak_memory=35191808, runtime_ms=5.5469279289245605)\n",
      "ExperimentResult(model='Conservative BoBn', step=17, restart=0, candidate={'x5': 0.9961312212506386, 'x1': 2.2032803651546007, 'x4': 1.1148763067630503, 'x3': 1.2851856997441846, 'x2': 1.5684396049277458}, result=4.495486259460449, best_f=4.4956865310668945, steps_to_best_f=14, peak_memory=35250176, runtime_ms=4.57334303855896)\n",
      "ExperimentResult(model='Conservative BoBn', step=18, restart=0, candidate={'x5': 0.9961416258094311, 'x1': 2.2032929065544837, 'x4': 1.1148805387928111, 'x3': 1.2851878341937828, 'x2': 1.568455989177273}, result=4.4956159591674805, best_f=4.4956865310668945, steps_to_best_f=14, peak_memory=35308544, runtime_ms=5.241064548492432)\n",
      "ExperimentResult(model='Conservative BoBn', step=19, restart=0, candidate={'x5': 0.99615139677677, 'x1': 2.2033057365411084, 'x4': 1.1148824086658178, 'x3': 1.285189414162261, 'x2': 1.568474012287887}, result=4.495553970336914, best_f=4.4956865310668945, steps_to_best_f=14, peak_memory=35366912, runtime_ms=4.320796489715576)\n",
      "ExperimentResult(model='Conservative BoBn', step=20, restart=0, candidate={'x5': 0.9961603718115314, 'x1': 2.2033173428084547, 'x4': 1.1148834844917164, 'x3': 1.285190573141361, 'x2': 1.5684928975668742}, result=4.495455265045166, best_f=4.4956865310668945, steps_to_best_f=14, peak_memory=35425280, runtime_ms=4.968629360198975)\n",
      "ExperimentResult(model='Conservative BoBn', step=21, restart=0, candidate={'x5': 0.9961704101363451, 'x1': 2.2033291356300695, 'x4': 1.1148823093920233, 'x3': 1.2851915643186838, 'x2': 1.568512986911393}, result=4.495656490325928, best_f=4.4956865310668945, steps_to_best_f=14, peak_memory=35483648, runtime_ms=5.749961853027344)\n",
      "ExperimentResult(model='Conservative BoBn', step=22, restart=0, candidate={'x5': 0.9961767105531882, 'x1': 2.2033406549468584, 'x4': 1.1148804998533284, 'x3': 1.285192351224014, 'x2': 1.5685334376429072}, result=4.495376110076904, best_f=4.4956865310668945, steps_to_best_f=14, peak_memory=35532800, runtime_ms=4.169886112213135)\n",
      "ExperimentResult(model='Conservative BoBn', step=23, restart=0, candidate={'x5': 0.9961842096306873, 'x1': 2.203351661936614, 'x4': 1.1148766992783816, 'x3': 1.2851929766044148, 'x2': 1.568554674520188}, result=4.495631694793701, best_f=4.4956865310668945, steps_to_best_f=14, peak_memory=35600384, runtime_ms=4.352533340454102)\n",
      "ExperimentResult(model='Conservative BoBn', step=24, restart=0, candidate={'x5': 0.9961910978517596, 'x1': 2.2033624954418762, 'x4': 1.114874272054815, 'x3': 1.285193477871779, 'x2': 1.5685760174982786}, result=4.4955010414123535, best_f=4.4956865310668945, steps_to_best_f=14, peak_memory=35658752, runtime_ms=7.761054515838623)\n",
      "ExperimentResult(model='Conservative BoBn', step=25, restart=0, candidate={'x5': 0.996197833702476, 'x1': 2.203372967956127, 'x4': 1.1148699435342968, 'x3': 1.2851939939238342, 'x2': 1.5685977381279734}, result=4.495622158050537, best_f=4.4956865310668945, steps_to_best_f=14, peak_memory=35717120, runtime_ms=8.003923416137695)\n",
      "ExperimentResult(model='Conservative BoBn', step=26, restart=0, candidate={'x5': 0.9962041808095734, 'x1': 2.203383033660068, 'x4': 1.1148653860315092, 'x3': 1.2851943256862273, 'x2': 1.5686200047163332}, result=4.495615005493164, best_f=4.4956865310668945, steps_to_best_f=14, peak_memory=35775488, runtime_ms=4.137166500091553)\n",
      "ExperimentResult(model='Conservative BoBn', step=27, restart=0, candidate={'x5': 0.9962104005562966, 'x1': 2.203392663319396, 'x4': 1.1148603252299585, 'x3': 1.2851946162667685, 'x2': 1.5686417391825485}, result=4.495402812957764, best_f=4.4956865310668945, steps_to_best_f=14, peak_memory=35833856, runtime_ms=9.82589077949524)\n",
      "ExperimentResult(model='Conservative BoBn', step=28, restart=0, candidate={'x5': 0.9962161206487945, 'x1': 2.2034019768500324, 'x4': 1.1148549339769507, 'x3': 1.2851948069071142, 'x2': 1.5686631498148316}, result=4.495678901672363, best_f=4.4956865310668945, steps_to_best_f=14, peak_memory=35892224, runtime_ms=7.768047571182251)\n",
      "ExperimentResult(model='Conservative BoBn', step=29, restart=0, candidate={'x5': 0.9962217618385559, 'x1': 2.203411041691737, 'x4': 1.1148489229665637, 'x3': 1.2851950803407362, 'x2': 1.5686857666353127}, result=4.49558687210083, best_f=4.4956865310668945, steps_to_best_f=14, peak_memory=35952128, runtime_ms=4.780720472335815)\n",
      "ExperimentResult(model='Conservative BoBn', step=30, restart=0, candidate={'x5': 0.9962270913257387, 'x1': 2.2034198317691787, 'x4': 1.1148472724679777, 'x3': 1.2851952806364422, 'x2': 1.5687078264761116}, result=4.495403289794922, best_f=4.4956865310668945, steps_to_best_f=14, peak_memory=36010496, runtime_ms=3.414393186569214)\n",
      "ExperimentResult(model='Conservative BoBn', step=31, restart=0, candidate={'x5': 0.9962322639163124, 'x1': 2.2034279004848134, 'x4': 1.114837045913651, 'x3': 1.2851954192887218, 'x2': 1.568729916650382}, result=4.495808124542236, best_f=4.495808124542236, steps_to_best_f=31, peak_memory=36078080, runtime_ms=3.3983097076416016)\n",
      "ExperimentResult(model='Conservative BoBn', step=32, restart=0, candidate={'x5': 0.9962372611479104, 'x1': 2.203435942904633, 'x4': 1.1148308166289753, 'x3': 1.2851955224681975, 'x2': 1.5687517169802696}, result=4.495479106903076, best_f=4.495808124542236, steps_to_best_f=31, peak_memory=36136448, runtime_ms=5.730979919433594)\n",
      "ExperimentResult(model='Conservative BoBn', step=33, restart=0, candidate={'x5': 0.9962421354787995, 'x1': 2.203443550565074, 'x4': 1.114824485814424, 'x3': 1.2851956394487585, 'x2': 1.568773608673958}, result=4.495629787445068, best_f=4.495808124542236, steps_to_best_f=31, peak_memory=36194816, runtime_ms=4.308888673782349)\n",
      "ExperimentResult(model='Conservative BoBn', step=34, restart=0, candidate={'x5': 0.9113687365517713, 'x1': 2.203450938271298, 'x4': 1.114817859783236, 'x3': 1.2851957390443676, 'x2': 1.5687951857710412}, result=4.079608917236328, best_f=4.495808124542236, steps_to_best_f=31, peak_memory=36262400, runtime_ms=4.100821018218994)\n",
      "ExperimentResult(model='Conservative BoBn', step=35, restart=0, candidate={'x5': 0.9955342012405642, 'x1': 2.203458134636636, 'x4': 1.1148112380493505, 'x3': 1.2851956851178543, 'x2': 1.5688168787221344}, result=4.495560646057129, best_f=4.495808124542236, steps_to_best_f=31, peak_memory=36320768, runtime_ms=3.282688617706299)\n",
      "ExperimentResult(model='Conservative BoBn', step=36, restart=0, candidate={'x5': 0.9955568564712053, 'x1': 2.2034654428863685, 'x4': 1.1148044643834745, 'x3': 1.2851962610215193, 'x2': 1.5688379194329323}, result=4.495565891265869, best_f=4.495808124542236, steps_to_best_f=31, peak_memory=36388352, runtime_ms=3.0920934677124023)\n",
      "ExperimentResult(model='Conservative BoBn', step=37, restart=0, candidate={'x5': 0.9955767226427351, 'x1': 2.2034715592122938, 'x4': 1.1147979951198765, 'x3': 1.285195814574189, 'x2': 1.5688597152178243}, result=4.495474815368652, best_f=4.495808124542236, steps_to_best_f=31, peak_memory=36446720, runtime_ms=3.517216205596924)\n",
      "ExperimentResult(model='Conservative BoBn', step=38, restart=0, candidate={'x5': 0.9955949546558626, 'x1': 2.2034776468820314, 'x4': 1.1147912991213271, 'x3': 1.2851958480323922, 'x2': 1.5688791495204046}, result=4.495542526245117, best_f=4.495808124542236, steps_to_best_f=31, peak_memory=36505088, runtime_ms=4.782034158706665)\n",
      "ExperimentResult(model='Conservative BoBn', step=39, restart=0, candidate={'x5': 0.995610471146759, 'x1': 2.20348588080215, 'x4': 1.1147845820643356, 'x3': 1.2851958623793083, 'x2': 1.5689018966547348}, result=4.495461463928223, best_f=4.495808124542236, steps_to_best_f=31, peak_memory=36572672, runtime_ms=3.452972412109375)\n",
      "ExperimentResult(model='Conservative BoBn', step=40, restart=0, candidate={'x5': 0.9956250209201704, 'x1': 2.203489631330199, 'x4': 1.1147767847227508, 'x3': 1.2851958148252445, 'x2': 1.5689233096462083}, result=4.495710372924805, best_f=4.495808124542236, steps_to_best_f=31, peak_memory=36640256, runtime_ms=4.196190118789673)\n",
      "ExperimentResult(model='Conservative BoBn', step=41, restart=0, candidate={'x5': 0.9956384289187603, 'x1': 2.203494981873948, 'x4': 1.1147714859372502, 'x3': 1.2851956966898774, 'x2': 1.5689436913325348}, result=4.495616436004639, best_f=4.495808124542236, steps_to_best_f=31, peak_memory=36698624, runtime_ms=3.072253465652466)\n",
      "ExperimentResult(model='Conservative BoBn', step=42, restart=0, candidate={'x5': 0.9956509123313334, 'x1': 2.203500032152454, 'x4': 1.1147644897201219, 'x3': 1.2851958025171744, 'x2': 1.568964165709323}, result=4.4957122802734375, best_f=4.495808124542236, steps_to_best_f=31, peak_memory=36767744, runtime_ms=3.3841922283172607)\n",
      "ExperimentResult(model='Conservative BoBn', step=43, restart=0, candidate={'x5': 0.9956625508281806, 'x1': 2.2035049900823234, 'x4': 1.1147577858200575, 'x3': 1.285195762853416, 'x2': 1.5689849298337757}, result=4.4957661628723145, best_f=4.495808124542236, steps_to_best_f=31, peak_memory=36826112, runtime_ms=3.41292667388916)\n",
      "ExperimentResult(model='Conservative BoBn', step=44, restart=0, candidate={'x5': 0.9956736908415662, 'x1': 2.2035097734727667, 'x4': 1.114751188429105, 'x3': 1.2851957072088902, 'x2': 1.5690018141532909}, result=4.495729446411133, best_f=4.495808124542236, steps_to_best_f=31, peak_memory=36893696, runtime_ms=6.154681444168091)\n",
      "ExperimentResult(model='Conservative BoBn', step=45, restart=0, candidate={'x5': 0.9956840341481995, 'x1': 2.2035143085520907, 'x4': 1.1147445363337845, 'x3': 1.2851956783402532, 'x2': 1.569025381001294}, result=4.495511054992676, best_f=4.495808124542236, steps_to_best_f=31, peak_memory=36961280, runtime_ms=5.244589805603027)\n",
      "ExperimentResult(model='Conservative BoBn', step=46, restart=0, candidate={'x5': 0.9956938867491661, 'x1': 2.2035190230684387, 'x4': 1.1147379609777215, 'x3': 1.2851955782805815, 'x2': 1.569045613999057}, result=4.4957146644592285, best_f=4.495808124542236, steps_to_best_f=31, peak_memory=37019648, runtime_ms=4.510888338088989)\n",
      "ExperimentResult(model='Conservative BoBn', step=47, restart=0, candidate={'x5': 0.9957031030898992, 'x1': 2.2035229846358466, 'x4': 1.1147314728350255, 'x3': 1.2851955042457994, 'x2': 1.5690655382588183}, result=4.495779991149902, best_f=4.495808124542236, steps_to_best_f=31, peak_memory=37087232, runtime_ms=4.086375713348389)\n",
      "ExperimentResult(model='Conservative BoBn', step=48, restart=0, candidate={'x5': 0.9957118166734419, 'x1': 2.203527189773031, 'x4': 1.114724948705215, 'x3': 1.2851954447833975, 'x2': 1.5690845242362008}, result=4.4955244064331055, best_f=4.495808124542236, steps_to_best_f=31, peak_memory=37154816, runtime_ms=4.849393844604492)\n",
      "ExperimentResult(model='Conservative BoBn', step=49, restart=0, candidate={'x5': 0.9957204703747007, 'x1': 2.2035307887324165, 'x4': 1.1147185008710754, 'x3': 1.2851954014757045, 'x2': 1.5691045191877147}, result=4.4955549240112305, best_f=4.495808124542236, steps_to_best_f=31, peak_memory=37222400, runtime_ms=3.6467607021331787)\n",
      "ExperimentResult(model='Conservative BoBn', step=50, restart=0, candidate={'x5': 0.9957286123040676, 'x1': 2.2035346436031014, 'x4': 1.1147122177008233, 'x3': 1.2851952117226255, 'x2': 1.569124502067127}, result=4.495632171630859, best_f=4.495808124542236, steps_to_best_f=31, peak_memory=37289984, runtime_ms=3.140692949295044)\n",
      "ExperimentResult(model='Conservative BoBn', step=51, restart=0, candidate={'x5': 0.9957364775284734, 'x1': 2.203538017219833, 'x4': 1.1147058454407628, 'x3': 1.2851952715436281, 'x2': 1.5691434423040584}, result=4.495678424835205, best_f=4.495808124542236, steps_to_best_f=31, peak_memory=37357568, runtime_ms=4.769683837890625)\n",
      "ExperimentResult(model='Conservative BoBn', step=52, restart=0, candidate={'x5': 0.9957441332984022, 'x1': 2.2035413121895764, 'x4': 1.1146993132810923, 'x3': 1.2851951086342321, 'x2': 1.569163060950147}, result=4.495663642883301, best_f=4.495808124542236, steps_to_best_f=31, peak_memory=37425152, runtime_ms=4.304678916931152)\n",
      "ExperimentResult(model='Conservative BoBn', step=53, restart=0, candidate={'x5': 0.9957518481341121, 'x1': 2.2035438622694663, 'x4': 1.1146931133182105, 'x3': 1.285194969077906, 'x2': 1.5691823841199393}, result=4.4957709312438965, best_f=4.495808124542236, steps_to_best_f=31, peak_memory=38025216, runtime_ms=4.832531213760376)\n",
      "ExperimentResult(model='Conservative BoBn', step=54, restart=0, candidate={'x5': 0.9957586329894577, 'x1': 2.2035475153183386, 'x4': 1.1146869754272197, 'x3': 1.285194832969364, 'x2': 1.569201261277337}, result=4.495781898498535, best_f=4.495808124542236, steps_to_best_f=31, peak_memory=38091776, runtime_ms=4.486154794692993)\n",
      "ExperimentResult(model='Conservative BoBn', step=55, restart=0, candidate={'x5': 0.9957650977892275, 'x1': 2.203550341619115, 'x4': 1.1146808058976176, 'x3': 1.2851946903833582, 'x2': 1.569220292005179}, result=4.495655059814453, best_f=4.495808124542236, steps_to_best_f=31, peak_memory=38189568, runtime_ms=5.0456671714782715)\n",
      "ExperimentResult(model='Conservative BoBn', step=56, restart=0, candidate={'x5': 0.9957722824674251, 'x1': 2.2035530096733424, 'x4': 1.1146746515410162, 'x3': 1.2851947596870592, 'x2': 1.5692391392095084}, result=4.495640754699707, best_f=4.495808124542236, steps_to_best_f=31, peak_memory=38265344, runtime_ms=4.335618257522583)\n",
      "ExperimentResult(model='Conservative BoBn', step=57, restart=0, candidate={'x5': 0.9957788544955338, 'x1': 2.2035554230155543, 'x4': 1.1146687591060696, 'x3': 1.2851938431413497, 'x2': 1.569257610398389}, result=4.495691776275635, best_f=4.495808124542236, steps_to_best_f=31, peak_memory=38341120, runtime_ms=3.771650791168213)\n",
      "ExperimentResult(model='Conservative BoBn', step=58, restart=0, candidate={'x5': 0.9957853311853652, 'x1': 2.2035582358693175, 'x4': 1.1146627648161742, 'x3': 1.2851943683280875, 'x2': 1.5692762671778953}, result=4.495595932006836, best_f=4.495808124542236, steps_to_best_f=31, peak_memory=38416896, runtime_ms=5.520525217056274)\n",
      "ExperimentResult(model='Conservative BoBn', step=59, restart=0, candidate={'x5': 0.9957914952135459, 'x1': 2.2035606203736435, 'x4': 1.1146569074159842, 'x3': 1.285194386444969, 'x2': 1.5692946020196037}, result=4.4955902099609375, best_f=4.495808124542236, steps_to_best_f=31, peak_memory=38492672, runtime_ms=5.551764488220215)\n",
      "ExperimentResult(model='Conservative BoBn', step=60, restart=0, candidate={'x5': 0.9957981029304837, 'x1': 2.203568981189636, 'x4': 1.1146508920204807, 'x3': 1.2851941707410315, 'x2': 1.569312730733315}, result=4.495755195617676, best_f=4.495808124542236, steps_to_best_f=31, peak_memory=38568448, runtime_ms=3.583341598510742)\n",
      "ExperimentResult(model='Conservative BoBn', step=61, restart=0, candidate={'x5': 0.9958036810680856, 'x1': 2.203564863274155, 'x4': 1.1146450835087571, 'x3': 1.285193948843363, 'x2': 1.5693308219927276}, result=4.495818138122559, best_f=4.495818138122559, steps_to_best_f=61, peak_memory=38644224, runtime_ms=6.44838285446167)\n",
      "ExperimentResult(model='Conservative BoBn', step=62, restart=0, candidate={'x5': 0.9958095495977948, 'x1': 2.2035668686745753, 'x4': 1.1146393409044408, 'x3': 1.2851938105958067, 'x2': 1.5693488482464006}, result=4.495726585388184, best_f=4.495818138122559, steps_to_best_f=61, peak_memory=38720000, runtime_ms=3.0479400157928467)\n",
      "ExperimentResult(model='Conservative BoBn', step=63, restart=0, candidate={'x5': 0.995815346306439, 'x1': 2.2035688256213652, 'x4': 1.1146336346408112, 'x3': 1.28519374488285, 'x2': 1.5693667015451853}, result=4.49567174911499, best_f=4.495818138122559, steps_to_best_f=61, peak_memory=38804992, runtime_ms=3.7281036376953125)\n",
      "ExperimentResult(model='Conservative BoBn', step=64, restart=0, candidate={'x5': 0.9958131072464302, 'x1': 2.203570662075793, 'x4': 1.114627737080928, 'x3': 1.2851935426730792, 'x2': 1.5693799557291317}, result=4.495724678039551, best_f=4.495818138122559, steps_to_best_f=61, peak_memory=38880768, runtime_ms=4.680455684661865)\n",
      "ExperimentResult(model='Conservative BoBn', step=65, restart=0, candidate={'x5': 0.9958265469684252, 'x1': 2.2035724167454402, 'x4': 1.1146253514137638, 'x3': 1.2851934295778094, 'x2': 1.5368777640493958}, result=4.451197147369385, best_f=4.495818138122559, steps_to_best_f=61, peak_memory=38956544, runtime_ms=4.330061435699463)\n",
      "ExperimentResult(model='Conservative BoBn', step=66, restart=0, candidate={'x5': 0.9958209984157993, 'x1': 2.203574069186167, 'x4': 1.1146166827011925, 'x3': 1.285193362435813, 'x2': 1.5713288137158496}, result=4.4958062171936035, best_f=4.495818138122559, steps_to_best_f=61, peak_memory=39041536, runtime_ms=3.8626837730407715)\n",
      "ExperimentResult(model='Conservative BoBn', step=67, restart=0, candidate={'x5': 0.9958377989907172, 'x1': 2.203575509678181, 'x4': 1.1146110528670545, 'x3': 1.2851936461711857, 'x2': 1.5713140422488194}, result=4.495895862579346, best_f=4.495895862579346, steps_to_best_f=67, peak_memory=39118848, runtime_ms=3.487980604171753)\n",
      "ExperimentResult(model='Conservative BoBn', step=68, restart=0, candidate={'x5': 0.9958427755927207, 'x1': 2.2035771323717546, 'x4': 1.114605589835299, 'x3': 1.2851930375789353, 'x2': 1.5713007748965968}, result=4.49552059173584, best_f=4.495895862579346, steps_to_best_f=67, peak_memory=39203840, runtime_ms=3.343989610671997)\n",
      "ExperimentResult(model='Conservative BoBn', step=69, restart=0, candidate={'x5': 0.995849368881788, 'x1': 2.203578508407617, 'x4': 1.1146002281337042, 'x3': 1.285192843939942, 'x2': 1.5712900107100234}, result=4.495885372161865, best_f=4.495895862579346, steps_to_best_f=67, peak_memory=39279616, runtime_ms=4.4423370361328125)\n",
      "ExperimentResult(model='Conservative BoBn', step=70, restart=0, candidate={'x5': 0.9958518849239283, 'x1': 2.203580124742816, 'x4': 1.1146003432841545, 'x3': 1.2851927137272616, 'x2': 1.571274792359958}, result=4.495844841003418, best_f=4.495895862579346, steps_to_best_f=67, peak_memory=39355392, runtime_ms=3.744798421859741)\n",
      "ExperimentResult(model='Conservative BoBn', step=71, restart=0, candidate={'x5': 0.9958523970309381, 'x1': 2.203581096825275, 'x4': 1.114589619967341, 'x3': 1.285192552810053, 'x2': 1.5621883410323083}, result=4.492901802062988, best_f=4.495895862579346, steps_to_best_f=67, peak_memory=39440384, runtime_ms=5.057804346084595)\n",
      "ExperimentResult(model='Conservative BoBn', step=72, restart=0, candidate={'x5': 0.9958572713326447, 'x1': 2.2035818851808133, 'x4': 1.1145842935033143, 'x3': 1.2851927472326028, 'x2': 1.563837403171369}, result=4.493844032287598, best_f=4.495895862579346, steps_to_best_f=67, peak_memory=39525376, runtime_ms=4.830909252166748)\n",
      "ExperimentResult(model='Conservative BoBn', step=73, restart=0, candidate={'x5': 0.9958682061579996, 'x1': 2.2035835777941895, 'x4': 1.1145788635378542, 'x3': 1.285192349542947, 'x2': 1.5652093520075263}, result=4.494518280029297, best_f=4.495895862579346, steps_to_best_f=67, peak_memory=39601152, runtime_ms=3.1661550998687744)\n",
      "ExperimentResult(model='Conservative BoBn', step=74, restart=0, candidate={'x5': 0.9958729969445949, 'x1': 2.203584406397737, 'x4': 1.1145738892125923, 'x3': 1.2851921076423247, 'x2': 1.5711425027299228}, result=4.495828628540039, best_f=4.495895862579346, steps_to_best_f=67, peak_memory=39686144, runtime_ms=4.2424516677856445)\n",
      "ExperimentResult(model='Conservative BoBn', step=75, restart=0, candidate={'x5': 0.9958776863129704, 'x1': 2.2035854705167575, 'x4': 1.1145701342792897, 'x3': 1.2851920071620149, 'x2': 1.5711355590729945}, result=4.495813846588135, best_f=4.495895862579346, steps_to_best_f=67, peak_memory=39761920, runtime_ms=4.90958571434021)\n",
      "ExperimentResult(model='Conservative BoBn', step=76, restart=0, candidate={'x5': 0.9958829710028358, 'x1': 2.203586504701978, 'x4': 1.1145638123411996, 'x3': 1.285191920603256, 'x2': 1.571129846600512}, result=4.495833873748779, best_f=4.495895862579346, steps_to_best_f=67, peak_memory=39846912, runtime_ms=4.681936025619507)\n",
      "ExperimentResult(model='Conservative BoBn', step=77, restart=0, candidate={'x5': 0.995887803815811, 'x1': 2.2035872970446255, 'x4': 1.1145561982360803, 'x3': 1.2851877012793862, 'x2': 1.5711228299895446}, result=4.4957170486450195, best_f=4.495895862579346, steps_to_best_f=67, peak_memory=39931904, runtime_ms=6.4378790855407715)\n",
      "ExperimentResult(model='Conservative BoBn', step=78, restart=0, candidate={'x5': 0.9958924801160854, 'x1': 2.203588208292023, 'x4': 1.1145534344737376, 'x3': 1.285191597137973, 'x2': 1.5711507248187322}, result=4.495786190032959, best_f=4.495895862579346, steps_to_best_f=67, peak_memory=40007680, runtime_ms=5.636232852935791)\n",
      "ExperimentResult(model='Conservative BoBn', step=79, restart=0, candidate={'x5': 0.9958972575430952, 'x1': 2.203588226519485, 'x4': 1.1145473665047148, 'x3': 1.2851913354959181, 'x2': 1.571144191255027}, result=4.495819568634033, best_f=4.495895862579346, steps_to_best_f=67, peak_memory=40092672, runtime_ms=3.9973747730255127)\n",
      "ExperimentResult(model='Conservative BoBn', step=80, restart=0, candidate={'x5': 0.9959017990100051, 'x1': 2.2035897862196014, 'x4': 1.1145435698586657, 'x3': 1.2851851946147523, 'x2': 1.571143796106608}, result=4.495734691619873, best_f=4.495895862579346, steps_to_best_f=67, peak_memory=40179200, runtime_ms=3.8195602893829346)\n",
      "ExperimentResult(model='Conservative BoBn', step=81, restart=0, candidate={'x5': 0.9959065786457872, 'x1': 2.2031786931362496, 'x4': 1.1145387812209118, 'x3': 1.2851911014836468, 'x2': 1.5711003578539064}, result=4.495730876922607, best_f=4.495895862579346, steps_to_best_f=67, peak_memory=40264192, runtime_ms=7.527132272720337)\n",
      "ExperimentResult(model='Conservative BoBn', step=82, restart=0, candidate={'x5': 0.9959111067410632, 'x1': 2.2035899004568553, 'x4': 1.114534085008982, 'x3': 1.2851907298507907, 'x2': 1.5763449195212464}, result=4.494686603546143, best_f=4.495895862579346, steps_to_best_f=67, peak_memory=40349184, runtime_ms=4.806522607803345)\n",
      "ExperimentResult(model='Conservative BoBn', step=83, restart=0, candidate={'x5': 0.9959128437653475, 'x1': 2.2035905285651514, 'x4': 1.1145292964158793, 'x3': 1.2851905616090125, 'x2': 1.571060493368288}, result=4.495651721954346, best_f=4.495895862579346, steps_to_best_f=67, peak_memory=40434176, runtime_ms=8.148581504821777)\n",
      "ExperimentResult(model='Conservative BoBn', step=84, restart=0, candidate={'x5': 0.9959179882356091, 'x1': 2.2035911975028544, 'x4': 1.1145243278982224, 'x3': 1.2851904050392722, 'x2': 1.571057141301192}, result=4.495827674865723, best_f=4.495895862579346, steps_to_best_f=67, peak_memory=40519168, runtime_ms=3.70281982421875)\n",
      "ExperimentResult(model='Conservative BoBn', step=85, restart=0, candidate={'x5': 0.9959248477586341, 'x1': 2.2031811003281905, 'x4': 1.114519794635927, 'x3': 1.2851902533587702, 'x2': 1.5710844854699257}, result=4.495757102966309, best_f=4.495895862579346, steps_to_best_f=67, peak_memory=40604160, runtime_ms=5.86919093132019)\n",
      "ExperimentResult(model='Conservative BoBn', step=86, restart=0, candidate={'x5': 0.9959292744368002, 'x1': 2.2035906777200784, 'x4': 1.1145149521241928, 'x3': 1.285190055856751, 'x2': 1.571050133554493}, result=4.495700836181641, best_f=4.495895862579346, steps_to_best_f=67, peak_memory=40679936, runtime_ms=4.14812445640564)\n",
      "ExperimentResult(model='Conservative BoBn', step=87, restart=0, candidate={'x5': 0.9959315237313029, 'x1': 2.2035909835092093, 'x4': 1.114510799611097, 'x3': 1.2851899301208065, 'x2': 1.571056260256627}, result=4.495753765106201, best_f=4.495895862579346, steps_to_best_f=67, peak_memory=40774144, runtime_ms=3.9840917587280273)\n",
      "ExperimentResult(model='Conservative BoBn', step=88, restart=0, candidate={'x5': 0.9959379470881364, 'x1': 2.2032708743859954, 'x4': 1.1145063305578602, 'x3': 1.2851897121828504, 'x2': 1.571043357321694}, result=4.495765209197998, best_f=4.495895862579346, steps_to_best_f=67, peak_memory=40859136, runtime_ms=7.625262975692749)\n",
      "ExperimentResult(model='Conservative BoBn', step=89, restart=0, candidate={'x5': 0.9959405228124459, 'x1': 2.203591489571941, 'x4': 1.1144995488936442, 'x3': 1.2851507958790163, 'x2': 1.5710396891022034}, result=4.495519638061523, best_f=4.495895862579346, steps_to_best_f=67, peak_memory=40944128, runtime_ms=6.5084075927734375)\n",
      "ExperimentResult(model='Conservative BoBn', step=90, restart=0, candidate={'x5': 0.99593978908284, 'x1': 2.203592024386251, 'x4': 1.114496664657874, 'x3': 1.2851506731376443, 'x2': 1.57103731413726}, result=4.495802402496338, best_f=4.495895862579346, steps_to_best_f=67, peak_memory=41029120, runtime_ms=5.4296510219573975)\n",
      "ExperimentResult(model='Conservative BoBn', step=91, restart=0, candidate={'x5': 0.9959464056429578, 'x1': 2.2031959535007677, 'x4': 1.1144927627006358, 'x3': 1.2851506428281805, 'x2': 1.5710343407818195}, result=4.495769023895264, best_f=4.495895862579346, steps_to_best_f=67, peak_memory=41114112, runtime_ms=5.036796808242798)\n",
      "ExperimentResult(model='Conservative BoBn', step=92, restart=0, candidate={'x5': 0.9959553677869498, 'x1': 2.2035911475985093, 'x4': 1.114487827413288, 'x3': 1.2851889474157308, 'x2': 1.571031644376784}, result=4.495725631713867, best_f=4.495895862579346, steps_to_best_f=67, peak_memory=41199104, runtime_ms=6.927738904953003)\n",
      "ExperimentResult(model='Conservative BoBn', step=93, restart=0, candidate={'x5': 0.9959609733127809, 'x1': 2.2031814555432647, 'x4': 1.1144833584628806, 'x3': 1.2851888177937743, 'x2': 1.5710287873144226}, result=4.4958696365356445, best_f=4.495895862579346, steps_to_best_f=67, peak_memory=41285632, runtime_ms=4.075007677078247)\n",
      "ExperimentResult(model='Conservative BoBn', step=94, restart=0, candidate={'x5': 0.9959641776476128, 'x1': 2.2035876498685902, 'x4': 1.1144787442214377, 'x3': 1.2851886100673544, 'x2': 1.5710260660857842}, result=4.495797634124756, best_f=4.495895862579346, steps_to_best_f=67, peak_memory=41370624, runtime_ms=3.606494426727295)\n",
      "ExperimentResult(model='Conservative BoBn', step=95, restart=0, candidate={'x5': 0.9959656419124967, 'x1': 2.2031835188965294, 'x4': 1.1144745285631306, 'x3': 1.2851506451547319, 'x2': 1.57102499216445}, result=4.495890140533447, best_f=4.495895862579346, steps_to_best_f=67, peak_memory=41464832, runtime_ms=3.2723805904388428)\n",
      "ExperimentResult(model='Conservative BoBn', step=96, restart=0, candidate={'x5': 0.9959726944135242, 'x1': 2.203588742164969, 'x4': 1.1144703335935353, 'x3': 1.2851881289074847, 'x2': 1.5710208202511349}, result=4.495644569396973, best_f=4.495895862579346, steps_to_best_f=67, peak_memory=41549824, runtime_ms=3.1908278465270996)\n",
      "ExperimentResult(model='Conservative BoBn', step=97, restart=0, candidate={'x5': 0.9959772019491774, 'x1': 2.203184022338907, 'x4': 1.1144660266362503, 'x3': 1.285187964520189, 'x2': 1.5710467635873797}, result=4.495911121368408, best_f=4.495911121368408, steps_to_best_f=97, peak_memory=41634816, runtime_ms=7.932093381881714)\n",
      "ExperimentResult(model='Conservative BoBn', step=98, restart=0, candidate={'x5': 0.995981178046955, 'x1': 2.2035872826819327, 'x4': 1.1144615595332275, 'x3': 1.285187936644108, 'x2': 1.5710155246013922}, result=4.4958086013793945, best_f=4.495911121368408, steps_to_best_f=97, peak_memory=41729024, runtime_ms=2.3691320419311523)\n",
      "ExperimentResult(model='Conservative BoBn', step=99, restart=0, candidate={'x5': 0.9959838739713435, 'x1': 2.203587322454427, 'x4': 1.1144575158752918, 'x3': 1.2851877014949307, 'x2': 1.571013426079775}, result=4.495825290679932, best_f=4.495911121368408, steps_to_best_f=97, peak_memory=41814016, runtime_ms=3.3768880367279053)\n",
      "ExperimentResult(model='Conservative BoBn', step=100, restart=0, candidate={'x5': 0.9959897113644405, 'x1': 2.2035871620937475, 'x4': 1.114453521372613, 'x3': 1.2851875458147475, 'x2': 1.5710100176589095}, result=4.495935916900635, best_f=4.495935916900635, steps_to_best_f=100, peak_memory=41908224, runtime_ms=3.914238929748535)\n",
      "ExperimentResult(model='Conservative BoBn', step=101, restart=0, candidate={'x5': 0.9959918341429163, 'x1': 2.2035703811967733, 'x4': 1.1144493133362827, 'x3': 1.2851875080988515, 'x2': 1.5710137117309093}, result=4.495850563049316, best_f=4.495935916900635, steps_to_best_f=100, peak_memory=41993216, runtime_ms=6.3084564208984375)\n",
      "ExperimentResult(model='Conservative BoBn', step=102, restart=0, candidate={'x5': 0.9959985071655668, 'x1': 2.203587087880042, 'x4': 1.1144456358943653, 'x3': 1.2851871678863716, 'x2': 1.5710066673776948}, result=4.495816230773926, best_f=4.495935916900635, steps_to_best_f=100, peak_memory=42078208, runtime_ms=5.842232704162598)\n",
      "ExperimentResult(model='Conservative BoBn', step=103, restart=0, candidate={'x5': 0.9959824764150748, 'x1': 2.203587012331564, 'x4': 1.114441269547194, 'x3': 1.285186995227612, 'x2': 1.5710046317658424}, result=4.49578857421875, best_f=4.495935916900635, steps_to_best_f=100, peak_memory=42172416, runtime_ms=3.5432817935943604)\n",
      "ExperimentResult(model='Conservative BoBn', step=104, restart=0, candidate={'x5': 0.9960051001451802, 'x1': 2.203428599859651, 'x4': 1.114437050244889, 'x3': 1.2851867439747757, 'x2': 1.5710024219943373}, result=4.495797634124756, best_f=4.495935916900635, steps_to_best_f=100, peak_memory=42266624, runtime_ms=3.802990436553955)\n",
      "ExperimentResult(model='Conservative BoBn', step=105, restart=0, candidate={'x5': 0.9960105829629357, 'x1': 2.2035210899681106, 'x4': 1.1144330321858416, 'x3': 1.2851866084096168, 'x2': 1.57100067568907}, result=4.495669841766357, best_f=4.495935916900635, steps_to_best_f=100, peak_memory=42351616, runtime_ms=6.35771369934082)\n",
      "ExperimentResult(model='Conservative BoBn', step=106, restart=0, candidate={'x5': 0.9960139379795748, 'x1': 2.2035871241778757, 'x4': 1.114429200056971, 'x3': 1.2851864343286783, 'x2': 1.5709984087706486}, result=4.495997905731201, best_f=4.495997905731201, steps_to_best_f=106, peak_memory=42447360, runtime_ms=3.6513922214508057)\n",
      "ExperimentResult(model='Conservative BoBn', step=107, restart=0, candidate={'x5': 0.9960188120982458, 'x1': 2.203586986928583, 'x4': 1.1144252520151963, 'x3': 1.2851862234884521, 'x2': 1.5710382963539917}, result=4.495938301086426, best_f=4.495997905731201, steps_to_best_f=106, peak_memory=42532352, runtime_ms=4.78241229057312)\n",
      "ExperimentResult(model='Conservative BoBn', step=108, restart=0, candidate={'x5': 0.9960230169346559, 'x1': 2.2035869943335453, 'x4': 1.114421328323217, 'x3': 1.2851860517193685, 'x2': 1.5709944194817498}, result=4.495739936828613, best_f=4.495997905731201, steps_to_best_f=106, peak_memory=42626560, runtime_ms=3.636280059814453)\n",
      "ExperimentResult(model='Conservative BoBn', step=109, restart=0, candidate={'x5': 0.9960271195609485, 'x1': 2.203586351223062, 'x4': 1.1144172794030018, 'x3': 1.2851499115597051, 'x2': 1.5709924429976496}, result=4.4956746101379395, best_f=4.495997905731201, steps_to_best_f=106, peak_memory=42720768, runtime_ms=4.37548565864563)\n",
      "ExperimentResult(model='Conservative BoBn', step=110, restart=0, candidate={'x5': 0.9960360695801246, 'x1': 2.2035859877918202, 'x4': 1.1144133123546565, 'x3': 1.2851498038765368, 'x2': 1.5709905929986396}, result=4.495774269104004, best_f=4.495997905731201, steps_to_best_f=106, peak_memory=42805760, runtime_ms=5.330656290054321)\n",
      "ExperimentResult(model='Conservative BoBn', step=111, restart=0, candidate={'x5': 0.996034098535536, 'x1': 2.203585588990639, 'x4': 1.114409681655439, 'x3': 1.2851854801693106, 'x2': 1.570988871421003}, result=4.495877265930176, best_f=4.495997905731201, steps_to_best_f=106, peak_memory=42899968, runtime_ms=3.6818981170654297)\n",
      "ExperimentResult(model='Conservative BoBn', step=112, restart=0, candidate={'x5': 0.9960218962808494, 'x1': 2.2035853125055453, 'x4': 1.1144059494929226, 'x3': 1.285183796326519, 'x2': 1.571017919788041}, result=4.49594259262085, best_f=4.495997905731201, steps_to_best_f=106, peak_memory=42994176, runtime_ms=3.006852149963379)\n",
      "ExperimentResult(model='Conservative BoBn', step=113, restart=0, candidate={'x5': 0.9960465185957595, 'x1': 2.203585620854969, 'x4': 1.1144020477428918, 'x3': 1.2851494631866494, 'x2': 1.5709851540187476}, result=4.495861053466797, best_f=4.495997905731201, steps_to_best_f=106, peak_memory=43088384, runtime_ms=4.414057970046997)\n",
      "ExperimentResult(model='Conservative BoBn', step=114, restart=0, candidate={'x5': 0.9960493812115135, 'x1': 2.2035845019640328, 'x4': 1.11439936522918, 'x3': 1.2851848968350548, 'x2': 1.5709834444518895}, result=4.495572090148926, best_f=4.495997905731201, steps_to_best_f=106, peak_memory=43182592, runtime_ms=6.025171995162964)\n",
      "ExperimentResult(model='Conservative BoBn', step=115, restart=0, candidate={'x5': 0.996053665161404, 'x1': 2.203583832300027, 'x4': 1.1143945737502687, 'x3': 1.2851494022624446, 'x2': 1.5709816657485691}, result=4.495617866516113, best_f=4.495997905731201, steps_to_best_f=106, peak_memory=43276800, runtime_ms=3.126760721206665)\n",
      "ExperimentResult(model='Conservative BoBn', step=116, restart=0, candidate={'x5': 0.9960560559071235, 'x1': 2.2035837437319965, 'x4': 1.1143911158633646, 'x3': 1.2851846158755198, 'x2': 1.5709800762215156}, result=4.495804309844971, best_f=4.495997905731201, steps_to_best_f=106, peak_memory=43371008, runtime_ms=8.85439133644104)\n",
      "ExperimentResult(model='Conservative BoBn', step=117, restart=0, candidate={'x5': 0.9960426479825536, 'x1': 2.203583439600686, 'x4': 1.1143872007056996, 'x3': 1.2851491766557648, 'x2': 1.5709782677482278}, result=4.495939254760742, best_f=4.495997905731201, steps_to_best_f=106, peak_memory=42408448, runtime_ms=3.154689073562622)\n",
      "ExperimentResult(model='Conservative BoBn', step=118, restart=0, candidate={'x5': 0.9960616512967608, 'x1': 2.203583036297262, 'x4': 1.1143837624232917, 'x3': 1.2851841338602574, 'x2': 1.5709767312932328}, result=4.495952129364014, best_f=4.495997905731201, steps_to_best_f=106, peak_memory=42485248, runtime_ms=5.706802845001221)\n",
      "ExperimentResult(model='Conservative BoBn', step=119, restart=0, candidate={'x5': 0.9960693600755408, 'x1': 2.2035827203331873, 'x4': 1.1143800903846077, 'x3': 1.285184099259642, 'x2': 1.5709751208408267}, result=4.495912075042725, best_f=4.495997905731201, steps_to_best_f=106, peak_memory=42593280, runtime_ms=5.691345691680908)\n",
      "ExperimentResult(model='Conservative BoBn', step=120, restart=0, candidate={'x5': 0.9960546191597407, 'x1': 2.2035823502166765, 'x4': 1.1143759604971597, 'x3': 1.2851816471499562, 'x2': 1.5709736995996413}, result=4.495832920074463, best_f=4.495997905731201, steps_to_best_f=106, peak_memory=42679296, runtime_ms=3.9029359817504883)\n",
      "ExperimentResult(model='Conservative BoBn', step=121, restart=0, candidate={'x5': 0.9960748998112681, 'x1': 2.2035817930663844, 'x4': 1.114372862761014, 'x3': 1.2851488811632452, 'x2': 1.5709719821055463}, result=4.495772361755371, best_f=4.495997905731201, steps_to_best_f=106, peak_memory=42765312, runtime_ms=5.551295518875122)\n",
      "ExperimentResult(model='Conservative BoBn', step=122, restart=0, candidate={'x5': 0.9960805654304226, 'x1': 2.2035816867838136, 'x4': 1.114369324333372, 'x3': 1.2851487630512126, 'x2': 1.5710081514100647}, result=4.495960712432861, best_f=4.495997905731201, steps_to_best_f=106, peak_memory=42851328, runtime_ms=5.653758764266968)\n",
      "ExperimentResult(model='Conservative BoBn', step=123, restart=0, candidate={'x5': 0.996066807025335, 'x1': 2.2035810855555935, 'x4': 1.1143653328612544, 'x3': 1.2851487311375644, 'x2': 1.570968039633645}, result=4.495851039886475, best_f=4.495997905731201, steps_to_best_f=106, peak_memory=42937344, runtime_ms=6.8065125942230225)\n",
      "ExperimentResult(model='Conservative BoBn', step=124, restart=0, candidate={'x5': 0.9960708078828363, 'x1': 2.203584355203389, 'x4': 1.114362787778532, 'x3': 1.2851484897873826, 'x2': 1.5709692045182773}, result=4.495800495147705, best_f=4.495997905731201, steps_to_best_f=106, peak_memory=43023360, runtime_ms=5.704751253128052)\n",
      "ExperimentResult(model='Conservative BoBn', step=125, restart=0, candidate={'x5': 0.9960943671090573, 'x1': 2.203579889420159, 'x4': 1.114358877518206, 'x3': 1.2851807765118681, 'x2': 1.5709682905301248}, result=4.495732307434082, best_f=4.495997905731201, steps_to_best_f=106, peak_memory=43109376, runtime_ms=3.987290143966675)\n",
      "ExperimentResult(model='Conservative BoBn', step=126, restart=0, candidate={'x5': 0.9960960595101849, 'x1': 2.203583067064475, 'x4': 1.1143555190784589, 'x3': 1.2851826793497614, 'x2': 1.5709989952053371}, result=4.495789051055908, best_f=4.495997905731201, steps_to_best_f=106, peak_memory=43195392, runtime_ms=3.9844508171081543)\n",
      "ExperimentResult(model='Conservative BoBn', step=127, restart=0, candidate={'x5': 0.996100213307633, 'x1': 2.2035790953238514, 'x4': 1.1143504511502162, 'x3': 1.2851824650086838, 'x2': 1.5709643269749674}, result=4.495930194854736, best_f=4.495997905731201, steps_to_best_f=106, peak_memory=43290624, runtime_ms=4.846713542938232)\n",
      "ExperimentResult(model='Conservative BoBn', step=128, restart=0, candidate={'x5': 0.99610427993521, 'x1': 2.203578903464129, 'x4': 1.1143486678099062, 'x3': 1.285182223974015, 'x2': 1.5709615381147504}, result=4.495913028717041, best_f=4.495997905731201, steps_to_best_f=106, peak_memory=43376640, runtime_ms=4.76902437210083)\n",
      "ExperimentResult(model='Conservative BoBn', step=129, restart=0, candidate={'x5': 0.9961083589415888, 'x1': 2.2035783096756183, 'x4': 1.114345174043532, 'x3': 1.2851821106127694, 'x2': 1.570960540989159}, result=4.495989799499512, best_f=4.495997905731201, steps_to_best_f=106, peak_memory=43462656, runtime_ms=7.302190065383911)\n",
      "ExperimentResult(model='Conservative BoBn', step=130, restart=0, candidate={'x5': 0.9961125522389535, 'x1': 2.203582998426125, 'x4': 1.1143381885866073, 'x3': 1.285181909179555, 'x2': 1.5709917838064165}, result=4.495707988739014, best_f=4.495997905731201, steps_to_best_f=106, peak_memory=43557888, runtime_ms=4.904439210891724)\n",
      "ExperimentResult(model='Conservative BoBn', step=131, restart=0, candidate={'x5': 0.996114559182053, 'x1': 2.2035774194491804, 'x4': 1.1143387510018297, 'x3': 1.285181776034504, 'x2': 1.570957820121251}, result=4.4957756996154785, best_f=4.495997905731201, steps_to_best_f=106, peak_memory=43645440, runtime_ms=3.6289193630218506)\n",
      "ExperimentResult(model='Conservative BoBn', step=132, restart=0, candidate={'x5': 0.9961212240226239, 'x1': 2.203577043649401, 'x4': 1.1143378694125725, 'x3': 1.2851816014221373, 'x2': 1.5709561100368468}, result=4.495776176452637, best_f=4.495997905731201, steps_to_best_f=106, peak_memory=43740672, runtime_ms=4.351848840713501)\n",
      "ExperimentResult(model='Conservative BoBn', step=133, restart=0, candidate={'x5': 0.996126293136411, 'x1': 2.2035822677014365, 'x4': 1.1143320253695377, 'x3': 1.2851808847595976, 'x2': 1.570955199314988}, result=4.495842933654785, best_f=4.495997905731201, steps_to_best_f=106, peak_memory=43826688, runtime_ms=5.018293142318726)\n",
      "ExperimentResult(model='Conservative BoBn', step=134, restart=0, candidate={'x5': 0.9961267954367528, 'x1': 2.203575942979571, 'x4': 1.1143288698765483, 'x3': 1.2851811979550007, 'x2': 1.570953898405601}, result=4.495943069458008, best_f=4.495997905731201, steps_to_best_f=106, peak_memory=43912704, runtime_ms=4.926377058029175)\n",
      "ExperimentResult(model='Conservative BoBn', step=135, restart=0, candidate={'x5': 0.9961113124225242, 'x1': 2.2035740384393985, 'x4': 1.11432577794262, 'x3': 1.285147481946923, 'x2': 1.570952508924975}, result=4.495793342590332, best_f=4.495997905731201, steps_to_best_f=106, peak_memory=44007936, runtime_ms=5.850178956985474)\n",
      "ExperimentResult(model='Conservative BoBn', step=136, restart=0, candidate={'x5': 0.9961363886438394, 'x1': 2.2035748679227396, 'x4': 1.1143225349325803, 'x3': 1.285180823359637, 'x2': 1.570951518208331}, result=4.495844841003418, best_f=4.495997905731201, steps_to_best_f=106, peak_memory=44103168, runtime_ms=3.8141863346099854)\n",
      "ExperimentResult(model='Conservative BoBn', step=137, restart=0, candidate={'x5': 0.9961373106870258, 'x1': 2.203574422969745, 'x4': 1.1143194073611695, 'x3': 1.2851806519455602, 'x2': 1.5709502792230947}, result=4.495895862579346, best_f=4.495997905731201, steps_to_best_f=106, peak_memory=44189184, runtime_ms=5.432451486587524)\n",
      "ExperimentResult(model='Conservative BoBn', step=138, restart=0, candidate={'x5': 0.9961444666798095, 'x1': 2.203160553438089, 'x4': 1.1143161182896695, 'x3': 1.2851803792761296, 'x2': 1.570948165754388}, result=4.495949745178223, best_f=4.495997905731201, steps_to_best_f=106, peak_memory=44284416, runtime_ms=3.5855798721313477)\n",
      "ExperimentResult(model='Conservative BoBn', step=139, restart=0, candidate={'x5': 0.99614850046159, 'x1': 2.203570774939433, 'x4': 1.1143128461925391, 'x3': 1.2851784214452733, 'x2': 1.5709478888026018}, result=4.496016979217529, best_f=4.496016979217529, steps_to_best_f=139, peak_memory=44370432, runtime_ms=6.285550117492676)\n",
      "ExperimentResult(model='Conservative BoBn', step=140, restart=0, candidate={'x5': 0.9961524654399196, 'x1': 2.203570279869672, 'x4': 1.1143099402289158, 'x3': 1.2851779611282843, 'x2': 1.5744758050538137}, result=4.495218753814697, best_f=4.496016979217529, steps_to_best_f=139, peak_memory=44465664, runtime_ms=5.999715328216553)\n",
      "ExperimentResult(model='Conservative BoBn', step=141, restart=0, candidate={'x5': 0.9961564578989202, 'x1': 2.203569778847378, 'x4': 1.1143067733703236, 'x3': 1.2851776612294619, 'x2': 1.574739090033871}, result=4.49523401260376, best_f=4.496016979217529, steps_to_best_f=139, peak_memory=44560896, runtime_ms=9.285924911499023)\n",
      "ExperimentResult(model='Conservative BoBn', step=142, restart=0, candidate={'x5': 0.9961576490588203, 'x1': 2.203556894193399, 'x4': 1.1143036782966564, 'x3': 1.2851776755372954, 'x2': 1.5709595021638012}, result=4.495911598205566, best_f=4.496016979217529, steps_to_best_f=139, peak_memory=44646912, runtime_ms=3.795088529586792)\n",
      "ExperimentResult(model='Conservative BoBn', step=143, restart=0, candidate={'x5': 0.9961643637361414, 'x1': 2.2035688084414886, 'x4': 1.114300679912675, 'x3': 1.2851775847872193, 'x2': 1.5709341205853375}, result=4.49567985534668, best_f=4.496016979217529, steps_to_best_f=139, peak_memory=44742144, runtime_ms=4.759650230407715)\n",
      "ExperimentResult(model='Conservative BoBn', step=144, restart=0, candidate={'x5': 0.996168341532861, 'x1': 2.2035681785619254, 'x4': 1.1142976818186727, 'x3': 1.2851774534021896, 'x2': 1.5709564386253092}, result=4.49591588973999, best_f=4.496016979217529, steps_to_best_f=139, peak_memory=44838912, runtime_ms=3.897827386856079)\n",
      "ExperimentResult(model='Conservative BoBn', step=145, restart=0, candidate={'x5': 0.9961725119475268, 'x1': 2.2035678523386566, 'x4': 1.1142947140949422, 'x3': 1.285146305919211, 'x2': 1.5709318898674725}, result=4.495611667633057, best_f=4.496016979217529, steps_to_best_f=139, peak_memory=44934144, runtime_ms=6.922645330429077)\n",
      "ExperimentResult(model='Conservative BoBn', step=146, restart=0, candidate={'x5': 0.996173898752587, 'x1': 2.2031597780165506, 'x4': 1.114291711098449, 'x3': 1.2851462004887444, 'x2': 1.5709310352047594}, result=4.495846748352051, best_f=4.496016979217529, steps_to_best_f=139, peak_memory=45029376, runtime_ms=4.2822265625)\n",
      "ExperimentResult(model='Conservative BoBn', step=147, restart=0, candidate={'x5': 0.9961767448469651, 'x1': 2.2035638635074006, 'x4': 1.1142885929889976, 'x3': 1.2851460775564885, 'x2': 1.570930100081028}, result=4.495759010314941, best_f=4.496016979217529, steps_to_best_f=139, peak_memory=45124608, runtime_ms=5.215348958969116)\n",
      "ExperimentResult(model='Conservative BoBn', step=148, restart=0, candidate={'x5': 0.9961842096445858, 'x1': 2.2035633612129515, 'x4': 1.11428537251281, 'x3': 1.2851786026650798, 'x2': 1.570928727760953}, result=4.4959282875061035, best_f=4.496016979217529, steps_to_best_f=139, peak_memory=46268416, runtime_ms=3.2203409671783447)\n",
      "ExperimentResult(model='Conservative BoBn', step=149, restart=0, candidate={'x5': 0.9961878971595374, 'x1': 2.203562738802503, 'x4': 1.1142828032561352, 'x3': 1.285145936010748, 'x2': 1.5709282040176977}, result=4.495876312255859, best_f=4.496016979217529, steps_to_best_f=139, peak_memory=46265344, runtime_ms=3.4039862155914307)\n",
      "restart_id=1/3\n",
      "ExperimentResult(model='Conservative BoBn', step=0, restart=1, candidate={'x5': 0.9961921521512899, 'x1': 2.203565233424222, 'x4': 1.114279862238617, 'x3': 1.2851456983047262, 'x2': 1.5709274097194215}, result=4.495887279510498, best_f=4.495887279510498, steps_to_best_f=0, peak_memory=46393856, runtime_ms=5.194897174835205)\n",
      "ExperimentResult(model='Conservative BoBn', step=1, restart=1, candidate={'x5': 0.9961962662689391, 'x1': 2.203561631698176, 'x4': 1.1142770804983677, 'x3': 1.2851780386039637, 'x2': 1.5709263554565551}, result=4.495903968811035, best_f=4.495903968811035, steps_to_best_f=1, peak_memory=46604800, runtime_ms=4.5337815284729)\n",
      "ExperimentResult(model='Conservative BoBn', step=2, restart=1, candidate={'x5': 0.9961999221388127, 'x1': 2.2035615100620602, 'x4': 1.1142740278117413, 'x3': 1.2851454997994702, 'x2': 1.5709255068891408}, result=4.496010780334473, best_f=4.496010780334473, steps_to_best_f=2, peak_memory=46806528, runtime_ms=4.329970598220825)\n",
      "ExperimentResult(model='Conservative BoBn', step=3, restart=1, candidate={'x5': 0.9962038365573023, 'x1': 2.2035606727769275, 'x4': 1.1142712982886491, 'x3': 1.2851453445473928, 'x2': 1.5709247107017026}, result=4.495934963226318, best_f=4.496010780334473, steps_to_best_f=2, peak_memory=47008256, runtime_ms=3.8452980518341064)\n",
      "ExperimentResult(model='Conservative BoBn', step=4, restart=1, candidate={'x5': 0.9962075674570039, 'x1': 2.2035609536535286, 'x4': 1.1142687962618278, 'x3': 1.2851451905438513, 'x2': 1.5709467412630902}, result=4.4957451820373535, best_f=4.496010780334473, steps_to_best_f=2, peak_memory=47209984, runtime_ms=4.6947715282440186)\n",
      "ExperimentResult(model='Conservative BoBn', step=5, restart=1, candidate={'x5': 0.9962112971586031, 'x1': 2.2035599339967487, 'x4': 1.1142657298992482, 'x3': 1.285177266658812, 'x2': 1.5709230692130134}, result=4.495853900909424, best_f=4.496010780334473, steps_to_best_f=2, peak_memory=47411712, runtime_ms=3.6625819206237793)\n",
      "ExperimentResult(model='Conservative BoBn', step=6, restart=1, candidate={'x5': 0.9962153487375003, 'x1': 2.2035590728598353, 'x4': 1.1142629724440056, 'x3': 1.2851773360080625, 'x2': 1.5709448192023507}, result=4.495814800262451, best_f=4.496010780334473, steps_to_best_f=2, peak_memory=47613440, runtime_ms=3.8768398761749268)\n",
      "ExperimentResult(model='Conservative BoBn', step=7, restart=1, candidate={'x5': 0.9962191958468182, 'x1': 2.203558310802187, 'x4': 1.1142601013174493, 'x3': 1.2851771459874803, 'x2': 1.5709210905733637}, result=4.495936870574951, best_f=4.496010780334473, steps_to_best_f=2, peak_memory=47816704, runtime_ms=3.7623987197875977)\n",
      "ExperimentResult(model='Conservative BoBn', step=8, restart=1, candidate={'x5': 0.9962229512586617, 'x1': 2.2032151396972552, 'x4': 1.1142572973551186, 'x3': 1.285176839646064, 'x2': 1.57094379988901}, result=4.495696544647217, best_f=4.496010780334473, steps_to_best_f=2, peak_memory=48018432, runtime_ms=5.703335523605347)\n",
      "ExperimentResult(model='Conservative BoBn', step=9, restart=1, candidate={'x5': 0.9962260669675451, 'x1': 2.2032856094238933, 'x4': 1.114254673173749, 'x3': 1.2851765802122626, 'x2': 1.570919487128613}, result=4.495756149291992, best_f=4.496010780334473, steps_to_best_f=2, peak_memory=48262144, runtime_ms=3.876803398132324)\n",
      "ExperimentResult(model='Conservative BoBn', step=10, restart=1, candidate={'x5': 0.9962303764338546, 'x1': 2.2035535191104696, 'x4': 1.1142518436419555, 'x3': 1.285176397070037, 'x2': 1.570918830183506}, result=4.495912075042725, best_f=4.496010780334473, steps_to_best_f=2, peak_memory=48562176, runtime_ms=5.942804336547852)\n",
      "ExperimentResult(model='Conservative BoBn', step=11, restart=1, candidate={'x5': 0.9962341054278521, 'x1': 2.203411325927638, 'x4': 1.1142491760194952, 'x3': 1.285176229559315, 'x2': 1.5709178022977868}, result=4.495974063873291, best_f=4.496010780334473, steps_to_best_f=2, peak_memory=48862208, runtime_ms=3.595271348953247)\n",
      "ExperimentResult(model='Conservative BoBn', step=12, restart=1, candidate={'x5': 0.9962380541292721, 'x1': 2.2035562182953767, 'x4': 1.1142466300581917, 'x3': 1.2851441743653127, 'x2': 1.5709541116828833}, result=4.4957499504089355, best_f=4.496010780334473, steps_to_best_f=2, peak_memory=49171456, runtime_ms=5.515224456787109)\n",
      "ExperimentResult(model='Conservative BoBn', step=13, restart=1, candidate={'x5': 0.9962415208762732, 'x1': 2.203415278013905, 'x4': 1.1142439061775244, 'x3': 1.2851440356594652, 'x2': 1.570916454794103}, result=4.495865821838379, best_f=4.496010780334473, steps_to_best_f=2, peak_memory=49471488, runtime_ms=5.022430181503296)\n",
      "ExperimentResult(model='Conservative BoBn', step=14, restart=1, candidate={'x5': 0.9962455476398631, 'x1': 2.203414989942794, 'x4': 1.1142397794668608, 'x3': 1.2851759411540797, 'x2': 1.570915697094495}, result=4.495833873748779, best_f=4.496010780334473, steps_to_best_f=2, peak_memory=49780736, runtime_ms=4.21571159362793)\n",
      "ExperimentResult(model='Conservative BoBn', step=15, restart=1, candidate={'x5': 0.9962488511358594, 'x1': 2.2034140209279554, 'x4': 1.1142386030435414, 'x3': 1.2851753877008052, 'x2': 1.570914930641506}, result=4.495950698852539, best_f=4.496010780334473, steps_to_best_f=2, peak_memory=50080768, runtime_ms=3.9390246868133545)\n",
      "ExperimentResult(model='Conservative BoBn', step=16, restart=1, candidate={'x5': 0.9962524558182194, 'x1': 2.2035465433652535, 'x4': 1.1142362503768342, 'x3': 1.2851752430037395, 'x2': 1.5709142422393119}, result=4.49581241607666, best_f=4.496010780334473, steps_to_best_f=2, peak_memory=50380800, runtime_ms=6.308676719665527)\n",
      "ExperimentResult(model='Conservative BoBn', step=17, restart=1, candidate={'x5': 0.9962561782225242, 'x1': 2.203411211078753, 'x4': 1.1142333784715914, 'x3': 1.2851750915216602, 'x2': 1.570913172739146}, result=4.495819568634033, best_f=4.496010780334473, steps_to_best_f=2, peak_memory=50690048, runtime_ms=5.290606498718262)\n",
      "ExperimentResult(model='Conservative BoBn', step=18, restart=1, candidate={'x5': 0.9962598445701341, 'x1': 2.203549481201637, 'x4': 1.1142312704560482, 'x3': 1.2851433724952246, 'x2': 1.5709128119710165}, result=4.495790481567383, best_f=4.496010780334473, steps_to_best_f=2, peak_memory=50999296, runtime_ms=2.6532881259918213)\n",
      "ExperimentResult(model='Conservative BoBn', step=19, restart=1, candidate={'x5': 0.9962632980634917, 'x1': 2.203405077603524, 'x4': 1.1142282842982663, 'x3': 1.2851746631904646, 'x2': 1.57091199995246}, result=4.495837688446045, best_f=4.496010780334473, steps_to_best_f=2, peak_memory=51299328, runtime_ms=7.760392427444458)\n",
      "ExperimentResult(model='Conservative BoBn', step=20, restart=1, candidate={'x5': 0.9962667711560618, 'x1': 2.2034004774622447, 'x4': 1.1143695852716664, 'x3': 1.2851745398629384, 'x2': 1.570911228351923}, result=4.49592399597168, best_f=4.496010780334473, steps_to_best_f=2, peak_memory=51610112, runtime_ms=3.9714725017547607)\n",
      "ExperimentResult(model='Conservative BoBn', step=21, restart=1, candidate={'x5': 0.9962704987796615, 'x1': 2.2033968213150725, 'x4': 1.1142235753587795, 'x3': 1.2851743422935613, 'x2': 1.5709104760188886}, result=4.495759010314941, best_f=4.496010780334473, steps_to_best_f=2, peak_memory=51910144, runtime_ms=4.542017698287964)\n",
      "ExperimentResult(model='Conservative BoBn', step=22, restart=1, candidate={'x5': 0.9962740451514214, 'x1': 2.2033930805641515, 'x4': 1.1142209569848835, 'x3': 1.285174187692756, 'x2': 1.5709097991654197}, result=4.495811939239502, best_f=4.496010780334473, steps_to_best_f=2, peak_memory=52219392, runtime_ms=3.4948930740356445)\n",
      "ExperimentResult(model='Conservative BoBn', step=23, restart=1, candidate={'x5': 0.9962773910413568, 'x1': 2.203386022365437, 'x4': 1.1142185083049303, 'x3': 1.2851739935682724, 'x2': 1.5709091322774797}, result=4.4958271980285645, best_f=4.496010780334473, steps_to_best_f=2, peak_memory=52528640, runtime_ms=8.229910373687744)\n",
      "ExperimentResult(model='Conservative BoBn', step=24, restart=1, candidate={'x5': 0.9962807637257068, 'x1': 2.203544998944344, 'x4': 1.1142121358045687, 'x3': 1.2851738352346793, 'x2': 1.5709084480135325}, result=4.495713710784912, best_f=4.496010780334473, steps_to_best_f=2, peak_memory=52828672, runtime_ms=4.264328241348267)\n",
      "ExperimentResult(model='Conservative BoBn', step=25, restart=1, candidate={'x5': 0.9962841777135496, 'x1': 2.203386625997077, 'x4': 1.1142135139325409, 'x3': 1.285173642065662, 'x2': 1.570908833689744}, result=4.495762348175049, best_f=4.496010780334473, steps_to_best_f=2, peak_memory=53137920, runtime_ms=4.359386205673218)\n",
      "ExperimentResult(model='Conservative BoBn', step=26, restart=1, candidate={'x5': 0.9962877888249166, 'x1': 2.203544580620247, 'x4': 1.1142112220096212, 'x3': 1.2851734983217884, 'x2': 1.5709096252056147}, result=4.49595832824707, best_f=4.496010780334473, steps_to_best_f=2, peak_memory=53447168, runtime_ms=5.6876513957977295)\n",
      "ExperimentResult(model='Conservative BoBn', step=27, restart=1, candidate={'x5': 0.9962911569138103, 'x1': 2.2035437694842117, 'x4': 1.1142086304846959, 'x3': 1.2851732426861673, 'x2': 1.5709061633705705}, result=4.495808124542236, best_f=4.496010780334473, steps_to_best_f=2, peak_memory=53756416, runtime_ms=4.609806060791016)\n",
      "ExperimentResult(model='Conservative BoBn', step=28, restart=1, candidate={'x5': 0.9962945393287724, 'x1': 2.20354363830522, 'x4': 1.1142062602722043, 'x3': 1.2851730821594491, 'x2': 1.570931249139331}, result=4.495814323425293, best_f=4.496010780334473, steps_to_best_f=2, peak_memory=54065664, runtime_ms=4.451769113540649)\n",
      "ExperimentResult(model='Conservative BoBn', step=29, restart=1, candidate={'x5': 0.9962977919712958, 'x1': 2.203542672520114, 'x4': 1.1142038783645711, 'x3': 1.2851729464499337, 'x2': 1.5709052798884329}, result=4.495896816253662, best_f=4.496010780334473, steps_to_best_f=2, peak_memory=54374912, runtime_ms=4.187443494796753)\n",
      "ExperimentResult(model='Conservative BoBn', step=30, restart=1, candidate={'x5': 0.996301164129214, 'x1': 2.203542168213782, 'x4': 1.1142014638859148, 'x3': 1.2851727758678275, 'x2': 1.5709044165241959}, result=4.495643138885498, best_f=4.496010780334473, steps_to_best_f=2, peak_memory=56781312, runtime_ms=4.2249839305877686)\n",
      "ExperimentResult(model='Conservative BoBn', step=31, restart=1, candidate={'x5': 0.9963068968853492, 'x1': 2.2033796499538054, 'x4': 1.1141992374194303, 'x3': 1.2851726151191605, 'x2': 1.5709031877353357}, result=4.495944976806641, best_f=4.496010780334473, steps_to_best_f=2, peak_memory=56926720, runtime_ms=3.694221258163452)\n",
      "ExperimentResult(model='Conservative BoBn', step=32, restart=1, candidate={'x5': 0.9963077590556351, 'x1': 2.203540789365905, 'x4': 1.1141968342459134, 'x3': 1.285141621724417, 'x2': 1.5709031108667453}, result=4.495753765106201, best_f=4.496010780334473, steps_to_best_f=2, peak_memory=57063424, runtime_ms=3.9296648502349854)\n",
      "ExperimentResult(model='Conservative BoBn', step=33, restart=1, candidate={'x5': 0.9963109510913655, 'x1': 2.2035412585053415, 'x4': 1.114194459347765, 'x3': 1.2851414497942177, 'x2': 1.5709229453251037}, result=4.495798110961914, best_f=4.496010780334473, steps_to_best_f=2, peak_memory=57230848, runtime_ms=3.9826595783233643)\n",
      "ExperimentResult(model='Conservative BoBn', step=34, restart=1, candidate={'x5': 0.9963141473783046, 'x1': 2.2035385037989696, 'x4': 1.1141922025184867, 'x3': 1.2851412936539295, 'x2': 1.5709017326126846}, result=4.495855331420898, best_f=4.496010780334473, steps_to_best_f=2, peak_memory=57376256, runtime_ms=4.90688681602478)\n",
      "ExperimentResult(model='Conservative BoBn', step=35, restart=1, candidate={'x5': 0.9963172697546663, 'x1': 2.2033774210910533, 'x4': 1.1141898275644682, 'x3': 1.2851411335176215, 'x2': 1.5709011725431417}, result=4.495814323425293, best_f=4.496010780334473, steps_to_best_f=2, peak_memory=57521664, runtime_ms=5.673166275024414)\n",
      "ExperimentResult(model='Conservative BoBn', step=36, restart=1, candidate={'x5': 0.9963195341605874, 'x1': 2.203370986683769, 'x4': 1.1141875479406302, 'x3': 1.2851410039735531, 'x2': 1.57090051986987}, result=4.495841026306152, best_f=4.496010780334473, steps_to_best_f=2, peak_memory=57667072, runtime_ms=6.105658292770386)\n",
      "ExperimentResult(model='Conservative BoBn', step=37, restart=1, candidate={'x5': 0.9963234941820196, 'x1': 2.203537563963055, 'x4': 1.1141852253304216, 'x3': 1.285140900416437, 'x2': 1.5708998280865951}, result=4.495994567871094, best_f=4.496010780334473, steps_to_best_f=2, peak_memory=57812480, runtime_ms=6.517768144607544)\n",
      "ExperimentResult(model='Conservative BoBn', step=38, restart=1, candidate={'x5': 0.99632688348265, 'x1': 2.203367429990921, 'x4': 1.1141830230112317, 'x3': 1.2851409651778718, 'x2': 1.570899326360735}, result=4.495927333831787, best_f=4.496010780334473, steps_to_best_f=2, peak_memory=57957888, runtime_ms=3.9162814617156982)\n",
      "ExperimentResult(model='Conservative BoBn', step=39, restart=1, candidate={'x5': 0.9963297313293673, 'x1': 2.2033641509414554, 'x4': 1.1141805262278852, 'x3': 1.2851711616790435, 'x2': 1.5708987208055762}, result=4.495891094207764, best_f=4.496010780334473, steps_to_best_f=2, peak_memory=58103296, runtime_ms=5.103111267089844)\n",
      "ExperimentResult(model='Conservative BoBn', step=40, restart=1, candidate={'x5': 0.9963328288453426, 'x1': 2.2035351433907904, 'x4': 1.114314984374738, 'x3': 1.2851709062411412, 'x2': 1.5708981196087537}, result=4.495785236358643, best_f=4.496010780334473, steps_to_best_f=2, peak_memory=58248704, runtime_ms=5.334615230560303)\n",
      "ExperimentResult(model='Conservative BoBn', step=41, restart=1, candidate={'x5': 0.9963358984963958, 'x1': 2.2033644077938837, 'x4': 1.114176319754535, 'x3': 1.2851707123229625, 'x2': 1.570896656318002}, result=4.495876789093018, best_f=4.496010780334473, steps_to_best_f=2, peak_memory=58403328, runtime_ms=4.334803581237793)\n",
      "ExperimentResult(model='Conservative BoBn', step=42, restart=1, candidate={'x5': 0.9963387561016545, 'x1': 2.2035338704632874, 'x4': 1.1141746565140156, 'x3': 1.2851402713741584, 'x2': 1.5708969829351007}, result=4.4958577156066895, best_f=4.496010780334473, steps_to_best_f=2, peak_memory=58548736, runtime_ms=6.24130916595459)\n",
      "ExperimentResult(model='Conservative BoBn', step=43, restart=1, candidate={'x5': 0.9963417027321346, 'x1': 2.2033561629755334, 'x4': 1.1141722498235296, 'x3': 1.2851400188049389, 'x2': 1.570895881502775}, result=4.4958271980285645, best_f=4.496010780334473, steps_to_best_f=2, peak_memory=58726912, runtime_ms=5.291215896606445)\n",
      "ExperimentResult(model='Conservative BoBn', step=44, restart=1, candidate={'x5': 0.996344764116278, 'x1': 2.203352670063752, 'x4': 1.1141701443485634, 'x3': 1.285170307395962, 'x2': 1.5708951847955335}, result=4.495935916900635, best_f=4.496010780334473, steps_to_best_f=2, peak_memory=59045376, runtime_ms=5.252033948898315)\n",
      "ExperimentResult(model='Conservative BoBn', step=45, restart=1, candidate={'x5': 0.9963474762853032, 'x1': 2.203532313502665, 'x4': 1.1141677847485978, 'x3': 1.2851700914409214, 'x2': 1.570895271408125}, result=4.495804309844971, best_f=4.496010780334473, steps_to_best_f=2, peak_memory=59356160, runtime_ms=5.089073181152344)\n",
      "ExperimentResult(model='Conservative BoBn', step=46, restart=1, candidate={'x5': 0.996350317803704, 'x1': 2.203530917701803, 'x4': 1.1141656059066676, 'x3': 1.2851396279137242, 'x2': 1.5708942859664698}, result=4.495887756347656, best_f=4.496010780334473, steps_to_best_f=2, peak_memory=59674624, runtime_ms=4.627669334411621)\n",
      "ExperimentResult(model='Conservative BoBn', step=47, restart=1, candidate={'x5': 0.9963531705603698, 'x1': 2.203530094832293, 'x4': 1.114163586508344, 'x3': 1.2851697488209592, 'x2': 1.5708942058217101}, result=4.495793342590332, best_f=4.496010780334473, steps_to_best_f=2, peak_memory=59983872, runtime_ms=4.040839433670044)\n",
      "ExperimentResult(model='Conservative BoBn', step=48, restart=1, candidate={'x5': 0.9963560849193911, 'x1': 2.2035295292412105, 'x4': 1.1141613222958977, 'x3': 1.2851395238250929, 'x2': 1.5708935287974037}, result=4.495821475982666, best_f=4.496010780334473, steps_to_best_f=2, peak_memory=60293120, runtime_ms=4.968295574188232)\n",
      "ExperimentResult(model='Conservative BoBn', step=49, restart=1, candidate={'x5': 0.9963587218251034, 'x1': 2.2035220692719593, 'x4': 1.1141594449349959, 'x3': 1.2851392699846846, 'x2': 1.5708932339595212}, result=4.4958930015563965, best_f=4.496010780334473, steps_to_best_f=2, peak_memory=60611584, runtime_ms=5.246577978134155)\n",
      "ExperimentResult(model='Conservative BoBn', step=50, restart=1, candidate={'x5': 0.9963614730248174, 'x1': 2.2035285209182405, 'x4': 1.1141571830764436, 'x3': 1.2851691772994704, 'x2': 1.570892441912657}, result=4.495826244354248, best_f=4.496010780334473, steps_to_best_f=2, peak_memory=60930048, runtime_ms=4.209721803665161)\n",
      "ExperimentResult(model='Conservative BoBn', step=51, restart=1, candidate={'x5': 0.9963642228614153, 'x1': 2.203336703484672, 'x4': 1.114155167389253, 'x3': 1.2851389466152838, 'x2': 1.5708912945666227}, result=4.495722770690918, best_f=4.496010780334473, steps_to_best_f=2, peak_memory=61239296, runtime_ms=3.8331873416900635)\n",
      "ExperimentResult(model='Conservative BoBn', step=52, restart=1, candidate={'x5': 0.9963670608755639, 'x1': 2.2035269880144583, 'x4': 1.1141530623806861, 'x3': 1.2851387469024314, 'x2': 1.5708913895148298}, result=4.495975017547607, best_f=4.496010780334473, steps_to_best_f=2, peak_memory=63556608, runtime_ms=5.407020568847656)\n",
      "ExperimentResult(model='Conservative BoBn', step=53, restart=1, candidate={'x5': 0.9963696927037641, 'x1': 2.203526183458881, 'x4': 1.1142828493798311, 'x3': 1.2851387675487664, 'x2': 1.5708908130708477}, result=4.495846748352051, best_f=4.496010780334473, steps_to_best_f=2, peak_memory=63718400, runtime_ms=9.092011451721191)\n",
      "ExperimentResult(model='Conservative BoBn', step=54, restart=1, candidate={'x5': 0.9963722496494923, 'x1': 2.2035251625400565, 'x4': 1.1141491382848232, 'x3': 1.285138430546719, 'x2': 1.570890709494116}, result=4.495735168457031, best_f=4.496010780334473, steps_to_best_f=2, peak_memory=63889408, runtime_ms=3.6036953926086426)\n",
      "ExperimentResult(model='Conservative BoBn', step=55, restart=1, candidate={'x5': 0.9963747569289619, 'x1': 2.203327945299043, 'x4': 1.1141470916123322, 'x3': 1.2851682570899372, 'x2': 1.570889689833611}, result=4.495869159698486, best_f=4.496010780334473, steps_to_best_f=2, peak_memory=64060416, runtime_ms=5.94598126411438)\n",
      "ExperimentResult(model='Conservative BoBn', step=56, restart=1, candidate={'x5': 0.9963773641857401, 'x1': 2.2033260245024406, 'x4': 1.1141450867491334, 'x3': 1.2851381893915004, 'x2': 1.570889278608235}, result=4.495914936065674, best_f=4.496010780334473, steps_to_best_f=2, peak_memory=64222208, runtime_ms=3.7816572189331055)\n",
      "ExperimentResult(model='Conservative BoBn', step=57, restart=1, candidate={'x5': 0.9963798333457443, 'x1': 2.203324342463963, 'x4': 1.1141430287253955, 'x3': 1.28516786500095, 'x2': 1.57088868275017}, result=4.495974540710449, best_f=4.496010780334473, steps_to_best_f=2, peak_memory=64393216, runtime_ms=6.586449384689331)\n",
      "ExperimentResult(model='Conservative BoBn', step=58, restart=1, candidate={'x5': 0.996382322719333, 'x1': 2.203521501621609, 'x4': 1.1141409083809157, 'x3': 1.2851677125466514, 'x2': 1.570888170633507}, result=4.495875835418701, best_f=4.496010780334473, steps_to_best_f=2, peak_memory=64565760, runtime_ms=6.40726375579834)\n",
      "ExperimentResult(model='Conservative BoBn', step=59, restart=1, candidate={'x5': 0.9963850629039989, 'x1': 2.20352056263477, 'x4': 1.1141391348976741, 'x3': 1.2851674361950551, 'x2': 1.5708878759511014}, result=4.4959211349487305, best_f=4.496010780334473, steps_to_best_f=2, peak_memory=64736768, runtime_ms=3.4481472969055176)\n",
      "ExperimentResult(model='Conservative BoBn', step=60, restart=1, candidate={'x5': 0.9963873906524807, 'x1': 2.2033608971484004, 'x4': 1.1141374371468473, 'x3': 1.2851674317236337, 'x2': 1.5708873903166773}, result=4.495849609375, best_f=4.496010780334473, steps_to_best_f=2, peak_memory=65874432, runtime_ms=4.783421516418457)\n",
      "ExperimentResult(model='Conservative BoBn', step=61, restart=1, candidate={'x5': 0.9963885271629931, 'x1': 2.2035193885964666, 'x4': 1.1141327267016061, 'x3': 1.2851672113568318, 'x2': 1.5708866376418202}, result=4.495846748352051, best_f=4.496010780334473, steps_to_best_f=2, peak_memory=65955328, runtime_ms=5.1330461502075195)\n",
      "ExperimentResult(model='Conservative BoBn', step=62, restart=1, candidate={'x5': 0.9963922170502116, 'x1': 2.203338557030099, 'x4': 1.1141332480645358, 'x3': 1.285167105520832, 'x2': 1.5708862331542717}, result=4.495821952819824, best_f=4.496010780334473, steps_to_best_f=2, peak_memory=66036224, runtime_ms=6.477331876754761)\n",
      "ExperimentResult(model='Conservative BoBn', step=63, restart=1, candidate={'x5': 0.9963945115380697, 'x1': 2.2033132149999046, 'x4': 1.1141311648178536, 'x3': 1.2851668443816098, 'x2': 1.5708856966975857}, result=4.495960235595703, best_f=4.496010780334473, steps_to_best_f=2, peak_memory=66117120, runtime_ms=5.970606803894043)\n",
      "ExperimentResult(model='Conservative BoBn', step=64, restart=1, candidate={'x5': 0.9963969671853324, 'x1': 2.2033194408456183, 'x4': 1.1141293474376037, 'x3': 1.2851666841410343, 'x2': 1.5708852163384608}, result=4.496031284332275, best_f=4.496031284332275, steps_to_best_f=64, peak_memory=66188800, runtime_ms=8.386875629425049)\n",
      "ExperimentResult(model='Conservative BoBn', step=65, restart=1, candidate={'x5': 0.9963992576468226, 'x1': 2.203515013516074, 'x4': 1.1141274521077151, 'x3': 1.2851665245976738, 'x2': 1.5709058269508063}, result=4.495903491973877, best_f=4.496031284332275, steps_to_best_f=64, peak_memory=66278912, runtime_ms=4.788763999938965)\n",
      "ExperimentResult(model='Conservative BoBn', step=66, restart=1, candidate={'x5': 0.9964017157745666, 'x1': 2.203514526335217, 'x4': 1.1141254698049443, 'x3': 1.285166377514363, 'x2': 1.5708842692892069}, result=4.495879650115967, best_f=4.496031284332275, steps_to_best_f=64, peak_memory=66425344, runtime_ms=4.931573152542114)\n",
      "ExperimentResult(model='Conservative BoBn', step=67, restart=1, candidate={'x5': 0.996403687228423, 'x1': 2.203305390347651, 'x4': 1.1141234857276165, 'x3': 1.2851364145874125, 'x2': 1.570883865389615}, result=4.495720863342285, best_f=4.496031284332275, steps_to_best_f=64, peak_memory=66653696, runtime_ms=6.074436902999878)\n",
      "ExperimentResult(model='Conservative BoBn', step=68, restart=1, candidate={'x5': 0.9964059319876002, 'x1': 2.2033575330347097, 'x4': 1.1141216726355636, 'x3': 1.285166023714761, 'x2': 1.5708833455846511}, result=4.495900630950928, best_f=4.496031284332275, steps_to_best_f=64, peak_memory=66882048, runtime_ms=4.1224329471588135)\n",
      "ExperimentResult(model='Conservative BoBn', step=69, restart=1, candidate={'x5': 0.996405010239435, 'x1': 2.2033019172183046, 'x4': 1.1141198413738103, 'x3': 1.2851657650464412, 'x2': 1.5708828330667772}, result=4.495853424072266, best_f=4.496031284332275, steps_to_best_f=64, peak_memory=67110400, runtime_ms=5.59745717048645)\n",
      "ExperimentResult(model='Conservative BoBn', step=70, restart=1, candidate={'x5': 0.996410241789858, 'x1': 2.203298919753835, 'x4': 1.1141178541298091, 'x3': 1.2851657092649411, 'x2': 1.570900631130619}, result=4.495960712432861, best_f=4.496031284332275, steps_to_best_f=64, peak_memory=67338752, runtime_ms=6.400842666625977)\n",
      "ExperimentResult(model='Conservative BoBn', step=71, restart=1, candidate={'x5': 0.9964124165517992, 'x1': 2.2035087124889254, 'x4': 1.1141161691188313, 'x3': 1.2851655391607297, 'x2': 1.5708818872868977}, result=4.495889663696289, best_f=4.496031284332275, steps_to_best_f=64, peak_memory=67593216, runtime_ms=4.0003275871276855)\n",
      "ExperimentResult(model='Conservative BoBn', step=72, restart=1, candidate={'x5': 0.9964144605430507, 'x1': 2.2035080808070995, 'x4': 1.1141143103183355, 'x3': 1.2851655493395853, 'x2': 1.570881412905553}, result=4.495742321014404, best_f=4.496031284332275, steps_to_best_f=64, peak_memory=67911680, runtime_ms=5.220370531082153)\n",
      "ExperimentResult(model='Conservative BoBn', step=73, restart=1, candidate={'x5': 0.996416615995166, 'x1': 2.2035072143549628, 'x4': 1.1141123807218163, 'x3': 1.2851651742963257, 'x2': 1.5708817854719899}, result=4.49582052230835, best_f=4.496031284332275, steps_to_best_f=64, peak_memory=68239360, runtime_ms=9.435339450836182)\n",
      "ExperimentResult(model='Conservative BoBn', step=74, restart=1, candidate={'x5': 0.9964186455682474, 'x1': 2.2035068937841835, 'x4': 1.1141102069788034, 'x3': 1.285165116510069, 'x2': 1.5708804719425988}, result=4.495732307434082, best_f=4.496031284332275, steps_to_best_f=64, peak_memory=68557824, runtime_ms=4.8675618171691895)\n",
      "ExperimentResult(model='Conservative BoBn', step=75, restart=1, candidate={'x5': 0.9964209241519643, 'x1': 2.2035062218018897, 'x4': 1.1141087652959372, 'x3': 1.2851648441189225, 'x2': 1.5708800465576687}, result=4.4957756996154785, best_f=4.496031284332275, steps_to_best_f=64, peak_memory=68876288, runtime_ms=5.170219659805298)\n",
      "ExperimentResult(model='Conservative BoBn', step=76, restart=1, candidate={'x5': 0.9964228557685124, 'x1': 2.203506243679009, 'x4': 1.114107038411614, 'x3': 1.2851647107930317, 'x2': 1.570896669966738}, result=4.4959540367126465, best_f=4.496031284332275, steps_to_best_f=64, peak_memory=69203968, runtime_ms=5.826042890548706)\n",
      "ExperimentResult(model='Conservative BoBn', step=77, restart=1, candidate={'x5': 0.9964247829115946, 'x1': 2.2035052064581673, 'x4': 1.1141052705408185, 'x3': 1.285164457572821, 'x2': 1.5708960577628457}, result=4.495658874511719, best_f=4.496031284332275, steps_to_best_f=64, peak_memory=69522432, runtime_ms=6.494636297225952)\n",
      "ExperimentResult(model='Conservative BoBn', step=78, restart=1, candidate={'x5': 0.996426682735254, 'x1': 2.2032852589281675, 'x4': 1.1141034386139814, 'x3': 1.2851352776852818, 'x2': 1.5708954412476577}, result=4.496003150939941, best_f=4.496031284332275, steps_to_best_f=64, peak_memory=70898688, runtime_ms=5.894699335098267)\n",
      "ExperimentResult(model='Conservative BoBn', step=79, restart=1, candidate={'x5': 0.9964285604320473, 'x1': 2.2034938089663534, 'x4': 1.1141018862610355, 'x3': 1.285135070780247, 'x2': 1.5708935268970847}, result=4.495771884918213, best_f=4.496031284332275, steps_to_best_f=64, peak_memory=71151616, runtime_ms=6.435474395751953)\n",
      "ExperimentResult(model='Conservative BoBn', step=80, restart=1, candidate={'x5': 0.9964305676977288, 'x1': 2.203281125522729, 'x4': 1.114223010581247, 'x3': 1.2851640869773655, 'x2': 1.5708777892287173}, result=4.495882511138916, best_f=4.496031284332275, steps_to_best_f=64, peak_memory=71404544, runtime_ms=3.8368077278137207)\n",
      "ExperimentResult(model='Conservative BoBn', step=81, restart=1, candidate={'x5': 0.9964326350462204, 'x1': 2.203500694336781, 'x4': 1.1140985465349322, 'x3': 1.285163848994798, 'x2': 1.5708935995800768}, result=4.495880603790283, best_f=4.496031284332275, steps_to_best_f=64, peak_memory=71666688, runtime_ms=3.935262680053711)\n",
      "ExperimentResult(model='Conservative BoBn', step=82, restart=1, candidate={'x5': 0.9964343189067387, 'x1': 2.203430385379823, 'x4': 1.1142191726802253, 'x3': 1.2851636665857595, 'x2': 1.5708769343895956}, result=4.495818138122559, best_f=4.496031284332275, steps_to_best_f=64, peak_memory=72911872, runtime_ms=4.212209701538086)\n",
      "ExperimentResult(model='Conservative BoBn', step=83, restart=1, candidate={'x5': 0.9964361662483747, 'x1': 2.2034993613427223, 'x4': 1.114217536662738, 'x3': 1.2851634637727667, 'x2': 1.570892090406853}, result=4.495720386505127, best_f=4.496031284332275, steps_to_best_f=64, peak_memory=73082880, runtime_ms=4.750005483627319)\n",
      "ExperimentResult(model='Conservative BoBn', step=84, restart=1, candidate={'x5': 0.9964378234522385, 'x1': 2.203499093024668, 'x4': 1.1142157103651236, 'x3': 1.285134396384294, 'x2': 1.5708917857975704}, result=4.495870590209961, best_f=4.496031284332275, steps_to_best_f=64, peak_memory=73264640, runtime_ms=4.385592699050903)\n",
      "ExperimentResult(model='Conservative BoBn', step=85, restart=1, candidate={'x5': 0.9964399331337436, 'x1': 2.203499558189184, 'x4': 1.1142140993375997, 'x3': 1.2851631530551657, 'x2': 1.5708757701614002}, result=4.4959235191345215, best_f=4.496031284332275, steps_to_best_f=64, peak_memory=73435648, runtime_ms=10.649327516555786)\n",
      "ExperimentResult(model='Conservative BoBn', step=86, restart=1, candidate={'x5': 0.996441444722323, 'x1': 2.203268890565829, 'x4': 1.1140909115432907, 'x3': 1.2851341342713278, 'x2': 1.5708753953632928}, result=4.495847225189209, best_f=4.496031284332275, steps_to_best_f=64, peak_memory=73615872, runtime_ms=4.598001480102539)\n",
      "ExperimentResult(model='Conservative BoBn', step=87, restart=1, candidate={'x5': 0.9964432705273907, 'x1': 2.2034960823525296, 'x4': 1.1140893648811834, 'x3': 1.2851339728575029, 'x2': 1.570890302396166}, result=4.495941638946533, best_f=4.496031284332275, steps_to_best_f=64, peak_memory=73796096, runtime_ms=4.498016595840454)\n",
      "ExperimentResult(model='Conservative BoBn', step=88, restart=1, candidate={'x5': 0.9964450269955448, 'x1': 2.2032633164373685, 'x4': 1.1142083383908032, 'x3': 1.2851338099194713, 'x2': 1.5708743710775341}, result=4.495676040649414, best_f=4.496031284332275, steps_to_best_f=64, peak_memory=73967104, runtime_ms=6.02508020401001)\n",
      "ExperimentResult(model='Conservative BoBn', step=89, restart=1, candidate={'x5': 0.9964464881571575, 'x1': 2.2032599869637397, 'x4': 1.1142066986756818, 'x3': 1.2851624964058992, 'x2': 1.5708726368860542}, result=4.495959758758545, best_f=4.496031284332275, steps_to_best_f=64, peak_memory=74147328, runtime_ms=3.6815731525421143)\n",
      "ExperimentResult(model='Conservative BoBn', step=90, restart=1, candidate={'x5': 0.9964488182327893, 'x1': 2.2034915769947836, 'x4': 1.114205210386678, 'x3': 1.2851333017789766, 'x2': 1.5708736486024149}, result=4.495702743530273, best_f=4.496031284332275, steps_to_best_f=64, peak_memory=74327552, runtime_ms=6.860374212265015)\n",
      "ExperimentResult(model='Conservative BoBn', step=91, restart=1, candidate={'x5': 0.9964502029374904, 'x1': 2.2034912013119645, 'x4': 1.1140833397556988, 'x3': 1.2851621708112504, 'x2': 1.5708732807243693}, result=4.496047496795654, best_f=4.496047496795654, steps_to_best_f=91, peak_memory=74507776, runtime_ms=4.378412961959839)\n",
      "ExperimentResult(model='Conservative BoBn', step=92, restart=1, candidate={'x5': 0.9964517686756776, 'x1': 2.2032530414148623, 'x4': 1.1140818243760586, 'x3': 1.2851620406103048, 'x2': 1.5708728475232674}, result=4.4958720207214355, best_f=4.496047496795654, steps_to_best_f=91, peak_memory=74688000, runtime_ms=5.878464221954346)\n",
      "ExperimentResult(model='Conservative BoBn', step=93, restart=1, candidate={'x5': 0.9964533055217446, 'x1': 2.2032505508024216, 'x4': 1.1140800547798426, 'x3': 1.2851331521415958, 'x2': 1.5708878763302256}, result=4.49574089050293, best_f=4.496047496795654, steps_to_best_f=91, peak_memory=74868224, runtime_ms=4.832508563995361)\n",
      "ExperimentResult(model='Conservative BoBn', step=94, restart=1, candidate={'x5': 0.9964550166234273, 'x1': 2.2032480727681127, 'x4': 1.11407871226473, 'x3': 1.285133012526742, 'x2': 1.5708867947094256}, result=4.496030807495117, best_f=4.496047496795654, steps_to_best_f=91, peak_memory=75048448, runtime_ms=6.117839813232422)\n",
      "ExperimentResult(model='Conservative BoBn', step=95, restart=1, candidate={'x5': 0.9964566915461612, 'x1': 2.2032457765773437, 'x4': 1.1141955064743931, 'x3': 1.285132793923675, 'x2': 1.5708718582714016}, result=4.495751857757568, best_f=4.496047496795654, steps_to_best_f=91, peak_memory=75376128, runtime_ms=5.8661158084869385)\n",
      "ExperimentResult(model='Conservative BoBn', step=96, restart=1, candidate={'x5': 0.9964582801145118, 'x1': 2.203243591165131, 'x4': 1.1140754453122845, 'x3': 1.2851613037856948, 'x2': 1.5708867219242078}, result=4.495903968811035, best_f=4.496047496795654, steps_to_best_f=91, peak_memory=77726720, runtime_ms=4.841936826705933)\n",
      "ExperimentResult(model='Conservative BoBn', step=97, restart=1, candidate={'x5': 0.9964597331335023, 'x1': 2.203241328973794, 'x4': 1.1140739380027238, 'x3': 1.2851611625260022, 'x2': 1.5708868679967602}, result=4.495826721191406, best_f=4.496047496795654, steps_to_best_f=91, peak_memory=78035456, runtime_ms=3.956907033920288)\n",
      "ExperimentResult(model='Conservative BoBn', step=98, restart=1, candidate={'x5': 0.9964612197657403, 'x1': 2.2032409335706853, 'x4': 1.1140724327980525, 'x3': 1.2851610408542955, 'x2': 1.5708860872489734}, result=4.496044158935547, best_f=4.496047496795654, steps_to_best_f=91, peak_memory=78322176, runtime_ms=6.036079168319702)\n",
      "ExperimentResult(model='Conservative BoBn', step=99, restart=1, candidate={'x5': 0.9964627624070107, 'x1': 2.203239110873671, 'x4': 1.114058744300439, 'x3': 1.285132355695721, 'x2': 1.570870158681853}, result=4.495849132537842, best_f=4.496047496795654, steps_to_best_f=91, peak_memory=78608896, runtime_ms=5.78847861289978)\n",
      "ExperimentResult(model='Conservative BoBn', step=100, restart=1, candidate={'x5': 0.996464251456918, 'x1': 2.2034747747092256, 'x4': 1.1141862882074118, 'x3': 1.2851321976593202, 'x2': 1.5708697312064734}, result=4.495855808258057, best_f=4.496047496795654, steps_to_best_f=91, peak_memory=77842944, runtime_ms=4.536718130111694)\n",
      "ExperimentResult(model='Conservative BoBn', step=101, restart=1, candidate={'x5': 0.9964657950249033, 'x1': 2.20347425939927, 'x4': 1.1140562288262608, 'x3': 1.2851320283473782, 'x2': 1.5708694963417111}, result=4.495858192443848, best_f=4.496047496795654, steps_to_best_f=91, peak_memory=78125568, runtime_ms=4.588083028793335)\n",
      "ExperimentResult(model='Conservative BoBn', step=102, restart=1, candidate={'x5': 0.9964671894244677, 'x1': 2.2034736230964658, 'x4': 1.1140662987607408, 'x3': 1.2851318606904714, 'x2': 1.57088636340025}, result=4.495925426483154, best_f=4.496047496795654, steps_to_best_f=91, peak_memory=78408192, runtime_ms=8.500563621520996)\n",
      "ExperimentResult(model='Conservative BoBn', step=103, restart=1, candidate={'x5': 0.9964686386853416, 'x1': 2.203231186339942, 'x4': 1.114064770179867, 'x3': 1.2851315986931424, 'x2': 1.5708686466418174}, result=4.495988845825195, best_f=4.496047496795654, steps_to_best_f=91, peak_memory=78690816, runtime_ms=4.163450002670288)\n",
      "ExperimentResult(model='Conservative BoBn', step=104, restart=1, candidate={'x5': 0.9964700924423546, 'x1': 2.2032278887705257, 'x4': 1.1140632705153406, 'x3': 1.2851316153088252, 'x2': 1.5708840668570818}, result=4.495877742767334, best_f=4.496047496795654, steps_to_best_f=91, peak_memory=78973440, runtime_ms=5.718704462051392)\n",
      "ExperimentResult(model='Conservative BoBn', step=105, restart=1, candidate={'x5': 0.9964713502614516, 'x1': 2.203224398536668, 'x4': 1.1141773815387266, 'x3': 1.2851314362960211, 'x2': 1.5708653932879253}, result=4.495784282684326, best_f=4.496047496795654, steps_to_best_f=91, peak_memory=79265280, runtime_ms=6.385443210601807)\n",
      "ExperimentResult(model='Conservative BoBn', step=106, restart=1, candidate={'x5': 0.9964727254274869, 'x1': 2.203466876297159, 'x4': 1.1140603929422233, 'x3': 1.285131355689871, 'x2': 1.5708675872815374}, result=4.495865821838379, best_f=4.496047496795654, steps_to_best_f=91, peak_memory=79547904, runtime_ms=2.897919178009033)\n",
      "ExperimentResult(model='Conservative BoBn', step=107, restart=1, candidate={'x5': 0.9964741102400314, 'x1': 2.203466371455027, 'x4': 1.114058813132373, 'x3': 1.2851311978336937, 'x2': 1.5708831025376886}, result=4.495864391326904, best_f=4.496047496795654, steps_to_best_f=91, peak_memory=79830528, runtime_ms=5.782686471939087)\n",
      "ExperimentResult(model='Conservative BoBn', step=108, restart=1, candidate={'x5': 0.9964756768455839, 'x1': 2.2034658032675662, 'x4': 1.1140574281752158, 'x3': 1.285131026967267, 'x2': 1.5708668817773415}, result=4.495986461639404, best_f=4.496047496795654, steps_to_best_f=91, peak_memory=80122368, runtime_ms=4.173098802566528)\n",
      "ExperimentResult(model='Conservative BoBn', step=109, restart=1, candidate={'x5': 0.9964768476130254, 'x1': 2.203465402986188, 'x4': 1.114170207386955, 'x3': 1.2851308173942186, 'x2': 1.5708665522958807}, result=4.496022701263428, best_f=4.496047496795654, steps_to_best_f=91, peak_memory=81397760, runtime_ms=4.800680875778198)\n",
      "ExperimentResult(model='Conservative BoBn', step=110, restart=1, candidate={'x5': 0.9964783896679695, 'x1': 2.2034647359828865, 'x4': 1.1141688877161258, 'x3': 1.285130832288367, 'x2': 1.5708654321068376}, result=4.495891571044922, best_f=4.496047496795654, steps_to_best_f=91, peak_memory=81615872, runtime_ms=5.703603506088257)\n",
      "ExperimentResult(model='Conservative BoBn', step=111, restart=1, candidate={'x5': 0.9964794391718016, 'x1': 2.2034640192470434, 'x4': 1.1141674498927532, 'x3': 1.2851305744349475, 'x2': 1.5708818780265397}, result=4.495987892150879, best_f=4.496047496795654, steps_to_best_f=91, peak_memory=81824768, runtime_ms=4.073779106140137)\n",
      "ExperimentResult(model='Conservative BoBn', step=112, restart=1, candidate={'x5': 0.9964806860518143, 'x1': 2.2034637670577917, 'x4': 1.1140423503362686, 'x3': 1.285130386014908, 'x2': 1.5708654846484824}, result=4.49587869644165, best_f=4.496047496795654, steps_to_best_f=91, peak_memory=82033664, runtime_ms=4.221316814422607)\n",
      "ExperimentResult(model='Conservative BoBn', step=113, restart=1, candidate={'x5': 0.9964818718926048, 'x1': 2.203207438198767, 'x4': 1.114050732803878, 'x3': 1.2851303336894324, 'x2': 1.5708808095725248}, result=4.496064186096191, best_f=4.496064186096191, steps_to_best_f=113, peak_memory=83259392, runtime_ms=5.781396865844727)\n",
      "ExperimentResult(model='Conservative BoBn', step=114, restart=1, candidate={'x5': 0.9964831324822291, 'x1': 2.203460174932843, 'x4': 1.114049139824373, 'x3': 1.2851582289593189, 'x2': 1.5708648104115732}, result=4.495948791503906, best_f=4.496064186096191, steps_to_best_f=113, peak_memory=83420160, runtime_ms=5.933467388153076)\n",
      "ExperimentResult(model='Conservative BoBn', step=115, restart=1, candidate={'x5': 0.9964841860158005, 'x1': 2.2034600834628066, 'x4': 1.114047995886794, 'x3': 1.2851302262225415, 'x2': 1.570864461026478}, result=4.4958906173706055, best_f=4.496064186096191, steps_to_best_f=113, peak_memory=83571712, runtime_ms=6.318372488021851)\n",
      "ExperimentResult(model='Conservative BoBn', step=116, restart=1, candidate={'x5': 0.9964844901257831, 'x1': 2.2032026764519945, 'x4': 1.1140464450945444, 'x3': 1.2851298166131984, 'x2': 1.57086409056555}, result=4.495865345001221, best_f=4.496064186096191, steps_to_best_f=113, peak_memory=83732480, runtime_ms=6.242951154708862)\n",
      "ExperimentResult(model='Conservative BoBn', step=117, restart=1, candidate={'x5': 0.9964868270656059, 'x1': 2.2034572246302058, 'x4': 1.1140450035921594, 'x3': 1.2851297892525664, 'x2': 1.5708637330950006}, result=4.495845317840576, best_f=4.496064186096191, steps_to_best_f=113, peak_memory=83884032, runtime_ms=6.361672878265381)\n",
      "ExperimentResult(model='Conservative BoBn', step=118, restart=1, candidate={'x5': 0.9964880014245632, 'x1': 2.203455500560296, 'x4': 1.1140433004533847, 'x3': 1.2851296936893717, 'x2': 1.5708634239153283}, result=4.495815277099609, best_f=4.496064186096191, steps_to_best_f=113, peak_memory=84044800, runtime_ms=4.841269493103027)\n",
      "ExperimentResult(model='Conservative BoBn', step=119, restart=1, candidate={'x5': 0.9964891675674059, 'x1': 2.2034560974343496, 'x4': 1.1140420787476635, 'x3': 1.2851295358177715, 'x2': 1.5708893788142195}, result=4.496012210845947, best_f=4.496064186096191, steps_to_best_f=113, peak_memory=83582976, runtime_ms=7.6175477504730225)\n",
      "ExperimentResult(model='Conservative BoBn', step=120, restart=1, candidate={'x5': 0.996490699895451, 'x1': 2.2034553894120976, 'x4': 1.1140408258026862, 'x3': 1.285129382038724, 'x2': 1.5708895474327373}, result=4.495792388916016, best_f=4.496064186096191, steps_to_best_f=113, peak_memory=83836928, runtime_ms=5.8991334438323975)\n",
      "ExperimentResult(model='Conservative BoBn', step=121, restart=1, candidate={'x5': 0.996491533461226, 'x1': 2.2034534155401087, 'x4': 1.1140394127117685, 'x3': 1.2851292033030324, 'x2': 1.5708880887607308}, result=4.495879173278809, best_f=4.496064186096191, steps_to_best_f=113, peak_memory=84100096, runtime_ms=6.406678676605225)\n",
      "ExperimentResult(model='Conservative BoBn', step=122, restart=1, candidate={'x5': 0.9964926260425943, 'x1': 2.203454419255821, 'x4': 1.114038161159675, 'x3': 1.285129127434069, 'x2': 1.5708620696585927}, result=4.495879650115967, best_f=4.496064186096191, steps_to_best_f=113, peak_memory=84364800, runtime_ms=9.804928064346313)\n",
      "ExperimentResult(model='Conservative BoBn', step=123, restart=1, candidate={'x5': 0.9964937818967808, 'x1': 2.2034539934499806, 'x4': 1.1140368418924673, 'x3': 1.2851289661752547, 'x2': 1.5708612610289667}, result=4.495992183685303, best_f=4.496064186096191, steps_to_best_f=113, peak_memory=85103104, runtime_ms=4.366759538650513)\n",
      "ExperimentResult(model='Conservative BoBn', step=124, restart=1, candidate={'x5': 0.9964947939305298, 'x1': 2.203453183526414, 'x4': 1.114035194468704, 'x3': 1.2851288071174762, 'x2': 1.5708615301459332}, result=4.495844841003418, best_f=4.496064186096191, steps_to_best_f=113, peak_memory=85382656, runtime_ms=8.732754468917847)\n",
      "ExperimentResult(model='Conservative BoBn', step=125, restart=1, candidate={'x5': 0.9964959471482037, 'x1': 2.203453747303303, 'x4': 1.1140340316218453, 'x3': 1.2851564122641137, 'x2': 1.5708813903759515}, result=4.495745658874512, best_f=4.496064186096191, steps_to_best_f=113, peak_memory=85662208, runtime_ms=2.9848177433013916)\n",
      "ExperimentResult(model='Conservative BoBn', step=126, restart=1, candidate={'x5': 0.9964970281044097, 'x1': 2.2031912054895604, 'x4': 1.1140286383748552, 'x3': 1.2851562714155764, 'x2': 1.5708607717023015}, result=4.495876312255859, best_f=4.496064186096191, steps_to_best_f=113, peak_memory=85941760, runtime_ms=6.954941749572754)\n",
      "ExperimentResult(model='Conservative BoBn', step=127, restart=1, candidate={'x5': 0.9964980367018422, 'x1': 2.203188457672869, 'x4': 1.1140311690342002, 'x3': 1.285156154229309, 'x2': 1.5708604519804286}, result=4.495809078216553, best_f=4.496064186096191, steps_to_best_f=113, peak_memory=86221312, runtime_ms=3.3906965255737305)\n",
      "ExperimentResult(model='Conservative BoBn', step=128, restart=1, candidate={'x5': 0.9964991993983718, 'x1': 2.203186454936774, 'x4': 1.1140299609561073, 'x3': 1.2851559889954676, 'x2': 1.570860143726825}, result=4.4960246086120605, best_f=4.496064186096191, steps_to_best_f=113, peak_memory=86491648, runtime_ms=3.124990224838257)\n",
      "ExperimentResult(model='Conservative BoBn', step=129, restart=1, candidate={'x5': 0.996500106312831, 'x1': 2.203441956616986, 'x4': 1.1140285618879322, 'x3': 1.2851281639877745, 'x2': 1.5708600627567624}, result=4.496028423309326, best_f=4.496064186096191, steps_to_best_f=113, peak_memory=86780416, runtime_ms=4.850639343261719)\n",
      "ExperimentResult(model='Conservative BoBn', step=130, restart=1, candidate={'x5': 0.9965009396506489, 'x1': 2.203183428004015, 'x4': 1.1140272267753972, 'x3': 1.285128038249567, 'x2': 1.5708590240773528}, result=4.495899677276611, best_f=4.496064186096191, steps_to_best_f=113, peak_memory=87059968, runtime_ms=5.74936842918396)\n",
      "ExperimentResult(model='Conservative BoBn', step=131, restart=1, candidate={'x5': 0.9965023087938347, 'x1': 2.2031815385069478, 'x4': 1.1140259184509975, 'x3': 1.2851278700187092, 'x2': 1.5708858839714595}, result=4.4958953857421875, best_f=4.496064186096191, steps_to_best_f=113, peak_memory=87364096, runtime_ms=8.950058460235596)\n",
      "ExperimentResult(model='Conservative BoBn', step=132, restart=1, candidate={'x5': 0.9965031418009744, 'x1': 2.2031804438119096, 'x4': 1.1140246102462952, 'x3': 1.2851278185465171, 'x2': 1.57085887276114}, result=4.495882511138916, best_f=4.496064186096191, steps_to_best_f=113, peak_memory=87700992, runtime_ms=4.78334379196167)\n",
      "ExperimentResult(model='Conservative BoBn', step=133, restart=1, candidate={'x5': 0.9965042462143205, 'x1': 2.203193458752723, 'x4': 1.1140233947110436, 'x3': 1.2851551943602193, 'x2': 1.5708587890002366}, result=4.495846271514893, best_f=4.496064186096191, steps_to_best_f=113, peak_memory=88037888, runtime_ms=6.251349925994873)\n",
      "ExperimentResult(model='Conservative BoBn', step=134, restart=1, candidate={'x5': 0.9965050919419889, 'x1': 2.2031752978611254, 'x4': 1.1140220091166742, 'x3': 1.2851274716078214, 'x2': 1.570858355395352}, result=4.496039390563965, best_f=4.496064186096191, steps_to_best_f=113, peak_memory=88374784, runtime_ms=4.62404203414917)\n",
      "ExperimentResult(model='Conservative BoBn', step=135, restart=1, candidate={'x5': 0.9965061166981017, 'x1': 2.2034320630521482, 'x4': 1.1140209007738104, 'x3': 1.2851547353698523, 'x2': 1.570882753870405}, result=4.495905876159668, best_f=4.496064186096191, steps_to_best_f=113, peak_memory=88713216, runtime_ms=5.470945596694946)\n",
      "ExperimentResult(model='Conservative BoBn', step=136, restart=1, candidate={'x5': 0.9965070524057319, 'x1': 2.203173049849023, 'x4': 1.1140102957465856, 'x3': 1.285127206342245, 'x2': 1.5708826171583568}, result=4.495785713195801, best_f=4.496064186096191, steps_to_best_f=113, peak_memory=89050112, runtime_ms=9.793318510055542)\n",
      "ExperimentResult(model='Conservative BoBn', step=137, restart=1, candidate={'x5': 0.9965079656877739, 'x1': 2.20317106990566, 'x4': 1.1140181896782144, 'x3': 1.285127078272113, 'x2': 1.5708574801655002}, result=4.495784759521484, best_f=4.496064186096191, steps_to_best_f=113, peak_memory=89396224, runtime_ms=4.757318019866943)\n",
      "ExperimentResult(model='Conservative BoBn', step=138, restart=1, candidate={'x5': 0.9965089904810985, 'x1': 2.2031822039002877, 'x4': 1.1141205115250976, 'x3': 1.285126940305372, 'x2': 1.5708755819962472}, result=4.495752811431885, best_f=4.496064186096191, steps_to_best_f=113, peak_memory=89733120, runtime_ms=4.025349855422974)\n",
      "ExperimentResult(model='Conservative BoBn', step=139, restart=1, candidate={'x5': 0.9965097105926612, 'x1': 2.203168855002388, 'x4': 1.114016421222369, 'x3': 1.2851268515422827, 'x2': 1.5708569674230455}, result=4.496032238006592, best_f=4.496064186096191, steps_to_best_f=113, peak_memory=90070016, runtime_ms=5.02939510345459)\n",
      "ExperimentResult(model='Conservative BoBn', step=140, restart=1, candidate={'x5': 0.9965107099149478, 'x1': 2.2031651789347455, 'x4': 1.1140147215992264, 'x3': 1.2851540739618228, 'x2': 1.5708822541429908}, result=4.496067523956299, best_f=4.496067523956299, steps_to_best_f=140, peak_memory=90416128, runtime_ms=7.061161756515503)\n",
      "ExperimentResult(model='Conservative BoBn', step=141, restart=1, candidate={'x5': 0.9965115904239473, 'x1': 2.20341905903515, 'x4': 1.1139860551121792, 'x3': 1.2851265331563506, 'x2': 1.5708563732844543}, result=4.495742321014404, best_f=4.496067523956299, steps_to_best_f=140, peak_memory=90753024, runtime_ms=3.0488641262054443)\n",
      "ExperimentResult(model='Conservative BoBn', step=142, restart=1, candidate={'x5': 0.9965125640707533, 'x1': 2.203162881284189, 'x4': 1.1140120878227875, 'x3': 1.2851264353889154, 'x2': 1.5708561516414237}, result=4.495914936065674, best_f=4.496067523956299, steps_to_best_f=140, peak_memory=91099136, runtime_ms=5.301947593688965)\n",
      "ExperimentResult(model='Conservative BoBn', step=143, restart=1, candidate={'x5': 0.9965132782396118, 'x1': 2.2034160329905697, 'x4': 1.114115299419924, 'x3': 1.2851263023208415, 'x2': 1.5708802910686182}, result=4.495881080627441, best_f=4.496067523956299, steps_to_best_f=140, peak_memory=91436032, runtime_ms=4.085762977600098)\n",
      "ExperimentResult(model='Conservative BoBn', step=144, restart=1, candidate={'x5': 0.9965142233367108, 'x1': 2.2034153765016127, 'x4': 1.114111140666603, 'x3': 1.2851534033567302, 'x2': 1.5708798554533054}, result=4.495835304260254, best_f=4.496067523956299, steps_to_best_f=140, peak_memory=91772928, runtime_ms=4.577829360961914)\n",
      "ExperimentResult(model='Conservative BoBn', step=145, restart=1, candidate={'x5': 0.9965151232585627, 'x1': 2.2031578032481223, 'x4': 1.114008829262819, 'x3': 1.2851260675384166, 'x2': 1.5708549807346264}, result=4.49599552154541, best_f=4.496067523956299, steps_to_best_f=140, peak_memory=92119040, runtime_ms=7.175092935562134)\n",
      "ExperimentResult(model='Conservative BoBn', step=146, restart=1, candidate={'x5': 0.996516000263994, 'x1': 2.2031710037756973, 'x4': 1.114111570197074, 'x3': 1.2851259015956686, 'x2': 1.5708556607347435}, result=4.496004104614258, best_f=4.496067523956299, steps_to_best_f=140, peak_memory=92465152, runtime_ms=6.9850287437438965)\n",
      "ExperimentResult(model='Conservative BoBn', step=147, restart=1, candidate={'x5': 0.9965168399452498, 'x1': 2.203155073408955, 'x4': 1.1140066772356616, 'x3': 1.2851257617536418, 'x2': 1.5708802103305894}, result=4.4959940910339355, best_f=4.496067523956299, steps_to_best_f=140, peak_memory=92802048, runtime_ms=8.537654876708984)\n",
      "ExperimentResult(model='Conservative BoBn', step=148, restart=1, candidate={'x5': 0.9965177042825546, 'x1': 2.203406982364701, 'x4': 1.1140050989616255, 'x3': 1.285125639720326, 'x2': 1.5708604087468874}, result=4.496005058288574, best_f=4.496067523956299, steps_to_best_f=140, peak_memory=93149696, runtime_ms=4.8171234130859375)\n",
      "ExperimentResult(model='Conservative BoBn', step=149, restart=1, candidate={'x5': 0.9965184902913948, 'x1': 2.203150787224554, 'x4': 1.1141071527937914, 'x3': 1.2851255641417907, 'x2': 1.5708794493990463}, result=4.495849132537842, best_f=4.496067523956299, steps_to_best_f=140, peak_memory=93486592, runtime_ms=9.32384181022644)\n",
      "restart_id=2/3\n",
      "ExperimentResult(model='Conservative BoBn', step=0, restart=2, candidate={'x5': 0.9965192318500462, 'x1': 2.2031487255871762, 'x4': 1.1141057733958966, 'x3': 1.285152515873851, 'x2': 1.570853711191249}, result=4.495940208435059, best_f=4.495940208435059, steps_to_best_f=0, peak_memory=93832704, runtime_ms=6.378175973892212)\n",
      "ExperimentResult(model='Conservative BoBn', step=1, restart=2, candidate={'x5': 0.9965200022524082, 'x1': 2.2034013912745603, 'x4': 1.1141051630621273, 'x3': 1.2851523502433588, 'x2': 1.5708790586533372}, result=4.495676040649414, best_f=4.495940208435059, steps_to_best_f=0, peak_memory=94178816, runtime_ms=5.973101377487183)\n",
      "ExperimentResult(model='Conservative BoBn', step=2, restart=2, candidate={'x5': 0.9965208930405243, 'x1': 2.2034008608362403, 'x4': 1.1140012873620926, 'x3': 1.2851251540050879, 'x2': 1.5708533064208239}, result=4.49574089050293, best_f=4.495940208435059, steps_to_best_f=0, peak_memory=95560192, runtime_ms=5.111272096633911)\n",
      "ExperimentResult(model='Conservative BoBn', step=3, restart=2, candidate={'x5': 0.9965215937666685, 'x1': 2.203397823570092, 'x4': 1.1140000499349976, 'x3': 1.285153187021911, 'x2': 1.5708528743811419}, result=4.495916843414307, best_f=4.495940208435059, steps_to_best_f=0, peak_memory=95869440, runtime_ms=5.483471155166626)\n",
      "ExperimentResult(model='Conservative BoBn', step=4, restart=2, candidate={'x5': 0.9965224700167785, 'x1': 2.2033979546781284, 'x4': 1.1139989397156351, 'x3': 1.2851249062365202, 'x2': 1.5708779930568957}, result=4.495672225952148, best_f=4.495940208435059, steps_to_best_f=0, peak_memory=96178688, runtime_ms=5.957987308502197)\n",
      "ExperimentResult(model='Conservative BoBn', step=5, restart=2, candidate={'x5': 0.9965233987059942, 'x1': 2.2033991115243894, 'x4': 1.113998923198146, 'x3': 1.2851515153037885, 'x2': 1.5708774471384457}, result=4.496025085449219, best_f=4.496025085449219, steps_to_best_f=5, peak_memory=96487936, runtime_ms=7.600742816925049)\n",
      "ExperimentResult(model='Conservative BoBn', step=6, restart=2, candidate={'x5': 0.9965239402479671, 'x1': 2.203398599877123, 'x4': 1.1139966797256051, 'x3': 1.2851515024099844, 'x2': 1.5708766673471797}, result=4.495785236358643, best_f=4.496025085449219, steps_to_best_f=5, peak_memory=96797184, runtime_ms=5.6497673988342285)\n",
      "ExperimentResult(model='Conservative BoBn', step=7, restart=2, candidate={'x5': 0.9965246276900313, 'x1': 2.2033982358816484, 'x4': 1.1139957984270055, 'x3': 1.2851245630416561, 'x2': 1.5708518231078268}, result=4.495862007141113, best_f=4.496025085449219, steps_to_best_f=5, peak_memory=97106432, runtime_ms=4.350957632064819)\n",
      "ExperimentResult(model='Conservative BoBn', step=8, restart=2, candidate={'x5': 0.9965253532816217, 'x1': 2.2033979369040577, 'x4': 1.1139945537266502, 'x3': 1.2851510718157797, 'x2': 1.5708767706993718}, result=4.4958086013793945, best_f=4.496025085449219, steps_to_best_f=5, peak_memory=98464256, runtime_ms=6.083369731903076)\n",
      "ExperimentResult(model='Conservative BoBn', step=9, restart=2, candidate={'x5': 0.9965262737228491, 'x1': 2.203140575574028, 'x4': 1.1139838788533156, 'x3': 1.2851510192751838, 'x2': 1.5708764190923872}, result=4.495824337005615, best_f=4.496025085449219, steps_to_best_f=5, peak_memory=98724352, runtime_ms=5.000833034515381)\n",
      "ExperimentResult(model='Conservative BoBn', step=10, restart=2, candidate={'x5': 0.996526846415451, 'x1': 2.20314162762905, 'x4': 1.1139922409435317, 'x3': 1.2851241197301932, 'x2': 1.5708761249691834}, result=4.495744705200195, best_f=4.496025085449219, steps_to_best_f=5, peak_memory=98975744, runtime_ms=5.078280687332153)\n",
      "ExperimentResult(model='Conservative BoBn', step=11, restart=2, candidate={'x5': 0.996527564578869, 'x1': 2.203392212270304, 'x4': 1.1139910224570866, 'x3': 1.285123613559537, 'x2': 1.5708757724909674}, result=4.495879650115967, best_f=4.496025085449219, steps_to_best_f=5, peak_memory=99257856, runtime_ms=6.082291603088379)\n",
      "ExperimentResult(model='Conservative BoBn', step=12, restart=2, candidate={'x5': 0.9965282305664035, 'x1': 2.2033913396910316, 'x4': 1.1139902085937325, 'x3': 1.2851243365216365, 'x2': 1.5708755010813629}, result=4.495860576629639, best_f=4.496025085449219, steps_to_best_f=5, peak_memory=99517952, runtime_ms=5.884012222290039)\n",
      "ExperimentResult(model='Conservative BoBn', step=13, restart=2, candidate={'x5': 0.9965289969908125, 'x1': 2.2031347842146793, 'x4': 1.1139888405243261, 'x3': 1.2851238171676618, 'x2': 1.5708752660475724}, result=4.495904445648193, best_f=4.496025085449219, steps_to_best_f=5, peak_memory=99778048, runtime_ms=7.116878271102905)\n",
      "ExperimentResult(model='Conservative BoBn', step=14, restart=2, candidate={'x5': 0.9965298046896871, 'x1': 2.2033880634734917, 'x4': 1.1139876921724319, 'x3': 1.2851503102470434, 'x2': 1.570850016554752}, result=4.495916843414307, best_f=4.496025085449219, steps_to_best_f=5, peak_memory=100038144, runtime_ms=6.514273405075073)\n",
      "ExperimentResult(model='Conservative BoBn', step=15, restart=2, candidate={'x5': 0.9965302837190135, 'x1': 2.203132672420725, 'x4': 1.1139895792646328, 'x3': 1.2851234820356352, 'x2': 1.5708747757544237}, result=4.495752334594727, best_f=4.496025085449219, steps_to_best_f=5, peak_memory=100298240, runtime_ms=5.965064525604248)\n",
      "ExperimentResult(model='Conservative BoBn', step=16, restart=2, candidate={'x5': 0.9965317015836127, 'x1': 2.2033827270423703, 'x4': 1.1139858157211502, 'x3': 1.2851233445847152, 'x2': 1.570849503900731}, result=4.49566650390625, best_f=4.496025085449219, steps_to_best_f=5, peak_memory=100558336, runtime_ms=7.680714130401611)\n",
      "ExperimentResult(model='Conservative BoBn', step=17, restart=2, candidate={'x5': 0.9965315797753319, 'x1': 2.203135631894146, 'x4': 1.1140831620123401, 'x3': 1.2851232795357506, 'x2': 1.5708493404672246}, result=4.495832443237305, best_f=4.496025085449219, steps_to_best_f=5, peak_memory=100818432, runtime_ms=5.186887741088867)\n",
      "ExperimentResult(model='Conservative BoBn', step=18, restart=2, candidate={'x5': 0.9965323301899766, 'x1': 2.2033815340858176, 'x4': 1.1140821565533034, 'x3': 1.2851231658142348, 'x2': 1.5708493574501425}, result=4.495971202850342, best_f=4.496025085449219, steps_to_best_f=5, peak_memory=101078528, runtime_ms=5.590212345123291)\n",
      "ExperimentResult(model='Conservative BoBn', step=19, restart=2, candidate={'x5': 0.9965330999444942, 'x1': 2.2033818892543455, 'x4': 1.1139827932163378, 'x3': 1.2851245441580248, 'x2': 1.570848829986419}, result=4.495901584625244, best_f=4.496025085449219, steps_to_best_f=5, peak_memory=101347840, runtime_ms=6.418217897415161)\n",
      "ExperimentResult(model='Conservative BoBn', step=20, restart=2, candidate={'x5': 0.9965340660723181, 'x1': 2.2033807799340708, 'x4': 1.1139870782323045, 'x3': 1.2851495633465202, 'x2': 1.5708735638863693}, result=4.4958930015563965, best_f=4.496025085449219, steps_to_best_f=5, peak_memory=101607936, runtime_ms=4.5919106006622314)\n",
      "ExperimentResult(model='Conservative BoBn', step=21, restart=2, candidate={'x5': 0.996534895055381, 'x1': 2.2033800590996377, 'x4': 1.1140784891549012, 'x3': 1.2851492505835937, 'x2': 1.5708732386589885}, result=4.49593448638916, best_f=4.496025085449219, steps_to_best_f=5, peak_memory=101868032, runtime_ms=5.2528417110443115)\n",
      "ExperimentResult(model='Conservative BoBn', step=22, restart=2, candidate={'x5': 0.9965347853372652, 'x1': 2.203379464164649, 'x4': 1.1139797763137347, 'x3': 1.2851226059355676, 'x2': 1.5708480548832313}, result=4.496005535125732, best_f=4.496025085449219, steps_to_best_f=5, peak_memory=102137344, runtime_ms=7.520853757858276)\n",
      "ExperimentResult(model='Conservative BoBn', step=23, restart=2, candidate={'x5': 0.996535628554695, 'x1': 2.2033782602195813, 'x4': 1.113978747407259, 'x3': 1.285122452746712, 'x2': 1.5708474098377023}, result=4.495778560638428, best_f=4.496025085449219, steps_to_best_f=5, peak_memory=102398976, runtime_ms=7.144826173782349)\n",
      "ExperimentResult(model='Conservative BoBn', step=24, restart=2, candidate={'x5': 0.9965360818389776, 'x1': 2.203125203767426, 'x4': 1.1139779032028263, 'x3': 1.2851223395599267, 'x2': 1.5708476192055436}, result=4.495935440063477, best_f=4.496025085449219, steps_to_best_f=5, peak_memory=102668288, runtime_ms=4.006441831588745)\n",
      "ExperimentResult(model='Conservative BoBn', step=25, restart=2, candidate={'x5': 0.9965369599491772, 'x1': 2.2031227047119724, 'x4': 1.1139765373912671, 'x3': 1.2851222055945446, 'x2': 1.5708473726777261}, result=4.495999813079834, best_f=4.496025085449219, steps_to_best_f=5, peak_memory=102928384, runtime_ms=5.021832704544067)\n",
      "ExperimentResult(model='Conservative BoBn', step=26, restart=2, candidate={'x5': 0.996537480252899, 'x1': 2.2031222558367434, 'x4': 1.1139755721159201, 'x3': 1.285122116152842, 'x2': 1.5708470875886122}, result=4.495985507965088, best_f=4.496025085449219, steps_to_best_f=5, peak_memory=103188480, runtime_ms=4.959251165390015)\n",
      "ExperimentResult(model='Conservative BoBn', step=27, restart=2, candidate={'x5': 0.996537858079585, 'x1': 2.2031197934480597, 'x4': 1.113974734723329, 'x3': 1.2851483988555907, 'x2': 1.5708469151141353}, result=4.495787143707275, best_f=4.496025085449219, steps_to_best_f=5, peak_memory=103457792, runtime_ms=7.597614765167236)\n",
      "ExperimentResult(model='Conservative BoBn', step=28, restart=2, candidate={'x5': 0.9965384441546511, 'x1': 2.20336260300998, 'x4': 1.1139736670804923, 'x3': 1.2851482440664248, 'x2': 1.5708465429431175}, result=4.49583625793457, best_f=4.496025085449219, steps_to_best_f=5, peak_memory=103727104, runtime_ms=5.5508201122283936)\n",
      "ExperimentResult(model='Conservative BoBn', step=29, restart=2, candidate={'x5': 0.9965389371143686, 'x1': 2.203366967091299, 'x4': 1.1139733643775276, 'x3': 1.2851480600573826, 'x2': 1.5708710916092745}, result=4.495928764343262, best_f=4.496025085449219, steps_to_best_f=5, peak_memory=103987200, runtime_ms=6.091622352600098)\n",
      "ExperimentResult(model='Conservative BoBn', step=30, restart=2, candidate={'x5': 0.9965394566387943, 'x1': 2.203365825690903, 'x4': 1.1140659684930576, 'x3': 1.2851479076269507, 'x2': 1.5708462355832642}, result=4.495920181274414, best_f=4.496025085449219, steps_to_best_f=5, peak_memory=104289280, runtime_ms=7.8627684116363525)\n",
      "ExperimentResult(model='Conservative BoBn', step=31, restart=2, candidate={'x5': 0.9965400654356077, 'x1': 2.2033629376085115, 'x4': 1.11397078129385, 'x3': 1.2851477542228171, 'x2': 1.570841376557599}, result=4.495988368988037, best_f=4.496025085449219, steps_to_best_f=5, peak_memory=104623104, runtime_ms=7.042271375656128)\n",
      "ExperimentResult(model='Conservative BoBn', step=32, restart=2, candidate={'x5': 0.9965406741647121, 'x1': 2.2031236357937276, 'x4': 1.1139740021291715, 'x3': 1.2851217091854192, 'x2': 1.570845768522615}, result=4.495846271514893, best_f=4.496025085449219, steps_to_best_f=5, peak_memory=104978432, runtime_ms=5.75720739364624)\n",
      "ExperimentResult(model='Conservative BoBn', step=33, restart=2, candidate={'x5': 0.9965408952405568, 'x1': 2.2031468330453476, 'x4': 1.1139689021174572, 'x3': 1.2851216277760185, 'x2': 1.5708455393778726}, result=4.495805740356445, best_f=4.496025085449219, steps_to_best_f=5, peak_memory=105333760, runtime_ms=5.786441326141357)\n",
      "ExperimentResult(model='Conservative BoBn', step=34, restart=2, candidate={'x5': 0.9965418580420544, 'x1': 2.203359903082148, 'x4': 1.1140627969903538, 'x3': 1.2851211147788906, 'x2': 1.5708455398998495}, result=4.495804309844971, best_f=4.496025085449219, steps_to_best_f=5, peak_memory=105679872, runtime_ms=5.928705930709839)\n",
      "ExperimentResult(model='Conservative BoBn', step=35, restart=2, candidate={'x5': 0.996542490857834, 'x1': 2.20335997508728, 'x4': 1.1139670923016218, 'x3': 1.2851209065965734, 'x2': 1.5708451565082158}, result=4.495797157287598, best_f=4.496025085449219, steps_to_best_f=5, peak_memory=106035200, runtime_ms=6.69556450843811)\n",
      "ExperimentResult(model='Conservative BoBn', step=36, restart=2, candidate={'x5': 0.9965432742678548, 'x1': 2.203359291789046, 'x4': 1.1139661232972937, 'x3': 1.2851208453149552, 'x2': 1.5708448844130039}, result=4.495907783508301, best_f=4.496025085449219, steps_to_best_f=5, peak_memory=107407872, runtime_ms=7.8724048137664795)\n",
      "ExperimentResult(model='Conservative BoBn', step=37, restart=2, candidate={'x5': 0.996542943603242, 'x1': 2.2031112230629186, 'x4': 1.113965262935845, 'x3': 1.2851207263835511, 'x2': 1.5708446193408676}, result=4.495763301849365, best_f=4.496025085449219, steps_to_best_f=5, peak_memory=107705856, runtime_ms=8.250395774841309)\n",
      "ExperimentResult(model='Conservative BoBn', step=38, restart=2, candidate={'x5': 0.9965437923393283, 'x1': 2.203356032778882, 'x4': 1.1139641459989584, 'x3': 1.2851205297315544, 'x2': 1.5708465411393453}, result=4.496039867401123, best_f=4.496039867401123, steps_to_best_f=38, peak_memory=108003840, runtime_ms=5.835489273071289)\n",
      "ExperimentResult(model='Conservative BoBn', step=39, restart=2, candidate={'x5': 0.9965445505321096, 'x1': 2.203355389498132, 'x4': 1.1139616864330062, 'x3': 1.2851206669266155, 'x2': 1.5708684836098046}, result=4.4958367347717285, best_f=4.496039867401123, steps_to_best_f=38, peak_memory=108301824, runtime_ms=4.5756049156188965)\n",
      "ExperimentResult(model='Conservative BoBn', step=40, restart=2, candidate={'x5': 0.9965451187405379, 'x1': 2.203107841886688, 'x4': 1.1139623610212448, 'x3': 1.2851202301065123, 'x2': 1.5708439520609623}, result=4.495932102203369, best_f=4.496039867401123, steps_to_best_f=38, peak_memory=108599808, runtime_ms=9.737772464752197)\n",
      "ExperimentResult(model='Conservative BoBn', step=41, restart=2, candidate={'x5': 0.9965467033342004, 'x1': 2.2033535262640727, 'x4': 1.113961470911639, 'x3': 1.2851201738016906, 'x2': 1.5708438612340778}, result=4.495974540710449, best_f=4.496039867401123, steps_to_best_f=38, peak_memory=109946368, runtime_ms=4.943479537963867)\n",
      "ExperimentResult(model='Conservative BoBn', step=42, restart=2, candidate={'x5': 0.9965462140797376, 'x1': 2.2033519135851605, 'x4': 1.113960448753273, 'x3': 1.2851200027313463, 'x2': 1.5708436558838124}, result=4.495739936828613, best_f=4.496039867401123, steps_to_best_f=38, peak_memory=110202368, runtime_ms=5.409342288970947)\n",
      "ExperimentResult(model='Conservative BoBn', step=43, restart=2, candidate={'x5': 0.9965465163993728, 'x1': 2.2031051510489372, 'x4': 1.1139601185074746, 'x3': 1.2851199480500153, 'x2': 1.5708668398041883}, result=4.495938301086426, best_f=4.496039867401123, steps_to_best_f=38, peak_memory=110476800, runtime_ms=5.64809513092041)\n",
      "ExperimentResult(model='Conservative BoBn', step=44, restart=2, candidate={'x5': 0.9965471838579147, 'x1': 2.203103595670233, 'x4': 1.1140499098687908, 'x3': 1.2851198821087295, 'x2': 1.5708671565689623}, result=4.49574089050293, best_f=4.496039867401123, steps_to_best_f=38, peak_memory=110742016, runtime_ms=10.585331678390503)\n",
      "ExperimentResult(model='Conservative BoBn', step=45, restart=2, candidate={'x5': 0.9965476711097394, 'x1': 2.2033459698288276, 'x4': 1.1139579176248129, 'x3': 1.285119612213606, 'x2': 1.5708434991839437}, result=4.496071815490723, best_f=4.496071815490723, steps_to_best_f=45, peak_memory=111007232, runtime_ms=7.607688665390015)\n",
      "ExperimentResult(model='Conservative BoBn', step=46, restart=2, candidate={'x5': 0.9965481061301699, 'x1': 2.203345480888154, 'x4': 1.1139548074005576, 'x3': 1.285119495222797, 'x2': 1.5708428425037912}, result=4.496014595031738, best_f=4.496071815490723, steps_to_best_f=45, peak_memory=111272448, runtime_ms=6.641785383224487)\n",
      "ExperimentResult(model='Conservative BoBn', step=47, restart=2, candidate={'x5': 0.9965485687916364, 'x1': 2.2033448749010534, 'x4': 1.1139560252520735, 'x3': 1.2851193997763715, 'x2': 1.5708425598550648}, result=4.49594783782959, best_f=4.496071815490723, steps_to_best_f=45, peak_memory=111922688, runtime_ms=8.851141452789307)\n",
      "ExperimentResult(model='Conservative BoBn', step=48, restart=2, candidate={'x5': 0.9965490640861915, 'x1': 2.2033442012553057, 'x4': 1.1139545486529119, 'x3': 1.285119303570054, 'x2': 1.570865686091898}, result=4.495872974395752, best_f=4.496071815490723, steps_to_best_f=45, peak_memory=112130560, runtime_ms=6.395884990692139)\n",
      "ExperimentResult(model='Conservative BoBn', step=49, restart=2, candidate={'x5': 0.9965496119297957, 'x1': 2.2033437043912842, 'x4': 1.1140424187706082, 'x3': 1.2851459427860452, 'x2': 1.5708654464264837}, result=4.495895862579346, best_f=4.496071815490723, steps_to_best_f=45, peak_memory=112339968, runtime_ms=7.394845008850098)\n",
      "ExperimentResult(model='Conservative BoBn', step=50, restart=2, candidate={'x5': 0.9965504143537853, 'x1': 2.2031000747152976, 'x4': 1.1139534856247986, 'x3': 1.2851457334350822, 'x2': 1.5708418299507088}, result=4.495804786682129, best_f=4.496071815490723, steps_to_best_f=45, peak_memory=112547840, runtime_ms=8.618651866912842)\n",
      "ExperimentResult(model='Conservative BoBn', step=51, restart=2, candidate={'x5': 0.9965506778792582, 'x1': 2.203098737937075, 'x4': 1.113952595557818, 'x3': 1.2851456468602704, 'x2': 1.570841723833344}, result=4.49590539932251, best_f=4.496071815490723, steps_to_best_f=45, peak_memory=112764928, runtime_ms=5.79404091835022)\n",
      "ExperimentResult(model='Conservative BoBn', step=52, restart=2, candidate={'x5': 0.9965510557656587, 'x1': 2.2030980746783695, 'x4': 1.1139517417718654, 'x3': 1.2851187836255782, 'x2': 1.5708416112858605}, result=4.495812892913818, best_f=4.496071815490723, steps_to_best_f=45, peak_memory=112972800, runtime_ms=9.33277153968811)\n",
      "ExperimentResult(model='Conservative BoBn', step=53, restart=2, candidate={'x5': 0.996552054415546, 'x1': 2.2030965271296385, 'x4': 1.1139511872515595, 'x3': 1.2851186390856653, 'x2': 1.570841001349248}, result=4.495682716369629, best_f=4.496071815490723, steps_to_best_f=45, peak_memory=113282560, runtime_ms=6.214029312133789)\n",
      "ExperimentResult(model='Conservative BoBn', step=54, restart=2, candidate={'x5': 0.9965519869716002, 'x1': 2.203094973008011, 'x4': 1.1139504824581026, 'x3': 1.2851186199940055, 'x2': 1.5708647211884625}, result=4.495963096618652, best_f=4.496071815490723, steps_to_best_f=45, peak_memory=115966976, runtime_ms=11.26447081565857)\n",
      "ExperimentResult(model='Conservative BoBn', step=55, restart=2, candidate={'x5': 0.9965522844445659, 'x1': 2.2033296037103898, 'x4': 1.1139488090315481, 'x3': 1.2851184995114489, 'x2': 1.570840709319029}, result=4.496029853820801, best_f=4.496071815490723, steps_to_best_f=45, peak_memory=116003840, runtime_ms=5.566269397735596)\n",
      "ExperimentResult(model='Conservative BoBn', step=56, restart=2, candidate={'x5': 0.9965529985397512, 'x1': 2.2033294541482396, 'x4': 1.1139392961416257, 'x3': 1.2851184335702202, 'x2': 1.5708406483347488}, result=4.496002197265625, best_f=4.496071815490723, steps_to_best_f=45, peak_memory=118408192, runtime_ms=7.393837213516235)\n",
      "ExperimentResult(model='Conservative BoBn', step=57, restart=2, candidate={'x5': 0.9965531620556272, 'x1': 2.203328667916814, 'x4': 1.113947371952273, 'x3': 1.2851183878457297, 'x2': 1.5708639613130497}, result=4.4959821701049805, best_f=4.496071815490723, steps_to_best_f=45, peak_memory=119560192, runtime_ms=7.141864538192749)\n",
      "ExperimentResult(model='Conservative BoBn', step=58, restart=2, candidate={'x5': 0.9965536255969969, 'x1': 2.2030928465669275, 'x4': 1.1140340355141685, 'x3': 1.2851183715827608, 'x2': 1.5708402523010798}, result=4.4959635734558105, best_f=4.496071815490723, steps_to_best_f=45, peak_memory=119502336, runtime_ms=6.3202807903289795)\n",
      "ExperimentResult(model='Conservative BoBn', step=59, restart=2, candidate={'x5': 0.996554055395787, 'x1': 2.203091897175513, 'x4': 1.113945579931842, 'x3': 1.285118513150551, 'x2': 1.5708383007443698}, result=4.495844841003418, best_f=4.496071815490723, steps_to_best_f=45, peak_memory=118308352, runtime_ms=7.194375276565552)\n",
      "ExperimentResult(model='Conservative BoBn', step=60, restart=2, candidate={'x5': 0.9965544444156158, 'x1': 2.2030907922009266, 'x4': 1.113944809910199, 'x3': 1.2851194874253893, 'x2': 1.5708623212525437}, result=4.495854377746582, best_f=4.496071815490723, steps_to_best_f=45, peak_memory=119830016, runtime_ms=7.217341184616089)\n",
      "ExperimentResult(model='Conservative BoBn', step=61, restart=2, candidate={'x5': 0.996554884381802, 'x1': 2.2033210616561045, 'x4': 1.1139440866120445, 'x3': 1.2851432745502944, 'x2': 1.5708340247855799}, result=4.495696067810059, best_f=4.496071815490723, steps_to_best_f=45, peak_memory=120377856, runtime_ms=5.610994100570679)\n",
      "ExperimentResult(model='Conservative BoBn', step=62, restart=2, candidate={'x5': 0.9965552410784791, 'x1': 2.2033202919536996, 'x4': 1.1139432136255514, 'x3': 1.2851438264904957, 'x2': 1.5708582938780242}, result=4.495999813079834, best_f=4.496071815490723, steps_to_best_f=45, peak_memory=120884224, runtime_ms=6.454592704772949)\n",
      "ExperimentResult(model='Conservative BoBn', step=63, restart=2, candidate={'x5': 0.9965556360713237, 'x1': 2.203319601238315, 'x4': 1.1139423068473013, 'x3': 1.2851185660409905, 'x2': 1.5708389483084133}, result=4.495853900909424, best_f=4.496071815490723, steps_to_best_f=45, peak_memory=119327744, runtime_ms=5.989726543426514)\n",
      "ExperimentResult(model='Conservative BoBn', step=64, restart=2, candidate={'x5': 0.9965560612309204, 'x1': 2.2033185997634237, 'x4': 1.1139415207228667, 'x3': 1.2851178748282561, 'x2': 1.5708609057305158}, result=4.495763778686523, best_f=4.496071815490723, steps_to_best_f=45, peak_memory=121479168, runtime_ms=8.206275701522827)\n",
      "ExperimentResult(model='Conservative BoBn', step=65, restart=2, candidate={'x5': 0.996556594672269, 'x1': 2.203318448994196, 'x4': 1.1139407219481166, 'x3': 1.285117583919802, 'x2': 1.5708388910376747}, result=4.495974540710449, best_f=4.496071815490723, steps_to_best_f=45, peak_memory=120562176, runtime_ms=12.807206392288208)\n",
      "ExperimentResult(model='Conservative BoBn', step=66, restart=2, candidate={'x5': 0.9965569635082029, 'x1': 2.2033178422739126, 'x4': 1.113939589464576, 'x3': 1.2851173327469674, 'x2': 1.5708387209472403}, result=4.495955944061279, best_f=4.496071815490723, steps_to_best_f=45, peak_memory=121582080, runtime_ms=4.687080383300781)\n",
      "ExperimentResult(model='Conservative BoBn', step=67, restart=2, candidate={'x5': 0.9965573854564668, 'x1': 2.2033172887506525, 'x4': 1.1139392342928884, 'x3': 1.2851171084492956, 'x2': 1.5708384025196287}, result=4.4957275390625, best_f=4.496071815490723, steps_to_best_f=45, peak_memory=120666112, runtime_ms=6.57673978805542)\n",
      "ExperimentResult(model='Conservative BoBn', step=68, restart=2, candidate={'x5': 0.9965577994352917, 'x1': 2.2033166819415544, 'x4': 1.1139384805627606, 'x3': 1.2851170494001336, 'x2': 1.5708383019162149}, result=4.4958271980285645, best_f=4.496071815490723, steps_to_best_f=45, peak_memory=123069440, runtime_ms=5.743540048599243)\n",
      "ExperimentResult(model='Conservative BoBn', step=69, restart=2, candidate={'x5': 0.9965580521391646, 'x1': 2.203316025792914, 'x4': 1.1139375178738422, 'x3': 1.2851168641900896, 'x2': 1.5708568907263665}, result=4.495773792266846, best_f=4.496071815490723, steps_to_best_f=45, peak_memory=122237440, runtime_ms=6.1344239711761475)\n",
      "ExperimentResult(model='Conservative BoBn', step=70, restart=2, candidate={'x5': 0.996558870853022, 'x1': 2.2033154530328685, 'x4': 1.113936849837145, 'x3': 1.2851167002307804, 'x2': 1.5708378318024026}, result=4.495914459228516, best_f=4.496071815490723, steps_to_best_f=45, peak_memory=121546752, runtime_ms=4.586076021194458)\n",
      "ExperimentResult(model='Conservative BoBn', step=71, restart=2, candidate={'x5': 0.9965590486376876, 'x1': 2.2030898051395305, 'x4': 1.1139360754495082, 'x3': 1.2851165184477842, 'x2': 1.5708371377128256}, result=4.496044158935547, best_f=4.496071815490723, steps_to_best_f=45, peak_memory=122115072, runtime_ms=3.344611883163452)\n",
      "ExperimentResult(model='Conservative BoBn', step=72, restart=2, candidate={'x5': 0.9965593306286352, 'x1': 2.2033123318964924, 'x4': 1.1139351354851024, 'x3': 1.2851164156623434, 'x2': 1.5708370563217615}, result=4.4958953857421875, best_f=4.496071815490723, steps_to_best_f=45, peak_memory=124156416, runtime_ms=7.723309516906738)\n",
      "ExperimentResult(model='Conservative BoBn', step=73, restart=2, candidate={'x5': 0.9965594475111794, 'x1': 2.20331137723697, 'x4': 1.1139344457721738, 'x3': 1.2851161248041774, 'x2': 1.5708373309852102}, result=4.49588680267334, best_f=4.496071815490723, steps_to_best_f=45, peak_memory=126960128, runtime_ms=6.922633171081543)\n",
      "ExperimentResult(model='Conservative BoBn', step=74, restart=2, candidate={'x5': 0.9965601268205893, 'x1': 2.2033107705331325, 'x4': 1.113933352667153, 'x3': 1.2851162005590977, 'x2': 1.5708599787076234}, result=4.496041297912598, best_f=4.496071815490723, steps_to_best_f=45, peak_memory=125925376, runtime_ms=5.88634467124939)\n",
      "ExperimentResult(model='Conservative BoBn', step=75, restart=2, candidate={'x5': 0.9965604146714716, 'x1': 2.2033103727054355, 'x4': 1.1139328962534212, 'x3': 1.2851161351977833, 'x2': 1.5708578635251818}, result=4.49581241607666, best_f=4.496071815490723, steps_to_best_f=45, peak_memory=125451264, runtime_ms=5.369961500167847)\n",
      "ExperimentResult(model='Conservative BoBn', step=76, restart=2, candidate={'x5': 0.996560717745335, 'x1': 2.2030910798258523, 'x4': 1.1139318074635034, 'x3': 1.2851159112337596, 'x2': 1.5708368120033365}, result=4.495832920074463, best_f=4.496071815490723, steps_to_best_f=45, peak_memory=123864064, runtime_ms=7.669764280319214)\n",
      "ExperimentResult(model='Conservative BoBn', step=77, restart=2, candidate={'x5': 0.9965612353468384, 'x1': 2.203090301912693, 'x4': 1.1139380757237634, 'x3': 1.2851157510733122, 'x2': 1.5708586965351126}, result=4.495694160461426, best_f=4.496071815490723, steps_to_best_f=45, peak_memory=125303296, runtime_ms=8.067266941070557)\n",
      "ExperimentResult(model='Conservative BoBn', step=78, restart=2, candidate={'x5': 0.9965615514929819, 'x1': 2.203305711467437, 'x4': 1.1139306173627992, 'x3': 1.2851407900066634, 'x2': 1.5708351534810476}, result=4.495984077453613, best_f=4.496071815490723, steps_to_best_f=45, peak_memory=125491200, runtime_ms=6.505096435546875)\n",
      "ExperimentResult(model='Conservative BoBn', step=79, restart=2, candidate={'x5': 0.9965620492140791, 'x1': 2.2033046816097084, 'x4': 1.1139299106832015, 'x3': 1.2851412595971217, 'x2': 1.5708578228719674}, result=4.495873928070068, best_f=4.496071815490723, steps_to_best_f=45, peak_memory=125423104, runtime_ms=9.867478609085083)\n",
      "ExperimentResult(model='Conservative BoBn', step=80, restart=2, candidate={'x5': 0.9965622655021572, 'x1': 2.2033041849500443, 'x4': 1.1140133707619637, 'x3': 1.2851410007996378, 'x2': 1.5708584607805882}, result=4.4957098960876465, best_f=4.496071815490723, steps_to_best_f=45, peak_memory=126766080, runtime_ms=6.677841901779175)\n",
      "ExperimentResult(model='Conservative BoBn', step=81, restart=2, candidate={'x5': 0.9965627885383085, 'x1': 2.2033035230527025, 'x4': 1.1140125194108346, 'x3': 1.285140844158644, 'x2': 1.5708358799277666}, result=4.4957380294799805, best_f=4.496071815490723, steps_to_best_f=45, peak_memory=125680640, runtime_ms=6.176131963729858)\n",
      "ExperimentResult(model='Conservative BoBn', step=82, restart=2, candidate={'x5': 0.9965629102997201, 'x1': 2.203302782284553, 'x4': 1.1139288462748898, 'x3': 1.2851407293110604, 'x2': 1.570835332792117}, result=4.495905876159668, best_f=4.496071815490723, steps_to_best_f=45, peak_memory=127670272, runtime_ms=6.900675296783447)\n",
      "ExperimentResult(model='Conservative BoBn', step=83, restart=2, candidate={'x5': 0.9965632698349293, 'x1': 2.2033024231870426, 'x4': 1.1139271727896265, 'x3': 1.2851401241003326, 'x2': 1.5708355976015747}, result=4.495786190032959, best_f=4.496071815490723, steps_to_best_f=45, peak_memory=127826944, runtime_ms=4.787463188171387)\n",
      "ExperimentResult(model='Conservative BoBn', step=84, restart=2, candidate={'x5': 0.9965637039718803, 'x1': 2.2033019792121604, 'x4': 1.113926109153534, 'x3': 1.2851400806237807, 'x2': 1.5708322907041479}, result=4.495885372161865, best_f=4.496071815490723, steps_to_best_f=45, peak_memory=126464000, runtime_ms=9.476876020431519)\n",
      "ExperimentResult(model='Conservative BoBn', step=85, restart=2, candidate={'x5': 0.9965640730924341, 'x1': 2.20330114246999, 'x4': 1.113927637604953, 'x3': 1.2851398312132465, 'x2': 1.5708339225224532}, result=4.495889186859131, best_f=4.496071815490723, steps_to_best_f=45, peak_memory=130266112, runtime_ms=7.772061109542847)\n",
      "ExperimentResult(model='Conservative BoBn', step=86, restart=2, candidate={'x5': 0.9965644383092401, 'x1': 2.2033002255217364, 'x4': 1.1140075504726534, 'x3': 1.285139755110595, 'x2': 1.57083596894845}, result=4.4959716796875, best_f=4.496071815490723, steps_to_best_f=45, peak_memory=128076800, runtime_ms=5.700096368789673)\n",
      "ExperimentResult(model='Conservative BoBn', step=87, restart=2, candidate={'x5': 0.9965646140755551, 'x1': 2.203299963172558, 'x4': 1.114007072630807, 'x3': 1.285139607734046, 'x2': 1.5708348599085}, result=4.495864391326904, best_f=4.496071815490723, steps_to_best_f=45, peak_memory=129416704, runtime_ms=6.838560581207275)\n",
      "ExperimentResult(model='Conservative BoBn', step=88, restart=2, candidate={'x5': 0.9965649292116987, 'x1': 2.203294724549021, 'x4': 1.1140064183821605, 'x3': 1.2851394845024073, 'x2': 1.570834442997613}, result=4.495968341827393, best_f=4.496071815490723, steps_to_best_f=45, peak_memory=129293312, runtime_ms=6.500478982925415)\n",
      "ExperimentResult(model='Conservative BoBn', step=89, restart=2, candidate={'x5': 0.99656520871668, 'x1': 2.2032987619721554, 'x4': 1.113920745844009, 'x3': 1.2851393035941596, 'x2': 1.5708349834575954}, result=4.495895862579346, best_f=4.496071815490723, steps_to_best_f=45, peak_memory=129000448, runtime_ms=4.470173358917236)\n",
      "ExperimentResult(model='Conservative BoBn', step=90, restart=2, candidate={'x5': 0.9965656246594219, 'x1': 2.203298374154553, 'x4': 1.1139221919736244, 'x3': 1.285139209964048, 'x2': 1.5708342914032194}, result=4.495890140533447, best_f=4.496071815490723, steps_to_best_f=45, peak_memory=128036352, runtime_ms=6.411532402038574)\n",
      "ExperimentResult(model='Conservative BoBn', step=91, restart=2, candidate={'x5': 0.9965659513121156, 'x1': 2.20309314824809, 'x4': 1.1139213569223312, 'x3': 1.2851391493350555, 'x2': 1.5708340982254134}, result=4.495993614196777, best_f=4.496071815490723, steps_to_best_f=45, peak_memory=130090496, runtime_ms=9.30981969833374)\n",
      "ExperimentResult(model='Conservative BoBn', step=92, restart=2, candidate={'x5': 0.9965666072538606, 'x1': 2.203092107386007, 'x4': 1.1139210659010115, 'x3': 1.2851389422128532, 'x2': 1.5708339787023131}, result=4.495904922485352, best_f=4.496071815490723, steps_to_best_f=45, peak_memory=129035264, runtime_ms=5.736778259277344)\n",
      "ExperimentResult(model='Conservative BoBn', step=93, restart=2, candidate={'x5': 0.9965666458392275, 'x1': 2.2032930136306246, 'x4': 1.113920026438584, 'x3': 1.285139377697419, 'x2': 1.5708337280867062}, result=4.495774745941162, best_f=4.496071815490723, steps_to_best_f=45, peak_memory=129433088, runtime_ms=6.624474287033081)\n",
      "ExperimentResult(model='Conservative BoBn', step=94, restart=2, candidate={'x5': 0.9965669067530725, 'x1': 2.203292402622745, 'x4': 1.1139195204937853, 'x3': 1.2851390894734356, 'x2': 1.5708555425033994}, result=4.495942115783691, best_f=4.496071815490723, steps_to_best_f=45, peak_memory=132469760, runtime_ms=6.5180442333221436)\n",
      "ExperimentResult(model='Conservative BoBn', step=95, restart=2, candidate={'x5': 0.996567214183199, 'x1': 2.2030914239847204, 'x4': 1.113912149413047, 'x3': 1.285139123194149, 'x2': 1.5708334477723944}, result=4.495924949645996, best_f=4.496071815490723, steps_to_best_f=45, peak_memory=134379520, runtime_ms=9.326830387115479)\n",
      "ExperimentResult(model='Conservative BoBn', step=96, restart=2, candidate={'x5': 0.9965675466087417, 'x1': 2.203090455965285, 'x4': 1.11391792551576, 'x3': 1.2851391705983597, 'x2': 1.5708332712822553}, result=4.49587869644165, best_f=4.496071815490723, steps_to_best_f=45, peak_memory=131774464, runtime_ms=9.95900559425354)\n",
      "ExperimentResult(model='Conservative BoBn', step=97, restart=2, candidate={'x5': 0.996567932835956, 'x1': 2.2030894672496433, 'x4': 1.1139173832407168, 'x3': 1.285113574391024, 'x2': 1.570833202450123}, result=4.496040344238281, best_f=4.496071815490723, steps_to_best_f=45, peak_memory=132780544, runtime_ms=5.943699359893799)\n",
      "ExperimentResult(model='Conservative BoBn', step=98, restart=2, candidate={'x5': 0.9965681845159599, 'x1': 2.2032855857763876, 'x4': 1.113916499095896, 'x3': 1.2851134304968095, 'x2': 1.570832972913822}, result=4.495711326599121, best_f=4.496071815490723, steps_to_best_f=45, peak_memory=133499904, runtime_ms=5.495774984359741)\n",
      "ExperimentResult(model='Conservative BoBn', step=99, restart=2, candidate={'x5': 0.9965685099122948, 'x1': 2.203284817831869, 'x4': 1.1139158952246455, 'x3': 1.2851134013281995, 'x2': 1.5708328604295396}, result=4.495804786682129, best_f=4.496071815490723, steps_to_best_f=45, peak_memory=134514688, runtime_ms=8.376434803009033)\n",
      "ExperimentResult(model='Conservative BoBn', step=100, restart=2, candidate={'x5': 0.9965687502447443, 'x1': 2.203284347200957, 'x4': 1.1139150599731547, 'x3': 1.2851130551775163, 'x2': 1.570832652914091}, result=4.495856285095215, best_f=4.496071815490723, steps_to_best_f=45, peak_memory=135395328, runtime_ms=4.544342994689941)\n",
      "ExperimentResult(model='Conservative BoBn', step=101, restart=2, candidate={'x5': 0.9965691040153106, 'x1': 2.203283896699859, 'x4': 1.1139145800611447, 'x3': 1.2851130574931875, 'x2': 1.5708325439819864}, result=4.495883941650391, best_f=4.496071815490723, steps_to_best_f=45, peak_memory=133437440, runtime_ms=7.376694679260254)\n",
      "ExperimentResult(model='Conservative BoBn', step=102, restart=2, candidate={'x5': 0.9965693452430928, 'x1': 2.2032840050123923, 'x4': 1.1139137528372192, 'x3': 1.2851129164892203, 'x2': 1.570832403963895}, result=4.495793342590332, best_f=4.496071815490723, steps_to_best_f=45, peak_memory=135063552, runtime_ms=6.668055295944214)\n",
      "ExperimentResult(model='Conservative BoBn', step=103, restart=2, candidate={'x5': 0.9965697477884484, 'x1': 2.2030883223180093, 'x4': 1.1139132574049366, 'x3': 1.2851128212317244, 'x2': 1.570831797626223}, result=4.496099948883057, best_f=4.496099948883057, steps_to_best_f=103, peak_memory=134390272, runtime_ms=8.622630834579468)\n",
      "ExperimentResult(model='Conservative BoBn', step=104, restart=2, candidate={'x5': 0.9965632577323722, 'x1': 2.2032806617152327, 'x4': 1.1139127026141666, 'x3': 1.285112640101991, 'x2': 1.570831990047897}, result=4.495875358581543, best_f=4.496099948883057, steps_to_best_f=103, peak_memory=134199296, runtime_ms=6.593419313430786)\n",
      "ExperimentResult(model='Conservative BoBn', step=105, restart=2, candidate={'x5': 0.9965707650848746, 'x1': 2.203279872842671, 'x4': 1.1139118863558963, 'x3': 1.2851125442126412, 'x2': 1.5708318981875964}, result=4.495782375335693, best_f=4.496099948883057, steps_to_best_f=103, peak_memory=134266368, runtime_ms=7.806867599487305)\n",
      "ExperimentResult(model='Conservative BoBn', step=106, restart=2, candidate={'x5': 0.9965705416088311, 'x1': 2.203279137651318, 'x4': 1.113912061128914, 'x3': 1.2851124356567631, 'x2': 1.5708295738197782}, result=4.49584436416626, best_f=4.496099948883057, steps_to_best_f=103, peak_memory=138183168, runtime_ms=12.726606369018555)\n",
      "ExperimentResult(model='Conservative BoBn', step=107, restart=2, candidate={'x5': 0.9965708247271337, 'x1': 2.203278586416398, 'x4': 1.1139105685582231, 'x3': 1.2851123116981906, 'x2': 1.5708308822269694}, result=4.495864391326904, best_f=4.496099948883057, steps_to_best_f=103, peak_memory=136356352, runtime_ms=6.471107244491577)\n",
      "ExperimentResult(model='Conservative BoBn', step=108, restart=2, candidate={'x5': 0.9965714313127897, 'x1': 2.203277999081125, 'x4': 1.1139099202370868, 'x3': 1.2851122238536483, 'x2': 1.5708313427312568}, result=4.495879650115967, best_f=4.496099948883057, steps_to_best_f=103, peak_memory=135134208, runtime_ms=6.18392276763916)\n",
      "ExperimentResult(model='Conservative BoBn', step=109, restart=2, candidate={'x5': 0.9965712935475824, 'x1': 2.2032773147994447, 'x4': 1.1139092883719413, 'x3': 1.2851121168217539, 'x2': 1.5708483400164213}, result=4.495832920074463, best_f=4.496099948883057, steps_to_best_f=103, peak_memory=138084352, runtime_ms=6.452237844467163)\n",
      "ExperimentResult(model='Conservative BoBn', step=110, restart=2, candidate={'x5': 0.9965716165921277, 'x1': 2.2032766407450786, 'x4': 1.1139083709241078, 'x3': 1.2851119864707294, 'x2': 1.5708269702514457}, result=4.49584436416626, best_f=4.496099948883057, steps_to_best_f=103, peak_memory=137446912, runtime_ms=4.107332944869995)\n",
      "ExperimentResult(model='Conservative BoBn', step=111, restart=2, candidate={'x5': 0.9965719925807571, 'x1': 2.2030863710154462, 'x4': 1.1139079396971499, 'x3': 1.285111861223591, 'x2': 1.5708306873911069}, result=4.495866775512695, best_f=4.496099948883057, steps_to_best_f=103, peak_memory=138657280, runtime_ms=7.708540439605713)\n",
      "ExperimentResult(model='Conservative BoBn', step=112, restart=2, candidate={'x5': 0.9965722162037488, 'x1': 2.2032742997792307, 'x4': 1.1139067655498636, 'x3': 1.2851116955279795, 'x2': 1.5708307322334465}, result=4.495990753173828, best_f=4.496099948883057, steps_to_best_f=103, peak_memory=137500672, runtime_ms=5.827410936355591)\n",
      "ExperimentResult(model='Conservative BoBn', step=113, restart=2, candidate={'x5': 0.9965724795787356, 'x1': 2.203273534921435, 'x4': 1.1139110327604875, 'x3': 1.2851115604334156, 'x2': 1.570830602720762}, result=4.495715141296387, best_f=4.496099948883057, steps_to_best_f=103, peak_memory=138857472, runtime_ms=8.780524969100952)\n",
      "ExperimentResult(model='Conservative BoBn', step=114, restart=2, candidate={'x5': 0.9965727545971645, 'x1': 2.203273336138314, 'x4': 1.1139061886058044, 'x3': 1.2851115083798246, 'x2': 1.570853807969494}, result=4.4959001541137695, best_f=4.496099948883057, steps_to_best_f=103, peak_memory=137795072, runtime_ms=5.414335489273071)\n",
      "ExperimentResult(model='Conservative BoBn', step=115, restart=2, candidate={'x5': 0.9965730695828428, 'x1': 2.203272373538884, 'x4': 1.1139061366086611, 'x3': 1.285111373407428, 'x2': 1.5708306155260827}, result=4.496029853820801, best_f=4.496099948883057, steps_to_best_f=103, peak_memory=138885120, runtime_ms=7.266636610031128)\n",
      "ExperimentResult(model='Conservative BoBn', step=116, restart=2, candidate={'x5': 0.9965732837334754, 'x1': 2.2032716004036033, 'x4': 1.1139047914866766, 'x3': 1.2851112308509, 'x2': 1.570829526693747}, result=4.4960126876831055, best_f=4.496099948883057, steps_to_best_f=103, peak_memory=137851392, runtime_ms=6.26839542388916)\n",
      "ExperimentResult(model='Conservative BoBn', step=117, restart=2, candidate={'x5': 0.9965735174999064, 'x1': 2.203271054468257, 'x4': 1.1139051974628975, 'x3': 1.2851111526414145, 'x2': 1.5708300841804235}, result=4.495872497558594, best_f=4.496099948883057, steps_to_best_f=103, peak_memory=139555328, runtime_ms=7.445428371429443)\n",
      "ExperimentResult(model='Conservative BoBn', step=118, restart=2, candidate={'x5': 0.996573774057412, 'x1': 2.203270506911129, 'x4': 1.11390335494156, 'x3': 1.2851110706010158, 'x2': 1.57082969420911}, result=4.496053218841553, best_f=4.496099948883057, steps_to_best_f=103, peak_memory=140114944, runtime_ms=6.807104110717773)\n",
      "ExperimentResult(model='Conservative BoBn', step=119, restart=2, candidate={'x5': 0.9965741104005601, 'x1': 2.2032699032829384, 'x4': 1.1139030929719655, 'x3': 1.2851109622637116, 'x2': 1.5708296106451423}, result=4.495725154876709, best_f=4.496099948883057, steps_to_best_f=103, peak_memory=139741184, runtime_ms=6.1676483154296875)\n",
      "ExperimentResult(model='Conservative BoBn', step=120, restart=2, candidate={'x5': 0.9965743285738626, 'x1': 2.203269307445814, 'x4': 1.1139028168236262, 'x3': 1.2851110727702268, 'x2': 1.5708295196057507}, result=4.495889663696289, best_f=4.496099948883057, steps_to_best_f=103, peak_memory=139405312, runtime_ms=5.998010873794556)\n",
      "ExperimentResult(model='Conservative BoBn', step=121, restart=2, candidate={'x5': 0.9965745659658043, 'x1': 2.20326861316894, 'x4': 1.113901863526599, 'x3': 1.2851105988827265, 'x2': 1.5708295770865517}, result=4.495995044708252, best_f=4.496099948883057, steps_to_best_f=103, peak_memory=139409920, runtime_ms=6.116397857666016)\n",
      "ExperimentResult(model='Conservative BoBn', step=122, restart=2, candidate={'x5': 0.9965746432813922, 'x1': 2.203267961809505, 'x4': 1.1139011485849089, 'x3': 1.2851105902307272, 'x2': 1.5708291274910129}, result=4.495794296264648, best_f=4.496099948883057, steps_to_best_f=103, peak_memory=140327424, runtime_ms=5.827754497528076)\n",
      "ExperimentResult(model='Conservative BoBn', step=123, restart=2, candidate={'x5': 0.9965750627926591, 'x1': 2.2032669397957214, 'x4': 1.1139006379569951, 'x3': 1.2851105238491032, 'x2': 1.570829154268734}, result=4.49607515335083, best_f=4.496099948883057, steps_to_best_f=103, peak_memory=139837952, runtime_ms=6.615746974945068)\n",
      "ExperimentResult(model='Conservative BoBn', step=124, restart=2, candidate={'x5': 0.996575398918601, 'x1': 2.203266722414166, 'x4': 1.1138999988063902, 'x3': 1.285110407004153, 'x2': 1.5708288552264376}, result=4.495907306671143, best_f=4.496099948883057, steps_to_best_f=103, peak_memory=142187008, runtime_ms=6.871155023574829)\n",
      "ExperimentResult(model='Conservative BoBn', step=125, restart=2, candidate={'x5': 0.99657545146145, 'x1': 2.2032660897939578, 'x4': 1.1138994722462683, 'x3': 1.2851103102566264, 'x2': 1.5708287391140272}, result=4.495850563049316, best_f=4.496099948883057, steps_to_best_f=103, peak_memory=140541952, runtime_ms=8.219775199890137)\n",
      "ExperimentResult(model='Conservative BoBn', step=126, restart=2, candidate={'x5': 0.9965757149993574, 'x1': 2.203265430475123, 'x4': 1.1138985693653325, 'x3': 1.285110310660184, 'x2': 1.5708278018434894}, result=4.495795726776123, best_f=4.496099948883057, steps_to_best_f=103, peak_memory=141723136, runtime_ms=5.151541471481323)\n",
      "ExperimentResult(model='Conservative BoBn', step=127, restart=2, candidate={'x5': 0.9965761120943747, 'x1': 2.2032648477685686, 'x4': 1.113898042519305, 'x3': 1.2851100835480498, 'x2': 1.5708284880100716}, result=4.49575662612915, best_f=4.496099948883057, steps_to_best_f=103, peak_memory=140576256, runtime_ms=9.039560794830322)\n",
      "ExperimentResult(model='Conservative BoBn', step=128, restart=2, candidate={'x5': 0.9965763450079057, 'x1': 2.203264180375525, 'x4': 1.113897616265025, 'x3': 1.285109879139604, 'x2': 1.5708283827336122}, result=4.495820045471191, best_f=4.496099948883057, steps_to_best_f=103, peak_memory=142604800, runtime_ms=6.5033862590789795)\n",
      "ExperimentResult(model='Conservative BoBn', step=129, restart=2, candidate={'x5': 0.9965765098609901, 'x1': 2.2032635914515533, 'x4': 1.1138969551328786, 'x3': 1.2851099071169276, 'x2': 1.570828145208055}, result=4.495940685272217, best_f=4.496099948883057, steps_to_best_f=103, peak_memory=142767616, runtime_ms=4.365055799484253)\n",
      "ExperimentResult(model='Conservative BoBn', step=130, restart=2, candidate={'x5': 0.9965774542724339, 'x1': 2.2032630285547765, 'x4': 1.113896424797225, 'x3': 1.2851097254363324, 'x2': 1.5708269401968638}, result=4.495816230773926, best_f=4.496099948883057, steps_to_best_f=103, peak_memory=144912896, runtime_ms=8.093467235565186)\n",
      "ExperimentResult(model='Conservative BoBn', step=131, restart=2, candidate={'x5': 0.9965777022328596, 'x1': 2.2032624528940614, 'x4': 1.1138950328233173, 'x3': 1.2851096328213694, 'x2': 1.5708275251693697}, result=4.4958977699279785, best_f=4.496099948883057, steps_to_best_f=103, peak_memory=145433600, runtime_ms=7.454848527908325)\n",
      "ExperimentResult(model='Conservative BoBn', step=132, restart=2, candidate={'x5': 0.9965774637748419, 'x1': 2.2032617651421127, 'x4': 1.1138949239050278, 'x3': 1.2851094800780343, 'x2': 1.5708276974762736}, result=4.4959025382995605, best_f=4.496099948883057, steps_to_best_f=103, peak_memory=145134080, runtime_ms=10.154035329818726)\n",
      "ExperimentResult(model='Conservative BoBn', step=133, restart=2, candidate={'x5': 0.9965777053433442, 'x1': 2.2032609859645933, 'x4': 1.1138945779665925, 'x3': 1.285109379216252, 'x2': 1.5708277109726407}, result=4.495795726776123, best_f=4.496099948883057, steps_to_best_f=103, peak_memory=144630272, runtime_ms=7.500414848327637)\n",
      "ExperimentResult(model='Conservative BoBn', step=134, restart=2, candidate={'x5': 0.9965779123214403, 'x1': 2.2032605367695717, 'x4': 1.1138940236844812, 'x3': 1.2851093529057966, 'x2': 1.5708274815674599}, result=4.495791912078857, best_f=4.496099948883057, steps_to_best_f=103, peak_memory=144605184, runtime_ms=8.714268207550049)\n",
      "ExperimentResult(model='Conservative BoBn', step=135, restart=2, candidate={'x5': 0.9965780277545618, 'x1': 2.2826035879015487, 'x4': 1.1138936109070865, 'x3': 1.2851091242071084, 'x2': 1.5708483798844415}, result=4.395610809326172, best_f=4.496099948883057, steps_to_best_f=103, peak_memory=145190400, runtime_ms=9.459283351898193)\n",
      "ExperimentResult(model='Conservative BoBn', step=136, restart=2, candidate={'x5': 0.996578196352048, 'x1': 2.2032382709055134, 'x4': 1.1138929368901662, 'x3': 1.2851089961171542, 'x2': 1.5708272476438432}, result=4.495993137359619, best_f=4.496099948883057, steps_to_best_f=103, peak_memory=147167232, runtime_ms=9.763593435287476)\n",
      "ExperimentResult(model='Conservative BoBn', step=137, restart=2, candidate={'x5': 0.9965787495531642, 'x1': 2.203237802939927, 'x4': 1.1138924909080368, 'x3': 1.2851087396032723, 'x2': 1.5708479287403074}, result=4.495858669281006, best_f=4.496099948883057, steps_to_best_f=103, peak_memory=147358208, runtime_ms=5.290047883987427)\n",
      "ExperimentResult(model='Conservative BoBn', step=138, restart=2, candidate={'x5': 0.9965793781853628, 'x1': 2.2032374685976173, 'x4': 1.1138918925947072, 'x3': 1.2851088109906355, 'x2': 1.5708266931945158}, result=4.49597692489624, best_f=4.496099948883057, steps_to_best_f=103, peak_memory=146370048, runtime_ms=8.772729396820068)\n",
      "ExperimentResult(model='Conservative BoBn', step=139, restart=2, candidate={'x5': 0.9965793217679312, 'x1': 2.2032370665856336, 'x4': 1.11389086894416, 'x3': 1.2851086544494446, 'x2': 1.5708269336086857}, result=4.495868682861328, best_f=4.496099948883057, steps_to_best_f=103, peak_memory=147592704, runtime_ms=6.805644750595093)\n",
      "ExperimentResult(model='Conservative BoBn', step=140, restart=2, candidate={'x5': 0.9965795232207987, 'x1': 2.2032367755523463, 'x4': 1.11389039510056, 'x3': 1.285108552204574, 'x2': 1.5708266564356053}, result=4.496182918548584, best_f=4.496182918548584, steps_to_best_f=140, peak_memory=148812800, runtime_ms=5.7291786670684814)\n",
      "ExperimentResult(model='Conservative BoBn', step=141, restart=2, candidate={'x5': 0.9965797545897089, 'x1': 2.203186978594075, 'x4': 1.113894459987522, 'x3': 1.2851084019819279, 'x2': 1.5708289356197633}, result=4.4957380294799805, best_f=4.496182918548584, steps_to_best_f=140, peak_memory=150019072, runtime_ms=6.390091419219971)\n",
      "ExperimentResult(model='Conservative BoBn', step=142, restart=2, candidate={'x5': 0.9965798095669492, 'x1': 2.2031415101319647, 'x4': 1.113890018947679, 'x3': 1.2851082427461864, 'x2': 1.5708450697973457}, result=4.495883941650391, best_f=4.496182918548584, steps_to_best_f=140, peak_memory=148425216, runtime_ms=8.46782636642456)\n",
      "ExperimentResult(model='Conservative BoBn', step=143, restart=2, candidate={'x5': 0.9965801009133131, 'x1': 2.2032348495745504, 'x4': 1.1138880286577872, 'x3': 1.2851081948426248, 'x2': 1.5708259289854418}, result=4.495843410491943, best_f=4.496182918548584, steps_to_best_f=140, peak_memory=147619840, runtime_ms=6.874774694442749)\n",
      "ExperimentResult(model='Conservative BoBn', step=144, restart=2, candidate={'x5': 0.996580259464301, 'x1': 2.2032344820042775, 'x4': 1.1138887391907348, 'x3': 1.2851080673070476, 'x2': 1.5708259931640305}, result=4.496122360229492, best_f=4.496182918548584, steps_to_best_f=140, peak_memory=148696064, runtime_ms=4.555626630783081)\n",
      "ExperimentResult(model='Conservative BoBn', step=145, restart=2, candidate={'x5': 0.9965803069557791, 'x1': 2.2032340808516193, 'x4': 1.1138881031865213, 'x3': 1.2851080177669645, 'x2': 1.570825772524647}, result=4.495747089385986, best_f=4.496182918548584, steps_to_best_f=140, peak_memory=148708352, runtime_ms=6.254140377044678)\n",
      "ExperimentResult(model='Conservative BoBn', step=146, restart=2, candidate={'x5': 0.9965807038199104, 'x1': 2.2031909844105235, 'x4': 1.1138874885303034, 'x3': 1.2851078699940919, 'x2': 1.5708259650402776}, result=4.495793342590332, best_f=4.496182918548584, steps_to_best_f=140, peak_memory=149086720, runtime_ms=8.097649097442627)\n",
      "ExperimentResult(model='Conservative BoBn', step=147, restart=2, candidate={'x5': 0.9965809423821623, 'x1': 2.203191681499449, 'x4': 1.113887041999434, 'x3': 1.2851078907467428, 'x2': 1.5708260155166534}, result=4.495940208435059, best_f=4.496182918548584, steps_to_best_f=140, peak_memory=151835136, runtime_ms=6.160295248031616)\n",
      "ExperimentResult(model='Conservative BoBn', step=148, restart=2, candidate={'x5': 0.9965812950154049, 'x1': 2.203192598596106, 'x4': 1.1138866104164902, 'x3': 1.2851075858696126, 'x2': 1.5708255671705564}, result=4.495868682861328, best_f=4.496182918548584, steps_to_best_f=140, peak_memory=150601728, runtime_ms=12.509640216827393)\n",
      "ExperimentResult(model='Conservative BoBn', step=149, restart=2, candidate={'x5': 0.9965813192351107, 'x1': 2.20319327370823, 'x4': 1.113885897005928, 'x3': 1.2851075248402344, 'x2': 1.5708254795620247}, result=4.495819091796875, best_f=4.496182918548584, steps_to_best_f=140, peak_memory=152130048, runtime_ms=6.767545223236084)\n"
     ]
    }
   ],
   "source": [
    "import torch\n",
    "import time\n",
    "from notebooks.bobn_ch import bobn\n",
    "\n",
    "con_bobn = bobn.BoBn(dag,\n",
    "                 params=space,\n",
    "                 objectives={'y'},\n",
    "                     conservative_mode=True)\n",
    "\n",
    "con_bobn_results = []\n",
    "\n",
    "# BO loop\n",
    "for restart_id in range(num_restarts):\n",
    "    print(f\"{restart_id=}/{num_restarts}\")\n",
    "    observations = {}\n",
    "    observations.update(initial_data)\n",
    "    best_f = float(initial_train_y.max())\n",
    "    steps_to_best_f = 0\n",
    "    for optimization_round in range(num_optimization_rounds):\n",
    "        bench_util.clear_memory()\n",
    "        start_memory = torch.cuda.max_memory_allocated(\"cuda\")\n",
    "        start_time = time.time()\n",
    "\n",
    "        next_candidate = con_bobn.opt(observations)\n",
    "\n",
    "        elapsed_time = time.time() - start_time\n",
    "        total_memory_usage = torch.cuda.max_memory_allocated(\"cuda\") - start_memory\n",
    "\n",
    "\n",
    "        for k, v in next_candidate.items():\n",
    "            observations[k].append(v)\n",
    "        next_candidate_tensor = []\n",
    "        for p in space:\n",
    "            next_candidate_tensor.append(next_candidate[p])\n",
    "        next_candidate_tensor = torch.tensor(next_candidate_tensor)\n",
    "        y = float(problem(next_candidate_tensor))\n",
    "        if y > best_f:\n",
    "            best_f = y\n",
    "            steps_to_best_f = optimization_round\n",
    "        observations['y'].append(float(y))\n",
    "        structure_eval = eval_structure(next_candidate_tensor)\n",
    "        for idx, i in enumerate(space):\n",
    "            observations[f\"mid({i})\"].append(float(structure_eval[idx]))\n",
    "\n",
    "        exp_result = bench_util.ExperimentResult(model=\"Conservative BoBn\", step=optimization_round, restart=restart_id,\n",
    "                                             candidate=next_candidate, result=float(y), best_f=best_f,\n",
    "                                             steps_to_best_f=steps_to_best_f,\n",
    "                                             peak_memory=total_memory_usage, runtime_ms=elapsed_time)\n",
    "        con_bobn_results.append(exp_result)\n",
    "        print(exp_result)\n",
    "\n"
   ],
   "metadata": {
    "collapsed": false
   },
   "id": "5224603c79357f05"
  },
  {
   "cell_type": "code",
   "execution_count": 6,
   "outputs": [
    {
     "name": "stdout",
     "output_type": "stream",
     "text": [
      "restart_id=0/3\n",
      "ExperimentResult(model='BoTorch', step=0, restart=0, candidate=[0.9548369248201807, 0.0, 2.065155269767753, 0.9214143819925033, 0.5907162583627741], result=0.07606828666808865, best_f=1.188902735710144, steps_to_best_f=0, peak_memory=37479424, runtime_ms=0.44219446182250977)\n",
      "ExperimentResult(model='BoTorch', step=1, restart=0, candidate=[1.417827164816408, 0.0, 2.380239928820452, 0.0, 1.5686068937341204], result=0.004320668458859507, best_f=1.188902735710144, steps_to_best_f=0, peak_memory=37483520, runtime_ms=0.19492626190185547)\n",
      "ExperimentResult(model='BoTorch', step=2, restart=0, candidate=[3.1415927410125732, 2.409471734011534, 2.604503000918029, 1.2402347367152768, 1.6214544741889747], result=0.25569819765661306, best_f=1.188902735710144, steps_to_best_f=0, peak_memory=37487104, runtime_ms=0.2997899055480957)\n",
      "ExperimentResult(model='BoTorch', step=3, restart=0, candidate=[1.2400657181063632, 0.7495711711109659, 1.8202657264367403, 3.1415927410125732, 0.0], result=5.6118903598485885e-05, best_f=1.188902735710144, steps_to_best_f=0, peak_memory=37490176, runtime_ms=0.1547996997833252)\n"
     ]
    },
    {
     "name": "stderr",
     "output_type": "stream",
     "text": [
      "/home/salabed/anaconda3/envs/rocksdb/lib/python3.8/site-packages/botorch/optim/initializers.py:403: BadInitialCandidatesWarning: Unable to find non-zero acquisition function values - initial conditions are being selected randomly.\n",
      "  warnings.warn(\n"
     ]
    },
    {
     "name": "stdout",
     "output_type": "stream",
     "text": [
      "ExperimentResult(model='BoTorch', step=4, restart=0, candidate=[1.906367164663103, 0.2502891660444717, 2.251786949732557, 2.4155918577882862, 1.0767241824282558], result=1.3322838913497606, best_f=1.3322838913497606, steps_to_best_f=4, peak_memory=37494784, runtime_ms=0.09421992301940918)\n"
     ]
    },
    {
     "name": "stderr",
     "output_type": "stream",
     "text": [
      "/home/salabed/anaconda3/envs/rocksdb/lib/python3.8/site-packages/botorch/optim/initializers.py:403: BadInitialCandidatesWarning: Unable to find non-zero acquisition function values - initial conditions are being selected randomly.\n",
      "  warnings.warn(\n"
     ]
    },
    {
     "name": "stdout",
     "output_type": "stream",
     "text": [
      "ExperimentResult(model='BoTorch', step=5, restart=0, candidate=[0.9124766187561117, 2.480831039523154, 3.000323960784125, 3.0934995769952778, 0.5051249996824159], result=0.0007270357936605746, best_f=1.3322838913497606, steps_to_best_f=4, peak_memory=37496832, runtime_ms=0.0934743881225586)\n"
     ]
    },
    {
     "name": "stderr",
     "output_type": "stream",
     "text": [
      "/home/salabed/anaconda3/envs/rocksdb/lib/python3.8/site-packages/botorch/optim/initializers.py:403: BadInitialCandidatesWarning: Unable to find non-zero acquisition function values - initial conditions are being selected randomly.\n",
      "  warnings.warn(\n"
     ]
    },
    {
     "name": "stdout",
     "output_type": "stream",
     "text": [
      "ExperimentResult(model='BoTorch', step=6, restart=0, candidate=[0.3829024946634829, 0.05310821703107704, 0.9591470246816602, 3.128612022763777, 1.0300361483393616], result=0.7503672101002388, best_f=1.3322838913497606, steps_to_best_f=4, peak_memory=37498880, runtime_ms=0.09382343292236328)\n"
     ]
    },
    {
     "name": "stderr",
     "output_type": "stream",
     "text": [
      "/home/salabed/anaconda3/envs/rocksdb/lib/python3.8/site-packages/botorch/optim/initializers.py:403: BadInitialCandidatesWarning: Unable to find non-zero acquisition function values - initial conditions are being selected randomly.\n",
      "  warnings.warn(\n"
     ]
    },
    {
     "name": "stdout",
     "output_type": "stream",
     "text": [
      "ExperimentResult(model='BoTorch', step=7, restart=0, candidate=[1.542346729724332, 0.874796072893046, 1.3362180819486724, 0.4750574270506558, 2.669931051205352], result=0.9424518696544059, best_f=1.3322838913497606, steps_to_best_f=4, peak_memory=37502464, runtime_ms=0.10085391998291016)\n",
      "ExperimentResult(model='BoTorch', step=8, restart=0, candidate=[2.052689148124513, 0.0, 2.4742593418073855, 2.2216913819274846, 1.3901150309346166], result=0.5206964771802596, best_f=1.3322838913497606, steps_to_best_f=4, peak_memory=37506048, runtime_ms=0.11807394027709961)\n"
     ]
    },
    {
     "name": "stderr",
     "output_type": "stream",
     "text": [
      "/home/salabed/anaconda3/envs/rocksdb/lib/python3.8/site-packages/botorch/optim/initializers.py:403: BadInitialCandidatesWarning: Unable to find non-zero acquisition function values - initial conditions are being selected randomly.\n",
      "  warnings.warn(\n"
     ]
    },
    {
     "name": "stdout",
     "output_type": "stream",
     "text": [
      "ExperimentResult(model='BoTorch', step=9, restart=0, candidate=[1.4897735603664553, 2.1685955829175785, 0.9476228813398724, 0.9006520915109129, 2.3895328709846178], result=0.040673142892265056, best_f=1.3322838913497606, steps_to_best_f=4, peak_memory=37508096, runtime_ms=0.09583520889282227)\n"
     ]
    },
    {
     "name": "stderr",
     "output_type": "stream",
     "text": [
      "/home/salabed/anaconda3/envs/rocksdb/lib/python3.8/site-packages/botorch/optim/initializers.py:403: BadInitialCandidatesWarning: Unable to find non-zero acquisition function values - initial conditions are being selected randomly.\n",
      "  warnings.warn(\n"
     ]
    },
    {
     "name": "stdout",
     "output_type": "stream",
     "text": [
      "ExperimentResult(model='BoTorch', step=10, restart=0, candidate=[0.11606775394043867, 1.9301459156223455, 1.0056566939416944, 2.683592514994589, 1.6166267834765258], result=0.05723898009574132, best_f=1.3322838913497606, steps_to_best_f=4, peak_memory=37511680, runtime_ms=0.1012125015258789)\n"
     ]
    },
    {
     "name": "stderr",
     "output_type": "stream",
     "text": [
      "/home/salabed/anaconda3/envs/rocksdb/lib/python3.8/site-packages/botorch/optim/initializers.py:403: BadInitialCandidatesWarning: Unable to find non-zero acquisition function values - initial conditions are being selected randomly.\n",
      "  warnings.warn(\n"
     ]
    },
    {
     "name": "stdout",
     "output_type": "stream",
     "text": [
      "ExperimentResult(model='BoTorch', step=11, restart=0, candidate=[1.399985734827509, 1.411345598316096, 3.031369055303653, 0.11413932064550436, 0.37836572517401024], result=0.3892026575468357, best_f=1.3322838913497606, steps_to_best_f=4, peak_memory=37513728, runtime_ms=0.0952751636505127)\n"
     ]
    },
    {
     "name": "stderr",
     "output_type": "stream",
     "text": [
      "/home/salabed/anaconda3/envs/rocksdb/lib/python3.8/site-packages/botorch/optim/initializers.py:403: BadInitialCandidatesWarning: Unable to find non-zero acquisition function values - initial conditions are being selected randomly.\n",
      "  warnings.warn(\n"
     ]
    },
    {
     "name": "stdout",
     "output_type": "stream",
     "text": [
      "ExperimentResult(model='BoTorch', step=12, restart=0, candidate=[0.10508595238159724, 3.0566752156652734, 3.0193435728479856, 0.3555423767805621, 0.3389643399489073], result=1.1902608158702545e-05, best_f=1.3322838913497606, steps_to_best_f=4, peak_memory=37517312, runtime_ms=0.09812641143798828)\n"
     ]
    },
    {
     "name": "stderr",
     "output_type": "stream",
     "text": [
      "/home/salabed/anaconda3/envs/rocksdb/lib/python3.8/site-packages/botorch/optim/initializers.py:403: BadInitialCandidatesWarning: Unable to find non-zero acquisition function values - initial conditions are being selected randomly.\n",
      "  warnings.warn(\n"
     ]
    },
    {
     "name": "stdout",
     "output_type": "stream",
     "text": [
      "ExperimentResult(model='BoTorch', step=13, restart=0, candidate=[2.8991398977604566, 2.0553028676172858, 1.7417246248019103, 1.8979141809214706, 1.1804423151451837], result=0.817602361227248, best_f=1.3322838913497606, steps_to_best_f=4, peak_memory=37520896, runtime_ms=0.12113690376281738)\n"
     ]
    },
    {
     "name": "stderr",
     "output_type": "stream",
     "text": [
      "/home/salabed/anaconda3/envs/rocksdb/lib/python3.8/site-packages/botorch/optim/initializers.py:403: BadInitialCandidatesWarning: Unable to find non-zero acquisition function values - initial conditions are being selected randomly.\n",
      "  warnings.warn(\n"
     ]
    },
    {
     "name": "stdout",
     "output_type": "stream",
     "text": [
      "ExperimentResult(model='BoTorch', step=14, restart=0, candidate=[0.38045087503546515, 0.8937358739959533, 1.7072632858527415, 3.0688897568812576, 3.122550187466755], result=8.593806483133192e-05, best_f=1.3322838913497606, steps_to_best_f=4, peak_memory=37522944, runtime_ms=0.11763739585876465)\n"
     ]
    },
    {
     "name": "stderr",
     "output_type": "stream",
     "text": [
      "/home/salabed/anaconda3/envs/rocksdb/lib/python3.8/site-packages/botorch/optim/initializers.py:403: BadInitialCandidatesWarning: Unable to find non-zero acquisition function values - initial conditions are being selected randomly.\n",
      "  warnings.warn(\n"
     ]
    },
    {
     "name": "stdout",
     "output_type": "stream",
     "text": [
      "ExperimentResult(model='BoTorch', step=15, restart=0, candidate=[0.47162957875448774, 2.163973838366189, 0.95802008618879, 1.5492656419344686, 2.290165190505402], result=0.0635809683699477, best_f=1.3322838913497606, steps_to_best_f=4, peak_memory=37526528, runtime_ms=0.12185955047607422)\n"
     ]
    },
    {
     "name": "stderr",
     "output_type": "stream",
     "text": [
      "/home/salabed/anaconda3/envs/rocksdb/lib/python3.8/site-packages/botorch/optim/initializers.py:403: BadInitialCandidatesWarning: Unable to find non-zero acquisition function values - initial conditions are being selected randomly.\n",
      "  warnings.warn(\n"
     ]
    },
    {
     "name": "stdout",
     "output_type": "stream",
     "text": [
      "ExperimentResult(model='BoTorch', step=16, restart=0, candidate=[1.4906295986077045, 2.2178278217964675, 1.7623978375851779, 0.7198079031694815, 2.0949658518606027], result=0.0004467673149081246, best_f=1.3322838913497606, steps_to_best_f=4, peak_memory=37531136, runtime_ms=0.11211252212524414)\n"
     ]
    },
    {
     "name": "stderr",
     "output_type": "stream",
     "text": [
      "/home/salabed/anaconda3/envs/rocksdb/lib/python3.8/site-packages/botorch/optim/initializers.py:403: BadInitialCandidatesWarning: Unable to find non-zero acquisition function values - initial conditions are being selected randomly.\n",
      "  warnings.warn(\n"
     ]
    },
    {
     "name": "stdout",
     "output_type": "stream",
     "text": [
      "ExperimentResult(model='BoTorch', step=17, restart=0, candidate=[3.134152026389895, 2.095986011959896, 2.7979967028173878, 0.8088036316923664, 1.2459570462854574], result=0.07955650847005262, best_f=1.3322838913497606, steps_to_best_f=4, peak_memory=37534720, runtime_ms=0.11803722381591797)\n"
     ]
    },
    {
     "name": "stderr",
     "output_type": "stream",
     "text": [
      "/home/salabed/anaconda3/envs/rocksdb/lib/python3.8/site-packages/botorch/optim/initializers.py:403: BadInitialCandidatesWarning: Unable to find non-zero acquisition function values - initial conditions are being selected randomly.\n",
      "  warnings.warn(\n"
     ]
    },
    {
     "name": "stdout",
     "output_type": "stream",
     "text": [
      "ExperimentResult(model='BoTorch', step=18, restart=0, candidate=[1.8080307858675826, 1.782376193519819, 3.0822558311695456, 1.9968829002226784, 1.198393610771078], result=0.40564006135200037, best_f=1.3322838913497606, steps_to_best_f=4, peak_memory=37538304, runtime_ms=0.11712980270385742)\n"
     ]
    },
    {
     "name": "stderr",
     "output_type": "stream",
     "text": [
      "/home/salabed/anaconda3/envs/rocksdb/lib/python3.8/site-packages/botorch/optim/initializers.py:403: BadInitialCandidatesWarning: Unable to find non-zero acquisition function values - initial conditions are being selected randomly.\n",
      "  warnings.warn(\n"
     ]
    },
    {
     "name": "stdout",
     "output_type": "stream",
     "text": [
      "ExperimentResult(model='BoTorch', step=19, restart=0, candidate=[0.48420960958189485, 1.785201214220452, 2.545921887212328, 2.371766128331231, 0.6303313807547939], result=0.11463924012517646, best_f=1.3322838913497606, steps_to_best_f=4, peak_memory=37541888, runtime_ms=0.1109158992767334)\n"
     ]
    },
    {
     "name": "stderr",
     "output_type": "stream",
     "text": [
      "/home/salabed/anaconda3/envs/rocksdb/lib/python3.8/site-packages/botorch/optim/initializers.py:403: BadInitialCandidatesWarning: Unable to find non-zero acquisition function values - initial conditions are being selected randomly.\n",
      "  warnings.warn(\n"
     ]
    },
    {
     "name": "stdout",
     "output_type": "stream",
     "text": [
      "ExperimentResult(model='BoTorch', step=20, restart=0, candidate=[0.9635098912425388, 0.1481645519997632, 0.7584280813410083, 2.7323889681205547, 2.8610216409442213], result=-8.051277901524687e-05, best_f=1.3322838913497606, steps_to_best_f=4, peak_memory=37545472, runtime_ms=0.10007071495056152)\n"
     ]
    },
    {
     "name": "stderr",
     "output_type": "stream",
     "text": [
      "/home/salabed/anaconda3/envs/rocksdb/lib/python3.8/site-packages/botorch/optim/initializers.py:403: BadInitialCandidatesWarning: Unable to find non-zero acquisition function values - initial conditions are being selected randomly.\n",
      "  warnings.warn(\n"
     ]
    },
    {
     "name": "stdout",
     "output_type": "stream",
     "text": [
      "ExperimentResult(model='BoTorch', step=21, restart=0, candidate=[2.5928004078696243, 0.9982371214116859, 0.8472751042369975, 1.0779715629699438, 2.398752450153644], result=0.8274522568087902, best_f=1.3322838913497606, steps_to_best_f=4, peak_memory=37549056, runtime_ms=0.10846090316772461)\n"
     ]
    },
    {
     "name": "stderr",
     "output_type": "stream",
     "text": [
      "/home/salabed/anaconda3/envs/rocksdb/lib/python3.8/site-packages/botorch/optim/initializers.py:403: BadInitialCandidatesWarning: Unable to find non-zero acquisition function values - initial conditions are being selected randomly.\n",
      "  warnings.warn(\n"
     ]
    },
    {
     "name": "stdout",
     "output_type": "stream",
     "text": [
      "ExperimentResult(model='BoTorch', step=22, restart=0, candidate=[0.17787648631072073, 1.2565750815504217, 1.1889932500324574, 3.0603053153173643, 1.0685655407381989], result=1.0743299417149679, best_f=1.3322838913497606, steps_to_best_f=4, peak_memory=37551104, runtime_ms=0.10935854911804199)\n"
     ]
    },
    {
     "name": "stderr",
     "output_type": "stream",
     "text": [
      "/home/salabed/anaconda3/envs/rocksdb/lib/python3.8/site-packages/botorch/optim/initializers.py:403: BadInitialCandidatesWarning: Unable to find non-zero acquisition function values - initial conditions are being selected randomly.\n",
      "  warnings.warn(\n"
     ]
    },
    {
     "name": "stdout",
     "output_type": "stream",
     "text": [
      "ExperimentResult(model='BoTorch', step=23, restart=0, candidate=[1.9041675473104325, 2.5467181681742126, 2.568667537098588, 0.7632105245220411, 1.014658184203231], result=0.9844202836595817, best_f=1.3322838913497606, steps_to_best_f=4, peak_memory=37556224, runtime_ms=0.11214876174926758)\n"
     ]
    },
    {
     "name": "stderr",
     "output_type": "stream",
     "text": [
      "/home/salabed/anaconda3/envs/rocksdb/lib/python3.8/site-packages/botorch/optim/initializers.py:403: BadInitialCandidatesWarning: Unable to find non-zero acquisition function values - initial conditions are being selected randomly.\n",
      "  warnings.warn(\n"
     ]
    },
    {
     "name": "stdout",
     "output_type": "stream",
     "text": [
      "ExperimentResult(model='BoTorch', step=24, restart=0, candidate=[0.5993135316223319, 1.581482469499701, 0.32607742986163646, 1.3981311145292363, 1.8633305390916355], result=0.9958910882320158, best_f=1.3322838913497606, steps_to_best_f=4, peak_memory=37559808, runtime_ms=0.11378836631774902)\n"
     ]
    },
    {
     "name": "stderr",
     "output_type": "stream",
     "text": [
      "/home/salabed/anaconda3/envs/rocksdb/lib/python3.8/site-packages/botorch/optim/initializers.py:403: BadInitialCandidatesWarning: Unable to find non-zero acquisition function values - initial conditions are being selected randomly.\n",
      "  warnings.warn(\n"
     ]
    },
    {
     "name": "stdout",
     "output_type": "stream",
     "text": [
      "ExperimentResult(model='BoTorch', step=25, restart=0, candidate=[1.87448401116602, 1.824931832094292, 0.8388867785504317, 0.41457375032255994, 0.7125922175378541], result=0.15548079659849134, best_f=1.3322838913497606, steps_to_best_f=4, peak_memory=37563392, runtime_ms=0.11167478561401367)\n"
     ]
    },
    {
     "name": "stderr",
     "output_type": "stream",
     "text": [
      "/home/salabed/anaconda3/envs/rocksdb/lib/python3.8/site-packages/botorch/optim/initializers.py:403: BadInitialCandidatesWarning: Unable to find non-zero acquisition function values - initial conditions are being selected randomly.\n",
      "  warnings.warn(\n"
     ]
    },
    {
     "name": "stdout",
     "output_type": "stream",
     "text": [
      "ExperimentResult(model='BoTorch', step=26, restart=0, candidate=[1.9495317429050163, 2.5656747430962836, 2.4635497603962087, 0.6013165532605314, 1.4851778352767475], result=0.27647141999138264, best_f=1.3322838913497606, steps_to_best_f=4, peak_memory=37566976, runtime_ms=0.11565899848937988)\n"
     ]
    },
    {
     "name": "stderr",
     "output_type": "stream",
     "text": [
      "/home/salabed/anaconda3/envs/rocksdb/lib/python3.8/site-packages/botorch/optim/initializers.py:403: BadInitialCandidatesWarning: Unable to find non-zero acquisition function values - initial conditions are being selected randomly.\n",
      "  warnings.warn(\n"
     ]
    },
    {
     "name": "stdout",
     "output_type": "stream",
     "text": [
      "ExperimentResult(model='BoTorch', step=27, restart=0, candidate=[2.533708168156327, 0.27767870906245773, 1.1610318757280624, 1.55724314510291, 0.015253601466751476], result=0.46198169511203924, best_f=1.3322838913497606, steps_to_best_f=4, peak_memory=37570560, runtime_ms=0.11752629280090332)\n"
     ]
    },
    {
     "name": "stderr",
     "output_type": "stream",
     "text": [
      "/home/salabed/anaconda3/envs/rocksdb/lib/python3.8/site-packages/botorch/optim/initializers.py:403: BadInitialCandidatesWarning: Unable to find non-zero acquisition function values - initial conditions are being selected randomly.\n",
      "  warnings.warn(\n"
     ]
    },
    {
     "name": "stdout",
     "output_type": "stream",
     "text": [
      "ExperimentResult(model='BoTorch', step=28, restart=0, candidate=[2.402953895403328, 2.7897617640957018, 2.745282417451822, 0.6414428027107377, 2.9836163854787823], result=0.6769795610002101, best_f=1.3322838913497606, steps_to_best_f=4, peak_memory=37574144, runtime_ms=0.11504626274108887)\n"
     ]
    },
    {
     "name": "stderr",
     "output_type": "stream",
     "text": [
      "/home/salabed/anaconda3/envs/rocksdb/lib/python3.8/site-packages/botorch/optim/initializers.py:403: BadInitialCandidatesWarning: Unable to find non-zero acquisition function values - initial conditions are being selected randomly.\n",
      "  warnings.warn(\n"
     ]
    },
    {
     "name": "stdout",
     "output_type": "stream",
     "text": [
      "ExperimentResult(model='BoTorch', step=29, restart=0, candidate=[2.1229680210996915, 0.16309736770700245, 2.889496511212073, 0.2767018484136796, 1.4008840484765894], result=0.9233988212535402, best_f=1.3322838913497606, steps_to_best_f=4, peak_memory=37578752, runtime_ms=0.13645339012145996)\n"
     ]
    },
    {
     "name": "stderr",
     "output_type": "stream",
     "text": [
      "/home/salabed/anaconda3/envs/rocksdb/lib/python3.8/site-packages/botorch/optim/initializers.py:403: BadInitialCandidatesWarning: Unable to find non-zero acquisition function values - initial conditions are being selected randomly.\n",
      "  warnings.warn(\n"
     ]
    },
    {
     "name": "stdout",
     "output_type": "stream",
     "text": [
      "ExperimentResult(model='BoTorch', step=30, restart=0, candidate=[1.8842352879257518, 0.6193480167994003, 1.2027349548805755, 0.6228290216883758, 0.84718553853802], result=0.8906916455015998, best_f=1.3322838913497606, steps_to_best_f=4, peak_memory=37582336, runtime_ms=0.12365055084228516)\n"
     ]
    },
    {
     "name": "stderr",
     "output_type": "stream",
     "text": [
      "/home/salabed/anaconda3/envs/rocksdb/lib/python3.8/site-packages/botorch/optim/initializers.py:403: BadInitialCandidatesWarning: Unable to find non-zero acquisition function values - initial conditions are being selected randomly.\n",
      "  warnings.warn(\n"
     ]
    },
    {
     "name": "stdout",
     "output_type": "stream",
     "text": [
      "ExperimentResult(model='BoTorch', step=31, restart=0, candidate=[2.8728691711139387, 2.5665298889574792, 1.8660634339865811, 0.6627352102174666, 2.535052121774787], result=0.03301920179723563, best_f=1.3322838913497606, steps_to_best_f=4, peak_memory=37587456, runtime_ms=0.11876940727233887)\n"
     ]
    },
    {
     "name": "stderr",
     "output_type": "stream",
     "text": [
      "/home/salabed/anaconda3/envs/rocksdb/lib/python3.8/site-packages/botorch/optim/initializers.py:403: BadInitialCandidatesWarning: Unable to find non-zero acquisition function values - initial conditions are being selected randomly.\n",
      "  warnings.warn(\n"
     ]
    },
    {
     "name": "stdout",
     "output_type": "stream",
     "text": [
      "ExperimentResult(model='BoTorch', step=32, restart=0, candidate=[0.14199580372069698, 3.0225490985516243, 2.556271994875291, 2.913959486531046, 1.2431708748384185], result=0.16047616905483447, best_f=1.3322838913497606, steps_to_best_f=4, peak_memory=37591040, runtime_ms=0.12148475646972656)\n"
     ]
    },
    {
     "name": "stderr",
     "output_type": "stream",
     "text": [
      "/home/salabed/anaconda3/envs/rocksdb/lib/python3.8/site-packages/botorch/optim/initializers.py:403: BadInitialCandidatesWarning: Unable to find non-zero acquisition function values - initial conditions are being selected randomly.\n",
      "  warnings.warn(\n"
     ]
    },
    {
     "name": "stdout",
     "output_type": "stream",
     "text": [
      "ExperimentResult(model='BoTorch', step=33, restart=0, candidate=[2.9961121609999877, 0.04173634005888882, 0.7650054694643638, 1.3329209717190504, 1.4565913268013242], result=0.005411545276480129, best_f=1.3322838913497606, steps_to_best_f=4, peak_memory=37594624, runtime_ms=0.1293342113494873)\n"
     ]
    },
    {
     "name": "stderr",
     "output_type": "stream",
     "text": [
      "/home/salabed/anaconda3/envs/rocksdb/lib/python3.8/site-packages/botorch/optim/initializers.py:403: BadInitialCandidatesWarning: Unable to find non-zero acquisition function values - initial conditions are being selected randomly.\n",
      "  warnings.warn(\n"
     ]
    },
    {
     "name": "stdout",
     "output_type": "stream",
     "text": [
      "ExperimentResult(model='BoTorch', step=34, restart=0, candidate=[1.7626538365528288, 1.5899215935550648, 0.8034459983649211, 1.5496793112912544, 1.280242835060229], result=1.0121667119395077, best_f=1.3322838913497606, steps_to_best_f=4, peak_memory=37599744, runtime_ms=0.1357278823852539)\n"
     ]
    },
    {
     "name": "stderr",
     "output_type": "stream",
     "text": [
      "/home/salabed/anaconda3/envs/rocksdb/lib/python3.8/site-packages/botorch/optim/initializers.py:403: BadInitialCandidatesWarning: Unable to find non-zero acquisition function values - initial conditions are being selected randomly.\n",
      "  warnings.warn(\n"
     ]
    },
    {
     "name": "stdout",
     "output_type": "stream",
     "text": [
      "ExperimentResult(model='BoTorch', step=35, restart=0, candidate=[0.5902459525718073, 1.5056253987916812, 2.931866379666163, 2.772473108935596, 0.15177602870418694], result=0.9051387727047643, best_f=1.3322838913497606, steps_to_best_f=4, peak_memory=37603328, runtime_ms=0.14036917686462402)\n"
     ]
    },
    {
     "name": "stderr",
     "output_type": "stream",
     "text": [
      "/home/salabed/anaconda3/envs/rocksdb/lib/python3.8/site-packages/botorch/optim/initializers.py:403: BadInitialCandidatesWarning: Unable to find non-zero acquisition function values - initial conditions are being selected randomly.\n",
      "  warnings.warn(\n"
     ]
    },
    {
     "name": "stdout",
     "output_type": "stream",
     "text": [
      "ExperimentResult(model='BoTorch', step=36, restart=0, candidate=[2.353904374997624, 2.2554551847342, 0.5620091780796543, 2.9581497517769098, 1.9700185594389452], result=0.6346421020383894, best_f=1.3322838913497606, steps_to_best_f=4, peak_memory=37608448, runtime_ms=0.12230134010314941)\n"
     ]
    },
    {
     "name": "stderr",
     "output_type": "stream",
     "text": [
      "/home/salabed/anaconda3/envs/rocksdb/lib/python3.8/site-packages/botorch/optim/initializers.py:403: BadInitialCandidatesWarning: Unable to find non-zero acquisition function values - initial conditions are being selected randomly.\n",
      "  warnings.warn(\n"
     ]
    },
    {
     "name": "stdout",
     "output_type": "stream",
     "text": [
      "ExperimentResult(model='BoTorch', step=37, restart=0, candidate=[3.0788998004497237, 2.6738118130997925, 2.9078184546986807, 0.34563572348730753, 1.0443911172408826], result=1.1468298878939849, best_f=1.3322838913497606, steps_to_best_f=4, peak_memory=37612032, runtime_ms=0.12662339210510254)\n"
     ]
    },
    {
     "name": "stderr",
     "output_type": "stream",
     "text": [
      "/home/salabed/anaconda3/envs/rocksdb/lib/python3.8/site-packages/botorch/optim/initializers.py:403: BadInitialCandidatesWarning: Unable to find non-zero acquisition function values - initial conditions are being selected randomly.\n",
      "  warnings.warn(\n"
     ]
    },
    {
     "name": "stdout",
     "output_type": "stream",
     "text": [
      "ExperimentResult(model='BoTorch', step=38, restart=0, candidate=[1.784195809113317, 2.2264523590201932, 1.9665184312843054, 0.49089171045844204, 0.3737730985448806], result=0.03652846195386496, best_f=1.3322838913497606, steps_to_best_f=4, peak_memory=37615616, runtime_ms=0.12778377532958984)\n"
     ]
    },
    {
     "name": "stderr",
     "output_type": "stream",
     "text": [
      "/home/salabed/anaconda3/envs/rocksdb/lib/python3.8/site-packages/botorch/optim/initializers.py:403: BadInitialCandidatesWarning: Unable to find non-zero acquisition function values - initial conditions are being selected randomly.\n",
      "  warnings.warn(\n"
     ]
    },
    {
     "name": "stdout",
     "output_type": "stream",
     "text": [
      "ExperimentResult(model='BoTorch', step=39, restart=0, candidate=[2.4865107489038927, 1.3763958524492281, 1.760964997061748, 2.226767456954055, 0.5969554509789055], result=0.3719395569628691, best_f=1.3322838913497606, steps_to_best_f=4, peak_memory=37620736, runtime_ms=0.13413047790527344)\n"
     ]
    },
    {
     "name": "stderr",
     "output_type": "stream",
     "text": [
      "/home/salabed/anaconda3/envs/rocksdb/lib/python3.8/site-packages/botorch/optim/initializers.py:403: BadInitialCandidatesWarning: Unable to find non-zero acquisition function values - initial conditions are being selected randomly.\n",
      "  warnings.warn(\n"
     ]
    },
    {
     "name": "stdout",
     "output_type": "stream",
     "text": [
      "ExperimentResult(model='BoTorch', step=40, restart=0, candidate=[0.41793927538098075, 0.6205775819242232, 1.1680322432191192, 0.6697529045107364, 1.0084373326324036], result=1.271789809303362, best_f=1.3322838913497606, steps_to_best_f=4, peak_memory=37625856, runtime_ms=0.12280845642089844)\n",
      "ExperimentResult(model='BoTorch', step=41, restart=0, candidate=[0.7717108717179318, 0.8190457147302616, 1.3391034180392944, 1.2413925123401226, 1.2440731695473437], result=0.9924638597914667, best_f=1.3322838913497606, steps_to_best_f=4, peak_memory=37628416, runtime_ms=0.2009589672088623)\n",
      "ExperimentResult(model='BoTorch', step=42, restart=0, candidate=[1.01527755183231, 0.6018999783485719, 2.0602455861256055, 1.3589242712467784, 1.1753738967549456], result=0.02256215469842678, best_f=1.3322838913497606, steps_to_best_f=4, peak_memory=37634560, runtime_ms=0.35381412506103516)\n"
     ]
    },
    {
     "name": "stderr",
     "output_type": "stream",
     "text": [
      "/home/salabed/anaconda3/envs/rocksdb/lib/python3.8/site-packages/botorch/optim/initializers.py:403: BadInitialCandidatesWarning: Unable to find non-zero acquisition function values - initial conditions are being selected randomly.\n",
      "  warnings.warn(\n"
     ]
    },
    {
     "name": "stdout",
     "output_type": "stream",
     "text": [
      "ExperimentResult(model='BoTorch', step=43, restart=0, candidate=[0.7980474062559528, 2.19361302175904, 0.7058954231117098, 1.481332748103581, 2.656558186051151], result=0.2652754437812204, best_f=1.3322838913497606, steps_to_best_f=4, peak_memory=37639168, runtime_ms=0.11877107620239258)\n",
      "ExperimentResult(model='BoTorch', step=44, restart=0, candidate=[0.7079351848654434, 0.9225222956202684, 0.5375256356533162, 0.8588848586532075, 1.301889821355421], result=0.010498830920643656, best_f=1.3322838913497606, steps_to_best_f=4, peak_memory=37643264, runtime_ms=0.147552490234375)\n"
     ]
    },
    {
     "name": "stderr",
     "output_type": "stream",
     "text": [
      "/home/salabed/anaconda3/envs/rocksdb/lib/python3.8/site-packages/botorch/optim/initializers.py:403: BadInitialCandidatesWarning: Unable to find non-zero acquisition function values - initial conditions are being selected randomly.\n",
      "  warnings.warn(\n"
     ]
    },
    {
     "name": "stdout",
     "output_type": "stream",
     "text": [
      "ExperimentResult(model='BoTorch', step=45, restart=0, candidate=[2.3941005782664915, 2.04552581424028, 3.101542838333212, 1.672401862204449, 1.9900701987938885], result=0.3547254593944114, best_f=1.3322838913497606, steps_to_best_f=4, peak_memory=37649408, runtime_ms=0.11142635345458984)\n"
     ]
    },
    {
     "name": "stderr",
     "output_type": "stream",
     "text": [
      "/home/salabed/anaconda3/envs/rocksdb/lib/python3.8/site-packages/botorch/optim/initializers.py:403: BadInitialCandidatesWarning: Unable to find non-zero acquisition function values - initial conditions are being selected randomly.\n",
      "  warnings.warn(\n"
     ]
    },
    {
     "name": "stdout",
     "output_type": "stream",
     "text": [
      "ExperimentResult(model='BoTorch', step=46, restart=0, candidate=[0.7278280504011203, 0.4703897468702989, 1.7320495572987205, 2.52134971968488, 0.6634036818748812], result=0.3245160194731949, best_f=1.3322838913497606, steps_to_best_f=4, peak_memory=37652992, runtime_ms=0.1185450553894043)\n"
     ]
    },
    {
     "name": "stderr",
     "output_type": "stream",
     "text": [
      "/home/salabed/anaconda3/envs/rocksdb/lib/python3.8/site-packages/botorch/optim/initializers.py:403: BadInitialCandidatesWarning: Unable to find non-zero acquisition function values - initial conditions are being selected randomly.\n",
      "  warnings.warn(\n"
     ]
    },
    {
     "name": "stdout",
     "output_type": "stream",
     "text": [
      "ExperimentResult(model='BoTorch', step=47, restart=0, candidate=[0.8023041351813909, 2.9200467970842094, 0.16508784043356872, 0.33914276622032835, 1.7039708803677933], result=0.912466029506881, best_f=1.3322838913497606, steps_to_best_f=4, peak_memory=37658112, runtime_ms=0.12637782096862793)\n"
     ]
    },
    {
     "name": "stderr",
     "output_type": "stream",
     "text": [
      "/home/salabed/anaconda3/envs/rocksdb/lib/python3.8/site-packages/botorch/optim/initializers.py:403: BadInitialCandidatesWarning: Unable to find non-zero acquisition function values - initial conditions are being selected randomly.\n",
      "  warnings.warn(\n"
     ]
    },
    {
     "name": "stdout",
     "output_type": "stream",
     "text": [
      "ExperimentResult(model='BoTorch', step=48, restart=0, candidate=[1.3440749382597594, 1.135397793492341, 2.7200911400501635, 0.3394594909191395, 2.025411225518634], result=0.0020404097786680684, best_f=1.3322838913497606, steps_to_best_f=4, peak_memory=37663232, runtime_ms=0.16631317138671875)\n"
     ]
    },
    {
     "name": "stderr",
     "output_type": "stream",
     "text": [
      "/home/salabed/anaconda3/envs/rocksdb/lib/python3.8/site-packages/botorch/optim/initializers.py:403: BadInitialCandidatesWarning: Unable to find non-zero acquisition function values - initial conditions are being selected randomly.\n",
      "  warnings.warn(\n"
     ]
    },
    {
     "name": "stdout",
     "output_type": "stream",
     "text": [
      "ExperimentResult(model='BoTorch', step=49, restart=0, candidate=[2.7120418456379025, 2.3537980588861727, 2.933811130349807, 2.0142650065922885, 1.4997152066611397], result=0.16025238225134014, best_f=1.3322838913497606, steps_to_best_f=4, peak_memory=37668352, runtime_ms=0.16645526885986328)\n"
     ]
    },
    {
     "name": "stderr",
     "output_type": "stream",
     "text": [
      "/home/salabed/anaconda3/envs/rocksdb/lib/python3.8/site-packages/botorch/optim/initializers.py:403: BadInitialCandidatesWarning: Unable to find non-zero acquisition function values - initial conditions are being selected randomly.\n",
      "  warnings.warn(\n"
     ]
    },
    {
     "name": "stdout",
     "output_type": "stream",
     "text": [
      "ExperimentResult(model='BoTorch', step=50, restart=0, candidate=[1.413683871048178, 2.7580439144945035, 0.07826536162716002, 1.9748853047395598, 0.1666234421774182], result=0.795801485723267, best_f=1.3322838913497606, steps_to_best_f=4, peak_memory=37673472, runtime_ms=0.1582345962524414)\n"
     ]
    },
    {
     "name": "stderr",
     "output_type": "stream",
     "text": [
      "/home/salabed/anaconda3/envs/rocksdb/lib/python3.8/site-packages/botorch/optim/initializers.py:403: BadInitialCandidatesWarning: Unable to find non-zero acquisition function values - initial conditions are being selected randomly.\n",
      "  warnings.warn(\n"
     ]
    },
    {
     "name": "stdout",
     "output_type": "stream",
     "text": [
      "ExperimentResult(model='BoTorch', step=51, restart=0, candidate=[1.431231573897297, 1.1039404925341467, 0.2743669550224548, 0.5988644333145166, 1.6892687463672207], result=0.7416896947514366, best_f=1.3322838913497606, steps_to_best_f=4, peak_memory=37678592, runtime_ms=0.1635746955871582)\n"
     ]
    },
    {
     "name": "stderr",
     "output_type": "stream",
     "text": [
      "/home/salabed/anaconda3/envs/rocksdb/lib/python3.8/site-packages/botorch/optim/initializers.py:403: BadInitialCandidatesWarning: Unable to find non-zero acquisition function values - initial conditions are being selected randomly.\n",
      "  warnings.warn(\n"
     ]
    },
    {
     "name": "stdout",
     "output_type": "stream",
     "text": [
      "ExperimentResult(model='BoTorch', step=52, restart=0, candidate=[3.0889744991474197, 0.7085346502852696, 2.298576533745668, 1.9639423495084762, 0.8801933074139989], result=1.1031211282738111, best_f=1.3322838913497606, steps_to_best_f=4, peak_memory=37683712, runtime_ms=0.16273784637451172)\n"
     ]
    },
    {
     "name": "stderr",
     "output_type": "stream",
     "text": [
      "/home/salabed/anaconda3/envs/rocksdb/lib/python3.8/site-packages/botorch/optim/initializers.py:403: BadInitialCandidatesWarning: Unable to find non-zero acquisition function values - initial conditions are being selected randomly.\n",
      "  warnings.warn(\n"
     ]
    },
    {
     "name": "stdout",
     "output_type": "stream",
     "text": [
      "ExperimentResult(model='BoTorch', step=53, restart=0, candidate=[1.5389590531597386, 3.0947509454517608, 1.536472259128444, 0.24396887700319336, 1.6275245842769182], result=0.08273058710028745, best_f=1.3322838913497606, steps_to_best_f=4, peak_memory=37688832, runtime_ms=0.16164898872375488)\n"
     ]
    },
    {
     "name": "stderr",
     "output_type": "stream",
     "text": [
      "/home/salabed/anaconda3/envs/rocksdb/lib/python3.8/site-packages/botorch/optim/initializers.py:403: BadInitialCandidatesWarning: Unable to find non-zero acquisition function values - initial conditions are being selected randomly.\n",
      "  warnings.warn(\n"
     ]
    },
    {
     "name": "stdout",
     "output_type": "stream",
     "text": [
      "ExperimentResult(model='BoTorch', step=54, restart=0, candidate=[2.311424787684536, 0.9943442026676685, 2.3353493096569258, 1.2347999139899368, 0.14851846115134792], result=0.910390265920496, best_f=1.3322838913497606, steps_to_best_f=4, peak_memory=37692416, runtime_ms=0.1058192253112793)\n"
     ]
    },
    {
     "name": "stderr",
     "output_type": "stream",
     "text": [
      "/home/salabed/anaconda3/envs/rocksdb/lib/python3.8/site-packages/botorch/optim/initializers.py:403: BadInitialCandidatesWarning: Unable to find non-zero acquisition function values - initial conditions are being selected randomly.\n",
      "  warnings.warn(\n"
     ]
    },
    {
     "name": "stdout",
     "output_type": "stream",
     "text": [
      "ExperimentResult(model='BoTorch', step=55, restart=0, candidate=[2.3631045909824144, 1.074948085722991, 0.8703029188444023, 2.3258618321442603, 1.9992212490265027], result=0.4570477792983645, best_f=1.3322838913497606, steps_to_best_f=4, peak_memory=37701632, runtime_ms=0.17813825607299805)\n"
     ]
    },
    {
     "name": "stderr",
     "output_type": "stream",
     "text": [
      "/home/salabed/anaconda3/envs/rocksdb/lib/python3.8/site-packages/botorch/optim/initializers.py:403: BadInitialCandidatesWarning: Unable to find non-zero acquisition function values - initial conditions are being selected randomly.\n",
      "  warnings.warn(\n"
     ]
    },
    {
     "name": "stdout",
     "output_type": "stream",
     "text": [
      "ExperimentResult(model='BoTorch', step=56, restart=0, candidate=[0.5042671825327327, 1.232841221696609, 2.5529461002687404, 1.382468513340338, 2.6208483342616695], result=0.4973457241856304, best_f=1.3322838913497606, steps_to_best_f=4, peak_memory=37706752, runtime_ms=0.15089988708496094)\n"
     ]
    },
    {
     "name": "stderr",
     "output_type": "stream",
     "text": [
      "/home/salabed/anaconda3/envs/rocksdb/lib/python3.8/site-packages/botorch/optim/initializers.py:403: BadInitialCandidatesWarning: Unable to find non-zero acquisition function values - initial conditions are being selected randomly.\n",
      "  warnings.warn(\n"
     ]
    },
    {
     "name": "stdout",
     "output_type": "stream",
     "text": [
      "ExperimentResult(model='BoTorch', step=57, restart=0, candidate=[0.00042134967691564995, 2.502669744543425, 0.9401279977850474, 1.729712267647615, 1.987073686053723], result=0.004140565178761096, best_f=1.3322838913497606, steps_to_best_f=4, peak_memory=37711872, runtime_ms=0.16039705276489258)\n",
      "ExperimentResult(model='BoTorch', step=58, restart=0, candidate=[2.017245374661457, 0.4045547581201127, 2.2459097589798107, 1.7475018636384825, 0.8464410420016228], result=1.2289174432435126, best_f=1.3322838913497606, steps_to_best_f=4, peak_memory=37715968, runtime_ms=4.141382455825806)\n",
      "ExperimentResult(model='BoTorch', step=59, restart=0, candidate=[0.3540663991920885, 0.8004223231955988, 1.2052156477353024, 1.48295124216668, 1.0104280836556123], result=1.4876007748238047, best_f=1.4876007748238047, steps_to_best_f=59, peak_memory=37721088, runtime_ms=3.9044225215911865)\n",
      "ExperimentResult(model='BoTorch', step=60, restart=0, candidate=[0.29364224544150486, 0.7617777870282499, 1.2282017291898504, 1.58824235654694, 0.8321333422962686], result=0.8698036329717971, best_f=1.4876007748238047, steps_to_best_f=59, peak_memory=37726208, runtime_ms=6.471013784408569)\n",
      "ExperimentResult(model='BoTorch', step=61, restart=0, candidate=[0.5863571753152013, 0.8534207261973282, 1.1891310220455586, 1.4351043189140251, 1.4620705430733976], result=0.5685315313964494, best_f=1.4876007748238047, steps_to_best_f=59, peak_memory=37731328, runtime_ms=4.732961654663086)\n",
      "ExperimentResult(model='BoTorch', step=62, restart=0, candidate=[2.078501867656811, 0.17782907650988464, 2.297177597636107, 1.9403869919755172, 0.9754809892515398], result=2.5209610527868516, best_f=2.5209610527868516, steps_to_best_f=62, peak_memory=37736448, runtime_ms=5.8206892013549805)\n",
      "ExperimentResult(model='BoTorch', step=63, restart=0, candidate=[1.9769042707640432, 0.6206959617243537, 2.054817424367943, 2.1014817453576917, 0.9779836258439553], result=1.1252457541076317, best_f=2.5209610527868516, steps_to_best_f=62, peak_memory=37964800, runtime_ms=0.6884119510650635)\n"
     ]
    },
    {
     "name": "stderr",
     "output_type": "stream",
     "text": [
      "/home/salabed/anaconda3/envs/rocksdb/lib/python3.8/site-packages/botorch/optim/initializers.py:403: BadInitialCandidatesWarning: Unable to find non-zero acquisition function values - initial conditions are being selected randomly.\n",
      "  warnings.warn(\n"
     ]
    },
    {
     "name": "stdout",
     "output_type": "stream",
     "text": [
      "ExperimentResult(model='BoTorch', step=64, restart=0, candidate=[0.762991104359062, 2.2330068436974626, 1.9571712388418372, 2.7726886845497556, 1.4226645264298499], result=-0.00011401496513884399, best_f=2.5209610527868516, steps_to_best_f=62, peak_memory=38006784, runtime_ms=0.23101472854614258)\n",
      "ExperimentResult(model='BoTorch', step=65, restart=0, candidate=[2.247534214897875, 0.036197793842817606, 2.3567993910170837, 1.932472277205907, 0.9671937342324887], result=2.4742708010580334, best_f=2.5209610527868516, steps_to_best_f=62, peak_memory=38048768, runtime_ms=0.36106133460998535)\n",
      "ExperimentResult(model='BoTorch', step=66, restart=0, candidate=[1.9999946012241527, 0.1523922923825893, 2.3581587637504486, 1.9993912369716702, 0.9685726768449948], result=1.3725564450164318, best_f=2.5209610527868516, steps_to_best_f=62, peak_memory=38092288, runtime_ms=0.38580775260925293)\n"
     ]
    },
    {
     "name": "stderr",
     "output_type": "stream",
     "text": [
      "/home/salabed/anaconda3/envs/rocksdb/lib/python3.8/site-packages/botorch/optim/initializers.py:403: BadInitialCandidatesWarning: Unable to find non-zero acquisition function values - initial conditions are being selected randomly.\n",
      "  warnings.warn(\n"
     ]
    },
    {
     "name": "stdout",
     "output_type": "stream",
     "text": [
      "ExperimentResult(model='BoTorch', step=67, restart=0, candidate=[2.84122747810423, 0.00949813633408736, 2.3607181794666765, 1.9467712310418017, 0.5123257167358397], result=0.831788386142731, best_f=2.5209610527868516, steps_to_best_f=62, peak_memory=38135296, runtime_ms=0.26239013671875)\n"
     ]
    },
    {
     "name": "stderr",
     "output_type": "stream",
     "text": [
      "/home/salabed/anaconda3/envs/rocksdb/lib/python3.8/site-packages/botorch/optim/initializers.py:403: BadInitialCandidatesWarning: Unable to find non-zero acquisition function values - initial conditions are being selected randomly.\n",
      "  warnings.warn(\n"
     ]
    },
    {
     "name": "stdout",
     "output_type": "stream",
     "text": [
      "ExperimentResult(model='BoTorch', step=68, restart=0, candidate=[2.5804585079279505, 3.030501740889535, 0.052217990393363944, 0.7754577912163696, 3.0962660195285507], result=0.022807520530951204, best_f=2.5209610527868516, steps_to_best_f=62, peak_memory=38178816, runtime_ms=0.237548828125)\n"
     ]
    },
    {
     "name": "stderr",
     "output_type": "stream",
     "text": [
      "/home/salabed/anaconda3/envs/rocksdb/lib/python3.8/site-packages/botorch/optim/initializers.py:403: BadInitialCandidatesWarning: Unable to find non-zero acquisition function values - initial conditions are being selected randomly.\n",
      "  warnings.warn(\n"
     ]
    },
    {
     "name": "stdout",
     "output_type": "stream",
     "text": [
      "ExperimentResult(model='BoTorch', step=69, restart=0, candidate=[2.3822555057992156, 0.9864374725520353, 2.052584996891432, 1.1337947248906344, 2.0250968005271073], result=1.2656722114530057, best_f=2.5209610527868516, steps_to_best_f=62, peak_memory=38220800, runtime_ms=0.36478424072265625)\n"
     ]
    },
    {
     "name": "stderr",
     "output_type": "stream",
     "text": [
      "/home/salabed/anaconda3/envs/rocksdb/lib/python3.8/site-packages/botorch/optim/initializers.py:403: BadInitialCandidatesWarning: Unable to find non-zero acquisition function values - initial conditions are being selected randomly.\n",
      "  warnings.warn(\n"
     ]
    },
    {
     "name": "stdout",
     "output_type": "stream",
     "text": [
      "ExperimentResult(model='BoTorch', step=70, restart=0, candidate=[1.0598687616918723, 2.500559602188809, 2.775034327463326, 0.758921702098887, 0.06584656778326425], result=0.028000370803614786, best_f=2.5209610527868516, steps_to_best_f=62, peak_memory=38262784, runtime_ms=0.25366950035095215)\n",
      "ExperimentResult(model='BoTorch', step=71, restart=0, candidate=[2.4331650424285685, 0.0, 2.362966400889083, 1.1458805121022912, 1.0045448247245532], result=1.9067348749465185, best_f=2.5209610527868516, steps_to_best_f=62, peak_memory=38306304, runtime_ms=0.2722482681274414)\n"
     ]
    },
    {
     "name": "stderr",
     "output_type": "stream",
     "text": [
      "/home/salabed/anaconda3/envs/rocksdb/lib/python3.8/site-packages/botorch/optim/initializers.py:403: BadInitialCandidatesWarning: Unable to find non-zero acquisition function values - initial conditions are being selected randomly.\n",
      "  warnings.warn(\n"
     ]
    },
    {
     "name": "stdout",
     "output_type": "stream",
     "text": [
      "ExperimentResult(model='BoTorch', step=72, restart=0, candidate=[0.7643553632810274, 1.2659172181478673, 1.1068423135102423, 2.519498414359067, 0.8648515387979927], result=0.727344387056293, best_f=2.5209610527868516, steps_to_best_f=62, peak_memory=38349824, runtime_ms=0.23627519607543945)\n"
     ]
    },
    {
     "name": "stderr",
     "output_type": "stream",
     "text": [
      "/home/salabed/anaconda3/envs/rocksdb/lib/python3.8/site-packages/botorch/optim/initializers.py:403: BadInitialCandidatesWarning: Unable to find non-zero acquisition function values - initial conditions are being selected randomly.\n",
      "  warnings.warn(\n"
     ]
    },
    {
     "name": "stdout",
     "output_type": "stream",
     "text": [
      "ExperimentResult(model='BoTorch', step=73, restart=0, candidate=[1.8645142563625783, 0.6727758726621835, 0.10353908031655146, 1.184232370264513, 1.5708816644843537], result=0.6848626615704839, best_f=2.5209610527868516, steps_to_best_f=62, peak_memory=38391808, runtime_ms=0.2652606964111328)\n"
     ]
    },
    {
     "name": "stderr",
     "output_type": "stream",
     "text": [
      "/home/salabed/anaconda3/envs/rocksdb/lib/python3.8/site-packages/botorch/optim/initializers.py:403: BadInitialCandidatesWarning: Unable to find non-zero acquisition function values - initial conditions are being selected randomly.\n",
      "  warnings.warn(\n"
     ]
    },
    {
     "name": "stdout",
     "output_type": "stream",
     "text": [
      "ExperimentResult(model='BoTorch', step=74, restart=0, candidate=[0.5160044964512911, 0.46657856721331714, 1.5854111156300443, 1.1974466112069648, 2.0998793608018405], result=0.48355268112267874, best_f=2.5209610527868516, steps_to_best_f=62, peak_memory=38435328, runtime_ms=0.2853841781616211)\n"
     ]
    },
    {
     "name": "stderr",
     "output_type": "stream",
     "text": [
      "/home/salabed/anaconda3/envs/rocksdb/lib/python3.8/site-packages/botorch/optim/initializers.py:403: BadInitialCandidatesWarning: Unable to find non-zero acquisition function values - initial conditions are being selected randomly.\n",
      "  warnings.warn(\n"
     ]
    },
    {
     "name": "stdout",
     "output_type": "stream",
     "text": [
      "ExperimentResult(model='BoTorch', step=75, restart=0, candidate=[2.395078729209051, 1.932135390638754, 1.6781332974440744, 2.4081447414359145, 0.9789064607713194], result=1.2321240466367223, best_f=2.5209610527868516, steps_to_best_f=62, peak_memory=38477312, runtime_ms=0.22862982749938965)\n"
     ]
    },
    {
     "name": "stderr",
     "output_type": "stream",
     "text": [
      "/home/salabed/anaconda3/envs/rocksdb/lib/python3.8/site-packages/botorch/optim/initializers.py:403: BadInitialCandidatesWarning: Unable to find non-zero acquisition function values - initial conditions are being selected randomly.\n",
      "  warnings.warn(\n"
     ]
    },
    {
     "name": "stdout",
     "output_type": "stream",
     "text": [
      "ExperimentResult(model='BoTorch', step=76, restart=0, candidate=[1.9660654416142909, 0.5265436248387001, 2.4756429086665976, 0.7157934949272726, 2.824939306794704], result=0.28313659748413533, best_f=2.5209610527868516, steps_to_best_f=62, peak_memory=38520832, runtime_ms=0.2792479991912842)\n"
     ]
    },
    {
     "name": "stderr",
     "output_type": "stream",
     "text": [
      "/home/salabed/anaconda3/envs/rocksdb/lib/python3.8/site-packages/botorch/optim/initializers.py:403: BadInitialCandidatesWarning: Unable to find non-zero acquisition function values - initial conditions are being selected randomly.\n",
      "  warnings.warn(\n"
     ]
    },
    {
     "name": "stdout",
     "output_type": "stream",
     "text": [
      "ExperimentResult(model='BoTorch', step=77, restart=0, candidate=[2.691490859663559, 0.591903368581671, 0.22689075331556952, 0.997858933670982, 0.5208320589529802], result=0.3315001872651984, best_f=2.5209610527868516, steps_to_best_f=62, peak_memory=38564352, runtime_ms=0.27812838554382324)\n"
     ]
    },
    {
     "name": "stderr",
     "output_type": "stream",
     "text": [
      "/home/salabed/anaconda3/envs/rocksdb/lib/python3.8/site-packages/botorch/optim/initializers.py:403: BadInitialCandidatesWarning: Unable to find non-zero acquisition function values - initial conditions are being selected randomly.\n",
      "  warnings.warn(\n"
     ]
    },
    {
     "name": "stdout",
     "output_type": "stream",
     "text": [
      "ExperimentResult(model='BoTorch', step=78, restart=0, candidate=[1.5846312749419922, 0.8668609065749966, 0.3779450425877573, 1.6928551574325768, 2.3414493037101893], result=0.0013313848970671403, best_f=2.5209610527868516, steps_to_best_f=62, peak_memory=38606336, runtime_ms=0.30779051780700684)\n"
     ]
    },
    {
     "name": "stderr",
     "output_type": "stream",
     "text": [
      "/home/salabed/anaconda3/envs/rocksdb/lib/python3.8/site-packages/botorch/optim/initializers.py:403: BadInitialCandidatesWarning: Unable to find non-zero acquisition function values - initial conditions are being selected randomly.\n",
      "  warnings.warn(\n"
     ]
    },
    {
     "name": "stdout",
     "output_type": "stream",
     "text": [
      "ExperimentResult(model='BoTorch', step=79, restart=0, candidate=[2.6988666587575816, 2.106798820143354, 0.3129544340481638, 1.4590264271579312, 2.7128298230765377], result=0.002294215935091781, best_f=2.5209610527868516, steps_to_best_f=62, peak_memory=38649856, runtime_ms=0.25780773162841797)\n"
     ]
    },
    {
     "name": "stderr",
     "output_type": "stream",
     "text": [
      "/home/salabed/anaconda3/envs/rocksdb/lib/python3.8/site-packages/botorch/optim/initializers.py:403: BadInitialCandidatesWarning: Unable to find non-zero acquisition function values - initial conditions are being selected randomly.\n",
      "  warnings.warn(\n"
     ]
    },
    {
     "name": "stdout",
     "output_type": "stream",
     "text": [
      "ExperimentResult(model='BoTorch', step=80, restart=0, candidate=[1.5581257323822006, 2.5119632361875457, 2.1846138399822967, 2.05329406160084, 1.2735481413845051], result=0.6545997053835659, best_f=2.5209610527868516, steps_to_best_f=62, peak_memory=38694400, runtime_ms=0.2904975414276123)\n"
     ]
    },
    {
     "name": "stderr",
     "output_type": "stream",
     "text": [
      "/home/salabed/anaconda3/envs/rocksdb/lib/python3.8/site-packages/botorch/optim/initializers.py:403: BadInitialCandidatesWarning: Unable to find non-zero acquisition function values - initial conditions are being selected randomly.\n",
      "  warnings.warn(\n"
     ]
    },
    {
     "name": "stdout",
     "output_type": "stream",
     "text": [
      "ExperimentResult(model='BoTorch', step=81, restart=0, candidate=[2.244477953331565, 0.5128368574011233, 1.8050243252842013, 0.606004336861693, 1.611462419187747], result=0.8015386368126171, best_f=2.5209610527868516, steps_to_best_f=62, peak_memory=38737920, runtime_ms=0.21855711936950684)\n"
     ]
    },
    {
     "name": "stderr",
     "output_type": "stream",
     "text": [
      "/home/salabed/anaconda3/envs/rocksdb/lib/python3.8/site-packages/botorch/optim/initializers.py:403: BadInitialCandidatesWarning: Unable to find non-zero acquisition function values - initial conditions are being selected randomly.\n",
      "  warnings.warn(\n"
     ]
    },
    {
     "name": "stdout",
     "output_type": "stream",
     "text": [
      "ExperimentResult(model='BoTorch', step=82, restart=0, candidate=[1.822745085495241, 0.43020362603311435, 0.12108513884570349, 2.667445711314669, 0.6682305685083989], result=0.06139213917436103, best_f=2.5209610527868516, steps_to_best_f=62, peak_memory=38781440, runtime_ms=0.2414383888244629)\n"
     ]
    },
    {
     "name": "stderr",
     "output_type": "stream",
     "text": [
      "/home/salabed/anaconda3/envs/rocksdb/lib/python3.8/site-packages/botorch/optim/initializers.py:403: BadInitialCandidatesWarning: Unable to find non-zero acquisition function values - initial conditions are being selected randomly.\n",
      "  warnings.warn(\n"
     ]
    },
    {
     "name": "stdout",
     "output_type": "stream",
     "text": [
      "ExperimentResult(model='BoTorch', step=83, restart=0, candidate=[2.3366121473914694, 1.9321485071626177, 2.6445356674675944, 1.549113583299242, 2.4184198189543404], result=0.5451155061774451, best_f=2.5209610527868516, steps_to_best_f=62, peak_memory=38824960, runtime_ms=0.27218151092529297)\n"
     ]
    },
    {
     "name": "stderr",
     "output_type": "stream",
     "text": [
      "/home/salabed/anaconda3/envs/rocksdb/lib/python3.8/site-packages/botorch/optim/initializers.py:403: BadInitialCandidatesWarning: Unable to find non-zero acquisition function values - initial conditions are being selected randomly.\n",
      "  warnings.warn(\n"
     ]
    },
    {
     "name": "stdout",
     "output_type": "stream",
     "text": [
      "ExperimentResult(model='BoTorch', step=84, restart=0, candidate=[2.5256863063846513, 2.4104552626112605, 1.603235775211801, 0.31882237710340045, 1.2263097077596596], result=0.06507574305075985, best_f=2.5209610527868516, steps_to_best_f=62, peak_memory=38868480, runtime_ms=0.2407524585723877)\n"
     ]
    },
    {
     "name": "stderr",
     "output_type": "stream",
     "text": [
      "/home/salabed/anaconda3/envs/rocksdb/lib/python3.8/site-packages/botorch/optim/initializers.py:403: BadInitialCandidatesWarning: Unable to find non-zero acquisition function values - initial conditions are being selected randomly.\n",
      "  warnings.warn(\n"
     ]
    },
    {
     "name": "stdout",
     "output_type": "stream",
     "text": [
      "ExperimentResult(model='BoTorch', step=85, restart=0, candidate=[1.505566320306324, 2.2724967910597127, 1.2753674058776543, 0.21865515335489305, 0.682392505363989], result=0.9543236138219061, best_f=2.5209610527868516, steps_to_best_f=62, peak_memory=38912000, runtime_ms=0.24506402015686035)\n"
     ]
    },
    {
     "name": "stderr",
     "output_type": "stream",
     "text": [
      "/home/salabed/anaconda3/envs/rocksdb/lib/python3.8/site-packages/botorch/optim/initializers.py:403: BadInitialCandidatesWarning: Unable to find non-zero acquisition function values - initial conditions are being selected randomly.\n",
      "  warnings.warn(\n"
     ]
    },
    {
     "name": "stdout",
     "output_type": "stream",
     "text": [
      "ExperimentResult(model='BoTorch', step=86, restart=0, candidate=[1.6753068430836837, 0.9834596763862968, 2.155726420952939, 2.472102620483728, 0.08881533901534677], result=0.9834756177339409, best_f=2.5209610527868516, steps_to_best_f=62, peak_memory=38953984, runtime_ms=0.24102568626403809)\n"
     ]
    },
    {
     "name": "stderr",
     "output_type": "stream",
     "text": [
      "/home/salabed/anaconda3/envs/rocksdb/lib/python3.8/site-packages/botorch/optim/initializers.py:403: BadInitialCandidatesWarning: Unable to find non-zero acquisition function values - initial conditions are being selected randomly.\n",
      "  warnings.warn(\n"
     ]
    },
    {
     "name": "stdout",
     "output_type": "stream",
     "text": [
      "ExperimentResult(model='BoTorch', step=87, restart=0, candidate=[2.197648589648936, 1.7500363667248953, 1.5338582351082553, 0.3190383213729264, 1.8185196366850442], result=1.0729165866768042, best_f=2.5209610527868516, steps_to_best_f=62, peak_memory=38999040, runtime_ms=0.24250435829162598)\n"
     ]
    },
    {
     "name": "stderr",
     "output_type": "stream",
     "text": [
      "/home/salabed/anaconda3/envs/rocksdb/lib/python3.8/site-packages/botorch/optim/initializers.py:403: BadInitialCandidatesWarning: Unable to find non-zero acquisition function values - initial conditions are being selected randomly.\n",
      "  warnings.warn(\n"
     ]
    },
    {
     "name": "stdout",
     "output_type": "stream",
     "text": [
      "ExperimentResult(model='BoTorch', step=88, restart=0, candidate=[2.6411342482501823, 0.0061514448835431335, 1.8453104746107574, 1.9909273312978915, 0.5439120031846723], result=0.2971175710682628, best_f=2.5209610527868516, steps_to_best_f=62, peak_memory=39042560, runtime_ms=0.21694540977478027)\n"
     ]
    },
    {
     "name": "stderr",
     "output_type": "stream",
     "text": [
      "/home/salabed/anaconda3/envs/rocksdb/lib/python3.8/site-packages/botorch/optim/initializers.py:403: BadInitialCandidatesWarning: Unable to find non-zero acquisition function values - initial conditions are being selected randomly.\n",
      "  warnings.warn(\n"
     ]
    },
    {
     "name": "stdout",
     "output_type": "stream",
     "text": [
      "ExperimentResult(model='BoTorch', step=89, restart=0, candidate=[0.919251366237197, 0.26345964525428256, 0.11782322642604814, 2.9387420714233627, 0.4701921007806176], result=0.2015136079848517, best_f=2.5209610527868516, steps_to_best_f=62, peak_memory=39086080, runtime_ms=0.25568532943725586)\n"
     ]
    },
    {
     "name": "stderr",
     "output_type": "stream",
     "text": [
      "/home/salabed/anaconda3/envs/rocksdb/lib/python3.8/site-packages/botorch/optim/initializers.py:403: BadInitialCandidatesWarning: Unable to find non-zero acquisition function values - initial conditions are being selected randomly.\n",
      "  warnings.warn(\n"
     ]
    },
    {
     "name": "stdout",
     "output_type": "stream",
     "text": [
      "ExperimentResult(model='BoTorch', step=90, restart=0, candidate=[2.550475357375058, 0.16157513703476956, 0.9205924759428319, 0.5452871286624328, 1.7429152090105082], result=0.8900703217832072, best_f=2.5209610527868516, steps_to_best_f=62, peak_memory=39129600, runtime_ms=0.2138059139251709)\n"
     ]
    },
    {
     "name": "stderr",
     "output_type": "stream",
     "text": [
      "/home/salabed/anaconda3/envs/rocksdb/lib/python3.8/site-packages/botorch/optim/initializers.py:403: BadInitialCandidatesWarning: Unable to find non-zero acquisition function values - initial conditions are being selected randomly.\n",
      "  warnings.warn(\n"
     ]
    },
    {
     "name": "stdout",
     "output_type": "stream",
     "text": [
      "ExperimentResult(model='BoTorch', step=91, restart=0, candidate=[1.6102795972226935, 0.5505168736878296, 3.0754020012607306, 1.0386584794825626, 1.7464165104254803], result=1.389531247334974, best_f=2.5209610527868516, steps_to_best_f=62, peak_memory=39173120, runtime_ms=0.2330033779144287)\n"
     ]
    },
    {
     "name": "stderr",
     "output_type": "stream",
     "text": [
      "/home/salabed/anaconda3/envs/rocksdb/lib/python3.8/site-packages/botorch/optim/initializers.py:403: BadInitialCandidatesWarning: Unable to find non-zero acquisition function values - initial conditions are being selected randomly.\n",
      "  warnings.warn(\n"
     ]
    },
    {
     "name": "stdout",
     "output_type": "stream",
     "text": [
      "ExperimentResult(model='BoTorch', step=92, restart=0, candidate=[0.49095320275869714, 0.33190929443019823, 2.6297052765096076, 0.06301422371452259, 0.39800164708679975], result=-4.819710709653082e-05, best_f=2.5209610527868516, steps_to_best_f=62, peak_memory=40037888, runtime_ms=0.2770857810974121)\n"
     ]
    },
    {
     "name": "stderr",
     "output_type": "stream",
     "text": [
      "/home/salabed/anaconda3/envs/rocksdb/lib/python3.8/site-packages/botorch/optim/initializers.py:403: BadInitialCandidatesWarning: Unable to find non-zero acquisition function values - initial conditions are being selected randomly.\n",
      "  warnings.warn(\n"
     ]
    },
    {
     "name": "stdout",
     "output_type": "stream",
     "text": [
      "ExperimentResult(model='BoTorch', step=93, restart=0, candidate=[1.7491745645862533, 2.3134340355022545, 2.868606962097223, 0.7904810094117509, 2.970015047624276], result=0.4474435806547452, best_f=2.5209610527868516, steps_to_best_f=62, peak_memory=40051712, runtime_ms=0.24791312217712402)\n"
     ]
    },
    {
     "name": "stderr",
     "output_type": "stream",
     "text": [
      "/home/salabed/anaconda3/envs/rocksdb/lib/python3.8/site-packages/botorch/optim/initializers.py:403: BadInitialCandidatesWarning: Unable to find non-zero acquisition function values - initial conditions are being selected randomly.\n",
      "  warnings.warn(\n"
     ]
    },
    {
     "name": "stdout",
     "output_type": "stream",
     "text": [
      "ExperimentResult(model='BoTorch', step=94, restart=0, candidate=[3.0631621749679603, 2.015768280771523, 0.036021936112016206, 2.569220754214838, 2.0255789783394516], result=0.022326504522386256, best_f=2.5209610527868516, steps_to_best_f=62, peak_memory=40064512, runtime_ms=0.22011327743530273)\n"
     ]
    },
    {
     "name": "stderr",
     "output_type": "stream",
     "text": [
      "/home/salabed/anaconda3/envs/rocksdb/lib/python3.8/site-packages/botorch/optim/initializers.py:403: BadInitialCandidatesWarning: Unable to find non-zero acquisition function values - initial conditions are being selected randomly.\n",
      "  warnings.warn(\n"
     ]
    },
    {
     "name": "stdout",
     "output_type": "stream",
     "text": [
      "ExperimentResult(model='BoTorch', step=95, restart=0, candidate=[2.7694521040202655, 2.0865648134155745, 3.120152842100988, 2.3415362741924217, 2.1498553823629605], result=0.06292154832994531, best_f=2.5209610527868516, steps_to_best_f=62, peak_memory=40078848, runtime_ms=0.23044824600219727)\n"
     ]
    },
    {
     "name": "stderr",
     "output_type": "stream",
     "text": [
      "/home/salabed/anaconda3/envs/rocksdb/lib/python3.8/site-packages/botorch/optim/initializers.py:403: BadInitialCandidatesWarning: Unable to find non-zero acquisition function values - initial conditions are being selected randomly.\n",
      "  warnings.warn(\n"
     ]
    },
    {
     "name": "stdout",
     "output_type": "stream",
     "text": [
      "ExperimentResult(model='BoTorch', step=96, restart=0, candidate=[0.3001759144902383, 0.5317969374750098, 0.875204929249217, 2.726283128246484, 2.3550275596425987], result=0.00028368812415731766, best_f=2.5209610527868516, steps_to_best_f=62, peak_memory=40091648, runtime_ms=0.21930551528930664)\n"
     ]
    },
    {
     "name": "stderr",
     "output_type": "stream",
     "text": [
      "/home/salabed/anaconda3/envs/rocksdb/lib/python3.8/site-packages/botorch/optim/initializers.py:403: BadInitialCandidatesWarning: Unable to find non-zero acquisition function values - initial conditions are being selected randomly.\n",
      "  warnings.warn(\n"
     ]
    },
    {
     "name": "stdout",
     "output_type": "stream",
     "text": [
      "ExperimentResult(model='BoTorch', step=97, restart=0, candidate=[2.38301796116833, 1.8502112795710413, 0.8869897119349324, 2.4567099393913105, 1.190196011571486], result=0.8889479704207309, best_f=2.5209610527868516, steps_to_best_f=62, peak_memory=40104448, runtime_ms=0.22049355506896973)\n"
     ]
    },
    {
     "name": "stderr",
     "output_type": "stream",
     "text": [
      "/home/salabed/anaconda3/envs/rocksdb/lib/python3.8/site-packages/botorch/optim/initializers.py:403: BadInitialCandidatesWarning: Unable to find non-zero acquisition function values - initial conditions are being selected randomly.\n",
      "  warnings.warn(\n"
     ]
    },
    {
     "name": "stdout",
     "output_type": "stream",
     "text": [
      "ExperimentResult(model='BoTorch', step=98, restart=0, candidate=[0.6787465740120036, 2.5145067417026787, 0.3986900524665171, 1.682808839346408, 2.7609722845086404], result=0.003374102715361725, best_f=2.5209610527868516, steps_to_best_f=62, peak_memory=40118784, runtime_ms=0.25864291191101074)\n"
     ]
    },
    {
     "name": "stderr",
     "output_type": "stream",
     "text": [
      "/home/salabed/anaconda3/envs/rocksdb/lib/python3.8/site-packages/botorch/optim/initializers.py:403: BadInitialCandidatesWarning: Unable to find non-zero acquisition function values - initial conditions are being selected randomly.\n",
      "  warnings.warn(\n"
     ]
    },
    {
     "name": "stdout",
     "output_type": "stream",
     "text": [
      "ExperimentResult(model='BoTorch', step=99, restart=0, candidate=[0.9698457194000876, 1.4469739099754064, 0.7662205370706177, 1.5346397757071628, 1.0032059725454023], result=1.3957011696294406, best_f=2.5209610527868516, steps_to_best_f=62, peak_memory=40131584, runtime_ms=0.23437905311584473)\n"
     ]
    },
    {
     "name": "stderr",
     "output_type": "stream",
     "text": [
      "/home/salabed/anaconda3/envs/rocksdb/lib/python3.8/site-packages/botorch/optim/initializers.py:403: BadInitialCandidatesWarning: Unable to find non-zero acquisition function values - initial conditions are being selected randomly.\n",
      "  warnings.warn(\n"
     ]
    },
    {
     "name": "stdout",
     "output_type": "stream",
     "text": [
      "ExperimentResult(model='BoTorch', step=100, restart=0, candidate=[1.5319990446537757, 0.7664544196421308, 0.9415004080867773, 2.6382569282267596, 2.611477618095832], result=0.41652993950975115, best_f=2.5209610527868516, steps_to_best_f=62, peak_memory=40145920, runtime_ms=0.27174854278564453)\n"
     ]
    },
    {
     "name": "stderr",
     "output_type": "stream",
     "text": [
      "/home/salabed/anaconda3/envs/rocksdb/lib/python3.8/site-packages/botorch/optim/initializers.py:403: BadInitialCandidatesWarning: Unable to find non-zero acquisition function values - initial conditions are being selected randomly.\n",
      "  warnings.warn(\n"
     ]
    },
    {
     "name": "stdout",
     "output_type": "stream",
     "text": [
      "ExperimentResult(model='BoTorch', step=101, restart=0, candidate=[1.4120626593359475, 0.3414772646236608, 0.004589501836025356, 2.344931534524549, 0.7840404772785192], result=0.0169613851954406, best_f=2.5209610527868516, steps_to_best_f=62, peak_memory=40158720, runtime_ms=0.28622889518737793)\n"
     ]
    },
    {
     "name": "stderr",
     "output_type": "stream",
     "text": [
      "/home/salabed/anaconda3/envs/rocksdb/lib/python3.8/site-packages/botorch/optim/initializers.py:403: BadInitialCandidatesWarning: Unable to find non-zero acquisition function values - initial conditions are being selected randomly.\n",
      "  warnings.warn(\n"
     ]
    },
    {
     "name": "stdout",
     "output_type": "stream",
     "text": [
      "ExperimentResult(model='BoTorch', step=102, restart=0, candidate=[2.958524165188864, 0.013721926195136014, 1.3831481061013007, 1.080276197362775, 3.0327644568265564], result=1.334707479096552, best_f=2.5209610527868516, steps_to_best_f=62, peak_memory=40641536, runtime_ms=0.27692198753356934)\n"
     ]
    },
    {
     "name": "stderr",
     "output_type": "stream",
     "text": [
      "/home/salabed/anaconda3/envs/rocksdb/lib/python3.8/site-packages/botorch/optim/initializers.py:403: BadInitialCandidatesWarning: Unable to find non-zero acquisition function values - initial conditions are being selected randomly.\n",
      "  warnings.warn(\n"
     ]
    },
    {
     "name": "stdout",
     "output_type": "stream",
     "text": [
      "ExperimentResult(model='BoTorch', step=103, restart=0, candidate=[1.5443786732537634, 2.4878413694866075, 0.9077381830779641, 1.2073020682176927, 1.1203457996975397], result=0.5497656588398957, best_f=2.5209610527868516, steps_to_best_f=62, peak_memory=40680448, runtime_ms=0.28825950622558594)\n"
     ]
    },
    {
     "name": "stderr",
     "output_type": "stream",
     "text": [
      "/home/salabed/anaconda3/envs/rocksdb/lib/python3.8/site-packages/botorch/optim/initializers.py:403: BadInitialCandidatesWarning: Unable to find non-zero acquisition function values - initial conditions are being selected randomly.\n",
      "  warnings.warn(\n"
     ]
    },
    {
     "name": "stdout",
     "output_type": "stream",
     "text": [
      "ExperimentResult(model='BoTorch', step=104, restart=0, candidate=[2.982671156045594, 2.5182376334874004, 1.4332214643824515, 0.13470937136878747, 2.454915175850835], result=0.21081231598596661, best_f=2.5209610527868516, steps_to_best_f=62, peak_memory=40719360, runtime_ms=0.2855226993560791)\n"
     ]
    },
    {
     "name": "stderr",
     "output_type": "stream",
     "text": [
      "/home/salabed/anaconda3/envs/rocksdb/lib/python3.8/site-packages/botorch/optim/initializers.py:403: BadInitialCandidatesWarning: Unable to find non-zero acquisition function values - initial conditions are being selected randomly.\n",
      "  warnings.warn(\n"
     ]
    },
    {
     "name": "stdout",
     "output_type": "stream",
     "text": [
      "ExperimentResult(model='BoTorch', step=105, restart=0, candidate=[1.3772460624246874, 0.8868428466590317, 2.602760469377603, 0.20976049707782218, 1.0449136891483557], result=0.6535756566580532, best_f=2.5209610527868516, steps_to_best_f=62, peak_memory=40756736, runtime_ms=0.2898883819580078)\n"
     ]
    },
    {
     "name": "stderr",
     "output_type": "stream",
     "text": [
      "/home/salabed/anaconda3/envs/rocksdb/lib/python3.8/site-packages/botorch/optim/initializers.py:403: BadInitialCandidatesWarning: Unable to find non-zero acquisition function values - initial conditions are being selected randomly.\n",
      "  warnings.warn(\n"
     ]
    },
    {
     "name": "stdout",
     "output_type": "stream",
     "text": [
      "ExperimentResult(model='BoTorch', step=106, restart=0, candidate=[1.504657731120369, 0.018901642346665914, 2.4285437185142476, 0.8452290552510533, 1.7067419749806878], result=0.9417890772407749, best_f=2.5209610527868516, steps_to_best_f=62, peak_memory=40796672, runtime_ms=0.2678563594818115)\n"
     ]
    },
    {
     "name": "stderr",
     "output_type": "stream",
     "text": [
      "/home/salabed/anaconda3/envs/rocksdb/lib/python3.8/site-packages/botorch/optim/initializers.py:403: BadInitialCandidatesWarning: Unable to find non-zero acquisition function values - initial conditions are being selected randomly.\n",
      "  warnings.warn(\n"
     ]
    },
    {
     "name": "stdout",
     "output_type": "stream",
     "text": [
      "ExperimentResult(model='BoTorch', step=107, restart=0, candidate=[2.3281815609262537, 0.9584014367584692, 2.3067693872388784, 2.221151688798504, 1.8006511071147058], result=0.877662512268671, best_f=2.5209610527868516, steps_to_best_f=62, peak_memory=40834048, runtime_ms=0.25633859634399414)\n"
     ]
    },
    {
     "name": "stderr",
     "output_type": "stream",
     "text": [
      "/home/salabed/anaconda3/envs/rocksdb/lib/python3.8/site-packages/botorch/optim/initializers.py:403: BadInitialCandidatesWarning: Unable to find non-zero acquisition function values - initial conditions are being selected randomly.\n",
      "  warnings.warn(\n"
     ]
    },
    {
     "name": "stdout",
     "output_type": "stream",
     "text": [
      "ExperimentResult(model='BoTorch', step=108, restart=0, candidate=[2.8190890240870115, 2.7695251328928148, 0.4799570850831336, 3.136585681383399, 0.8731884165801151], result=0.47922451643382874, best_f=2.5209610527868516, steps_to_best_f=62, peak_memory=40872960, runtime_ms=0.24603724479675293)\n"
     ]
    },
    {
     "name": "stderr",
     "output_type": "stream",
     "text": [
      "/home/salabed/anaconda3/envs/rocksdb/lib/python3.8/site-packages/botorch/optim/initializers.py:403: BadInitialCandidatesWarning: Unable to find non-zero acquisition function values - initial conditions are being selected randomly.\n",
      "  warnings.warn(\n"
     ]
    },
    {
     "name": "stdout",
     "output_type": "stream",
     "text": [
      "ExperimentResult(model='BoTorch', step=109, restart=0, candidate=[0.0714220822838263, 1.4810782705707748, 0.030173912149901172, 0.4547972809019085, 2.4337894473830235], result=0.7338585948693581, best_f=2.5209610527868516, steps_to_best_f=62, peak_memory=40911872, runtime_ms=0.3045499324798584)\n"
     ]
    },
    {
     "name": "stderr",
     "output_type": "stream",
     "text": [
      "/home/salabed/anaconda3/envs/rocksdb/lib/python3.8/site-packages/botorch/optim/initializers.py:403: BadInitialCandidatesWarning: Unable to find non-zero acquisition function values - initial conditions are being selected randomly.\n",
      "  warnings.warn(\n"
     ]
    },
    {
     "name": "stdout",
     "output_type": "stream",
     "text": [
      "ExperimentResult(model='BoTorch', step=110, restart=0, candidate=[0.5314054225502329, 1.8809882241250142, 3.0518735848501786, 2.179163580531167, 2.8781888797520416], result=0.006119872445463846, best_f=2.5209610527868516, steps_to_best_f=62, peak_memory=40949248, runtime_ms=0.2641775608062744)\n"
     ]
    },
    {
     "name": "stderr",
     "output_type": "stream",
     "text": [
      "/home/salabed/anaconda3/envs/rocksdb/lib/python3.8/site-packages/botorch/optim/initializers.py:403: BadInitialCandidatesWarning: Unable to find non-zero acquisition function values - initial conditions are being selected randomly.\n",
      "  warnings.warn(\n"
     ]
    },
    {
     "name": "stdout",
     "output_type": "stream",
     "text": [
      "ExperimentResult(model='BoTorch', step=111, restart=0, candidate=[0.9803345175524969, 2.1031573506916343, 0.21207846743223513, 2.7630074815679704, 1.710491255646177], result=0.9596814267885616, best_f=2.5209610527868516, steps_to_best_f=62, peak_memory=40988160, runtime_ms=0.24955224990844727)\n"
     ]
    },
    {
     "name": "stderr",
     "output_type": "stream",
     "text": [
      "/home/salabed/anaconda3/envs/rocksdb/lib/python3.8/site-packages/botorch/optim/initializers.py:403: BadInitialCandidatesWarning: Unable to find non-zero acquisition function values - initial conditions are being selected randomly.\n",
      "  warnings.warn(\n"
     ]
    },
    {
     "name": "stdout",
     "output_type": "stream",
     "text": [
      "ExperimentResult(model='BoTorch', step=112, restart=0, candidate=[2.370191112647393, 3.036397107807849, 2.2488333707133767, 0.5148928191202484, 0.5823606512807955], result=1.1118236440878178, best_f=2.5209610527868516, steps_to_best_f=62, peak_memory=42074624, runtime_ms=0.27114105224609375)\n"
     ]
    },
    {
     "name": "stderr",
     "output_type": "stream",
     "text": [
      "/home/salabed/anaconda3/envs/rocksdb/lib/python3.8/site-packages/botorch/optim/initializers.py:403: BadInitialCandidatesWarning: Unable to find non-zero acquisition function values - initial conditions are being selected randomly.\n",
      "  warnings.warn(\n"
     ]
    },
    {
     "name": "stdout",
     "output_type": "stream",
     "text": [
      "ExperimentResult(model='BoTorch', step=113, restart=0, candidate=[0.017999162306779892, 1.9039069664832298, 2.235068654163231, 2.2721514604599835, 3.121820501463528], result=0.7637587386391118, best_f=2.5209610527868516, steps_to_best_f=62, peak_memory=42103296, runtime_ms=0.23614096641540527)\n"
     ]
    },
    {
     "name": "stderr",
     "output_type": "stream",
     "text": [
      "/home/salabed/anaconda3/envs/rocksdb/lib/python3.8/site-packages/botorch/optim/initializers.py:403: BadInitialCandidatesWarning: Unable to find non-zero acquisition function values - initial conditions are being selected randomly.\n",
      "  warnings.warn(\n"
     ]
    },
    {
     "name": "stdout",
     "output_type": "stream",
     "text": [
      "ExperimentResult(model='BoTorch', step=114, restart=0, candidate=[0.6388195769355742, 0.9165603576138626, 2.8868913436981822, 2.148246271909419, 2.3827849007568003], result=0.2258788439319033, best_f=2.5209610527868516, steps_to_best_f=62, peak_memory=42131968, runtime_ms=0.2686042785644531)\n"
     ]
    },
    {
     "name": "stderr",
     "output_type": "stream",
     "text": [
      "/home/salabed/anaconda3/envs/rocksdb/lib/python3.8/site-packages/botorch/optim/initializers.py:403: BadInitialCandidatesWarning: Unable to find non-zero acquisition function values - initial conditions are being selected randomly.\n",
      "  warnings.warn(\n"
     ]
    },
    {
     "name": "stdout",
     "output_type": "stream",
     "text": [
      "ExperimentResult(model='BoTorch', step=115, restart=0, candidate=[2.0705186116889287, 0.7202329569550769, 0.9968680728957957, 2.2094213383701966, 1.1121715515969788], result=0.7615356375605854, best_f=2.5209610527868516, steps_to_best_f=62, peak_memory=42160640, runtime_ms=0.2678561210632324)\n"
     ]
    },
    {
     "name": "stderr",
     "output_type": "stream",
     "text": [
      "/home/salabed/anaconda3/envs/rocksdb/lib/python3.8/site-packages/botorch/optim/initializers.py:403: BadInitialCandidatesWarning: Unable to find non-zero acquisition function values - initial conditions are being selected randomly.\n",
      "  warnings.warn(\n"
     ]
    },
    {
     "name": "stdout",
     "output_type": "stream",
     "text": [
      "ExperimentResult(model='BoTorch', step=116, restart=0, candidate=[2.9913504737012406, 1.5080242392597665, 0.9360726219838067, 1.495368897407543, 2.2325640388633996], result=1.6007703542740757, best_f=2.5209610527868516, steps_to_best_f=62, peak_memory=42189312, runtime_ms=0.23787856101989746)\n"
     ]
    },
    {
     "name": "stderr",
     "output_type": "stream",
     "text": [
      "/home/salabed/anaconda3/envs/rocksdb/lib/python3.8/site-packages/botorch/optim/initializers.py:403: BadInitialCandidatesWarning: Unable to find non-zero acquisition function values - initial conditions are being selected randomly.\n",
      "  warnings.warn(\n"
     ]
    },
    {
     "name": "stdout",
     "output_type": "stream",
     "text": [
      "ExperimentResult(model='BoTorch', step=117, restart=0, candidate=[1.8593257100372762, 0.6921938344042777, 3.024035557949988, 0.9069724127363898, 0.09863778966745174], result=0.14071808919102322, best_f=2.5209610527868516, steps_to_best_f=62, peak_memory=42217984, runtime_ms=0.2688908576965332)\n"
     ]
    },
    {
     "name": "stderr",
     "output_type": "stream",
     "text": [
      "/home/salabed/anaconda3/envs/rocksdb/lib/python3.8/site-packages/botorch/optim/initializers.py:403: BadInitialCandidatesWarning: Unable to find non-zero acquisition function values - initial conditions are being selected randomly.\n",
      "  warnings.warn(\n"
     ]
    },
    {
     "name": "stdout",
     "output_type": "stream",
     "text": [
      "ExperimentResult(model='BoTorch', step=118, restart=0, candidate=[2.718246654848626, 1.697424099417344, 2.499426776913424, 2.9903682587721434, 0.11035093910450433], result=0.5235292577192885, best_f=2.5209610527868516, steps_to_best_f=62, peak_memory=42245120, runtime_ms=0.24307918548583984)\n"
     ]
    },
    {
     "name": "stderr",
     "output_type": "stream",
     "text": [
      "/home/salabed/anaconda3/envs/rocksdb/lib/python3.8/site-packages/botorch/optim/initializers.py:403: BadInitialCandidatesWarning: Unable to find non-zero acquisition function values - initial conditions are being selected randomly.\n",
      "  warnings.warn(\n"
     ]
    },
    {
     "name": "stdout",
     "output_type": "stream",
     "text": [
      "ExperimentResult(model='BoTorch', step=119, restart=0, candidate=[2.017343703146598, 2.7488396286715036, 1.435326229050059, 0.05667030854560662, 1.134923228705893], result=1.0460503142926156, best_f=2.5209610527868516, steps_to_best_f=62, peak_memory=42277888, runtime_ms=0.2239830493927002)\n"
     ]
    },
    {
     "name": "stderr",
     "output_type": "stream",
     "text": [
      "/home/salabed/anaconda3/envs/rocksdb/lib/python3.8/site-packages/botorch/optim/initializers.py:403: BadInitialCandidatesWarning: Unable to find non-zero acquisition function values - initial conditions are being selected randomly.\n",
      "  warnings.warn(\n"
     ]
    },
    {
     "name": "stdout",
     "output_type": "stream",
     "text": [
      "ExperimentResult(model='BoTorch', step=120, restart=0, candidate=[0.7149523053049411, 2.8969469600919218, 1.4696270127355604, 3.0101856732327334, 1.9653267498871174], result=0.08919171922121286, best_f=2.5209610527868516, steps_to_best_f=62, peak_memory=42306560, runtime_ms=0.29938793182373047)\n"
     ]
    },
    {
     "name": "stderr",
     "output_type": "stream",
     "text": [
      "/home/salabed/anaconda3/envs/rocksdb/lib/python3.8/site-packages/botorch/optim/initializers.py:403: BadInitialCandidatesWarning: Unable to find non-zero acquisition function values - initial conditions are being selected randomly.\n",
      "  warnings.warn(\n"
     ]
    },
    {
     "name": "stdout",
     "output_type": "stream",
     "text": [
      "ExperimentResult(model='BoTorch', step=121, restart=0, candidate=[1.829608915912324, 0.774726218048768, 2.87138903444769, 0.8841657942745618, 1.1303148815586461], result=0.4543774888006305, best_f=2.5209610527868516, steps_to_best_f=62, peak_memory=42335232, runtime_ms=0.26898694038391113)\n"
     ]
    },
    {
     "name": "stderr",
     "output_type": "stream",
     "text": [
      "/home/salabed/anaconda3/envs/rocksdb/lib/python3.8/site-packages/botorch/optim/initializers.py:403: BadInitialCandidatesWarning: Unable to find non-zero acquisition function values - initial conditions are being selected randomly.\n",
      "  warnings.warn(\n"
     ]
    },
    {
     "name": "stdout",
     "output_type": "stream",
     "text": [
      "ExperimentResult(model='BoTorch', step=122, restart=0, candidate=[1.1530723723041691, 1.3703477012883003, 1.3624814969304266, 2.359747530368236, 1.7445470883216696], result=1.7099141388361392, best_f=2.5209610527868516, steps_to_best_f=62, peak_memory=42363904, runtime_ms=0.2990574836730957)\n"
     ]
    },
    {
     "name": "stderr",
     "output_type": "stream",
     "text": [
      "/home/salabed/anaconda3/envs/rocksdb/lib/python3.8/site-packages/botorch/optim/initializers.py:403: BadInitialCandidatesWarning: Unable to find non-zero acquisition function values - initial conditions are being selected randomly.\n",
      "  warnings.warn(\n"
     ]
    },
    {
     "name": "stdout",
     "output_type": "stream",
     "text": [
      "ExperimentResult(model='BoTorch', step=123, restart=0, candidate=[1.7264435614362106, 2.2728477714492215, 0.4274498377415792, 2.0656827456639903, 0.3904393259324801], result=0.018396399037439063, best_f=2.5209610527868516, steps_to_best_f=62, peak_memory=42392576, runtime_ms=0.269150972366333)\n"
     ]
    },
    {
     "name": "stderr",
     "output_type": "stream",
     "text": [
      "/home/salabed/anaconda3/envs/rocksdb/lib/python3.8/site-packages/botorch/optim/initializers.py:403: BadInitialCandidatesWarning: Unable to find non-zero acquisition function values - initial conditions are being selected randomly.\n",
      "  warnings.warn(\n"
     ]
    },
    {
     "name": "stdout",
     "output_type": "stream",
     "text": [
      "ExperimentResult(model='BoTorch', step=124, restart=0, candidate=[2.946542880415437, 1.6126560257851807, 2.0135136518458685, 2.0621938380913307, 1.3032507656845471], result=0.9338409057929987, best_f=2.5209610527868516, steps_to_best_f=62, peak_memory=42421248, runtime_ms=0.27597475051879883)\n"
     ]
    },
    {
     "name": "stderr",
     "output_type": "stream",
     "text": [
      "/home/salabed/anaconda3/envs/rocksdb/lib/python3.8/site-packages/botorch/optim/initializers.py:403: BadInitialCandidatesWarning: Unable to find non-zero acquisition function values - initial conditions are being selected randomly.\n",
      "  warnings.warn(\n"
     ]
    },
    {
     "name": "stdout",
     "output_type": "stream",
     "text": [
      "ExperimentResult(model='BoTorch', step=125, restart=0, candidate=[1.2575302822335155, 1.632984247365723, 2.2261016565851275, 2.177225857706171, 1.3002178789482466], result=1.6392541783593262, best_f=2.5209610527868516, steps_to_best_f=62, peak_memory=42449920, runtime_ms=0.2583959102630615)\n"
     ]
    },
    {
     "name": "stderr",
     "output_type": "stream",
     "text": [
      "/home/salabed/anaconda3/envs/rocksdb/lib/python3.8/site-packages/botorch/optim/initializers.py:403: BadInitialCandidatesWarning: Unable to find non-zero acquisition function values - initial conditions are being selected randomly.\n",
      "  warnings.warn(\n"
     ]
    },
    {
     "name": "stdout",
     "output_type": "stream",
     "text": [
      "ExperimentResult(model='BoTorch', step=126, restart=0, candidate=[1.3953156847197978, 2.355435558728751, 1.313205548983949, 1.5516885474056274, 1.973704525008202], result=0.9127121121809063, best_f=2.5209610527868516, steps_to_best_f=62, peak_memory=42478592, runtime_ms=0.29971909523010254)\n"
     ]
    },
    {
     "name": "stderr",
     "output_type": "stream",
     "text": [
      "/home/salabed/anaconda3/envs/rocksdb/lib/python3.8/site-packages/botorch/optim/initializers.py:403: BadInitialCandidatesWarning: Unable to find non-zero acquisition function values - initial conditions are being selected randomly.\n",
      "  warnings.warn(\n"
     ]
    },
    {
     "name": "stdout",
     "output_type": "stream",
     "text": [
      "ExperimentResult(model='BoTorch', step=127, restart=0, candidate=[2.6079539194044434, 1.61911949940037, 1.9274717890741155, 0.21851697781262502, 0.47737062536616137], result=0.9189708327266968, best_f=2.5209610527868516, steps_to_best_f=62, peak_memory=42508800, runtime_ms=0.3612799644470215)\n"
     ]
    },
    {
     "name": "stderr",
     "output_type": "stream",
     "text": [
      "/home/salabed/anaconda3/envs/rocksdb/lib/python3.8/site-packages/botorch/optim/initializers.py:403: BadInitialCandidatesWarning: Unable to find non-zero acquisition function values - initial conditions are being selected randomly.\n",
      "  warnings.warn(\n"
     ]
    },
    {
     "name": "stdout",
     "output_type": "stream",
     "text": [
      "ExperimentResult(model='BoTorch', step=128, restart=0, candidate=[2.556202716924801, 0.44973407740112603, 0.039997729167530194, 2.684321791380743, 0.6970236000606556], result=0.03702720470306448, best_f=2.5209610527868516, steps_to_best_f=62, peak_memory=42537472, runtime_ms=0.24098873138427734)\n"
     ]
    },
    {
     "name": "stderr",
     "output_type": "stream",
     "text": [
      "/home/salabed/anaconda3/envs/rocksdb/lib/python3.8/site-packages/botorch/optim/initializers.py:403: BadInitialCandidatesWarning: Unable to find non-zero acquisition function values - initial conditions are being selected randomly.\n",
      "  warnings.warn(\n"
     ]
    },
    {
     "name": "stdout",
     "output_type": "stream",
     "text": [
      "ExperimentResult(model='BoTorch', step=129, restart=0, candidate=[1.149082713710714, 0.8088811605010526, 2.3001899598076636, 1.6451147000481714, 0.1749956289512844], result=0.2292387737883964, best_f=2.5209610527868516, steps_to_best_f=62, peak_memory=42566144, runtime_ms=0.2088775634765625)\n"
     ]
    },
    {
     "name": "stderr",
     "output_type": "stream",
     "text": [
      "/home/salabed/anaconda3/envs/rocksdb/lib/python3.8/site-packages/botorch/optim/initializers.py:403: BadInitialCandidatesWarning: Unable to find non-zero acquisition function values - initial conditions are being selected randomly.\n",
      "  warnings.warn(\n"
     ]
    },
    {
     "name": "stdout",
     "output_type": "stream",
     "text": [
      "ExperimentResult(model='BoTorch', step=130, restart=0, candidate=[2.3266430362720003, 1.314761265851948, 1.9638553000286652, 1.0884559635904845, 0.5745574577321855], result=1.5256178431763174, best_f=2.5209610527868516, steps_to_best_f=62, peak_memory=42596352, runtime_ms=0.3038794994354248)\n"
     ]
    },
    {
     "name": "stderr",
     "output_type": "stream",
     "text": [
      "/home/salabed/anaconda3/envs/rocksdb/lib/python3.8/site-packages/botorch/optim/initializers.py:403: BadInitialCandidatesWarning: Unable to find non-zero acquisition function values - initial conditions are being selected randomly.\n",
      "  warnings.warn(\n"
     ]
    },
    {
     "name": "stdout",
     "output_type": "stream",
     "text": [
      "ExperimentResult(model='BoTorch', step=131, restart=0, candidate=[2.332065789936638, 1.6239972019577031, 0.8874928328830822, 0.21782368628638693, 0.43877225052629476], result=1.44751384156783, best_f=2.5209610527868516, steps_to_best_f=62, peak_memory=42626048, runtime_ms=0.20290017127990723)\n"
     ]
    },
    {
     "name": "stderr",
     "output_type": "stream",
     "text": [
      "/home/salabed/anaconda3/envs/rocksdb/lib/python3.8/site-packages/botorch/optim/initializers.py:403: BadInitialCandidatesWarning: Unable to find non-zero acquisition function values - initial conditions are being selected randomly.\n",
      "  warnings.warn(\n"
     ]
    },
    {
     "name": "stdout",
     "output_type": "stream",
     "text": [
      "ExperimentResult(model='BoTorch', step=132, restart=0, candidate=[0.21099541648296416, 1.4927136600580782, 1.725579336705162, 1.7693152225087971, 0.42272113924643806], result=0.792691868869518, best_f=2.5209610527868516, steps_to_best_f=62, peak_memory=42656256, runtime_ms=0.2097313404083252)\n"
     ]
    },
    {
     "name": "stderr",
     "output_type": "stream",
     "text": [
      "/home/salabed/anaconda3/envs/rocksdb/lib/python3.8/site-packages/botorch/optim/initializers.py:403: BadInitialCandidatesWarning: Unable to find non-zero acquisition function values - initial conditions are being selected randomly.\n",
      "  warnings.warn(\n"
     ]
    },
    {
     "name": "stdout",
     "output_type": "stream",
     "text": [
      "ExperimentResult(model='BoTorch', step=133, restart=0, candidate=[1.4620459516001238, 0.5742016818970797, 1.424263516415838, 0.5525818879442812, 0.48456867113109814], result=0.250737195621402, best_f=2.5209610527868516, steps_to_best_f=62, peak_memory=42684928, runtime_ms=0.22739887237548828)\n"
     ]
    },
    {
     "name": "stderr",
     "output_type": "stream",
     "text": [
      "/home/salabed/anaconda3/envs/rocksdb/lib/python3.8/site-packages/botorch/optim/initializers.py:403: BadInitialCandidatesWarning: Unable to find non-zero acquisition function values - initial conditions are being selected randomly.\n",
      "  warnings.warn(\n"
     ]
    },
    {
     "name": "stdout",
     "output_type": "stream",
     "text": [
      "ExperimentResult(model='BoTorch', step=134, restart=0, candidate=[0.9855238304468938, 2.2341637573826114, 2.366749852317901, 2.885509620459701, 2.8401044748611026], result=0.06014543364451672, best_f=2.5209610527868516, steps_to_best_f=62, peak_memory=42713600, runtime_ms=0.27544474601745605)\n"
     ]
    },
    {
     "name": "stderr",
     "output_type": "stream",
     "text": [
      "/home/salabed/anaconda3/envs/rocksdb/lib/python3.8/site-packages/botorch/optim/initializers.py:403: BadInitialCandidatesWarning: Unable to find non-zero acquisition function values - initial conditions are being selected randomly.\n",
      "  warnings.warn(\n"
     ]
    },
    {
     "name": "stdout",
     "output_type": "stream",
     "text": [
      "ExperimentResult(model='BoTorch', step=135, restart=0, candidate=[3.1285433914230962, 1.2083978728871336, 2.289377131143352, 0.9994453015994309, 1.3422410943246266], result=0.6663290664664188, best_f=2.5209610527868516, steps_to_best_f=62, peak_memory=42743808, runtime_ms=0.30191731452941895)\n"
     ]
    },
    {
     "name": "stderr",
     "output_type": "stream",
     "text": [
      "/home/salabed/anaconda3/envs/rocksdb/lib/python3.8/site-packages/botorch/optim/initializers.py:403: BadInitialCandidatesWarning: Unable to find non-zero acquisition function values - initial conditions are being selected randomly.\n",
      "  warnings.warn(\n"
     ]
    },
    {
     "name": "stdout",
     "output_type": "stream",
     "text": [
      "ExperimentResult(model='BoTorch', step=136, restart=0, candidate=[1.669976858908706, 0.08325873126856731, 0.6569159267447366, 2.296518105546592, 0.838460062889852], result=0.09596497645809574, best_f=2.5209610527868516, steps_to_best_f=62, peak_memory=42774016, runtime_ms=0.26832056045532227)\n"
     ]
    },
    {
     "name": "stderr",
     "output_type": "stream",
     "text": [
      "/home/salabed/anaconda3/envs/rocksdb/lib/python3.8/site-packages/botorch/optim/initializers.py:403: BadInitialCandidatesWarning: Unable to find non-zero acquisition function values - initial conditions are being selected randomly.\n",
      "  warnings.warn(\n"
     ]
    },
    {
     "name": "stdout",
     "output_type": "stream",
     "text": [
      "ExperimentResult(model='BoTorch', step=137, restart=0, candidate=[1.146131296884515, 0.9637618905920498, 2.666025358260311, 0.4533290436116477, 2.3668860382915256], result=0.00010712074575307842, best_f=2.5209610527868516, steps_to_best_f=62, peak_memory=42802688, runtime_ms=0.32141876220703125)\n"
     ]
    },
    {
     "name": "stderr",
     "output_type": "stream",
     "text": [
      "/home/salabed/anaconda3/envs/rocksdb/lib/python3.8/site-packages/botorch/optim/initializers.py:403: BadInitialCandidatesWarning: Unable to find non-zero acquisition function values - initial conditions are being selected randomly.\n",
      "  warnings.warn(\n"
     ]
    },
    {
     "name": "stdout",
     "output_type": "stream",
     "text": [
      "ExperimentResult(model='BoTorch', step=138, restart=0, candidate=[0.019851120094074304, 0.003458358916478277, 1.036614791646464, 1.280706536216718, 2.6390347881236775], result=0.5406634349415209, best_f=2.5209610527868516, steps_to_best_f=62, peak_memory=42832896, runtime_ms=0.2698967456817627)\n"
     ]
    },
    {
     "name": "stderr",
     "output_type": "stream",
     "text": [
      "/home/salabed/anaconda3/envs/rocksdb/lib/python3.8/site-packages/botorch/optim/initializers.py:403: BadInitialCandidatesWarning: Unable to find non-zero acquisition function values - initial conditions are being selected randomly.\n",
      "  warnings.warn(\n"
     ]
    },
    {
     "name": "stdout",
     "output_type": "stream",
     "text": [
      "ExperimentResult(model='BoTorch', step=139, restart=0, candidate=[2.8783602459806157, 2.2785650631964627, 2.0590464077920725, 1.1600922814554726, 2.5797964877394453], result=0.8548321601418282, best_f=2.5209610527868516, steps_to_best_f=62, peak_memory=42861568, runtime_ms=0.3228797912597656)\n"
     ]
    },
    {
     "name": "stderr",
     "output_type": "stream",
     "text": [
      "/home/salabed/anaconda3/envs/rocksdb/lib/python3.8/site-packages/botorch/optim/initializers.py:403: BadInitialCandidatesWarning: Unable to find non-zero acquisition function values - initial conditions are being selected randomly.\n",
      "  warnings.warn(\n"
     ]
    },
    {
     "name": "stdout",
     "output_type": "stream",
     "text": [
      "ExperimentResult(model='BoTorch', step=140, restart=0, candidate=[0.5694298536499254, 2.415752088284131, 0.4905219666811267, 1.0922944764096199, 1.3882367760807157], result=0.8645076722737052, best_f=2.5209610527868516, steps_to_best_f=62, peak_memory=42891776, runtime_ms=0.341843843460083)\n"
     ]
    },
    {
     "name": "stderr",
     "output_type": "stream",
     "text": [
      "/home/salabed/anaconda3/envs/rocksdb/lib/python3.8/site-packages/botorch/optim/initializers.py:403: BadInitialCandidatesWarning: Unable to find non-zero acquisition function values - initial conditions are being selected randomly.\n",
      "  warnings.warn(\n"
     ]
    },
    {
     "name": "stdout",
     "output_type": "stream",
     "text": [
      "ExperimentResult(model='BoTorch', step=141, restart=0, candidate=[1.3769358769698725, 2.5296039542965687, 0.8159526433677577, 1.2623476013825286, 0.4965848582050314], result=0.11519958793507407, best_f=2.5209610527868516, steps_to_best_f=62, peak_memory=42921984, runtime_ms=0.3055379390716553)\n"
     ]
    },
    {
     "name": "stderr",
     "output_type": "stream",
     "text": [
      "/home/salabed/anaconda3/envs/rocksdb/lib/python3.8/site-packages/botorch/optim/initializers.py:403: BadInitialCandidatesWarning: Unable to find non-zero acquisition function values - initial conditions are being selected randomly.\n",
      "  warnings.warn(\n"
     ]
    },
    {
     "name": "stdout",
     "output_type": "stream",
     "text": [
      "ExperimentResult(model='BoTorch', step=142, restart=0, candidate=[2.614346081612956, 3.009842627711108, 2.403514608512025, 2.473472300980246, 2.0978836186442065], result=0.605131573330171, best_f=2.5209610527868516, steps_to_best_f=62, peak_memory=42950656, runtime_ms=0.2747054100036621)\n"
     ]
    },
    {
     "name": "stderr",
     "output_type": "stream",
     "text": [
      "/home/salabed/anaconda3/envs/rocksdb/lib/python3.8/site-packages/botorch/optim/initializers.py:403: BadInitialCandidatesWarning: Unable to find non-zero acquisition function values - initial conditions are being selected randomly.\n",
      "  warnings.warn(\n"
     ]
    },
    {
     "name": "stdout",
     "output_type": "stream",
     "text": [
      "ExperimentResult(model='BoTorch', step=143, restart=0, candidate=[2.0289776677516524, 0.7335833663161362, 2.2566734795378265, 1.8726441985249576, 0.7726229250767891], result=1.593550804307727, best_f=2.5209610527868516, steps_to_best_f=62, peak_memory=42980864, runtime_ms=0.26628661155700684)\n"
     ]
    },
    {
     "name": "stderr",
     "output_type": "stream",
     "text": [
      "/home/salabed/anaconda3/envs/rocksdb/lib/python3.8/site-packages/botorch/optim/initializers.py:403: BadInitialCandidatesWarning: Unable to find non-zero acquisition function values - initial conditions are being selected randomly.\n",
      "  warnings.warn(\n"
     ]
    },
    {
     "name": "stdout",
     "output_type": "stream",
     "text": [
      "ExperimentResult(model='BoTorch', step=144, restart=0, candidate=[2.3924162943024365, 1.535168933672012, 2.8689416397272027, 2.1957686082021355, 0.4004404866621214], result=1.5801563798699858, best_f=2.5209610527868516, steps_to_best_f=62, peak_memory=43012096, runtime_ms=0.26497578620910645)\n",
      "ExperimentResult(model='BoTorch', step=145, restart=0, candidate=[2.4573633576552516, 0.0, 2.7182373532250224, 1.9136872771683902, 0.9385749286021422], result=1.7043660991922172, best_f=2.5209610527868516, steps_to_best_f=62, peak_memory=42138624, runtime_ms=0.21997475624084473)\n"
     ]
    },
    {
     "name": "stderr",
     "output_type": "stream",
     "text": [
      "/home/salabed/anaconda3/envs/rocksdb/lib/python3.8/site-packages/botorch/optim/initializers.py:403: BadInitialCandidatesWarning: Unable to find non-zero acquisition function values - initial conditions are being selected randomly.\n",
      "  warnings.warn(\n"
     ]
    },
    {
     "name": "stdout",
     "output_type": "stream",
     "text": [
      "ExperimentResult(model='BoTorch', step=146, restart=0, candidate=[0.2633193133707057, 0.058581927059669914, 2.311893316470821, 1.0979478913000706, 0.7144037051582774], result=1.0328978355569693, best_f=2.5209610527868516, steps_to_best_f=62, peak_memory=43072512, runtime_ms=0.22286677360534668)\n"
     ]
    },
    {
     "name": "stderr",
     "output_type": "stream",
     "text": [
      "/home/salabed/anaconda3/envs/rocksdb/lib/python3.8/site-packages/botorch/optim/initializers.py:403: BadInitialCandidatesWarning: Unable to find non-zero acquisition function values - initial conditions are being selected randomly.\n",
      "  warnings.warn(\n"
     ]
    },
    {
     "name": "stdout",
     "output_type": "stream",
     "text": [
      "ExperimentResult(model='BoTorch', step=147, restart=0, candidate=[0.01845492274371363, 1.7555537594885506, 1.9026128954468247, 2.3611181471323506, 0.8595724202860466], result=0.3581898826043208, best_f=2.5209610527868516, steps_to_best_f=62, peak_memory=43102720, runtime_ms=0.1933281421661377)\n"
     ]
    },
    {
     "name": "stderr",
     "output_type": "stream",
     "text": [
      "/home/salabed/anaconda3/envs/rocksdb/lib/python3.8/site-packages/botorch/optim/initializers.py:403: BadInitialCandidatesWarning: Unable to find non-zero acquisition function values - initial conditions are being selected randomly.\n",
      "  warnings.warn(\n"
     ]
    },
    {
     "name": "stdout",
     "output_type": "stream",
     "text": [
      "ExperimentResult(model='BoTorch', step=148, restart=0, candidate=[1.1754355129895988, 3.0640206592083064, 1.785597509961645, 1.5329723094498149, 0.30391546675022973], result=9.97980760733276e-06, best_f=2.5209610527868516, steps_to_best_f=62, peak_memory=43132928, runtime_ms=0.22049856185913086)\n"
     ]
    },
    {
     "name": "stderr",
     "output_type": "stream",
     "text": [
      "/home/salabed/anaconda3/envs/rocksdb/lib/python3.8/site-packages/botorch/optim/initializers.py:403: BadInitialCandidatesWarning: Unable to find non-zero acquisition function values - initial conditions are being selected randomly.\n",
      "  warnings.warn(\n"
     ]
    },
    {
     "name": "stdout",
     "output_type": "stream",
     "text": [
      "ExperimentResult(model='BoTorch', step=149, restart=0, candidate=[2.6309545705481963, 1.9079279051919262, 2.2840336764183258, 1.633252037453421, 2.6650442375939676], result=0.5460145750011053, best_f=2.5209610527868516, steps_to_best_f=62, peak_memory=43163136, runtime_ms=0.20346713066101074)\n",
      "restart_id=1/3\n",
      "ExperimentResult(model='BoTorch', step=0, restart=1, candidate=[0.9550768012766717, 0.0, 2.0654066266002395, 0.9204736982478178, 0.591194366163379], result=0.07456881143999106, best_f=1.188902735710144, steps_to_best_f=0, peak_memory=37481472, runtime_ms=0.38489747047424316)\n",
      "ExperimentResult(model='BoTorch', step=1, restart=1, candidate=[1.432014822030332, 0.0, 2.385899355951376, 0.0, 1.5842604292012534], result=0.005535999463552466, best_f=1.188902735710144, steps_to_best_f=0, peak_memory=37483520, runtime_ms=0.2649366855621338)\n",
      "ExperimentResult(model='BoTorch', step=2, restart=1, candidate=[3.1415927410125732, 2.377854524152337, 2.541354008275019, 1.222813426679529, 1.6792341144006704], result=0.9015869402730736, best_f=1.188902735710144, steps_to_best_f=0, peak_memory=37487104, runtime_ms=0.210768461227417)\n",
      "ExperimentResult(model='BoTorch', step=3, restart=1, candidate=[3.1415927410125732, 2.5883287049431583, 2.758656887373058, 0.8031280671495302, 2.4036819138805896], result=0.07701042409134366, best_f=1.188902735710144, steps_to_best_f=0, peak_memory=37490176, runtime_ms=0.24907565116882324)\n",
      "ExperimentResult(model='BoTorch', step=4, restart=1, candidate=[2.7492794248560473, 2.1281053385883397, 1.9959341031926734, 1.4356633204909655, 1.07335460759595], result=0.4373910436519802, best_f=1.188902735710144, steps_to_best_f=0, peak_memory=37493760, runtime_ms=0.18840265274047852)\n"
     ]
    },
    {
     "name": "stderr",
     "output_type": "stream",
     "text": [
      "/home/salabed/anaconda3/envs/rocksdb/lib/python3.8/site-packages/botorch/optim/initializers.py:403: BadInitialCandidatesWarning: Unable to find non-zero acquisition function values - initial conditions are being selected randomly.\n",
      "  warnings.warn(\n"
     ]
    },
    {
     "name": "stdout",
     "output_type": "stream",
     "text": [
      "ExperimentResult(model='BoTorch', step=5, restart=1, candidate=[0.7393450605541552, 3.1390278183761633, 0.7676978561565673, 1.6107682499106368, 3.091863121676237], result=5.556299968699365e-05, best_f=1.188902735710144, steps_to_best_f=0, peak_memory=37496832, runtime_ms=0.10778474807739258)\n",
      "ExperimentResult(model='BoTorch', step=6, restart=1, candidate=[1.2721790405098943, 0.6811610006556833, 1.786538286800265, 3.1415927410125732, 0.07804928234701769], result=-3.802214700501424e-05, best_f=1.188902735710144, steps_to_best_f=0, peak_memory=37497856, runtime_ms=0.1720414161682129)\n",
      "ExperimentResult(model='BoTorch', step=7, restart=1, candidate=[2.217705299131977, 1.918000706060523, 3.1415927410125732, 1.7516863934759868, 1.68018070552645], result=1.4113138463871602, best_f=1.4113138463871602, steps_to_best_f=7, peak_memory=37501440, runtime_ms=0.2006821632385254)\n",
      "ExperimentResult(model='BoTorch', step=8, restart=1, candidate=[2.055527610582797, 2.129467689261795, 3.1415927410125732, 1.8740395374030434, 1.7301291241373884], result=2.0217322805851, best_f=2.0217322805851, steps_to_best_f=8, peak_memory=37505024, runtime_ms=0.12607336044311523)\n",
      "ExperimentResult(model='BoTorch', step=9, restart=1, candidate=[1.8407549538099222, 2.518212795778367, 3.1415927410125732, 2.038574135895835, 1.8072870640611278], result=0.18940087156900295, best_f=2.0217322805851, steps_to_best_f=8, peak_memory=37507072, runtime_ms=0.5237092971801758)\n"
     ]
    },
    {
     "name": "stderr",
     "output_type": "stream",
     "text": [
      "/home/salabed/anaconda3/envs/rocksdb/lib/python3.8/site-packages/botorch/optim/initializers.py:403: BadInitialCandidatesWarning: Unable to find non-zero acquisition function values - initial conditions are being selected randomly.\n",
      "  warnings.warn(\n"
     ]
    },
    {
     "name": "stdout",
     "output_type": "stream",
     "text": [
      "ExperimentResult(model='BoTorch', step=10, restart=1, candidate=[1.3913476773145184, 2.1548888359608553, 1.8767468704690171, 0.7618577582848263, 1.7843431220421624], result=0.2699086671751588, best_f=2.0217322805851, steps_to_best_f=8, peak_memory=37511680, runtime_ms=0.09490108489990234)\n"
     ]
    },
    {
     "name": "stderr",
     "output_type": "stream",
     "text": [
      "/home/salabed/anaconda3/envs/rocksdb/lib/python3.8/site-packages/botorch/optim/initializers.py:403: BadInitialCandidatesWarning: Unable to find non-zero acquisition function values - initial conditions are being selected randomly.\n",
      "  warnings.warn(\n"
     ]
    },
    {
     "name": "stdout",
     "output_type": "stream",
     "text": [
      "ExperimentResult(model='BoTorch', step=11, restart=1, candidate=[0.014222106677864721, 2.017555074334081, 2.058687764637451, 0.6622211027542357, 2.2981363767934013], result=0.037402079804138115, best_f=2.0217322805851, steps_to_best_f=8, peak_memory=37513728, runtime_ms=0.1029198169708252)\n"
     ]
    },
    {
     "name": "stderr",
     "output_type": "stream",
     "text": [
      "/home/salabed/anaconda3/envs/rocksdb/lib/python3.8/site-packages/botorch/optim/initializers.py:403: BadInitialCandidatesWarning: Unable to find non-zero acquisition function values - initial conditions are being selected randomly.\n",
      "  warnings.warn(\n"
     ]
    },
    {
     "name": "stdout",
     "output_type": "stream",
     "text": [
      "ExperimentResult(model='BoTorch', step=12, restart=1, candidate=[0.7945703892817724, 0.45404767580556005, 3.109678357139465, 2.0192647399275176, 1.8436855383089934], result=0.08739436266021015, best_f=2.0217322805851, steps_to_best_f=8, peak_memory=37517312, runtime_ms=0.11932754516601562)\n"
     ]
    },
    {
     "name": "stderr",
     "output_type": "stream",
     "text": [
      "/home/salabed/anaconda3/envs/rocksdb/lib/python3.8/site-packages/botorch/optim/initializers.py:403: BadInitialCandidatesWarning: Unable to find non-zero acquisition function values - initial conditions are being selected randomly.\n",
      "  warnings.warn(\n"
     ]
    },
    {
     "name": "stdout",
     "output_type": "stream",
     "text": [
      "ExperimentResult(model='BoTorch', step=13, restart=1, candidate=[2.499600545253551, 0.7110815731771314, 2.9094612298239997, 1.2195289915726448, 1.6711353320645705], result=1.0409378110023773, best_f=2.0217322805851, steps_to_best_f=8, peak_memory=37520896, runtime_ms=0.10575437545776367)\n"
     ]
    },
    {
     "name": "stderr",
     "output_type": "stream",
     "text": [
      "/home/salabed/anaconda3/envs/rocksdb/lib/python3.8/site-packages/botorch/optim/initializers.py:403: BadInitialCandidatesWarning: Unable to find non-zero acquisition function values - initial conditions are being selected randomly.\n",
      "  warnings.warn(\n"
     ]
    },
    {
     "name": "stdout",
     "output_type": "stream",
     "text": [
      "ExperimentResult(model='BoTorch', step=14, restart=1, candidate=[0.7115960229632023, 0.6751093089869609, 0.03629398329144329, 1.7115488781526866, 0.3574672785911548], result=0.0001094806810068098, best_f=2.0217322805851, steps_to_best_f=8, peak_memory=37522944, runtime_ms=0.12687373161315918)\n"
     ]
    },
    {
     "name": "stderr",
     "output_type": "stream",
     "text": [
      "/home/salabed/anaconda3/envs/rocksdb/lib/python3.8/site-packages/botorch/optim/initializers.py:403: BadInitialCandidatesWarning: Unable to find non-zero acquisition function values - initial conditions are being selected randomly.\n",
      "  warnings.warn(\n"
     ]
    },
    {
     "name": "stdout",
     "output_type": "stream",
     "text": [
      "ExperimentResult(model='BoTorch', step=15, restart=1, candidate=[2.087752796555755, 2.229756260115728, 0.8563970862865677, 2.685995384339177, 0.573321288994969], result=0.619954069652322, best_f=2.0217322805851, steps_to_best_f=8, peak_memory=37526528, runtime_ms=0.1262192726135254)\n"
     ]
    },
    {
     "name": "stderr",
     "output_type": "stream",
     "text": [
      "/home/salabed/anaconda3/envs/rocksdb/lib/python3.8/site-packages/botorch/optim/initializers.py:403: BadInitialCandidatesWarning: Unable to find non-zero acquisition function values - initial conditions are being selected randomly.\n",
      "  warnings.warn(\n"
     ]
    },
    {
     "name": "stdout",
     "output_type": "stream",
     "text": [
      "ExperimentResult(model='BoTorch', step=16, restart=1, candidate=[1.0619930943522526, 1.7366228178177778, 1.4202453133640258, 0.5679412145035634, 0.44625144867303734], result=0.556183085204566, best_f=2.0217322805851, steps_to_best_f=8, peak_memory=37531136, runtime_ms=0.11134815216064453)\n"
     ]
    },
    {
     "name": "stderr",
     "output_type": "stream",
     "text": [
      "/home/salabed/anaconda3/envs/rocksdb/lib/python3.8/site-packages/botorch/optim/initializers.py:403: BadInitialCandidatesWarning: Unable to find non-zero acquisition function values - initial conditions are being selected randomly.\n",
      "  warnings.warn(\n"
     ]
    },
    {
     "name": "stdout",
     "output_type": "stream",
     "text": [
      "ExperimentResult(model='BoTorch', step=17, restart=1, candidate=[1.5055272135791409, 2.845080883429827, 3.0916685681954617, 1.3853876845253366, 1.4920684078370638], result=0.03968862362290361, best_f=2.0217322805851, steps_to_best_f=8, peak_memory=37534720, runtime_ms=0.11037230491638184)\n"
     ]
    },
    {
     "name": "stderr",
     "output_type": "stream",
     "text": [
      "/home/salabed/anaconda3/envs/rocksdb/lib/python3.8/site-packages/botorch/optim/initializers.py:403: BadInitialCandidatesWarning: Unable to find non-zero acquisition function values - initial conditions are being selected randomly.\n",
      "  warnings.warn(\n"
     ]
    },
    {
     "name": "stdout",
     "output_type": "stream",
     "text": [
      "ExperimentResult(model='BoTorch', step=18, restart=1, candidate=[0.47405422217237314, 0.5532698954102699, 2.9653559928091546, 1.495228369492938, 2.0195592399742504], result=0.007809565082052495, best_f=2.0217322805851, steps_to_best_f=8, peak_memory=37538304, runtime_ms=0.11778688430786133)\n"
     ]
    },
    {
     "name": "stderr",
     "output_type": "stream",
     "text": [
      "/home/salabed/anaconda3/envs/rocksdb/lib/python3.8/site-packages/botorch/optim/initializers.py:403: BadInitialCandidatesWarning: Unable to find non-zero acquisition function values - initial conditions are being selected randomly.\n",
      "  warnings.warn(\n"
     ]
    },
    {
     "name": "stdout",
     "output_type": "stream",
     "text": [
      "ExperimentResult(model='BoTorch', step=19, restart=1, candidate=[0.003978964661998097, 0.8506086762378418, 2.126039400137565, 0.0709731507486766, 2.2122242748588903], result=0.9378490249027599, best_f=2.0217322805851, steps_to_best_f=8, peak_memory=37541888, runtime_ms=0.13254261016845703)\n"
     ]
    },
    {
     "name": "stderr",
     "output_type": "stream",
     "text": [
      "/home/salabed/anaconda3/envs/rocksdb/lib/python3.8/site-packages/botorch/optim/initializers.py:403: BadInitialCandidatesWarning: Unable to find non-zero acquisition function values - initial conditions are being selected randomly.\n",
      "  warnings.warn(\n"
     ]
    },
    {
     "name": "stdout",
     "output_type": "stream",
     "text": [
      "ExperimentResult(model='BoTorch', step=20, restart=1, candidate=[2.6861466588502916, 2.187292007110374, 0.6657113240273671, 0.15187421099089105, 1.47172716921109], result=0.0012914642021114513, best_f=2.0217322805851, steps_to_best_f=8, peak_memory=37545472, runtime_ms=0.1310560703277588)\n"
     ]
    },
    {
     "name": "stderr",
     "output_type": "stream",
     "text": [
      "/home/salabed/anaconda3/envs/rocksdb/lib/python3.8/site-packages/botorch/optim/initializers.py:403: BadInitialCandidatesWarning: Unable to find non-zero acquisition function values - initial conditions are being selected randomly.\n",
      "  warnings.warn(\n"
     ]
    },
    {
     "name": "stdout",
     "output_type": "stream",
     "text": [
      "ExperimentResult(model='BoTorch', step=21, restart=1, candidate=[0.21247788796653233, 2.904208157106262, 1.4657784818531394, 0.7012624667558487, 2.9205589969022117], result=0.09959822880226696, best_f=2.0217322805851, steps_to_best_f=8, peak_memory=37549056, runtime_ms=0.14012742042541504)\n"
     ]
    },
    {
     "name": "stderr",
     "output_type": "stream",
     "text": [
      "/home/salabed/anaconda3/envs/rocksdb/lib/python3.8/site-packages/botorch/optim/initializers.py:403: BadInitialCandidatesWarning: Unable to find non-zero acquisition function values - initial conditions are being selected randomly.\n",
      "  warnings.warn(\n"
     ]
    },
    {
     "name": "stdout",
     "output_type": "stream",
     "text": [
      "ExperimentResult(model='BoTorch', step=22, restart=1, candidate=[0.3693742529757593, 1.0771475948197207, 0.5496314278665326, 1.87246545041155, 0.9867215771026072], result=1.3431814981015373, best_f=2.0217322805851, steps_to_best_f=8, peak_memory=37551104, runtime_ms=0.12499237060546875)\n"
     ]
    },
    {
     "name": "stderr",
     "output_type": "stream",
     "text": [
      "/home/salabed/anaconda3/envs/rocksdb/lib/python3.8/site-packages/botorch/optim/initializers.py:403: BadInitialCandidatesWarning: Unable to find non-zero acquisition function values - initial conditions are being selected randomly.\n",
      "  warnings.warn(\n"
     ]
    },
    {
     "name": "stdout",
     "output_type": "stream",
     "text": [
      "ExperimentResult(model='BoTorch', step=23, restart=1, candidate=[0.7222003711662361, 0.3118740104998363, 0.5331984305889648, 2.184331543598521, 1.4945765868054361], result=7.243571224449726e-05, best_f=2.0217322805851, steps_to_best_f=8, peak_memory=37556224, runtime_ms=0.13271045684814453)\n"
     ]
    },
    {
     "name": "stderr",
     "output_type": "stream",
     "text": [
      "/home/salabed/anaconda3/envs/rocksdb/lib/python3.8/site-packages/botorch/optim/initializers.py:403: BadInitialCandidatesWarning: Unable to find non-zero acquisition function values - initial conditions are being selected randomly.\n",
      "  warnings.warn(\n"
     ]
    },
    {
     "name": "stdout",
     "output_type": "stream",
     "text": [
      "ExperimentResult(model='BoTorch', step=24, restart=1, candidate=[1.852403547223077, 2.4490291540534717, 3.132301663183351, 1.5173473315891262, 2.921058036308807], result=0.09705501005273365, best_f=2.0217322805851, steps_to_best_f=8, peak_memory=37559808, runtime_ms=0.14079594612121582)\n"
     ]
    },
    {
     "name": "stderr",
     "output_type": "stream",
     "text": [
      "/home/salabed/anaconda3/envs/rocksdb/lib/python3.8/site-packages/botorch/optim/initializers.py:403: BadInitialCandidatesWarning: Unable to find non-zero acquisition function values - initial conditions are being selected randomly.\n",
      "  warnings.warn(\n"
     ]
    },
    {
     "name": "stdout",
     "output_type": "stream",
     "text": [
      "ExperimentResult(model='BoTorch', step=25, restart=1, candidate=[1.7292177720647006, 3.1189820277678635, 1.2276049345013795, 2.0248241798837774, 1.8911312996156382], result=0.8680010463708312, best_f=2.0217322805851, steps_to_best_f=8, peak_memory=37563392, runtime_ms=0.14603424072265625)\n"
     ]
    },
    {
     "name": "stderr",
     "output_type": "stream",
     "text": [
      "/home/salabed/anaconda3/envs/rocksdb/lib/python3.8/site-packages/botorch/optim/initializers.py:403: BadInitialCandidatesWarning: Unable to find non-zero acquisition function values - initial conditions are being selected randomly.\n",
      "  warnings.warn(\n"
     ]
    },
    {
     "name": "stdout",
     "output_type": "stream",
     "text": [
      "ExperimentResult(model='BoTorch', step=26, restart=1, candidate=[1.5708074184639287, 2.1174241495180643, 0.7181145461872462, 2.425560053121012, 1.3301047577854996], result=0.1711488662988119, best_f=2.0217322805851, steps_to_best_f=8, peak_memory=37566976, runtime_ms=0.17330193519592285)\n"
     ]
    },
    {
     "name": "stderr",
     "output_type": "stream",
     "text": [
      "/home/salabed/anaconda3/envs/rocksdb/lib/python3.8/site-packages/botorch/optim/initializers.py:403: BadInitialCandidatesWarning: Unable to find non-zero acquisition function values - initial conditions are being selected randomly.\n",
      "  warnings.warn(\n"
     ]
    },
    {
     "name": "stdout",
     "output_type": "stream",
     "text": [
      "ExperimentResult(model='BoTorch', step=27, restart=1, candidate=[1.6333771959502574, 1.1357850396220437, 2.570081081732015, 2.0255680035277157, 2.3599359015570363], result=0.06320458199728331, best_f=2.0217322805851, steps_to_best_f=8, peak_memory=37570560, runtime_ms=0.1754453182220459)\n"
     ]
    },
    {
     "name": "stderr",
     "output_type": "stream",
     "text": [
      "/home/salabed/anaconda3/envs/rocksdb/lib/python3.8/site-packages/botorch/optim/initializers.py:403: BadInitialCandidatesWarning: Unable to find non-zero acquisition function values - initial conditions are being selected randomly.\n",
      "  warnings.warn(\n"
     ]
    },
    {
     "name": "stdout",
     "output_type": "stream",
     "text": [
      "ExperimentResult(model='BoTorch', step=28, restart=1, candidate=[0.8162804628375908, 0.8754327845980758, 1.8754896532658905, 0.10086309293647289, 0.8114126320517312], result=0.04112731025439055, best_f=2.0217322805851, steps_to_best_f=8, peak_memory=37574144, runtime_ms=0.14967870712280273)\n"
     ]
    },
    {
     "name": "stderr",
     "output_type": "stream",
     "text": [
      "/home/salabed/anaconda3/envs/rocksdb/lib/python3.8/site-packages/botorch/optim/initializers.py:403: BadInitialCandidatesWarning: Unable to find non-zero acquisition function values - initial conditions are being selected randomly.\n",
      "  warnings.warn(\n"
     ]
    },
    {
     "name": "stdout",
     "output_type": "stream",
     "text": [
      "ExperimentResult(model='BoTorch', step=29, restart=1, candidate=[0.0412946704492867, 2.0332457957350814, 3.11992889274351, 0.019364114651934106, 0.601101946098167], result=7.642365405082856e-05, best_f=2.0217322805851, steps_to_best_f=8, peak_memory=37578752, runtime_ms=0.14337921142578125)\n"
     ]
    },
    {
     "name": "stderr",
     "output_type": "stream",
     "text": [
      "/home/salabed/anaconda3/envs/rocksdb/lib/python3.8/site-packages/botorch/optim/initializers.py:403: BadInitialCandidatesWarning: Unable to find non-zero acquisition function values - initial conditions are being selected randomly.\n",
      "  warnings.warn(\n"
     ]
    },
    {
     "name": "stdout",
     "output_type": "stream",
     "text": [
      "ExperimentResult(model='BoTorch', step=30, restart=1, candidate=[1.4961042624589116, 2.465089832817833, 0.7540929663368656, 0.2046777548426293, 0.6587239969884318], result=0.000518582325432819, best_f=2.0217322805851, steps_to_best_f=8, peak_memory=37582336, runtime_ms=0.1369647979736328)\n"
     ]
    },
    {
     "name": "stderr",
     "output_type": "stream",
     "text": [
      "/home/salabed/anaconda3/envs/rocksdb/lib/python3.8/site-packages/botorch/optim/initializers.py:403: BadInitialCandidatesWarning: Unable to find non-zero acquisition function values - initial conditions are being selected randomly.\n",
      "  warnings.warn(\n"
     ]
    },
    {
     "name": "stdout",
     "output_type": "stream",
     "text": [
      "ExperimentResult(model='BoTorch', step=31, restart=1, candidate=[2.2958258497663833, 2.0545959709525317, 2.8832833165546856, 2.2291090417327606, 2.446157881733557], result=0.9052201449480027, best_f=2.0217322805851, steps_to_best_f=8, peak_memory=37587456, runtime_ms=0.14302730560302734)\n",
      "ExperimentResult(model='BoTorch', step=32, restart=1, candidate=[2.1175446699083054, 2.2414185762975833, 2.8380945230896018, 1.6797731685048614, 1.3289086363249907], result=0.9242468569895231, best_f=2.0217322805851, steps_to_best_f=8, peak_memory=37590016, runtime_ms=0.3090665340423584)\n"
     ]
    },
    {
     "name": "stderr",
     "output_type": "stream",
     "text": [
      "/home/salabed/anaconda3/envs/rocksdb/lib/python3.8/site-packages/botorch/optim/initializers.py:403: BadInitialCandidatesWarning: Unable to find non-zero acquisition function values - initial conditions are being selected randomly.\n",
      "  warnings.warn(\n"
     ]
    },
    {
     "name": "stdout",
     "output_type": "stream",
     "text": [
      "ExperimentResult(model='BoTorch', step=33, restart=1, candidate=[1.5895533009925245, 0.04211052525561643, 1.9622738358017544, 2.032164778241997, 0.38615318064948556], result=0.040238438766580356, best_f=2.0217322805851, steps_to_best_f=8, peak_memory=37594624, runtime_ms=0.16790294647216797)\n"
     ]
    },
    {
     "name": "stderr",
     "output_type": "stream",
     "text": [
      "/home/salabed/anaconda3/envs/rocksdb/lib/python3.8/site-packages/botorch/optim/initializers.py:403: BadInitialCandidatesWarning: Unable to find non-zero acquisition function values - initial conditions are being selected randomly.\n",
      "  warnings.warn(\n"
     ]
    },
    {
     "name": "stdout",
     "output_type": "stream",
     "text": [
      "ExperimentResult(model='BoTorch', step=34, restart=1, candidate=[1.9560566181195371, 2.759256439549065, 2.642984687528468, 2.195704684531965, 0.3292862705377353], result=0.5709347199202782, best_f=2.0217322805851, steps_to_best_f=8, peak_memory=37599744, runtime_ms=0.2077770233154297)\n"
     ]
    },
    {
     "name": "stderr",
     "output_type": "stream",
     "text": [
      "/home/salabed/anaconda3/envs/rocksdb/lib/python3.8/site-packages/botorch/optim/initializers.py:403: BadInitialCandidatesWarning: Unable to find non-zero acquisition function values - initial conditions are being selected randomly.\n",
      "  warnings.warn(\n"
     ]
    },
    {
     "name": "stdout",
     "output_type": "stream",
     "text": [
      "ExperimentResult(model='BoTorch', step=35, restart=1, candidate=[2.903650510273944, 3.029252458554291, 1.969786420665831, 0.3213795462737745, 1.7140181054631964], result=0.9766149219041769, best_f=2.0217322805851, steps_to_best_f=8, peak_memory=37603328, runtime_ms=0.2012946605682373)\n"
     ]
    },
    {
     "name": "stderr",
     "output_type": "stream",
     "text": [
      "/home/salabed/anaconda3/envs/rocksdb/lib/python3.8/site-packages/botorch/optim/initializers.py:403: BadInitialCandidatesWarning: Unable to find non-zero acquisition function values - initial conditions are being selected randomly.\n",
      "  warnings.warn(\n"
     ]
    },
    {
     "name": "stdout",
     "output_type": "stream",
     "text": [
      "ExperimentResult(model='BoTorch', step=36, restart=1, candidate=[0.907023345693655, 0.26891679797559354, 0.44314467286833303, 2.071163123673374, 0.9044622295701932], result=0.37990263246756045, best_f=2.0217322805851, steps_to_best_f=8, peak_memory=37608448, runtime_ms=0.18892383575439453)\n"
     ]
    },
    {
     "name": "stderr",
     "output_type": "stream",
     "text": [
      "/home/salabed/anaconda3/envs/rocksdb/lib/python3.8/site-packages/botorch/optim/initializers.py:403: BadInitialCandidatesWarning: Unable to find non-zero acquisition function values - initial conditions are being selected randomly.\n",
      "  warnings.warn(\n"
     ]
    },
    {
     "name": "stdout",
     "output_type": "stream",
     "text": [
      "ExperimentResult(model='BoTorch', step=37, restart=1, candidate=[1.3947902074569385, 0.47286135288567177, 2.2460418420601824, 0.8200935735464909, 2.03659371311101], result=0.7017242617464363, best_f=2.0217322805851, steps_to_best_f=8, peak_memory=37612032, runtime_ms=0.15838074684143066)\n"
     ]
    },
    {
     "name": "stderr",
     "output_type": "stream",
     "text": [
      "/home/salabed/anaconda3/envs/rocksdb/lib/python3.8/site-packages/botorch/optim/initializers.py:403: BadInitialCandidatesWarning: Unable to find non-zero acquisition function values - initial conditions are being selected randomly.\n",
      "  warnings.warn(\n"
     ]
    },
    {
     "name": "stdout",
     "output_type": "stream",
     "text": [
      "ExperimentResult(model='BoTorch', step=38, restart=1, candidate=[1.8797974087753533, 1.2495346066961877, 0.7227297339396221, 2.282822210516483, 2.674998295285982], result=0.24166322049832212, best_f=2.0217322805851, steps_to_best_f=8, peak_memory=37615616, runtime_ms=0.24590706825256348)\n"
     ]
    },
    {
     "name": "stderr",
     "output_type": "stream",
     "text": [
      "/home/salabed/anaconda3/envs/rocksdb/lib/python3.8/site-packages/botorch/optim/initializers.py:403: BadInitialCandidatesWarning: Unable to find non-zero acquisition function values - initial conditions are being selected randomly.\n",
      "  warnings.warn(\n"
     ]
    },
    {
     "name": "stdout",
     "output_type": "stream",
     "text": [
      "ExperimentResult(model='BoTorch', step=39, restart=1, candidate=[2.827022402719118, 3.0424076151597133, 1.2946609669144982, 1.332602122863129, 2.962991501658526], result=1.0943648629162295, best_f=2.0217322805851, steps_to_best_f=8, peak_memory=37620736, runtime_ms=0.17469382286071777)\n"
     ]
    },
    {
     "name": "stderr",
     "output_type": "stream",
     "text": [
      "/home/salabed/anaconda3/envs/rocksdb/lib/python3.8/site-packages/botorch/optim/initializers.py:403: BadInitialCandidatesWarning: Unable to find non-zero acquisition function values - initial conditions are being selected randomly.\n",
      "  warnings.warn(\n"
     ]
    },
    {
     "name": "stdout",
     "output_type": "stream",
     "text": [
      "ExperimentResult(model='BoTorch', step=40, restart=1, candidate=[0.7960902617299959, 0.9800470980294651, 1.0919035846879621, 0.8010187421752735, 2.025161698500746], result=0.13005600268988518, best_f=2.0217322805851, steps_to_best_f=8, peak_memory=37625856, runtime_ms=0.25991392135620117)\n"
     ]
    },
    {
     "name": "stderr",
     "output_type": "stream",
     "text": [
      "/home/salabed/anaconda3/envs/rocksdb/lib/python3.8/site-packages/botorch/optim/initializers.py:403: BadInitialCandidatesWarning: Unable to find non-zero acquisition function values - initial conditions are being selected randomly.\n",
      "  warnings.warn(\n"
     ]
    },
    {
     "name": "stdout",
     "output_type": "stream",
     "text": [
      "ExperimentResult(model='BoTorch', step=41, restart=1, candidate=[2.5367042917602722, 0.3569566850572481, 1.030539617462024, 3.011148065621305, 0.12772822954766339], result=0.09091253947018214, best_f=2.0217322805851, steps_to_best_f=8, peak_memory=37629440, runtime_ms=0.20271539688110352)\n"
     ]
    },
    {
     "name": "stderr",
     "output_type": "stream",
     "text": [
      "/home/salabed/anaconda3/envs/rocksdb/lib/python3.8/site-packages/botorch/optim/initializers.py:403: BadInitialCandidatesWarning: Unable to find non-zero acquisition function values - initial conditions are being selected randomly.\n",
      "  warnings.warn(\n"
     ]
    },
    {
     "name": "stdout",
     "output_type": "stream",
     "text": [
      "ExperimentResult(model='BoTorch', step=42, restart=1, candidate=[0.7408330823490705, 2.453050821295392, 2.2817701617280104, 2.9782555512864906, 1.0117047368466814], result=1.2691978399168864, best_f=2.0217322805851, steps_to_best_f=8, peak_memory=37635584, runtime_ms=0.1561877727508545)\n"
     ]
    },
    {
     "name": "stderr",
     "output_type": "stream",
     "text": [
      "/home/salabed/anaconda3/envs/rocksdb/lib/python3.8/site-packages/botorch/optim/initializers.py:403: BadInitialCandidatesWarning: Unable to find non-zero acquisition function values - initial conditions are being selected randomly.\n",
      "  warnings.warn(\n"
     ]
    },
    {
     "name": "stdout",
     "output_type": "stream",
     "text": [
      "ExperimentResult(model='BoTorch', step=43, restart=1, candidate=[2.8716872941939906, 0.21207615602160557, 2.7991233282457806, 0.13233397270065672, 0.8311084780165512], result=0.15485686756107367, best_f=2.0217322805851, steps_to_best_f=8, peak_memory=37639168, runtime_ms=0.18993735313415527)\n"
     ]
    },
    {
     "name": "stderr",
     "output_type": "stream",
     "text": [
      "/home/salabed/anaconda3/envs/rocksdb/lib/python3.8/site-packages/botorch/optim/initializers.py:403: BadInitialCandidatesWarning: Unable to find non-zero acquisition function values - initial conditions are being selected randomly.\n",
      "  warnings.warn(\n"
     ]
    },
    {
     "name": "stdout",
     "output_type": "stream",
     "text": [
      "ExperimentResult(model='BoTorch', step=44, restart=1, candidate=[2.954945741656443, 2.978364927822649, 2.6017514596402203, 0.13988167345128533, 2.008297822097629], result=8.315148772281067e-05, best_f=2.0217322805851, steps_to_best_f=8, peak_memory=37644288, runtime_ms=0.259352445602417)\n"
     ]
    },
    {
     "name": "stderr",
     "output_type": "stream",
     "text": [
      "/home/salabed/anaconda3/envs/rocksdb/lib/python3.8/site-packages/botorch/optim/initializers.py:403: BadInitialCandidatesWarning: Unable to find non-zero acquisition function values - initial conditions are being selected randomly.\n",
      "  warnings.warn(\n"
     ]
    },
    {
     "name": "stdout",
     "output_type": "stream",
     "text": [
      "ExperimentResult(model='BoTorch', step=45, restart=1, candidate=[0.7146004266837069, 1.900839069190482, 1.5253733714549522, 2.795308810209649, 1.8178533594048096], result=0.05422219398804882, best_f=2.0217322805851, steps_to_best_f=8, peak_memory=37649408, runtime_ms=0.17586922645568848)\n"
     ]
    },
    {
     "name": "stderr",
     "output_type": "stream",
     "text": [
      "/home/salabed/anaconda3/envs/rocksdb/lib/python3.8/site-packages/botorch/optim/initializers.py:403: BadInitialCandidatesWarning: Unable to find non-zero acquisition function values - initial conditions are being selected randomly.\n",
      "  warnings.warn(\n"
     ]
    },
    {
     "name": "stdout",
     "output_type": "stream",
     "text": [
      "ExperimentResult(model='BoTorch', step=46, restart=1, candidate=[0.16445883830703112, 2.5316540467881965, 1.8499460525158895, 2.171403973165024, 1.466702990514076], result=0.007793229927665967, best_f=2.0217322805851, steps_to_best_f=8, peak_memory=37652992, runtime_ms=0.17593741416931152)\n",
      "ExperimentResult(model='BoTorch', step=47, restart=1, candidate=[1.9941045521542804, 1.9954610810012603, 3.1415927410125732, 2.3732452628512557, 1.471066108781477], result=0.3583574922419497, best_f=2.0217322805851, steps_to_best_f=8, peak_memory=37658112, runtime_ms=0.2187659740447998)\n"
     ]
    },
    {
     "name": "stderr",
     "output_type": "stream",
     "text": [
      "/home/salabed/anaconda3/envs/rocksdb/lib/python3.8/site-packages/botorch/optim/initializers.py:403: BadInitialCandidatesWarning: Unable to find non-zero acquisition function values - initial conditions are being selected randomly.\n",
      "  warnings.warn(\n"
     ]
    },
    {
     "name": "stdout",
     "output_type": "stream",
     "text": [
      "ExperimentResult(model='BoTorch', step=48, restart=1, candidate=[2.3324249509642736, 2.4798151306639173, 0.12303394473837659, 2.654080198786939, 1.195454339091111], result=0.5624810023391299, best_f=2.0217322805851, steps_to_best_f=8, peak_memory=37663232, runtime_ms=0.17293453216552734)\n"
     ]
    },
    {
     "name": "stderr",
     "output_type": "stream",
     "text": [
      "/home/salabed/anaconda3/envs/rocksdb/lib/python3.8/site-packages/botorch/optim/initializers.py:403: BadInitialCandidatesWarning: Unable to find non-zero acquisition function values - initial conditions are being selected randomly.\n",
      "  warnings.warn(\n"
     ]
    },
    {
     "name": "stdout",
     "output_type": "stream",
     "text": [
      "ExperimentResult(model='BoTorch', step=49, restart=1, candidate=[0.9811786798244482, 1.010120972912486, 0.44697707361556316, 2.464748493058735, 2.2063751273756593], result=1.2623093345400562, best_f=2.0217322805851, steps_to_best_f=8, peak_memory=37668352, runtime_ms=0.17718267440795898)\n"
     ]
    },
    {
     "name": "stderr",
     "output_type": "stream",
     "text": [
      "/home/salabed/anaconda3/envs/rocksdb/lib/python3.8/site-packages/botorch/optim/initializers.py:403: BadInitialCandidatesWarning: Unable to find non-zero acquisition function values - initial conditions are being selected randomly.\n",
      "  warnings.warn(\n"
     ]
    },
    {
     "name": "stdout",
     "output_type": "stream",
     "text": [
      "ExperimentResult(model='BoTorch', step=50, restart=1, candidate=[1.3155338065785815, 0.6284516480040736, 1.715701102059306, 2.2900702120093808, 2.678255362520824], result=0.0720157501237501, best_f=2.0217322805851, steps_to_best_f=8, peak_memory=37673472, runtime_ms=0.21031951904296875)\n"
     ]
    },
    {
     "name": "stderr",
     "output_type": "stream",
     "text": [
      "/home/salabed/anaconda3/envs/rocksdb/lib/python3.8/site-packages/botorch/optim/initializers.py:403: BadInitialCandidatesWarning: Unable to find non-zero acquisition function values - initial conditions are being selected randomly.\n",
      "  warnings.warn(\n"
     ]
    },
    {
     "name": "stdout",
     "output_type": "stream",
     "text": [
      "ExperimentResult(model='BoTorch', step=51, restart=1, candidate=[2.1567573510554316, 1.2457336557627008, 0.6832686089901718, 0.6135671934440445, 2.325050421683179], result=0.7951915152831667, best_f=2.0217322805851, steps_to_best_f=8, peak_memory=37678592, runtime_ms=0.18685340881347656)\n"
     ]
    },
    {
     "name": "stderr",
     "output_type": "stream",
     "text": [
      "/home/salabed/anaconda3/envs/rocksdb/lib/python3.8/site-packages/botorch/optim/initializers.py:403: BadInitialCandidatesWarning: Unable to find non-zero acquisition function values - initial conditions are being selected randomly.\n",
      "  warnings.warn(\n"
     ]
    },
    {
     "name": "stdout",
     "output_type": "stream",
     "text": [
      "ExperimentResult(model='BoTorch', step=52, restart=1, candidate=[0.16285600084638752, 2.3959666034744274, 1.6798741056384492, 0.39615768853578537, 1.3583442298986659], result=0.0001318849206789588, best_f=2.0217322805851, steps_to_best_f=8, peak_memory=37683712, runtime_ms=0.18663954734802246)\n"
     ]
    },
    {
     "name": "stderr",
     "output_type": "stream",
     "text": [
      "/home/salabed/anaconda3/envs/rocksdb/lib/python3.8/site-packages/botorch/optim/initializers.py:403: BadInitialCandidatesWarning: Unable to find non-zero acquisition function values - initial conditions are being selected randomly.\n",
      "  warnings.warn(\n"
     ]
    },
    {
     "name": "stdout",
     "output_type": "stream",
     "text": [
      "ExperimentResult(model='BoTorch', step=53, restart=1, candidate=[2.2707976087375235, 0.01363355716318071, 0.20194396756763044, 2.6868089160315325, 1.3959437973921185], result=0.7275773985004275, best_f=2.0217322805851, steps_to_best_f=8, peak_memory=37688832, runtime_ms=0.18170428276062012)\n"
     ]
    },
    {
     "name": "stderr",
     "output_type": "stream",
     "text": [
      "/home/salabed/anaconda3/envs/rocksdb/lib/python3.8/site-packages/botorch/optim/initializers.py:403: BadInitialCandidatesWarning: Unable to find non-zero acquisition function values - initial conditions are being selected randomly.\n",
      "  warnings.warn(\n"
     ]
    },
    {
     "name": "stdout",
     "output_type": "stream",
     "text": [
      "ExperimentResult(model='BoTorch', step=54, restart=1, candidate=[1.8779331039591263, 2.9556409466795817, 2.2894781544170453, 0.6518961104695564, 2.3339837867737048], result=0.4342531612165223, best_f=2.0217322805851, steps_to_best_f=8, peak_memory=37692416, runtime_ms=0.2104041576385498)\n"
     ]
    },
    {
     "name": "stderr",
     "output_type": "stream",
     "text": [
      "/home/salabed/anaconda3/envs/rocksdb/lib/python3.8/site-packages/botorch/optim/initializers.py:403: BadInitialCandidatesWarning: Unable to find non-zero acquisition function values - initial conditions are being selected randomly.\n",
      "  warnings.warn(\n"
     ]
    },
    {
     "name": "stdout",
     "output_type": "stream",
     "text": [
      "ExperimentResult(model='BoTorch', step=55, restart=1, candidate=[1.01136440357525, 1.6235790882556689, 0.7567923165193202, 0.5456571825783896, 1.7404694937200227], result=1.7650798981857323, best_f=2.0217322805851, steps_to_best_f=8, peak_memory=37701632, runtime_ms=0.19490694999694824)\n"
     ]
    },
    {
     "name": "stderr",
     "output_type": "stream",
     "text": [
      "/home/salabed/anaconda3/envs/rocksdb/lib/python3.8/site-packages/botorch/optim/initializers.py:403: BadInitialCandidatesWarning: Unable to find non-zero acquisition function values - initial conditions are being selected randomly.\n",
      "  warnings.warn(\n"
     ]
    },
    {
     "name": "stdout",
     "output_type": "stream",
     "text": [
      "ExperimentResult(model='BoTorch', step=56, restart=1, candidate=[2.7341159575903684, 0.8739678944644735, 1.1969535288029542, 1.589624773320194, 0.7517855728804601], result=0.6210092823041573, best_f=2.0217322805851, steps_to_best_f=8, peak_memory=37706752, runtime_ms=0.2210526466369629)\n"
     ]
    },
    {
     "name": "stderr",
     "output_type": "stream",
     "text": [
      "/home/salabed/anaconda3/envs/rocksdb/lib/python3.8/site-packages/botorch/optim/initializers.py:403: BadInitialCandidatesWarning: Unable to find non-zero acquisition function values - initial conditions are being selected randomly.\n",
      "  warnings.warn(\n"
     ]
    },
    {
     "name": "stdout",
     "output_type": "stream",
     "text": [
      "ExperimentResult(model='BoTorch', step=57, restart=1, candidate=[1.199368873913269, 2.309348099341487, 2.6637678356826155, 1.5339530877933183, 1.9302321517196819], result=-7.703094108808127e-05, best_f=2.0217322805851, steps_to_best_f=8, peak_memory=37711872, runtime_ms=0.22274541854858398)\n"
     ]
    },
    {
     "name": "stderr",
     "output_type": "stream",
     "text": [
      "/home/salabed/anaconda3/envs/rocksdb/lib/python3.8/site-packages/botorch/optim/initializers.py:403: BadInitialCandidatesWarning: Unable to find non-zero acquisition function values - initial conditions are being selected randomly.\n",
      "  warnings.warn(\n"
     ]
    },
    {
     "name": "stdout",
     "output_type": "stream",
     "text": [
      "ExperimentResult(model='BoTorch', step=58, restart=1, candidate=[1.833462482158914, 2.1599887031155607, 0.9307551896462984, 0.6360392074217991, 1.6973634790162884], result=0.9157420239284149, best_f=2.0217322805851, steps_to_best_f=8, peak_memory=37716992, runtime_ms=0.2190852165222168)\n"
     ]
    },
    {
     "name": "stderr",
     "output_type": "stream",
     "text": [
      "/home/salabed/anaconda3/envs/rocksdb/lib/python3.8/site-packages/botorch/optim/initializers.py:403: BadInitialCandidatesWarning: Unable to find non-zero acquisition function values - initial conditions are being selected randomly.\n",
      "  warnings.warn(\n"
     ]
    },
    {
     "name": "stdout",
     "output_type": "stream",
     "text": [
      "ExperimentResult(model='BoTorch', step=59, restart=1, candidate=[2.6331460482244475, 0.3602730063276216, 3.116474097495572, 2.676080898582308, 2.798962688132862], result=0.0061524336330213494, best_f=2.0217322805851, steps_to_best_f=8, peak_memory=37722112, runtime_ms=0.2283484935760498)\n"
     ]
    },
    {
     "name": "stderr",
     "output_type": "stream",
     "text": [
      "/home/salabed/anaconda3/envs/rocksdb/lib/python3.8/site-packages/botorch/optim/initializers.py:403: BadInitialCandidatesWarning: Unable to find non-zero acquisition function values - initial conditions are being selected randomly.\n",
      "  warnings.warn(\n"
     ]
    },
    {
     "name": "stdout",
     "output_type": "stream",
     "text": [
      "ExperimentResult(model='BoTorch', step=60, restart=1, candidate=[0.9369792333044635, 2.5643148670770053, 1.0039264041286022, 2.328521981972772, 0.6960365077625463], result=0.046578326043922806, best_f=2.0217322805851, steps_to_best_f=8, peak_memory=37727232, runtime_ms=0.17260265350341797)\n"
     ]
    },
    {
     "name": "stderr",
     "output_type": "stream",
     "text": [
      "/home/salabed/anaconda3/envs/rocksdb/lib/python3.8/site-packages/botorch/optim/initializers.py:403: BadInitialCandidatesWarning: Unable to find non-zero acquisition function values - initial conditions are being selected randomly.\n",
      "  warnings.warn(\n"
     ]
    },
    {
     "name": "stdout",
     "output_type": "stream",
     "text": [
      "ExperimentResult(model='BoTorch', step=61, restart=1, candidate=[2.7816070956912586, 0.7434921057306298, 1.4021425793801878, 1.0882274001892556, 1.049758361940376], result=1.849954968150205, best_f=2.0217322805851, steps_to_best_f=8, peak_memory=37732352, runtime_ms=0.18125653266906738)\n"
     ]
    },
    {
     "name": "stderr",
     "output_type": "stream",
     "text": [
      "/home/salabed/anaconda3/envs/rocksdb/lib/python3.8/site-packages/botorch/optim/initializers.py:403: BadInitialCandidatesWarning: Unable to find non-zero acquisition function values - initial conditions are being selected randomly.\n",
      "  warnings.warn(\n"
     ]
    },
    {
     "name": "stdout",
     "output_type": "stream",
     "text": [
      "ExperimentResult(model='BoTorch', step=62, restart=1, candidate=[2.62352661549736, 1.8204416360660869, 3.0257592821865575, 1.6769333944470521, 0.8743205513581476], result=0.26664854718213177, best_f=2.0217322805851, steps_to_best_f=8, peak_memory=37737472, runtime_ms=0.21684575080871582)\n"
     ]
    },
    {
     "name": "stderr",
     "output_type": "stream",
     "text": [
      "/home/salabed/anaconda3/envs/rocksdb/lib/python3.8/site-packages/botorch/optim/initializers.py:403: BadInitialCandidatesWarning: Unable to find non-zero acquisition function values - initial conditions are being selected randomly.\n",
      "  warnings.warn(\n"
     ]
    },
    {
     "name": "stdout",
     "output_type": "stream",
     "text": [
      "ExperimentResult(model='BoTorch', step=63, restart=1, candidate=[2.165519326510693, 0.7169934388860022, 3.0451945795083732, 1.6508645826852897, 2.642762007983918], result=1.193408063349241, best_f=2.0217322805851, steps_to_best_f=8, peak_memory=37964800, runtime_ms=0.23616838455200195)\n"
     ]
    },
    {
     "name": "stderr",
     "output_type": "stream",
     "text": [
      "/home/salabed/anaconda3/envs/rocksdb/lib/python3.8/site-packages/botorch/optim/initializers.py:403: BadInitialCandidatesWarning: Unable to find non-zero acquisition function values - initial conditions are being selected randomly.\n",
      "  warnings.warn(\n"
     ]
    },
    {
     "name": "stdout",
     "output_type": "stream",
     "text": [
      "ExperimentResult(model='BoTorch', step=64, restart=1, candidate=[1.3410450475797686, 0.18360496060407128, 2.7595858360446313, 1.9726310356917631, 0.4818251086372216], result=0.5191868282141875, best_f=2.0217322805851, steps_to_best_f=8, peak_memory=38006784, runtime_ms=0.21689820289611816)\n"
     ]
    },
    {
     "name": "stderr",
     "output_type": "stream",
     "text": [
      "/home/salabed/anaconda3/envs/rocksdb/lib/python3.8/site-packages/botorch/optim/initializers.py:403: BadInitialCandidatesWarning: Unable to find non-zero acquisition function values - initial conditions are being selected randomly.\n",
      "  warnings.warn(\n"
     ]
    },
    {
     "name": "stdout",
     "output_type": "stream",
     "text": [
      "ExperimentResult(model='BoTorch', step=65, restart=1, candidate=[1.9870803715895313, 1.1253664615393932, 1.5731733169417883, 1.4544108766018615, 0.8398286900853236], result=0.4307540522042788, best_f=2.0217322805851, steps_to_best_f=8, peak_memory=38048768, runtime_ms=0.2283036708831787)\n"
     ]
    },
    {
     "name": "stderr",
     "output_type": "stream",
     "text": [
      "/home/salabed/anaconda3/envs/rocksdb/lib/python3.8/site-packages/botorch/optim/initializers.py:403: BadInitialCandidatesWarning: Unable to find non-zero acquisition function values - initial conditions are being selected randomly.\n",
      "  warnings.warn(\n"
     ]
    },
    {
     "name": "stdout",
     "output_type": "stream",
     "text": [
      "ExperimentResult(model='BoTorch', step=66, restart=1, candidate=[2.3583131684099614, 1.787528523844143, 1.0146579003971157, 2.0079808750352637, 2.7007830551622245], result=0.7521357347274267, best_f=2.0217322805851, steps_to_best_f=8, peak_memory=38092288, runtime_ms=0.2565779685974121)\n"
     ]
    },
    {
     "name": "stderr",
     "output_type": "stream",
     "text": [
      "/home/salabed/anaconda3/envs/rocksdb/lib/python3.8/site-packages/botorch/optim/initializers.py:403: BadInitialCandidatesWarning: Unable to find non-zero acquisition function values - initial conditions are being selected randomly.\n",
      "  warnings.warn(\n"
     ]
    },
    {
     "name": "stdout",
     "output_type": "stream",
     "text": [
      "ExperimentResult(model='BoTorch', step=67, restart=1, candidate=[2.085169505519431, 1.4354485728924327, 0.749497937596183, 0.7985611918771973, 1.9770217737686635], result=1.1166211393957575, best_f=2.0217322805851, steps_to_best_f=8, peak_memory=38135296, runtime_ms=0.17377614974975586)\n"
     ]
    },
    {
     "name": "stderr",
     "output_type": "stream",
     "text": [
      "/home/salabed/anaconda3/envs/rocksdb/lib/python3.8/site-packages/botorch/optim/initializers.py:403: BadInitialCandidatesWarning: Unable to find non-zero acquisition function values - initial conditions are being selected randomly.\n",
      "  warnings.warn(\n"
     ]
    },
    {
     "name": "stdout",
     "output_type": "stream",
     "text": [
      "ExperimentResult(model='BoTorch', step=68, restart=1, candidate=[3.037382052542158, 2.5528741012905476, 0.40395094887036076, 2.5713877280125796, 2.0818677198034976], result=0.03782370389588582, best_f=2.0217322805851, steps_to_best_f=8, peak_memory=38178816, runtime_ms=0.1638200283050537)\n"
     ]
    },
    {
     "name": "stderr",
     "output_type": "stream",
     "text": [
      "/home/salabed/anaconda3/envs/rocksdb/lib/python3.8/site-packages/botorch/optim/initializers.py:403: BadInitialCandidatesWarning: Unable to find non-zero acquisition function values - initial conditions are being selected randomly.\n",
      "  warnings.warn(\n"
     ]
    },
    {
     "name": "stdout",
     "output_type": "stream",
     "text": [
      "ExperimentResult(model='BoTorch', step=69, restart=1, candidate=[2.8904711423736362, 0.889881631881192, 3.1130297211504843, 0.03604119689198382, 2.210199511331592], result=0.7533483370677503, best_f=2.0217322805851, steps_to_best_f=8, peak_memory=38220800, runtime_ms=0.17921853065490723)\n"
     ]
    },
    {
     "name": "stderr",
     "output_type": "stream",
     "text": [
      "/home/salabed/anaconda3/envs/rocksdb/lib/python3.8/site-packages/botorch/optim/initializers.py:403: BadInitialCandidatesWarning: Unable to find non-zero acquisition function values - initial conditions are being selected randomly.\n",
      "  warnings.warn(\n"
     ]
    },
    {
     "name": "stdout",
     "output_type": "stream",
     "text": [
      "ExperimentResult(model='BoTorch', step=70, restart=1, candidate=[2.1249534964979597, 1.0189391478302445, 2.7437413034324964, 3.041124881738738, 1.373803345028748], result=0.7145451444296446, best_f=2.0217322805851, steps_to_best_f=8, peak_memory=38262784, runtime_ms=0.2572464942932129)\n"
     ]
    },
    {
     "name": "stderr",
     "output_type": "stream",
     "text": [
      "/home/salabed/anaconda3/envs/rocksdb/lib/python3.8/site-packages/botorch/optim/initializers.py:403: BadInitialCandidatesWarning: Unable to find non-zero acquisition function values - initial conditions are being selected randomly.\n",
      "  warnings.warn(\n"
     ]
    },
    {
     "name": "stdout",
     "output_type": "stream",
     "text": [
      "ExperimentResult(model='BoTorch', step=71, restart=1, candidate=[0.6321147130530802, 1.576493128734796, 1.6988857769827548, 0.6662071069782272, 0.2082255624246354], result=0.9987452194692672, best_f=2.0217322805851, steps_to_best_f=8, peak_memory=38306304, runtime_ms=0.2797207832336426)\n"
     ]
    },
    {
     "name": "stderr",
     "output_type": "stream",
     "text": [
      "/home/salabed/anaconda3/envs/rocksdb/lib/python3.8/site-packages/botorch/optim/initializers.py:403: BadInitialCandidatesWarning: Unable to find non-zero acquisition function values - initial conditions are being selected randomly.\n",
      "  warnings.warn(\n"
     ]
    },
    {
     "name": "stdout",
     "output_type": "stream",
     "text": [
      "ExperimentResult(model='BoTorch', step=72, restart=1, candidate=[0.09772495216727628, 0.45451145303379126, 2.714279095096291, 3.1053591557586313, 0.0865068717770412], result=0.00016357153930925047, best_f=2.0217322805851, steps_to_best_f=8, peak_memory=38349824, runtime_ms=0.19131135940551758)\n"
     ]
    },
    {
     "name": "stderr",
     "output_type": "stream",
     "text": [
      "/home/salabed/anaconda3/envs/rocksdb/lib/python3.8/site-packages/botorch/optim/initializers.py:403: BadInitialCandidatesWarning: Unable to find non-zero acquisition function values - initial conditions are being selected randomly.\n",
      "  warnings.warn(\n"
     ]
    },
    {
     "name": "stdout",
     "output_type": "stream",
     "text": [
      "ExperimentResult(model='BoTorch', step=73, restart=1, candidate=[2.4439101255972306, 2.964229747739473, 2.529061735398744, 0.8986532947802439, 0.5339344949151947], result=0.24670227162761513, best_f=2.0217322805851, steps_to_best_f=8, peak_memory=38391808, runtime_ms=0.22104763984680176)\n"
     ]
    },
    {
     "name": "stderr",
     "output_type": "stream",
     "text": [
      "/home/salabed/anaconda3/envs/rocksdb/lib/python3.8/site-packages/botorch/optim/initializers.py:403: BadInitialCandidatesWarning: Unable to find non-zero acquisition function values - initial conditions are being selected randomly.\n",
      "  warnings.warn(\n"
     ]
    },
    {
     "name": "stdout",
     "output_type": "stream",
     "text": [
      "ExperimentResult(model='BoTorch', step=74, restart=1, candidate=[0.14133771293026176, 1.4913449977525717, 2.597702664044683, 2.4399539883095764, 1.1628953847168322], result=1.1106963197137776, best_f=2.0217322805851, steps_to_best_f=8, peak_memory=38435328, runtime_ms=0.20653915405273438)\n"
     ]
    },
    {
     "name": "stderr",
     "output_type": "stream",
     "text": [
      "/home/salabed/anaconda3/envs/rocksdb/lib/python3.8/site-packages/botorch/optim/initializers.py:403: BadInitialCandidatesWarning: Unable to find non-zero acquisition function values - initial conditions are being selected randomly.\n",
      "  warnings.warn(\n"
     ]
    },
    {
     "name": "stdout",
     "output_type": "stream",
     "text": [
      "ExperimentResult(model='BoTorch', step=75, restart=1, candidate=[1.4390546397256487, 0.8061230127135199, 2.38293343961103, 0.16558756156000776, 1.765592683986541], result=0.5272024302972006, best_f=2.0217322805851, steps_to_best_f=8, peak_memory=38477312, runtime_ms=0.2035515308380127)\n"
     ]
    },
    {
     "name": "stderr",
     "output_type": "stream",
     "text": [
      "/home/salabed/anaconda3/envs/rocksdb/lib/python3.8/site-packages/botorch/optim/initializers.py:403: BadInitialCandidatesWarning: Unable to find non-zero acquisition function values - initial conditions are being selected randomly.\n",
      "  warnings.warn(\n"
     ]
    },
    {
     "name": "stdout",
     "output_type": "stream",
     "text": [
      "ExperimentResult(model='BoTorch', step=76, restart=1, candidate=[2.259971157379679, 2.6531836435654386, 3.075784267617153, 1.9077977903284993, 0.1520048905407123], result=1.9104153138502946, best_f=2.0217322805851, steps_to_best_f=8, peak_memory=38520832, runtime_ms=0.20046234130859375)\n"
     ]
    },
    {
     "name": "stderr",
     "output_type": "stream",
     "text": [
      "/home/salabed/anaconda3/envs/rocksdb/lib/python3.8/site-packages/botorch/optim/initializers.py:403: BadInitialCandidatesWarning: Unable to find non-zero acquisition function values - initial conditions are being selected randomly.\n",
      "  warnings.warn(\n"
     ]
    },
    {
     "name": "stdout",
     "output_type": "stream",
     "text": [
      "ExperimentResult(model='BoTorch', step=77, restart=1, candidate=[1.4142585959866283, 0.035930176035858796, 2.092842206771739, 1.2053197146866923, 3.1108249543260316], result=0.46985609364532815, best_f=2.0217322805851, steps_to_best_f=8, peak_memory=38564352, runtime_ms=0.19254422187805176)\n"
     ]
    },
    {
     "name": "stderr",
     "output_type": "stream",
     "text": [
      "/home/salabed/anaconda3/envs/rocksdb/lib/python3.8/site-packages/botorch/optim/initializers.py:403: BadInitialCandidatesWarning: Unable to find non-zero acquisition function values - initial conditions are being selected randomly.\n",
      "  warnings.warn(\n"
     ]
    },
    {
     "name": "stdout",
     "output_type": "stream",
     "text": [
      "ExperimentResult(model='BoTorch', step=78, restart=1, candidate=[3.049599057312257, 0.8258379029464258, 2.1686220675872225, 1.9502080909135888, 2.6000467796717364], result=1.581324667475753, best_f=2.0217322805851, steps_to_best_f=8, peak_memory=38606336, runtime_ms=0.17664694786071777)\n"
     ]
    },
    {
     "name": "stderr",
     "output_type": "stream",
     "text": [
      "/home/salabed/anaconda3/envs/rocksdb/lib/python3.8/site-packages/botorch/optim/initializers.py:403: BadInitialCandidatesWarning: Unable to find non-zero acquisition function values - initial conditions are being selected randomly.\n",
      "  warnings.warn(\n"
     ]
    },
    {
     "name": "stdout",
     "output_type": "stream",
     "text": [
      "ExperimentResult(model='BoTorch', step=79, restart=1, candidate=[1.9547320218336406, 1.382621417542238, 3.074273152196796, 1.4795213248515549, 2.1548461480101144], result=0.6196287468892218, best_f=2.0217322805851, steps_to_best_f=8, peak_memory=38649856, runtime_ms=0.18392562866210938)\n"
     ]
    },
    {
     "name": "stderr",
     "output_type": "stream",
     "text": [
      "/home/salabed/anaconda3/envs/rocksdb/lib/python3.8/site-packages/botorch/optim/initializers.py:403: BadInitialCandidatesWarning: Unable to find non-zero acquisition function values - initial conditions are being selected randomly.\n",
      "  warnings.warn(\n"
     ]
    },
    {
     "name": "stdout",
     "output_type": "stream",
     "text": [
      "ExperimentResult(model='BoTorch', step=80, restart=1, candidate=[2.4174616807316616, 3.112575479222559, 1.9772720702814828, 1.0686781795817646, 0.9443212097315523], result=1.691319717338007, best_f=2.0217322805851, steps_to_best_f=8, peak_memory=38694400, runtime_ms=0.17665815353393555)\n"
     ]
    },
    {
     "name": "stderr",
     "output_type": "stream",
     "text": [
      "/home/salabed/anaconda3/envs/rocksdb/lib/python3.8/site-packages/botorch/optim/initializers.py:403: BadInitialCandidatesWarning: Unable to find non-zero acquisition function values - initial conditions are being selected randomly.\n",
      "  warnings.warn(\n"
     ]
    },
    {
     "name": "stdout",
     "output_type": "stream",
     "text": [
      "ExperimentResult(model='BoTorch', step=81, restart=1, candidate=[1.81198957396287, 2.1879875603080254, 2.35129145986937, 2.6781414538643302, 2.6024844635417432], result=0.3976831457871071, best_f=2.0217322805851, steps_to_best_f=8, peak_memory=38737920, runtime_ms=0.22706937789916992)\n"
     ]
    },
    {
     "name": "stderr",
     "output_type": "stream",
     "text": [
      "/home/salabed/anaconda3/envs/rocksdb/lib/python3.8/site-packages/botorch/optim/initializers.py:403: BadInitialCandidatesWarning: Unable to find non-zero acquisition function values - initial conditions are being selected randomly.\n",
      "  warnings.warn(\n"
     ]
    },
    {
     "name": "stdout",
     "output_type": "stream",
     "text": [
      "ExperimentResult(model='BoTorch', step=82, restart=1, candidate=[0.03503730151634854, 1.9554668163469424, 0.5935361870862654, 0.2175247009326986, 3.068622443704867], result=0.00010710210069687286, best_f=2.0217322805851, steps_to_best_f=8, peak_memory=38781440, runtime_ms=0.22922730445861816)\n"
     ]
    },
    {
     "name": "stderr",
     "output_type": "stream",
     "text": [
      "/home/salabed/anaconda3/envs/rocksdb/lib/python3.8/site-packages/botorch/optim/initializers.py:403: BadInitialCandidatesWarning: Unable to find non-zero acquisition function values - initial conditions are being selected randomly.\n",
      "  warnings.warn(\n"
     ]
    },
    {
     "name": "stdout",
     "output_type": "stream",
     "text": [
      "ExperimentResult(model='BoTorch', step=83, restart=1, candidate=[0.5313120210799449, 0.14748460813845177, 2.099409968893865, 2.1404323932068605, 2.1472285841417484], result=0.11235706311853158, best_f=2.0217322805851, steps_to_best_f=8, peak_memory=38824960, runtime_ms=0.21931982040405273)\n"
     ]
    },
    {
     "name": "stderr",
     "output_type": "stream",
     "text": [
      "/home/salabed/anaconda3/envs/rocksdb/lib/python3.8/site-packages/botorch/optim/initializers.py:403: BadInitialCandidatesWarning: Unable to find non-zero acquisition function values - initial conditions are being selected randomly.\n",
      "  warnings.warn(\n"
     ]
    },
    {
     "name": "stdout",
     "output_type": "stream",
     "text": [
      "ExperimentResult(model='BoTorch', step=84, restart=1, candidate=[0.08894900291813279, 2.830467147719572, 2.326213110969065, 0.43720980716077995, 0.3286470162810129], result=0.15046980840692759, best_f=2.0217322805851, steps_to_best_f=8, peak_memory=38868480, runtime_ms=0.2307136058807373)\n"
     ]
    },
    {
     "name": "stderr",
     "output_type": "stream",
     "text": [
      "/home/salabed/anaconda3/envs/rocksdb/lib/python3.8/site-packages/botorch/optim/initializers.py:403: BadInitialCandidatesWarning: Unable to find non-zero acquisition function values - initial conditions are being selected randomly.\n",
      "  warnings.warn(\n"
     ]
    },
    {
     "name": "stdout",
     "output_type": "stream",
     "text": [
      "ExperimentResult(model='BoTorch', step=85, restart=1, candidate=[0.07237452390334576, 2.1469428499003906, 0.19982991336996103, 1.4495291393163534, 0.41525008955362375], result=9.4012985805922e-06, best_f=2.0217322805851, steps_to_best_f=8, peak_memory=38912000, runtime_ms=0.23960185050964355)\n"
     ]
    },
    {
     "name": "stderr",
     "output_type": "stream",
     "text": [
      "/home/salabed/anaconda3/envs/rocksdb/lib/python3.8/site-packages/botorch/optim/initializers.py:403: BadInitialCandidatesWarning: Unable to find non-zero acquisition function values - initial conditions are being selected randomly.\n",
      "  warnings.warn(\n"
     ]
    },
    {
     "name": "stdout",
     "output_type": "stream",
     "text": [
      "ExperimentResult(model='BoTorch', step=86, restart=1, candidate=[0.6869120094938097, 2.092040454496086, 2.494571299008169, 0.014327925397155106, 1.7207055840267527], result=0.9887886974787057, best_f=2.0217322805851, steps_to_best_f=8, peak_memory=38953984, runtime_ms=0.22760581970214844)\n"
     ]
    },
    {
     "name": "stderr",
     "output_type": "stream",
     "text": [
      "/home/salabed/anaconda3/envs/rocksdb/lib/python3.8/site-packages/botorch/optim/initializers.py:403: BadInitialCandidatesWarning: Unable to find non-zero acquisition function values - initial conditions are being selected randomly.\n",
      "  warnings.warn(\n"
     ]
    },
    {
     "name": "stdout",
     "output_type": "stream",
     "text": [
      "ExperimentResult(model='BoTorch', step=87, restart=1, candidate=[2.1740398765886146, 1.5568672453661458, 2.9789369463625768, 0.23662544350965709, 1.4561267127839284], result=1.7828406474641505, best_f=2.0217322805851, steps_to_best_f=8, peak_memory=38999040, runtime_ms=0.210951566696167)\n"
     ]
    },
    {
     "name": "stderr",
     "output_type": "stream",
     "text": [
      "/home/salabed/anaconda3/envs/rocksdb/lib/python3.8/site-packages/botorch/optim/initializers.py:403: BadInitialCandidatesWarning: Unable to find non-zero acquisition function values - initial conditions are being selected randomly.\n",
      "  warnings.warn(\n"
     ]
    },
    {
     "name": "stdout",
     "output_type": "stream",
     "text": [
      "ExperimentResult(model='BoTorch', step=88, restart=1, candidate=[1.938614020085666, 3.08916415477833, 1.8226563536595919, 3.0310051573471455, 3.051505447356959], result=0.22285707756946757, best_f=2.0217322805851, steps_to_best_f=8, peak_memory=39042560, runtime_ms=0.23823285102844238)\n"
     ]
    },
    {
     "name": "stderr",
     "output_type": "stream",
     "text": [
      "/home/salabed/anaconda3/envs/rocksdb/lib/python3.8/site-packages/botorch/optim/initializers.py:403: BadInitialCandidatesWarning: Unable to find non-zero acquisition function values - initial conditions are being selected randomly.\n",
      "  warnings.warn(\n"
     ]
    },
    {
     "name": "stdout",
     "output_type": "stream",
     "text": [
      "ExperimentResult(model='BoTorch', step=89, restart=1, candidate=[1.8040745461756602, 1.8158372797594713, 1.838908171453837, 1.7820360065401997, 0.32938462544877756], result=0.10734094634695512, best_f=2.0217322805851, steps_to_best_f=8, peak_memory=39086080, runtime_ms=0.22619915008544922)\n"
     ]
    },
    {
     "name": "stderr",
     "output_type": "stream",
     "text": [
      "/home/salabed/anaconda3/envs/rocksdb/lib/python3.8/site-packages/botorch/optim/initializers.py:403: BadInitialCandidatesWarning: Unable to find non-zero acquisition function values - initial conditions are being selected randomly.\n",
      "  warnings.warn(\n"
     ]
    },
    {
     "name": "stdout",
     "output_type": "stream",
     "text": [
      "ExperimentResult(model='BoTorch', step=90, restart=1, candidate=[2.5656003185998477, 1.0867264930115395, 1.497316690960877, 1.4652931909510358, 2.8433799397542217], result=0.06268760029863298, best_f=2.0217322805851, steps_to_best_f=8, peak_memory=39129600, runtime_ms=0.21626639366149902)\n"
     ]
    },
    {
     "name": "stderr",
     "output_type": "stream",
     "text": [
      "/home/salabed/anaconda3/envs/rocksdb/lib/python3.8/site-packages/botorch/optim/initializers.py:403: BadInitialCandidatesWarning: Unable to find non-zero acquisition function values - initial conditions are being selected randomly.\n",
      "  warnings.warn(\n"
     ]
    },
    {
     "name": "stdout",
     "output_type": "stream",
     "text": [
      "ExperimentResult(model='BoTorch', step=91, restart=1, candidate=[1.798886631830986, 2.3782450708426204, 1.6839421473847727, 2.1999224237636694, 1.342324916607065], result=0.04482830589959353, best_f=2.0217322805851, steps_to_best_f=8, peak_memory=39173120, runtime_ms=0.23514842987060547)\n"
     ]
    },
    {
     "name": "stderr",
     "output_type": "stream",
     "text": [
      "/home/salabed/anaconda3/envs/rocksdb/lib/python3.8/site-packages/botorch/optim/initializers.py:403: BadInitialCandidatesWarning: Unable to find non-zero acquisition function values - initial conditions are being selected randomly.\n",
      "  warnings.warn(\n"
     ]
    },
    {
     "name": "stdout",
     "output_type": "stream",
     "text": [
      "ExperimentResult(model='BoTorch', step=92, restart=1, candidate=[2.8889595558936443, 0.6489754500339118, 1.9253793919162943, 2.937227336743576, 0.5725227053999637], result=0.20275946616080878, best_f=2.0217322805851, steps_to_best_f=8, peak_memory=40037888, runtime_ms=0.2382955551147461)\n"
     ]
    },
    {
     "name": "stderr",
     "output_type": "stream",
     "text": [
      "/home/salabed/anaconda3/envs/rocksdb/lib/python3.8/site-packages/botorch/optim/initializers.py:403: BadInitialCandidatesWarning: Unable to find non-zero acquisition function values - initial conditions are being selected randomly.\n",
      "  warnings.warn(\n"
     ]
    },
    {
     "name": "stdout",
     "output_type": "stream",
     "text": [
      "ExperimentResult(model='BoTorch', step=93, restart=1, candidate=[1.3533337060793837, 2.676360722634461, 2.632413149653029, 0.9736014427569772, 1.3107032304655652], result=0.5687889671576509, best_f=2.0217322805851, steps_to_best_f=8, peak_memory=40051712, runtime_ms=0.22550344467163086)\n",
      "ExperimentResult(model='BoTorch', step=94, restart=1, candidate=[2.2172668532378315, 2.07789910634342, 3.1415927410125732, 0.8834223372421248, 0.7789835695139862], result=0.8345459863379482, best_f=2.0217322805851, steps_to_best_f=8, peak_memory=40064512, runtime_ms=0.29732513427734375)\n"
     ]
    },
    {
     "name": "stderr",
     "output_type": "stream",
     "text": [
      "/home/salabed/anaconda3/envs/rocksdb/lib/python3.8/site-packages/botorch/optim/initializers.py:403: BadInitialCandidatesWarning: Unable to find non-zero acquisition function values - initial conditions are being selected randomly.\n",
      "  warnings.warn(\n"
     ]
    },
    {
     "name": "stdout",
     "output_type": "stream",
     "text": [
      "ExperimentResult(model='BoTorch', step=95, restart=1, candidate=[1.1691168828974685, 0.8638928622214459, 0.7361423846150139, 0.791729013156558, 1.0884440525111516], result=0.32433144398570346, best_f=2.0217322805851, steps_to_best_f=8, peak_memory=40078848, runtime_ms=0.21081256866455078)\n"
     ]
    },
    {
     "name": "stderr",
     "output_type": "stream",
     "text": [
      "/home/salabed/anaconda3/envs/rocksdb/lib/python3.8/site-packages/botorch/optim/initializers.py:403: BadInitialCandidatesWarning: Unable to find non-zero acquisition function values - initial conditions are being selected randomly.\n",
      "  warnings.warn(\n"
     ]
    },
    {
     "name": "stdout",
     "output_type": "stream",
     "text": [
      "ExperimentResult(model='BoTorch', step=96, restart=1, candidate=[1.8550919840363567, 1.5575516072401796, 2.4212256490950756, 1.602951427816821, 2.141848983635813], result=1.1181126545917985, best_f=2.0217322805851, steps_to_best_f=8, peak_memory=40091648, runtime_ms=0.20879673957824707)\n"
     ]
    },
    {
     "name": "stderr",
     "output_type": "stream",
     "text": [
      "/home/salabed/anaconda3/envs/rocksdb/lib/python3.8/site-packages/botorch/optim/initializers.py:403: BadInitialCandidatesWarning: Unable to find non-zero acquisition function values - initial conditions are being selected randomly.\n",
      "  warnings.warn(\n"
     ]
    },
    {
     "name": "stdout",
     "output_type": "stream",
     "text": [
      "ExperimentResult(model='BoTorch', step=97, restart=1, candidate=[1.7049505439676893, 1.952257700642237, 0.6869922300718367, 1.2090875861156503, 1.7270692866261594], result=1.38440191407595, best_f=2.0217322805851, steps_to_best_f=8, peak_memory=40104448, runtime_ms=0.2280101776123047)\n"
     ]
    },
    {
     "name": "stderr",
     "output_type": "stream",
     "text": [
      "/home/salabed/anaconda3/envs/rocksdb/lib/python3.8/site-packages/botorch/optim/initializers.py:403: BadInitialCandidatesWarning: Unable to find non-zero acquisition function values - initial conditions are being selected randomly.\n",
      "  warnings.warn(\n"
     ]
    },
    {
     "name": "stdout",
     "output_type": "stream",
     "text": [
      "ExperimentResult(model='BoTorch', step=98, restart=1, candidate=[2.933011698262292, 1.140435934279892, 0.638907024329114, 0.9184825296192434, 1.0603706918246725], result=0.601211336728419, best_f=2.0217322805851, steps_to_best_f=8, peak_memory=40118784, runtime_ms=0.1873629093170166)\n"
     ]
    },
    {
     "name": "stderr",
     "output_type": "stream",
     "text": [
      "/home/salabed/anaconda3/envs/rocksdb/lib/python3.8/site-packages/botorch/optim/initializers.py:403: BadInitialCandidatesWarning: Unable to find non-zero acquisition function values - initial conditions are being selected randomly.\n",
      "  warnings.warn(\n"
     ]
    },
    {
     "name": "stdout",
     "output_type": "stream",
     "text": [
      "ExperimentResult(model='BoTorch', step=99, restart=1, candidate=[0.672270475413439, 2.0780549543432736, 1.2646948330251773, 1.0332953280279689, 0.9382650622601807], result=2.0872169634855395, best_f=2.0872169634855395, steps_to_best_f=99, peak_memory=40131584, runtime_ms=0.19129276275634766)\n"
     ]
    },
    {
     "name": "stderr",
     "output_type": "stream",
     "text": [
      "/home/salabed/anaconda3/envs/rocksdb/lib/python3.8/site-packages/botorch/optim/initializers.py:403: BadInitialCandidatesWarning: Unable to find non-zero acquisition function values - initial conditions are being selected randomly.\n",
      "  warnings.warn(\n"
     ]
    },
    {
     "name": "stdout",
     "output_type": "stream",
     "text": [
      "ExperimentResult(model='BoTorch', step=100, restart=1, candidate=[0.5805237322917745, 0.526748448004678, 2.955452142467018, 1.8361232493388724, 2.907718835826383], result=0.17396409333990973, best_f=2.0872169634855395, steps_to_best_f=99, peak_memory=40145920, runtime_ms=0.24044322967529297)\n"
     ]
    },
    {
     "name": "stderr",
     "output_type": "stream",
     "text": [
      "/home/salabed/anaconda3/envs/rocksdb/lib/python3.8/site-packages/botorch/optim/initializers.py:403: BadInitialCandidatesWarning: Unable to find non-zero acquisition function values - initial conditions are being selected randomly.\n",
      "  warnings.warn(\n"
     ]
    },
    {
     "name": "stdout",
     "output_type": "stream",
     "text": [
      "ExperimentResult(model='BoTorch', step=101, restart=1, candidate=[2.4002768869064015, 1.2601449879735482, 3.070718825851647, 2.953936582701412, 1.0823801544995804], result=0.90134810856465, best_f=2.0872169634855395, steps_to_best_f=99, peak_memory=40158720, runtime_ms=0.21371698379516602)\n"
     ]
    },
    {
     "name": "stderr",
     "output_type": "stream",
     "text": [
      "/home/salabed/anaconda3/envs/rocksdb/lib/python3.8/site-packages/botorch/optim/initializers.py:403: BadInitialCandidatesWarning: Unable to find non-zero acquisition function values - initial conditions are being selected randomly.\n",
      "  warnings.warn(\n"
     ]
    },
    {
     "name": "stdout",
     "output_type": "stream",
     "text": [
      "ExperimentResult(model='BoTorch', step=102, restart=1, candidate=[0.5236650320765135, 0.49887000652850455, 1.3018695427640625, 3.0875094012794446, 0.45044730557550317], result=0.9421756678664274, best_f=2.0872169634855395, steps_to_best_f=99, peak_memory=40641536, runtime_ms=0.259432315826416)\n"
     ]
    },
    {
     "name": "stderr",
     "output_type": "stream",
     "text": [
      "/home/salabed/anaconda3/envs/rocksdb/lib/python3.8/site-packages/botorch/optim/initializers.py:403: BadInitialCandidatesWarning: Unable to find non-zero acquisition function values - initial conditions are being selected randomly.\n",
      "  warnings.warn(\n"
     ]
    },
    {
     "name": "stdout",
     "output_type": "stream",
     "text": [
      "ExperimentResult(model='BoTorch', step=103, restart=1, candidate=[1.7233240904280611, 1.9137142174160682, 0.7121635503445023, 1.3720586688788639, 1.3893147360749292], result=0.016843540966429864, best_f=2.0872169634855395, steps_to_best_f=99, peak_memory=40680448, runtime_ms=0.2173290252685547)\n"
     ]
    },
    {
     "name": "stderr",
     "output_type": "stream",
     "text": [
      "/home/salabed/anaconda3/envs/rocksdb/lib/python3.8/site-packages/botorch/optim/initializers.py:403: BadInitialCandidatesWarning: Unable to find non-zero acquisition function values - initial conditions are being selected randomly.\n",
      "  warnings.warn(\n"
     ]
    },
    {
     "name": "stdout",
     "output_type": "stream",
     "text": [
      "ExperimentResult(model='BoTorch', step=104, restart=1, candidate=[1.170463853053092, 1.972322517963605, 0.10964632751785386, 0.31486652362186174, 2.4049022829014186], result=-8.094041994073442e-05, best_f=2.0872169634855395, steps_to_best_f=99, peak_memory=40719360, runtime_ms=0.2148451805114746)\n"
     ]
    },
    {
     "name": "stderr",
     "output_type": "stream",
     "text": [
      "/home/salabed/anaconda3/envs/rocksdb/lib/python3.8/site-packages/botorch/optim/initializers.py:403: BadInitialCandidatesWarning: Unable to find non-zero acquisition function values - initial conditions are being selected randomly.\n",
      "  warnings.warn(\n"
     ]
    },
    {
     "name": "stdout",
     "output_type": "stream",
     "text": [
      "ExperimentResult(model='BoTorch', step=105, restart=1, candidate=[1.5228366714349129, 2.25187350767188, 3.1357309568426217, 1.7406324715760968, 3.070492810853783], result=0.0006315294536941531, best_f=2.0872169634855395, steps_to_best_f=99, peak_memory=40756736, runtime_ms=0.2675669193267822)\n"
     ]
    },
    {
     "name": "stderr",
     "output_type": "stream",
     "text": [
      "/home/salabed/anaconda3/envs/rocksdb/lib/python3.8/site-packages/botorch/optim/initializers.py:403: BadInitialCandidatesWarning: Unable to find non-zero acquisition function values - initial conditions are being selected randomly.\n",
      "  warnings.warn(\n"
     ]
    },
    {
     "name": "stdout",
     "output_type": "stream",
     "text": [
      "ExperimentResult(model='BoTorch', step=106, restart=1, candidate=[0.1783640096258754, 2.9052892535969246, 1.8046245653529003, 1.1883506369157315, 1.1711103516803445], result=0.5699419553715528, best_f=2.0872169634855395, steps_to_best_f=99, peak_memory=40796672, runtime_ms=0.21155285835266113)\n"
     ]
    },
    {
     "name": "stderr",
     "output_type": "stream",
     "text": [
      "/home/salabed/anaconda3/envs/rocksdb/lib/python3.8/site-packages/botorch/optim/initializers.py:403: BadInitialCandidatesWarning: Unable to find non-zero acquisition function values - initial conditions are being selected randomly.\n",
      "  warnings.warn(\n"
     ]
    },
    {
     "name": "stdout",
     "output_type": "stream",
     "text": [
      "ExperimentResult(model='BoTorch', step=107, restart=1, candidate=[1.050124588862531, 0.977361434908941, 2.581806876633297, 2.924590772908341, 2.886610940330454], result=0.19266652762059053, best_f=2.0872169634855395, steps_to_best_f=99, peak_memory=40834048, runtime_ms=0.21800804138183594)\n"
     ]
    },
    {
     "name": "stderr",
     "output_type": "stream",
     "text": [
      "/home/salabed/anaconda3/envs/rocksdb/lib/python3.8/site-packages/botorch/optim/initializers.py:403: BadInitialCandidatesWarning: Unable to find non-zero acquisition function values - initial conditions are being selected randomly.\n",
      "  warnings.warn(\n"
     ]
    },
    {
     "name": "stdout",
     "output_type": "stream",
     "text": [
      "ExperimentResult(model='BoTorch', step=108, restart=1, candidate=[2.935584166630365, 1.4829861908278308, 2.942273637688401, 0.5671722169646165, 3.028018940624708], result=0.7906726405571869, best_f=2.0872169634855395, steps_to_best_f=99, peak_memory=40872960, runtime_ms=0.20566105842590332)\n"
     ]
    },
    {
     "name": "stderr",
     "output_type": "stream",
     "text": [
      "/home/salabed/anaconda3/envs/rocksdb/lib/python3.8/site-packages/botorch/optim/initializers.py:403: BadInitialCandidatesWarning: Unable to find non-zero acquisition function values - initial conditions are being selected randomly.\n",
      "  warnings.warn(\n"
     ]
    },
    {
     "name": "stdout",
     "output_type": "stream",
     "text": [
      "ExperimentResult(model='BoTorch', step=109, restart=1, candidate=[2.173147323911091, 1.1295930894615946, 0.392867535944742, 2.016989056684281, 1.7565153033846126], result=1.544094990486637, best_f=2.0872169634855395, steps_to_best_f=99, peak_memory=40911872, runtime_ms=0.200270414352417)\n"
     ]
    },
    {
     "name": "stderr",
     "output_type": "stream",
     "text": [
      "/home/salabed/anaconda3/envs/rocksdb/lib/python3.8/site-packages/botorch/optim/initializers.py:403: BadInitialCandidatesWarning: Unable to find non-zero acquisition function values - initial conditions are being selected randomly.\n",
      "  warnings.warn(\n"
     ]
    },
    {
     "name": "stdout",
     "output_type": "stream",
     "text": [
      "ExperimentResult(model='BoTorch', step=110, restart=1, candidate=[0.39427741743119693, 2.456439483866798, 0.0012198718293598976, 0.5051624328312698, 1.2553024598194917], result=9.274110169813178e-05, best_f=2.0872169634855395, steps_to_best_f=99, peak_memory=40949248, runtime_ms=0.2189772129058838)\n"
     ]
    },
    {
     "name": "stderr",
     "output_type": "stream",
     "text": [
      "/home/salabed/anaconda3/envs/rocksdb/lib/python3.8/site-packages/botorch/optim/initializers.py:403: BadInitialCandidatesWarning: Unable to find non-zero acquisition function values - initial conditions are being selected randomly.\n",
      "  warnings.warn(\n"
     ]
    },
    {
     "name": "stdout",
     "output_type": "stream",
     "text": [
      "ExperimentResult(model='BoTorch', step=111, restart=1, candidate=[0.8428536302503964, 3.1155560286001993, 0.6423511197939225, 0.3901899422805677, 1.9266969691210512], result=-2.200155893889253e-05, best_f=2.0872169634855395, steps_to_best_f=99, peak_memory=40988160, runtime_ms=0.21970725059509277)\n"
     ]
    },
    {
     "name": "stderr",
     "output_type": "stream",
     "text": [
      "/home/salabed/anaconda3/envs/rocksdb/lib/python3.8/site-packages/botorch/optim/initializers.py:403: BadInitialCandidatesWarning: Unable to find non-zero acquisition function values - initial conditions are being selected randomly.\n",
      "  warnings.warn(\n"
     ]
    },
    {
     "name": "stdout",
     "output_type": "stream",
     "text": [
      "ExperimentResult(model='BoTorch', step=112, restart=1, candidate=[1.114520325155326, 0.7146970670547126, 0.4292634231865866, 1.6987214707970277, 1.7240278974097456], result=0.9848850574510373, best_f=2.0872169634855395, steps_to_best_f=99, peak_memory=42074624, runtime_ms=0.21150946617126465)\n"
     ]
    },
    {
     "name": "stderr",
     "output_type": "stream",
     "text": [
      "/home/salabed/anaconda3/envs/rocksdb/lib/python3.8/site-packages/botorch/optim/initializers.py:403: BadInitialCandidatesWarning: Unable to find non-zero acquisition function values - initial conditions are being selected randomly.\n",
      "  warnings.warn(\n"
     ]
    },
    {
     "name": "stdout",
     "output_type": "stream",
     "text": [
      "ExperimentResult(model='BoTorch', step=113, restart=1, candidate=[2.525899149267763, 0.05549540096758232, 2.9129133128217433, 2.3904694282391903, 1.8140469283800453], result=0.2590526253954429, best_f=2.0872169634855395, steps_to_best_f=99, peak_memory=42103296, runtime_ms=0.24303460121154785)\n"
     ]
    },
    {
     "name": "stderr",
     "output_type": "stream",
     "text": [
      "/home/salabed/anaconda3/envs/rocksdb/lib/python3.8/site-packages/botorch/optim/initializers.py:403: BadInitialCandidatesWarning: Unable to find non-zero acquisition function values - initial conditions are being selected randomly.\n",
      "  warnings.warn(\n"
     ]
    },
    {
     "name": "stdout",
     "output_type": "stream",
     "text": [
      "ExperimentResult(model='BoTorch', step=114, restart=1, candidate=[2.864212651574274, 3.1050269504602745, 2.8347263987158486, 2.1134498281581795, 2.6621038921321007], result=0.421854492751204, best_f=2.0872169634855395, steps_to_best_f=99, peak_memory=42131968, runtime_ms=0.23168253898620605)\n"
     ]
    },
    {
     "name": "stderr",
     "output_type": "stream",
     "text": [
      "/home/salabed/anaconda3/envs/rocksdb/lib/python3.8/site-packages/botorch/optim/initializers.py:403: BadInitialCandidatesWarning: Unable to find non-zero acquisition function values - initial conditions are being selected randomly.\n",
      "  warnings.warn(\n"
     ]
    },
    {
     "name": "stdout",
     "output_type": "stream",
     "text": [
      "ExperimentResult(model='BoTorch', step=115, restart=1, candidate=[0.17844152673121672, 2.4003478764710917, 0.5886181899122356, 1.029898124940578, 2.082719972012652], result=0.5257045275475181, best_f=2.0872169634855395, steps_to_best_f=99, peak_memory=42160640, runtime_ms=0.2448272705078125)\n"
     ]
    },
    {
     "name": "stderr",
     "output_type": "stream",
     "text": [
      "/home/salabed/anaconda3/envs/rocksdb/lib/python3.8/site-packages/botorch/optim/initializers.py:403: BadInitialCandidatesWarning: Unable to find non-zero acquisition function values - initial conditions are being selected randomly.\n",
      "  warnings.warn(\n"
     ]
    },
    {
     "name": "stdout",
     "output_type": "stream",
     "text": [
      "ExperimentResult(model='BoTorch', step=116, restart=1, candidate=[1.8866511479832448, 0.27405412753751524, 0.16251150118415048, 2.7826111929495942, 2.055656636328731], result=0.1308968640709478, best_f=2.0872169634855395, steps_to_best_f=99, peak_memory=42189312, runtime_ms=0.22327637672424316)\n"
     ]
    },
    {
     "name": "stderr",
     "output_type": "stream",
     "text": [
      "/home/salabed/anaconda3/envs/rocksdb/lib/python3.8/site-packages/botorch/optim/initializers.py:403: BadInitialCandidatesWarning: Unable to find non-zero acquisition function values - initial conditions are being selected randomly.\n",
      "  warnings.warn(\n"
     ]
    },
    {
     "name": "stdout",
     "output_type": "stream",
     "text": [
      "ExperimentResult(model='BoTorch', step=117, restart=1, candidate=[0.6371287303208328, 1.986736562424647, 2.0422285957547173, 1.173632934540526, 2.6652129442373997], result=0.8338738040163, best_f=2.0872169634855395, steps_to_best_f=99, peak_memory=42217984, runtime_ms=0.23711776733398438)\n"
     ]
    },
    {
     "name": "stderr",
     "output_type": "stream",
     "text": [
      "/home/salabed/anaconda3/envs/rocksdb/lib/python3.8/site-packages/botorch/optim/initializers.py:403: BadInitialCandidatesWarning: Unable to find non-zero acquisition function values - initial conditions are being selected randomly.\n",
      "  warnings.warn(\n"
     ]
    },
    {
     "name": "stdout",
     "output_type": "stream",
     "text": [
      "ExperimentResult(model='BoTorch', step=118, restart=1, candidate=[2.7580142874767377, 2.093995744041867, 0.16905240705543, 0.545286642973617, 0.4692964262358257], result=0.00011001079783776837, best_f=2.0872169634855395, steps_to_best_f=99, peak_memory=42245120, runtime_ms=0.25396013259887695)\n"
     ]
    },
    {
     "name": "stderr",
     "output_type": "stream",
     "text": [
      "/home/salabed/anaconda3/envs/rocksdb/lib/python3.8/site-packages/botorch/optim/initializers.py:403: BadInitialCandidatesWarning: Unable to find non-zero acquisition function values - initial conditions are being selected randomly.\n",
      "  warnings.warn(\n"
     ]
    },
    {
     "name": "stdout",
     "output_type": "stream",
     "text": [
      "ExperimentResult(model='BoTorch', step=119, restart=1, candidate=[2.1449754737251023, 1.4034956967177514, 1.282134756844725, 0.42941089118475273, 1.9732479160787586], result=2.0637884346534494, best_f=2.0872169634855395, steps_to_best_f=99, peak_memory=42277888, runtime_ms=0.30553340911865234)\n"
     ]
    },
    {
     "name": "stderr",
     "output_type": "stream",
     "text": [
      "/home/salabed/anaconda3/envs/rocksdb/lib/python3.8/site-packages/botorch/optim/initializers.py:403: BadInitialCandidatesWarning: Unable to find non-zero acquisition function values - initial conditions are being selected randomly.\n",
      "  warnings.warn(\n"
     ]
    },
    {
     "name": "stdout",
     "output_type": "stream",
     "text": [
      "ExperimentResult(model='BoTorch', step=120, restart=1, candidate=[2.3834545778587457, 0.9916821451939284, 2.2389630767870763, 0.31785577151064337, 0.10311209255320142], result=1.1315459522917433, best_f=2.0872169634855395, steps_to_best_f=99, peak_memory=42306560, runtime_ms=0.19485020637512207)\n"
     ]
    },
    {
     "name": "stderr",
     "output_type": "stream",
     "text": [
      "/home/salabed/anaconda3/envs/rocksdb/lib/python3.8/site-packages/botorch/optim/initializers.py:403: BadInitialCandidatesWarning: Unable to find non-zero acquisition function values - initial conditions are being selected randomly.\n",
      "  warnings.warn(\n"
     ]
    },
    {
     "name": "stdout",
     "output_type": "stream",
     "text": [
      "ExperimentResult(model='BoTorch', step=121, restart=1, candidate=[0.7325885117744824, 1.7373679259038255, 2.180039330131165, 2.314899873606798, 0.7912476662817058], result=0.9070088074999914, best_f=2.0872169634855395, steps_to_best_f=99, peak_memory=42335232, runtime_ms=0.17208385467529297)\n"
     ]
    },
    {
     "name": "stderr",
     "output_type": "stream",
     "text": [
      "/home/salabed/anaconda3/envs/rocksdb/lib/python3.8/site-packages/botorch/optim/initializers.py:403: BadInitialCandidatesWarning: Unable to find non-zero acquisition function values - initial conditions are being selected randomly.\n",
      "  warnings.warn(\n"
     ]
    },
    {
     "name": "stdout",
     "output_type": "stream",
     "text": [
      "ExperimentResult(model='BoTorch', step=122, restart=1, candidate=[1.3746890922111776, 0.03312912378570343, 2.016053453252322, 0.29904866293289034, 0.4674423179588949], result=0.00015574578379348844, best_f=2.0872169634855395, steps_to_best_f=99, peak_memory=42363904, runtime_ms=0.15920567512512207)\n"
     ]
    },
    {
     "name": "stderr",
     "output_type": "stream",
     "text": [
      "/home/salabed/anaconda3/envs/rocksdb/lib/python3.8/site-packages/botorch/optim/initializers.py:403: BadInitialCandidatesWarning: Unable to find non-zero acquisition function values - initial conditions are being selected randomly.\n",
      "  warnings.warn(\n"
     ]
    },
    {
     "name": "stdout",
     "output_type": "stream",
     "text": [
      "ExperimentResult(model='BoTorch', step=123, restart=1, candidate=[1.390189192455309, 1.9855834055132304, 2.8405330718343844, 1.626689021037676, 0.2428599031448364], result=0.23728494200464614, best_f=2.0872169634855395, steps_to_best_f=99, peak_memory=42392576, runtime_ms=0.16862821578979492)\n"
     ]
    },
    {
     "name": "stderr",
     "output_type": "stream",
     "text": [
      "/home/salabed/anaconda3/envs/rocksdb/lib/python3.8/site-packages/botorch/optim/initializers.py:403: BadInitialCandidatesWarning: Unable to find non-zero acquisition function values - initial conditions are being selected randomly.\n",
      "  warnings.warn(\n"
     ]
    },
    {
     "name": "stdout",
     "output_type": "stream",
     "text": [
      "ExperimentResult(model='BoTorch', step=124, restart=1, candidate=[1.8814915820658995, 1.108921509294949, 1.8020731834866088, 1.4951000891288335, 0.02654614146345713], result=0.12475231434271933, best_f=2.0872169634855395, steps_to_best_f=99, peak_memory=42421248, runtime_ms=0.20461726188659668)\n"
     ]
    },
    {
     "name": "stderr",
     "output_type": "stream",
     "text": [
      "/home/salabed/anaconda3/envs/rocksdb/lib/python3.8/site-packages/botorch/optim/initializers.py:403: BadInitialCandidatesWarning: Unable to find non-zero acquisition function values - initial conditions are being selected randomly.\n",
      "  warnings.warn(\n"
     ]
    },
    {
     "name": "stdout",
     "output_type": "stream",
     "text": [
      "ExperimentResult(model='BoTorch', step=125, restart=1, candidate=[2.1737567931548907, 1.3672692914659423, 1.9455133116379775, 0.3721467958775926, 0.39923382205754865], result=1.0094594482345354, best_f=2.0872169634855395, steps_to_best_f=99, peak_memory=42449920, runtime_ms=0.24975132942199707)\n"
     ]
    },
    {
     "name": "stderr",
     "output_type": "stream",
     "text": [
      "/home/salabed/anaconda3/envs/rocksdb/lib/python3.8/site-packages/botorch/optim/initializers.py:403: BadInitialCandidatesWarning: Unable to find non-zero acquisition function values - initial conditions are being selected randomly.\n",
      "  warnings.warn(\n"
     ]
    },
    {
     "name": "stdout",
     "output_type": "stream",
     "text": [
      "ExperimentResult(model='BoTorch', step=126, restart=1, candidate=[2.6315568305315007, 0.26203082775568265, 1.8550237008701886, 2.9608100683780867, 2.653039370580447], result=0.4479269508491189, best_f=2.0872169634855395, steps_to_best_f=99, peak_memory=42478592, runtime_ms=0.23331832885742188)\n"
     ]
    },
    {
     "name": "stderr",
     "output_type": "stream",
     "text": [
      "/home/salabed/anaconda3/envs/rocksdb/lib/python3.8/site-packages/botorch/optim/initializers.py:403: BadInitialCandidatesWarning: Unable to find non-zero acquisition function values - initial conditions are being selected randomly.\n",
      "  warnings.warn(\n"
     ]
    },
    {
     "name": "stdout",
     "output_type": "stream",
     "text": [
      "ExperimentResult(model='BoTorch', step=127, restart=1, candidate=[0.5019656700071695, 0.8428147634417849, 2.1999451926212887, 2.1060683470901784, 3.016247198391114], result=0.7823448946703633, best_f=2.0872169634855395, steps_to_best_f=99, peak_memory=42508800, runtime_ms=0.26212596893310547)\n"
     ]
    },
    {
     "name": "stderr",
     "output_type": "stream",
     "text": [
      "/home/salabed/anaconda3/envs/rocksdb/lib/python3.8/site-packages/botorch/optim/initializers.py:403: BadInitialCandidatesWarning: Unable to find non-zero acquisition function values - initial conditions are being selected randomly.\n",
      "  warnings.warn(\n"
     ]
    },
    {
     "name": "stdout",
     "output_type": "stream",
     "text": [
      "ExperimentResult(model='BoTorch', step=128, restart=1, candidate=[2.0045103387883545, 0.3152737619905921, 0.9613992310149078, 0.49872346894626274, 2.658034592276194], result=0.6357333026618089, best_f=2.0872169634855395, steps_to_best_f=99, peak_memory=42537472, runtime_ms=0.225480318069458)\n"
     ]
    },
    {
     "name": "stderr",
     "output_type": "stream",
     "text": [
      "/home/salabed/anaconda3/envs/rocksdb/lib/python3.8/site-packages/botorch/optim/initializers.py:403: BadInitialCandidatesWarning: Unable to find non-zero acquisition function values - initial conditions are being selected randomly.\n",
      "  warnings.warn(\n"
     ]
    },
    {
     "name": "stdout",
     "output_type": "stream",
     "text": [
      "ExperimentResult(model='BoTorch', step=129, restart=1, candidate=[0.0631422114950031, 1.6023848776648253, 2.521325268471423, 3.0146620476105412, 0.9896221633758095], result=1.7979170786860936, best_f=2.0872169634855395, steps_to_best_f=99, peak_memory=42566144, runtime_ms=0.2421128749847412)\n"
     ]
    },
    {
     "name": "stderr",
     "output_type": "stream",
     "text": [
      "/home/salabed/anaconda3/envs/rocksdb/lib/python3.8/site-packages/botorch/optim/initializers.py:403: BadInitialCandidatesWarning: Unable to find non-zero acquisition function values - initial conditions are being selected randomly.\n",
      "  warnings.warn(\n"
     ]
    },
    {
     "name": "stdout",
     "output_type": "stream",
     "text": [
      "ExperimentResult(model='BoTorch', step=130, restart=1, candidate=[2.4747172881878896, 2.2982465784153794, 0.8990335393838245, 2.723137163791182, 1.2181169244865186], result=0.1437939760106126, best_f=2.0872169634855395, steps_to_best_f=99, peak_memory=42596352, runtime_ms=0.25536084175109863)\n"
     ]
    },
    {
     "name": "stderr",
     "output_type": "stream",
     "text": [
      "/home/salabed/anaconda3/envs/rocksdb/lib/python3.8/site-packages/botorch/optim/initializers.py:403: BadInitialCandidatesWarning: Unable to find non-zero acquisition function values - initial conditions are being selected randomly.\n",
      "  warnings.warn(\n"
     ]
    },
    {
     "name": "stdout",
     "output_type": "stream",
     "text": [
      "ExperimentResult(model='BoTorch', step=131, restart=1, candidate=[1.45707418048184, 2.6706914204532275, 2.3176476434531876, 2.758723018640814, 2.3532409416302147], result=0.45995381497585675, best_f=2.0872169634855395, steps_to_best_f=99, peak_memory=42626048, runtime_ms=0.24356365203857422)\n"
     ]
    },
    {
     "name": "stderr",
     "output_type": "stream",
     "text": [
      "/home/salabed/anaconda3/envs/rocksdb/lib/python3.8/site-packages/botorch/optim/initializers.py:403: BadInitialCandidatesWarning: Unable to find non-zero acquisition function values - initial conditions are being selected randomly.\n",
      "  warnings.warn(\n"
     ]
    },
    {
     "name": "stdout",
     "output_type": "stream",
     "text": [
      "ExperimentResult(model='BoTorch', step=132, restart=1, candidate=[0.18496360484629215, 1.0444188278359112, 0.13985218979949532, 1.6870198520805968, 0.5401238352297177], result=0.00028919715739571884, best_f=2.0872169634855395, steps_to_best_f=99, peak_memory=42656256, runtime_ms=0.2598598003387451)\n"
     ]
    },
    {
     "name": "stderr",
     "output_type": "stream",
     "text": [
      "/home/salabed/anaconda3/envs/rocksdb/lib/python3.8/site-packages/botorch/optim/initializers.py:403: BadInitialCandidatesWarning: Unable to find non-zero acquisition function values - initial conditions are being selected randomly.\n",
      "  warnings.warn(\n"
     ]
    },
    {
     "name": "stdout",
     "output_type": "stream",
     "text": [
      "ExperimentResult(model='BoTorch', step=133, restart=1, candidate=[1.9671476587002334, 3.0262297156922346, 3.0537722331321904, 0.1821722927049796, 1.579269568850501], result=0.2880286438137818, best_f=2.0872169634855395, steps_to_best_f=99, peak_memory=42684928, runtime_ms=0.20762920379638672)\n"
     ]
    },
    {
     "name": "stderr",
     "output_type": "stream",
     "text": [
      "/home/salabed/anaconda3/envs/rocksdb/lib/python3.8/site-packages/botorch/optim/initializers.py:403: BadInitialCandidatesWarning: Unable to find non-zero acquisition function values - initial conditions are being selected randomly.\n",
      "  warnings.warn(\n"
     ]
    },
    {
     "name": "stdout",
     "output_type": "stream",
     "text": [
      "ExperimentResult(model='BoTorch', step=134, restart=1, candidate=[0.05522947463756922, 0.9634134293475438, 2.539239830223324, 0.3655093812979382, 0.7100463655020561], result=0.0007646695211467261, best_f=2.0872169634855395, steps_to_best_f=99, peak_memory=42713600, runtime_ms=0.19078731536865234)\n"
     ]
    },
    {
     "name": "stderr",
     "output_type": "stream",
     "text": [
      "/home/salabed/anaconda3/envs/rocksdb/lib/python3.8/site-packages/botorch/optim/initializers.py:403: BadInitialCandidatesWarning: Unable to find non-zero acquisition function values - initial conditions are being selected randomly.\n",
      "  warnings.warn(\n"
     ]
    },
    {
     "name": "stdout",
     "output_type": "stream",
     "text": [
      "ExperimentResult(model='BoTorch', step=135, restart=1, candidate=[0.039517687215641084, 1.3629044353364206, 2.2035893362873313, 0.11058748126115958, 1.6860179345702597], result=1.66583057285133, best_f=2.0872169634855395, steps_to_best_f=99, peak_memory=42743808, runtime_ms=0.1851210594177246)\n"
     ]
    },
    {
     "name": "stderr",
     "output_type": "stream",
     "text": [
      "/home/salabed/anaconda3/envs/rocksdb/lib/python3.8/site-packages/botorch/optim/initializers.py:403: BadInitialCandidatesWarning: Unable to find non-zero acquisition function values - initial conditions are being selected randomly.\n",
      "  warnings.warn(\n"
     ]
    },
    {
     "name": "stdout",
     "output_type": "stream",
     "text": [
      "ExperimentResult(model='BoTorch', step=136, restart=1, candidate=[1.4143132125717195, 2.8333056067860554, 3.017359969984911, 1.5050145836632112, 1.3588045487884615], result=0.05957683171670497, best_f=2.0872169634855395, steps_to_best_f=99, peak_memory=42774016, runtime_ms=0.19692301750183105)\n"
     ]
    },
    {
     "name": "stderr",
     "output_type": "stream",
     "text": [
      "/home/salabed/anaconda3/envs/rocksdb/lib/python3.8/site-packages/botorch/optim/initializers.py:403: BadInitialCandidatesWarning: Unable to find non-zero acquisition function values - initial conditions are being selected randomly.\n",
      "  warnings.warn(\n"
     ]
    },
    {
     "name": "stdout",
     "output_type": "stream",
     "text": [
      "ExperimentResult(model='BoTorch', step=137, restart=1, candidate=[2.5481545694403462, 1.9231335522027049, 1.6553077546734463, 1.8583947147973956, 1.6484934586639055], result=0.6071698233260171, best_f=2.0872169634855395, steps_to_best_f=99, peak_memory=42802688, runtime_ms=0.18169736862182617)\n"
     ]
    },
    {
     "name": "stderr",
     "output_type": "stream",
     "text": [
      "/home/salabed/anaconda3/envs/rocksdb/lib/python3.8/site-packages/botorch/optim/initializers.py:403: BadInitialCandidatesWarning: Unable to find non-zero acquisition function values - initial conditions are being selected randomly.\n",
      "  warnings.warn(\n"
     ]
    },
    {
     "name": "stdout",
     "output_type": "stream",
     "text": [
      "ExperimentResult(model='BoTorch', step=138, restart=1, candidate=[0.33830090950733416, 0.12625928420503252, 2.4134158577857443, 1.6616970934499875, 0.6764118590967894], result=0.00026911672211424754, best_f=2.0872169634855395, steps_to_best_f=99, peak_memory=42832896, runtime_ms=0.16983723640441895)\n"
     ]
    },
    {
     "name": "stderr",
     "output_type": "stream",
     "text": [
      "/home/salabed/anaconda3/envs/rocksdb/lib/python3.8/site-packages/botorch/optim/initializers.py:403: BadInitialCandidatesWarning: Unable to find non-zero acquisition function values - initial conditions are being selected randomly.\n",
      "  warnings.warn(\n"
     ]
    },
    {
     "name": "stdout",
     "output_type": "stream",
     "text": [
      "ExperimentResult(model='BoTorch', step=139, restart=1, candidate=[2.899550664687692, 1.3923443751330034, 2.751136895808682, 2.7164858193051886, 1.2528261636886262], result=0.31580862171856855, best_f=2.0872169634855395, steps_to_best_f=99, peak_memory=42861568, runtime_ms=0.1621544361114502)\n"
     ]
    },
    {
     "name": "stderr",
     "output_type": "stream",
     "text": [
      "/home/salabed/anaconda3/envs/rocksdb/lib/python3.8/site-packages/botorch/optim/initializers.py:403: BadInitialCandidatesWarning: Unable to find non-zero acquisition function values - initial conditions are being selected randomly.\n",
      "  warnings.warn(\n"
     ]
    },
    {
     "name": "stdout",
     "output_type": "stream",
     "text": [
      "ExperimentResult(model='BoTorch', step=140, restart=1, candidate=[0.6549837717861051, 0.41014558202264184, 2.1912932286086493, 0.3336352452281466, 2.182658954201917], result=1.079512645210728, best_f=2.0872169634855395, steps_to_best_f=99, peak_memory=42891776, runtime_ms=0.14673185348510742)\n"
     ]
    },
    {
     "name": "stderr",
     "output_type": "stream",
     "text": [
      "/home/salabed/anaconda3/envs/rocksdb/lib/python3.8/site-packages/botorch/optim/initializers.py:403: BadInitialCandidatesWarning: Unable to find non-zero acquisition function values - initial conditions are being selected randomly.\n",
      "  warnings.warn(\n"
     ]
    },
    {
     "name": "stdout",
     "output_type": "stream",
     "text": [
      "ExperimentResult(model='BoTorch', step=141, restart=1, candidate=[1.4250995536405509, 2.557119846626741, 0.31817415223276635, 1.5330847200781539, 1.2970804286764026], result=0.022745530414454897, best_f=2.0872169634855395, steps_to_best_f=99, peak_memory=42921984, runtime_ms=0.14750099182128906)\n"
     ]
    },
    {
     "name": "stderr",
     "output_type": "stream",
     "text": [
      "/home/salabed/anaconda3/envs/rocksdb/lib/python3.8/site-packages/botorch/optim/initializers.py:403: BadInitialCandidatesWarning: Unable to find non-zero acquisition function values - initial conditions are being selected randomly.\n",
      "  warnings.warn(\n"
     ]
    },
    {
     "name": "stdout",
     "output_type": "stream",
     "text": [
      "ExperimentResult(model='BoTorch', step=142, restart=1, candidate=[1.535268968013056, 0.19643520602088294, 2.166816124426474, 0.4652870709128032, 1.429959818213894], result=0.4881931497865402, best_f=2.0872169634855395, steps_to_best_f=99, peak_memory=42950656, runtime_ms=0.15688014030456543)\n"
     ]
    },
    {
     "name": "stderr",
     "output_type": "stream",
     "text": [
      "/home/salabed/anaconda3/envs/rocksdb/lib/python3.8/site-packages/botorch/optim/initializers.py:403: BadInitialCandidatesWarning: Unable to find non-zero acquisition function values - initial conditions are being selected randomly.\n",
      "  warnings.warn(\n"
     ]
    },
    {
     "name": "stdout",
     "output_type": "stream",
     "text": [
      "ExperimentResult(model='BoTorch', step=143, restart=1, candidate=[0.6792133765549069, 2.119910516377268, 0.13913274714894452, 2.4887414708216307, 2.3158310326935085], result=0.605904976376529, best_f=2.0872169634855395, steps_to_best_f=99, peak_memory=42980864, runtime_ms=0.14728617668151855)\n"
     ]
    },
    {
     "name": "stderr",
     "output_type": "stream",
     "text": [
      "/home/salabed/anaconda3/envs/rocksdb/lib/python3.8/site-packages/botorch/optim/initializers.py:403: BadInitialCandidatesWarning: Unable to find non-zero acquisition function values - initial conditions are being selected randomly.\n",
      "  warnings.warn(\n"
     ]
    },
    {
     "name": "stdout",
     "output_type": "stream",
     "text": [
      "ExperimentResult(model='BoTorch', step=144, restart=1, candidate=[2.593450727639006, 1.04066247542423, 2.8240505840368177, 0.5369074663769735, 0.6352359717471723], result=0.19286388014513903, best_f=2.0872169634855395, steps_to_best_f=99, peak_memory=43012096, runtime_ms=0.1500234603881836)\n"
     ]
    },
    {
     "name": "stderr",
     "output_type": "stream",
     "text": [
      "/home/salabed/anaconda3/envs/rocksdb/lib/python3.8/site-packages/botorch/optim/initializers.py:403: BadInitialCandidatesWarning: Unable to find non-zero acquisition function values - initial conditions are being selected randomly.\n",
      "  warnings.warn(\n"
     ]
    },
    {
     "name": "stdout",
     "output_type": "stream",
     "text": [
      "ExperimentResult(model='BoTorch', step=145, restart=1, candidate=[0.10295365852080796, 0.24446119283810908, 0.7136689369775018, 0.1294835001505723, 1.601366666172468], result=0.013907772202203005, best_f=2.0872169634855395, steps_to_best_f=99, peak_memory=43042304, runtime_ms=0.17987823486328125)\n"
     ]
    },
    {
     "name": "stderr",
     "output_type": "stream",
     "text": [
      "/home/salabed/anaconda3/envs/rocksdb/lib/python3.8/site-packages/botorch/optim/initializers.py:403: BadInitialCandidatesWarning: Unable to find non-zero acquisition function values - initial conditions are being selected randomly.\n",
      "  warnings.warn(\n"
     ]
    },
    {
     "name": "stdout",
     "output_type": "stream",
     "text": [
      "ExperimentResult(model='BoTorch', step=146, restart=1, candidate=[2.010798028162247, 0.3311083555370198, 1.4245580632759502, 2.25221679896375, 0.5051890374601997], result=0.6491501234088901, best_f=2.0872169634855395, steps_to_best_f=99, peak_memory=43072512, runtime_ms=0.18645811080932617)\n"
     ]
    },
    {
     "name": "stderr",
     "output_type": "stream",
     "text": [
      "/home/salabed/anaconda3/envs/rocksdb/lib/python3.8/site-packages/botorch/optim/initializers.py:403: BadInitialCandidatesWarning: Unable to find non-zero acquisition function values - initial conditions are being selected randomly.\n",
      "  warnings.warn(\n"
     ]
    },
    {
     "name": "stdout",
     "output_type": "stream",
     "text": [
      "ExperimentResult(model='BoTorch', step=147, restart=1, candidate=[2.54833370961581, 0.05076688680012431, 0.433772827329707, 2.2780855800792956, 1.9903260895055985], result=0.0427726066839611, best_f=2.0872169634855395, steps_to_best_f=99, peak_memory=43102720, runtime_ms=0.18246221542358398)\n"
     ]
    },
    {
     "name": "stderr",
     "output_type": "stream",
     "text": [
      "/home/salabed/anaconda3/envs/rocksdb/lib/python3.8/site-packages/botorch/optim/initializers.py:403: BadInitialCandidatesWarning: Unable to find non-zero acquisition function values - initial conditions are being selected randomly.\n",
      "  warnings.warn(\n"
     ]
    },
    {
     "name": "stdout",
     "output_type": "stream",
     "text": [
      "ExperimentResult(model='BoTorch', step=148, restart=1, candidate=[2.596127355777221, 0.6347519799163592, 2.000769674710592, 3.1313590991869775, 0.3109904840271127], result=0.015663384878424554, best_f=2.0872169634855395, steps_to_best_f=99, peak_memory=43132928, runtime_ms=0.16834759712219238)\n"
     ]
    },
    {
     "name": "stderr",
     "output_type": "stream",
     "text": [
      "/home/salabed/anaconda3/envs/rocksdb/lib/python3.8/site-packages/botorch/optim/initializers.py:403: BadInitialCandidatesWarning: Unable to find non-zero acquisition function values - initial conditions are being selected randomly.\n",
      "  warnings.warn(\n"
     ]
    },
    {
     "name": "stdout",
     "output_type": "stream",
     "text": [
      "ExperimentResult(model='BoTorch', step=149, restart=1, candidate=[0.5620315343943638, 0.13951781060481228, 1.2626960538495258, 0.24769450520851888, 0.6200220709523607], result=0.9308654388692857, best_f=2.0872169634855395, steps_to_best_f=99, peak_memory=43163136, runtime_ms=0.1491549015045166)\n",
      "restart_id=2/3\n",
      "ExperimentResult(model='BoTorch', step=0, restart=2, candidate=[0.9549523678495874, 0.0, 2.0652718723914045, 0.9209472918565507, 0.5909359990854779], result=0.0754380375300722, best_f=1.188902735710144, steps_to_best_f=0, peak_memory=37481472, runtime_ms=0.321441650390625)\n",
      "ExperimentResult(model='BoTorch', step=1, restart=2, candidate=[1.4039984107360262, 0.0015968808360657051, 2.374744749307089, 0.0, 1.5536320572838802], result=0.005208835723399836, best_f=1.188902735710144, steps_to_best_f=0, peak_memory=37483520, runtime_ms=0.23906779289245605)\n",
      "ExperimentResult(model='BoTorch', step=2, restart=2, candidate=[3.1415927410125732, 2.371309611306578, 2.5376564283161054, 1.2135910683027966, 1.6746841434495254], result=0.897585342585477, best_f=1.188902735710144, steps_to_best_f=0, peak_memory=37487104, runtime_ms=0.16506075859069824)\n",
      "ExperimentResult(model='BoTorch', step=3, restart=2, candidate=[3.1415927410125732, 2.5808163927071774, 2.7610886007212967, 0.7857277370472151, 2.4124096788197233], result=0.06445879904770194, best_f=1.188902735710144, steps_to_best_f=0, peak_memory=37490176, runtime_ms=0.19980835914611816)\n",
      "ExperimentResult(model='BoTorch', step=4, restart=2, candidate=[2.7435903510443684, 2.126520962303564, 1.990127981784507, 1.4379950956528538, 1.0634434380461237], result=0.5149872523171332, best_f=1.188902735710144, steps_to_best_f=0, peak_memory=37493760, runtime_ms=0.17740917205810547)\n"
     ]
    },
    {
     "name": "stderr",
     "output_type": "stream",
     "text": [
      "/home/salabed/anaconda3/envs/rocksdb/lib/python3.8/site-packages/botorch/optim/initializers.py:403: BadInitialCandidatesWarning: Unable to find non-zero acquisition function values - initial conditions are being selected randomly.\n",
      "  warnings.warn(\n"
     ]
    },
    {
     "name": "stdout",
     "output_type": "stream",
     "text": [
      "ExperimentResult(model='BoTorch', step=5, restart=2, candidate=[0.3279304643566672, 0.1651809463943965, 0.9931948639725452, 0.2856331741963458, 2.2725367960186214], result=0.20685406171927678, best_f=1.188902735710144, steps_to_best_f=0, peak_memory=37496832, runtime_ms=0.09129691123962402)\n"
     ]
    },
    {
     "name": "stderr",
     "output_type": "stream",
     "text": [
      "/home/salabed/anaconda3/envs/rocksdb/lib/python3.8/site-packages/botorch/optim/initializers.py:403: BadInitialCandidatesWarning: Unable to find non-zero acquisition function values - initial conditions are being selected randomly.\n",
      "  warnings.warn(\n"
     ]
    },
    {
     "name": "stdout",
     "output_type": "stream",
     "text": [
      "ExperimentResult(model='BoTorch', step=6, restart=2, candidate=[2.9075188519935455, 2.3703611768788404, 0.267668788379114, 0.5862123274371744, 0.8911496863817514], result=0.29874426366204376, best_f=1.188902735710144, steps_to_best_f=0, peak_memory=37498880, runtime_ms=0.10048317909240723)\n"
     ]
    },
    {
     "name": "stderr",
     "output_type": "stream",
     "text": [
      "/home/salabed/anaconda3/envs/rocksdb/lib/python3.8/site-packages/botorch/optim/initializers.py:403: BadInitialCandidatesWarning: Unable to find non-zero acquisition function values - initial conditions are being selected randomly.\n",
      "  warnings.warn(\n"
     ]
    },
    {
     "name": "stdout",
     "output_type": "stream",
     "text": [
      "ExperimentResult(model='BoTorch', step=7, restart=2, candidate=[1.3764679801642155, 0.200338973765678, 1.3637474682355832, 2.618229631829333, 1.0148851969112527], result=1.4510385928101148, best_f=1.4510385928101148, steps_to_best_f=7, peak_memory=37502464, runtime_ms=0.09338712692260742)\n",
      "ExperimentResult(model='BoTorch', step=8, restart=2, candidate=[1.277670287708239, 0.09086120038896729, 1.3124335510002532, 2.928392390813491, 0.8062984010263795], result=1.14963969474572, best_f=1.4510385928101148, steps_to_best_f=7, peak_memory=37505024, runtime_ms=0.10340166091918945)\n",
      "ExperimentResult(model='BoTorch', step=9, restart=2, candidate=[0.8301785978653415, 0.3262116792803799, 1.540092768997058, 2.6825891086482696, 1.0283311304980527], result=0.7601583758717821, best_f=1.4510385928101148, steps_to_best_f=7, peak_memory=37507072, runtime_ms=0.809455394744873)\n",
      "ExperimentResult(model='BoTorch', step=10, restart=2, candidate=[1.7863984099510106, 0.16855258038730947, 1.0551555931505376, 2.6751373658924193, 0.7014290122348021], result=0.0971713328410793, best_f=1.4510385928101148, steps_to_best_f=7, peak_memory=37510656, runtime_ms=0.1309065818786621)\n"
     ]
    },
    {
     "name": "stderr",
     "output_type": "stream",
     "text": [
      "/home/salabed/anaconda3/envs/rocksdb/lib/python3.8/site-packages/botorch/optim/initializers.py:403: BadInitialCandidatesWarning: Unable to find non-zero acquisition function values - initial conditions are being selected randomly.\n",
      "  warnings.warn(\n"
     ]
    },
    {
     "name": "stdout",
     "output_type": "stream",
     "text": [
      "ExperimentResult(model='BoTorch', step=11, restart=2, candidate=[2.9901215815187534, 1.314333520297012, 3.0616245017320534, 2.915327391044966, 0.55474200065604], result=0.26186133083525853, best_f=1.4510385928101148, steps_to_best_f=7, peak_memory=37513728, runtime_ms=0.10029006004333496)\n"
     ]
    },
    {
     "name": "stderr",
     "output_type": "stream",
     "text": [
      "/home/salabed/anaconda3/envs/rocksdb/lib/python3.8/site-packages/botorch/optim/initializers.py:403: BadInitialCandidatesWarning: Unable to find non-zero acquisition function values - initial conditions are being selected randomly.\n",
      "  warnings.warn(\n"
     ]
    },
    {
     "name": "stdout",
     "output_type": "stream",
     "text": [
      "ExperimentResult(model='BoTorch', step=12, restart=2, candidate=[1.2559399790553238, 2.560548792111499, 2.0990740477834837, 2.749646413385489, 2.2546474666784535], result=0.5267163729792406, best_f=1.4510385928101148, steps_to_best_f=7, peak_memory=37517312, runtime_ms=0.10141944885253906)\n"
     ]
    },
    {
     "name": "stderr",
     "output_type": "stream",
     "text": [
      "/home/salabed/anaconda3/envs/rocksdb/lib/python3.8/site-packages/botorch/optim/initializers.py:403: BadInitialCandidatesWarning: Unable to find non-zero acquisition function values - initial conditions are being selected randomly.\n",
      "  warnings.warn(\n"
     ]
    },
    {
     "name": "stdout",
     "output_type": "stream",
     "text": [
      "ExperimentResult(model='BoTorch', step=13, restart=2, candidate=[0.07654201189762899, 2.2502838218451346, 1.2421525229059216, 0.778344099408721, 1.7741344346738575], result=1.2608951529046009, best_f=1.4510385928101148, steps_to_best_f=7, peak_memory=37520896, runtime_ms=0.11179661750793457)\n"
     ]
    },
    {
     "name": "stderr",
     "output_type": "stream",
     "text": [
      "/home/salabed/anaconda3/envs/rocksdb/lib/python3.8/site-packages/botorch/optim/initializers.py:403: BadInitialCandidatesWarning: Unable to find non-zero acquisition function values - initial conditions are being selected randomly.\n",
      "  warnings.warn(\n"
     ]
    },
    {
     "name": "stdout",
     "output_type": "stream",
     "text": [
      "ExperimentResult(model='BoTorch', step=14, restart=2, candidate=[1.5256405090811687, 0.6718239986548946, 0.9832559796672713, 1.9397421055063424, 2.681451320739958], result=0.9420909640406411, best_f=1.4510385928101148, steps_to_best_f=7, peak_memory=37522944, runtime_ms=0.11144447326660156)\n"
     ]
    },
    {
     "name": "stderr",
     "output_type": "stream",
     "text": [
      "/home/salabed/anaconda3/envs/rocksdb/lib/python3.8/site-packages/botorch/optim/initializers.py:403: BadInitialCandidatesWarning: Unable to find non-zero acquisition function values - initial conditions are being selected randomly.\n",
      "  warnings.warn(\n"
     ]
    },
    {
     "name": "stdout",
     "output_type": "stream",
     "text": [
      "ExperimentResult(model='BoTorch', step=15, restart=2, candidate=[0.6740709677412726, 0.11303472676399862, 1.6512991395869925, 1.8672576901196603, 3.0906029406009994], result=0.44964772897435407, best_f=1.4510385928101148, steps_to_best_f=7, peak_memory=37526528, runtime_ms=0.1228187084197998)\n"
     ]
    },
    {
     "name": "stderr",
     "output_type": "stream",
     "text": [
      "/home/salabed/anaconda3/envs/rocksdb/lib/python3.8/site-packages/botorch/optim/initializers.py:403: BadInitialCandidatesWarning: Unable to find non-zero acquisition function values - initial conditions are being selected randomly.\n",
      "  warnings.warn(\n"
     ]
    },
    {
     "name": "stdout",
     "output_type": "stream",
     "text": [
      "ExperimentResult(model='BoTorch', step=16, restart=2, candidate=[1.4082853491592795, 0.6557631150819965, 1.1673269118767537, 0.6280908923956874, 2.683570717514602], result=0.4871842549782144, best_f=1.4510385928101148, steps_to_best_f=7, peak_memory=37531136, runtime_ms=0.123748779296875)\n"
     ]
    },
    {
     "name": "stderr",
     "output_type": "stream",
     "text": [
      "/home/salabed/anaconda3/envs/rocksdb/lib/python3.8/site-packages/botorch/optim/initializers.py:403: BadInitialCandidatesWarning: Unable to find non-zero acquisition function values - initial conditions are being selected randomly.\n",
      "  warnings.warn(\n"
     ]
    },
    {
     "name": "stdout",
     "output_type": "stream",
     "text": [
      "ExperimentResult(model='BoTorch', step=17, restart=2, candidate=[2.004332518165035, 1.5202282094294162, 0.37549143924276884, 1.552165107612391, 2.1853477216346917], result=1.713880122722885, best_f=1.713880122722885, steps_to_best_f=17, peak_memory=37534720, runtime_ms=0.11866641044616699)\n"
     ]
    },
    {
     "name": "stderr",
     "output_type": "stream",
     "text": [
      "/home/salabed/anaconda3/envs/rocksdb/lib/python3.8/site-packages/botorch/optim/initializers.py:403: BadInitialCandidatesWarning: Unable to find non-zero acquisition function values - initial conditions are being selected randomly.\n",
      "  warnings.warn(\n"
     ]
    },
    {
     "name": "stdout",
     "output_type": "stream",
     "text": [
      "ExperimentResult(model='BoTorch', step=18, restart=2, candidate=[2.88790802205235, 1.0540010761102248, 0.9603176254287393, 0.3718433105877672, 2.4422817251053583], result=0.004796666632545763, best_f=1.713880122722885, steps_to_best_f=17, peak_memory=37538304, runtime_ms=0.09967517852783203)\n"
     ]
    },
    {
     "name": "stderr",
     "output_type": "stream",
     "text": [
      "/home/salabed/anaconda3/envs/rocksdb/lib/python3.8/site-packages/botorch/optim/initializers.py:403: BadInitialCandidatesWarning: Unable to find non-zero acquisition function values - initial conditions are being selected randomly.\n",
      "  warnings.warn(\n"
     ]
    },
    {
     "name": "stdout",
     "output_type": "stream",
     "text": [
      "ExperimentResult(model='BoTorch', step=19, restart=2, candidate=[0.11721924605103462, 2.0698483055321915, 1.8524875801657248, 2.8472881138083936, 1.8568872595981745], result=0.003268731728260052, best_f=1.713880122722885, steps_to_best_f=17, peak_memory=37541888, runtime_ms=0.11714339256286621)\n"
     ]
    },
    {
     "name": "stderr",
     "output_type": "stream",
     "text": [
      "/home/salabed/anaconda3/envs/rocksdb/lib/python3.8/site-packages/botorch/optim/initializers.py:403: BadInitialCandidatesWarning: Unable to find non-zero acquisition function values - initial conditions are being selected randomly.\n",
      "  warnings.warn(\n"
     ]
    },
    {
     "name": "stdout",
     "output_type": "stream",
     "text": [
      "ExperimentResult(model='BoTorch', step=20, restart=2, candidate=[0.019879155456925535, 2.6226677626016484, 2.2980357426559284, 2.246897189804079, 1.429788320322689], result=0.40491964945723574, best_f=1.713880122722885, steps_to_best_f=17, peak_memory=37545472, runtime_ms=0.10313844680786133)\n"
     ]
    },
    {
     "name": "stderr",
     "output_type": "stream",
     "text": [
      "/home/salabed/anaconda3/envs/rocksdb/lib/python3.8/site-packages/botorch/optim/initializers.py:403: BadInitialCandidatesWarning: Unable to find non-zero acquisition function values - initial conditions are being selected randomly.\n",
      "  warnings.warn(\n"
     ]
    },
    {
     "name": "stdout",
     "output_type": "stream",
     "text": [
      "ExperimentResult(model='BoTorch', step=21, restart=2, candidate=[2.9477519266507093, 1.503972854299157, 0.9348386183654078, 1.1793487721471563, 1.1799761826187793], result=1.4704255531223873, best_f=1.713880122722885, steps_to_best_f=17, peak_memory=37549056, runtime_ms=0.11778664588928223)\n"
     ]
    },
    {
     "name": "stderr",
     "output_type": "stream",
     "text": [
      "/home/salabed/anaconda3/envs/rocksdb/lib/python3.8/site-packages/botorch/optim/initializers.py:403: BadInitialCandidatesWarning: Unable to find non-zero acquisition function values - initial conditions are being selected randomly.\n",
      "  warnings.warn(\n"
     ]
    },
    {
     "name": "stdout",
     "output_type": "stream",
     "text": [
      "ExperimentResult(model='BoTorch', step=22, restart=2, candidate=[1.8054794186304723, 1.5920372394076487, 2.4798048229428438, 0.10241374518194069, 3.038636893966258], result=1.0344120672904296, best_f=1.713880122722885, steps_to_best_f=17, peak_memory=37551104, runtime_ms=0.12343955039978027)\n"
     ]
    },
    {
     "name": "stderr",
     "output_type": "stream",
     "text": [
      "/home/salabed/anaconda3/envs/rocksdb/lib/python3.8/site-packages/botorch/optim/initializers.py:403: BadInitialCandidatesWarning: Unable to find non-zero acquisition function values - initial conditions are being selected randomly.\n",
      "  warnings.warn(\n"
     ]
    },
    {
     "name": "stdout",
     "output_type": "stream",
     "text": [
      "ExperimentResult(model='BoTorch', step=23, restart=2, candidate=[2.0250810185664294, 1.09786035905728, 1.8663514737868958, 0.8870058449959595, 1.9369305582815943], result=0.4660785877408227, best_f=1.713880122722885, steps_to_best_f=17, peak_memory=37556224, runtime_ms=0.12734603881835938)\n"
     ]
    },
    {
     "name": "stderr",
     "output_type": "stream",
     "text": [
      "/home/salabed/anaconda3/envs/rocksdb/lib/python3.8/site-packages/botorch/optim/initializers.py:403: BadInitialCandidatesWarning: Unable to find non-zero acquisition function values - initial conditions are being selected randomly.\n",
      "  warnings.warn(\n"
     ]
    },
    {
     "name": "stdout",
     "output_type": "stream",
     "text": [
      "ExperimentResult(model='BoTorch', step=24, restart=2, candidate=[1.8271716270302096, 1.8670971670401915, 1.1866603286548583, 0.8739993735365792, 0.7741293503816538], result=0.6576283614210281, best_f=1.713880122722885, steps_to_best_f=17, peak_memory=37559808, runtime_ms=0.10489106178283691)\n"
     ]
    },
    {
     "name": "stderr",
     "output_type": "stream",
     "text": [
      "/home/salabed/anaconda3/envs/rocksdb/lib/python3.8/site-packages/botorch/optim/initializers.py:403: BadInitialCandidatesWarning: Unable to find non-zero acquisition function values - initial conditions are being selected randomly.\n",
      "  warnings.warn(\n"
     ]
    },
    {
     "name": "stdout",
     "output_type": "stream",
     "text": [
      "ExperimentResult(model='BoTorch', step=25, restart=2, candidate=[2.3160875349049928, 0.008968463422059925, 0.667915444242011, 2.1242045409372565, 1.7971159625519462], result=0.7567611372446459, best_f=1.713880122722885, steps_to_best_f=17, peak_memory=37563392, runtime_ms=0.11582541465759277)\n"
     ]
    },
    {
     "name": "stderr",
     "output_type": "stream",
     "text": [
      "/home/salabed/anaconda3/envs/rocksdb/lib/python3.8/site-packages/botorch/optim/initializers.py:403: BadInitialCandidatesWarning: Unable to find non-zero acquisition function values - initial conditions are being selected randomly.\n",
      "  warnings.warn(\n"
     ]
    },
    {
     "name": "stdout",
     "output_type": "stream",
     "text": [
      "ExperimentResult(model='BoTorch', step=26, restart=2, candidate=[0.5831277148419878, 0.6679461040799695, 3.1325905807345378, 2.5852449126912527, 0.8384797888777817], result=0.09446614931342934, best_f=1.713880122722885, steps_to_best_f=17, peak_memory=37566976, runtime_ms=0.10764813423156738)\n"
     ]
    },
    {
     "name": "stderr",
     "output_type": "stream",
     "text": [
      "/home/salabed/anaconda3/envs/rocksdb/lib/python3.8/site-packages/botorch/optim/initializers.py:403: BadInitialCandidatesWarning: Unable to find non-zero acquisition function values - initial conditions are being selected randomly.\n",
      "  warnings.warn(\n"
     ]
    },
    {
     "name": "stdout",
     "output_type": "stream",
     "text": [
      "ExperimentResult(model='BoTorch', step=27, restart=2, candidate=[1.2614266446867872, 0.6113301546458649, 1.7602031707474253, 2.8055632020658585, 1.7732921946763158], result=0.411704519034381, best_f=1.713880122722885, steps_to_best_f=17, peak_memory=37570560, runtime_ms=0.11597633361816406)\n"
     ]
    },
    {
     "name": "stderr",
     "output_type": "stream",
     "text": [
      "/home/salabed/anaconda3/envs/rocksdb/lib/python3.8/site-packages/botorch/optim/initializers.py:403: BadInitialCandidatesWarning: Unable to find non-zero acquisition function values - initial conditions are being selected randomly.\n",
      "  warnings.warn(\n"
     ]
    },
    {
     "name": "stdout",
     "output_type": "stream",
     "text": [
      "ExperimentResult(model='BoTorch', step=28, restart=2, candidate=[0.346609283792807, 1.7580099287919215, 1.9003680856275917, 2.0822005570824818, 0.1305461433920696], result=0.19547717139750856, best_f=1.713880122722885, steps_to_best_f=17, peak_memory=37574144, runtime_ms=0.1115264892578125)\n"
     ]
    },
    {
     "name": "stderr",
     "output_type": "stream",
     "text": [
      "/home/salabed/anaconda3/envs/rocksdb/lib/python3.8/site-packages/botorch/optim/initializers.py:403: BadInitialCandidatesWarning: Unable to find non-zero acquisition function values - initial conditions are being selected randomly.\n",
      "  warnings.warn(\n"
     ]
    },
    {
     "name": "stdout",
     "output_type": "stream",
     "text": [
      "ExperimentResult(model='BoTorch', step=29, restart=2, candidate=[3.0314456800289413, 1.4873969679571386, 2.274996116447623, 0.04929691156313698, 2.5979531916985654], result=1.4816224798848678, best_f=1.713880122722885, steps_to_best_f=17, peak_memory=37578752, runtime_ms=0.1270735263824463)\n"
     ]
    },
    {
     "name": "stderr",
     "output_type": "stream",
     "text": [
      "/home/salabed/anaconda3/envs/rocksdb/lib/python3.8/site-packages/botorch/optim/initializers.py:403: BadInitialCandidatesWarning: Unable to find non-zero acquisition function values - initial conditions are being selected randomly.\n",
      "  warnings.warn(\n"
     ]
    },
    {
     "name": "stdout",
     "output_type": "stream",
     "text": [
      "ExperimentResult(model='BoTorch', step=30, restart=2, candidate=[1.2694672727721057, 0.22925964199806637, 0.04067854492804113, 1.4837165000341768, 3.0682103162637797], result=6.834325205480724e-05, best_f=1.713880122722885, steps_to_best_f=17, peak_memory=37582336, runtime_ms=0.13887262344360352)\n"
     ]
    },
    {
     "name": "stderr",
     "output_type": "stream",
     "text": [
      "/home/salabed/anaconda3/envs/rocksdb/lib/python3.8/site-packages/botorch/optim/initializers.py:403: BadInitialCandidatesWarning: Unable to find non-zero acquisition function values - initial conditions are being selected randomly.\n",
      "  warnings.warn(\n"
     ]
    },
    {
     "name": "stdout",
     "output_type": "stream",
     "text": [
      "ExperimentResult(model='BoTorch', step=31, restart=2, candidate=[0.4552338712597981, 1.2178413604519311, 1.843165704984241, 1.682554680729752, 0.7649196107999023], result=0.022409296395335458, best_f=1.713880122722885, steps_to_best_f=17, peak_memory=37587456, runtime_ms=0.11777591705322266)\n"
     ]
    },
    {
     "name": "stderr",
     "output_type": "stream",
     "text": [
      "/home/salabed/anaconda3/envs/rocksdb/lib/python3.8/site-packages/botorch/optim/initializers.py:403: BadInitialCandidatesWarning: Unable to find non-zero acquisition function values - initial conditions are being selected randomly.\n",
      "  warnings.warn(\n"
     ]
    },
    {
     "name": "stdout",
     "output_type": "stream",
     "text": [
      "ExperimentResult(model='BoTorch', step=32, restart=2, candidate=[2.588916486072045, 0.35762459202826835, 1.921319618583185, 2.8432262631315544, 0.1893105694872066], result=0.019777291209266013, best_f=1.713880122722885, steps_to_best_f=17, peak_memory=37591040, runtime_ms=0.11808371543884277)\n"
     ]
    },
    {
     "name": "stderr",
     "output_type": "stream",
     "text": [
      "/home/salabed/anaconda3/envs/rocksdb/lib/python3.8/site-packages/botorch/optim/initializers.py:403: BadInitialCandidatesWarning: Unable to find non-zero acquisition function values - initial conditions are being selected randomly.\n",
      "  warnings.warn(\n"
     ]
    },
    {
     "name": "stdout",
     "output_type": "stream",
     "text": [
      "ExperimentResult(model='BoTorch', step=33, restart=2, candidate=[1.4518949441674533, 2.201371160355391, 2.364740665942744, 0.5298324637292717, 1.0232996678704587], result=0.7891530371493607, best_f=1.713880122722885, steps_to_best_f=17, peak_memory=37594624, runtime_ms=0.11806750297546387)\n"
     ]
    },
    {
     "name": "stderr",
     "output_type": "stream",
     "text": [
      "/home/salabed/anaconda3/envs/rocksdb/lib/python3.8/site-packages/botorch/optim/initializers.py:403: BadInitialCandidatesWarning: Unable to find non-zero acquisition function values - initial conditions are being selected randomly.\n",
      "  warnings.warn(\n"
     ]
    },
    {
     "name": "stdout",
     "output_type": "stream",
     "text": [
      "ExperimentResult(model='BoTorch', step=34, restart=2, candidate=[2.473254024819237, 2.7310342708314215, 2.329135807786733, 0.7332895596925926, 0.08141637607581242], result=0.6140169091628879, best_f=1.713880122722885, steps_to_best_f=17, peak_memory=37599744, runtime_ms=0.13147878646850586)\n"
     ]
    },
    {
     "name": "stderr",
     "output_type": "stream",
     "text": [
      "/home/salabed/anaconda3/envs/rocksdb/lib/python3.8/site-packages/botorch/optim/initializers.py:403: BadInitialCandidatesWarning: Unable to find non-zero acquisition function values - initial conditions are being selected randomly.\n",
      "  warnings.warn(\n"
     ]
    },
    {
     "name": "stdout",
     "output_type": "stream",
     "text": [
      "ExperimentResult(model='BoTorch', step=35, restart=2, candidate=[1.0517473044545889, 0.08314707550597822, 0.8255789839942074, 2.9953264627877827, 1.5925242126655903], result=0.028833091838809173, best_f=1.713880122722885, steps_to_best_f=17, peak_memory=37603328, runtime_ms=0.14459657669067383)\n"
     ]
    },
    {
     "name": "stderr",
     "output_type": "stream",
     "text": [
      "/home/salabed/anaconda3/envs/rocksdb/lib/python3.8/site-packages/botorch/optim/initializers.py:403: BadInitialCandidatesWarning: Unable to find non-zero acquisition function values - initial conditions are being selected randomly.\n",
      "  warnings.warn(\n"
     ]
    },
    {
     "name": "stdout",
     "output_type": "stream",
     "text": [
      "ExperimentResult(model='BoTorch', step=36, restart=2, candidate=[1.579197531836437, 0.34141922481016884, 1.8748411007015975, 0.3888550616802877, 1.6842230335154806], result=0.6715446646306186, best_f=1.713880122722885, steps_to_best_f=17, peak_memory=37608448, runtime_ms=0.111541748046875)\n"
     ]
    },
    {
     "name": "stderr",
     "output_type": "stream",
     "text": [
      "/home/salabed/anaconda3/envs/rocksdb/lib/python3.8/site-packages/botorch/optim/initializers.py:403: BadInitialCandidatesWarning: Unable to find non-zero acquisition function values - initial conditions are being selected randomly.\n",
      "  warnings.warn(\n"
     ]
    },
    {
     "name": "stdout",
     "output_type": "stream",
     "text": [
      "ExperimentResult(model='BoTorch', step=37, restart=2, candidate=[3.0537220228564763, 1.837238303084936, 0.1898515185721028, 1.852283526494678, 1.814355305668064], result=0.3677611769929737, best_f=1.713880122722885, steps_to_best_f=17, peak_memory=37612032, runtime_ms=0.1225588321685791)\n"
     ]
    },
    {
     "name": "stderr",
     "output_type": "stream",
     "text": [
      "/home/salabed/anaconda3/envs/rocksdb/lib/python3.8/site-packages/botorch/optim/initializers.py:403: BadInitialCandidatesWarning: Unable to find non-zero acquisition function values - initial conditions are being selected randomly.\n",
      "  warnings.warn(\n"
     ]
    },
    {
     "name": "stdout",
     "output_type": "stream",
     "text": [
      "ExperimentResult(model='BoTorch', step=38, restart=2, candidate=[0.733454992325272, 2.105742063684372, 2.5690488232998696, 0.6974951044223965, 2.6473563959664634], result=0.36817024697730144, best_f=1.713880122722885, steps_to_best_f=17, peak_memory=37615616, runtime_ms=0.11801767349243164)\n"
     ]
    },
    {
     "name": "stderr",
     "output_type": "stream",
     "text": [
      "/home/salabed/anaconda3/envs/rocksdb/lib/python3.8/site-packages/botorch/optim/initializers.py:403: BadInitialCandidatesWarning: Unable to find non-zero acquisition function values - initial conditions are being selected randomly.\n",
      "  warnings.warn(\n"
     ]
    },
    {
     "name": "stdout",
     "output_type": "stream",
     "text": [
      "ExperimentResult(model='BoTorch', step=39, restart=2, candidate=[2.974826023560321, 2.2948061226908534, 1.1213952913051384, 1.9981833495820867, 0.9043932237224739], result=0.8214145939571795, best_f=1.713880122722885, steps_to_best_f=17, peak_memory=37620736, runtime_ms=0.12777209281921387)\n"
     ]
    },
    {
     "name": "stderr",
     "output_type": "stream",
     "text": [
      "/home/salabed/anaconda3/envs/rocksdb/lib/python3.8/site-packages/botorch/optim/initializers.py:403: BadInitialCandidatesWarning: Unable to find non-zero acquisition function values - initial conditions are being selected randomly.\n",
      "  warnings.warn(\n"
     ]
    },
    {
     "name": "stdout",
     "output_type": "stream",
     "text": [
      "ExperimentResult(model='BoTorch', step=40, restart=2, candidate=[2.1930667183938244, 3.049776690682057, 2.3399517436891317, 1.7327152143016722, 1.1075231731582968], result=1.0451529355282039, best_f=1.713880122722885, steps_to_best_f=17, peak_memory=37625856, runtime_ms=0.13859891891479492)\n"
     ]
    },
    {
     "name": "stderr",
     "output_type": "stream",
     "text": [
      "/home/salabed/anaconda3/envs/rocksdb/lib/python3.8/site-packages/botorch/optim/initializers.py:403: BadInitialCandidatesWarning: Unable to find non-zero acquisition function values - initial conditions are being selected randomly.\n",
      "  warnings.warn(\n"
     ]
    },
    {
     "name": "stdout",
     "output_type": "stream",
     "text": [
      "ExperimentResult(model='BoTorch', step=41, restart=2, candidate=[2.3037664815465284, 2.942629477891904, 1.0923210078926437, 0.7411961522939225, 1.745459340654597], result=1.5927587008134956, best_f=1.713880122722885, steps_to_best_f=17, peak_memory=37629440, runtime_ms=0.13745760917663574)\n"
     ]
    },
    {
     "name": "stderr",
     "output_type": "stream",
     "text": [
      "/home/salabed/anaconda3/envs/rocksdb/lib/python3.8/site-packages/botorch/optim/initializers.py:403: BadInitialCandidatesWarning: Unable to find non-zero acquisition function values - initial conditions are being selected randomly.\n",
      "  warnings.warn(\n"
     ]
    },
    {
     "name": "stdout",
     "output_type": "stream",
     "text": [
      "ExperimentResult(model='BoTorch', step=42, restart=2, candidate=[1.0902325050228578, 0.8826305728894235, 0.9244659203208361, 2.6310286263892655, 0.6505460360016824], result=0.0014726968754691387, best_f=1.713880122722885, steps_to_best_f=17, peak_memory=37635584, runtime_ms=0.13768506050109863)\n"
     ]
    },
    {
     "name": "stderr",
     "output_type": "stream",
     "text": [
      "/home/salabed/anaconda3/envs/rocksdb/lib/python3.8/site-packages/botorch/optim/initializers.py:403: BadInitialCandidatesWarning: Unable to find non-zero acquisition function values - initial conditions are being selected randomly.\n",
      "  warnings.warn(\n"
     ]
    },
    {
     "name": "stdout",
     "output_type": "stream",
     "text": [
      "ExperimentResult(model='BoTorch', step=43, restart=2, candidate=[2.5760500188025826, 0.030862112721081747, 2.484037902333954, 2.9879441654114713, 1.2833416877003956], result=0.061808144391400734, best_f=1.713880122722885, steps_to_best_f=17, peak_memory=37639168, runtime_ms=0.12117218971252441)\n"
     ]
    },
    {
     "name": "stderr",
     "output_type": "stream",
     "text": [
      "/home/salabed/anaconda3/envs/rocksdb/lib/python3.8/site-packages/botorch/optim/initializers.py:403: BadInitialCandidatesWarning: Unable to find non-zero acquisition function values - initial conditions are being selected randomly.\n",
      "  warnings.warn(\n"
     ]
    },
    {
     "name": "stdout",
     "output_type": "stream",
     "text": [
      "ExperimentResult(model='BoTorch', step=44, restart=2, candidate=[3.078108625072078, 1.578027685955108, 0.7119159660818775, 1.259012940970603, 1.923723506118784], result=1.1176999302355106, best_f=1.713880122722885, steps_to_best_f=17, peak_memory=37644288, runtime_ms=0.13683533668518066)\n"
     ]
    },
    {
     "name": "stderr",
     "output_type": "stream",
     "text": [
      "/home/salabed/anaconda3/envs/rocksdb/lib/python3.8/site-packages/botorch/optim/initializers.py:403: BadInitialCandidatesWarning: Unable to find non-zero acquisition function values - initial conditions are being selected randomly.\n",
      "  warnings.warn(\n"
     ]
    },
    {
     "name": "stdout",
     "output_type": "stream",
     "text": [
      "ExperimentResult(model='BoTorch', step=45, restart=2, candidate=[0.2087726177297644, 1.4633127626202813, 1.1605347205600058, 0.9674217752570635, 2.310811427078537], result=1.2442232578942332, best_f=1.713880122722885, steps_to_best_f=17, peak_memory=37649408, runtime_ms=0.1665046215057373)\n",
      "ExperimentResult(model='BoTorch', step=46, restart=2, candidate=[1.9300940891927294, 1.4957446125963456, 0.44815633413616557, 1.4652879039715467, 2.1303238453157514], result=1.0201289305982724, best_f=1.713880122722885, steps_to_best_f=17, peak_memory=37651968, runtime_ms=3.0159006118774414)\n",
      "ExperimentResult(model='BoTorch', step=47, restart=2, candidate=[2.2865557368686673, 2.3828639090242123, 1.017387310259093, 1.0509698604970752, 1.5401227569951355], result=1.3759821281833302, best_f=1.713880122722885, steps_to_best_f=17, peak_memory=37657088, runtime_ms=1.625579833984375)\n",
      "ExperimentResult(model='BoTorch', step=48, restart=2, candidate=[1.6000678185496509, 2.37314501772992, 1.1447137312777844, 0.9568019075216214, 1.7271060951496207], result=1.4507688631955296, best_f=1.713880122722885, steps_to_best_f=17, peak_memory=37662208, runtime_ms=2.261699676513672)\n",
      "ExperimentResult(model='BoTorch', step=49, restart=2, candidate=[1.2206310435841876, 2.8263588172069176, 1.063820804369581, 0.7448879296122763, 1.6037777273120029], result=0.16252126988536506, best_f=1.713880122722885, steps_to_best_f=17, peak_memory=37667328, runtime_ms=2.420947313308716)\n",
      "ExperimentResult(model='BoTorch', step=50, restart=2, candidate=[2.02158420281615, 1.8404987597833888, 0.9249335070395304, 1.2608486052759185, 1.7397159096613104], result=1.4537380307906655, best_f=1.713880122722885, steps_to_best_f=17, peak_memory=37673472, runtime_ms=0.16855502128601074)\n",
      "ExperimentResult(model='BoTorch', step=51, restart=2, candidate=[2.63800056221048, 2.1595077204165776, 1.100248117071623, 1.225511456142808, 1.718119794751361], result=1.4304825222345088, best_f=1.713880122722885, steps_to_best_f=17, peak_memory=37677568, runtime_ms=0.2609577178955078)\n",
      "ExperimentResult(model='BoTorch', step=52, restart=2, candidate=[2.9035159949182776, 2.243592157171246, 0.9558338444048017, 1.197053055721553, 1.5453462804166147], result=0.4896307928309357, best_f=1.713880122722885, steps_to_best_f=17, peak_memory=37682688, runtime_ms=1.632946491241455)\n",
      "ExperimentResult(model='BoTorch', step=53, restart=2, candidate=[1.486695268491188, 1.698757432201439, 0.8588713827789165, 1.2428775594134172, 1.8245983236697274], result=0.6980093913819344, best_f=1.713880122722885, steps_to_best_f=17, peak_memory=37688832, runtime_ms=0.16852617263793945)\n",
      "ExperimentResult(model='BoTorch', step=54, restart=2, candidate=[2.246028849095196, 2.334591562537237, 0.7635485567120014, 0.9784086180661978, 2.0437990702405173], result=1.0052196456322706, best_f=1.713880122722885, steps_to_best_f=17, peak_memory=37692416, runtime_ms=0.17884349822998047)\n"
     ]
    },
    {
     "name": "stderr",
     "output_type": "stream",
     "text": [
      "/home/salabed/anaconda3/envs/rocksdb/lib/python3.8/site-packages/botorch/optim/initializers.py:403: BadInitialCandidatesWarning: Unable to find non-zero acquisition function values - initial conditions are being selected randomly.\n",
      "  warnings.warn(\n"
     ]
    },
    {
     "name": "stdout",
     "output_type": "stream",
     "text": [
      "ExperimentResult(model='BoTorch', step=55, restart=2, candidate=[2.827758074983292, 1.5627075948598035, 1.017045096036966, 3.1093016381685534, 2.658519839290754], result=1.2633248543689544, best_f=1.713880122722885, steps_to_best_f=17, peak_memory=37701632, runtime_ms=0.12627315521240234)\n",
      "ExperimentResult(model='BoTorch', step=56, restart=2, candidate=[2.215812195750645, 1.9994167722573635, 1.165274320363572, 1.7255859255104606, 1.7831561100217905], result=1.511591989305881, best_f=1.713880122722885, steps_to_best_f=17, peak_memory=37705728, runtime_ms=0.22762846946716309)\n",
      "ExperimentResult(model='BoTorch', step=57, restart=2, candidate=[2.2740524218381886, 1.7180565411769075, 0.9128608729512256, 1.7093548577701214, 1.6980987155421354], result=1.9500796377804432, best_f=1.9500796377804432, steps_to_best_f=57, peak_memory=37711872, runtime_ms=0.18864703178405762)\n",
      "ExperimentResult(model='BoTorch', step=58, restart=2, candidate=[2.3200681663920304, 1.6094774483748877, 0.8519138810506263, 1.9955507845175966, 1.7216906521325022], result=2.7711717715749, best_f=2.7711717715749, steps_to_best_f=58, peak_memory=37715968, runtime_ms=0.1690840721130371)\n"
     ]
    },
    {
     "name": "stderr",
     "output_type": "stream",
     "text": [
      "/home/salabed/anaconda3/envs/rocksdb/lib/python3.8/site-packages/botorch/optim/initializers.py:403: BadInitialCandidatesWarning: Unable to find non-zero acquisition function values - initial conditions are being selected randomly.\n",
      "  warnings.warn(\n"
     ]
    },
    {
     "name": "stdout",
     "output_type": "stream",
     "text": [
      "ExperimentResult(model='BoTorch', step=59, restart=2, candidate=[2.5566418410568748, 0.018217450171134075, 2.388317262098659, 0.9712269949856245, 0.06398492840385184], result=0.2417553473481364, best_f=2.7711717715749, steps_to_best_f=58, peak_memory=37722112, runtime_ms=0.1420302391052246)\n"
     ]
    },
    {
     "name": "stderr",
     "output_type": "stream",
     "text": [
      "/home/salabed/anaconda3/envs/rocksdb/lib/python3.8/site-packages/botorch/optim/initializers.py:403: BadInitialCandidatesWarning: Unable to find non-zero acquisition function values - initial conditions are being selected randomly.\n",
      "  warnings.warn(\n"
     ]
    },
    {
     "name": "stdout",
     "output_type": "stream",
     "text": [
      "ExperimentResult(model='BoTorch', step=60, restart=2, candidate=[2.5545298612770995, 0.3718362300640665, 1.0828114725005655, 1.3720967574150356, 1.0302750721267162], result=0.8901468448434148, best_f=2.7711717715749, steps_to_best_f=58, peak_memory=37727232, runtime_ms=0.1527566909790039)\n"
     ]
    },
    {
     "name": "stderr",
     "output_type": "stream",
     "text": [
      "/home/salabed/anaconda3/envs/rocksdb/lib/python3.8/site-packages/botorch/optim/initializers.py:403: BadInitialCandidatesWarning: Unable to find non-zero acquisition function values - initial conditions are being selected randomly.\n",
      "  warnings.warn(\n"
     ]
    },
    {
     "name": "stdout",
     "output_type": "stream",
     "text": [
      "ExperimentResult(model='BoTorch', step=61, restart=2, candidate=[3.0034265731238596, 2.7112125875757576, 1.8711112241820516, 1.5248254062147526, 0.4623302822512676], result=0.41274652948880625, best_f=2.7711717715749, steps_to_best_f=58, peak_memory=37732352, runtime_ms=0.16742157936096191)\n"
     ]
    },
    {
     "name": "stderr",
     "output_type": "stream",
     "text": [
      "/home/salabed/anaconda3/envs/rocksdb/lib/python3.8/site-packages/botorch/optim/initializers.py:403: BadInitialCandidatesWarning: Unable to find non-zero acquisition function values - initial conditions are being selected randomly.\n",
      "  warnings.warn(\n"
     ]
    },
    {
     "name": "stdout",
     "output_type": "stream",
     "text": [
      "ExperimentResult(model='BoTorch', step=62, restart=2, candidate=[2.6533506064104717, 0.876408890381104, 2.224747878008574, 1.7524509950053313, 0.361442939984038], result=0.796291803590468, best_f=2.7711717715749, steps_to_best_f=58, peak_memory=37737472, runtime_ms=0.16163039207458496)\n"
     ]
    },
    {
     "name": "stderr",
     "output_type": "stream",
     "text": [
      "/home/salabed/anaconda3/envs/rocksdb/lib/python3.8/site-packages/botorch/optim/initializers.py:403: BadInitialCandidatesWarning: Unable to find non-zero acquisition function values - initial conditions are being selected randomly.\n",
      "  warnings.warn(\n"
     ]
    },
    {
     "name": "stdout",
     "output_type": "stream",
     "text": [
      "ExperimentResult(model='BoTorch', step=63, restart=2, candidate=[0.8275174177974098, 2.01846615048084, 0.9026746460318502, 2.0481806800085423, 0.38709018848283927], result=0.013353872343734384, best_f=2.7711717715749, steps_to_best_f=58, peak_memory=37964800, runtime_ms=0.1590282917022705)\n"
     ]
    },
    {
     "name": "stderr",
     "output_type": "stream",
     "text": [
      "/home/salabed/anaconda3/envs/rocksdb/lib/python3.8/site-packages/botorch/optim/initializers.py:403: BadInitialCandidatesWarning: Unable to find non-zero acquisition function values - initial conditions are being selected randomly.\n",
      "  warnings.warn(\n"
     ]
    },
    {
     "name": "stdout",
     "output_type": "stream",
     "text": [
      "ExperimentResult(model='BoTorch', step=64, restart=2, candidate=[2.301476400263155, 2.1800760171917775, 1.240446102064875, 2.4035164020496405, 1.4273944303695218], result=1.5553981066191198, best_f=2.7711717715749, steps_to_best_f=58, peak_memory=38006784, runtime_ms=0.1550445556640625)\n"
     ]
    },
    {
     "name": "stderr",
     "output_type": "stream",
     "text": [
      "/home/salabed/anaconda3/envs/rocksdb/lib/python3.8/site-packages/botorch/optim/initializers.py:403: BadInitialCandidatesWarning: Unable to find non-zero acquisition function values - initial conditions are being selected randomly.\n",
      "  warnings.warn(\n"
     ]
    },
    {
     "name": "stdout",
     "output_type": "stream",
     "text": [
      "ExperimentResult(model='BoTorch', step=65, restart=2, candidate=[0.8961154653874159, 2.0874863260202012, 2.18781046821793, 2.366251939358258, 0.6382796694483794], result=0.6691181321071967, best_f=2.7711717715749, steps_to_best_f=58, peak_memory=38048768, runtime_ms=0.16898036003112793)\n"
     ]
    },
    {
     "name": "stderr",
     "output_type": "stream",
     "text": [
      "/home/salabed/anaconda3/envs/rocksdb/lib/python3.8/site-packages/botorch/optim/initializers.py:403: BadInitialCandidatesWarning: Unable to find non-zero acquisition function values - initial conditions are being selected randomly.\n",
      "  warnings.warn(\n"
     ]
    },
    {
     "name": "stdout",
     "output_type": "stream",
     "text": [
      "ExperimentResult(model='BoTorch', step=66, restart=2, candidate=[0.19915975643087225, 1.3767161964074681, 0.1785475502590439, 2.7032588304942395, 0.16365393783158377], result=0.2529280488510918, best_f=2.7711717715749, steps_to_best_f=58, peak_memory=38092288, runtime_ms=0.18244242668151855)\n"
     ]
    },
    {
     "name": "stderr",
     "output_type": "stream",
     "text": [
      "/home/salabed/anaconda3/envs/rocksdb/lib/python3.8/site-packages/botorch/optim/initializers.py:403: BadInitialCandidatesWarning: Unable to find non-zero acquisition function values - initial conditions are being selected randomly.\n",
      "  warnings.warn(\n"
     ]
    },
    {
     "name": "stdout",
     "output_type": "stream",
     "text": [
      "ExperimentResult(model='BoTorch', step=67, restart=2, candidate=[2.362507854977931, 0.8600217906966323, 1.8718269334655602, 1.2045864299048903, 0.07576742308562756], result=0.8885873940651005, best_f=2.7711717715749, steps_to_best_f=58, peak_memory=38135296, runtime_ms=0.17142748832702637)\n"
     ]
    },
    {
     "name": "stderr",
     "output_type": "stream",
     "text": [
      "/home/salabed/anaconda3/envs/rocksdb/lib/python3.8/site-packages/botorch/optim/initializers.py:403: BadInitialCandidatesWarning: Unable to find non-zero acquisition function values - initial conditions are being selected randomly.\n",
      "  warnings.warn(\n"
     ]
    },
    {
     "name": "stdout",
     "output_type": "stream",
     "text": [
      "ExperimentResult(model='BoTorch', step=68, restart=2, candidate=[1.0744540933839097, 0.006766803835693835, 1.1338943496146048, 2.9795054538990176, 0.6665530929652741], result=0.3345312579938005, best_f=2.7711717715749, steps_to_best_f=58, peak_memory=38178816, runtime_ms=0.171522855758667)\n"
     ]
    },
    {
     "name": "stderr",
     "output_type": "stream",
     "text": [
      "/home/salabed/anaconda3/envs/rocksdb/lib/python3.8/site-packages/botorch/optim/initializers.py:403: BadInitialCandidatesWarning: Unable to find non-zero acquisition function values - initial conditions are being selected randomly.\n",
      "  warnings.warn(\n"
     ]
    },
    {
     "name": "stdout",
     "output_type": "stream",
     "text": [
      "ExperimentResult(model='BoTorch', step=69, restart=2, candidate=[2.036748223597006, 2.7716898742775053, 1.0941838907524581, 0.7307858250694688, 1.3932542663160852], result=0.8717580372328055, best_f=2.7711717715749, steps_to_best_f=58, peak_memory=38220800, runtime_ms=0.1904773712158203)\n"
     ]
    },
    {
     "name": "stderr",
     "output_type": "stream",
     "text": [
      "/home/salabed/anaconda3/envs/rocksdb/lib/python3.8/site-packages/botorch/optim/initializers.py:403: BadInitialCandidatesWarning: Unable to find non-zero acquisition function values - initial conditions are being selected randomly.\n",
      "  warnings.warn(\n"
     ]
    },
    {
     "name": "stdout",
     "output_type": "stream",
     "text": [
      "ExperimentResult(model='BoTorch', step=70, restart=2, candidate=[0.5317656368789148, 2.2963681008484063, 0.012566212102845808, 2.091279125573924, 1.7402892622076416], result=0.8776077170707806, best_f=2.7711717715749, steps_to_best_f=58, peak_memory=38262784, runtime_ms=0.19949769973754883)\n"
     ]
    },
    {
     "name": "stderr",
     "output_type": "stream",
     "text": [
      "/home/salabed/anaconda3/envs/rocksdb/lib/python3.8/site-packages/botorch/optim/initializers.py:403: BadInitialCandidatesWarning: Unable to find non-zero acquisition function values - initial conditions are being selected randomly.\n",
      "  warnings.warn(\n"
     ]
    },
    {
     "name": "stdout",
     "output_type": "stream",
     "text": [
      "ExperimentResult(model='BoTorch', step=71, restart=2, candidate=[2.6162380238783056, 0.4564940230766734, 0.939647525735231, 1.6259620355812987, 2.7226328373985007], result=0.012212769559516827, best_f=2.7711717715749, steps_to_best_f=58, peak_memory=38306304, runtime_ms=0.15741944313049316)\n"
     ]
    },
    {
     "name": "stderr",
     "output_type": "stream",
     "text": [
      "/home/salabed/anaconda3/envs/rocksdb/lib/python3.8/site-packages/botorch/optim/initializers.py:403: BadInitialCandidatesWarning: Unable to find non-zero acquisition function values - initial conditions are being selected randomly.\n",
      "  warnings.warn(\n"
     ]
    },
    {
     "name": "stdout",
     "output_type": "stream",
     "text": [
      "ExperimentResult(model='BoTorch', step=72, restart=2, candidate=[1.9029636008077266, 1.3327219534121726, 1.1683670642150745, 0.11179746376402844, 1.437902541966951], result=0.7339167821701098, best_f=2.7711717715749, steps_to_best_f=58, peak_memory=38349824, runtime_ms=0.15477442741394043)\n"
     ]
    },
    {
     "name": "stderr",
     "output_type": "stream",
     "text": [
      "/home/salabed/anaconda3/envs/rocksdb/lib/python3.8/site-packages/botorch/optim/initializers.py:403: BadInitialCandidatesWarning: Unable to find non-zero acquisition function values - initial conditions are being selected randomly.\n",
      "  warnings.warn(\n"
     ]
    },
    {
     "name": "stdout",
     "output_type": "stream",
     "text": [
      "ExperimentResult(model='BoTorch', step=73, restart=2, candidate=[1.0035102390335038, 0.06079919013070367, 1.0700837571631105, 2.8871212471324093, 2.132460112656107], result=0.15260639781322682, best_f=2.7711717715749, steps_to_best_f=58, peak_memory=38391808, runtime_ms=0.15047335624694824)\n"
     ]
    },
    {
     "name": "stderr",
     "output_type": "stream",
     "text": [
      "/home/salabed/anaconda3/envs/rocksdb/lib/python3.8/site-packages/botorch/optim/initializers.py:403: BadInitialCandidatesWarning: Unable to find non-zero acquisition function values - initial conditions are being selected randomly.\n",
      "  warnings.warn(\n"
     ]
    },
    {
     "name": "stdout",
     "output_type": "stream",
     "text": [
      "ExperimentResult(model='BoTorch', step=74, restart=2, candidate=[2.9583093502921267, 0.8292213165676177, 2.2873628421097925, 2.9665413339192104, 2.6935796609686413], result=0.4626407471063858, best_f=2.7711717715749, steps_to_best_f=58, peak_memory=38435328, runtime_ms=0.15188980102539062)\n"
     ]
    },
    {
     "name": "stderr",
     "output_type": "stream",
     "text": [
      "/home/salabed/anaconda3/envs/rocksdb/lib/python3.8/site-packages/botorch/optim/initializers.py:403: BadInitialCandidatesWarning: Unable to find non-zero acquisition function values - initial conditions are being selected randomly.\n",
      "  warnings.warn(\n"
     ]
    },
    {
     "name": "stdout",
     "output_type": "stream",
     "text": [
      "ExperimentResult(model='BoTorch', step=75, restart=2, candidate=[1.8703798060837706, 1.485161234081922, 1.3147332421924418, 1.5146818655161665, 1.1217954432984956], result=1.9018622084892836, best_f=2.7711717715749, steps_to_best_f=58, peak_memory=38477312, runtime_ms=0.1569225788116455)\n"
     ]
    },
    {
     "name": "stderr",
     "output_type": "stream",
     "text": [
      "/home/salabed/anaconda3/envs/rocksdb/lib/python3.8/site-packages/botorch/optim/initializers.py:403: BadInitialCandidatesWarning: Unable to find non-zero acquisition function values - initial conditions are being selected randomly.\n",
      "  warnings.warn(\n"
     ]
    },
    {
     "name": "stdout",
     "output_type": "stream",
     "text": [
      "ExperimentResult(model='BoTorch', step=76, restart=2, candidate=[1.1403049445914293, 1.5091079485221914, 1.0512101911410032, 2.4021707104844534, 2.367710787640025], result=0.9615112193091987, best_f=2.7711717715749, steps_to_best_f=58, peak_memory=38520832, runtime_ms=0.1602466106414795)\n"
     ]
    },
    {
     "name": "stderr",
     "output_type": "stream",
     "text": [
      "/home/salabed/anaconda3/envs/rocksdb/lib/python3.8/site-packages/botorch/optim/initializers.py:403: BadInitialCandidatesWarning: Unable to find non-zero acquisition function values - initial conditions are being selected randomly.\n",
      "  warnings.warn(\n"
     ]
    },
    {
     "name": "stdout",
     "output_type": "stream",
     "text": [
      "ExperimentResult(model='BoTorch', step=77, restart=2, candidate=[0.269333097659159, 0.3401245510514983, 0.8198935692328002, 1.8155777814916774, 2.264163772455591], result=0.3589641066574158, best_f=2.7711717715749, steps_to_best_f=58, peak_memory=38564352, runtime_ms=0.15770363807678223)\n"
     ]
    },
    {
     "name": "stderr",
     "output_type": "stream",
     "text": [
      "/home/salabed/anaconda3/envs/rocksdb/lib/python3.8/site-packages/botorch/optim/initializers.py:403: BadInitialCandidatesWarning: Unable to find non-zero acquisition function values - initial conditions are being selected randomly.\n",
      "  warnings.warn(\n"
     ]
    },
    {
     "name": "stdout",
     "output_type": "stream",
     "text": [
      "ExperimentResult(model='BoTorch', step=78, restart=2, candidate=[2.2608474775177436, 1.8657736796462299, 1.044643622760063, 2.2973374391722112, 1.2307954272584176], result=0.8042844748025917, best_f=2.7711717715749, steps_to_best_f=58, peak_memory=38606336, runtime_ms=0.16430902481079102)\n"
     ]
    },
    {
     "name": "stderr",
     "output_type": "stream",
     "text": [
      "/home/salabed/anaconda3/envs/rocksdb/lib/python3.8/site-packages/botorch/optim/initializers.py:403: BadInitialCandidatesWarning: Unable to find non-zero acquisition function values - initial conditions are being selected randomly.\n",
      "  warnings.warn(\n"
     ]
    },
    {
     "name": "stdout",
     "output_type": "stream",
     "text": [
      "ExperimentResult(model='BoTorch', step=79, restart=2, candidate=[1.522487370475406, 0.258422461215182, 3.121442094285106, 0.3677212286460918, 2.8943034377907617], result=0.0005869658298438913, best_f=2.7711717715749, steps_to_best_f=58, peak_memory=38649856, runtime_ms=0.16408443450927734)\n"
     ]
    },
    {
     "name": "stderr",
     "output_type": "stream",
     "text": [
      "/home/salabed/anaconda3/envs/rocksdb/lib/python3.8/site-packages/botorch/optim/initializers.py:403: BadInitialCandidatesWarning: Unable to find non-zero acquisition function values - initial conditions are being selected randomly.\n",
      "  warnings.warn(\n"
     ]
    },
    {
     "name": "stdout",
     "output_type": "stream",
     "text": [
      "ExperimentResult(model='BoTorch', step=80, restart=2, candidate=[1.2092805947548912, 1.7253585209182964, 0.8168045415507275, 2.703727172027005, 0.4796121992105129], result=0.33873079951635693, best_f=2.7711717715749, steps_to_best_f=58, peak_memory=38694400, runtime_ms=0.16895389556884766)\n"
     ]
    },
    {
     "name": "stderr",
     "output_type": "stream",
     "text": [
      "/home/salabed/anaconda3/envs/rocksdb/lib/python3.8/site-packages/botorch/optim/initializers.py:403: BadInitialCandidatesWarning: Unable to find non-zero acquisition function values - initial conditions are being selected randomly.\n",
      "  warnings.warn(\n"
     ]
    },
    {
     "name": "stdout",
     "output_type": "stream",
     "text": [
      "ExperimentResult(model='BoTorch', step=81, restart=2, candidate=[0.7059185694022041, 2.7939462833827378, 1.2089016141125664, 1.92036294035279, 1.0023615703548794], result=2.6344682491119773, best_f=2.7711717715749, steps_to_best_f=58, peak_memory=38737920, runtime_ms=0.15626764297485352)\n"
     ]
    },
    {
     "name": "stderr",
     "output_type": "stream",
     "text": [
      "/home/salabed/anaconda3/envs/rocksdb/lib/python3.8/site-packages/botorch/optim/initializers.py:403: BadInitialCandidatesWarning: Unable to find non-zero acquisition function values - initial conditions are being selected randomly.\n",
      "  warnings.warn(\n"
     ]
    },
    {
     "name": "stdout",
     "output_type": "stream",
     "text": [
      "ExperimentResult(model='BoTorch', step=82, restart=2, candidate=[1.0986401061185724, 1.5613239317918948, 0.13289604339736916, 2.8626823455940187, 1.0416695365546769], result=1.6819303431465444, best_f=2.7711717715749, steps_to_best_f=58, peak_memory=38781440, runtime_ms=0.1942758560180664)\n"
     ]
    },
    {
     "name": "stderr",
     "output_type": "stream",
     "text": [
      "/home/salabed/anaconda3/envs/rocksdb/lib/python3.8/site-packages/botorch/optim/initializers.py:403: BadInitialCandidatesWarning: Unable to find non-zero acquisition function values - initial conditions are being selected randomly.\n",
      "  warnings.warn(\n"
     ]
    },
    {
     "name": "stdout",
     "output_type": "stream",
     "text": [
      "ExperimentResult(model='BoTorch', step=83, restart=2, candidate=[0.1287173787086493, 1.261083935636329, 2.8323370204021634, 0.08754785505285412, 0.9205652159265842], result=0.7283232059146414, best_f=2.7711717715749, steps_to_best_f=58, peak_memory=38824960, runtime_ms=0.17415952682495117)\n"
     ]
    },
    {
     "name": "stderr",
     "output_type": "stream",
     "text": [
      "/home/salabed/anaconda3/envs/rocksdb/lib/python3.8/site-packages/botorch/optim/initializers.py:403: BadInitialCandidatesWarning: Unable to find non-zero acquisition function values - initial conditions are being selected randomly.\n",
      "  warnings.warn(\n"
     ]
    },
    {
     "name": "stdout",
     "output_type": "stream",
     "text": [
      "ExperimentResult(model='BoTorch', step=84, restart=2, candidate=[2.8001710409449454, 1.8531395676617635, 2.9214971224050093, 0.9720309123800952, 0.3726647800738414], result=0.3131533434994093, best_f=2.7711717715749, steps_to_best_f=58, peak_memory=38868480, runtime_ms=0.17754483222961426)\n"
     ]
    },
    {
     "name": "stderr",
     "output_type": "stream",
     "text": [
      "/home/salabed/anaconda3/envs/rocksdb/lib/python3.8/site-packages/botorch/optim/initializers.py:403: BadInitialCandidatesWarning: Unable to find non-zero acquisition function values - initial conditions are being selected randomly.\n",
      "  warnings.warn(\n"
     ]
    },
    {
     "name": "stdout",
     "output_type": "stream",
     "text": [
      "ExperimentResult(model='BoTorch', step=85, restart=2, candidate=[1.7922492026221504, 0.3103890842396628, 2.4587990069474905, 1.3044675478308376, 1.2030227167264473], result=0.06540182982410032, best_f=2.7711717715749, steps_to_best_f=58, peak_memory=38912000, runtime_ms=0.17566657066345215)\n"
     ]
    },
    {
     "name": "stderr",
     "output_type": "stream",
     "text": [
      "/home/salabed/anaconda3/envs/rocksdb/lib/python3.8/site-packages/botorch/optim/initializers.py:403: BadInitialCandidatesWarning: Unable to find non-zero acquisition function values - initial conditions are being selected randomly.\n",
      "  warnings.warn(\n"
     ]
    },
    {
     "name": "stdout",
     "output_type": "stream",
     "text": [
      "ExperimentResult(model='BoTorch', step=86, restart=2, candidate=[1.1770967062540483, 1.2197013028463244, 0.4269116740527834, 1.7741480895515893, 1.2408887986429973], result=0.019032921031493795, best_f=2.7711717715749, steps_to_best_f=58, peak_memory=38953984, runtime_ms=0.18720793724060059)\n",
      "ExperimentResult(model='BoTorch', step=87, restart=2, candidate=[0.894244469539047, 2.496049435288439, 1.2641596048605768, 2.0106740166798183, 1.1363919977926238], result=1.142317547221267, best_f=2.7711717715749, steps_to_best_f=58, peak_memory=38999040, runtime_ms=0.4599785804748535)\n"
     ]
    },
    {
     "name": "stderr",
     "output_type": "stream",
     "text": [
      "/home/salabed/anaconda3/envs/rocksdb/lib/python3.8/site-packages/botorch/optim/initializers.py:403: BadInitialCandidatesWarning: Unable to find non-zero acquisition function values - initial conditions are being selected randomly.\n",
      "  warnings.warn(\n"
     ]
    },
    {
     "name": "stdout",
     "output_type": "stream",
     "text": [
      "ExperimentResult(model='BoTorch', step=88, restart=2, candidate=[1.9739080783612517, 2.475803733107199, 0.08603391327468901, 0.6977593220640455, 2.6644103405434008], result=0.4834000729666039, best_f=2.7711717715749, steps_to_best_f=58, peak_memory=39042560, runtime_ms=0.16746735572814941)\n"
     ]
    },
    {
     "name": "stderr",
     "output_type": "stream",
     "text": [
      "/home/salabed/anaconda3/envs/rocksdb/lib/python3.8/site-packages/botorch/optim/initializers.py:403: BadInitialCandidatesWarning: Unable to find non-zero acquisition function values - initial conditions are being selected randomly.\n",
      "  warnings.warn(\n"
     ]
    },
    {
     "name": "stdout",
     "output_type": "stream",
     "text": [
      "ExperimentResult(model='BoTorch', step=89, restart=2, candidate=[2.1514376160848023, 0.8296650430400965, 2.328824756284391, 1.9053776058850436, 1.938068708578936], result=1.7070231259614226, best_f=2.7711717715749, steps_to_best_f=58, peak_memory=39086080, runtime_ms=0.16421985626220703)\n"
     ]
    },
    {
     "name": "stderr",
     "output_type": "stream",
     "text": [
      "/home/salabed/anaconda3/envs/rocksdb/lib/python3.8/site-packages/botorch/optim/initializers.py:403: BadInitialCandidatesWarning: Unable to find non-zero acquisition function values - initial conditions are being selected randomly.\n",
      "  warnings.warn(\n"
     ]
    },
    {
     "name": "stdout",
     "output_type": "stream",
     "text": [
      "ExperimentResult(model='BoTorch', step=90, restart=2, candidate=[0.052540101556692864, 2.1271293502086897, 1.8434507575057546, 2.862419128588364, 0.8242734641605953], result=0.06996432639445258, best_f=2.7711717715749, steps_to_best_f=58, peak_memory=39129600, runtime_ms=0.15259194374084473)\n"
     ]
    },
    {
     "name": "stderr",
     "output_type": "stream",
     "text": [
      "/home/salabed/anaconda3/envs/rocksdb/lib/python3.8/site-packages/botorch/optim/initializers.py:403: BadInitialCandidatesWarning: Unable to find non-zero acquisition function values - initial conditions are being selected randomly.\n",
      "  warnings.warn(\n"
     ]
    },
    {
     "name": "stdout",
     "output_type": "stream",
     "text": [
      "ExperimentResult(model='BoTorch', step=91, restart=2, candidate=[2.9584798475473373, 2.5013030542515446, 2.1634278743979776, 1.6312847256465302, 1.130505280351961], result=0.5564245001646421, best_f=2.7711717715749, steps_to_best_f=58, peak_memory=39173120, runtime_ms=0.14696478843688965)\n"
     ]
    },
    {
     "name": "stderr",
     "output_type": "stream",
     "text": [
      "/home/salabed/anaconda3/envs/rocksdb/lib/python3.8/site-packages/botorch/optim/initializers.py:403: BadInitialCandidatesWarning: Unable to find non-zero acquisition function values - initial conditions are being selected randomly.\n",
      "  warnings.warn(\n"
     ]
    },
    {
     "name": "stdout",
     "output_type": "stream",
     "text": [
      "ExperimentResult(model='BoTorch', step=92, restart=2, candidate=[2.239489399616609, 2.8440663584911317, 1.4751172449614003, 2.245093891599291, 0.23372706039114344], result=0.8878253618736339, best_f=2.7711717715749, steps_to_best_f=58, peak_memory=40037888, runtime_ms=0.1558067798614502)\n"
     ]
    },
    {
     "name": "stderr",
     "output_type": "stream",
     "text": [
      "/home/salabed/anaconda3/envs/rocksdb/lib/python3.8/site-packages/botorch/optim/initializers.py:403: BadInitialCandidatesWarning: Unable to find non-zero acquisition function values - initial conditions are being selected randomly.\n",
      "  warnings.warn(\n"
     ]
    },
    {
     "name": "stdout",
     "output_type": "stream",
     "text": [
      "ExperimentResult(model='BoTorch', step=93, restart=2, candidate=[2.5466293134534412, 2.349627683091521, 1.4173146699751304, 0.6737259677610385, 2.437159542597651], result=0.3322614882121235, best_f=2.7711717715749, steps_to_best_f=58, peak_memory=40051712, runtime_ms=0.16109633445739746)\n"
     ]
    },
    {
     "name": "stderr",
     "output_type": "stream",
     "text": [
      "/home/salabed/anaconda3/envs/rocksdb/lib/python3.8/site-packages/botorch/optim/initializers.py:403: BadInitialCandidatesWarning: Unable to find non-zero acquisition function values - initial conditions are being selected randomly.\n",
      "  warnings.warn(\n"
     ]
    },
    {
     "name": "stdout",
     "output_type": "stream",
     "text": [
      "ExperimentResult(model='BoTorch', step=94, restart=2, candidate=[2.7128579374369677, 0.42637451392581793, 2.8493013758734334, 1.4746215848956623, 0.45862002931538304], result=0.2605024805014739, best_f=2.7711717715749, steps_to_best_f=58, peak_memory=40064512, runtime_ms=0.16992402076721191)\n"
     ]
    },
    {
     "name": "stderr",
     "output_type": "stream",
     "text": [
      "/home/salabed/anaconda3/envs/rocksdb/lib/python3.8/site-packages/botorch/optim/initializers.py:403: BadInitialCandidatesWarning: Unable to find non-zero acquisition function values - initial conditions are being selected randomly.\n",
      "  warnings.warn(\n"
     ]
    },
    {
     "name": "stdout",
     "output_type": "stream",
     "text": [
      "ExperimentResult(model='BoTorch', step=95, restart=2, candidate=[2.058305682608712, 2.25435290518916, 0.7678298523326965, 1.78175236719759, 2.8296518546738003], result=0.5443636962986868, best_f=2.7711717715749, steps_to_best_f=58, peak_memory=40078848, runtime_ms=0.16472792625427246)\n"
     ]
    },
    {
     "name": "stderr",
     "output_type": "stream",
     "text": [
      "/home/salabed/anaconda3/envs/rocksdb/lib/python3.8/site-packages/botorch/optim/initializers.py:403: BadInitialCandidatesWarning: Unable to find non-zero acquisition function values - initial conditions are being selected randomly.\n",
      "  warnings.warn(\n"
     ]
    },
    {
     "name": "stdout",
     "output_type": "stream",
     "text": [
      "ExperimentResult(model='BoTorch', step=96, restart=2, candidate=[1.8757225205722283, 0.7370213555607119, 0.969628183475647, 2.4790429293342875, 0.3606177722409565], result=0.7323325671950413, best_f=2.7711717715749, steps_to_best_f=58, peak_memory=40091648, runtime_ms=0.16951656341552734)\n"
     ]
    },
    {
     "name": "stderr",
     "output_type": "stream",
     "text": [
      "/home/salabed/anaconda3/envs/rocksdb/lib/python3.8/site-packages/botorch/optim/initializers.py:403: BadInitialCandidatesWarning: Unable to find non-zero acquisition function values - initial conditions are being selected randomly.\n",
      "  warnings.warn(\n"
     ]
    },
    {
     "name": "stdout",
     "output_type": "stream",
     "text": [
      "ExperimentResult(model='BoTorch', step=97, restart=2, candidate=[1.0603470013286376, 1.94109261299798, 0.8800348353457343, 0.3051070984082016, 1.0551812677484984], result=0.5793006297320757, best_f=2.7711717715749, steps_to_best_f=58, peak_memory=40104448, runtime_ms=0.1844031810760498)\n"
     ]
    },
    {
     "name": "stderr",
     "output_type": "stream",
     "text": [
      "/home/salabed/anaconda3/envs/rocksdb/lib/python3.8/site-packages/botorch/optim/initializers.py:403: BadInitialCandidatesWarning: Unable to find non-zero acquisition function values - initial conditions are being selected randomly.\n",
      "  warnings.warn(\n"
     ]
    },
    {
     "name": "stdout",
     "output_type": "stream",
     "text": [
      "ExperimentResult(model='BoTorch', step=98, restart=2, candidate=[1.2843341898697125, 1.767521076319768, 0.8516262908596062, 0.7897998337733825, 2.615488407078612], result=0.6094705880906439, best_f=2.7711717715749, steps_to_best_f=58, peak_memory=40118784, runtime_ms=0.18181514739990234)\n"
     ]
    },
    {
     "name": "stderr",
     "output_type": "stream",
     "text": [
      "/home/salabed/anaconda3/envs/rocksdb/lib/python3.8/site-packages/botorch/optim/initializers.py:403: BadInitialCandidatesWarning: Unable to find non-zero acquisition function values - initial conditions are being selected randomly.\n",
      "  warnings.warn(\n"
     ]
    },
    {
     "name": "stdout",
     "output_type": "stream",
     "text": [
      "ExperimentResult(model='BoTorch', step=99, restart=2, candidate=[1.2859236913687744, 1.1776548329235093, 0.19019678772927096, 2.8252934470873514, 1.3072773746638766], result=0.005555213562000162, best_f=2.7711717715749, steps_to_best_f=58, peak_memory=40131584, runtime_ms=0.21470880508422852)\n"
     ]
    },
    {
     "name": "stderr",
     "output_type": "stream",
     "text": [
      "/home/salabed/anaconda3/envs/rocksdb/lib/python3.8/site-packages/botorch/optim/initializers.py:403: BadInitialCandidatesWarning: Unable to find non-zero acquisition function values - initial conditions are being selected randomly.\n",
      "  warnings.warn(\n"
     ]
    },
    {
     "name": "stdout",
     "output_type": "stream",
     "text": [
      "ExperimentResult(model='BoTorch', step=100, restart=2, candidate=[1.6750523626250413, 0.8432327981462406, 0.9263321912990163, 0.9075148276652423, 0.9994548954164617], result=0.8914352441200364, best_f=2.7711717715749, steps_to_best_f=58, peak_memory=40145920, runtime_ms=0.172088623046875)\n"
     ]
    },
    {
     "name": "stderr",
     "output_type": "stream",
     "text": [
      "/home/salabed/anaconda3/envs/rocksdb/lib/python3.8/site-packages/botorch/optim/initializers.py:403: BadInitialCandidatesWarning: Unable to find non-zero acquisition function values - initial conditions are being selected randomly.\n",
      "  warnings.warn(\n"
     ]
    },
    {
     "name": "stdout",
     "output_type": "stream",
     "text": [
      "ExperimentResult(model='BoTorch', step=101, restart=2, candidate=[2.4672684163337744, 2.775463898740076, 0.05714516006400605, 1.4443880851648982, 3.076920723855312], result=0.40478302772163954, best_f=2.7711717715749, steps_to_best_f=58, peak_memory=40158720, runtime_ms=0.1719822883605957)\n"
     ]
    },
    {
     "name": "stderr",
     "output_type": "stream",
     "text": [
      "/home/salabed/anaconda3/envs/rocksdb/lib/python3.8/site-packages/botorch/optim/initializers.py:403: BadInitialCandidatesWarning: Unable to find non-zero acquisition function values - initial conditions are being selected randomly.\n",
      "  warnings.warn(\n"
     ]
    },
    {
     "name": "stdout",
     "output_type": "stream",
     "text": [
      "ExperimentResult(model='BoTorch', step=102, restart=2, candidate=[0.8003940146954824, 0.9805410142968041, 1.694591252104769, 2.666624946955128, 3.0280674129536953], result=0.013056060283698176, best_f=2.7711717715749, steps_to_best_f=58, peak_memory=40641536, runtime_ms=0.15047979354858398)\n"
     ]
    },
    {
     "name": "stderr",
     "output_type": "stream",
     "text": [
      "/home/salabed/anaconda3/envs/rocksdb/lib/python3.8/site-packages/botorch/optim/initializers.py:403: BadInitialCandidatesWarning: Unable to find non-zero acquisition function values - initial conditions are being selected randomly.\n",
      "  warnings.warn(\n"
     ]
    },
    {
     "name": "stdout",
     "output_type": "stream",
     "text": [
      "ExperimentResult(model='BoTorch', step=103, restart=2, candidate=[0.9313454390718379, 3.053013555017662, 0.6131499077536662, 3.042204641122239, 0.31410941960723027], result=0.0002442963643507835, best_f=2.7711717715749, steps_to_best_f=58, peak_memory=40680448, runtime_ms=0.16753411293029785)\n"
     ]
    },
    {
     "name": "stderr",
     "output_type": "stream",
     "text": [
      "/home/salabed/anaconda3/envs/rocksdb/lib/python3.8/site-packages/botorch/optim/initializers.py:403: BadInitialCandidatesWarning: Unable to find non-zero acquisition function values - initial conditions are being selected randomly.\n",
      "  warnings.warn(\n"
     ]
    },
    {
     "name": "stdout",
     "output_type": "stream",
     "text": [
      "ExperimentResult(model='BoTorch', step=104, restart=2, candidate=[1.589787031420553, 3.134395532036801, 2.781446367803253, 0.26319371892426946, 0.4518084162976743], result=0.038074430106612114, best_f=2.7711717715749, steps_to_best_f=58, peak_memory=40719360, runtime_ms=0.1641402244567871)\n"
     ]
    },
    {
     "name": "stderr",
     "output_type": "stream",
     "text": [
      "/home/salabed/anaconda3/envs/rocksdb/lib/python3.8/site-packages/botorch/optim/initializers.py:403: BadInitialCandidatesWarning: Unable to find non-zero acquisition function values - initial conditions are being selected randomly.\n",
      "  warnings.warn(\n"
     ]
    },
    {
     "name": "stdout",
     "output_type": "stream",
     "text": [
      "ExperimentResult(model='BoTorch', step=105, restart=2, candidate=[0.5242141442445192, 2.3506214638512746, 0.712705652208877, 0.38325272896475027, 1.0911941074356446], result=0.30412608136378155, best_f=2.7711717715749, steps_to_best_f=58, peak_memory=40756736, runtime_ms=0.16660499572753906)\n"
     ]
    },
    {
     "name": "stderr",
     "output_type": "stream",
     "text": [
      "/home/salabed/anaconda3/envs/rocksdb/lib/python3.8/site-packages/botorch/optim/initializers.py:403: BadInitialCandidatesWarning: Unable to find non-zero acquisition function values - initial conditions are being selected randomly.\n",
      "  warnings.warn(\n"
     ]
    },
    {
     "name": "stdout",
     "output_type": "stream",
     "text": [
      "ExperimentResult(model='BoTorch', step=106, restart=2, candidate=[0.9847395980786455, 3.0564614365145646, 2.3824293589885936, 3.064371932181439, 0.08183232173319288], result=0.002825160376085552, best_f=2.7711717715749, steps_to_best_f=58, peak_memory=40796672, runtime_ms=0.15432453155517578)\n"
     ]
    },
    {
     "name": "stderr",
     "output_type": "stream",
     "text": [
      "/home/salabed/anaconda3/envs/rocksdb/lib/python3.8/site-packages/botorch/optim/initializers.py:403: BadInitialCandidatesWarning: Unable to find non-zero acquisition function values - initial conditions are being selected randomly.\n",
      "  warnings.warn(\n"
     ]
    },
    {
     "name": "stdout",
     "output_type": "stream",
     "text": [
      "ExperimentResult(model='BoTorch', step=107, restart=2, candidate=[3.0067474440695863, 0.4694322435540843, 2.3371130622590943, 2.7709780036911438, 1.8245479155662303], result=0.07608797101864945, best_f=2.7711717715749, steps_to_best_f=58, peak_memory=40834048, runtime_ms=0.19134855270385742)\n"
     ]
    },
    {
     "name": "stderr",
     "output_type": "stream",
     "text": [
      "/home/salabed/anaconda3/envs/rocksdb/lib/python3.8/site-packages/botorch/optim/initializers.py:403: BadInitialCandidatesWarning: Unable to find non-zero acquisition function values - initial conditions are being selected randomly.\n",
      "  warnings.warn(\n"
     ]
    },
    {
     "name": "stdout",
     "output_type": "stream",
     "text": [
      "ExperimentResult(model='BoTorch', step=108, restart=2, candidate=[1.3164042779700025, 2.171642601442918, 1.8891124579808893, 3.038138770346406, 1.5097574373540812], result=2.058054207238131e-06, best_f=2.7711717715749, steps_to_best_f=58, peak_memory=40872960, runtime_ms=0.1905064582824707)\n"
     ]
    },
    {
     "name": "stderr",
     "output_type": "stream",
     "text": [
      "/home/salabed/anaconda3/envs/rocksdb/lib/python3.8/site-packages/botorch/optim/initializers.py:403: BadInitialCandidatesWarning: Unable to find non-zero acquisition function values - initial conditions are being selected randomly.\n",
      "  warnings.warn(\n"
     ]
    },
    {
     "name": "stdout",
     "output_type": "stream",
     "text": [
      "ExperimentResult(model='BoTorch', step=109, restart=2, candidate=[2.8911303098718077, 3.042550635886795, 2.2979333530167114, 0.6367496297192221, 1.9031973926783163], result=0.2462052911123446, best_f=2.7711717715749, steps_to_best_f=58, peak_memory=40911872, runtime_ms=0.21468186378479004)\n"
     ]
    },
    {
     "name": "stderr",
     "output_type": "stream",
     "text": [
      "/home/salabed/anaconda3/envs/rocksdb/lib/python3.8/site-packages/botorch/optim/initializers.py:403: BadInitialCandidatesWarning: Unable to find non-zero acquisition function values - initial conditions are being selected randomly.\n",
      "  warnings.warn(\n"
     ]
    },
    {
     "name": "stdout",
     "output_type": "stream",
     "text": [
      "ExperimentResult(model='BoTorch', step=110, restart=2, candidate=[1.4130533240801058, 0.46555114811431264, 2.590276780485905, 2.7678238585977146, 1.7659352116351523], result=0.519377755732239, best_f=2.7711717715749, steps_to_best_f=58, peak_memory=40949248, runtime_ms=0.21285128593444824)\n"
     ]
    },
    {
     "name": "stderr",
     "output_type": "stream",
     "text": [
      "/home/salabed/anaconda3/envs/rocksdb/lib/python3.8/site-packages/botorch/optim/initializers.py:403: BadInitialCandidatesWarning: Unable to find non-zero acquisition function values - initial conditions are being selected randomly.\n",
      "  warnings.warn(\n"
     ]
    },
    {
     "name": "stdout",
     "output_type": "stream",
     "text": [
      "ExperimentResult(model='BoTorch', step=111, restart=2, candidate=[2.952339895348545, 0.2059986440940098, 2.4082851289103804, 1.0583742972055565, 2.899737880171178], result=0.7072748439420432, best_f=2.7711717715749, steps_to_best_f=58, peak_memory=40988160, runtime_ms=0.1955242156982422)\n"
     ]
    },
    {
     "name": "stderr",
     "output_type": "stream",
     "text": [
      "/home/salabed/anaconda3/envs/rocksdb/lib/python3.8/site-packages/botorch/optim/initializers.py:403: BadInitialCandidatesWarning: Unable to find non-zero acquisition function values - initial conditions are being selected randomly.\n",
      "  warnings.warn(\n"
     ]
    },
    {
     "name": "stdout",
     "output_type": "stream",
     "text": [
      "ExperimentResult(model='BoTorch', step=112, restart=2, candidate=[2.5516977220168946, 1.2813567301751416, 1.3254007065348439, 0.21966253047565387, 2.3557295438283052], result=0.9583081097789993, best_f=2.7711717715749, steps_to_best_f=58, peak_memory=42074624, runtime_ms=0.22078371047973633)\n"
     ]
    },
    {
     "name": "stderr",
     "output_type": "stream",
     "text": [
      "/home/salabed/anaconda3/envs/rocksdb/lib/python3.8/site-packages/botorch/optim/initializers.py:403: BadInitialCandidatesWarning: Unable to find non-zero acquisition function values - initial conditions are being selected randomly.\n",
      "  warnings.warn(\n"
     ]
    },
    {
     "name": "stdout",
     "output_type": "stream",
     "text": [
      "ExperimentResult(model='BoTorch', step=113, restart=2, candidate=[0.3705445582133782, 0.829601912271547, 0.5542563235435527, 2.284301472357696, 1.3283414879463107], result=-7.088478645655424e-05, best_f=2.7711717715749, steps_to_best_f=58, peak_memory=42103296, runtime_ms=0.23336029052734375)\n"
     ]
    },
    {
     "name": "stderr",
     "output_type": "stream",
     "text": [
      "/home/salabed/anaconda3/envs/rocksdb/lib/python3.8/site-packages/botorch/optim/initializers.py:403: BadInitialCandidatesWarning: Unable to find non-zero acquisition function values - initial conditions are being selected randomly.\n",
      "  warnings.warn(\n"
     ]
    },
    {
     "name": "stdout",
     "output_type": "stream",
     "text": [
      "ExperimentResult(model='BoTorch', step=114, restart=2, candidate=[2.359882613301598, 1.9052455511921895, 3.0813798913901924, 2.6201749179410094, 0.3366690887128976], result=0.46957836296664623, best_f=2.7711717715749, steps_to_best_f=58, peak_memory=42131968, runtime_ms=0.16468358039855957)\n"
     ]
    },
    {
     "name": "stderr",
     "output_type": "stream",
     "text": [
      "/home/salabed/anaconda3/envs/rocksdb/lib/python3.8/site-packages/botorch/optim/initializers.py:403: BadInitialCandidatesWarning: Unable to find non-zero acquisition function values - initial conditions are being selected randomly.\n",
      "  warnings.warn(\n"
     ]
    },
    {
     "name": "stdout",
     "output_type": "stream",
     "text": [
      "ExperimentResult(model='BoTorch', step=115, restart=2, candidate=[2.08578492006247, 1.0565738399877578, 0.3837820361472477, 3.05270165502281, 2.928817558825699], result=0.6330373789754904, best_f=2.7711717715749, steps_to_best_f=58, peak_memory=42160640, runtime_ms=0.19396662712097168)\n"
     ]
    },
    {
     "name": "stderr",
     "output_type": "stream",
     "text": [
      "/home/salabed/anaconda3/envs/rocksdb/lib/python3.8/site-packages/botorch/optim/initializers.py:403: BadInitialCandidatesWarning: Unable to find non-zero acquisition function values - initial conditions are being selected randomly.\n",
      "  warnings.warn(\n"
     ]
    },
    {
     "name": "stdout",
     "output_type": "stream",
     "text": [
      "ExperimentResult(model='BoTorch', step=116, restart=2, candidate=[2.260486593172563, 0.9849776938543442, 0.49553803788591977, 0.11180690543757477, 0.4597630423525556], result=0.747870018161198, best_f=2.7711717715749, steps_to_best_f=58, peak_memory=42189312, runtime_ms=0.1921525001525879)\n"
     ]
    },
    {
     "name": "stderr",
     "output_type": "stream",
     "text": [
      "/home/salabed/anaconda3/envs/rocksdb/lib/python3.8/site-packages/botorch/optim/initializers.py:403: BadInitialCandidatesWarning: Unable to find non-zero acquisition function values - initial conditions are being selected randomly.\n",
      "  warnings.warn(\n"
     ]
    },
    {
     "name": "stdout",
     "output_type": "stream",
     "text": [
      "ExperimentResult(model='BoTorch', step=117, restart=2, candidate=[0.9243286020485864, 1.1606584658779384, 2.017303016467845, 2.040484838317412, 2.992549311693872], result=0.15599929188589368, best_f=2.7711717715749, steps_to_best_f=58, peak_memory=42217984, runtime_ms=0.18512797355651855)\n"
     ]
    },
    {
     "name": "stderr",
     "output_type": "stream",
     "text": [
      "/home/salabed/anaconda3/envs/rocksdb/lib/python3.8/site-packages/botorch/optim/initializers.py:403: BadInitialCandidatesWarning: Unable to find non-zero acquisition function values - initial conditions are being selected randomly.\n",
      "  warnings.warn(\n"
     ]
    },
    {
     "name": "stdout",
     "output_type": "stream",
     "text": [
      "ExperimentResult(model='BoTorch', step=118, restart=2, candidate=[0.9988271777320334, 0.5496176442520062, 1.5021025924803455, 0.6290335675738379, 2.6386489376178615], result=0.47455763266806567, best_f=2.7711717715749, steps_to_best_f=58, peak_memory=42245120, runtime_ms=0.1840343475341797)\n"
     ]
    },
    {
     "name": "stderr",
     "output_type": "stream",
     "text": [
      "/home/salabed/anaconda3/envs/rocksdb/lib/python3.8/site-packages/botorch/optim/initializers.py:403: BadInitialCandidatesWarning: Unable to find non-zero acquisition function values - initial conditions are being selected randomly.\n",
      "  warnings.warn(\n"
     ]
    },
    {
     "name": "stdout",
     "output_type": "stream",
     "text": [
      "ExperimentResult(model='BoTorch', step=119, restart=2, candidate=[2.279985849274584, 1.5750292509405328, 2.8845355013194798, 3.1243468498749505, 2.893195417755019], result=1.9404789748639129, best_f=2.7711717715749, steps_to_best_f=58, peak_memory=42277888, runtime_ms=0.18402886390686035)\n"
     ]
    },
    {
     "name": "stderr",
     "output_type": "stream",
     "text": [
      "/home/salabed/anaconda3/envs/rocksdb/lib/python3.8/site-packages/botorch/optim/initializers.py:403: BadInitialCandidatesWarning: Unable to find non-zero acquisition function values - initial conditions are being selected randomly.\n",
      "  warnings.warn(\n"
     ]
    },
    {
     "name": "stdout",
     "output_type": "stream",
     "text": [
      "ExperimentResult(model='BoTorch', step=120, restart=2, candidate=[1.1859084735904413, 2.0695924060429727, 2.256564966123359, 1.5129146106880187, 0.3612813197159792], result=0.6169855713044304, best_f=2.7711717715749, steps_to_best_f=58, peak_memory=42306560, runtime_ms=0.19521164894104004)\n"
     ]
    },
    {
     "name": "stderr",
     "output_type": "stream",
     "text": [
      "/home/salabed/anaconda3/envs/rocksdb/lib/python3.8/site-packages/botorch/optim/initializers.py:403: BadInitialCandidatesWarning: Unable to find non-zero acquisition function values - initial conditions are being selected randomly.\n",
      "  warnings.warn(\n"
     ]
    },
    {
     "name": "stdout",
     "output_type": "stream",
     "text": [
      "ExperimentResult(model='BoTorch', step=121, restart=2, candidate=[0.8983862098190798, 2.783297360064588, 2.4019857332656915, 0.7765573292528527, 3.0380783371988693], result=0.22119085722230536, best_f=2.7711717715749, steps_to_best_f=58, peak_memory=42335232, runtime_ms=0.21326088905334473)\n"
     ]
    },
    {
     "name": "stderr",
     "output_type": "stream",
     "text": [
      "/home/salabed/anaconda3/envs/rocksdb/lib/python3.8/site-packages/botorch/optim/initializers.py:403: BadInitialCandidatesWarning: Unable to find non-zero acquisition function values - initial conditions are being selected randomly.\n",
      "  warnings.warn(\n"
     ]
    },
    {
     "name": "stdout",
     "output_type": "stream",
     "text": [
      "ExperimentResult(model='BoTorch', step=122, restart=2, candidate=[1.0068623842427993, 1.9051576971074125, 2.4008894780174694, 1.3490500506830294, 2.5539927772218762], result=0.014743458669681285, best_f=2.7711717715749, steps_to_best_f=58, peak_memory=42363904, runtime_ms=0.2256183624267578)\n"
     ]
    },
    {
     "name": "stderr",
     "output_type": "stream",
     "text": [
      "/home/salabed/anaconda3/envs/rocksdb/lib/python3.8/site-packages/botorch/optim/initializers.py:403: BadInitialCandidatesWarning: Unable to find non-zero acquisition function values - initial conditions are being selected randomly.\n",
      "  warnings.warn(\n"
     ]
    },
    {
     "name": "stdout",
     "output_type": "stream",
     "text": [
      "ExperimentResult(model='BoTorch', step=123, restart=2, candidate=[2.7868692297238318, 1.06384489414439, 2.755388135865334, 2.832795460905093, 1.8555744719873424], result=0.00945813506211312, best_f=2.7711717715749, steps_to_best_f=58, peak_memory=42392576, runtime_ms=0.1790604591369629)\n"
     ]
    },
    {
     "name": "stderr",
     "output_type": "stream",
     "text": [
      "/home/salabed/anaconda3/envs/rocksdb/lib/python3.8/site-packages/botorch/optim/initializers.py:403: BadInitialCandidatesWarning: Unable to find non-zero acquisition function values - initial conditions are being selected randomly.\n",
      "  warnings.warn(\n"
     ]
    },
    {
     "name": "stdout",
     "output_type": "stream",
     "text": [
      "ExperimentResult(model='BoTorch', step=124, restart=2, candidate=[0.6493178226132024, 2.1586315100881146, 0.6385101873082166, 0.01741060108875092, 0.3988997998148869], result=1.8124914115215385e-05, best_f=2.7711717715749, steps_to_best_f=58, peak_memory=42421248, runtime_ms=0.17960095405578613)\n"
     ]
    },
    {
     "name": "stderr",
     "output_type": "stream",
     "text": [
      "/home/salabed/anaconda3/envs/rocksdb/lib/python3.8/site-packages/botorch/optim/initializers.py:403: BadInitialCandidatesWarning: Unable to find non-zero acquisition function values - initial conditions are being selected randomly.\n",
      "  warnings.warn(\n"
     ]
    },
    {
     "name": "stdout",
     "output_type": "stream",
     "text": [
      "ExperimentResult(model='BoTorch', step=125, restart=2, candidate=[2.32472184442176, 3.137243374260106, 2.210781986810242, 1.7209026917625658, 1.2303705460971603], result=1.3687422189396163, best_f=2.7711717715749, steps_to_best_f=58, peak_memory=42449920, runtime_ms=0.1910848617553711)\n"
     ]
    },
    {
     "name": "stderr",
     "output_type": "stream",
     "text": [
      "/home/salabed/anaconda3/envs/rocksdb/lib/python3.8/site-packages/botorch/optim/initializers.py:403: BadInitialCandidatesWarning: Unable to find non-zero acquisition function values - initial conditions are being selected randomly.\n",
      "  warnings.warn(\n"
     ]
    },
    {
     "name": "stdout",
     "output_type": "stream",
     "text": [
      "ExperimentResult(model='BoTorch', step=126, restart=2, candidate=[2.407720954537411, 2.4095349554511647, 0.15890672757055246, 2.2000780606966175, 2.5463294532747174], result=0.31615992607105564, best_f=2.7711717715749, steps_to_best_f=58, peak_memory=42478592, runtime_ms=0.19134783744812012)\n"
     ]
    },
    {
     "name": "stderr",
     "output_type": "stream",
     "text": [
      "/home/salabed/anaconda3/envs/rocksdb/lib/python3.8/site-packages/botorch/optim/initializers.py:403: BadInitialCandidatesWarning: Unable to find non-zero acquisition function values - initial conditions are being selected randomly.\n",
      "  warnings.warn(\n"
     ]
    },
    {
     "name": "stdout",
     "output_type": "stream",
     "text": [
      "ExperimentResult(model='BoTorch', step=127, restart=2, candidate=[2.515952324242934, 1.0219068791193175, 1.797607426968516, 3.0556343611262546, 0.8439032388914447], result=0.17969698182811128, best_f=2.7711717715749, steps_to_best_f=58, peak_memory=42508800, runtime_ms=0.19057226181030273)\n"
     ]
    },
    {
     "name": "stderr",
     "output_type": "stream",
     "text": [
      "/home/salabed/anaconda3/envs/rocksdb/lib/python3.8/site-packages/botorch/optim/initializers.py:403: BadInitialCandidatesWarning: Unable to find non-zero acquisition function values - initial conditions are being selected randomly.\n",
      "  warnings.warn(\n"
     ]
    },
    {
     "name": "stdout",
     "output_type": "stream",
     "text": [
      "ExperimentResult(model='BoTorch', step=128, restart=2, candidate=[0.5040723247649881, 1.2413521604024824, 1.7478448393094281, 2.6604297052289096, 0.29582401396358704], result=0.02335556796069612, best_f=2.7711717715749, steps_to_best_f=58, peak_memory=42537472, runtime_ms=0.22322845458984375)\n"
     ]
    },
    {
     "name": "stderr",
     "output_type": "stream",
     "text": [
      "/home/salabed/anaconda3/envs/rocksdb/lib/python3.8/site-packages/botorch/optim/initializers.py:403: BadInitialCandidatesWarning: Unable to find non-zero acquisition function values - initial conditions are being selected randomly.\n",
      "  warnings.warn(\n"
     ]
    },
    {
     "name": "stdout",
     "output_type": "stream",
     "text": [
      "ExperimentResult(model='BoTorch', step=129, restart=2, candidate=[1.3711225446480546, 1.0198261736031111, 2.9309075743528212, 1.8395387857161427, 1.0378658148542708], result=0.940800694059067, best_f=2.7711717715749, steps_to_best_f=58, peak_memory=42566144, runtime_ms=0.23027658462524414)\n"
     ]
    },
    {
     "name": "stderr",
     "output_type": "stream",
     "text": [
      "/home/salabed/anaconda3/envs/rocksdb/lib/python3.8/site-packages/botorch/optim/initializers.py:403: BadInitialCandidatesWarning: Unable to find non-zero acquisition function values - initial conditions are being selected randomly.\n",
      "  warnings.warn(\n"
     ]
    },
    {
     "name": "stdout",
     "output_type": "stream",
     "text": [
      "ExperimentResult(model='BoTorch', step=130, restart=2, candidate=[2.643925326324595, 2.4099773770006805, 0.23082430022161482, 1.6730414763390289, 1.4561601199821161], result=0.0049229522235167, best_f=2.7711717715749, steps_to_best_f=58, peak_memory=42596352, runtime_ms=0.2084667682647705)\n"
     ]
    },
    {
     "name": "stderr",
     "output_type": "stream",
     "text": [
      "/home/salabed/anaconda3/envs/rocksdb/lib/python3.8/site-packages/botorch/optim/initializers.py:403: BadInitialCandidatesWarning: Unable to find non-zero acquisition function values - initial conditions are being selected randomly.\n",
      "  warnings.warn(\n"
     ]
    },
    {
     "name": "stdout",
     "output_type": "stream",
     "text": [
      "ExperimentResult(model='BoTorch', step=131, restart=2, candidate=[0.98028812256724, 3.059588658062914, 2.43016409636315, 1.8476569455359837, 2.0288196462621686], result=0.24480711793888554, best_f=2.7711717715749, steps_to_best_f=58, peak_memory=42626048, runtime_ms=0.19835901260375977)\n"
     ]
    },
    {
     "name": "stderr",
     "output_type": "stream",
     "text": [
      "/home/salabed/anaconda3/envs/rocksdb/lib/python3.8/site-packages/botorch/optim/initializers.py:403: BadInitialCandidatesWarning: Unable to find non-zero acquisition function values - initial conditions are being selected randomly.\n",
      "  warnings.warn(\n"
     ]
    },
    {
     "name": "stdout",
     "output_type": "stream",
     "text": [
      "ExperimentResult(model='BoTorch', step=132, restart=2, candidate=[2.5369889112580224, 1.193150292791364, 1.3107374451945553, 2.7817794567041543, 0.4434601833451046], result=0.9806991769394144, best_f=2.7711717715749, steps_to_best_f=58, peak_memory=42656256, runtime_ms=0.31651759147644043)\n"
     ]
    },
    {
     "name": "stderr",
     "output_type": "stream",
     "text": [
      "/home/salabed/anaconda3/envs/rocksdb/lib/python3.8/site-packages/botorch/optim/initializers.py:403: BadInitialCandidatesWarning: Unable to find non-zero acquisition function values - initial conditions are being selected randomly.\n",
      "  warnings.warn(\n"
     ]
    },
    {
     "name": "stdout",
     "output_type": "stream",
     "text": [
      "ExperimentResult(model='BoTorch', step=133, restart=2, candidate=[2.804571776604278, 0.7555606301632234, 0.7621772478988842, 0.765432021278114, 0.30971417574252036], result=0.00023945810947475227, best_f=2.7711717715749, steps_to_best_f=58, peak_memory=42684928, runtime_ms=0.25176143646240234)\n"
     ]
    },
    {
     "name": "stderr",
     "output_type": "stream",
     "text": [
      "/home/salabed/anaconda3/envs/rocksdb/lib/python3.8/site-packages/botorch/optim/initializers.py:403: BadInitialCandidatesWarning: Unable to find non-zero acquisition function values - initial conditions are being selected randomly.\n",
      "  warnings.warn(\n"
     ]
    },
    {
     "name": "stdout",
     "output_type": "stream",
     "text": [
      "ExperimentResult(model='BoTorch', step=134, restart=2, candidate=[0.29402078012719657, 0.8524190754471839, 2.5916988597836443, 0.1676157687965607, 0.5578425239486995], result=4.8517552594778824e-05, best_f=2.7711717715749, steps_to_best_f=58, peak_memory=42713600, runtime_ms=0.2515225410461426)\n"
     ]
    },
    {
     "name": "stderr",
     "output_type": "stream",
     "text": [
      "/home/salabed/anaconda3/envs/rocksdb/lib/python3.8/site-packages/botorch/optim/initializers.py:403: BadInitialCandidatesWarning: Unable to find non-zero acquisition function values - initial conditions are being selected randomly.\n",
      "  warnings.warn(\n"
     ]
    },
    {
     "name": "stdout",
     "output_type": "stream",
     "text": [
      "ExperimentResult(model='BoTorch', step=135, restart=2, candidate=[1.828473896259759, 2.447724746037631, 0.4400053295804418, 1.5680476936506627, 1.84569264734042], result=0.06991810480324545, best_f=2.7711717715749, steps_to_best_f=58, peak_memory=42743808, runtime_ms=0.32585573196411133)\n"
     ]
    },
    {
     "name": "stderr",
     "output_type": "stream",
     "text": [
      "/home/salabed/anaconda3/envs/rocksdb/lib/python3.8/site-packages/botorch/optim/initializers.py:403: BadInitialCandidatesWarning: Unable to find non-zero acquisition function values - initial conditions are being selected randomly.\n",
      "  warnings.warn(\n"
     ]
    },
    {
     "name": "stdout",
     "output_type": "stream",
     "text": [
      "ExperimentResult(model='BoTorch', step=136, restart=2, candidate=[2.828797317386542, 0.14976864756998998, 2.982366526753799, 0.8261875433029364, 1.4324029704718333], result=0.005184206765489069, best_f=2.7711717715749, steps_to_best_f=58, peak_memory=42774016, runtime_ms=0.24064350128173828)\n"
     ]
    },
    {
     "name": "stderr",
     "output_type": "stream",
     "text": [
      "/home/salabed/anaconda3/envs/rocksdb/lib/python3.8/site-packages/botorch/optim/initializers.py:403: BadInitialCandidatesWarning: Unable to find non-zero acquisition function values - initial conditions are being selected randomly.\n",
      "  warnings.warn(\n"
     ]
    },
    {
     "name": "stdout",
     "output_type": "stream",
     "text": [
      "ExperimentResult(model='BoTorch', step=137, restart=2, candidate=[1.2387040591676068, 0.7952432584710556, 0.662772892062401, 1.9358789600719029, 2.7896480924319436], result=0.9018385544041329, best_f=2.7711717715749, steps_to_best_f=58, peak_memory=42802688, runtime_ms=0.21642351150512695)\n"
     ]
    },
    {
     "name": "stderr",
     "output_type": "stream",
     "text": [
      "/home/salabed/anaconda3/envs/rocksdb/lib/python3.8/site-packages/botorch/optim/initializers.py:403: BadInitialCandidatesWarning: Unable to find non-zero acquisition function values - initial conditions are being selected randomly.\n",
      "  warnings.warn(\n"
     ]
    },
    {
     "name": "stdout",
     "output_type": "stream",
     "text": [
      "ExperimentResult(model='BoTorch', step=138, restart=2, candidate=[2.5894489999710615, 2.264056596148285, 0.2219277948160403, 2.546118918876399, 3.134235898411549], result=0.1265210335676186, best_f=2.7711717715749, steps_to_best_f=58, peak_memory=42832896, runtime_ms=0.22376656532287598)\n"
     ]
    },
    {
     "name": "stderr",
     "output_type": "stream",
     "text": [
      "/home/salabed/anaconda3/envs/rocksdb/lib/python3.8/site-packages/botorch/optim/initializers.py:403: BadInitialCandidatesWarning: Unable to find non-zero acquisition function values - initial conditions are being selected randomly.\n",
      "  warnings.warn(\n"
     ]
    },
    {
     "name": "stdout",
     "output_type": "stream",
     "text": [
      "ExperimentResult(model='BoTorch', step=139, restart=2, candidate=[1.3767909222650365, 1.4004036320176616, 2.4826126602072396, 1.9185876511783273, 1.549953292448436], result=1.2765023390954755, best_f=2.7711717715749, steps_to_best_f=58, peak_memory=42861568, runtime_ms=0.19497203826904297)\n"
     ]
    },
    {
     "name": "stderr",
     "output_type": "stream",
     "text": [
      "/home/salabed/anaconda3/envs/rocksdb/lib/python3.8/site-packages/botorch/optim/initializers.py:403: BadInitialCandidatesWarning: Unable to find non-zero acquisition function values - initial conditions are being selected randomly.\n",
      "  warnings.warn(\n"
     ]
    },
    {
     "name": "stdout",
     "output_type": "stream",
     "text": [
      "ExperimentResult(model='BoTorch', step=140, restart=2, candidate=[2.6855311389771472, 0.1298121710387512, 0.4032128072004004, 2.6779193682645364, 2.400981504344725], result=0.0014655544021707468, best_f=2.7711717715749, steps_to_best_f=58, peak_memory=42891776, runtime_ms=0.25005507469177246)\n"
     ]
    },
    {
     "name": "stderr",
     "output_type": "stream",
     "text": [
      "/home/salabed/anaconda3/envs/rocksdb/lib/python3.8/site-packages/botorch/optim/initializers.py:403: BadInitialCandidatesWarning: Unable to find non-zero acquisition function values - initial conditions are being selected randomly.\n",
      "  warnings.warn(\n"
     ]
    },
    {
     "name": "stdout",
     "output_type": "stream",
     "text": [
      "ExperimentResult(model='BoTorch', step=141, restart=2, candidate=[1.1139009080683104, 0.9922615719512162, 1.1846692444285178, 3.114067140757757, 2.2328796751511293], result=1.2801942728643383, best_f=2.7711717715749, steps_to_best_f=58, peak_memory=42921984, runtime_ms=0.24494481086730957)\n"
     ]
    },
    {
     "name": "stderr",
     "output_type": "stream",
     "text": [
      "/home/salabed/anaconda3/envs/rocksdb/lib/python3.8/site-packages/botorch/optim/initializers.py:403: BadInitialCandidatesWarning: Unable to find non-zero acquisition function values - initial conditions are being selected randomly.\n",
      "  warnings.warn(\n"
     ]
    },
    {
     "name": "stdout",
     "output_type": "stream",
     "text": [
      "ExperimentResult(model='BoTorch', step=142, restart=2, candidate=[2.8980288611875507, 2.4888534455003697, 1.3306308553256418, 2.905794653771505, 1.3776258623011595], result=0.96910618369776, best_f=2.7711717715749, steps_to_best_f=58, peak_memory=42950656, runtime_ms=0.20975208282470703)\n"
     ]
    },
    {
     "name": "stderr",
     "output_type": "stream",
     "text": [
      "/home/salabed/anaconda3/envs/rocksdb/lib/python3.8/site-packages/botorch/optim/initializers.py:403: BadInitialCandidatesWarning: Unable to find non-zero acquisition function values - initial conditions are being selected randomly.\n",
      "  warnings.warn(\n"
     ]
    },
    {
     "name": "stdout",
     "output_type": "stream",
     "text": [
      "ExperimentResult(model='BoTorch', step=143, restart=2, candidate=[1.8951461993983354, 2.3115151053234273, 2.6165216017783544, 0.3326140025694446, 0.13480487651533202], result=0.14362692142494504, best_f=2.7711717715749, steps_to_best_f=58, peak_memory=42980864, runtime_ms=0.21773338317871094)\n"
     ]
    },
    {
     "name": "stderr",
     "output_type": "stream",
     "text": [
      "/home/salabed/anaconda3/envs/rocksdb/lib/python3.8/site-packages/botorch/optim/initializers.py:403: BadInitialCandidatesWarning: Unable to find non-zero acquisition function values - initial conditions are being selected randomly.\n",
      "  warnings.warn(\n"
     ]
    },
    {
     "name": "stdout",
     "output_type": "stream",
     "text": [
      "ExperimentResult(model='BoTorch', step=144, restart=2, candidate=[2.3330548454708646, 1.1746047715284802, 2.9543211955784985, 0.9922871788699883, 0.3150321639889142], result=0.8787383320029049, best_f=2.7711717715749, steps_to_best_f=58, peak_memory=43012096, runtime_ms=0.228348970413208)\n"
     ]
    },
    {
     "name": "stderr",
     "output_type": "stream",
     "text": [
      "/home/salabed/anaconda3/envs/rocksdb/lib/python3.8/site-packages/botorch/optim/initializers.py:403: BadInitialCandidatesWarning: Unable to find non-zero acquisition function values - initial conditions are being selected randomly.\n",
      "  warnings.warn(\n"
     ]
    },
    {
     "name": "stdout",
     "output_type": "stream",
     "text": [
      "ExperimentResult(model='BoTorch', step=145, restart=2, candidate=[1.8698984709122635, 1.9793449111498762, 0.6540092664355002, 1.4477213762854635, 1.9484177570891803], result=0.10874979642676706, best_f=2.7711717715749, steps_to_best_f=58, peak_memory=43042304, runtime_ms=0.20790719985961914)\n"
     ]
    },
    {
     "name": "stderr",
     "output_type": "stream",
     "text": [
      "/home/salabed/anaconda3/envs/rocksdb/lib/python3.8/site-packages/botorch/optim/initializers.py:403: BadInitialCandidatesWarning: Unable to find non-zero acquisition function values - initial conditions are being selected randomly.\n",
      "  warnings.warn(\n"
     ]
    },
    {
     "name": "stdout",
     "output_type": "stream",
     "text": [
      "ExperimentResult(model='BoTorch', step=146, restart=2, candidate=[2.5012427176566043, 0.6288436310626488, 2.1183833088575907, 3.1104285356997163, 1.0328660815190416], result=0.9567729032263226, best_f=2.7711717715749, steps_to_best_f=58, peak_memory=43072512, runtime_ms=0.20172762870788574)\n"
     ]
    },
    {
     "name": "stderr",
     "output_type": "stream",
     "text": [
      "/home/salabed/anaconda3/envs/rocksdb/lib/python3.8/site-packages/botorch/optim/initializers.py:403: BadInitialCandidatesWarning: Unable to find non-zero acquisition function values - initial conditions are being selected randomly.\n",
      "  warnings.warn(\n"
     ]
    },
    {
     "name": "stdout",
     "output_type": "stream",
     "text": [
      "ExperimentResult(model='BoTorch', step=147, restart=2, candidate=[1.2267890767692136, 2.8301201903548936, 3.0235775826550206, 0.38099256143109383, 1.3512234174329552], result=0.06603164866454576, best_f=2.7711717715749, steps_to_best_f=58, peak_memory=43102720, runtime_ms=0.22723650932312012)\n"
     ]
    },
    {
     "name": "stderr",
     "output_type": "stream",
     "text": [
      "/home/salabed/anaconda3/envs/rocksdb/lib/python3.8/site-packages/botorch/optim/initializers.py:403: BadInitialCandidatesWarning: Unable to find non-zero acquisition function values - initial conditions are being selected randomly.\n",
      "  warnings.warn(\n"
     ]
    },
    {
     "name": "stdout",
     "output_type": "stream",
     "text": [
      "ExperimentResult(model='BoTorch', step=148, restart=2, candidate=[1.0290015141281894, 0.30599073898853857, 1.042543899308297, 1.6795340708023143, 3.0611124511316987], result=0.04397348818057322, best_f=2.7711717715749, steps_to_best_f=58, peak_memory=43132928, runtime_ms=0.2056725025177002)\n",
      "ExperimentResult(model='BoTorch', step=149, restart=2, candidate=[2.1383399872715305, 1.950835150284863, 1.8136619088117212, 0.44317669029430684, 1.477583338701297], result=0.7384730749826676, best_f=2.7711717715749, steps_to_best_f=58, peak_memory=43163136, runtime_ms=0.23584675788879395)\n"
     ]
    },
    {
     "name": "stderr",
     "output_type": "stream",
     "text": [
      "/home/salabed/anaconda3/envs/rocksdb/lib/python3.8/site-packages/botorch/optim/initializers.py:403: BadInitialCandidatesWarning: Unable to find non-zero acquisition function values - initial conditions are being selected randomly.\n",
      "  warnings.warn(\n"
     ]
    }
   ],
   "source": [
    "tkwargs = {\n",
    "    \"dtype\": torch.double,\n",
    "    \"device\": torch.device(\"cuda\" if torch.cuda.is_available() else \"cpu\"),\n",
    "}\n",
    "botorch_results = []\n",
    "import time\n",
    "\n",
    "for restart_id in range(num_restarts):\n",
    "    print(f\"{restart_id=}/{num_restarts}\")\n",
    "    train_x = initial_train_x.clone().to(**tkwargs)\n",
    "    train_y = initial_train_y.clone().to(**tkwargs)\n",
    "    best_f = float(initial_train_y.max())\n",
    "    steps_to_best_f = 0\n",
    "    for optimization_round in range(num_optimization_rounds):\n",
    "        bench_util.clear_memory()\n",
    "        start_memory = torch.cuda.max_memory_allocated(\"cuda\")\n",
    "        start_time = time.time()\n",
    "\n",
    "        next_candidate = bench_util.botorch_optimize(train_x, train_y, problem, tkwargs)\n",
    "\n",
    "        elapsed_time = time.time() - start_time\n",
    "        total_memory_usage = torch.cuda.max_memory_allocated(\"cuda\") - start_memory\n",
    "\n",
    "        y = problem(next_candidate)\n",
    "        if float(y) > best_f:\n",
    "            best_f = float(y)\n",
    "            steps_to_best_f = optimization_round\n",
    "        # print(f\"{y=}\")\n",
    "        train_y = torch.concat([train_y, y])\n",
    "        train_x = torch.concat([train_x, next_candidate])\n",
    "        res = bench_util.ExperimentResult(\n",
    "            model=\"BoTorch\",\n",
    "            step=optimization_round,\n",
    "            restart=restart_id,\n",
    "            candidate=next_candidate.squeeze().detach().cpu().tolist(),\n",
    "            result=float(y),\n",
    "            best_f=best_f,\n",
    "            steps_to_best_f=steps_to_best_f,\n",
    "            peak_memory=torch.cuda.max_memory_allocated(), runtime_ms=elapsed_time\n",
    "        )\n",
    "        print(res)\n",
    "        botorch_results.append(res)\n",
    "\n",
    "\n"
   ],
   "metadata": {
    "collapsed": false
   },
   "id": "9cfad6175e04d21b"
  },
  {
   "cell_type": "code",
   "execution_count": 8,
   "outputs": [
    {
     "data": {
      "text/plain": "                  model  step  restart  \\\n0                  BoBn     0        0   \n1                  BoBn     1        0   \n2                  BoBn     2        0   \n3                  BoBn     3        0   \n4                  BoBn     4        0   \n...                 ...   ...      ...   \n1345  Conservative BoBn   145        2   \n1346  Conservative BoBn   146        2   \n1347  Conservative BoBn   147        2   \n1348  Conservative BoBn   148        2   \n1349  Conservative BoBn   149        2   \n\n                                              candidate    result    best_f  \\\n0     {'x5': 0.9965815271862424, 'x1': 2.20323125916...  4.495932  4.495932   \n1     {'x5': 0.9965818213766389, 'x1': 2.20324249419...  4.495838  4.495932   \n2     {'x5': 0.9965816808810518, 'x1': 2.20319585686...  4.495880  4.495932   \n3     {'x5': 0.9965819069565599, 'x1': 2.20319673092...  4.495867  4.495932   \n4     {'x5': 0.9965820979666967, 'x1': 2.20319755725...  4.495842  4.495932   \n...                                                 ...       ...       ...   \n1345  {'x5': 0.9965803069557791, 'x1': 2.20323408085...  4.495747  4.496183   \n1346  {'x5': 0.9965807038199104, 'x1': 2.20319098441...  4.495793  4.496183   \n1347  {'x5': 0.9965809423821623, 'x1': 2.20319168149...  4.495940  4.496183   \n1348  {'x5': 0.9965812950154049, 'x1': 2.20319259859...  4.495869  4.496183   \n1349  {'x5': 0.9965813192351107, 'x1': 2.20319327370...  4.495819  4.496183   \n\n      steps_to_best_f  peak_memory  runtime_ms  \n0                   0    152654848   14.052943  \n1                   0    152152576   20.231353  \n2                   0    154401280   17.888208  \n3                   0    152711680   19.922008  \n4                   0    153796608   12.771425  \n...               ...          ...         ...  \n1345              140    148708352    6.254140  \n1346              140    149086720    8.097649  \n1347              140    151835136    6.160295  \n1348              140    150601728   12.509640  \n1349              140    152130048    6.767545  \n\n[1350 rows x 9 columns]",
      "text/html": "<div>\n<style scoped>\n    .dataframe tbody tr th:only-of-type {\n        vertical-align: middle;\n    }\n\n    .dataframe tbody tr th {\n        vertical-align: top;\n    }\n\n    .dataframe thead th {\n        text-align: right;\n    }\n</style>\n<table border=\"1\" class=\"dataframe\">\n  <thead>\n    <tr style=\"text-align: right;\">\n      <th></th>\n      <th>model</th>\n      <th>step</th>\n      <th>restart</th>\n      <th>candidate</th>\n      <th>result</th>\n      <th>best_f</th>\n      <th>steps_to_best_f</th>\n      <th>peak_memory</th>\n      <th>runtime_ms</th>\n    </tr>\n  </thead>\n  <tbody>\n    <tr>\n      <th>0</th>\n      <td>BoBn</td>\n      <td>0</td>\n      <td>0</td>\n      <td>{'x5': 0.9965815271862424, 'x1': 2.20323125916...</td>\n      <td>4.495932</td>\n      <td>4.495932</td>\n      <td>0</td>\n      <td>152654848</td>\n      <td>14.052943</td>\n    </tr>\n    <tr>\n      <th>1</th>\n      <td>BoBn</td>\n      <td>1</td>\n      <td>0</td>\n      <td>{'x5': 0.9965818213766389, 'x1': 2.20324249419...</td>\n      <td>4.495838</td>\n      <td>4.495932</td>\n      <td>0</td>\n      <td>152152576</td>\n      <td>20.231353</td>\n    </tr>\n    <tr>\n      <th>2</th>\n      <td>BoBn</td>\n      <td>2</td>\n      <td>0</td>\n      <td>{'x5': 0.9965816808810518, 'x1': 2.20319585686...</td>\n      <td>4.495880</td>\n      <td>4.495932</td>\n      <td>0</td>\n      <td>154401280</td>\n      <td>17.888208</td>\n    </tr>\n    <tr>\n      <th>3</th>\n      <td>BoBn</td>\n      <td>3</td>\n      <td>0</td>\n      <td>{'x5': 0.9965819069565599, 'x1': 2.20319673092...</td>\n      <td>4.495867</td>\n      <td>4.495932</td>\n      <td>0</td>\n      <td>152711680</td>\n      <td>19.922008</td>\n    </tr>\n    <tr>\n      <th>4</th>\n      <td>BoBn</td>\n      <td>4</td>\n      <td>0</td>\n      <td>{'x5': 0.9965820979666967, 'x1': 2.20319755725...</td>\n      <td>4.495842</td>\n      <td>4.495932</td>\n      <td>0</td>\n      <td>153796608</td>\n      <td>12.771425</td>\n    </tr>\n    <tr>\n      <th>...</th>\n      <td>...</td>\n      <td>...</td>\n      <td>...</td>\n      <td>...</td>\n      <td>...</td>\n      <td>...</td>\n      <td>...</td>\n      <td>...</td>\n      <td>...</td>\n    </tr>\n    <tr>\n      <th>1345</th>\n      <td>Conservative BoBn</td>\n      <td>145</td>\n      <td>2</td>\n      <td>{'x5': 0.9965803069557791, 'x1': 2.20323408085...</td>\n      <td>4.495747</td>\n      <td>4.496183</td>\n      <td>140</td>\n      <td>148708352</td>\n      <td>6.254140</td>\n    </tr>\n    <tr>\n      <th>1346</th>\n      <td>Conservative BoBn</td>\n      <td>146</td>\n      <td>2</td>\n      <td>{'x5': 0.9965807038199104, 'x1': 2.20319098441...</td>\n      <td>4.495793</td>\n      <td>4.496183</td>\n      <td>140</td>\n      <td>149086720</td>\n      <td>8.097649</td>\n    </tr>\n    <tr>\n      <th>1347</th>\n      <td>Conservative BoBn</td>\n      <td>147</td>\n      <td>2</td>\n      <td>{'x5': 0.9965809423821623, 'x1': 2.20319168149...</td>\n      <td>4.495940</td>\n      <td>4.496183</td>\n      <td>140</td>\n      <td>151835136</td>\n      <td>6.160295</td>\n    </tr>\n    <tr>\n      <th>1348</th>\n      <td>Conservative BoBn</td>\n      <td>148</td>\n      <td>2</td>\n      <td>{'x5': 0.9965812950154049, 'x1': 2.20319259859...</td>\n      <td>4.495869</td>\n      <td>4.496183</td>\n      <td>140</td>\n      <td>150601728</td>\n      <td>12.509640</td>\n    </tr>\n    <tr>\n      <th>1349</th>\n      <td>Conservative BoBn</td>\n      <td>149</td>\n      <td>2</td>\n      <td>{'x5': 0.9965813192351107, 'x1': 2.20319327370...</td>\n      <td>4.495819</td>\n      <td>4.496183</td>\n      <td>140</td>\n      <td>152130048</td>\n      <td>6.767545</td>\n    </tr>\n  </tbody>\n</table>\n<p>1350 rows × 9 columns</p>\n</div>"
     },
     "execution_count": 8,
     "metadata": {},
     "output_type": "execute_result"
    }
   ],
   "source": [
    "import pandas as pd\n",
    "\n",
    "all_results = bobn_results + botorch_results + con_bobn_results\n",
    "all_results_df = pd.DataFrame(all_results)\n",
    "all_results_df"
   ],
   "metadata": {
    "collapsed": false
   },
   "id": "6cbf23f559ee8738"
  },
  {
   "cell_type": "code",
   "execution_count": 9,
   "outputs": [],
   "source": [
    "import seaborn as sns\n",
    "import matplotlib.pyplot as plt\n",
    "\n",
    "plt.style.use(\"ggplot\")\n",
    "sns.set_theme(style=\"ticks\", rc={\"axes.spines.right\": False, \"axes.spines.top\": False})\n",
    "sns.set_context(\"paper\")  # , font_scale=1.5, rc={\"lines.linewidth\": 1.5})\n",
    "plt.rcParams[\"svg.fonttype\"] = \"none\"\n",
    "plt.rcParams[\"font.family\"] = \"Arial\"\n",
    "plt.rc(\"text\", usetex=False)\n",
    "plt.rc(\"xtick\", labelsize=\"small\")\n",
    "plt.rc(\"ytick\", labelsize=\"small\")\n",
    "plt.rc(\"axes\", labelsize=\"medium\")\n",
    "plt.rc(\"pdf\", use14corefonts=True)"
   ],
   "metadata": {
    "collapsed": false
   },
   "id": "8fdfb04b8dc5d80c"
  },
  {
   "cell_type": "code",
   "execution_count": 10,
   "outputs": [
    {
     "data": {
      "text/plain": "[Text(0.5, 0, 'Step'), Text(0, 0.5, 'f(x)'), (0.0, 5.0)]"
     },
     "execution_count": 10,
     "metadata": {},
     "output_type": "execute_result"
    },
    {
     "data": {
      "text/plain": "<Figure size 400x300 with 1 Axes>",
      "image/png": "[encoded data removed]"
     },
     "metadata": {},
     "output_type": "display_data"
    }
   ],
   "source": [
    "fig, ax = plt.subplots(figsize=(4, 3))\n",
    "\n",
    "ax = sns.lineplot(data=all_results_df, x=\"step\", y=\"best_f\", hue=\"model\", style='model', ax=ax)\n",
    "ax.axhline(problem.optimal_value, ls='dashdot', label=\"Optimal value\", color='red')\n",
    "ax.set(xlabel=\"Step\", ylabel=\"f(x)\", ylim=(0, 5))\n",
    "#\n",
    "# output_location = \"/home/salabed/workspace/latex/thesis/phd_dissertation/Chapters/BoBn/Figures\"\n",
    "# output_format = \"svg\"\n",
    "# fig.savefig(f\"{output_location}/decomposition_convergence.{output_format}\", bbox_inches = \"tight\", format = f\"{output_format}\",\n",
    "#           dpi = 300)\n",
    "# output_format = \"pdf\"\n",
    "# fig.savefig(f\"{output_location}/decomposition_convergence.{output_format}\", bbox_inches = \"tight\", format = f\"{output_format}\",\n",
    "#           dpi = 300)"
   ],
   "metadata": {
    "collapsed": false
   },
   "id": "569ef378f65748a0"
  },
  {
   "cell_type": "code",
   "execution_count": 11,
   "outputs": [],
   "source": [
    "all_results_df.to_csv(\"bobn_exp_memory_results_df.csv\")"
   ],
   "metadata": {
    "collapsed": false
   },
   "id": "32accff7f98ce6e9"
  },
  {
   "cell_type": "code",
   "execution_count": 15,
   "outputs": [
    {
     "data": {
      "text/plain": "                  model  step  restart  \\\n0                  BoBn     0        0   \n1                  BoBn     1        0   \n2                  BoBn     2        0   \n3                  BoBn     3        0   \n4                  BoBn     4        0   \n...                 ...   ...      ...   \n1345  Conservative BoBn   145        2   \n1346  Conservative BoBn   146        2   \n1347  Conservative BoBn   147        2   \n1348  Conservative BoBn   148        2   \n1349  Conservative BoBn   149        2   \n\n                                              candidate    result    best_f  \\\n0     {'x5': 0.9965815271862424, 'x1': 2.20323125916...  4.495932  4.495932   \n1     {'x5': 0.9965818213766389, 'x1': 2.20324249419...  4.495838  4.495932   \n2     {'x5': 0.9965816808810518, 'x1': 2.20319585686...  4.495880  4.495932   \n3     {'x5': 0.9965819069565599, 'x1': 2.20319673092...  4.495867  4.495932   \n4     {'x5': 0.9965820979666967, 'x1': 2.20319755725...  4.495842  4.495932   \n...                                                 ...       ...       ...   \n1345  {'x5': 0.9965803069557791, 'x1': 2.20323408085...  4.495747  4.496183   \n1346  {'x5': 0.9965807038199104, 'x1': 2.20319098441...  4.495793  4.496183   \n1347  {'x5': 0.9965809423821623, 'x1': 2.20319168149...  4.495940  4.496183   \n1348  {'x5': 0.9965812950154049, 'x1': 2.20319259859...  4.495869  4.496183   \n1349  {'x5': 0.9965813192351107, 'x1': 2.20319327370...  4.495819  4.496183   \n\n      steps_to_best_f  peak_memory  runtime_ms  peak_memory_mb  \n0                   0    152654848   14.052943      152.654848  \n1                   0    152152576   20.231353      152.152576  \n2                   0    154401280   17.888208      154.401280  \n3                   0    152711680   19.922008      152.711680  \n4                   0    153796608   12.771425      153.796608  \n...               ...          ...         ...             ...  \n1345              140    148708352    6.254140      148.708352  \n1346              140    149086720    8.097649      149.086720  \n1347              140    151835136    6.160295      151.835136  \n1348              140    150601728   12.509640      150.601728  \n1349              140    152130048    6.767545      152.130048  \n\n[1350 rows x 10 columns]",
      "text/html": "<div>\n<style scoped>\n    .dataframe tbody tr th:only-of-type {\n        vertical-align: middle;\n    }\n\n    .dataframe tbody tr th {\n        vertical-align: top;\n    }\n\n    .dataframe thead th {\n        text-align: right;\n    }\n</style>\n<table border=\"1\" class=\"dataframe\">\n  <thead>\n    <tr style=\"text-align: right;\">\n      <th></th>\n      <th>model</th>\n      <th>step</th>\n      <th>restart</th>\n      <th>candidate</th>\n      <th>result</th>\n      <th>best_f</th>\n      <th>steps_to_best_f</th>\n      <th>peak_memory</th>\n      <th>runtime_ms</th>\n      <th>peak_memory_mb</th>\n    </tr>\n  </thead>\n  <tbody>\n    <tr>\n      <th>0</th>\n      <td>BoBn</td>\n      <td>0</td>\n      <td>0</td>\n      <td>{'x5': 0.9965815271862424, 'x1': 2.20323125916...</td>\n      <td>4.495932</td>\n      <td>4.495932</td>\n      <td>0</td>\n      <td>152654848</td>\n      <td>14.052943</td>\n      <td>152.654848</td>\n    </tr>\n    <tr>\n      <th>1</th>\n      <td>BoBn</td>\n      <td>1</td>\n      <td>0</td>\n      <td>{'x5': 0.9965818213766389, 'x1': 2.20324249419...</td>\n      <td>4.495838</td>\n      <td>4.495932</td>\n      <td>0</td>\n      <td>152152576</td>\n      <td>20.231353</td>\n      <td>152.152576</td>\n    </tr>\n    <tr>\n      <th>2</th>\n      <td>BoBn</td>\n      <td>2</td>\n      <td>0</td>\n      <td>{'x5': 0.9965816808810518, 'x1': 2.20319585686...</td>\n      <td>4.495880</td>\n      <td>4.495932</td>\n      <td>0</td>\n      <td>154401280</td>\n      <td>17.888208</td>\n      <td>154.401280</td>\n    </tr>\n    <tr>\n      <th>3</th>\n      <td>BoBn</td>\n      <td>3</td>\n      <td>0</td>\n      <td>{'x5': 0.9965819069565599, 'x1': 2.20319673092...</td>\n      <td>4.495867</td>\n      <td>4.495932</td>\n      <td>0</td>\n      <td>152711680</td>\n      <td>19.922008</td>\n      <td>152.711680</td>\n    </tr>\n    <tr>\n      <th>4</th>\n      <td>BoBn</td>\n      <td>4</td>\n      <td>0</td>\n      <td>{'x5': 0.9965820979666967, 'x1': 2.20319755725...</td>\n      <td>4.495842</td>\n      <td>4.495932</td>\n      <td>0</td>\n      <td>153796608</td>\n      <td>12.771425</td>\n      <td>153.796608</td>\n    </tr>\n    <tr>\n      <th>...</th>\n      <td>...</td>\n      <td>...</td>\n      <td>...</td>\n      <td>...</td>\n      <td>...</td>\n      <td>...</td>\n      <td>...</td>\n      <td>...</td>\n      <td>...</td>\n      <td>...</td>\n    </tr>\n    <tr>\n      <th>1345</th>\n      <td>Conservative BoBn</td>\n      <td>145</td>\n      <td>2</td>\n      <td>{'x5': 0.9965803069557791, 'x1': 2.20323408085...</td>\n      <td>4.495747</td>\n      <td>4.496183</td>\n      <td>140</td>\n      <td>148708352</td>\n      <td>6.254140</td>\n      <td>148.708352</td>\n    </tr>\n    <tr>\n      <th>1346</th>\n      <td>Conservative BoBn</td>\n      <td>146</td>\n      <td>2</td>\n      <td>{'x5': 0.9965807038199104, 'x1': 2.20319098441...</td>\n      <td>4.495793</td>\n      <td>4.496183</td>\n      <td>140</td>\n      <td>149086720</td>\n      <td>8.097649</td>\n      <td>149.086720</td>\n    </tr>\n    <tr>\n      <th>1347</th>\n      <td>Conservative BoBn</td>\n      <td>147</td>\n      <td>2</td>\n      <td>{'x5': 0.9965809423821623, 'x1': 2.20319168149...</td>\n      <td>4.495940</td>\n      <td>4.496183</td>\n      <td>140</td>\n      <td>151835136</td>\n      <td>6.160295</td>\n      <td>151.835136</td>\n    </tr>\n    <tr>\n      <th>1348</th>\n      <td>Conservative BoBn</td>\n      <td>148</td>\n      <td>2</td>\n      <td>{'x5': 0.9965812950154049, 'x1': 2.20319259859...</td>\n      <td>4.495869</td>\n      <td>4.496183</td>\n      <td>140</td>\n      <td>150601728</td>\n      <td>12.509640</td>\n      <td>150.601728</td>\n    </tr>\n    <tr>\n      <th>1349</th>\n      <td>Conservative BoBn</td>\n      <td>149</td>\n      <td>2</td>\n      <td>{'x5': 0.9965813192351107, 'x1': 2.20319327370...</td>\n      <td>4.495819</td>\n      <td>4.496183</td>\n      <td>140</td>\n      <td>152130048</td>\n      <td>6.767545</td>\n      <td>152.130048</td>\n    </tr>\n  </tbody>\n</table>\n<p>1350 rows × 10 columns</p>\n</div>"
     },
     "execution_count": 15,
     "metadata": {},
     "output_type": "execute_result"
    }
   ],
   "source": [
    "all_results_df['peak_memory_mb'] = all_results_df['peak_memory'] / 1e6\n",
    "all_results_df"
   ],
   "metadata": {
    "collapsed": false
   },
   "id": "40ed848cbd9ee14b"
  },
  {
   "cell_type": "code",
   "execution_count": 17,
   "outputs": [
    {
     "name": "stderr",
     "output_type": "stream",
     "text": [
      "findfont: Font family ['Arial'] not found. Falling back to Helvetica.\n",
      "findfont: Font family ['Arial'] not found. Falling back to Helvetica.\n",
      "findfont: Font family ['Arial'] not found. Falling back to Helvetica.\n"
     ]
    },
    {
     "data": {
      "text/plain": "<Figure size 400x300 with 1 Axes>",
      "image/png": "[encoded data removed]"
     },
     "metadata": {},
     "output_type": "display_data"
    }
   ],
   "source": [
    "fig, ax = plt.subplots(figsize=(4, 3))\n",
    "\n",
    "ax = sns.lineplot(data=all_results_df, x=\"step\", y=\"peak_memory_mb\", hue=\"model\", style='model', ax=ax)\n",
    "# ax.axhline(problem.optimal_value, ls='dashdot', label=\"Optimal value\", color='red')\n",
    "ax.set(xlabel=\"Step\", ylabel=\"Peak memory (mb)\")\n",
    "\n",
    "output_location = \"/home/salabed/workspace/latex/thesis/phd_dissertation/Chapters/BoBn/Figures\"\n",
    "output_format = \"svg\"\n",
    "fig.savefig(f\"{output_location}/memory_scaling.{output_format}\", bbox_inches = \"tight\", format = f\"{output_format}\",\n",
    "          dpi = 300)\n",
    "output_format = \"pdf\"\n",
    "fig.savefig(f\"{output_location}/memory_scaling.{output_format}\", bbox_inches = \"tight\", format = f\"{output_format}\",\n",
    "          dpi = 300)"
   ],
   "metadata": {
    "collapsed": false
   },
   "id": "f9aea4f842046cf0"
  },
  {
   "cell_type": "code",
   "execution_count": 18,
   "outputs": [
    {
     "data": {
      "text/plain": "[Text(0.5, 0, 'Step'), Text(0, 0.5, 'Runtime (ms)')]"
     },
     "execution_count": 18,
     "metadata": {},
     "output_type": "execute_result"
    },
    {
     "data": {
      "text/plain": "<Figure size 400x300 with 1 Axes>",
      "image/png": "[encoded data removed]"
     },
     "metadata": {},
     "output_type": "display_data"
    }
   ],
   "source": [
    "all_results_df\n",
    "fig, ax = plt.subplots(figsize=(4, 3))\n",
    "\n",
    "ax = sns.lineplot(data=all_results_df, x=\"step\", y=\"runtime_ms\", hue=\"model\", style='model', ax=ax)\n",
    "# ax.axhline(problem.optimal_value, ls='dashdot', label=\"Optimal value\", color='red')\n",
    "ax.set(xlabel=\"Step\", ylabel=\"Runtime (ms)\")\n"
   ],
   "metadata": {
    "collapsed": false
   },
   "id": "c8b50bb377c847e3"
  }
 ],
 "metadata": {
  "kernelspec": {
   "display_name": "Python 3",
   "language": "python",
   "name": "python3"
  },
  "language_info": {
   "codemirror_mode": {
    "name": "ipython",
    "version": 2
   },
   "file_extension": ".py",
   "mimetype": "text/x-python",
   "name": "python",
   "nbconvert_exporter": "python",
   "pygments_lexer": "ipython2",
   "version": "2.7.6"
  }
 },
 "nbformat": 4,
 "nbformat_minor": 5
}
