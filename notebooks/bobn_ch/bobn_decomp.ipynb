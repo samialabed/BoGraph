{
 "cells": [
  {
   "cell_type": "code",
   "execution_count": 9,
   "metadata": {
    "collapsed": true
   },
   "source": [
    "%matplotlib inline\n",
    "%load_ext autoreload\n",
    "%autoreload 2\n"
   ],
   "outputs": []
  },
  {
   "cell_type": "code",
   "execution_count": 10,
   "source": [
    "import enum\n",
    "\n",
    "\n",
    "from IPython.core.display import SVG, display\n",
    "import networkx as nx\n",
    "\n",
    "\n",
    "def draw(graph, path=None):\n",
    "    svg = nx.nx_agraph.to_agraph(graph).draw(path=path, prog='dot', format='svg')\n",
    "    display(SVG(svg))\n",
    "\n",
    "\n",
    "class NodeType(enum.Enum):\n",
    "    PARAM = \"param\"\n",
    "    INTERMEDIATE = \"intermediate\"\n",
    "    OBJECTIVE = \"objective\""
   ],
   "metadata": {
    "collapsed": false
   },
   "outputs": []
  },
  {
   "cell_type": "code",
   "execution_count": 11,
   "source": [
    "G = nx.DiGraph()\n",
    "\n",
    "for i in range(0, 7):\n",
    "    G.add_node(f\"x{i}\", type=NodeType.PARAM)\n",
    "\n",
    "for i in range(1, 5):\n",
    "    G.add_node(f\"z{i}\", type=NodeType.INTERMEDIATE)\n",
    "\n",
    "G.add_node(\"y\", type=NodeType.OBJECTIVE)\n",
    "\n",
    "G.add_edges_from([(\"x1\", \"z1\"),\n",
    "                  (\"x2\", \"z1\"),\n",
    "                  (\"x3\", \"z2\"),\n",
    "                  (\"x4\", \"z2\"),\n",
    "                  (\"x5\", \"z2\"),\n",
    "                  (\"z1\", \"z3\"),\n",
    "                  (\"z2\", \"y\"),\n",
    "                  (\"x1\", \"z3\"),  #for a colider\n",
    "                  (\"z3\", \"y\"),\n",
    "                  (\"x0\", \"y\"),\n",
    "                  (\"x6\", \"z4\"),\n",
    "                  (\"z4\", \"z3\")\n",
    "                  ])\n",
    "draw(G)"
   ],
   "metadata": {
    "collapsed": false
   },
   "outputs": []
  },
  {
   "cell_type": "code",
   "execution_count": 12,
   "source": [
    "# nx.algorithms.d_separated(G, {\"x1\"}, {\"x3\"}, {\"y\"})  # F\n",
    "# nx.algorithms.d_separated(G, {\"x1\"}, {\"x3\"}, {\"z2\"})  # T\n",
    "\n",
    "draw(G, path=\"all_g.svg\")\n"
   ],
   "metadata": {
    "collapsed": false
   },
   "outputs": []
  },
  {
   "cell_type": "code",
   "execution_count": 13,
   "source": [
    "from collections.abc import Set, Sequence\n",
    "from collections import defaultdict\n",
    "\n",
    "\n",
    "def all_params(g) :\n",
    "    return {n for n, d in g.nodes(data=True) if d['type'] == NodeType.PARAM}\n",
    "\n",
    "\n",
    "def all_intermediates(g) -> Set:\n",
    "    return {n for n, d in g.nodes(data=True) if d['type'] == NodeType.INTERMEDIATE}\n",
    "\n",
    "\n",
    "def all_objectives(g) -> Set:\n",
    "    return {n for n, d in g.nodes(data=True) if d['type'] == NodeType.OBJECTIVE}\n",
    "\n",
    "\n",
    "# Get all parameter pairs in the graph\n",
    "def all_params_pairs(g, include_self: bool = False):\n",
    "    all_params_pair = set()\n",
    "\n",
    "    for p1 in all_params(g):\n",
    "        for p2 in all_params(g):\n",
    "            if not include_self and p1 == p2:\n",
    "                continue\n",
    "            all_params_pair.add(tuple(sorted((p1, p2))))\n",
    "\n",
    "    return all_params_pair\n",
    "\n",
    "\n",
    "def find_d_connected_subgraphsv1(g) -> Set:\n",
    "    # Find all d-connected parameters\n",
    "    all_d_connected = defaultdict(set)\n",
    "    for p1, p2 in all_params_pairs(g):\n",
    "        for intermediate in all_intermediates(g):\n",
    "            if not nx.d_separated(g, {p1}, {p2}, {intermediate}):\n",
    "                # D-connected\n",
    "                all_d_connected[intermediate].update({p1, p2})\n",
    "\n",
    "    return all_d_connected\n",
    "\n",
    "def find_decomposition(g) -> Set:\n",
    "    all_d_connected = defaultdict(set)\n",
    "    all_objs = all_objectives(G)\n",
    "    param_pairs = all_params_pairs(g)\n",
    "    param_to_skip = set()\n",
    "    unseen_params = all_params(g)\n",
    "\n",
    "    for obj in all_objs:\n",
    "        for n in G.predecessors(obj):\n",
    "            if G.nodes[n][\"type\"] == NodeType.PARAM:\n",
    "                all_d_connected[obj].add(n)\n",
    "                param_to_skip.add(n)\n",
    "                unseen_params.remove(n)\n",
    "\n",
    "    for p1, p2 in param_pairs:\n",
    "        if p1 in param_to_skip or p2 in param_to_skip:\n",
    "            continue\n",
    "        union_of_children = set(G.successors(p1)).union(set(G.successors(p2)))\n",
    "        if not nx.d_separated(g, {p1}, {p2}, union_of_children):\n",
    "            all_d_connected[str(union_of_children)].add(p1)\n",
    "            all_d_connected[str(union_of_children)].add(p2)\n",
    "            if p1 in unseen_params:\n",
    "                unseen_params.remove(p1)\n",
    "            if p2 in unseen_params:\n",
    "                unseen_params.remove(p2)\n",
    "\n",
    "    for unseen_param in unseen_params:\n",
    "        all_d_connected[str(set(g.successors(unseen_param)))].add(unseen_param)\n",
    "    return all_d_connected\n",
    "\n",
    "\n",
    "find_decomposition(G)\n",
    "\n"
   ],
   "metadata": {
    "collapsed": false
   },
   "outputs": []
  },
  {
   "cell_type": "code",
   "execution_count": 15,
   "source": [
    "import utils\n",
    "\n",
    "utils.find_decomposition(G, all_params(G), all_objectives(G))"
   ],
   "metadata": {
    "collapsed": false
   },
   "outputs": []
  },
  {
   "cell_type": "code",
   "execution_count": 446,
   "source": [
    "\n",
    "def find_connecting_subgraph(g, sources, targets):\n",
    "    \"\"\"Finds the subgraph connecting source nodes to target nodes.\"\"\"\n",
    "\n",
    "    connecting_nodes = set()\n",
    "    for source in sources:\n",
    "        for target in targets:\n",
    "            if nx.has_path(g, source, target):\n",
    "                connecting_nodes.update(nx.shortest_path(G, source, target))\n",
    "\n",
    "    return g.subgraph(connecting_nodes)\n",
    "\n",
    "\n",
    "def draw(graph, path=None):\n",
    "    svg = nx.nx_agraph.to_agraph(graph).draw(path=path, prog='dot', format='svg')\n",
    "    display(SVG(svg))\n",
    "img = 0\n",
    "for groups in find_decomposition(G).values():\n",
    "    img+=1\n",
    "    draw(find_connecting_subgraph(G, groups, [\"y\"]), path=f\"subgraph_{img}.svg\")"
   ],
   "metadata": {
    "collapsed": false
   },
   "outputs": []
  },
  {
   "cell_type": "code",
   "execution_count": 30,
   "source": [
    "for subgraph in utils.create_d_separable_subgraphs(G, all_params(G), set(all_objectives(G))):\n",
    "    utils.draw(G.subgraph(subgraph))\n"
   ],
   "metadata": {
    "collapsed": false
   },
   "outputs": []
  },
  {
   "cell_type": "code",
   "execution_count": 245,
   "source": [
    "draw(G.subgraph(['x1', 'x2', 'z3', 'z1', 'y']))\n",
    "\n",
    "draw(G.subgraph(['x3', 'x4', 'x5', 'z2', 'y']))"
   ],
   "metadata": {
    "collapsed": false
   },
   "outputs": []
  },
  {
   "cell_type": "markdown",
   "source": [
    "\n",
    "* Disregard any intermediate that has no path to Y\n",
    "* Connect any parameter node to objectives if they are not connected to any intermediate\n",
    "* Create a sub-graph of all parameters that are direct parents of y, while conditioning on intermediates.\n",
    "* Then generate sub-graphs of all intermediates parents of y recursively\n",
    "\n",
    "\n",
    "Discussion:\n",
    "A reader may wonder why do we need d-separation as a concept and not simply perform recursive path lookup through the graph as was done in other works \\cite{boat}.\n",
    "Given the example in the figure, x1 and x2 may appear independent given z1, however, this is not correct, they remain d-connected due to the influence of a \"collider\" \\cite{pearl}.\n",
    "While blocking z1 fixes it value, its influence on x1 and x2 remains, since to achieve the fixed z1 value, you need to set x2 and x1 and if you set x1 you influence z3.\n",
    "without d-separation important correlations like these go unnoticed and create incorrect optimization landscape.\n",
    "\n",
    "\n",
    "\n",
    "\n",
    "Sampling:\n",
    "* If parameter is direct parent of Y: simply draw random samples from the parameter - rather than using its predicted distribution\n",
    "\n",
    "\n"
   ],
   "metadata": {
    "collapsed": false
   }
  },
  {
   "cell_type": "markdown",
   "source": [
    "\n",
    "\n",
    "\n"
   ],
   "metadata": {
    "collapsed": false
   }
  }
 ],
 "metadata": {
  "kernelspec": {
   "display_name": "Python 3",
   "language": "python",
   "name": "python3"
  },
  "language_info": {
   "codemirror_mode": {
    "name": "ipython",
    "version": 2
   },
   "file_extension": ".py",
   "mimetype": "text/x-python",
   "name": "python",
   "nbconvert_exporter": "python",
   "pygments_lexer": "ipython2",
   "version": "2.7.6"
  }
 },
 "nbformat": 4,
 "nbformat_minor": 0
}
