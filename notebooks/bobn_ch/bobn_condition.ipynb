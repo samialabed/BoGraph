{
 "cells": [
  {
   "cell_type": "code",
   "execution_count": 1,
   "id": "initial_id",
   "metadata": {
    "collapsed": true,
    "ExecuteTime": {
     "end_time": "2024-01-04T16:09:52.384984Z",
     "start_time": "2024-01-04T16:09:52.029042Z"
    }
   },
   "outputs": [],
   "source": [
    "%matplotlib inline\n",
    "%load_ext autoreload\n",
    "%autoreload 2"
   ]
  },
  {
   "cell_type": "code",
   "outputs": [
    {
     "name": "stderr",
     "output_type": "stream",
     "text": [
      "/home/salabed/anaconda3/envs/rocksdb/lib/python3.8/site-packages/torch/cuda/__init__.py:88: UserWarning: CUDA initialization: CUDA unknown error - this may be due to an incorrectly set up environment, e.g. changing env variable CUDA_VISIBLE_DEVICES after program start. Setting the available devices to be zero. (Triggered internally at ../c10/cuda/CUDAFunctions.cpp:109.)\n",
      "  return torch._C._cuda_getDeviceCount() > 0\n"
     ]
    },
    {
     "data": {
      "text/plain": "<IPython.core.display.SVG object>",
      "image/svg+xml": "<svg xmlns=\"http://www.w3.org/2000/svg\" xmlns:xlink=\"http://www.w3.org/1999/xlink\" width=\"475pt\" height=\"188pt\" viewBox=\"0.00 0.00 475.29 188.00\">\n<g id=\"graph0\" class=\"graph\" transform=\"scale(1 1) rotate(0) translate(4 184)\">\n<polygon fill=\"#ffffff\" stroke=\"transparent\" points=\"-4,4 -4,-184 471.293,-184 471.293,4 -4,4\"/>\n<!-- x1 -->\n<g id=\"node1\" class=\"node\">\n<title>x1</title>\n<ellipse fill=\"none\" stroke=\"#000000\" cx=\"39.6465\" cy=\"-162\" rx=\"27\" ry=\"18\"/>\n<text text-anchor=\"middle\" x=\"39.6465\" y=\"-158.3\" font-family=\"Times,serif\" font-size=\"14.00\" fill=\"#000000\">x1</text>\n</g>\n<!-- mid(x1) -->\n<g id=\"node2\" class=\"node\">\n<title>mid(x1)</title>\n<ellipse fill=\"none\" stroke=\"#000000\" cx=\"39.6465\" cy=\"-90\" rx=\"39.7935\" ry=\"18\"/>\n<text text-anchor=\"middle\" x=\"39.6465\" y=\"-86.3\" font-family=\"Times,serif\" font-size=\"14.00\" fill=\"#000000\">mid(x1)</text>\n</g>\n<!-- x1&#45;&gt;mid(x1) -->\n<g id=\"edge1\" class=\"edge\">\n<title>x1-&gt;mid(x1)</title>\n<path fill=\"none\" stroke=\"#000000\" d=\"M39.6465,-143.8314C39.6465,-136.131 39.6465,-126.9743 39.6465,-118.4166\"/>\n<polygon fill=\"#000000\" stroke=\"#000000\" points=\"43.1466,-118.4132 39.6465,-108.4133 36.1466,-118.4133 43.1466,-118.4132\"/>\n</g>\n<!-- y -->\n<g id=\"node3\" class=\"node\">\n<title>y</title>\n<ellipse fill=\"none\" stroke=\"#000000\" cx=\"233.6465\" cy=\"-18\" rx=\"27\" ry=\"18\"/>\n<text text-anchor=\"middle\" x=\"233.6465\" y=\"-14.3\" font-family=\"Times,serif\" font-size=\"14.00\" fill=\"#000000\">y</text>\n</g>\n<!-- mid(x1)&#45;&gt;y -->\n<g id=\"edge2\" class=\"edge\">\n<title>mid(x1)-&gt;y</title>\n<path fill=\"none\" stroke=\"#000000\" d=\"M70.3665,-78.4565C76.1075,-76.3059 82.0584,-74.0812 87.6465,-72 126.328,-57.5939 170.8226,-41.1562 200.425,-30.239\"/>\n<polygon fill=\"#000000\" stroke=\"#000000\" points=\"201.6914,-33.5024 209.8632,-26.7591 199.2698,-26.9346 201.6914,-33.5024\"/>\n</g>\n<!-- x2 -->\n<g id=\"node4\" class=\"node\">\n<title>x2</title>\n<ellipse fill=\"none\" stroke=\"#000000\" cx=\"136.6465\" cy=\"-162\" rx=\"27\" ry=\"18\"/>\n<text text-anchor=\"middle\" x=\"136.6465\" y=\"-158.3\" font-family=\"Times,serif\" font-size=\"14.00\" fill=\"#000000\">x2</text>\n</g>\n<!-- mid(x2) -->\n<g id=\"node5\" class=\"node\">\n<title>mid(x2)</title>\n<ellipse fill=\"none\" stroke=\"#000000\" cx=\"136.6465\" cy=\"-90\" rx=\"39.7935\" ry=\"18\"/>\n<text text-anchor=\"middle\" x=\"136.6465\" y=\"-86.3\" font-family=\"Times,serif\" font-size=\"14.00\" fill=\"#000000\">mid(x2)</text>\n</g>\n<!-- x2&#45;&gt;mid(x2) -->\n<g id=\"edge3\" class=\"edge\">\n<title>x2-&gt;mid(x2)</title>\n<path fill=\"none\" stroke=\"#000000\" d=\"M136.6465,-143.8314C136.6465,-136.131 136.6465,-126.9743 136.6465,-118.4166\"/>\n<polygon fill=\"#000000\" stroke=\"#000000\" points=\"140.1466,-118.4132 136.6465,-108.4133 133.1466,-118.4133 140.1466,-118.4132\"/>\n</g>\n<!-- mid(x2)&#45;&gt;y -->\n<g id=\"edge4\" class=\"edge\">\n<title>mid(x2)-&gt;y</title>\n<path fill=\"none\" stroke=\"#000000\" d=\"M157.694,-74.3771C172.2682,-63.5591 191.7738,-49.0808 207.3686,-37.5052\"/>\n<polygon fill=\"#000000\" stroke=\"#000000\" points=\"209.6302,-40.1853 215.5739,-31.4147 205.4581,-34.5645 209.6302,-40.1853\"/>\n</g>\n<!-- x3 -->\n<g id=\"node6\" class=\"node\">\n<title>x3</title>\n<ellipse fill=\"none\" stroke=\"#000000\" cx=\"233.6465\" cy=\"-162\" rx=\"27\" ry=\"18\"/>\n<text text-anchor=\"middle\" x=\"233.6465\" y=\"-158.3\" font-family=\"Times,serif\" font-size=\"14.00\" fill=\"#000000\">x3</text>\n</g>\n<!-- mid(x3) -->\n<g id=\"node7\" class=\"node\">\n<title>mid(x3)</title>\n<ellipse fill=\"none\" stroke=\"#000000\" cx=\"233.6465\" cy=\"-90\" rx=\"39.7935\" ry=\"18\"/>\n<text text-anchor=\"middle\" x=\"233.6465\" y=\"-86.3\" font-family=\"Times,serif\" font-size=\"14.00\" fill=\"#000000\">mid(x3)</text>\n</g>\n<!-- x3&#45;&gt;mid(x3) -->\n<g id=\"edge5\" class=\"edge\">\n<title>x3-&gt;mid(x3)</title>\n<path fill=\"none\" stroke=\"#000000\" d=\"M233.6465,-143.8314C233.6465,-136.131 233.6465,-126.9743 233.6465,-118.4166\"/>\n<polygon fill=\"#000000\" stroke=\"#000000\" points=\"237.1466,-118.4132 233.6465,-108.4133 230.1466,-118.4133 237.1466,-118.4132\"/>\n</g>\n<!-- mid(x3)&#45;&gt;y -->\n<g id=\"edge6\" class=\"edge\">\n<title>mid(x3)-&gt;y</title>\n<path fill=\"none\" stroke=\"#000000\" d=\"M233.6465,-71.8314C233.6465,-64.131 233.6465,-54.9743 233.6465,-46.4166\"/>\n<polygon fill=\"#000000\" stroke=\"#000000\" points=\"237.1466,-46.4132 233.6465,-36.4133 230.1466,-46.4133 237.1466,-46.4132\"/>\n</g>\n<!-- x4 -->\n<g id=\"node8\" class=\"node\">\n<title>x4</title>\n<ellipse fill=\"none\" stroke=\"#000000\" cx=\"330.6465\" cy=\"-162\" rx=\"27\" ry=\"18\"/>\n<text text-anchor=\"middle\" x=\"330.6465\" y=\"-158.3\" font-family=\"Times,serif\" font-size=\"14.00\" fill=\"#000000\">x4</text>\n</g>\n<!-- mid(x4) -->\n<g id=\"node9\" class=\"node\">\n<title>mid(x4)</title>\n<ellipse fill=\"none\" stroke=\"#000000\" cx=\"330.6465\" cy=\"-90\" rx=\"39.7935\" ry=\"18\"/>\n<text text-anchor=\"middle\" x=\"330.6465\" y=\"-86.3\" font-family=\"Times,serif\" font-size=\"14.00\" fill=\"#000000\">mid(x4)</text>\n</g>\n<!-- x4&#45;&gt;mid(x4) -->\n<g id=\"edge7\" class=\"edge\">\n<title>x4-&gt;mid(x4)</title>\n<path fill=\"none\" stroke=\"#000000\" d=\"M330.6465,-143.8314C330.6465,-136.131 330.6465,-126.9743 330.6465,-118.4166\"/>\n<polygon fill=\"#000000\" stroke=\"#000000\" points=\"334.1466,-118.4132 330.6465,-108.4133 327.1466,-118.4133 334.1466,-118.4132\"/>\n</g>\n<!-- mid(x4)&#45;&gt;y -->\n<g id=\"edge8\" class=\"edge\">\n<title>mid(x4)-&gt;y</title>\n<path fill=\"none\" stroke=\"#000000\" d=\"M309.5989,-74.3771C295.0247,-63.5591 275.5192,-49.0808 259.9244,-37.5052\"/>\n<polygon fill=\"#000000\" stroke=\"#000000\" points=\"261.8349,-34.5645 251.7191,-31.4147 257.6627,-40.1853 261.8349,-34.5645\"/>\n</g>\n<!-- x5 -->\n<g id=\"node10\" class=\"node\">\n<title>x5</title>\n<ellipse fill=\"none\" stroke=\"#000000\" cx=\"427.6465\" cy=\"-162\" rx=\"27\" ry=\"18\"/>\n<text text-anchor=\"middle\" x=\"427.6465\" y=\"-158.3\" font-family=\"Times,serif\" font-size=\"14.00\" fill=\"#000000\">x5</text>\n</g>\n<!-- mid(x5) -->\n<g id=\"node11\" class=\"node\">\n<title>mid(x5)</title>\n<ellipse fill=\"none\" stroke=\"#000000\" cx=\"427.6465\" cy=\"-90\" rx=\"39.7935\" ry=\"18\"/>\n<text text-anchor=\"middle\" x=\"427.6465\" y=\"-86.3\" font-family=\"Times,serif\" font-size=\"14.00\" fill=\"#000000\">mid(x5)</text>\n</g>\n<!-- x5&#45;&gt;mid(x5) -->\n<g id=\"edge9\" class=\"edge\">\n<title>x5-&gt;mid(x5)</title>\n<path fill=\"none\" stroke=\"#000000\" d=\"M427.6465,-143.8314C427.6465,-136.131 427.6465,-126.9743 427.6465,-118.4166\"/>\n<polygon fill=\"#000000\" stroke=\"#000000\" points=\"431.1466,-118.4132 427.6465,-108.4133 424.1466,-118.4133 431.1466,-118.4132\"/>\n</g>\n<!-- mid(x5)&#45;&gt;y -->\n<g id=\"edge10\" class=\"edge\">\n<title>mid(x5)-&gt;y</title>\n<path fill=\"none\" stroke=\"#000000\" d=\"M396.9265,-78.4565C391.1854,-76.3059 385.2345,-74.0812 379.6465,-72 340.965,-57.5939 296.4704,-41.1562 266.868,-30.239\"/>\n<polygon fill=\"#000000\" stroke=\"#000000\" points=\"268.0231,-26.9346 257.4297,-26.7591 265.6016,-33.5024 268.0231,-26.9346\"/>\n</g>\n</g>\n</svg>"
     },
     "metadata": {},
     "output_type": "display_data"
    }
   ],
   "source": [
    "import dataclasses\n",
    "\n",
    "import botorch\n",
    "import networkx as nx\n",
    "import torch\n",
    "import math\n",
    "import sysgym.params.boxes as boxes\n",
    "import utils\n",
    "from sysgym.params import ParamsSpace\n",
    "\n",
    "tkwargs = {\n",
    "    \"dtype\": torch.double,\n",
    "    \"device\": torch.device(\"cuda\" if torch.cuda.is_available() else \"cpu\"),\n",
    "}\n",
    "\n",
    "\n",
    "@dataclasses.dataclass(init=False, frozen=True)\n",
    "class MichalewiczSpace(ParamsSpace):\n",
    "    x1: boxes.ContinuousBox = boxes.ContinuousBox(0.0, math.pi)\n",
    "    x2: boxes.ContinuousBox = boxes.ContinuousBox(0.0, math.pi)\n",
    "    x3: boxes.ContinuousBox = boxes.ContinuousBox(0.0, math.pi)\n",
    "    x4: boxes.ContinuousBox = boxes.ContinuousBox(0.0, math.pi)\n",
    "    x5: boxes.ContinuousBox = boxes.ContinuousBox(0.0, math.pi)\n",
    "\n",
    "\n",
    "problem = botorch.test_functions.Michalewicz(negate=True, dim=5, noise_std=0.0001)\n",
    "space = MichalewiczSpace()\n",
    "dag = nx.DiGraph()\n",
    "dag.add_node(\"y\")\n",
    "for i in space:\n",
    "    dag.add_node(i)\n",
    "    # One term\n",
    "    # dag.add_edges_from([(i, f\"z({i})\"), (f\"z({i})\", \"y\")])\n",
    "    # Both terms:\n",
    "    # dag.add_edges_from([(i, f\"f1({i})\"), (i, f\"f2({i})\"),\n",
    "    #                     (f\"f1({i})\", \"y\"), (f\"f2({i})\", \"y\")\n",
    "    #                     ])\n",
    "    dag.add_edge(i, f'mid({i})')\n",
    "    dag.add_edge(f'mid({i})', 'y')\n",
    "\n",
    "utils.draw(dag)\n",
    "\n"
   ],
   "metadata": {
    "collapsed": false,
    "ExecuteTime": {
     "end_time": "2024-01-04T16:09:53.286874Z",
     "start_time": "2024-01-04T16:09:52.999350Z"
    }
   },
   "id": "40ec824f31d13a08",
   "execution_count": 2
  },
  {
   "cell_type": "code",
   "execution_count": 3,
   "outputs": [],
   "source": [
    "from typing import Mapping\n",
    "import bench_util\n",
    "\n",
    "\n",
    "def eval_structure(x: torch.Tensor) -> torch.Tensor:\n",
    "    m = 10\n",
    "    return torch.sin(x) * torch.sin(problem.i * x ** 2 / math.pi) ** (2 * m)\n"
   ],
   "metadata": {
    "collapsed": false,
    "ExecuteTime": {
     "end_time": "2024-01-04T16:09:54.127588Z",
     "start_time": "2024-01-04T16:09:54.097766Z"
    }
   },
   "id": "de1afe5ff795bf89"
  },
  {
   "cell_type": "code",
   "outputs": [
    {
     "name": "stdout",
     "output_type": "stream",
     "text": [
      "group={'x1', 'mid(x1)'}\n",
      "group={'x3', 'mid(x3)'}\n",
      "group={'mid(x5)', 'x5'}\n",
      "group={'x2', 'mid(x2)'}\n",
      "group={'mid(x4)', 'x4'}\n",
      "Built independent subgraph: {'x1', 'y', 'mid(x1)'}\n",
      "Built independent subgraph: {'y', 'x3', 'mid(x3)'}\n",
      "Built independent subgraph: {'mid(x5)', 'x5', 'y'}\n",
      "Built independent subgraph: {'x2', 'mid(x2)', 'y'}\n",
      "Built independent subgraph: {'mid(x4)', 'y', 'x4'}\n"
     ]
    },
    {
     "data": {
      "text/plain": "{'y': [0.6699290871620178, 1.2820683717727661, 0.8331722617149353],\n 'x1': [0.6822190880775452, 2.0174098014831543, 2.3939318656921387],\n 'mid(x1)': [1.5200494275039826e-17, 0.4185870587825775, 0.3552526533603668],\n 'x2': [1.4683748483657837, 2.0143024921417236, 0.02082197181880474],\n 'mid(x2)': [0.6699552536010742, 2.759286189757404e-06, 0.0],\n 'x3': [2.4918103218078613, 0.2377348393201828, 2.0730514526367188],\n 'mid(x3)': [3.7811323516656614e-10,\n  1.0254586255498638e-26,\n  0.01675550267100334],\n 'x4': [0.16523174941539764, 1.82975172996521, 1.019849181175232],\n 'mid(x4)': [1.0871975158382377e-30, 0.11916247010231018, 0.4611370265483856],\n 'x5': [1.9938451051712036, 1.0303277969360352, 0.6083271503448486],\n 'mid(x5)': [6.373565187360719e-28, 0.7444364428520203, 4.47501315647969e-06]}"
     },
     "execution_count": 27,
     "metadata": {},
     "output_type": "execute_result"
    }
   ],
   "source": [
    "from notebooks.bobn_ch import bobn\n",
    "from autorocks.viz import plots_setup\n",
    "\n",
    "bobn = bobn.BoBn(dag,\n",
    "                 params=space,\n",
    "                 objectives={'y'})\n",
    "\n",
    "initial_train_x, initial_train_y = plots_setup.generate_data(3, problem)\n",
    "\n",
    "initial_structure = eval_structure(initial_train_x)\n",
    "\n",
    "initial_data = {\n",
    "    'y': initial_train_y.tolist()\n",
    "}\n",
    "for idx, i in enumerate(space):\n",
    "    initial_data[i] = initial_train_x[:, idx].tolist()\n",
    "    initial_data[f\"mid({i})\"] = initial_structure[:, idx].tolist()\n",
    "\n",
    "observations = {}\n",
    "observations.update(initial_data)\n",
    "best_f = float(initial_train_y.max())\n",
    "\n",
    "\n",
    "initial_data"
   ],
   "metadata": {
    "collapsed": false,
    "ExecuteTime": {
     "end_time": "2024-01-04T16:09:55.652288Z",
     "start_time": "2024-01-04T16:09:55.611787Z"
    }
   },
   "id": "e759e6326a3578ab",
   "execution_count": 27
  },
  {
   "cell_type": "code",
   "outputs": [],
   "source": [
    "# BO loop\n",
    "results = []\n",
    "\n",
    "hypothesis_values = [\n",
    "    {\"mid(x2)\": 0, \"mid(x5)\": 0},\n",
    "    {\"mid(x2)\": -1, \"mid(x5)\": 0},\n",
    "    {\"mid(x2)\": 0, \"mid(x5)\": 2},\n",
    "    {\"mid(x2)\": 2, \"mid(x5)\": 2}]\n",
    "\n",
    "\n",
    "for hypothesis_value in hypothesis_values:\n",
    "    next_candidate, acqf_values = bobn.opt(observations,\n",
    "                                           conditioning_values_override=hypothesis_value,\n",
    "                                           return_acqf_values=True)\n",
    "    next_candidate_tensor = []\n",
    "    for p in space:\n",
    "        next_candidate_tensor.append(next_candidate[p])\n",
    "    next_candidate_tensor = torch.tensor(next_candidate_tensor)\n",
    "    y = float(problem(next_candidate_tensor))\n",
    "    vals = {}\n",
    "    for k, v in acqf_values.items():\n",
    "        vals[k] = float(v)\n",
    "    results.append(\n",
    "        {\"hypothesis\": str(hypothesis_value), \"y\": y, **vals}\n",
    "    )"
   ],
   "metadata": {
    "collapsed": false,
    "ExecuteTime": {
     "end_time": "2024-01-04T16:05:12.847198Z",
     "start_time": "2024-01-04T16:05:09.551381Z"
    }
   },
   "id": "a86277c56292bd90",
   "execution_count": 52
  },
  {
   "cell_type": "code",
   "execution_count": 53,
   "outputs": [
    {
     "data": {
      "text/plain": "   index                     hypothesis         y  x1,mid(x1),y  x3,mid(x3),y  \\\n0      0   {'mid(x2)': 0, 'mid(x5)': 0}  1.361655      0.087106      0.099801   \n1      1  {'mid(x2)': -1, 'mid(x5)': 0}  0.525008      0.282665      0.388694   \n2      2   {'mid(x2)': 0, 'mid(x5)': 2}  1.696909      0.000532      0.252132   \n3      3   {'mid(x2)': 2, 'mid(x5)': 2}  1.002114      0.132945      0.157681   \n\n   x4,mid(x4),y  \n0      0.031008  \n1      0.206872  \n2      0.338801  \n3      0.096379  ",
      "text/html": "<div>\n<style scoped>\n    .dataframe tbody tr th:only-of-type {\n        vertical-align: middle;\n    }\n\n    .dataframe tbody tr th {\n        vertical-align: top;\n    }\n\n    .dataframe thead th {\n        text-align: right;\n    }\n</style>\n<table border=\"1\" class=\"dataframe\">\n  <thead>\n    <tr style=\"text-align: right;\">\n      <th></th>\n      <th>index</th>\n      <th>hypothesis</th>\n      <th>y</th>\n      <th>x1,mid(x1),y</th>\n      <th>x3,mid(x3),y</th>\n      <th>x4,mid(x4),y</th>\n    </tr>\n  </thead>\n  <tbody>\n    <tr>\n      <th>0</th>\n      <td>0</td>\n      <td>{'mid(x2)': 0, 'mid(x5)': 0}</td>\n      <td>1.361655</td>\n      <td>0.087106</td>\n      <td>0.099801</td>\n      <td>0.031008</td>\n    </tr>\n    <tr>\n      <th>1</th>\n      <td>1</td>\n      <td>{'mid(x2)': -1, 'mid(x5)': 0}</td>\n      <td>0.525008</td>\n      <td>0.282665</td>\n      <td>0.388694</td>\n      <td>0.206872</td>\n    </tr>\n    <tr>\n      <th>2</th>\n      <td>2</td>\n      <td>{'mid(x2)': 0, 'mid(x5)': 2}</td>\n      <td>1.696909</td>\n      <td>0.000532</td>\n      <td>0.252132</td>\n      <td>0.338801</td>\n    </tr>\n    <tr>\n      <th>3</th>\n      <td>3</td>\n      <td>{'mid(x2)': 2, 'mid(x5)': 2}</td>\n      <td>1.002114</td>\n      <td>0.132945</td>\n      <td>0.157681</td>\n      <td>0.096379</td>\n    </tr>\n  </tbody>\n</table>\n</div>"
     },
     "execution_count": 53,
     "metadata": {},
     "output_type": "execute_result"
    }
   ],
   "source": [
    "import pandas as pd\n",
    "\n",
    "df = pd.DataFrame(results).drop(columns={\"x2,mid(x2),y\",  \"x5,mid(x5),y\"}).reset_index()\n",
    "df"
   ],
   "metadata": {
    "collapsed": false
   },
   "id": "f11c31092b565b45"
  },
  {
   "cell_type": "code",
   "execution_count": 54,
   "outputs": [
    {
     "data": {
      "text/plain": "    index                     hypothesis         y      variable     value\n0       0   {'mid(x2)': 0, 'mid(x5)': 0}  1.361655  x1,mid(x1),y  0.087106\n1       1  {'mid(x2)': -1, 'mid(x5)': 0}  0.525008  x1,mid(x1),y  0.282665\n2       2   {'mid(x2)': 0, 'mid(x5)': 2}  1.696909  x1,mid(x1),y  0.000532\n3       3   {'mid(x2)': 2, 'mid(x5)': 2}  1.002114  x1,mid(x1),y  0.132945\n4       0   {'mid(x2)': 0, 'mid(x5)': 0}  1.361655  x3,mid(x3),y  0.099801\n5       1  {'mid(x2)': -1, 'mid(x5)': 0}  0.525008  x3,mid(x3),y  0.388694\n6       2   {'mid(x2)': 0, 'mid(x5)': 2}  1.696909  x3,mid(x3),y  0.252132\n7       3   {'mid(x2)': 2, 'mid(x5)': 2}  1.002114  x3,mid(x3),y  0.157681\n8       0   {'mid(x2)': 0, 'mid(x5)': 0}  1.361655  x4,mid(x4),y  0.031008\n9       1  {'mid(x2)': -1, 'mid(x5)': 0}  0.525008  x4,mid(x4),y  0.206872\n10      2   {'mid(x2)': 0, 'mid(x5)': 2}  1.696909  x4,mid(x4),y  0.338801\n11      3   {'mid(x2)': 2, 'mid(x5)': 2}  1.002114  x4,mid(x4),y  0.096379",
      "text/html": "<div>\n<style scoped>\n    .dataframe tbody tr th:only-of-type {\n        vertical-align: middle;\n    }\n\n    .dataframe tbody tr th {\n        vertical-align: top;\n    }\n\n    .dataframe thead th {\n        text-align: right;\n    }\n</style>\n<table border=\"1\" class=\"dataframe\">\n  <thead>\n    <tr style=\"text-align: right;\">\n      <th></th>\n      <th>index</th>\n      <th>hypothesis</th>\n      <th>y</th>\n      <th>variable</th>\n      <th>value</th>\n    </tr>\n  </thead>\n  <tbody>\n    <tr>\n      <th>0</th>\n      <td>0</td>\n      <td>{'mid(x2)': 0, 'mid(x5)': 0}</td>\n      <td>1.361655</td>\n      <td>x1,mid(x1),y</td>\n      <td>0.087106</td>\n    </tr>\n    <tr>\n      <th>1</th>\n      <td>1</td>\n      <td>{'mid(x2)': -1, 'mid(x5)': 0}</td>\n      <td>0.525008</td>\n      <td>x1,mid(x1),y</td>\n      <td>0.282665</td>\n    </tr>\n    <tr>\n      <th>2</th>\n      <td>2</td>\n      <td>{'mid(x2)': 0, 'mid(x5)': 2}</td>\n      <td>1.696909</td>\n      <td>x1,mid(x1),y</td>\n      <td>0.000532</td>\n    </tr>\n    <tr>\n      <th>3</th>\n      <td>3</td>\n      <td>{'mid(x2)': 2, 'mid(x5)': 2}</td>\n      <td>1.002114</td>\n      <td>x1,mid(x1),y</td>\n      <td>0.132945</td>\n    </tr>\n    <tr>\n      <th>4</th>\n      <td>0</td>\n      <td>{'mid(x2)': 0, 'mid(x5)': 0}</td>\n      <td>1.361655</td>\n      <td>x3,mid(x3),y</td>\n      <td>0.099801</td>\n    </tr>\n    <tr>\n      <th>5</th>\n      <td>1</td>\n      <td>{'mid(x2)': -1, 'mid(x5)': 0}</td>\n      <td>0.525008</td>\n      <td>x3,mid(x3),y</td>\n      <td>0.388694</td>\n    </tr>\n    <tr>\n      <th>6</th>\n      <td>2</td>\n      <td>{'mid(x2)': 0, 'mid(x5)': 2}</td>\n      <td>1.696909</td>\n      <td>x3,mid(x3),y</td>\n      <td>0.252132</td>\n    </tr>\n    <tr>\n      <th>7</th>\n      <td>3</td>\n      <td>{'mid(x2)': 2, 'mid(x5)': 2}</td>\n      <td>1.002114</td>\n      <td>x3,mid(x3),y</td>\n      <td>0.157681</td>\n    </tr>\n    <tr>\n      <th>8</th>\n      <td>0</td>\n      <td>{'mid(x2)': 0, 'mid(x5)': 0}</td>\n      <td>1.361655</td>\n      <td>x4,mid(x4),y</td>\n      <td>0.031008</td>\n    </tr>\n    <tr>\n      <th>9</th>\n      <td>1</td>\n      <td>{'mid(x2)': -1, 'mid(x5)': 0}</td>\n      <td>0.525008</td>\n      <td>x4,mid(x4),y</td>\n      <td>0.206872</td>\n    </tr>\n    <tr>\n      <th>10</th>\n      <td>2</td>\n      <td>{'mid(x2)': 0, 'mid(x5)': 2}</td>\n      <td>1.696909</td>\n      <td>x4,mid(x4),y</td>\n      <td>0.338801</td>\n    </tr>\n    <tr>\n      <th>11</th>\n      <td>3</td>\n      <td>{'mid(x2)': 2, 'mid(x5)': 2}</td>\n      <td>1.002114</td>\n      <td>x4,mid(x4),y</td>\n      <td>0.096379</td>\n    </tr>\n  </tbody>\n</table>\n</div>"
     },
     "execution_count": 54,
     "metadata": {},
     "output_type": "execute_result"
    }
   ],
   "source": [
    "melted_df = df.melt(id_vars=['index', 'hypothesis', 'y'])\n",
    "melted_df"
   ],
   "metadata": {
    "collapsed": false
   },
   "id": "a68a4761e749e280"
  },
  {
   "cell_type": "code",
   "execution_count": 34,
   "outputs": [],
   "source": [
    "import seaborn as sns\n",
    "import matplotlib.pyplot as plt\n",
    "\n",
    "plt.style.use(\"ggplot\")\n",
    "sns.set_theme(style=\"ticks\", rc={\"axes.spines.right\": False, \"axes.spines.top\": False})\n",
    "sns.set_context(\"paper\")  # , font_scale=1.5, rc={\"lines.linewidth\": 1.5})\n",
    "plt.rcParams[\"svg.fonttype\"] = \"none\"\n",
    "plt.rcParams[\"font.family\"] = \"Arial\"\n",
    "plt.rc(\"text\", usetex=False)\n",
    "plt.rc(\"xtick\", labelsize=\"small\")\n",
    "plt.rc(\"ytick\", labelsize=\"small\")\n",
    "plt.rc(\"axes\", labelsize=\"medium\")\n",
    "plt.rc(\"pdf\", use14corefonts=True)"
   ],
   "metadata": {
    "collapsed": false
   },
   "id": "9db443707e4ee49b"
  },
  {
   "cell_type": "code",
   "execution_count": 88,
   "outputs": [
    {
     "data": {
      "text/plain": "<Figure size 900x300 with 2 Axes>",
      "image/png": "[encoded data removed]"
     },
     "metadata": {},
     "output_type": "display_data"
    }
   ],
   "source": [
    "fig, ax = plt.subplots(figsize=(9, 3))\n",
    "\n",
    "ax = sns.barplot(data=melted_df, x=\"hypothesis\", y=\"value\", hue=\"variable\", ax=ax)\n",
    "# ax.axhline(problem.optimal_value, ls='dashdot', label=\"Optimal value\", color='red')\n",
    "ax.set(xlabel=\"Hypothesis\", ylabel=\"Acquisition function value\", ylim=(0,0.6))\n",
    "ax.legend(title=\"Subgraph\", loc=\"upper right\")\n",
    "ax2 = plt.twinx()\n",
    "sns.scatterplot(data=melted_df, x=\"index\", y=\"y\", color=\"red\", style=True, markers=\"X\", ax=ax2, legend=False)\n",
    "ax2.set(ylabel=\"f(x)\")\n",
    "\n",
    "output_location = \"/home/salabed/workspace/latex/thesis/phd_dissertation/Chapters/BoBn/Figures\"\n",
    "output_format = \"svg\"\n",
    "fig.savefig(f\"{output_location}/acf_values.{output_format}\", bbox_inches=\"tight\",\n",
    "            format=f\"{output_format}\",\n",
    "            dpi=300)\n",
    "output_format = \"pdf\"\n",
    "fig.savefig(f\"{output_location}/acf_values.{output_format}\", bbox_inches=\"tight\",\n",
    "            format=f\"{output_format}\",\n",
    "            dpi=300)"
   ],
   "metadata": {
    "collapsed": false
   },
   "id": "81b45af544498cac"
  },
  {
   "cell_type": "markdown",
   "source": [],
   "metadata": {
    "collapsed": false
   },
   "id": "2d3ed0ce3e3971f4"
  },
  {
   "cell_type": "code",
   "execution_count": null,
   "outputs": [],
   "source": [],
   "metadata": {
    "collapsed": false
   },
   "id": "9ef0d0a407f94b83"
  }
 ],
 "metadata": {
  "kernelspec": {
   "display_name": "Python 3",
   "language": "python",
   "name": "python3"
  },
  "language_info": {
   "codemirror_mode": {
    "name": "ipython",
    "version": 2
   },
   "file_extension": ".py",
   "mimetype": "text/x-python",
   "name": "python",
   "nbconvert_exporter": "python",
   "pygments_lexer": "ipython2",
   "version": "2.7.6"
  }
 },
 "nbformat": 4,
 "nbformat_minor": 5
}
