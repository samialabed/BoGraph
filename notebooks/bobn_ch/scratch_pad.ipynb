{
 "cells": [
  {
   "cell_type": "code",
   "execution_count": 18,
   "metadata": {
    "collapsed": true
   },
   "source": [
    "import numpy as np\n",
    "import torch\n",
    "import botorch\n",
    "\n"
   ],
   "outputs": []
  },
  {
   "cell_type": "code",
   "execution_count": 24,
   "source": [
    "\n",
    "problem = botorch.test_functions.Ackley(dim=2)\n",
    "\n",
    "test = botorch.utils.draw_sobol_samples(\n",
    "            bounds=problem.bounds, n=3, q=1).squeeze().tolist()"
   ],
   "metadata": {
    "collapsed": false
   },
   "outputs": []
  },
  {
   "cell_type": "code",
   "execution_count": 34,
   "source": [
    "np.array(test[0]).tolist()"
   ],
   "metadata": {
    "collapsed": false
   },
   "outputs": []
  },
  {
   "cell_type": "code",
   "execution_count": 39,
   "source": [
    "class Holder:\n",
    "    def __init__(self, ref_to_dict):\n",
    "        self._ref_to_dict = ref_to_dict\n",
    "\n",
    "    def print(self):\n",
    "        print(self._ref_to_dict)\n",
    "\n",
    "class Main:\n",
    "    def __init__(self):\n",
    "        self._m_dict = {}\n",
    "        self._several_holders = []\n",
    "        for _ in range(5):\n",
    "            self._several_holders.append(Holder(self._m_dict))\n",
    "\n",
    "    def add(self, k, v):\n",
    "        self._m_dict[k] = v\n",
    "\n",
    "    def print(self):\n",
    "        print(\"Main: \", self._m_dict)\n",
    "        for i in range(5):\n",
    "            print(\"Holder i: \", i)\n",
    "            self._several_holders[i].print()\n",
    "\n",
    "    def delete(self, k):\n",
    "        del self._m_dict[k]\n",
    "        print(\"After deleting:\")\n",
    "        self.print()\n",
    "\n",
    "test = Main()\n",
    "test.add(\"hi\", \"bo\")\n",
    "test.add(\"red\", \"2\")\n",
    "test.add(\"hi\", \"ooobo\")\n",
    "\n",
    "test.print()\n",
    "\n",
    "test.delete(\"hi\")"
   ],
   "metadata": {
    "collapsed": false
   },
   "outputs": []
  },
  {
   "cell_type": "code",
   "execution_count": 56,
   "source": [
    "import networkx as nx\n",
    "from IPython.core.display import SVG, display\n",
    "\n",
    "def draw(graph, path = None):\n",
    "    svg = nx.nx_agraph.to_agraph(graph).draw(path = path, prog = 'dot', format = 'svg')\n",
    "    display(SVG(svg))\n",
    "\n",
    "dag = nx.DiGraph()\n",
    "\n",
    "dag.add_edges_from([('x1', 'z1'), ('x2', 'z1'), ('x2', 'z2'), ('z1', 'y'), ('z2', 'y')])\n",
    "sub = dag.subgraph(['x1', 'y', 'z1'])\n",
    "\n",
    "draw(sub)\n",
    "\n",
    "print(list(nx.topological_sort(dag)))\n",
    "print(list(nx.topological_sort(sub)))"
   ],
   "metadata": {
    "collapsed": false
   },
   "outputs": []
  },
  {
   "cell_type": "code",
   "execution_count": null,
   "source": [
    "@dataclasses.dataclass(init=False, frozen=True)\n",
    "class AckleySpace(ParamsSpace):\n",
    "    x1: boxes.ContinuousBox = boxes.ContinuousBox(-32.768, 32.768)\n",
    "    x2: boxes.ContinuousBox = boxes.ContinuousBox(-32.768, 32.768)\n",
    "    x3: boxes.ContinuousBox = boxes.ContinuousBox(-32.768, 32.768)\n",
    "    x4: boxes.ContinuousBox = boxes.ContinuousBox(-32.768, 32.768)\n",
    "    x5: boxes.ContinuousBox = boxes.ContinuousBox(-32.768, 32.768)\n",
    "    x6: boxes.ContinuousBox = boxes.ContinuousBox(-32.768, 32.768)\n",
    "\n",
    "\n",
    "\n",
    "def eval_structure(X: torch.Tensor) -> Mapping[str, torch.Tensor]:\n",
    "    part1 = torch.pow(X, 2)\n",
    "    part2 = torch.cos(problem.c * X)\n",
    "\n",
    "    return {\"part1\": part1, \"part2\": part2}\n",
    "problem = botorch.test_functions.Ackley(negate=True, dim=6, noise_std=0.001)\n",
    "space = AckleySpace()\n",
    "dag = nx.DiGraph()\n",
    "dag.add_node(\"y\")\n",
    "for i in space:\n",
    "    dag.add_node(i)\n",
    "    # One term\n",
    "    # dag.add_edges_from([(i, f\"z({i})\"), (f\"z({i})\", \"y\")])\n",
    "    # Both terms:\n",
    "    # dag.add_edges_from([(i, f\"f1({i})\"), (i, f\"f2({i})\"),\n",
    "    #                     (f\"f1({i})\", \"y\"), (f\"f2({i})\", \"y\")\n",
    "    #                     ])\n",
    "    dag.add_edge(i, 'y')"
   ],
   "metadata": {
    "collapsed": false
   },
   "outputs": []
  }
 ],
 "metadata": {
  "kernelspec": {
   "display_name": "Python 3",
   "language": "python",
   "name": "python3"
  },
  "language_info": {
   "codemirror_mode": {
    "name": "ipython",
    "version": 2
   },
   "file_extension": ".py",
   "mimetype": "text/x-python",
   "name": "python",
   "nbconvert_exporter": "python",
   "pygments_lexer": "ipython2",
   "version": "2.7.6"
  }
 },
 "nbformat": 4,
 "nbformat_minor": 0
}
