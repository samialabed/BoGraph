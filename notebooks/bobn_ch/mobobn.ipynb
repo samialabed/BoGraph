{
 "cells": [
  {
   "cell_type": "code",
   "id": "initial_id",
   "metadata": {
    "collapsed": true,
    "ExecuteTime": {
     "end_time": "2024-08-10T06:39:21.384230Z",
     "start_time": "2024-08-10T06:39:21.340576Z"
    }
   },
   "source": [
    "%matplotlib inline\n",
    "%load_ext autoreload\n",
    "%autoreload 2"
   ],
   "outputs": [],
   "execution_count": 1
  },
  {
   "metadata": {
    "ExecuteTime": {
     "end_time": "2024-08-10T07:13:16.929571Z",
     "start_time": "2024-08-10T07:13:16.716826Z"
    }
   },
   "cell_type": "code",
   "source": [
    "\n",
    "import matplotlib.pyplot as plt\n",
    "import networkx as nx\n",
    "import seaborn as sns\n",
    "from IPython.core.display import SVG, display\n",
    "\n",
    "output_location = \"/Users/salabed/workspace/latex_writings/thesis/phd_dissertation/Chapters/BoBn/Figures/mobobn/\"\n",
    "plt.style.use(\"ggplot\")\n",
    "sns.set_theme(style=\"ticks\", rc={\"axes.spines.right\": False, \"axes.spines.top\": False})\n",
    "sns.set_context(\"paper\")  # , font_scale=1.5, rc={\"lines.linewidth\": 1.5})\n",
    "plt.rcParams[\"svg.fonttype\"] = \"none\"\n",
    "plt.rcParams[\"font.family\"] = \"Arial\"\n",
    "plt.rc(\"text\", usetex=False)\n",
    "plt.rc(\"xtick\", labelsize=\"large\")\n",
    "plt.rc(\"ytick\", labelsize=\"large\")\n",
    "plt.rc(\"axes\", labelsize=\"large\")\n",
    "plt.rc(\"pdf\", use14corefonts=True)\n",
    "\n"
   ],
   "id": "e92f626840b8025e",
   "outputs": [],
   "execution_count": 3
  },
  {
   "metadata": {
    "ExecuteTime": {
     "end_time": "2024-08-10T23:53:22.338091Z",
     "start_time": "2024-08-10T23:53:22.087031Z"
    }
   },
   "cell_type": "code",
   "source": [
    "def draw(graph, path = None, better_label: bool = True):\n",
    "\n",
    "    if better_label:\n",
    "        for node in graph.nodes():\n",
    "            graph.nodes[node]['label'] = str(node).replace(\"_\", \" \").title().replace(\" \", \"\").replace(\"Macros\",\n",
    "                                                                                                      \"\").replace(\n",
    "                \"Micros\", \"\").replace(\"Iops\", \"IOPS\").replace(\".\", \"\").replace(\"Size\", \"Sz\").replace(\"Number\",\n",
    "                                                                                                     \"Num\").replace(\n",
    "                \"Level0\", \"L0\")\n",
    "\n",
    "    fmt = \"svg\"\n",
    "    if path is not None:\n",
    "        if path.endswith(\".svg\"):\n",
    "            fmt = \"svg\"\n",
    "        elif path.endswith(\".pdf\"):\n",
    "            fmt = \"pdf\"\n",
    "        else:\n",
    "            print(\"Unrecognized file extension\", path.split(\".\")[-1])\n",
    "    svg = nx.nx_agraph.to_agraph(graph).draw(path = path, prog = \"dot\", format = fmt, args = \"-Gsize=10\")\n",
    "    if path is None:\n",
    "        display(SVG(svg))\n",
    "        \n",
    "known_dag = nx.DiGraph()\n",
    "# Branin structure\n",
    "known_dag.add_edges_from([(\"x1\", \"t2\"), (\"x1\", \"t1_pow2\"), (\"x2\", \"t1_pow2\")])\n",
    "known_dag.add_edges_from([(\"x3\", \"branin\")])\n",
    "known_dag.add_edges_from([(\"t1_pow2\", \"branin\"), (\"t2\", \"branin\")])\n",
    "# Currin structure\n",
    "known_dag.add_edges_from([(\"x2c\", \"currin_factor\"), (\"x1c\", \"currin_denom\")])\n",
    "known_dag.add_edges_from([(\"currin_denom\", \"currin\"), (\"currin_factor\", \"currin\")])\n",
    "draw(known_dag)"
   ],
   "id": "5e661664214ad14d",
   "outputs": [
    {
     "data": {
      "text/plain": [
       "<IPython.core.display.SVG object>"
      ],
      "image/svg+xml": "<svg xmlns=\"http://www.w3.org/2000/svg\" xmlns:xlink=\"http://www.w3.org/1999/xlink\" width=\"510pt\" height=\"188pt\" viewBox=\"0.00 0.00 510.09 188.00\">\n<g id=\"graph0\" class=\"graph\" transform=\"scale(1 1) rotate(0) translate(4 184)\">\n<polygon fill=\"white\" stroke=\"transparent\" points=\"-4,4 -4,-184 506.09,-184 506.09,4 -4,4\"/>\n<!-- x1 -->\n<g id=\"node1\" class=\"node\">\n<title>x1</title>\n<ellipse fill=\"none\" stroke=\"black\" cx=\"35\" cy=\"-162\" rx=\"27\" ry=\"18\"/>\n<text text-anchor=\"middle\" x=\"35\" y=\"-158.3\" font-family=\"Times,serif\" font-size=\"14.00\">X1</text>\n</g>\n<!-- t2 -->\n<g id=\"node2\" class=\"node\">\n<title>t2</title>\n<ellipse fill=\"none\" stroke=\"black\" cx=\"27\" cy=\"-90\" rx=\"27\" ry=\"18\"/>\n<text text-anchor=\"middle\" x=\"27\" y=\"-86.3\" font-family=\"Times,serif\" font-size=\"14.00\">T2</text>\n</g>\n<!-- x1&#45;&gt;t2 -->\n<g id=\"edge1\" class=\"edge\">\n<title>x1-&gt;t2</title>\n<path fill=\"none\" stroke=\"black\" d=\"M33.02,-143.7C32.14,-135.98 31.08,-126.71 30.1,-118.11\"/>\n<polygon fill=\"black\" stroke=\"black\" points=\"33.57,-117.64 28.95,-108.1 26.61,-118.44 33.57,-117.64\"/>\n</g>\n<!-- t1_pow2 -->\n<g id=\"node3\" class=\"node\">\n<title>t1_pow2</title>\n<ellipse fill=\"none\" stroke=\"black\" cx=\"114\" cy=\"-90\" rx=\"41.69\" ry=\"18\"/>\n<text text-anchor=\"middle\" x=\"114\" y=\"-86.3\" font-family=\"Times,serif\" font-size=\"14.00\">T1Pow2</text>\n</g>\n<!-- x1&#45;&gt;t1_pow2 -->\n<g id=\"edge2\" class=\"edge\">\n<title>x1-&gt;t1_pow2</title>\n<path fill=\"none\" stroke=\"black\" d=\"M50.61,-147.17C61.56,-137.47 76.43,-124.29 89.01,-113.14\"/>\n<polygon fill=\"black\" stroke=\"black\" points=\"91.34,-115.76 96.5,-106.51 86.69,-110.52 91.34,-115.76\"/>\n</g>\n<!-- branin -->\n<g id=\"node4\" class=\"node\">\n<title>branin</title>\n<ellipse fill=\"none\" stroke=\"black\" cx=\"114\" cy=\"-18\" rx=\"36\" ry=\"18\"/>\n<text text-anchor=\"middle\" x=\"114\" y=\"-14.3\" font-family=\"Times,serif\" font-size=\"14.00\">Branin</text>\n</g>\n<!-- t2&#45;&gt;branin -->\n<g id=\"edge3\" class=\"edge\">\n<title>t2-&gt;branin</title>\n<path fill=\"none\" stroke=\"black\" d=\"M43.77,-75.5C56.24,-65.47 73.49,-51.6 87.77,-40.11\"/>\n<polygon fill=\"black\" stroke=\"black\" points=\"90.18,-42.66 95.78,-33.66 85.79,-37.21 90.18,-42.66\"/>\n</g>\n<!-- t1_pow2&#45;&gt;branin -->\n<g id=\"edge4\" class=\"edge\">\n<title>t1_pow2-&gt;branin</title>\n<path fill=\"none\" stroke=\"black\" d=\"M114,-71.7C114,-63.98 114,-54.71 114,-46.11\"/>\n<polygon fill=\"black\" stroke=\"black\" points=\"117.5,-46.1 114,-36.1 110.5,-46.1 117.5,-46.1\"/>\n</g>\n<!-- x2 -->\n<g id=\"node5\" class=\"node\">\n<title>x2</title>\n<ellipse fill=\"none\" stroke=\"black\" cx=\"114\" cy=\"-162\" rx=\"27\" ry=\"18\"/>\n<text text-anchor=\"middle\" x=\"114\" y=\"-158.3\" font-family=\"Times,serif\" font-size=\"14.00\">X2</text>\n</g>\n<!-- x2&#45;&gt;t1_pow2 -->\n<g id=\"edge5\" class=\"edge\">\n<title>x2-&gt;t1_pow2</title>\n<path fill=\"none\" stroke=\"black\" d=\"M114,-143.7C114,-135.98 114,-126.71 114,-118.11\"/>\n<polygon fill=\"black\" stroke=\"black\" points=\"117.5,-118.1 114,-108.1 110.5,-118.1 117.5,-118.1\"/>\n</g>\n<!-- x3 -->\n<g id=\"node6\" class=\"node\">\n<title>x3</title>\n<ellipse fill=\"none\" stroke=\"black\" cx=\"201\" cy=\"-90\" rx=\"27\" ry=\"18\"/>\n<text text-anchor=\"middle\" x=\"201\" y=\"-86.3\" font-family=\"Times,serif\" font-size=\"14.00\">X3</text>\n</g>\n<!-- x3&#45;&gt;branin -->\n<g id=\"edge6\" class=\"edge\">\n<title>x3-&gt;branin</title>\n<path fill=\"none\" stroke=\"black\" d=\"M184.23,-75.5C171.76,-65.47 154.51,-51.6 140.23,-40.11\"/>\n<polygon fill=\"black\" stroke=\"black\" points=\"142.21,-37.21 132.22,-33.66 137.82,-42.66 142.21,-37.21\"/>\n</g>\n<!-- x2c -->\n<g id=\"node7\" class=\"node\">\n<title>x2c</title>\n<ellipse fill=\"none\" stroke=\"black\" cx=\"304\" cy=\"-162\" rx=\"27.9\" ry=\"18\"/>\n<text text-anchor=\"middle\" x=\"304\" y=\"-158.3\" font-family=\"Times,serif\" font-size=\"14.00\">X2C</text>\n</g>\n<!-- currin_factor -->\n<g id=\"node8\" class=\"node\">\n<title>currin_factor</title>\n<ellipse fill=\"none\" stroke=\"black\" cx=\"304\" cy=\"-90\" rx=\"57.69\" ry=\"18\"/>\n<text text-anchor=\"middle\" x=\"304\" y=\"-86.3\" font-family=\"Times,serif\" font-size=\"14.00\">CurrinFactor</text>\n</g>\n<!-- x2c&#45;&gt;currin_factor -->\n<g id=\"edge7\" class=\"edge\">\n<title>x2c-&gt;currin_factor</title>\n<path fill=\"none\" stroke=\"black\" d=\"M304,-143.7C304,-135.98 304,-126.71 304,-118.11\"/>\n<polygon fill=\"black\" stroke=\"black\" points=\"307.5,-118.1 304,-108.1 300.5,-118.1 307.5,-118.1\"/>\n</g>\n<!-- currin -->\n<g id=\"node9\" class=\"node\">\n<title>currin</title>\n<ellipse fill=\"none\" stroke=\"black\" cx=\"372\" cy=\"-18\" rx=\"34.39\" ry=\"18\"/>\n<text text-anchor=\"middle\" x=\"372\" y=\"-14.3\" font-family=\"Times,serif\" font-size=\"14.00\">Currin</text>\n</g>\n<!-- currin_factor&#45;&gt;currin -->\n<g id=\"edge8\" class=\"edge\">\n<title>currin_factor-&gt;currin</title>\n<path fill=\"none\" stroke=\"black\" d=\"M320.12,-72.41C329,-63.26 340.17,-51.76 349.87,-41.78\"/>\n<polygon fill=\"black\" stroke=\"black\" points=\"352.47,-44.12 356.93,-34.51 347.45,-39.24 352.47,-44.12\"/>\n</g>\n<!-- x1c -->\n<g id=\"node10\" class=\"node\">\n<title>x1c</title>\n<ellipse fill=\"none\" stroke=\"black\" cx=\"441\" cy=\"-162\" rx=\"27.9\" ry=\"18\"/>\n<text text-anchor=\"middle\" x=\"441\" y=\"-158.3\" font-family=\"Times,serif\" font-size=\"14.00\">X1C</text>\n</g>\n<!-- currin_denom -->\n<g id=\"node11\" class=\"node\">\n<title>currin_denom</title>\n<ellipse fill=\"none\" stroke=\"black\" cx=\"441\" cy=\"-90\" rx=\"61.19\" ry=\"18\"/>\n<text text-anchor=\"middle\" x=\"441\" y=\"-86.3\" font-family=\"Times,serif\" font-size=\"14.00\">CurrinDenom</text>\n</g>\n<!-- x1c&#45;&gt;currin_denom -->\n<g id=\"edge9\" class=\"edge\">\n<title>x1c-&gt;currin_denom</title>\n<path fill=\"none\" stroke=\"black\" d=\"M441,-143.7C441,-135.98 441,-126.71 441,-118.11\"/>\n<polygon fill=\"black\" stroke=\"black\" points=\"444.5,-118.1 441,-108.1 437.5,-118.1 444.5,-118.1\"/>\n</g>\n<!-- currin_denom&#45;&gt;currin -->\n<g id=\"edge10\" class=\"edge\">\n<title>currin_denom-&gt;currin</title>\n<path fill=\"none\" stroke=\"black\" d=\"M424.65,-72.41C415.63,-63.26 404.3,-51.76 394.46,-41.78\"/>\n<polygon fill=\"black\" stroke=\"black\" points=\"396.8,-39.18 387.29,-34.51 391.82,-44.09 396.8,-39.18\"/>\n</g>\n</g>\n</svg>"
     },
     "metadata": {},
     "output_type": "display_data"
    }
   ],
   "execution_count": 59
  },
  {
   "metadata": {
    "ExecuteTime": {
     "end_time": "2024-08-11T00:08:21.846794Z",
     "start_time": "2024-08-11T00:08:21.517151Z"
    }
   },
   "cell_type": "code",
   "source": [
    "\n",
    "\n",
    "known_dag = nx.DiGraph()\n",
    "# Branin structure\n",
    "known_dag.add_edges_from([(\"x1\", \"t2\"), (\"x1\", \"t1_pow2\"), (\"x2\", \"t1_pow2\")])\n",
    "known_dag.add_edges_from([(\"x3\", \"branin\")])\n",
    "known_dag.add_edges_from([(\"t1_pow2\", \"branin\"), (\"t2\", \"branin\")])\n",
    "# Currin structure\n",
    "known_dag.add_edges_from([(\"x2c\", \"currin_factor\"), (\"x1c\", \"currin_denom\")])\n",
    "known_dag.add_edges_from([(\"currin_denom\", \"currin\"), (\"currin_factor\", \"currin\")])\n",
    "assert nx.d_separated(known_dag, {\"branin\"}, {\"currin\"}, set()) == True \n",
    "draw(known_dag, f\"{output_location}/two_independent.pdf\")"
   ],
   "id": "3718ecd4953e4816",
   "outputs": [],
   "execution_count": 69
  },
  {
   "metadata": {
    "ExecuteTime": {
     "end_time": "2024-08-10T23:59:38.469031Z",
     "start_time": "2024-08-10T23:59:38.401863Z"
    }
   },
   "cell_type": "code",
   "source": "# Check trivial case, if both objectives are absolutely independent\n",
   "id": "43683e7d8cfdbba0",
   "outputs": [
    {
     "data": {
      "text/plain": [
       "True"
      ]
     },
     "execution_count": 68,
     "metadata": {},
     "output_type": "execute_result"
    }
   ],
   "execution_count": 68
  },
  {
   "metadata": {
    "ExecuteTime": {
     "end_time": "2024-08-10T07:29:25.143101Z",
     "start_time": "2024-08-10T07:29:25.108592Z"
    }
   },
   "cell_type": "code",
   "source": [
    "\n",
    "import logging\n",
    "logger = logging.getLogger()\n",
    "logger.setLevel(logging.INFO)\n",
    "\n",
    "from autorocks.envs.synthetic.funcs.branin_currin import BraninCur2DParametersSpace\n",
    "from autorocks.optimizer.bograph.bobn import BoBn\n",
    "\n",
    "G = known_dag\n",
    "\n",
    "param_space = BraninCur2DParametersSpace()\n",
    "\n",
    "bobn_graph = BoBn(G, param_space, {\"branin\", \"currin\"})\n"
   ],
   "id": "56ba46dd6c21e818",
   "outputs": [
    {
     "name": "stderr",
     "output_type": "stream",
     "text": [
      "INFO:root:Creating a subgraph for the group: {'currin_factor', 'currin_denom', 't1_pow2', 'x1', 'x2', 't2'}\n",
      "INFO:root:Creating a 1 number of d-separable subgraphs.\n",
      "INFO:root:Independent subgraph {'currin_factor', 'branin', 'currin', 'currin_denom', 't1_pow2', 'x1', 'x2', 't2'}, with a max dimension and node: ('t1_pow2', 2)\n",
      "INFO:root:Built independent subgraphs, with the largest dimension: 2\n"
     ]
    },
    {
     "name": "stdout",
     "output_type": "stream",
     "text": [
      "p1='x1': p2='x2': union_of_children={'currin_factor', 'currin_denom', 't1_pow2', 't2'}\n"
     ]
    }
   ],
   "execution_count": 22
  },
  {
   "metadata": {},
   "cell_type": "code",
   "outputs": [],
   "execution_count": null,
   "source": [
    "from autorocks.optimizer.bograph import bobn_utils\n",
    "\n",
    "\n",
    "G = nx.DiGraph()\n",
    "# Branin structure\n",
    "G.add_edges_from([(\"x1\", \"t2\"), (\"x1\", \"t1_pow2\"), (\"x2\", \"t1_pow2\")])\n",
    "G.add_edges_from([(\"x3\", \"branin\")])\n",
    "G.add_edges_from([(\"t1_pow2\", \"branin\"), (\"t2\", \"branin\")])\n",
    "# Currin structure\n",
    "G.add_edges_from([(\"x2\", \"currin_factor\"), (\"x1\", \"currin_denom\")])\n",
    "G.add_edges_from([(\"currin_denom\", \"currin\"), (\"currin_factor\", \"currin\")])\n",
    "assert nx.d_separated(G, {\"branin\"}, {\"currin\"}, set()) == False \n",
    "\n",
    "draw(G, f\"{output_location}/two_dependent_3var.pdf\")\n",
    "\n",
    "draw(G)\n",
    "bobn_utils.create_d_separable_subgraphs(G, parameter_nodes= {'x1', 'x2', 'x3'}, objectives = {\"branin\", \"currin\"})"
   ],
   "id": "bc0c3ac29bdb7f32"
  },
  {
   "metadata": {
    "ExecuteTime": {
     "end_time": "2024-08-11T00:27:27.649179Z",
     "start_time": "2024-08-11T00:27:27.219624Z"
    }
   },
   "cell_type": "code",
   "source": [
    "from autorocks.optimizer.bograph import bobn_utils\n",
    "\n",
    "\n",
    "G = nx.DiGraph()\n",
    "# Branin structure\n",
    "G.add_edges_from([(\"x1\", \"t2\"), (\"x1\", \"t1_pow2\"), (\"x2\", \"t1_pow2\")])\n",
    "# G.add_edges_from([(\"x3\", \"branin\")])\n",
    "G.add_edges_from([(\"t1_pow2\", \"branin\"), (\"t2\", \"branin\")])\n",
    "# Currin structure\n",
    "G.add_edges_from([(\"x2\", \"currin_factor\"), (\"x1\", \"currin_denom\")])\n",
    "G.add_edges_from([(\"currin_denom\", \"currin\"), (\"currin_factor\", \"currin\")])\n",
    "assert nx.d_separated(G, {\"branin\"}, {\"currin\"}, set()) == False \n",
    "\n",
    "draw(G, f\"{output_location}/two_dependent.pdf\")\n",
    "\n",
    "draw(G)\n",
    "bobn_utils.create_d_separable_subgraphs(G, parameter_nodes= {'x1', 'x2'}, objectives = {\"branin\", \"currin\"})"
   ],
   "id": "7df13a48122ecc5",
   "outputs": [
    {
     "data": {
      "text/plain": [
       "<IPython.core.display.SVG object>"
      ],
      "image/svg+xml": "<svg xmlns=\"http://www.w3.org/2000/svg\" xmlns:xlink=\"http://www.w3.org/1999/xlink\" width=\"437pt\" height=\"188pt\" viewBox=\"0.00 0.00 436.84 188.00\">\n<g id=\"graph0\" class=\"graph\" transform=\"scale(1 1) rotate(0) translate(4 184)\">\n<polygon fill=\"white\" stroke=\"transparent\" points=\"-4,4 -4,-184 432.84,-184 432.84,4 -4,4\"/>\n<!-- x1 -->\n<g id=\"node1\" class=\"node\">\n<title>x1</title>\n<ellipse fill=\"none\" stroke=\"black\" cx=\"133\" cy=\"-162\" rx=\"27\" ry=\"18\"/>\n<text text-anchor=\"middle\" x=\"133\" y=\"-158.3\" font-family=\"Times,serif\" font-size=\"14.00\">X1</text>\n</g>\n<!-- t2 -->\n<g id=\"node2\" class=\"node\">\n<title>t2</title>\n<ellipse fill=\"none\" stroke=\"black\" cx=\"27\" cy=\"-90\" rx=\"27\" ry=\"18\"/>\n<text text-anchor=\"middle\" x=\"27\" y=\"-86.3\" font-family=\"Times,serif\" font-size=\"14.00\">T2</text>\n</g>\n<!-- x1&#45;&gt;t2 -->\n<g id=\"edge1\" class=\"edge\">\n<title>x1-&gt;t2</title>\n<path fill=\"none\" stroke=\"black\" d=\"M114.54,-148.81C97.84,-137.78 73.05,-121.41 54.11,-108.9\"/>\n<polygon fill=\"black\" stroke=\"black\" points=\"55.88,-105.88 45.61,-103.29 52.02,-111.72 55.88,-105.88\"/>\n</g>\n<!-- t1_pow2 -->\n<g id=\"node3\" class=\"node\">\n<title>t1_pow2</title>\n<ellipse fill=\"none\" stroke=\"black\" cx=\"254\" cy=\"-90\" rx=\"41.69\" ry=\"18\"/>\n<text text-anchor=\"middle\" x=\"254\" y=\"-86.3\" font-family=\"Times,serif\" font-size=\"14.00\">T1Pow2</text>\n</g>\n<!-- x1&#45;&gt;t1_pow2 -->\n<g id=\"edge2\" class=\"edge\">\n<title>x1-&gt;t1_pow2</title>\n<path fill=\"none\" stroke=\"black\" d=\"M152.71,-149.6C171.31,-138.84 199.53,-122.51 221.47,-109.82\"/>\n<polygon fill=\"black\" stroke=\"black\" points=\"223.23,-112.84 230.14,-104.8 219.73,-106.78 223.23,-112.84\"/>\n</g>\n<!-- currin_denom -->\n<g id=\"node4\" class=\"node\">\n<title>currin_denom</title>\n<ellipse fill=\"none\" stroke=\"black\" cx=\"133\" cy=\"-90\" rx=\"61.19\" ry=\"18\"/>\n<text text-anchor=\"middle\" x=\"133\" y=\"-86.3\" font-family=\"Times,serif\" font-size=\"14.00\">CurrinDenom</text>\n</g>\n<!-- x1&#45;&gt;currin_denom -->\n<g id=\"edge3\" class=\"edge\">\n<title>x1-&gt;currin_denom</title>\n<path fill=\"none\" stroke=\"black\" d=\"M133,-143.7C133,-135.98 133,-126.71 133,-118.11\"/>\n<polygon fill=\"black\" stroke=\"black\" points=\"136.5,-118.1 133,-108.1 129.5,-118.1 136.5,-118.1\"/>\n</g>\n<!-- branin -->\n<g id=\"node5\" class=\"node\">\n<title>branin</title>\n<ellipse fill=\"none\" stroke=\"black\" cx=\"145\" cy=\"-18\" rx=\"36\" ry=\"18\"/>\n<text text-anchor=\"middle\" x=\"145\" y=\"-14.3\" font-family=\"Times,serif\" font-size=\"14.00\">Branin</text>\n</g>\n<!-- t2&#45;&gt;branin -->\n<g id=\"edge4\" class=\"edge\">\n<title>t2-&gt;branin</title>\n<path fill=\"none\" stroke=\"black\" d=\"M46.49,-77.44C64.81,-66.57 92.56,-50.11 113.94,-37.43\"/>\n<polygon fill=\"black\" stroke=\"black\" points=\"115.85,-40.36 122.67,-32.25 112.28,-34.34 115.85,-40.36\"/>\n</g>\n<!-- t1_pow2&#45;&gt;branin -->\n<g id=\"edge5\" class=\"edge\">\n<title>t1_pow2-&gt;branin</title>\n<path fill=\"none\" stroke=\"black\" d=\"M231.68,-74.67C215.19,-64.08 192.59,-49.56 174.59,-38.01\"/>\n<polygon fill=\"black\" stroke=\"black\" points=\"176.49,-35.06 166.18,-32.6 172.7,-40.95 176.49,-35.06\"/>\n</g>\n<!-- currin -->\n<g id=\"node8\" class=\"node\">\n<title>currin</title>\n<ellipse fill=\"none\" stroke=\"black\" cx=\"242\" cy=\"-18\" rx=\"34.39\" ry=\"18\"/>\n<text text-anchor=\"middle\" x=\"242\" y=\"-14.3\" font-family=\"Times,serif\" font-size=\"14.00\">Currin</text>\n</g>\n<!-- currin_denom&#45;&gt;currin -->\n<g id=\"edge9\" class=\"edge\">\n<title>currin_denom-&gt;currin</title>\n<path fill=\"none\" stroke=\"black\" d=\"M157.19,-73.46C173.53,-62.97 195.21,-49.05 212.56,-37.91\"/>\n<polygon fill=\"black\" stroke=\"black\" points=\"214.66,-40.72 221.18,-32.37 210.88,-34.83 214.66,-40.72\"/>\n</g>\n<!-- x2 -->\n<g id=\"node6\" class=\"node\">\n<title>x2</title>\n<ellipse fill=\"none\" stroke=\"black\" cx=\"312\" cy=\"-162\" rx=\"27\" ry=\"18\"/>\n<text text-anchor=\"middle\" x=\"312\" y=\"-158.3\" font-family=\"Times,serif\" font-size=\"14.00\">X2</text>\n</g>\n<!-- x2&#45;&gt;t1_pow2 -->\n<g id=\"edge6\" class=\"edge\">\n<title>x2-&gt;t1_pow2</title>\n<path fill=\"none\" stroke=\"black\" d=\"M299.41,-145.81C291.95,-136.8 282.32,-125.18 273.85,-114.95\"/>\n<polygon fill=\"black\" stroke=\"black\" points=\"276.44,-112.6 267.37,-107.13 271.05,-117.07 276.44,-112.6\"/>\n</g>\n<!-- currin_factor -->\n<g id=\"node7\" class=\"node\">\n<title>currin_factor</title>\n<ellipse fill=\"none\" stroke=\"black\" cx=\"371\" cy=\"-90\" rx=\"57.69\" ry=\"18\"/>\n<text text-anchor=\"middle\" x=\"371\" y=\"-86.3\" font-family=\"Times,serif\" font-size=\"14.00\">CurrinFactor</text>\n</g>\n<!-- x2&#45;&gt;currin_factor -->\n<g id=\"edge7\" class=\"edge\">\n<title>x2-&gt;currin_factor</title>\n<path fill=\"none\" stroke=\"black\" d=\"M324.8,-145.81C332.29,-136.93 341.92,-125.5 350.44,-115.39\"/>\n<polygon fill=\"black\" stroke=\"black\" points=\"353.22,-117.53 356.99,-107.63 347.86,-113.02 353.22,-117.53\"/>\n</g>\n<!-- currin_factor&#45;&gt;currin -->\n<g id=\"edge8\" class=\"edge\">\n<title>currin_factor-&gt;currin</title>\n<path fill=\"none\" stroke=\"black\" d=\"M343.33,-73.98C323.08,-63 295.54,-48.06 274.29,-36.52\"/>\n<polygon fill=\"black\" stroke=\"black\" points=\"275.77,-33.34 265.31,-31.65 272.43,-39.49 275.77,-33.34\"/>\n</g>\n</g>\n</svg>"
     },
     "metadata": {},
     "output_type": "display_data"
    },
    {
     "name": "stderr",
     "output_type": "stream",
     "text": [
      "INFO:root:Creating a subgraph for the group: {'currin_factor', 'currin_denom', 't1_pow2', 'x1', 'x2', 't2'}\n",
      "INFO:root:Creating a 1 number of d-separable subgraphs.\n"
     ]
    },
    {
     "name": "stdout",
     "output_type": "stream",
     "text": [
      "p1='x1': p2='x2': union_of_children={'currin_factor', 'currin_denom', 't1_pow2', 't2'}\n"
     ]
    },
    {
     "data": {
      "text/plain": [
       "[{'branin',\n",
       "  'currin',\n",
       "  'currin_denom',\n",
       "  'currin_factor',\n",
       "  't1_pow2',\n",
       "  't2',\n",
       "  'x1',\n",
       "  'x2'}]"
      ]
     },
     "execution_count": 81,
     "metadata": {},
     "output_type": "execute_result"
    }
   ],
   "execution_count": 81
  },
  {
   "metadata": {
    "ExecuteTime": {
     "end_time": "2024-08-11T00:19:34.703705Z",
     "start_time": "2024-08-11T00:19:34.675927Z"
    }
   },
   "cell_type": "code",
   "source": "bobn_utils.create_d_separable_subgraphs(G, parameter_nodes= {'x1', 'x2', 'x3'}, objectives = {\"branin\", \"currin\"})",
   "id": "4ecd255f23144c63",
   "outputs": [
    {
     "name": "stderr",
     "output_type": "stream",
     "text": [
      "INFO:root:Creating a subgraph for the group: {'x3'}\n",
      "INFO:root:Creating a subgraph for the group: {'currin_factor', 'currin_denom', 't1_pow2', 'x1', 'x2', 't2'}\n",
      "INFO:root:Creating a 2 number of d-separable subgraphs.\n"
     ]
    },
    {
     "name": "stdout",
     "output_type": "stream",
     "text": [
      "p1='x1': p2='x2': union_of_children={'currin_factor', 'currin_denom', 't1_pow2', 't2'}\n"
     ]
    },
    {
     "data": {
      "text/plain": [
       "[{'branin', 'x3'},\n",
       " {'branin',\n",
       "  'currin',\n",
       "  'currin_denom',\n",
       "  'currin_factor',\n",
       "  't1_pow2',\n",
       "  't2',\n",
       "  'x1',\n",
       "  'x2'}]"
      ]
     },
     "execution_count": 78,
     "metadata": {},
     "output_type": "execute_result"
    }
   ],
   "execution_count": 78
  },
  {
   "metadata": {},
   "cell_type": "code",
   "outputs": [],
   "execution_count": null,
   "source": "nx.d_separated(G, {\"branin\", \"currin\"}, {\"currin\"})",
   "id": "e9d24de75da0fae1"
  },
  {
   "metadata": {
    "ExecuteTime": {
     "end_time": "2024-08-10T07:35:30.226529Z",
     "start_time": "2024-08-10T07:35:30.199968Z"
    }
   },
   "cell_type": "code",
   "source": [
    "_subgraph = G.subgraph(bobn_graph._subgraphs[0]._subgraph)\n",
    "for node in _subgraph.nodes():\n",
    "    # print(_subgraph.edges[node])\n",
    "    if _subgraph.out_degree(node) == 0:\n",
    "        print(node, 'is sink')"
   ],
   "id": "148eb46f46cb3a18",
   "outputs": [
    {
     "name": "stdout",
     "output_type": "stream",
     "text": [
      "branin is sink\n",
      "currin is sink\n"
     ]
    }
   ],
   "execution_count": 34
  }
 ],
 "metadata": {
  "kernelspec": {
   "display_name": "Python 3",
   "language": "python",
   "name": "python3"
  },
  "language_info": {
   "codemirror_mode": {
    "name": "ipython",
    "version": 2
   },
   "file_extension": ".py",
   "mimetype": "text/x-python",
   "name": "python",
   "nbconvert_exporter": "python",
   "pygments_lexer": "ipython2",
   "version": "2.7.6"
  }
 },
 "nbformat": 4,
 "nbformat_minor": 5
}
