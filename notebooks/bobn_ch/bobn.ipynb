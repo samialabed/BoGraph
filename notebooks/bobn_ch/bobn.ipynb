{
 "cells": [
  {
   "cell_type": "code",
   "execution_count": 144,
   "id": "initial_id",
   "metadata": {
    "collapsed": true,
    "ExecuteTime": {
     "end_time": "2023-12-30T13:05:26.397937Z",
     "start_time": "2023-12-30T13:05:23.876277Z"
    }
   },
   "outputs": [
    {
     "name": "stdout",
     "output_type": "stream",
     "text": [
      "The autoreload extension is already loaded. To reload it, use:\n",
      "  %reload_ext autoreload\n"
     ]
    }
   ],
   "source": [
    "% matplotlib inline\n",
    "% load_ext autoreload\n",
    "% autoreload 2"
   ]
  },
  {
   "cell_type": "code",
   "outputs": [
    {
     "data": {
      "text/plain": "<IPython.core.display.SVG object>",
      "image/svg+xml": "<svg xmlns=\"http://www.w3.org/2000/svg\" xmlns:xlink=\"http://www.w3.org/1999/xlink\" width=\"475pt\" height=\"188pt\" viewBox=\"0.00 0.00 475.29 188.00\">\n<g id=\"graph0\" class=\"graph\" transform=\"scale(1 1) rotate(0) translate(4 184)\">\n<polygon fill=\"#ffffff\" stroke=\"transparent\" points=\"-4,4 -4,-184 471.293,-184 471.293,4 -4,4\"/>\n<!-- x1 -->\n<g id=\"node1\" class=\"node\">\n<title>x1</title>\n<ellipse fill=\"none\" stroke=\"#000000\" cx=\"39.6465\" cy=\"-162\" rx=\"27\" ry=\"18\"/>\n<text text-anchor=\"middle\" x=\"39.6465\" y=\"-158.3\" font-family=\"Times,serif\" font-size=\"14.00\" fill=\"#000000\">x1</text>\n</g>\n<!-- mid(x1) -->\n<g id=\"node2\" class=\"node\">\n<title>mid(x1)</title>\n<ellipse fill=\"none\" stroke=\"#000000\" cx=\"39.6465\" cy=\"-90\" rx=\"39.7935\" ry=\"18\"/>\n<text text-anchor=\"middle\" x=\"39.6465\" y=\"-86.3\" font-family=\"Times,serif\" font-size=\"14.00\" fill=\"#000000\">mid(x1)</text>\n</g>\n<!-- x1&#45;&gt;mid(x1) -->\n<g id=\"edge1\" class=\"edge\">\n<title>x1-&gt;mid(x1)</title>\n<path fill=\"none\" stroke=\"#000000\" d=\"M39.6465,-143.8314C39.6465,-136.131 39.6465,-126.9743 39.6465,-118.4166\"/>\n<polygon fill=\"#000000\" stroke=\"#000000\" points=\"43.1466,-118.4132 39.6465,-108.4133 36.1466,-118.4133 43.1466,-118.4132\"/>\n</g>\n<!-- y -->\n<g id=\"node3\" class=\"node\">\n<title>y</title>\n<ellipse fill=\"none\" stroke=\"#000000\" cx=\"233.6465\" cy=\"-18\" rx=\"27\" ry=\"18\"/>\n<text text-anchor=\"middle\" x=\"233.6465\" y=\"-14.3\" font-family=\"Times,serif\" font-size=\"14.00\" fill=\"#000000\">y</text>\n</g>\n<!-- mid(x1)&#45;&gt;y -->\n<g id=\"edge2\" class=\"edge\">\n<title>mid(x1)-&gt;y</title>\n<path fill=\"none\" stroke=\"#000000\" d=\"M70.3665,-78.4565C76.1075,-76.3059 82.0584,-74.0812 87.6465,-72 126.328,-57.5939 170.8226,-41.1562 200.425,-30.239\"/>\n<polygon fill=\"#000000\" stroke=\"#000000\" points=\"201.6914,-33.5024 209.8632,-26.7591 199.2698,-26.9346 201.6914,-33.5024\"/>\n</g>\n<!-- x2 -->\n<g id=\"node4\" class=\"node\">\n<title>x2</title>\n<ellipse fill=\"none\" stroke=\"#000000\" cx=\"136.6465\" cy=\"-162\" rx=\"27\" ry=\"18\"/>\n<text text-anchor=\"middle\" x=\"136.6465\" y=\"-158.3\" font-family=\"Times,serif\" font-size=\"14.00\" fill=\"#000000\">x2</text>\n</g>\n<!-- mid(x2) -->\n<g id=\"node5\" class=\"node\">\n<title>mid(x2)</title>\n<ellipse fill=\"none\" stroke=\"#000000\" cx=\"136.6465\" cy=\"-90\" rx=\"39.7935\" ry=\"18\"/>\n<text text-anchor=\"middle\" x=\"136.6465\" y=\"-86.3\" font-family=\"Times,serif\" font-size=\"14.00\" fill=\"#000000\">mid(x2)</text>\n</g>\n<!-- x2&#45;&gt;mid(x2) -->\n<g id=\"edge3\" class=\"edge\">\n<title>x2-&gt;mid(x2)</title>\n<path fill=\"none\" stroke=\"#000000\" d=\"M136.6465,-143.8314C136.6465,-136.131 136.6465,-126.9743 136.6465,-118.4166\"/>\n<polygon fill=\"#000000\" stroke=\"#000000\" points=\"140.1466,-118.4132 136.6465,-108.4133 133.1466,-118.4133 140.1466,-118.4132\"/>\n</g>\n<!-- mid(x2)&#45;&gt;y -->\n<g id=\"edge4\" class=\"edge\">\n<title>mid(x2)-&gt;y</title>\n<path fill=\"none\" stroke=\"#000000\" d=\"M157.694,-74.3771C172.2682,-63.5591 191.7738,-49.0808 207.3686,-37.5052\"/>\n<polygon fill=\"#000000\" stroke=\"#000000\" points=\"209.6302,-40.1853 215.5739,-31.4147 205.4581,-34.5645 209.6302,-40.1853\"/>\n</g>\n<!-- x3 -->\n<g id=\"node6\" class=\"node\">\n<title>x3</title>\n<ellipse fill=\"none\" stroke=\"#000000\" cx=\"233.6465\" cy=\"-162\" rx=\"27\" ry=\"18\"/>\n<text text-anchor=\"middle\" x=\"233.6465\" y=\"-158.3\" font-family=\"Times,serif\" font-size=\"14.00\" fill=\"#000000\">x3</text>\n</g>\n<!-- mid(x3) -->\n<g id=\"node7\" class=\"node\">\n<title>mid(x3)</title>\n<ellipse fill=\"none\" stroke=\"#000000\" cx=\"233.6465\" cy=\"-90\" rx=\"39.7935\" ry=\"18\"/>\n<text text-anchor=\"middle\" x=\"233.6465\" y=\"-86.3\" font-family=\"Times,serif\" font-size=\"14.00\" fill=\"#000000\">mid(x3)</text>\n</g>\n<!-- x3&#45;&gt;mid(x3) -->\n<g id=\"edge5\" class=\"edge\">\n<title>x3-&gt;mid(x3)</title>\n<path fill=\"none\" stroke=\"#000000\" d=\"M233.6465,-143.8314C233.6465,-136.131 233.6465,-126.9743 233.6465,-118.4166\"/>\n<polygon fill=\"#000000\" stroke=\"#000000\" points=\"237.1466,-118.4132 233.6465,-108.4133 230.1466,-118.4133 237.1466,-118.4132\"/>\n</g>\n<!-- mid(x3)&#45;&gt;y -->\n<g id=\"edge6\" class=\"edge\">\n<title>mid(x3)-&gt;y</title>\n<path fill=\"none\" stroke=\"#000000\" d=\"M233.6465,-71.8314C233.6465,-64.131 233.6465,-54.9743 233.6465,-46.4166\"/>\n<polygon fill=\"#000000\" stroke=\"#000000\" points=\"237.1466,-46.4132 233.6465,-36.4133 230.1466,-46.4133 237.1466,-46.4132\"/>\n</g>\n<!-- x4 -->\n<g id=\"node8\" class=\"node\">\n<title>x4</title>\n<ellipse fill=\"none\" stroke=\"#000000\" cx=\"330.6465\" cy=\"-162\" rx=\"27\" ry=\"18\"/>\n<text text-anchor=\"middle\" x=\"330.6465\" y=\"-158.3\" font-family=\"Times,serif\" font-size=\"14.00\" fill=\"#000000\">x4</text>\n</g>\n<!-- mid(x4) -->\n<g id=\"node9\" class=\"node\">\n<title>mid(x4)</title>\n<ellipse fill=\"none\" stroke=\"#000000\" cx=\"330.6465\" cy=\"-90\" rx=\"39.7935\" ry=\"18\"/>\n<text text-anchor=\"middle\" x=\"330.6465\" y=\"-86.3\" font-family=\"Times,serif\" font-size=\"14.00\" fill=\"#000000\">mid(x4)</text>\n</g>\n<!-- x4&#45;&gt;mid(x4) -->\n<g id=\"edge7\" class=\"edge\">\n<title>x4-&gt;mid(x4)</title>\n<path fill=\"none\" stroke=\"#000000\" d=\"M330.6465,-143.8314C330.6465,-136.131 330.6465,-126.9743 330.6465,-118.4166\"/>\n<polygon fill=\"#000000\" stroke=\"#000000\" points=\"334.1466,-118.4132 330.6465,-108.4133 327.1466,-118.4133 334.1466,-118.4132\"/>\n</g>\n<!-- mid(x4)&#45;&gt;y -->\n<g id=\"edge8\" class=\"edge\">\n<title>mid(x4)-&gt;y</title>\n<path fill=\"none\" stroke=\"#000000\" d=\"M309.5989,-74.3771C295.0247,-63.5591 275.5192,-49.0808 259.9244,-37.5052\"/>\n<polygon fill=\"#000000\" stroke=\"#000000\" points=\"261.8349,-34.5645 251.7191,-31.4147 257.6627,-40.1853 261.8349,-34.5645\"/>\n</g>\n<!-- x5 -->\n<g id=\"node10\" class=\"node\">\n<title>x5</title>\n<ellipse fill=\"none\" stroke=\"#000000\" cx=\"427.6465\" cy=\"-162\" rx=\"27\" ry=\"18\"/>\n<text text-anchor=\"middle\" x=\"427.6465\" y=\"-158.3\" font-family=\"Times,serif\" font-size=\"14.00\" fill=\"#000000\">x5</text>\n</g>\n<!-- mid(x5) -->\n<g id=\"node11\" class=\"node\">\n<title>mid(x5)</title>\n<ellipse fill=\"none\" stroke=\"#000000\" cx=\"427.6465\" cy=\"-90\" rx=\"39.7935\" ry=\"18\"/>\n<text text-anchor=\"middle\" x=\"427.6465\" y=\"-86.3\" font-family=\"Times,serif\" font-size=\"14.00\" fill=\"#000000\">mid(x5)</text>\n</g>\n<!-- x5&#45;&gt;mid(x5) -->\n<g id=\"edge9\" class=\"edge\">\n<title>x5-&gt;mid(x5)</title>\n<path fill=\"none\" stroke=\"#000000\" d=\"M427.6465,-143.8314C427.6465,-136.131 427.6465,-126.9743 427.6465,-118.4166\"/>\n<polygon fill=\"#000000\" stroke=\"#000000\" points=\"431.1466,-118.4132 427.6465,-108.4133 424.1466,-118.4133 431.1466,-118.4132\"/>\n</g>\n<!-- mid(x5)&#45;&gt;y -->\n<g id=\"edge10\" class=\"edge\">\n<title>mid(x5)-&gt;y</title>\n<path fill=\"none\" stroke=\"#000000\" d=\"M396.9265,-78.4565C391.1854,-76.3059 385.2345,-74.0812 379.6465,-72 340.965,-57.5939 296.4704,-41.1562 266.868,-30.239\"/>\n<polygon fill=\"#000000\" stroke=\"#000000\" points=\"268.0231,-26.9346 257.4297,-26.7591 265.6016,-33.5024 268.0231,-26.9346\"/>\n</g>\n</g>\n</svg>"
     },
     "metadata": {},
     "output_type": "display_data"
    }
   ],
   "source": [
    "import dataclasses\n",
    "\n",
    "import botorch\n",
    "import networkx as nx\n",
    "import torch\n",
    "import math\n",
    "import sysgym.params.boxes as boxes\n",
    "import utils\n",
    "from sysgym.params import ParamsSpace\n",
    "\n",
    "tkwargs = {\n",
    "    \"dtype\": torch.double,\n",
    "    \"device\": torch.device(\"cuda\" if torch.cuda.is_available() else \"cpu\"),\n",
    "}\n",
    "\n",
    "\n",
    "@dataclasses.dataclass(init=False, frozen=True)\n",
    "class MichalewiczSpace(ParamsSpace):\n",
    "    x1: boxes.ContinuousBox = boxes.ContinuousBox(0.0, math.pi)\n",
    "    x2: boxes.ContinuousBox = boxes.ContinuousBox(0.0, math.pi)\n",
    "    x3: boxes.ContinuousBox = boxes.ContinuousBox(0.0, math.pi)\n",
    "    x4: boxes.ContinuousBox = boxes.ContinuousBox(0.0, math.pi)\n",
    "    x5: boxes.ContinuousBox = boxes.ContinuousBox(0.0, math.pi)\n",
    "\n",
    "\n",
    "problem = botorch.test_functions.Michalewicz(negate=True, dim=5, noise_std=0.0001)\n",
    "space = MichalewiczSpace()\n",
    "dag = nx.DiGraph()\n",
    "dag.add_node(\"y\")\n",
    "for i in space:\n",
    "    dag.add_node(i)\n",
    "    # One term\n",
    "    # dag.add_edges_from([(i, f\"z({i})\"), (f\"z({i})\", \"y\")])\n",
    "    # Both terms:\n",
    "    # dag.add_edges_from([(i, f\"f1({i})\"), (i, f\"f2({i})\"),\n",
    "    #                     (f\"f1({i})\", \"y\"), (f\"f2({i})\", \"y\")\n",
    "    #                     ])\n",
    "    dag.add_edge(i, f'mid({i})')\n",
    "    dag.add_edge(f'mid({i})', 'y')\n",
    "\n",
    "utils.draw(dag)\n",
    "\n"
   ],
   "metadata": {
    "collapsed": false,
    "ExecuteTime": {
     "end_time": "2023-12-31T12:08:38.923309Z",
     "start_time": "2023-12-31T12:08:38.807368Z"
    }
   },
   "id": "40ec824f31d13a08",
   "execution_count": 221
  },
  {
   "cell_type": "code",
   "execution_count": 222,
   "outputs": [],
   "source": [
    "from typing import Mapping\n",
    "import bench_util\n",
    "\n",
    "\n",
    "def eval_structure(x: torch.Tensor) -> torch.Tensor:\n",
    "    m = 10\n",
    "    return torch.sin(x) * torch.sin(problem.i * x**2 / math.pi) ** (2 * m)\n"
   ],
   "metadata": {
    "collapsed": false
   },
   "id": "d406309aee8bbf2"
  },
  {
   "cell_type": "code",
   "outputs": [
    {
     "name": "stdout",
     "output_type": "stream",
     "text": [
      "group={'x3', 'mid(x3)'}\n",
      "group={'mid(x1)', 'x1'}\n",
      "group={'x4', 'mid(x4)'}\n",
      "group={'mid(x5)', 'x5'}\n",
      "group={'x2', 'mid(x2)'}\n",
      "Built independent subgraph: {'x3', 'mid(x3)', 'y'}\n",
      "Built independent subgraph: {'mid(x1)', 'y', 'x1'}\n",
      "Built independent subgraph: {'x4', 'mid(x4)', 'y'}\n",
      "Built independent subgraph: {'mid(x5)', 'x5', 'y'}\n",
      "Built independent subgraph: {'x2', 'y', 'mid(x2)'}\n"
     ]
    },
    {
     "data": {
      "text/plain": "{'y': [0.7102274513907804,\n  0.0044335213487763534,\n  0.4887612258903766,\n  1.0161005713708813,\n  1.1569832567422984,\n  0.2921648856185117,\n  0.34087111337585885,\n  0.06790884456080848,\n  1.366602463252803,\n  0.9836700902425586],\n 'x1': [2.8920576572418213,\n  0.08408916741609573,\n  1.1781970262527466,\n  1.7358311414718628,\n  2.1011998653411865,\n  0.8624909520149231,\n  0.39960426092147827,\n  2.526496410369873,\n  2.6564011573791504,\n  0.6507018804550171],\n 'mid(x1)': [4.6641238673184904e-08,\n  9.350297466109328e-55,\n  3.862328885583582e-08,\n  0.01804288164609346,\n  0.6552229833435623,\n  1.93362759702529e-13,\n  5.110650830651206e-27,\n  0.06359399717638593,\n  0.0032816027309371834,\n  2.2297840849459994e-18],\n 'x2': [3.0170583724975586,\n  0.15568742156028748,\n  1.947975516319275,\n  1.2736778259277344,\n  2.1859612464904785,\n  0.924466609954834,\n  2.666390895843506,\n  0.395153284072876,\n  1.633570671081543,\n  1.526711106300354],\n 'mid(x2)': [3.306373446440078e-08,\n  9.076041280440061e-38,\n  0.0002563957988164066,\n  0.04545038214445559,\n  7.222426425138123e-21,\n  1.5225474866386208e-06,\n  0.32275580482815364,\n  3.306135042177342e-21,\n  0.8467001558358231,\n  0.9262221185091619],\n 'x3': [1.7761213779449463,\n  0.007356187328696251,\n  3.043076276779175,\n  1.274478793144226,\n  0.5310726165771484,\n  2.2996702194213867,\n  0.9329211115837097,\n  2.701686382293701,\n  1.1664211750030518,\n  2.5424845218658447],\n 'mid(x3)': [1.5470115926843296e-18,\n  1.355775272231701e-88,\n  6.208861206500096e-07,\n  0.9527105453006681,\n  1.6027471538513376e-12,\n  0.2331238170542903,\n  0.0018796634453287228,\n  4.7156928441074415e-05,\n  0.43566387070004603,\n  3.8486634218593235e-20],\n 'x4': [1.2586827278137207,\n  3.0251941680908203,\n  0.26547515392303467,\n  1.640629529953003,\n  1.9732033014297485,\n  0.5994161367416382,\n  2.601323366165161,\n  0.8334951996803284,\n  0.487295925617218,\n  2.253782033920288],\n 'mid(x4)': [0.12100401531922036,\n  0.0010927671301041273,\n  2.9269024706426377e-22,\n  9.862442042140973e-12,\n  0.5017526553052017,\n  4.504348754839295e-08,\n  0.0007952513107731908,\n  0.004364924724041241,\n  1.4049022887541951e-11,\n  1.4122867972696545e-15],\n 'x5': [1.0537981986999512,\n  2.118378162384033,\n  2.63012957572937,\n  0.5777115821838379,\n  0.27785390615463257,\n  2.9439847469329834,\n  1.8304839134216309,\n  1.3303794860839844,\n  2.28607177734375,\n  0.8226364254951477],\n 'mid(x5)': [0.5891301076703731,\n  0.0032730337288838147,\n  0.48848164136134264,\n  6.757006156341747e-07,\n  1.6047592414391444e-19,\n  0.05905668933841759,\n  0.015634486082292183,\n  1.1578523679005972e-10,\n  0.08105349927190618,\n  0.05758180429877619]}"
     },
     "execution_count": 226,
     "metadata": {},
     "output_type": "execute_result"
    }
   ],
   "source": [
    "from notebooks.bobn_ch import bobn\n",
    "from autorocks.viz import plots_setup\n",
    "\n",
    "bobn = bobn.BoBn(dag,\n",
    "                 params=space,\n",
    "                 objectives={'y'})\n",
    "\n",
    "initial_train_x, initial_train_y = plots_setup.generate_data(10, problem)\n",
    "\n",
    "initial_structure = eval_structure(initial_train_x)\n",
    "\n",
    "initial_data = {\n",
    "    'y': initial_train_y.tolist()\n",
    "}\n",
    "for idx, i in enumerate(space):\n",
    "    initial_data[i] = initial_train_x[:, idx].tolist()\n",
    "    initial_data[f\"mid({i})\"] = initial_structure[:, idx].tolist()\n",
    "initial_data"
   ],
   "metadata": {
    "collapsed": false
   },
   "id": "e759e6326a3578ab",
   "execution_count": 226
  },
  {
   "cell_type": "code",
   "outputs": [
    {
     "name": "stdout",
     "output_type": "stream",
     "text": [
      "restart_id=0/3\n",
      "restart_id=0:optimization_round=0/100, best_f=1.366602463252803, steps_to_best_f=0\n",
      "y=3.42327880859375\n",
      "restart_id=0:optimization_round=1/100, best_f=3.42327880859375, steps_to_best_f=0\n",
      "y=3.663148880004883\n",
      "restart_id=0:optimization_round=2/100, best_f=3.663148880004883, steps_to_best_f=1\n",
      "y=3.4902241230010986\n",
      "restart_id=0:optimization_round=3/100, best_f=3.663148880004883, steps_to_best_f=1\n",
      "y=3.7405478954315186\n",
      "restart_id=0:optimization_round=4/100, best_f=3.7405478954315186, steps_to_best_f=3\n",
      "y=3.6866986751556396\n",
      "restart_id=0:optimization_round=5/100, best_f=3.7405478954315186, steps_to_best_f=3\n",
      "y=3.795424461364746\n",
      "restart_id=0:optimization_round=6/100, best_f=3.795424461364746, steps_to_best_f=5\n",
      "y=3.8172099590301514\n",
      "restart_id=0:optimization_round=7/100, best_f=3.8172099590301514, steps_to_best_f=6\n",
      "y=3.766071319580078\n",
      "restart_id=0:optimization_round=8/100, best_f=3.8172099590301514, steps_to_best_f=6\n",
      "y=3.910797595977783\n",
      "restart_id=0:optimization_round=9/100, best_f=3.910797595977783, steps_to_best_f=8\n",
      "y=3.715954065322876\n",
      "restart_id=0:optimization_round=10/100, best_f=3.910797595977783, steps_to_best_f=8\n",
      "y=4.0075249671936035\n",
      "restart_id=0:optimization_round=11/100, best_f=4.0075249671936035, steps_to_best_f=10\n",
      "y=3.7353806495666504\n",
      "restart_id=0:optimization_round=12/100, best_f=4.0075249671936035, steps_to_best_f=10\n",
      "y=3.8818485736846924\n",
      "restart_id=0:optimization_round=13/100, best_f=4.0075249671936035, steps_to_best_f=10\n",
      "y=3.7948110103607178\n",
      "restart_id=0:optimization_round=14/100, best_f=4.0075249671936035, steps_to_best_f=10\n",
      "y=3.828646659851074\n",
      "restart_id=0:optimization_round=15/100, best_f=4.0075249671936035, steps_to_best_f=10\n",
      "y=3.8219001293182373\n",
      "restart_id=0:optimization_round=16/100, best_f=4.0075249671936035, steps_to_best_f=10\n",
      "y=3.8265950679779053\n",
      "restart_id=0:optimization_round=17/100, best_f=4.0075249671936035, steps_to_best_f=10\n",
      "y=3.831191301345825\n",
      "restart_id=0:optimization_round=18/100, best_f=4.0075249671936035, steps_to_best_f=10\n",
      "y=3.838449478149414\n",
      "restart_id=0:optimization_round=19/100, best_f=4.0075249671936035, steps_to_best_f=10\n",
      "y=3.85066294670105\n",
      "restart_id=0:optimization_round=20/100, best_f=4.0075249671936035, steps_to_best_f=10\n",
      "y=3.8656928539276123\n",
      "restart_id=0:optimization_round=21/100, best_f=4.0075249671936035, steps_to_best_f=10\n",
      "y=3.9432098865509033\n",
      "restart_id=0:optimization_round=22/100, best_f=4.0075249671936035, steps_to_best_f=10\n",
      "y=4.3837690353393555\n",
      "restart_id=0:optimization_round=23/100, best_f=4.3837690353393555, steps_to_best_f=22\n",
      "y=4.503894329071045\n",
      "restart_id=0:optimization_round=24/100, best_f=4.503894329071045, steps_to_best_f=23\n",
      "y=4.534143447875977\n",
      "restart_id=0:optimization_round=25/100, best_f=4.534143447875977, steps_to_best_f=24\n",
      "y=4.537550449371338\n",
      "restart_id=0:optimization_round=26/100, best_f=4.537550449371338, steps_to_best_f=25\n",
      "y=4.537755966186523\n",
      "restart_id=0:optimization_round=27/100, best_f=4.537755966186523, steps_to_best_f=26\n",
      "y=4.537646770477295\n",
      "restart_id=0:optimization_round=28/100, best_f=4.537755966186523, steps_to_best_f=26\n",
      "y=4.537702560424805\n",
      "restart_id=0:optimization_round=29/100, best_f=4.537755966186523, steps_to_best_f=26\n",
      "y=4.537641525268555\n",
      "restart_id=0:optimization_round=30/100, best_f=4.537755966186523, steps_to_best_f=26\n",
      "y=4.537712574005127\n",
      "restart_id=0:optimization_round=31/100, best_f=4.537755966186523, steps_to_best_f=26\n",
      "y=4.53749942779541\n",
      "restart_id=0:optimization_round=32/100, best_f=4.537755966186523, steps_to_best_f=26\n",
      "y=4.537860870361328\n",
      "restart_id=0:optimization_round=33/100, best_f=4.537860870361328, steps_to_best_f=32\n",
      "y=4.537683010101318\n",
      "restart_id=0:optimization_round=34/100, best_f=4.537860870361328, steps_to_best_f=32\n",
      "y=4.5375518798828125\n",
      "restart_id=0:optimization_round=35/100, best_f=4.537860870361328, steps_to_best_f=32\n",
      "y=4.537589073181152\n",
      "restart_id=0:optimization_round=36/100, best_f=4.537860870361328, steps_to_best_f=32\n",
      "y=4.5375895500183105\n",
      "restart_id=0:optimization_round=37/100, best_f=4.537860870361328, steps_to_best_f=32\n",
      "y=4.537570953369141\n",
      "restart_id=0:optimization_round=38/100, best_f=4.537860870361328, steps_to_best_f=32\n",
      "y=4.53753662109375\n",
      "restart_id=0:optimization_round=39/100, best_f=4.537860870361328, steps_to_best_f=32\n",
      "y=4.537557601928711\n",
      "restart_id=0:optimization_round=40/100, best_f=4.537860870361328, steps_to_best_f=32\n",
      "y=4.537628650665283\n",
      "restart_id=0:optimization_round=41/100, best_f=4.537860870361328, steps_to_best_f=32\n",
      "y=4.537687301635742\n",
      "restart_id=0:optimization_round=42/100, best_f=4.537860870361328, steps_to_best_f=32\n",
      "y=4.537615776062012\n",
      "restart_id=0:optimization_round=43/100, best_f=4.537860870361328, steps_to_best_f=32\n",
      "y=4.5377092361450195\n",
      "restart_id=0:optimization_round=44/100, best_f=4.537860870361328, steps_to_best_f=32\n",
      "y=4.537569522857666\n",
      "restart_id=0:optimization_round=45/100, best_f=4.537860870361328, steps_to_best_f=32\n",
      "y=4.5376973152160645\n",
      "restart_id=0:optimization_round=46/100, best_f=4.537860870361328, steps_to_best_f=32\n",
      "y=4.537674903869629\n",
      "restart_id=0:optimization_round=47/100, best_f=4.537860870361328, steps_to_best_f=32\n",
      "y=4.537708759307861\n",
      "restart_id=0:optimization_round=48/100, best_f=4.537860870361328, steps_to_best_f=32\n",
      "y=4.155144691467285\n",
      "restart_id=0:optimization_round=49/100, best_f=4.537860870361328, steps_to_best_f=32\n",
      "y=4.537598133087158\n",
      "restart_id=0:optimization_round=50/100, best_f=4.537860870361328, steps_to_best_f=32\n",
      "y=4.530269622802734\n",
      "restart_id=0:optimization_round=51/100, best_f=4.537860870361328, steps_to_best_f=32\n",
      "y=4.537754535675049\n",
      "restart_id=0:optimization_round=52/100, best_f=4.537860870361328, steps_to_best_f=32\n",
      "y=4.535445690155029\n",
      "restart_id=0:optimization_round=53/100, best_f=4.537860870361328, steps_to_best_f=32\n",
      "y=4.537792205810547\n",
      "restart_id=0:optimization_round=54/100, best_f=4.537860870361328, steps_to_best_f=32\n",
      "y=4.537654399871826\n",
      "restart_id=0:optimization_round=55/100, best_f=4.537860870361328, steps_to_best_f=32\n",
      "y=4.537896156311035\n",
      "restart_id=0:optimization_round=56/100, best_f=4.537896156311035, steps_to_best_f=55\n",
      "y=4.537690162658691\n",
      "restart_id=0:optimization_round=57/100, best_f=4.537896156311035, steps_to_best_f=55\n",
      "y=4.53756856918335\n",
      "restart_id=0:optimization_round=58/100, best_f=4.537896156311035, steps_to_best_f=55\n",
      "y=4.53763484954834\n",
      "restart_id=0:optimization_round=59/100, best_f=4.537896156311035, steps_to_best_f=55\n",
      "y=4.537725925445557\n",
      "restart_id=0:optimization_round=60/100, best_f=4.537896156311035, steps_to_best_f=55\n",
      "y=4.537613391876221\n",
      "restart_id=0:optimization_round=61/100, best_f=4.537896156311035, steps_to_best_f=55\n",
      "y=4.537559509277344\n",
      "restart_id=0:optimization_round=62/100, best_f=4.537896156311035, steps_to_best_f=55\n",
      "y=4.537568092346191\n",
      "restart_id=0:optimization_round=63/100, best_f=4.537896156311035, steps_to_best_f=55\n",
      "y=4.5376973152160645\n",
      "restart_id=0:optimization_round=64/100, best_f=4.537896156311035, steps_to_best_f=55\n",
      "y=4.537583351135254\n",
      "restart_id=0:optimization_round=65/100, best_f=4.537896156311035, steps_to_best_f=55\n",
      "y=4.537632465362549\n",
      "restart_id=0:optimization_round=66/100, best_f=4.537896156311035, steps_to_best_f=55\n",
      "y=4.537905216217041\n",
      "restart_id=0:optimization_round=67/100, best_f=4.537905216217041, steps_to_best_f=66\n",
      "y=4.537559986114502\n",
      "restart_id=0:optimization_round=68/100, best_f=4.537905216217041, steps_to_best_f=66\n",
      "y=4.537479877471924\n",
      "restart_id=0:optimization_round=69/100, best_f=4.537905216217041, steps_to_best_f=66\n",
      "y=4.537731647491455\n",
      "restart_id=0:optimization_round=70/100, best_f=4.537905216217041, steps_to_best_f=66\n",
      "y=4.53782844543457\n",
      "restart_id=0:optimization_round=71/100, best_f=4.537905216217041, steps_to_best_f=66\n",
      "y=4.537693977355957\n",
      "restart_id=0:optimization_round=72/100, best_f=4.537905216217041, steps_to_best_f=66\n",
      "y=4.537585258483887\n",
      "restart_id=0:optimization_round=73/100, best_f=4.537905216217041, steps_to_best_f=66\n",
      "y=4.537472248077393\n",
      "restart_id=0:optimization_round=74/100, best_f=4.537905216217041, steps_to_best_f=66\n",
      "y=4.537679195404053\n",
      "restart_id=0:optimization_round=75/100, best_f=4.537905216217041, steps_to_best_f=66\n",
      "y=4.537647724151611\n",
      "restart_id=0:optimization_round=76/100, best_f=4.537905216217041, steps_to_best_f=66\n",
      "y=4.5377020835876465\n",
      "restart_id=0:optimization_round=77/100, best_f=4.537905216217041, steps_to_best_f=66\n",
      "y=4.537502288818359\n",
      "restart_id=0:optimization_round=78/100, best_f=4.537905216217041, steps_to_best_f=66\n",
      "y=4.537709712982178\n",
      "restart_id=0:optimization_round=79/100, best_f=4.537905216217041, steps_to_best_f=66\n",
      "y=4.537697792053223\n",
      "restart_id=0:optimization_round=80/100, best_f=4.537905216217041, steps_to_best_f=66\n",
      "y=4.537647247314453\n",
      "restart_id=0:optimization_round=81/100, best_f=4.537905216217041, steps_to_best_f=66\n",
      "y=4.537744045257568\n",
      "restart_id=0:optimization_round=82/100, best_f=4.537905216217041, steps_to_best_f=66\n",
      "y=4.537734508514404\n",
      "restart_id=0:optimization_round=83/100, best_f=4.537905216217041, steps_to_best_f=66\n",
      "y=4.537609577178955\n",
      "restart_id=0:optimization_round=84/100, best_f=4.537905216217041, steps_to_best_f=66\n",
      "y=4.537789821624756\n",
      "restart_id=0:optimization_round=85/100, best_f=4.537905216217041, steps_to_best_f=66\n",
      "y=4.537596225738525\n",
      "restart_id=0:optimization_round=86/100, best_f=4.537905216217041, steps_to_best_f=66\n",
      "y=4.537602424621582\n",
      "restart_id=0:optimization_round=87/100, best_f=4.537905216217041, steps_to_best_f=66\n",
      "y=4.537516117095947\n",
      "restart_id=0:optimization_round=88/100, best_f=4.537905216217041, steps_to_best_f=66\n",
      "y=4.537771701812744\n",
      "restart_id=0:optimization_round=89/100, best_f=4.537905216217041, steps_to_best_f=66\n",
      "y=4.537718296051025\n",
      "restart_id=0:optimization_round=90/100, best_f=4.537905216217041, steps_to_best_f=66\n",
      "y=4.537418365478516\n",
      "restart_id=0:optimization_round=91/100, best_f=4.537905216217041, steps_to_best_f=66\n",
      "y=4.537542343139648\n",
      "restart_id=0:optimization_round=92/100, best_f=4.537905216217041, steps_to_best_f=66\n",
      "y=4.537631511688232\n",
      "restart_id=0:optimization_round=93/100, best_f=4.537905216217041, steps_to_best_f=66\n",
      "y=4.537724018096924\n",
      "restart_id=0:optimization_round=94/100, best_f=4.537905216217041, steps_to_best_f=66\n",
      "y=4.537641525268555\n",
      "restart_id=0:optimization_round=95/100, best_f=4.537905216217041, steps_to_best_f=66\n",
      "y=4.537529945373535\n",
      "restart_id=0:optimization_round=96/100, best_f=4.537905216217041, steps_to_best_f=66\n",
      "y=4.537693500518799\n",
      "restart_id=0:optimization_round=97/100, best_f=4.537905216217041, steps_to_best_f=66\n",
      "y=4.537660121917725\n",
      "restart_id=0:optimization_round=98/100, best_f=4.537905216217041, steps_to_best_f=66\n",
      "y=4.537711143493652\n",
      "restart_id=0:optimization_round=99/100, best_f=4.537905216217041, steps_to_best_f=66\n",
      "y=4.5374755859375\n",
      "restart_id=1/3\n",
      "restart_id=1:optimization_round=0/100, best_f=1.366602463252803, steps_to_best_f=0\n",
      "y=4.537533283233643\n",
      "restart_id=1:optimization_round=1/100, best_f=4.537533283233643, steps_to_best_f=0\n",
      "y=4.537685871124268\n",
      "restart_id=1:optimization_round=2/100, best_f=4.537685871124268, steps_to_best_f=1\n",
      "y=4.53765869140625\n",
      "restart_id=1:optimization_round=3/100, best_f=4.537685871124268, steps_to_best_f=1\n",
      "y=4.537689685821533\n",
      "restart_id=1:optimization_round=4/100, best_f=4.537689685821533, steps_to_best_f=3\n",
      "y=4.179502964019775\n",
      "restart_id=1:optimization_round=5/100, best_f=4.537689685821533, steps_to_best_f=3\n",
      "y=4.537630081176758\n",
      "restart_id=1:optimization_round=6/100, best_f=4.537689685821533, steps_to_best_f=3\n",
      "y=4.537696838378906\n",
      "restart_id=1:optimization_round=7/100, best_f=4.537696838378906, steps_to_best_f=6\n",
      "y=4.537474155426025\n",
      "restart_id=1:optimization_round=8/100, best_f=4.537696838378906, steps_to_best_f=6\n",
      "y=4.537509918212891\n",
      "restart_id=1:optimization_round=9/100, best_f=4.537696838378906, steps_to_best_f=6\n",
      "y=4.537735462188721\n",
      "restart_id=1:optimization_round=10/100, best_f=4.537735462188721, steps_to_best_f=9\n",
      "y=4.5376667976379395\n",
      "restart_id=1:optimization_round=11/100, best_f=4.537735462188721, steps_to_best_f=9\n",
      "y=4.537521839141846\n",
      "restart_id=1:optimization_round=12/100, best_f=4.537735462188721, steps_to_best_f=9\n",
      "y=4.537576675415039\n",
      "restart_id=1:optimization_round=13/100, best_f=4.537735462188721, steps_to_best_f=9\n",
      "y=4.537744045257568\n",
      "restart_id=1:optimization_round=14/100, best_f=4.537744045257568, steps_to_best_f=13\n",
      "y=4.537581443786621\n",
      "restart_id=1:optimization_round=15/100, best_f=4.537744045257568, steps_to_best_f=13\n",
      "y=4.5376505851745605\n",
      "restart_id=1:optimization_round=16/100, best_f=4.537744045257568, steps_to_best_f=13\n",
      "y=4.5376973152160645\n",
      "restart_id=1:optimization_round=17/100, best_f=4.537744045257568, steps_to_best_f=13\n",
      "y=4.537689685821533\n",
      "restart_id=1:optimization_round=18/100, best_f=4.537744045257568, steps_to_best_f=13\n",
      "y=4.537666320800781\n",
      "restart_id=1:optimization_round=19/100, best_f=4.537744045257568, steps_to_best_f=13\n",
      "y=4.5376105308532715\n",
      "restart_id=1:optimization_round=20/100, best_f=4.537744045257568, steps_to_best_f=13\n",
      "y=4.537657737731934\n",
      "restart_id=1:optimization_round=21/100, best_f=4.537744045257568, steps_to_best_f=13\n",
      "y=4.537498950958252\n",
      "restart_id=1:optimization_round=22/100, best_f=4.537744045257568, steps_to_best_f=13\n",
      "y=4.537759780883789\n",
      "restart_id=1:optimization_round=23/100, best_f=4.537759780883789, steps_to_best_f=22\n",
      "y=4.537613868713379\n",
      "restart_id=1:optimization_round=24/100, best_f=4.537759780883789, steps_to_best_f=22\n",
      "y=4.537599086761475\n",
      "restart_id=1:optimization_round=25/100, best_f=4.537759780883789, steps_to_best_f=22\n",
      "y=4.537407398223877\n",
      "restart_id=1:optimization_round=26/100, best_f=4.537759780883789, steps_to_best_f=22\n",
      "y=4.5374979972839355\n",
      "restart_id=1:optimization_round=27/100, best_f=4.537759780883789, steps_to_best_f=22\n",
      "y=4.537590026855469\n",
      "restart_id=1:optimization_round=28/100, best_f=4.537759780883789, steps_to_best_f=22\n",
      "y=4.5377888679504395\n",
      "restart_id=1:optimization_round=29/100, best_f=4.5377888679504395, steps_to_best_f=28\n",
      "y=4.5377373695373535\n",
      "restart_id=1:optimization_round=30/100, best_f=4.5377888679504395, steps_to_best_f=28\n",
      "y=4.537736415863037\n",
      "restart_id=1:optimization_round=31/100, best_f=4.5377888679504395, steps_to_best_f=28\n",
      "y=4.537552356719971\n",
      "restart_id=1:optimization_round=32/100, best_f=4.5377888679504395, steps_to_best_f=28\n",
      "y=4.537580490112305\n",
      "restart_id=1:optimization_round=33/100, best_f=4.5377888679504395, steps_to_best_f=28\n",
      "y=4.537669658660889\n",
      "restart_id=1:optimization_round=34/100, best_f=4.5377888679504395, steps_to_best_f=28\n",
      "y=4.537509918212891\n",
      "restart_id=1:optimization_round=35/100, best_f=4.5377888679504395, steps_to_best_f=28\n",
      "y=4.537683963775635\n",
      "restart_id=1:optimization_round=36/100, best_f=4.5377888679504395, steps_to_best_f=28\n",
      "y=4.537618160247803\n",
      "restart_id=1:optimization_round=37/100, best_f=4.5377888679504395, steps_to_best_f=28\n",
      "y=4.537633895874023\n",
      "restart_id=1:optimization_round=38/100, best_f=4.5377888679504395, steps_to_best_f=28\n",
      "y=4.537509918212891\n",
      "restart_id=1:optimization_round=39/100, best_f=4.5377888679504395, steps_to_best_f=28\n",
      "y=4.537660598754883\n",
      "restart_id=1:optimization_round=40/100, best_f=4.5377888679504395, steps_to_best_f=28\n",
      "y=4.537659168243408\n",
      "restart_id=1:optimization_round=41/100, best_f=4.5377888679504395, steps_to_best_f=28\n",
      "y=4.537526607513428\n",
      "restart_id=1:optimization_round=42/100, best_f=4.5377888679504395, steps_to_best_f=28\n",
      "y=4.537668704986572\n",
      "restart_id=1:optimization_round=43/100, best_f=4.5377888679504395, steps_to_best_f=28\n",
      "y=4.537827491760254\n",
      "restart_id=1:optimization_round=44/100, best_f=4.537827491760254, steps_to_best_f=43\n",
      "y=4.537693023681641\n",
      "restart_id=1:optimization_round=45/100, best_f=4.537827491760254, steps_to_best_f=43\n",
      "y=4.537734508514404\n",
      "restart_id=1:optimization_round=46/100, best_f=4.537827491760254, steps_to_best_f=43\n",
      "y=4.53764533996582\n",
      "restart_id=1:optimization_round=47/100, best_f=4.537827491760254, steps_to_best_f=43\n",
      "y=4.5377421379089355\n",
      "restart_id=1:optimization_round=48/100, best_f=4.537827491760254, steps_to_best_f=43\n",
      "y=4.537712097167969\n",
      "restart_id=1:optimization_round=49/100, best_f=4.537827491760254, steps_to_best_f=43\n",
      "y=4.537868976593018\n",
      "restart_id=1:optimization_round=50/100, best_f=4.537868976593018, steps_to_best_f=49\n",
      "y=4.537597179412842\n",
      "restart_id=1:optimization_round=51/100, best_f=4.537868976593018, steps_to_best_f=49\n",
      "y=4.537498474121094\n",
      "restart_id=1:optimization_round=52/100, best_f=4.537868976593018, steps_to_best_f=49\n",
      "y=4.537653923034668\n",
      "restart_id=1:optimization_round=53/100, best_f=4.537868976593018, steps_to_best_f=49\n",
      "y=4.537581920623779\n",
      "restart_id=1:optimization_round=54/100, best_f=4.537868976593018, steps_to_best_f=49\n",
      "y=4.537649154663086\n",
      "restart_id=1:optimization_round=55/100, best_f=4.537868976593018, steps_to_best_f=49\n",
      "y=4.537619590759277\n",
      "restart_id=1:optimization_round=56/100, best_f=4.537868976593018, steps_to_best_f=49\n",
      "y=4.537503242492676\n",
      "restart_id=1:optimization_round=57/100, best_f=4.537868976593018, steps_to_best_f=49\n",
      "y=4.537652015686035\n",
      "restart_id=1:optimization_round=58/100, best_f=4.537868976593018, steps_to_best_f=49\n",
      "y=4.537665367126465\n",
      "restart_id=1:optimization_round=59/100, best_f=4.537868976593018, steps_to_best_f=49\n",
      "y=4.537806987762451\n",
      "restart_id=1:optimization_round=60/100, best_f=4.537868976593018, steps_to_best_f=49\n",
      "y=4.537704944610596\n",
      "restart_id=1:optimization_round=61/100, best_f=4.537868976593018, steps_to_best_f=49\n",
      "y=4.537713527679443\n",
      "restart_id=1:optimization_round=62/100, best_f=4.537868976593018, steps_to_best_f=49\n",
      "y=4.537547588348389\n",
      "restart_id=1:optimization_round=63/100, best_f=4.537868976593018, steps_to_best_f=49\n",
      "y=4.537765026092529\n",
      "restart_id=1:optimization_round=64/100, best_f=4.537868976593018, steps_to_best_f=49\n",
      "y=4.537660598754883\n",
      "restart_id=1:optimization_round=65/100, best_f=4.537868976593018, steps_to_best_f=49\n",
      "y=4.5375447273254395\n",
      "restart_id=1:optimization_round=66/100, best_f=4.537868976593018, steps_to_best_f=49\n",
      "y=4.5375752449035645\n",
      "restart_id=1:optimization_round=67/100, best_f=4.537868976593018, steps_to_best_f=49\n",
      "y=4.5377020835876465\n",
      "restart_id=1:optimization_round=68/100, best_f=4.537868976593018, steps_to_best_f=49\n",
      "y=4.537768363952637\n",
      "restart_id=1:optimization_round=69/100, best_f=4.537868976593018, steps_to_best_f=49\n",
      "y=4.537893295288086\n",
      "restart_id=1:optimization_round=70/100, best_f=4.537893295288086, steps_to_best_f=69\n",
      "y=4.5376877784729\n",
      "restart_id=1:optimization_round=71/100, best_f=4.537893295288086, steps_to_best_f=69\n",
      "y=4.537724494934082\n",
      "restart_id=1:optimization_round=72/100, best_f=4.537893295288086, steps_to_best_f=69\n",
      "y=4.53748893737793\n",
      "restart_id=1:optimization_round=73/100, best_f=4.537893295288086, steps_to_best_f=69\n",
      "y=4.537555694580078\n",
      "restart_id=1:optimization_round=74/100, best_f=4.537893295288086, steps_to_best_f=69\n",
      "y=4.5376482009887695\n",
      "restart_id=1:optimization_round=75/100, best_f=4.537893295288086, steps_to_best_f=69\n",
      "y=4.537637710571289\n",
      "restart_id=1:optimization_round=76/100, best_f=4.537893295288086, steps_to_best_f=69\n",
      "y=4.5373125076293945\n",
      "restart_id=1:optimization_round=77/100, best_f=4.537893295288086, steps_to_best_f=69\n",
      "y=4.5377278327941895\n",
      "restart_id=1:optimization_round=78/100, best_f=4.537893295288086, steps_to_best_f=69\n",
      "y=4.537702560424805\n",
      "restart_id=1:optimization_round=79/100, best_f=4.537893295288086, steps_to_best_f=69\n",
      "y=4.537753105163574\n",
      "restart_id=1:optimization_round=80/100, best_f=4.537893295288086, steps_to_best_f=69\n",
      "y=4.537647724151611\n",
      "restart_id=1:optimization_round=81/100, best_f=4.537893295288086, steps_to_best_f=69\n",
      "y=4.537714958190918\n",
      "restart_id=1:optimization_round=82/100, best_f=4.537893295288086, steps_to_best_f=69\n",
      "y=4.537622451782227\n",
      "restart_id=1:optimization_round=83/100, best_f=4.537893295288086, steps_to_best_f=69\n",
      "y=4.537662029266357\n",
      "restart_id=1:optimization_round=84/100, best_f=4.537893295288086, steps_to_best_f=69\n",
      "y=4.537690162658691\n",
      "restart_id=1:optimization_round=85/100, best_f=4.537893295288086, steps_to_best_f=69\n",
      "y=4.537674903869629\n",
      "restart_id=1:optimization_round=86/100, best_f=4.537893295288086, steps_to_best_f=69\n",
      "y=4.537661075592041\n",
      "restart_id=1:optimization_round=87/100, best_f=4.537893295288086, steps_to_best_f=69\n",
      "y=4.537857532501221\n",
      "restart_id=1:optimization_round=88/100, best_f=4.537893295288086, steps_to_best_f=69\n",
      "y=4.5377349853515625\n",
      "restart_id=1:optimization_round=89/100, best_f=4.537893295288086, steps_to_best_f=69\n",
      "y=4.537680149078369\n",
      "restart_id=1:optimization_round=90/100, best_f=4.537893295288086, steps_to_best_f=69\n",
      "y=4.537705421447754\n",
      "restart_id=1:optimization_round=91/100, best_f=4.537893295288086, steps_to_best_f=69\n",
      "y=4.537714958190918\n",
      "restart_id=1:optimization_round=92/100, best_f=4.537893295288086, steps_to_best_f=69\n",
      "y=4.537546634674072\n",
      "restart_id=1:optimization_round=93/100, best_f=4.537893295288086, steps_to_best_f=69\n",
      "y=4.537642002105713\n",
      "restart_id=1:optimization_round=94/100, best_f=4.537893295288086, steps_to_best_f=69\n",
      "y=4.537763595581055\n",
      "restart_id=1:optimization_round=95/100, best_f=4.537893295288086, steps_to_best_f=69\n",
      "y=4.537623882293701\n",
      "restart_id=1:optimization_round=96/100, best_f=4.537893295288086, steps_to_best_f=69\n",
      "y=4.537655830383301\n",
      "restart_id=1:optimization_round=97/100, best_f=4.537893295288086, steps_to_best_f=69\n",
      "y=4.53759765625\n",
      "restart_id=1:optimization_round=98/100, best_f=4.537893295288086, steps_to_best_f=69\n",
      "y=4.537597179412842\n",
      "restart_id=1:optimization_round=99/100, best_f=4.537893295288086, steps_to_best_f=69\n",
      "y=4.537639141082764\n",
      "restart_id=2/3\n",
      "restart_id=2:optimization_round=0/100, best_f=1.366602463252803, steps_to_best_f=0\n",
      "y=4.537568092346191\n",
      "restart_id=2:optimization_round=1/100, best_f=4.537568092346191, steps_to_best_f=0\n",
      "y=4.537683486938477\n",
      "restart_id=2:optimization_round=2/100, best_f=4.537683486938477, steps_to_best_f=1\n",
      "y=4.537826061248779\n",
      "restart_id=2:optimization_round=3/100, best_f=4.537826061248779, steps_to_best_f=2\n",
      "y=4.537862777709961\n",
      "restart_id=2:optimization_round=4/100, best_f=4.537862777709961, steps_to_best_f=3\n",
      "y=4.537559509277344\n",
      "restart_id=2:optimization_round=5/100, best_f=4.537862777709961, steps_to_best_f=3\n",
      "y=4.5376458168029785\n",
      "restart_id=2:optimization_round=6/100, best_f=4.537862777709961, steps_to_best_f=3\n",
      "y=4.537797927856445\n",
      "restart_id=2:optimization_round=7/100, best_f=4.537862777709961, steps_to_best_f=3\n",
      "y=4.5377373695373535\n",
      "restart_id=2:optimization_round=8/100, best_f=4.537862777709961, steps_to_best_f=3\n",
      "y=4.537755966186523\n",
      "restart_id=2:optimization_round=9/100, best_f=4.537862777709961, steps_to_best_f=3\n",
      "y=4.537758827209473\n",
      "restart_id=2:optimization_round=10/100, best_f=4.537862777709961, steps_to_best_f=3\n",
      "y=4.537623405456543\n",
      "restart_id=2:optimization_round=11/100, best_f=4.537862777709961, steps_to_best_f=3\n",
      "y=4.53774356842041\n",
      "restart_id=2:optimization_round=12/100, best_f=4.537862777709961, steps_to_best_f=3\n",
      "y=4.53762149810791\n",
      "restart_id=2:optimization_round=13/100, best_f=4.537862777709961, steps_to_best_f=3\n",
      "y=4.53769063949585\n",
      "restart_id=2:optimization_round=14/100, best_f=4.537862777709961, steps_to_best_f=3\n",
      "y=4.537619113922119\n",
      "restart_id=2:optimization_round=15/100, best_f=4.537862777709961, steps_to_best_f=3\n",
      "y=4.537627696990967\n",
      "restart_id=2:optimization_round=16/100, best_f=4.537862777709961, steps_to_best_f=3\n",
      "y=4.5375261306762695\n",
      "restart_id=2:optimization_round=17/100, best_f=4.537862777709961, steps_to_best_f=3\n",
      "y=4.537695407867432\n",
      "restart_id=2:optimization_round=18/100, best_f=4.537862777709961, steps_to_best_f=3\n",
      "y=4.537677764892578\n",
      "restart_id=2:optimization_round=19/100, best_f=4.537862777709961, steps_to_best_f=3\n",
      "y=4.537569522857666\n",
      "restart_id=2:optimization_round=20/100, best_f=4.537862777709961, steps_to_best_f=3\n",
      "y=4.537528991699219\n",
      "restart_id=2:optimization_round=21/100, best_f=4.537862777709961, steps_to_best_f=3\n",
      "y=4.537638187408447\n",
      "restart_id=2:optimization_round=22/100, best_f=4.537862777709961, steps_to_best_f=3\n",
      "y=4.5377516746521\n",
      "restart_id=2:optimization_round=23/100, best_f=4.537862777709961, steps_to_best_f=3\n",
      "y=4.537600040435791\n",
      "restart_id=2:optimization_round=24/100, best_f=4.537862777709961, steps_to_best_f=3\n",
      "y=4.537683010101318\n",
      "restart_id=2:optimization_round=25/100, best_f=4.537862777709961, steps_to_best_f=3\n",
      "y=4.537565231323242\n",
      "restart_id=2:optimization_round=26/100, best_f=4.537862777709961, steps_to_best_f=3\n",
      "y=4.537607192993164\n",
      "restart_id=2:optimization_round=27/100, best_f=4.537862777709961, steps_to_best_f=3\n",
      "y=4.53761625289917\n",
      "restart_id=2:optimization_round=28/100, best_f=4.537862777709961, steps_to_best_f=3\n",
      "y=4.537680149078369\n",
      "restart_id=2:optimization_round=29/100, best_f=4.537862777709961, steps_to_best_f=3\n",
      "y=4.537752151489258\n",
      "restart_id=2:optimization_round=30/100, best_f=4.537862777709961, steps_to_best_f=3\n",
      "y=4.537621974945068\n",
      "restart_id=2:optimization_round=31/100, best_f=4.537862777709961, steps_to_best_f=3\n",
      "y=4.5377607345581055\n",
      "restart_id=2:optimization_round=32/100, best_f=4.537862777709961, steps_to_best_f=3\n",
      "y=4.537619113922119\n",
      "restart_id=2:optimization_round=33/100, best_f=4.537862777709961, steps_to_best_f=3\n",
      "y=4.537609100341797\n",
      "restart_id=2:optimization_round=34/100, best_f=4.537862777709961, steps_to_best_f=3\n",
      "y=4.537429332733154\n",
      "restart_id=2:optimization_round=35/100, best_f=4.537862777709961, steps_to_best_f=3\n",
      "y=4.537750720977783\n",
      "restart_id=2:optimization_round=36/100, best_f=4.537862777709961, steps_to_best_f=3\n",
      "y=4.537754058837891\n",
      "restart_id=2:optimization_round=37/100, best_f=4.537862777709961, steps_to_best_f=3\n",
      "y=4.537660121917725\n",
      "restart_id=2:optimization_round=38/100, best_f=4.537862777709961, steps_to_best_f=3\n",
      "y=4.537589073181152\n",
      "restart_id=2:optimization_round=39/100, best_f=4.537862777709961, steps_to_best_f=3\n",
      "y=4.537480354309082\n",
      "restart_id=2:optimization_round=40/100, best_f=4.537862777709961, steps_to_best_f=3\n",
      "y=4.537660598754883\n",
      "restart_id=2:optimization_round=41/100, best_f=4.537862777709961, steps_to_best_f=3\n",
      "y=4.537642955780029\n",
      "restart_id=2:optimization_round=42/100, best_f=4.537862777709961, steps_to_best_f=3\n",
      "y=4.537757873535156\n",
      "restart_id=2:optimization_round=43/100, best_f=4.537862777709961, steps_to_best_f=3\n",
      "y=4.537624835968018\n",
      "restart_id=2:optimization_round=44/100, best_f=4.537862777709961, steps_to_best_f=3\n",
      "y=4.5375261306762695\n",
      "restart_id=2:optimization_round=45/100, best_f=4.537862777709961, steps_to_best_f=3\n",
      "y=4.537711143493652\n",
      "restart_id=2:optimization_round=46/100, best_f=4.537862777709961, steps_to_best_f=3\n",
      "y=4.537604808807373\n",
      "restart_id=2:optimization_round=47/100, best_f=4.537862777709961, steps_to_best_f=3\n",
      "y=4.537678241729736\n",
      "restart_id=2:optimization_round=48/100, best_f=4.537862777709961, steps_to_best_f=3\n",
      "y=4.537588119506836\n",
      "restart_id=2:optimization_round=49/100, best_f=4.537862777709961, steps_to_best_f=3\n",
      "y=4.537654876708984\n",
      "restart_id=2:optimization_round=50/100, best_f=4.537862777709961, steps_to_best_f=3\n",
      "y=4.537643909454346\n",
      "restart_id=2:optimization_round=51/100, best_f=4.537862777709961, steps_to_best_f=3\n",
      "y=4.537624835968018\n",
      "restart_id=2:optimization_round=52/100, best_f=4.537862777709961, steps_to_best_f=3\n",
      "y=4.537792205810547\n",
      "restart_id=2:optimization_round=53/100, best_f=4.537862777709961, steps_to_best_f=3\n",
      "y=4.537554740905762\n",
      "restart_id=2:optimization_round=54/100, best_f=4.537862777709961, steps_to_best_f=3\n",
      "y=4.537688732147217\n",
      "restart_id=2:optimization_round=55/100, best_f=4.537862777709961, steps_to_best_f=3\n",
      "y=4.53748893737793\n",
      "restart_id=2:optimization_round=56/100, best_f=4.537862777709961, steps_to_best_f=3\n",
      "y=4.537463665008545\n",
      "restart_id=2:optimization_round=57/100, best_f=4.537862777709961, steps_to_best_f=3\n",
      "y=4.537620544433594\n",
      "restart_id=2:optimization_round=58/100, best_f=4.537862777709961, steps_to_best_f=3\n",
      "y=4.537773132324219\n",
      "restart_id=2:optimization_round=59/100, best_f=4.537862777709961, steps_to_best_f=3\n",
      "y=4.537672519683838\n",
      "restart_id=2:optimization_round=60/100, best_f=4.537862777709961, steps_to_best_f=3\n",
      "y=4.537662506103516\n",
      "restart_id=2:optimization_round=61/100, best_f=4.537862777709961, steps_to_best_f=3\n",
      "y=4.537593841552734\n",
      "restart_id=2:optimization_round=62/100, best_f=4.537862777709961, steps_to_best_f=3\n",
      "y=4.537630081176758\n",
      "restart_id=2:optimization_round=63/100, best_f=4.537862777709961, steps_to_best_f=3\n",
      "y=4.537516117095947\n",
      "restart_id=2:optimization_round=64/100, best_f=4.537862777709961, steps_to_best_f=3\n",
      "y=4.537680149078369\n",
      "restart_id=2:optimization_round=65/100, best_f=4.537862777709961, steps_to_best_f=3\n",
      "y=4.537787437438965\n",
      "restart_id=2:optimization_round=66/100, best_f=4.537862777709961, steps_to_best_f=3\n",
      "y=4.537716865539551\n",
      "restart_id=2:optimization_round=67/100, best_f=4.537862777709961, steps_to_best_f=3\n",
      "y=4.53767728805542\n",
      "restart_id=2:optimization_round=68/100, best_f=4.537862777709961, steps_to_best_f=3\n",
      "y=4.537769794464111\n",
      "restart_id=2:optimization_round=69/100, best_f=4.537862777709961, steps_to_best_f=3\n",
      "y=4.537668228149414\n",
      "restart_id=2:optimization_round=70/100, best_f=4.537862777709961, steps_to_best_f=3\n",
      "y=4.537491321563721\n",
      "restart_id=2:optimization_round=71/100, best_f=4.537862777709961, steps_to_best_f=3\n",
      "y=4.537808895111084\n",
      "restart_id=2:optimization_round=72/100, best_f=4.537862777709961, steps_to_best_f=3\n",
      "y=4.5376787185668945\n",
      "restart_id=2:optimization_round=73/100, best_f=4.537862777709961, steps_to_best_f=3\n",
      "y=4.537654876708984\n",
      "restart_id=2:optimization_round=74/100, best_f=4.537862777709961, steps_to_best_f=3\n",
      "y=4.537743091583252\n",
      "restart_id=2:optimization_round=75/100, best_f=4.537862777709961, steps_to_best_f=3\n",
      "y=4.537590503692627\n",
      "restart_id=2:optimization_round=76/100, best_f=4.537862777709961, steps_to_best_f=3\n",
      "y=4.537610054016113\n",
      "restart_id=2:optimization_round=77/100, best_f=4.537862777709961, steps_to_best_f=3\n",
      "y=4.537856101989746\n",
      "restart_id=2:optimization_round=78/100, best_f=4.537862777709961, steps_to_best_f=3\n",
      "y=4.537617206573486\n",
      "restart_id=2:optimization_round=79/100, best_f=4.537862777709961, steps_to_best_f=3\n",
      "y=4.537744045257568\n",
      "restart_id=2:optimization_round=80/100, best_f=4.537862777709961, steps_to_best_f=3\n",
      "y=4.53769588470459\n",
      "restart_id=2:optimization_round=81/100, best_f=4.537862777709961, steps_to_best_f=3\n",
      "y=4.53765344619751\n",
      "restart_id=2:optimization_round=82/100, best_f=4.537862777709961, steps_to_best_f=3\n",
      "y=4.537672519683838\n",
      "restart_id=2:optimization_round=83/100, best_f=4.537862777709961, steps_to_best_f=3\n",
      "y=4.537738800048828\n",
      "restart_id=2:optimization_round=84/100, best_f=4.537862777709961, steps_to_best_f=3\n",
      "y=4.5378313064575195\n",
      "restart_id=2:optimization_round=85/100, best_f=4.537862777709961, steps_to_best_f=3\n",
      "y=4.537785530090332\n",
      "restart_id=2:optimization_round=86/100, best_f=4.537862777709961, steps_to_best_f=3\n",
      "y=4.537549018859863\n",
      "restart_id=2:optimization_round=87/100, best_f=4.537862777709961, steps_to_best_f=3\n",
      "y=4.537726402282715\n",
      "restart_id=2:optimization_round=88/100, best_f=4.537862777709961, steps_to_best_f=3\n",
      "y=4.537600517272949\n",
      "restart_id=2:optimization_round=89/100, best_f=4.537862777709961, steps_to_best_f=3\n",
      "y=4.537689208984375\n",
      "restart_id=2:optimization_round=90/100, best_f=4.537862777709961, steps_to_best_f=3\n",
      "y=4.537730693817139\n",
      "restart_id=2:optimization_round=91/100, best_f=4.537862777709961, steps_to_best_f=3\n",
      "y=4.5375776290893555\n",
      "restart_id=2:optimization_round=92/100, best_f=4.537862777709961, steps_to_best_f=3\n",
      "y=4.537720203399658\n",
      "restart_id=2:optimization_round=93/100, best_f=4.537862777709961, steps_to_best_f=3\n",
      "y=4.537552356719971\n",
      "restart_id=2:optimization_round=94/100, best_f=4.537862777709961, steps_to_best_f=3\n",
      "y=4.537513732910156\n",
      "restart_id=2:optimization_round=95/100, best_f=4.537862777709961, steps_to_best_f=3\n",
      "y=4.537689685821533\n",
      "restart_id=2:optimization_round=96/100, best_f=4.537862777709961, steps_to_best_f=3\n",
      "y=4.537635326385498\n",
      "restart_id=2:optimization_round=97/100, best_f=4.537862777709961, steps_to_best_f=3\n",
      "y=4.537704944610596\n",
      "restart_id=2:optimization_round=98/100, best_f=4.537862777709961, steps_to_best_f=3\n",
      "y=4.537835121154785\n",
      "restart_id=2:optimization_round=99/100, best_f=4.537862777709961, steps_to_best_f=3\n",
      "y=4.537734508514404\n"
     ]
    }
   ],
   "source": [
    "utils.clear_memory()\n",
    "\n",
    "# BO loop\n",
    "num_optimization_rounds = 100\n",
    "num_restarts = 3\n",
    "bobn_results = []\n",
    "\n",
    "for restart_id in range(num_restarts):\n",
    "    print(f\"{restart_id=}/{num_restarts}\")\n",
    "    observations = {}\n",
    "    observations.update(initial_data)\n",
    "    best_f = float(initial_train_y.max())\n",
    "    steps_to_best_f = 0\n",
    "    for optimization_round in range(num_optimization_rounds):\n",
    "        print(f\"{restart_id=}:{optimization_round=}/{num_optimization_rounds}, {best_f=}, {steps_to_best_f=}\")\n",
    "        next_candidate = bobn.opt(observations)\n",
    "        for k, v in next_candidate.items():\n",
    "            observations[k].append(v)\n",
    "        next_candidate_tensor = []\n",
    "        for p in space:\n",
    "            next_candidate_tensor.append(next_candidate[p])\n",
    "        next_candidate_tensor = torch.tensor(next_candidate_tensor)\n",
    "        y = float(problem(next_candidate_tensor))\n",
    "        if y > best_f:\n",
    "            best_f = y\n",
    "            steps_to_best_f = optimization_round\n",
    "        print(f\"{y=}\")\n",
    "        observations['y'].append(float(y))\n",
    "        structure_eval = eval_structure(next_candidate_tensor)\n",
    "        for idx, i in enumerate(space):\n",
    "            observations[f\"mid({i})\"].append(float(structure_eval[idx]))\n",
    "\n",
    "        bobn_results.append(bench_util.ExperimentResult(\n",
    "            model=\"BoBn\",\n",
    "            step=optimization_round,\n",
    "            restart=restart_id,\n",
    "            candidate=next_candidate,\n",
    "            result=float(y),\n",
    "            best_f=best_f,\n",
    "            steps_to_best_f=steps_to_best_f\n",
    "        ))\n",
    "\n"
   ],
   "metadata": {
    "collapsed": false,
    "ExecuteTime": {
     "end_time": "2023-12-30T13:54:57.083149Z",
     "start_time": "2023-12-30T13:54:55.390933Z"
    }
   },
   "id": "a86277c56292bd90",
   "execution_count": 228
  },
  {
   "cell_type": "code",
   "execution_count": 229,
   "outputs": [
    {
     "name": "stdout",
     "output_type": "stream",
     "text": [
      "restart_id=0/3\n",
      "restart_id=0:optimization_round=0/100, best_f=1.366602463252803, steps_to_best_f=0\n",
      "y=tensor([0.1590], device='cuda:0', dtype=torch.float64)\n",
      "restart_id=0:optimization_round=1/100, best_f=1.366602463252803, steps_to_best_f=0\n",
      "y=tensor([0.7912], device='cuda:0', dtype=torch.float64)\n",
      "restart_id=0:optimization_round=2/100, best_f=1.366602463252803, steps_to_best_f=0\n",
      "y=tensor([1.7632], device='cuda:0', dtype=torch.float64)\n",
      "restart_id=0:optimization_round=3/100, best_f=1.7632176388672087, steps_to_best_f=2\n",
      "y=tensor([1.1139], device='cuda:0', dtype=torch.float64)\n",
      "restart_id=0:optimization_round=4/100, best_f=1.7632176388672087, steps_to_best_f=2\n",
      "y=tensor([0.1612], device='cuda:0', dtype=torch.float64)\n",
      "restart_id=0:optimization_round=5/100, best_f=1.7632176388672087, steps_to_best_f=2\n",
      "y=tensor([0.1141], device='cuda:0', dtype=torch.float64)\n",
      "restart_id=0:optimization_round=6/100, best_f=1.7632176388672087, steps_to_best_f=2\n",
      "y=tensor([0.8682], device='cuda:0', dtype=torch.float64)\n",
      "restart_id=0:optimization_round=7/100, best_f=1.7632176388672087, steps_to_best_f=2\n",
      "y=tensor([1.2823], device='cuda:0', dtype=torch.float64)\n",
      "restart_id=0:optimization_round=8/100, best_f=1.7632176388672087, steps_to_best_f=2\n",
      "y=tensor([1.2189], device='cuda:0', dtype=torch.float64)\n",
      "restart_id=0:optimization_round=9/100, best_f=1.7632176388672087, steps_to_best_f=2\n",
      "y=tensor([1.5067], device='cuda:0', dtype=torch.float64)\n",
      "restart_id=0:optimization_round=10/100, best_f=1.7632176388672087, steps_to_best_f=2\n",
      "y=tensor([0.0629], device='cuda:0', dtype=torch.float64)\n",
      "restart_id=0:optimization_round=11/100, best_f=1.7632176388672087, steps_to_best_f=2\n",
      "y=tensor([0.5345], device='cuda:0', dtype=torch.float64)\n",
      "restart_id=0:optimization_round=12/100, best_f=1.7632176388672087, steps_to_best_f=2\n",
      "y=tensor([1.5016], device='cuda:0', dtype=torch.float64)\n",
      "restart_id=0:optimization_round=13/100, best_f=1.7632176388672087, steps_to_best_f=2\n",
      "y=tensor([0.7626], device='cuda:0', dtype=torch.float64)\n",
      "restart_id=0:optimization_round=14/100, best_f=1.7632176388672087, steps_to_best_f=2\n",
      "y=tensor([0.6729], device='cuda:0', dtype=torch.float64)\n",
      "restart_id=0:optimization_round=15/100, best_f=1.7632176388672087, steps_to_best_f=2\n",
      "y=tensor([0.8299], device='cuda:0', dtype=torch.float64)\n",
      "restart_id=0:optimization_round=16/100, best_f=1.7632176388672087, steps_to_best_f=2\n"
     ]
    },
    {
     "name": "stderr",
     "output_type": "stream",
     "text": [
      "/home/salabed/anaconda3/envs/rocksdb/lib/python3.8/site-packages/botorch/optim/initializers.py:403: BadInitialCandidatesWarning: Unable to find non-zero acquisition function values - initial conditions are being selected randomly.\n",
      "  warnings.warn(\n"
     ]
    },
    {
     "name": "stdout",
     "output_type": "stream",
     "text": [
      "y=tensor([0.0117], device='cuda:0', dtype=torch.float64)\n",
      "restart_id=0:optimization_round=17/100, best_f=1.7632176388672087, steps_to_best_f=2\n",
      "y=tensor([2.6374], device='cuda:0', dtype=torch.float64)\n",
      "restart_id=0:optimization_round=18/100, best_f=2.6374110851846613, steps_to_best_f=17\n",
      "y=tensor([1.5861], device='cuda:0', dtype=torch.float64)\n",
      "restart_id=0:optimization_round=19/100, best_f=2.6374110851846613, steps_to_best_f=17\n",
      "y=tensor([1.0645], device='cuda:0', dtype=torch.float64)\n",
      "restart_id=0:optimization_round=20/100, best_f=2.6374110851846613, steps_to_best_f=17\n"
     ]
    },
    {
     "name": "stderr",
     "output_type": "stream",
     "text": [
      "/home/salabed/anaconda3/envs/rocksdb/lib/python3.8/site-packages/botorch/optim/initializers.py:403: BadInitialCandidatesWarning: Unable to find non-zero acquisition function values - initial conditions are being selected randomly.\n",
      "  warnings.warn(\n",
      "/home/salabed/anaconda3/envs/rocksdb/lib/python3.8/site-packages/botorch/optim/initializers.py:403: BadInitialCandidatesWarning: Unable to find non-zero acquisition function values - initial conditions are being selected randomly.\n",
      "  warnings.warn(\n"
     ]
    },
    {
     "name": "stdout",
     "output_type": "stream",
     "text": [
      "y=tensor([0.2372], device='cuda:0', dtype=torch.float64)\n",
      "restart_id=0:optimization_round=21/100, best_f=2.6374110851846613, steps_to_best_f=17\n",
      "y=tensor([9.0987e-05], device='cuda:0', dtype=torch.float64)\n",
      "restart_id=0:optimization_round=22/100, best_f=2.6374110851846613, steps_to_best_f=17\n"
     ]
    },
    {
     "name": "stderr",
     "output_type": "stream",
     "text": [
      "/home/salabed/anaconda3/envs/rocksdb/lib/python3.8/site-packages/botorch/optim/initializers.py:403: BadInitialCandidatesWarning: Unable to find non-zero acquisition function values - initial conditions are being selected randomly.\n",
      "  warnings.warn(\n",
      "/home/salabed/anaconda3/envs/rocksdb/lib/python3.8/site-packages/botorch/optim/initializers.py:403: BadInitialCandidatesWarning: Unable to find non-zero acquisition function values - initial conditions are being selected randomly.\n",
      "  warnings.warn(\n"
     ]
    },
    {
     "name": "stdout",
     "output_type": "stream",
     "text": [
      "y=tensor([0.6182], device='cuda:0', dtype=torch.float64)\n",
      "restart_id=0:optimization_round=23/100, best_f=2.6374110851846613, steps_to_best_f=17\n",
      "y=tensor([0.0556], device='cuda:0', dtype=torch.float64)\n",
      "restart_id=0:optimization_round=24/100, best_f=2.6374110851846613, steps_to_best_f=17\n"
     ]
    },
    {
     "name": "stderr",
     "output_type": "stream",
     "text": [
      "/home/salabed/anaconda3/envs/rocksdb/lib/python3.8/site-packages/botorch/optim/initializers.py:403: BadInitialCandidatesWarning: Unable to find non-zero acquisition function values - initial conditions are being selected randomly.\n",
      "  warnings.warn(\n"
     ]
    },
    {
     "name": "stdout",
     "output_type": "stream",
     "text": [
      "y=tensor([0.1962], device='cuda:0', dtype=torch.float64)\n",
      "restart_id=0:optimization_round=25/100, best_f=2.6374110851846613, steps_to_best_f=17\n"
     ]
    },
    {
     "name": "stderr",
     "output_type": "stream",
     "text": [
      "/home/salabed/anaconda3/envs/rocksdb/lib/python3.8/site-packages/botorch/optim/initializers.py:403: BadInitialCandidatesWarning: Unable to find non-zero acquisition function values - initial conditions are being selected randomly.\n",
      "  warnings.warn(\n"
     ]
    },
    {
     "name": "stdout",
     "output_type": "stream",
     "text": [
      "y=tensor([0.6064], device='cuda:0', dtype=torch.float64)\n",
      "restart_id=0:optimization_round=26/100, best_f=2.6374110851846613, steps_to_best_f=17\n"
     ]
    },
    {
     "name": "stderr",
     "output_type": "stream",
     "text": [
      "/home/salabed/anaconda3/envs/rocksdb/lib/python3.8/site-packages/botorch/optim/initializers.py:403: BadInitialCandidatesWarning: Unable to find non-zero acquisition function values - initial conditions are being selected randomly.\n",
      "  warnings.warn(\n"
     ]
    },
    {
     "name": "stdout",
     "output_type": "stream",
     "text": [
      "y=tensor([0.2220], device='cuda:0', dtype=torch.float64)\n",
      "restart_id=0:optimization_round=27/100, best_f=2.6374110851846613, steps_to_best_f=17\n"
     ]
    },
    {
     "name": "stderr",
     "output_type": "stream",
     "text": [
      "/home/salabed/anaconda3/envs/rocksdb/lib/python3.8/site-packages/botorch/optim/initializers.py:403: BadInitialCandidatesWarning: Unable to find non-zero acquisition function values - initial conditions are being selected randomly.\n",
      "  warnings.warn(\n"
     ]
    },
    {
     "name": "stdout",
     "output_type": "stream",
     "text": [
      "y=tensor([1.4910], device='cuda:0', dtype=torch.float64)\n",
      "restart_id=0:optimization_round=28/100, best_f=2.6374110851846613, steps_to_best_f=17\n"
     ]
    },
    {
     "name": "stderr",
     "output_type": "stream",
     "text": [
      "/home/salabed/anaconda3/envs/rocksdb/lib/python3.8/site-packages/botorch/optim/initializers.py:403: BadInitialCandidatesWarning: Unable to find non-zero acquisition function values - initial conditions are being selected randomly.\n",
      "  warnings.warn(\n"
     ]
    },
    {
     "name": "stdout",
     "output_type": "stream",
     "text": [
      "y=tensor([0.5172], device='cuda:0', dtype=torch.float64)\n",
      "restart_id=0:optimization_round=29/100, best_f=2.6374110851846613, steps_to_best_f=17\n"
     ]
    },
    {
     "name": "stderr",
     "output_type": "stream",
     "text": [
      "/home/salabed/anaconda3/envs/rocksdb/lib/python3.8/site-packages/botorch/optim/initializers.py:403: BadInitialCandidatesWarning: Unable to find non-zero acquisition function values - initial conditions are being selected randomly.\n",
      "  warnings.warn(\n"
     ]
    },
    {
     "name": "stdout",
     "output_type": "stream",
     "text": [
      "y=tensor([1.0319], device='cuda:0', dtype=torch.float64)\n",
      "restart_id=0:optimization_round=30/100, best_f=2.6374110851846613, steps_to_best_f=17\n"
     ]
    },
    {
     "name": "stderr",
     "output_type": "stream",
     "text": [
      "/home/salabed/anaconda3/envs/rocksdb/lib/python3.8/site-packages/botorch/optim/initializers.py:403: BadInitialCandidatesWarning: Unable to find non-zero acquisition function values - initial conditions are being selected randomly.\n",
      "  warnings.warn(\n"
     ]
    },
    {
     "name": "stdout",
     "output_type": "stream",
     "text": [
      "y=tensor([0.4523], device='cuda:0', dtype=torch.float64)\n",
      "restart_id=0:optimization_round=31/100, best_f=2.6374110851846613, steps_to_best_f=17\n"
     ]
    },
    {
     "name": "stderr",
     "output_type": "stream",
     "text": [
      "/home/salabed/anaconda3/envs/rocksdb/lib/python3.8/site-packages/botorch/optim/initializers.py:403: BadInitialCandidatesWarning: Unable to find non-zero acquisition function values - initial conditions are being selected randomly.\n",
      "  warnings.warn(\n"
     ]
    },
    {
     "name": "stdout",
     "output_type": "stream",
     "text": [
      "y=tensor([0.0886], device='cuda:0', dtype=torch.float64)\n",
      "restart_id=0:optimization_round=32/100, best_f=2.6374110851846613, steps_to_best_f=17\n"
     ]
    },
    {
     "name": "stderr",
     "output_type": "stream",
     "text": [
      "/home/salabed/anaconda3/envs/rocksdb/lib/python3.8/site-packages/botorch/optim/initializers.py:403: BadInitialCandidatesWarning: Unable to find non-zero acquisition function values - initial conditions are being selected randomly.\n",
      "  warnings.warn(\n"
     ]
    },
    {
     "name": "stdout",
     "output_type": "stream",
     "text": [
      "y=tensor([0.2791], device='cuda:0', dtype=torch.float64)\n",
      "restart_id=0:optimization_round=33/100, best_f=2.6374110851846613, steps_to_best_f=17\n"
     ]
    },
    {
     "name": "stderr",
     "output_type": "stream",
     "text": [
      "/home/salabed/anaconda3/envs/rocksdb/lib/python3.8/site-packages/botorch/optim/initializers.py:403: BadInitialCandidatesWarning: Unable to find non-zero acquisition function values - initial conditions are being selected randomly.\n",
      "  warnings.warn(\n"
     ]
    },
    {
     "name": "stdout",
     "output_type": "stream",
     "text": [
      "y=tensor([8.2352e-06], device='cuda:0', dtype=torch.float64)\n",
      "restart_id=0:optimization_round=34/100, best_f=2.6374110851846613, steps_to_best_f=17\n"
     ]
    },
    {
     "name": "stderr",
     "output_type": "stream",
     "text": [
      "/home/salabed/anaconda3/envs/rocksdb/lib/python3.8/site-packages/botorch/optim/initializers.py:403: BadInitialCandidatesWarning: Unable to find non-zero acquisition function values - initial conditions are being selected randomly.\n",
      "  warnings.warn(\n"
     ]
    },
    {
     "name": "stdout",
     "output_type": "stream",
     "text": [
      "y=tensor([1.0833], device='cuda:0', dtype=torch.float64)\n",
      "restart_id=0:optimization_round=35/100, best_f=2.6374110851846613, steps_to_best_f=17\n"
     ]
    },
    {
     "name": "stderr",
     "output_type": "stream",
     "text": [
      "/home/salabed/anaconda3/envs/rocksdb/lib/python3.8/site-packages/botorch/optim/initializers.py:403: BadInitialCandidatesWarning: Unable to find non-zero acquisition function values - initial conditions are being selected randomly.\n",
      "  warnings.warn(\n"
     ]
    },
    {
     "name": "stdout",
     "output_type": "stream",
     "text": [
      "y=tensor([1.6797], device='cuda:0', dtype=torch.float64)\n",
      "restart_id=0:optimization_round=36/100, best_f=2.6374110851846613, steps_to_best_f=17\n"
     ]
    },
    {
     "name": "stderr",
     "output_type": "stream",
     "text": [
      "/home/salabed/anaconda3/envs/rocksdb/lib/python3.8/site-packages/botorch/optim/initializers.py:403: BadInitialCandidatesWarning: Unable to find non-zero acquisition function values - initial conditions are being selected randomly.\n",
      "  warnings.warn(\n"
     ]
    },
    {
     "name": "stdout",
     "output_type": "stream",
     "text": [
      "y=tensor([0.2889], device='cuda:0', dtype=torch.float64)\n",
      "restart_id=0:optimization_round=37/100, best_f=2.6374110851846613, steps_to_best_f=17\n"
     ]
    },
    {
     "name": "stderr",
     "output_type": "stream",
     "text": [
      "/home/salabed/anaconda3/envs/rocksdb/lib/python3.8/site-packages/botorch/optim/initializers.py:403: BadInitialCandidatesWarning: Unable to find non-zero acquisition function values - initial conditions are being selected randomly.\n",
      "  warnings.warn(\n",
      "/home/salabed/anaconda3/envs/rocksdb/lib/python3.8/site-packages/botorch/optim/initializers.py:403: BadInitialCandidatesWarning: Unable to find non-zero acquisition function values - initial conditions are being selected randomly.\n",
      "  warnings.warn(\n"
     ]
    },
    {
     "name": "stdout",
     "output_type": "stream",
     "text": [
      "y=tensor([0.4784], device='cuda:0', dtype=torch.float64)\n",
      "restart_id=0:optimization_round=38/100, best_f=2.6374110851846613, steps_to_best_f=17\n",
      "y=tensor([1.9620], device='cuda:0', dtype=torch.float64)\n",
      "restart_id=0:optimization_round=39/100, best_f=2.6374110851846613, steps_to_best_f=17\n"
     ]
    },
    {
     "name": "stderr",
     "output_type": "stream",
     "text": [
      "/home/salabed/anaconda3/envs/rocksdb/lib/python3.8/site-packages/botorch/optim/initializers.py:403: BadInitialCandidatesWarning: Unable to find non-zero acquisition function values - initial conditions are being selected randomly.\n",
      "  warnings.warn(\n",
      "/home/salabed/anaconda3/envs/rocksdb/lib/python3.8/site-packages/botorch/optim/initializers.py:403: BadInitialCandidatesWarning: Unable to find non-zero acquisition function values - initial conditions are being selected randomly.\n",
      "  warnings.warn(\n"
     ]
    },
    {
     "name": "stdout",
     "output_type": "stream",
     "text": [
      "y=tensor([0.0304], device='cuda:0', dtype=torch.float64)\n",
      "restart_id=0:optimization_round=40/100, best_f=2.6374110851846613, steps_to_best_f=17\n",
      "y=tensor([0.7163], device='cuda:0', dtype=torch.float64)\n",
      "restart_id=0:optimization_round=41/100, best_f=2.6374110851846613, steps_to_best_f=17\n"
     ]
    },
    {
     "name": "stderr",
     "output_type": "stream",
     "text": [
      "/home/salabed/anaconda3/envs/rocksdb/lib/python3.8/site-packages/botorch/optim/initializers.py:403: BadInitialCandidatesWarning: Unable to find non-zero acquisition function values - initial conditions are being selected randomly.\n",
      "  warnings.warn(\n",
      "/home/salabed/anaconda3/envs/rocksdb/lib/python3.8/site-packages/botorch/optim/initializers.py:403: BadInitialCandidatesWarning: Unable to find non-zero acquisition function values - initial conditions are being selected randomly.\n",
      "  warnings.warn(\n"
     ]
    },
    {
     "name": "stdout",
     "output_type": "stream",
     "text": [
      "y=tensor([0.6436], device='cuda:0', dtype=torch.float64)\n",
      "restart_id=0:optimization_round=42/100, best_f=2.6374110851846613, steps_to_best_f=17\n",
      "y=tensor([0.0016], device='cuda:0', dtype=torch.float64)\n",
      "restart_id=0:optimization_round=43/100, best_f=2.6374110851846613, steps_to_best_f=17\n"
     ]
    },
    {
     "name": "stderr",
     "output_type": "stream",
     "text": [
      "/home/salabed/anaconda3/envs/rocksdb/lib/python3.8/site-packages/botorch/optim/initializers.py:403: BadInitialCandidatesWarning: Unable to find non-zero acquisition function values - initial conditions are being selected randomly.\n",
      "  warnings.warn(\n"
     ]
    },
    {
     "name": "stdout",
     "output_type": "stream",
     "text": [
      "y=tensor([0.0035], device='cuda:0', dtype=torch.float64)\n",
      "restart_id=0:optimization_round=44/100, best_f=2.6374110851846613, steps_to_best_f=17\n",
      "y=tensor([1.9921], device='cuda:0', dtype=torch.float64)\n",
      "restart_id=0:optimization_round=45/100, best_f=2.6374110851846613, steps_to_best_f=17\n",
      "y=tensor([2.0476], device='cuda:0', dtype=torch.float64)\n",
      "restart_id=0:optimization_round=46/100, best_f=2.6374110851846613, steps_to_best_f=17\n",
      "y=tensor([1.6885], device='cuda:0', dtype=torch.float64)\n",
      "restart_id=0:optimization_round=47/100, best_f=2.6374110851846613, steps_to_best_f=17\n",
      "y=tensor([1.4888], device='cuda:0', dtype=torch.float64)\n",
      "restart_id=0:optimization_round=48/100, best_f=2.6374110851846613, steps_to_best_f=17\n",
      "y=tensor([2.1021], device='cuda:0', dtype=torch.float64)\n",
      "restart_id=0:optimization_round=49/100, best_f=2.6374110851846613, steps_to_best_f=17\n"
     ]
    },
    {
     "name": "stderr",
     "output_type": "stream",
     "text": [
      "/home/salabed/anaconda3/envs/rocksdb/lib/python3.8/site-packages/botorch/optim/initializers.py:403: BadInitialCandidatesWarning: Unable to find non-zero acquisition function values - initial conditions are being selected randomly.\n",
      "  warnings.warn(\n"
     ]
    },
    {
     "name": "stdout",
     "output_type": "stream",
     "text": [
      "y=tensor([1.6062], device='cuda:0', dtype=torch.float64)\n",
      "restart_id=0:optimization_round=50/100, best_f=2.6374110851846613, steps_to_best_f=17\n",
      "y=tensor([1.6177], device='cuda:0', dtype=torch.float64)\n",
      "restart_id=0:optimization_round=51/100, best_f=2.6374110851846613, steps_to_best_f=17\n",
      "y=tensor([2.3888], device='cuda:0', dtype=torch.float64)\n",
      "restart_id=0:optimization_round=52/100, best_f=2.6374110851846613, steps_to_best_f=17\n",
      "y=tensor([2.0425], device='cuda:0', dtype=torch.float64)\n",
      "restart_id=0:optimization_round=53/100, best_f=2.6374110851846613, steps_to_best_f=17\n",
      "y=tensor([1.4768], device='cuda:0', dtype=torch.float64)\n",
      "restart_id=0:optimization_round=54/100, best_f=2.6374110851846613, steps_to_best_f=17\n",
      "y=tensor([1.3894], device='cuda:0', dtype=torch.float64)\n",
      "restart_id=0:optimization_round=55/100, best_f=2.6374110851846613, steps_to_best_f=17\n",
      "y=tensor([2.0310], device='cuda:0', dtype=torch.float64)\n",
      "restart_id=0:optimization_round=56/100, best_f=2.6374110851846613, steps_to_best_f=17\n",
      "y=tensor([1.6378], device='cuda:0', dtype=torch.float64)\n",
      "restart_id=0:optimization_round=57/100, best_f=2.6374110851846613, steps_to_best_f=17\n",
      "y=tensor([2.1366], device='cuda:0', dtype=torch.float64)\n",
      "restart_id=0:optimization_round=58/100, best_f=2.6374110851846613, steps_to_best_f=17\n",
      "y=tensor([2.1430], device='cuda:0', dtype=torch.float64)\n",
      "restart_id=0:optimization_round=59/100, best_f=2.6374110851846613, steps_to_best_f=17\n"
     ]
    },
    {
     "name": "stderr",
     "output_type": "stream",
     "text": [
      "/home/salabed/anaconda3/envs/rocksdb/lib/python3.8/site-packages/botorch/optim/initializers.py:403: BadInitialCandidatesWarning: Unable to find non-zero acquisition function values - initial conditions are being selected randomly.\n",
      "  warnings.warn(\n"
     ]
    },
    {
     "name": "stdout",
     "output_type": "stream",
     "text": [
      "y=tensor([0.0960], device='cuda:0', dtype=torch.float64)\n",
      "restart_id=0:optimization_round=60/100, best_f=2.6374110851846613, steps_to_best_f=17\n"
     ]
    },
    {
     "name": "stderr",
     "output_type": "stream",
     "text": [
      "/home/salabed/anaconda3/envs/rocksdb/lib/python3.8/site-packages/botorch/optim/initializers.py:403: BadInitialCandidatesWarning: Unable to find non-zero acquisition function values - initial conditions are being selected randomly.\n",
      "  warnings.warn(\n"
     ]
    },
    {
     "name": "stdout",
     "output_type": "stream",
     "text": [
      "y=tensor([0.0303], device='cuda:0', dtype=torch.float64)\n",
      "restart_id=0:optimization_round=61/100, best_f=2.6374110851846613, steps_to_best_f=17\n",
      "y=tensor([1.4689], device='cuda:0', dtype=torch.float64)\n",
      "restart_id=0:optimization_round=62/100, best_f=2.6374110851846613, steps_to_best_f=17\n"
     ]
    },
    {
     "name": "stderr",
     "output_type": "stream",
     "text": [
      "/home/salabed/anaconda3/envs/rocksdb/lib/python3.8/site-packages/botorch/optim/initializers.py:403: BadInitialCandidatesWarning: Unable to find non-zero acquisition function values - initial conditions are being selected randomly.\n",
      "  warnings.warn(\n"
     ]
    },
    {
     "name": "stdout",
     "output_type": "stream",
     "text": [
      "y=tensor([1.7032], device='cuda:0', dtype=torch.float64)\n",
      "restart_id=0:optimization_round=63/100, best_f=2.6374110851846613, steps_to_best_f=17\n"
     ]
    },
    {
     "name": "stderr",
     "output_type": "stream",
     "text": [
      "/home/salabed/anaconda3/envs/rocksdb/lib/python3.8/site-packages/botorch/optim/initializers.py:403: BadInitialCandidatesWarning: Unable to find non-zero acquisition function values - initial conditions are being selected randomly.\n",
      "  warnings.warn(\n"
     ]
    },
    {
     "name": "stdout",
     "output_type": "stream",
     "text": [
      "y=tensor([1.3068], device='cuda:0', dtype=torch.float64)\n",
      "restart_id=0:optimization_round=64/100, best_f=2.6374110851846613, steps_to_best_f=17\n",
      "y=tensor([1.8399], device='cuda:0', dtype=torch.float64)\n",
      "restart_id=0:optimization_round=65/100, best_f=2.6374110851846613, steps_to_best_f=17\n",
      "y=tensor([0.7505], device='cuda:0', dtype=torch.float64)\n",
      "restart_id=0:optimization_round=66/100, best_f=2.6374110851846613, steps_to_best_f=17\n"
     ]
    },
    {
     "name": "stderr",
     "output_type": "stream",
     "text": [
      "/home/salabed/anaconda3/envs/rocksdb/lib/python3.8/site-packages/botorch/optim/initializers.py:403: BadInitialCandidatesWarning: Unable to find non-zero acquisition function values - initial conditions are being selected randomly.\n",
      "  warnings.warn(\n"
     ]
    },
    {
     "name": "stdout",
     "output_type": "stream",
     "text": [
      "y=tensor([0.6756], device='cuda:0', dtype=torch.float64)\n",
      "restart_id=0:optimization_round=67/100, best_f=2.6374110851846613, steps_to_best_f=17\n",
      "y=tensor([3.0728], device='cuda:0', dtype=torch.float64)\n",
      "restart_id=0:optimization_round=68/100, best_f=3.0728070056244396, steps_to_best_f=67\n",
      "y=tensor([2.4963], device='cuda:0', dtype=torch.float64)\n",
      "restart_id=0:optimization_round=69/100, best_f=3.0728070056244396, steps_to_best_f=67\n",
      "y=tensor([2.3712], device='cuda:0', dtype=torch.float64)\n",
      "restart_id=0:optimization_round=70/100, best_f=3.0728070056244396, steps_to_best_f=67\n"
     ]
    },
    {
     "name": "stderr",
     "output_type": "stream",
     "text": [
      "/home/salabed/anaconda3/envs/rocksdb/lib/python3.8/site-packages/botorch/optim/initializers.py:403: BadInitialCandidatesWarning: Unable to find non-zero acquisition function values - initial conditions are being selected randomly.\n",
      "  warnings.warn(\n"
     ]
    },
    {
     "name": "stdout",
     "output_type": "stream",
     "text": [
      "y=tensor([0.0050], device='cuda:0', dtype=torch.float64)\n",
      "restart_id=0:optimization_round=71/100, best_f=3.0728070056244396, steps_to_best_f=67\n"
     ]
    },
    {
     "name": "stderr",
     "output_type": "stream",
     "text": [
      "/home/salabed/anaconda3/envs/rocksdb/lib/python3.8/site-packages/botorch/optim/initializers.py:403: BadInitialCandidatesWarning: Unable to find non-zero acquisition function values - initial conditions are being selected randomly.\n",
      "  warnings.warn(\n"
     ]
    },
    {
     "name": "stdout",
     "output_type": "stream",
     "text": [
      "y=tensor([0.3351], device='cuda:0', dtype=torch.float64)\n",
      "restart_id=0:optimization_round=72/100, best_f=3.0728070056244396, steps_to_best_f=67\n",
      "y=tensor([2.5219], device='cuda:0', dtype=torch.float64)\n",
      "restart_id=0:optimization_round=73/100, best_f=3.0728070056244396, steps_to_best_f=67\n"
     ]
    },
    {
     "name": "stderr",
     "output_type": "stream",
     "text": [
      "/home/salabed/anaconda3/envs/rocksdb/lib/python3.8/site-packages/botorch/optim/initializers.py:403: BadInitialCandidatesWarning: Unable to find non-zero acquisition function values - initial conditions are being selected randomly.\n",
      "  warnings.warn(\n"
     ]
    },
    {
     "name": "stdout",
     "output_type": "stream",
     "text": [
      "y=tensor([0.0281], device='cuda:0', dtype=torch.float64)\n",
      "restart_id=0:optimization_round=74/100, best_f=3.0728070056244396, steps_to_best_f=67\n"
     ]
    },
    {
     "name": "stderr",
     "output_type": "stream",
     "text": [
      "/home/salabed/anaconda3/envs/rocksdb/lib/python3.8/site-packages/botorch/optim/initializers.py:403: BadInitialCandidatesWarning: Unable to find non-zero acquisition function values - initial conditions are being selected randomly.\n",
      "  warnings.warn(\n"
     ]
    },
    {
     "name": "stdout",
     "output_type": "stream",
     "text": [
      "y=tensor([1.2195], device='cuda:0', dtype=torch.float64)\n",
      "restart_id=0:optimization_round=75/100, best_f=3.0728070056244396, steps_to_best_f=67\n"
     ]
    },
    {
     "name": "stderr",
     "output_type": "stream",
     "text": [
      "/home/salabed/anaconda3/envs/rocksdb/lib/python3.8/site-packages/botorch/optim/initializers.py:403: BadInitialCandidatesWarning: Unable to find non-zero acquisition function values - initial conditions are being selected randomly.\n",
      "  warnings.warn(\n"
     ]
    },
    {
     "name": "stdout",
     "output_type": "stream",
     "text": [
      "y=tensor([0.6308], device='cuda:0', dtype=torch.float64)\n",
      "restart_id=0:optimization_round=76/100, best_f=3.0728070056244396, steps_to_best_f=67\n"
     ]
    },
    {
     "name": "stderr",
     "output_type": "stream",
     "text": [
      "/home/salabed/anaconda3/envs/rocksdb/lib/python3.8/site-packages/botorch/optim/initializers.py:403: BadInitialCandidatesWarning: Unable to find non-zero acquisition function values - initial conditions are being selected randomly.\n",
      "  warnings.warn(\n"
     ]
    },
    {
     "name": "stdout",
     "output_type": "stream",
     "text": [
      "y=tensor([0.5882], device='cuda:0', dtype=torch.float64)\n",
      "restart_id=0:optimization_round=77/100, best_f=3.0728070056244396, steps_to_best_f=67\n"
     ]
    },
    {
     "name": "stderr",
     "output_type": "stream",
     "text": [
      "/home/salabed/anaconda3/envs/rocksdb/lib/python3.8/site-packages/botorch/optim/initializers.py:403: BadInitialCandidatesWarning: Unable to find non-zero acquisition function values - initial conditions are being selected randomly.\n",
      "  warnings.warn(\n"
     ]
    },
    {
     "name": "stdout",
     "output_type": "stream",
     "text": [
      "y=tensor([0.1026], device='cuda:0', dtype=torch.float64)\n",
      "restart_id=0:optimization_round=78/100, best_f=3.0728070056244396, steps_to_best_f=67\n"
     ]
    },
    {
     "name": "stderr",
     "output_type": "stream",
     "text": [
      "/home/salabed/anaconda3/envs/rocksdb/lib/python3.8/site-packages/botorch/optim/initializers.py:403: BadInitialCandidatesWarning: Unable to find non-zero acquisition function values - initial conditions are being selected randomly.\n",
      "  warnings.warn(\n"
     ]
    },
    {
     "name": "stdout",
     "output_type": "stream",
     "text": [
      "y=tensor([0.1527], device='cuda:0', dtype=torch.float64)\n",
      "restart_id=0:optimization_round=79/100, best_f=3.0728070056244396, steps_to_best_f=67\n",
      "y=tensor([1.5238], device='cuda:0', dtype=torch.float64)\n",
      "restart_id=0:optimization_round=80/100, best_f=3.0728070056244396, steps_to_best_f=67\n",
      "y=tensor([2.0507], device='cuda:0', dtype=torch.float64)\n",
      "restart_id=0:optimization_round=81/100, best_f=3.0728070056244396, steps_to_best_f=67\n"
     ]
    },
    {
     "name": "stderr",
     "output_type": "stream",
     "text": [
      "/home/salabed/anaconda3/envs/rocksdb/lib/python3.8/site-packages/botorch/optim/initializers.py:403: BadInitialCandidatesWarning: Unable to find non-zero acquisition function values - initial conditions are being selected randomly.\n",
      "  warnings.warn(\n"
     ]
    },
    {
     "name": "stdout",
     "output_type": "stream",
     "text": [
      "y=tensor([0.1208], device='cuda:0', dtype=torch.float64)\n",
      "restart_id=0:optimization_round=82/100, best_f=3.0728070056244396, steps_to_best_f=67\n"
     ]
    },
    {
     "name": "stderr",
     "output_type": "stream",
     "text": [
      "/home/salabed/anaconda3/envs/rocksdb/lib/python3.8/site-packages/botorch/optim/initializers.py:403: BadInitialCandidatesWarning: Unable to find non-zero acquisition function values - initial conditions are being selected randomly.\n",
      "  warnings.warn(\n"
     ]
    },
    {
     "name": "stdout",
     "output_type": "stream",
     "text": [
      "y=tensor([0.8902], device='cuda:0', dtype=torch.float64)\n",
      "restart_id=0:optimization_round=83/100, best_f=3.0728070056244396, steps_to_best_f=67\n",
      "y=tensor([1.9665], device='cuda:0', dtype=torch.float64)\n",
      "restart_id=0:optimization_round=84/100, best_f=3.0728070056244396, steps_to_best_f=67\n"
     ]
    },
    {
     "name": "stderr",
     "output_type": "stream",
     "text": [
      "/home/salabed/anaconda3/envs/rocksdb/lib/python3.8/site-packages/botorch/optim/initializers.py:403: BadInitialCandidatesWarning: Unable to find non-zero acquisition function values - initial conditions are being selected randomly.\n",
      "  warnings.warn(\n"
     ]
    },
    {
     "name": "stdout",
     "output_type": "stream",
     "text": [
      "y=tensor([0.0858], device='cuda:0', dtype=torch.float64)\n",
      "restart_id=0:optimization_round=85/100, best_f=3.0728070056244396, steps_to_best_f=67\n"
     ]
    },
    {
     "name": "stderr",
     "output_type": "stream",
     "text": [
      "/home/salabed/anaconda3/envs/rocksdb/lib/python3.8/site-packages/botorch/optim/initializers.py:403: BadInitialCandidatesWarning: Unable to find non-zero acquisition function values - initial conditions are being selected randomly.\n",
      "  warnings.warn(\n"
     ]
    },
    {
     "name": "stdout",
     "output_type": "stream",
     "text": [
      "y=tensor([0.6579], device='cuda:0', dtype=torch.float64)\n",
      "restart_id=0:optimization_round=86/100, best_f=3.0728070056244396, steps_to_best_f=67\n"
     ]
    },
    {
     "name": "stderr",
     "output_type": "stream",
     "text": [
      "/home/salabed/anaconda3/envs/rocksdb/lib/python3.8/site-packages/botorch/optim/initializers.py:403: BadInitialCandidatesWarning: Unable to find non-zero acquisition function values - initial conditions are being selected randomly.\n",
      "  warnings.warn(\n"
     ]
    },
    {
     "name": "stdout",
     "output_type": "stream",
     "text": [
      "y=tensor([0.0297], device='cuda:0', dtype=torch.float64)\n",
      "restart_id=0:optimization_round=87/100, best_f=3.0728070056244396, steps_to_best_f=67\n"
     ]
    },
    {
     "name": "stderr",
     "output_type": "stream",
     "text": [
      "/home/salabed/anaconda3/envs/rocksdb/lib/python3.8/site-packages/botorch/optim/initializers.py:403: BadInitialCandidatesWarning: Unable to find non-zero acquisition function values - initial conditions are being selected randomly.\n",
      "  warnings.warn(\n"
     ]
    },
    {
     "name": "stdout",
     "output_type": "stream",
     "text": [
      "y=tensor([0.9716], device='cuda:0', dtype=torch.float64)\n",
      "restart_id=0:optimization_round=88/100, best_f=3.0728070056244396, steps_to_best_f=67\n"
     ]
    },
    {
     "name": "stderr",
     "output_type": "stream",
     "text": [
      "/home/salabed/anaconda3/envs/rocksdb/lib/python3.8/site-packages/botorch/optim/initializers.py:403: BadInitialCandidatesWarning: Unable to find non-zero acquisition function values - initial conditions are being selected randomly.\n",
      "  warnings.warn(\n"
     ]
    },
    {
     "name": "stdout",
     "output_type": "stream",
     "text": [
      "y=tensor([0.1021], device='cuda:0', dtype=torch.float64)\n",
      "restart_id=0:optimization_round=89/100, best_f=3.0728070056244396, steps_to_best_f=67\n"
     ]
    },
    {
     "name": "stderr",
     "output_type": "stream",
     "text": [
      "/home/salabed/anaconda3/envs/rocksdb/lib/python3.8/site-packages/botorch/optim/initializers.py:403: BadInitialCandidatesWarning: Unable to find non-zero acquisition function values - initial conditions are being selected randomly.\n",
      "  warnings.warn(\n"
     ]
    },
    {
     "name": "stdout",
     "output_type": "stream",
     "text": [
      "y=tensor([0.1314], device='cuda:0', dtype=torch.float64)\n",
      "restart_id=0:optimization_round=90/100, best_f=3.0728070056244396, steps_to_best_f=67\n"
     ]
    },
    {
     "name": "stderr",
     "output_type": "stream",
     "text": [
      "/home/salabed/anaconda3/envs/rocksdb/lib/python3.8/site-packages/botorch/optim/initializers.py:403: BadInitialCandidatesWarning: Unable to find non-zero acquisition function values - initial conditions are being selected randomly.\n",
      "  warnings.warn(\n"
     ]
    },
    {
     "name": "stdout",
     "output_type": "stream",
     "text": [
      "y=tensor([0.9055], device='cuda:0', dtype=torch.float64)\n",
      "restart_id=0:optimization_round=91/100, best_f=3.0728070056244396, steps_to_best_f=67\n"
     ]
    },
    {
     "name": "stderr",
     "output_type": "stream",
     "text": [
      "/home/salabed/anaconda3/envs/rocksdb/lib/python3.8/site-packages/botorch/optim/initializers.py:403: BadInitialCandidatesWarning: Unable to find non-zero acquisition function values - initial conditions are being selected randomly.\n",
      "  warnings.warn(\n"
     ]
    },
    {
     "name": "stdout",
     "output_type": "stream",
     "text": [
      "y=tensor([0.5604], device='cuda:0', dtype=torch.float64)\n",
      "restart_id=0:optimization_round=92/100, best_f=3.0728070056244396, steps_to_best_f=67\n"
     ]
    },
    {
     "name": "stderr",
     "output_type": "stream",
     "text": [
      "/home/salabed/anaconda3/envs/rocksdb/lib/python3.8/site-packages/botorch/optim/initializers.py:403: BadInitialCandidatesWarning: Unable to find non-zero acquisition function values - initial conditions are being selected randomly.\n",
      "  warnings.warn(\n"
     ]
    },
    {
     "name": "stdout",
     "output_type": "stream",
     "text": [
      "y=tensor([0.8110], device='cuda:0', dtype=torch.float64)\n",
      "restart_id=0:optimization_round=93/100, best_f=3.0728070056244396, steps_to_best_f=67\n"
     ]
    },
    {
     "name": "stderr",
     "output_type": "stream",
     "text": [
      "/home/salabed/anaconda3/envs/rocksdb/lib/python3.8/site-packages/botorch/optim/initializers.py:403: BadInitialCandidatesWarning: Unable to find non-zero acquisition function values - initial conditions are being selected randomly.\n",
      "  warnings.warn(\n"
     ]
    },
    {
     "name": "stdout",
     "output_type": "stream",
     "text": [
      "y=tensor([0.3098], device='cuda:0', dtype=torch.float64)\n",
      "restart_id=0:optimization_round=94/100, best_f=3.0728070056244396, steps_to_best_f=67\n"
     ]
    },
    {
     "name": "stderr",
     "output_type": "stream",
     "text": [
      "/home/salabed/anaconda3/envs/rocksdb/lib/python3.8/site-packages/botorch/optim/initializers.py:403: BadInitialCandidatesWarning: Unable to find non-zero acquisition function values - initial conditions are being selected randomly.\n",
      "  warnings.warn(\n"
     ]
    },
    {
     "name": "stdout",
     "output_type": "stream",
     "text": [
      "y=tensor([0.8164], device='cuda:0', dtype=torch.float64)\n",
      "restart_id=0:optimization_round=95/100, best_f=3.0728070056244396, steps_to_best_f=67\n"
     ]
    },
    {
     "name": "stderr",
     "output_type": "stream",
     "text": [
      "/home/salabed/anaconda3/envs/rocksdb/lib/python3.8/site-packages/botorch/optim/initializers.py:403: BadInitialCandidatesWarning: Unable to find non-zero acquisition function values - initial conditions are being selected randomly.\n",
      "  warnings.warn(\n"
     ]
    },
    {
     "name": "stdout",
     "output_type": "stream",
     "text": [
      "y=tensor([0.6125], device='cuda:0', dtype=torch.float64)\n",
      "restart_id=0:optimization_round=96/100, best_f=3.0728070056244396, steps_to_best_f=67\n"
     ]
    },
    {
     "name": "stderr",
     "output_type": "stream",
     "text": [
      "/home/salabed/anaconda3/envs/rocksdb/lib/python3.8/site-packages/botorch/optim/initializers.py:403: BadInitialCandidatesWarning: Unable to find non-zero acquisition function values - initial conditions are being selected randomly.\n",
      "  warnings.warn(\n"
     ]
    },
    {
     "name": "stdout",
     "output_type": "stream",
     "text": [
      "y=tensor([0.2650], device='cuda:0', dtype=torch.float64)\n",
      "restart_id=0:optimization_round=97/100, best_f=3.0728070056244396, steps_to_best_f=67\n"
     ]
    },
    {
     "name": "stderr",
     "output_type": "stream",
     "text": [
      "/home/salabed/anaconda3/envs/rocksdb/lib/python3.8/site-packages/botorch/optim/initializers.py:403: BadInitialCandidatesWarning: Unable to find non-zero acquisition function values - initial conditions are being selected randomly.\n",
      "  warnings.warn(\n"
     ]
    },
    {
     "name": "stdout",
     "output_type": "stream",
     "text": [
      "y=tensor([0.2436], device='cuda:0', dtype=torch.float64)\n",
      "restart_id=0:optimization_round=98/100, best_f=3.0728070056244396, steps_to_best_f=67\n"
     ]
    },
    {
     "name": "stderr",
     "output_type": "stream",
     "text": [
      "/home/salabed/anaconda3/envs/rocksdb/lib/python3.8/site-packages/botorch/optim/initializers.py:403: BadInitialCandidatesWarning: Unable to find non-zero acquisition function values - initial conditions are being selected randomly.\n",
      "  warnings.warn(\n"
     ]
    },
    {
     "name": "stdout",
     "output_type": "stream",
     "text": [
      "y=tensor([0.0998], device='cuda:0', dtype=torch.float64)\n",
      "restart_id=0:optimization_round=99/100, best_f=3.0728070056244396, steps_to_best_f=67\n"
     ]
    },
    {
     "name": "stderr",
     "output_type": "stream",
     "text": [
      "/home/salabed/anaconda3/envs/rocksdb/lib/python3.8/site-packages/botorch/optim/initializers.py:403: BadInitialCandidatesWarning: Unable to find non-zero acquisition function values - initial conditions are being selected randomly.\n",
      "  warnings.warn(\n"
     ]
    },
    {
     "name": "stdout",
     "output_type": "stream",
     "text": [
      "y=tensor([0.1696], device='cuda:0', dtype=torch.float64)\n",
      "restart_id=1/3\n",
      "restart_id=1:optimization_round=0/100, best_f=1.366602463252803, steps_to_best_f=0\n",
      "y=tensor([0.1587], device='cuda:0', dtype=torch.float64)\n",
      "restart_id=1:optimization_round=1/100, best_f=1.366602463252803, steps_to_best_f=0\n",
      "y=tensor([0.7981], device='cuda:0', dtype=torch.float64)\n",
      "restart_id=1:optimization_round=2/100, best_f=1.366602463252803, steps_to_best_f=0\n",
      "y=tensor([1.7490], device='cuda:0', dtype=torch.float64)\n",
      "restart_id=1:optimization_round=3/100, best_f=1.748960422695879, steps_to_best_f=2\n",
      "y=tensor([1.1522], device='cuda:0', dtype=torch.float64)\n",
      "restart_id=1:optimization_round=4/100, best_f=1.748960422695879, steps_to_best_f=2\n",
      "y=tensor([0.1968], device='cuda:0', dtype=torch.float64)\n",
      "restart_id=1:optimization_round=5/100, best_f=1.748960422695879, steps_to_best_f=2\n",
      "y=tensor([0.0202], device='cuda:0', dtype=torch.float64)\n",
      "restart_id=1:optimization_round=6/100, best_f=1.748960422695879, steps_to_best_f=2\n",
      "y=tensor([0.8708], device='cuda:0', dtype=torch.float64)\n",
      "restart_id=1:optimization_round=7/100, best_f=1.748960422695879, steps_to_best_f=2\n",
      "y=tensor([0.6546], device='cuda:0', dtype=torch.float64)\n",
      "restart_id=1:optimization_round=8/100, best_f=1.748960422695879, steps_to_best_f=2\n",
      "y=tensor([1.5262], device='cuda:0', dtype=torch.float64)\n",
      "restart_id=1:optimization_round=9/100, best_f=1.748960422695879, steps_to_best_f=2\n",
      "y=tensor([1.8326], device='cuda:0', dtype=torch.float64)\n",
      "restart_id=1:optimization_round=10/100, best_f=1.832602223915322, steps_to_best_f=9\n",
      "y=tensor([1.5823], device='cuda:0', dtype=torch.float64)\n",
      "restart_id=1:optimization_round=11/100, best_f=1.832602223915322, steps_to_best_f=9\n",
      "y=tensor([0.7640], device='cuda:0', dtype=torch.float64)\n",
      "restart_id=1:optimization_round=12/100, best_f=1.832602223915322, steps_to_best_f=9\n",
      "y=tensor([1.1548], device='cuda:0', dtype=torch.float64)\n",
      "restart_id=1:optimization_round=13/100, best_f=1.832602223915322, steps_to_best_f=9\n",
      "y=tensor([0.6303], device='cuda:0', dtype=torch.float64)\n",
      "restart_id=1:optimization_round=14/100, best_f=1.832602223915322, steps_to_best_f=9\n",
      "y=tensor([1.6757], device='cuda:0', dtype=torch.float64)\n",
      "restart_id=1:optimization_round=15/100, best_f=1.832602223915322, steps_to_best_f=9\n",
      "y=tensor([0.5280], device='cuda:0', dtype=torch.float64)\n",
      "restart_id=1:optimization_round=16/100, best_f=1.832602223915322, steps_to_best_f=9\n",
      "y=tensor([0.9177], device='cuda:0', dtype=torch.float64)\n",
      "restart_id=1:optimization_round=17/100, best_f=1.832602223915322, steps_to_best_f=9\n",
      "y=tensor([1.1476], device='cuda:0', dtype=torch.float64)\n",
      "restart_id=1:optimization_round=18/100, best_f=1.832602223915322, steps_to_best_f=9\n",
      "y=tensor([0.7398], device='cuda:0', dtype=torch.float64)\n",
      "restart_id=1:optimization_round=19/100, best_f=1.832602223915322, steps_to_best_f=9\n",
      "y=tensor([0.6563], device='cuda:0', dtype=torch.float64)\n",
      "restart_id=1:optimization_round=20/100, best_f=1.832602223915322, steps_to_best_f=9\n",
      "y=tensor([0.8851], device='cuda:0', dtype=torch.float64)\n",
      "restart_id=1:optimization_round=21/100, best_f=1.832602223915322, steps_to_best_f=9\n",
      "y=tensor([0.0494], device='cuda:0', dtype=torch.float64)\n",
      "restart_id=1:optimization_round=22/100, best_f=1.832602223915322, steps_to_best_f=9\n"
     ]
    },
    {
     "name": "stderr",
     "output_type": "stream",
     "text": [
      "/home/salabed/anaconda3/envs/rocksdb/lib/python3.8/site-packages/botorch/optim/initializers.py:403: BadInitialCandidatesWarning: Unable to find non-zero acquisition function values - initial conditions are being selected randomly.\n",
      "  warnings.warn(\n",
      "/home/salabed/anaconda3/envs/rocksdb/lib/python3.8/site-packages/botorch/optim/initializers.py:403: BadInitialCandidatesWarning: Unable to find non-zero acquisition function values - initial conditions are being selected randomly.\n",
      "  warnings.warn(\n"
     ]
    },
    {
     "name": "stdout",
     "output_type": "stream",
     "text": [
      "y=tensor([0.0491], device='cuda:0', dtype=torch.float64)\n",
      "restart_id=1:optimization_round=23/100, best_f=1.832602223915322, steps_to_best_f=9\n",
      "y=tensor([0.9611], device='cuda:0', dtype=torch.float64)\n",
      "restart_id=1:optimization_round=24/100, best_f=1.832602223915322, steps_to_best_f=9\n",
      "y=tensor([0.1164], device='cuda:0', dtype=torch.float64)\n",
      "restart_id=1:optimization_round=25/100, best_f=1.832602223915322, steps_to_best_f=9\n"
     ]
    },
    {
     "name": "stderr",
     "output_type": "stream",
     "text": [
      "/home/salabed/anaconda3/envs/rocksdb/lib/python3.8/site-packages/botorch/optim/initializers.py:403: BadInitialCandidatesWarning: Unable to find non-zero acquisition function values - initial conditions are being selected randomly.\n",
      "  warnings.warn(\n",
      "/home/salabed/anaconda3/envs/rocksdb/lib/python3.8/site-packages/botorch/optim/initializers.py:403: BadInitialCandidatesWarning: Unable to find non-zero acquisition function values - initial conditions are being selected randomly.\n",
      "  warnings.warn(\n"
     ]
    },
    {
     "name": "stdout",
     "output_type": "stream",
     "text": [
      "y=tensor([0.6700], device='cuda:0', dtype=torch.float64)\n",
      "restart_id=1:optimization_round=26/100, best_f=1.832602223915322, steps_to_best_f=9\n",
      "y=tensor([0.9594], device='cuda:0', dtype=torch.float64)\n",
      "restart_id=1:optimization_round=27/100, best_f=1.832602223915322, steps_to_best_f=9\n"
     ]
    },
    {
     "name": "stderr",
     "output_type": "stream",
     "text": [
      "/home/salabed/anaconda3/envs/rocksdb/lib/python3.8/site-packages/botorch/optim/initializers.py:403: BadInitialCandidatesWarning: Unable to find non-zero acquisition function values - initial conditions are being selected randomly.\n",
      "  warnings.warn(\n"
     ]
    },
    {
     "name": "stdout",
     "output_type": "stream",
     "text": [
      "y=tensor([0.2332], device='cuda:0', dtype=torch.float64)\n",
      "restart_id=1:optimization_round=28/100, best_f=1.832602223915322, steps_to_best_f=9\n",
      "y=tensor([1.6363], device='cuda:0', dtype=torch.float64)\n",
      "restart_id=1:optimization_round=29/100, best_f=1.832602223915322, steps_to_best_f=9\n",
      "y=tensor([1.4251], device='cuda:0', dtype=torch.float64)\n",
      "restart_id=1:optimization_round=30/100, best_f=1.832602223915322, steps_to_best_f=9\n",
      "y=tensor([0.9491], device='cuda:0', dtype=torch.float64)\n",
      "restart_id=1:optimization_round=31/100, best_f=1.832602223915322, steps_to_best_f=9\n",
      "y=tensor([0.4723], device='cuda:0', dtype=torch.float64)\n",
      "restart_id=1:optimization_round=32/100, best_f=1.832602223915322, steps_to_best_f=9\n",
      "y=tensor([0.0766], device='cuda:0', dtype=torch.float64)\n",
      "restart_id=1:optimization_round=33/100, best_f=1.832602223915322, steps_to_best_f=9\n"
     ]
    },
    {
     "name": "stderr",
     "output_type": "stream",
     "text": [
      "/home/salabed/anaconda3/envs/rocksdb/lib/python3.8/site-packages/botorch/optim/initializers.py:403: BadInitialCandidatesWarning: Unable to find non-zero acquisition function values - initial conditions are being selected randomly.\n",
      "  warnings.warn(\n",
      "/home/salabed/anaconda3/envs/rocksdb/lib/python3.8/site-packages/botorch/optim/initializers.py:403: BadInitialCandidatesWarning: Unable to find non-zero acquisition function values - initial conditions are being selected randomly.\n",
      "  warnings.warn(\n"
     ]
    },
    {
     "name": "stdout",
     "output_type": "stream",
     "text": [
      "y=tensor([1.0242], device='cuda:0', dtype=torch.float64)\n",
      "restart_id=1:optimization_round=34/100, best_f=1.832602223915322, steps_to_best_f=9\n",
      "y=tensor([1.8703], device='cuda:0', dtype=torch.float64)\n",
      "restart_id=1:optimization_round=35/100, best_f=1.870255616845313, steps_to_best_f=34\n",
      "y=tensor([2.5074], device='cuda:0', dtype=torch.float64)\n",
      "restart_id=1:optimization_round=36/100, best_f=2.5074095623224775, steps_to_best_f=35\n",
      "y=tensor([0.4221], device='cuda:0', dtype=torch.float64)\n",
      "restart_id=1:optimization_round=37/100, best_f=2.5074095623224775, steps_to_best_f=35\n"
     ]
    },
    {
     "name": "stderr",
     "output_type": "stream",
     "text": [
      "/home/salabed/anaconda3/envs/rocksdb/lib/python3.8/site-packages/botorch/optim/initializers.py:403: BadInitialCandidatesWarning: Unable to find non-zero acquisition function values - initial conditions are being selected randomly.\n",
      "  warnings.warn(\n",
      "/home/salabed/anaconda3/envs/rocksdb/lib/python3.8/site-packages/botorch/optim/initializers.py:403: BadInitialCandidatesWarning: Unable to find non-zero acquisition function values - initial conditions are being selected randomly.\n",
      "  warnings.warn(\n"
     ]
    },
    {
     "name": "stdout",
     "output_type": "stream",
     "text": [
      "y=tensor([0.7697], device='cuda:0', dtype=torch.float64)\n",
      "restart_id=1:optimization_round=38/100, best_f=2.5074095623224775, steps_to_best_f=35\n",
      "y=tensor([1.6602], device='cuda:0', dtype=torch.float64)\n",
      "restart_id=1:optimization_round=39/100, best_f=2.5074095623224775, steps_to_best_f=35\n",
      "y=tensor([1.8960], device='cuda:0', dtype=torch.float64)\n",
      "restart_id=1:optimization_round=40/100, best_f=2.5074095623224775, steps_to_best_f=35\n"
     ]
    },
    {
     "name": "stderr",
     "output_type": "stream",
     "text": [
      "/home/salabed/anaconda3/envs/rocksdb/lib/python3.8/site-packages/botorch/optim/initializers.py:403: BadInitialCandidatesWarning: Unable to find non-zero acquisition function values - initial conditions are being selected randomly.\n",
      "  warnings.warn(\n"
     ]
    },
    {
     "name": "stdout",
     "output_type": "stream",
     "text": [
      "y=tensor([0.5240], device='cuda:0', dtype=torch.float64)\n",
      "restart_id=1:optimization_round=41/100, best_f=2.5074095623224775, steps_to_best_f=35\n"
     ]
    },
    {
     "name": "stderr",
     "output_type": "stream",
     "text": [
      "/home/salabed/anaconda3/envs/rocksdb/lib/python3.8/site-packages/botorch/optim/initializers.py:403: BadInitialCandidatesWarning: Unable to find non-zero acquisition function values - initial conditions are being selected randomly.\n",
      "  warnings.warn(\n"
     ]
    },
    {
     "name": "stdout",
     "output_type": "stream",
     "text": [
      "y=tensor([0.5827], device='cuda:0', dtype=torch.float64)\n",
      "restart_id=1:optimization_round=42/100, best_f=2.5074095623224775, steps_to_best_f=35\n"
     ]
    },
    {
     "name": "stderr",
     "output_type": "stream",
     "text": [
      "/home/salabed/anaconda3/envs/rocksdb/lib/python3.8/site-packages/botorch/optim/initializers.py:403: BadInitialCandidatesWarning: Unable to find non-zero acquisition function values - initial conditions are being selected randomly.\n",
      "  warnings.warn(\n"
     ]
    },
    {
     "name": "stdout",
     "output_type": "stream",
     "text": [
      "y=tensor([0.9642], device='cuda:0', dtype=torch.float64)\n",
      "restart_id=1:optimization_round=43/100, best_f=2.5074095623224775, steps_to_best_f=35\n",
      "y=tensor([0.8747], device='cuda:0', dtype=torch.float64)\n",
      "restart_id=1:optimization_round=44/100, best_f=2.5074095623224775, steps_to_best_f=35\n"
     ]
    },
    {
     "name": "stderr",
     "output_type": "stream",
     "text": [
      "/home/salabed/anaconda3/envs/rocksdb/lib/python3.8/site-packages/botorch/optim/initializers.py:403: BadInitialCandidatesWarning: Unable to find non-zero acquisition function values - initial conditions are being selected randomly.\n",
      "  warnings.warn(\n"
     ]
    },
    {
     "name": "stdout",
     "output_type": "stream",
     "text": [
      "y=tensor([0.0153], device='cuda:0', dtype=torch.float64)\n",
      "restart_id=1:optimization_round=45/100, best_f=2.5074095623224775, steps_to_best_f=35\n"
     ]
    },
    {
     "name": "stderr",
     "output_type": "stream",
     "text": [
      "/home/salabed/anaconda3/envs/rocksdb/lib/python3.8/site-packages/botorch/optim/initializers.py:403: BadInitialCandidatesWarning: Unable to find non-zero acquisition function values - initial conditions are being selected randomly.\n",
      "  warnings.warn(\n"
     ]
    },
    {
     "name": "stdout",
     "output_type": "stream",
     "text": [
      "y=tensor([0.5257], device='cuda:0', dtype=torch.float64)\n",
      "restart_id=1:optimization_round=46/100, best_f=2.5074095623224775, steps_to_best_f=35\n"
     ]
    },
    {
     "name": "stderr",
     "output_type": "stream",
     "text": [
      "/home/salabed/anaconda3/envs/rocksdb/lib/python3.8/site-packages/botorch/optim/initializers.py:403: BadInitialCandidatesWarning: Unable to find non-zero acquisition function values - initial conditions are being selected randomly.\n",
      "  warnings.warn(\n"
     ]
    },
    {
     "name": "stdout",
     "output_type": "stream",
     "text": [
      "y=tensor([0.2804], device='cuda:0', dtype=torch.float64)\n",
      "restart_id=1:optimization_round=47/100, best_f=2.5074095623224775, steps_to_best_f=35\n"
     ]
    },
    {
     "name": "stderr",
     "output_type": "stream",
     "text": [
      "/home/salabed/anaconda3/envs/rocksdb/lib/python3.8/site-packages/botorch/optim/initializers.py:403: BadInitialCandidatesWarning: Unable to find non-zero acquisition function values - initial conditions are being selected randomly.\n",
      "  warnings.warn(\n",
      "/home/salabed/anaconda3/envs/rocksdb/lib/python3.8/site-packages/botorch/optim/initializers.py:403: BadInitialCandidatesWarning: Unable to find non-zero acquisition function values - initial conditions are being selected randomly.\n",
      "  warnings.warn(\n"
     ]
    },
    {
     "name": "stdout",
     "output_type": "stream",
     "text": [
      "y=tensor([0.3328], device='cuda:0', dtype=torch.float64)\n",
      "restart_id=1:optimization_round=48/100, best_f=2.5074095623224775, steps_to_best_f=35\n",
      "y=tensor([0.8524], device='cuda:0', dtype=torch.float64)\n",
      "restart_id=1:optimization_round=49/100, best_f=2.5074095623224775, steps_to_best_f=35\n"
     ]
    },
    {
     "name": "stderr",
     "output_type": "stream",
     "text": [
      "/home/salabed/anaconda3/envs/rocksdb/lib/python3.8/site-packages/botorch/optim/initializers.py:403: BadInitialCandidatesWarning: Unable to find non-zero acquisition function values - initial conditions are being selected randomly.\n",
      "  warnings.warn(\n",
      "/home/salabed/anaconda3/envs/rocksdb/lib/python3.8/site-packages/botorch/optim/initializers.py:403: BadInitialCandidatesWarning: Unable to find non-zero acquisition function values - initial conditions are being selected randomly.\n",
      "  warnings.warn(\n"
     ]
    },
    {
     "name": "stdout",
     "output_type": "stream",
     "text": [
      "y=tensor([0.1297], device='cuda:0', dtype=torch.float64)\n",
      "restart_id=1:optimization_round=50/100, best_f=2.5074095623224775, steps_to_best_f=35\n",
      "y=tensor([1.1219], device='cuda:0', dtype=torch.float64)\n",
      "restart_id=1:optimization_round=51/100, best_f=2.5074095623224775, steps_to_best_f=35\n",
      "y=tensor([1.9170], device='cuda:0', dtype=torch.float64)\n",
      "restart_id=1:optimization_round=52/100, best_f=2.5074095623224775, steps_to_best_f=35\n"
     ]
    },
    {
     "name": "stderr",
     "output_type": "stream",
     "text": [
      "/home/salabed/anaconda3/envs/rocksdb/lib/python3.8/site-packages/botorch/optim/initializers.py:403: BadInitialCandidatesWarning: Unable to find non-zero acquisition function values - initial conditions are being selected randomly.\n",
      "  warnings.warn(\n"
     ]
    },
    {
     "name": "stdout",
     "output_type": "stream",
     "text": [
      "y=tensor([0.0100], device='cuda:0', dtype=torch.float64)\n",
      "restart_id=1:optimization_round=53/100, best_f=2.5074095623224775, steps_to_best_f=35\n"
     ]
    },
    {
     "name": "stderr",
     "output_type": "stream",
     "text": [
      "/home/salabed/anaconda3/envs/rocksdb/lib/python3.8/site-packages/botorch/optim/initializers.py:403: BadInitialCandidatesWarning: Unable to find non-zero acquisition function values - initial conditions are being selected randomly.\n",
      "  warnings.warn(\n"
     ]
    },
    {
     "name": "stdout",
     "output_type": "stream",
     "text": [
      "y=tensor([0.5770], device='cuda:0', dtype=torch.float64)\n",
      "restart_id=1:optimization_round=54/100, best_f=2.5074095623224775, steps_to_best_f=35\n"
     ]
    },
    {
     "name": "stderr",
     "output_type": "stream",
     "text": [
      "/home/salabed/anaconda3/envs/rocksdb/lib/python3.8/site-packages/botorch/optim/initializers.py:403: BadInitialCandidatesWarning: Unable to find non-zero acquisition function values - initial conditions are being selected randomly.\n",
      "  warnings.warn(\n"
     ]
    },
    {
     "name": "stdout",
     "output_type": "stream",
     "text": [
      "y=tensor([0.7262], device='cuda:0', dtype=torch.float64)\n",
      "restart_id=1:optimization_round=55/100, best_f=2.5074095623224775, steps_to_best_f=35\n"
     ]
    },
    {
     "name": "stderr",
     "output_type": "stream",
     "text": [
      "/home/salabed/anaconda3/envs/rocksdb/lib/python3.8/site-packages/botorch/optim/initializers.py:403: BadInitialCandidatesWarning: Unable to find non-zero acquisition function values - initial conditions are being selected randomly.\n",
      "  warnings.warn(\n"
     ]
    },
    {
     "name": "stdout",
     "output_type": "stream",
     "text": [
      "y=tensor([0.0511], device='cuda:0', dtype=torch.float64)\n",
      "restart_id=1:optimization_round=56/100, best_f=2.5074095623224775, steps_to_best_f=35\n"
     ]
    },
    {
     "name": "stderr",
     "output_type": "stream",
     "text": [
      "/home/salabed/anaconda3/envs/rocksdb/lib/python3.8/site-packages/botorch/optim/initializers.py:403: BadInitialCandidatesWarning: Unable to find non-zero acquisition function values - initial conditions are being selected randomly.\n",
      "  warnings.warn(\n"
     ]
    },
    {
     "name": "stdout",
     "output_type": "stream",
     "text": [
      "y=tensor([0.9316], device='cuda:0', dtype=torch.float64)\n",
      "restart_id=1:optimization_round=57/100, best_f=2.5074095623224775, steps_to_best_f=35\n"
     ]
    },
    {
     "name": "stderr",
     "output_type": "stream",
     "text": [
      "/home/salabed/anaconda3/envs/rocksdb/lib/python3.8/site-packages/botorch/optim/initializers.py:403: BadInitialCandidatesWarning: Unable to find non-zero acquisition function values - initial conditions are being selected randomly.\n",
      "  warnings.warn(\n"
     ]
    },
    {
     "name": "stdout",
     "output_type": "stream",
     "text": [
      "y=tensor([1.0232], device='cuda:0', dtype=torch.float64)\n",
      "restart_id=1:optimization_round=58/100, best_f=2.5074095623224775, steps_to_best_f=35\n"
     ]
    },
    {
     "name": "stderr",
     "output_type": "stream",
     "text": [
      "/home/salabed/anaconda3/envs/rocksdb/lib/python3.8/site-packages/botorch/optim/initializers.py:403: BadInitialCandidatesWarning: Unable to find non-zero acquisition function values - initial conditions are being selected randomly.\n",
      "  warnings.warn(\n"
     ]
    },
    {
     "name": "stdout",
     "output_type": "stream",
     "text": [
      "y=tensor([0.6811], device='cuda:0', dtype=torch.float64)\n",
      "restart_id=1:optimization_round=59/100, best_f=2.5074095623224775, steps_to_best_f=35\n"
     ]
    },
    {
     "name": "stderr",
     "output_type": "stream",
     "text": [
      "/home/salabed/anaconda3/envs/rocksdb/lib/python3.8/site-packages/botorch/optim/initializers.py:403: BadInitialCandidatesWarning: Unable to find non-zero acquisition function values - initial conditions are being selected randomly.\n",
      "  warnings.warn(\n",
      "/home/salabed/anaconda3/envs/rocksdb/lib/python3.8/site-packages/botorch/optim/initializers.py:403: BadInitialCandidatesWarning: Unable to find non-zero acquisition function values - initial conditions are being selected randomly.\n",
      "  warnings.warn(\n"
     ]
    },
    {
     "name": "stdout",
     "output_type": "stream",
     "text": [
      "y=tensor([0.0003], device='cuda:0', dtype=torch.float64)\n",
      "restart_id=1:optimization_round=60/100, best_f=2.5074095623224775, steps_to_best_f=35\n",
      "y=tensor([0.2737], device='cuda:0', dtype=torch.float64)\n",
      "restart_id=1:optimization_round=61/100, best_f=2.5074095623224775, steps_to_best_f=35\n"
     ]
    },
    {
     "name": "stderr",
     "output_type": "stream",
     "text": [
      "/home/salabed/anaconda3/envs/rocksdb/lib/python3.8/site-packages/botorch/optim/initializers.py:403: BadInitialCandidatesWarning: Unable to find non-zero acquisition function values - initial conditions are being selected randomly.\n",
      "  warnings.warn(\n"
     ]
    },
    {
     "name": "stdout",
     "output_type": "stream",
     "text": [
      "y=tensor([0.0101], device='cuda:0', dtype=torch.float64)\n",
      "restart_id=1:optimization_round=62/100, best_f=2.5074095623224775, steps_to_best_f=35\n"
     ]
    },
    {
     "name": "stderr",
     "output_type": "stream",
     "text": [
      "/home/salabed/anaconda3/envs/rocksdb/lib/python3.8/site-packages/botorch/optim/initializers.py:403: BadInitialCandidatesWarning: Unable to find non-zero acquisition function values - initial conditions are being selected randomly.\n",
      "  warnings.warn(\n"
     ]
    },
    {
     "name": "stdout",
     "output_type": "stream",
     "text": [
      "y=tensor([0.0018], device='cuda:0', dtype=torch.float64)\n",
      "restart_id=1:optimization_round=63/100, best_f=2.5074095623224775, steps_to_best_f=35\n"
     ]
    },
    {
     "name": "stderr",
     "output_type": "stream",
     "text": [
      "/home/salabed/anaconda3/envs/rocksdb/lib/python3.8/site-packages/botorch/optim/initializers.py:403: BadInitialCandidatesWarning: Unable to find non-zero acquisition function values - initial conditions are being selected randomly.\n",
      "  warnings.warn(\n",
      "/home/salabed/anaconda3/envs/rocksdb/lib/python3.8/site-packages/botorch/optim/initializers.py:403: BadInitialCandidatesWarning: Unable to find non-zero acquisition function values - initial conditions are being selected randomly.\n",
      "  warnings.warn(\n"
     ]
    },
    {
     "name": "stdout",
     "output_type": "stream",
     "text": [
      "y=tensor([0.1573], device='cuda:0', dtype=torch.float64)\n",
      "restart_id=1:optimization_round=64/100, best_f=2.5074095623224775, steps_to_best_f=35\n",
      "y=tensor([0.0398], device='cuda:0', dtype=torch.float64)\n",
      "restart_id=1:optimization_round=65/100, best_f=2.5074095623224775, steps_to_best_f=35\n"
     ]
    },
    {
     "name": "stderr",
     "output_type": "stream",
     "text": [
      "/home/salabed/anaconda3/envs/rocksdb/lib/python3.8/site-packages/botorch/optim/initializers.py:403: BadInitialCandidatesWarning: Unable to find non-zero acquisition function values - initial conditions are being selected randomly.\n",
      "  warnings.warn(\n",
      "/home/salabed/anaconda3/envs/rocksdb/lib/python3.8/site-packages/botorch/optim/initializers.py:403: BadInitialCandidatesWarning: Unable to find non-zero acquisition function values - initial conditions are being selected randomly.\n",
      "  warnings.warn(\n"
     ]
    },
    {
     "name": "stdout",
     "output_type": "stream",
     "text": [
      "y=tensor([0.0215], device='cuda:0', dtype=torch.float64)\n",
      "restart_id=1:optimization_round=66/100, best_f=2.5074095623224775, steps_to_best_f=35\n",
      "y=tensor([1.4380], device='cuda:0', dtype=torch.float64)\n",
      "restart_id=1:optimization_round=67/100, best_f=2.5074095623224775, steps_to_best_f=35\n"
     ]
    },
    {
     "name": "stderr",
     "output_type": "stream",
     "text": [
      "/home/salabed/anaconda3/envs/rocksdb/lib/python3.8/site-packages/botorch/optim/initializers.py:403: BadInitialCandidatesWarning: Unable to find non-zero acquisition function values - initial conditions are being selected randomly.\n",
      "  warnings.warn(\n"
     ]
    },
    {
     "name": "stdout",
     "output_type": "stream",
     "text": [
      "y=tensor([6.9191e-05], device='cuda:0', dtype=torch.float64)\n",
      "restart_id=1:optimization_round=68/100, best_f=2.5074095623224775, steps_to_best_f=35\n"
     ]
    },
    {
     "name": "stderr",
     "output_type": "stream",
     "text": [
      "/home/salabed/anaconda3/envs/rocksdb/lib/python3.8/site-packages/botorch/optim/initializers.py:403: BadInitialCandidatesWarning: Unable to find non-zero acquisition function values - initial conditions are being selected randomly.\n",
      "  warnings.warn(\n"
     ]
    },
    {
     "name": "stdout",
     "output_type": "stream",
     "text": [
      "y=tensor([0.0824], device='cuda:0', dtype=torch.float64)\n",
      "restart_id=1:optimization_round=69/100, best_f=2.5074095623224775, steps_to_best_f=35\n"
     ]
    },
    {
     "name": "stderr",
     "output_type": "stream",
     "text": [
      "/home/salabed/anaconda3/envs/rocksdb/lib/python3.8/site-packages/botorch/optim/initializers.py:403: BadInitialCandidatesWarning: Unable to find non-zero acquisition function values - initial conditions are being selected randomly.\n",
      "  warnings.warn(\n"
     ]
    },
    {
     "name": "stdout",
     "output_type": "stream",
     "text": [
      "y=tensor([1.2552], device='cuda:0', dtype=torch.float64)\n",
      "restart_id=1:optimization_round=70/100, best_f=2.5074095623224775, steps_to_best_f=35\n"
     ]
    },
    {
     "name": "stderr",
     "output_type": "stream",
     "text": [
      "/home/salabed/anaconda3/envs/rocksdb/lib/python3.8/site-packages/botorch/optim/initializers.py:403: BadInitialCandidatesWarning: Unable to find non-zero acquisition function values - initial conditions are being selected randomly.\n",
      "  warnings.warn(\n"
     ]
    },
    {
     "name": "stdout",
     "output_type": "stream",
     "text": [
      "y=tensor([0.1110], device='cuda:0', dtype=torch.float64)\n",
      "restart_id=1:optimization_round=71/100, best_f=2.5074095623224775, steps_to_best_f=35\n"
     ]
    },
    {
     "name": "stderr",
     "output_type": "stream",
     "text": [
      "/home/salabed/anaconda3/envs/rocksdb/lib/python3.8/site-packages/botorch/optim/initializers.py:403: BadInitialCandidatesWarning: Unable to find non-zero acquisition function values - initial conditions are being selected randomly.\n",
      "  warnings.warn(\n"
     ]
    },
    {
     "name": "stdout",
     "output_type": "stream",
     "text": [
      "y=tensor([0.4081], device='cuda:0', dtype=torch.float64)\n",
      "restart_id=1:optimization_round=72/100, best_f=2.5074095623224775, steps_to_best_f=35\n"
     ]
    },
    {
     "name": "stderr",
     "output_type": "stream",
     "text": [
      "/home/salabed/anaconda3/envs/rocksdb/lib/python3.8/site-packages/botorch/optim/initializers.py:403: BadInitialCandidatesWarning: Unable to find non-zero acquisition function values - initial conditions are being selected randomly.\n",
      "  warnings.warn(\n"
     ]
    },
    {
     "name": "stdout",
     "output_type": "stream",
     "text": [
      "y=tensor([0.0708], device='cuda:0', dtype=torch.float64)\n",
      "restart_id=1:optimization_round=73/100, best_f=2.5074095623224775, steps_to_best_f=35\n"
     ]
    },
    {
     "name": "stderr",
     "output_type": "stream",
     "text": [
      "/home/salabed/anaconda3/envs/rocksdb/lib/python3.8/site-packages/botorch/optim/initializers.py:403: BadInitialCandidatesWarning: Unable to find non-zero acquisition function values - initial conditions are being selected randomly.\n",
      "  warnings.warn(\n"
     ]
    },
    {
     "name": "stdout",
     "output_type": "stream",
     "text": [
      "y=tensor([0.2922], device='cuda:0', dtype=torch.float64)\n",
      "restart_id=1:optimization_round=74/100, best_f=2.5074095623224775, steps_to_best_f=35\n"
     ]
    },
    {
     "name": "stderr",
     "output_type": "stream",
     "text": [
      "/home/salabed/anaconda3/envs/rocksdb/lib/python3.8/site-packages/botorch/optim/initializers.py:403: BadInitialCandidatesWarning: Unable to find non-zero acquisition function values - initial conditions are being selected randomly.\n",
      "  warnings.warn(\n",
      "/home/salabed/anaconda3/envs/rocksdb/lib/python3.8/site-packages/botorch/optim/initializers.py:403: BadInitialCandidatesWarning: Unable to find non-zero acquisition function values - initial conditions are being selected randomly.\n",
      "  warnings.warn(\n"
     ]
    },
    {
     "name": "stdout",
     "output_type": "stream",
     "text": [
      "y=tensor([0.5843], device='cuda:0', dtype=torch.float64)\n",
      "restart_id=1:optimization_round=75/100, best_f=2.5074095623224775, steps_to_best_f=35\n",
      "y=tensor([0.7622], device='cuda:0', dtype=torch.float64)\n",
      "restart_id=1:optimization_round=76/100, best_f=2.5074095623224775, steps_to_best_f=35\n"
     ]
    },
    {
     "name": "stderr",
     "output_type": "stream",
     "text": [
      "/home/salabed/anaconda3/envs/rocksdb/lib/python3.8/site-packages/botorch/optim/initializers.py:403: BadInitialCandidatesWarning: Unable to find non-zero acquisition function values - initial conditions are being selected randomly.\n",
      "  warnings.warn(\n"
     ]
    },
    {
     "name": "stdout",
     "output_type": "stream",
     "text": [
      "y=tensor([0.7297], device='cuda:0', dtype=torch.float64)\n",
      "restart_id=1:optimization_round=77/100, best_f=2.5074095623224775, steps_to_best_f=35\n"
     ]
    },
    {
     "name": "stderr",
     "output_type": "stream",
     "text": [
      "/home/salabed/anaconda3/envs/rocksdb/lib/python3.8/site-packages/botorch/optim/initializers.py:403: BadInitialCandidatesWarning: Unable to find non-zero acquisition function values - initial conditions are being selected randomly.\n",
      "  warnings.warn(\n"
     ]
    },
    {
     "name": "stdout",
     "output_type": "stream",
     "text": [
      "y=tensor([0.6945], device='cuda:0', dtype=torch.float64)\n",
      "restart_id=1:optimization_round=78/100, best_f=2.5074095623224775, steps_to_best_f=35\n"
     ]
    },
    {
     "name": "stderr",
     "output_type": "stream",
     "text": [
      "/home/salabed/anaconda3/envs/rocksdb/lib/python3.8/site-packages/botorch/optim/initializers.py:403: BadInitialCandidatesWarning: Unable to find non-zero acquisition function values - initial conditions are being selected randomly.\n",
      "  warnings.warn(\n"
     ]
    },
    {
     "name": "stdout",
     "output_type": "stream",
     "text": [
      "y=tensor([1.2645], device='cuda:0', dtype=torch.float64)\n",
      "restart_id=1:optimization_round=79/100, best_f=2.5074095623224775, steps_to_best_f=35\n"
     ]
    },
    {
     "name": "stderr",
     "output_type": "stream",
     "text": [
      "/home/salabed/anaconda3/envs/rocksdb/lib/python3.8/site-packages/botorch/optim/initializers.py:403: BadInitialCandidatesWarning: Unable to find non-zero acquisition function values - initial conditions are being selected randomly.\n",
      "  warnings.warn(\n",
      "/home/salabed/anaconda3/envs/rocksdb/lib/python3.8/site-packages/botorch/optim/initializers.py:403: BadInitialCandidatesWarning: Unable to find non-zero acquisition function values - initial conditions are being selected randomly.\n",
      "  warnings.warn(\n"
     ]
    },
    {
     "name": "stdout",
     "output_type": "stream",
     "text": [
      "y=tensor([1.2071], device='cuda:0', dtype=torch.float64)\n",
      "restart_id=1:optimization_round=80/100, best_f=2.5074095623224775, steps_to_best_f=35\n",
      "y=tensor([1.6928], device='cuda:0', dtype=torch.float64)\n",
      "restart_id=1:optimization_round=81/100, best_f=2.5074095623224775, steps_to_best_f=35\n",
      "y=tensor([1.8963], device='cuda:0', dtype=torch.float64)\n",
      "restart_id=1:optimization_round=82/100, best_f=2.5074095623224775, steps_to_best_f=35\n",
      "y=tensor([0.2762], device='cuda:0', dtype=torch.float64)\n",
      "restart_id=1:optimization_round=83/100, best_f=2.5074095623224775, steps_to_best_f=35\n"
     ]
    },
    {
     "name": "stderr",
     "output_type": "stream",
     "text": [
      "/home/salabed/anaconda3/envs/rocksdb/lib/python3.8/site-packages/botorch/optim/initializers.py:403: BadInitialCandidatesWarning: Unable to find non-zero acquisition function values - initial conditions are being selected randomly.\n",
      "  warnings.warn(\n",
      "/home/salabed/anaconda3/envs/rocksdb/lib/python3.8/site-packages/botorch/optim/initializers.py:403: BadInitialCandidatesWarning: Unable to find non-zero acquisition function values - initial conditions are being selected randomly.\n",
      "  warnings.warn(\n"
     ]
    },
    {
     "name": "stdout",
     "output_type": "stream",
     "text": [
      "y=tensor([0.1861], device='cuda:0', dtype=torch.float64)\n",
      "restart_id=1:optimization_round=84/100, best_f=2.5074095623224775, steps_to_best_f=35\n"
     ]
    },
    {
     "name": "stderr",
     "output_type": "stream",
     "text": [
      "/home/salabed/anaconda3/envs/rocksdb/lib/python3.8/site-packages/botorch/optim/initializers.py:403: BadInitialCandidatesWarning: Unable to find non-zero acquisition function values - initial conditions are being selected randomly.\n",
      "  warnings.warn(\n"
     ]
    },
    {
     "name": "stdout",
     "output_type": "stream",
     "text": [
      "y=tensor([0.0037], device='cuda:0', dtype=torch.float64)\n",
      "restart_id=1:optimization_round=85/100, best_f=2.5074095623224775, steps_to_best_f=35\n"
     ]
    },
    {
     "name": "stderr",
     "output_type": "stream",
     "text": [
      "/home/salabed/anaconda3/envs/rocksdb/lib/python3.8/site-packages/botorch/optim/initializers.py:403: BadInitialCandidatesWarning: Unable to find non-zero acquisition function values - initial conditions are being selected randomly.\n",
      "  warnings.warn(\n"
     ]
    },
    {
     "name": "stdout",
     "output_type": "stream",
     "text": [
      "y=tensor([0.0736], device='cuda:0', dtype=torch.float64)\n",
      "restart_id=1:optimization_round=86/100, best_f=2.5074095623224775, steps_to_best_f=35\n"
     ]
    },
    {
     "name": "stderr",
     "output_type": "stream",
     "text": [
      "/home/salabed/anaconda3/envs/rocksdb/lib/python3.8/site-packages/botorch/optim/initializers.py:403: BadInitialCandidatesWarning: Unable to find non-zero acquisition function values - initial conditions are being selected randomly.\n",
      "  warnings.warn(\n"
     ]
    },
    {
     "name": "stdout",
     "output_type": "stream",
     "text": [
      "y=tensor([0.0287], device='cuda:0', dtype=torch.float64)\n",
      "restart_id=1:optimization_round=87/100, best_f=2.5074095623224775, steps_to_best_f=35\n"
     ]
    },
    {
     "name": "stderr",
     "output_type": "stream",
     "text": [
      "/home/salabed/anaconda3/envs/rocksdb/lib/python3.8/site-packages/botorch/optim/initializers.py:403: BadInitialCandidatesWarning: Unable to find non-zero acquisition function values - initial conditions are being selected randomly.\n",
      "  warnings.warn(\n"
     ]
    },
    {
     "name": "stdout",
     "output_type": "stream",
     "text": [
      "y=tensor([0.0073], device='cuda:0', dtype=torch.float64)\n",
      "restart_id=1:optimization_round=88/100, best_f=2.5074095623224775, steps_to_best_f=35\n"
     ]
    },
    {
     "name": "stderr",
     "output_type": "stream",
     "text": [
      "/home/salabed/anaconda3/envs/rocksdb/lib/python3.8/site-packages/botorch/optim/initializers.py:403: BadInitialCandidatesWarning: Unable to find non-zero acquisition function values - initial conditions are being selected randomly.\n",
      "  warnings.warn(\n"
     ]
    },
    {
     "name": "stdout",
     "output_type": "stream",
     "text": [
      "y=tensor([0.0037], device='cuda:0', dtype=torch.float64)\n",
      "restart_id=1:optimization_round=89/100, best_f=2.5074095623224775, steps_to_best_f=35\n"
     ]
    },
    {
     "name": "stderr",
     "output_type": "stream",
     "text": [
      "/home/salabed/anaconda3/envs/rocksdb/lib/python3.8/site-packages/botorch/optim/initializers.py:403: BadInitialCandidatesWarning: Unable to find non-zero acquisition function values - initial conditions are being selected randomly.\n",
      "  warnings.warn(\n"
     ]
    },
    {
     "name": "stdout",
     "output_type": "stream",
     "text": [
      "y=tensor([0.0002], device='cuda:0', dtype=torch.float64)\n",
      "restart_id=1:optimization_round=90/100, best_f=2.5074095623224775, steps_to_best_f=35\n"
     ]
    },
    {
     "name": "stderr",
     "output_type": "stream",
     "text": [
      "/home/salabed/anaconda3/envs/rocksdb/lib/python3.8/site-packages/botorch/optim/initializers.py:403: BadInitialCandidatesWarning: Unable to find non-zero acquisition function values - initial conditions are being selected randomly.\n",
      "  warnings.warn(\n"
     ]
    },
    {
     "name": "stdout",
     "output_type": "stream",
     "text": [
      "y=tensor([-7.5468e-05], device='cuda:0', dtype=torch.float64)\n",
      "restart_id=1:optimization_round=91/100, best_f=2.5074095623224775, steps_to_best_f=35\n"
     ]
    },
    {
     "name": "stderr",
     "output_type": "stream",
     "text": [
      "/home/salabed/anaconda3/envs/rocksdb/lib/python3.8/site-packages/botorch/optim/initializers.py:403: BadInitialCandidatesWarning: Unable to find non-zero acquisition function values - initial conditions are being selected randomly.\n",
      "  warnings.warn(\n"
     ]
    },
    {
     "name": "stdout",
     "output_type": "stream",
     "text": [
      "y=tensor([0.7929], device='cuda:0', dtype=torch.float64)\n",
      "restart_id=1:optimization_round=92/100, best_f=2.5074095623224775, steps_to_best_f=35\n"
     ]
    },
    {
     "name": "stderr",
     "output_type": "stream",
     "text": [
      "/home/salabed/anaconda3/envs/rocksdb/lib/python3.8/site-packages/botorch/optim/initializers.py:403: BadInitialCandidatesWarning: Unable to find non-zero acquisition function values - initial conditions are being selected randomly.\n",
      "  warnings.warn(\n"
     ]
    },
    {
     "name": "stdout",
     "output_type": "stream",
     "text": [
      "y=tensor([0.4337], device='cuda:0', dtype=torch.float64)\n",
      "restart_id=1:optimization_round=93/100, best_f=2.5074095623224775, steps_to_best_f=35\n"
     ]
    },
    {
     "name": "stderr",
     "output_type": "stream",
     "text": [
      "/home/salabed/anaconda3/envs/rocksdb/lib/python3.8/site-packages/botorch/optim/initializers.py:403: BadInitialCandidatesWarning: Unable to find non-zero acquisition function values - initial conditions are being selected randomly.\n",
      "  warnings.warn(\n",
      "/home/salabed/anaconda3/envs/rocksdb/lib/python3.8/site-packages/botorch/optim/initializers.py:403: BadInitialCandidatesWarning: Unable to find non-zero acquisition function values - initial conditions are being selected randomly.\n",
      "  warnings.warn(\n"
     ]
    },
    {
     "name": "stdout",
     "output_type": "stream",
     "text": [
      "y=tensor([0.5081], device='cuda:0', dtype=torch.float64)\n",
      "restart_id=1:optimization_round=94/100, best_f=2.5074095623224775, steps_to_best_f=35\n",
      "y=tensor([0.8219], device='cuda:0', dtype=torch.float64)\n",
      "restart_id=1:optimization_round=95/100, best_f=2.5074095623224775, steps_to_best_f=35\n"
     ]
    },
    {
     "name": "stderr",
     "output_type": "stream",
     "text": [
      "/home/salabed/anaconda3/envs/rocksdb/lib/python3.8/site-packages/botorch/optim/initializers.py:403: BadInitialCandidatesWarning: Unable to find non-zero acquisition function values - initial conditions are being selected randomly.\n",
      "  warnings.warn(\n",
      "/home/salabed/anaconda3/envs/rocksdb/lib/python3.8/site-packages/botorch/optim/initializers.py:403: BadInitialCandidatesWarning: Unable to find non-zero acquisition function values - initial conditions are being selected randomly.\n",
      "  warnings.warn(\n"
     ]
    },
    {
     "name": "stdout",
     "output_type": "stream",
     "text": [
      "y=tensor([0.9403], device='cuda:0', dtype=torch.float64)\n",
      "restart_id=1:optimization_round=96/100, best_f=2.5074095623224775, steps_to_best_f=35\n",
      "y=tensor([0.1154], device='cuda:0', dtype=torch.float64)\n",
      "restart_id=1:optimization_round=97/100, best_f=2.5074095623224775, steps_to_best_f=35\n"
     ]
    },
    {
     "name": "stderr",
     "output_type": "stream",
     "text": [
      "/home/salabed/anaconda3/envs/rocksdb/lib/python3.8/site-packages/botorch/optim/initializers.py:403: BadInitialCandidatesWarning: Unable to find non-zero acquisition function values - initial conditions are being selected randomly.\n",
      "  warnings.warn(\n"
     ]
    },
    {
     "name": "stdout",
     "output_type": "stream",
     "text": [
      "y=tensor([1.0114], device='cuda:0', dtype=torch.float64)\n",
      "restart_id=1:optimization_round=98/100, best_f=2.5074095623224775, steps_to_best_f=35\n"
     ]
    },
    {
     "name": "stderr",
     "output_type": "stream",
     "text": [
      "/home/salabed/anaconda3/envs/rocksdb/lib/python3.8/site-packages/botorch/optim/initializers.py:403: BadInitialCandidatesWarning: Unable to find non-zero acquisition function values - initial conditions are being selected randomly.\n",
      "  warnings.warn(\n"
     ]
    },
    {
     "name": "stdout",
     "output_type": "stream",
     "text": [
      "y=tensor([0.8885], device='cuda:0', dtype=torch.float64)\n",
      "restart_id=1:optimization_round=99/100, best_f=2.5074095623224775, steps_to_best_f=35\n"
     ]
    },
    {
     "name": "stderr",
     "output_type": "stream",
     "text": [
      "/home/salabed/anaconda3/envs/rocksdb/lib/python3.8/site-packages/botorch/optim/initializers.py:403: BadInitialCandidatesWarning: Unable to find non-zero acquisition function values - initial conditions are being selected randomly.\n",
      "  warnings.warn(\n"
     ]
    },
    {
     "name": "stdout",
     "output_type": "stream",
     "text": [
      "y=tensor([0.5476], device='cuda:0', dtype=torch.float64)\n",
      "restart_id=2/3\n",
      "restart_id=2:optimization_round=0/100, best_f=1.366602463252803, steps_to_best_f=0\n",
      "y=tensor([0.1555], device='cuda:0', dtype=torch.float64)\n",
      "restart_id=2:optimization_round=1/100, best_f=1.366602463252803, steps_to_best_f=0\n",
      "y=tensor([0.8334], device='cuda:0', dtype=torch.float64)\n",
      "restart_id=2:optimization_round=2/100, best_f=1.366602463252803, steps_to_best_f=0\n",
      "y=tensor([1.7227], device='cuda:0', dtype=torch.float64)\n",
      "restart_id=2:optimization_round=3/100, best_f=1.7226539513026213, steps_to_best_f=2\n",
      "y=tensor([1.2162], device='cuda:0', dtype=torch.float64)\n",
      "restart_id=2:optimization_round=4/100, best_f=1.7226539513026213, steps_to_best_f=2\n",
      "y=tensor([0.2619], device='cuda:0', dtype=torch.float64)\n",
      "restart_id=2:optimization_round=5/100, best_f=1.7226539513026213, steps_to_best_f=2\n",
      "y=tensor([0.0007], device='cuda:0', dtype=torch.float64)\n",
      "restart_id=2:optimization_round=6/100, best_f=1.7226539513026213, steps_to_best_f=2\n",
      "y=tensor([1.0360], device='cuda:0', dtype=torch.float64)\n",
      "restart_id=2:optimization_round=7/100, best_f=1.7226539513026213, steps_to_best_f=2\n",
      "y=tensor([0.7906], device='cuda:0', dtype=torch.float64)\n",
      "restart_id=2:optimization_round=8/100, best_f=1.7226539513026213, steps_to_best_f=2\n",
      "y=tensor([1.9141], device='cuda:0', dtype=torch.float64)\n",
      "restart_id=2:optimization_round=9/100, best_f=1.9140898620222921, steps_to_best_f=8\n",
      "y=tensor([0.9924], device='cuda:0', dtype=torch.float64)\n",
      "restart_id=2:optimization_round=10/100, best_f=1.9140898620222921, steps_to_best_f=8\n",
      "y=tensor([1.3327], device='cuda:0', dtype=torch.float64)\n",
      "restart_id=2:optimization_round=11/100, best_f=1.9140898620222921, steps_to_best_f=8\n",
      "y=tensor([1.1786], device='cuda:0', dtype=torch.float64)\n",
      "restart_id=2:optimization_round=12/100, best_f=1.9140898620222921, steps_to_best_f=8\n",
      "y=tensor([3.0676], device='cuda:0', dtype=torch.float64)\n",
      "restart_id=2:optimization_round=13/100, best_f=3.067565701557749, steps_to_best_f=12\n",
      "y=tensor([2.2055], device='cuda:0', dtype=torch.float64)\n",
      "restart_id=2:optimization_round=14/100, best_f=3.067565701557749, steps_to_best_f=12\n",
      "y=tensor([3.2402], device='cuda:0', dtype=torch.float64)\n",
      "restart_id=2:optimization_round=15/100, best_f=3.240202621923853, steps_to_best_f=14\n",
      "y=tensor([1.8239], device='cuda:0', dtype=torch.float64)\n",
      "restart_id=2:optimization_round=16/100, best_f=3.240202621923853, steps_to_best_f=14\n",
      "y=tensor([2.1348], device='cuda:0', dtype=torch.float64)\n",
      "restart_id=2:optimization_round=17/100, best_f=3.240202621923853, steps_to_best_f=14\n",
      "y=tensor([1.3182], device='cuda:0', dtype=torch.float64)\n",
      "restart_id=2:optimization_round=18/100, best_f=3.240202621923853, steps_to_best_f=14\n",
      "y=tensor([0.0062], device='cuda:0', dtype=torch.float64)\n",
      "restart_id=2:optimization_round=19/100, best_f=3.240202621923853, steps_to_best_f=14\n"
     ]
    },
    {
     "name": "stderr",
     "output_type": "stream",
     "text": [
      "/home/salabed/anaconda3/envs/rocksdb/lib/python3.8/site-packages/botorch/optim/initializers.py:403: BadInitialCandidatesWarning: Unable to find non-zero acquisition function values - initial conditions are being selected randomly.\n",
      "  warnings.warn(\n",
      "/home/salabed/anaconda3/envs/rocksdb/lib/python3.8/site-packages/botorch/optim/initializers.py:403: BadInitialCandidatesWarning: Unable to find non-zero acquisition function values - initial conditions are being selected randomly.\n",
      "  warnings.warn(\n"
     ]
    },
    {
     "name": "stdout",
     "output_type": "stream",
     "text": [
      "y=tensor([0.9107], device='cuda:0', dtype=torch.float64)\n",
      "restart_id=2:optimization_round=20/100, best_f=3.240202621923853, steps_to_best_f=14\n"
     ]
    },
    {
     "name": "stderr",
     "output_type": "stream",
     "text": [
      "/home/salabed/anaconda3/envs/rocksdb/lib/python3.8/site-packages/botorch/optim/initializers.py:403: BadInitialCandidatesWarning: Unable to find non-zero acquisition function values - initial conditions are being selected randomly.\n",
      "  warnings.warn(\n",
      "/home/salabed/anaconda3/envs/rocksdb/lib/python3.8/site-packages/botorch/optim/initializers.py:403: BadInitialCandidatesWarning: Unable to find non-zero acquisition function values - initial conditions are being selected randomly.\n",
      "  warnings.warn(\n"
     ]
    },
    {
     "name": "stdout",
     "output_type": "stream",
     "text": [
      "y=tensor([1.8405], device='cuda:0', dtype=torch.float64)\n",
      "restart_id=2:optimization_round=21/100, best_f=3.240202621923853, steps_to_best_f=14\n",
      "y=tensor([0.0146], device='cuda:0', dtype=torch.float64)\n",
      "restart_id=2:optimization_round=22/100, best_f=3.240202621923853, steps_to_best_f=14\n"
     ]
    },
    {
     "name": "stderr",
     "output_type": "stream",
     "text": [
      "/home/salabed/anaconda3/envs/rocksdb/lib/python3.8/site-packages/botorch/optim/initializers.py:403: BadInitialCandidatesWarning: Unable to find non-zero acquisition function values - initial conditions are being selected randomly.\n",
      "  warnings.warn(\n"
     ]
    },
    {
     "name": "stdout",
     "output_type": "stream",
     "text": [
      "y=tensor([0.9094], device='cuda:0', dtype=torch.float64)\n",
      "restart_id=2:optimization_round=23/100, best_f=3.240202621923853, steps_to_best_f=14\n"
     ]
    },
    {
     "name": "stderr",
     "output_type": "stream",
     "text": [
      "/home/salabed/anaconda3/envs/rocksdb/lib/python3.8/site-packages/botorch/optim/initializers.py:403: BadInitialCandidatesWarning: Unable to find non-zero acquisition function values - initial conditions are being selected randomly.\n",
      "  warnings.warn(\n"
     ]
    },
    {
     "name": "stdout",
     "output_type": "stream",
     "text": [
      "y=tensor([0.7813], device='cuda:0', dtype=torch.float64)\n",
      "restart_id=2:optimization_round=24/100, best_f=3.240202621923853, steps_to_best_f=14\n"
     ]
    },
    {
     "name": "stderr",
     "output_type": "stream",
     "text": [
      "/home/salabed/anaconda3/envs/rocksdb/lib/python3.8/site-packages/botorch/optim/initializers.py:403: BadInitialCandidatesWarning: Unable to find non-zero acquisition function values - initial conditions are being selected randomly.\n",
      "  warnings.warn(\n"
     ]
    },
    {
     "name": "stdout",
     "output_type": "stream",
     "text": [
      "y=tensor([0.9681], device='cuda:0', dtype=torch.float64)\n",
      "restart_id=2:optimization_round=25/100, best_f=3.240202621923853, steps_to_best_f=14\n"
     ]
    },
    {
     "name": "stderr",
     "output_type": "stream",
     "text": [
      "/home/salabed/anaconda3/envs/rocksdb/lib/python3.8/site-packages/botorch/optim/initializers.py:403: BadInitialCandidatesWarning: Unable to find non-zero acquisition function values - initial conditions are being selected randomly.\n",
      "  warnings.warn(\n"
     ]
    },
    {
     "name": "stdout",
     "output_type": "stream",
     "text": [
      "y=tensor([-0.0001], device='cuda:0', dtype=torch.float64)\n",
      "restart_id=2:optimization_round=26/100, best_f=3.240202621923853, steps_to_best_f=14\n",
      "y=tensor([1.6720], device='cuda:0', dtype=torch.float64)\n",
      "restart_id=2:optimization_round=27/100, best_f=3.240202621923853, steps_to_best_f=14\n",
      "y=tensor([0.0125], device='cuda:0', dtype=torch.float64)\n",
      "restart_id=2:optimization_round=28/100, best_f=3.240202621923853, steps_to_best_f=14\n"
     ]
    },
    {
     "name": "stderr",
     "output_type": "stream",
     "text": [
      "/home/salabed/anaconda3/envs/rocksdb/lib/python3.8/site-packages/botorch/optim/initializers.py:403: BadInitialCandidatesWarning: Unable to find non-zero acquisition function values - initial conditions are being selected randomly.\n",
      "  warnings.warn(\n",
      "/home/salabed/anaconda3/envs/rocksdb/lib/python3.8/site-packages/botorch/optim/initializers.py:403: BadInitialCandidatesWarning: Unable to find non-zero acquisition function values - initial conditions are being selected randomly.\n",
      "  warnings.warn(\n",
      "/home/salabed/anaconda3/envs/rocksdb/lib/python3.8/site-packages/botorch/optim/initializers.py:403: BadInitialCandidatesWarning: Unable to find non-zero acquisition function values - initial conditions are being selected randomly.\n",
      "  warnings.warn(\n"
     ]
    },
    {
     "name": "stdout",
     "output_type": "stream",
     "text": [
      "y=tensor([0.0034], device='cuda:0', dtype=torch.float64)\n",
      "restart_id=2:optimization_round=29/100, best_f=3.240202621923853, steps_to_best_f=14\n",
      "y=tensor([0.1726], device='cuda:0', dtype=torch.float64)\n",
      "restart_id=2:optimization_round=30/100, best_f=3.240202621923853, steps_to_best_f=14\n"
     ]
    },
    {
     "name": "stderr",
     "output_type": "stream",
     "text": [
      "/home/salabed/anaconda3/envs/rocksdb/lib/python3.8/site-packages/botorch/optim/initializers.py:403: BadInitialCandidatesWarning: Unable to find non-zero acquisition function values - initial conditions are being selected randomly.\n",
      "  warnings.warn(\n"
     ]
    },
    {
     "name": "stdout",
     "output_type": "stream",
     "text": [
      "y=tensor([0.0936], device='cuda:0', dtype=torch.float64)\n",
      "restart_id=2:optimization_round=31/100, best_f=3.240202621923853, steps_to_best_f=14\n"
     ]
    },
    {
     "name": "stderr",
     "output_type": "stream",
     "text": [
      "/home/salabed/anaconda3/envs/rocksdb/lib/python3.8/site-packages/botorch/optim/initializers.py:403: BadInitialCandidatesWarning: Unable to find non-zero acquisition function values - initial conditions are being selected randomly.\n",
      "  warnings.warn(\n"
     ]
    },
    {
     "name": "stdout",
     "output_type": "stream",
     "text": [
      "y=tensor([0.4162], device='cuda:0', dtype=torch.float64)\n",
      "restart_id=2:optimization_round=32/100, best_f=3.240202621923853, steps_to_best_f=14\n",
      "y=tensor([0.0720], device='cuda:0', dtype=torch.float64)\n",
      "restart_id=2:optimization_round=33/100, best_f=3.240202621923853, steps_to_best_f=14\n"
     ]
    },
    {
     "name": "stderr",
     "output_type": "stream",
     "text": [
      "/home/salabed/anaconda3/envs/rocksdb/lib/python3.8/site-packages/botorch/optim/initializers.py:403: BadInitialCandidatesWarning: Unable to find non-zero acquisition function values - initial conditions are being selected randomly.\n",
      "  warnings.warn(\n",
      "/home/salabed/anaconda3/envs/rocksdb/lib/python3.8/site-packages/botorch/optim/initializers.py:403: BadInitialCandidatesWarning: Unable to find non-zero acquisition function values - initial conditions are being selected randomly.\n",
      "  warnings.warn(\n"
     ]
    },
    {
     "name": "stdout",
     "output_type": "stream",
     "text": [
      "y=tensor([0.7013], device='cuda:0', dtype=torch.float64)\n",
      "restart_id=2:optimization_round=34/100, best_f=3.240202621923853, steps_to_best_f=14\n"
     ]
    },
    {
     "name": "stderr",
     "output_type": "stream",
     "text": [
      "/home/salabed/anaconda3/envs/rocksdb/lib/python3.8/site-packages/botorch/optim/initializers.py:403: BadInitialCandidatesWarning: Unable to find non-zero acquisition function values - initial conditions are being selected randomly.\n",
      "  warnings.warn(\n"
     ]
    },
    {
     "name": "stdout",
     "output_type": "stream",
     "text": [
      "y=tensor([0.5396], device='cuda:0', dtype=torch.float64)\n",
      "restart_id=2:optimization_round=35/100, best_f=3.240202621923853, steps_to_best_f=14\n"
     ]
    },
    {
     "name": "stderr",
     "output_type": "stream",
     "text": [
      "/home/salabed/anaconda3/envs/rocksdb/lib/python3.8/site-packages/botorch/optim/initializers.py:403: BadInitialCandidatesWarning: Unable to find non-zero acquisition function values - initial conditions are being selected randomly.\n",
      "  warnings.warn(\n",
      "/home/salabed/anaconda3/envs/rocksdb/lib/python3.8/site-packages/botorch/optim/initializers.py:403: BadInitialCandidatesWarning: Unable to find non-zero acquisition function values - initial conditions are being selected randomly.\n",
      "  warnings.warn(\n"
     ]
    },
    {
     "name": "stdout",
     "output_type": "stream",
     "text": [
      "y=tensor([0.0001], device='cuda:0', dtype=torch.float64)\n",
      "restart_id=2:optimization_round=36/100, best_f=3.240202621923853, steps_to_best_f=14\n",
      "y=tensor([0.0907], device='cuda:0', dtype=torch.float64)\n",
      "restart_id=2:optimization_round=37/100, best_f=3.240202621923853, steps_to_best_f=14\n"
     ]
    },
    {
     "name": "stderr",
     "output_type": "stream",
     "text": [
      "/home/salabed/anaconda3/envs/rocksdb/lib/python3.8/site-packages/botorch/optim/initializers.py:403: BadInitialCandidatesWarning: Unable to find non-zero acquisition function values - initial conditions are being selected randomly.\n",
      "  warnings.warn(\n",
      "/home/salabed/anaconda3/envs/rocksdb/lib/python3.8/site-packages/botorch/optim/initializers.py:403: BadInitialCandidatesWarning: Unable to find non-zero acquisition function values - initial conditions are being selected randomly.\n",
      "  warnings.warn(\n"
     ]
    },
    {
     "name": "stdout",
     "output_type": "stream",
     "text": [
      "y=tensor([0.9892], device='cuda:0', dtype=torch.float64)\n",
      "restart_id=2:optimization_round=38/100, best_f=3.240202621923853, steps_to_best_f=14\n",
      "y=tensor([8.9274e-05], device='cuda:0', dtype=torch.float64)\n",
      "restart_id=2:optimization_round=39/100, best_f=3.240202621923853, steps_to_best_f=14\n"
     ]
    },
    {
     "name": "stderr",
     "output_type": "stream",
     "text": [
      "/home/salabed/anaconda3/envs/rocksdb/lib/python3.8/site-packages/botorch/optim/initializers.py:403: BadInitialCandidatesWarning: Unable to find non-zero acquisition function values - initial conditions are being selected randomly.\n",
      "  warnings.warn(\n",
      "/home/salabed/anaconda3/envs/rocksdb/lib/python3.8/site-packages/botorch/optim/initializers.py:403: BadInitialCandidatesWarning: Unable to find non-zero acquisition function values - initial conditions are being selected randomly.\n",
      "  warnings.warn(\n"
     ]
    },
    {
     "name": "stdout",
     "output_type": "stream",
     "text": [
      "y=tensor([1.2292], device='cuda:0', dtype=torch.float64)\n",
      "restart_id=2:optimization_round=40/100, best_f=3.240202621923853, steps_to_best_f=14\n",
      "y=tensor([0.6499], device='cuda:0', dtype=torch.float64)\n",
      "restart_id=2:optimization_round=41/100, best_f=3.240202621923853, steps_to_best_f=14\n"
     ]
    },
    {
     "name": "stderr",
     "output_type": "stream",
     "text": [
      "/home/salabed/anaconda3/envs/rocksdb/lib/python3.8/site-packages/botorch/optim/initializers.py:403: BadInitialCandidatesWarning: Unable to find non-zero acquisition function values - initial conditions are being selected randomly.\n",
      "  warnings.warn(\n",
      "/home/salabed/anaconda3/envs/rocksdb/lib/python3.8/site-packages/botorch/optim/initializers.py:403: BadInitialCandidatesWarning: Unable to find non-zero acquisition function values - initial conditions are being selected randomly.\n",
      "  warnings.warn(\n"
     ]
    },
    {
     "name": "stdout",
     "output_type": "stream",
     "text": [
      "y=tensor([0.0716], device='cuda:0', dtype=torch.float64)\n",
      "restart_id=2:optimization_round=42/100, best_f=3.240202621923853, steps_to_best_f=14\n",
      "y=tensor([1.3031], device='cuda:0', dtype=torch.float64)\n",
      "restart_id=2:optimization_round=43/100, best_f=3.240202621923853, steps_to_best_f=14\n"
     ]
    },
    {
     "name": "stderr",
     "output_type": "stream",
     "text": [
      "/home/salabed/anaconda3/envs/rocksdb/lib/python3.8/site-packages/botorch/optim/initializers.py:403: BadInitialCandidatesWarning: Unable to find non-zero acquisition function values - initial conditions are being selected randomly.\n",
      "  warnings.warn(\n",
      "/home/salabed/anaconda3/envs/rocksdb/lib/python3.8/site-packages/botorch/optim/initializers.py:403: BadInitialCandidatesWarning: Unable to find non-zero acquisition function values - initial conditions are being selected randomly.\n",
      "  warnings.warn(\n"
     ]
    },
    {
     "name": "stdout",
     "output_type": "stream",
     "text": [
      "y=tensor([0.0022], device='cuda:0', dtype=torch.float64)\n",
      "restart_id=2:optimization_round=44/100, best_f=3.240202621923853, steps_to_best_f=14\n",
      "y=tensor([1.2025], device='cuda:0', dtype=torch.float64)\n",
      "restart_id=2:optimization_round=45/100, best_f=3.240202621923853, steps_to_best_f=14\n"
     ]
    },
    {
     "name": "stderr",
     "output_type": "stream",
     "text": [
      "/home/salabed/anaconda3/envs/rocksdb/lib/python3.8/site-packages/botorch/optim/initializers.py:403: BadInitialCandidatesWarning: Unable to find non-zero acquisition function values - initial conditions are being selected randomly.\n",
      "  warnings.warn(\n",
      "/home/salabed/anaconda3/envs/rocksdb/lib/python3.8/site-packages/botorch/optim/initializers.py:403: BadInitialCandidatesWarning: Unable to find non-zero acquisition function values - initial conditions are being selected randomly.\n",
      "  warnings.warn(\n"
     ]
    },
    {
     "name": "stdout",
     "output_type": "stream",
     "text": [
      "y=tensor([0.6330], device='cuda:0', dtype=torch.float64)\n",
      "restart_id=2:optimization_round=46/100, best_f=3.240202621923853, steps_to_best_f=14\n",
      "y=tensor([1.6116], device='cuda:0', dtype=torch.float64)\n",
      "restart_id=2:optimization_round=47/100, best_f=3.240202621923853, steps_to_best_f=14\n"
     ]
    },
    {
     "name": "stderr",
     "output_type": "stream",
     "text": [
      "/home/salabed/anaconda3/envs/rocksdb/lib/python3.8/site-packages/botorch/optim/initializers.py:403: BadInitialCandidatesWarning: Unable to find non-zero acquisition function values - initial conditions are being selected randomly.\n",
      "  warnings.warn(\n"
     ]
    },
    {
     "name": "stdout",
     "output_type": "stream",
     "text": [
      "y=tensor([0.5540], device='cuda:0', dtype=torch.float64)\n",
      "restart_id=2:optimization_round=48/100, best_f=3.240202621923853, steps_to_best_f=14\n"
     ]
    },
    {
     "name": "stderr",
     "output_type": "stream",
     "text": [
      "/home/salabed/anaconda3/envs/rocksdb/lib/python3.8/site-packages/botorch/optim/initializers.py:403: BadInitialCandidatesWarning: Unable to find non-zero acquisition function values - initial conditions are being selected randomly.\n",
      "  warnings.warn(\n"
     ]
    },
    {
     "name": "stdout",
     "output_type": "stream",
     "text": [
      "y=tensor([0.0006], device='cuda:0', dtype=torch.float64)\n",
      "restart_id=2:optimization_round=49/100, best_f=3.240202621923853, steps_to_best_f=14\n"
     ]
    },
    {
     "name": "stderr",
     "output_type": "stream",
     "text": [
      "/home/salabed/anaconda3/envs/rocksdb/lib/python3.8/site-packages/botorch/optim/initializers.py:403: BadInitialCandidatesWarning: Unable to find non-zero acquisition function values - initial conditions are being selected randomly.\n",
      "  warnings.warn(\n",
      "/home/salabed/anaconda3/envs/rocksdb/lib/python3.8/site-packages/botorch/optim/initializers.py:403: BadInitialCandidatesWarning: Unable to find non-zero acquisition function values - initial conditions are being selected randomly.\n",
      "  warnings.warn(\n"
     ]
    },
    {
     "name": "stdout",
     "output_type": "stream",
     "text": [
      "y=tensor([0.9320], device='cuda:0', dtype=torch.float64)\n",
      "restart_id=2:optimization_round=50/100, best_f=3.240202621923853, steps_to_best_f=14\n",
      "y=tensor([0.8562], device='cuda:0', dtype=torch.float64)\n",
      "restart_id=2:optimization_round=51/100, best_f=3.240202621923853, steps_to_best_f=14\n"
     ]
    },
    {
     "name": "stderr",
     "output_type": "stream",
     "text": [
      "/home/salabed/anaconda3/envs/rocksdb/lib/python3.8/site-packages/botorch/optim/initializers.py:403: BadInitialCandidatesWarning: Unable to find non-zero acquisition function values - initial conditions are being selected randomly.\n",
      "  warnings.warn(\n",
      "/home/salabed/anaconda3/envs/rocksdb/lib/python3.8/site-packages/botorch/optim/initializers.py:403: BadInitialCandidatesWarning: Unable to find non-zero acquisition function values - initial conditions are being selected randomly.\n",
      "  warnings.warn(\n"
     ]
    },
    {
     "name": "stdout",
     "output_type": "stream",
     "text": [
      "y=tensor([0.7036], device='cuda:0', dtype=torch.float64)\n",
      "restart_id=2:optimization_round=52/100, best_f=3.240202621923853, steps_to_best_f=14\n",
      "y=tensor([1.6202], device='cuda:0', dtype=torch.float64)\n",
      "restart_id=2:optimization_round=53/100, best_f=3.240202621923853, steps_to_best_f=14\n"
     ]
    },
    {
     "name": "stderr",
     "output_type": "stream",
     "text": [
      "/home/salabed/anaconda3/envs/rocksdb/lib/python3.8/site-packages/botorch/optim/initializers.py:403: BadInitialCandidatesWarning: Unable to find non-zero acquisition function values - initial conditions are being selected randomly.\n",
      "  warnings.warn(\n",
      "/home/salabed/anaconda3/envs/rocksdb/lib/python3.8/site-packages/botorch/optim/initializers.py:403: BadInitialCandidatesWarning: Unable to find non-zero acquisition function values - initial conditions are being selected randomly.\n",
      "  warnings.warn(\n"
     ]
    },
    {
     "name": "stdout",
     "output_type": "stream",
     "text": [
      "y=tensor([0.0437], device='cuda:0', dtype=torch.float64)\n",
      "restart_id=2:optimization_round=54/100, best_f=3.240202621923853, steps_to_best_f=14\n",
      "y=tensor([0.4326], device='cuda:0', dtype=torch.float64)\n",
      "restart_id=2:optimization_round=55/100, best_f=3.240202621923853, steps_to_best_f=14\n"
     ]
    },
    {
     "name": "stderr",
     "output_type": "stream",
     "text": [
      "/home/salabed/anaconda3/envs/rocksdb/lib/python3.8/site-packages/botorch/optim/initializers.py:403: BadInitialCandidatesWarning: Unable to find non-zero acquisition function values - initial conditions are being selected randomly.\n",
      "  warnings.warn(\n",
      "/home/salabed/anaconda3/envs/rocksdb/lib/python3.8/site-packages/botorch/optim/initializers.py:403: BadInitialCandidatesWarning: Unable to find non-zero acquisition function values - initial conditions are being selected randomly.\n",
      "  warnings.warn(\n"
     ]
    },
    {
     "name": "stdout",
     "output_type": "stream",
     "text": [
      "y=tensor([0.3622], device='cuda:0', dtype=torch.float64)\n",
      "restart_id=2:optimization_round=56/100, best_f=3.240202621923853, steps_to_best_f=14\n",
      "y=tensor([0.4638], device='cuda:0', dtype=torch.float64)\n",
      "restart_id=2:optimization_round=57/100, best_f=3.240202621923853, steps_to_best_f=14\n"
     ]
    },
    {
     "name": "stderr",
     "output_type": "stream",
     "text": [
      "/home/salabed/anaconda3/envs/rocksdb/lib/python3.8/site-packages/botorch/optim/initializers.py:403: BadInitialCandidatesWarning: Unable to find non-zero acquisition function values - initial conditions are being selected randomly.\n",
      "  warnings.warn(\n",
      "/home/salabed/anaconda3/envs/rocksdb/lib/python3.8/site-packages/botorch/optim/initializers.py:403: BadInitialCandidatesWarning: Unable to find non-zero acquisition function values - initial conditions are being selected randomly.\n",
      "  warnings.warn(\n"
     ]
    },
    {
     "name": "stdout",
     "output_type": "stream",
     "text": [
      "y=tensor([0.5990], device='cuda:0', dtype=torch.float64)\n",
      "restart_id=2:optimization_round=58/100, best_f=3.240202621923853, steps_to_best_f=14\n",
      "y=tensor([0.7240], device='cuda:0', dtype=torch.float64)\n",
      "restart_id=2:optimization_round=59/100, best_f=3.240202621923853, steps_to_best_f=14\n"
     ]
    },
    {
     "name": "stderr",
     "output_type": "stream",
     "text": [
      "/home/salabed/anaconda3/envs/rocksdb/lib/python3.8/site-packages/botorch/optim/initializers.py:403: BadInitialCandidatesWarning: Unable to find non-zero acquisition function values - initial conditions are being selected randomly.\n",
      "  warnings.warn(\n",
      "/home/salabed/anaconda3/envs/rocksdb/lib/python3.8/site-packages/botorch/optim/initializers.py:403: BadInitialCandidatesWarning: Unable to find non-zero acquisition function values - initial conditions are being selected randomly.\n",
      "  warnings.warn(\n"
     ]
    },
    {
     "name": "stdout",
     "output_type": "stream",
     "text": [
      "y=tensor([0.1720], device='cuda:0', dtype=torch.float64)\n",
      "restart_id=2:optimization_round=60/100, best_f=3.240202621923853, steps_to_best_f=14\n",
      "y=tensor([0.7637], device='cuda:0', dtype=torch.float64)\n",
      "restart_id=2:optimization_round=61/100, best_f=3.240202621923853, steps_to_best_f=14\n"
     ]
    },
    {
     "name": "stderr",
     "output_type": "stream",
     "text": [
      "/home/salabed/anaconda3/envs/rocksdb/lib/python3.8/site-packages/botorch/optim/initializers.py:403: BadInitialCandidatesWarning: Unable to find non-zero acquisition function values - initial conditions are being selected randomly.\n",
      "  warnings.warn(\n",
      "/home/salabed/anaconda3/envs/rocksdb/lib/python3.8/site-packages/botorch/optim/initializers.py:403: BadInitialCandidatesWarning: Unable to find non-zero acquisition function values - initial conditions are being selected randomly.\n",
      "  warnings.warn(\n"
     ]
    },
    {
     "name": "stdout",
     "output_type": "stream",
     "text": [
      "y=tensor([0.6022], device='cuda:0', dtype=torch.float64)\n",
      "restart_id=2:optimization_round=62/100, best_f=3.240202621923853, steps_to_best_f=14\n",
      "y=tensor([0.9536], device='cuda:0', dtype=torch.float64)\n",
      "restart_id=2:optimization_round=63/100, best_f=3.240202621923853, steps_to_best_f=14\n"
     ]
    },
    {
     "name": "stderr",
     "output_type": "stream",
     "text": [
      "/home/salabed/anaconda3/envs/rocksdb/lib/python3.8/site-packages/botorch/optim/initializers.py:403: BadInitialCandidatesWarning: Unable to find non-zero acquisition function values - initial conditions are being selected randomly.\n",
      "  warnings.warn(\n"
     ]
    },
    {
     "name": "stdout",
     "output_type": "stream",
     "text": [
      "y=tensor([0.4255], device='cuda:0', dtype=torch.float64)\n",
      "restart_id=2:optimization_round=64/100, best_f=3.240202621923853, steps_to_best_f=14\n"
     ]
    },
    {
     "name": "stderr",
     "output_type": "stream",
     "text": [
      "/home/salabed/anaconda3/envs/rocksdb/lib/python3.8/site-packages/botorch/optim/initializers.py:403: BadInitialCandidatesWarning: Unable to find non-zero acquisition function values - initial conditions are being selected randomly.\n",
      "  warnings.warn(\n"
     ]
    },
    {
     "name": "stdout",
     "output_type": "stream",
     "text": [
      "y=tensor([0.0778], device='cuda:0', dtype=torch.float64)\n",
      "restart_id=2:optimization_round=65/100, best_f=3.240202621923853, steps_to_best_f=14\n"
     ]
    },
    {
     "name": "stderr",
     "output_type": "stream",
     "text": [
      "/home/salabed/anaconda3/envs/rocksdb/lib/python3.8/site-packages/botorch/optim/initializers.py:403: BadInitialCandidatesWarning: Unable to find non-zero acquisition function values - initial conditions are being selected randomly.\n",
      "  warnings.warn(\n"
     ]
    },
    {
     "name": "stdout",
     "output_type": "stream",
     "text": [
      "y=tensor([0.4207], device='cuda:0', dtype=torch.float64)\n",
      "restart_id=2:optimization_round=66/100, best_f=3.240202621923853, steps_to_best_f=14\n"
     ]
    },
    {
     "name": "stderr",
     "output_type": "stream",
     "text": [
      "/home/salabed/anaconda3/envs/rocksdb/lib/python3.8/site-packages/botorch/optim/initializers.py:403: BadInitialCandidatesWarning: Unable to find non-zero acquisition function values - initial conditions are being selected randomly.\n",
      "  warnings.warn(\n"
     ]
    },
    {
     "name": "stdout",
     "output_type": "stream",
     "text": [
      "y=tensor([0.6320], device='cuda:0', dtype=torch.float64)\n",
      "restart_id=2:optimization_round=67/100, best_f=3.240202621923853, steps_to_best_f=14\n"
     ]
    },
    {
     "name": "stderr",
     "output_type": "stream",
     "text": [
      "/home/salabed/anaconda3/envs/rocksdb/lib/python3.8/site-packages/botorch/optim/initializers.py:403: BadInitialCandidatesWarning: Unable to find non-zero acquisition function values - initial conditions are being selected randomly.\n",
      "  warnings.warn(\n"
     ]
    },
    {
     "name": "stdout",
     "output_type": "stream",
     "text": [
      "y=tensor([0.2318], device='cuda:0', dtype=torch.float64)\n",
      "restart_id=2:optimization_round=68/100, best_f=3.240202621923853, steps_to_best_f=14\n"
     ]
    },
    {
     "name": "stderr",
     "output_type": "stream",
     "text": [
      "/home/salabed/anaconda3/envs/rocksdb/lib/python3.8/site-packages/botorch/optim/initializers.py:403: BadInitialCandidatesWarning: Unable to find non-zero acquisition function values - initial conditions are being selected randomly.\n",
      "  warnings.warn(\n"
     ]
    },
    {
     "name": "stdout",
     "output_type": "stream",
     "text": [
      "y=tensor([0.5251], device='cuda:0', dtype=torch.float64)\n",
      "restart_id=2:optimization_round=69/100, best_f=3.240202621923853, steps_to_best_f=14\n"
     ]
    },
    {
     "name": "stderr",
     "output_type": "stream",
     "text": [
      "/home/salabed/anaconda3/envs/rocksdb/lib/python3.8/site-packages/botorch/optim/initializers.py:403: BadInitialCandidatesWarning: Unable to find non-zero acquisition function values - initial conditions are being selected randomly.\n",
      "  warnings.warn(\n"
     ]
    },
    {
     "name": "stdout",
     "output_type": "stream",
     "text": [
      "y=tensor([1.0729], device='cuda:0', dtype=torch.float64)\n",
      "restart_id=2:optimization_round=70/100, best_f=3.240202621923853, steps_to_best_f=14\n"
     ]
    },
    {
     "name": "stderr",
     "output_type": "stream",
     "text": [
      "/home/salabed/anaconda3/envs/rocksdb/lib/python3.8/site-packages/botorch/optim/initializers.py:403: BadInitialCandidatesWarning: Unable to find non-zero acquisition function values - initial conditions are being selected randomly.\n",
      "  warnings.warn(\n"
     ]
    },
    {
     "name": "stdout",
     "output_type": "stream",
     "text": [
      "y=tensor([0.3790], device='cuda:0', dtype=torch.float64)\n",
      "restart_id=2:optimization_round=71/100, best_f=3.240202621923853, steps_to_best_f=14\n"
     ]
    },
    {
     "name": "stderr",
     "output_type": "stream",
     "text": [
      "/home/salabed/anaconda3/envs/rocksdb/lib/python3.8/site-packages/botorch/optim/initializers.py:403: BadInitialCandidatesWarning: Unable to find non-zero acquisition function values - initial conditions are being selected randomly.\n",
      "  warnings.warn(\n"
     ]
    },
    {
     "name": "stdout",
     "output_type": "stream",
     "text": [
      "y=tensor([0.1214], device='cuda:0', dtype=torch.float64)\n",
      "restart_id=2:optimization_round=72/100, best_f=3.240202621923853, steps_to_best_f=14\n"
     ]
    },
    {
     "name": "stderr",
     "output_type": "stream",
     "text": [
      "/home/salabed/anaconda3/envs/rocksdb/lib/python3.8/site-packages/botorch/optim/initializers.py:403: BadInitialCandidatesWarning: Unable to find non-zero acquisition function values - initial conditions are being selected randomly.\n",
      "  warnings.warn(\n"
     ]
    },
    {
     "name": "stdout",
     "output_type": "stream",
     "text": [
      "y=tensor([0.0168], device='cuda:0', dtype=torch.float64)\n",
      "restart_id=2:optimization_round=73/100, best_f=3.240202621923853, steps_to_best_f=14\n"
     ]
    },
    {
     "name": "stderr",
     "output_type": "stream",
     "text": [
      "/home/salabed/anaconda3/envs/rocksdb/lib/python3.8/site-packages/botorch/optim/initializers.py:403: BadInitialCandidatesWarning: Unable to find non-zero acquisition function values - initial conditions are being selected randomly.\n",
      "  warnings.warn(\n"
     ]
    },
    {
     "name": "stdout",
     "output_type": "stream",
     "text": [
      "y=tensor([0.5077], device='cuda:0', dtype=torch.float64)\n",
      "restart_id=2:optimization_round=74/100, best_f=3.240202621923853, steps_to_best_f=14\n"
     ]
    },
    {
     "name": "stderr",
     "output_type": "stream",
     "text": [
      "/home/salabed/anaconda3/envs/rocksdb/lib/python3.8/site-packages/botorch/optim/initializers.py:403: BadInitialCandidatesWarning: Unable to find non-zero acquisition function values - initial conditions are being selected randomly.\n",
      "  warnings.warn(\n"
     ]
    },
    {
     "name": "stdout",
     "output_type": "stream",
     "text": [
      "y=tensor([9.3674e-06], device='cuda:0', dtype=torch.float64)\n",
      "restart_id=2:optimization_round=75/100, best_f=3.240202621923853, steps_to_best_f=14\n"
     ]
    },
    {
     "name": "stderr",
     "output_type": "stream",
     "text": [
      "/home/salabed/anaconda3/envs/rocksdb/lib/python3.8/site-packages/botorch/optim/initializers.py:403: BadInitialCandidatesWarning: Unable to find non-zero acquisition function values - initial conditions are being selected randomly.\n",
      "  warnings.warn(\n"
     ]
    },
    {
     "name": "stdout",
     "output_type": "stream",
     "text": [
      "y=tensor([0.2215], device='cuda:0', dtype=torch.float64)\n",
      "restart_id=2:optimization_round=76/100, best_f=3.240202621923853, steps_to_best_f=14\n"
     ]
    },
    {
     "name": "stderr",
     "output_type": "stream",
     "text": [
      "/home/salabed/anaconda3/envs/rocksdb/lib/python3.8/site-packages/botorch/optim/initializers.py:403: BadInitialCandidatesWarning: Unable to find non-zero acquisition function values - initial conditions are being selected randomly.\n",
      "  warnings.warn(\n"
     ]
    },
    {
     "name": "stdout",
     "output_type": "stream",
     "text": [
      "y=tensor([0.0984], device='cuda:0', dtype=torch.float64)\n",
      "restart_id=2:optimization_round=77/100, best_f=3.240202621923853, steps_to_best_f=14\n"
     ]
    },
    {
     "name": "stderr",
     "output_type": "stream",
     "text": [
      "/home/salabed/anaconda3/envs/rocksdb/lib/python3.8/site-packages/botorch/optim/initializers.py:403: BadInitialCandidatesWarning: Unable to find non-zero acquisition function values - initial conditions are being selected randomly.\n",
      "  warnings.warn(\n",
      "/home/salabed/anaconda3/envs/rocksdb/lib/python3.8/site-packages/botorch/optim/initializers.py:403: BadInitialCandidatesWarning: Unable to find non-zero acquisition function values - initial conditions are being selected randomly.\n",
      "  warnings.warn(\n"
     ]
    },
    {
     "name": "stdout",
     "output_type": "stream",
     "text": [
      "y=tensor([0.3375], device='cuda:0', dtype=torch.float64)\n",
      "restart_id=2:optimization_round=78/100, best_f=3.240202621923853, steps_to_best_f=14\n",
      "y=tensor([0.5563], device='cuda:0', dtype=torch.float64)\n",
      "restart_id=2:optimization_round=79/100, best_f=3.240202621923853, steps_to_best_f=14\n"
     ]
    },
    {
     "name": "stderr",
     "output_type": "stream",
     "text": [
      "/home/salabed/anaconda3/envs/rocksdb/lib/python3.8/site-packages/botorch/optim/initializers.py:403: BadInitialCandidatesWarning: Unable to find non-zero acquisition function values - initial conditions are being selected randomly.\n",
      "  warnings.warn(\n"
     ]
    },
    {
     "name": "stdout",
     "output_type": "stream",
     "text": [
      "y=tensor([1.0488], device='cuda:0', dtype=torch.float64)\n",
      "restart_id=2:optimization_round=80/100, best_f=3.240202621923853, steps_to_best_f=14\n"
     ]
    },
    {
     "name": "stderr",
     "output_type": "stream",
     "text": [
      "/home/salabed/anaconda3/envs/rocksdb/lib/python3.8/site-packages/botorch/optim/initializers.py:403: BadInitialCandidatesWarning: Unable to find non-zero acquisition function values - initial conditions are being selected randomly.\n",
      "  warnings.warn(\n"
     ]
    },
    {
     "name": "stdout",
     "output_type": "stream",
     "text": [
      "y=tensor([0.2272], device='cuda:0', dtype=torch.float64)\n",
      "restart_id=2:optimization_round=81/100, best_f=3.240202621923853, steps_to_best_f=14\n"
     ]
    },
    {
     "name": "stderr",
     "output_type": "stream",
     "text": [
      "/home/salabed/anaconda3/envs/rocksdb/lib/python3.8/site-packages/botorch/optim/initializers.py:403: BadInitialCandidatesWarning: Unable to find non-zero acquisition function values - initial conditions are being selected randomly.\n",
      "  warnings.warn(\n"
     ]
    },
    {
     "name": "stdout",
     "output_type": "stream",
     "text": [
      "y=tensor([0.8908], device='cuda:0', dtype=torch.float64)\n",
      "restart_id=2:optimization_round=82/100, best_f=3.240202621923853, steps_to_best_f=14\n"
     ]
    },
    {
     "name": "stderr",
     "output_type": "stream",
     "text": [
      "/home/salabed/anaconda3/envs/rocksdb/lib/python3.8/site-packages/botorch/optim/initializers.py:403: BadInitialCandidatesWarning: Unable to find non-zero acquisition function values - initial conditions are being selected randomly.\n",
      "  warnings.warn(\n"
     ]
    },
    {
     "name": "stdout",
     "output_type": "stream",
     "text": [
      "y=tensor([0.3679], device='cuda:0', dtype=torch.float64)\n",
      "restart_id=2:optimization_round=83/100, best_f=3.240202621923853, steps_to_best_f=14\n"
     ]
    },
    {
     "name": "stderr",
     "output_type": "stream",
     "text": [
      "/home/salabed/anaconda3/envs/rocksdb/lib/python3.8/site-packages/botorch/optim/initializers.py:403: BadInitialCandidatesWarning: Unable to find non-zero acquisition function values - initial conditions are being selected randomly.\n",
      "  warnings.warn(\n"
     ]
    },
    {
     "name": "stdout",
     "output_type": "stream",
     "text": [
      "y=tensor([0.0115], device='cuda:0', dtype=torch.float64)\n",
      "restart_id=2:optimization_round=84/100, best_f=3.240202621923853, steps_to_best_f=14\n"
     ]
    },
    {
     "name": "stderr",
     "output_type": "stream",
     "text": [
      "/home/salabed/anaconda3/envs/rocksdb/lib/python3.8/site-packages/botorch/optim/initializers.py:403: BadInitialCandidatesWarning: Unable to find non-zero acquisition function values - initial conditions are being selected randomly.\n",
      "  warnings.warn(\n"
     ]
    },
    {
     "name": "stdout",
     "output_type": "stream",
     "text": [
      "y=tensor([0.6204], device='cuda:0', dtype=torch.float64)\n",
      "restart_id=2:optimization_round=85/100, best_f=3.240202621923853, steps_to_best_f=14\n"
     ]
    },
    {
     "name": "stderr",
     "output_type": "stream",
     "text": [
      "/home/salabed/anaconda3/envs/rocksdb/lib/python3.8/site-packages/botorch/optim/initializers.py:403: BadInitialCandidatesWarning: Unable to find non-zero acquisition function values - initial conditions are being selected randomly.\n",
      "  warnings.warn(\n"
     ]
    },
    {
     "name": "stdout",
     "output_type": "stream",
     "text": [
      "y=tensor([0.0481], device='cuda:0', dtype=torch.float64)\n",
      "restart_id=2:optimization_round=86/100, best_f=3.240202621923853, steps_to_best_f=14\n"
     ]
    },
    {
     "name": "stderr",
     "output_type": "stream",
     "text": [
      "/home/salabed/anaconda3/envs/rocksdb/lib/python3.8/site-packages/botorch/optim/initializers.py:403: BadInitialCandidatesWarning: Unable to find non-zero acquisition function values - initial conditions are being selected randomly.\n",
      "  warnings.warn(\n"
     ]
    },
    {
     "name": "stdout",
     "output_type": "stream",
     "text": [
      "y=tensor([1.1012], device='cuda:0', dtype=torch.float64)\n",
      "restart_id=2:optimization_round=87/100, best_f=3.240202621923853, steps_to_best_f=14\n"
     ]
    },
    {
     "name": "stderr",
     "output_type": "stream",
     "text": [
      "/home/salabed/anaconda3/envs/rocksdb/lib/python3.8/site-packages/botorch/optim/initializers.py:403: BadInitialCandidatesWarning: Unable to find non-zero acquisition function values - initial conditions are being selected randomly.\n",
      "  warnings.warn(\n"
     ]
    },
    {
     "name": "stdout",
     "output_type": "stream",
     "text": [
      "y=tensor([1.1519], device='cuda:0', dtype=torch.float64)\n",
      "restart_id=2:optimization_round=88/100, best_f=3.240202621923853, steps_to_best_f=14\n"
     ]
    },
    {
     "name": "stderr",
     "output_type": "stream",
     "text": [
      "/home/salabed/anaconda3/envs/rocksdb/lib/python3.8/site-packages/botorch/optim/initializers.py:403: BadInitialCandidatesWarning: Unable to find non-zero acquisition function values - initial conditions are being selected randomly.\n",
      "  warnings.warn(\n"
     ]
    },
    {
     "name": "stdout",
     "output_type": "stream",
     "text": [
      "y=tensor([0.0675], device='cuda:0', dtype=torch.float64)\n",
      "restart_id=2:optimization_round=89/100, best_f=3.240202621923853, steps_to_best_f=14\n"
     ]
    },
    {
     "name": "stderr",
     "output_type": "stream",
     "text": [
      "/home/salabed/anaconda3/envs/rocksdb/lib/python3.8/site-packages/botorch/optim/initializers.py:403: BadInitialCandidatesWarning: Unable to find non-zero acquisition function values - initial conditions are being selected randomly.\n",
      "  warnings.warn(\n"
     ]
    },
    {
     "name": "stdout",
     "output_type": "stream",
     "text": [
      "y=tensor([0.4589], device='cuda:0', dtype=torch.float64)\n",
      "restart_id=2:optimization_round=90/100, best_f=3.240202621923853, steps_to_best_f=14\n"
     ]
    },
    {
     "name": "stderr",
     "output_type": "stream",
     "text": [
      "/home/salabed/anaconda3/envs/rocksdb/lib/python3.8/site-packages/botorch/optim/initializers.py:403: BadInitialCandidatesWarning: Unable to find non-zero acquisition function values - initial conditions are being selected randomly.\n",
      "  warnings.warn(\n"
     ]
    },
    {
     "name": "stdout",
     "output_type": "stream",
     "text": [
      "y=tensor([0.7866], device='cuda:0', dtype=torch.float64)\n",
      "restart_id=2:optimization_round=91/100, best_f=3.240202621923853, steps_to_best_f=14\n"
     ]
    },
    {
     "name": "stderr",
     "output_type": "stream",
     "text": [
      "/home/salabed/anaconda3/envs/rocksdb/lib/python3.8/site-packages/botorch/optim/initializers.py:403: BadInitialCandidatesWarning: Unable to find non-zero acquisition function values - initial conditions are being selected randomly.\n",
      "  warnings.warn(\n"
     ]
    },
    {
     "name": "stdout",
     "output_type": "stream",
     "text": [
      "y=tensor([0.2078], device='cuda:0', dtype=torch.float64)\n",
      "restart_id=2:optimization_round=92/100, best_f=3.240202621923853, steps_to_best_f=14\n",
      "y=tensor([2.5397], device='cuda:0', dtype=torch.float64)\n",
      "restart_id=2:optimization_round=93/100, best_f=3.240202621923853, steps_to_best_f=14\n"
     ]
    },
    {
     "name": "stderr",
     "output_type": "stream",
     "text": [
      "/home/salabed/anaconda3/envs/rocksdb/lib/python3.8/site-packages/botorch/optim/initializers.py:403: BadInitialCandidatesWarning: Unable to find non-zero acquisition function values - initial conditions are being selected randomly.\n",
      "  warnings.warn(\n"
     ]
    },
    {
     "name": "stdout",
     "output_type": "stream",
     "text": [
      "y=tensor([0.5105], device='cuda:0', dtype=torch.float64)\n",
      "restart_id=2:optimization_round=94/100, best_f=3.240202621923853, steps_to_best_f=14\n"
     ]
    },
    {
     "name": "stderr",
     "output_type": "stream",
     "text": [
      "/home/salabed/anaconda3/envs/rocksdb/lib/python3.8/site-packages/botorch/optim/initializers.py:403: BadInitialCandidatesWarning: Unable to find non-zero acquisition function values - initial conditions are being selected randomly.\n",
      "  warnings.warn(\n"
     ]
    },
    {
     "name": "stdout",
     "output_type": "stream",
     "text": [
      "y=tensor([0.1818], device='cuda:0', dtype=torch.float64)\n",
      "restart_id=2:optimization_round=95/100, best_f=3.240202621923853, steps_to_best_f=14\n"
     ]
    },
    {
     "name": "stderr",
     "output_type": "stream",
     "text": [
      "/home/salabed/anaconda3/envs/rocksdb/lib/python3.8/site-packages/botorch/optim/initializers.py:403: BadInitialCandidatesWarning: Unable to find non-zero acquisition function values - initial conditions are being selected randomly.\n",
      "  warnings.warn(\n"
     ]
    },
    {
     "name": "stdout",
     "output_type": "stream",
     "text": [
      "y=tensor([0.0001], device='cuda:0', dtype=torch.float64)\n",
      "restart_id=2:optimization_round=96/100, best_f=3.240202621923853, steps_to_best_f=14\n"
     ]
    },
    {
     "name": "stderr",
     "output_type": "stream",
     "text": [
      "/home/salabed/anaconda3/envs/rocksdb/lib/python3.8/site-packages/botorch/optim/initializers.py:403: BadInitialCandidatesWarning: Unable to find non-zero acquisition function values - initial conditions are being selected randomly.\n",
      "  warnings.warn(\n"
     ]
    },
    {
     "name": "stdout",
     "output_type": "stream",
     "text": [
      "y=tensor([0.4614], device='cuda:0', dtype=torch.float64)\n",
      "restart_id=2:optimization_round=97/100, best_f=3.240202621923853, steps_to_best_f=14\n"
     ]
    },
    {
     "name": "stderr",
     "output_type": "stream",
     "text": [
      "/home/salabed/anaconda3/envs/rocksdb/lib/python3.8/site-packages/botorch/optim/initializers.py:403: BadInitialCandidatesWarning: Unable to find non-zero acquisition function values - initial conditions are being selected randomly.\n",
      "  warnings.warn(\n"
     ]
    },
    {
     "name": "stdout",
     "output_type": "stream",
     "text": [
      "y=tensor([0.7891], device='cuda:0', dtype=torch.float64)\n",
      "restart_id=2:optimization_round=98/100, best_f=3.240202621923853, steps_to_best_f=14\n"
     ]
    },
    {
     "name": "stderr",
     "output_type": "stream",
     "text": [
      "/home/salabed/anaconda3/envs/rocksdb/lib/python3.8/site-packages/botorch/optim/initializers.py:403: BadInitialCandidatesWarning: Unable to find non-zero acquisition function values - initial conditions are being selected randomly.\n",
      "  warnings.warn(\n"
     ]
    },
    {
     "name": "stdout",
     "output_type": "stream",
     "text": [
      "y=tensor([0.2606], device='cuda:0', dtype=torch.float64)\n",
      "restart_id=2:optimization_round=99/100, best_f=3.240202621923853, steps_to_best_f=14\n",
      "y=tensor([0.6937], device='cuda:0', dtype=torch.float64)\n"
     ]
    },
    {
     "name": "stderr",
     "output_type": "stream",
     "text": [
      "/home/salabed/anaconda3/envs/rocksdb/lib/python3.8/site-packages/botorch/optim/initializers.py:403: BadInitialCandidatesWarning: Unable to find non-zero acquisition function values - initial conditions are being selected randomly.\n",
      "  warnings.warn(\n"
     ]
    }
   ],
   "source": [
    "utils.clear_memory()\n",
    "\n",
    "tkwargs = {\n",
    "    \"dtype\": torch.double,\n",
    "    \"device\": torch.device(\"cuda\" if torch.cuda.is_available() else \"cpu\"),\n",
    "}\n",
    "botorch_results = []\n",
    "\n",
    "for restart_id in range(num_restarts):\n",
    "    print(f\"{restart_id=}/{num_restarts}\")\n",
    "    train_x = initial_train_x.clone().to(**tkwargs)\n",
    "    train_y = initial_train_y.clone().to(**tkwargs)\n",
    "    best_f = float(initial_train_y.max())\n",
    "    steps_to_best_f = 0\n",
    "    for optimization_round in range(num_optimization_rounds):\n",
    "        print(f\"{restart_id=}:{optimization_round=}/{num_optimization_rounds}, {best_f=}, {steps_to_best_f=}\")\n",
    "        next_candidate = bench_util.botorch_optimize(train_x, train_y, problem, tkwargs)\n",
    "        y = problem(next_candidate)\n",
    "        if float(y) > best_f:\n",
    "            best_f = float(y)\n",
    "            steps_to_best_f = optimization_round\n",
    "        print(f\"{y=}\")\n",
    "        train_y = torch.concat([train_y, y])\n",
    "        train_x = torch.concat([train_x, next_candidate])\n",
    "\n",
    "        botorch_results.append(bench_util.ExperimentResult(\n",
    "            model=\"BoTorch\",\n",
    "            step=optimization_round,\n",
    "            restart=restart_id,\n",
    "            candidate=next_candidate.squeeze().detach().cpu().tolist(),\n",
    "            result=float(y),\n",
    "            best_f=best_f,\n",
    "            steps_to_best_f=steps_to_best_f\n",
    "        ))\n",
    "\n",
    "\n"
   ],
   "metadata": {
    "collapsed": false
   },
   "id": "4fa8bbf67cd24cee"
  },
  {
   "cell_type": "code",
   "execution_count": 230,
   "outputs": [
    {
     "data": {
      "text/plain": "       model  step  restart  \\\n0       BoBn     0        0   \n1       BoBn     1        0   \n2       BoBn     2        0   \n3       BoBn     3        0   \n4       BoBn     4        0   \n..       ...   ...      ...   \n595  BoTorch    95        2   \n596  BoTorch    96        2   \n597  BoTorch    97        2   \n598  BoTorch    98        2   \n599  BoTorch    99        2   \n\n                                             candidate    result    best_f  \\\n0    {'x3': 1.3227853266308454, 'x1': 2.19296598452...  3.423279  3.423279   \n1    {'x3': 1.2851952342890804, 'x1': 2.20296039208...  3.663149  3.663149   \n2    {'x3': 1.2849370573787544, 'x1': 2.20331786745...  3.490224  3.663149   \n3    {'x3': 1.2849095646846571, 'x1': 2.20339289885...  3.740548  3.740548   \n4    {'x3': 1.284897139981373, 'x1': 2.203434567821...  3.686699  3.740548   \n..                                                 ...       ...       ...   \n595  [3.065116519468636, 2.3058197310154593, 1.7364...  0.000143  3.240203   \n596  [2.916617532683301, 2.2061130426686293, 0.4984...  0.461376  3.240203   \n597  [1.1252150348847945, 0.8383931870509154, 2.230...  0.789082  3.240203   \n598  [2.931047013856345, 2.8742964291418227, 0.8392...  0.260618  3.240203   \n599  [2.747813830485776, 1.6628772294973726, 0.4999...  0.693686  3.240203   \n\n     steps_to_best_f  \n0                  0  \n1                  1  \n2                  1  \n3                  3  \n4                  3  \n..               ...  \n595               14  \n596               14  \n597               14  \n598               14  \n599               14  \n\n[600 rows x 7 columns]",
      "text/html": "<div>\n<style scoped>\n    .dataframe tbody tr th:only-of-type {\n        vertical-align: middle;\n    }\n\n    .dataframe tbody tr th {\n        vertical-align: top;\n    }\n\n    .dataframe thead th {\n        text-align: right;\n    }\n</style>\n<table border=\"1\" class=\"dataframe\">\n  <thead>\n    <tr style=\"text-align: right;\">\n      <th></th>\n      <th>model</th>\n      <th>step</th>\n      <th>restart</th>\n      <th>candidate</th>\n      <th>result</th>\n      <th>best_f</th>\n      <th>steps_to_best_f</th>\n    </tr>\n  </thead>\n  <tbody>\n    <tr>\n      <th>0</th>\n      <td>BoBn</td>\n      <td>0</td>\n      <td>0</td>\n      <td>{'x3': 1.3227853266308454, 'x1': 2.19296598452...</td>\n      <td>3.423279</td>\n      <td>3.423279</td>\n      <td>0</td>\n    </tr>\n    <tr>\n      <th>1</th>\n      <td>BoBn</td>\n      <td>1</td>\n      <td>0</td>\n      <td>{'x3': 1.2851952342890804, 'x1': 2.20296039208...</td>\n      <td>3.663149</td>\n      <td>3.663149</td>\n      <td>1</td>\n    </tr>\n    <tr>\n      <th>2</th>\n      <td>BoBn</td>\n      <td>2</td>\n      <td>0</td>\n      <td>{'x3': 1.2849370573787544, 'x1': 2.20331786745...</td>\n      <td>3.490224</td>\n      <td>3.663149</td>\n      <td>1</td>\n    </tr>\n    <tr>\n      <th>3</th>\n      <td>BoBn</td>\n      <td>3</td>\n      <td>0</td>\n      <td>{'x3': 1.2849095646846571, 'x1': 2.20339289885...</td>\n      <td>3.740548</td>\n      <td>3.740548</td>\n      <td>3</td>\n    </tr>\n    <tr>\n      <th>4</th>\n      <td>BoBn</td>\n      <td>4</td>\n      <td>0</td>\n      <td>{'x3': 1.284897139981373, 'x1': 2.203434567821...</td>\n      <td>3.686699</td>\n      <td>3.740548</td>\n      <td>3</td>\n    </tr>\n    <tr>\n      <th>...</th>\n      <td>...</td>\n      <td>...</td>\n      <td>...</td>\n      <td>...</td>\n      <td>...</td>\n      <td>...</td>\n      <td>...</td>\n    </tr>\n    <tr>\n      <th>595</th>\n      <td>BoTorch</td>\n      <td>95</td>\n      <td>2</td>\n      <td>[3.065116519468636, 2.3058197310154593, 1.7364...</td>\n      <td>0.000143</td>\n      <td>3.240203</td>\n      <td>14</td>\n    </tr>\n    <tr>\n      <th>596</th>\n      <td>BoTorch</td>\n      <td>96</td>\n      <td>2</td>\n      <td>[2.916617532683301, 2.2061130426686293, 0.4984...</td>\n      <td>0.461376</td>\n      <td>3.240203</td>\n      <td>14</td>\n    </tr>\n    <tr>\n      <th>597</th>\n      <td>BoTorch</td>\n      <td>97</td>\n      <td>2</td>\n      <td>[1.1252150348847945, 0.8383931870509154, 2.230...</td>\n      <td>0.789082</td>\n      <td>3.240203</td>\n      <td>14</td>\n    </tr>\n    <tr>\n      <th>598</th>\n      <td>BoTorch</td>\n      <td>98</td>\n      <td>2</td>\n      <td>[2.931047013856345, 2.8742964291418227, 0.8392...</td>\n      <td>0.260618</td>\n      <td>3.240203</td>\n      <td>14</td>\n    </tr>\n    <tr>\n      <th>599</th>\n      <td>BoTorch</td>\n      <td>99</td>\n      <td>2</td>\n      <td>[2.747813830485776, 1.6628772294973726, 0.4999...</td>\n      <td>0.693686</td>\n      <td>3.240203</td>\n      <td>14</td>\n    </tr>\n  </tbody>\n</table>\n<p>600 rows × 7 columns</p>\n</div>"
     },
     "execution_count": 230,
     "metadata": {},
     "output_type": "execute_result"
    }
   ],
   "source": [
    "import pandas as pd\n",
    "\n",
    "all_results = bobn_results + botorch_results\n",
    "all_results_df = pd.DataFrame(all_results)\n",
    "all_results_df"
   ],
   "metadata": {
    "collapsed": false
   },
   "id": "ca77f584b484f01a"
  },
  {
   "cell_type": "code",
   "execution_count": 231,
   "outputs": [],
   "source": [
    "import seaborn as sns\n",
    "import matplotlib.pyplot as plt\n",
    "\n",
    "plt.style.use(\"ggplot\")\n",
    "sns.set_theme(style=\"ticks\", rc={\"axes.spines.right\": False, \"axes.spines.top\": False})\n",
    "sns.set_context(\"paper\")  # , font_scale=1.5, rc={\"lines.linewidth\": 1.5})\n",
    "plt.rcParams[\"svg.fonttype\"] = \"none\"\n",
    "plt.rcParams[\"font.family\"] = \"Arial\"\n",
    "plt.rc(\"text\", usetex=False)\n",
    "plt.rc(\"xtick\", labelsize=\"small\")\n",
    "plt.rc(\"ytick\", labelsize=\"small\")\n",
    "plt.rc(\"axes\", labelsize=\"medium\")\n",
    "plt.rc(\"pdf\", use14corefonts=True)"
   ],
   "metadata": {
    "collapsed": false
   },
   "id": "7a4060d161f80944"
  },
  {
   "cell_type": "code",
   "execution_count": 242,
   "outputs": [
    {
     "data": {
      "text/plain": "<Figure size 400x300 with 1 Axes>",
      "image/png": "[encoded data removed]"
     },
     "metadata": {},
     "output_type": "display_data"
    }
   ],
   "source": [
    "fig, ax = plt.subplots(figsize=(4, 3))\n",
    "\n",
    "ax = sns.lineplot(data=all_results_df, x=\"step\", y=\"best_f\", hue=\"model\", style='model', ax=ax)\n",
    "ax.axhline(problem.optimal_value, ls='dashdot', label=\"Optimal value\", color='red')\n",
    "ax.set(xlabel=\"Step\", ylabel=\"f(x)\", ylim=(0, 5))\n",
    "\n",
    "output_location = \"/home/salabed/workspace/latex/thesis/phd_dissertation/Chapters/BoBn/Figures\"\n",
    "output_format = \"svg\"\n",
    "fig.savefig(f\"{output_location}/decomposition_convergence.{output_format}\", bbox_inches = \"tight\", format = f\"{output_format}\",\n",
    "          dpi = 300)\n",
    "output_format = \"pdf\"\n",
    "fig.savefig(f\"{output_location}/decomposition_convergence.{output_format}\", bbox_inches = \"tight\", format = f\"{output_format}\",\n",
    "          dpi = 300)"
   ],
   "metadata": {
    "collapsed": false
   },
   "id": "f3d6a6a595c086bf"
  },
  {
   "cell_type": "code",
   "execution_count": 243,
   "outputs": [],
   "source": [
    "all_results_df.to_csv(\"bobn_exp_all_results_df.csv\")"
   ],
   "metadata": {
    "collapsed": false
   },
   "id": "e68d11b6ee42909c"
  },
  {
   "cell_type": "code",
   "execution_count": null,
   "outputs": [],
   "source": [],
   "metadata": {
    "collapsed": false
   },
   "id": "b9c78c61ac93d4ae"
  }
 ],
 "metadata": {
  "kernelspec": {
   "display_name": "Python 3",
   "language": "python",
   "name": "python3"
  },
  "language_info": {
   "codemirror_mode": {
    "name": "ipython",
    "version": 2
   },
   "file_extension": ".py",
   "mimetype": "text/x-python",
   "name": "python",
   "nbconvert_exporter": "python",
   "pygments_lexer": "ipython2",
   "version": "2.7.6"
  }
 },
 "nbformat": 4,
 "nbformat_minor": 5
}
