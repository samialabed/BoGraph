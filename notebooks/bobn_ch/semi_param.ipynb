{
 "cells": [
  {
   "cell_type": "code",
   "execution_count": null,
   "source": [
    "%matplotlib inline\n",
    "%load_ext autoreload\n",
    "%autoreload 2"
   ],
   "metadata": {
    "collapsed": false
   },
   "id": "2f8e0e23f6a20c66",
   "outputs": []
  },
  {
   "cell_type": "code",
   "execution_count": null,
   "source": [
    "# Viz plots\n",
    "import matplotlib.pyplot as plt\n",
    "import seaborn as sns\n",
    "from autorocks.viz import plots_setup\n",
    "\n",
    "\n",
    "plt.style.use(\"ggplot\")\n",
    "sns.set_theme(style=\"ticks\", rc={\"axes.spines.right\": False, \"axes.spines.top\": False})\n",
    "sns.set_context(\"paper\")  # , font_scale=1.5, rc={\"lines.linewidth\": 1.5})\n",
    "plt.rcParams[\"svg.fonttype\"] = \"none\"\n",
    "plt.rcParams[\"font.family\"] = \"Arial\"\n",
    "plt.rc(\"text\", usetex=False)\n",
    "plt.rc(\"xtick\", labelsize=\"large\")\n",
    "plt.rc(\"ytick\", labelsize=\"large\")\n",
    "plt.rc(\"axes\", labelsize=\"large\")\n",
    "plt.rc(\"pdf\", use14corefonts=True)\n"
   ],
   "metadata": {
    "collapsed": false
   },
   "id": "ca28adf057925457",
   "outputs": []
  },
  {
   "cell_type": "code",
   "execution_count": null,
   "source": [
    "# Ok the goal here is to evaluate Branin as a parameteric model \n",
    "\n",
    "import torch\n",
    "import gpytorch\n",
    "import botorch.posteriors\n",
    "from botorch.optim import fit\n",
    "import numpy as np\n",
    "import pandas as pd\n",
    "\n",
    "class ParametricMean(gpytorch.means.Mean):\n",
    "    def __init__(self, input_size, batch_shape=torch.Size()):\n",
    "        super().__init__()\n",
    "        self.register_parameter(name=\"weight_pow\", parameter=torch.nn.Parameter(torch.randn(*batch_shape, input_size, 1)))\n",
    "        self.register_parameter(name=\"weight_sin\", parameter=torch.nn.Parameter(torch.randn(*batch_shape, input_size, 1)))\n",
    "        self.register_parameter(name=\"bias_pow\", parameter=torch.nn.Parameter(torch.randn(*batch_shape, 1)))\n",
    "        self.register_parameter(name=\"bias_sin\", parameter=torch.nn.Parameter(torch.randn(*batch_shape, 1)))\n",
    "\n",
    "    def forward(self, x):\n",
    "        return (torch.pow(x * self.weight_pow + self.bias_pow, 2) * torch.sin(x * self.weight_sin + self.bias_sin)).squeeze(-1) \n",
    "\n",
    "\n",
    "class Node:\n",
    "    \n",
    "    def predict(self):\n",
    "        pass \n",
    "    \n",
    "    def fit(self):\n",
    "        pass \n",
    "\n",
    "class DAG:\n",
    "    def __init__(self):\n",
    "        self._nodes = [] \n",
    "        \n",
    "    def add(self, node: Node):\n",
    "        self._nodes.append(node)\n",
    "    \n",
    "    def predict(self):\n",
    "        pass \n",
    "    \n",
    "    def fit(self):\n",
    "        for node in self._nodes:\n",
    "            node.fit()\n",
    "            \n",
    "# Then we create a botorch wrapper on top of the DAG            \n",
    "\n",
    "# BOBN Eye\n",
    "def negative_log_predictive_density(dag: DAG) -> float :\n",
    "    \"\"\"Outputs negative log likelihood of the test data given the predictive distribution\"\"\"\n",
    "    "
   ],
   "metadata": {
    "collapsed": false
   },
   "id": "initial_id",
   "outputs": []
  }
 ],
 "metadata": {
  "kernelspec": {
   "display_name": "Python 3",
   "language": "python",
   "name": "python3"
  },
  "language_info": {
   "codemirror_mode": {
    "name": "ipython",
    "version": 2
   },
   "file_extension": ".py",
   "mimetype": "text/x-python",
   "name": "python",
   "nbconvert_exporter": "python",
   "pygments_lexer": "ipython2",
   "version": "2.7.6"
  }
 },
 "nbformat": 4,
 "nbformat_minor": 5
}
