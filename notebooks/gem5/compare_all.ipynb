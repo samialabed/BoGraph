{
 "cells": [
  {
   "cell_type": "code",
   "execution_count": 1,
   "metadata": {
    "collapsed": true,
    "pycharm": {
     "name": "#%%\n"
    }
   },
   "outputs": [],
   "source": [
    "\n",
    "%matplotlib inline\n",
    "%load_ext autoreload\n",
    "%autoreload 2"
   ]
  },
  {
   "cell_type": "code",
   "execution_count": 1,
   "outputs": [],
   "source": [],
   "metadata": {
    "collapsed": false,
    "pycharm": {
     "name": "#%%\n"
    }
   }
  },
  {
   "cell_type": "code",
   "execution_count": 2,
   "outputs": [
    {
     "name": "stdout",
     "output_type": "stream",
     "text": [
      "Creating: /home/salabed/workspace/autorocks/local_execution/gem5osdi/aes_aes/20_params/100_iter/compare_all_models_training_time.csv\n",
      "Creating: /home/salabed/workspace/autorocks/local_execution/gem5osdi/aes_aes/20_params/100_iter/compare_all_models_perf_step.csv\n",
      "Creating: /home/salabed/workspace/autorocks/local_execution/gem5osdi/aes_aes/20_params/100_iter/compare_all_models_params.csv\n",
      "Creating: /home/salabed/workspace/autorocks/local_execution/gem5osdi/fft_transpose/20_params/100_iter/compare_all_models_training_time.csv\n",
      "Creating: /home/salabed/workspace/autorocks/local_execution/gem5osdi/fft_transpose/20_params/100_iter/compare_all_models_perf_step.csv\n",
      "Creating: /home/salabed/workspace/autorocks/local_execution/gem5osdi/fft_transpose/20_params/100_iter/compare_all_models_params.csv\n",
      "Creating: /home/salabed/workspace/autorocks/local_execution/gem5osdi/stencil_stencil3d/20_params/100_iter/compare_all_models_training_time.csv\n",
      "Creating: /home/salabed/workspace/autorocks/local_execution/gem5osdi/stencil_stencil3d/20_params/100_iter/compare_all_models_perf_step.csv\n",
      "Creating: /home/salabed/workspace/autorocks/local_execution/gem5osdi/stencil_stencil3d/20_params/100_iter/compare_all_models_params.csv\n",
      "Creating: /home/salabed/workspace/autorocks/local_execution/gem5osdi/gemm_ncubed/20_params/100_iter/compare_all_models_training_time.csv\n",
      "Creating: /home/salabed/workspace/autorocks/local_execution/gem5osdi/gemm_ncubed/20_params/100_iter/compare_all_models_perf_step.csv\n",
      "Creating: /home/salabed/workspace/autorocks/local_execution/gem5osdi/gemm_ncubed/20_params/100_iter/compare_all_models_params.csv\n",
      "Creating: /home/salabed/workspace/autorocks/local_execution/gem5osdi/stencil_stencil2d/20_params/100_iter/compare_all_models_training_time.csv\n",
      "Creating: /home/salabed/workspace/autorocks/local_execution/gem5osdi/stencil_stencil2d/20_params/100_iter/compare_all_models_perf_step.csv\n",
      "Creating: /home/salabed/workspace/autorocks/local_execution/gem5osdi/stencil_stencil2d/20_params/100_iter/compare_all_models_params.csv\n",
      "Creating: /home/salabed/workspace/autorocks/local_execution/gem5osdi/fft_strided/20_params/100_iter/compare_all_models_training_time.csv\n",
      "Creating: /home/salabed/workspace/autorocks/local_execution/gem5osdi/fft_strided/20_params/100_iter/compare_all_models_perf_step.csv\n",
      "Creating: /home/salabed/workspace/autorocks/local_execution/gem5osdi/fft_strided/20_params/100_iter/compare_all_models_params.csv\n",
      "Creating: /home/salabed/workspace/autorocks/local_execution/gem5osdi/spmv_crs/20_params/100_iter/compare_all_models_training_time.csv\n",
      "Creating: /home/salabed/workspace/autorocks/local_execution/gem5osdi/spmv_crs/20_params/100_iter/compare_all_models_perf_step.csv\n",
      "Creating: /home/salabed/workspace/autorocks/local_execution/gem5osdi/spmv_crs/20_params/100_iter/compare_all_models_params.csv\n",
      "Creating: /home/salabed/workspace/autorocks/local_execution/gem5osdi/spmv_ellpack/20_params/100_iter/compare_all_models_training_time.csv\n",
      "Creating: /home/salabed/workspace/autorocks/local_execution/gem5osdi/spmv_ellpack/20_params/100_iter/compare_all_models_perf_step.csv\n",
      "Creating: /home/salabed/workspace/autorocks/local_execution/gem5osdi/spmv_ellpack/20_params/100_iter/compare_all_models_params.csv\n",
      "Creating: /home/salabed/workspace/autorocks/local_execution/gem5osdi/md_knn/20_params/100_iter/compare_all_models_training_time.csv\n",
      "Creating: /home/salabed/workspace/autorocks/local_execution/gem5osdi/md_knn/20_params/100_iter/compare_all_models_perf_step.csv\n",
      "Creating: /home/salabed/workspace/autorocks/local_execution/gem5osdi/md_knn/20_params/100_iter/compare_all_models_params.csv\n"
     ]
    },
    {
     "data": {
      "text/plain": "       model  iteration  bench_stats.edp    task\n0    BoGraph          0       -38.144063     aes\n1    BoGraph          1       -37.758302     aes\n2    BoGraph          2       -36.769004     aes\n3    BoGraph          3       -37.629890     aes\n4    BoTorch          0       -35.937719     aes\n..       ...        ...              ...     ...\n11  PBTTuner          1       -42.772408  md_knn\n12  PBTTuner          2       -43.398176  md_knn\n13    Random          0       -43.455829  md_knn\n14    Random          1       -42.399803  md_knn\n15    Random          2       -44.754544  md_knn\n\n[148 rows x 4 columns]",
      "text/html": "<div>\n<style scoped>\n    .dataframe tbody tr th:only-of-type {\n        vertical-align: middle;\n    }\n\n    .dataframe tbody tr th {\n        vertical-align: top;\n    }\n\n    .dataframe thead th {\n        text-align: right;\n    }\n</style>\n<table border=\"1\" class=\"dataframe\">\n  <thead>\n    <tr style=\"text-align: right;\">\n      <th></th>\n      <th>model</th>\n      <th>iteration</th>\n      <th>bench_stats.edp</th>\n      <th>task</th>\n    </tr>\n  </thead>\n  <tbody>\n    <tr>\n      <th>0</th>\n      <td>BoGraph</td>\n      <td>0</td>\n      <td>-38.144063</td>\n      <td>aes</td>\n    </tr>\n    <tr>\n      <th>1</th>\n      <td>BoGraph</td>\n      <td>1</td>\n      <td>-37.758302</td>\n      <td>aes</td>\n    </tr>\n    <tr>\n      <th>2</th>\n      <td>BoGraph</td>\n      <td>2</td>\n      <td>-36.769004</td>\n      <td>aes</td>\n    </tr>\n    <tr>\n      <th>3</th>\n      <td>BoGraph</td>\n      <td>3</td>\n      <td>-37.629890</td>\n      <td>aes</td>\n    </tr>\n    <tr>\n      <th>4</th>\n      <td>BoTorch</td>\n      <td>0</td>\n      <td>-35.937719</td>\n      <td>aes</td>\n    </tr>\n    <tr>\n      <th>...</th>\n      <td>...</td>\n      <td>...</td>\n      <td>...</td>\n      <td>...</td>\n    </tr>\n    <tr>\n      <th>11</th>\n      <td>PBTTuner</td>\n      <td>1</td>\n      <td>-42.772408</td>\n      <td>md_knn</td>\n    </tr>\n    <tr>\n      <th>12</th>\n      <td>PBTTuner</td>\n      <td>2</td>\n      <td>-43.398176</td>\n      <td>md_knn</td>\n    </tr>\n    <tr>\n      <th>13</th>\n      <td>Random</td>\n      <td>0</td>\n      <td>-43.455829</td>\n      <td>md_knn</td>\n    </tr>\n    <tr>\n      <th>14</th>\n      <td>Random</td>\n      <td>1</td>\n      <td>-42.399803</td>\n      <td>md_knn</td>\n    </tr>\n    <tr>\n      <th>15</th>\n      <td>Random</td>\n      <td>2</td>\n      <td>-44.754544</td>\n      <td>md_knn</td>\n    </tr>\n  </tbody>\n</table>\n<p>148 rows × 4 columns</p>\n</div>"
     },
     "execution_count": 2,
     "metadata": {},
     "output_type": "execute_result"
    }
   ],
   "source": [
    "from notebooks.gem5.utils import create_compare_all\n",
    "\n",
    "res = create_compare_all()\n",
    "\n",
    "res"
   ],
   "metadata": {
    "collapsed": false,
    "pycharm": {
     "name": "#%%\n"
    }
   }
  },
  {
   "cell_type": "code",
   "execution_count": 3,
   "outputs": [],
   "source": [
    "from autorocks.viz import viz"
   ],
   "metadata": {
    "collapsed": false,
    "pycharm": {
     "name": "#%%\n"
    }
   }
  },
  {
   "cell_type": "code",
   "execution_count": 5,
   "outputs": [],
   "source": [
    "hatches = [\"/\", \"\\\\\", \"|\", \"-\", \"+\", \"x\", \"o\", \"O\", \".\", \"*\"]\n",
    "models = res.model.unique().tolist()\n",
    "\n",
    "model_to_hatchet = {}\n",
    "for i, m in enumerate(models):\n",
    "    model_to_hatchet[m] = hatches[i]"
   ],
   "metadata": {
    "collapsed": false,
    "pycharm": {
     "name": "#%%\n"
    }
   }
  },
  {
   "cell_type": "code",
   "execution_count": 6,
   "outputs": [
    {
     "data": {
      "text/plain": "       model  iteration  bench_stats.edp    task\n0    BoGraph          0         6.218058     aes\n1    BoGraph          1         5.832297     aes\n2    BoGraph          2         4.842999     aes\n3    BoGraph          3         5.703885     aes\n4    BoTorch          0         4.011714     aes\n..       ...        ...              ...     ...\n11  PBTTuner          1         4.117526  md_knn\n12  PBTTuner          2         4.743294  md_knn\n13    Random          0         4.800947  md_knn\n14    Random          1         3.744921  md_knn\n15    Random          2         6.099662  md_knn\n\n[139 rows x 4 columns]",
      "text/html": "<div>\n<style scoped>\n    .dataframe tbody tr th:only-of-type {\n        vertical-align: middle;\n    }\n\n    .dataframe tbody tr th {\n        vertical-align: top;\n    }\n\n    .dataframe thead th {\n        text-align: right;\n    }\n</style>\n<table border=\"1\" class=\"dataframe\">\n  <thead>\n    <tr style=\"text-align: right;\">\n      <th></th>\n      <th>model</th>\n      <th>iteration</th>\n      <th>bench_stats.edp</th>\n      <th>task</th>\n    </tr>\n  </thead>\n  <tbody>\n    <tr>\n      <th>0</th>\n      <td>BoGraph</td>\n      <td>0</td>\n      <td>6.218058</td>\n      <td>aes</td>\n    </tr>\n    <tr>\n      <th>1</th>\n      <td>BoGraph</td>\n      <td>1</td>\n      <td>5.832297</td>\n      <td>aes</td>\n    </tr>\n    <tr>\n      <th>2</th>\n      <td>BoGraph</td>\n      <td>2</td>\n      <td>4.842999</td>\n      <td>aes</td>\n    </tr>\n    <tr>\n      <th>3</th>\n      <td>BoGraph</td>\n      <td>3</td>\n      <td>5.703885</td>\n      <td>aes</td>\n    </tr>\n    <tr>\n      <th>4</th>\n      <td>BoTorch</td>\n      <td>0</td>\n      <td>4.011714</td>\n      <td>aes</td>\n    </tr>\n    <tr>\n      <th>...</th>\n      <td>...</td>\n      <td>...</td>\n      <td>...</td>\n      <td>...</td>\n    </tr>\n    <tr>\n      <th>11</th>\n      <td>PBTTuner</td>\n      <td>1</td>\n      <td>4.117526</td>\n      <td>md_knn</td>\n    </tr>\n    <tr>\n      <th>12</th>\n      <td>PBTTuner</td>\n      <td>2</td>\n      <td>4.743294</td>\n      <td>md_knn</td>\n    </tr>\n    <tr>\n      <th>13</th>\n      <td>Random</td>\n      <td>0</td>\n      <td>4.800947</td>\n      <td>md_knn</td>\n    </tr>\n    <tr>\n      <th>14</th>\n      <td>Random</td>\n      <td>1</td>\n      <td>3.744921</td>\n      <td>md_knn</td>\n    </tr>\n    <tr>\n      <th>15</th>\n      <td>Random</td>\n      <td>2</td>\n      <td>6.099662</td>\n      <td>md_knn</td>\n    </tr>\n  </tbody>\n</table>\n<p>139 rows × 4 columns</p>\n</div>"
     },
     "execution_count": 6,
     "metadata": {},
     "output_type": "execute_result"
    }
   ],
   "source": [
    "res_c = res.copy()\n",
    "for task in res_c[\"task\"].unique():\n",
    "    res_def = res_c[(res_c[\"model\"] == \"Default\") & (res_c[\"task\"] == task)][\"bench_stats.edp\"].mean()\n",
    "    res_c.loc[(res_c[\"model\"] != \"Default\") & (res_c[\"task\"] == task), \"bench_stats.edp\"] -= res_def\n",
    "res_c.loc[:, \"bench_stats.edp\"] *= -1\n",
    "res_c = res_c[res_c[\"model\"] != \"Default\"]\n",
    "res_c"
   ],
   "metadata": {
    "collapsed": false,
    "pycharm": {
     "name": "#%%\n"
    }
   }
  },
  {
   "cell_type": "code",
   "execution_count": 10,
   "outputs": [
    {
     "data": {
      "text/plain": "       model  iteration  bench_stats.edp       task\n0    BoGraph          0         5.692975  TRANSPOSE\n1    BoGraph          1         5.159063  TRANSPOSE\n2    BoGraph          2         5.950144  TRANSPOSE\n3    BoTorch          0         4.885753  TRANSPOSE\n4    BoTorch          1         4.609992  TRANSPOSE\n..       ...        ...              ...        ...\n11  PBTTuner          1         4.117526        KNN\n12  PBTTuner          2         4.743294        KNN\n13    Random          0         4.800947        KNN\n14    Random          1         3.744921        KNN\n15    Random          2         6.099662        KNN\n\n[119 rows x 4 columns]",
      "text/html": "<div>\n<style scoped>\n    .dataframe tbody tr th:only-of-type {\n        vertical-align: middle;\n    }\n\n    .dataframe tbody tr th {\n        vertical-align: top;\n    }\n\n    .dataframe thead th {\n        text-align: right;\n    }\n</style>\n<table border=\"1\" class=\"dataframe\">\n  <thead>\n    <tr style=\"text-align: right;\">\n      <th></th>\n      <th>model</th>\n      <th>iteration</th>\n      <th>bench_stats.edp</th>\n      <th>task</th>\n    </tr>\n  </thead>\n  <tbody>\n    <tr>\n      <th>0</th>\n      <td>BoGraph</td>\n      <td>0</td>\n      <td>5.692975</td>\n      <td>TRANSPOSE</td>\n    </tr>\n    <tr>\n      <th>1</th>\n      <td>BoGraph</td>\n      <td>1</td>\n      <td>5.159063</td>\n      <td>TRANSPOSE</td>\n    </tr>\n    <tr>\n      <th>2</th>\n      <td>BoGraph</td>\n      <td>2</td>\n      <td>5.950144</td>\n      <td>TRANSPOSE</td>\n    </tr>\n    <tr>\n      <th>3</th>\n      <td>BoTorch</td>\n      <td>0</td>\n      <td>4.885753</td>\n      <td>TRANSPOSE</td>\n    </tr>\n    <tr>\n      <th>4</th>\n      <td>BoTorch</td>\n      <td>1</td>\n      <td>4.609992</td>\n      <td>TRANSPOSE</td>\n    </tr>\n    <tr>\n      <th>...</th>\n      <td>...</td>\n      <td>...</td>\n      <td>...</td>\n      <td>...</td>\n    </tr>\n    <tr>\n      <th>11</th>\n      <td>PBTTuner</td>\n      <td>1</td>\n      <td>4.117526</td>\n      <td>KNN</td>\n    </tr>\n    <tr>\n      <th>12</th>\n      <td>PBTTuner</td>\n      <td>2</td>\n      <td>4.743294</td>\n      <td>KNN</td>\n    </tr>\n    <tr>\n      <th>13</th>\n      <td>Random</td>\n      <td>0</td>\n      <td>4.800947</td>\n      <td>KNN</td>\n    </tr>\n    <tr>\n      <th>14</th>\n      <td>Random</td>\n      <td>1</td>\n      <td>3.744921</td>\n      <td>KNN</td>\n    </tr>\n    <tr>\n      <th>15</th>\n      <td>Random</td>\n      <td>2</td>\n      <td>6.099662</td>\n      <td>KNN</td>\n    </tr>\n  </tbody>\n</table>\n<p>119 rows × 4 columns</p>\n</div>"
     },
     "execution_count": 10,
     "metadata": {},
     "output_type": "execute_result"
    }
   ],
   "source": [
    "res_c = res_c[res_c[\"task\"] != \"AES\"]\n",
    "res_c"
   ],
   "metadata": {
    "collapsed": false,
    "pycharm": {
     "name": "#%%\n"
    }
   }
  },
  {
   "cell_type": "code",
   "execution_count": 12,
   "outputs": [
    {
     "name": "stderr",
     "output_type": "stream",
     "text": [
      "/tmp/ipykernel_278447/4131331034.py:19: SettingWithCopyWarning: \n",
      "A value is trying to be set on a copy of a slice from a DataFrame.\n",
      "Try using .loc[row_indexer,col_indexer] = value instead\n",
      "\n",
      "See the caveats in the documentation: https://pandas.pydata.org/pandas-docs/stable/user_guide/indexing.html#returning-a-view-versus-a-copy\n",
      "  res_c['task'] = res_c['task'].apply(lambda x: x.replace('gemm_', \"\").replace(\"stencil_\", \"\").replace(\"aes_\", \"\").replace(\"fft_\", \"\").replace(\"spmv_\",\"\").replace(\"md_\", \"\").upper())\n"
     ]
    },
    {
     "data": {
      "text/plain": "<Figure size 648x216 with 1 Axes>",
      "image/png": "[encoded data removed]"
     },
     "metadata": {},
     "output_type": "display_data"
    }
   ],
   "source": [
    "import seaborn as sns\n",
    "import matplotlib.pyplot as plt\n",
    "\n",
    "save_fig = True\n",
    "DPI = 600  # default dpi for most printers\n",
    "plt.style.use(\"ggplot\")\n",
    "sns.set_theme(style=\"ticks\", rc={\"axes.spines.right\": False, \"axes.spines.top\": False})\n",
    "sns.set_context(\"paper\")  # , font_scale=1.5, rc={\"lines.linewidth\": 1.5})\n",
    "plt.rcParams[\"svg.fonttype\"] = \"none\"\n",
    "plt.rcParams[\"font.family\"] = \"sans-serif\"\n",
    "plt.rcParams[\"font.sans-serif\"] = \"Arial\"\n",
    "\n",
    "plt.rc(\"text\", usetex=False)\n",
    "plt.rc(\"xtick\", labelsize=\"medium\")\n",
    "plt.rc(\"ytick\", labelsize=\"medium\")\n",
    "plt.rc(\"axes\", labelsize=\"medium\")\n",
    "plt.rc(\"pdf\", use14corefonts=True)\n",
    "\n",
    "fig, ax = plt.subplots(figsize=(9, 3))\n",
    "res_c[\"task\"] = res_c[\"task\"].apply(\n",
    "    lambda x: x.replace(\"gemm_\", \"\")\n",
    "    .replace(\"stencil_\", \"\")\n",
    "    .replace(\"aes_\", \"\")\n",
    "    .replace(\"fft_\", \"\")\n",
    "    .replace(\"spmv_\", \"\")\n",
    "    .replace(\"md_\", \"\")\n",
    "    .upper()\n",
    ")\n",
    "color_palette = {\n",
    "    \"BoGraph\": \"#016450\",\n",
    "    \"BoTorch\": \"#02818a\",\n",
    "    \"DeepGP\": \"#3690c0\",\n",
    "    \"Default\": \"#f6eff7\",\n",
    "    \"PBTTuner\": \"#a6bddb\",\n",
    "    \"Random\": \"#67a9cf\",\n",
    "}\n",
    "ax = sns.barplot(\n",
    "    data=res_c,\n",
    "    x=\"task\",\n",
    "    y=\"bench_stats.edp\",\n",
    "    hue=\"model\",\n",
    "    hue_order=[\"Random\", \"PBTTuner\", \"DeepGP\", \"BoTorch\", \"BoGraph\"],\n",
    "    palette=color_palette,\n",
    "    ax=ax,\n",
    ")\n",
    "hatches = [\"\\\\\\\\\", \"++\", \"+\\\\\", \"//\", \"\"]\n",
    "# Loop over the bars\n",
    "for bars, hatch in zip(ax.containers, hatches):\n",
    "    # Set a different hatch for each group of bars\n",
    "    for bar in bars:\n",
    "        bar.set_hatch(hatch)\n",
    "\n",
    "ax.set(ylabel=\"X-Factors improvement in EDP from Default\", xlabel=\"Task\", ylim=(3, 7))\n",
    "plt.legend(ncol=len(color_palette), loc=\"upper center\", fontsize=\"medium\")\n",
    "\n",
    "\n",
    "output_location = \"/home/salabed/workspace/latex/papers/eurosys22_workshop/figs\"\n",
    "output_format = \"svg\"  # pdf\n",
    "# output_format = \"pdf\" # pdf\n",
    "if output_format == \"svg\":\n",
    "    output_location = f\"{output_location}/svg/\"\n",
    "\n",
    "fig.savefig(\"res.pdf\", bbox_inches=\"tight\")\n",
    "if save_fig:\n",
    "    fig.savefig(f\"{output_location}/all_perfs.{output_format}\", bbox_inches=\"tight\", format=f\"{output_format}\", dpi=600)"
   ],
   "metadata": {
    "collapsed": false,
    "pycharm": {
     "name": "#%%import pandas as pd\n"
    }
   }
  },
  {
   "cell_type": "code",
   "execution_count": 21,
   "outputs": [
    {
     "data": {
      "text/plain": "{'BoGraph': '#9b59b6',\n 'BoTorch': '#3498db',\n 'DeepGP': '#95a5a6',\n 'Default': '#e74c3c',\n 'PBTTuner': '#34495e',\n 'Random': '#2ecc71'}"
     },
     "execution_count": 21,
     "metadata": {},
     "output_type": "execute_result"
    }
   ],
   "source": [
    "viz.create_color_palette_df(\n",
    "    res,\n",
    "    [\"#9b59b6\", \"#3498db\", \"#95a5a6\", \"#e74c3c\", \"#34495e\", \"#2ecc71\"],\n",
    ")"
   ],
   "metadata": {
    "collapsed": false,
    "pycharm": {
     "name": "#%%print\n"
    }
   }
  }
 ],
 "metadata": {
  "kernelspec": {
   "display_name": "Python 3",
   "language": "python",
   "name": "python3"
  },
  "language_info": {
   "codemirror_mode": {
    "name": "ipython",
    "version": 2
   },
   "file_extension": ".py",
   "mimetype": "text/x-python",
   "name": "python",
   "nbconvert_exporter": "python",
   "pygments_lexer": "ipython2",
   "version": "2.7.6"
  }
 },
 "nbformat": 4,
 "nbformat_minor": 0
}
