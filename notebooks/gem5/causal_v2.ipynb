{
 "cells": [
  {
   "cell_type": "code",
   "execution_count": 1,
   "source": [
    "%matplotlib inline\n",
    "%load_ext autoreload\n",
    "%autoreload 2\n"
   ],
   "metadata": {
    "collapsed": false
   },
   "outputs": []
  },
  {
   "cell_type": "code",
   "execution_count": 2,
   "source": [
    "# Check dependencies exist before doing all the work\n",
    "import networkx as nx\n",
    "import causalnex\n",
    "from causalnex.plots import plot_structure\n",
    "from causalnex.structure import StructureModel\n",
    "\n",
    "# Make sure to have graphviz installed and pygraphviz:\n",
    "# brew install graphviz\n",
    "# sudo apt-get install graphviz graphviz-dev\n",
    "# pip install graphviz\n",
    "# pip install pygraphviz\n",
    "plot_structure(StructureModel())\n",
    "print(causalnex.__version__)"
   ],
   "metadata": {
    "collapsed": false
   },
   "outputs": []
  },
  {
   "cell_type": "code",
   "execution_count": 3,
   "source": [
    "from sysgym.envs.gem5.schema import AladdinSweeper20Params\n",
    "from sysgym.envs.gem5.benchmarks.benchmark_tasks import MachSuiteTask\n",
    "from autorocks.data.loader.all_models_result_aggregator import create_all_models_comparison_dataset\n",
    "from autorocks.dir_struct import LocalResultDir\n",
    "\n",
    "task_name = str(MachSuiteTask.AES)\n",
    "obj_name = \"latency_power\"\n",
    "exp_dir = LocalResultDir / f\"gem5/{obj_name}/{task_name}/20_params/100_iter\"\n",
    "model_comparison_data = create_all_models_comparison_dataset(exp_dir,force_recompute = True)\n",
    "\n",
    "param_space = AladdinSweeper20Params()\n",
    "param_names = set([p.name for p in param_space.parameters()])\n",
    "main_targets = [\"bench_stats.avg_power\", \"detailed_stats.system.sim_seconds\"]\n",
    "\n",
    "# # to latex\n",
    "# import pandas as pd\n",
    "#\n",
    "# pd.DataFrame(param_space.to_latex(),\n",
    "#              columns=['name', 'lower bound', 'upper bound']).to_csv('input_params.csv')"
   ],
   "metadata": {
    "collapsed": false
   },
   "outputs": []
  },
  {
   "cell_type": "code",
   "execution_count": 4,
   "source": [
    "from notebooks.gem5.statistics_parser import all_models_parser\n",
    "\n",
    "df = all_models_parser(exp_dir)"
   ],
   "metadata": {
    "collapsed": false
   },
   "outputs": []
  },
  {
   "cell_type": "code",
   "execution_count": 6,
   "source": [
    "for col in df.performance.columns:\n",
    "    print(col)"
   ],
   "metadata": {
    "collapsed": false
   },
   "outputs": []
  },
  {
   "cell_type": "code",
   "execution_count": 18,
   "source": [
    "df.performance"
   ],
   "metadata": {
    "collapsed": false
   },
   "outputs": []
  },
  {
   "cell_type": "code",
   "execution_count": 5,
   "source": [
    "# Combine all models data and flatten the structure\n",
    "system_pref = model_comparison_data.sys_observations\n",
    "params_df = model_comparison_data.sys_params\n",
    "extra_perf = df.performance\n",
    "#\n",
    "# model_filter = \"BoGraph\"\n",
    "# system_pref = system_pref[system_pref.model == model_filter]\n",
    "# params_df = params_df[model_comparison_data.sys_params.model == model_filter]\n",
    "# extra_perf = extra_perf[df.performance.model == model_filter]\n",
    "\n",
    "system_pref = system_pref[[\"bench_stats.avg_power\", \"detailed_stats.system.sim_seconds\"]].reset_index(drop=True)\n",
    "params_df = params_df.drop(columns=[\"model\", \"iteration\", \"step\"]).reset_index(drop=True)\n",
    "extra_perf = extra_perf.drop(columns=[\"model\", \"iteration\", \"step\"]).fillna(0).reset_index(drop=True)"
   ],
   "metadata": {
    "collapsed": false
   },
   "outputs": []
  },
  {
   "cell_type": "markdown",
   "source": [
    "# Preprocessing steps"
   ],
   "metadata": {
    "collapsed": false
   }
  },
  {
   "cell_type": "code",
   "execution_count": 6,
   "source": [
    "from autorocks.optimizer.bograph.preprocessor.standardizer import MetricsStandardizerProcessor\n",
    "from autorocks.optimizer.bograph.preprocessor.normalizer import ParamNormalizerProcessor\n",
    "from autorocks.optimizer.bograph.preprocessor.variance_threshold import VarianceThresholdPreprocessor\n",
    "from autorocks.optimizer.bograph.dag_preprocessor import PreprocessingPipeline\n",
    "from autorocks.optimizer.bograph.preprocessor.grouper import GrouperProcessor\n",
    "from autorocks.optimizer.bograph.bograph_dao import BoGraphDataPandas\n",
    "\n",
    "\n",
    "data = BoGraphDataPandas(params=params_df.copy(), objs=system_pref.copy(), intermediate=extra_perf.copy())\n",
    "\n",
    "dp = PreprocessingPipeline(\n",
    "    preprocessors=[\n",
    "        VarianceThresholdPreprocessor({}),\n",
    "        ParamNormalizerProcessor(param_space.bounds(True).T),\n",
    "        MetricsStandardizerProcessor(),\n",
    "    ]\n",
    ")\n",
    "processed_data = dp.fit_transform(data)\n",
    "\n",
    "processed_data"
   ],
   "metadata": {
    "collapsed": false
   },
   "outputs": []
  },
  {
   "cell_type": "markdown",
   "source": [
    "# Structure between main objectives"
   ],
   "metadata": {
    "collapsed": false
   }
  },
  {
   "cell_type": "code",
   "execution_count": 7,
   "source": [
    "processed_data_df = processed_data.to_combi_pandas()"
   ],
   "metadata": {
    "collapsed": false
   },
   "outputs": []
  },
  {
   "cell_type": "code",
   "execution_count": 83,
   "source": [
    "main_targets = [\n",
    "    \"bench_stats.avg_power\",\n",
    "    \"detailed_stats.system.sim_seconds\",\n",
    "]\n",
    "from causalnex.structure.pytorch import from_pandas\n",
    "import torch\n",
    "\n",
    "torch.set_default_tensor_type(torch.cuda.FloatTensor)\n",
    "torch.set_default_dtype(torch.float32)\n",
    "sm = from_pandas(\n",
    "    processed_data_df,\n",
    "    w_threshold=0.3,\n",
    "    tabu_parent_nodes=main_targets,\n",
    "    tabu_child_nodes=param_names,\n",
    "    hidden_layer_units=[32, 32],\n",
    "    ridge_beta=0.1\n",
    ")\n",
    "print(\"Done\")"
   ],
   "metadata": {
    "collapsed": false
   },
   "outputs": []
  },
  {
   "cell_type": "code",
   "execution_count": 8,
   "source": [
    "from castle.algorithms import  GOLEM\n",
    "\n",
    "model = GOLEM(device_type=\"gpu\")#, num_iter=10000)\n",
    "\n",
    "combi_pandas = processed_data.to_combi_pandas()\n",
    "model.learn(combi_pandas.values, columns=combi_pandas.columns)"
   ],
   "metadata": {
    "collapsed": false
   },
   "outputs": []
  },
  {
   "cell_type": "code",
   "execution_count": 12,
   "source": [
    "import pandas as pd\n",
    "G = nx.from_pandas_adjacency(\n",
    "    pd.DataFrame(\n",
    "        model.causal_matrix,\n",
    "        index=model.causal_matrix.columns,\n",
    "        columns=model.causal_matrix.columns,\n",
    "    )\n",
    ")\n"
   ],
   "metadata": {
    "collapsed": false
   },
   "outputs": []
  },
  {
   "cell_type": "code",
   "execution_count": 13,
   "source": [
    "G.edges"
   ],
   "metadata": {
    "collapsed": false
   },
   "outputs": []
  },
  {
   "cell_type": "code",
   "execution_count": 14,
   "source": [
    "from autorocks.viz import causal_util\n",
    "from autorocks.viz.causal_util import plot_struct_customized\n",
    "\n",
    "G = causal_util.post_process_graph(G, sources=param_names, sinks=main_targets)\n",
    "viz = plot_struct_customized(G, \"Test\", param_nodes=param_names, sink_nodes=main_targets)\n",
    "\n",
    "from IPython.display import Image\n",
    "\n",
    "Image(viz.draw(format=\"png\"))\n",
    "\n"
   ],
   "metadata": {
    "collapsed": false
   },
   "outputs": []
  },
  {
   "cell_type": "code",
   "execution_count": 17,
   "source": [
    "G.nodes"
   ],
   "metadata": {
    "collapsed": false
   },
   "outputs": []
  },
  {
   "cell_type": "code",
   "execution_count": 16,
   "source": [
    "nx.write_edgelist(G, \"gem5_aes_mobo.edgelist\")"
   ],
   "metadata": {
    "collapsed": false
   },
   "outputs": []
  },
  {
   "cell_type": "code",
   "execution_count": 81,
   "source": [
    "sources = param_names\n",
    "sinks = main_targets\n",
    "\n",
    "params_to_obj_graph = nx.DiGraph()\n",
    "# 1. Keep only nodes that are connected to objectives from parameters.\n",
    "for source in sources:\n",
    "    for sink in sinks:\n",
    "        paths_to_sink = list(\n",
    "            nx.all_simple_edge_paths(G, source, sink, cutoff=5)\n",
    "        )\n",
    "        for path in paths_to_sink:\n",
    "            print(path)\n",
    "            params_to_obj_graph.add_edges_from(path)\n"
   ],
   "metadata": {
    "collapsed": false
   },
   "outputs": []
  },
  {
   "cell_type": "code",
   "execution_count": 76,
   "source": [
    "from autorocks.viz.causal_util import plot_struct_customized\n",
    "sm = StructureModel(params_to_obj_graph)\n",
    "viz = plot_struct_customized(sm, \"Test\", param_nodes=param_names, sink_nodes=main_targets)"
   ],
   "metadata": {
    "collapsed": false
   },
   "outputs": []
  },
  {
   "cell_type": "code",
   "execution_count": 78,
   "source": [
    "from IPython.display import Image\n",
    "\n",
    "Image(viz.draw(format=\"png\"))"
   ],
   "metadata": {
    "collapsed": false
   },
   "outputs": []
  },
  {
   "cell_type": "code",
   "execution_count": null,
   "source": [],
   "metadata": {
    "collapsed": false
   },
   "outputs": []
  }
 ],
 "metadata": {
  "kernelspec": {
   "display_name": "Python 3",
   "language": "python",
   "name": "python3"
  },
  "language_info": {
   "codemirror_mode": {
    "name": "ipython",
    "version": 2
   },
   "file_extension": ".py",
   "mimetype": "text/x-python",
   "name": "python",
   "nbconvert_exporter": "python",
   "pygments_lexer": "ipython2",
   "version": "2.7.6"
  }
 },
 "nbformat": 4,
 "nbformat_minor": 0
}
