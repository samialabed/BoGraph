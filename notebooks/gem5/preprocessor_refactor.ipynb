{
 "cells": [
  {
   "cell_type": "code",
   "execution_count": 1,
   "metadata": {
    "collapsed": true,
    "pycharm": {
     "name": "#%%\n"
    }
   },
   "outputs": [],
   "source": [
    "%matplotlib inline\n",
    "%load_ext autoreload\n",
    "%autoreload 2"
   ]
  },
  {
   "cell_type": "code",
   "execution_count": null,
   "outputs": [],
   "source": [
    "from autorocks.envs.gem5.schema import Gem5ParametersCollection20\n",
    "from autorocks.data.loader.all_models_result_aggregator import create_all_models_comparison_dataset\n",
    "import networkx as nx\n",
    "from collections import defaultdict\n",
    "from autorocks.dir_struct import RootDir\n",
    "from autorocks.envs.gem5.benchmarks.benchmark_tasks import MachSuiteTask\n",
    "\n",
    "task_name = str(MachSuiteTask.SPMV_ELLPACK)\n",
    "exp_dir = RootDir.parent / f\"local_execution/gem5osdi/{task_name}/20_params/100_iter\"\n",
    "model_comparison_data = create_all_models_comparison_dataset(exp_dir)\n",
    "\n",
    "param_space = Gem5ParametersCollection20()\n",
    "param_names = set([p.name for p in param_space.parameters()])\n",
    "main_targets = [\"bench_stats.avg_power\", \"detailed_stats.system.sim_seconds\"]\n",
    "\n",
    "from notebooks.gem5.statistics_parser import all_models_parser\n",
    "\n",
    "df = all_models_parser(exp_dir)\n",
    "\n",
    "# Combine all models data and flatten the structure\n",
    "system_pref = model_comparison_data.system_performance\n",
    "params_df = model_comparison_data.parameters\n",
    "extra_perf = df.performance\n",
    "\n",
    "model_filter = \"BoGraph\"\n",
    "system_pref = system_pref[system_pref.model == model_filter]\n",
    "params_df = params_df[model_comparison_data.parameters.model == model_filter]\n",
    "extra_perf = extra_perf[df.performance.model == model_filter]\n",
    "\n",
    "system_pref = system_pref[[\"bench_stats.avg_power\", \"detailed_stats.system.sim_seconds\", \"step\", \"iteration\"]]\n",
    "params_df = params_df.drop(columns=[\"model\"])\n",
    "extra_perf = extra_perf.drop(columns=[\"model\"]).fillna(0)\n",
    "\n",
    "# TODO: make this a function\n",
    "# Get only one instance to replicate one real episode\n",
    "extra_perf = extra_perf[extra_perf[\"iteration\"] == 0].drop(columns=[\"step\", \"iteration\"]).reset_index(drop=True)\n",
    "system_pref = system_pref[system_pref[\"iteration\"] == 0].drop(columns=[\"step\", \"iteration\"]).reset_index(drop=True)\n",
    "params_df = params_df[params_df[\"iteration\"] == 0].drop(columns=[\"step\", \"iteration\"]).reset_index(drop=True)\n",
    "\n",
    "import numpy as np\n",
    "\n",
    "system_pref[\"edp\"] = np.log(\n",
    "    system_pref[\"bench_stats.avg_power\"] * (1 / system_pref[\"detailed_stats.system.sim_seconds\"]) ** 2\n",
    ")"
   ],
   "metadata": {
    "collapsed": false,
    "pycharm": {
     "name": "#%%\n"
    }
   }
  },
  {
   "cell_type": "code",
   "execution_count": null,
   "outputs": [],
   "source": [
    "from autorocks.optimizer.bograph.preprocessor.standardizer import MetricsStandardizerProcessor\n",
    "from autorocks.optimizer.bograph.preprocessor.normalizer import ParamNormalizerProcessor\n",
    "from autorocks.optimizer.bograph.preprocessor.variance_threshold import VarianceThresholdPreprocessor\n",
    "from autorocks.optimizer.bograph.dag_preprocessor import PreprocessingPipeline\n",
    "from autorocks.optimizer.bograph.preprocessor.grouper import GrouperProcessor\n",
    "from autorocks.optimizer.bograph.bograph_dao import BoGraphDataPandas\n",
    "\n",
    "\n",
    "data = BoGraphDataPandas(params=params_df, objs=system_pref, intermediate=extra_perf)\n",
    "\n",
    "dp = PreprocessingPipeline(\n",
    "    preprocessors=[\n",
    "        VarianceThresholdPreprocessor(),\n",
    "        ParamNormalizerProcessor(param_space.bounds(True).T),\n",
    "        MetricsStandardizerProcessor(),\n",
    "    ]\n",
    ")\n",
    "processed_data = dp.fit_transform(data)\n",
    "\n",
    "processed_data.params"
   ],
   "metadata": {
    "collapsed": false,
    "pycharm": {
     "name": "#%%\n"
    }
   }
  },
  {
   "cell_type": "code",
   "execution_count": null,
   "outputs": [],
   "source": [
    "from autorocks.optimizer.bograph.structure_learn.notears.notears import NoTears\n",
    "\n",
    "sl = NoTears(\n",
    "    tabu_parents=data.objs.columns.tolist(),\n",
    "    tabu_children=data.params.columns.tolist(),\n",
    ")\n",
    "struct = sl.learn_structure(data)\n",
    "struct"
   ],
   "metadata": {
    "collapsed": false,
    "pycharm": {
     "name": "#%%\n"
    }
   }
  },
  {
   "cell_type": "markdown",
   "source": [
    "# Viz\n"
   ],
   "metadata": {
    "collapsed": false,
    "pycharm": {
     "name": "#%% md\n"
    }
   }
  },
  {
   "cell_type": "code",
   "execution_count": null,
   "outputs": [],
   "source": [
    "from autorocks.viz.causal_util import plot_struct_customized\n",
    "from IPython.display import Image\n",
    "\n",
    "viz = plot_struct_customized(\n",
    "    struct, graph_name=f\"Structure for {task_name}\", param_nodes=param_names, sink_nodes=main_targets\n",
    ")\n",
    "Image(viz.draw(format=\"png\"))"
   ],
   "metadata": {
    "collapsed": false,
    "pycharm": {
     "name": "#%%\n"
    }
   }
  },
  {
   "cell_type": "code",
   "execution_count": null,
   "outputs": [],
   "source": [
    "G = struct.copy()\n",
    "G.remove_edges_below_threshold(0.1)\n",
    "sources = data.params.columns.to_list()\n",
    "sinks = data.objs.columns.to_list()\n",
    "new_G = nx.DiGraph()\n",
    "\n",
    "for source in sources:\n",
    "    for sink in sinks:\n",
    "        paths_to_sink = list(nx.all_simple_edge_paths(G, source, sink, cutoff=5))\n",
    "        # if len(paths_to_sink) < 1:\n",
    "        # If there is no path found through intermediate results, add it manually\n",
    "        # paths_to_sink = [[(source, sink)]]\n",
    "        # all_paths.append(paths_to_sink)\n",
    "        for path in paths_to_sink:\n",
    "            new_G.add_edges_from(path)\n",
    "\n",
    "new_G.add_edges_from(\n",
    "    [\n",
    "        (\"detailed_stats.system.sim_seconds\", \"edp\", {\"weight\": 3, \"expert\": True}),\n",
    "        (\"bench_stats.avg_power\", \"edp\", {\"weight\": 3, \"expert\": True}),\n",
    "    ],\n",
    "    origin=\"expert\",\n",
    ")"
   ],
   "metadata": {
    "collapsed": false,
    "pycharm": {
     "name": "#%%\n"
    }
   }
  },
  {
   "cell_type": "code",
   "execution_count": null,
   "outputs": [],
   "source": [
    "viz = plot_struct_customized(new_G, graph_name=f\"Structure for {task_name}\", param_nodes=sources, sink_nodes=sinks)\n",
    "Image(viz.draw(format=\"png\"))"
   ],
   "metadata": {
    "collapsed": false,
    "pycharm": {
     "name": "#%%\n"
    }
   }
  },
  {
   "cell_type": "code",
   "execution_count": null,
   "outputs": [],
   "source": [
    "G = nx.DiGraph()\n",
    "G.add_edges_from(all_paths)\n",
    "print(\"hi\")"
   ],
   "metadata": {
    "collapsed": false,
    "pycharm": {
     "name": "#%%\n"
    }
   }
  },
  {
   "cell_type": "code",
   "execution_count": 228,
   "outputs": [
    {
     "data": {
      "text/plain": "    bench_stats.avg_power  detailed_stats.system.sim_seconds       edp\n0                1.107005                          -0.521065  1.378906\n1                0.518094                          -0.089536  1.002481\n2                0.837647                          -1.359627  1.722672\n3                0.718654                          -1.783779  2.016580\n4               -0.150020                          -0.926891  0.777367\n..                    ...                                ...       ...\n95              -0.383782                          -0.162748 -0.664837\n96              -0.337542                          -0.163259 -0.131071\n97              -0.343980                           1.509272 -0.622725\n98              -0.355262                          -0.175322 -0.264749\n99              -0.191551                          -0.085731  0.355758\n\n[100 rows x 3 columns]",
      "text/html": "<div>\n<style scoped>\n    .dataframe tbody tr th:only-of-type {\n        vertical-align: middle;\n    }\n\n    .dataframe tbody tr th {\n        vertical-align: top;\n    }\n\n    .dataframe thead th {\n        text-align: right;\n    }\n</style>\n<table border=\"1\" class=\"dataframe\">\n  <thead>\n    <tr style=\"text-align: right;\">\n      <th></th>\n      <th>bench_stats.avg_power</th>\n      <th>detailed_stats.system.sim_seconds</th>\n      <th>edp</th>\n    </tr>\n  </thead>\n  <tbody>\n    <tr>\n      <th>0</th>\n      <td>1.107005</td>\n      <td>-0.521065</td>\n      <td>1.378906</td>\n    </tr>\n    <tr>\n      <th>1</th>\n      <td>0.518094</td>\n      <td>-0.089536</td>\n      <td>1.002481</td>\n    </tr>\n    <tr>\n      <th>2</th>\n      <td>0.837647</td>\n      <td>-1.359627</td>\n      <td>1.722672</td>\n    </tr>\n    <tr>\n      <th>3</th>\n      <td>0.718654</td>\n      <td>-1.783779</td>\n      <td>2.016580</td>\n    </tr>\n    <tr>\n      <th>4</th>\n      <td>-0.150020</td>\n      <td>-0.926891</td>\n      <td>0.777367</td>\n    </tr>\n    <tr>\n      <th>...</th>\n      <td>...</td>\n      <td>...</td>\n      <td>...</td>\n    </tr>\n    <tr>\n      <th>95</th>\n      <td>-0.383782</td>\n      <td>-0.162748</td>\n      <td>-0.664837</td>\n    </tr>\n    <tr>\n      <th>96</th>\n      <td>-0.337542</td>\n      <td>-0.163259</td>\n      <td>-0.131071</td>\n    </tr>\n    <tr>\n      <th>97</th>\n      <td>-0.343980</td>\n      <td>1.509272</td>\n      <td>-0.622725</td>\n    </tr>\n    <tr>\n      <th>98</th>\n      <td>-0.355262</td>\n      <td>-0.175322</td>\n      <td>-0.264749</td>\n    </tr>\n    <tr>\n      <th>99</th>\n      <td>-0.191551</td>\n      <td>-0.085731</td>\n      <td>0.355758</td>\n    </tr>\n  </tbody>\n</table>\n<p>100 rows × 3 columns</p>\n</div>"
     },
     "execution_count": 228,
     "metadata": {},
     "output_type": "execute_result"
    }
   ],
   "source": [
    "data.objs"
   ],
   "metadata": {
    "collapsed": false,
    "pycharm": {
     "name": "#%%\n"
    }
   }
  }
 ],
 "metadata": {
  "kernelspec": {
   "display_name": "Python 3",
   "language": "python",
   "name": "python3"
  },
  "language_info": {
   "codemirror_mode": {
    "name": "ipython",
    "version": 2
   },
   "file_extension": ".py",
   "mimetype": "text/x-python",
   "name": "python",
   "nbconvert_exporter": "python",
   "pygments_lexer": "ipython2",
   "version": "2.7.6"
  }
 },
 "nbformat": 4,
 "nbformat_minor": 0
}