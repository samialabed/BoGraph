{
 "cells": [
  {
   "cell_type": "code",
   "execution_count": 1,
   "metadata": {
    "collapsed": true
   },
   "source": [
    "\n",
    "%matplotlib inline\n",
    "%load_ext autoreload\n",
    "%autoreload 2"
   ],
   "outputs": []
  },
  {
   "cell_type": "code",
   "execution_count": null,
   "source": [
    "from autorocks.data.loader.all_models_result_aggregator import create_all_models_comparison_dataset\n",
    "\n",
    "# Viz cell\n",
    "\n",
    "from autorocks.dir_struct import RootDir\n",
    "from autorocks.envs.gem5.benchmarks.benchmark_tasks import MachSuiteTask\n",
    "\n",
    "# output_location = \"/Users/salabed/workspace/latex_writings/papers/mlsys21_autobo/figs\"\n",
    "output_location = \"/home/salabed/workspace/latex/papers/osdi21_bograph/figs\"\n",
    "output_format = \"svg\"  # pdf\n",
    "if output_format == \"svg\":\n",
    "    output_location = f\"{output_location}/svg\"\n",
    "save_res = False\n",
    "\n",
    "exp_name = str(MachSuiteTask.SPMV_ELLPACK)\n",
    "exp_dir = RootDir.parent / f\"local_execution/gem5osdi/{exp_name}/20_params/100_iter\"\n",
    "model_comparison_data = create_all_models_comparison_dataset(exp_dir)"
   ],
   "metadata": {
    "collapsed": false
   },
   "outputs": []
  },
  {
   "cell_type": "code",
   "execution_count": null,
   "source": [
    "import autorocks.viz.viz as viz\n",
    "\n",
    "model_comparison_data_c = viz.unify_model_name(model_comparison_data)\n",
    "color_palette = viz.create_color_palette(\n",
    "    model_comparison_data_c, [\"#9b59b6\", \"#3498db\", \"#95a5a6\", \"#e74c3c\", \"#34495e\", \"#2ecc71\"]\n",
    ")\n",
    "latency = 1 / model_comparison_data_c.system_performance[\"detailed_stats.system.sim_seconds\"]\n",
    "power = model_comparison_data_c.system_performance[\"bench_stats.avg_power\"]\n",
    "pdp = power * latency\n",
    "# pdp = self.avg_power * self.cycle\n",
    "import numpy as np\n",
    "\n",
    "edp = np.log(latency * pdp.values)\n",
    "edp = np.log(np.power(latency, 2) * power)\n",
    "# pdp\n",
    "model_comparison_data_c.system_performance[\"bench_stats.edp\"] = edp"
   ],
   "metadata": {
    "collapsed": false
   },
   "outputs": []
  },
  {
   "cell_type": "code",
   "execution_count": null,
   "source": [
    "fig = viz.model_perf_plot(\n",
    "    model_perf_df=model_comparison_data_c.model_performance,\n",
    "    model_palette_map=color_palette,\n",
    "    comparison_col=\"inference_time\",\n",
    ")\n",
    "\n",
    "if save_res:\n",
    "    fig.savefig(\n",
    "        f\"{output_location}/{exp_name}_exetime.{output_format}\", bbox_inches=\"tight\", format=f\"{output_format}\", dpi=600\n",
    "    )\n",
    "\n",
    "fig"
   ],
   "metadata": {
    "collapsed": false
   },
   "outputs": []
  },
  {
   "cell_type": "code",
   "execution_count": null,
   "source": [
    "fig = viz.perf_boxplot(\n",
    "    perf_df=model_comparison_data_c.system_performance,\n",
    "    optimization_type=viz.OptimizationType.MINIMIZE,\n",
    "    ylabel=\"log(EDP(x))\",\n",
    "    comparison_col=\"bench_stats.edp\",\n",
    "    model_palette_map=color_palette,\n",
    "    # horizontal_line='Default'\n",
    ")\n",
    "if save_res:\n",
    "    fig.savefig(\n",
    "        f\"{output_location}/{exp_name}_reduced_epd_perf.{output_format}\",\n",
    "        bbox_inches=\"tight\",\n",
    "        format=f\"{output_format}\",\n",
    "        dpi=600,\n",
    "    )\n",
    "fig"
   ],
   "metadata": {
    "collapsed": false
   },
   "outputs": []
  },
  {
   "cell_type": "code",
   "execution_count": null,
   "source": [
    "convergence_df = model_comparison_data_c.system_performance.copy()\n",
    "\n",
    "convergence_df[\"rolling\"] = convergence_df.groupby([\"model\", \"iteration\"]).agg(\n",
    "    f\"cum{str(viz.OptimizationType.MINIMIZE)}\"\n",
    ")[\"bench_stats.edp\"]\n",
    "#"
   ],
   "metadata": {
    "collapsed": false
   },
   "outputs": []
  },
  {
   "cell_type": "code",
   "execution_count": null,
   "source": [
    "from sklearn.preprocessing import MinMaxScaler\n",
    "import pandas as pd\n",
    "\n",
    "scaler = MinMaxScaler()\n",
    "arr_scaled = scaler.fit_transform(convergence_df[\"rolling\"].exe_time.reshape(-1, 1))\n",
    "convergence_df[\"scaled\"] = pd.DataFrame(arr_scaled, columns=[\"rolling_scaled\"], index=convergence_df[\"rolling\"].index)"
   ],
   "metadata": {
    "collapsed": false
   },
   "outputs": []
  },
  {
   "cell_type": "code",
   "execution_count": null,
   "source": [
    "convergence_df[\"model\"].unique()"
   ],
   "metadata": {
    "collapsed": false
   },
   "outputs": []
  },
  {
   "cell_type": "code",
   "execution_count": null,
   "source": [
    "fig = viz.convergence_lintplot_roi(\n",
    "    df=convergence_df,  # model_comparison_data_c.system_performance,\n",
    "    optimization_type=viz.OptimizationType.MINIMIZE,\n",
    "    # ylabel=\"EDP in LogScale\",\n",
    "    model_baseline=\"Default\",\n",
    "    # column_name='bench_stats.edp',\n",
    "    column_name=\"rolling\",\n",
    "    model_palette_map=color_palette,\n",
    ")\n",
    "fig.savefig(\n",
    "    f\"{output_location}/{exp_name}_convergence.{output_format}\", bbox_inches=\"tight\", format=f\"{output_format}\", dpi=600\n",
    ")\n",
    "\n",
    "fig"
   ],
   "metadata": {
    "collapsed": false
   },
   "outputs": []
  },
  {
   "cell_type": "markdown",
   "source": [
    "# Find all optimized target against ticks\n",
    "\n"
   ],
   "metadata": {
    "collapsed": false
   }
  },
  {
   "cell_type": "code",
   "execution_count": null,
   "source": [
    "from notebooks.gem5.statistics_parser import all_models_parser\n",
    "\n",
    "all_system_stuff_df = all_models_parser(exp_dir).system"
   ],
   "metadata": {
    "collapsed": false
   },
   "outputs": []
  },
  {
   "cell_type": "code",
   "execution_count": null,
   "source": [
    "model_comparison_data_c.system_performance"
   ],
   "metadata": {
    "collapsed": false
   },
   "outputs": []
  },
  {
   "cell_type": "code",
   "execution_count": null,
   "source": [
    "model_comparison_data_c.system_performance.columns"
   ],
   "metadata": {
    "collapsed": false
   },
   "outputs": []
  },
  {
   "cell_type": "code",
   "execution_count": null,
   "source": [
    "cols = [\n",
    "    \"model\",\n",
    "    \"step\",\n",
    "    \"iteration\",\n",
    "    \"bench_stats.cycle\",\n",
    "    \"bench_stats.avg_power\",\n",
    "    \"bench_stats.total_area\",\n",
    "    \"bench_stats.edp\",\n",
    "    \"detailed_stats.system.sim_ticks\",\n",
    "    \"detailed_stats.system.sim_seconds\",\n",
    "    \"detailed_stats.system.sim_ops\",\n",
    "]\n",
    "tables_res_df = model_comparison_data_c.system_performance.copy()[cols]\n",
    "# convergence_df\n",
    "# sim_insts                                       23036                       # Number of instructions simulated\n",
    "# sim_ops                                         59090                       # Number of ops (including micro ops) simulated\n",
    "# sim_seconds                                  0.000387                       # Number of seconds simulated\n",
    "# sim_ticks                                   387118212                       # Number of ticks simulated\n",
    "# system_stuff_df = all_system_stuff_df[[\"model\", \"step\",\n",
    "#                                        \"iteration\",\n",
    "#                                        # \"sim_ticks\",\n",
    "#                                        \"sim_seconds\",\n",
    "#                                        # \"sim_ops\"\n",
    "#                                        ]]\n",
    "#\n",
    "# tables_res_df = tables_res_df.merge(system_stuff_df, on = [\"model\", \"step\", \"iteration\"])"
   ],
   "metadata": {
    "collapsed": false
   },
   "outputs": []
  },
  {
   "cell_type": "code",
   "execution_count": null,
   "source": [
    "tables_res_df = tables_res_df.rename(\n",
    "    columns={\n",
    "        \"bench_stats.edp\": \"EDP\",\n",
    "        \"bench_stats.cycle\": \"Cycles\",\n",
    "        \"bench_stats.avg_power\": \"Power\",\n",
    "        \"bench_stats.total_area\": \"Area\",\n",
    "        \"detailed_stats.system.sim_ticks\": \"Ticks\",\n",
    "        \"detailed_stats.system.sim_seconds\": \"Seconds\",\n",
    "        \"detailed_stats.system.sim_ops\": \"Ops\",\n",
    "    }\n",
    ")\n",
    "tables_res_df"
   ],
   "metadata": {
    "collapsed": false
   },
   "outputs": []
  },
  {
   "cell_type": "code",
   "execution_count": null,
   "source": [
    "best_found = tables_res_df.loc[tables_res_df.groupby([\"model\", \"iteration\"]).EDP.idxmin()].reset_index(drop=True)\n",
    "best_found[\"Latency/Op\"] = (best_found[\"Cycles\"] / best_found[\"Ops\"]) * 1e6\n",
    "best_found[\"Power/Op\"] = best_found[\"Power\"] / best_found[\"Ops\"] * 1e6\n",
    "best_found[\"Area\"] = best_found[\"Area\"] / 1e6\n",
    "best_found[\"Latency\"] = 1 / best_found[\"Seconds\"]\n",
    "best_found = best_found.rename(columns={\"Area\": \"Area(mm^2)\"})\n",
    "# best_found[\"Power/Seconds\"] = best_found['Power'] / best_found['Seconds'] * 1e+6\n",
    "best_found = best_found.drop(columns=[\"Ops\", \"step\", \"Ticks\", \"iteration\"])\n",
    "best_found\n",
    "# power in mW"
   ],
   "metadata": {
    "collapsed": false
   },
   "outputs": []
  },
  {
   "cell_type": "code",
   "execution_count": null,
   "source": [
    "groupped_df = best_found.groupby(\"model\").agg(\"median\")\n",
    "groupped_df"
   ],
   "metadata": {
    "collapsed": false
   },
   "outputs": []
  },
  {
   "cell_type": "code",
   "execution_count": null,
   "source": [
    "print(\n",
    "    groupped_df.reset_index()\n",
    "    .sort_values(by=\"EDP\")\n",
    "    .to_latex(\n",
    "        index=False,\n",
    "        float_format=\"%.2f\",\n",
    "        columns=[\n",
    "            \"model\",\n",
    "            \"EDP\",\n",
    "            \"Latency\",\n",
    "            \"Power\",\n",
    "            # \"Cycles\",\n",
    "            \"Power/Op\",\n",
    "            \"Area(mm^2)\",\n",
    "        ],\n",
    "    )\n",
    ")"
   ],
   "metadata": {
    "collapsed": false
   },
   "outputs": []
  },
  {
   "cell_type": "code",
   "execution_count": null,
   "source": [
    "fig = viz.convergence_lineplot(\n",
    "    convergence_df=convergence_df,  # model_comparison_data_c.system_performance,\n",
    "    optimization_type=viz.OptimizationType.MINIMIZE,\n",
    "    ylabel=\"Log(EDP(x))\",\n",
    "    # column_name='bench_stats.edp',\n",
    "    column_name=\"rolling\",\n",
    "    convergence_plot=False,\n",
    "    model_palette_map=color_palette,\n",
    ")\n",
    "fig.savefig(\n",
    "    f\"{output_location}/{exp_name}_convergence_reduced.{output_format}\",\n",
    "    bbox_inches=\"tight\",\n",
    "    format=f\"{output_format}\",\n",
    "    dpi=600,\n",
    ")\n",
    "\n",
    "fig"
   ],
   "metadata": {
    "collapsed": false
   },
   "outputs": []
  },
  {
   "cell_type": "markdown",
   "source": [
    "\n",
    "# Combined one graph\n"
   ],
   "metadata": {
    "collapsed": false
   }
  },
  {
   "cell_type": "code",
   "execution_count": null,
   "source": [
    "task_name_to_res = []"
   ],
   "metadata": {
    "collapsed": false
   },
   "outputs": []
  },
  {
   "cell_type": "code",
   "execution_count": null,
   "source": [
    "perf_df = model_comparison_data_c.system_performance\n",
    "\n",
    "perf_df = (\n",
    "    perf_df[[\"bench_stats.edp\", \"iteration\", \"model\"]]\n",
    "    .groupby([\"model\", \"iteration\"])\n",
    "    .agg(str(viz.OptimizationType.MINIMIZE))\n",
    "    .reset_index()\n",
    ")\n",
    "\n",
    "perf_df"
   ],
   "metadata": {
    "collapsed": false
   },
   "outputs": []
  },
  {
   "cell_type": "code",
   "execution_count": null,
   "source": [
    "perf_df = model_comparison_data_c.system_performance\n",
    "perf_df = (\n",
    "    perf_df[[\"bench_stats.edp\", \"iteration\", \"model\"]]\n",
    "    .groupby([\"model\", \"iteration\"])\n",
    "    .agg(str(viz.OptimizationType.MINIMIZE))\n",
    "    .reset_index()\n",
    ")\n",
    "perf_df[\"task\"] = exp_name\n",
    "perf_df.to_dict()\n",
    "task_name_to_res.append(perf_df)"
   ],
   "metadata": {
    "collapsed": false
   },
   "outputs": []
  },
  {
   "cell_type": "code",
   "execution_count": null,
   "source": [
    "import pandas as pd\n",
    "import seaborn as sns\n",
    "import matplotlib.pyplot as plt\n",
    "\n",
    "DPI = 600  # default dpi for most printers\n",
    "plt.style.use(\"ggplot\")\n",
    "sns.set_theme(style=\"ticks\", rc={\"axes.spines.right\": False, \"axes.spines.top\": False})\n",
    "sns.set_context(\"paper\")  # , font_scale=1.5, rc={\"lines.linewidth\": 1.5})\n",
    "plt.rcParams[\"svg.fonttype\"] = \"none\"\n",
    "plt.rcParams[\"font.family\"] = \"Arial\"\n",
    "\n",
    "plt.rc(\"text\", usetex=False)\n",
    "plt.rc(\"xtick\", labelsize=\"small\")\n",
    "plt.rc(\"ytick\", labelsize=\"small\")\n",
    "plt.rc(\"axes\", labelsize=\"medium\")\n",
    "plt.rc(\"pdf\", use14corefonts=True)\n",
    "\n",
    "all_tasks_res = pd.concat([pd.DataFrame(x) for x in task_name_to_res])\n",
    "\n",
    "fig, ax = plt.subplots(figsize=(4, 3))\n",
    "all_tasks_res[\"task\"] = all_tasks_res[\"task\"].apply(\n",
    "    lambda x: x.replace(\"gemm_\", \"\").replace(\"stencil_\", \"\").replace(\"aes_\", \"\").replace(\"fft_\", \"\").title()\n",
    ")\n",
    "all_tasks_res[\"task\"]\n",
    "\n",
    "ax = sns.barplot(\n",
    "    data=all_tasks_res,\n",
    "    x=\"task\",\n",
    "    y=\"bench_stats.edp\",\n",
    "    hue=\"model\",\n",
    "    hue_order=[\"Default\", \"DeepGP\", \"BoTorch\", \"Random\", \"SMAC\", \"BoGraph\"],\n",
    "    palette=color_palette,\n",
    "    ax=ax,\n",
    ")\n",
    "ax.set(ylabel=\"Log(EDP(x))\", xlabel=\"Task\", ylim=(20, 38))\n",
    "plt.legend(ncol=len(color_palette) // 2, loc=\"upper center\", fontsize=\"small\")\n",
    "# fig.savefig(f\"{output_location}/all_perfs.{output_format}\",\n",
    "#             bbox_inches='tight',\n",
    "#             format=f'{output_format}', dpi=600)"
   ],
   "metadata": {
    "collapsed": false
   },
   "outputs": []
  },
  {
   "cell_type": "code",
   "execution_count": null,
   "source": [],
   "metadata": {
    "collapsed": false
   },
   "outputs": []
  },
  {
   "cell_type": "markdown",
   "source": [
    "\n",
    "\n",
    "# Env time analysis"
   ],
   "metadata": {
    "collapsed": false
   }
  },
  {
   "cell_type": "code",
   "execution_count": null,
   "source": [
    "from autorocks.viz.data.filenames_const import PER_STEP_EXECUTION_TIME_FN\n",
    "from collections import defaultdict\n",
    "\n",
    "# Plot showing execution time of each task separately\n",
    "\n",
    "import glob\n",
    "\n",
    "import re\n",
    "\n",
    "# task_name_extractor = re.compile(r\"gem5/(.*)/\\d+_params\")\n",
    "task_name_extractor = re.compile(r\"gem5/(.*)/\\d+_params/\\d+_iter/([a-zA-Z]*)\")\n",
    "# model_name_extractor = re.compile(r\"\")\n",
    "all_tasks = RootDir / f\"local_execution/gem5/\"\n",
    "all_execution_files = glob.glob(str(all_tasks / f\"**/{PER_STEP_EXECUTION_TIME_FN}\"), recursive=True)"
   ],
   "metadata": {
    "collapsed": false
   },
   "outputs": []
  },
  {
   "cell_type": "code",
   "execution_count": null,
   "source": [
    "execution_times = defaultdict(list)\n",
    "\n",
    "for exe_file in all_execution_files:\n",
    "    try:\n",
    "        with open(exe_file, \"r\") as f:\n",
    "            t = float(f.read())\n",
    "        task_name, model_name = task_name_extractor.findall(exe_file)[0]\n",
    "        execution_times[(task_name, model_name)].append(t)\n",
    "    except Exception as e:\n",
    "        print(e)\n",
    "        print(f\"Error in {exe_file}\")"
   ],
   "metadata": {
    "collapsed": false
   },
   "outputs": []
  },
  {
   "cell_type": "code",
   "execution_count": null,
   "source": [
    "import numpy as np\n",
    "\n",
    "res = []\n",
    "for task_model, times in execution_times.items():\n",
    "    task = task_model[0]\n",
    "    model = task_model[1]\n",
    "    res.append({\"Task\": task, \"Model\": model, \"Time(sec)\": np.percentile(times, 0.99)})"
   ],
   "metadata": {
    "collapsed": false
   },
   "outputs": []
  },
  {
   "cell_type": "code",
   "execution_count": null,
   "source": [
    "import pandas as pd\n",
    "\n",
    "exe_df = pd.DataFrame(res)\n",
    "grp_order = exe_df.groupby(\"Task\")[\"Time(sec)\"].agg(\"mean\").sort_values().index\n",
    "exe_df"
   ],
   "metadata": {
    "collapsed": false
   },
   "outputs": []
  },
  {
   "cell_type": "code",
   "execution_count": null,
   "source": [
    "import seaborn as sns\n",
    "\n",
    "sns.barplot(\n",
    "    data=exe_df,\n",
    "    x=\"Task\",\n",
    "    y=\"Time(sec)\",\n",
    "    hue=\"Model\",\n",
    ")"
   ],
   "metadata": {
    "collapsed": false
   },
   "outputs": []
  },
  {
   "cell_type": "code",
   "execution_count": null,
   "source": [
    "import matplotlib.pyplot as plt\n",
    "\n",
    "plt.rc(\"xtick\", labelsize=\"small\")\n",
    "plt.rc(\"ytick\", labelsize=\"medium\")\n",
    "plt.rc(\"axes\", labelsize=\"medium\")\n",
    "fig, ax = plt.subplots(figsize=(4, 3))\n",
    "exe_time = exe_df.groupby(\"Task\")[\"Time(sec)\"].agg([\"mean\", \"std\"]).sort_values(by=\"mean\", ascending=True)\n",
    "grp_order = exe_time.index\n",
    "exe_df[\"Task\"].apply(\n",
    "    lambda x: x.replace(\"gemm_\", \"\")\n",
    "    .replace(\"stencil_\", \"\")\n",
    "    .replace(\"aes_\", \"\")\n",
    "    .replace(\"fft_\", \"\")\n",
    "    .replace(\"spmv_\", \"\")\n",
    "    .replace(\"md_\", \"\")\n",
    "    .upper()\n",
    ")\n",
    "\n",
    "ax = sns.barplot(data=exe_df, y=\"Task\", x=\"Time(sec)\", order=grp_order, palette=\"colorblind\", ax=ax)\n",
    "# viz._add_num_to_plot(ax, \"{}s\")\n",
    "\n",
    "for y, x in enumerate(exe_time[\"mean\"]):\n",
    "    plt.annotate(f\"{x:.2f}s\", xy=(10, y), va=\"center\")\n",
    "# for y, x in enumerate(exe_time['std']):\n",
    "#     plt.annotate(u\" \\u00B1 \" + f\"{x:.2f}\", xy=(50, y), va='center')\n",
    "\n",
    "#\n",
    "if save_res:\n",
    "    fig.savefig(\n",
    "        f\"{output_location}/env_exetime.{output_format}\", bbox_inches=\"tight\", format=f\"{output_format}\", dpi=600\n",
    "    )"
   ],
   "metadata": {
    "collapsed": false
   },
   "outputs": []
  },
  {
   "cell_type": "code",
   "execution_count": 60,
   "source": [],
   "metadata": {
    "collapsed": false
   },
   "outputs": []
  }
 ],
 "metadata": {
  "kernelspec": {
   "display_name": "Python 3",
   "language": "python",
   "name": "python3"
  },
  "language_info": {
   "codemirror_mode": {
    "name": "ipython",
    "version": 2
   },
   "file_extension": ".py",
   "mimetype": "text/x-python",
   "name": "python",
   "nbconvert_exporter": "python",
   "pygments_lexer": "ipython2",
   "version": "2.7.6"
  }
 },
 "nbformat": 4,
 "nbformat_minor": 0
}
