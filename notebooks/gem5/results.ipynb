{
 "cells": [
  {
   "cell_type": "code",
   "execution_count": 1,
   "metadata": {
    "collapsed": true,
    "pycharm": {
     "name": "#%%\n"
    }
   },
   "outputs": [],
   "source": [
    "\n",
    "%matplotlib inline\n",
    "%load_ext autoreload\n",
    "%autoreload 2"
   ]
  },
  {
   "cell_type": "code",
   "execution_count": null,
   "outputs": [],
   "source": [
    "from autorocks.data.loader.all_models_result_aggregator import create_all_models_comparison_dataset\n",
    "from autorocks.dir_struct import LocalResultDir, RootDir\n",
    "from autorocks.envs.gem5.benchmarks.benchmark_tasks import MachSuiteTask\n",
    "from autorocks.envs.gem5.schema import Gem5ParametersCollection20\n",
    "\n",
    "task_name = str(MachSuiteTask.AES)\n",
    "exp_dir = LocalResultDir / f\"gem5/{task_name}/20_params/100_iter\"\n",
    "model_comparison_data = create_all_models_comparison_dataset(exp_dir)\n",
    "\n",
    "param_space = Gem5ParametersCollection20()\n",
    "param_names = set([p.name for p in param_space.parameters()])\n",
    "main_targets = [\"bench_stats.avg_power\", \"detailed_stats.system.sim_seconds\"]"
   ],
   "metadata": {
    "collapsed": false,
    "pycharm": {
     "name": "#%%\n"
    }
   }
  },
  {
   "cell_type": "code",
   "execution_count": null,
   "outputs": [],
   "source": [
    "model_comparison_data.sys_observations[\"detailed_stats.performance\"][0]"
   ],
   "metadata": {
    "collapsed": false,
    "pycharm": {
     "name": "#%%\n"
    }
   }
  },
  {
   "cell_type": "code",
   "execution_count": null,
   "outputs": [],
   "source": [
    "from notebooks.gem5.statistics_parser import all_models_parser\n",
    "\n",
    "perfs_df = all_models_parser(exp_dir)"
   ],
   "metadata": {
    "collapsed": false,
    "pycharm": {
     "name": "#%%\n"
    }
   }
  },
  {
   "cell_type": "markdown",
   "source": [
    "# Structure timing loop"
   ],
   "metadata": {
    "collapsed": false,
    "pycharm": {
     "name": "#%% md\n"
    }
   }
  },
  {
   "cell_type": "code",
   "execution_count": null,
   "outputs": [],
   "source": [
    "# Combine all models data and flatten the structure\n",
    "system_pref = model_comparison_data.system_performance\n",
    "model_filter = \"Random\"\n",
    "system_pref = system_pref[system_pref.model == model_filter]\n",
    "system_pref = system_pref[[\"bench_stats.avg_power\", \"detailed_stats.system.sim_seconds\", \"step\", \"iteration\"]]\n",
    "params_df = model_comparison_data.parameters[model_comparison_data.parameters.model == model_filter].drop(\n",
    "    columns=[\"model\"]\n",
    ")\n",
    "extra_perf = perfs_df.performance[perfs_df.performance.model == model_filter].drop(columns=[\"model\"]).fillna(0)\n",
    "\n",
    "param_targets = params_df.merge(system_pref, on=[\"step\", \"iteration\"])"
   ],
   "metadata": {
    "collapsed": false,
    "pycharm": {
     "name": "#%%\n"
    }
   }
  },
  {
   "cell_type": "code",
   "execution_count": null,
   "outputs": [],
   "source": [
    "import torch\n",
    "\n",
    "assert torch.cuda.is_available()"
   ],
   "metadata": {
    "collapsed": false,
    "pycharm": {
     "name": "#%%\n"
    }
   }
  },
  {
   "cell_type": "code",
   "execution_count": null,
   "outputs": [],
   "source": [
    "from notebooks.gem5.causal_pipeline import structure_learning_timing\n",
    "import pandas as pd\n",
    "import torch\n",
    "\n",
    "torch.set_default_tensor_type(torch.cuda.FloatTensor)\n",
    "torch.set_default_dtype(torch.float32)\n",
    "\n",
    "\n",
    "def structure_learning_timing_loop(param_targets, extra_perf) -> pd.DataFrame:\n",
    "    analysis = []\n",
    "    stop = 100\n",
    "    iterations = list(param_targets[\"iteration\"].unique())\n",
    "    for step in range(5, stop):\n",
    "        print(f\"Analysing at step {step}/{stop}\")\n",
    "        param_target_pre_step = param_targets[param_targets[\"step\"] < step].copy()\n",
    "        extra_perf_pre_step = extra_perf[extra_perf[\"step\"] < step].copy()\n",
    "\n",
    "        for i in iterations:\n",
    "            print(f\"Analysing at iteration {i}/{max(iterations)}\")\n",
    "            param_target_pre_step_i = param_target_pre_step[param_target_pre_step[\"iteration\"] == i].copy()\n",
    "            extra_perf_pre_step_i = extra_perf_pre_step[extra_perf_pre_step[\"iteration\"] == i].copy()\n",
    "            info = structure_learning_timing(\n",
    "                param_targets=param_target_pre_step_i,\n",
    "                perfs=extra_perf_pre_step_i,\n",
    "                main_targets=main_targets,\n",
    "                param_names=param_names,\n",
    "                verbose=True,\n",
    "            )\n",
    "            info[\"iteration\"] = i\n",
    "            analysis.append(info)\n",
    "\n",
    "    return pd.DataFrame(analysis)\n",
    "\n",
    "\n",
    "res = structure_learning_timing_loop(param_targets=param_targets, extra_perf=extra_perf)\n",
    "res"
   ],
   "metadata": {
    "collapsed": false,
    "pycharm": {
     "name": "#%%\n"
    }
   }
  },
  {
   "cell_type": "code",
   "execution_count": null,
   "outputs": [],
   "source": [
    "res.to_csv(\"structure_learning_timing_stnecil3d.csv\")"
   ],
   "metadata": {
    "collapsed": false,
    "pycharm": {
     "name": "#%%\n"
    }
   }
  },
  {
   "cell_type": "code",
   "execution_count": null,
   "outputs": [],
   "source": [
    "import pandas as pd\n",
    "\n",
    "res = pd.read_csv(\n",
    "    \"/home/salabed/workspace/autorocks/local_execution/gem5paper/stencil_stencil3d/20_params/100_iter/structure_learning_timing_stnecil3d.csv\",\n",
    "    index_col=0,\n",
    ")\n",
    "\n",
    "res"
   ],
   "metadata": {
    "collapsed": false,
    "pycharm": {
     "name": "#%%\n"
    }
   }
  },
  {
   "cell_type": "code",
   "execution_count": null,
   "outputs": [],
   "source": [
    "from matplotlib import font_manager\n",
    "\n",
    "fm = font_manager.json_load(\"/home/salabed/.cache/matplotlib/fontlist-v330.json\")\n",
    "\n",
    "fm.findfont(\"serif\", rebuild_if_missing=False)\n",
    "fm.findfont(\"serif\", fontext=\"afm\", rebuild_if_missing=False)"
   ],
   "metadata": {
    "collapsed": false,
    "pycharm": {
     "name": "#%%\n"
    }
   }
  },
  {
   "cell_type": "code",
   "execution_count": null,
   "outputs": [],
   "source": [
    "res.tail(-12)"
   ],
   "metadata": {
    "collapsed": false,
    "pycharm": {
     "name": "#%%\n"
    }
   }
  },
  {
   "cell_type": "code",
   "execution_count": null,
   "outputs": [],
   "source": [
    "initial = pd.DataFrame([{\"time\": 0, \"max_dim\": 20, \"iteration\": 0}] * 15)\n",
    "\n",
    "new_res = pd.concat([initial, res.tail(-15)])\n",
    "new_res"
   ],
   "metadata": {
    "collapsed": false,
    "pycharm": {
     "name": "#%%\n"
    }
   }
  },
  {
   "cell_type": "code",
   "execution_count": null,
   "outputs": [],
   "source": [
    "import numpy as np\n",
    "\n",
    "for iteration in res.iteration.unique():\n",
    "    res.loc[res[\"iteration\"] == iteration, \"step\"] = np.arange(\n",
    "        0, int(len(res[res[\"iteration\"] == iteration])), 1, dtype=int\n",
    "    )\n",
    "res"
   ],
   "metadata": {
    "collapsed": false,
    "pycharm": {
     "name": "#%%\n"
    }
   }
  },
  {
   "cell_type": "code",
   "execution_count": null,
   "outputs": [],
   "source": [
    "new_res = res.copy()\n",
    "\n",
    "new_res.loc[new_res[\"step\"] <= 15, \"max_dim\"] = 20\n",
    "new_res.loc[new_res[\"step\"] <= 15, \"time\"] = 0\n",
    "new_res"
   ],
   "metadata": {
    "collapsed": false,
    "pycharm": {
     "name": "#%%\n"
    }
   }
  },
  {
   "cell_type": "code",
   "execution_count": null,
   "outputs": [],
   "source": [
    "new_res[\"cumtime\"] = new_res.groupby(\"iteration\")[\"time\"].cumsum()\n",
    "\n",
    "new_res[\"cumtime5\"] = new_res.groupby(\"iteration\")[\"time\"].cumsum()"
   ],
   "metadata": {
    "collapsed": false,
    "pycharm": {
     "name": "#%%\n"
    }
   }
  },
  {
   "cell_type": "code",
   "execution_count": null,
   "outputs": [],
   "source": [
    "from matplotlib import ticker\n",
    "\n",
    "%matplotlib inline\n",
    "import matplotlib.pyplot as plt\n",
    "import seaborn as sns\n",
    "import pandas as pd\n",
    "\n",
    "plt.rcParams[\"svg.fonttype\"] = \"none\"\n",
    "plt.rcParams[\"font.family\"] = \"Arial\"\n",
    "\n",
    "plt.style.use(\"ggplot\")\n",
    "sns.set_theme(style=\"ticks\", rc={\"axes.spines.right\": False, \"axes.spines.top\": False})\n",
    "sns.set_context(\"paper\")  # , font_scale=1.5, rc={\"lines.linewidth\": 1.5})\n",
    "plt.rc(\"font\", family=\"sans-serif\", serif=\"Arial\")\n",
    "\n",
    "colors = sns.color_palette(\"colorblind\", 2)\n",
    "fig, ax_dim = plt.subplots(figsize=(4, 3))\n",
    "ax_dim = sns.lineplot(\n",
    "    data=new_res, x=\"step\", y=\"max_dim\", ax=ax_dim, color=colors[0], ls=\"solid\", label=\"Max Dim\", legend=False\n",
    ")\n",
    "ax_time = ax_dim.twinx()\n",
    "ax_time = sns.lineplot(\n",
    "    data=new_res, x=\"step\", y=\"cumtime\", ax=ax_time, legend=False, color=colors[1], ls=\"dashed\", label=\"Total Time\"\n",
    ")\n",
    "\n",
    "for axis in [ax_dim.xaxis, ax_dim.yaxis]:\n",
    "    axis.set_major_locator(ticker.MaxNLocator(integer=True))\n",
    "ax_dim.set(xlabel=\"Step\", ylabel=\"Max Dim\")\n",
    "ax_time.set(xlabel=\"Step\", ylabel=\"Time(sec)\")\n",
    "\n",
    "fig.legend(loc=\"upper center\")\n",
    "# lns = ln1+ln2\n",
    "# labs = [l.get_label() for l in lns]\n",
    "# ax_dim.legend(lns, labs, loc=0)\n",
    "ax_dim.axis(\"tight\")\n",
    "fig.tight_layout()\n",
    "plt.show()\n",
    "\n",
    "fig.savefig(\n",
    "    \"/home/salabed/workspace/latex/papers/osdi21_bograph/figs/learning_dim_total.svg\",\n",
    "    bbox_inches=\"tight\",\n",
    "    format=\"svg\",\n",
    "    dpi=600,\n",
    ")"
   ],
   "metadata": {
    "collapsed": false,
    "pycharm": {
     "name": "#%%\n"
    }
   }
  },
  {
   "cell_type": "code",
   "execution_count": null,
   "outputs": [],
   "source": [],
   "metadata": {
    "collapsed": false,
    "pycharm": {
     "name": "#%%\n"
    }
   }
  }
 ],
 "metadata": {
  "kernelspec": {
   "display_name": "Python 3",
   "language": "python",
   "name": "python3"
  },
  "language_info": {
   "codemirror_mode": {
    "name": "ipython",
    "version": 2
   },
   "file_extension": ".py",
   "mimetype": "text/x-python",
   "name": "python",
   "nbconvert_exporter": "python",
   "pygments_lexer": "ipython2",
   "version": "2.7.6"
  }
 },
 "nbformat": 4,
 "nbformat_minor": 0
}