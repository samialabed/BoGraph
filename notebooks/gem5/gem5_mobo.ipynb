{
 "cells": [
  {
   "cell_type": "code",
   "execution_count": 2,
   "source": [
    "%matplotlib inline\n",
    "%load_ext autoreload\n",
    "%autoreload 2"
   ],
   "metadata": {
    "collapsed": false
   },
   "outputs": []
  },
  {
   "cell_type": "code",
   "execution_count": 23,
   "source": [
    "from autorocks.data.loader.all_models_result_aggregator import create_all_models_comparison_dataset\n",
    "from autorocks.dir_struct import LocalResultDir\n",
    "from autorocks.viz import viz\n",
    "from notebooks.gem5.statistics_parser import all_models_parser\n",
    "\n",
    "output_location = \"/home/salabed/workspace/latex/papers/mlsys23_bograph/figs\"\n",
    "output_format = \"svg\"  # pdf\n",
    "if output_format == \"svg\":\n",
    "    output_location = f\"/tmp//svg/\"\n",
    "save_res = False\n",
    "\n",
    "exp_dir = LocalResultDir / f\"mobogem5/spmv_ellpack/20_params/100_iter\"\n",
    "model_comparison_data = create_all_models_comparison_dataset(exp_dir)\n",
    "objectives = [\"latency\", \"avg_power\"]\n",
    "color_palette = viz.create_color_palette_df(\n",
    "    model_comparison_data.sys_observations, [\"#9b59b6\", \"#3498db\", \"#95a5a6\", \"#e74c3c\", \"#34495e\", \"#2ecc71\"]\n",
    ")\n",
    "\n",
    "model_comparison_data.sys_observations['avg_power'] = model_comparison_data.sys_observations['avg_power'].fillna(model_comparison_data.sys_observations['bench_stats.avg_power'])\n",
    "\n",
    "model_comparison_data.sys_observations['sim_seconds'] = model_comparison_data.sys_observations['sim_seconds'].fillna(model_comparison_data.sys_observations['detailed_stats.system.sim_seconds'])\n",
    "\n",
    "\n",
    "model_comparison_data.sys_observations[\"latency\"] = 1/model_comparison_data.sys_observations['sim_seconds']\n",
    "df = model_comparison_data.sys_observations.copy()\n"
   ],
   "metadata": {
    "collapsed": false
   },
   "outputs": []
  },
  {
   "cell_type": "code",
   "execution_count": 24,
   "source": [
    "# import sklearn\n",
    "#\n",
    "# df[objectives[0]] = sklearn.preprocessing.StandardScaler().fit_transform(df[objectives[0]].values.reshape(-1, 1))\n",
    "# df[objectives[1]] = sklearn.preprocessing.StandardScaler().fit_transform(df[objectives[1]].values.reshape(-1, 1))"
   ],
   "metadata": {
    "collapsed": false
   },
   "outputs": []
  },
  {
   "cell_type": "code",
   "execution_count": 42,
   "source": [
    "from autorocks.viz.viz import OptimizationType, pareto_frontier\n",
    "from autorocks.global_flags import DEVICE\n",
    "from autorocks.viz import viz\n",
    "from botorch.utils.multi_objective import is_non_dominated\n",
    "import torch\n",
    "import numpy as np\n",
    "import pandas as pd\n",
    "\n",
    "fig = pareto_frontier(\n",
    "    df=df,\n",
    "    optimization_type=OptimizationType.MINIMIZE,\n",
    "    objectives=objectives,\n",
    "    model_marker={\"MOBO_SingleTaskGP\": \"P\", \"MOBoGraphStatic\": \"X\",},\n",
    "    model_palette_map=color_palette,\n",
    "    title=\"Normalized results\",\n",
    ")\n",
    "\n",
    "# fig.axes[0].set(xlim=[-1, 4], ylim=[-2, 5])\n",
    "fig"
   ],
   "metadata": {
    "collapsed": false
   },
   "outputs": []
  },
  {
   "cell_type": "code",
   "execution_count": 26,
   "source": [
    "\n",
    "viz.convergence_dominated_points(\n",
    "    df=df,\n",
    "    optimization_type=viz.OptimizationType.MINIMIZE,\n",
    "    objectives=objectives,\n",
    "    model_palette_map=color_palette,\n",
    "    title=\"Number of Pareto points found. Higher is better.\",\n",
    ")"
   ],
   "metadata": {
    "collapsed": false
   },
   "outputs": []
  },
  {
   "cell_type": "code",
   "execution_count": 47,
   "source": [
    "df['model'].unique()"
   ],
   "metadata": {
    "collapsed": false
   },
   "outputs": []
  },
  {
   "cell_type": "code",
   "execution_count": 48,
   "source": [
    "from botorch.utils.multi_objective import is_non_dominated\n",
    "\n",
    "df_mobo = df[df['model'] == 'MOBoGraphStatic']\n",
    "df_boto = df[df['model'] == 'MOBO_SingleTaskGP']\n",
    "\n",
    "\n",
    "y_boto = torch.tensor(df_boto[objectives].values, device=\"cpu\") * -1\n",
    "pf_boto = is_non_dominated(y_boto).cpu().numpy()\n",
    "df_boto[\"is_non_dominated\"] = False\n",
    "df_boto.loc[pf_boto, \"is_non_dominated\"] = True\n",
    "\n",
    "\n",
    "\n",
    "y_mobo = torch.tensor(df_mobo[objectives].values, device=\"cpu\") * -1\n",
    "pf_mobo = is_non_dominated(y_mobo).cpu().numpy()\n",
    "df_mobo[\"is_non_dominated\"] = False\n",
    "df_mobo.loc[pf_mobo, \"is_non_dominated\"] = True\n",
    "\n"
   ],
   "metadata": {
    "collapsed": false
   },
   "outputs": []
  },
  {
   "cell_type": "code",
   "execution_count": 58,
   "source": [
    "print(pd.concat([df_mobo[df_mobo[\"is_non_dominated\"]][['model'] + objectives]\n",
    ",\n",
    "           df_boto[df_boto[\"is_non_dominated\"]][['model'] + objectives]]).to_latex(index=False, float_format=\"{:0.2f}\".format))"
   ],
   "metadata": {
    "collapsed": false
   },
   "outputs": []
  },
  {
   "cell_type": "code",
   "execution_count": 9,
   "source": [
    "# Best found objective medium for each objective\n",
    "figs = []\n",
    "for obj in objectives:\n",
    "    figs.append(\n",
    "        viz.convergence_lineplot(\n",
    "            df=df,  # model_comparison_data_c.system_performance,\n",
    "            optimization_type=viz.OptimizationType.MINIMIZE,\n",
    "            ylabel=f\"{obj}\",\n",
    "            column_name=obj,\n",
    "            model_palette_map=color_palette,\n",
    "            # xlim=(10, 100),\n",
    "        )\n",
    "    )"
   ],
   "metadata": {
    "collapsed": false
   },
   "outputs": []
  },
  {
   "cell_type": "code",
   "execution_count": 10,
   "source": [
    "# figs[0].axes[0].set(ylim=[0, 12.5])\n",
    "figs[0]"
   ],
   "metadata": {
    "collapsed": false
   },
   "outputs": []
  },
  {
   "cell_type": "code",
   "execution_count": 11,
   "source": [
    "# figs[1].axes[0].set(ylim=[0, 5])\n",
    "figs[1]"
   ],
   "metadata": {
    "collapsed": false
   },
   "outputs": []
  },
  {
   "cell_type": "code",
   "execution_count": 18,
   "source": [
    "for c in df.columns:\n",
    "    if \"sim_seconds\" in c:\n",
    "        print(c)"
   ],
   "metadata": {
    "collapsed": false
   },
   "outputs": []
  },
  {
   "cell_type": "code",
   "execution_count": 40,
   "source": [
    "df.groupby(['model', 'iteration']).median()[\"sim_seconds\"]"
   ],
   "metadata": {
    "collapsed": false
   },
   "outputs": []
  },
  {
   "cell_type": "code",
   "execution_count": 35,
   "source": [
    "mobo_res = df.groupby(['model']).median()[objectives]"
   ],
   "metadata": {
    "collapsed": false
   },
   "outputs": []
  },
  {
   "cell_type": "code",
   "execution_count": 37,
   "source": [
    "print(mobo_res.to_latex())"
   ],
   "metadata": {
    "collapsed": false
   },
   "outputs": []
  },
  {
   "cell_type": "code",
   "execution_count": 38,
   "source": [
    "viz.mobo_exploration_plot(df=df, objectives=objectives, num_of_cols = 2)"
   ],
   "metadata": {
    "collapsed": false
   },
   "outputs": []
  },
  {
   "cell_type": "code",
   "execution_count": null,
   "source": [],
   "metadata": {
    "collapsed": false
   },
   "outputs": []
  }
 ],
 "metadata": {
  "kernelspec": {
   "display_name": "Python 3",
   "language": "python",
   "name": "python3"
  },
  "language_info": {
   "codemirror_mode": {
    "name": "ipython",
    "version": 2
   },
   "file_extension": ".py",
   "mimetype": "text/x-python",
   "name": "python",
   "nbconvert_exporter": "python",
   "pygments_lexer": "ipython2",
   "version": "2.7.6"
  }
 },
 "nbformat": 4,
 "nbformat_minor": 0
}
