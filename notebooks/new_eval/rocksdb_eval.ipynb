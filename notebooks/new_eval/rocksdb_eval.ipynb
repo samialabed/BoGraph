{
 "cells": [
  {
   "cell_type": "code",
   "id": "initial_id",
   "metadata": {
    "collapsed": true,
    "ExecuteTime": {
     "end_time": "2024-04-13T11:36:00.207852Z",
     "start_time": "2024-04-13T11:35:58.057087Z"
    }
   },
   "source": [
    "%matplotlib inline\n",
    "%load_ext autoreload\n",
    "%autoreload 2"
   ],
   "outputs": [],
   "execution_count": 1
  },
  {
   "cell_type": "code",
   "source": [
    "from autorocks.data.loader.all_models_result_aggregator import create_all_models_comparison_dataset\n",
    "from autorocks.dir_struct import PackageRootDir\n",
    "from sysgym.envs.rocksdb import schema\n",
    "\n",
    "param_space = schema.RocksDB10Params()\n",
    "\n",
    "all_model = create_all_models_comparison_dataset(\n",
    "    PackageRootDir / \"ProcessedDataNew/rocksdb/iops/zippy_workload_15min/10_params/100_iter\", save_results = False)\n",
    "\n",
    "default = create_all_models_comparison_dataset(\n",
    "    PackageRootDir / \"ProcessedDataNew/rocksdb/iops/zippy_workload_15min/10_params/10_iter\", save_results = False)"
   ],
   "metadata": {
    "collapsed": false,
    "ExecuteTime": {
     "end_time": "2024-04-13T12:20:03.514867Z",
     "start_time": "2024-04-13T12:20:00.810981Z"
    }
   },
   "id": "be55ce497e91b4",
   "outputs": [
    {
     "name": "stderr",
     "output_type": "stream",
     "text": [
      "/Users/salabed/workspace/autorocks/autorocks/data/loader/exp_dao.py:65: PerformanceWarning: DataFrame is highly fragmented.  This is usually the result of calling `frame.insert` many times, which has poor performance.  Consider joining all columns at once using pd.concat(axis=1) instead.  To get a de-fragmented frame, use `newframe = frame.copy()`\n",
      "  self.sys_observations[col_name] = col_val\n"
     ]
    }
   ],
   "execution_count": 75
  },
  {
   "cell_type": "code",
   "source": [
    "import autorocks.viz.viz as viz\n",
    "\n",
    "model_comparison_data_c = viz.unify_model_name(all_model)\n"
   ],
   "metadata": {
    "collapsed": false,
    "ExecuteTime": {
     "end_time": "2024-04-13T12:20:03.565826Z",
     "start_time": "2024-04-13T12:20:03.516004Z"
    }
   },
   "id": "c5847db3c2181d6e",
   "outputs": [],
   "execution_count": 76
  },
  {
   "metadata": {
    "ExecuteTime": {
     "end_time": "2024-04-13T12:20:03.568865Z",
     "start_time": "2024-04-13T12:20:03.566835Z"
    }
   },
   "cell_type": "code",
   "source": "",
   "id": "2204a80c64e17d70",
   "outputs": [],
   "execution_count": 76
  },
  {
   "metadata": {
    "ExecuteTime": {
     "end_time": "2024-04-13T12:29:10.916054Z",
     "start_time": "2024-04-13T12:29:09.450517Z"
    }
   },
   "cell_type": "code",
   "source": [
    "all_df = model_comparison_data_c.combine_sys_params_metric()\n",
    "all_df.rename(columns = lambda x: re.sub(r\"^db_bench\\.\\w*\\.\", \"\", x), inplace = True)\n",
    "top_results = all_df[['iops'] + model_comparison_data_c.sys_params.columns.to_list()].sort_values(by='iops', ascending = True).groupby('model').last(0).T\n",
    "top_results"
   ],
   "id": "546819577cb244d5",
   "outputs": [
    {
     "data": {
      "text/plain": [
       "model                                      BoBn  BoTorch_SingleTaskGP  \\\n",
       "iops                                   297532.0              222267.0   \n",
       "max_background_compactions                  1.0                   5.0   \n",
       "max_background_flushes                      1.0                   6.0   \n",
       "write_buffer_size                   112180092.0           727021384.0   \n",
       "max_write_buffer_number                    40.0                  35.0   \n",
       "min_write_buffer_number_to_merge            1.0                   1.0   \n",
       "max_bytes_for_level_multiplier              7.0                  20.0   \n",
       "block_size                              96182.0               57796.0   \n",
       "level0_file_num_compaction_trigger          1.0                   1.0   \n",
       "level0_slowdown_writes_trigger              4.0                  51.0   \n",
       "level0_stop_writes_trigger                 29.0                  54.0   \n",
       "step                                       67.0                 100.0   \n",
       "iteration                                   4.0                   0.0   \n",
       "\n",
       "model                                  PBTTuner       Random          TPE  \n",
       "iops                                   178468.0     184819.0     288167.0  \n",
       "max_background_compactions                  5.0          1.0          2.0  \n",
       "max_background_flushes                      2.0          6.0          3.0  \n",
       "write_buffer_size                   844131530.0  312727517.0  106006917.0  \n",
       "max_write_buffer_number                    13.0         35.0         27.0  \n",
       "min_write_buffer_number_to_merge            1.0          1.0          1.0  \n",
       "max_bytes_for_level_multiplier              8.0         13.0         16.0  \n",
       "block_size                              77391.0      76062.0      49275.0  \n",
       "level0_file_num_compaction_trigger          3.0          3.0          1.0  \n",
       "level0_slowdown_writes_trigger             43.0         11.0         59.0  \n",
       "level0_stop_writes_trigger                 41.0         51.0          1.0  \n",
       "step                                       78.0         61.0         33.0  \n",
       "iteration                                   0.0          3.0          1.0  "
      ],
      "text/html": [
       "<div>\n",
       "<style scoped>\n",
       "    .dataframe tbody tr th:only-of-type {\n",
       "        vertical-align: middle;\n",
       "    }\n",
       "\n",
       "    .dataframe tbody tr th {\n",
       "        vertical-align: top;\n",
       "    }\n",
       "\n",
       "    .dataframe thead th {\n",
       "        text-align: right;\n",
       "    }\n",
       "</style>\n",
       "<table border=\"1\" class=\"dataframe\">\n",
       "  <thead>\n",
       "    <tr style=\"text-align: right;\">\n",
       "      <th>model</th>\n",
       "      <th>BoBn</th>\n",
       "      <th>BoTorch_SingleTaskGP</th>\n",
       "      <th>PBTTuner</th>\n",
       "      <th>Random</th>\n",
       "      <th>TPE</th>\n",
       "    </tr>\n",
       "  </thead>\n",
       "  <tbody>\n",
       "    <tr>\n",
       "      <th>iops</th>\n",
       "      <td>297532.0</td>\n",
       "      <td>222267.0</td>\n",
       "      <td>178468.0</td>\n",
       "      <td>184819.0</td>\n",
       "      <td>288167.0</td>\n",
       "    </tr>\n",
       "    <tr>\n",
       "      <th>max_background_compactions</th>\n",
       "      <td>1.0</td>\n",
       "      <td>5.0</td>\n",
       "      <td>5.0</td>\n",
       "      <td>1.0</td>\n",
       "      <td>2.0</td>\n",
       "    </tr>\n",
       "    <tr>\n",
       "      <th>max_background_flushes</th>\n",
       "      <td>1.0</td>\n",
       "      <td>6.0</td>\n",
       "      <td>2.0</td>\n",
       "      <td>6.0</td>\n",
       "      <td>3.0</td>\n",
       "    </tr>\n",
       "    <tr>\n",
       "      <th>write_buffer_size</th>\n",
       "      <td>112180092.0</td>\n",
       "      <td>727021384.0</td>\n",
       "      <td>844131530.0</td>\n",
       "      <td>312727517.0</td>\n",
       "      <td>106006917.0</td>\n",
       "    </tr>\n",
       "    <tr>\n",
       "      <th>max_write_buffer_number</th>\n",
       "      <td>40.0</td>\n",
       "      <td>35.0</td>\n",
       "      <td>13.0</td>\n",
       "      <td>35.0</td>\n",
       "      <td>27.0</td>\n",
       "    </tr>\n",
       "    <tr>\n",
       "      <th>min_write_buffer_number_to_merge</th>\n",
       "      <td>1.0</td>\n",
       "      <td>1.0</td>\n",
       "      <td>1.0</td>\n",
       "      <td>1.0</td>\n",
       "      <td>1.0</td>\n",
       "    </tr>\n",
       "    <tr>\n",
       "      <th>max_bytes_for_level_multiplier</th>\n",
       "      <td>7.0</td>\n",
       "      <td>20.0</td>\n",
       "      <td>8.0</td>\n",
       "      <td>13.0</td>\n",
       "      <td>16.0</td>\n",
       "    </tr>\n",
       "    <tr>\n",
       "      <th>block_size</th>\n",
       "      <td>96182.0</td>\n",
       "      <td>57796.0</td>\n",
       "      <td>77391.0</td>\n",
       "      <td>76062.0</td>\n",
       "      <td>49275.0</td>\n",
       "    </tr>\n",
       "    <tr>\n",
       "      <th>level0_file_num_compaction_trigger</th>\n",
       "      <td>1.0</td>\n",
       "      <td>1.0</td>\n",
       "      <td>3.0</td>\n",
       "      <td>3.0</td>\n",
       "      <td>1.0</td>\n",
       "    </tr>\n",
       "    <tr>\n",
       "      <th>level0_slowdown_writes_trigger</th>\n",
       "      <td>4.0</td>\n",
       "      <td>51.0</td>\n",
       "      <td>43.0</td>\n",
       "      <td>11.0</td>\n",
       "      <td>59.0</td>\n",
       "    </tr>\n",
       "    <tr>\n",
       "      <th>level0_stop_writes_trigger</th>\n",
       "      <td>29.0</td>\n",
       "      <td>54.0</td>\n",
       "      <td>41.0</td>\n",
       "      <td>51.0</td>\n",
       "      <td>1.0</td>\n",
       "    </tr>\n",
       "    <tr>\n",
       "      <th>step</th>\n",
       "      <td>67.0</td>\n",
       "      <td>100.0</td>\n",
       "      <td>78.0</td>\n",
       "      <td>61.0</td>\n",
       "      <td>33.0</td>\n",
       "    </tr>\n",
       "    <tr>\n",
       "      <th>iteration</th>\n",
       "      <td>4.0</td>\n",
       "      <td>0.0</td>\n",
       "      <td>0.0</td>\n",
       "      <td>3.0</td>\n",
       "      <td>1.0</td>\n",
       "    </tr>\n",
       "  </tbody>\n",
       "</table>\n",
       "</div>"
      ]
     },
     "execution_count": 110,
     "metadata": {},
     "output_type": "execute_result"
    }
   ],
   "execution_count": 110
  },
  {
   "metadata": {
    "ExecuteTime": {
     "end_time": "2024-04-13T12:37:12.047054Z",
     "start_time": "2024-04-13T12:37:12.003438Z"
    }
   },
   "cell_type": "code",
   "source": [
    "desired_order = top_results.T.sort_values(by='iops', ascending = False).drop(columns={'step', 'iteration'})\n",
    "original = desired_order['iops'].copy().astype(int)\n",
    "\n",
    "def format_number(x):\n",
    "    if abs(x) >= 1e4:\n",
    "        return '{:.0e}'.format(x)\n",
    "    else:\n",
    "        return '{:.0f}'.format(x)\n",
    "\n",
    "df_formatted = desired_order.applymap(format_number)  # Apply to all columns\n",
    "df_formatted['iops'] = original\n",
    "df_formatted = df_formatted.rename(columns={'iops':'IOPS'})\n",
    "df_formatted = df_formatted.T.rename(columns = {'BoTorch_SingleTaskGP': 'BoTorch'})\n",
    "print(df_formatted.to_latex())"
   ],
   "id": "65ab9cc5951ddf4f",
   "outputs": [
    {
     "name": "stdout",
     "output_type": "stream",
     "text": [
      "\\begin{tabular}{llllll}\n",
      "\\toprule\n",
      "model &    BoBn &     TPE & BoTorch &  Random & PBTTuner \\\\\n",
      "\\midrule\n",
      "IOPS                               &  297532 &  288167 &  222267 &  184819 &   178468 \\\\\n",
      "max\\_background\\_compactions         &       1 &       2 &       5 &       1 &        5 \\\\\n",
      "max\\_background\\_flushes             &       1 &       3 &       6 &       6 &        2 \\\\\n",
      "write\\_buffer\\_size                  &   1e+08 &   1e+08 &   7e+08 &   3e+08 &    8e+08 \\\\\n",
      "max\\_write\\_buffer\\_number            &      40 &      27 &      35 &      35 &       13 \\\\\n",
      "min\\_write\\_buffer\\_number\\_to\\_merge   &       1 &       1 &       1 &       1 &        1 \\\\\n",
      "max\\_bytes\\_for\\_level\\_multiplier     &       7 &      16 &      20 &      13 &        8 \\\\\n",
      "block\\_size                         &   1e+05 &   5e+04 &   6e+04 &   8e+04 &    8e+04 \\\\\n",
      "level0\\_file\\_num\\_compaction\\_trigger &       1 &       1 &       1 &       3 &        3 \\\\\n",
      "level0\\_slowdown\\_writes\\_trigger     &       4 &      59 &      51 &      11 &       43 \\\\\n",
      "level0\\_stop\\_writes\\_trigger         &      29 &       1 &      54 &      51 &       41 \\\\\n",
      "\\bottomrule\n",
      "\\end{tabular}\n",
      "\n"
     ]
    }
   ],
   "execution_count": 131
  },
  {
   "cell_type": "code",
   "source": [
    "import re\n",
    "import pandas as pd\n",
    "\n",
    "perf_df = model_comparison_data_c.sys_observations\n",
    "perf_df = pd.concat([perf_df, default.sys_observations], ignore_index = True)\n",
    "perf_df.rename(columns = lambda x: re.sub(r\"^db_bench\\.\\w*\\.\", \"\", x), inplace = True)\n",
    "color_palette = viz.create_color_palette_df(\n",
    "    perf_df, [\"#9b59b6\", \"#3498db\", \"#95a5a6\", \"#e74c3c\", \"#34495e\", \"#2ecc71\"]\n",
    ")\n",
    "perf_df[['iteration', 'step', 'iops', 'model']]"
   ],
   "metadata": {
    "collapsed": false,
    "ExecuteTime": {
     "end_time": "2024-04-13T12:20:09.812056Z",
     "start_time": "2024-04-13T12:20:09.611831Z"
    }
   },
   "id": "f59cb5c2a636ddca",
   "outputs": [
    {
     "data": {
      "text/plain": [
       "      iteration  step      iops                 model\n",
       "0             0     1  117505.0  BoTorch_SingleTaskGP\n",
       "1             0     2   75215.0  BoTorch_SingleTaskGP\n",
       "2             0     3  112905.0  BoTorch_SingleTaskGP\n",
       "3             0     4  123121.0  BoTorch_SingleTaskGP\n",
       "4             0     5  122138.0  BoTorch_SingleTaskGP\n",
       "...         ...   ...       ...                   ...\n",
       "2505          0     6  175587.0               Default\n",
       "2506          0     7  176168.0               Default\n",
       "2507          0     8  176084.0               Default\n",
       "2508          0     9  176156.0               Default\n",
       "2509          0    10  175468.0               Default\n",
       "\n",
       "[2510 rows x 4 columns]"
      ],
      "text/html": [
       "<div>\n",
       "<style scoped>\n",
       "    .dataframe tbody tr th:only-of-type {\n",
       "        vertical-align: middle;\n",
       "    }\n",
       "\n",
       "    .dataframe tbody tr th {\n",
       "        vertical-align: top;\n",
       "    }\n",
       "\n",
       "    .dataframe thead th {\n",
       "        text-align: right;\n",
       "    }\n",
       "</style>\n",
       "<table border=\"1\" class=\"dataframe\">\n",
       "  <thead>\n",
       "    <tr style=\"text-align: right;\">\n",
       "      <th></th>\n",
       "      <th>iteration</th>\n",
       "      <th>step</th>\n",
       "      <th>iops</th>\n",
       "      <th>model</th>\n",
       "    </tr>\n",
       "  </thead>\n",
       "  <tbody>\n",
       "    <tr>\n",
       "      <th>0</th>\n",
       "      <td>0</td>\n",
       "      <td>1</td>\n",
       "      <td>117505.0</td>\n",
       "      <td>BoTorch_SingleTaskGP</td>\n",
       "    </tr>\n",
       "    <tr>\n",
       "      <th>1</th>\n",
       "      <td>0</td>\n",
       "      <td>2</td>\n",
       "      <td>75215.0</td>\n",
       "      <td>BoTorch_SingleTaskGP</td>\n",
       "    </tr>\n",
       "    <tr>\n",
       "      <th>2</th>\n",
       "      <td>0</td>\n",
       "      <td>3</td>\n",
       "      <td>112905.0</td>\n",
       "      <td>BoTorch_SingleTaskGP</td>\n",
       "    </tr>\n",
       "    <tr>\n",
       "      <th>3</th>\n",
       "      <td>0</td>\n",
       "      <td>4</td>\n",
       "      <td>123121.0</td>\n",
       "      <td>BoTorch_SingleTaskGP</td>\n",
       "    </tr>\n",
       "    <tr>\n",
       "      <th>4</th>\n",
       "      <td>0</td>\n",
       "      <td>5</td>\n",
       "      <td>122138.0</td>\n",
       "      <td>BoTorch_SingleTaskGP</td>\n",
       "    </tr>\n",
       "    <tr>\n",
       "      <th>...</th>\n",
       "      <td>...</td>\n",
       "      <td>...</td>\n",
       "      <td>...</td>\n",
       "      <td>...</td>\n",
       "    </tr>\n",
       "    <tr>\n",
       "      <th>2505</th>\n",
       "      <td>0</td>\n",
       "      <td>6</td>\n",
       "      <td>175587.0</td>\n",
       "      <td>Default</td>\n",
       "    </tr>\n",
       "    <tr>\n",
       "      <th>2506</th>\n",
       "      <td>0</td>\n",
       "      <td>7</td>\n",
       "      <td>176168.0</td>\n",
       "      <td>Default</td>\n",
       "    </tr>\n",
       "    <tr>\n",
       "      <th>2507</th>\n",
       "      <td>0</td>\n",
       "      <td>8</td>\n",
       "      <td>176084.0</td>\n",
       "      <td>Default</td>\n",
       "    </tr>\n",
       "    <tr>\n",
       "      <th>2508</th>\n",
       "      <td>0</td>\n",
       "      <td>9</td>\n",
       "      <td>176156.0</td>\n",
       "      <td>Default</td>\n",
       "    </tr>\n",
       "    <tr>\n",
       "      <th>2509</th>\n",
       "      <td>0</td>\n",
       "      <td>10</td>\n",
       "      <td>175468.0</td>\n",
       "      <td>Default</td>\n",
       "    </tr>\n",
       "  </tbody>\n",
       "</table>\n",
       "<p>2510 rows × 4 columns</p>\n",
       "</div>"
      ]
     },
     "execution_count": 79,
     "metadata": {},
     "output_type": "execute_result"
    }
   ],
   "execution_count": 79
  },
  {
   "cell_type": "code",
   "source": [
    "\n",
    "\n",
    "main_target = \"iops\"\n",
    "\n",
    "\n",
    "iops_fig = viz.perf_boxplot(\n",
    "    perf_df = perf_df,\n",
    "    optimization_type = viz.OptimizationType.MAXIMIZE,\n",
    "    ylabel = \"IOPS\",\n",
    "    comparison_col = main_target,\n",
    "    model_palette_map = color_palette,\n",
    "    horizontal_line = \"Default\",\n",
    "    fig_size = (9, 5),\n",
    "    add_roi = True\n",
    ")\n",
    "\n",
    "iops_fig"
   ],
   "metadata": {
    "collapsed": false,
    "ExecuteTime": {
     "end_time": "2024-04-13T12:20:11.005076Z",
     "start_time": "2024-04-13T12:20:10.880811Z"
    }
   },
   "id": "b73a850ad5daec63",
   "outputs": [
    {
     "data": {
      "text/plain": [
       "<Figure size 648x360 with 1 Axes>"
      ],
      "image/png": "[encoded data removed]"
     },
     "execution_count": 80,
     "metadata": {},
     "output_type": "execute_result"
    }
   ],
   "execution_count": 80
  },
  {
   "metadata": {
    "ExecuteTime": {
     "end_time": "2024-04-13T12:20:13.984750Z",
     "start_time": "2024-04-13T12:20:13.891667Z"
    }
   },
   "cell_type": "code",
   "source": "iops_fig.savefig(\"/Users/salabed/workspace/latex_writings/thesis/phd_dissertation/Chapters/BoGraphEval/figures/rocksdb_iops.pdf\", dpi= 300)",
   "id": "b43c19c52dbcece2",
   "outputs": [
    {
     "name": "stderr",
     "output_type": "stream",
     "text": [
      "findfont: Font family 'Arial' not found.\n",
      "findfont: Font family 'Arial' not found.\n",
      "findfont: Font family 'Arial' not found.\n",
      "findfont: Font family 'Arial' not found.\n",
      "findfont: Font family 'Arial' not found.\n",
      "findfont: Font family 'Arial' not found.\n",
      "findfont: Font family 'Arial' not found.\n",
      "findfont: Font family 'Arial' not found.\n",
      "findfont: Font family 'Arial' not found.\n",
      "findfont: Font family 'Arial' not found.\n",
      "findfont: Font family 'Arial' not found.\n",
      "findfont: Font family 'Arial' not found.\n",
      "findfont: Font family 'Arial' not found.\n",
      "findfont: Font family 'Arial' not found.\n",
      "findfont: Font family 'Arial' not found.\n",
      "findfont: Font family 'Arial' not found.\n",
      "findfont: Font family 'Arial' not found.\n",
      "findfont: Font family 'Arial' not found.\n",
      "findfont: Font family 'Arial' not found.\n",
      "findfont: Font family 'Arial' not found.\n",
      "findfont: Font family 'Arial' not found.\n"
     ]
    }
   ],
   "execution_count": 81
  },
  {
   "cell_type": "code",
   "source": [
    "model_performance = model_comparison_data_c.model_performance\n",
    "model_performance.rename(columns = lambda x: re.sub(r\"^db_bench\\.\\w*\\.\", \"\", x), inplace = True)\n",
    "color_palette = viz.create_color_palette_df(\n",
    "    model_performance, [\"#9b59b6\", \"#3498db\", \"#95a5a6\", \"#e74c3c\", \"#34495e\", \"#2ecc71\"]\n",
    ")\n",
    "model_performance"
   ],
   "metadata": {
    "collapsed": false,
    "ExecuteTime": {
     "end_time": "2024-04-13T12:20:14.096570Z",
     "start_time": "2024-04-13T12:20:14.064976Z"
    }
   },
   "id": "f51a52e4f4dd835",
   "outputs": [
    {
     "data": {
      "text/plain": [
       "      step  inference_time  iteration                 model\n",
       "0       75        0.443195          0  BoTorch_SingleTaskGP\n",
       "1       97        0.662626          0  BoTorch_SingleTaskGP\n",
       "2       99        0.862661          0  BoTorch_SingleTaskGP\n",
       "3       81        0.534748          0  BoTorch_SingleTaskGP\n",
       "4       56        0.428438          0  BoTorch_SingleTaskGP\n",
       "...    ...             ...        ...                   ...\n",
       "2495    10        0.013549          4                Random\n",
       "2496    46        0.014796          4                Random\n",
       "2497    98        0.013527          4                Random\n",
       "2498    76        0.014062          4                Random\n",
       "2499    58        0.014075          4                Random\n",
       "\n",
       "[2500 rows x 4 columns]"
      ],
      "text/html": [
       "<div>\n",
       "<style scoped>\n",
       "    .dataframe tbody tr th:only-of-type {\n",
       "        vertical-align: middle;\n",
       "    }\n",
       "\n",
       "    .dataframe tbody tr th {\n",
       "        vertical-align: top;\n",
       "    }\n",
       "\n",
       "    .dataframe thead th {\n",
       "        text-align: right;\n",
       "    }\n",
       "</style>\n",
       "<table border=\"1\" class=\"dataframe\">\n",
       "  <thead>\n",
       "    <tr style=\"text-align: right;\">\n",
       "      <th></th>\n",
       "      <th>step</th>\n",
       "      <th>inference_time</th>\n",
       "      <th>iteration</th>\n",
       "      <th>model</th>\n",
       "    </tr>\n",
       "  </thead>\n",
       "  <tbody>\n",
       "    <tr>\n",
       "      <th>0</th>\n",
       "      <td>75</td>\n",
       "      <td>0.443195</td>\n",
       "      <td>0</td>\n",
       "      <td>BoTorch_SingleTaskGP</td>\n",
       "    </tr>\n",
       "    <tr>\n",
       "      <th>1</th>\n",
       "      <td>97</td>\n",
       "      <td>0.662626</td>\n",
       "      <td>0</td>\n",
       "      <td>BoTorch_SingleTaskGP</td>\n",
       "    </tr>\n",
       "    <tr>\n",
       "      <th>2</th>\n",
       "      <td>99</td>\n",
       "      <td>0.862661</td>\n",
       "      <td>0</td>\n",
       "      <td>BoTorch_SingleTaskGP</td>\n",
       "    </tr>\n",
       "    <tr>\n",
       "      <th>3</th>\n",
       "      <td>81</td>\n",
       "      <td>0.534748</td>\n",
       "      <td>0</td>\n",
       "      <td>BoTorch_SingleTaskGP</td>\n",
       "    </tr>\n",
       "    <tr>\n",
       "      <th>4</th>\n",
       "      <td>56</td>\n",
       "      <td>0.428438</td>\n",
       "      <td>0</td>\n",
       "      <td>BoTorch_SingleTaskGP</td>\n",
       "    </tr>\n",
       "    <tr>\n",
       "      <th>...</th>\n",
       "      <td>...</td>\n",
       "      <td>...</td>\n",
       "      <td>...</td>\n",
       "      <td>...</td>\n",
       "    </tr>\n",
       "    <tr>\n",
       "      <th>2495</th>\n",
       "      <td>10</td>\n",
       "      <td>0.013549</td>\n",
       "      <td>4</td>\n",
       "      <td>Random</td>\n",
       "    </tr>\n",
       "    <tr>\n",
       "      <th>2496</th>\n",
       "      <td>46</td>\n",
       "      <td>0.014796</td>\n",
       "      <td>4</td>\n",
       "      <td>Random</td>\n",
       "    </tr>\n",
       "    <tr>\n",
       "      <th>2497</th>\n",
       "      <td>98</td>\n",
       "      <td>0.013527</td>\n",
       "      <td>4</td>\n",
       "      <td>Random</td>\n",
       "    </tr>\n",
       "    <tr>\n",
       "      <th>2498</th>\n",
       "      <td>76</td>\n",
       "      <td>0.014062</td>\n",
       "      <td>4</td>\n",
       "      <td>Random</td>\n",
       "    </tr>\n",
       "    <tr>\n",
       "      <th>2499</th>\n",
       "      <td>58</td>\n",
       "      <td>0.014075</td>\n",
       "      <td>4</td>\n",
       "      <td>Random</td>\n",
       "    </tr>\n",
       "  </tbody>\n",
       "</table>\n",
       "<p>2500 rows × 4 columns</p>\n",
       "</div>"
      ]
     },
     "execution_count": 82,
     "metadata": {},
     "output_type": "execute_result"
    }
   ],
   "execution_count": 82
  },
  {
   "cell_type": "code",
   "source": [
    "color_palette"
   ],
   "metadata": {
    "collapsed": false,
    "ExecuteTime": {
     "end_time": "2024-04-13T12:20:14.293384Z",
     "start_time": "2024-04-13T12:20:14.263713Z"
    }
   },
   "id": "45d56c27f7ddf333",
   "outputs": [
    {
     "data": {
      "text/plain": [
       "{'BoTorch_SingleTaskGP': '#9b59b6',\n",
       " 'PBTTuner': '#3498db',\n",
       " 'BoBn': '#95a5a6',\n",
       " 'TPE': '#e74c3c',\n",
       " 'Random': '#34495e'}"
      ]
     },
     "execution_count": 83,
     "metadata": {},
     "output_type": "execute_result"
    }
   ],
   "execution_count": 83
  },
  {
   "cell_type": "code",
   "source": [
    "viz.model_perf_plot(model_perf_df=model_performance,\n",
    "comparison_col='inference_time',\n",
    "ylabel=\"Auto-tuner wall-time in seconds\")\n",
    "\n"
   ],
   "metadata": {
    "collapsed": false,
    "ExecuteTime": {
     "end_time": "2024-04-13T12:20:14.614789Z",
     "start_time": "2024-04-13T12:20:14.437120Z"
    }
   },
   "id": "97a964eb7f973bef",
   "outputs": [
    {
     "data": {
      "text/plain": [
       "<Figure size 288x216 with 1 Axes>"
      ],
      "image/png": "[encoded data removed]"
     },
     "execution_count": 84,
     "metadata": {},
     "output_type": "execute_result"
    }
   ],
   "execution_count": 84
  },
  {
   "cell_type": "code",
   "source": [
    "model_performance['relative_time'] = model_performance['inference_time'] / perf_df['exe_time']\n",
    "viz.model_perf_plot(model_perf_df=model_performance,\n",
    "comparison_col='relative_time',\n",
    "ylabel=\"Wall-time relative to RocksDB in seconds\")\n"
   ],
   "metadata": {
    "collapsed": false,
    "ExecuteTime": {
     "end_time": "2024-04-13T12:20:14.821942Z",
     "start_time": "2024-04-13T12:20:14.631705Z"
    }
   },
   "id": "bf05f762b5b88809",
   "outputs": [
    {
     "data": {
      "text/plain": [
       "<Figure size 288x216 with 1 Axes>"
      ],
      "image/png": "[encoded data removed]"
     },
     "execution_count": 85,
     "metadata": {},
     "output_type": "execute_result"
    }
   ],
   "execution_count": 85
  },
  {
   "cell_type": "code",
   "source": [
    "viz.model_perf_plot(model_perf_df=perf_df,\n",
    "comparison_col='exe_time',\n",
    "ylabel=\"RocksDB execution time\")\n",
    "\n"
   ],
   "metadata": {
    "collapsed": false,
    "ExecuteTime": {
     "end_time": "2024-04-13T12:20:15.018487Z",
     "start_time": "2024-04-13T12:20:14.834960Z"
    }
   },
   "id": "7527ad83a6860b9f",
   "outputs": [
    {
     "data": {
      "text/plain": [
       "<Figure size 288x216 with 1 Axes>"
      ],
      "image/png": "[encoded data removed]"
     },
     "execution_count": 86,
     "metadata": {},
     "output_type": "execute_result"
    }
   ],
   "execution_count": 86
  },
  {
   "cell_type": "code",
   "source": [
    "viz.roi_boxplot(\n",
    "    df = perf_df,\n",
    "    optimization_type = viz.OptimizationType.MAXIMIZE,\n",
    "    ylabel = \"IOPS\",\n",
    "    model_baseline = \"Default\",\n",
    "    comparison_col = main_target,\n",
    "    model_palette_map = color_palette,\n",
    "    fig_size = (9, 5)\n",
    ")"
   ],
   "metadata": {
    "collapsed": false,
    "ExecuteTime": {
     "end_time": "2024-04-13T12:20:15.470930Z",
     "start_time": "2024-04-13T12:20:15.019828Z"
    }
   },
   "id": "5ae8ee1f19e07df5",
   "outputs": [
    {
     "data": {
      "text/plain": [
       "<Figure size 648x360 with 1 Axes>"
      ],
      "image/png": "[encoded data removed]"
     },
     "execution_count": 87,
     "metadata": {},
     "output_type": "execute_result"
    }
   ],
   "execution_count": 87
  },
  {
   "cell_type": "code",
   "source": [
    "\n",
    "convergence_df = perf_df.copy()\n",
    "convergence_df[\"rolling\"] = (\n",
    "    convergence_df[[main_target, \"model\", \"iteration\"]]\n",
    "    .groupby([\"model\", \"iteration\"])\n",
    "    [main_target]\n",
    "    .agg(f\"cum{str(viz.OptimizationType.MAXIMIZE)}\")\n",
    ")\n",
    "\n",
    "fig = viz.convergence_lineplot(\n",
    "    df=convergence_df,\n",
    "    optimization_type=viz.OptimizationType.MAXIMIZE,\n",
    "    ylabel=main_target,\n",
    "    column_name=\"rolling\",\n",
    "    model_palette_map=color_palette,\n",
    "    fig_size=(9, 5),\n",
    "    horizontal_line=\"Default\"\n",
    ")\n",
    "fig"
   ],
   "metadata": {
    "collapsed": false,
    "ExecuteTime": {
     "end_time": "2024-04-13T12:20:28.204332Z",
     "start_time": "2024-04-13T12:20:15.472209Z"
    }
   },
   "id": "eb1294e93aca4693",
   "outputs": [
    {
     "name": "stderr",
     "output_type": "stream",
     "text": [
      "/Users/salabed/opt/anaconda3/envs/autobo/lib/python3.8/site-packages/pandas/core/apply.py:507: FutureWarning: Dropping invalid columns in DataFrameGroupBy.cummax is deprecated. In a future version, a TypeError will be raised. Before calling .cummax, select only columns which should be valid for the transforming function.\n",
      "  return self._try_aggregate_string_function(obj, f, *self.args, **self.kwargs)\n"
     ]
    },
    {
     "data": {
      "text/plain": [
       "<Figure size 648x360 with 1 Axes>"
      ],
      "image/png": "[encoded data removed]"
     },
     "execution_count": 88,
     "metadata": {},
     "output_type": "execute_result"
    }
   ],
   "execution_count": 88
  },
  {
   "cell_type": "code",
   "source": [
    "convergence_df[main_target]"
   ],
   "metadata": {
    "collapsed": false,
    "ExecuteTime": {
     "end_time": "2024-04-13T12:20:28.230850Z",
     "start_time": "2024-04-13T12:20:28.205491Z"
    }
   },
   "id": "da49baf5fdc401bb",
   "outputs": [
    {
     "data": {
      "text/plain": [
       "0       117505.0\n",
       "1        75215.0\n",
       "2       112905.0\n",
       "3       123121.0\n",
       "4       122138.0\n",
       "          ...   \n",
       "2505    175587.0\n",
       "2506    176168.0\n",
       "2507    176084.0\n",
       "2508    176156.0\n",
       "2509    175468.0\n",
       "Name: iops, Length: 2510, dtype: float64"
      ]
     },
     "execution_count": 89,
     "metadata": {},
     "output_type": "execute_result"
    }
   ],
   "execution_count": 89
  },
  {
   "cell_type": "code",
   "source": [],
   "metadata": {
    "collapsed": false,
    "ExecuteTime": {
     "end_time": "2024-04-13T12:20:28.233278Z",
     "start_time": "2024-04-13T12:20:28.231530Z"
    }
   },
   "id": "6099cace9eb03753",
   "outputs": [],
   "execution_count": 89
  },
  {
   "metadata": {},
   "cell_type": "code",
   "outputs": [],
   "execution_count": null,
   "source": "",
   "id": "dd1bf8be31cea95e"
  }
 ],
 "metadata": {
  "kernelspec": {
   "display_name": "Python 3",
   "language": "python",
   "name": "python3"
  },
  "language_info": {
   "codemirror_mode": {
    "name": "ipython",
    "version": 2
   },
   "file_extension": ".py",
   "mimetype": "text/x-python",
   "name": "python",
   "nbconvert_exporter": "python",
   "pygments_lexer": "ipython2",
   "version": "2.7.6"
  }
 },
 "nbformat": 4,
 "nbformat_minor": 5
}
