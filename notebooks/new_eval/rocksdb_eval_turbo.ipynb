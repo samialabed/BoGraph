{
 "cells": [
  {
   "cell_type": "code",
   "id": "initial_id",
   "metadata": {
    "collapsed": true,
    "ExecuteTime": {
     "end_time": "2024-04-13T12:56:06.381908Z",
     "start_time": "2024-04-13T12:56:05.469466Z"
    }
   },
   "source": [
    "%matplotlib inline\n",
    "%load_ext autoreload\n",
    "%autoreload 2"
   ],
   "execution_count": 1,
   "outputs": []
  },
  {
   "cell_type": "code",
   "source": [
    "from autorocks.data.loader.all_models_result_aggregator import create_all_models_comparison_dataset\n",
    "from autorocks.dir_struct import PackageRootDir\n",
    "from sysgym.envs.rocksdb import schema\n",
    "\n",
    "param_space = schema.RocksDB10Params()\n",
    "\n",
    "all_model = create_all_models_comparison_dataset(\n",
    "    PackageRootDir / \"ProcessedDataNew/rocksdb/iops/zippy_workload_15min_turbo/10params/100iter\", save_results = False)\n",
    "\n",
    "default = create_all_models_comparison_dataset(\n",
    "    PackageRootDir / \"ProcessedDataNew/rocksdb/iops/zippy_workload_15min/10_params/10_iter\", save_results = False)"
   ],
   "metadata": {
    "collapsed": false,
    "ExecuteTime": {
     "end_time": "2024-04-13T13:17:06.697503Z",
     "start_time": "2024-04-13T13:17:04.869567Z"
    }
   },
   "id": "be55ce497e91b4",
   "execution_count": 61,
   "outputs": []
  },
  {
   "cell_type": "code",
   "source": [
    "import autorocks.viz.viz as viz\n",
    "\n",
    "model_comparison_data_c = viz.unify_model_name(all_model)\n"
   ],
   "metadata": {
    "collapsed": false,
    "ExecuteTime": {
     "end_time": "2024-04-13T13:17:06.741356Z",
     "start_time": "2024-04-13T13:17:06.698888Z"
    }
   },
   "id": "c5847db3c2181d6e",
   "execution_count": 62,
   "outputs": []
  },
  {
   "cell_type": "code",
   "source": [
    "import re\n",
    "import pandas as pd\n",
    "\n",
    "perf_df = model_comparison_data_c.sys_observations\n",
    "perf_df = pd.concat([perf_df, default.sys_observations], ignore_index = True)\n",
    "perf_df.rename(columns = lambda x: re.sub(r\"^db_bench\\.\\w*\\.\", \"\", x), inplace = True)\n",
    "color_palette = viz.create_color_palette_df(\n",
    "    perf_df, [\"#9b59b6\", \"#3498db\", \"#95a5a6\", \"#e74c3c\", \"#34495e\", \"#2ecc71\"]\n",
    ")\n",
    "perf_df[['iteration', 'step', 'iops', 'model']]"
   ],
   "metadata": {
    "collapsed": false,
    "ExecuteTime": {
     "end_time": "2024-04-13T13:17:06.887074Z",
     "start_time": "2024-04-13T13:17:06.742137Z"
    }
   },
   "id": "a5dd2116440112fc",
   "execution_count": 63,
   "outputs": []
  },
  {
   "cell_type": "code",
   "source": [
    "\n",
    "\n",
    "main_target = \"iops\"\n",
    "\n",
    "\n",
    "iops_box = viz.perf_boxplot(\n",
    "    perf_df = perf_df,\n",
    "    optimization_type = viz.OptimizationType.MAXIMIZE,\n",
    "    ylabel = \"IOPS\",\n",
    "    comparison_col = main_target,\n",
    "    model_palette_map = color_palette,\n",
    "    horizontal_line = \"Default\",\n",
    "    fig_size = (9, 5),\n",
    "    add_roi = True\n",
    ")\n",
    "\n",
    "iops_box"
   ],
   "metadata": {
    "collapsed": false,
    "ExecuteTime": {
     "end_time": "2024-04-13T13:17:07.013178Z",
     "start_time": "2024-04-13T13:17:06.888825Z"
    }
   },
   "id": "b73a850ad5daec63",
   "execution_count": 64,
   "outputs": []
  },
  {
   "metadata": {
    "ExecuteTime": {
     "end_time": "2024-04-13T13:17:07.123264Z",
     "start_time": "2024-04-13T13:17:07.014026Z"
    }
   },
   "cell_type": "code",
   "source": [
    "iops_box.savefig(\"/Users/salabed/workspace/latex_writings/thesis/phd_dissertation/Chapters/BoGraphEval/figures/rocksdb_turbo_iops.pdf\", dpi= 300)\n",
    "iops_box.savefig(\"/Users/salabed/workspace/latex_writings/thesis/phd_dissertation/Chapters/BoGraphEval/figures/rocksdb_turbo_iops.svg\", dpi= 300)\n",
    "\n"
   ],
   "id": "d4356407df60d755",
   "execution_count": 65,
   "outputs": []
  },
  {
   "cell_type": "code",
   "source": [
    "model_performance = model_comparison_data_c.model_performance\n",
    "model_performance.rename(columns = lambda x: re.sub(r\"^db_bench\\.\\w*\\.\", \"\", x), inplace = True)\n",
    "color_palette = viz.create_color_palette_df(\n",
    "    model_performance, [\"#9b59b6\", \"#3498db\", \"#95a5a6\", \"#e74c3c\", \"#34495e\", \"#2ecc71\"]\n",
    ")\n",
    "model_performance"
   ],
   "metadata": {
    "collapsed": false,
    "ExecuteTime": {
     "end_time": "2024-04-13T13:17:07.153764Z",
     "start_time": "2024-04-13T13:17:07.124064Z"
    }
   },
   "id": "1bb04247bfa277bd",
   "execution_count": 66,
   "outputs": []
  },
  {
   "cell_type": "code",
   "source": [
    "color_palette"
   ],
   "metadata": {
    "collapsed": false,
    "ExecuteTime": {
     "end_time": "2024-04-13T13:17:07.181278Z",
     "start_time": "2024-04-13T13:17:07.154591Z"
    }
   },
   "id": "fea68cff6c262d22",
   "execution_count": 67,
   "outputs": []
  },
  {
   "cell_type": "code",
   "source": [
    "viz.model_perf_plot(model_perf_df=model_performance,\n",
    "comparison_col='inference_time',\n",
    "ylabel=\"Auto-tuner wall-time in seconds\")\n",
    "\n"
   ],
   "metadata": {
    "collapsed": false,
    "ExecuteTime": {
     "end_time": "2024-04-13T13:17:07.346087Z",
     "start_time": "2024-04-13T13:17:07.182852Z"
    }
   },
   "id": "9eb19a9d3317e339",
   "execution_count": 68,
   "outputs": []
  },
  {
   "cell_type": "code",
   "source": [
    "model_performance['relative_time'] = model_performance['inference_time'] / perf_df['exe_time']\n",
    "viz.model_perf_plot(model_perf_df=model_performance,\n",
    "comparison_col='relative_time',\n",
    "ylabel=\"Wall-time relative to RocksDB in seconds\")\n"
   ],
   "metadata": {
    "collapsed": false,
    "ExecuteTime": {
     "end_time": "2024-04-13T13:17:07.503340Z",
     "start_time": "2024-04-13T13:17:07.347113Z"
    }
   },
   "id": "664658006d0de9e3",
   "execution_count": 69,
   "outputs": []
  },
  {
   "cell_type": "code",
   "source": [
    "viz.model_perf_plot(model_perf_df=perf_df,\n",
    "comparison_col='exe_time',\n",
    "ylabel=\"RocksDB execution time\")\n",
    "\n"
   ],
   "metadata": {
    "collapsed": false,
    "ExecuteTime": {
     "end_time": "2024-04-13T13:17:07.658976Z",
     "start_time": "2024-04-13T13:17:07.505542Z"
    }
   },
   "id": "a777daf2e0daa4b3",
   "execution_count": 70,
   "outputs": []
  },
  {
   "cell_type": "code",
   "source": [
    "iops_box = viz.roi_boxplot(\n",
    "    df = perf_df,\n",
    "    optimization_type = viz.OptimizationType.MAXIMIZE,\n",
    "    ylabel = \"IOPS\",\n",
    "    model_baseline = \"Default\",\n",
    "    comparison_col = main_target,\n",
    "    model_palette_map = color_palette,\n",
    "    fig_size = (4, 3)\n",
    ")\n",
    "iops_box"
   ],
   "metadata": {
    "collapsed": false,
    "ExecuteTime": {
     "end_time": "2024-04-13T13:17:08.010552Z",
     "start_time": "2024-04-13T13:17:07.659776Z"
    }
   },
   "id": "5ae8ee1f19e07df5",
   "execution_count": 71,
   "outputs": []
  },
  {
   "metadata": {},
   "cell_type": "code",
   "execution_count": null,
   "source": [
    "\n",
    "convergence_df = perf_df.copy()\n",
    "convergence_df[\"rolling\"] = (\n",
    "    convergence_df[[main_target, \"model\", \"iteration\"]]\n",
    "    .groupby([\"model\", \"iteration\"])\n",
    "    [main_target]\n",
    "    .agg(f\"cum{str(viz.OptimizationType.MAXIMIZE)}\")\n",
    ")\n"
   ],
   "id": "a5dd347f4d0ab4c5",
   "outputs": []
  },
  {
   "cell_type": "code",
   "source": [
    "\n",
    "fig = viz.convergence_lineplot(\n",
    "    df=convergence_df,\n",
    "    optimization_type=viz.OptimizationType.MAXIMIZE,\n",
    "    ylabel=main_target,\n",
    "    column_name=\"rolling\",\n",
    "    model_palette_map=color_palette,\n",
    "    fig_size=(9, 5),\n",
    "    horizontal_line=\"Default\",\n",
    "    xlim = [10, 101]\n",
    ")\n",
    "fig"
   ],
   "metadata": {
    "collapsed": false,
    "ExecuteTime": {
     "end_time": "2024-04-13T13:35:40.008561Z",
     "start_time": "2024-04-13T13:35:34.477163Z"
    }
   },
   "id": "eb1294e93aca4693",
   "execution_count": 79,
   "outputs": []
  },
  {
   "metadata": {
    "ExecuteTime": {
     "end_time": "2024-04-13T13:35:49.251486Z",
     "start_time": "2024-04-13T13:35:49.111639Z"
    }
   },
   "cell_type": "code",
   "source": [
    "fig.savefig(\"/Users/salabed/workspace/latex_writings/thesis/phd_dissertation/Chapters/BoGraphEval/figures/rocksdb_turbo_iops_conv.pdf\", dpi= 300)\n",
    "fig.savefig(\"/Users/salabed/workspace/latex_writings/thesis/phd_dissertation/Chapters/BoGraphEval/figures/rocksdb_turbo_iops_conv.svg\", dpi= 300)\n",
    "\n"
   ],
   "id": "a905a0e4de638a0d",
   "execution_count": 81,
   "outputs": []
  },
  {
   "cell_type": "code",
   "source": [
    "convergence_df[main_target]"
   ],
   "metadata": {
    "collapsed": false,
    "ExecuteTime": {
     "end_time": "2024-04-13T13:17:13.589081Z",
     "start_time": "2024-04-13T13:17:13.562570Z"
    }
   },
   "id": "f9109e74c257b3e7",
   "execution_count": 74,
   "outputs": []
  },
  {
   "cell_type": "code",
   "source": [],
   "metadata": {
    "collapsed": false,
    "ExecuteTime": {
     "end_time": "2024-04-13T13:17:13.592447Z",
     "start_time": "2024-04-13T13:17:13.590470Z"
    }
   },
   "id": "e9765eed1cdb660",
   "execution_count": 74,
   "outputs": []
  },
  {
   "metadata": {},
   "cell_type": "code",
   "execution_count": null,
   "source": "",
   "id": "781dee18d20239ff",
   "outputs": []
  }
 ],
 "metadata": {
  "kernelspec": {
   "display_name": "Python 3",
   "language": "python",
   "name": "python3"
  },
  "language_info": {
   "codemirror_mode": {
    "name": "ipython",
    "version": 2
   },
   "file_extension": ".py",
   "mimetype": "text/x-python",
   "name": "python",
   "nbconvert_exporter": "python",
   "pygments_lexer": "ipython2",
   "version": "2.7.6"
  }
 },
 "nbformat": 4,
 "nbformat_minor": 5
}
