{
 "cells": [
  {
   "cell_type": "code",
   "execution_count": 1,
   "source": [
    "%matplotlib inline\n",
    "%load_ext autoreload\n",
    "%autoreload 2"
   ],
   "metadata": {
    "collapsed": false,
    "pycharm": {
     "name": "#%%\n"
    }
   },
   "outputs": []
  },
  {
   "cell_type": "code",
   "execution_count": 2,
   "source": [
    "# Check dependencies exist before doing all the work\n",
    "import networkx as nx\n",
    "import causalnex\n",
    "from causalnex.plots import plot_structure\n",
    "from causalnex.structure import StructureModel\n",
    "\n",
    "# Make sure to have graphviz installed and pygraphviz:\n",
    "# brew install graphviz\n",
    "# sudo apt-get install graphviz graphviz-dev\n",
    "# pip install graphviz\n",
    "# pip install pygraphviz\n",
    "plot_structure(StructureModel())\n",
    "print(causalnex.__version__)"
   ],
   "metadata": {
    "collapsed": false,
    "pycharm": {
     "name": "#%%\n"
    }
   },
   "outputs": []
  },
  {
   "cell_type": "code",
   "execution_count": null,
   "source": [
    "\n"
   ],
   "metadata": {
    "collapsed": false,
    "pycharm": {
     "name": "#%%\n"
    }
   },
   "outputs": []
  },
  {
   "cell_type": "code",
   "execution_count": 18,
   "source": [
    "\n",
    "\n",
    "import os\n",
    "os.environ[\"SYSTEM_MEMORY\"] =  \"16gb\"\n",
    "\n",
    "from autorocks.envs.postgres.schema import PostgresParametersCollection10\n",
    "from autorocks.data.loader.all_models_result_aggregator import create_all_models_comparison_dataset\n",
    "from autorocks.dir_struct import PackageRootDir\n",
    "\n",
    "task_name = \"ycsb\"\n",
    "obj_name = \"latency_p99\"\n",
    "exp_dir = PackageRootDir / f\"ProcessedData/postgres/{obj_name}/{task_name}/10_params/100_iter\"\n",
    "model_comparison_data = create_all_models_comparison_dataset(exp_dir)\n",
    "\n",
    "param_space = PostgresParametersCollection10()\n",
    "param_names = set([p.name for p in param_space.parameters()])\n",
    "main_targets = [\"bench_res.latency_p99\"]\n",
    "\n",
    "from dataclasses import fields\n",
    "from autorocks.envs.postgres.benchmarks.benchbase import BenchbaseResult\n",
    "benchmark_results = {f\"bench_res.{f.name}\" for f in fields(BenchbaseResult)}\n",
    "# # to latex\n",
    "# import pandas as pd\n",
    "#\n",
    "# pd.DataFrame(param_space.to_latex(),\n",
    "#              columns=['name', 'lower bound', 'upper bound']).to_csv('input_params.csv')"
   ],
   "metadata": {
    "collapsed": false,
    "pycharm": {
     "name": "#%%\n"
    }
   },
   "outputs": []
  },
  {
   "cell_type": "code",
   "execution_count": 19,
   "source": [
    "model_comparison_data.sys_observations"
   ],
   "metadata": {
    "collapsed": false,
    "pycharm": {
     "name": "#%%\n"
    }
   },
   "outputs": []
  },
  {
   "cell_type": "code",
   "execution_count": 23,
   "source": [
    "# Combine all models data and flatten the structure\n",
    "system_pref = model_comparison_data.sys_observations[main_targets].copy()\n",
    "params_df = model_comparison_data.sys_params\n",
    "extra_perf = model_comparison_data.sys_observations[set(model_comparison_data.sys_observations.columns) - benchmark_results].copy()\n",
    "\n",
    "system_pref = system_pref.reset_index(drop=True)\n",
    "params_df = params_df.drop(columns=[\"model\", \"iteration\", \"step\"]).reset_index(drop=True)\n",
    "extra_perf = extra_perf.drop(columns=[\"model\", \"iteration\", \"step\"]).fillna(0).reset_index(drop=True)"
   ],
   "metadata": {
    "collapsed": false,
    "pycharm": {
     "name": "#%%\n"
    }
   },
   "outputs": []
  },
  {
   "cell_type": "code",
   "execution_count": 27,
   "source": [
    "extra_perf"
   ],
   "metadata": {
    "collapsed": false,
    "pycharm": {
     "name": "#%%\n"
    }
   },
   "outputs": []
  },
  {
   "cell_type": "markdown",
   "source": [
    "# Preprocessing steps"
   ],
   "metadata": {
    "collapsed": false,
    "pycharm": {
     "name": "#%% md\n"
    }
   }
  },
  {
   "cell_type": "code",
   "execution_count": 28,
   "source": [
    "from autorocks.optimizer.bograph.preprocessor.standardizer import MetricsStandardizerProcessor\n",
    "from autorocks.optimizer.bograph.preprocessor.normalizer import ParamNormalizerProcessor\n",
    "from autorocks.optimizer.bograph.preprocessor.variance_threshold import VarianceThresholdPreprocessor\n",
    "from autorocks.optimizer.bograph.dag_preprocessor import PreprocessingPipeline\n",
    "from autorocks.optimizer.bograph.bograph_dao import BoGraphDataPandas\n",
    "\n",
    "\n",
    "data = BoGraphDataPandas(params=params_df.copy(), objs=system_pref.copy(), intermediate=extra_perf.copy())\n",
    "\n",
    "dp = PreprocessingPipeline(\n",
    "    preprocessors=[\n",
    "        VarianceThresholdPreprocessor({}),\n",
    "        ParamNormalizerProcessor(param_space.bounds(True).T),\n",
    "        MetricsStandardizerProcessor(),\n",
    "    ]\n",
    ")\n",
    "processed_data = dp.fit_transform(data)\n",
    "\n",
    "processed_data"
   ],
   "metadata": {
    "collapsed": false,
    "pycharm": {
     "name": "#%%\n"
    }
   },
   "outputs": []
  },
  {
   "cell_type": "markdown",
   "source": [
    "# Structure between main objectives"
   ],
   "metadata": {
    "collapsed": false,
    "pycharm": {
     "name": "#%% md\n"
    }
   }
  },
  {
   "cell_type": "code",
   "execution_count": 30,
   "source": [
    "processed_data_df"
   ],
   "metadata": {
    "collapsed": false,
    "pycharm": {
     "name": "#%%\n"
    }
   },
   "outputs": []
  },
  {
   "cell_type": "code",
   "execution_count": 29,
   "source": [
    "processed_data_df = processed_data.to_combi_pandas()"
   ],
   "metadata": {
    "collapsed": false,
    "pycharm": {
     "name": "#%%\n"
    }
   },
   "outputs": []
  },
  {
   "cell_type": "code",
   "execution_count": 64,
   "source": [
    "from causalnex.structure.pytorch import from_pandas\n",
    "import torch\n",
    "\n",
    "torch.set_default_tensor_type(torch.cuda.FloatTensor)\n",
    "torch.set_default_dtype(torch.float32)\n",
    "sm = from_pandas(\n",
    "    processed_data_df,\n",
    "    w_threshold=0.1,\n",
    "    tabu_parent_nodes=main_targets,\n",
    "    tabu_child_nodes=param_names,\n",
    ")\n",
    "print(\"Done\")\n",
    "\n",
    "\n"
   ],
   "metadata": {
    "collapsed": false,
    "pycharm": {
     "name": "#%%\n"
    }
   },
   "outputs": []
  },
  {
   "cell_type": "markdown",
   "source": [
    "# Using gcastle"
   ],
   "metadata": {
    "collapsed": false,
    "pycharm": {
     "name": "#%% md\n"
    }
   }
  },
  {
   "cell_type": "code",
   "execution_count": 87,
   "source": [
    "from castle.algorithms import  GOLEM\n",
    "\n",
    "model = GOLEM(device_type=\"gpu\", num_iter=10000)\n",
    "\n",
    "combi_pandas = processed_data.to_combi_pandas()\n",
    "model.learn(combi_pandas.values, columns=combi_pandas.columns)\n",
    "import pandas as pd\n",
    "G = nx.from_pandas_adjacency(\n",
    "    pd.DataFrame(\n",
    "        model.causal_matrix,\n",
    "        index=model.causal_matrix.columns,\n",
    "        columns=model.causal_matrix.columns,\n",
    "    )\n",
    ")\n",
    "\n",
    "print(\"Done\")"
   ],
   "metadata": {
    "collapsed": false,
    "pycharm": {
     "name": "#%%\n"
    }
   },
   "outputs": []
  },
  {
   "cell_type": "code",
   "execution_count": 99,
   "source": [
    "from autorocks.viz.causal_util import plot_struct_customized\n",
    "from autorocks.viz import causal_util\n",
    "\n",
    "G = causal_util.post_process_graph(G, sources=param_names, sinks=main_targets)\n",
    "viz = plot_struct_customized(G, \"Test\", param_nodes=param_names, sink_nodes=main_targets)\n",
    "\n",
    "from IPython.display import Image\n",
    "\n",
    "Image(viz.draw(format=\"png\"))\n",
    "\n"
   ],
   "metadata": {
    "collapsed": false,
    "pycharm": {
     "name": "#%%\n"
    }
   },
   "outputs": []
  },
  {
   "cell_type": "markdown",
   "source": [
    "# CAusalnex"
   ],
   "metadata": {
    "collapsed": false,
    "pycharm": {
     "name": "#%% md\n"
    }
   }
  },
  {
   "cell_type": "code",
   "execution_count": 84,
   "source": [
    "from autorocks.viz import causal_util\n",
    "\n",
    "smaller_sm = sm.copy()\n",
    "smaller_sm.remove_edges_below_threshold(0.1)\n",
    "smaller_sm = smaller_sm.get_largest_subgraph()\n",
    "G = causal_util.post_process_graph(smaller_sm, sources=param_names, sinks=main_targets)\n",
    "viz = plot_struct_customized(\n",
    "    G, graph_name=f\"Structure for Postgres\", param_nodes=param_names, sink_nodes=main_targets\n",
    ")\n",
    "Image(viz.draw(format=\"png\"))\n"
   ],
   "metadata": {
    "collapsed": false,
    "pycharm": {
     "name": "#%%\n"
    }
   },
   "outputs": []
  },
  {
   "cell_type": "code",
   "execution_count": 100,
   "source": [
    "nx.write_edgelist(G, \"postgres.edgelist.gcastle\")"
   ],
   "metadata": {
    "collapsed": false,
    "pycharm": {
     "name": "#%%\n"
    }
   },
   "outputs": []
  }
 ],
 "metadata": {
  "kernelspec": {
   "display_name": "Python 3",
   "language": "python",
   "name": "python3"
  },
  "language_info": {
   "codemirror_mode": {
    "name": "ipython",
    "version": 2
   },
   "file_extension": ".py",
   "mimetype": "text/x-python",
   "name": "python",
   "nbconvert_exporter": "python",
   "pygments_lexer": "ipython2",
   "version": "2.7.6"
  }
 },
 "nbformat": 4,
 "nbformat_minor": 0
}
