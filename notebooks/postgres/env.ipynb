{
 "cells": [
  {
   "cell_type": "code",
   "execution_count": 36,
   "metadata": {
    "collapsed": true,
    "pycharm": {
     "name": "#%%\n"
    }
   },
   "source": [
    "%matplotlib inline\n",
    "%load_ext autoreload\n",
    "%autoreload 2"
   ],
   "outputs": []
  },
  {
   "cell_type": "code",
   "execution_count": 37,
   "source": [
    "postgres_details = {\n",
    "    \"database\": \"benchbase\",\n",
    "    \"user\": \"admin\",\n",
    "    \"password\": \"password\",\n",
    "    \"host\": \"localhost\",  # \"20.232.173.241\",\n",
    "    \"port\": 5432,\n",
    "}"
   ],
   "metadata": {
    "collapsed": false,
    "pycharm": {
     "name": "#%%\n"
    }
   },
   "outputs": []
  },
  {
   "cell_type": "markdown",
   "source": [
    "# Retrieving metrics"
   ],
   "metadata": {
    "collapsed": false,
    "pycharm": {
     "name": "#%% md\n"
    }
   }
  },
  {
   "cell_type": "code",
   "execution_count": 38,
   "source": [
    "from dataclasses import fields\n",
    "from autorocks.envs.postgres.metrics.bgwriter import PGStatBGWriter\n",
    "import psycopg2\n",
    "import psycopg2.extras\n",
    "\n",
    "# connect to the db\n",
    "from autorocks.envs.postgres.metrics.bgwriter import PGStatBGWriter\n",
    "from autorocks.envs.postgres.metrics.database import PGStatDatabase\n",
    "from autorocks.envs.postgres.metrics.dbconf import DatabaseConflicts\n",
    "from autorocks.envs.postgres.metrics.statio_index import StatIOIndex\n",
    "from autorocks.envs.postgres.metrics.statio_table import StatIOTable\n",
    "\n",
    "connection = psycopg2.connect(**postgres_details)\n",
    "\n",
    "cursor = connection.cursor(cursor_factory=psycopg2.extras.RealDictCursor)\n",
    "\n",
    "sql_context = f\"\"\"\n",
    "SELECT * FROM pg_stat_database\n",
    "\"\"\"\n",
    "cursor.execute(sql_context)\n",
    "\n",
    "# Fetch all rows from database\n",
    "record = cursor.fetchall()\n",
    "import pandas as pd\n",
    "\n",
    "pd.DataFrame(record)"
   ],
   "metadata": {
    "collapsed": false,
    "pycharm": {
     "name": "#%%\n"
    }
   },
   "outputs": []
  },
  {
   "cell_type": "code",
   "execution_count": 179,
   "source": [
    "from dataclasses import fields\n",
    "from autorocks.envs.postgres.metrics.bgwriter import PGStatBGWriter\n",
    "import psycopg2\n",
    "import psycopg2.extras\n",
    "\n",
    "# connect to the db\n",
    "from autorocks.envs.postgres.metrics.bgwriter import PGStatBGWriter\n",
    "from autorocks.envs.postgres.metrics.database import PGStatDatabase\n",
    "from autorocks.envs.postgres.metrics.dbconf import DatabaseConflicts\n",
    "from autorocks.envs.postgres.metrics.statio_index import StatIOIndex\n",
    "from autorocks.envs.postgres.metrics.statio_table import StatIOTable\n",
    "from autorocks.envs.postgres.metrics.archiver import PGStatArchiver\n",
    "from autorocks.envs.postgres.metrics.wal import PGStatWAL\n",
    "\n",
    "METRICS_VIEWS = [\n",
    "    # One per row\n",
    "    PGStatArchiver,\n",
    "    PGStatWAL,\n",
    "    PGStatBGWriter,\n",
    "    # requires filtering on database\n",
    "    DatabaseConflicts,\n",
    "    PGStatDatabase,\n",
    "    # requires summing over\n",
    "    StatIOIndex,\n",
    "    StatIOTable,\n",
    "]\n",
    "\n",
    "database_name = \"benchbase\"\n",
    "connection = psycopg2.connect(database=database_name, user=\"admin\", password=\"password\", host=\"localhost\", port=5432)\n",
    "cursor = connection.cursor(cursor_factory=psycopg2.extras.RealDictCursor)\n",
    "for metric in METRICS_VIEWS:\n",
    "    # print(metric._view_name())\n",
    "    sql_query = f\"{metric.select_query()} {metric.from_query()} {metric.filter_query(database_name = database_name)}\"\n",
    "    cursor.execute(sql_query)\n",
    "    # fetch one - the queries are designed to report one statistic anyway.\n",
    "    record = cursor.fetchone()\n",
    "    print(metric(**record))"
   ],
   "metadata": {
    "collapsed": false,
    "pycharm": {
     "name": "#%%\n"
    }
   },
   "outputs": []
  },
  {
   "cell_type": "code",
   "execution_count": null,
   "source": [
    "# print(\"Data from Database:- \", record)"
   ],
   "metadata": {
    "collapsed": false,
    "pycharm": {
     "name": "#%%\n"
    }
   },
   "outputs": []
  },
  {
   "cell_type": "code",
   "execution_count": null,
   "source": [],
   "metadata": {
    "collapsed": false,
    "pycharm": {
     "name": "#%%\n"
    }
   },
   "outputs": []
  },
  {
   "cell_type": "code",
   "execution_count": 26,
   "source": [
    "import pandas as pd\n",
    "\n",
    "pd.DataFrame(record)"
   ],
   "metadata": {
    "collapsed": false,
    "pycharm": {
     "name": "#%%\n"
    }
   },
   "outputs": []
  },
  {
   "cell_type": "markdown",
   "source": [
    "## Setting Parameters"
   ],
   "metadata": {
    "collapsed": false,
    "pycharm": {
     "name": "#%% md\n"
    }
   }
  },
  {
   "cell_type": "code",
   "execution_count": null,
   "source": [],
   "metadata": {
    "collapsed": false,
    "pycharm": {
     "name": "#%%\n"
    }
   },
   "outputs": []
  },
  {
   "cell_type": "code",
   "execution_count": 4,
   "source": [
    "cursor = connection.cursor(cursor_factory=psycopg2.extras.RealDictCursor)\n",
    "\n",
    "sql_context = \"\"\"\n",
    "select\n",
    "    *\n",
    "from\n",
    "    pg_settings\n",
    "\"\"\"\n",
    "\n",
    "\n",
    "cursor.execute(sql_context)\n",
    "\n",
    "record = cursor.fetchall()\n",
    "\n",
    "pd.DataFrame(record)"
   ],
   "metadata": {
    "collapsed": false,
    "pycharm": {
     "name": "#%%\n"
    }
   },
   "outputs": []
  },
  {
   "cell_type": "code",
   "execution_count": 32,
   "source": [
    "pd.DataFrame(record).set_index(\"name\").T[\"shared_buffers\"]\n",
    "## TODO: this can be useful since we have the min, max, and vartype"
   ],
   "metadata": {
    "collapsed": false,
    "pycharm": {
     "name": "#%%\n"
    }
   },
   "outputs": []
  },
  {
   "cell_type": "code",
   "execution_count": 114,
   "source": [
    "# Setting values\n",
    "try:\n",
    "    conn = psycopg2.connect(database=\"postgres\", user=\"admin\", password=\"password\", host=\"localhost\", port=5432)\n",
    "    conn.set_session(autocommit=True)\n",
    "    with conn.cursor() as cursor:\n",
    "        for p in [\"shared_buffers = DEFAULT\", \"wal_level = DEFAULT\"]:\n",
    "            cursor.execute(f\"ALTER SYSTEM SET {p};\")\n",
    "    conn.commit()\n",
    "finally:\n",
    "    if conn:\n",
    "        conn.close()\n",
    "# issue restart command\n",
    "\n",
    "\n",
    "# TODO: if developing locally use docker, if using a cloud host, ssh + issue ps_ctl\n",
    "# https://manpages.ubuntu.com/manpages/trusty/man1/pg_ctl.1.html\n",
    "\n",
    "import docker\n",
    "\n",
    "docker_cli = docker.from_env()\n",
    "cont = docker_cli.containers.get(\"postgres\")\n",
    "cont.restart()"
   ],
   "metadata": {
    "collapsed": false,
    "pycharm": {
     "name": "#%%\n"
    }
   },
   "outputs": []
  },
  {
   "cell_type": "code",
   "execution_count": 39,
   "source": [
    "from autorocks.envs.postgres.schema.ottertune_best import ottertune_best_result\n",
    "\n",
    "\n",
    "query_search = \" OR \".join([f\"name =  '{k}'\" for k in ottertune_best_result.keys()])\n",
    "\n",
    "query_search"
   ],
   "metadata": {
    "collapsed": false,
    "pycharm": {
     "name": "#%%\n"
    }
   },
   "outputs": []
  },
  {
   "cell_type": "code",
   "execution_count": 70,
   "source": [
    "extra_tracking_params = {\n",
    "    \"track_counts\": \"on\",\n",
    "    \"track_functions\": \"all\",\n",
    "    \"track_io_timing\": \"on\",\n",
    "    \"track_wal_io_timing\": \"on\",\n",
    "    \"autovacuum\": \"off\",\n",
    "}\n",
    "\n",
    "query_search_tracker = \" OR \".join([f\"name =  '{k}'\" for k in extra_tracking_params.keys()])"
   ],
   "metadata": {
    "collapsed": false,
    "pycharm": {
     "name": "#%%\n"
    }
   },
   "outputs": []
  },
  {
   "cell_type": "code",
   "execution_count": 40,
   "source": [
    "try:\n",
    "    with psycopg2.connect(**postgres_details) as conn:\n",
    "        cursor = conn.cursor(cursor_factory=psycopg2.extras.RealDictCursor)\n",
    "        sql_context = f\"\"\"\n",
    "        select\n",
    "            name, setting, max_val, min_val\n",
    "        from\n",
    "            pg_settings\n",
    "        where {query_search}\n",
    "        \"\"\"\n",
    "        cursor.execute(sql_context)\n",
    "\n",
    "        record = cursor.fetchall()\n",
    "finally:\n",
    "    if conn:\n",
    "        conn.close()\n",
    "pd.DataFrame(record)"
   ],
   "metadata": {
    "collapsed": false,
    "pycharm": {
     "name": "#%%\n"
    }
   },
   "outputs": []
  },
  {
   "cell_type": "code",
   "execution_count": 21,
   "source": [
    "ottertune_best_result"
   ],
   "metadata": {
    "collapsed": false,
    "pycharm": {
     "name": "#%%\n"
    }
   },
   "outputs": []
  },
  {
   "cell_type": "code",
   "execution_count": 43,
   "source": [
    "import autorocks.utils.converters as conv\n",
    "\n",
    "conv.short_size_to_bytes(\"10gb\")"
   ],
   "metadata": {
    "collapsed": false,
    "pycharm": {
     "name": "#%%\n"
    }
   },
   "outputs": []
  },
  {
   "cell_type": "code",
   "execution_count": 23,
   "source": [],
   "metadata": {
    "collapsed": false,
    "pycharm": {
     "name": "#%%\n"
    }
   },
   "outputs": []
  }
 ],
 "metadata": {
  "kernelspec": {
   "display_name": "Python 3",
   "language": "python",
   "name": "python3"
  },
  "language_info": {
   "codemirror_mode": {
    "name": "ipython",
    "version": 2
   },
   "file_extension": ".py",
   "mimetype": "text/x-python",
   "name": "python",
   "nbconvert_exporter": "python",
   "pygments_lexer": "ipython2",
   "version": "2.7.6"
  }
 },
 "nbformat": 4,
 "nbformat_minor": 0
}
