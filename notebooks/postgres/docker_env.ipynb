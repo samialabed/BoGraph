{
 "cells": [
  {
   "cell_type": "code",
   "execution_count": 1,
   "source": [
    "%matplotlib inline\n",
    "%load_ext autoreload\n",
    "%autoreload 2"
   ],
   "metadata": {
    "collapsed": false,
    "pycharm": {
     "name": "#%%\n"
    }
   },
   "outputs": []
  },
  {
   "cell_type": "code",
   "execution_count": 2,
   "source": [
    "import docker\n",
    "from docker.errors import NotFound\n",
    "from docker.models.containers import Container\n",
    "from docker.types import Mount\n",
    "\n",
    "client = docker.from_env()\n",
    "\n",
    "container_name = \"postgres\"\n",
    "\n",
    "# First check if volume exist first if not, create it and run build commands\n",
    "try:\n",
    "    gem5_container = client.containers.get(container_name)\n",
    "    gem5_container.kill()\n",
    "except NotFound as e:\n",
    "    pass\n",
    "except Exception as e:\n",
    "    print(f\"Could not check docker for container name: {container_name} due to: {e}\")"
   ],
   "metadata": {
    "collapsed": false,
    "pycharm": {
     "name": "#%%\n"
    }
   },
   "outputs": []
  },
  {
   "cell_type": "code",
   "execution_count": null,
   "source": [
    "from autorocks.envs.postgres.default_settings import docker_launcher_default\n",
    "from dataclasses import asdict\n",
    "\n",
    "# Now run the docker instance\n",
    "\n",
    "cfgs = docker_launcher_default()\n",
    "cfgs.env_var.asdict()"
   ],
   "metadata": {
    "collapsed": false,
    "pycharm": {
     "name": "#%%\n"
    }
   },
   "outputs": []
  },
  {
   "cell_type": "code",
   "execution_count": null,
   "source": [
    "from autorocks.envs.postgres.schema.ottertune_best import OTTERTUNE_BEST_RESULT\n",
    "\n",
    "\n",
    "def dict_to_cmd(d: dict):\n",
    "    return \" \".join([f\"-c {k}={v}\" for (k, v) in d.items()])\n",
    "\n",
    "\n",
    "override = dict_to_cmd(ottertune_besOTTERTUNE_BEST_RESULTt_result)\n",
    "\n",
    "override"
   ],
   "metadata": {
    "collapsed": false,
    "pycharm": {
     "name": "#%%\n"
    }
   },
   "outputs": []
  },
  {
   "cell_type": "code",
   "execution_count": null,
   "source": [
    "from autorocks.envs.postgres.env_params import PostgresParams\n",
    "from autorocks.envs.postgres.schema.v1 import PostgresParametersCollection10\n",
    "\n",
    "params = \" \".join(PostgresParams(PostgresParametersCollection10()).as_sys())\n",
    "\n",
    "container = client.containers.run(\n",
    "    name=cfgs.container_name,\n",
    "    hostname=cfgs.hostname,\n",
    "    image=cfgs.image,\n",
    "    command=f\"postgres -N 500 {params}\",\n",
    "    environment=asdict(cfgs.env_var),\n",
    "    ports=cfgs.ports,\n",
    "    detach=True,\n",
    "    tty=True,\n",
    "    remove=True,\n",
    ")"
   ],
   "metadata": {
    "collapsed": false,
    "pycharm": {
     "name": "#%%\n"
    }
   },
   "outputs": []
  },
  {
   "cell_type": "code",
   "execution_count": null,
   "source": [
    "from autorocks.envs.postgres.launcher.launcher_cfgs import PostgresEnvVar\n",
    "from autorocks.envs.postgres.launcher.docker.docker_cfgs import DockerizedPostgresSettings\n",
    "from dataclasses import asdict\n",
    "\n",
    "# Now run the docker instance\n",
    "\n",
    "cfgs = docker_launcher_default()\n",
    "asdict(cfgs.env_var)"
   ],
   "metadata": {
    "collapsed": false,
    "pycharm": {
     "name": "#%%\n"
    }
   },
   "outputs": []
  },
  {
   "cell_type": "code",
   "execution_count": null,
   "source": [
    "test = {\"5432\": \"5432\"}\n",
    "\n",
    "test"
   ],
   "metadata": {
    "collapsed": false,
    "pycharm": {
     "name": "#%%\n"
    }
   },
   "outputs": []
  },
  {
   "cell_type": "code",
   "execution_count": null,
   "source": [
    "container.kill()"
   ],
   "metadata": {
    "collapsed": false,
    "pycharm": {
     "name": "#%%\n"
    }
   },
   "outputs": []
  },
  {
   "cell_type": "code",
   "execution_count": 20,
   "source": [
    "from autorocks.envs.postgres.env_params import PostgresParams\n",
    "from autorocks.envs.postgres.schema.v1 import PostgresParametersCollection10\n",
    "\n",
    "params = PostgresParams(PostgresParametersCollection10())\n",
    "\n",
    "params.update(\n",
    "    **{\n",
    "        \"shared_buffers\": 742770355,\n",
    "    }\n",
    ")\n",
    "# \"max_wal_size\": 1974699276.0, \"effective_cache_size\": 1503486478.0, \"bgwriter_lru_maxpages\": 65675633.0, \"bgwriter_delay\": 9997.0, \"checkpoint_completion_target\": 0.834105423539102, \"deadlock_timeout\": 1311207455.0, \"default_statistics_target\": 981.0, \"effective_io_concurrency\": 568.0, \"checkpoint_timeout\": 7532.0})"
   ],
   "metadata": {
    "collapsed": false,
    "pycharm": {
     "name": "#%%\n"
    }
   },
   "outputs": []
  },
  {
   "cell_type": "code",
   "execution_count": 4,
   "source": [
    "from autorocks.envs.postgres.launcher.docker.docker_env import DockerizedPostgres\n",
    "\n",
    "with DockerizedPostgres(params=params) as e:\n",
    "    print(e)\n",
    "    print(e.params)"
   ],
   "metadata": {
    "collapsed": false,
    "pycharm": {
     "name": "#%%\n"
    }
   },
   "outputs": []
  },
  {
   "cell_type": "code",
   "execution_count": 47,
   "source": [
    "env = DockerizedPostgres(params=params)\n",
    "env.start()\n",
    "env"
   ],
   "metadata": {
    "collapsed": false,
    "pycharm": {
     "name": "#%%\n"
    }
   },
   "outputs": []
  },
  {
   "cell_type": "code",
   "execution_count": 52,
   "source": [
    "env.postgres_container.status"
   ],
   "metadata": {
    "collapsed": false,
    "pycharm": {
     "name": "#%%\n"
    }
   },
   "outputs": []
  },
  {
   "cell_type": "code",
   "execution_count": 46,
   "source": [
    "env.postgres_container.remove()"
   ],
   "metadata": {
    "collapsed": false,
    "pycharm": {
     "name": "#%%\n"
    }
   },
   "outputs": []
  },
  {
   "cell_type": "code",
   "execution_count": null,
   "source": [
    "\"java -jar benchbase.jar {benchmark_cfg.as_cmd()}\""
   ],
   "metadata": {
    "collapsed": false,
    "pycharm": {
     "name": "#%%\n"
    }
   },
   "outputs": []
  },
  {
   "cell_type": "code",
   "execution_count": 6,
   "source": [
    "from autorocks.envs.postgres.benchmarks.benchbase.benchbase import BenchbaseCFG, BenchmarkClass\n",
    "\n",
    "\n",
    "benchmark_cfg = BenchbaseCFG(\n",
    "    bench=BenchmarkClass.NOOP, name=\"noop\", execute=True, load=True, create=True, scale_factor=1\n",
    ")\n",
    "\n",
    "res = Benchbase(benchmark_cfg).evaluate(env)\n",
    "\n",
    "res"
   ],
   "metadata": {
    "collapsed": false,
    "pycharm": {
     "name": "#%%\n"
    }
   },
   "outputs": []
  },
  {
   "cell_type": "code",
   "execution_count": null,
   "source": [],
   "metadata": {
    "collapsed": false,
    "pycharm": {
     "name": "#%%\n"
    }
   },
   "outputs": []
  }
 ],
 "metadata": {
  "kernelspec": {
   "display_name": "Python 3",
   "language": "python",
   "name": "python3"
  },
  "language_info": {
   "codemirror_mode": {
    "name": "ipython",
    "version": 2
   },
   "file_extension": ".py",
   "mimetype": "text/x-python",
   "name": "python",
   "nbconvert_exporter": "python",
   "pygments_lexer": "ipython2",
   "version": "2.7.6"
  }
 },
 "nbformat": 4,
 "nbformat_minor": 0
}
