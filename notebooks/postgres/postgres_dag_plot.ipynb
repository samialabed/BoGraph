{
 "cells": [
  {
   "cell_type": "code",
   "id": "initial_id",
   "metadata": {
    "collapsed": true,
    "ExecuteTime": {
     "end_time": "2024-08-04T14:56:28.752261Z",
     "start_time": "2024-08-04T14:56:28.006414Z"
    }
   },
   "source": [
    "import matplotlib.pyplot as plt\n",
    "%matplotlib inline\n",
    "%load_ext autoreload\n",
    "%autoreload 2\n",
    "\n",
    "\n",
    "import os\n",
    "\n",
    "os.environ[\"SYSTEM_MEMORY\"] = \"16gb\""
   ],
   "outputs": [],
   "execution_count": 2
  },
  {
   "metadata": {
    "ExecuteTime": {
     "end_time": "2024-08-04T15:14:30.278975Z",
     "start_time": "2024-08-04T15:14:29.957185Z"
    }
   },
   "cell_type": "code",
   "source": [
    "import networkx as nx\n",
    "from IPython.core.display import SVG, display\n",
    "\n",
    "\n",
    "from networkx.drawing.nx_agraph import graphviz_layout\n",
    "\n",
    "\n",
    "\n",
    "\n",
    "def draw(graph, path = None):\n",
    "\n",
    "    fmt = \"svg\"\n",
    "    if path is not None:\n",
    "        if path.endswith(\".svg\"):\n",
    "            fmt = \"svg\"\n",
    "        elif path.endswith(\".pdf\"):\n",
    "            fmt = \"pdf\"\n",
    "        else:\n",
    "            print(\"Unrecognized file extension\", path.split(\".\")[-1])\n",
    "    svg = nx.nx_agraph.to_agraph(graph).draw(path = path, prog = \"dot\", format = fmt, args=\"-Gsize=10\")\n",
    "    if path is None:\n",
    "        display(SVG(svg))\n",
    "\n",
    "G = nx.read_edgelist(\"postgres.edgelist\", create_using=nx.DiGraph)\n",
    "# display(SVG(nx.nx_agraph.to_agraph(G).draw(prog = \"dot\", format='svg', args=\"-Gsize=10\")))\n",
    "\n",
    "\n",
    "draw(G)"
   ],
   "id": "49ab10828a4ef4ec",
   "outputs": [
    {
     "data": {
      "text/plain": [
       "<IPython.core.display.SVG object>"
      ],
      "image/svg+xml": "<svg xmlns=\"http://www.w3.org/2000/svg\" xmlns:xlink=\"http://www.w3.org/1999/xlink\" width=\"720pt\" height=\"90pt\" viewBox=\"0.00 0.00 720.00 89.87\">\n<g id=\"graph0\" class=\"graph\" transform=\"scale(0.48 0.48) rotate(0) translate(4 184)\">\n<polygon fill=\"white\" stroke=\"transparent\" points=\"-4,4 -4,-184 1502.24,-184 1502.24,4 -4,4\"/>\n<!-- checkpoint_timeout -->\n<g id=\"node1\" class=\"node\">\n<title>checkpoint_timeout</title>\n<ellipse fill=\"none\" stroke=\"black\" cx=\"83.19\" cy=\"-162\" rx=\"83.39\" ry=\"18\"/>\n<text text-anchor=\"middle\" x=\"83.19\" y=\"-158.3\" font-family=\"Times,serif\" font-size=\"14.00\">checkpoint_timeout</text>\n</g>\n<!-- wal.rcrds -->\n<g id=\"node2\" class=\"node\">\n<title>wal.rcrds</title>\n<ellipse fill=\"none\" stroke=\"black\" cx=\"100.19\" cy=\"-90\" rx=\"44.39\" ry=\"18\"/>\n<text text-anchor=\"middle\" x=\"100.19\" y=\"-86.3\" font-family=\"Times,serif\" font-size=\"14.00\">wal.rcrds</text>\n</g>\n<!-- checkpoint_timeout&#45;&gt;wal.rcrds -->\n<g id=\"edge1\" class=\"edge\">\n<title>checkpoint_timeout-&gt;wal.rcrds</title>\n<path fill=\"none\" stroke=\"black\" d=\"M87.39,-143.7C89.29,-135.9 91.57,-126.51 93.68,-117.83\"/>\n<polygon fill=\"black\" stroke=\"black\" points=\"97.08,-118.65 96.04,-108.1 90.28,-117 97.08,-118.65\"/>\n</g>\n<!-- wal.byts -->\n<g id=\"node3\" class=\"node\">\n<title>wal.byts</title>\n<ellipse fill=\"none\" stroke=\"black\" cx=\"204.19\" cy=\"-90\" rx=\"41.69\" ry=\"18\"/>\n<text text-anchor=\"middle\" x=\"204.19\" y=\"-86.3\" font-family=\"Times,serif\" font-size=\"14.00\">wal.byts</text>\n</g>\n<!-- checkpoint_timeout&#45;&gt;wal.byts -->\n<g id=\"edge2\" class=\"edge\">\n<title>checkpoint_timeout-&gt;wal.byts</title>\n<path fill=\"none\" stroke=\"black\" d=\"M110.95,-144.94C128.94,-134.53 152.45,-120.93 171.37,-109.99\"/>\n<polygon fill=\"black\" stroke=\"black\" points=\"173.34,-112.89 180.24,-104.86 169.83,-106.84 173.34,-112.89\"/>\n</g>\n<!-- bgwriter.ckpt_timed -->\n<g id=\"node4\" class=\"node\">\n<title>bgwriter.ckpt_timed</title>\n<ellipse fill=\"none\" stroke=\"black\" cx=\"348.19\" cy=\"-90\" rx=\"84.49\" ry=\"18\"/>\n<text text-anchor=\"middle\" x=\"348.19\" y=\"-86.3\" font-family=\"Times,serif\" font-size=\"14.00\">bgwriter.ckpt_timed</text>\n</g>\n<!-- checkpoint_timeout&#45;&gt;bgwriter.ckpt_timed -->\n<g id=\"edge3\" class=\"edge\">\n<title>checkpoint_timeout-&gt;bgwriter.ckpt_timed</title>\n<path fill=\"none\" stroke=\"black\" d=\"M133.66,-147.67C177.45,-136.1 240.95,-119.33 287.5,-107.03\"/>\n<polygon fill=\"black\" stroke=\"black\" points=\"288.69,-110.34 297.46,-104.4 286.9,-103.57 288.69,-110.34\"/>\n</g>\n<!-- bgwriter.ckpt_req -->\n<g id=\"node5\" class=\"node\">\n<title>bgwriter.ckpt_req</title>\n<ellipse fill=\"none\" stroke=\"black\" cx=\"526.19\" cy=\"-90\" rx=\"75.29\" ry=\"18\"/>\n<text text-anchor=\"middle\" x=\"526.19\" y=\"-86.3\" font-family=\"Times,serif\" font-size=\"14.00\">bgwriter.ckpt_req</text>\n</g>\n<!-- checkpoint_timeout&#45;&gt;bgwriter.ckpt_req -->\n<g id=\"edge4\" class=\"edge\">\n<title>checkpoint_timeout-&gt;bgwriter.ckpt_req</title>\n<path fill=\"none\" stroke=\"black\" d=\"M143.5,-149.43C154.05,-147.53 164.93,-145.64 175.19,-144 292.99,-125.16 323.53,-127.71 441.19,-108 447.77,-106.9 454.63,-105.67 461.46,-104.39\"/>\n<polygon fill=\"black\" stroke=\"black\" points=\"462.25,-107.8 471.42,-102.48 460.94,-100.92 462.25,-107.8\"/>\n</g>\n<!-- latency -->\n<g id=\"node6\" class=\"node\">\n<title>latency</title>\n<ellipse fill=\"none\" stroke=\"black\" cx=\"756.19\" cy=\"-18\" rx=\"37.09\" ry=\"18\"/>\n<text text-anchor=\"middle\" x=\"756.19\" y=\"-14.3\" font-family=\"Times,serif\" font-size=\"14.00\">latency</text>\n</g>\n<!-- wal.rcrds&#45;&gt;latency -->\n<g id=\"edge5\" class=\"edge\">\n<title>wal.rcrds-&gt;latency</title>\n<path fill=\"none\" stroke=\"black\" d=\"M132.12,-77.5C139,-75.38 146.28,-73.39 153.19,-72 357.36,-30.82 606.82,-21.64 709.07,-19.59\"/>\n<polygon fill=\"black\" stroke=\"black\" points=\"709.14,-23.09 719.08,-19.4 709.01,-16.09 709.14,-23.09\"/>\n</g>\n<!-- wal.byts&#45;&gt;latency -->\n<g id=\"edge6\" class=\"edge\">\n<title>wal.byts-&gt;latency</title>\n<path fill=\"none\" stroke=\"black\" d=\"M234.64,-77.66C241.33,-75.5 248.44,-73.46 255.19,-72 419.64,-36.34 619.86,-24.34 709.22,-20.58\"/>\n<polygon fill=\"black\" stroke=\"black\" points=\"709.45,-24.08 719.3,-20.18 709.17,-17.08 709.45,-24.08\"/>\n</g>\n<!-- bgwriter.ckpt_timed&#45;&gt;latency -->\n<g id=\"edge7\" class=\"edge\">\n<title>bgwriter.ckpt_timed-&gt;latency</title>\n<path fill=\"none\" stroke=\"black\" d=\"M410.11,-77.7C420.81,-75.77 431.82,-73.81 442.19,-72 537.95,-55.26 650.29,-36.51 711.27,-26.41\"/>\n<polygon fill=\"black\" stroke=\"black\" points=\"712.03,-29.84 721.32,-24.75 710.88,-22.93 712.03,-29.84\"/>\n</g>\n<!-- bgwriter.ckpt_req&#45;&gt;latency -->\n<g id=\"edge8\" class=\"edge\">\n<title>bgwriter.ckpt_req-&gt;latency</title>\n<path fill=\"none\" stroke=\"black\" d=\"M570.81,-75.42C612.84,-62.63 675.25,-43.63 715.83,-31.28\"/>\n<polygon fill=\"black\" stroke=\"black\" points=\"717.1,-34.56 725.65,-28.3 715.07,-27.86 717.1,-34.56\"/>\n</g>\n<!-- shared_buffers -->\n<g id=\"node7\" class=\"node\">\n<title>shared_buffers</title>\n<ellipse fill=\"none\" stroke=\"black\" cx=\"654.19\" cy=\"-162\" rx=\"64.19\" ry=\"18\"/>\n<text text-anchor=\"middle\" x=\"654.19\" y=\"-158.3\" font-family=\"Times,serif\" font-size=\"14.00\">shared_buffers</text>\n</g>\n<!-- io.idx.blks_read -->\n<g id=\"node8\" class=\"node\">\n<title>io.idx.blks_read</title>\n<ellipse fill=\"none\" stroke=\"black\" cx=\"689.19\" cy=\"-90\" rx=\"69.59\" ry=\"18\"/>\n<text text-anchor=\"middle\" x=\"689.19\" y=\"-86.3\" font-family=\"Times,serif\" font-size=\"14.00\">io.idx.blks_read</text>\n</g>\n<!-- shared_buffers&#45;&gt;io.idx.blks_read -->\n<g id=\"edge9\" class=\"edge\">\n<title>shared_buffers-&gt;io.idx.blks_read</title>\n<path fill=\"none\" stroke=\"black\" d=\"M662.67,-144.05C666.69,-136.01 671.59,-126.2 676.08,-117.23\"/>\n<polygon fill=\"black\" stroke=\"black\" points=\"679.21,-118.78 680.55,-108.28 672.95,-115.65 679.21,-118.78\"/>\n</g>\n<!-- blks_read -->\n<g id=\"node9\" class=\"node\">\n<title>blks_read</title>\n<ellipse fill=\"none\" stroke=\"black\" cx=\"823.19\" cy=\"-90\" rx=\"46.29\" ry=\"18\"/>\n<text text-anchor=\"middle\" x=\"823.19\" y=\"-86.3\" font-family=\"Times,serif\" font-size=\"14.00\">blks_read</text>\n</g>\n<!-- shared_buffers&#45;&gt;blks_read -->\n<g id=\"edge10\" class=\"edge\">\n<title>shared_buffers-&gt;blks_read</title>\n<path fill=\"none\" stroke=\"black\" d=\"M688.8,-146.67C716.22,-135.31 754.55,-119.43 783.26,-107.54\"/>\n<polygon fill=\"black\" stroke=\"black\" points=\"784.7,-110.73 792.6,-103.67 782.03,-104.26 784.7,-110.73\"/>\n</g>\n<!-- blks_hit -->\n<g id=\"node10\" class=\"node\">\n<title>blks_hit</title>\n<ellipse fill=\"none\" stroke=\"black\" cx=\"927.19\" cy=\"-90\" rx=\"40.09\" ry=\"18\"/>\n<text text-anchor=\"middle\" x=\"927.19\" y=\"-86.3\" font-family=\"Times,serif\" font-size=\"14.00\">blks_hit</text>\n</g>\n<!-- shared_buffers&#45;&gt;blks_hit -->\n<g id=\"edge11\" class=\"edge\">\n<title>shared_buffers-&gt;blks_hit</title>\n<path fill=\"none\" stroke=\"black\" d=\"M702.24,-149.91C762.89,-135.86 861.41,-112.88 878.19,-108 881.17,-107.13 884.22,-106.2 887.29,-105.22\"/>\n<polygon fill=\"black\" stroke=\"black\" points=\"888.63,-108.46 897.03,-102 886.43,-101.82 888.63,-108.46\"/>\n</g>\n<!-- io.idx.blks_read&#45;&gt;latency -->\n<g id=\"edge12\" class=\"edge\">\n<title>io.idx.blks_read-&gt;latency</title>\n<path fill=\"none\" stroke=\"black\" d=\"M705.07,-72.41C713.83,-63.26 724.83,-51.76 734.39,-41.78\"/>\n<polygon fill=\"black\" stroke=\"black\" points=\"736.96,-44.16 741.35,-34.51 731.9,-39.31 736.96,-44.16\"/>\n</g>\n<!-- blks_read&#45;&gt;latency -->\n<g id=\"edge13\" class=\"edge\">\n<title>blks_read-&gt;latency</title>\n<path fill=\"none\" stroke=\"black\" d=\"M807.65,-72.76C798.9,-63.62 787.84,-52.06 778.21,-42\"/>\n<polygon fill=\"black\" stroke=\"black\" points=\"780.63,-39.47 771.19,-34.67 775.57,-44.31 780.63,-39.47\"/>\n</g>\n<!-- blks_hit&#45;&gt;latency -->\n<g id=\"edge14\" class=\"edge\">\n<title>blks_hit-&gt;latency</title>\n<path fill=\"none\" stroke=\"black\" d=\"M898.57,-77.28C869.53,-65.4 824.48,-46.95 792.85,-34\"/>\n<polygon fill=\"black\" stroke=\"black\" points=\"794.07,-30.72 783.49,-30.18 791.42,-37.2 794.07,-30.72\"/>\n</g>\n<!-- bgwriter_delay -->\n<g id=\"node11\" class=\"node\">\n<title>bgwriter_delay</title>\n<ellipse fill=\"none\" stroke=\"black\" cx=\"1218.19\" cy=\"-162\" rx=\"65.79\" ry=\"18\"/>\n<text text-anchor=\"middle\" x=\"1218.19\" y=\"-158.3\" font-family=\"Times,serif\" font-size=\"14.00\">bgwriter_delay</text>\n</g>\n<!-- bgwriter.buffer -->\n<g id=\"node12\" class=\"node\">\n<title>bgwriter.buffer</title>\n<ellipse fill=\"none\" stroke=\"black\" cx=\"1051.19\" cy=\"-90\" rx=\"65.79\" ry=\"18\"/>\n<text text-anchor=\"middle\" x=\"1051.19\" y=\"-86.3\" font-family=\"Times,serif\" font-size=\"14.00\">bgwriter.buffer</text>\n</g>\n<!-- bgwriter_delay&#45;&gt;bgwriter.buffer -->\n<g id=\"edge15\" class=\"edge\">\n<title>bgwriter_delay-&gt;bgwriter.buffer</title>\n<path fill=\"none\" stroke=\"black\" d=\"M1183.59,-146.5C1157.87,-135.71 1122.58,-120.92 1094.91,-109.32\"/>\n<polygon fill=\"black\" stroke=\"black\" points=\"1096.04,-106 1085.46,-105.37 1093.33,-112.46 1096.04,-106\"/>\n</g>\n<!-- bgwriter.buffer&#45;&gt;latency -->\n<g id=\"edge16\" class=\"edge\">\n<title>bgwriter.buffer-&gt;latency</title>\n<path fill=\"none\" stroke=\"black\" d=\"M1003.14,-77.6C946.39,-64.13 852.87,-41.94 798.67,-29.08\"/>\n<polygon fill=\"black\" stroke=\"black\" points=\"799.24,-25.62 788.7,-26.71 797.62,-32.43 799.24,-25.62\"/>\n</g>\n<!-- effective_cache_size -->\n<g id=\"node13\" class=\"node\">\n<title>effective_cache_size</title>\n<ellipse fill=\"none\" stroke=\"black\" cx=\"823.19\" cy=\"-162\" rx=\"86.38\" ry=\"18\"/>\n<text text-anchor=\"middle\" x=\"823.19\" y=\"-158.3\" font-family=\"Times,serif\" font-size=\"14.00\">effective_cache_size</text>\n</g>\n<!-- effective_cache_size&#45;&gt;io.idx.blks_read -->\n<g id=\"edge17\" class=\"edge\">\n<title>effective_cache_size-&gt;io.idx.blks_read</title>\n<path fill=\"none\" stroke=\"black\" d=\"M792.79,-145.12C773.41,-135 748.15,-121.8 727.43,-110.97\"/>\n<polygon fill=\"black\" stroke=\"black\" points=\"729.04,-107.87 718.56,-106.34 725.8,-114.07 729.04,-107.87\"/>\n</g>\n<!-- effective_cache_size&#45;&gt;blks_read -->\n<g id=\"edge18\" class=\"edge\">\n<title>effective_cache_size-&gt;blks_read</title>\n<path fill=\"none\" stroke=\"black\" d=\"M823.19,-143.7C823.19,-135.98 823.19,-126.71 823.19,-118.11\"/>\n<polygon fill=\"black\" stroke=\"black\" points=\"826.69,-118.1 823.19,-108.1 819.69,-118.1 826.69,-118.1\"/>\n</g>\n<!-- effective_cache_size&#45;&gt;blks_hit -->\n<g id=\"edge19\" class=\"edge\">\n<title>effective_cache_size-&gt;blks_hit</title>\n<path fill=\"none\" stroke=\"black\" d=\"M847.58,-144.59C862.47,-134.56 881.62,-121.67 897.41,-111.05\"/>\n<polygon fill=\"black\" stroke=\"black\" points=\"899.44,-113.9 905.78,-105.41 895.53,-108.09 899.44,-113.9\"/>\n</g>\n<!-- checkpoint_completion_target -->\n<g id=\"node14\" class=\"node\">\n<title>checkpoint_completion_target</title>\n<ellipse fill=\"none\" stroke=\"black\" cx=\"306.19\" cy=\"-162\" rx=\"121.58\" ry=\"18\"/>\n<text text-anchor=\"middle\" x=\"306.19\" y=\"-158.3\" font-family=\"Times,serif\" font-size=\"14.00\">checkpoint_completion_target</text>\n</g>\n<!-- checkpoint_completion_target&#45;&gt;wal.rcrds -->\n<g id=\"edge20\" class=\"edge\">\n<title>checkpoint_completion_target-&gt;wal.rcrds</title>\n<path fill=\"none\" stroke=\"black\" d=\"M259.96,-145.29C224.87,-133.37 177,-117.1 142.83,-105.49\"/>\n<polygon fill=\"black\" stroke=\"black\" points=\"143.73,-102.1 133.13,-102.19 141.48,-108.72 143.73,-102.1\"/>\n</g>\n<!-- checkpoint_completion_target&#45;&gt;wal.byts -->\n<g id=\"edge21\" class=\"edge\">\n<title>checkpoint_completion_target-&gt;wal.byts</title>\n<path fill=\"none\" stroke=\"black\" d=\"M281.76,-144.23C267.47,-134.43 249.33,-121.97 234.18,-111.58\"/>\n<polygon fill=\"black\" stroke=\"black\" points=\"235.88,-108.5 225.66,-105.73 231.92,-114.27 235.88,-108.5\"/>\n</g>\n<!-- checkpoint_completion_target&#45;&gt;bgwriter.ckpt_timed -->\n<g id=\"edge22\" class=\"edge\">\n<title>checkpoint_completion_target-&gt;bgwriter.ckpt_timed</title>\n<path fill=\"none\" stroke=\"black\" d=\"M316.36,-144.05C321.24,-135.92 327.19,-126 332.63,-116.94\"/>\n<polygon fill=\"black\" stroke=\"black\" points=\"335.68,-118.65 337.83,-108.28 329.68,-115.05 335.68,-118.65\"/>\n</g>\n<!-- checkpoint_completion_target&#45;&gt;bgwriter.ckpt_req -->\n<g id=\"edge23\" class=\"edge\">\n<title>checkpoint_completion_target-&gt;bgwriter.ckpt_req</title>\n<path fill=\"none\" stroke=\"black\" d=\"M355.02,-145.46C389.96,-134.35 436.98,-119.38 472.9,-107.96\"/>\n<polygon fill=\"black\" stroke=\"black\" points=\"474.25,-111.2 482.72,-104.83 472.13,-104.53 474.25,-111.2\"/>\n</g>\n<!-- default_statistics_target -->\n<g id=\"node15\" class=\"node\">\n<title>default_statistics_target</title>\n<ellipse fill=\"none\" stroke=\"black\" cx=\"1231.19\" cy=\"-90\" rx=\"96.68\" ry=\"18\"/>\n<text text-anchor=\"middle\" x=\"1231.19\" y=\"-86.3\" font-family=\"Times,serif\" font-size=\"14.00\">default_statistics_target</text>\n</g>\n<!-- default_statistics_target&#45;&gt;latency -->\n<g id=\"edge24\" class=\"edge\">\n<title>default_statistics_target-&gt;latency</title>\n<path fill=\"none\" stroke=\"black\" d=\"M1161.19,-77.48C1149.51,-75.61 1137.51,-73.73 1126.19,-72 1009.34,-54.17 871.46,-34.88 801.63,-25.24\"/>\n<polygon fill=\"black\" stroke=\"black\" points=\"801.81,-21.73 791.43,-23.83 800.85,-28.66 801.81,-21.73\"/>\n</g>\n<!-- max_wal_size -->\n<g id=\"node16\" class=\"node\">\n<title>max_wal_size</title>\n<ellipse fill=\"none\" stroke=\"black\" cx=\"509.19\" cy=\"-162\" rx=\"63.09\" ry=\"18\"/>\n<text text-anchor=\"middle\" x=\"509.19\" y=\"-158.3\" font-family=\"Times,serif\" font-size=\"14.00\">max_wal_size</text>\n</g>\n<!-- max_wal_size&#45;&gt;wal.rcrds -->\n<g id=\"edge25\" class=\"edge\">\n<title>max_wal_size-&gt;wal.rcrds</title>\n<path fill=\"none\" stroke=\"black\" d=\"M463.64,-149.48C454.9,-147.48 445.79,-145.55 437.19,-144 311.99,-121.35 277.41,-135.55 153.19,-108 149.58,-107.2 145.87,-106.26 142.16,-105.24\"/>\n<polygon fill=\"black\" stroke=\"black\" points=\"143.03,-101.84 132.45,-102.39 141.06,-108.56 143.03,-101.84\"/>\n</g>\n<!-- max_wal_size&#45;&gt;wal.byts -->\n<g id=\"edge26\" class=\"edge\">\n<title>max_wal_size-&gt;wal.byts</title>\n<path fill=\"none\" stroke=\"black\" d=\"M462.77,-149.78C454.28,-147.8 445.48,-145.8 437.19,-144 356.61,-126.52 334.91,-129.08 255.19,-108 251.84,-107.11 248.39,-106.13 244.94,-105.09\"/>\n<polygon fill=\"black\" stroke=\"black\" points=\"245.88,-101.72 235.29,-102.06 243.78,-108.39 245.88,-101.72\"/>\n</g>\n<!-- max_wal_size&#45;&gt;bgwriter.ckpt_timed -->\n<g id=\"edge27\" class=\"edge\">\n<title>max_wal_size-&gt;bgwriter.ckpt_timed</title>\n<path fill=\"none\" stroke=\"black\" d=\"M475.83,-146.5C451.88,-136.08 419.33,-121.93 393.09,-110.52\"/>\n<polygon fill=\"black\" stroke=\"black\" points=\"394.31,-107.23 383.74,-106.46 391.52,-113.65 394.31,-107.23\"/>\n</g>\n<!-- max_wal_size&#45;&gt;bgwriter.ckpt_req -->\n<g id=\"edge28\" class=\"edge\">\n<title>max_wal_size-&gt;bgwriter.ckpt_req</title>\n<path fill=\"none\" stroke=\"black\" d=\"M513.39,-143.7C515.29,-135.9 517.57,-126.51 519.68,-117.83\"/>\n<polygon fill=\"black\" stroke=\"black\" points=\"523.08,-118.65 522.04,-108.1 516.28,-117 523.08,-118.65\"/>\n</g>\n<!-- bgwriter_lru_maxpages -->\n<g id=\"node17\" class=\"node\">\n<title>bgwriter_lru_maxpages</title>\n<ellipse fill=\"none\" stroke=\"black\" cx=\"1398.19\" cy=\"-162\" rx=\"96.68\" ry=\"18\"/>\n<text text-anchor=\"middle\" x=\"1398.19\" y=\"-158.3\" font-family=\"Times,serif\" font-size=\"14.00\">bgwriter_lru_maxpages</text>\n</g>\n<!-- bgwriter_lru_maxpages&#45;&gt;bgwriter.buffer -->\n<g id=\"edge29\" class=\"edge\">\n<title>bgwriter_lru_maxpages-&gt;bgwriter.buffer</title>\n<path fill=\"none\" stroke=\"black\" d=\"M1332.15,-148.83C1276.78,-138.47 1195.69,-122.94 1125.19,-108 1119.95,-106.89 1114.51,-105.7 1109.07,-104.49\"/>\n<polygon fill=\"black\" stroke=\"black\" points=\"1109.83,-101.08 1099.31,-102.3 1108.3,-107.91 1109.83,-101.08\"/>\n</g>\n<!-- effective_io_concurrency -->\n<g id=\"node18\" class=\"node\">\n<title>effective_io_concurrency</title>\n<ellipse fill=\"none\" stroke=\"black\" cx=\"1031.19\" cy=\"-162\" rx=\"103.18\" ry=\"18\"/>\n<text text-anchor=\"middle\" x=\"1031.19\" y=\"-158.3\" font-family=\"Times,serif\" font-size=\"14.00\">effective_io_concurrency</text>\n</g>\n<!-- effective_io_concurrency&#45;&gt;io.idx.blks_read -->\n<g id=\"edge30\" class=\"edge\">\n<title>effective_io_concurrency-&gt;io.idx.blks_read</title>\n<path fill=\"none\" stroke=\"black\" d=\"M965.75,-148.06C912.51,-137.47 835.45,-122.01 768.19,-108 762.47,-106.81 756.52,-105.55 750.57,-104.29\"/>\n<polygon fill=\"black\" stroke=\"black\" points=\"751.1,-100.82 740.59,-102.16 749.64,-107.67 751.1,-100.82\"/>\n</g>\n<!-- effective_io_concurrency&#45;&gt;blks_read -->\n<g id=\"edge31\" class=\"edge\">\n<title>effective_io_concurrency-&gt;blks_read</title>\n<path fill=\"none\" stroke=\"black\" d=\"M985.8,-145.72C950.44,-133.83 901.67,-117.41 866.78,-105.67\"/>\n<polygon fill=\"black\" stroke=\"black\" points=\"867.47,-102.21 856.88,-102.34 865.24,-108.84 867.47,-102.21\"/>\n</g>\n<!-- effective_io_concurrency&#45;&gt;blks_hit -->\n<g id=\"edge32\" class=\"edge\">\n<title>effective_io_concurrency-&gt;blks_hit</title>\n<path fill=\"none\" stroke=\"black\" d=\"M1006.55,-144.41C991.65,-134.38 972.56,-121.53 956.84,-110.95\"/>\n<polygon fill=\"black\" stroke=\"black\" points=\"958.75,-108.02 948.5,-105.34 954.84,-113.83 958.75,-108.02\"/>\n</g>\n<!-- deadlock_timeout -->\n<g id=\"node19\" class=\"node\">\n<title>deadlock_timeout</title>\n<ellipse fill=\"none\" stroke=\"black\" cx=\"1422.19\" cy=\"-90\" rx=\"76.09\" ry=\"18\"/>\n<text text-anchor=\"middle\" x=\"1422.19\" y=\"-86.3\" font-family=\"Times,serif\" font-size=\"14.00\">deadlock_timeout</text>\n</g>\n<!-- deadlock_timeout&#45;&gt;latency -->\n<g id=\"edge33\" class=\"edge\">\n<title>deadlock_timeout-&gt;latency</title>\n<path fill=\"none\" stroke=\"black\" d=\"M1367.93,-77.25C1357.75,-75.3 1347.17,-73.45 1337.19,-72 1139.9,-43.36 902.53,-27.43 803.34,-21.59\"/>\n<polygon fill=\"black\" stroke=\"black\" points=\"803.25,-18.08 793.06,-21 802.84,-25.07 803.25,-18.08\"/>\n</g>\n</g>\n</svg>"
     },
     "metadata": {},
     "output_type": "display_data"
    }
   ],
   "execution_count": 31
  },
  {
   "metadata": {
    "ExecuteTime": {
     "end_time": "2024-08-04T15:13:52.673047Z",
     "start_time": "2024-08-04T15:13:50.539324Z"
    }
   },
   "cell_type": "code",
   "source": [
    "from autorocks.optimizer.bograph.bobn import BoBn\n",
    "from autorocks.envs.postgres.schema import PostgresParametersCollection10\n",
    "\n",
    "output_path = \"/Users/salabed/workspace/latex_writings/thesis/phd_dissertation/Chapters/BoGraphEval/figures/postgres\"\n",
    "param_space = PostgresParametersCollection10()\n",
    "bobn_graph = BoBn(G, param_space, {\"latency\"})\n",
    "\n",
    "for (i, subgraph) in enumerate(bobn_graph._subgraphs):\n",
    "    draw(G.subgraph(subgraph._subgraph), f\"{output_path}/subgraph_{i}.pdf\")\n",
    "    draw(G.subgraph(subgraph._subgraph), f\"{output_path}/subgraph_{i}.svg\")\n",
    "    \n",
    "draw(G, f\"{output_path}/postgres_dag.pdf\")\n",
    "draw(G, f\"{output_path}/postgres_dag.svg\")\n"
   ],
   "id": "cdc309714844f64b",
   "outputs": [],
   "execution_count": 30
  },
  {
   "metadata": {
    "ExecuteTime": {
     "end_time": "2024-08-04T15:12:34.101142Z",
     "start_time": "2024-08-04T15:12:34.068877Z"
    }
   },
   "cell_type": "code",
   "source": "bobn_graph._subgraphs",
   "id": "a5c6db717710384",
   "outputs": [
    {
     "data": {
      "text/plain": [
       "[BoBnGraph(), BoBnGraph(), BoBnGraph(), BoBnGraph()]"
      ]
     },
     "execution_count": 29,
     "metadata": {},
     "output_type": "execute_result"
    }
   ],
   "execution_count": 29
  }
 ],
 "metadata": {
  "kernelspec": {
   "display_name": "Python 3",
   "language": "python",
   "name": "python3"
  },
  "language_info": {
   "codemirror_mode": {
    "name": "ipython",
    "version": 2
   },
   "file_extension": ".py",
   "mimetype": "text/x-python",
   "name": "python",
   "nbconvert_exporter": "python",
   "pygments_lexer": "ipython2",
   "version": "2.7.6"
  }
 },
 "nbformat": 4,
 "nbformat_minor": 5
}
