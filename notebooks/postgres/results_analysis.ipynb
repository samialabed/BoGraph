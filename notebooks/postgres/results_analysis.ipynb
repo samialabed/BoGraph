{
 "cells": [
  {
   "cell_type": "code",
   "execution_count": 98,
   "source": [
    "import matplotlib.pyplot as plt\n",
    "%matplotlib inline\n",
    "%load_ext autoreload\n",
    "%autoreload 2\n",
    "\n",
    "\n",
    "import os\n",
    "\n",
    "os.environ[\"SYSTEM_MEMORY\"] = \"16gb\""
   ],
   "metadata": {
    "collapsed": false
   },
   "outputs": []
  },
  {
   "cell_type": "code",
   "execution_count": 110,
   "source": [
    "from autorocks.envs.postgres.schema import PostgresParametersCollection10\n",
    "from autorocks.envs.postgres.benchmarks.benchbase import BenchmarkClass\n",
    "from autorocks.data.loader.all_models_result_aggregator import create_all_models_comparison_dataset\n",
    "from autorocks.dir_struct import ProcessedDataDir\n",
    "\n",
    "bench_name = str(BenchmarkClass.YCSB)\n",
    "obj_name = \"latency_p99\"\n",
    "param_space = PostgresParametersCollection10()\n",
    "param_names = set([p.name for p in param_space.parameters()])\n",
    "\n",
    "exp_dir = ProcessedDataDir / f\"postgres/{obj_name}/{bench_name}/{len(param_space)}_params/100_iter\"\n",
    "model_comparison_data = create_all_models_comparison_dataset(exp_dir)\n",
    "\n",
    "main_target = \"bench_res.latency_p99\"\n"
   ],
   "metadata": {
    "collapsed": false
   },
   "outputs": []
  },
  {
   "cell_type": "code",
   "execution_count": 111,
   "source": [
    "import pandas as pd\n",
    "\n",
    "print(pd.DataFrame(param_space.to_latex()).to_latex())"
   ],
   "metadata": {
    "collapsed": false
   },
   "outputs": []
  },
  {
   "cell_type": "code",
   "execution_count": 112,
   "source": [
    "import autorocks.viz.viz as viz\n",
    "\n",
    "model_comparison_data_c = viz.unify_model_name(model_comparison_data)\n",
    "color_palette = viz.create_color_palette(\n",
    "    model_comparison_data_c, [\"#9b59b6\", \"#3498db\", \"#95a5a6\", \"#e74c3c\", \"#34495e\", \"#2ecc71\"]\n",
    ")"
   ],
   "metadata": {
    "collapsed": false
   },
   "outputs": []
  },
  {
   "cell_type": "code",
   "execution_count": 113,
   "source": [
    "perf_df = model_comparison_data_c.sys_observations.copy()\n",
    "\n",
    "# TODO: this exist as bridge since I changed the format of logging\n",
    "index_of_res_in_new_format = perf_df[\"latency_p99\"].notna()\n",
    "perf_df.loc[index_of_res_in_new_format, main_target]  = perf_df[index_of_res_in_new_format][\"latency_p99\"]"
   ],
   "metadata": {
    "collapsed": false
   },
   "outputs": []
  },
  {
   "cell_type": "code",
   "execution_count": 114,
   "source": [
    "# Count errors\n",
    "perf_df[\"errors\"] = perf_df[main_target] > 1e9"
   ],
   "metadata": {
    "collapsed": false
   },
   "outputs": []
  },
  {
   "cell_type": "markdown",
   "source": [],
   "metadata": {
    "collapsed": false
   }
  },
  {
   "cell_type": "code",
   "execution_count": 115,
   "source": [
    "import seaborn as sns\n",
    "import matplotlib.pyplot as plt\n",
    "\n",
    "errors_df = perf_df[[\"errors\", \"model\", \"iteration\"]].groupby([\"model\", \"iteration\"]).sum().reset_index()\n",
    "\n",
    "f, ax = plt.subplots(figsize=(9, 4))\n",
    "sns.boxplot(\n",
    "    data=errors_df,\n",
    "    y=\"errors\",\n",
    "    x=\"model\",\n",
    "    palette=color_palette,\n",
    "    order=viz.cal_plot_order(errors_df, \"errors\", ascending=True),\n",
    ")"
   ],
   "metadata": {
    "collapsed": false
   },
   "outputs": []
  },
  {
   "cell_type": "code",
   "execution_count": 116,
   "source": [
    "# Drop the errors\n",
    "perf_df.loc[perf_df[main_target] > 1e9] = None"
   ],
   "metadata": {
    "collapsed": false
   },
   "outputs": []
  },
  {
   "cell_type": "code",
   "execution_count": 117,
   "source": [
    "perf_df[[\"model\", main_target]].groupby(\"model\").min()"
   ],
   "metadata": {
    "collapsed": false
   },
   "outputs": []
  },
  {
   "cell_type": "code",
   "execution_count": 118,
   "source": [
    "\n",
    "viz.perf_boxplot(\n",
    "    perf_df=perf_df,\n",
    "    optimization_type=viz.OptimizationType.MINIMIZE,\n",
    "    ylabel=\"P99 Latency (ms)\",\n",
    "    comparison_col=main_target,\n",
    "    model_palette_map=color_palette,\n",
    "    # horizontal_line=\"Default\",\n",
    "        fig_size = (9, 5)\n",
    ")"
   ],
   "metadata": {
    "collapsed": false
   },
   "outputs": []
  },
  {
   "cell_type": "code",
   "execution_count": 119,
   "source": [
    "perf_df.groupby(['model', 'iteration']).last().reset_index()[[\"model\", main_target]]"
   ],
   "metadata": {
    "collapsed": false
   },
   "outputs": []
  },
  {
   "cell_type": "code",
   "execution_count": 121,
   "source": [
    "# Drop OtterTune for being bad\n",
    "# perf_df.loc[perf_df[\"model\"] == \"OtterTune\"] = None\n",
    "\n",
    "fig = viz.roi_boxplot(\n",
    "    df=perf_df,\n",
    "    optimization_type=viz.OptimizationType.MINIMIZE,\n",
    "    ylabel=\"P99 Latency (ms)\",\n",
    "\n",
    "    comparison_col=main_target,\n",
    "    model_palette_map=color_palette,\n",
    "    model_baseline=\"Default\",\n",
    ")\n",
    "output_location = \"/home/salabed/workspace/latex/papers/mlsys23_bograph/figs/svg\"\n",
    "output_format=\"svg\"\n",
    "\n",
    "fig.savefig(f\"{output_location}/postgres_box.{output_format}\",\n",
    "            bbox_inches='tight',\n",
    "            format=f'{output_format}', dpi=600)\n",
    "fig"
   ],
   "metadata": {
    "collapsed": false
   },
   "outputs": []
  },
  {
   "cell_type": "code",
   "execution_count": 34,
   "source": [
    "import pandas as pd\n",
    "from sklearn.preprocessing import MinMaxScaler\n",
    "\n",
    "# TODO: Plot the convergence plot\n",
    "\n",
    "\n",
    "convergence_df = perf_df.copy()\n",
    "convergence_df.loc[convergence_df[main_target] > 1e9] = None\n",
    "\n",
    "# doesn't make sense to show convergence for static\n",
    "convergence_df.loc[convergence_df[\"model\"] == \"OtterTune\"] = None\n",
    "convergence_df.loc[convergence_df[\"model\"] == \"Default\"] = None\n"
   ],
   "metadata": {
    "collapsed": false
   },
   "outputs": []
  },
  {
   "cell_type": "code",
   "execution_count": 35,
   "source": [
    "# impute the missing results\n",
    "convergence_df = viz.imput_all_missing_vals(df=convergence_df, max_steps=100, target=main_target)"
   ],
   "metadata": {
    "collapsed": false
   },
   "outputs": []
  },
  {
   "cell_type": "code",
   "execution_count": 41,
   "source": [
    "convergence_df = convergence_df[convergence_df['step'] > 15]"
   ],
   "metadata": {
    "collapsed": false
   },
   "outputs": []
  },
  {
   "cell_type": "code",
   "execution_count": 42,
   "source": [
    "convergence_df[\"rolling\"] = (\n",
    "    convergence_df[[main_target, \"model\", \"iteration\"]]\n",
    "    .groupby([\"model\", \"iteration\"])\n",
    "    .agg({main_target: f\"cum{str(viz.OptimizationType.MINIMIZE)}\"})\n",
    ")"
   ],
   "metadata": {
    "collapsed": false
   },
   "outputs": []
  },
  {
   "cell_type": "code",
   "execution_count": 44,
   "source": [
    "fig = viz.convergence_lineplot(\n",
    "    df=convergence_df,  # model_comparison_data_c.system_performance,\n",
    "    optimization_type=viz.OptimizationType.MINIMIZE,\n",
    "    ylabel=\"P99 Latency (ms)\",\n",
    "    column_name=\"rolling\",\n",
    "    model_palette_map=color_palette,\n",
    "    fig_size=(4, 3),\n",
    ")\n",
    "fig"
   ],
   "metadata": {
    "collapsed": false
   },
   "outputs": []
  },
  {
   "cell_type": "code",
   "execution_count": 285,
   "source": [
    "main_target"
   ],
   "metadata": {
    "collapsed": false
   },
   "outputs": []
  },
  {
   "cell_type": "code",
   "execution_count": 16,
   "source": [
    "from autorocks.viz import causal_util\n",
    "from causalnex.structure import StructureModel\n",
    "import networkx as nx\n",
    "from autorocks.viz.causal_util import plot_struct_customized\n",
    "from IPython.display import Image\n",
    "\n",
    "sm = StructureModel(nx.read_edgelist(\"postgres.edgelist.gcastle\", create_using=nx.DiGraph))\n",
    "\n",
    "viz = plot_struct_customized(\n",
    "    sm,\n",
    "    \"Test\",\n",
    "    param_nodes=param_names,\n",
    "    sink_nodes=main_target,\n",
    ")\n",
    "\n",
    "\n",
    "Image(viz.draw(format=\"png\"))"
   ],
   "metadata": {
    "collapsed": false
   },
   "outputs": []
  },
  {
   "cell_type": "code",
   "execution_count": 5,
   "source": [
    "sm.edges"
   ],
   "metadata": {
    "collapsed": false
   },
   "outputs": []
  }
 ],
 "metadata": {
  "kernelspec": {
   "display_name": "Python 3",
   "language": "python",
   "name": "python3"
  },
  "language_info": {
   "codemirror_mode": {
    "name": "ipython",
    "version": 2
   },
   "file_extension": ".py",
   "mimetype": "text/x-python",
   "name": "python",
   "nbconvert_exporter": "python",
   "pygments_lexer": "ipython2",
   "version": "2.7.6"
  }
 },
 "nbformat": 4,
 "nbformat_minor": 0
}
