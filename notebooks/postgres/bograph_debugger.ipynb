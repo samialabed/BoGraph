{
 "cells": [
  {
   "cell_type": "code",
   "execution_count": 2,
   "outputs": [
    {
     "name": "stdout",
     "output_type": "stream",
     "text": [
      "The autoreload extension is already loaded. To reload it, use:\n",
      "  %reload_ext autoreload\n"
     ]
    }
   ],
   "source": [
    "%matplotlib inline\n",
    "%load_ext autoreload\n",
    "%autoreload 2\n",
    "\n",
    "\n",
    "import os\n",
    "import networkx as nx\n",
    "\n",
    "os.environ[\"SYSTEM_MEMORY\"] = \"16gb\""
   ],
   "metadata": {
    "collapsed": false,
    "pycharm": {
     "name": "#%%\n"
    }
   }
  },
  {
   "cell_type": "code",
   "execution_count": 4,
   "outputs": [],
   "source": [
    "dag = nx.read_edgelist(\"./postgres.edgelist.gcastle\")"
   ],
   "metadata": {
    "collapsed": false,
    "pycharm": {
     "name": "#%%\n"
    }
   }
  },
  {
   "cell_type": "code",
   "execution_count": 5,
   "outputs": [
    {
     "data": {
      "text/plain": "EdgeView([('deadlock_timeout', 'metrics.io_table.heap_blks_hit'), ('deadlock_timeout', 'metrics.wal.wal_records'), ('deadlock_timeout', 'metrics.stat_database.blks_hit'), ('deadlock_timeout', 'metrics.stat_database.tup_inserted'), ('metrics.io_table.heap_blks_hit', 'shared_buffers'), ('metrics.io_table.heap_blks_hit', 'effective_cache_size'), ('metrics.io_table.heap_blks_hit', 'metrics.stat_database.sessions_abandoned'), ('metrics.io_table.heap_blks_hit', 'metrics.wal.wal_sync_time'), ('metrics.io_table.heap_blks_hit', 'metrics.stat_database.blks_hit'), ('metrics.io_table.heap_blks_hit', 'max_wal_size'), ('metrics.wal.wal_records', 'effective_cache_size'), ('metrics.wal.wal_records', 'metrics.stat_database.blks_hit'), ('metrics.stat_database.blks_hit', 'shared_buffers'), ('metrics.stat_database.blks_hit', 'bench_res.latency_p99'), ('metrics.stat_database.blks_hit', 'effective_cache_size'), ('metrics.stat_database.blks_hit', 'metrics.io_table.heap_blks_read'), ('metrics.stat_database.blks_hit', 'metrics.stat_database.sessions'), ('metrics.stat_database.blks_hit', 'metrics.io_table.idx_blks_hit'), ('metrics.stat_database.tup_inserted', 'shared_buffers'), ('metrics.stat_database.tup_inserted', 'effective_cache_size'), ('metrics.stat_database.tup_inserted', 'metrics.wal.wal_write_time'), ('metrics.stat_database.tup_inserted', 'max_wal_size'), ('metrics.stat_database.tup_inserted', 'checkpoint_timeout'), ('metrics.stat_database.tup_inserted', 'checkpoint_completion_target'), ('shared_buffers', 'metrics.bg_writer.checkpoints_timed'), ('shared_buffers', 'metrics.stat_database.tup_returned'), ('shared_buffers', 'metrics.stat_database.sessions'), ('metrics.bg_writer.checkpoints_timed', 'bench_res.latency_p99'), ('metrics.bg_writer.checkpoints_timed', 'max_wal_size'), ('metrics.bg_writer.checkpoints_timed', 'checkpoint_timeout'), ('metrics.bg_writer.checkpoints_timed', 'metrics.stat_database.tup_returned'), ('metrics.bg_writer.checkpoints_timed', 'metrics.stat_database.idle_in_transaction_time'), ('metrics.stat_database.tup_returned', 'checkpoint_completion_target'), ('metrics.stat_database.tup_returned', 'metrics.stat_database.sessions_abandoned'), ('metrics.stat_database.tup_returned', 'metrics.wal.wal_write_time'), ('metrics.stat_database.tup_returned', 'effective_io_concurrency'), ('metrics.stat_database.tup_returned', 'bgwriter_lru_maxpages'), ('metrics.stat_database.tup_returned', 'default_statistics_target'), ('metrics.stat_database.sessions', 'max_wal_size'), ('metrics.stat_database.sessions', 'metrics.wal.wal_sync_time'), ('metrics.stat_database.sessions', 'metrics.stat_database.numbackends'), ('metrics.stat_database.sessions', 'metrics.wal.wal_write_time'), ('bench_res.latency_p99', 'metrics.stat_database.sessions_abandoned'), ('bench_res.latency_p99', 'metrics.wal.wal_sync_time'), ('bench_res.latency_p99', 'metrics.wal.wal_write_time'), ('bench_res.latency_p99', 'metrics.stat_database.xact_commit'), ('bench_res.latency_p99', 'metrics.stat_database.numbackends'), ('effective_cache_size', 'metrics.bg_writer.checkpoint_write_time'), ('metrics.bg_writer.checkpoint_write_time', 'max_wal_size'), ('metrics.bg_writer.checkpoint_write_time', 'checkpoint_completion_target'), ('metrics.bg_writer.checkpoint_write_time', 'metrics.wal.wal_sync_time'), ('metrics.stat_database.sessions_abandoned', 'metrics.stat_database.xact_commit'), ('metrics.wal.wal_write_time', 'metrics.io_table.idx_blks_hit'), ('max_wal_size', 'metrics.io_table.idx_blks_hit'), ('checkpoint_completion_target', 'metrics.io_table.heap_blks_read'), ('effective_io_concurrency', 'metrics.stat_database.xact_commit'), ('effective_io_concurrency', 'metrics.stat_database.tup_fetched'), ('metrics.stat_database.xact_commit', 'bgwriter_lru_maxpages'), ('metrics.stat_database.xact_commit', 'metrics.stat_database.numbackends'), ('metrics.stat_database.xact_commit', 'metrics.stat_database.tup_fetched'), ('metrics.stat_database.xact_commit', 'default_statistics_target'), ('metrics.stat_database.tup_fetched', 'bgwriter_lru_maxpages'), ('metrics.stat_database.tup_fetched', 'default_statistics_target'), ('default_statistics_target', 'metrics.stat_database.idle_in_transaction_time')])"
     },
     "execution_count": 5,
     "metadata": {},
     "output_type": "execute_result"
    }
   ],
   "source": [],
   "metadata": {
    "collapsed": false,
    "pycharm": {
     "name": "#%%\n"
    }
   }
  },
  {
   "cell_type": "code",
   "execution_count": null,
   "outputs": [],
   "source": [],
   "metadata": {
    "collapsed": false,
    "pycharm": {
     "name": "#%%\n"
    }
   }
  }
 ],
 "metadata": {
  "kernelspec": {
   "display_name": "Python 3",
   "language": "python",
   "name": "python3"
  },
  "language_info": {
   "codemirror_mode": {
    "name": "ipython",
    "version": 2
   },
   "file_extension": ".py",
   "mimetype": "text/x-python",
   "name": "python",
   "nbconvert_exporter": "python",
   "pygments_lexer": "ipython2",
   "version": "2.7.6"
  }
 },
 "nbformat": 4,
 "nbformat_minor": 0
}