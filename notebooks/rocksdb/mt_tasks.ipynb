{
 "cells": [
  {
   "cell_type": "code",
   "execution_count": 1,
   "metadata": {
    "collapsed": true
   },
   "source": [
    "%matplotlib inline\n",
    "%load_ext autoreload\n",
    "%autoreload 2\n",
    "\n",
    "\n",
    "import matplotlib.pyplot as plt"
   ],
   "outputs": []
  },
  {
   "cell_type": "code",
   "execution_count": 2,
   "source": [
    "from sysgym.envs.rocksdb.schema import RocksDB10Params\n",
    "from sysgym.envs.rocksdb.benchmarks.dbbench.established_benchmarks import DBBenchTasks\n",
    "from autorocks.data.loader.all_models_result_aggregator import create_all_models_comparison_dataset\n",
    "import autorocks.dir_struct as data_dirs\n",
    "\n",
    "bench_name = \"\".join(str(DBBenchTasks.READ_RANDOM_WRITE_RANDOM).split(\"_\"))\n",
    "obj_name = \"iops\"\n",
    "param_space = RocksDB10Params()\n",
    "param_names = set([p.name for p in param_space.parameters()])\n",
    "\n",
    "exp_dir = data_dirs.LocalResultDir / f\"rocksdb/{obj_name}/{bench_name}/{len(param_space)}_params/100_iter\"\n",
    "model_comparison_data = create_all_models_comparison_dataset(exp_dir)"
   ],
   "metadata": {
    "collapsed": false
   },
   "outputs": []
  },
  {
   "cell_type": "code",
   "execution_count": null,
   "source": [
    "import pandas as pd\n",
    "\n",
    "print(pd.DataFrame(param_space.to_latex()).to_latex())"
   ],
   "metadata": {
    "collapsed": false
   },
   "outputs": []
  },
  {
   "cell_type": "code",
   "execution_count": 4,
   "source": [
    "import autorocks.viz.viz as viz\n",
    "\n",
    "model_comparison_data_c = viz.unify_model_name(model_comparison_data)\n",
    "color_palette = viz.create_color_palette(\n",
    "    model_comparison_data_c, [\"#9b59b6\", \"#3498db\", \"#95a5a6\", \"#e74c3c\", \"#34495e\", \"#2ecc71\"]\n",
    ")"
   ],
   "metadata": {
    "collapsed": false
   },
   "outputs": []
  },
  {
   "cell_type": "code",
   "execution_count": 5,
   "source": [
    "perf_df = model_comparison_data_c.sys_observations.copy()"
   ],
   "metadata": {
    "collapsed": false
   },
   "outputs": []
  },
  {
   "cell_type": "code",
   "execution_count": 6,
   "source": [
    "perf_df = perf_df.select_dtypes(exclude=[\"object\"])  # Remove the name column - hack around sysgym"
   ],
   "metadata": {
    "collapsed": false
   },
   "outputs": []
  },
  {
   "cell_type": "code",
   "execution_count": 136,
   "source": [
    "# Checkpoint the dataset used in the argument\n",
    "perf_df.to_csv(\"random_analysis\")\n",
    "model_comparison_data_c.sys_params.to_csv(\"random_analysis_params\")"
   ],
   "metadata": {
    "collapsed": false
   },
   "outputs": []
  },
  {
   "cell_type": "code",
   "execution_count": 3,
   "source": [
    "import pandas as pd\n",
    "\n",
    "perf_df = pd.read_csv(\"random_analysis.csv\")\n",
    "params = pd.read_csv(\"random_analysis_params.csv\")"
   ],
   "metadata": {
    "collapsed": false
   },
   "outputs": []
  },
  {
   "cell_type": "code",
   "execution_count": 4,
   "source": [
    "# Hack to get the average from all the pandas dataframe from rocksdb\n",
    "\n",
    "columns_to_look = []\n",
    "avgs = {}\n",
    "\n",
    "import re\n",
    "\n",
    "expression = re.compile(r\"(.+)\\.p50\")\n",
    "p50_columns = set(filter(lambda x: x.endswith(\"p50\"), perf_df.columns.get_level_values(0).tolist()))\n",
    "\n",
    "col_to_exclude_later = set()\n",
    "for col in p50_columns:\n",
    "    col_name = expression.findall(col)[0]\n",
    "    col_count_name = f\"{col_name}.count\"\n",
    "    col_sum_name = f\"{col_name}.sum\"\n",
    "    avgs[col_name] = perf_df[col_sum_name] / perf_df[col_count_name]\n",
    "    col_to_exclude_later.add(col_count_name)\n",
    "\n",
    "avgs_df = pd.DataFrame(avgs).fillna(0)\n",
    "all_other_columns = list(\n",
    "    set(perf_df.filter(regex=\"^(?!.*(p\\d*|sum|interval|iops)$).*$\").columns) - col_to_exclude_later\n",
    ")\n",
    "counts_data_df = perf_df.loc[:, all_other_columns].filter(regex=\"count$\")\n",
    "rest_of_data_df = perf_df[list(set(all_other_columns) - set(counts_data_df.columns))]\n",
    "target_df = perf_df.filter(regex=\"iops$\")"
   ],
   "metadata": {
    "collapsed": false
   },
   "outputs": []
  },
  {
   "cell_type": "code",
   "execution_count": 5,
   "source": [
    "count_data_no_low_var = counts_data_df.loc[:, counts_data_df.var() >= 0.3]"
   ],
   "metadata": {
    "collapsed": false
   },
   "outputs": []
  },
  {
   "cell_type": "code",
   "execution_count": 6,
   "source": [
    "import statsmodels.api as sm\n",
    "from sklearn.preprocessing import scale\n",
    "\n",
    "# Fit a Poisson regression model\n",
    "poisson_model = sm.ZeroInflatedPoisson(target_df, count_data_no_low_var).fit()\n",
    "\n",
    "# Print the coefficients of the model\n",
    "print(poisson_model.params)"
   ],
   "metadata": {
    "collapsed": false
   },
   "outputs": []
  },
  {
   "cell_type": "code",
   "execution_count": 7,
   "source": [
    "avgs_df.columns"
   ],
   "metadata": {
    "collapsed": false
   },
   "outputs": []
  },
  {
   "cell_type": "code",
   "execution_count": 10,
   "source": [
    "import seaborn as sns\n",
    "\n",
    "avgs_w_target = pd.concat([target_df, avgs_df], axis=1)\n",
    "\n",
    "no_low_var = avgs_w_target.loc[:, (avgs_w_target.var() >= 0.3)]\n",
    "target_name = list(target_df.columns)\n",
    "correlation_matrix = (\n",
    "    no_low_var.corr()[target_name].sort_values(by=target_name, ascending=False).drop(target_name, axis=0)\n",
    ")\n",
    "\n",
    "col_rename = {}\n",
    "\n",
    "for col in correlation_matrix.index:\n",
    "    col_rename[col] = col.replace(\"statistics.\", \"\").replace(\"rocksdb_\", \"\").replace(\"_micros\", \"\")\n",
    "\n",
    "correlation_matrix = correlation_matrix.rename(index=col_rename, columns={\"db_bench.readrandomwriterandom.iops\": \"IOPS\"}).drop(index='cpu_usage')\n",
    "\n",
    "fig, ax = plt.subplots(figsize=(4, 3))\n",
    "sns.heatmap(correlation_matrix, vmin=-1, vmax=1, annot=True, cmap=\"BrBG\", ax=ax)\n",
    "#\n",
    "# output_location = \"/Users/salabed/workspace/latex_writings/thesis/phd_dissertation/Chapters/MultiTask/Figures/\"\n",
    "# output_format = \"pdf\"\n",
    "# fig.savefig(f\"{output_location}/correlation.{output_format}\", bbox_inches=\"tight\", format=f\"{output_format}\", dpi=300)"
   ],
   "metadata": {
    "collapsed": false
   },
   "outputs": []
  },
  {
   "cell_type": "code",
   "execution_count": 8,
   "source": [],
   "metadata": {
    "collapsed": false
   },
   "outputs": []
  },
  {
   "cell_type": "code",
   "execution_count": 18,
   "source": [
    "subset_df = avgs_w_target.loc[\n",
    "    :,\n",
    "    [\n",
    "        \"statistics.rocksdb_bytes_per_write\",\n",
    "        # \"statistics.rocksdb_numfiles_in_singlecompaction\",\n",
    "        \"statistics.rocksdb_db_get_micros\",\n",
    "        \"statistics.rocksdb_compaction_outfile_sync_micros\",\n",
    "        \"db_bench.readrandomwriterandom.iops\",\n",
    "    ],\n",
    "]\n",
    "\n",
    "col_rename['db_bench.readrandomwriterandom.iops'] = 'iops'\n",
    "subset_df = subset_df.rename(columns=col_rename)"
   ],
   "metadata": {
    "collapsed": false
   },
   "outputs": []
  },
  {
   "cell_type": "code",
   "execution_count": 16,
   "source": [
    "subset_df.to_csv('./random_analysis_selected_targets.csv')"
   ],
   "metadata": {
    "collapsed": false
   },
   "outputs": []
  },
  {
   "cell_type": "code",
   "execution_count": 19,
   "source": [
    "from sklearn.preprocessing import scale\n",
    "\n",
    "subset_df.loc[:] = scale(subset_df)\n",
    "subset_df"
   ],
   "metadata": {
    "collapsed": false
   },
   "outputs": []
  },
  {
   "cell_type": "code",
   "execution_count": 15,
   "source": [
    "subset_df.columns"
   ],
   "metadata": {
    "collapsed": false
   },
   "outputs": []
  },
  {
   "cell_type": "code",
   "execution_count": 22,
   "source": [
    "DPI = 600  # default dpi for most printers\n",
    "plt.style.use(\"ggplot\")\n",
    "sns.set_theme(style=\"ticks\", rc={\"axes.spines.right\": False, \"axes.spines.top\": False})\n",
    "sns.set_context(\"paper\")  # , font_scale=1.5, rc={\"lines.linewidth\": 1.5})\n",
    "plt.rcParams[\"svg.fonttype\"] = \"none\"\n",
    "plt.rcParams[\"font.family\"] = \"Arial\"\n",
    "plt.rc(\"text\", usetex=False)\n",
    "plt.rc(\"xtick\", labelsize=\"small\")\n",
    "plt.rc(\"ytick\", labelsize=\"small\")\n",
    "plt.rc(\"axes\", labelsize=\"medium\")\n",
    "plt.rc(\"pdf\", use14corefonts=True)\n",
    "\n",
    "output_location = \"/Users/salabed/workspace/latex_writings/thesis/phd_dissertation/Chapters/MultiTask/Figures/\"\n",
    "output_format = \"pdf\"\n",
    "\n",
    "f = sns.pairplot(\n",
    "    data=subset_df.rename(columns={\"iops\": \"IOPS\"}),\n",
    "    y_vars=[\"IOPS\"],\n",
    "    x_vars=[\"bytes_per_write\", \"db_get\", \"compaction_outfile_sync\"], #\"numfiles_in_singlecompaction\"],\n",
    "    kind=\"reg\"\n",
    ")\n",
    "f.savefig(f\"{output_location}/regs.{output_format}\", bbox_inches=\"tight\", format=f\"{output_format}\", dpi=300)"
   ],
   "metadata": {
    "collapsed": false
   },
   "outputs": []
  },
  {
   "cell_type": "code",
   "execution_count": 41,
   "source": [
    "counts_w_target = pd.concat([target_df, counts_data_df], axis=1)\n",
    "\n",
    "no_low_var = counts_w_target.loc[:, (counts_w_target.var() >= 0.3)]\n",
    "target_name = list(target_df.columns)\n",
    "correlation_matrix = (\n",
    "    no_low_var.corr()[target_name].sort_values(by=target_name, ascending=False).drop(target_name, axis=0)\n",
    ")\n",
    "sns.heatmap(correlation_matrix, vmin=-1, vmax=1, annot=True, cmap=\"BrBG\")"
   ],
   "metadata": {
    "collapsed": false
   },
   "outputs": []
  },
  {
   "cell_type": "code",
   "execution_count": 43,
   "source": [
    "correlation_matrix"
   ],
   "metadata": {
    "collapsed": false
   },
   "outputs": []
  }
 ],
 "metadata": {
  "kernelspec": {
   "display_name": "Python 3",
   "language": "python",
   "name": "python3"
  },
  "language_info": {
   "codemirror_mode": {
    "name": "ipython",
    "version": 2
   },
   "file_extension": ".py",
   "mimetype": "text/x-python",
   "name": "python",
   "nbconvert_exporter": "python",
   "pygments_lexer": "ipython2",
   "version": "2.7.6"
  }
 },
 "nbformat": 4,
 "nbformat_minor": 0
}
