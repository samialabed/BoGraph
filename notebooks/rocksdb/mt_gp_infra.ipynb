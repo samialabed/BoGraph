{
 "cells": [
  {
   "cell_type": "code",
   "execution_count": 1,
   "metadata": {
    "collapsed": true
   },
   "source": [
    "import botorch.posteriors\n",
    "%matplotlib inline\n",
    "%load_ext autoreload\n",
    "%autoreload 2"
   ],
   "outputs": []
  },
  {
   "cell_type": "code",
   "execution_count": 2,
   "source": [
    "import matplotlib.pyplot as plt\n",
    "from sysgym.envs.rocksdb.schema import RocksDB10Params\n",
    "from sysgym.envs.rocksdb.benchmarks.dbbench.established_benchmarks import DBBenchTasks\n",
    "from autorocks.data.loader.all_models_result_aggregator import create_all_models_comparison_dataset\n",
    "import autorocks.dir_struct  as data_dirs\n",
    "import pandas as pd\n",
    "import numpy as np\n",
    "import torch\n",
    "from botorch.models.transforms import input as i_transformer\n",
    "from botorch.models.transforms import outcome as o_transformer\n",
    "from botorch.optim.fit import fit_gpytorch_torch\n",
    "from gpytorch import ExactMarginalLogLikelihood\n",
    "from botorch import models\n",
    "from autorocks.viz import viz\n",
    "import gpytorch\n"
   ],
   "metadata": {
    "collapsed": false
   },
   "outputs": []
  },
  {
   "cell_type": "code",
   "execution_count": 3,
   "source": [
    "# NN inside the mean function: https://github.com/cornellius-gp/gpytorch/issues/674\n",
    "\n",
    "data_x = pd.read_csv('random_analysis_params.csv', index_col = 0)\n",
    "data_x = data_x.drop(columns=['step', 'iteration', 'model'])\n",
    "data_y_full = pd.read_csv('random_analysis_selected_targets.csv', index_col = 0)"
   ],
   "metadata": {
    "collapsed": false
   },
   "outputs": []
  },
  {
   "cell_type": "code",
   "execution_count": 39,
   "source": [
    "data_y = data_y_full.loc[:, [\n",
    "                           'bytes_per_write',\n",
    "                           # 'numfiles_in_singlecompaction',\n",
    "                           'db_get',\n",
    "                            # 'compaction_outfile_sync',\n",
    "                           'iops']]"
   ],
   "metadata": {
    "collapsed": false
   },
   "outputs": []
  },
  {
   "cell_type": "code",
   "execution_count": 40,
   "source": [
    "train_points = 80\n",
    "test_points = data_x.shape[0] - train_points\n"
   ],
   "metadata": {
    "collapsed": false
   },
   "outputs": []
  },
  {
   "cell_type": "code",
   "execution_count": 41,
   "source": [
    "train_x = torch.tensor(data_x.loc[:train_points].values)\n",
    "train_y = torch.tensor(data_y.loc[:train_points].values)\n",
    "x_bounds = torch.tensor(RocksDB10Params().bounds()).T\n"
   ],
   "metadata": {
    "collapsed": false
   },
   "outputs": []
  },
  {
   "cell_type": "code",
   "execution_count": 42,
   "source": [
    "input_normalizer = i_transformer.Normalize(d=x_bounds.shape[1], bounds=x_bounds)\n",
    "out_standardizer = o_transformer.Standardize(m=data_y.shape[1])"
   ],
   "metadata": {
    "collapsed": false
   },
   "outputs": []
  },
  {
   "cell_type": "code",
   "execution_count": 47,
   "source": [
    "from botorch.optim.fit import fit_gpytorch_scipy\n",
    "\n",
    "torch.cuda.empty_cache()\n",
    "model = models.KroneckerMultiTaskGP(\n",
    "        train_X=train_x,\n",
    "        train_Y = train_y,\n",
    "        input_transform = input_normalizer,\n",
    "        outcome_transform = out_standardizer,\n",
    "        linear=False\n",
    ")\n",
    "# model = models.SingleTaskGP(\n",
    "#        train_X=train_x,\n",
    "#     train_Y = train_y[:,-1].unsqueeze(-1),\n",
    "#         input_transform = input_normalizer,\n",
    "#         outcome_transform = o_transformer.Standardize(m=1),\n",
    "#         mean_module=gpytorch.means.LinearMean(input_size=train_x.shape[-1])\n",
    "# )\n",
    "\n",
    "\n",
    "model_mll = ExactMarginalLogLikelihood(model.likelihood, model)\n",
    "options={\"maxiter\": 3000, \"lr\": 0.01, \"disp\": True}\n",
    "# options={}\n",
    "fit_gpytorch_torch(model_mll, options=options)\n",
    "# fit_gpytorch_scipy(model_mll, options=options)"
   ],
   "metadata": {
    "collapsed": false
   },
   "outputs": []
  },
  {
   "cell_type": "code",
   "execution_count": 48,
   "source": [
    "\n",
    "def confidence_region(posterior):\n",
    "    \"\"\"\n",
    "    Returns 2 standard deviations above and below the mean.\n",
    "\n",
    "    :rtype: (torch.Tensor, torch.Tensor)\n",
    "    :return: pair of tensors of size (b x d) or (d), where\n",
    "        b is the batch size and d is the dimensionality of the random\n",
    "        variable. The first (second) Tensor is the lower (upper) end of\n",
    "        the confidence region.\n",
    "    \"\"\"\n",
    "    stddev = posterior.variance.sqrt()\n",
    "    std2 = stddev.mul_(2)\n",
    "    mean = posterior.mean\n",
    "    return mean.sub(std2), mean.add(std2)"
   ],
   "metadata": {
    "collapsed": false
   },
   "outputs": []
  },
  {
   "cell_type": "code",
   "execution_count": 49,
   "source": [
    "import gpytorch\n",
    "\n",
    "data_x_ = data_x.loc[train_points:].values\n",
    "data_y_ = data_y.loc[train_points:].values\n",
    "\n",
    "test_x = torch.tensor(data_x_)\n",
    "test_y = torch.tensor(data_y_)\n",
    "\n",
    "# sorted_y = np.take_along_axis(test_y, np.argsort(test_y.numpy(), 0), axis=0)\n",
    "# sorted_x = test_x[np.argsort(test_y.numpy(), 0)[:,-1]]\n",
    "with torch.no_grad(), gpytorch.settings.fast_pred_var():\n",
    "    model.eval()\n",
    "    model.likelihood.eval()\n",
    "    # posterior = model.posterior(torch.cat([test_x, main_task],-1))\n",
    "    # posterior = model.posterior(torch.tensor(data_x.values))\n",
    "    posterior = model.posterior(test_x, observation_noise = True)\n",
    "    ci = confidence_region(posterior)\n",
    "\n",
    "    in_data_posterior = model.posterior(train_x)\n",
    "    in_data_ci = confidence_region(in_data_posterior)"
   ],
   "metadata": {
    "collapsed": false
   },
   "outputs": []
  },
  {
   "cell_type": "code",
   "execution_count": 50,
   "source": [
    "\n",
    "# full_y = torch.tensor(data_y.values)\n",
    "\n",
    "num_tasks = posterior.event_shape[1]\n",
    "f, axes = plt.subplots(1, num_tasks, figsize=(18, 9))\n",
    "# f, ax = plt.subplots(figsize=(4, 3))\n",
    "\n",
    "for task in range(num_tasks):\n",
    "    arg_sorted = np.argsort(test_y, 0)[:,task]\n",
    "    prediction_mean = posterior.mean[arg_sorted, task]\n",
    "\n",
    "    x_axis = np.arange(0, prediction_mean.shape[0])\n",
    "\n",
    "    axes[task].scatter(x_axis, prediction_mean.detach().numpy(), c='b', label='prediction')\n",
    "    axes[task].fill_between(x_axis, ci[0][arg_sorted,task], ci[1][arg_sorted,task], color = 'skyblue', label = '95% confidence interval', alpha=0.3)\n",
    "    axes[task].scatter(x_axis, test_y[arg_sorted, task], c='r', label='truth')\n",
    "    task_name = data_y.columns[task]\n",
    "    axes[task].set(title = f\"Task: {task_name}\")\n",
    "\n",
    "    rmse = torch.sqrt(torch.mean(torch.pow(prediction_mean - test_y[:,task], 2)))\n",
    "    print(f\"Task: {task_name} RMSE: {rmse}\")\n",
    "# f.legend()\n"
   ],
   "metadata": {
    "collapsed": false
   },
   "outputs": []
  },
  {
   "cell_type": "code",
   "execution_count": 33,
   "source": [
    "# single task\n",
    "# full_y = torch.tensor(data_y.values)\n",
    "\n",
    "num_tasks = posterior.event_shape[1]\n",
    "f, ax = plt.subplots(figsize=(4, 3))\n",
    "\n",
    "task = -1\n",
    "arg_sorted = np.argsort(test_y, 0)[:,task]\n",
    "prediction_mean = posterior.mean[arg_sorted, task]\n",
    "\n",
    "x_axis = np.arange(0, prediction_mean.shape[0])\n",
    "\n",
    "ax.scatter(x_axis, prediction_mean.detach().numpy(), c='b', label='prediction')\n",
    "ax.fill_between(x_axis, ci[0][arg_sorted,task], ci[1][arg_sorted,task], color = 'skyblue', label = '95% confidence interval', alpha=0.3)\n",
    "ax.scatter(x_axis, test_y[arg_sorted, task], c='r', label='truth')\n",
    "print(\"RMSE: \", torch.sqrt(torch.mean(torch.pow(prediction_mean - test_y[arg_sorted, task], 2))))\n",
    "# f.legend()\n"
   ],
   "metadata": {
    "collapsed": false
   },
   "outputs": []
  },
  {
   "cell_type": "code",
   "execution_count": 34,
   "source": [
    "#  In model training predictions\n",
    "\n",
    "\n",
    "_, ax = plt.subplots(figsize=(24, 9))\n",
    "task = -1\n",
    "\n",
    "arg_sorted = np.argsort(train_x, 0)[:,task]\n",
    "prediction_mean = in_data_posterior.mean[arg_sorted, task]\n",
    "\n",
    "x_axis = np.arange(0, prediction_mean.shape[0])\n",
    "\n",
    "ax.scatter(x_axis, prediction_mean.detach().numpy(), c='b', label='prediction')\n",
    "ax.fill_between(x_axis, in_data_ci[0][arg_sorted,task], in_data_ci[1][arg_sorted,task], color = 'skyblue', label = '95% confidence interval', alpha=0.3)\n",
    "ax.scatter(x_axis, train_y[arg_sorted, task], c='r', label='truth')\n",
    "\n",
    "# f.legend()\n",
    "\n",
    "print(\"RMSE: \", torch.sqrt(torch.mean(torch.pow(in_data_posterior.mean[:,-1] - train_y[:,-1], 2))))\n"
   ],
   "metadata": {
    "collapsed": false
   },
   "outputs": []
  },
  {
   "cell_type": "code",
   "execution_count": 16,
   "source": [
    "\n",
    "# Multi-task scratchpad\n",
    "from botorch.utils.transforms import normalize\n",
    "task_train_x = []\n",
    "normalized_x =normalize(train_x, bounds=x_bounds)\n",
    "for task in range(data_y.shape[1]):\n",
    "    task_idx = torch.ones(normalized_x.shape[0], 1) * task\n",
    "    # task_train_x.append(torch.cat([torch.index_select(normalized_x, -1, index=torch.tensor(task)),\n",
    "    #                               task_idx], -1))\n",
    "    task_train_x.append(torch.cat([normalized_x, task_idx], -1))\n",
    "task_train_x = torch.cat(task_train_x)\n",
    "\n",
    "task_train_x.shape"
   ],
   "metadata": {
    "collapsed": false
   },
   "outputs": []
  },
  {
   "cell_type": "code",
   "execution_count": 86,
   "source": [
    "num_tasks = train_y.shape[-1]\n",
    "model = models.MultiTaskGP(\n",
    "        train_X=task_train_x,\n",
    "        train_Y =torch.cat(torch.chunk(train_y, num_tasks, dim=-1)),\n",
    "        # input_transform = input_normalizer,\n",
    "        outcome_transform = o_transformer.Standardize(m=1),\n",
    "        task_feature = -1\n",
    ")\n",
    "main_task = torch.ones(test_x.shape[0], 1) * 4\n",
    "\n",
    "\n",
    "model_mll = ExactMarginalLogLikelihood(model.likelihood, model)\n",
    "# options={\"maxiter\": 3000, \"lr\": 0.001, \"disp\": False}\n",
    "options={}\n",
    "fit_gpytorch_scipy(model_mll)\n",
    "# fit_gpytorch_torch(model_mll, options=options)"
   ],
   "metadata": {
    "collapsed": false
   },
   "outputs": []
  },
  {
   "cell_type": "code",
   "execution_count": 50,
   "source": [
    "import gpytorch\n",
    "\n",
    "data_x_ = data_x.loc[train_points:].values\n",
    "data_y_ = data_y.loc[train_points:].values\n",
    "\n",
    "test_x = torch.tensor(data_x_)\n",
    "test_y = torch.tensor(data_y_)\n",
    "\n",
    "# sorted_y = np.take_along_axis(test_y, np.argsort(test_y.numpy(), 0), axis=0)\n",
    "# sorted_x = test_x[np.argsort(test_y.numpy(), 0)[:,-1]]\n",
    "with torch.no_grad(), gpytorch.settings.fast_pred_var():\n",
    "    model.eval()\n",
    "    model.likelihood.eval()\n",
    "    posterior = model.posterior(test_x)\n",
    "    ci = confidence_region(posterior)\n",
    "\n",
    "    in_data_posterior = model.posterior(train_x)\n",
    "    in_data_ci = confidence_region(in_data_posterior)"
   ],
   "metadata": {
    "collapsed": false
   },
   "outputs": []
  },
  {
   "cell_type": "code",
   "execution_count": 54,
   "source": [
    "torch.cat(torch.chunk(train_y, num_tasks, dim=-1))"
   ],
   "metadata": {
    "collapsed": false
   },
   "outputs": []
  }
 ],
 "metadata": {
  "kernelspec": {
   "display_name": "Python 3",
   "language": "python",
   "name": "python3"
  },
  "language_info": {
   "codemirror_mode": {
    "name": "ipython",
    "version": 2
   },
   "file_extension": ".py",
   "mimetype": "text/x-python",
   "name": "python",
   "nbconvert_exporter": "python",
   "pygments_lexer": "ipython2",
   "version": "2.7.6"
  }
 },
 "nbformat": 4,
 "nbformat_minor": 0
}
