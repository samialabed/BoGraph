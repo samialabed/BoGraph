{
 "cells": [
  {
   "cell_type": "code",
   "id": "initial_id",
   "metadata": {
    "collapsed": true,
    "ExecuteTime": {
     "end_time": "2024-05-25T09:44:42.448400Z",
     "start_time": "2024-05-25T09:44:42.400679Z"
    }
   },
   "source": [
    "import numpy as np\n",
    "%matplotlib inline\n",
    "%load_ext autoreload\n",
    "%autoreload 2"
   ],
   "outputs": [],
   "execution_count": 1
  },
  {
   "metadata": {
    "ExecuteTime": {
     "end_time": "2024-05-25T10:18:26.164855Z",
     "start_time": "2024-05-25T10:18:26.132554Z"
    }
   },
   "cell_type": "code",
   "source": [
    "\n",
    "import logging\n",
    "\n",
    "logger = logging.getLogger()\n",
    "logger.setLevel(logging.INFO)"
   ],
   "id": "291db59f8c403ae6",
   "outputs": [],
   "execution_count": 2
  },
  {
   "metadata": {
    "ExecuteTime": {
     "end_time": "2024-05-25T10:48:22.616992Z",
     "start_time": "2024-05-25T10:48:22.219448Z"
    }
   },
   "cell_type": "code",
   "source": [
    "from typing import Mapping\n",
    "import dataclasses\n",
    "\n",
    "import botorch\n",
    "import networkx as nx\n",
    "import torch\n",
    "import math\n",
    "import sysgym.params.boxes as boxes\n",
    "from sysgym.params import ParamsSpace\n",
    "from IPython.core.display import SVG, display\n",
    "from autorocks.envs.synthetic.funcs import levy\n",
    "\n",
    "tkwargs = {\n",
    "    \"dtype\": torch.double,\n",
    "    \"device\": torch.device(\"cuda\" if torch.cuda.is_available() else \"cpu\"),\n",
    "}\n",
    "\n",
    "\n",
    "\n",
    "def draw(graph, path = None):\n",
    "    svg = nx.nx_agraph.to_agraph(graph).draw(path = path, prog = \"dot\", format = \"svg\")\n",
    "    display(SVG(svg))\n",
    "\n",
    "levy_struct = levy.make_struct(6)\n",
    "draw(levy_struct)\n",
    "\n",
    "\n"
   ],
   "id": "43f3ef4d9fa6c43f",
   "outputs": [
    {
     "name": "stderr",
     "output_type": "stream",
     "text": [
      "/tmp/ipykernel_13298/2474063770.py:10: DeprecationWarning: Importing display from IPython.core.display is deprecated since IPython 7.14, please import from IPython display\n",
      "  from IPython.core.display import SVG, display\n"
     ]
    },
    {
     "data": {
      "text/plain": "<IPython.core.display.SVG object>",
      "image/svg+xml": "<svg xmlns=\"http://www.w3.org/2000/svg\" xmlns:xlink=\"http://www.w3.org/1999/xlink\" width=\"450pt\" height=\"260pt\" viewBox=\"0.00 0.00 450.00 260.00\">\n<g id=\"graph0\" class=\"graph\" transform=\"scale(1 1) rotate(0) translate(4 256)\">\n<polygon fill=\"#ffffff\" stroke=\"transparent\" points=\"-4,4 -4,-256 446,-256 446,4 -4,4\"/>\n<!-- x0 -->\n<g id=\"node1\" class=\"node\">\n<title>x0</title>\n<ellipse fill=\"none\" stroke=\"#000000\" cx=\"27\" cy=\"-234\" rx=\"27\" ry=\"18\"/>\n<text text-anchor=\"middle\" x=\"27\" y=\"-230.3\" font-family=\"Times,serif\" font-size=\"14.00\" fill=\"#000000\">x0</text>\n</g>\n<!-- part1 -->\n<g id=\"node2\" class=\"node\">\n<title>part1</title>\n<ellipse fill=\"none\" stroke=\"#000000\" cx=\"62\" cy=\"-90\" rx=\"28.6953\" ry=\"18\"/>\n<text text-anchor=\"middle\" x=\"62\" y=\"-86.3\" font-family=\"Times,serif\" font-size=\"14.00\" fill=\"#000000\">part1</text>\n</g>\n<!-- x0&#45;&gt;part1 -->\n<g id=\"edge1\" class=\"edge\">\n<title>x0-&gt;part1</title>\n<path fill=\"none\" stroke=\"#000000\" d=\"M21.1649,-216.2112C16.0462,-197.6578 10.6155,-167.9893 19,-144 23.098,-132.275 30.9256,-121.193 38.7913,-112.1552\"/>\n<polygon fill=\"#000000\" stroke=\"#000000\" points=\"41.3982,-114.4913 45.6206,-104.7742 36.2601,-109.7373 41.3982,-114.4913\"/>\n</g>\n<!-- z0 -->\n<g id=\"node3\" class=\"node\">\n<title>z0</title>\n<ellipse fill=\"none\" stroke=\"#000000\" cx=\"55\" cy=\"-162\" rx=\"27\" ry=\"18\"/>\n<text text-anchor=\"middle\" x=\"55\" y=\"-158.3\" font-family=\"Times,serif\" font-size=\"14.00\" fill=\"#000000\">z0</text>\n</g>\n<!-- x0&#45;&gt;z0 -->\n<g id=\"edge2\" class=\"edge\">\n<title>x0-&gt;z0</title>\n<path fill=\"none\" stroke=\"#000000\" d=\"M33.778,-216.5708C36.9872,-208.3187 40.8935,-198.2738 44.4758,-189.0623\"/>\n<polygon fill=\"#000000\" stroke=\"#000000\" points=\"47.8248,-190.1069 48.1874,-179.5182 41.3008,-187.5697 47.8248,-190.1069\"/>\n</g>\n<!-- target -->\n<g id=\"node4\" class=\"node\">\n<title>target</title>\n<ellipse fill=\"none\" stroke=\"#000000\" cx=\"199\" cy=\"-18\" rx=\"30.5947\" ry=\"18\"/>\n<text text-anchor=\"middle\" x=\"199\" y=\"-14.3\" font-family=\"Times,serif\" font-size=\"14.00\" fill=\"#000000\">target</text>\n</g>\n<!-- part1&#45;&gt;target -->\n<g id=\"edge3\" class=\"edge\">\n<title>part1-&gt;target</title>\n<path fill=\"none\" stroke=\"#000000\" d=\"M84.0114,-78.432C106.5114,-66.6071 141.6815,-48.1236 167.2043,-34.7102\"/>\n<polygon fill=\"#000000\" stroke=\"#000000\" points=\"168.9058,-37.7699 176.1295,-30.0195 165.6493,-31.5735 168.9058,-37.7699\"/>\n</g>\n<!-- part2 -->\n<g id=\"node7\" class=\"node\">\n<title>part2</title>\n<ellipse fill=\"none\" stroke=\"#000000\" cx=\"199\" cy=\"-90\" rx=\"28.6953\" ry=\"18\"/>\n<text text-anchor=\"middle\" x=\"199\" y=\"-86.3\" font-family=\"Times,serif\" font-size=\"14.00\" fill=\"#000000\">part2</text>\n</g>\n<!-- z0&#45;&gt;part2 -->\n<g id=\"edge6\" class=\"edge\">\n<title>z0-&gt;part2</title>\n<path fill=\"none\" stroke=\"#000000\" d=\"M76.8705,-151.0647C100.9407,-139.0297 139.8498,-119.5751 167.2711,-105.8645\"/>\n<polygon fill=\"#000000\" stroke=\"#000000\" points=\"169.0691,-108.8787 176.4481,-101.276 165.9385,-102.6177 169.0691,-108.8787\"/>\n</g>\n<!-- x5 -->\n<g id=\"node5\" class=\"node\">\n<title>x5</title>\n<ellipse fill=\"none\" stroke=\"#000000\" cx=\"415\" cy=\"-162\" rx=\"27\" ry=\"18\"/>\n<text text-anchor=\"middle\" x=\"415\" y=\"-158.3\" font-family=\"Times,serif\" font-size=\"14.00\" fill=\"#000000\">x5</text>\n</g>\n<!-- part3 -->\n<g id=\"node6\" class=\"node\">\n<title>part3</title>\n<ellipse fill=\"none\" stroke=\"#000000\" cx=\"344\" cy=\"-90\" rx=\"28.6953\" ry=\"18\"/>\n<text text-anchor=\"middle\" x=\"344\" y=\"-86.3\" font-family=\"Times,serif\" font-size=\"14.00\" fill=\"#000000\">part3</text>\n</g>\n<!-- x5&#45;&gt;part3 -->\n<g id=\"edge4\" class=\"edge\">\n<title>x5-&gt;part3</title>\n<path fill=\"none\" stroke=\"#000000\" d=\"M399.9427,-146.7307C390.2853,-136.9372 377.5659,-124.0387 366.6959,-113.0156\"/>\n<polygon fill=\"#000000\" stroke=\"#000000\" points=\"369.04,-110.4079 359.5264,-105.7451 364.0557,-115.323 369.04,-110.4079\"/>\n</g>\n<!-- part3&#45;&gt;target -->\n<g id=\"edge5\" class=\"edge\">\n<title>part3-&gt;target</title>\n<path fill=\"none\" stroke=\"#000000\" d=\"M321.3438,-78.75C297.2612,-66.7918 258.9571,-47.7718 231.6262,-34.2006\"/>\n<polygon fill=\"#000000\" stroke=\"#000000\" points=\"232.9711,-30.9607 222.4579,-29.6481 229.8579,-37.2303 232.9711,-30.9607\"/>\n</g>\n<!-- part2&#45;&gt;target -->\n<g id=\"edge7\" class=\"edge\">\n<title>part2-&gt;target</title>\n<path fill=\"none\" stroke=\"#000000\" d=\"M199,-71.8314C199,-64.131 199,-54.9743 199,-46.4166\"/>\n<polygon fill=\"#000000\" stroke=\"#000000\" points=\"202.5001,-46.4132 199,-36.4133 195.5001,-46.4133 202.5001,-46.4132\"/>\n</g>\n<!-- x1 -->\n<g id=\"node8\" class=\"node\">\n<title>x1</title>\n<ellipse fill=\"none\" stroke=\"#000000\" cx=\"127\" cy=\"-234\" rx=\"27\" ry=\"18\"/>\n<text text-anchor=\"middle\" x=\"127\" y=\"-230.3\" font-family=\"Times,serif\" font-size=\"14.00\" fill=\"#000000\">x1</text>\n</g>\n<!-- z1 -->\n<g id=\"node9\" class=\"node\">\n<title>z1</title>\n<ellipse fill=\"none\" stroke=\"#000000\" cx=\"127\" cy=\"-162\" rx=\"27\" ry=\"18\"/>\n<text text-anchor=\"middle\" x=\"127\" y=\"-158.3\" font-family=\"Times,serif\" font-size=\"14.00\" fill=\"#000000\">z1</text>\n</g>\n<!-- x1&#45;&gt;z1 -->\n<g id=\"edge8\" class=\"edge\">\n<title>x1-&gt;z1</title>\n<path fill=\"none\" stroke=\"#000000\" d=\"M127,-215.8314C127,-208.131 127,-198.9743 127,-190.4166\"/>\n<polygon fill=\"#000000\" stroke=\"#000000\" points=\"130.5001,-190.4132 127,-180.4133 123.5001,-190.4133 130.5001,-190.4132\"/>\n</g>\n<!-- z1&#45;&gt;part2 -->\n<g id=\"edge9\" class=\"edge\">\n<title>z1-&gt;part2</title>\n<path fill=\"none\" stroke=\"#000000\" d=\"M142.2693,-146.7307C152.197,-136.803 165.3153,-123.6847 176.4363,-112.5637\"/>\n<polygon fill=\"#000000\" stroke=\"#000000\" points=\"179.1564,-114.7933 183.7527,-105.2473 174.2067,-109.8436 179.1564,-114.7933\"/>\n</g>\n<!-- x2 -->\n<g id=\"node10\" class=\"node\">\n<title>x2</title>\n<ellipse fill=\"none\" stroke=\"#000000\" cx=\"199\" cy=\"-234\" rx=\"27\" ry=\"18\"/>\n<text text-anchor=\"middle\" x=\"199\" y=\"-230.3\" font-family=\"Times,serif\" font-size=\"14.00\" fill=\"#000000\">x2</text>\n</g>\n<!-- z2 -->\n<g id=\"node11\" class=\"node\">\n<title>z2</title>\n<ellipse fill=\"none\" stroke=\"#000000\" cx=\"199\" cy=\"-162\" rx=\"27\" ry=\"18\"/>\n<text text-anchor=\"middle\" x=\"199\" y=\"-158.3\" font-family=\"Times,serif\" font-size=\"14.00\" fill=\"#000000\">z2</text>\n</g>\n<!-- x2&#45;&gt;z2 -->\n<g id=\"edge10\" class=\"edge\">\n<title>x2-&gt;z2</title>\n<path fill=\"none\" stroke=\"#000000\" d=\"M199,-215.8314C199,-208.131 199,-198.9743 199,-190.4166\"/>\n<polygon fill=\"#000000\" stroke=\"#000000\" points=\"202.5001,-190.4132 199,-180.4133 195.5001,-190.4133 202.5001,-190.4132\"/>\n</g>\n<!-- z2&#45;&gt;part2 -->\n<g id=\"edge11\" class=\"edge\">\n<title>z2-&gt;part2</title>\n<path fill=\"none\" stroke=\"#000000\" d=\"M199,-143.8314C199,-136.131 199,-126.9743 199,-118.4166\"/>\n<polygon fill=\"#000000\" stroke=\"#000000\" points=\"202.5001,-118.4132 199,-108.4133 195.5001,-118.4133 202.5001,-118.4132\"/>\n</g>\n<!-- x3 -->\n<g id=\"node12\" class=\"node\">\n<title>x3</title>\n<ellipse fill=\"none\" stroke=\"#000000\" cx=\"271\" cy=\"-234\" rx=\"27\" ry=\"18\"/>\n<text text-anchor=\"middle\" x=\"271\" y=\"-230.3\" font-family=\"Times,serif\" font-size=\"14.00\" fill=\"#000000\">x3</text>\n</g>\n<!-- z3 -->\n<g id=\"node13\" class=\"node\">\n<title>z3</title>\n<ellipse fill=\"none\" stroke=\"#000000\" cx=\"271\" cy=\"-162\" rx=\"27\" ry=\"18\"/>\n<text text-anchor=\"middle\" x=\"271\" y=\"-158.3\" font-family=\"Times,serif\" font-size=\"14.00\" fill=\"#000000\">z3</text>\n</g>\n<!-- x3&#45;&gt;z3 -->\n<g id=\"edge12\" class=\"edge\">\n<title>x3-&gt;z3</title>\n<path fill=\"none\" stroke=\"#000000\" d=\"M271,-215.8314C271,-208.131 271,-198.9743 271,-190.4166\"/>\n<polygon fill=\"#000000\" stroke=\"#000000\" points=\"274.5001,-190.4132 271,-180.4133 267.5001,-190.4133 274.5001,-190.4132\"/>\n</g>\n<!-- z3&#45;&gt;part2 -->\n<g id=\"edge13\" class=\"edge\">\n<title>z3-&gt;part2</title>\n<path fill=\"none\" stroke=\"#000000\" d=\"M255.7307,-146.7307C245.803,-136.803 232.6847,-123.6847 221.5637,-112.5637\"/>\n<polygon fill=\"#000000\" stroke=\"#000000\" points=\"223.7933,-109.8436 214.2473,-105.2473 218.8436,-114.7933 223.7933,-109.8436\"/>\n</g>\n<!-- x4 -->\n<g id=\"node14\" class=\"node\">\n<title>x4</title>\n<ellipse fill=\"none\" stroke=\"#000000\" cx=\"343\" cy=\"-234\" rx=\"27\" ry=\"18\"/>\n<text text-anchor=\"middle\" x=\"343\" y=\"-230.3\" font-family=\"Times,serif\" font-size=\"14.00\" fill=\"#000000\">x4</text>\n</g>\n<!-- z4 -->\n<g id=\"node15\" class=\"node\">\n<title>z4</title>\n<ellipse fill=\"none\" stroke=\"#000000\" cx=\"343\" cy=\"-162\" rx=\"27\" ry=\"18\"/>\n<text text-anchor=\"middle\" x=\"343\" y=\"-158.3\" font-family=\"Times,serif\" font-size=\"14.00\" fill=\"#000000\">z4</text>\n</g>\n<!-- x4&#45;&gt;z4 -->\n<g id=\"edge14\" class=\"edge\">\n<title>x4-&gt;z4</title>\n<path fill=\"none\" stroke=\"#000000\" d=\"M343,-215.8314C343,-208.131 343,-198.9743 343,-190.4166\"/>\n<polygon fill=\"#000000\" stroke=\"#000000\" points=\"346.5001,-190.4132 343,-180.4133 339.5001,-190.4133 346.5001,-190.4132\"/>\n</g>\n<!-- z4&#45;&gt;part2 -->\n<g id=\"edge15\" class=\"edge\">\n<title>z4-&gt;part2</title>\n<path fill=\"none\" stroke=\"#000000\" d=\"M321.1295,-151.0647C297.0593,-139.0297 258.1502,-119.5751 230.7289,-105.8645\"/>\n<polygon fill=\"#000000\" stroke=\"#000000\" points=\"232.0615,-102.6177 221.5519,-101.276 228.9309,-108.8787 232.0615,-102.6177\"/>\n</g>\n</g>\n</svg>"
     },
     "metadata": {},
     "output_type": "display_data"
    }
   ],
   "execution_count": 3
  },
  {
   "metadata": {
    "ExecuteTime": {
     "end_time": "2024-05-25T10:48:22.771770Z",
     "start_time": "2024-05-25T10:48:22.618376Z"
    }
   },
   "cell_type": "code",
   "source": [
    "from autorocks.optimizer.bograph import bobn\n",
    "\n",
    "bobn = bobn.BoBn(levy_struct,\n",
    "                 params = LevySpace,\n",
    "                 objectives = {'y'})"
   ],
   "id": "7f7767b62c186b00",
   "outputs": [
    {
     "name": "stderr",
     "output_type": "stream",
     "text": [
      "INFO:root:Creating a subgraph for the group: {'x14', 'z14'}\n",
      "INFO:root:Creating a subgraph for the group: {'x4', 'z4'}\n",
      "INFO:root:Creating a subgraph for the group: {'z16', 'x16'}\n",
      "INFO:root:Creating a subgraph for the group: {'x23', 'z23'}\n",
      "INFO:root:Creating a subgraph for the group: {'x3', 'z3'}\n",
      "INFO:root:Creating a subgraph for the group: {'z6', 'x6'}\n",
      "INFO:root:Creating a subgraph for the group: {'z18', 'x18'}\n",
      "INFO:root:Creating a subgraph for the group: {'z5', 'x5'}\n",
      "INFO:root:Creating a subgraph for the group: {'z22', 'x22'}\n",
      "INFO:root:Creating a subgraph for the group: {'x12', 'z12'}\n",
      "INFO:root:Creating a subgraph for the group: {'z21', 'x21'}\n",
      "INFO:root:Creating a subgraph for the group: {'z0', 'x0', 'part1'}\n",
      "INFO:root:Creating a subgraph for the group: {'z11', 'x11'}\n",
      "INFO:root:Creating a subgraph for the group: {'z1', 'x1'}\n",
      "INFO:root:Creating a subgraph for the group: {'z20', 'x20'}\n",
      "INFO:root:Creating a subgraph for the group: {'x13', 'z13'}\n",
      "INFO:root:Creating a subgraph for the group: {'z7', 'x7'}\n",
      "INFO:root:Creating a subgraph for the group: {'x24', 'part3'}\n",
      "INFO:root:Creating a subgraph for the group: {'x9', 'z9'}\n",
      "INFO:root:Creating a subgraph for the group: {'z17', 'x17'}\n",
      "INFO:root:Creating a subgraph for the group: {'z8', 'x8'}\n",
      "INFO:root:Creating a subgraph for the group: {'z19', 'x19'}\n",
      "INFO:root:Creating a subgraph for the group: {'z2', 'x2'}\n",
      "INFO:root:Creating a subgraph for the group: {'z10', 'x10'}\n",
      "INFO:root:Creating a subgraph for the group: {'x15', 'z15'}\n",
      "INFO:root:Creating a 25 number of d-separable subgraphs.\n",
      "INFO:root:Independent subgraph {'x14', 'part2', 'y', 'z14'}, with a max dimension and node: ('part2', 1)\n",
      "INFO:root:Independent subgraph {'x4', 'part2', 'z4', 'y'}, with a max dimension and node: ('part2', 1)\n",
      "INFO:root:Independent subgraph {'z16', 'part2', 'y', 'x16'}, with a max dimension and node: ('z16', 1)\n",
      "INFO:root:Independent subgraph {'x23', 'z23', 'y', 'part2'}, with a max dimension and node: ('z23', 1)\n",
      "INFO:root:Independent subgraph {'part2', 'x3', 'y', 'z3'}, with a max dimension and node: ('part2', 1)\n",
      "INFO:root:Independent subgraph {'part2', 'z6', 'y', 'x6'}, with a max dimension and node: ('part2', 1)\n",
      "INFO:root:Independent subgraph {'z18', 'part2', 'x18', 'y'}, with a max dimension and node: ('z18', 1)\n",
      "INFO:root:Independent subgraph {'part2', 'z5', 'y', 'x5'}, with a max dimension and node: ('part2', 1)\n",
      "INFO:root:Independent subgraph {'z22', 'part2', 'y', 'x22'}, with a max dimension and node: ('z22', 1)\n",
      "INFO:root:Independent subgraph {'x12', 'part2', 'z12', 'y'}, with a max dimension and node: ('part2', 1)\n",
      "INFO:root:Independent subgraph {'z21', 'part2', 'y', 'x21'}, with a max dimension and node: ('z21', 1)\n",
      "INFO:root:Independent subgraph {'y', 'part2', 'part1', 'z0', 'x0'}, with a max dimension and node: ('y', 2)\n",
      "INFO:root:Independent subgraph {'part2', 'z11', 'y', 'x11'}, with a max dimension and node: ('part2', 1)\n",
      "INFO:root:Independent subgraph {'part2', 'z1', 'y', 'x1'}, with a max dimension and node: ('part2', 1)\n",
      "INFO:root:Independent subgraph {'z20', 'part2', 'y', 'x20'}, with a max dimension and node: ('z20', 1)\n",
      "INFO:root:Independent subgraph {'x13', 'part2', 'z13', 'y'}, with a max dimension and node: ('part2', 1)\n",
      "INFO:root:Independent subgraph {'z7', 'part2', 'x7', 'y'}, with a max dimension and node: ('z7', 1)\n",
      "INFO:root:Independent subgraph {'x24', 'part3', 'y'}, with a max dimension and node: ('part3', 1)\n",
      "INFO:root:Independent subgraph {'part2', 'x9', 'y', 'z9'}, with a max dimension and node: ('part2', 1)\n",
      "INFO:root:Independent subgraph {'part2', 'y', 'z17', 'x17'}, with a max dimension and node: ('part2', 1)\n",
      "INFO:root:Independent subgraph {'part2', 'z8', 'y', 'x8'}, with a max dimension and node: ('part2', 1)\n",
      "INFO:root:Independent subgraph {'z19', 'part2', 'y', 'x19'}, with a max dimension and node: ('z19', 1)\n",
      "INFO:root:Independent subgraph {'part2', 'x2', 'y', 'z2'}, with a max dimension and node: ('part2', 1)\n",
      "INFO:root:Independent subgraph {'z10', 'part2', 'y', 'x10'}, with a max dimension and node: ('z10', 1)\n",
      "INFO:root:Independent subgraph {'part2', 'y', 'x15', 'z15'}, with a max dimension and node: ('part2', 1)\n",
      "INFO:root:Built independent subgraphs, with the largest dimension: 2\n"
     ]
    }
   ],
   "execution_count": 80
  },
  {
   "metadata": {
    "ExecuteTime": {
     "end_time": "2024-05-25T10:48:31.850779Z",
     "start_time": "2024-05-25T10:48:31.819339Z"
    }
   },
   "cell_type": "code",
   "source": [
    "levy_evaluate_structure(torch.tensor(LevySpace.sample()).T, 1)"
   ],
   "id": "a96544c14a392363",
   "outputs": [
    {
     "data": {
      "text/plain": [
       "{'part1': tensor([0.9857], dtype=torch.float64),\n",
       " 'part2': tensor([389.5481], dtype=torch.float64),\n",
       " 'part3': tensor([1.4846], dtype=torch.float64),\n",
       " 'y': tensor([392.0184], dtype=torch.float64),\n",
       " 'z0': tensor([11.2638], dtype=torch.float64),\n",
       " 'z1': tensor([1.7187], dtype=torch.float64),\n",
       " 'z2': tensor([2.9775], dtype=torch.float64),\n",
       " 'z3': tensor([1.2009], dtype=torch.float64),\n",
       " 'z4': tensor([16.3232], dtype=torch.float64),\n",
       " 'z5': tensor([8.4264], dtype=torch.float64),\n",
       " 'z6': tensor([11.7165], dtype=torch.float64),\n",
       " 'z7': tensor([1.4170], dtype=torch.float64),\n",
       " 'z8': tensor([5.7023], dtype=torch.float64),\n",
       " 'z9': tensor([17.4748], dtype=torch.float64),\n",
       " 'z10': tensor([9.4196], dtype=torch.float64),\n",
       " 'z11': tensor([79.2273], dtype=torch.float64),\n",
       " 'z12': tensor([4.6948], dtype=torch.float64),\n",
       " 'z13': tensor([6.6316], dtype=torch.float64),\n",
       " 'z14': tensor([8.9965], dtype=torch.float64),\n",
       " 'z15': tensor([70.5646], dtype=torch.float64),\n",
       " 'z16': tensor([54.1116], dtype=torch.float64),\n",
       " 'z17': tensor([7.2567], dtype=torch.float64),\n",
       " 'z18': tensor([4.8614], dtype=torch.float64),\n",
       " 'z19': tensor([1.5895], dtype=torch.float64),\n",
       " 'z20': tensor([50.7737], dtype=torch.float64),\n",
       " 'z21': tensor([2.9150], dtype=torch.float64),\n",
       " 'z22': tensor([0.9814], dtype=torch.float64),\n",
       " 'z23': tensor([9.3033], dtype=torch.float64)}"
      ]
     },
     "execution_count": 82,
     "metadata": {},
     "output_type": "execute_result"
    }
   ],
   "execution_count": 82
  },
  {
   "metadata": {
    "ExecuteTime": {
     "end_time": "2024-05-25T11:10:30.715136Z",
     "start_time": "2024-05-25T11:10:30.673222Z"
    }
   },
   "cell_type": "code",
   "source": [
    "import sysgym\n",
    "test = sysgym.EnvParamsDict(LevySpace)\n",
    "\n",
    "test['x0'] = 1\n",
    "\n",
    "test['x4'] = 4\n",
    "test_ = test.as_numpy().astype(int)\n",
    "import numpy as np\n",
    "np.nan(test_, -1)"
   ],
   "id": "6a733cae4c1b634e",
   "outputs": [
    {
     "ename": "TypeError",
     "evalue": "int() argument must be a string, a bytes-like object or a number, not 'NoneType'",
     "output_type": "error",
     "traceback": [
      "\u001B[0;31m---------------------------------------------------------------------------\u001B[0m",
      "\u001B[0;31mTypeError\u001B[0m                                 Traceback (most recent call last)",
      "\u001B[0;32m/var/folders/lr/bk98jc4x3r51f9vg3cdy_xww0000gr/T/ipykernel_85187/1619895529.py\u001B[0m in \u001B[0;36m<module>\u001B[0;34m\u001B[0m\n\u001B[1;32m      5\u001B[0m \u001B[0;34m\u001B[0m\u001B[0m\n\u001B[1;32m      6\u001B[0m \u001B[0mtest\u001B[0m\u001B[0;34m[\u001B[0m\u001B[0;34m'x4'\u001B[0m\u001B[0;34m]\u001B[0m \u001B[0;34m=\u001B[0m \u001B[0;36m4\u001B[0m\u001B[0;34m\u001B[0m\u001B[0;34m\u001B[0m\u001B[0m\n\u001B[0;32m----> 7\u001B[0;31m \u001B[0mtest_\u001B[0m \u001B[0;34m=\u001B[0m \u001B[0mtest\u001B[0m\u001B[0;34m.\u001B[0m\u001B[0mas_numpy\u001B[0m\u001B[0;34m(\u001B[0m\u001B[0;34m)\u001B[0m\u001B[0;34m.\u001B[0m\u001B[0mastype\u001B[0m\u001B[0;34m(\u001B[0m\u001B[0mint\u001B[0m\u001B[0;34m)\u001B[0m\u001B[0;34m\u001B[0m\u001B[0;34m\u001B[0m\u001B[0m\n\u001B[0m\u001B[1;32m      8\u001B[0m \u001B[0;32mimport\u001B[0m \u001B[0mnumpy\u001B[0m \u001B[0;32mas\u001B[0m \u001B[0mnp\u001B[0m\u001B[0;34m\u001B[0m\u001B[0;34m\u001B[0m\u001B[0m\n\u001B[1;32m      9\u001B[0m \u001B[0mnp\u001B[0m\u001B[0;34m.\u001B[0m\u001B[0mnan\u001B[0m\u001B[0;34m(\u001B[0m\u001B[0mtest_\u001B[0m\u001B[0;34m,\u001B[0m \u001B[0;34m-\u001B[0m\u001B[0;36m1\u001B[0m\u001B[0;34m)\u001B[0m\u001B[0;34m\u001B[0m\u001B[0;34m\u001B[0m\u001B[0m\n",
      "\u001B[0;31mTypeError\u001B[0m: int() argument must be a string, a bytes-like object or a number, not 'NoneType'"
     ]
    }
   ],
   "execution_count": 102
  }
 ],
 "metadata": {
  "kernelspec": {
   "display_name": "Python 3",
   "language": "python",
   "name": "python3"
  },
  "language_info": {
   "codemirror_mode": {
    "name": "ipython",
    "version": 2
   },
   "file_extension": ".py",
   "mimetype": "text/x-python",
   "name": "python",
   "nbconvert_exporter": "python",
   "pygments_lexer": "ipython2",
   "version": "2.7.6"
  }
 },
 "nbformat": 4,
 "nbformat_minor": 5
}
