{
 "cells": [
  {
   "metadata": {},
   "cell_type": "code",
   "outputs": [],
   "execution_count": null,
   "source": [
    "%matplotlib inline\n",
    "%load_ext autoreload\n",
    "%autoreload 2\n"
   ],
   "id": "e105e2e20a2d5911"
  },
  {
   "metadata": {},
   "cell_type": "code",
   "outputs": [],
   "execution_count": null,
   "source": [
    "\n",
    "import os\n",
    "import matplotlib.pyplot as plt\n",
    "\n",
    "import networkx as nx\n",
    "from IPython.core.display import SVG, display\n",
    "import pandas as pd \n",
    "\n",
    "from autorocks.envs.synthetic.funcs import levy\n",
    "\n",
    "_DIM = 25\n",
    "param_space = levy.make_levy_space(_DIM)\n",
    "obj_name = \"target\"\n",
    "\n",
    "iter_count = {25: 100, 50: 125, 100: 200, 300: 500}[_DIM]"
   ],
   "id": "ebefbb369147f837"
  },
  {
   "metadata": {},
   "cell_type": "code",
   "outputs": [],
   "execution_count": null,
   "source": [
    "from autorocks.envs.postgres.benchmarks.benchbase import BenchmarkClass\n",
    "from autorocks.data.loader.all_models_result_aggregator import create_all_models_comparison_dataset\n",
    "import autorocks.dir_struct as DIR\n",
    "\n",
    "exp_dir = DIR.PackageRootDir / \"ProcessedDataNew\" / f\"Levy{_DIM}D/{obj_name}/{len(param_space)}_params/{iter_count}_iter\"\n",
    "model_comparison_data = create_all_models_comparison_dataset(exp_dir)\n"
   ],
   "id": "7d0c8dd251aea5f"
  },
  {
   "metadata": {},
   "cell_type": "code",
   "outputs": [],
   "execution_count": null,
   "source": [
    "df = model_comparison_data.combine_sys_params_metric().copy().drop(columns=['iteration', 'step'])\n",
    "\n",
    "df_fit = df[df['model'] == \"Random\"].copy().drop(columns=['model'])\n",
    "df_test = df[df['model'] != \"Random\"].copy().drop(columns=['model'])"
   ],
   "id": "13536608e42ec564"
  },
  {
   "metadata": {},
   "cell_type": "code",
   "outputs": [],
   "execution_count": null,
   "source": [
    "import bnlearn as bn\n",
    "\n",
    "golden_dag = levy.make_struct(_DIM)\n",
    "# Discretize the continous columns\n",
    "df_disc = bn.discretize(df_fit, list(golden_dag.edges), df_fit.columns, max_iterations=8)\n",
    "df_test_disc = bn.discretize(df_test, list(golden_dag.edges), df_test.columns, max_iterations=1)\n"
   ],
   "id": "82837f58be9d3c5a"
  },
  {
   "cell_type": "code",
   "execution_count": null,
   "id": "initial_id",
   "metadata": {
    "collapsed": true
   },
   "outputs": [],
   "source": [
    "from pgmpy import metrics \n",
    "\n",
    "bn_model = bn.parameter_learning.fit(bn.make_DAG(list(golden_dag.edges)), df_disc.copy(), verbose = 4)\n",
    "golden_metric = metrics.structure_score(bn_model['model'], df_test_disc, scoring_method=\"bic\")\n"
   ]
  },
  {
   "metadata": {},
   "cell_type": "code",
   "outputs": [],
   "execution_count": null,
   "source": [
    "# Baseline DAG = parameters to target - no structure \n",
    "baseline_dag = bn.make_DAG([(p, 'target') for p in param_space])\n",
    "baseline_dag_disc = bn.discretize(df_fit, list(golden_dag.edges), df_fit.columns, max_iterations=8)\n",
    "baseline_dag_bn = bn.parameter_learning.fit(baseline_dag, df_disc.copy(), verbose = 4)\n",
    "no_structure_score = baseline_dag_bn['structure_scores']"
   ],
   "id": "84290dec79bf5e2a"
  },
  {
   "metadata": {},
   "cell_type": "code",
   "outputs": [],
   "execution_count": null,
   "source": [
    "\n",
    "baseline_metric = metrics.structure_score(baseline_dag_bn['model'], df_test[list(baseline_dag_bn['model'].nodes)], scoring_method=\"bic\")\n"
   ],
   "id": "13bad38a4efad9f"
  },
  {
   "metadata": {},
   "cell_type": "code",
   "outputs": [],
   "execution_count": null,
   "source": "baseline_metric / golden_metric ",
   "id": "6912f44a655adb6a"
  },
  {
   "metadata": {},
   "cell_type": "code",
   "outputs": [],
   "execution_count": null,
   "source": [
    "intermediates = []\n",
    "for node in G.nodes:\n",
    "    if node not in param_space and node != \"target\":\n",
    "        intermediates.append(node)\n"
   ],
   "id": "ecace4ddc3dcb03"
  },
  {
   "metadata": {},
   "cell_type": "code",
   "outputs": [],
   "execution_count": null,
   "source": [
    "baseline_model = baseline_dag_bn['model']\n",
    "baseline_model.add_nodes_from(intermediates)\n",
    "baseline_model\n",
    "# metrics.structure_score(baseline_dag['model'], df_disc, scoring_method=\"bic\")"
   ],
   "id": "2dc5ecd864c78967"
  },
  {
   "metadata": {},
   "cell_type": "code",
   "outputs": [],
   "execution_count": null,
   "source": [
    "\n",
    "metrics.structure_score(baseline_model, df_disc, scoring_method=\"bic\")\n"
   ],
   "id": "7ea98fa121df3683"
  }
 ],
 "metadata": {
  "kernelspec": {
   "display_name": "Python 3",
   "language": "python",
   "name": "python3"
  },
  "language_info": {
   "codemirror_mode": {
    "name": "ipython",
    "version": 2
   },
   "file_extension": ".py",
   "mimetype": "text/x-python",
   "name": "python",
   "nbconvert_exporter": "python",
   "pygments_lexer": "ipython2",
   "version": "2.7.6"
  }
 },
 "nbformat": 4,
 "nbformat_minor": 5
}
