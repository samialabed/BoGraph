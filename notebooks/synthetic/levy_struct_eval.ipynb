{
 "cells": [
  {
   "cell_type": "code",
   "id": "initial_id",
   "metadata": {
    "collapsed": true,
    "ExecuteTime": {
     "end_time": "2024-08-25T17:22:41.081069Z",
     "start_time": "2024-08-25T17:22:40.975061Z"
    }
   },
   "source": [
    "%matplotlib inline\n",
    "%load_ext autoreload\n",
    "%autoreload 2\n"
   ],
   "outputs": [
    {
     "name": "stdout",
     "output_type": "stream",
     "text": [
      "The autoreload extension is already loaded. To reload it, use:\n",
      "  %reload_ext autoreload\n"
     ]
    }
   ],
   "execution_count": 199
  },
  {
   "metadata": {
    "ExecuteTime": {
     "end_time": "2024-08-25T17:24:59.681936Z",
     "start_time": "2024-08-25T17:24:59.558851Z"
    }
   },
   "cell_type": "code",
   "source": [
    "\n",
    "import os\n",
    "\n",
    "import networkx as nx\n",
    "import pandas as pd \n",
    "import torch \n",
    "from autorocks.optimizer.bograph import bobn_utils\n",
    "\n",
    "from autorocks.envs.synthetic.funcs import levy\n",
    "\n",
    "_DIM = 6\n",
    "param_space = levy.make_levy_space(_DIM)\n",
    "obj_name = \"target\"\n",
    "\n",
    "iter_count = {6: 100, 25: 100, 50: 125, 100: 200, 300: 500}[_DIM]"
   ],
   "id": "85027e8a7fdc0884",
   "outputs": [],
   "execution_count": 200
  },
  {
   "metadata": {
    "ExecuteTime": {
     "end_time": "2024-08-25T17:24:59.913153Z",
     "start_time": "2024-08-25T17:24:59.818207Z"
    }
   },
   "cell_type": "code",
   "source": [
    "from autorocks.data.loader.all_models_result_aggregator import create_all_models_comparison_dataset\n",
    "import autorocks.dir_struct as DIR\n",
    "\n",
    "exp_dir = DIR.PackageRootDir / \"ProcessedDataNew\" / f\"Levy{_DIM}D/{obj_name}/{len(param_space)}_params/{iter_count}_iter\"\n",
    "model_comparison_data = create_all_models_comparison_dataset(exp_dir)\n"
   ],
   "id": "158d4ab95f07ae11",
   "outputs": [
    {
     "name": "stderr",
     "output_type": "stream",
     "text": [
      "[datazets] >INFO> Creating model summary in /Users/salabed/workspace/autorocks/ProcessedDataNew/Levy6D/target/6_params/100_iter/Random\n",
      "[datazets] >INFO> Created exp_trainings_time.csv\n",
      "[datazets] >INFO> Created exp_chosen_params.csv\n",
      "[datazets] >INFO> Created exp_sys_measurements.csv\n",
      "[datazets] >INFO> Saving ModelExperimentsData in /Users/salabed/workspace/autorocks/ProcessedDataNew/Levy6D/target/6_params/100_iter/Random\n",
      "[datazets] >INFO> Creating checkpoint file /Users/salabed/workspace/autorocks/ProcessedDataNew/Levy6D/target/6_params/100_iter/Random/parsed_exp.csv\n",
      "[datazets] >INFO> Saving ModelExperimentsData in /Users/salabed/workspace/autorocks/ProcessedDataNew/Levy6D/target/6_params/100_iter\n"
     ]
    }
   ],
   "execution_count": 201
  },
  {
   "metadata": {
    "ExecuteTime": {
     "end_time": "2024-08-25T17:25:01.254696Z",
     "start_time": "2024-08-25T17:25:01.205999Z"
    }
   },
   "cell_type": "code",
   "source": [
    "df = model_comparison_data.combine_sys_params_metric().copy().drop(columns=['iteration', 'step'])\n",
    "\n",
    "df_fit = df[df['model'] == \"Random\"].copy().drop(columns=['model'])\n",
    "df_test = df[df['model'] != \"Random\"].copy().drop(columns=['model'])"
   ],
   "id": "8f712cb3194661d7",
   "outputs": [],
   "execution_count": 202
  },
  {
   "metadata": {
    "ExecuteTime": {
     "end_time": "2024-08-25T17:25:01.815412Z",
     "start_time": "2024-08-25T17:25:01.783952Z"
    }
   },
   "cell_type": "code",
   "source": [
    "golden_dag = levy.make_struct(_DIM)\n",
    "baseline_dag = nx.DiGraph()\n",
    "baseline_dag.add_edges_from(([(p, 'target') for p in param_space]))\n",
    "\n",
    "intermediates = []\n",
    "for node in df_fit.columns:\n",
    "    if node not in param_space and node != \"target\":\n",
    "        intermediates.append(node)"
   ],
   "id": "2f4b4bc52daabecd",
   "outputs": [],
   "execution_count": 203
  },
  {
   "metadata": {
    "ExecuteTime": {
     "end_time": "2024-08-25T17:25:20.686335Z",
     "start_time": "2024-08-25T17:25:02.325762Z"
    }
   },
   "cell_type": "code",
   "source": [
    "from castle import algorithms\n",
    "os.environ['CASTLE_BACKEND']  = 'pytorch'\n",
    "\n",
    "#weighted_dag = nx.to_pandas_adjacency(baseline_dag.copy(), nonedge =0)\n",
    "# weighted_dag -= 0.9 # Remove the edges to the target and create a penalty term between configurations\n",
    "# dag_with_nodes_penalty  = nx.from_pandas_adjacency(weighted_dag)\n",
    "# dag_with_nodes_penalty.add_nodes_from(intermediates)\n",
    "# # Give intermediates a weight of 0.5\n",
    "# b_init = torch.tensor(nx.to_pandas_adjacency(dag_with_nodes_penalty, nonedge=0.0).values)\n",
    "\n",
    "fully_connected_dag = nx.DiGraph()\n",
    "for p in param_space:\n",
    "    fully_connected_dag.add_edges_from([(p, i) for i in intermediates])\n",
    "for i in intermediates:\n",
    "    fully_connected_dag.add_edge(i, \"target\")\n",
    "\n",
    "b_init = torch.tensor(nx.to_pandas_adjacency(fully_connected_dag, nonedge=0.0).values)\n",
    "\n",
    "learned_dag = algorithms.GOLEM(B_init=None,device_type='cpu',num_iter=20000)\n",
    "learned_dag.learn(data=df_fit.values, columns=df_fit.columns)\n"
   ],
   "id": "43c7bc05d1861f64",
   "outputs": [
    {
     "name": "stderr",
     "output_type": "stream",
     "text": [
      "[datazets] >INFO> GPU is unavailable.\n",
      "[datazets] >INFO> Started training for 20000 iterations.\n",
      "[datazets] >INFO> [Iter 0] score=105.903, likelihood=105.903, h=0.0e+00\n",
      "[datazets] >INFO> [Iter 5000] score=86.162, likelihood=84.312, h=1.8e-01\n",
      "[datazets] >INFO> [Iter 10000] score=85.899, likelihood=83.988, h=1.8e-01\n",
      "[datazets] >INFO> [Iter 15000] score=85.867, likelihood=83.924, h=1.7e-01\n",
      "[datazets] >INFO> [Iter 20000] score=85.866, likelihood=83.924, h=1.7e-01\n"
     ]
    }
   ],
   "execution_count": 204
  },
  {
   "metadata": {
    "ExecuteTime": {
     "end_time": "2024-08-25T17:25:20.726302Z",
     "start_time": "2024-08-25T17:25:20.687769Z"
    }
   },
   "cell_type": "code",
   "source": [
    "from autorocks.optimizer.bograph.dag_eval import ModelEvaluator\n",
    "from autorocks.optimizer.bograph import dag_postprocessor\n",
    "\n",
    "G = nx.from_pandas_adjacency(\n",
    "    pd.DataFrame(\n",
    "        learned_dag.causal_matrix,\n",
    "        index=learned_dag.causal_matrix.columns,\n",
    "        columns=learned_dag.causal_matrix.columns,\n",
    "    )\n",
    ")\n",
    "post_proc = dag_postprocessor.postprocess_structure(G, sources = set(param_space), sinks = {\"target\"})"
   ],
   "id": "349d36c79c367087",
   "outputs": [
    {
     "name": "stdout",
     "output_type": "stream",
     "text": [
      "False\n"
     ]
    }
   ],
   "execution_count": 205
  },
  {
   "metadata": {
    "ExecuteTime": {
     "end_time": "2024-08-25T17:32:13.114383Z",
     "start_time": "2024-08-25T17:32:11.435163Z"
    }
   },
   "cell_type": "code",
   "source": "ModelEvaluator(post_proc, params=param_space, objectives = {\"target\"}).score(df_fit)",
   "id": "f6e7af1e7f861df0",
   "outputs": [
    {
     "name": "stderr",
     "output_type": "stream",
     "text": [
      "[datazets] >INFO> Creating a subgraph for the group: {'x4', 'x1'}\n",
      "[datazets] >INFO> Creating a subgraph for the group: {'part3', 'x5', 'x2', 'part1', 'x0'}\n",
      "[datazets] >INFO> Creating a subgraph for the group: {'x0', 'x3', 'part1', 'z3'}\n",
      "[datazets] >INFO> Creating a subgraph for the group: {'part3', 'x3', 'z3', 'x2', 'part1'}\n",
      "[datazets] >INFO> Creating a subgraph for the group: {'z3', 'x3', 'part3', 'x5', 'part1'}\n",
      "[datazets] >INFO> Creating a 5 number of d-separable subgraphs.\n",
      "[datazets] >INFO> Independent subgraph {'x4', 'target', 'x1'}, with a max dimension and node: ('target', 2)\n",
      "[datazets] >INFO> Independent subgraph {'part3', 'x5', 'x2', 'part1', 'target', 'x0'}, with a max dimension and node: ('part3', 3)\n",
      "[datazets] >INFO> Independent subgraph {'part3', 'z3', 'part1', 'x3', 'target', 'x0'}, with a max dimension and node: ('part1', 2)\n",
      "[datazets] >INFO> Independent subgraph {'z3', 'part3', 'x2', 'part1', 'x3', 'target'}, with a max dimension and node: ('part3', 2)\n",
      "[datazets] >INFO> Independent subgraph {'part3', 'x5', 'z3', 'part1', 'x3', 'target'}, with a max dimension and node: ('part3', 2)\n",
      "[datazets] >INFO> Built independent subgraphs, with the largest dimension: 3\n",
      "[datazets] >INFO> Max dimension: 3\n",
      "[datazets] >INFO> Score: 106.7481, Likelihood: 106.1681\n"
     ]
    },
    {
     "name": "stdout",
     "output_type": "stream",
     "text": [
      "p1='x0': p2='x5': union_of_children={'part1', 'part3'}\n",
      "p1='x0': p2='x3': union_of_children={'part1', 'z3'}\n",
      "p1='x2': p2='x5': union_of_children={'part1', 'part3'}\n",
      "p1='x0': p2='x2': union_of_children={'part1', 'part3'}\n",
      "p1='x2': p2='x3': union_of_children={'z3', 'part1', 'part3'}\n",
      "p1='x3': p2='x5': union_of_children={'part3', 'part1', 'z3'}\n"
     ]
    },
    {
     "data": {
      "text/plain": [
       "tensor(106.7481)"
      ]
     },
     "execution_count": 213,
     "metadata": {},
     "output_type": "execute_result"
    }
   ],
   "execution_count": 213
  },
  {
   "metadata": {
    "ExecuteTime": {
     "end_time": "2024-08-25T17:32:29.695278Z",
     "start_time": "2024-08-25T17:32:29.642106Z"
    }
   },
   "cell_type": "code",
   "source": "ModelEvaluator(baseline_dag, param_space, {\"target\"}).score(df_fit)",
   "id": "31876b6bf00dbb16",
   "outputs": [
    {
     "name": "stderr",
     "output_type": "stream",
     "text": [
      "[datazets] >INFO> Creating a subgraph for the group: {'x5', 'x2', 'x1', 'x4', 'x3', 'x0'}\n",
      "[datazets] >INFO> Creating a 1 number of d-separable subgraphs.\n",
      "[datazets] >INFO> Independent subgraph {'x5', 'x2', 'x1', 'x4', 'x3', 'target', 'x0'}, with a max dimension and node: ('target', 6)\n",
      "[datazets] >INFO> Built independent subgraphs, with the largest dimension: 6\n",
      "[datazets] >INFO> Max dimension: 6\n",
      "[datazets] >INFO> Score: 46.7838, Likelihood: 46.6638\n"
     ]
    },
    {
     "data": {
      "text/plain": [
       "tensor(46.7838)"
      ]
     },
     "execution_count": 214,
     "metadata": {},
     "output_type": "execute_result"
    }
   ],
   "execution_count": 214
  },
  {
   "metadata": {
    "ExecuteTime": {
     "end_time": "2024-08-25T17:32:41.410848Z",
     "start_time": "2024-08-25T17:32:41.353720Z"
    }
   },
   "cell_type": "code",
   "source": "ModelEvaluator(golden_dag, param_space, {\"target\"}).score(df_fit)",
   "id": "1e2cb95ac0eaac06",
   "outputs": [
    {
     "name": "stderr",
     "output_type": "stream",
     "text": [
      "[datazets] >INFO> Creating a subgraph for the group: {'z4', 'x4'}\n",
      "[datazets] >INFO> Creating a subgraph for the group: {'x3', 'z3'}\n",
      "[datazets] >INFO> Creating a subgraph for the group: {'x5', 'part3'}\n",
      "[datazets] >INFO> Creating a subgraph for the group: {'z0', 'x0', 'part1'}\n",
      "[datazets] >INFO> Creating a subgraph for the group: {'x2', 'z2'}\n",
      "[datazets] >INFO> Creating a subgraph for the group: {'z1', 'x1'}\n",
      "[datazets] >INFO> Creating a 6 number of d-separable subgraphs.\n",
      "[datazets] >INFO> Independent subgraph {'z4', 'part2', 'x4', 'target'}, with a max dimension and node: ('z4', 1)\n",
      "[datazets] >INFO> Independent subgraph {'part2', 'x3', 'target', 'z3'}, with a max dimension and node: ('part2', 1)\n",
      "[datazets] >INFO> Independent subgraph {'x5', 'target', 'part3'}, with a max dimension and node: ('target', 1)\n",
      "[datazets] >INFO> Independent subgraph {'part1', 'part2', 'target', 'z0', 'x0'}, with a max dimension and node: ('target', 2)\n",
      "[datazets] >INFO> Independent subgraph {'part2', 'x2', 'target', 'z2'}, with a max dimension and node: ('part2', 1)\n",
      "[datazets] >INFO> Independent subgraph {'z1', 'part2', 'target', 'x1'}, with a max dimension and node: ('z1', 1)\n",
      "[datazets] >INFO> Built independent subgraphs, with the largest dimension: 2\n",
      "[datazets] >INFO> Max dimension: 2\n",
      "[datazets] >INFO> Score: 94.6332, Likelihood: 94.3332\n"
     ]
    },
    {
     "name": "stdout",
     "output_type": "stream",
     "text": [
      "p1='x3': p2='x4': union_of_children={'z4', 'z3'}\n",
      "p1='x0': p2='x5': union_of_children={'z0', 'part1', 'part3'}\n",
      "p1='x0': p2='x1': union_of_children={'z0', 'z1', 'part1'}\n",
      "p1='x0': p2='x3': union_of_children={'z0', 'part1', 'z3'}\n",
      "p1='x2': p2='x5': union_of_children={'z2', 'part3'}\n",
      "p1='x1': p2='x5': union_of_children={'z1', 'part3'}\n",
      "p1='x0': p2='x2': union_of_children={'z0', 'z2', 'part1'}\n",
      "p1='x0': p2='x4': union_of_children={'z4', 'z0', 'part1'}\n",
      "p1='x2': p2='x3': union_of_children={'z2', 'z3'}\n",
      "p1='x1': p2='x3': union_of_children={'z1', 'z3'}\n",
      "p1='x2': p2='x4': union_of_children={'z4', 'z2'}\n",
      "p1='x1': p2='x2': union_of_children={'z1', 'z2'}\n",
      "p1='x1': p2='x4': union_of_children={'z4', 'z1'}\n",
      "p1='x3': p2='x5': union_of_children={'part3', 'z3'}\n",
      "p1='x4': p2='x5': union_of_children={'z4', 'part3'}\n"
     ]
    },
    {
     "data": {
      "text/plain": [
       "tensor(94.6332)"
      ]
     },
     "execution_count": 215,
     "metadata": {},
     "output_type": "execute_result"
    }
   ],
   "execution_count": 215
  },
  {
   "metadata": {
    "ExecuteTime": {
     "end_time": "2024-08-25T17:25:28.179617Z",
     "start_time": "2024-08-25T17:25:27.449831Z"
    }
   },
   "cell_type": "code",
   "source": "bobn_utils.draw(post_proc)\n",
   "id": "6bbe49bd10b3a39c",
   "outputs": [
    {
     "data": {
      "text/plain": [
       "<IPython.core.display.SVG object>"
      ],
      "image/svg+xml": "<svg xmlns=\"http://www.w3.org/2000/svg\" xmlns:xlink=\"http://www.w3.org/1999/xlink\" width=\"491pt\" height=\"404pt\" viewBox=\"0.00 0.00 490.90 404.00\">\n<g id=\"graph0\" class=\"graph\" transform=\"scale(1 1) rotate(0) translate(4 400)\">\n<polygon fill=\"white\" stroke=\"transparent\" points=\"-4,4 -4,-400 486.9,-400 486.9,4 -4,4\"/>\n<!-- x0 -->\n<g id=\"node1\" class=\"node\">\n<title>x0</title>\n<ellipse fill=\"none\" stroke=\"black\" cx=\"154\" cy=\"-378\" rx=\"27\" ry=\"18\"/>\n<text text-anchor=\"middle\" x=\"154\" y=\"-374.3\" font-family=\"Times,serif\" font-size=\"14.00\">X0</text>\n</g>\n<!-- part1 -->\n<g id=\"node2\" class=\"node\">\n<title>part1</title>\n<ellipse fill=\"none\" stroke=\"black\" cx=\"140\" cy=\"-306\" rx=\"29.8\" ry=\"18\"/>\n<text text-anchor=\"middle\" x=\"140\" y=\"-302.3\" font-family=\"Times,serif\" font-size=\"14.00\">Part1</text>\n</g>\n<!-- x0&#45;&gt;part1 -->\n<g id=\"edge1\" class=\"edge\">\n<title>x0-&gt;part1</title>\n<path fill=\"none\" stroke=\"black\" d=\"M150.61,-360.05C149.07,-352.35 147.21,-343.03 145.47,-334.36\"/>\n<polygon fill=\"black\" stroke=\"black\" points=\"148.85,-333.39 143.46,-324.28 141.98,-334.77 148.85,-333.39\"/>\n</g>\n<!-- part3 -->\n<g id=\"node3\" class=\"node\">\n<title>part3</title>\n<ellipse fill=\"none\" stroke=\"black\" cx=\"82\" cy=\"-234\" rx=\"29.8\" ry=\"18\"/>\n<text text-anchor=\"middle\" x=\"82\" y=\"-230.3\" font-family=\"Times,serif\" font-size=\"14.00\">Part3</text>\n</g>\n<!-- part1&#45;&gt;part3 -->\n<g id=\"edge2\" class=\"edge\">\n<title>part1-&gt;part3</title>\n<path fill=\"none\" stroke=\"black\" d=\"M127.13,-289.46C119.54,-280.31 109.8,-268.55 101.31,-258.31\"/>\n<polygon fill=\"black\" stroke=\"black\" points=\"103.91,-255.96 94.84,-250.49 98.52,-260.43 103.91,-255.96\"/>\n</g>\n<!-- target -->\n<g id=\"node4\" class=\"node\">\n<title>target</title>\n<ellipse fill=\"none\" stroke=\"black\" cx=\"200\" cy=\"-18\" rx=\"33.6\" ry=\"18\"/>\n<text text-anchor=\"middle\" x=\"200\" y=\"-14.3\" font-family=\"Times,serif\" font-size=\"14.00\">Target</text>\n</g>\n<!-- part3&#45;&gt;target -->\n<g id=\"edge3\" class=\"edge\">\n<title>part3-&gt;target</title>\n<path fill=\"none\" stroke=\"black\" d=\"M65.63,-218.56C55.84,-208.78 44.31,-194.96 39,-180 31.89,-159.96 37.53,-80.4 44,-72 70.29,-37.87 119.65,-25.55 155.83,-21.2\"/>\n<polygon fill=\"black\" stroke=\"black\" points=\"156.54,-24.64 166.13,-20.13 155.82,-17.68 156.54,-24.64\"/>\n</g>\n<!-- z1 -->\n<g id=\"node5\" class=\"node\">\n<title>z1</title>\n<ellipse fill=\"none\" stroke=\"black\" cx=\"82\" cy=\"-162\" rx=\"27\" ry=\"18\"/>\n<text text-anchor=\"middle\" x=\"82\" y=\"-158.3\" font-family=\"Times,serif\" font-size=\"14.00\">Z1</text>\n</g>\n<!-- part3&#45;&gt;z1 -->\n<g id=\"edge4\" class=\"edge\">\n<title>part3-&gt;z1</title>\n<path fill=\"none\" stroke=\"black\" d=\"M82,-215.7C82,-207.98 82,-198.71 82,-190.11\"/>\n<polygon fill=\"black\" stroke=\"black\" points=\"85.5,-190.1 82,-180.1 78.5,-190.1 85.5,-190.1\"/>\n</g>\n<!-- z2 -->\n<g id=\"node6\" class=\"node\">\n<title>z2</title>\n<ellipse fill=\"none\" stroke=\"black\" cx=\"90\" cy=\"-90\" rx=\"27\" ry=\"18\"/>\n<text text-anchor=\"middle\" x=\"90\" y=\"-86.3\" font-family=\"Times,serif\" font-size=\"14.00\">Z2</text>\n</g>\n<!-- part3&#45;&gt;z2 -->\n<g id=\"edge5\" class=\"edge\">\n<title>part3-&gt;z2</title>\n<path fill=\"none\" stroke=\"black\" d=\"M67.88,-217.62C59.75,-207.69 50.32,-194.03 46,-180 41.3,-164.71 40.57,-159.05 46,-144 50.27,-132.17 58.46,-121.11 66.63,-112.19\"/>\n<polygon fill=\"black\" stroke=\"black\" points=\"69.23,-114.54 73.7,-104.93 64.21,-109.65 69.23,-114.54\"/>\n</g>\n<!-- z1&#45;&gt;target -->\n<g id=\"edge11\" class=\"edge\">\n<title>z1-&gt;target</title>\n<path fill=\"none\" stroke=\"black\" d=\"M69.77,-145.91C56.15,-127.15 38.01,-94.82 54,-72 76.93,-39.28 122.23,-26.68 156.32,-21.87\"/>\n<polygon fill=\"black\" stroke=\"black\" points=\"157,-25.31 166.5,-20.62 156.15,-18.37 157,-25.31\"/>\n</g>\n<!-- z1&#45;&gt;z2 -->\n<g id=\"edge12\" class=\"edge\">\n<title>z1-&gt;z2</title>\n<path fill=\"none\" stroke=\"black\" d=\"M83.98,-143.7C84.86,-135.98 85.92,-126.71 86.9,-118.11\"/>\n<polygon fill=\"black\" stroke=\"black\" points=\"90.39,-118.44 88.05,-108.1 83.43,-117.64 90.39,-118.44\"/>\n</g>\n<!-- z2&#45;&gt;target -->\n<g id=\"edge19\" class=\"edge\">\n<title>z2-&gt;target</title>\n<path fill=\"none\" stroke=\"black\" d=\"M109.16,-76.81C126.14,-66 151.18,-50.07 170.67,-37.66\"/>\n<polygon fill=\"black\" stroke=\"black\" points=\"172.63,-40.57 179.19,-32.24 168.87,-34.66 172.63,-40.57\"/>\n</g>\n<!-- x1 -->\n<g id=\"node7\" class=\"node\">\n<title>x1</title>\n<ellipse fill=\"none\" stroke=\"black\" cx=\"215\" cy=\"-306\" rx=\"27\" ry=\"18\"/>\n<text text-anchor=\"middle\" x=\"215\" y=\"-302.3\" font-family=\"Times,serif\" font-size=\"14.00\">X1</text>\n</g>\n<!-- x1&#45;&gt;part3 -->\n<g id=\"edge6\" class=\"edge\">\n<title>x1-&gt;part3</title>\n<path fill=\"none\" stroke=\"black\" d=\"M194.51,-294.22C172.8,-282.79 138.26,-264.61 113.17,-251.41\"/>\n<polygon fill=\"black\" stroke=\"black\" points=\"114.54,-248.17 104.06,-246.61 111.28,-254.37 114.54,-248.17\"/>\n</g>\n<!-- x1&#45;&gt;target -->\n<g id=\"edge7\" class=\"edge\">\n<title>x1-&gt;target</title>\n<path fill=\"none\" stroke=\"black\" d=\"M220.81,-288.16C233.36,-249.17 260,-150.03 236,-72 232.76,-61.47 226.65,-51.16 220.36,-42.48\"/>\n<polygon fill=\"black\" stroke=\"black\" points=\"223,-40.16 214.12,-34.38 217.45,-44.44 223,-40.16\"/>\n</g>\n<!-- x1&#45;&gt;z1 -->\n<g id=\"edge8\" class=\"edge\">\n<title>x1-&gt;z1</title>\n<path fill=\"none\" stroke=\"black\" d=\"M201.27,-290.34C177.87,-265.36 130.16,-214.42 102.7,-185.1\"/>\n<polygon fill=\"black\" stroke=\"black\" points=\"105.25,-182.7 95.86,-177.79 100.14,-187.49 105.25,-182.7\"/>\n</g>\n<!-- z3 -->\n<g id=\"node8\" class=\"node\">\n<title>z3</title>\n<ellipse fill=\"none\" stroke=\"black\" cx=\"302\" cy=\"-234\" rx=\"27\" ry=\"18\"/>\n<text text-anchor=\"middle\" x=\"302\" y=\"-230.3\" font-family=\"Times,serif\" font-size=\"14.00\">Z3</text>\n</g>\n<!-- x1&#45;&gt;z3 -->\n<g id=\"edge9\" class=\"edge\">\n<title>x1-&gt;z3</title>\n<path fill=\"none\" stroke=\"black\" d=\"M231.77,-291.5C244.65,-281.14 262.63,-266.67 277.18,-254.97\"/>\n<polygon fill=\"black\" stroke=\"black\" points=\"279.68,-257.45 285.28,-248.46 275.29,-252 279.68,-257.45\"/>\n</g>\n<!-- z4 -->\n<g id=\"node9\" class=\"node\">\n<title>z4</title>\n<ellipse fill=\"none\" stroke=\"black\" cx=\"200\" cy=\"-90\" rx=\"27\" ry=\"18\"/>\n<text text-anchor=\"middle\" x=\"200\" y=\"-86.3\" font-family=\"Times,serif\" font-size=\"14.00\">Z4</text>\n</g>\n<!-- x1&#45;&gt;z4 -->\n<g id=\"edge10\" class=\"edge\">\n<title>x1-&gt;z4</title>\n<path fill=\"none\" stroke=\"black\" d=\"M213.8,-287.85C211.2,-250.83 205.06,-163.18 201.92,-118.39\"/>\n<polygon fill=\"black\" stroke=\"black\" points=\"205.4,-117.96 201.21,-108.23 198.42,-118.45 205.4,-117.96\"/>\n</g>\n<!-- z3&#45;&gt;target -->\n<g id=\"edge13\" class=\"edge\">\n<title>z3-&gt;target</title>\n<path fill=\"none\" stroke=\"black\" d=\"M302.28,-215.58C302,-184.38 297.75,-117.96 269,-72 259.93,-57.5 245.39,-45.46 231.99,-36.54\"/>\n<polygon fill=\"black\" stroke=\"black\" points=\"233.74,-33.51 223.42,-31.14 230.01,-39.43 233.74,-33.51\"/>\n</g>\n<!-- z4&#45;&gt;target -->\n<g id=\"edge14\" class=\"edge\">\n<title>z4-&gt;target</title>\n<path fill=\"none\" stroke=\"black\" d=\"M200,-71.7C200,-63.98 200,-54.71 200,-46.11\"/>\n<polygon fill=\"black\" stroke=\"black\" points=\"203.5,-46.1 200,-36.1 196.5,-46.1 203.5,-46.1\"/>\n</g>\n<!-- part2 -->\n<g id=\"node10\" class=\"node\">\n<title>part2</title>\n<ellipse fill=\"none\" stroke=\"black\" cx=\"453\" cy=\"-162\" rx=\"29.8\" ry=\"18\"/>\n<text text-anchor=\"middle\" x=\"453\" y=\"-158.3\" font-family=\"Times,serif\" font-size=\"14.00\">Part2</text>\n</g>\n<!-- part2&#45;&gt;target -->\n<g id=\"edge15\" class=\"edge\">\n<title>part2-&gt;target</title>\n<path fill=\"none\" stroke=\"black\" d=\"M449.15,-143.85C443.71,-123.63 431.78,-90.43 409,-72 361.61,-33.68 289.96,-22.66 244.08,-19.72\"/>\n<polygon fill=\"black\" stroke=\"black\" points=\"244.02,-16.21 233.85,-19.17 243.65,-23.2 244.02,-16.21\"/>\n</g>\n<!-- z0 -->\n<g id=\"node11\" class=\"node\">\n<title>z0</title>\n<ellipse fill=\"none\" stroke=\"black\" cx=\"154\" cy=\"-162\" rx=\"27\" ry=\"18\"/>\n<text text-anchor=\"middle\" x=\"154\" y=\"-158.3\" font-family=\"Times,serif\" font-size=\"14.00\">Z0</text>\n</g>\n<!-- z0&#45;&gt;target -->\n<g id=\"edge16\" class=\"edge\">\n<title>z0-&gt;target</title>\n<path fill=\"none\" stroke=\"black\" d=\"M153.52,-143.71C153.56,-125.35 155.21,-95.77 164,-72 167.82,-61.67 174.07,-51.41 180.3,-42.7\"/>\n<polygon fill=\"black\" stroke=\"black\" points=\"183.2,-44.66 186.43,-34.57 177.61,-40.44 183.2,-44.66\"/>\n</g>\n<!-- z0&#45;&gt;z2 -->\n<g id=\"edge18\" class=\"edge\">\n<title>z0-&gt;z2</title>\n<path fill=\"none\" stroke=\"black\" d=\"M140.43,-146.15C131.69,-136.6 120.17,-123.99 110.34,-113.25\"/>\n<polygon fill=\"black\" stroke=\"black\" points=\"112.88,-110.84 103.55,-105.82 107.72,-115.57 112.88,-110.84\"/>\n</g>\n<!-- z0&#45;&gt;z4 -->\n<g id=\"edge17\" class=\"edge\">\n<title>z0-&gt;z4</title>\n<path fill=\"none\" stroke=\"black\" d=\"M164.44,-145.12C170.2,-136.34 177.48,-125.26 183.96,-115.42\"/>\n<polygon fill=\"black\" stroke=\"black\" points=\"187.04,-117.1 189.6,-106.82 181.19,-113.26 187.04,-117.1\"/>\n</g>\n<!-- x2 -->\n<g id=\"node12\" class=\"node\">\n<title>x2</title>\n<ellipse fill=\"none\" stroke=\"black\" cx=\"27\" cy=\"-306\" rx=\"27\" ry=\"18\"/>\n<text text-anchor=\"middle\" x=\"27\" y=\"-302.3\" font-family=\"Times,serif\" font-size=\"14.00\">X2</text>\n</g>\n<!-- x2&#45;&gt;part3 -->\n<g id=\"edge20\" class=\"edge\">\n<title>x2-&gt;part3</title>\n<path fill=\"none\" stroke=\"black\" d=\"M38.93,-289.81C46.11,-280.67 55.4,-268.85 63.52,-258.52\"/>\n<polygon fill=\"black\" stroke=\"black\" points=\"66.28,-260.67 69.71,-250.64 60.78,-256.34 66.28,-260.67\"/>\n</g>\n<!-- x3 -->\n<g id=\"node13\" class=\"node\">\n<title>x3</title>\n<ellipse fill=\"none\" stroke=\"black\" cx=\"264\" cy=\"-378\" rx=\"27\" ry=\"18\"/>\n<text text-anchor=\"middle\" x=\"264\" y=\"-374.3\" font-family=\"Times,serif\" font-size=\"14.00\">X3</text>\n</g>\n<!-- x3&#45;&gt;part1 -->\n<g id=\"edge21\" class=\"edge\">\n<title>x3-&gt;part1</title>\n<path fill=\"none\" stroke=\"black\" d=\"M244.08,-365.75C224.1,-354.48 193.09,-336.97 170.11,-324\"/>\n<polygon fill=\"black\" stroke=\"black\" points=\"171.55,-320.79 161.12,-318.92 168.11,-326.89 171.55,-320.79\"/>\n</g>\n<!-- x3&#45;&gt;z3 -->\n<g id=\"edge22\" class=\"edge\">\n<title>x3-&gt;z3</title>\n<path fill=\"none\" stroke=\"black\" d=\"M268.51,-360.15C275.02,-335.81 287.13,-290.57 294.86,-261.67\"/>\n<polygon fill=\"black\" stroke=\"black\" points=\"298.29,-262.39 297.5,-251.82 291.53,-260.58 298.29,-262.39\"/>\n</g>\n<!-- x4 -->\n<g id=\"node14\" class=\"node\">\n<title>x4</title>\n<ellipse fill=\"none\" stroke=\"black\" cx=\"357\" cy=\"-306\" rx=\"27\" ry=\"18\"/>\n<text text-anchor=\"middle\" x=\"357\" y=\"-302.3\" font-family=\"Times,serif\" font-size=\"14.00\">X4</text>\n</g>\n<!-- x4&#45;&gt;part3 -->\n<g id=\"edge23\" class=\"edge\">\n<title>x4-&gt;part3</title>\n<path fill=\"none\" stroke=\"black\" d=\"M332.11,-298.66C283.57,-286.31 176.03,-258.94 119.07,-244.44\"/>\n<polygon fill=\"black\" stroke=\"black\" points=\"119.61,-240.96 109.05,-241.89 117.88,-247.74 119.61,-240.96\"/>\n</g>\n<!-- x4&#45;&gt;target -->\n<g id=\"edge24\" class=\"edge\">\n<title>x4-&gt;target</title>\n<path fill=\"none\" stroke=\"black\" d=\"M359.45,-288.03C361.55,-269.95 363.44,-240.59 358,-216 342.75,-147.08 338.57,-124.15 291,-72 275.89,-55.44 254.38,-42.58 236.06,-33.68\"/>\n<polygon fill=\"black\" stroke=\"black\" points=\"237.37,-30.43 226.83,-29.39 234.42,-36.78 237.37,-30.43\"/>\n</g>\n<!-- x4&#45;&gt;z3 -->\n<g id=\"edge25\" class=\"edge\">\n<title>x4-&gt;z3</title>\n<path fill=\"none\" stroke=\"black\" d=\"M345.07,-289.81C337.79,-280.55 328.34,-268.52 320.15,-258.09\"/>\n<polygon fill=\"black\" stroke=\"black\" points=\"322.84,-255.86 313.91,-250.16 317.34,-260.18 322.84,-255.86\"/>\n</g>\n<!-- x4&#45;&gt;z4 -->\n<g id=\"edge26\" class=\"edge\">\n<title>x4-&gt;z4</title>\n<path fill=\"none\" stroke=\"black\" d=\"M356.44,-287.82C355.14,-269.03 351.01,-238.59 338,-216 310.87,-168.89 259.82,-129.73 227.99,-108.4\"/>\n<polygon fill=\"black\" stroke=\"black\" points=\"229.84,-105.43 219.56,-102.87 226,-111.28 229.84,-105.43\"/>\n</g>\n<!-- x4&#45;&gt;part2 -->\n<g id=\"edge27\" class=\"edge\">\n<title>x4-&gt;part2</title>\n<path fill=\"none\" stroke=\"black\" d=\"M372.92,-291.28C383.98,-281.19 398.55,-266.71 409,-252 423.04,-232.23 434.94,-207.3 442.81,-188.86\"/>\n<polygon fill=\"black\" stroke=\"black\" points=\"446.05,-190.19 446.65,-179.62 439.58,-187.51 446.05,-190.19\"/>\n</g>\n<!-- x5 -->\n<g id=\"node15\" class=\"node\">\n<title>x5</title>\n<ellipse fill=\"none\" stroke=\"black\" cx=\"82\" cy=\"-378\" rx=\"27\" ry=\"18\"/>\n<text text-anchor=\"middle\" x=\"82\" y=\"-374.3\" font-family=\"Times,serif\" font-size=\"14.00\">X5</text>\n</g>\n<!-- x5&#45;&gt;part1 -->\n<g id=\"edge28\" class=\"edge\">\n<title>x5-&gt;part1</title>\n<path fill=\"none\" stroke=\"black\" d=\"M94.59,-361.81C102.16,-352.67 111.95,-340.85 120.51,-330.52\"/>\n<polygon fill=\"black\" stroke=\"black\" points=\"123.35,-332.58 127.04,-322.64 117.96,-328.11 123.35,-332.58\"/>\n</g>\n<!-- x5&#45;&gt;part3 -->\n<g id=\"edge29\" class=\"edge\">\n<title>x5-&gt;part3</title>\n<path fill=\"none\" stroke=\"black\" d=\"M82,-359.87C82,-335.67 82,-291.21 82,-262.39\"/>\n<polygon fill=\"black\" stroke=\"black\" points=\"85.5,-262.19 82,-252.19 78.5,-262.19 85.5,-262.19\"/>\n</g>\n</g>\n</svg>"
     },
     "metadata": {},
     "output_type": "display_data"
    }
   ],
   "execution_count": 210
  },
  {
   "metadata": {
    "ExecuteTime": {
     "end_time": "2024-08-25T17:25:38.036277Z",
     "start_time": "2024-08-25T17:25:37.804872Z"
    }
   },
   "cell_type": "code",
   "source": "bobn_utils.draw(baseline_dag)",
   "id": "b9ca390adc73722d",
   "outputs": [
    {
     "data": {
      "text/plain": [
       "<IPython.core.display.SVG object>"
      ],
      "image/svg+xml": "<svg xmlns=\"http://www.w3.org/2000/svg\" xmlns:xlink=\"http://www.w3.org/1999/xlink\" width=\"422pt\" height=\"116pt\" viewBox=\"0.00 0.00 422.00 116.00\">\n<g id=\"graph0\" class=\"graph\" transform=\"scale(1 1) rotate(0) translate(4 112)\">\n<polygon fill=\"white\" stroke=\"transparent\" points=\"-4,4 -4,-112 418,-112 418,4 -4,4\"/>\n<!-- x0 -->\n<g id=\"node1\" class=\"node\">\n<title>x0</title>\n<ellipse fill=\"none\" stroke=\"black\" cx=\"27\" cy=\"-90\" rx=\"27\" ry=\"18\"/>\n<text text-anchor=\"middle\" x=\"27\" y=\"-86.3\" font-family=\"Times,serif\" font-size=\"14.00\">X0</text>\n</g>\n<!-- target -->\n<g id=\"node2\" class=\"node\">\n<title>target</title>\n<ellipse fill=\"none\" stroke=\"black\" cx=\"207\" cy=\"-18\" rx=\"33.6\" ry=\"18\"/>\n<text text-anchor=\"middle\" x=\"207\" y=\"-14.3\" font-family=\"Times,serif\" font-size=\"14.00\">Target</text>\n</g>\n<!-- x0&#45;&gt;target -->\n<g id=\"edge1\" class=\"edge\">\n<title>x0-&gt;target</title>\n<path fill=\"none\" stroke=\"black\" d=\"M48.18,-78.62C53.01,-76.35 58.16,-74.03 63,-72 98.6,-57.08 140.04,-42.07 169.3,-31.85\"/>\n<polygon fill=\"black\" stroke=\"black\" points=\"170.81,-35.03 179.11,-28.44 168.52,-28.41 170.81,-35.03\"/>\n</g>\n<!-- x1 -->\n<g id=\"node3\" class=\"node\">\n<title>x1</title>\n<ellipse fill=\"none\" stroke=\"black\" cx=\"99\" cy=\"-90\" rx=\"27\" ry=\"18\"/>\n<text text-anchor=\"middle\" x=\"99\" y=\"-86.3\" font-family=\"Times,serif\" font-size=\"14.00\">X1</text>\n</g>\n<!-- x1&#45;&gt;target -->\n<g id=\"edge2\" class=\"edge\">\n<title>x1-&gt;target</title>\n<path fill=\"none\" stroke=\"black\" d=\"M117.81,-76.81C134.3,-66.12 158.54,-50.41 177.58,-38.07\"/>\n<polygon fill=\"black\" stroke=\"black\" points=\"179.7,-40.86 186.19,-32.49 175.9,-34.99 179.7,-40.86\"/>\n</g>\n<!-- x2 -->\n<g id=\"node4\" class=\"node\">\n<title>x2</title>\n<ellipse fill=\"none\" stroke=\"black\" cx=\"171\" cy=\"-90\" rx=\"27\" ry=\"18\"/>\n<text text-anchor=\"middle\" x=\"171\" y=\"-86.3\" font-family=\"Times,serif\" font-size=\"14.00\">X2</text>\n</g>\n<!-- x2&#45;&gt;target -->\n<g id=\"edge3\" class=\"edge\">\n<title>x2-&gt;target</title>\n<path fill=\"none\" stroke=\"black\" d=\"M179.35,-72.76C183.65,-64.4 188.99,-54.02 193.83,-44.61\"/>\n<polygon fill=\"black\" stroke=\"black\" points=\"196.98,-46.13 198.45,-35.63 190.76,-42.93 196.98,-46.13\"/>\n</g>\n<!-- x3 -->\n<g id=\"node5\" class=\"node\">\n<title>x3</title>\n<ellipse fill=\"none\" stroke=\"black\" cx=\"243\" cy=\"-90\" rx=\"27\" ry=\"18\"/>\n<text text-anchor=\"middle\" x=\"243\" y=\"-86.3\" font-family=\"Times,serif\" font-size=\"14.00\">X3</text>\n</g>\n<!-- x3&#45;&gt;target -->\n<g id=\"edge4\" class=\"edge\">\n<title>x3-&gt;target</title>\n<path fill=\"none\" stroke=\"black\" d=\"M234.65,-72.76C230.35,-64.4 225.01,-54.02 220.17,-44.61\"/>\n<polygon fill=\"black\" stroke=\"black\" points=\"223.24,-42.93 215.55,-35.63 217.02,-46.13 223.24,-42.93\"/>\n</g>\n<!-- x4 -->\n<g id=\"node6\" class=\"node\">\n<title>x4</title>\n<ellipse fill=\"none\" stroke=\"black\" cx=\"315\" cy=\"-90\" rx=\"27\" ry=\"18\"/>\n<text text-anchor=\"middle\" x=\"315\" y=\"-86.3\" font-family=\"Times,serif\" font-size=\"14.00\">X4</text>\n</g>\n<!-- x4&#45;&gt;target -->\n<g id=\"edge5\" class=\"edge\">\n<title>x4-&gt;target</title>\n<path fill=\"none\" stroke=\"black\" d=\"M296.19,-76.81C279.7,-66.12 255.46,-50.41 236.42,-38.07\"/>\n<polygon fill=\"black\" stroke=\"black\" points=\"238.1,-34.99 227.81,-32.49 234.3,-40.86 238.1,-34.99\"/>\n</g>\n<!-- x5 -->\n<g id=\"node7\" class=\"node\">\n<title>x5</title>\n<ellipse fill=\"none\" stroke=\"black\" cx=\"387\" cy=\"-90\" rx=\"27\" ry=\"18\"/>\n<text text-anchor=\"middle\" x=\"387\" y=\"-86.3\" font-family=\"Times,serif\" font-size=\"14.00\">X5</text>\n</g>\n<!-- x5&#45;&gt;target -->\n<g id=\"edge6\" class=\"edge\">\n<title>x5-&gt;target</title>\n<path fill=\"none\" stroke=\"black\" d=\"M365.82,-78.62C360.99,-76.35 355.84,-74.03 351,-72 315.4,-57.08 273.96,-42.07 244.7,-31.85\"/>\n<polygon fill=\"black\" stroke=\"black\" points=\"245.48,-28.41 234.89,-28.44 243.19,-35.03 245.48,-28.41\"/>\n</g>\n</g>\n</svg>"
     },
     "metadata": {},
     "output_type": "display_data"
    }
   ],
   "execution_count": 211
  },
  {
   "metadata": {
    "ExecuteTime": {
     "end_time": "2024-08-25T17:25:38.247073Z",
     "start_time": "2024-08-25T17:25:38.037668Z"
    }
   },
   "cell_type": "code",
   "source": "bobn_utils.draw(golden_dag)",
   "id": "a688f04056e76f1d",
   "outputs": [
    {
     "data": {
      "text/plain": [
       "<IPython.core.display.SVG object>"
      ],
      "image/svg+xml": "<svg xmlns=\"http://www.w3.org/2000/svg\" xmlns:xlink=\"http://www.w3.org/1999/xlink\" width=\"449pt\" height=\"260pt\" viewBox=\"0.00 0.00 449.00 260.00\">\n<g id=\"graph0\" class=\"graph\" transform=\"scale(1 1) rotate(0) translate(4 256)\">\n<polygon fill=\"white\" stroke=\"transparent\" points=\"-4,4 -4,-256 445,-256 445,4 -4,4\"/>\n<!-- x0 -->\n<g id=\"node1\" class=\"node\">\n<title>x0</title>\n<ellipse fill=\"none\" stroke=\"black\" cx=\"27\" cy=\"-234\" rx=\"27\" ry=\"18\"/>\n<text text-anchor=\"middle\" x=\"27\" y=\"-230.3\" font-family=\"Times,serif\" font-size=\"14.00\">X0</text>\n</g>\n<!-- part1 -->\n<g id=\"node2\" class=\"node\">\n<title>part1</title>\n<ellipse fill=\"none\" stroke=\"black\" cx=\"60\" cy=\"-90\" rx=\"29.8\" ry=\"18\"/>\n<text text-anchor=\"middle\" x=\"60\" y=\"-86.3\" font-family=\"Times,serif\" font-size=\"14.00\">Part1</text>\n</g>\n<!-- x0&#45;&gt;part1 -->\n<g id=\"edge1\" class=\"edge\">\n<title>x0-&gt;part1</title>\n<path fill=\"none\" stroke=\"black\" d=\"M21.1,-216.1C15.67,-197.81 9.62,-168.05 18,-144 21.96,-132.63 29.49,-121.86 37.1,-113.03\"/>\n<polygon fill=\"black\" stroke=\"black\" points=\"39.81,-115.25 44,-105.52 34.66,-110.51 39.81,-115.25\"/>\n</g>\n<!-- z0 -->\n<g id=\"node3\" class=\"node\">\n<title>z0</title>\n<ellipse fill=\"none\" stroke=\"black\" cx=\"54\" cy=\"-162\" rx=\"27\" ry=\"18\"/>\n<text text-anchor=\"middle\" x=\"54\" y=\"-158.3\" font-family=\"Times,serif\" font-size=\"14.00\">Z0</text>\n</g>\n<!-- x0&#45;&gt;z0 -->\n<g id=\"edge2\" class=\"edge\">\n<title>x0-&gt;z0</title>\n<path fill=\"none\" stroke=\"black\" d=\"M33.4,-216.41C36.51,-208.34 40.33,-198.43 43.83,-189.35\"/>\n<polygon fill=\"black\" stroke=\"black\" points=\"47.13,-190.55 47.46,-179.96 40.6,-188.03 47.13,-190.55\"/>\n</g>\n<!-- target -->\n<g id=\"node4\" class=\"node\">\n<title>target</title>\n<ellipse fill=\"none\" stroke=\"black\" cx=\"198\" cy=\"-18\" rx=\"33.6\" ry=\"18\"/>\n<text text-anchor=\"middle\" x=\"198\" y=\"-14.3\" font-family=\"Times,serif\" font-size=\"14.00\">Target</text>\n</g>\n<!-- part1&#45;&gt;target -->\n<g id=\"edge3\" class=\"edge\">\n<title>part1-&gt;target</title>\n<path fill=\"none\" stroke=\"black\" d=\"M82.17,-77.75C104.56,-66.39 139.42,-48.72 165.04,-35.72\"/>\n<polygon fill=\"black\" stroke=\"black\" points=\"166.69,-38.8 174.03,-31.16 163.53,-32.56 166.69,-38.8\"/>\n</g>\n<!-- part2 -->\n<g id=\"node7\" class=\"node\">\n<title>part2</title>\n<ellipse fill=\"none\" stroke=\"black\" cx=\"198\" cy=\"-90\" rx=\"29.8\" ry=\"18\"/>\n<text text-anchor=\"middle\" x=\"198\" y=\"-86.3\" font-family=\"Times,serif\" font-size=\"14.00\">Part2</text>\n</g>\n<!-- z0&#45;&gt;part2 -->\n<g id=\"edge6\" class=\"edge\">\n<title>z0-&gt;part2</title>\n<path fill=\"none\" stroke=\"black\" d=\"M75.25,-150.67C99.18,-139.04 138.34,-120 165.98,-106.56\"/>\n<polygon fill=\"black\" stroke=\"black\" points=\"167.77,-109.58 175.24,-102.07 164.71,-103.29 167.77,-109.58\"/>\n</g>\n<!-- x5 -->\n<g id=\"node5\" class=\"node\">\n<title>x5</title>\n<ellipse fill=\"none\" stroke=\"black\" cx=\"414\" cy=\"-162\" rx=\"27\" ry=\"18\"/>\n<text text-anchor=\"middle\" x=\"414\" y=\"-158.3\" font-family=\"Times,serif\" font-size=\"14.00\">X5</text>\n</g>\n<!-- part3 -->\n<g id=\"node6\" class=\"node\">\n<title>part3</title>\n<ellipse fill=\"none\" stroke=\"black\" cx=\"345\" cy=\"-90\" rx=\"29.8\" ry=\"18\"/>\n<text text-anchor=\"middle\" x=\"345\" y=\"-86.3\" font-family=\"Times,serif\" font-size=\"14.00\">Part3</text>\n</g>\n<!-- x5&#45;&gt;part3 -->\n<g id=\"edge4\" class=\"edge\">\n<title>x5-&gt;part3</title>\n<path fill=\"none\" stroke=\"black\" d=\"M399.7,-146.5C390.21,-136.86 377.57,-124.04 366.82,-113.14\"/>\n<polygon fill=\"black\" stroke=\"black\" points=\"369.27,-110.63 359.75,-105.97 364.28,-115.55 369.27,-110.63\"/>\n</g>\n<!-- part3&#45;&gt;target -->\n<g id=\"edge5\" class=\"edge\">\n<title>part3-&gt;target</title>\n<path fill=\"none\" stroke=\"black\" d=\"M322.35,-78.22C298.15,-66.69 259.51,-48.29 231.72,-35.06\"/>\n<polygon fill=\"black\" stroke=\"black\" points=\"232.92,-31.75 222.39,-30.61 229.91,-38.07 232.92,-31.75\"/>\n</g>\n<!-- part2&#45;&gt;target -->\n<g id=\"edge7\" class=\"edge\">\n<title>part2-&gt;target</title>\n<path fill=\"none\" stroke=\"black\" d=\"M198,-71.7C198,-63.98 198,-54.71 198,-46.11\"/>\n<polygon fill=\"black\" stroke=\"black\" points=\"201.5,-46.1 198,-36.1 194.5,-46.1 201.5,-46.1\"/>\n</g>\n<!-- x1 -->\n<g id=\"node8\" class=\"node\">\n<title>x1</title>\n<ellipse fill=\"none\" stroke=\"black\" cx=\"126\" cy=\"-234\" rx=\"27\" ry=\"18\"/>\n<text text-anchor=\"middle\" x=\"126\" y=\"-230.3\" font-family=\"Times,serif\" font-size=\"14.00\">X1</text>\n</g>\n<!-- z1 -->\n<g id=\"node9\" class=\"node\">\n<title>z1</title>\n<ellipse fill=\"none\" stroke=\"black\" cx=\"126\" cy=\"-162\" rx=\"27\" ry=\"18\"/>\n<text text-anchor=\"middle\" x=\"126\" y=\"-158.3\" font-family=\"Times,serif\" font-size=\"14.00\">Z1</text>\n</g>\n<!-- x1&#45;&gt;z1 -->\n<g id=\"edge8\" class=\"edge\">\n<title>x1-&gt;z1</title>\n<path fill=\"none\" stroke=\"black\" d=\"M126,-215.7C126,-207.98 126,-198.71 126,-190.11\"/>\n<polygon fill=\"black\" stroke=\"black\" points=\"129.5,-190.1 126,-180.1 122.5,-190.1 129.5,-190.1\"/>\n</g>\n<!-- z1&#45;&gt;part2 -->\n<g id=\"edge9\" class=\"edge\">\n<title>z1-&gt;part2</title>\n<path fill=\"none\" stroke=\"black\" d=\"M140.57,-146.83C150.59,-137.1 164.08,-123.98 175.47,-112.9\"/>\n<polygon fill=\"black\" stroke=\"black\" points=\"178.23,-115.11 182.96,-105.63 173.35,-110.09 178.23,-115.11\"/>\n</g>\n<!-- x2 -->\n<g id=\"node10\" class=\"node\">\n<title>x2</title>\n<ellipse fill=\"none\" stroke=\"black\" cx=\"198\" cy=\"-234\" rx=\"27\" ry=\"18\"/>\n<text text-anchor=\"middle\" x=\"198\" y=\"-230.3\" font-family=\"Times,serif\" font-size=\"14.00\">X2</text>\n</g>\n<!-- z2 -->\n<g id=\"node11\" class=\"node\">\n<title>z2</title>\n<ellipse fill=\"none\" stroke=\"black\" cx=\"198\" cy=\"-162\" rx=\"27\" ry=\"18\"/>\n<text text-anchor=\"middle\" x=\"198\" y=\"-158.3\" font-family=\"Times,serif\" font-size=\"14.00\">Z2</text>\n</g>\n<!-- x2&#45;&gt;z2 -->\n<g id=\"edge10\" class=\"edge\">\n<title>x2-&gt;z2</title>\n<path fill=\"none\" stroke=\"black\" d=\"M198,-215.7C198,-207.98 198,-198.71 198,-190.11\"/>\n<polygon fill=\"black\" stroke=\"black\" points=\"201.5,-190.1 198,-180.1 194.5,-190.1 201.5,-190.1\"/>\n</g>\n<!-- z2&#45;&gt;part2 -->\n<g id=\"edge11\" class=\"edge\">\n<title>z2-&gt;part2</title>\n<path fill=\"none\" stroke=\"black\" d=\"M198,-143.7C198,-135.98 198,-126.71 198,-118.11\"/>\n<polygon fill=\"black\" stroke=\"black\" points=\"201.5,-118.1 198,-108.1 194.5,-118.1 201.5,-118.1\"/>\n</g>\n<!-- x3 -->\n<g id=\"node12\" class=\"node\">\n<title>x3</title>\n<ellipse fill=\"none\" stroke=\"black\" cx=\"270\" cy=\"-234\" rx=\"27\" ry=\"18\"/>\n<text text-anchor=\"middle\" x=\"270\" y=\"-230.3\" font-family=\"Times,serif\" font-size=\"14.00\">X3</text>\n</g>\n<!-- z3 -->\n<g id=\"node13\" class=\"node\">\n<title>z3</title>\n<ellipse fill=\"none\" stroke=\"black\" cx=\"270\" cy=\"-162\" rx=\"27\" ry=\"18\"/>\n<text text-anchor=\"middle\" x=\"270\" y=\"-158.3\" font-family=\"Times,serif\" font-size=\"14.00\">Z3</text>\n</g>\n<!-- x3&#45;&gt;z3 -->\n<g id=\"edge12\" class=\"edge\">\n<title>x3-&gt;z3</title>\n<path fill=\"none\" stroke=\"black\" d=\"M270,-215.7C270,-207.98 270,-198.71 270,-190.11\"/>\n<polygon fill=\"black\" stroke=\"black\" points=\"273.5,-190.1 270,-180.1 266.5,-190.1 273.5,-190.1\"/>\n</g>\n<!-- z3&#45;&gt;part2 -->\n<g id=\"edge13\" class=\"edge\">\n<title>z3-&gt;part2</title>\n<path fill=\"none\" stroke=\"black\" d=\"M255.43,-146.83C245.41,-137.1 231.92,-123.98 220.53,-112.9\"/>\n<polygon fill=\"black\" stroke=\"black\" points=\"222.65,-110.09 213.04,-105.63 217.77,-115.11 222.65,-110.09\"/>\n</g>\n<!-- x4 -->\n<g id=\"node14\" class=\"node\">\n<title>x4</title>\n<ellipse fill=\"none\" stroke=\"black\" cx=\"342\" cy=\"-234\" rx=\"27\" ry=\"18\"/>\n<text text-anchor=\"middle\" x=\"342\" y=\"-230.3\" font-family=\"Times,serif\" font-size=\"14.00\">X4</text>\n</g>\n<!-- z4 -->\n<g id=\"node15\" class=\"node\">\n<title>z4</title>\n<ellipse fill=\"none\" stroke=\"black\" cx=\"342\" cy=\"-162\" rx=\"27\" ry=\"18\"/>\n<text text-anchor=\"middle\" x=\"342\" y=\"-158.3\" font-family=\"Times,serif\" font-size=\"14.00\">Z4</text>\n</g>\n<!-- x4&#45;&gt;z4 -->\n<g id=\"edge14\" class=\"edge\">\n<title>x4-&gt;z4</title>\n<path fill=\"none\" stroke=\"black\" d=\"M342,-215.7C342,-207.98 342,-198.71 342,-190.11\"/>\n<polygon fill=\"black\" stroke=\"black\" points=\"345.5,-190.1 342,-180.1 338.5,-190.1 345.5,-190.1\"/>\n</g>\n<!-- z4&#45;&gt;part2 -->\n<g id=\"edge15\" class=\"edge\">\n<title>z4-&gt;part2</title>\n<path fill=\"none\" stroke=\"black\" d=\"M320.75,-150.67C296.82,-139.04 257.66,-120 230.02,-106.56\"/>\n<polygon fill=\"black\" stroke=\"black\" points=\"231.29,-103.29 220.76,-102.07 228.23,-109.58 231.29,-103.29\"/>\n</g>\n</g>\n</svg>"
     },
     "metadata": {},
     "output_type": "display_data"
    }
   ],
   "execution_count": 212
  },
  {
   "metadata": {},
   "cell_type": "code",
   "outputs": [],
   "execution_count": null,
   "source": "",
   "id": "736cba508d137899"
  }
 ],
 "metadata": {
  "kernelspec": {
   "display_name": "Python 3",
   "language": "python",
   "name": "python3"
  },
  "language_info": {
   "codemirror_mode": {
    "name": "ipython",
    "version": 2
   },
   "file_extension": ".py",
   "mimetype": "text/x-python",
   "name": "python",
   "nbconvert_exporter": "python",
   "pygments_lexer": "ipython2",
   "version": "2.7.6"
  }
 },
 "nbformat": 4,
 "nbformat_minor": 5
}
