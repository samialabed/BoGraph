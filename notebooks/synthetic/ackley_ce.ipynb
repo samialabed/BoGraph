{
 "cells": [
  {
   "cell_type": "code",
   "execution_count": null,
   "source": [
    "import logging\n",
    "\n",
    "import networkx as nx\n",
    "\n",
    "%matplotlib inline\n",
    "%load_ext autoreload\n",
    "%autoreload 2"
   ],
   "metadata": {
    "collapsed": false,
    "pycharm": {
     "name": "#%%\n"
    }
   },
   "outputs": []
  },
  {
   "cell_type": "code",
   "execution_count": null,
   "source": [
    "import causalnex\n",
    "from causalnex.plots import plot_structure\n",
    "from causalnex.structure import StructureModel\n",
    "\n",
    "plot_structure(StructureModel())\n",
    "print(causalnex.__version__)"
   ],
   "metadata": {
    "collapsed": false,
    "pycharm": {
     "name": "#%%\n"
    }
   },
   "outputs": []
  },
  {
   "cell_type": "code",
   "execution_count": null,
   "source": [
    "from autorocks.data.loader.all_models_result_aggregator import (\n",
    "    create_all_models_comparison_dataset,\n",
    ")\n",
    "from autorocks.envs.synthetic.funcs.ackley import Ackley6DParametersSpace\n",
    "from autorocks.dir_struct import LocalResultDir\n",
    "\n",
    "\n",
    "exp_dir = LocalResultDir / f\"synthetic/target/Akcley/6_params/100_iter\"\n",
    "model_comparison_data = create_all_models_comparison_dataset(exp_dir)\n",
    "\n",
    "param_space = Ackley6DParametersSpace()\n",
    "param_names = set([p.name for p in param_space.parameters()])\n",
    "main_targets = {\"target\"}"
   ],
   "metadata": {
    "collapsed": false,
    "pycharm": {
     "name": "#%%\n"
    }
   },
   "outputs": []
  },
  {
   "cell_type": "code",
   "execution_count": null,
   "source": [
    "import pandas as pd\n",
    "\n",
    "random_dataset = model_comparison_data.filter_for_specific_models({\"Random\"})\n",
    "uuid_cols = [\"model\", \"iteration\", \"step\"]\n",
    "all_exp_dfs = pd.merge(random_dataset.parameters, random_dataset.system_performance, on=uuid_cols).drop(\n",
    "    columns=uuid_cols\n",
    ")\n",
    "# params_and_objectives =  model_comparison_data"
   ],
   "metadata": {
    "collapsed": false,
    "pycharm": {
     "name": "#%%\n"
    }
   },
   "outputs": []
  },
  {
   "cell_type": "code",
   "execution_count": null,
   "source": [
    "intermediate_metrics = set(all_exp_dfs.columns) - param_names - main_targets\n",
    "\n",
    "intermediate_metrics = {\"structure.lhd\", \"structure.rhd\"}"
   ],
   "metadata": {
    "collapsed": false,
    "pycharm": {
     "name": "#%%\n"
    }
   },
   "outputs": []
  },
  {
   "cell_type": "markdown",
   "source": [
    "# Preprocessing steps\n"
   ],
   "metadata": {
    "collapsed": false,
    "pycharm": {
     "name": "#%% md\n"
    }
   }
  },
  {
   "cell_type": "code",
   "execution_count": null,
   "source": [
    "from autorocks.optimizer.bograph.bograph_dao import BoGraphDataPandas\n",
    "\n",
    "params: pd.DataFrame = all_exp_dfs[param_names]\n",
    "objs: pd.DataFrame = all_exp_dfs[main_targets]\n",
    "intermediate: pd.DataFrame = all_exp_dfs[intermediate_metrics]\n",
    "\n",
    "bograph_data = BoGraphDataPandas(params=params, objs=objs, intermediate=intermediate)"
   ],
   "metadata": {
    "collapsed": false,
    "pycharm": {
     "name": "#%%\n"
    }
   },
   "outputs": []
  },
  {
   "cell_type": "code",
   "execution_count": null,
   "source": [
    "from autorocks.optimizer.bograph.preprocessor.standardizer import (\n",
    "    MetricsStandardizerProcessor,\n",
    ")\n",
    "from autorocks.optimizer.bograph.dag_preprocessor import PreprocessingPipeline\n",
    "\n",
    "from autorocks.optimizer.bograph.preprocessor.normalizer import ParamNormalizerProcessor\n",
    "\n",
    "preprocessing_pipeline = PreprocessingPipeline(\n",
    "    [\n",
    "        ParamNormalizerProcessor(param_space.bounds(True).T),\n",
    "        MetricsStandardizerProcessor(),\n",
    "    ]\n",
    ")\n",
    "processed_data = preprocessing_pipeline.fit_transform(bograph_data.copy())"
   ],
   "metadata": {
    "collapsed": false,
    "pycharm": {
     "name": "#%%\n"
    }
   },
   "outputs": []
  },
  {
   "cell_type": "markdown",
   "source": [
    "# Structure learning"
   ],
   "metadata": {
    "collapsed": false,
    "pycharm": {
     "name": "#%% md\n"
    }
   }
  },
  {
   "cell_type": "code",
   "execution_count": null,
   "source": [
    "from botorch.utils import standardize\n",
    "from causalnex.structure.pytorch import from_pandas\n",
    "import torch\n",
    "\n",
    "torch.set_default_tensor_type(torch.cuda.FloatTensor)\n",
    "torch.set_default_dtype(torch.float32)\n",
    "\n",
    "\n",
    "sm = from_pandas(\n",
    "    processed_data.to_combi_pandas(),\n",
    "    # w_threshold=0.8,\n",
    "    tabu_parent_nodes=main_targets,\n",
    "    tabu_child_nodes=param_names,\n",
    "    tabu_edges=[[\"structure.lhd\", \"structure.rhd\"], [\"structure.rhd\", \"structure.lhd\"]],\n",
    "    # hidden_layer_units=[128],\n",
    "    # use_bias=True,\n",
    "    # ridge_beta=0.1\n",
    ")\n",
    "print(\"Done\")"
   ],
   "metadata": {
    "collapsed": false,
    "pycharm": {
     "name": "#%%\n"
    }
   },
   "outputs": []
  },
  {
   "cell_type": "code",
   "execution_count": null,
   "source": [
    "from autorocks.viz.causal_util import plot_struct_customized\n",
    "from IPython.display import Image\n",
    "\n",
    "smaller_sm = sm.copy()\n",
    "smaller_sm.remove_edges_below_threshold(0.01)\n",
    "viz = plot_struct_customized(\n",
    "    smaller_sm.get_target_subgraph(\"target\"),\n",
    "    graph_name=\"Ackley Structure\",\n",
    "    param_nodes=param_names,\n",
    "    sink_nodes=main_targets,\n",
    ")\n",
    "Image(viz.draw(format=\"png\"))"
   ],
   "metadata": {
    "collapsed": false,
    "pycharm": {
     "name": "#%%\n"
    }
   },
   "outputs": []
  },
  {
   "cell_type": "code",
   "execution_count": null,
   "source": [
    "import logging\n",
    "\n",
    "logger = logging.getLogger()\n",
    "logger.setLevel(logging.DEBUG)\n",
    "logging.debug(\"test\")"
   ],
   "metadata": {
    "collapsed": false,
    "pycharm": {
     "name": "#%%\n"
    }
   },
   "outputs": []
  },
  {
   "cell_type": "code",
   "execution_count": null,
   "source": [
    "from castle.algorithms import MCSL, GOLEM\n",
    "\n",
    "model = MCSL(device_type=\"gpu\", max_iter=1)  # num_iter=10000)\n",
    "\n",
    "combi_pandas = processed_data.to_combi_pandas()\n",
    "model.learn(combi_pandas.values, columns=combi_pandas.columns)"
   ],
   "metadata": {
    "collapsed": false,
    "pycharm": {
     "name": "#%%\n"
    }
   },
   "outputs": []
  },
  {
   "cell_type": "code",
   "execution_count": null,
   "source": [
    "from castle.common import GraphDAG\n",
    "\n",
    "true_dag = nx.from_pandas_adjacency(\n",
    "    pd.DataFrame(\n",
    "        model.causal_matrix,\n",
    "        index=model.causal_matrix.columns,\n",
    "        columns=model.causal_matrix.columns,\n",
    "    )\n",
    ")\n",
    "true_dag.remove_edges_from(list(true_dag.edges))\n",
    "\n",
    "true_dag.add_edges_from([(p, f\"structure.cos({p})\") for p in param_space.keys()])\n",
    "true_dag.add_edges_from([(p, f\"structure.pow({p})\") for p in param_space.keys()])\n",
    "true_dag.add_edges_from([(f\"structure.pow({p})\", \"structure.lhd\") for p in param_space.keys()])\n",
    "true_dag.add_edges_from([(f\"structure.cos({p})\", \"structure.rhd\") for p in param_space.keys()])\n",
    "true_dag.add_edges_from([(\"structure.lhd\", \"target\"), [\"structure.rhd\", \"target\"]])\n",
    "\n",
    "from castle.common import Tensor\n",
    "\n",
    "true_dag_np = Tensor(\n",
    "    nx.to_numpy_matrix(true_dag),\n",
    "    index=model.causal_matrix.columns,\n",
    "    columns=model.causal_matrix.columns,\n",
    ")\n",
    "\n",
    "GraphDAG(model.causal_matrix, show=True, true_dag=true_dag_np)"
   ],
   "metadata": {
    "collapsed": false,
    "pycharm": {
     "name": "#%%\n"
    }
   },
   "outputs": []
  },
  {
   "cell_type": "code",
   "execution_count": null,
   "source": [
    "nx.from_pandas_adjacency(\n",
    "    pd.DataFrame(\n",
    "        model.causal_matrix,\n",
    "        index=model.causal_matrix.columns,\n",
    "        columns=model.causal_matrix.columns,\n",
    "    )\n",
    ").edges"
   ],
   "metadata": {
    "collapsed": false,
    "pycharm": {
     "name": "#%%\n"
    }
   },
   "outputs": []
  },
  {
   "cell_type": "code",
   "execution_count": null,
   "source": [],
   "metadata": {
    "collapsed": false,
    "pycharm": {
     "name": "#%%\n"
    }
   },
   "outputs": []
  }
 ],
 "metadata": {
  "kernelspec": {
   "display_name": "Python 3",
   "language": "python",
   "name": "python3"
  },
  "language_info": {
   "codemirror_mode": {
    "name": "ipython",
    "version": 2
   },
   "file_extension": ".py",
   "mimetype": "text/x-python",
   "name": "python",
   "nbconvert_exporter": "python",
   "pygments_lexer": "ipython2",
   "version": "2.7.6"
  }
 },
 "nbformat": 4,
 "nbformat_minor": 0
}
