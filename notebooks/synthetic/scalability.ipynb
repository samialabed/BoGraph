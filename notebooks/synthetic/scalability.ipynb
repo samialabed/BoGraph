{
 "cells": [
  {
   "cell_type": "code",
   "execution_count": 1,
   "metadata": {
    "collapsed": true
   },
   "outputs": [],
   "source": [
    "%matplotlib inline\n",
    "%load_ext autoreload\n",
    "%autoreload 2"
   ]
  },
  {
   "cell_type": "code",
   "execution_count": 2,
   "outputs": [],
   "source": [
    "import logging\n",
    "\n",
    "logger = logging.getLogger()\n",
    "logger.setLevel(logging.ERROR)"
   ],
   "metadata": {
    "collapsed": false
   }
  },
  {
   "cell_type": "code",
   "execution_count": null,
   "outputs": [],
   "source": [
    "from sysgym import EnvParamsDict\n",
    "\n",
    "import torch\n",
    "from autorocks.envs.synthetic.funcs import levy\n",
    "from pathlib import Path\n",
    "from autorocks.optimizer.bograph.bobn import BoBn\n",
    "\n",
    "tkwargs = {\n",
    "    \"dtype\": torch.double,\n",
    "    \"device\": torch.device(\"cuda\" if torch.cuda.is_available() else \"cpu\"),\n",
    "}\n"
   ],
   "metadata": {
    "collapsed": false
   }
  },
  {
   "cell_type": "code",
   "execution_count": 4,
   "outputs": [],
   "source": [
    "import pandas as pd\n",
    "import gc\n",
    "import time\n",
    "\n",
    "\n",
    "def clear_memory():\n",
    "    for obj in gc.get_objects():\n",
    "        if torch.is_tensor(obj):\n",
    "            if \"cuda\" in str(obj.device):\n",
    "                obj.detach().to(\"cpu\")\n",
    "                del obj\n",
    "    # torch.cuda.empty_cache()\n",
    "    gc.collect()\n",
    "    torch.cuda.reset_peak_memory_stats(\"cuda\")\n",
    "\n",
    "\n",
    "class MemoryExp:\n",
    "\n",
    "    def __init__(self, dim: int):\n",
    "        assert (torch.cuda.is_available())\n",
    "        self._levy_struct = levy.make_struct(dim)\n",
    "        self._space = levy.make_levy_space(dim)\n",
    "        self._problem = levy.LevyND(levy.LevyCfg(dim), Path(\"/tmp/\"))\n",
    "        self._bobn = BoBn(self._levy_struct, self._space, {\"target\"}, conservative_mode=True)\n",
    "        self._dim = dim\n",
    "\n",
    "    def run(self, observations: int, restart_id):\n",
    "        ds = self.generate_dataset(observations)\n",
    "        clear_memory()\n",
    "        start_memory = torch.cuda.max_memory_allocated(\"cuda\")\n",
    "        start_time = time.time()\n",
    "        try:\n",
    "            self._bobn.opt(ds)\n",
    "        except torch.cuda.OutOfMemoryError:\n",
    "            return {\"peak_memory\": -99,\n",
    "                    'runtime_seconds': time.time() - start_time,\n",
    "                    'restart_id': restart_id,\n",
    "                    'observations': observations}\n",
    "        elapsed_time = time.time() - start_time\n",
    "        total_memory_usage = torch.cuda.max_memory_allocated(\"cuda\") - start_memory\n",
    "\n",
    "        return {\"peak_memory_bytes\": total_memory_usage,\n",
    "                'runtime_seconds': elapsed_time,\n",
    "                'restart_id': restart_id,\n",
    "                'observations': observations,\n",
    "                'dim': self._dim}\n",
    "\n",
    "    def generate_dataset(self, n: int) -> pd.DataFrame:\n",
    "        res = []\n",
    "        param_dict = EnvParamsDict(self._space)\n",
    "        obs_x = self._bobn.generate_initial_points(n)\n",
    "        for x in obs_x:\n",
    "            param_dict.update(x)\n",
    "            result_dict = self._problem.run(param_dict).as_flat_dict()\n",
    "            result_dict.update(dict(param_dict))\n",
    "            res.append(result_dict)\n",
    "\n",
    "        return pd.DataFrame(res)\n",
    "\n",
    "# bobn.opt(generate_dataset(1000))"
   ],
   "metadata": {
    "collapsed": false
   }
  },
  {
   "cell_type": "code",
   "execution_count": 8,
   "outputs": [
    {
     "name": "stdout",
     "output_type": "stream",
     "text": [
      "Performing experiment: restart_id=0:exp_dim=6:obs=10\n"
     ]
    },
    {
     "name": "stderr",
     "output_type": "stream",
     "text": [
      "/home/salabed/anaconda3/envs/rocksdb/lib/python3.8/site-packages/torch/distributed/distributed_c10d.py:262: UserWarning: torch.distributed.reduce_op is deprecated, please use torch.distributed.ReduceOp instead\n",
      "  warnings.warn(\n"
     ]
    },
    {
     "name": "stdout",
     "output_type": "stream",
     "text": [
      "Performing experiment: restart_id=1:exp_dim=6:obs=10\n"
     ]
    },
    {
     "name": "stderr",
     "output_type": "stream",
     "text": [
      "/home/salabed/anaconda3/envs/rocksdb/lib/python3.8/site-packages/torch/distributed/distributed_c10d.py:262: UserWarning: torch.distributed.reduce_op is deprecated, please use torch.distributed.ReduceOp instead\n",
      "  warnings.warn(\n"
     ]
    },
    {
     "name": "stdout",
     "output_type": "stream",
     "text": [
      "Performing experiment: restart_id=2:exp_dim=6:obs=10\n"
     ]
    },
    {
     "name": "stderr",
     "output_type": "stream",
     "text": [
      "/home/salabed/anaconda3/envs/rocksdb/lib/python3.8/site-packages/torch/distributed/distributed_c10d.py:262: UserWarning: torch.distributed.reduce_op is deprecated, please use torch.distributed.ReduceOp instead\n",
      "  warnings.warn(\n"
     ]
    },
    {
     "name": "stdout",
     "output_type": "stream",
     "text": [
      "Performing experiment: restart_id=0:exp_dim=25:obs=10\n"
     ]
    },
    {
     "name": "stderr",
     "output_type": "stream",
     "text": [
      "/home/salabed/anaconda3/envs/rocksdb/lib/python3.8/site-packages/torch/distributed/distributed_c10d.py:262: UserWarning: torch.distributed.reduce_op is deprecated, please use torch.distributed.ReduceOp instead\n",
      "  warnings.warn(\n"
     ]
    },
    {
     "name": "stdout",
     "output_type": "stream",
     "text": [
      "Performing experiment: restart_id=1:exp_dim=25:obs=10\n"
     ]
    },
    {
     "name": "stderr",
     "output_type": "stream",
     "text": [
      "/home/salabed/anaconda3/envs/rocksdb/lib/python3.8/site-packages/torch/distributed/distributed_c10d.py:262: UserWarning: torch.distributed.reduce_op is deprecated, please use torch.distributed.ReduceOp instead\n",
      "  warnings.warn(\n"
     ]
    },
    {
     "name": "stdout",
     "output_type": "stream",
     "text": [
      "Performing experiment: restart_id=2:exp_dim=25:obs=10\n"
     ]
    },
    {
     "name": "stderr",
     "output_type": "stream",
     "text": [
      "/home/salabed/anaconda3/envs/rocksdb/lib/python3.8/site-packages/torch/distributed/distributed_c10d.py:262: UserWarning: torch.distributed.reduce_op is deprecated, please use torch.distributed.ReduceOp instead\n",
      "  warnings.warn(\n"
     ]
    },
    {
     "name": "stdout",
     "output_type": "stream",
     "text": [
      "Performing experiment: restart_id=0:exp_dim=50:obs=10\n"
     ]
    },
    {
     "name": "stderr",
     "output_type": "stream",
     "text": [
      "/home/salabed/anaconda3/envs/rocksdb/lib/python3.8/site-packages/torch/distributed/distributed_c10d.py:262: UserWarning: torch.distributed.reduce_op is deprecated, please use torch.distributed.ReduceOp instead\n",
      "  warnings.warn(\n"
     ]
    },
    {
     "name": "stdout",
     "output_type": "stream",
     "text": [
      "Performing experiment: restart_id=1:exp_dim=50:obs=10\n"
     ]
    },
    {
     "name": "stderr",
     "output_type": "stream",
     "text": [
      "/home/salabed/anaconda3/envs/rocksdb/lib/python3.8/site-packages/torch/distributed/distributed_c10d.py:262: UserWarning: torch.distributed.reduce_op is deprecated, please use torch.distributed.ReduceOp instead\n",
      "  warnings.warn(\n"
     ]
    },
    {
     "name": "stdout",
     "output_type": "stream",
     "text": [
      "Performing experiment: restart_id=2:exp_dim=50:obs=10\n"
     ]
    },
    {
     "name": "stderr",
     "output_type": "stream",
     "text": [
      "/home/salabed/anaconda3/envs/rocksdb/lib/python3.8/site-packages/torch/distributed/distributed_c10d.py:262: UserWarning: torch.distributed.reduce_op is deprecated, please use torch.distributed.ReduceOp instead\n",
      "  warnings.warn(\n"
     ]
    },
    {
     "name": "stdout",
     "output_type": "stream",
     "text": [
      "Performing experiment: restart_id=0:exp_dim=100:obs=10\n"
     ]
    },
    {
     "name": "stderr",
     "output_type": "stream",
     "text": [
      "/home/salabed/anaconda3/envs/rocksdb/lib/python3.8/site-packages/torch/distributed/distributed_c10d.py:262: UserWarning: torch.distributed.reduce_op is deprecated, please use torch.distributed.ReduceOp instead\n",
      "  warnings.warn(\n"
     ]
    },
    {
     "name": "stdout",
     "output_type": "stream",
     "text": [
      "Performing experiment: restart_id=1:exp_dim=100:obs=10\n"
     ]
    },
    {
     "name": "stderr",
     "output_type": "stream",
     "text": [
      "/home/salabed/anaconda3/envs/rocksdb/lib/python3.8/site-packages/torch/distributed/distributed_c10d.py:262: UserWarning: torch.distributed.reduce_op is deprecated, please use torch.distributed.ReduceOp instead\n",
      "  warnings.warn(\n"
     ]
    },
    {
     "name": "stdout",
     "output_type": "stream",
     "text": [
      "Performing experiment: restart_id=2:exp_dim=100:obs=10\n"
     ]
    },
    {
     "name": "stderr",
     "output_type": "stream",
     "text": [
      "/home/salabed/anaconda3/envs/rocksdb/lib/python3.8/site-packages/torch/distributed/distributed_c10d.py:262: UserWarning: torch.distributed.reduce_op is deprecated, please use torch.distributed.ReduceOp instead\n",
      "  warnings.warn(\n"
     ]
    },
    {
     "name": "stdout",
     "output_type": "stream",
     "text": [
      "Performing experiment: restart_id=0:exp_dim=1000:obs=10\n"
     ]
    },
    {
     "name": "stderr",
     "output_type": "stream",
     "text": [
      "/home/salabed/anaconda3/envs/rocksdb/lib/python3.8/site-packages/torch/distributed/distributed_c10d.py:262: UserWarning: torch.distributed.reduce_op is deprecated, please use torch.distributed.ReduceOp instead\n",
      "  warnings.warn(\n"
     ]
    },
    {
     "name": "stdout",
     "output_type": "stream",
     "text": [
      "Performing experiment: restart_id=1:exp_dim=1000:obs=10\n"
     ]
    },
    {
     "name": "stderr",
     "output_type": "stream",
     "text": [
      "/home/salabed/anaconda3/envs/rocksdb/lib/python3.8/site-packages/torch/distributed/distributed_c10d.py:262: UserWarning: torch.distributed.reduce_op is deprecated, please use torch.distributed.ReduceOp instead\n",
      "  warnings.warn(\n"
     ]
    },
    {
     "name": "stdout",
     "output_type": "stream",
     "text": [
      "Performing experiment: restart_id=2:exp_dim=1000:obs=10\n"
     ]
    },
    {
     "name": "stderr",
     "output_type": "stream",
     "text": [
      "/home/salabed/anaconda3/envs/rocksdb/lib/python3.8/site-packages/torch/distributed/distributed_c10d.py:262: UserWarning: torch.distributed.reduce_op is deprecated, please use torch.distributed.ReduceOp instead\n",
      "  warnings.warn(\n"
     ]
    },
    {
     "name": "stdout",
     "output_type": "stream",
     "text": [
      "Performing experiment: restart_id=0:exp_dim=6:obs=100\n"
     ]
    },
    {
     "name": "stderr",
     "output_type": "stream",
     "text": [
      "/home/salabed/anaconda3/envs/rocksdb/lib/python3.8/site-packages/torch/distributed/distributed_c10d.py:262: UserWarning: torch.distributed.reduce_op is deprecated, please use torch.distributed.ReduceOp instead\n",
      "  warnings.warn(\n"
     ]
    },
    {
     "name": "stdout",
     "output_type": "stream",
     "text": [
      "Performing experiment: restart_id=1:exp_dim=6:obs=100\n"
     ]
    },
    {
     "name": "stderr",
     "output_type": "stream",
     "text": [
      "/home/salabed/anaconda3/envs/rocksdb/lib/python3.8/site-packages/torch/distributed/distributed_c10d.py:262: UserWarning: torch.distributed.reduce_op is deprecated, please use torch.distributed.ReduceOp instead\n",
      "  warnings.warn(\n"
     ]
    },
    {
     "name": "stdout",
     "output_type": "stream",
     "text": [
      "Performing experiment: restart_id=2:exp_dim=6:obs=100\n"
     ]
    },
    {
     "name": "stderr",
     "output_type": "stream",
     "text": [
      "/home/salabed/anaconda3/envs/rocksdb/lib/python3.8/site-packages/torch/distributed/distributed_c10d.py:262: UserWarning: torch.distributed.reduce_op is deprecated, please use torch.distributed.ReduceOp instead\n",
      "  warnings.warn(\n"
     ]
    },
    {
     "name": "stdout",
     "output_type": "stream",
     "text": [
      "Performing experiment: restart_id=0:exp_dim=25:obs=100\n"
     ]
    },
    {
     "name": "stderr",
     "output_type": "stream",
     "text": [
      "/home/salabed/anaconda3/envs/rocksdb/lib/python3.8/site-packages/torch/distributed/distributed_c10d.py:262: UserWarning: torch.distributed.reduce_op is deprecated, please use torch.distributed.ReduceOp instead\n",
      "  warnings.warn(\n"
     ]
    },
    {
     "name": "stdout",
     "output_type": "stream",
     "text": [
      "Performing experiment: restart_id=1:exp_dim=25:obs=100\n"
     ]
    },
    {
     "name": "stderr",
     "output_type": "stream",
     "text": [
      "/home/salabed/anaconda3/envs/rocksdb/lib/python3.8/site-packages/torch/distributed/distributed_c10d.py:262: UserWarning: torch.distributed.reduce_op is deprecated, please use torch.distributed.ReduceOp instead\n",
      "  warnings.warn(\n"
     ]
    },
    {
     "name": "stdout",
     "output_type": "stream",
     "text": [
      "Performing experiment: restart_id=2:exp_dim=25:obs=100\n"
     ]
    },
    {
     "name": "stderr",
     "output_type": "stream",
     "text": [
      "/home/salabed/anaconda3/envs/rocksdb/lib/python3.8/site-packages/torch/distributed/distributed_c10d.py:262: UserWarning: torch.distributed.reduce_op is deprecated, please use torch.distributed.ReduceOp instead\n",
      "  warnings.warn(\n"
     ]
    },
    {
     "name": "stdout",
     "output_type": "stream",
     "text": [
      "Performing experiment: restart_id=0:exp_dim=50:obs=100\n"
     ]
    },
    {
     "name": "stderr",
     "output_type": "stream",
     "text": [
      "/home/salabed/anaconda3/envs/rocksdb/lib/python3.8/site-packages/torch/distributed/distributed_c10d.py:262: UserWarning: torch.distributed.reduce_op is deprecated, please use torch.distributed.ReduceOp instead\n",
      "  warnings.warn(\n"
     ]
    },
    {
     "name": "stdout",
     "output_type": "stream",
     "text": [
      "Performing experiment: restart_id=1:exp_dim=50:obs=100\n"
     ]
    },
    {
     "name": "stderr",
     "output_type": "stream",
     "text": [
      "/home/salabed/anaconda3/envs/rocksdb/lib/python3.8/site-packages/torch/distributed/distributed_c10d.py:262: UserWarning: torch.distributed.reduce_op is deprecated, please use torch.distributed.ReduceOp instead\n",
      "  warnings.warn(\n"
     ]
    },
    {
     "name": "stdout",
     "output_type": "stream",
     "text": [
      "Performing experiment: restart_id=2:exp_dim=50:obs=100\n"
     ]
    },
    {
     "name": "stderr",
     "output_type": "stream",
     "text": [
      "/home/salabed/anaconda3/envs/rocksdb/lib/python3.8/site-packages/torch/distributed/distributed_c10d.py:262: UserWarning: torch.distributed.reduce_op is deprecated, please use torch.distributed.ReduceOp instead\n",
      "  warnings.warn(\n"
     ]
    },
    {
     "name": "stdout",
     "output_type": "stream",
     "text": [
      "Performing experiment: restart_id=0:exp_dim=100:obs=100\n"
     ]
    },
    {
     "name": "stderr",
     "output_type": "stream",
     "text": [
      "/home/salabed/anaconda3/envs/rocksdb/lib/python3.8/site-packages/torch/distributed/distributed_c10d.py:262: UserWarning: torch.distributed.reduce_op is deprecated, please use torch.distributed.ReduceOp instead\n",
      "  warnings.warn(\n"
     ]
    },
    {
     "name": "stdout",
     "output_type": "stream",
     "text": [
      "Performing experiment: restart_id=1:exp_dim=100:obs=100\n"
     ]
    },
    {
     "name": "stderr",
     "output_type": "stream",
     "text": [
      "/home/salabed/anaconda3/envs/rocksdb/lib/python3.8/site-packages/torch/distributed/distributed_c10d.py:262: UserWarning: torch.distributed.reduce_op is deprecated, please use torch.distributed.ReduceOp instead\n",
      "  warnings.warn(\n"
     ]
    },
    {
     "name": "stdout",
     "output_type": "stream",
     "text": [
      "Performing experiment: restart_id=2:exp_dim=100:obs=100\n"
     ]
    },
    {
     "name": "stderr",
     "output_type": "stream",
     "text": [
      "/home/salabed/anaconda3/envs/rocksdb/lib/python3.8/site-packages/torch/distributed/distributed_c10d.py:262: UserWarning: torch.distributed.reduce_op is deprecated, please use torch.distributed.ReduceOp instead\n",
      "  warnings.warn(\n"
     ]
    },
    {
     "name": "stdout",
     "output_type": "stream",
     "text": [
      "Performing experiment: restart_id=0:exp_dim=1000:obs=100\n"
     ]
    },
    {
     "name": "stderr",
     "output_type": "stream",
     "text": [
      "/home/salabed/anaconda3/envs/rocksdb/lib/python3.8/site-packages/torch/distributed/distributed_c10d.py:262: UserWarning: torch.distributed.reduce_op is deprecated, please use torch.distributed.ReduceOp instead\n",
      "  warnings.warn(\n"
     ]
    },
    {
     "name": "stdout",
     "output_type": "stream",
     "text": [
      "Performing experiment: restart_id=1:exp_dim=1000:obs=100\n"
     ]
    },
    {
     "name": "stderr",
     "output_type": "stream",
     "text": [
      "/home/salabed/anaconda3/envs/rocksdb/lib/python3.8/site-packages/torch/distributed/distributed_c10d.py:262: UserWarning: torch.distributed.reduce_op is deprecated, please use torch.distributed.ReduceOp instead\n",
      "  warnings.warn(\n"
     ]
    },
    {
     "name": "stdout",
     "output_type": "stream",
     "text": [
      "Performing experiment: restart_id=2:exp_dim=1000:obs=100\n"
     ]
    },
    {
     "name": "stderr",
     "output_type": "stream",
     "text": [
      "/home/salabed/anaconda3/envs/rocksdb/lib/python3.8/site-packages/torch/distributed/distributed_c10d.py:262: UserWarning: torch.distributed.reduce_op is deprecated, please use torch.distributed.ReduceOp instead\n",
      "  warnings.warn(\n"
     ]
    },
    {
     "name": "stdout",
     "output_type": "stream",
     "text": [
      "Performing experiment: restart_id=0:exp_dim=6:obs=500\n"
     ]
    },
    {
     "name": "stderr",
     "output_type": "stream",
     "text": [
      "/home/salabed/anaconda3/envs/rocksdb/lib/python3.8/site-packages/torch/distributed/distributed_c10d.py:262: UserWarning: torch.distributed.reduce_op is deprecated, please use torch.distributed.ReduceOp instead\n",
      "  warnings.warn(\n"
     ]
    },
    {
     "name": "stdout",
     "output_type": "stream",
     "text": [
      "Performing experiment: restart_id=1:exp_dim=6:obs=500\n"
     ]
    },
    {
     "name": "stderr",
     "output_type": "stream",
     "text": [
      "/home/salabed/anaconda3/envs/rocksdb/lib/python3.8/site-packages/torch/distributed/distributed_c10d.py:262: UserWarning: torch.distributed.reduce_op is deprecated, please use torch.distributed.ReduceOp instead\n",
      "  warnings.warn(\n"
     ]
    },
    {
     "name": "stdout",
     "output_type": "stream",
     "text": [
      "Performing experiment: restart_id=2:exp_dim=6:obs=500\n"
     ]
    },
    {
     "name": "stderr",
     "output_type": "stream",
     "text": [
      "/home/salabed/anaconda3/envs/rocksdb/lib/python3.8/site-packages/torch/distributed/distributed_c10d.py:262: UserWarning: torch.distributed.reduce_op is deprecated, please use torch.distributed.ReduceOp instead\n",
      "  warnings.warn(\n"
     ]
    },
    {
     "name": "stdout",
     "output_type": "stream",
     "text": [
      "Performing experiment: restart_id=0:exp_dim=25:obs=500\n"
     ]
    },
    {
     "name": "stderr",
     "output_type": "stream",
     "text": [
      "/home/salabed/anaconda3/envs/rocksdb/lib/python3.8/site-packages/torch/distributed/distributed_c10d.py:262: UserWarning: torch.distributed.reduce_op is deprecated, please use torch.distributed.ReduceOp instead\n",
      "  warnings.warn(\n"
     ]
    },
    {
     "name": "stdout",
     "output_type": "stream",
     "text": [
      "Performing experiment: restart_id=1:exp_dim=25:obs=500\n"
     ]
    },
    {
     "name": "stderr",
     "output_type": "stream",
     "text": [
      "/home/salabed/anaconda3/envs/rocksdb/lib/python3.8/site-packages/torch/distributed/distributed_c10d.py:262: UserWarning: torch.distributed.reduce_op is deprecated, please use torch.distributed.ReduceOp instead\n",
      "  warnings.warn(\n"
     ]
    },
    {
     "name": "stdout",
     "output_type": "stream",
     "text": [
      "Performing experiment: restart_id=2:exp_dim=25:obs=500\n"
     ]
    },
    {
     "name": "stderr",
     "output_type": "stream",
     "text": [
      "/home/salabed/anaconda3/envs/rocksdb/lib/python3.8/site-packages/torch/distributed/distributed_c10d.py:262: UserWarning: torch.distributed.reduce_op is deprecated, please use torch.distributed.ReduceOp instead\n",
      "  warnings.warn(\n"
     ]
    },
    {
     "name": "stdout",
     "output_type": "stream",
     "text": [
      "Performing experiment: restart_id=0:exp_dim=50:obs=500\n"
     ]
    },
    {
     "name": "stderr",
     "output_type": "stream",
     "text": [
      "/home/salabed/anaconda3/envs/rocksdb/lib/python3.8/site-packages/torch/distributed/distributed_c10d.py:262: UserWarning: torch.distributed.reduce_op is deprecated, please use torch.distributed.ReduceOp instead\n",
      "  warnings.warn(\n"
     ]
    },
    {
     "name": "stdout",
     "output_type": "stream",
     "text": [
      "Performing experiment: restart_id=1:exp_dim=50:obs=500\n"
     ]
    },
    {
     "name": "stderr",
     "output_type": "stream",
     "text": [
      "/home/salabed/anaconda3/envs/rocksdb/lib/python3.8/site-packages/torch/distributed/distributed_c10d.py:262: UserWarning: torch.distributed.reduce_op is deprecated, please use torch.distributed.ReduceOp instead\n",
      "  warnings.warn(\n"
     ]
    },
    {
     "name": "stdout",
     "output_type": "stream",
     "text": [
      "Performing experiment: restart_id=2:exp_dim=50:obs=500\n"
     ]
    },
    {
     "name": "stderr",
     "output_type": "stream",
     "text": [
      "/home/salabed/anaconda3/envs/rocksdb/lib/python3.8/site-packages/torch/distributed/distributed_c10d.py:262: UserWarning: torch.distributed.reduce_op is deprecated, please use torch.distributed.ReduceOp instead\n",
      "  warnings.warn(\n"
     ]
    },
    {
     "name": "stdout",
     "output_type": "stream",
     "text": [
      "Performing experiment: restart_id=0:exp_dim=100:obs=500\n"
     ]
    },
    {
     "name": "stderr",
     "output_type": "stream",
     "text": [
      "/home/salabed/anaconda3/envs/rocksdb/lib/python3.8/site-packages/torch/distributed/distributed_c10d.py:262: UserWarning: torch.distributed.reduce_op is deprecated, please use torch.distributed.ReduceOp instead\n",
      "  warnings.warn(\n"
     ]
    },
    {
     "name": "stdout",
     "output_type": "stream",
     "text": [
      "Performing experiment: restart_id=1:exp_dim=100:obs=500\n"
     ]
    },
    {
     "name": "stderr",
     "output_type": "stream",
     "text": [
      "/home/salabed/anaconda3/envs/rocksdb/lib/python3.8/site-packages/torch/distributed/distributed_c10d.py:262: UserWarning: torch.distributed.reduce_op is deprecated, please use torch.distributed.ReduceOp instead\n",
      "  warnings.warn(\n"
     ]
    },
    {
     "name": "stdout",
     "output_type": "stream",
     "text": [
      "Performing experiment: restart_id=2:exp_dim=100:obs=500\n"
     ]
    },
    {
     "name": "stderr",
     "output_type": "stream",
     "text": [
      "/home/salabed/anaconda3/envs/rocksdb/lib/python3.8/site-packages/torch/distributed/distributed_c10d.py:262: UserWarning: torch.distributed.reduce_op is deprecated, please use torch.distributed.ReduceOp instead\n",
      "  warnings.warn(\n"
     ]
    },
    {
     "name": "stdout",
     "output_type": "stream",
     "text": [
      "Performing experiment: restart_id=0:exp_dim=1000:obs=500\n"
     ]
    },
    {
     "name": "stderr",
     "output_type": "stream",
     "text": [
      "/home/salabed/anaconda3/envs/rocksdb/lib/python3.8/site-packages/torch/distributed/distributed_c10d.py:262: UserWarning: torch.distributed.reduce_op is deprecated, please use torch.distributed.ReduceOp instead\n",
      "  warnings.warn(\n"
     ]
    },
    {
     "name": "stdout",
     "output_type": "stream",
     "text": [
      "Performing experiment: restart_id=1:exp_dim=1000:obs=500\n"
     ]
    },
    {
     "name": "stderr",
     "output_type": "stream",
     "text": [
      "/home/salabed/anaconda3/envs/rocksdb/lib/python3.8/site-packages/torch/distributed/distributed_c10d.py:262: UserWarning: torch.distributed.reduce_op is deprecated, please use torch.distributed.ReduceOp instead\n",
      "  warnings.warn(\n"
     ]
    },
    {
     "name": "stdout",
     "output_type": "stream",
     "text": [
      "Performing experiment: restart_id=2:exp_dim=1000:obs=500\n"
     ]
    },
    {
     "name": "stderr",
     "output_type": "stream",
     "text": [
      "/home/salabed/anaconda3/envs/rocksdb/lib/python3.8/site-packages/torch/distributed/distributed_c10d.py:262: UserWarning: torch.distributed.reduce_op is deprecated, please use torch.distributed.ReduceOp instead\n",
      "  warnings.warn(\n"
     ]
    },
    {
     "name": "stdout",
     "output_type": "stream",
     "text": [
      "Performing experiment: restart_id=0:exp_dim=6:obs=1000\n"
     ]
    },
    {
     "name": "stderr",
     "output_type": "stream",
     "text": [
      "/home/salabed/anaconda3/envs/rocksdb/lib/python3.8/site-packages/torch/distributed/distributed_c10d.py:262: UserWarning: torch.distributed.reduce_op is deprecated, please use torch.distributed.ReduceOp instead\n",
      "  warnings.warn(\n"
     ]
    },
    {
     "name": "stdout",
     "output_type": "stream",
     "text": [
      "Performing experiment: restart_id=1:exp_dim=6:obs=1000\n"
     ]
    },
    {
     "name": "stderr",
     "output_type": "stream",
     "text": [
      "/home/salabed/anaconda3/envs/rocksdb/lib/python3.8/site-packages/torch/distributed/distributed_c10d.py:262: UserWarning: torch.distributed.reduce_op is deprecated, please use torch.distributed.ReduceOp instead\n",
      "  warnings.warn(\n"
     ]
    },
    {
     "name": "stdout",
     "output_type": "stream",
     "text": [
      "Performing experiment: restart_id=2:exp_dim=6:obs=1000\n"
     ]
    },
    {
     "name": "stderr",
     "output_type": "stream",
     "text": [
      "/home/salabed/anaconda3/envs/rocksdb/lib/python3.8/site-packages/torch/distributed/distributed_c10d.py:262: UserWarning: torch.distributed.reduce_op is deprecated, please use torch.distributed.ReduceOp instead\n",
      "  warnings.warn(\n"
     ]
    },
    {
     "name": "stdout",
     "output_type": "stream",
     "text": [
      "Performing experiment: restart_id=0:exp_dim=25:obs=1000\n"
     ]
    },
    {
     "name": "stderr",
     "output_type": "stream",
     "text": [
      "/home/salabed/anaconda3/envs/rocksdb/lib/python3.8/site-packages/torch/distributed/distributed_c10d.py:262: UserWarning: torch.distributed.reduce_op is deprecated, please use torch.distributed.ReduceOp instead\n",
      "  warnings.warn(\n"
     ]
    },
    {
     "name": "stdout",
     "output_type": "stream",
     "text": [
      "Performing experiment: restart_id=1:exp_dim=25:obs=1000\n"
     ]
    },
    {
     "name": "stderr",
     "output_type": "stream",
     "text": [
      "/home/salabed/anaconda3/envs/rocksdb/lib/python3.8/site-packages/torch/distributed/distributed_c10d.py:262: UserWarning: torch.distributed.reduce_op is deprecated, please use torch.distributed.ReduceOp instead\n",
      "  warnings.warn(\n"
     ]
    },
    {
     "name": "stdout",
     "output_type": "stream",
     "text": [
      "Performing experiment: restart_id=2:exp_dim=25:obs=1000\n"
     ]
    },
    {
     "name": "stderr",
     "output_type": "stream",
     "text": [
      "/home/salabed/anaconda3/envs/rocksdb/lib/python3.8/site-packages/torch/distributed/distributed_c10d.py:262: UserWarning: torch.distributed.reduce_op is deprecated, please use torch.distributed.ReduceOp instead\n",
      "  warnings.warn(\n"
     ]
    },
    {
     "name": "stdout",
     "output_type": "stream",
     "text": [
      "Performing experiment: restart_id=0:exp_dim=50:obs=1000\n"
     ]
    },
    {
     "name": "stderr",
     "output_type": "stream",
     "text": [
      "/home/salabed/anaconda3/envs/rocksdb/lib/python3.8/site-packages/torch/distributed/distributed_c10d.py:262: UserWarning: torch.distributed.reduce_op is deprecated, please use torch.distributed.ReduceOp instead\n",
      "  warnings.warn(\n"
     ]
    },
    {
     "name": "stdout",
     "output_type": "stream",
     "text": [
      "Performing experiment: restart_id=1:exp_dim=50:obs=1000\n"
     ]
    },
    {
     "name": "stderr",
     "output_type": "stream",
     "text": [
      "/home/salabed/anaconda3/envs/rocksdb/lib/python3.8/site-packages/torch/distributed/distributed_c10d.py:262: UserWarning: torch.distributed.reduce_op is deprecated, please use torch.distributed.ReduceOp instead\n",
      "  warnings.warn(\n"
     ]
    },
    {
     "name": "stdout",
     "output_type": "stream",
     "text": [
      "Performing experiment: restart_id=2:exp_dim=50:obs=1000\n"
     ]
    },
    {
     "name": "stderr",
     "output_type": "stream",
     "text": [
      "/home/salabed/anaconda3/envs/rocksdb/lib/python3.8/site-packages/torch/distributed/distributed_c10d.py:262: UserWarning: torch.distributed.reduce_op is deprecated, please use torch.distributed.ReduceOp instead\n",
      "  warnings.warn(\n"
     ]
    },
    {
     "name": "stdout",
     "output_type": "stream",
     "text": [
      "Performing experiment: restart_id=0:exp_dim=100:obs=1000\n"
     ]
    },
    {
     "name": "stderr",
     "output_type": "stream",
     "text": [
      "/home/salabed/anaconda3/envs/rocksdb/lib/python3.8/site-packages/torch/distributed/distributed_c10d.py:262: UserWarning: torch.distributed.reduce_op is deprecated, please use torch.distributed.ReduceOp instead\n",
      "  warnings.warn(\n"
     ]
    },
    {
     "name": "stdout",
     "output_type": "stream",
     "text": [
      "Performing experiment: restart_id=1:exp_dim=100:obs=1000\n"
     ]
    },
    {
     "name": "stderr",
     "output_type": "stream",
     "text": [
      "/home/salabed/anaconda3/envs/rocksdb/lib/python3.8/site-packages/torch/distributed/distributed_c10d.py:262: UserWarning: torch.distributed.reduce_op is deprecated, please use torch.distributed.ReduceOp instead\n",
      "  warnings.warn(\n"
     ]
    },
    {
     "name": "stdout",
     "output_type": "stream",
     "text": [
      "Performing experiment: restart_id=2:exp_dim=100:obs=1000\n"
     ]
    },
    {
     "name": "stderr",
     "output_type": "stream",
     "text": [
      "/home/salabed/anaconda3/envs/rocksdb/lib/python3.8/site-packages/torch/distributed/distributed_c10d.py:262: UserWarning: torch.distributed.reduce_op is deprecated, please use torch.distributed.ReduceOp instead\n",
      "  warnings.warn(\n"
     ]
    },
    {
     "name": "stdout",
     "output_type": "stream",
     "text": [
      "Performing experiment: restart_id=0:exp_dim=1000:obs=1000\n"
     ]
    },
    {
     "name": "stderr",
     "output_type": "stream",
     "text": [
      "/home/salabed/anaconda3/envs/rocksdb/lib/python3.8/site-packages/torch/distributed/distributed_c10d.py:262: UserWarning: torch.distributed.reduce_op is deprecated, please use torch.distributed.ReduceOp instead\n",
      "  warnings.warn(\n"
     ]
    },
    {
     "name": "stdout",
     "output_type": "stream",
     "text": [
      "Performing experiment: restart_id=1:exp_dim=1000:obs=1000\n"
     ]
    },
    {
     "name": "stderr",
     "output_type": "stream",
     "text": [
      "/home/salabed/anaconda3/envs/rocksdb/lib/python3.8/site-packages/torch/distributed/distributed_c10d.py:262: UserWarning: torch.distributed.reduce_op is deprecated, please use torch.distributed.ReduceOp instead\n",
      "  warnings.warn(\n"
     ]
    },
    {
     "name": "stdout",
     "output_type": "stream",
     "text": [
      "Performing experiment: restart_id=2:exp_dim=1000:obs=1000\n"
     ]
    },
    {
     "name": "stderr",
     "output_type": "stream",
     "text": [
      "/home/salabed/anaconda3/envs/rocksdb/lib/python3.8/site-packages/torch/distributed/distributed_c10d.py:262: UserWarning: torch.distributed.reduce_op is deprecated, please use torch.distributed.ReduceOp instead\n",
      "  warnings.warn(\n"
     ]
    },
    {
     "name": "stdout",
     "output_type": "stream",
     "text": [
      "Performing experiment: restart_id=0:exp_dim=6:obs=10000\n"
     ]
    },
    {
     "name": "stderr",
     "output_type": "stream",
     "text": [
      "/home/salabed/anaconda3/envs/rocksdb/lib/python3.8/site-packages/torch/distributed/distributed_c10d.py:262: UserWarning: torch.distributed.reduce_op is deprecated, please use torch.distributed.ReduceOp instead\n",
      "  warnings.warn(\n"
     ]
    },
    {
     "name": "stdout",
     "output_type": "stream",
     "text": [
      "Performing experiment: restart_id=1:exp_dim=6:obs=10000\n"
     ]
    },
    {
     "name": "stderr",
     "output_type": "stream",
     "text": [
      "/home/salabed/anaconda3/envs/rocksdb/lib/python3.8/site-packages/torch/distributed/distributed_c10d.py:262: UserWarning: torch.distributed.reduce_op is deprecated, please use torch.distributed.ReduceOp instead\n",
      "  warnings.warn(\n"
     ]
    },
    {
     "name": "stdout",
     "output_type": "stream",
     "text": [
      "Performing experiment: restart_id=2:exp_dim=6:obs=10000\n"
     ]
    },
    {
     "name": "stderr",
     "output_type": "stream",
     "text": [
      "/home/salabed/anaconda3/envs/rocksdb/lib/python3.8/site-packages/torch/distributed/distributed_c10d.py:262: UserWarning: torch.distributed.reduce_op is deprecated, please use torch.distributed.ReduceOp instead\n",
      "  warnings.warn(\n"
     ]
    },
    {
     "name": "stdout",
     "output_type": "stream",
     "text": [
      "Performing experiment: restart_id=0:exp_dim=25:obs=10000\n"
     ]
    },
    {
     "name": "stderr",
     "output_type": "stream",
     "text": [
      "/home/salabed/anaconda3/envs/rocksdb/lib/python3.8/site-packages/torch/distributed/distributed_c10d.py:262: UserWarning: torch.distributed.reduce_op is deprecated, please use torch.distributed.ReduceOp instead\n",
      "  warnings.warn(\n"
     ]
    },
    {
     "name": "stdout",
     "output_type": "stream",
     "text": [
      "Performing experiment: restart_id=1:exp_dim=25:obs=10000\n"
     ]
    },
    {
     "name": "stderr",
     "output_type": "stream",
     "text": [
      "/home/salabed/anaconda3/envs/rocksdb/lib/python3.8/site-packages/torch/distributed/distributed_c10d.py:262: UserWarning: torch.distributed.reduce_op is deprecated, please use torch.distributed.ReduceOp instead\n",
      "  warnings.warn(\n"
     ]
    },
    {
     "name": "stdout",
     "output_type": "stream",
     "text": [
      "Performing experiment: restart_id=2:exp_dim=25:obs=10000\n"
     ]
    },
    {
     "name": "stderr",
     "output_type": "stream",
     "text": [
      "/home/salabed/anaconda3/envs/rocksdb/lib/python3.8/site-packages/torch/distributed/distributed_c10d.py:262: UserWarning: torch.distributed.reduce_op is deprecated, please use torch.distributed.ReduceOp instead\n",
      "  warnings.warn(\n"
     ]
    },
    {
     "name": "stdout",
     "output_type": "stream",
     "text": [
      "Performing experiment: restart_id=0:exp_dim=50:obs=10000\n"
     ]
    },
    {
     "name": "stderr",
     "output_type": "stream",
     "text": [
      "/home/salabed/anaconda3/envs/rocksdb/lib/python3.8/site-packages/torch/distributed/distributed_c10d.py:262: UserWarning: torch.distributed.reduce_op is deprecated, please use torch.distributed.ReduceOp instead\n",
      "  warnings.warn(\n"
     ]
    },
    {
     "name": "stdout",
     "output_type": "stream",
     "text": [
      "Performing experiment: restart_id=1:exp_dim=50:obs=10000\n"
     ]
    },
    {
     "name": "stderr",
     "output_type": "stream",
     "text": [
      "/home/salabed/anaconda3/envs/rocksdb/lib/python3.8/site-packages/torch/distributed/distributed_c10d.py:262: UserWarning: torch.distributed.reduce_op is deprecated, please use torch.distributed.ReduceOp instead\n",
      "  warnings.warn(\n"
     ]
    },
    {
     "name": "stdout",
     "output_type": "stream",
     "text": [
      "Performing experiment: restart_id=2:exp_dim=50:obs=10000\n"
     ]
    },
    {
     "name": "stderr",
     "output_type": "stream",
     "text": [
      "/home/salabed/anaconda3/envs/rocksdb/lib/python3.8/site-packages/torch/distributed/distributed_c10d.py:262: UserWarning: torch.distributed.reduce_op is deprecated, please use torch.distributed.ReduceOp instead\n",
      "  warnings.warn(\n"
     ]
    },
    {
     "name": "stdout",
     "output_type": "stream",
     "text": [
      "Performing experiment: restart_id=0:exp_dim=100:obs=10000\n"
     ]
    },
    {
     "name": "stderr",
     "output_type": "stream",
     "text": [
      "/home/salabed/anaconda3/envs/rocksdb/lib/python3.8/site-packages/torch/distributed/distributed_c10d.py:262: UserWarning: torch.distributed.reduce_op is deprecated, please use torch.distributed.ReduceOp instead\n",
      "  warnings.warn(\n"
     ]
    },
    {
     "name": "stdout",
     "output_type": "stream",
     "text": [
      "Performing experiment: restart_id=1:exp_dim=100:obs=10000\n"
     ]
    },
    {
     "name": "stderr",
     "output_type": "stream",
     "text": [
      "/home/salabed/anaconda3/envs/rocksdb/lib/python3.8/site-packages/torch/distributed/distributed_c10d.py:262: UserWarning: torch.distributed.reduce_op is deprecated, please use torch.distributed.ReduceOp instead\n",
      "  warnings.warn(\n"
     ]
    },
    {
     "name": "stdout",
     "output_type": "stream",
     "text": [
      "Performing experiment: restart_id=2:exp_dim=100:obs=10000\n"
     ]
    },
    {
     "name": "stderr",
     "output_type": "stream",
     "text": [
      "/home/salabed/anaconda3/envs/rocksdb/lib/python3.8/site-packages/torch/distributed/distributed_c10d.py:262: UserWarning: torch.distributed.reduce_op is deprecated, please use torch.distributed.ReduceOp instead\n",
      "  warnings.warn(\n"
     ]
    },
    {
     "name": "stdout",
     "output_type": "stream",
     "text": [
      "Performing experiment: restart_id=0:exp_dim=1000:obs=10000\n"
     ]
    },
    {
     "name": "stderr",
     "output_type": "stream",
     "text": [
      "/home/salabed/anaconda3/envs/rocksdb/lib/python3.8/site-packages/torch/distributed/distributed_c10d.py:262: UserWarning: torch.distributed.reduce_op is deprecated, please use torch.distributed.ReduceOp instead\n",
      "  warnings.warn(\n"
     ]
    },
    {
     "ename": "RuntimeError",
     "evalue": "KeyboardInterrupt: <EMPTY MESSAGE>\n\nAt:\n  /home/salabed/anaconda3/envs/rocksdb/lib/python3.8/site-packages/torch/autograd/graph.py(121): pack_to_cpu\n  /home/salabed/anaconda3/envs/rocksdb/lib/python3.8/site-packages/linear_operator/utils/cholesky.py(20): _psd_safe_cholesky\n  /home/salabed/anaconda3/envs/rocksdb/lib/python3.8/site-packages/linear_operator/utils/cholesky.py(65): psd_safe_cholesky\n  /home/salabed/anaconda3/envs/rocksdb/lib/python3.8/site-packages/linear_operator/operators/_linear_operator.py(494): _cholesky\n  /home/salabed/anaconda3/envs/rocksdb/lib/python3.8/site-packages/linear_operator/utils/memoize.py(59): g\n  /home/salabed/anaconda3/envs/rocksdb/lib/python3.8/site-packages/linear_operator/operators/_linear_operator.py(1244): cholesky\n  /home/salabed/anaconda3/envs/rocksdb/lib/python3.8/site-packages/gpytorch/distributions/multivariate_normal.py(88): _unbroadcasted_scale_tril\n  /home/salabed/anaconda3/envs/rocksdb/lib/python3.8/site-packages/torch/distributions/multivariate_normal.py(216): log_prob\n  /home/salabed/anaconda3/envs/rocksdb/lib/python3.8/site-packages/gpytorch/distributions/multivariate_normal.py(171): log_prob\n  /home/salabed/anaconda3/envs/rocksdb/lib/python3.8/site-packages/gpytorch/mlls/exact_marginal_log_likelihood.py(64): forward\n  /home/salabed/anaconda3/envs/rocksdb/lib/python3.8/site-packages/gpytorch/module.py(31): __call__\n  /home/salabed/anaconda3/envs/rocksdb/lib/python3.8/site-packages/botorch/optim/closures/model_closures.py(176): closure\n  /home/salabed/anaconda3/envs/rocksdb/lib/python3.8/site-packages/botorch/optim/closures/core.py(64): __call__\n  /home/salabed/anaconda3/envs/rocksdb/lib/python3.8/site-packages/botorch/optim/closures/core.py(150): __call__\n  /home/salabed/anaconda3/envs/rocksdb/lib/python3.8/site-packages/scipy/optimize/_optimize.py(70): _compute_if_needed\n  /home/salabed/anaconda3/envs/rocksdb/lib/python3.8/site-packages/scipy/optimize/_optimize.py(76): __call__\n  /home/salabed/anaconda3/envs/rocksdb/lib/python3.8/site-packages/scipy/optimize/_differentiable_functions.py(137): fun_wrapped\n  /home/salabed/anaconda3/envs/rocksdb/lib/python3.8/site-packages/scipy/optimize/_differentiable_functions.py(155): update_fun\n  /home/salabed/anaconda3/envs/rocksdb/lib/python3.8/site-packages/scipy/optimize/_differentiable_functions.py(251): _update_fun\n  /home/salabed/anaconda3/envs/rocksdb/lib/python3.8/site-packages/scipy/optimize/_differentiable_functions.py(285): fun_and_grad\n  /home/salabed/anaconda3/envs/rocksdb/lib/python3.8/site-packages/scipy/optimize/_lbfgsb_py.py(359): _minimize_lbfgsb\n  /home/salabed/anaconda3/envs/rocksdb/lib/python3.8/site-packages/scipy/optimize/_minimize.py(696): minimize\n  /home/salabed/anaconda3/envs/rocksdb/lib/python3.8/site-packages/botorch/optim/utils/timeout.py(80): minimize_with_timeout\n  /home/salabed/anaconda3/envs/rocksdb/lib/python3.8/site-packages/botorch/optim/core.py(109): scipy_minimize\n  /home/salabed/anaconda3/envs/rocksdb/lib/python3.8/site-packages/botorch/optim/fit.py(120): fit_gpytorch_mll_scipy\n  /home/salabed/anaconda3/envs/rocksdb/lib/python3.8/site-packages/botorch/fit.py(252): _fit_fallback\n  /home/salabed/anaconda3/envs/rocksdb/lib/python3.8/site-packages/botorch/utils/dispatcher.py(93): __call__\n  /home/salabed/anaconda3/envs/rocksdb/lib/python3.8/site-packages/botorch/fit.py(105): fit_gpytorch_mll\n  /home/salabed/workspace/autorocks/autorocks/optimizer/bograph/bobn.py(470): build_graph_models\n  /home/salabed/workspace/autorocks/autorocks/optimizer/bograph/bobn.py(543): opt\n  /tmp/ipykernel_69710/3536923496.py(32): run\n  /tmp/ipykernel_69710/3372308315.py(11): <module>\n  /home/salabed/anaconda3/envs/rocksdb/lib/python3.8/site-packages/IPython/core/interactiveshell.py(3508): run_code\n  /home/salabed/anaconda3/envs/rocksdb/lib/python3.8/site-packages/IPython/core/interactiveshell.py(3448): run_ast_nodes\n  /home/salabed/anaconda3/envs/rocksdb/lib/python3.8/site-packages/IPython/core/interactiveshell.py(3269): run_cell_async\n  /home/salabed/anaconda3/envs/rocksdb/lib/python3.8/site-packages/IPython/core/async_helpers.py(129): _pseudo_sync_runner\n  /home/salabed/anaconda3/envs/rocksdb/lib/python3.8/site-packages/IPython/core/interactiveshell.py(3064): _run_cell\n  /home/salabed/anaconda3/envs/rocksdb/lib/python3.8/site-packages/IPython/core/interactiveshell.py(3009): run_cell\n  /home/salabed/anaconda3/envs/rocksdb/lib/python3.8/site-packages/ipykernel/zmqshell.py(549): run_cell\n  /home/salabed/anaconda3/envs/rocksdb/lib/python3.8/site-packages/ipykernel/ipkernel.py(446): do_execute\n  /home/salabed/anaconda3/envs/rocksdb/lib/python3.8/site-packages/ipykernel/kernelbase.py(775): execute_request\n  /home/salabed/anaconda3/envs/rocksdb/lib/python3.8/site-packages/ipykernel/ipkernel.py(359): execute_request\n  /home/salabed/anaconda3/envs/rocksdb/lib/python3.8/site-packages/ipykernel/kernelbase.py(437): dispatch_shell\n  /home/salabed/anaconda3/envs/rocksdb/lib/python3.8/site-packages/ipykernel/kernelbase.py(531): process_one\n  /home/salabed/anaconda3/envs/rocksdb/lib/python3.8/site-packages/ipykernel/kernelbase.py(542): dispatch_queue\n  /home/salabed/anaconda3/envs/rocksdb/lib/python3.8/asyncio/events.py(81): _run\n  /home/salabed/anaconda3/envs/rocksdb/lib/python3.8/asyncio/base_events.py(1859): _run_once\n  /home/salabed/anaconda3/envs/rocksdb/lib/python3.8/asyncio/base_events.py(570): run_forever\n  /home/salabed/anaconda3/envs/rocksdb/lib/python3.8/site-packages/tornado/platform/asyncio.py(215): start\n  /home/salabed/anaconda3/envs/rocksdb/lib/python3.8/site-packages/ipykernel/kernelapp.py(739): start\n  /home/salabed/anaconda3/envs/rocksdb/lib/python3.8/site-packages/traitlets/config/application.py(1043): launch_instance\n  /home/salabed/anaconda3/envs/rocksdb/lib/python3.8/site-packages/ipykernel_launcher.py(17): <module>\n  /home/salabed/anaconda3/envs/rocksdb/lib/python3.8/runpy.py(86): _run_code\n  /home/salabed/anaconda3/envs/rocksdb/lib/python3.8/runpy.py(193): _run_module_as_main\n",
     "output_type": "error",
     "traceback": [
      "\u001B[0;31m---------------------------------------------------------------------------\u001B[0m",
      "\u001B[0;31mRuntimeError\u001B[0m                              Traceback (most recent call last)",
      "Cell \u001B[0;32mIn[8], line 11\u001B[0m\n\u001B[1;32m      9\u001B[0m \u001B[38;5;28;01mfor\u001B[39;00m restart_id \u001B[38;5;129;01min\u001B[39;00m \u001B[38;5;28mrange\u001B[39m(n_restarts):\n\u001B[1;32m     10\u001B[0m     \u001B[38;5;28mprint\u001B[39m(\u001B[38;5;124mf\u001B[39m\u001B[38;5;124m\"\u001B[39m\u001B[38;5;124mPerforming experiment: \u001B[39m\u001B[38;5;132;01m{\u001B[39;00mrestart_id\u001B[38;5;132;01m=}\u001B[39;00m\u001B[38;5;124m:\u001B[39m\u001B[38;5;132;01m{\u001B[39;00mexp_dim\u001B[38;5;132;01m=}\u001B[39;00m\u001B[38;5;124m:\u001B[39m\u001B[38;5;132;01m{\u001B[39;00mobs\u001B[38;5;132;01m=}\u001B[39;00m\u001B[38;5;124m\"\u001B[39m)\n\u001B[0;32m---> 11\u001B[0m     all_results\u001B[38;5;241m.\u001B[39mappend(\u001B[43mexp\u001B[49m\u001B[38;5;241;43m.\u001B[39;49m\u001B[43mrun\u001B[49m\u001B[43m(\u001B[49m\u001B[43mobs\u001B[49m\u001B[43m,\u001B[49m\u001B[43m \u001B[49m\u001B[43mrestart_id\u001B[49m\u001B[43m)\u001B[49m)\n",
      "Cell \u001B[0;32mIn[4], line 32\u001B[0m, in \u001B[0;36mMemoryExp.run\u001B[0;34m(self, observations, restart_id)\u001B[0m\n\u001B[1;32m     30\u001B[0m start_time \u001B[38;5;241m=\u001B[39m time\u001B[38;5;241m.\u001B[39mtime()\n\u001B[1;32m     31\u001B[0m \u001B[38;5;28;01mtry\u001B[39;00m:\n\u001B[0;32m---> 32\u001B[0m     \u001B[38;5;28;43mself\u001B[39;49m\u001B[38;5;241;43m.\u001B[39;49m\u001B[43m_bobn\u001B[49m\u001B[38;5;241;43m.\u001B[39;49m\u001B[43mopt\u001B[49m\u001B[43m(\u001B[49m\u001B[43mds\u001B[49m\u001B[43m)\u001B[49m\n\u001B[1;32m     33\u001B[0m \u001B[38;5;28;01mexcept\u001B[39;00m torch\u001B[38;5;241m.\u001B[39mcuda\u001B[38;5;241m.\u001B[39mOutOfMemoryError:\n\u001B[1;32m     34\u001B[0m     \u001B[38;5;28;01mreturn\u001B[39;00m {\u001B[38;5;124m\"\u001B[39m\u001B[38;5;124mpeak_memory\u001B[39m\u001B[38;5;124m\"\u001B[39m: \u001B[38;5;241m-\u001B[39m\u001B[38;5;241m99\u001B[39m,\n\u001B[1;32m     35\u001B[0m             \u001B[38;5;124m'\u001B[39m\u001B[38;5;124mruntime_seconds\u001B[39m\u001B[38;5;124m'\u001B[39m: time\u001B[38;5;241m.\u001B[39mtime() \u001B[38;5;241m-\u001B[39m start_time,\n\u001B[1;32m     36\u001B[0m             \u001B[38;5;124m'\u001B[39m\u001B[38;5;124mrestart_id\u001B[39m\u001B[38;5;124m'\u001B[39m: restart_id,\n\u001B[1;32m     37\u001B[0m             \u001B[38;5;124m'\u001B[39m\u001B[38;5;124mobservations\u001B[39m\u001B[38;5;124m'\u001B[39m: observations}\n",
      "File \u001B[0;32m~/workspace/autorocks/autorocks/optimizer/bograph/bobn.py:543\u001B[0m, in \u001B[0;36mBoBn.opt\u001B[0;34m(self, observations, preprocess_observations, return_acqf_values, conditioning_values_override, build_conditioning_values_by_sampling)\u001B[0m\n\u001B[1;32m    520\u001B[0m \u001B[38;5;124;03m\"\"\"Run the BoBn optimization loop.\u001B[39;00m\n\u001B[1;32m    521\u001B[0m \n\u001B[1;32m    522\u001B[0m \n\u001B[0;32m   (...)\u001B[0m\n\u001B[1;32m    540\u001B[0m \u001B[38;5;124;03m    each subgraph optimized acquisition function value.\u001B[39;00m\n\u001B[1;32m    541\u001B[0m \u001B[38;5;124;03m\"\"\"\u001B[39;00m\n\u001B[1;32m    542\u001B[0m \u001B[38;5;28;01mwith\u001B[39;00m _get_context(\u001B[38;5;28mself\u001B[39m\u001B[38;5;241m.\u001B[39m_conservative_mode)():\n\u001B[0;32m--> 543\u001B[0m     models \u001B[38;5;241m=\u001B[39m \u001B[38;5;28;43mself\u001B[39;49m\u001B[38;5;241;43m.\u001B[39;49m\u001B[43mbuild_graph_models\u001B[49m\u001B[43m(\u001B[49m\u001B[43mobservations\u001B[49m\u001B[43m,\u001B[49m\u001B[43m \u001B[49m\u001B[43mpreprocess_observations\u001B[49m\u001B[43m)\u001B[49m\n\u001B[1;32m    545\u001B[0m conditioning_values \u001B[38;5;241m=\u001B[39m {}\n\u001B[1;32m    546\u001B[0m \u001B[38;5;28;01mif\u001B[39;00m build_conditioning_values_by_sampling:\n",
      "File \u001B[0;32m~/workspace/autorocks/autorocks/optimizer/bograph/bobn.py:470\u001B[0m, in \u001B[0;36mBoBn.build_graph_models\u001B[0;34m(self, observations, preprocess_observations)\u001B[0m\n\u001B[1;32m    468\u001B[0m model\u001B[38;5;241m.\u001B[39mtrain()\n\u001B[1;32m    469\u001B[0m mll \u001B[38;5;241m=\u001B[39m ExactMarginalLogLikelihood(model\u001B[38;5;241m.\u001B[39mlikelihood, model)\n\u001B[0;32m--> 470\u001B[0m \u001B[43mbotorch\u001B[49m\u001B[38;5;241;43m.\u001B[39;49m\u001B[43mfit_gpytorch_mll\u001B[49m\u001B[43m(\u001B[49m\u001B[43mmll\u001B[49m\u001B[43m)\u001B[49m\n\u001B[1;32m    471\u001B[0m model\u001B[38;5;241m.\u001B[39meval()\n\u001B[1;32m    472\u001B[0m \u001B[38;5;28;01mif\u001B[39;00m input_transform \u001B[38;5;129;01mis\u001B[39;00m \u001B[38;5;129;01mnot\u001B[39;00m \u001B[38;5;28;01mNone\u001B[39;00m:\n",
      "File \u001B[0;32m~/anaconda3/envs/rocksdb/lib/python3.8/site-packages/botorch/fit.py:105\u001B[0m, in \u001B[0;36mfit_gpytorch_mll\u001B[0;34m(mll, closure, optimizer, closure_kwargs, optimizer_kwargs, **kwargs)\u001B[0m\n\u001B[1;32m    102\u001B[0m \u001B[38;5;28;01mif\u001B[39;00m optimizer \u001B[38;5;129;01mis\u001B[39;00m \u001B[38;5;129;01mnot\u001B[39;00m \u001B[38;5;28;01mNone\u001B[39;00m:  \u001B[38;5;66;03m# defer to per-method defaults\u001B[39;00m\n\u001B[1;32m    103\u001B[0m     kwargs[\u001B[38;5;124m\"\u001B[39m\u001B[38;5;124moptimizer\u001B[39m\u001B[38;5;124m\"\u001B[39m] \u001B[38;5;241m=\u001B[39m optimizer\n\u001B[0;32m--> 105\u001B[0m \u001B[38;5;28;01mreturn\u001B[39;00m \u001B[43mFitGPyTorchMLL\u001B[49m\u001B[43m(\u001B[49m\n\u001B[1;32m    106\u001B[0m \u001B[43m    \u001B[49m\u001B[43mmll\u001B[49m\u001B[43m,\u001B[49m\n\u001B[1;32m    107\u001B[0m \u001B[43m    \u001B[49m\u001B[38;5;28;43mtype\u001B[39;49m\u001B[43m(\u001B[49m\u001B[43mmll\u001B[49m\u001B[38;5;241;43m.\u001B[39;49m\u001B[43mlikelihood\u001B[49m\u001B[43m)\u001B[49m\u001B[43m,\u001B[49m\n\u001B[1;32m    108\u001B[0m \u001B[43m    \u001B[49m\u001B[38;5;28;43mtype\u001B[39;49m\u001B[43m(\u001B[49m\u001B[43mmll\u001B[49m\u001B[38;5;241;43m.\u001B[39;49m\u001B[43mmodel\u001B[49m\u001B[43m)\u001B[49m\u001B[43m,\u001B[49m\n\u001B[1;32m    109\u001B[0m \u001B[43m    \u001B[49m\u001B[43mclosure\u001B[49m\u001B[38;5;241;43m=\u001B[39;49m\u001B[43mclosure\u001B[49m\u001B[43m,\u001B[49m\n\u001B[1;32m    110\u001B[0m \u001B[43m    \u001B[49m\u001B[43mclosure_kwargs\u001B[49m\u001B[38;5;241;43m=\u001B[39;49m\u001B[43mclosure_kwargs\u001B[49m\u001B[43m,\u001B[49m\n\u001B[1;32m    111\u001B[0m \u001B[43m    \u001B[49m\u001B[43moptimizer_kwargs\u001B[49m\u001B[38;5;241;43m=\u001B[39;49m\u001B[43moptimizer_kwargs\u001B[49m\u001B[43m,\u001B[49m\n\u001B[1;32m    112\u001B[0m \u001B[43m    \u001B[49m\u001B[38;5;241;43m*\u001B[39;49m\u001B[38;5;241;43m*\u001B[39;49m\u001B[43mkwargs\u001B[49m\u001B[43m,\u001B[49m\n\u001B[1;32m    113\u001B[0m \u001B[43m\u001B[49m\u001B[43m)\u001B[49m\n",
      "File \u001B[0;32m~/anaconda3/envs/rocksdb/lib/python3.8/site-packages/botorch/utils/dispatcher.py:93\u001B[0m, in \u001B[0;36mDispatcher.__call__\u001B[0;34m(self, *args, **kwargs)\u001B[0m\n\u001B[1;32m     91\u001B[0m func \u001B[38;5;241m=\u001B[39m \u001B[38;5;28mself\u001B[39m\u001B[38;5;241m.\u001B[39m\u001B[38;5;21m__getitem__\u001B[39m(types\u001B[38;5;241m=\u001B[39mtypes)\n\u001B[1;32m     92\u001B[0m \u001B[38;5;28;01mtry\u001B[39;00m:\n\u001B[0;32m---> 93\u001B[0m     \u001B[38;5;28;01mreturn\u001B[39;00m \u001B[43mfunc\u001B[49m\u001B[43m(\u001B[49m\u001B[38;5;241;43m*\u001B[39;49m\u001B[43margs\u001B[49m\u001B[43m,\u001B[49m\u001B[43m \u001B[49m\u001B[38;5;241;43m*\u001B[39;49m\u001B[38;5;241;43m*\u001B[39;49m\u001B[43mkwargs\u001B[49m\u001B[43m)\u001B[49m\n\u001B[1;32m     94\u001B[0m \u001B[38;5;28;01mexcept\u001B[39;00m MDNotImplementedError:\n\u001B[1;32m     95\u001B[0m     \u001B[38;5;66;03m# Traverses registered methods in order, yields whenever a match is found\u001B[39;00m\n\u001B[1;32m     96\u001B[0m     funcs \u001B[38;5;241m=\u001B[39m \u001B[38;5;28mself\u001B[39m\u001B[38;5;241m.\u001B[39mdispatch_iter(\u001B[38;5;241m*\u001B[39mtypes)\n",
      "File \u001B[0;32m~/anaconda3/envs/rocksdb/lib/python3.8/site-packages/botorch/fit.py:252\u001B[0m, in \u001B[0;36m_fit_fallback\u001B[0;34m(mll, _, __, closure, optimizer, closure_kwargs, optimizer_kwargs, max_attempts, warning_handler, caught_exception_types, **ignore)\u001B[0m\n\u001B[1;32m    250\u001B[0m \u001B[38;5;28;01mwith\u001B[39;00m catch_warnings(record\u001B[38;5;241m=\u001B[39m\u001B[38;5;28;01mTrue\u001B[39;00m) \u001B[38;5;28;01mas\u001B[39;00m warning_list, debug(\u001B[38;5;28;01mTrue\u001B[39;00m):\n\u001B[1;32m    251\u001B[0m     simplefilter(\u001B[38;5;124m\"\u001B[39m\u001B[38;5;124malways\u001B[39m\u001B[38;5;124m\"\u001B[39m, category\u001B[38;5;241m=\u001B[39mOptimizationWarning)\n\u001B[0;32m--> 252\u001B[0m     \u001B[43moptimizer\u001B[49m\u001B[43m(\u001B[49m\u001B[43mmll\u001B[49m\u001B[43m,\u001B[49m\u001B[43m \u001B[49m\u001B[43mclosure\u001B[49m\u001B[38;5;241;43m=\u001B[39;49m\u001B[43mclosure\u001B[49m\u001B[43m,\u001B[49m\u001B[43m \u001B[49m\u001B[38;5;241;43m*\u001B[39;49m\u001B[38;5;241;43m*\u001B[39;49m\u001B[43moptimizer_kwargs\u001B[49m\u001B[43m)\u001B[49m\n\u001B[1;32m    254\u001B[0m \u001B[38;5;66;03m# Resolved warnings and determine whether or not to retry\u001B[39;00m\n\u001B[1;32m    255\u001B[0m done \u001B[38;5;241m=\u001B[39m \u001B[38;5;28;01mTrue\u001B[39;00m\n",
      "File \u001B[0;32m~/anaconda3/envs/rocksdb/lib/python3.8/site-packages/botorch/optim/fit.py:120\u001B[0m, in \u001B[0;36mfit_gpytorch_mll_scipy\u001B[0;34m(mll, parameters, bounds, closure, closure_kwargs, method, options, callback, timeout_sec)\u001B[0m\n\u001B[1;32m    117\u001B[0m \u001B[38;5;28;01mif\u001B[39;00m closure_kwargs \u001B[38;5;129;01mis\u001B[39;00m \u001B[38;5;129;01mnot\u001B[39;00m \u001B[38;5;28;01mNone\u001B[39;00m:\n\u001B[1;32m    118\u001B[0m     closure \u001B[38;5;241m=\u001B[39m partial(closure, \u001B[38;5;241m*\u001B[39m\u001B[38;5;241m*\u001B[39mclosure_kwargs)\n\u001B[0;32m--> 120\u001B[0m result \u001B[38;5;241m=\u001B[39m \u001B[43mscipy_minimize\u001B[49m\u001B[43m(\u001B[49m\n\u001B[1;32m    121\u001B[0m \u001B[43m    \u001B[49m\u001B[43mclosure\u001B[49m\u001B[38;5;241;43m=\u001B[39;49m\u001B[43mclosure\u001B[49m\u001B[43m,\u001B[49m\n\u001B[1;32m    122\u001B[0m \u001B[43m    \u001B[49m\u001B[43mparameters\u001B[49m\u001B[38;5;241;43m=\u001B[39;49m\u001B[43mparameters\u001B[49m\u001B[43m,\u001B[49m\n\u001B[1;32m    123\u001B[0m \u001B[43m    \u001B[49m\u001B[43mbounds\u001B[49m\u001B[38;5;241;43m=\u001B[39;49m\u001B[43mbounds\u001B[49m\u001B[43m,\u001B[49m\n\u001B[1;32m    124\u001B[0m \u001B[43m    \u001B[49m\u001B[43mmethod\u001B[49m\u001B[38;5;241;43m=\u001B[39;49m\u001B[43mmethod\u001B[49m\u001B[43m,\u001B[49m\n\u001B[1;32m    125\u001B[0m \u001B[43m    \u001B[49m\u001B[43moptions\u001B[49m\u001B[38;5;241;43m=\u001B[39;49m\u001B[43moptions\u001B[49m\u001B[43m,\u001B[49m\n\u001B[1;32m    126\u001B[0m \u001B[43m    \u001B[49m\u001B[43mcallback\u001B[49m\u001B[38;5;241;43m=\u001B[39;49m\u001B[43mcallback\u001B[49m\u001B[43m,\u001B[49m\n\u001B[1;32m    127\u001B[0m \u001B[43m    \u001B[49m\u001B[43mtimeout_sec\u001B[49m\u001B[38;5;241;43m=\u001B[39;49m\u001B[43mtimeout_sec\u001B[49m\u001B[43m,\u001B[49m\n\u001B[1;32m    128\u001B[0m \u001B[43m\u001B[49m\u001B[43m)\u001B[49m\n\u001B[1;32m    129\u001B[0m \u001B[38;5;28;01mif\u001B[39;00m result\u001B[38;5;241m.\u001B[39mstatus \u001B[38;5;241m!=\u001B[39m OptimizationStatus\u001B[38;5;241m.\u001B[39mSUCCESS:\n\u001B[1;32m    130\u001B[0m     warn(\n\u001B[1;32m    131\u001B[0m         \u001B[38;5;124mf\u001B[39m\u001B[38;5;124m\"\u001B[39m\u001B[38;5;124m`scipy_minimize` terminated with status \u001B[39m\u001B[38;5;132;01m{\u001B[39;00mresult\u001B[38;5;241m.\u001B[39mstatus\u001B[38;5;132;01m}\u001B[39;00m\u001B[38;5;124m, displaying\u001B[39m\u001B[38;5;124m\"\u001B[39m\n\u001B[1;32m    132\u001B[0m         \u001B[38;5;124mf\u001B[39m\u001B[38;5;124m\"\u001B[39m\u001B[38;5;124m original message from `scipy.optimize.minimize`: \u001B[39m\u001B[38;5;132;01m{\u001B[39;00mresult\u001B[38;5;241m.\u001B[39mmessage\u001B[38;5;132;01m}\u001B[39;00m\u001B[38;5;124m\"\u001B[39m,\n\u001B[1;32m    133\u001B[0m         OptimizationWarning,\n\u001B[1;32m    134\u001B[0m     )\n",
      "File \u001B[0;32m~/anaconda3/envs/rocksdb/lib/python3.8/site-packages/botorch/optim/core.py:109\u001B[0m, in \u001B[0;36mscipy_minimize\u001B[0;34m(closure, parameters, bounds, callback, x0, method, options, timeout_sec)\u001B[0m\n\u001B[1;32m    101\u001B[0m         result \u001B[38;5;241m=\u001B[39m OptimizationResult(\n\u001B[1;32m    102\u001B[0m             step\u001B[38;5;241m=\u001B[39m\u001B[38;5;28mnext\u001B[39m(call_counter),\n\u001B[1;32m    103\u001B[0m             fval\u001B[38;5;241m=\u001B[39m\u001B[38;5;28mfloat\u001B[39m(wrapped_closure(x)[\u001B[38;5;241m0\u001B[39m]),\n\u001B[1;32m    104\u001B[0m             status\u001B[38;5;241m=\u001B[39mOptimizationStatus\u001B[38;5;241m.\u001B[39mRUNNING,\n\u001B[1;32m    105\u001B[0m             runtime\u001B[38;5;241m=\u001B[39mmonotonic() \u001B[38;5;241m-\u001B[39m start_time,\n\u001B[1;32m    106\u001B[0m         )\n\u001B[1;32m    107\u001B[0m         \u001B[38;5;28;01mreturn\u001B[39;00m callback(parameters, result)  \u001B[38;5;66;03m# pyre-ignore [29]\u001B[39;00m\n\u001B[0;32m--> 109\u001B[0m raw \u001B[38;5;241m=\u001B[39m \u001B[43mminimize_with_timeout\u001B[49m\u001B[43m(\u001B[49m\n\u001B[1;32m    110\u001B[0m \u001B[43m    \u001B[49m\u001B[43mwrapped_closure\u001B[49m\u001B[43m,\u001B[49m\n\u001B[1;32m    111\u001B[0m \u001B[43m    \u001B[49m\u001B[43mwrapped_closure\u001B[49m\u001B[38;5;241;43m.\u001B[39;49m\u001B[43mstate\u001B[49m\u001B[43m \u001B[49m\u001B[38;5;28;43;01mif\u001B[39;49;00m\u001B[43m \u001B[49m\u001B[43mx0\u001B[49m\u001B[43m \u001B[49m\u001B[38;5;129;43;01mis\u001B[39;49;00m\u001B[43m \u001B[49m\u001B[38;5;28;43;01mNone\u001B[39;49;00m\u001B[43m \u001B[49m\u001B[38;5;28;43;01melse\u001B[39;49;00m\u001B[43m \u001B[49m\u001B[43mx0\u001B[49m\u001B[38;5;241;43m.\u001B[39;49m\u001B[43mastype\u001B[49m\u001B[43m(\u001B[49m\u001B[43mnp_float64\u001B[49m\u001B[43m,\u001B[49m\u001B[43m \u001B[49m\u001B[43mcopy\u001B[49m\u001B[38;5;241;43m=\u001B[39;49m\u001B[38;5;28;43;01mFalse\u001B[39;49;00m\u001B[43m)\u001B[49m\u001B[43m,\u001B[49m\n\u001B[1;32m    112\u001B[0m \u001B[43m    \u001B[49m\u001B[43mjac\u001B[49m\u001B[38;5;241;43m=\u001B[39;49m\u001B[38;5;28;43;01mTrue\u001B[39;49;00m\u001B[43m,\u001B[49m\n\u001B[1;32m    113\u001B[0m \u001B[43m    \u001B[49m\u001B[43mbounds\u001B[49m\u001B[38;5;241;43m=\u001B[39;49m\u001B[43mbounds_np\u001B[49m\u001B[43m,\u001B[49m\n\u001B[1;32m    114\u001B[0m \u001B[43m    \u001B[49m\u001B[43mmethod\u001B[49m\u001B[38;5;241;43m=\u001B[39;49m\u001B[43mmethod\u001B[49m\u001B[43m,\u001B[49m\n\u001B[1;32m    115\u001B[0m \u001B[43m    \u001B[49m\u001B[43moptions\u001B[49m\u001B[38;5;241;43m=\u001B[39;49m\u001B[43moptions\u001B[49m\u001B[43m,\u001B[49m\n\u001B[1;32m    116\u001B[0m \u001B[43m    \u001B[49m\u001B[43mcallback\u001B[49m\u001B[38;5;241;43m=\u001B[39;49m\u001B[43mwrapped_callback\u001B[49m\u001B[43m,\u001B[49m\n\u001B[1;32m    117\u001B[0m \u001B[43m    \u001B[49m\u001B[43mtimeout_sec\u001B[49m\u001B[38;5;241;43m=\u001B[39;49m\u001B[43mtimeout_sec\u001B[49m\u001B[43m,\u001B[49m\n\u001B[1;32m    118\u001B[0m \u001B[43m\u001B[49m\u001B[43m)\u001B[49m\n\u001B[1;32m    120\u001B[0m \u001B[38;5;66;03m# Post-processing and outcome handling\u001B[39;00m\n\u001B[1;32m    121\u001B[0m wrapped_closure\u001B[38;5;241m.\u001B[39mstate \u001B[38;5;241m=\u001B[39m asarray(raw\u001B[38;5;241m.\u001B[39mx)  \u001B[38;5;66;03m# set parameter state to optimal values\u001B[39;00m\n",
      "File \u001B[0;32m~/anaconda3/envs/rocksdb/lib/python3.8/site-packages/botorch/optim/utils/timeout.py:80\u001B[0m, in \u001B[0;36mminimize_with_timeout\u001B[0;34m(fun, x0, args, method, jac, hess, hessp, bounds, constraints, tol, callback, options, timeout_sec)\u001B[0m\n\u001B[1;32m     77\u001B[0m     wrapped_callback \u001B[38;5;241m=\u001B[39m callback\n\u001B[1;32m     79\u001B[0m \u001B[38;5;28;01mtry\u001B[39;00m:\n\u001B[0;32m---> 80\u001B[0m     \u001B[38;5;28;01mreturn\u001B[39;00m \u001B[43moptimize\u001B[49m\u001B[38;5;241;43m.\u001B[39;49m\u001B[43mminimize\u001B[49m\u001B[43m(\u001B[49m\n\u001B[1;32m     81\u001B[0m \u001B[43m        \u001B[49m\u001B[43mfun\u001B[49m\u001B[38;5;241;43m=\u001B[39;49m\u001B[43mfun\u001B[49m\u001B[43m,\u001B[49m\n\u001B[1;32m     82\u001B[0m \u001B[43m        \u001B[49m\u001B[43mx0\u001B[49m\u001B[38;5;241;43m=\u001B[39;49m\u001B[43mx0\u001B[49m\u001B[43m,\u001B[49m\n\u001B[1;32m     83\u001B[0m \u001B[43m        \u001B[49m\u001B[43margs\u001B[49m\u001B[38;5;241;43m=\u001B[39;49m\u001B[43margs\u001B[49m\u001B[43m,\u001B[49m\n\u001B[1;32m     84\u001B[0m \u001B[43m        \u001B[49m\u001B[43mmethod\u001B[49m\u001B[38;5;241;43m=\u001B[39;49m\u001B[43mmethod\u001B[49m\u001B[43m,\u001B[49m\n\u001B[1;32m     85\u001B[0m \u001B[43m        \u001B[49m\u001B[43mjac\u001B[49m\u001B[38;5;241;43m=\u001B[39;49m\u001B[43mjac\u001B[49m\u001B[43m,\u001B[49m\n\u001B[1;32m     86\u001B[0m \u001B[43m        \u001B[49m\u001B[43mhess\u001B[49m\u001B[38;5;241;43m=\u001B[39;49m\u001B[43mhess\u001B[49m\u001B[43m,\u001B[49m\n\u001B[1;32m     87\u001B[0m \u001B[43m        \u001B[49m\u001B[43mhessp\u001B[49m\u001B[38;5;241;43m=\u001B[39;49m\u001B[43mhessp\u001B[49m\u001B[43m,\u001B[49m\n\u001B[1;32m     88\u001B[0m \u001B[43m        \u001B[49m\u001B[43mbounds\u001B[49m\u001B[38;5;241;43m=\u001B[39;49m\u001B[43mbounds\u001B[49m\u001B[43m,\u001B[49m\n\u001B[1;32m     89\u001B[0m \u001B[43m        \u001B[49m\u001B[43mconstraints\u001B[49m\u001B[38;5;241;43m=\u001B[39;49m\u001B[43mconstraints\u001B[49m\u001B[43m,\u001B[49m\n\u001B[1;32m     90\u001B[0m \u001B[43m        \u001B[49m\u001B[43mtol\u001B[49m\u001B[38;5;241;43m=\u001B[39;49m\u001B[43mtol\u001B[49m\u001B[43m,\u001B[49m\n\u001B[1;32m     91\u001B[0m \u001B[43m        \u001B[49m\u001B[43mcallback\u001B[49m\u001B[38;5;241;43m=\u001B[39;49m\u001B[43mwrapped_callback\u001B[49m\u001B[43m,\u001B[49m\n\u001B[1;32m     92\u001B[0m \u001B[43m        \u001B[49m\u001B[43moptions\u001B[49m\u001B[38;5;241;43m=\u001B[39;49m\u001B[43moptions\u001B[49m\u001B[43m,\u001B[49m\n\u001B[1;32m     93\u001B[0m \u001B[43m    \u001B[49m\u001B[43m)\u001B[49m\n\u001B[1;32m     94\u001B[0m \u001B[38;5;28;01mexcept\u001B[39;00m OptimizationTimeoutError \u001B[38;5;28;01mas\u001B[39;00m e:\n\u001B[1;32m     95\u001B[0m     msg \u001B[38;5;241m=\u001B[39m \u001B[38;5;124mf\u001B[39m\u001B[38;5;124m\"\u001B[39m\u001B[38;5;124mOptimization timed out after \u001B[39m\u001B[38;5;132;01m{\u001B[39;00me\u001B[38;5;241m.\u001B[39mruntime\u001B[38;5;132;01m}\u001B[39;00m\u001B[38;5;124m seconds.\u001B[39m\u001B[38;5;124m\"\u001B[39m\n",
      "File \u001B[0;32m~/anaconda3/envs/rocksdb/lib/python3.8/site-packages/scipy/optimize/_minimize.py:696\u001B[0m, in \u001B[0;36mminimize\u001B[0;34m(fun, x0, args, method, jac, hess, hessp, bounds, constraints, tol, callback, options)\u001B[0m\n\u001B[1;32m    693\u001B[0m     res \u001B[38;5;241m=\u001B[39m _minimize_newtoncg(fun, x0, args, jac, hess, hessp, callback,\n\u001B[1;32m    694\u001B[0m                              \u001B[38;5;241m*\u001B[39m\u001B[38;5;241m*\u001B[39moptions)\n\u001B[1;32m    695\u001B[0m \u001B[38;5;28;01melif\u001B[39;00m meth \u001B[38;5;241m==\u001B[39m \u001B[38;5;124m'\u001B[39m\u001B[38;5;124ml-bfgs-b\u001B[39m\u001B[38;5;124m'\u001B[39m:\n\u001B[0;32m--> 696\u001B[0m     res \u001B[38;5;241m=\u001B[39m \u001B[43m_minimize_lbfgsb\u001B[49m\u001B[43m(\u001B[49m\u001B[43mfun\u001B[49m\u001B[43m,\u001B[49m\u001B[43m \u001B[49m\u001B[43mx0\u001B[49m\u001B[43m,\u001B[49m\u001B[43m \u001B[49m\u001B[43margs\u001B[49m\u001B[43m,\u001B[49m\u001B[43m \u001B[49m\u001B[43mjac\u001B[49m\u001B[43m,\u001B[49m\u001B[43m \u001B[49m\u001B[43mbounds\u001B[49m\u001B[43m,\u001B[49m\n\u001B[1;32m    697\u001B[0m \u001B[43m                           \u001B[49m\u001B[43mcallback\u001B[49m\u001B[38;5;241;43m=\u001B[39;49m\u001B[43mcallback\u001B[49m\u001B[43m,\u001B[49m\u001B[43m \u001B[49m\u001B[38;5;241;43m*\u001B[39;49m\u001B[38;5;241;43m*\u001B[39;49m\u001B[43moptions\u001B[49m\u001B[43m)\u001B[49m\n\u001B[1;32m    698\u001B[0m \u001B[38;5;28;01melif\u001B[39;00m meth \u001B[38;5;241m==\u001B[39m \u001B[38;5;124m'\u001B[39m\u001B[38;5;124mtnc\u001B[39m\u001B[38;5;124m'\u001B[39m:\n\u001B[1;32m    699\u001B[0m     res \u001B[38;5;241m=\u001B[39m _minimize_tnc(fun, x0, args, jac, bounds, callback\u001B[38;5;241m=\u001B[39mcallback,\n\u001B[1;32m    700\u001B[0m                         \u001B[38;5;241m*\u001B[39m\u001B[38;5;241m*\u001B[39moptions)\n",
      "File \u001B[0;32m~/anaconda3/envs/rocksdb/lib/python3.8/site-packages/scipy/optimize/_lbfgsb_py.py:359\u001B[0m, in \u001B[0;36m_minimize_lbfgsb\u001B[0;34m(fun, x0, args, jac, bounds, disp, maxcor, ftol, gtol, eps, maxfun, maxiter, iprint, callback, maxls, finite_diff_rel_step, **unknown_options)\u001B[0m\n\u001B[1;32m    353\u001B[0m task_str \u001B[38;5;241m=\u001B[39m task\u001B[38;5;241m.\u001B[39mtobytes()\n\u001B[1;32m    354\u001B[0m \u001B[38;5;28;01mif\u001B[39;00m task_str\u001B[38;5;241m.\u001B[39mstartswith(\u001B[38;5;124mb\u001B[39m\u001B[38;5;124m'\u001B[39m\u001B[38;5;124mFG\u001B[39m\u001B[38;5;124m'\u001B[39m):\n\u001B[1;32m    355\u001B[0m     \u001B[38;5;66;03m# The minimization routine wants f and g at the current x.\u001B[39;00m\n\u001B[1;32m    356\u001B[0m     \u001B[38;5;66;03m# Note that interruptions due to maxfun are postponed\u001B[39;00m\n\u001B[1;32m    357\u001B[0m     \u001B[38;5;66;03m# until the completion of the current minimization iteration.\u001B[39;00m\n\u001B[1;32m    358\u001B[0m     \u001B[38;5;66;03m# Overwrite f and g:\u001B[39;00m\n\u001B[0;32m--> 359\u001B[0m     f, g \u001B[38;5;241m=\u001B[39m \u001B[43mfunc_and_grad\u001B[49m\u001B[43m(\u001B[49m\u001B[43mx\u001B[49m\u001B[43m)\u001B[49m\n\u001B[1;32m    360\u001B[0m \u001B[38;5;28;01melif\u001B[39;00m task_str\u001B[38;5;241m.\u001B[39mstartswith(\u001B[38;5;124mb\u001B[39m\u001B[38;5;124m'\u001B[39m\u001B[38;5;124mNEW_X\u001B[39m\u001B[38;5;124m'\u001B[39m):\n\u001B[1;32m    361\u001B[0m     \u001B[38;5;66;03m# new iteration\u001B[39;00m\n\u001B[1;32m    362\u001B[0m     n_iterations \u001B[38;5;241m+\u001B[39m\u001B[38;5;241m=\u001B[39m \u001B[38;5;241m1\u001B[39m\n",
      "File \u001B[0;32m~/anaconda3/envs/rocksdb/lib/python3.8/site-packages/scipy/optimize/_differentiable_functions.py:285\u001B[0m, in \u001B[0;36mScalarFunction.fun_and_grad\u001B[0;34m(self, x)\u001B[0m\n\u001B[1;32m    283\u001B[0m \u001B[38;5;28;01mif\u001B[39;00m \u001B[38;5;129;01mnot\u001B[39;00m np\u001B[38;5;241m.\u001B[39marray_equal(x, \u001B[38;5;28mself\u001B[39m\u001B[38;5;241m.\u001B[39mx):\n\u001B[1;32m    284\u001B[0m     \u001B[38;5;28mself\u001B[39m\u001B[38;5;241m.\u001B[39m_update_x_impl(x)\n\u001B[0;32m--> 285\u001B[0m \u001B[38;5;28;43mself\u001B[39;49m\u001B[38;5;241;43m.\u001B[39;49m\u001B[43m_update_fun\u001B[49m\u001B[43m(\u001B[49m\u001B[43m)\u001B[49m\n\u001B[1;32m    286\u001B[0m \u001B[38;5;28mself\u001B[39m\u001B[38;5;241m.\u001B[39m_update_grad()\n\u001B[1;32m    287\u001B[0m \u001B[38;5;28;01mreturn\u001B[39;00m \u001B[38;5;28mself\u001B[39m\u001B[38;5;241m.\u001B[39mf, \u001B[38;5;28mself\u001B[39m\u001B[38;5;241m.\u001B[39mg\n",
      "File \u001B[0;32m~/anaconda3/envs/rocksdb/lib/python3.8/site-packages/scipy/optimize/_differentiable_functions.py:251\u001B[0m, in \u001B[0;36mScalarFunction._update_fun\u001B[0;34m(self)\u001B[0m\n\u001B[1;32m    249\u001B[0m \u001B[38;5;28;01mdef\u001B[39;00m \u001B[38;5;21m_update_fun\u001B[39m(\u001B[38;5;28mself\u001B[39m):\n\u001B[1;32m    250\u001B[0m     \u001B[38;5;28;01mif\u001B[39;00m \u001B[38;5;129;01mnot\u001B[39;00m \u001B[38;5;28mself\u001B[39m\u001B[38;5;241m.\u001B[39mf_updated:\n\u001B[0;32m--> 251\u001B[0m         \u001B[38;5;28;43mself\u001B[39;49m\u001B[38;5;241;43m.\u001B[39;49m\u001B[43m_update_fun_impl\u001B[49m\u001B[43m(\u001B[49m\u001B[43m)\u001B[49m\n\u001B[1;32m    252\u001B[0m         \u001B[38;5;28mself\u001B[39m\u001B[38;5;241m.\u001B[39mf_updated \u001B[38;5;241m=\u001B[39m \u001B[38;5;28;01mTrue\u001B[39;00m\n",
      "File \u001B[0;32m~/anaconda3/envs/rocksdb/lib/python3.8/site-packages/scipy/optimize/_differentiable_functions.py:155\u001B[0m, in \u001B[0;36mScalarFunction.__init__.<locals>.update_fun\u001B[0;34m()\u001B[0m\n\u001B[1;32m    154\u001B[0m \u001B[38;5;28;01mdef\u001B[39;00m \u001B[38;5;21mupdate_fun\u001B[39m():\n\u001B[0;32m--> 155\u001B[0m     \u001B[38;5;28mself\u001B[39m\u001B[38;5;241m.\u001B[39mf \u001B[38;5;241m=\u001B[39m \u001B[43mfun_wrapped\u001B[49m\u001B[43m(\u001B[49m\u001B[38;5;28;43mself\u001B[39;49m\u001B[38;5;241;43m.\u001B[39;49m\u001B[43mx\u001B[49m\u001B[43m)\u001B[49m\n",
      "File \u001B[0;32m~/anaconda3/envs/rocksdb/lib/python3.8/site-packages/scipy/optimize/_differentiable_functions.py:137\u001B[0m, in \u001B[0;36mScalarFunction.__init__.<locals>.fun_wrapped\u001B[0;34m(x)\u001B[0m\n\u001B[1;32m    133\u001B[0m \u001B[38;5;28mself\u001B[39m\u001B[38;5;241m.\u001B[39mnfev \u001B[38;5;241m+\u001B[39m\u001B[38;5;241m=\u001B[39m \u001B[38;5;241m1\u001B[39m\n\u001B[1;32m    134\u001B[0m \u001B[38;5;66;03m# Send a copy because the user may overwrite it.\u001B[39;00m\n\u001B[1;32m    135\u001B[0m \u001B[38;5;66;03m# Overwriting results in undefined behaviour because\u001B[39;00m\n\u001B[1;32m    136\u001B[0m \u001B[38;5;66;03m# fun(self.x) will change self.x, with the two no longer linked.\u001B[39;00m\n\u001B[0;32m--> 137\u001B[0m fx \u001B[38;5;241m=\u001B[39m \u001B[43mfun\u001B[49m\u001B[43m(\u001B[49m\u001B[43mnp\u001B[49m\u001B[38;5;241;43m.\u001B[39;49m\u001B[43mcopy\u001B[49m\u001B[43m(\u001B[49m\u001B[43mx\u001B[49m\u001B[43m)\u001B[49m\u001B[43m,\u001B[49m\u001B[43m \u001B[49m\u001B[38;5;241;43m*\u001B[39;49m\u001B[43margs\u001B[49m\u001B[43m)\u001B[49m\n\u001B[1;32m    138\u001B[0m \u001B[38;5;66;03m# Make sure the function returns a true scalar\u001B[39;00m\n\u001B[1;32m    139\u001B[0m \u001B[38;5;28;01mif\u001B[39;00m \u001B[38;5;129;01mnot\u001B[39;00m np\u001B[38;5;241m.\u001B[39misscalar(fx):\n",
      "File \u001B[0;32m~/anaconda3/envs/rocksdb/lib/python3.8/site-packages/scipy/optimize/_optimize.py:76\u001B[0m, in \u001B[0;36mMemoizeJac.__call__\u001B[0;34m(self, x, *args)\u001B[0m\n\u001B[1;32m     74\u001B[0m \u001B[38;5;28;01mdef\u001B[39;00m \u001B[38;5;21m__call__\u001B[39m(\u001B[38;5;28mself\u001B[39m, x, \u001B[38;5;241m*\u001B[39margs):\n\u001B[1;32m     75\u001B[0m     \u001B[38;5;124;03m\"\"\" returns the function value \"\"\"\u001B[39;00m\n\u001B[0;32m---> 76\u001B[0m     \u001B[38;5;28;43mself\u001B[39;49m\u001B[38;5;241;43m.\u001B[39;49m\u001B[43m_compute_if_needed\u001B[49m\u001B[43m(\u001B[49m\u001B[43mx\u001B[49m\u001B[43m,\u001B[49m\u001B[43m \u001B[49m\u001B[38;5;241;43m*\u001B[39;49m\u001B[43margs\u001B[49m\u001B[43m)\u001B[49m\n\u001B[1;32m     77\u001B[0m     \u001B[38;5;28;01mreturn\u001B[39;00m \u001B[38;5;28mself\u001B[39m\u001B[38;5;241m.\u001B[39m_value\n",
      "File \u001B[0;32m~/anaconda3/envs/rocksdb/lib/python3.8/site-packages/scipy/optimize/_optimize.py:70\u001B[0m, in \u001B[0;36mMemoizeJac._compute_if_needed\u001B[0;34m(self, x, *args)\u001B[0m\n\u001B[1;32m     68\u001B[0m \u001B[38;5;28;01mif\u001B[39;00m \u001B[38;5;129;01mnot\u001B[39;00m np\u001B[38;5;241m.\u001B[39mall(x \u001B[38;5;241m==\u001B[39m \u001B[38;5;28mself\u001B[39m\u001B[38;5;241m.\u001B[39mx) \u001B[38;5;129;01mor\u001B[39;00m \u001B[38;5;28mself\u001B[39m\u001B[38;5;241m.\u001B[39m_value \u001B[38;5;129;01mis\u001B[39;00m \u001B[38;5;28;01mNone\u001B[39;00m \u001B[38;5;129;01mor\u001B[39;00m \u001B[38;5;28mself\u001B[39m\u001B[38;5;241m.\u001B[39mjac \u001B[38;5;129;01mis\u001B[39;00m \u001B[38;5;28;01mNone\u001B[39;00m:\n\u001B[1;32m     69\u001B[0m     \u001B[38;5;28mself\u001B[39m\u001B[38;5;241m.\u001B[39mx \u001B[38;5;241m=\u001B[39m np\u001B[38;5;241m.\u001B[39masarray(x)\u001B[38;5;241m.\u001B[39mcopy()\n\u001B[0;32m---> 70\u001B[0m     fg \u001B[38;5;241m=\u001B[39m \u001B[38;5;28;43mself\u001B[39;49m\u001B[38;5;241;43m.\u001B[39;49m\u001B[43mfun\u001B[49m\u001B[43m(\u001B[49m\u001B[43mx\u001B[49m\u001B[43m,\u001B[49m\u001B[43m \u001B[49m\u001B[38;5;241;43m*\u001B[39;49m\u001B[43margs\u001B[49m\u001B[43m)\u001B[49m\n\u001B[1;32m     71\u001B[0m     \u001B[38;5;28mself\u001B[39m\u001B[38;5;241m.\u001B[39mjac \u001B[38;5;241m=\u001B[39m fg[\u001B[38;5;241m1\u001B[39m]\n\u001B[1;32m     72\u001B[0m     \u001B[38;5;28mself\u001B[39m\u001B[38;5;241m.\u001B[39m_value \u001B[38;5;241m=\u001B[39m fg[\u001B[38;5;241m0\u001B[39m]\n",
      "File \u001B[0;32m~/anaconda3/envs/rocksdb/lib/python3.8/site-packages/botorch/optim/closures/core.py:160\u001B[0m, in \u001B[0;36mNdarrayOptimizationClosure.__call__\u001B[0;34m(self, state, **kwargs)\u001B[0m\n\u001B[1;32m    158\u001B[0m         index \u001B[38;5;241m+\u001B[39m\u001B[38;5;241m=\u001B[39m size\n\u001B[1;32m    159\u001B[0m \u001B[38;5;28;01mexcept\u001B[39;00m \u001B[38;5;167;01mRuntimeError\u001B[39;00m \u001B[38;5;28;01mas\u001B[39;00m e:\n\u001B[0;32m--> 160\u001B[0m     value, grads \u001B[38;5;241m=\u001B[39m \u001B[43m_handle_numerical_errors\u001B[49m\u001B[43m(\u001B[49m\u001B[43me\u001B[49m\u001B[43m,\u001B[49m\u001B[43m \u001B[49m\u001B[43mx\u001B[49m\u001B[38;5;241;43m=\u001B[39;49m\u001B[38;5;28;43mself\u001B[39;49m\u001B[38;5;241;43m.\u001B[39;49m\u001B[43mstate\u001B[49m\u001B[43m,\u001B[49m\u001B[43m \u001B[49m\u001B[43mdtype\u001B[49m\u001B[38;5;241;43m=\u001B[39;49m\u001B[43mnp_float64\u001B[49m\u001B[43m)\u001B[49m\n\u001B[1;32m    162\u001B[0m \u001B[38;5;28;01mreturn\u001B[39;00m value, grads\n",
      "File \u001B[0;32m~/anaconda3/envs/rocksdb/lib/python3.8/site-packages/botorch/optim/utils/common.py:52\u001B[0m, in \u001B[0;36m_handle_numerical_errors\u001B[0;34m(error, x, dtype)\u001B[0m\n\u001B[1;32m     50\u001B[0m     _dtype \u001B[38;5;241m=\u001B[39m x\u001B[38;5;241m.\u001B[39mdtype \u001B[38;5;28;01mif\u001B[39;00m dtype \u001B[38;5;129;01mis\u001B[39;00m \u001B[38;5;28;01mNone\u001B[39;00m \u001B[38;5;28;01melse\u001B[39;00m dtype\n\u001B[1;32m     51\u001B[0m     \u001B[38;5;28;01mreturn\u001B[39;00m np\u001B[38;5;241m.\u001B[39mfull((), \u001B[38;5;124m\"\u001B[39m\u001B[38;5;124mnan\u001B[39m\u001B[38;5;124m\"\u001B[39m, dtype\u001B[38;5;241m=\u001B[39m_dtype), np\u001B[38;5;241m.\u001B[39mfull_like(x, \u001B[38;5;124m\"\u001B[39m\u001B[38;5;124mnan\u001B[39m\u001B[38;5;124m\"\u001B[39m, dtype\u001B[38;5;241m=\u001B[39m_dtype)\n\u001B[0;32m---> 52\u001B[0m \u001B[38;5;28;01mraise\u001B[39;00m error\n",
      "File \u001B[0;32m~/anaconda3/envs/rocksdb/lib/python3.8/site-packages/botorch/optim/closures/core.py:150\u001B[0m, in \u001B[0;36mNdarrayOptimizationClosure.__call__\u001B[0;34m(self, state, **kwargs)\u001B[0m\n\u001B[1;32m    147\u001B[0m     \u001B[38;5;28mself\u001B[39m\u001B[38;5;241m.\u001B[39mstate \u001B[38;5;241m=\u001B[39m state\n\u001B[1;32m    149\u001B[0m \u001B[38;5;28;01mtry\u001B[39;00m:\n\u001B[0;32m--> 150\u001B[0m     value_tensor, grad_tensors \u001B[38;5;241m=\u001B[39m \u001B[38;5;28;43mself\u001B[39;49m\u001B[38;5;241;43m.\u001B[39;49m\u001B[43mclosure\u001B[49m\u001B[43m(\u001B[49m\u001B[38;5;241;43m*\u001B[39;49m\u001B[38;5;241;43m*\u001B[39;49m\u001B[43mkwargs\u001B[49m\u001B[43m)\u001B[49m\n\u001B[1;32m    151\u001B[0m     value \u001B[38;5;241m=\u001B[39m \u001B[38;5;28mself\u001B[39m\u001B[38;5;241m.\u001B[39mas_array(value_tensor)\n\u001B[1;32m    152\u001B[0m     grads \u001B[38;5;241m=\u001B[39m \u001B[38;5;28mself\u001B[39m\u001B[38;5;241m.\u001B[39m_get_gradient_ndarray(fill_value\u001B[38;5;241m=\u001B[39m\u001B[38;5;28mself\u001B[39m\u001B[38;5;241m.\u001B[39mfill_value)\n",
      "File \u001B[0;32m~/anaconda3/envs/rocksdb/lib/python3.8/site-packages/botorch/optim/closures/core.py:64\u001B[0m, in \u001B[0;36mForwardBackwardClosure.__call__\u001B[0;34m(self, **kwargs)\u001B[0m\n\u001B[1;32m     62\u001B[0m \u001B[38;5;28;01mdef\u001B[39;00m \u001B[38;5;21m__call__\u001B[39m(\u001B[38;5;28mself\u001B[39m, \u001B[38;5;241m*\u001B[39m\u001B[38;5;241m*\u001B[39mkwargs: Any) \u001B[38;5;241m-\u001B[39m\u001B[38;5;241m>\u001B[39m Tuple[Tensor, Tuple[Optional[Tensor], \u001B[38;5;241m.\u001B[39m\u001B[38;5;241m.\u001B[39m\u001B[38;5;241m.\u001B[39m]]:\n\u001B[1;32m     63\u001B[0m     \u001B[38;5;28;01mwith\u001B[39;00m \u001B[38;5;28mself\u001B[39m\u001B[38;5;241m.\u001B[39mcontext_manager():\n\u001B[0;32m---> 64\u001B[0m         values \u001B[38;5;241m=\u001B[39m \u001B[38;5;28;43mself\u001B[39;49m\u001B[38;5;241;43m.\u001B[39;49m\u001B[43mforward\u001B[49m\u001B[43m(\u001B[49m\u001B[38;5;241;43m*\u001B[39;49m\u001B[38;5;241;43m*\u001B[39;49m\u001B[43mkwargs\u001B[49m\u001B[43m)\u001B[49m\n\u001B[1;32m     65\u001B[0m         value \u001B[38;5;241m=\u001B[39m values \u001B[38;5;28;01mif\u001B[39;00m \u001B[38;5;28mself\u001B[39m\u001B[38;5;241m.\u001B[39mreducer \u001B[38;5;129;01mis\u001B[39;00m \u001B[38;5;28;01mNone\u001B[39;00m \u001B[38;5;28;01melse\u001B[39;00m \u001B[38;5;28mself\u001B[39m\u001B[38;5;241m.\u001B[39mreducer(values)\n\u001B[1;32m     66\u001B[0m         \u001B[38;5;28mself\u001B[39m\u001B[38;5;241m.\u001B[39mbackward(value)\n",
      "File \u001B[0;32m~/anaconda3/envs/rocksdb/lib/python3.8/site-packages/botorch/optim/closures/model_closures.py:176\u001B[0m, in \u001B[0;36m_get_loss_closure_exact_internal.<locals>.closure\u001B[0;34m(**kwargs)\u001B[0m\n\u001B[1;32m    174\u001B[0m \u001B[38;5;28;01mdef\u001B[39;00m \u001B[38;5;21mclosure\u001B[39m(\u001B[38;5;241m*\u001B[39m\u001B[38;5;241m*\u001B[39mkwargs: Any) \u001B[38;5;241m-\u001B[39m\u001B[38;5;241m>\u001B[39m Tensor:\n\u001B[1;32m    175\u001B[0m     model_output \u001B[38;5;241m=\u001B[39m mll\u001B[38;5;241m.\u001B[39mmodel(\u001B[38;5;241m*\u001B[39mmll\u001B[38;5;241m.\u001B[39mmodel\u001B[38;5;241m.\u001B[39mtrain_inputs)\n\u001B[0;32m--> 176\u001B[0m     log_likelihood \u001B[38;5;241m=\u001B[39m \u001B[43mmll\u001B[49m\u001B[43m(\u001B[49m\n\u001B[1;32m    177\u001B[0m \u001B[43m        \u001B[49m\u001B[43mmodel_output\u001B[49m\u001B[43m,\u001B[49m\u001B[43m \u001B[49m\u001B[43mmll\u001B[49m\u001B[38;5;241;43m.\u001B[39;49m\u001B[43mmodel\u001B[49m\u001B[38;5;241;43m.\u001B[39;49m\u001B[43mtrain_targets\u001B[49m\u001B[43m,\u001B[49m\u001B[43m \u001B[49m\u001B[38;5;241;43m*\u001B[39;49m\u001B[43mmll\u001B[49m\u001B[38;5;241;43m.\u001B[39;49m\u001B[43mmodel\u001B[49m\u001B[38;5;241;43m.\u001B[39;49m\u001B[43mtrain_inputs\u001B[49m\u001B[43m,\u001B[49m\u001B[43m \u001B[49m\u001B[38;5;241;43m*\u001B[39;49m\u001B[38;5;241;43m*\u001B[39;49m\u001B[43mkwargs\u001B[49m\n\u001B[1;32m    178\u001B[0m \u001B[43m    \u001B[49m\u001B[43m)\u001B[49m\n\u001B[1;32m    179\u001B[0m     \u001B[38;5;28;01mreturn\u001B[39;00m \u001B[38;5;241m-\u001B[39mlog_likelihood\n",
      "File \u001B[0;32m~/anaconda3/envs/rocksdb/lib/python3.8/site-packages/gpytorch/module.py:31\u001B[0m, in \u001B[0;36mModule.__call__\u001B[0;34m(self, *inputs, **kwargs)\u001B[0m\n\u001B[1;32m     30\u001B[0m \u001B[38;5;28;01mdef\u001B[39;00m \u001B[38;5;21m__call__\u001B[39m(\u001B[38;5;28mself\u001B[39m, \u001B[38;5;241m*\u001B[39minputs, \u001B[38;5;241m*\u001B[39m\u001B[38;5;241m*\u001B[39mkwargs) \u001B[38;5;241m-\u001B[39m\u001B[38;5;241m>\u001B[39m Union[Tensor, Distribution, LinearOperator]:\n\u001B[0;32m---> 31\u001B[0m     outputs \u001B[38;5;241m=\u001B[39m \u001B[38;5;28;43mself\u001B[39;49m\u001B[38;5;241;43m.\u001B[39;49m\u001B[43mforward\u001B[49m\u001B[43m(\u001B[49m\u001B[38;5;241;43m*\u001B[39;49m\u001B[43minputs\u001B[49m\u001B[43m,\u001B[49m\u001B[43m \u001B[49m\u001B[38;5;241;43m*\u001B[39;49m\u001B[38;5;241;43m*\u001B[39;49m\u001B[43mkwargs\u001B[49m\u001B[43m)\u001B[49m\n\u001B[1;32m     32\u001B[0m     \u001B[38;5;28;01mif\u001B[39;00m \u001B[38;5;28misinstance\u001B[39m(outputs, \u001B[38;5;28mlist\u001B[39m):\n\u001B[1;32m     33\u001B[0m         \u001B[38;5;28;01mreturn\u001B[39;00m [_validate_module_outputs(output) \u001B[38;5;28;01mfor\u001B[39;00m output \u001B[38;5;129;01min\u001B[39;00m outputs]\n",
      "File \u001B[0;32m~/anaconda3/envs/rocksdb/lib/python3.8/site-packages/gpytorch/mlls/exact_marginal_log_likelihood.py:64\u001B[0m, in \u001B[0;36mExactMarginalLogLikelihood.forward\u001B[0;34m(self, function_dist, target, *params)\u001B[0m\n\u001B[1;32m     62\u001B[0m \u001B[38;5;66;03m# Get the log prob of the marginal distribution\u001B[39;00m\n\u001B[1;32m     63\u001B[0m output \u001B[38;5;241m=\u001B[39m \u001B[38;5;28mself\u001B[39m\u001B[38;5;241m.\u001B[39mlikelihood(function_dist, \u001B[38;5;241m*\u001B[39mparams)\n\u001B[0;32m---> 64\u001B[0m res \u001B[38;5;241m=\u001B[39m \u001B[43moutput\u001B[49m\u001B[38;5;241;43m.\u001B[39;49m\u001B[43mlog_prob\u001B[49m\u001B[43m(\u001B[49m\u001B[43mtarget\u001B[49m\u001B[43m)\u001B[49m\n\u001B[1;32m     65\u001B[0m res \u001B[38;5;241m=\u001B[39m \u001B[38;5;28mself\u001B[39m\u001B[38;5;241m.\u001B[39m_add_other_terms(res, params)\n\u001B[1;32m     67\u001B[0m \u001B[38;5;66;03m# Scale by the amount of data we have\u001B[39;00m\n",
      "File \u001B[0;32m~/anaconda3/envs/rocksdb/lib/python3.8/site-packages/gpytorch/distributions/multivariate_normal.py:171\u001B[0m, in \u001B[0;36mMultivariateNormal.log_prob\u001B[0;34m(self, value)\u001B[0m\n\u001B[1;32m    166\u001B[0m \u001B[38;5;124mr\u001B[39m\u001B[38;5;124;03m\"\"\"\u001B[39;00m\n\u001B[1;32m    167\u001B[0m \u001B[38;5;124;03mSee :py:meth:`torch.distributions.Distribution.log_prob\u001B[39;00m\n\u001B[1;32m    168\u001B[0m \u001B[38;5;124;03m<torch.distributions.distribution.Distribution.log_prob>`.\u001B[39;00m\n\u001B[1;32m    169\u001B[0m \u001B[38;5;124;03m\"\"\"\u001B[39;00m\n\u001B[1;32m    170\u001B[0m \u001B[38;5;28;01mif\u001B[39;00m settings\u001B[38;5;241m.\u001B[39mfast_computations\u001B[38;5;241m.\u001B[39mlog_prob\u001B[38;5;241m.\u001B[39moff():\n\u001B[0;32m--> 171\u001B[0m     \u001B[38;5;28;01mreturn\u001B[39;00m \u001B[38;5;28;43msuper\u001B[39;49m\u001B[43m(\u001B[49m\u001B[43m)\u001B[49m\u001B[38;5;241;43m.\u001B[39;49m\u001B[43mlog_prob\u001B[49m\u001B[43m(\u001B[49m\u001B[43mvalue\u001B[49m\u001B[43m)\u001B[49m\n\u001B[1;32m    173\u001B[0m \u001B[38;5;28;01mif\u001B[39;00m \u001B[38;5;28mself\u001B[39m\u001B[38;5;241m.\u001B[39m_validate_args:\n\u001B[1;32m    174\u001B[0m     \u001B[38;5;28mself\u001B[39m\u001B[38;5;241m.\u001B[39m_validate_sample(value)\n",
      "File \u001B[0;32m~/anaconda3/envs/rocksdb/lib/python3.8/site-packages/torch/distributions/multivariate_normal.py:216\u001B[0m, in \u001B[0;36mMultivariateNormal.log_prob\u001B[0;34m(self, value)\u001B[0m\n\u001B[1;32m    214\u001B[0m     \u001B[38;5;28mself\u001B[39m\u001B[38;5;241m.\u001B[39m_validate_sample(value)\n\u001B[1;32m    215\u001B[0m diff \u001B[38;5;241m=\u001B[39m value \u001B[38;5;241m-\u001B[39m \u001B[38;5;28mself\u001B[39m\u001B[38;5;241m.\u001B[39mloc\n\u001B[0;32m--> 216\u001B[0m M \u001B[38;5;241m=\u001B[39m _batch_mahalanobis(\u001B[38;5;28;43mself\u001B[39;49m\u001B[38;5;241;43m.\u001B[39;49m\u001B[43m_unbroadcasted_scale_tril\u001B[49m, diff)\n\u001B[1;32m    217\u001B[0m half_log_det \u001B[38;5;241m=\u001B[39m \u001B[38;5;28mself\u001B[39m\u001B[38;5;241m.\u001B[39m_unbroadcasted_scale_tril\u001B[38;5;241m.\u001B[39mdiagonal(dim1\u001B[38;5;241m=\u001B[39m\u001B[38;5;241m-\u001B[39m\u001B[38;5;241m2\u001B[39m, dim2\u001B[38;5;241m=\u001B[39m\u001B[38;5;241m-\u001B[39m\u001B[38;5;241m1\u001B[39m)\u001B[38;5;241m.\u001B[39mlog()\u001B[38;5;241m.\u001B[39msum(\u001B[38;5;241m-\u001B[39m\u001B[38;5;241m1\u001B[39m)\n\u001B[1;32m    218\u001B[0m \u001B[38;5;28;01mreturn\u001B[39;00m \u001B[38;5;241m-\u001B[39m\u001B[38;5;241m0.5\u001B[39m \u001B[38;5;241m*\u001B[39m (\u001B[38;5;28mself\u001B[39m\u001B[38;5;241m.\u001B[39m_event_shape[\u001B[38;5;241m0\u001B[39m] \u001B[38;5;241m*\u001B[39m math\u001B[38;5;241m.\u001B[39mlog(\u001B[38;5;241m2\u001B[39m \u001B[38;5;241m*\u001B[39m math\u001B[38;5;241m.\u001B[39mpi) \u001B[38;5;241m+\u001B[39m M) \u001B[38;5;241m-\u001B[39m half_log_det\n",
      "File \u001B[0;32m~/anaconda3/envs/rocksdb/lib/python3.8/site-packages/gpytorch/distributions/multivariate_normal.py:88\u001B[0m, in \u001B[0;36mMultivariateNormal._unbroadcasted_scale_tril\u001B[0;34m(self)\u001B[0m\n\u001B[1;32m     84\u001B[0m \u001B[38;5;129m@property\u001B[39m\n\u001B[1;32m     85\u001B[0m \u001B[38;5;28;01mdef\u001B[39;00m \u001B[38;5;21m_unbroadcasted_scale_tril\u001B[39m(\u001B[38;5;28mself\u001B[39m) \u001B[38;5;241m-\u001B[39m\u001B[38;5;241m>\u001B[39m Tensor:\n\u001B[1;32m     86\u001B[0m     \u001B[38;5;28;01mif\u001B[39;00m \u001B[38;5;28mself\u001B[39m\u001B[38;5;241m.\u001B[39mislazy \u001B[38;5;129;01mand\u001B[39;00m \u001B[38;5;28mself\u001B[39m\u001B[38;5;241m.\u001B[39m__unbroadcasted_scale_tril \u001B[38;5;129;01mis\u001B[39;00m \u001B[38;5;28;01mNone\u001B[39;00m:\n\u001B[1;32m     87\u001B[0m         \u001B[38;5;66;03m# cache root decoposition\u001B[39;00m\n\u001B[0;32m---> 88\u001B[0m         ust \u001B[38;5;241m=\u001B[39m to_dense(\u001B[38;5;28;43mself\u001B[39;49m\u001B[38;5;241;43m.\u001B[39;49m\u001B[43mlazy_covariance_matrix\u001B[49m\u001B[38;5;241;43m.\u001B[39;49m\u001B[43mcholesky\u001B[49m\u001B[43m(\u001B[49m\u001B[43m)\u001B[49m)\n\u001B[1;32m     89\u001B[0m         \u001B[38;5;28mself\u001B[39m\u001B[38;5;241m.\u001B[39m__unbroadcasted_scale_tril \u001B[38;5;241m=\u001B[39m ust\n\u001B[1;32m     90\u001B[0m     \u001B[38;5;28;01mreturn\u001B[39;00m \u001B[38;5;28mself\u001B[39m\u001B[38;5;241m.\u001B[39m__unbroadcasted_scale_tril\n",
      "File \u001B[0;32m~/anaconda3/envs/rocksdb/lib/python3.8/site-packages/linear_operator/operators/_linear_operator.py:1244\u001B[0m, in \u001B[0;36mLinearOperator.cholesky\u001B[0;34m(self, upper)\u001B[0m\n\u001B[1;32m   1236\u001B[0m \u001B[38;5;129m@_implements\u001B[39m(torch\u001B[38;5;241m.\u001B[39mlinalg\u001B[38;5;241m.\u001B[39mcholesky)\n\u001B[1;32m   1237\u001B[0m \u001B[38;5;28;01mdef\u001B[39;00m \u001B[38;5;21mcholesky\u001B[39m(\u001B[38;5;28mself\u001B[39m, upper: \u001B[38;5;28mbool\u001B[39m \u001B[38;5;241m=\u001B[39m \u001B[38;5;28;01mFalse\u001B[39;00m) \u001B[38;5;241m-\u001B[39m\u001B[38;5;241m>\u001B[39m \u001B[38;5;124m\"\u001B[39m\u001B[38;5;124mTriangularLinearOperator\u001B[39m\u001B[38;5;124m\"\u001B[39m:  \u001B[38;5;66;03m# noqa F811\u001B[39;00m\n\u001B[1;32m   1238\u001B[0m     \u001B[38;5;124;03m\"\"\"\u001B[39;00m\n\u001B[1;32m   1239\u001B[0m \u001B[38;5;124;03m    Cholesky-factorizes the LinearOperator.\u001B[39;00m\n\u001B[1;32m   1240\u001B[0m \n\u001B[1;32m   1241\u001B[0m \u001B[38;5;124;03m    :param upper: Upper triangular or lower triangular factor (default: False).\u001B[39;00m\n\u001B[1;32m   1242\u001B[0m \u001B[38;5;124;03m    :return: Cholesky factor (lower or upper triangular)\u001B[39;00m\n\u001B[1;32m   1243\u001B[0m \u001B[38;5;124;03m    \"\"\"\u001B[39;00m\n\u001B[0;32m-> 1244\u001B[0m     chol \u001B[38;5;241m=\u001B[39m \u001B[38;5;28;43mself\u001B[39;49m\u001B[38;5;241;43m.\u001B[39;49m\u001B[43m_cholesky\u001B[49m\u001B[43m(\u001B[49m\u001B[43mupper\u001B[49m\u001B[38;5;241;43m=\u001B[39;49m\u001B[38;5;28;43;01mFalse\u001B[39;49;00m\u001B[43m)\u001B[49m\n\u001B[1;32m   1245\u001B[0m     \u001B[38;5;28;01mif\u001B[39;00m upper:\n\u001B[1;32m   1246\u001B[0m         chol \u001B[38;5;241m=\u001B[39m chol\u001B[38;5;241m.\u001B[39m_transpose_nonbatch()\n",
      "File \u001B[0;32m~/anaconda3/envs/rocksdb/lib/python3.8/site-packages/linear_operator/utils/memoize.py:59\u001B[0m, in \u001B[0;36m_cached.<locals>.g\u001B[0;34m(self, *args, **kwargs)\u001B[0m\n\u001B[1;32m     57\u001B[0m kwargs_pkl \u001B[38;5;241m=\u001B[39m pickle\u001B[38;5;241m.\u001B[39mdumps(kwargs)\n\u001B[1;32m     58\u001B[0m \u001B[38;5;28;01mif\u001B[39;00m \u001B[38;5;129;01mnot\u001B[39;00m _is_in_cache(\u001B[38;5;28mself\u001B[39m, cache_name, \u001B[38;5;241m*\u001B[39margs, kwargs_pkl\u001B[38;5;241m=\u001B[39mkwargs_pkl):\n\u001B[0;32m---> 59\u001B[0m     \u001B[38;5;28;01mreturn\u001B[39;00m _add_to_cache(\u001B[38;5;28mself\u001B[39m, cache_name, \u001B[43mmethod\u001B[49m\u001B[43m(\u001B[49m\u001B[38;5;28;43mself\u001B[39;49m\u001B[43m,\u001B[49m\u001B[43m \u001B[49m\u001B[38;5;241;43m*\u001B[39;49m\u001B[43margs\u001B[49m\u001B[43m,\u001B[49m\u001B[43m \u001B[49m\u001B[38;5;241;43m*\u001B[39;49m\u001B[38;5;241;43m*\u001B[39;49m\u001B[43mkwargs\u001B[49m\u001B[43m)\u001B[49m, \u001B[38;5;241m*\u001B[39margs, kwargs_pkl\u001B[38;5;241m=\u001B[39mkwargs_pkl)\n\u001B[1;32m     60\u001B[0m \u001B[38;5;28;01mreturn\u001B[39;00m _get_from_cache(\u001B[38;5;28mself\u001B[39m, cache_name, \u001B[38;5;241m*\u001B[39margs, kwargs_pkl\u001B[38;5;241m=\u001B[39mkwargs_pkl)\n",
      "File \u001B[0;32m~/anaconda3/envs/rocksdb/lib/python3.8/site-packages/linear_operator/operators/_linear_operator.py:494\u001B[0m, in \u001B[0;36mLinearOperator._cholesky\u001B[0;34m(self, upper)\u001B[0m\n\u001B[1;32m    491\u001B[0m     \u001B[38;5;28;01mreturn\u001B[39;00m TriangularLinearOperator(evaluated_mat\u001B[38;5;241m.\u001B[39mclamp_min(\u001B[38;5;241m0.0\u001B[39m)\u001B[38;5;241m.\u001B[39msqrt())\n\u001B[1;32m    493\u001B[0m \u001B[38;5;66;03m# contiguous call is necessary here\u001B[39;00m\n\u001B[0;32m--> 494\u001B[0m cholesky \u001B[38;5;241m=\u001B[39m \u001B[43mpsd_safe_cholesky\u001B[49m\u001B[43m(\u001B[49m\u001B[43mevaluated_mat\u001B[49m\u001B[43m,\u001B[49m\u001B[43m \u001B[49m\u001B[43mupper\u001B[49m\u001B[38;5;241;43m=\u001B[39;49m\u001B[43mupper\u001B[49m\u001B[43m)\u001B[49m\u001B[38;5;241m.\u001B[39mcontiguous()\n\u001B[1;32m    495\u001B[0m \u001B[38;5;28;01mreturn\u001B[39;00m TriangularLinearOperator(cholesky, upper\u001B[38;5;241m=\u001B[39mupper)\n",
      "File \u001B[0;32m~/anaconda3/envs/rocksdb/lib/python3.8/site-packages/linear_operator/utils/cholesky.py:65\u001B[0m, in \u001B[0;36mpsd_safe_cholesky\u001B[0;34m(A, upper, out, jitter, max_tries)\u001B[0m\n\u001B[1;32m     50\u001B[0m \u001B[38;5;28;01mdef\u001B[39;00m \u001B[38;5;21mpsd_safe_cholesky\u001B[39m(A, upper\u001B[38;5;241m=\u001B[39m\u001B[38;5;28;01mFalse\u001B[39;00m, out\u001B[38;5;241m=\u001B[39m\u001B[38;5;28;01mNone\u001B[39;00m, jitter\u001B[38;5;241m=\u001B[39m\u001B[38;5;28;01mNone\u001B[39;00m, max_tries\u001B[38;5;241m=\u001B[39m\u001B[38;5;28;01mNone\u001B[39;00m):\n\u001B[1;32m     51\u001B[0m     \u001B[38;5;124;03m\"\"\"Compute the Cholesky decomposition of A. If A is only p.s.d, add a small jitter to the diagonal.\u001B[39;00m\n\u001B[1;32m     52\u001B[0m \u001B[38;5;124;03m    Args:\u001B[39;00m\n\u001B[1;32m     53\u001B[0m \u001B[38;5;124;03m        :attr:`A` (Tensor):\u001B[39;00m\n\u001B[0;32m   (...)\u001B[0m\n\u001B[1;32m     63\u001B[0m \u001B[38;5;124;03m            Number of attempts (with successively increasing jitter) to make before raising an error.\u001B[39;00m\n\u001B[1;32m     64\u001B[0m \u001B[38;5;124;03m    \"\"\"\u001B[39;00m\n\u001B[0;32m---> 65\u001B[0m     L \u001B[38;5;241m=\u001B[39m \u001B[43m_psd_safe_cholesky\u001B[49m\u001B[43m(\u001B[49m\u001B[43mA\u001B[49m\u001B[43m,\u001B[49m\u001B[43m \u001B[49m\u001B[43mout\u001B[49m\u001B[38;5;241;43m=\u001B[39;49m\u001B[43mout\u001B[49m\u001B[43m,\u001B[49m\u001B[43m \u001B[49m\u001B[43mjitter\u001B[49m\u001B[38;5;241;43m=\u001B[39;49m\u001B[43mjitter\u001B[49m\u001B[43m,\u001B[49m\u001B[43m \u001B[49m\u001B[43mmax_tries\u001B[49m\u001B[38;5;241;43m=\u001B[39;49m\u001B[43mmax_tries\u001B[49m\u001B[43m)\u001B[49m\n\u001B[1;32m     66\u001B[0m     \u001B[38;5;28;01mif\u001B[39;00m upper:\n\u001B[1;32m     67\u001B[0m         \u001B[38;5;28;01mif\u001B[39;00m out \u001B[38;5;129;01mis\u001B[39;00m \u001B[38;5;129;01mnot\u001B[39;00m \u001B[38;5;28;01mNone\u001B[39;00m:\n",
      "File \u001B[0;32m~/anaconda3/envs/rocksdb/lib/python3.8/site-packages/linear_operator/utils/cholesky.py:20\u001B[0m, in \u001B[0;36m_psd_safe_cholesky\u001B[0;34m(A, out, jitter, max_tries)\u001B[0m\n\u001B[1;32m     17\u001B[0m \u001B[38;5;28;01mif\u001B[39;00m out \u001B[38;5;129;01mis\u001B[39;00m \u001B[38;5;129;01mnot\u001B[39;00m \u001B[38;5;28;01mNone\u001B[39;00m:\n\u001B[1;32m     18\u001B[0m     out \u001B[38;5;241m=\u001B[39m (out, torch\u001B[38;5;241m.\u001B[39mempty(A\u001B[38;5;241m.\u001B[39mshape[:\u001B[38;5;241m-\u001B[39m\u001B[38;5;241m2\u001B[39m], dtype\u001B[38;5;241m=\u001B[39mtorch\u001B[38;5;241m.\u001B[39mint32, device\u001B[38;5;241m=\u001B[39mout\u001B[38;5;241m.\u001B[39mdevice))\n\u001B[0;32m---> 20\u001B[0m L, info \u001B[38;5;241m=\u001B[39m \u001B[43mtorch\u001B[49m\u001B[38;5;241;43m.\u001B[39;49m\u001B[43mlinalg\u001B[49m\u001B[38;5;241;43m.\u001B[39;49m\u001B[43mcholesky_ex\u001B[49m\u001B[43m(\u001B[49m\u001B[43mA\u001B[49m\u001B[43m,\u001B[49m\u001B[43m \u001B[49m\u001B[43mout\u001B[49m\u001B[38;5;241;43m=\u001B[39;49m\u001B[43mout\u001B[49m\u001B[43m)\u001B[49m\n\u001B[1;32m     21\u001B[0m \u001B[38;5;28;01mif\u001B[39;00m settings\u001B[38;5;241m.\u001B[39mtrace_mode\u001B[38;5;241m.\u001B[39mon() \u001B[38;5;129;01mor\u001B[39;00m \u001B[38;5;129;01mnot\u001B[39;00m torch\u001B[38;5;241m.\u001B[39many(info):\n\u001B[1;32m     22\u001B[0m     \u001B[38;5;28;01mreturn\u001B[39;00m L\n",
      "\u001B[0;31mRuntimeError\u001B[0m: KeyboardInterrupt: <EMPTY MESSAGE>\n\nAt:\n  /home/salabed/anaconda3/envs/rocksdb/lib/python3.8/site-packages/torch/autograd/graph.py(121): pack_to_cpu\n  /home/salabed/anaconda3/envs/rocksdb/lib/python3.8/site-packages/linear_operator/utils/cholesky.py(20): _psd_safe_cholesky\n  /home/salabed/anaconda3/envs/rocksdb/lib/python3.8/site-packages/linear_operator/utils/cholesky.py(65): psd_safe_cholesky\n  /home/salabed/anaconda3/envs/rocksdb/lib/python3.8/site-packages/linear_operator/operators/_linear_operator.py(494): _cholesky\n  /home/salabed/anaconda3/envs/rocksdb/lib/python3.8/site-packages/linear_operator/utils/memoize.py(59): g\n  /home/salabed/anaconda3/envs/rocksdb/lib/python3.8/site-packages/linear_operator/operators/_linear_operator.py(1244): cholesky\n  /home/salabed/anaconda3/envs/rocksdb/lib/python3.8/site-packages/gpytorch/distributions/multivariate_normal.py(88): _unbroadcasted_scale_tril\n  /home/salabed/anaconda3/envs/rocksdb/lib/python3.8/site-packages/torch/distributions/multivariate_normal.py(216): log_prob\n  /home/salabed/anaconda3/envs/rocksdb/lib/python3.8/site-packages/gpytorch/distributions/multivariate_normal.py(171): log_prob\n  /home/salabed/anaconda3/envs/rocksdb/lib/python3.8/site-packages/gpytorch/mlls/exact_marginal_log_likelihood.py(64): forward\n  /home/salabed/anaconda3/envs/rocksdb/lib/python3.8/site-packages/gpytorch/module.py(31): __call__\n  /home/salabed/anaconda3/envs/rocksdb/lib/python3.8/site-packages/botorch/optim/closures/model_closures.py(176): closure\n  /home/salabed/anaconda3/envs/rocksdb/lib/python3.8/site-packages/botorch/optim/closures/core.py(64): __call__\n  /home/salabed/anaconda3/envs/rocksdb/lib/python3.8/site-packages/botorch/optim/closures/core.py(150): __call__\n  /home/salabed/anaconda3/envs/rocksdb/lib/python3.8/site-packages/scipy/optimize/_optimize.py(70): _compute_if_needed\n  /home/salabed/anaconda3/envs/rocksdb/lib/python3.8/site-packages/scipy/optimize/_optimize.py(76): __call__\n  /home/salabed/anaconda3/envs/rocksdb/lib/python3.8/site-packages/scipy/optimize/_differentiable_functions.py(137): fun_wrapped\n  /home/salabed/anaconda3/envs/rocksdb/lib/python3.8/site-packages/scipy/optimize/_differentiable_functions.py(155): update_fun\n  /home/salabed/anaconda3/envs/rocksdb/lib/python3.8/site-packages/scipy/optimize/_differentiable_functions.py(251): _update_fun\n  /home/salabed/anaconda3/envs/rocksdb/lib/python3.8/site-packages/scipy/optimize/_differentiable_functions.py(285): fun_and_grad\n  /home/salabed/anaconda3/envs/rocksdb/lib/python3.8/site-packages/scipy/optimize/_lbfgsb_py.py(359): _minimize_lbfgsb\n  /home/salabed/anaconda3/envs/rocksdb/lib/python3.8/site-packages/scipy/optimize/_minimize.py(696): minimize\n  /home/salabed/anaconda3/envs/rocksdb/lib/python3.8/site-packages/botorch/optim/utils/timeout.py(80): minimize_with_timeout\n  /home/salabed/anaconda3/envs/rocksdb/lib/python3.8/site-packages/botorch/optim/core.py(109): scipy_minimize\n  /home/salabed/anaconda3/envs/rocksdb/lib/python3.8/site-packages/botorch/optim/fit.py(120): fit_gpytorch_mll_scipy\n  /home/salabed/anaconda3/envs/rocksdb/lib/python3.8/site-packages/botorch/fit.py(252): _fit_fallback\n  /home/salabed/anaconda3/envs/rocksdb/lib/python3.8/site-packages/botorch/utils/dispatcher.py(93): __call__\n  /home/salabed/anaconda3/envs/rocksdb/lib/python3.8/site-packages/botorch/fit.py(105): fit_gpytorch_mll\n  /home/salabed/workspace/autorocks/autorocks/optimizer/bograph/bobn.py(470): build_graph_models\n  /home/salabed/workspace/autorocks/autorocks/optimizer/bograph/bobn.py(543): opt\n  /tmp/ipykernel_69710/3536923496.py(32): run\n  /tmp/ipykernel_69710/3372308315.py(11): <module>\n  /home/salabed/anaconda3/envs/rocksdb/lib/python3.8/site-packages/IPython/core/interactiveshell.py(3508): run_code\n  /home/salabed/anaconda3/envs/rocksdb/lib/python3.8/site-packages/IPython/core/interactiveshell.py(3448): run_ast_nodes\n  /home/salabed/anaconda3/envs/rocksdb/lib/python3.8/site-packages/IPython/core/interactiveshell.py(3269): run_cell_async\n  /home/salabed/anaconda3/envs/rocksdb/lib/python3.8/site-packages/IPython/core/async_helpers.py(129): _pseudo_sync_runner\n  /home/salabed/anaconda3/envs/rocksdb/lib/python3.8/site-packages/IPython/core/interactiveshell.py(3064): _run_cell\n  /home/salabed/anaconda3/envs/rocksdb/lib/python3.8/site-packages/IPython/core/interactiveshell.py(3009): run_cell\n  /home/salabed/anaconda3/envs/rocksdb/lib/python3.8/site-packages/ipykernel/zmqshell.py(549): run_cell\n  /home/salabed/anaconda3/envs/rocksdb/lib/python3.8/site-packages/ipykernel/ipkernel.py(446): do_execute\n  /home/salabed/anaconda3/envs/rocksdb/lib/python3.8/site-packages/ipykernel/kernelbase.py(775): execute_request\n  /home/salabed/anaconda3/envs/rocksdb/lib/python3.8/site-packages/ipykernel/ipkernel.py(359): execute_request\n  /home/salabed/anaconda3/envs/rocksdb/lib/python3.8/site-packages/ipykernel/kernelbase.py(437): dispatch_shell\n  /home/salabed/anaconda3/envs/rocksdb/lib/python3.8/site-packages/ipykernel/kernelbase.py(531): process_one\n  /home/salabed/anaconda3/envs/rocksdb/lib/python3.8/site-packages/ipykernel/kernelbase.py(542): dispatch_queue\n  /home/salabed/anaconda3/envs/rocksdb/lib/python3.8/asyncio/events.py(81): _run\n  /home/salabed/anaconda3/envs/rocksdb/lib/python3.8/asyncio/base_events.py(1859): _run_once\n  /home/salabed/anaconda3/envs/rocksdb/lib/python3.8/asyncio/base_events.py(570): run_forever\n  /home/salabed/anaconda3/envs/rocksdb/lib/python3.8/site-packages/tornado/platform/asyncio.py(215): start\n  /home/salabed/anaconda3/envs/rocksdb/lib/python3.8/site-packages/ipykernel/kernelapp.py(739): start\n  /home/salabed/anaconda3/envs/rocksdb/lib/python3.8/site-packages/traitlets/config/application.py(1043): launch_instance\n  /home/salabed/anaconda3/envs/rocksdb/lib/python3.8/site-packages/ipykernel_launcher.py(17): <module>\n  /home/salabed/anaconda3/envs/rocksdb/lib/python3.8/runpy.py(86): _run_code\n  /home/salabed/anaconda3/envs/rocksdb/lib/python3.8/runpy.py(193): _run_module_as_main\n"
     ]
    }
   ],
   "source": [
    "EXP_DIM = [6, 25, 50, 100, 1000]\n",
    "OBS = [10, 100, 500, 1000, 10000]\n",
    "all_results = []\n",
    "n_restarts = 3\n",
    "\n",
    "for obs in OBS:\n",
    "    for exp_dim in EXP_DIM:\n",
    "        exp = MemoryExp(exp_dim)\n",
    "        for restart_id in range(n_restarts):\n",
    "            print(f\"Performing experiment: {restart_id=}:{exp_dim=}:{obs=}\")\n",
    "            all_results.append(exp.run(obs, restart_id))"
   ],
   "metadata": {
    "collapsed": false
   }
  },
  {
   "cell_type": "code",
   "execution_count": 10,
   "outputs": [],
   "source": [
    "res_df = pd.DataFrame(all_results)\n",
    "\n",
    "res_df.to_csv(\"scalability_dim.csv\")"
   ],
   "metadata": {
    "collapsed": false
   }
  },
  {
   "cell_type": "code",
   "execution_count": 9,
   "outputs": [
    {
     "name": "stdout",
     "output_type": "stream",
     "text": [
      "hello\n"
     ]
    }
   ],
   "source": [
    "print(\"hello\")"
   ],
   "metadata": {
    "collapsed": false
   }
  },
  {
   "cell_type": "code",
   "execution_count": 12,
   "outputs": [
    {
     "data": {
      "text/plain": "       0\n0      6\n1      6\n2      6\n3     25\n4     25\n..   ...\n70   100\n71   100\n72  1000\n73  1000\n74  1000\n\n[75 rows x 1 columns]",
      "text/html": "<div>\n<style scoped>\n    .dataframe tbody tr th:only-of-type {\n        vertical-align: middle;\n    }\n\n    .dataframe tbody tr th {\n        vertical-align: top;\n    }\n\n    .dataframe thead th {\n        text-align: right;\n    }\n</style>\n<table border=\"1\" class=\"dataframe\">\n  <thead>\n    <tr style=\"text-align: right;\">\n      <th></th>\n      <th>0</th>\n    </tr>\n  </thead>\n  <tbody>\n    <tr>\n      <th>0</th>\n      <td>6</td>\n    </tr>\n    <tr>\n      <th>1</th>\n      <td>6</td>\n    </tr>\n    <tr>\n      <th>2</th>\n      <td>6</td>\n    </tr>\n    <tr>\n      <th>3</th>\n      <td>25</td>\n    </tr>\n    <tr>\n      <th>4</th>\n      <td>25</td>\n    </tr>\n    <tr>\n      <th>...</th>\n      <td>...</td>\n    </tr>\n    <tr>\n      <th>70</th>\n      <td>100</td>\n    </tr>\n    <tr>\n      <th>71</th>\n      <td>100</td>\n    </tr>\n    <tr>\n      <th>72</th>\n      <td>1000</td>\n    </tr>\n    <tr>\n      <th>73</th>\n      <td>1000</td>\n    </tr>\n    <tr>\n      <th>74</th>\n      <td>1000</td>\n    </tr>\n  </tbody>\n</table>\n<p>75 rows × 1 columns</p>\n</div>"
     },
     "execution_count": 12,
     "metadata": {},
     "output_type": "execute_result"
    }
   ],
   "source": [
    "EXP_DIM = [6, 25, 50, 100, 1000]\n",
    "OBS = [10, 100, 500, 1000, 10000]\n",
    "n_restarts = 3\n",
    "\n",
    "missing_col = []\n",
    "for obs in OBS:\n",
    "    for exp_dim in EXP_DIM:\n",
    "        for restart_id in range(n_restarts):\n",
    "            missing_col.append(exp_dim)\n",
    "\n",
    "pd.DataFrame(missing_col)"
   ],
   "metadata": {
    "collapsed": false
   }
  },
  {
   "cell_type": "code",
   "execution_count": 15,
   "outputs": [],
   "source": [
    "res_df['dim'] = pd.DataFrame(missing_col)\n"
   ],
   "metadata": {
    "collapsed": false
   }
  },
  {
   "cell_type": "code",
   "execution_count": 17,
   "outputs": [],
   "source": [
    "res_df.to_csv(\"scalability_dims.csv\")\n"
   ],
   "metadata": {
    "collapsed": false
   }
  },
  {
   "cell_type": "code",
   "execution_count": null,
   "outputs": [],
   "source": [],
   "metadata": {
    "collapsed": false
   }
  }
 ],
 "metadata": {
  "kernelspec": {
   "display_name": "Python 3",
   "language": "python",
   "name": "python3"
  },
  "language_info": {
   "codemirror_mode": {
    "name": "ipython",
    "version": 2
   },
   "file_extension": ".py",
   "mimetype": "text/x-python",
   "name": "python",
   "nbconvert_exporter": "python",
   "pygments_lexer": "ipython2",
   "version": "2.7.6"
  }
 },
 "nbformat": 4,
 "nbformat_minor": 0
}
