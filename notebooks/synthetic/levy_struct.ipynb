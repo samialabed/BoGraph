{
 "cells": [
  {
   "cell_type": "code",
   "id": "initial_id",
   "metadata": {
    "collapsed": true,
    "ExecuteTime": {
     "end_time": "2024-08-05T15:10:33.657173Z",
     "start_time": "2024-08-05T15:10:32.915541Z"
    }
   },
   "source": [
    "%matplotlib inline\n",
    "%load_ext autoreload\n",
    "%autoreload 2\n"
   ],
   "outputs": [],
   "execution_count": 1
  },
  {
   "metadata": {
    "ExecuteTime": {
     "end_time": "2024-08-05T15:12:04.946121Z",
     "start_time": "2024-08-05T15:12:04.924865Z"
    }
   },
   "cell_type": "code",
   "source": [
    "\n",
    "import os\n",
    "import matplotlib.pyplot as plt\n",
    "\n",
    "import networkx as nx\n",
    "from IPython.core.display import SVG, display\n",
    "\n",
    "from autorocks.envs.synthetic.funcs import levy\n",
    "\n",
    "_DIM = 6\n",
    "G = levy.make_struct(_DIM)"
   ],
   "id": "fb2e218c74f3de60",
   "outputs": [],
   "execution_count": 9
  },
  {
   "metadata": {
    "ExecuteTime": {
     "end_time": "2024-08-05T15:12:05.597146Z",
     "start_time": "2024-08-05T15:12:05.570384Z"
    }
   },
   "cell_type": "code",
   "source": [
    "\n",
    "def draw(graph, path = None):\n",
    "\n",
    "    fmt = \"svg\"\n",
    "    if path is not None:\n",
    "        if path.endswith(\".svg\"):\n",
    "            fmt = \"svg\"\n",
    "        elif path.endswith(\".pdf\"):\n",
    "            fmt = \"pdf\"\n",
    "        else:\n",
    "            print(\"Unrecognized file extension\", path.split(\".\")[-1])\n",
    "    svg = nx.nx_agraph.to_agraph(graph).draw(path = path, prog = \"dot\", format = fmt, args=\"-Gsize=10\")\n",
    "    if path is None:\n",
    "        display(SVG(svg))"
   ],
   "id": "85dbfedd8deb5fad",
   "outputs": [],
   "execution_count": 10
  },
  {
   "metadata": {
    "ExecuteTime": {
     "end_time": "2024-08-05T15:14:00.888906Z",
     "start_time": "2024-08-05T15:14:00.526218Z"
    }
   },
   "cell_type": "code",
   "source": [
    "\n",
    "output_path = \"/Users/salabed/workspace/latex_writings/thesis/phd_dissertation/Chapters/BoGraphEval/figures/levy6\"\n",
    "\n",
    "# draw(G, f\"{output_path}/levy_6dag.pdf\")\n",
    "\n",
    "draw(G)\n"
   ],
   "id": "a0139a1da71d9c45",
   "outputs": [
    {
     "data": {
      "text/plain": [
       "<IPython.core.display.SVG object>"
      ],
      "image/svg+xml": "<svg xmlns=\"http://www.w3.org/2000/svg\" xmlns:xlink=\"http://www.w3.org/1999/xlink\" width=\"450pt\" height=\"260pt\" viewBox=\"0.00 0.00 450.00 260.00\">\n<g id=\"graph0\" class=\"graph\" transform=\"scale(1 1) rotate(0) translate(4 256)\">\n<polygon fill=\"white\" stroke=\"transparent\" points=\"-4,4 -4,-256 446,-256 446,4 -4,4\"/>\n<!-- x0 -->\n<g id=\"node1\" class=\"node\">\n<title>x0</title>\n<ellipse fill=\"none\" stroke=\"black\" cx=\"27\" cy=\"-234\" rx=\"27\" ry=\"18\"/>\n<text text-anchor=\"middle\" x=\"27\" y=\"-230.3\" font-family=\"Times,serif\" font-size=\"14.00\">x0</text>\n</g>\n<!-- part1 -->\n<g id=\"node2\" class=\"node\">\n<title>part1</title>\n<ellipse fill=\"none\" stroke=\"black\" cx=\"62\" cy=\"-90\" rx=\"29.5\" ry=\"18\"/>\n<text text-anchor=\"middle\" x=\"62\" y=\"-86.3\" font-family=\"Times,serif\" font-size=\"14.00\">part1</text>\n</g>\n<!-- x0&#45;&gt;part1 -->\n<g id=\"edge1\" class=\"edge\">\n<title>x0-&gt;part1</title>\n<path fill=\"none\" stroke=\"black\" d=\"M21.35,-216.07C16.17,-197.76 10.5,-167.98 19,-144 23.06,-132.54 30.78,-121.76 38.56,-112.94\"/>\n<polygon fill=\"black\" stroke=\"black\" points=\"41.32,-115.12 45.63,-105.44 36.22,-110.32 41.32,-115.12\"/>\n</g>\n<!-- z0 -->\n<g id=\"node3\" class=\"node\">\n<title>z0</title>\n<ellipse fill=\"none\" stroke=\"black\" cx=\"55\" cy=\"-162\" rx=\"27\" ry=\"18\"/>\n<text text-anchor=\"middle\" x=\"55\" y=\"-158.3\" font-family=\"Times,serif\" font-size=\"14.00\">z0</text>\n</g>\n<!-- x0&#45;&gt;z0 -->\n<g id=\"edge2\" class=\"edge\">\n<title>x0-&gt;z0</title>\n<path fill=\"none\" stroke=\"black\" d=\"M33.64,-216.41C36.91,-208.22 40.94,-198.14 44.62,-188.95\"/>\n<polygon fill=\"black\" stroke=\"black\" points=\"47.95,-190.05 48.41,-179.47 41.45,-187.45 47.95,-190.05\"/>\n</g>\n<!-- target -->\n<g id=\"node4\" class=\"node\">\n<title>target</title>\n<ellipse fill=\"none\" stroke=\"black\" cx=\"199\" cy=\"-18\" rx=\"31.4\" ry=\"18\"/>\n<text text-anchor=\"middle\" x=\"199\" y=\"-14.3\" font-family=\"Times,serif\" font-size=\"14.00\">target</text>\n</g>\n<!-- part1&#45;&gt;target -->\n<g id=\"edge3\" class=\"edge\">\n<title>part1-&gt;target</title>\n<path fill=\"none\" stroke=\"black\" d=\"M83.71,-77.91C106.29,-66.37 141.86,-48.2 167.52,-35.09\"/>\n<polygon fill=\"black\" stroke=\"black\" points=\"169.17,-38.17 176.48,-30.51 165.99,-31.94 169.17,-38.17\"/>\n</g>\n<!-- part2 -->\n<g id=\"node7\" class=\"node\">\n<title>part2</title>\n<ellipse fill=\"none\" stroke=\"black\" cx=\"199\" cy=\"-90\" rx=\"29.5\" ry=\"18\"/>\n<text text-anchor=\"middle\" x=\"199\" y=\"-86.3\" font-family=\"Times,serif\" font-size=\"14.00\">part2</text>\n</g>\n<!-- z0&#45;&gt;part2 -->\n<g id=\"edge6\" class=\"edge\">\n<title>z0-&gt;part2</title>\n<path fill=\"none\" stroke=\"black\" d=\"M76.25,-150.67C100.32,-138.97 139.8,-119.78 167.47,-106.33\"/>\n<polygon fill=\"black\" stroke=\"black\" points=\"169.25,-109.35 176.72,-101.83 166.19,-103.06 169.25,-109.35\"/>\n</g>\n<!-- x5 -->\n<g id=\"node5\" class=\"node\">\n<title>x5</title>\n<ellipse fill=\"none\" stroke=\"black\" cx=\"415\" cy=\"-162\" rx=\"27\" ry=\"18\"/>\n<text text-anchor=\"middle\" x=\"415\" y=\"-158.3\" font-family=\"Times,serif\" font-size=\"14.00\">x5</text>\n</g>\n<!-- part3 -->\n<g id=\"node6\" class=\"node\">\n<title>part3</title>\n<ellipse fill=\"none\" stroke=\"black\" cx=\"345\" cy=\"-90\" rx=\"29.5\" ry=\"18\"/>\n<text text-anchor=\"middle\" x=\"345\" y=\"-86.3\" font-family=\"Times,serif\" font-size=\"14.00\">part3</text>\n</g>\n<!-- x5&#45;&gt;part3 -->\n<g id=\"edge4\" class=\"edge\">\n<title>x5-&gt;part3</title>\n<path fill=\"none\" stroke=\"black\" d=\"M400.5,-146.5C390.86,-136.86 378.04,-124.04 367.14,-113.14\"/>\n<polygon fill=\"black\" stroke=\"black\" points=\"369.51,-110.56 359.97,-105.97 364.56,-115.51 369.51,-110.56\"/>\n</g>\n<!-- part3&#45;&gt;target -->\n<g id=\"edge5\" class=\"edge\">\n<title>part3-&gt;target</title>\n<path fill=\"none\" stroke=\"black\" d=\"M322.51,-78.22C298.18,-66.55 259.17,-47.85 231.51,-34.59\"/>\n<polygon fill=\"black\" stroke=\"black\" points=\"232.77,-31.31 222.24,-30.14 229.75,-37.62 232.77,-31.31\"/>\n</g>\n<!-- part2&#45;&gt;target -->\n<g id=\"edge7\" class=\"edge\">\n<title>part2-&gt;target</title>\n<path fill=\"none\" stroke=\"black\" d=\"M199,-71.7C199,-63.98 199,-54.71 199,-46.11\"/>\n<polygon fill=\"black\" stroke=\"black\" points=\"202.5,-46.1 199,-36.1 195.5,-46.1 202.5,-46.1\"/>\n</g>\n<!-- x1 -->\n<g id=\"node8\" class=\"node\">\n<title>x1</title>\n<ellipse fill=\"none\" stroke=\"black\" cx=\"127\" cy=\"-234\" rx=\"27\" ry=\"18\"/>\n<text text-anchor=\"middle\" x=\"127\" y=\"-230.3\" font-family=\"Times,serif\" font-size=\"14.00\">x1</text>\n</g>\n<!-- z1 -->\n<g id=\"node9\" class=\"node\">\n<title>z1</title>\n<ellipse fill=\"none\" stroke=\"black\" cx=\"127\" cy=\"-162\" rx=\"27\" ry=\"18\"/>\n<text text-anchor=\"middle\" x=\"127\" y=\"-158.3\" font-family=\"Times,serif\" font-size=\"14.00\">z1</text>\n</g>\n<!-- x1&#45;&gt;z1 -->\n<g id=\"edge8\" class=\"edge\">\n<title>x1-&gt;z1</title>\n<path fill=\"none\" stroke=\"black\" d=\"M127,-215.7C127,-207.98 127,-198.71 127,-190.11\"/>\n<polygon fill=\"black\" stroke=\"black\" points=\"130.5,-190.1 127,-180.1 123.5,-190.1 130.5,-190.1\"/>\n</g>\n<!-- z1&#45;&gt;part2 -->\n<g id=\"edge9\" class=\"edge\">\n<title>z1-&gt;part2</title>\n<path fill=\"none\" stroke=\"black\" d=\"M141.57,-146.83C151.59,-137.1 165.08,-123.98 176.47,-112.9\"/>\n<polygon fill=\"black\" stroke=\"black\" points=\"179.23,-115.11 183.96,-105.63 174.35,-110.09 179.23,-115.11\"/>\n</g>\n<!-- x2 -->\n<g id=\"node10\" class=\"node\">\n<title>x2</title>\n<ellipse fill=\"none\" stroke=\"black\" cx=\"199\" cy=\"-234\" rx=\"27\" ry=\"18\"/>\n<text text-anchor=\"middle\" x=\"199\" y=\"-230.3\" font-family=\"Times,serif\" font-size=\"14.00\">x2</text>\n</g>\n<!-- z2 -->\n<g id=\"node11\" class=\"node\">\n<title>z2</title>\n<ellipse fill=\"none\" stroke=\"black\" cx=\"199\" cy=\"-162\" rx=\"27\" ry=\"18\"/>\n<text text-anchor=\"middle\" x=\"199\" y=\"-158.3\" font-family=\"Times,serif\" font-size=\"14.00\">z2</text>\n</g>\n<!-- x2&#45;&gt;z2 -->\n<g id=\"edge10\" class=\"edge\">\n<title>x2-&gt;z2</title>\n<path fill=\"none\" stroke=\"black\" d=\"M199,-215.7C199,-207.98 199,-198.71 199,-190.11\"/>\n<polygon fill=\"black\" stroke=\"black\" points=\"202.5,-190.1 199,-180.1 195.5,-190.1 202.5,-190.1\"/>\n</g>\n<!-- z2&#45;&gt;part2 -->\n<g id=\"edge11\" class=\"edge\">\n<title>z2-&gt;part2</title>\n<path fill=\"none\" stroke=\"black\" d=\"M199,-143.7C199,-135.98 199,-126.71 199,-118.11\"/>\n<polygon fill=\"black\" stroke=\"black\" points=\"202.5,-118.1 199,-108.1 195.5,-118.1 202.5,-118.1\"/>\n</g>\n<!-- x3 -->\n<g id=\"node12\" class=\"node\">\n<title>x3</title>\n<ellipse fill=\"none\" stroke=\"black\" cx=\"271\" cy=\"-234\" rx=\"27\" ry=\"18\"/>\n<text text-anchor=\"middle\" x=\"271\" y=\"-230.3\" font-family=\"Times,serif\" font-size=\"14.00\">x3</text>\n</g>\n<!-- z3 -->\n<g id=\"node13\" class=\"node\">\n<title>z3</title>\n<ellipse fill=\"none\" stroke=\"black\" cx=\"271\" cy=\"-162\" rx=\"27\" ry=\"18\"/>\n<text text-anchor=\"middle\" x=\"271\" y=\"-158.3\" font-family=\"Times,serif\" font-size=\"14.00\">z3</text>\n</g>\n<!-- x3&#45;&gt;z3 -->\n<g id=\"edge12\" class=\"edge\">\n<title>x3-&gt;z3</title>\n<path fill=\"none\" stroke=\"black\" d=\"M271,-215.7C271,-207.98 271,-198.71 271,-190.11\"/>\n<polygon fill=\"black\" stroke=\"black\" points=\"274.5,-190.1 271,-180.1 267.5,-190.1 274.5,-190.1\"/>\n</g>\n<!-- z3&#45;&gt;part2 -->\n<g id=\"edge13\" class=\"edge\">\n<title>z3-&gt;part2</title>\n<path fill=\"none\" stroke=\"black\" d=\"M256.43,-146.83C246.41,-137.1 232.92,-123.98 221.53,-112.9\"/>\n<polygon fill=\"black\" stroke=\"black\" points=\"223.65,-110.09 214.04,-105.63 218.77,-115.11 223.65,-110.09\"/>\n</g>\n<!-- x4 -->\n<g id=\"node14\" class=\"node\">\n<title>x4</title>\n<ellipse fill=\"none\" stroke=\"black\" cx=\"343\" cy=\"-234\" rx=\"27\" ry=\"18\"/>\n<text text-anchor=\"middle\" x=\"343\" y=\"-230.3\" font-family=\"Times,serif\" font-size=\"14.00\">x4</text>\n</g>\n<!-- z4 -->\n<g id=\"node15\" class=\"node\">\n<title>z4</title>\n<ellipse fill=\"none\" stroke=\"black\" cx=\"343\" cy=\"-162\" rx=\"27\" ry=\"18\"/>\n<text text-anchor=\"middle\" x=\"343\" y=\"-158.3\" font-family=\"Times,serif\" font-size=\"14.00\">z4</text>\n</g>\n<!-- x4&#45;&gt;z4 -->\n<g id=\"edge14\" class=\"edge\">\n<title>x4-&gt;z4</title>\n<path fill=\"none\" stroke=\"black\" d=\"M343,-215.7C343,-207.98 343,-198.71 343,-190.11\"/>\n<polygon fill=\"black\" stroke=\"black\" points=\"346.5,-190.1 343,-180.1 339.5,-190.1 346.5,-190.1\"/>\n</g>\n<!-- z4&#45;&gt;part2 -->\n<g id=\"edge15\" class=\"edge\">\n<title>z4-&gt;part2</title>\n<path fill=\"none\" stroke=\"black\" d=\"M321.75,-150.67C297.68,-138.97 258.2,-119.78 230.53,-106.33\"/>\n<polygon fill=\"black\" stroke=\"black\" points=\"231.81,-103.06 221.28,-101.83 228.75,-109.35 231.81,-103.06\"/>\n</g>\n</g>\n</svg>"
     },
     "metadata": {},
     "output_type": "display_data"
    }
   ],
   "execution_count": 14
  },
  {
   "metadata": {
    "ExecuteTime": {
     "end_time": "2024-08-05T15:14:12.930317Z",
     "start_time": "2024-08-05T15:14:10.717234Z"
    }
   },
   "cell_type": "code",
   "source": [
    "\n",
    "from autorocks.optimizer.bograph.bobn import BoBn\n",
    "\n",
    "\n",
    "bobn_graph = BoBn(G, levy.make_levy_space(_DIM), {\"target\"})\n",
    "\n",
    "for (i, subgraph) in enumerate(bobn_graph._subgraphs):\n",
    "    draw(G.subgraph(subgraph._subgraph), f\"{output_path}/subgraph_{i}.pdf\")\n",
    "    draw(G.subgraph(subgraph._subgraph), f\"{output_path}/subgraph_{i}.svg\")\n",
    "\n",
    "draw(G, f\"{output_path}/levy_dag.pdf\")\n",
    "draw(G, f\"{output_path}/levy_dag.svg\")\n"
   ],
   "id": "5f938a20b4005d5",
   "outputs": [],
   "execution_count": 15
  },
  {
   "metadata": {},
   "cell_type": "code",
   "outputs": [],
   "execution_count": null,
   "source": "",
   "id": "9d4b2866616ef80e"
  }
 ],
 "metadata": {
  "kernelspec": {
   "display_name": "Python 3",
   "language": "python",
   "name": "python3"
  },
  "language_info": {
   "codemirror_mode": {
    "name": "ipython",
    "version": 2
   },
   "file_extension": ".py",
   "mimetype": "text/x-python",
   "name": "python",
   "nbconvert_exporter": "python",
   "pygments_lexer": "ipython2",
   "version": "2.7.6"
  }
 },
 "nbformat": 4,
 "nbformat_minor": 5
}
