{
 "cells": [
  {
   "cell_type": "code",
   "execution_count": 2,
   "source": [
    "\n",
    "%matplotlib inline\n",
    "%load_ext autoreload\n",
    "%autoreload 2"
   ],
   "metadata": {
    "collapsed": false,
    "pycharm": {
     "name": "#%%\n"
    }
   },
   "outputs": []
  },
  {
   "cell_type": "code",
   "execution_count": 3,
   "source": [
    "from autorocks.envs.synthetic.funcs.ackley import Ackley6DParametersSpace\n",
    "from botorch.utils.transforms import normalize, standardize\n",
    "from autorocks.dir_struct import LocalResultDir\n",
    "from autorocks.data.dataset import BOSystemDataset\n",
    "\n",
    "sys_param = Ackley6DParametersSpace()\n",
    "dataset = BOSystemDataset(\n",
    "    historic_data_path=LocalResultDir / \"synthetic/target/Akcley/6_params/100_iter\",\n",
    "    parameters_name=[\"x1\", \"x2\", \"x3\", \"x4\", \"x5\", \"x6\"],\n",
    "    objectives_name=[\"target\"],\n",
    "    transform=lambda X: normalize(X, bounds=sys_param.bounds().T),\n",
    "    target_transform=lambda X: -X,\n",
    "    filter_for_specific_models={\"StaticBoGraphStandardizeHigh\"},\n",
    ")"
   ],
   "metadata": {
    "collapsed": false,
    "pycharm": {
     "name": "#%%\n"
    }
   },
   "outputs": []
  },
  {
   "cell_type": "code",
   "execution_count": 594,
   "source": [
    "import torch.utils.data\n",
    "\n",
    "train_size = int(0.8 * len(dataset))\n",
    "test_size = len(dataset) - train_size\n",
    "train_set, test_set = torch.utils.data.random_split(dataset, [train_size, test_size])"
   ],
   "metadata": {
    "collapsed": false,
    "pycharm": {
     "name": "#%%\n"
    }
   },
   "outputs": []
  },
  {
   "cell_type": "code",
   "execution_count": 1,
   "source": [
    "from torch.utils.data import DataLoader\n",
    "\n",
    "num_of_samples = 9\n",
    "train_dataloader = DataLoader(train_set, batch_size=num_of_samples, shuffle=True)\n",
    "data_loader_iter = iter(train_dataloader)\n",
    "test_x, test_y = test_set[:]\n",
    "from sklearn.preprocessing import StandardScaler"
   ],
   "metadata": {
    "collapsed": false,
    "pycharm": {
     "name": "#%%\n"
    }
   },
   "outputs": []
  },
  {
   "cell_type": "code",
   "execution_count": 615,
   "source": [
    "from autorocks.optimizer.bograph.dag_dao.model_nodes.node_singlegp import SingleTaskGPModelNode\n",
    "import gpytorch.means as means\n",
    "\n",
    "train_x, train_y = next(data_loader_iter)\n",
    "# y_standardize = StandardScaler().fit(train_y)\n",
    "# train_y = torch.tensor(y_standardize.transform(train_y))\n",
    "\n",
    "node_model = SingleTaskGPModelNode(train_x=train_x, train_y=train_y, mean_module=means.ZeroMean())\n",
    "\n",
    "# test_y = torch.tensor(y_standardize.transform(test_y)).squeeze()\n",
    "test_y = test_y.squeeze()"
   ],
   "metadata": {
    "collapsed": false,
    "pycharm": {
     "name": "#%%\n"
    }
   },
   "outputs": []
  },
  {
   "cell_type": "markdown",
   "source": [
    "# MSE and RMSE calculation"
   ],
   "metadata": {
    "collapsed": false,
    "pycharm": {
     "name": "#%% md\n"
    }
   }
  },
  {
   "cell_type": "code",
   "execution_count": 616,
   "source": [
    "with torch.no_grad():\n",
    "    posterior = node_model.posterior(X=test_x)\n",
    "    predicted_mean = posterior.mean.squeeze()\n",
    "\n",
    "    std = torch.sqrt(posterior.variance.squeeze()) * 2\n",
    "    lower, upper = predicted_mean - std, predicted_mean + std\n",
    "    lower, upper = lower.squeeze().cpu().numpy(), upper.squeeze().cpu().numpy()\n",
    "\n",
    "    mse = torch.mean(torch.abs(predicted_mean - test_y))\n",
    "    rmse = torch.sqrt(torch.mean(torch.pow(predicted_mean - test_y, 2)))\n",
    "\n",
    "print(f\"RMSE = {rmse}, MSE = {mse}\")"
   ],
   "metadata": {
    "collapsed": false,
    "pycharm": {
     "name": "#%%\n"
    }
   },
   "outputs": []
  },
  {
   "cell_type": "markdown",
   "source": [
    "# Predicted outcome vs actual outcome"
   ],
   "metadata": {
    "collapsed": false,
    "pycharm": {
     "name": "#%% md\n"
    }
   }
  },
  {
   "cell_type": "code",
   "execution_count": 617,
   "source": [
    "from matplotlib import pyplot as plt\n",
    "\n",
    "f, ax = plt.subplots(1, 1, figsize=(16, 9))\n",
    "mean_sorted_args = torch.argsort(test_y.squeeze())\n",
    "ax.plot(test_y, test_y, color=\"r\", label=\"Ideal outcome\")\n",
    "ax.plot(test_y[mean_sorted_args], predicted_mean[mean_sorted_args], label=\"Prediction to outcome\")\n",
    "# Shade between the lower and upper confidence bounds\n",
    "ax.fill_between(test_y[mean_sorted_args], y1=lower[mean_sorted_args], y2=upper[mean_sorted_args], alpha=0.5, label=\"CI\")\n",
    "ax.set(xlabel=\"Actual outcome\", ylabel=\"Predicted outcome\")\n",
    "ax.legend()"
   ],
   "metadata": {
    "collapsed": false,
    "pycharm": {
     "name": "#%%\n"
    }
   },
   "outputs": []
  },
  {
   "cell_type": "markdown",
   "source": [
    "# Model fit of the observed data point"
   ],
   "metadata": {
    "collapsed": false,
    "pycharm": {
     "name": "#%% md\n"
    }
   }
  },
  {
   "cell_type": "code",
   "execution_count": 618,
   "source": [
    "from sklearn.decomposition import PCA\n",
    "import numpy as np\n",
    "\n",
    "# Visualize what has been observed\n",
    "pca = PCA(n_components=1)\n",
    "decomposed_x = pca.fit_transform(train_x, train_y)\n",
    "sorted_x = np.argsort(decomposed_x.squeeze())\n",
    "f, ax = plt.subplots(1, 1, figsize=(16, 9))\n",
    "ax.plot(decomposed_x[sorted_x], train_y[sorted_x], \"k*\", label=\"Observed data points\")\n",
    "with torch.no_grad():\n",
    "    observed_posterior = node_model.posterior(X=train_x)\n",
    "    predicted_mean = observed_posterior.mean.squeeze()\n",
    "    std = torch.sqrt(observed_posterior.variance.squeeze()) * 2\n",
    "    lower, upper = predicted_mean - std, predicted_mean + std\n",
    "    lower, upper = lower.squeeze().cpu().numpy(), upper.squeeze().cpu().numpy()\n",
    "\n",
    "ax.plot(decomposed_x[sorted_x], predicted_mean[sorted_x], color=\"r\", label=\"Model fit\")\n",
    "ax.fill_between(decomposed_x[sorted_x].squeeze(), y1=lower[sorted_x], y2=upper[sorted_x], alpha=0.5, label=\"CI\")\n",
    "\n",
    "ax.set(xlabel=\"Compressed X\", ylabel=\"System objective\", title=\"Observed data\")\n",
    "ax.legend()"
   ],
   "metadata": {
    "collapsed": false,
    "pycharm": {
     "name": "#%%\n"
    }
   },
   "outputs": []
  },
  {
   "cell_type": "markdown",
   "source": [
    "# Predicted outcome vs actual outcome against various values of X\n"
   ],
   "metadata": {
    "collapsed": false,
    "pycharm": {
     "name": "#%% md\n"
    }
   }
  },
  {
   "cell_type": "code",
   "execution_count": 619,
   "source": [
    "# Visualize what has been observed\n",
    "pca = PCA(n_components=1)\n",
    "decomposed_x = pca.fit_transform(test_x, test_y)\n",
    "sorted_x = np.argsort(decomposed_x.squeeze())\n",
    "\n",
    "\n",
    "f, ax = plt.subplots(1, 1, figsize=(16, 9))\n",
    "ax.plot(decomposed_x[sorted_x], test_y[sorted_x], color=\"g\", label=\"Actual data\")\n",
    "with torch.no_grad():\n",
    "    observed_posterior = node_model.posterior(X=test_x)\n",
    "    predicted_mean = observed_posterior.mean.squeeze()\n",
    "    std = torch.sqrt(observed_posterior.variance.squeeze()) * 2\n",
    "    lower, upper = predicted_mean - std, predicted_mean + std\n",
    "    lower, upper = lower.squeeze().cpu().numpy(), upper.squeeze().cpu().numpy()\n",
    "\n",
    "ax.plot(decomposed_x[sorted_x], predicted_mean[sorted_x], color=\"r\", label=\"Model prediction\")\n",
    "ax.fill_between(decomposed_x[sorted_x].squeeze(), y1=lower[sorted_x], y2=upper[sorted_x], alpha=0.5, label=\"CI\")\n",
    "\n",
    "ax.set(xlabel=\"Compressed X\", ylabel=\"System objective\", title=\"Model prediction vs test data\")\n",
    "ax.legend()"
   ],
   "metadata": {
    "collapsed": false,
    "pycharm": {
     "name": "#%%\n"
    }
   },
   "outputs": []
  },
  {
   "cell_type": "markdown",
   "source": [
    "# Acquisition function exploring\n",
    "\n",
    "[ ] Explore how the ACQF will choose action given what it observed:\n",
    "[ ] run the optimizer and choose the value being chosen next, and the value of the acqf\n",
    "[ ] plot both against the PCAed plot"
   ],
   "metadata": {
    "collapsed": false,
    "pycharm": {
     "name": "#%% md\n"
    }
   }
  },
  {
   "cell_type": "code",
   "execution_count": 623,
   "source": [
    "from botorch.sampling import SobolQMCNormalSampler\n",
    "from botorch.optim import optimize_acqf\n",
    "import autorocks.optimizer.acqf as acqf_wrapper\n",
    "\n",
    "\n",
    "acqf_cfg = acqf_wrapper.qUpperConfidenceBoundWrapper(beta=0.2, sampler=SobolQMCNormalSampler(num_samples=1024))\n",
    "acqf = acqf_cfg.build(\n",
    "    model=node_model,\n",
    "    observed_x=train_x,\n",
    "    observed_y=train_y,\n",
    ")\n",
    "\n",
    "candidates, acqf_val = optimize_acqf(\n",
    "    acq_function=acqf,\n",
    "    bounds=torch.stack(\n",
    "        [\n",
    "            torch.zeros(sys_param.dimensions, dtype=torch.double),\n",
    "            torch.ones(sys_param.dimensions, dtype=torch.double),\n",
    "        ]\n",
    "    ),\n",
    "    q=1,\n",
    "    num_restarts=12,\n",
    "    raw_samples=1024,\n",
    ")\n",
    "\n",
    "print(f\"Candidate: {candidates}, ACQF_Value: {acqf_val}\")\n",
    "\n",
    "from sklearn.decomposition import PCA\n",
    "import numpy as np\n",
    "\n",
    "# Visualize what has been observed\n",
    "pca = PCA(n_components=1)\n",
    "decomposed_x = pca.fit_transform(train_x, train_y)\n",
    "sorted_x = np.argsort(decomposed_x.squeeze())\n",
    "f, ax = plt.subplots(1, 1, figsize=(16, 9))\n",
    "ax.plot(decomposed_x[sorted_x], train_y[sorted_x], \"k*\", label=\"Observed data points\")\n",
    "with torch.no_grad():\n",
    "    observed_posterior = node_model.posterior(X=train_x)\n",
    "    predicted_mean = observed_posterior.mean.squeeze()\n",
    "    std = torch.sqrt(observed_posterior.variance.squeeze()) * 2\n",
    "    lower, upper = predicted_mean - std, predicted_mean + std\n",
    "    lower, upper = lower.squeeze().cpu().numpy(), upper.squeeze().cpu().numpy()\n",
    "\n",
    "ax.plot(decomposed_x[sorted_x], predicted_mean[sorted_x], color=\"r\", label=\"Model fit\")\n",
    "ax.fill_between(decomposed_x[sorted_x].squeeze(), y1=lower[sorted_x], y2=upper[sorted_x], alpha=0.5, label=\"CI\")\n",
    "\n",
    "compressed_candidates = pca.transform(candidates)\n",
    "ax.axvline(x=compressed_candidates, label=\"ACQF Chosen point\", color=\"g\")\n",
    "\n",
    "ax.set(xlabel=\"Compressed X\", ylabel=\"System objective\", title=\"Observed data\")\n",
    "ax.legend()"
   ],
   "metadata": {
    "collapsed": false,
    "pycharm": {
     "name": "#%%\n"
    }
   },
   "outputs": []
  },
  {
   "cell_type": "code",
   "execution_count": 559,
   "source": [
    "acqf.forward(torch.tensor([[0.4820, 0.5089, 0.5125, 0.5475, 0.4980, 0.4795]]).unsqueeze(0))"
   ],
   "metadata": {
    "collapsed": false,
    "pycharm": {
     "name": "#%%\n"
    }
   },
   "outputs": []
  },
  {
   "cell_type": "markdown",
   "source": [
    "# Probabilistic DAG prediction\n",
    "\n",
    "[ ] Pass a static graph, create probabilistic DAG\n",
    "[ ] Show prediction plot for each node in the graph\n",
    "[ ] Show RMSE of each node in the graph, then RMSE of the main graph"
   ],
   "metadata": {
    "collapsed": false,
    "pycharm": {
     "name": "#%% md\n"
    }
   }
  },
  {
   "cell_type": "code",
   "execution_count": 342,
   "source": [
    "# TODO: Given a full graph, create the BoGraph Probabilistic DAG"
   ],
   "metadata": {
    "collapsed": false,
    "pycharm": {
     "name": "#%%\n"
    }
   },
   "outputs": []
  },
  {
   "cell_type": "markdown",
   "source": [
    "# BOGraph Full loop\n",
    "\n",
    "[ ] Pass in the dataset (pandas) and create BoGraph full loop"
   ],
   "metadata": {
    "collapsed": false,
    "pycharm": {
     "name": "#%% md\n"
    }
   }
  },
  {
   "cell_type": "code",
   "execution_count": 342,
   "source": [],
   "metadata": {
    "collapsed": false,
    "pycharm": {
     "name": "#%%\n"
    }
   },
   "outputs": []
  }
 ],
 "metadata": {
  "kernelspec": {
   "display_name": "Python 3",
   "language": "python",
   "name": "python3"
  },
  "language_info": {
   "codemirror_mode": {
    "name": "ipython",
    "version": 2
   },
   "file_extension": ".py",
   "mimetype": "text/x-python",
   "name": "python",
   "nbconvert_exporter": "python",
   "pygments_lexer": "ipython2",
   "version": "2.7.6"
  }
 },
 "nbformat": 4,
 "nbformat_minor": 0
}
