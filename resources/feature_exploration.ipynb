{
 "cells": [
  {
   "cell_type": "code",
   "execution_count": 1,
   "metadata": {
    "collapsed": true
   },
   "outputs": [],
   "source": [
    "%matplotlib inline\n",
    "%load_ext autoreload\n",
    "%autoreload 2"
   ]
  },
  {
   "cell_type": "code",
   "execution_count": 2,
   "outputs": [],
   "source": [
    "from sklearn.datasets import load_boston\n",
    "import pandas as pd\n",
    "import numpy as np\n",
    "import matplotlib\n",
    "import matplotlib.pyplot as plt\n",
    "import seaborn as sns\n",
    "import statsmodels.api as sm\n",
    "%matplotlib inline"
   ],
   "metadata": {
    "collapsed": false,
    "pycharm": {
     "name": "#%%\n"
    }
   }
  },
  {
   "cell_type": "code",
   "execution_count": 3,
   "outputs": [],
   "source": [
    "sns.set_context('notebook')\n",
    "sns.set_style('darkgrid')"
   ],
   "metadata": {
    "collapsed": false,
    "pycharm": {
     "name": "#%%\n"
    }
   }
  },
  {
   "cell_type": "code",
   "execution_count": 4,
   "outputs": [],
   "source": [
    "dataset_x = pd.read_csv(\"params.csv\", index_col = 0)\n",
    "dataset_y = pd.read_csv(\"slo.csv\", index_col = 0)\n",
    "all_dataset = pd.concat([dataset_x, dataset_y],axis=1)\n",
    "dataset_x['iops'] = dataset_y['mixgraph_iops']"
   ],
   "metadata": {
    "collapsed": false,
    "pycharm": {
     "name": "#%%\n"
    }
   }
  },
  {
   "cell_type": "code",
   "execution_count": 5,
   "outputs": [
    {
     "data": {
      "text/plain": "     max_background_compactions  max_background_flushes  write_buffer_size  \\\n164                         120                       4          130000000   \n58                          256                      10          130000000   \n2                           256                      10          130000000   \n0                           256                      10          130000000   \n84                          256                      10          130000000   \n11                          256                      10          130000000   \n41                          256                      10          130000000   \n4                           256                      10          130000000   \n94                          256                      10          130000000   \n33                          256                      10          130000000   \n\n     max_write_buffer_number  min_write_buffer_number_to_merge  \\\n164                       46                                 2   \n58                        11                                 2   \n2                         10                                 2   \n0                         11                                 2   \n84                        11                                 2   \n11                        11                                 2   \n41                        15                                 2   \n4                         11                                 2   \n94                        11                                 2   \n33                        11                                 2   \n\n     max_bytes_for_level_multiplier  block_size  \\\n164                        9.792984      318021   \n58                        15.000000       29730   \n2                         15.000000       36665   \n0                         15.000000       29548   \n84                        15.000000       29983   \n11                        15.000000       30850   \n41                        15.000000       48954   \n4                         15.000000       30630   \n94                        15.000000       30751   \n33                        15.000000       32937   \n\n     level0_file_num_compaction_trigger  level0_slowdown_writes_trigger  \\\n164                                  99                             920   \n58                                  229                               1   \n2                                   230                               1   \n0                                   229                               1   \n84                                  229                               1   \n11                                  229                               1   \n41                                  225                              66   \n4                                   229                               1   \n94                                  229                               1   \n33                                  229                               1   \n\n     level0_stop_writes_trigger      iops  \n164                        1024  108348.0  \n58                          718  108337.0  \n2                           664  108335.0  \n0                           717  108323.0  \n84                          718  108319.0  \n11                          715  108229.0  \n41                          670  108204.0  \n4                           716  108185.0  \n94                          713  108176.0  \n33                          688  108171.0  ",
      "text/html": "<div>\n<style scoped>\n    .dataframe tbody tr th:only-of-type {\n        vertical-align: middle;\n    }\n\n    .dataframe tbody tr th {\n        vertical-align: top;\n    }\n\n    .dataframe thead th {\n        text-align: right;\n    }\n</style>\n<table border=\"1\" class=\"dataframe\">\n  <thead>\n    <tr style=\"text-align: right;\">\n      <th></th>\n      <th>max_background_compactions</th>\n      <th>max_background_flushes</th>\n      <th>write_buffer_size</th>\n      <th>max_write_buffer_number</th>\n      <th>min_write_buffer_number_to_merge</th>\n      <th>max_bytes_for_level_multiplier</th>\n      <th>block_size</th>\n      <th>level0_file_num_compaction_trigger</th>\n      <th>level0_slowdown_writes_trigger</th>\n      <th>level0_stop_writes_trigger</th>\n      <th>iops</th>\n    </tr>\n  </thead>\n  <tbody>\n    <tr>\n      <th>164</th>\n      <td>120</td>\n      <td>4</td>\n      <td>130000000</td>\n      <td>46</td>\n      <td>2</td>\n      <td>9.792984</td>\n      <td>318021</td>\n      <td>99</td>\n      <td>920</td>\n      <td>1024</td>\n      <td>108348.0</td>\n    </tr>\n    <tr>\n      <th>58</th>\n      <td>256</td>\n      <td>10</td>\n      <td>130000000</td>\n      <td>11</td>\n      <td>2</td>\n      <td>15.000000</td>\n      <td>29730</td>\n      <td>229</td>\n      <td>1</td>\n      <td>718</td>\n      <td>108337.0</td>\n    </tr>\n    <tr>\n      <th>2</th>\n      <td>256</td>\n      <td>10</td>\n      <td>130000000</td>\n      <td>10</td>\n      <td>2</td>\n      <td>15.000000</td>\n      <td>36665</td>\n      <td>230</td>\n      <td>1</td>\n      <td>664</td>\n      <td>108335.0</td>\n    </tr>\n    <tr>\n      <th>0</th>\n      <td>256</td>\n      <td>10</td>\n      <td>130000000</td>\n      <td>11</td>\n      <td>2</td>\n      <td>15.000000</td>\n      <td>29548</td>\n      <td>229</td>\n      <td>1</td>\n      <td>717</td>\n      <td>108323.0</td>\n    </tr>\n    <tr>\n      <th>84</th>\n      <td>256</td>\n      <td>10</td>\n      <td>130000000</td>\n      <td>11</td>\n      <td>2</td>\n      <td>15.000000</td>\n      <td>29983</td>\n      <td>229</td>\n      <td>1</td>\n      <td>718</td>\n      <td>108319.0</td>\n    </tr>\n    <tr>\n      <th>11</th>\n      <td>256</td>\n      <td>10</td>\n      <td>130000000</td>\n      <td>11</td>\n      <td>2</td>\n      <td>15.000000</td>\n      <td>30850</td>\n      <td>229</td>\n      <td>1</td>\n      <td>715</td>\n      <td>108229.0</td>\n    </tr>\n    <tr>\n      <th>41</th>\n      <td>256</td>\n      <td>10</td>\n      <td>130000000</td>\n      <td>15</td>\n      <td>2</td>\n      <td>15.000000</td>\n      <td>48954</td>\n      <td>225</td>\n      <td>66</td>\n      <td>670</td>\n      <td>108204.0</td>\n    </tr>\n    <tr>\n      <th>4</th>\n      <td>256</td>\n      <td>10</td>\n      <td>130000000</td>\n      <td>11</td>\n      <td>2</td>\n      <td>15.000000</td>\n      <td>30630</td>\n      <td>229</td>\n      <td>1</td>\n      <td>716</td>\n      <td>108185.0</td>\n    </tr>\n    <tr>\n      <th>94</th>\n      <td>256</td>\n      <td>10</td>\n      <td>130000000</td>\n      <td>11</td>\n      <td>2</td>\n      <td>15.000000</td>\n      <td>30751</td>\n      <td>229</td>\n      <td>1</td>\n      <td>713</td>\n      <td>108176.0</td>\n    </tr>\n    <tr>\n      <th>33</th>\n      <td>256</td>\n      <td>10</td>\n      <td>130000000</td>\n      <td>11</td>\n      <td>2</td>\n      <td>15.000000</td>\n      <td>32937</td>\n      <td>229</td>\n      <td>1</td>\n      <td>688</td>\n      <td>108171.0</td>\n    </tr>\n  </tbody>\n</table>\n</div>"
     },
     "execution_count": 5,
     "metadata": {},
     "output_type": "execute_result"
    }
   ],
   "source": [
    "dataset_x.sort_values(by='iops',ascending = False).head(10)"
   ],
   "metadata": {
    "collapsed": false,
    "pycharm": {
     "name": "#%%\n"
    }
   }
  },
  {
   "cell_type": "code",
   "execution_count": null,
   "outputs": [],
   "source": [
    "feature_corr = all_dataset.corr()\n",
    "cor_target = abs(feature_corr[\"mixgraph_iops\"])#Selecting highly correlated features\n",
    "mixgraph_iops_corr = cor_target[cor_target>0.5]"
   ],
   "metadata": {
    "collapsed": false,
    "pycharm": {
     "name": "#%%\n"
    }
   }
  },
  {
   "cell_type": "code",
   "execution_count": 7,
   "outputs": [],
   "source": [
    "def list_relevant_to_iops(features: list[str]) -> list[str]:\n",
    "    \"\"\" Return a list of features from input features that are relevant to iops \"\"\"\n",
    "    result = []\n",
    "    for f in features:\n",
    "        if f in mixgraph_iops_corr:\n",
    "            result.append(f)\n",
    "    return result"
   ],
   "metadata": {
    "collapsed": false,
    "pycharm": {
     "name": "#%%\n"
    }
   }
  },
  {
   "cell_type": "code",
   "execution_count": 42,
   "outputs": [
    {
     "data": {
      "text/plain": "Index(['write_buffer_size', 'mem_p99', 'mixgraph_latency', 'mixgraph_iops',\n       'mixgraph_io_size', 'rocksdb_memtable_miss_count',\n       'rocksdb_number_keys_written_count', 'rocksdb_number_keys_read_count',\n       'rocksdb_bytes_written_count', 'rocksdb_number_db_seek_count',\n       'rocksdb_number_db_next_count', 'rocksdb_number_db_seek_found_count',\n       'rocksdb_number_db_next_found_count',\n       'rocksdb_db_iter_bytes_read_count', 'rocksdb_wal_bytes_count',\n       'rocksdb_write_self_count', 'rocksdb_write_wal_count',\n       'rocksdb_number_iter_skip_count', 'rocksdb_num_iterator_created_count',\n       'rocksdb_num_iterator_deleted_count', 'rocksdb_db_get_micros_p50',\n       'rocksdb_db_get_micros_count', 'rocksdb_db_get_micros_sum',\n       'rocksdb_db_write_micros_p50', 'rocksdb_db_write_micros_count',\n       'rocksdb_db_write_micros_sum', 'rocksdb_db_seek_micros_p50',\n       'rocksdb_db_seek_micros_count', 'rocksdb_db_seek_micros_sum',\n       'rocksdb_bytes_per_read_count', 'rocksdb_bytes_per_write_p50',\n       'rocksdb_bytes_per_write_p95', 'rocksdb_bytes_per_write_count',\n       'rocksdb_bytes_per_write_sum', 'level_0_write_gb', 'level_0_wnew_gb',\n       'level_0_avg_sec', 'FileReadStatsLevel1_min', 'FileReadStatsLevel1_p75',\n       'level_1_out_files', 'level_1_size_mb', 'level_1_score',\n       'level_1_rn_gb', 'level_1_wnew_gb', 'level_1_key_drop'],\n      dtype='object')"
     },
     "execution_count": 42,
     "metadata": {},
     "output_type": "execute_result"
    }
   ],
   "source": [
    "def param_to_all_relevant_features_with_impact(param: str) -> list[str]:\n",
    "    feature_corr = all_dataset.corr()\n",
    "    cor_target = abs(feature_corr[param])#Selecting highly correlated features\n",
    "    relevant_features = cor_target[cor_target>0.5]\n",
    "    return relevant_features.keys() #list_relevant_to_iops(relevant_features.keys().tolist())\n",
    "\n",
    "investigate_var = \"rocksdb_bytes_per_read_count\"\n",
    "param_to_all_relevant_features_with_impact(investigate_var)\n"
   ],
   "metadata": {
    "collapsed": false,
    "pycharm": {
     "name": "#%%\n"
    }
   }
  },
  {
   "cell_type": "code",
   "execution_count": 30,
   "outputs": [
    {
     "data": {
      "text/plain": "     cpu_p99   mem_p99    exe_time  mixgraph_latency  mixgraph_iops  \\\n272   35.444  0.224998  300.317647           249.502         4007.0   \n127   37.946  0.209712  310.297828           227.875         4388.0   \n472  100.100  0.065867  310.254411           167.532         5969.0   \n272  100.213  0.057164  310.250481           166.881         5992.0   \n118  100.100  0.063746  300.320248           164.949         6062.0   \n..       ...       ...         ...               ...            ...   \n84   116.113  0.423190  310.323385             9.232       108319.0   \n0    111.602  0.421175  310.326910             9.232       108323.0   \n2    109.576  0.415191  300.318501             9.231       108335.0   \n164  105.536  0.413314  300.313284             9.229       108348.0   \n58   111.690  0.416120  310.322650             9.230       108337.0   \n\n     mixgraph_io_size  FileReadStatsLevel0_level  FileReadStatsLevel0_count  \\\n272               2.9                        0.0                    11048.0   \n127               3.2                        0.0                    14136.0   \n472               4.5                        0.0                      869.0   \n272               4.5                        0.0                      873.0   \n118               4.6                        0.0                      880.0   \n..                ...                        ...                        ...   \n84              100.5                        0.0                     5459.0   \n0               100.5                        0.0                     5587.0   \n2               100.5                        0.0                     7466.0   \n164             100.5                        0.0                     2697.0   \n58              100.5                        0.0                     7143.0   \n\n     FileReadStatsLevel0_average  FileReadStatsLevel0_stddev  ...  \\\n272                     786.7051                      386.00  ...   \n127                     824.6251                      405.06  ...   \n472                    1141.7595                      265.99  ...   \n272                    1215.8786                      356.61  ...   \n118                    1066.4852                      321.00  ...   \n..                           ...                         ...  ...   \n84                     1006.7848                      284.40  ...   \n0                       920.8135                      285.78  ...   \n2                       989.3378                      270.72  ...   \n164                    1670.1683                      341.89  ...   \n58                      986.2278                      283.27  ...   \n\n     level_1_moved_gb  level_1_w_amp  level_1_rd_mb_per_s  \\\n272               0.0            6.5                 14.6   \n127               0.0            6.0                 14.7   \n472               0.0            1.0                 23.1   \n272               0.0            1.0                 23.8   \n118               0.0            1.0                 19.5   \n..                ...            ...                  ...   \n84                NaN            NaN                  NaN   \n0                 NaN            NaN                  NaN   \n2                 NaN            NaN                  NaN   \n164               NaN            NaN                  NaN   \n58                NaN            NaN                  NaN   \n\n     level_1_wr_mb_per_s  level_1_comp_sec  level_1_comp_merge_cpu_sec  \\\n272                 14.6              4.86                        3.95   \n127                 14.7              4.97                        3.89   \n472                 23.3              0.23                        0.12   \n272                 24.1              0.23                        0.12   \n118                 19.7              0.26                        0.15   \n..                   ...               ...                         ...   \n84                   NaN               NaN                         NaN   \n0                    NaN               NaN                         NaN   \n2                    NaN               NaN                         NaN   \n164                  NaN               NaN                         NaN   \n58                   NaN               NaN                         NaN   \n\n     level_1_comp_cnt  level_1_avg_sec  level_1_key_in  level_1_key_drop  \n272              10.0            0.486           0.934            1657.0  \n127               9.0            0.553           0.962            2045.0  \n472               1.0            0.233           0.148            1572.0  \n272               1.0            0.226           0.148            1574.0  \n118               1.0            0.258           0.138            1371.0  \n..                ...              ...             ...               ...  \n84                NaN              NaN             NaN               NaN  \n0                 NaN              NaN             NaN               NaN  \n2                 NaN              NaN             NaN               NaN  \n164               NaN              NaN             NaN               NaN  \n58                NaN              NaN             NaN               NaN  \n\n[2400 rows x 566 columns]",
      "text/html": "<div>\n<style scoped>\n    .dataframe tbody tr th:only-of-type {\n        vertical-align: middle;\n    }\n\n    .dataframe tbody tr th {\n        vertical-align: top;\n    }\n\n    .dataframe thead th {\n        text-align: right;\n    }\n</style>\n<table border=\"1\" class=\"dataframe\">\n  <thead>\n    <tr style=\"text-align: right;\">\n      <th></th>\n      <th>cpu_p99</th>\n      <th>mem_p99</th>\n      <th>exe_time</th>\n      <th>mixgraph_latency</th>\n      <th>mixgraph_iops</th>\n      <th>mixgraph_io_size</th>\n      <th>FileReadStatsLevel0_level</th>\n      <th>FileReadStatsLevel0_count</th>\n      <th>FileReadStatsLevel0_average</th>\n      <th>FileReadStatsLevel0_stddev</th>\n      <th>...</th>\n      <th>level_1_moved_gb</th>\n      <th>level_1_w_amp</th>\n      <th>level_1_rd_mb_per_s</th>\n      <th>level_1_wr_mb_per_s</th>\n      <th>level_1_comp_sec</th>\n      <th>level_1_comp_merge_cpu_sec</th>\n      <th>level_1_comp_cnt</th>\n      <th>level_1_avg_sec</th>\n      <th>level_1_key_in</th>\n      <th>level_1_key_drop</th>\n    </tr>\n  </thead>\n  <tbody>\n    <tr>\n      <th>272</th>\n      <td>35.444</td>\n      <td>0.224998</td>\n      <td>300.317647</td>\n      <td>249.502</td>\n      <td>4007.0</td>\n      <td>2.9</td>\n      <td>0.0</td>\n      <td>11048.0</td>\n      <td>786.7051</td>\n      <td>386.00</td>\n      <td>...</td>\n      <td>0.0</td>\n      <td>6.5</td>\n      <td>14.6</td>\n      <td>14.6</td>\n      <td>4.86</td>\n      <td>3.95</td>\n      <td>10.0</td>\n      <td>0.486</td>\n      <td>0.934</td>\n      <td>1657.0</td>\n    </tr>\n    <tr>\n      <th>127</th>\n      <td>37.946</td>\n      <td>0.209712</td>\n      <td>310.297828</td>\n      <td>227.875</td>\n      <td>4388.0</td>\n      <td>3.2</td>\n      <td>0.0</td>\n      <td>14136.0</td>\n      <td>824.6251</td>\n      <td>405.06</td>\n      <td>...</td>\n      <td>0.0</td>\n      <td>6.0</td>\n      <td>14.7</td>\n      <td>14.7</td>\n      <td>4.97</td>\n      <td>3.89</td>\n      <td>9.0</td>\n      <td>0.553</td>\n      <td>0.962</td>\n      <td>2045.0</td>\n    </tr>\n    <tr>\n      <th>472</th>\n      <td>100.100</td>\n      <td>0.065867</td>\n      <td>310.254411</td>\n      <td>167.532</td>\n      <td>5969.0</td>\n      <td>4.5</td>\n      <td>0.0</td>\n      <td>869.0</td>\n      <td>1141.7595</td>\n      <td>265.99</td>\n      <td>...</td>\n      <td>0.0</td>\n      <td>1.0</td>\n      <td>23.1</td>\n      <td>23.3</td>\n      <td>0.23</td>\n      <td>0.12</td>\n      <td>1.0</td>\n      <td>0.233</td>\n      <td>0.148</td>\n      <td>1572.0</td>\n    </tr>\n    <tr>\n      <th>272</th>\n      <td>100.213</td>\n      <td>0.057164</td>\n      <td>310.250481</td>\n      <td>166.881</td>\n      <td>5992.0</td>\n      <td>4.5</td>\n      <td>0.0</td>\n      <td>873.0</td>\n      <td>1215.8786</td>\n      <td>356.61</td>\n      <td>...</td>\n      <td>0.0</td>\n      <td>1.0</td>\n      <td>23.8</td>\n      <td>24.1</td>\n      <td>0.23</td>\n      <td>0.12</td>\n      <td>1.0</td>\n      <td>0.226</td>\n      <td>0.148</td>\n      <td>1574.0</td>\n    </tr>\n    <tr>\n      <th>118</th>\n      <td>100.100</td>\n      <td>0.063746</td>\n      <td>300.320248</td>\n      <td>164.949</td>\n      <td>6062.0</td>\n      <td>4.6</td>\n      <td>0.0</td>\n      <td>880.0</td>\n      <td>1066.4852</td>\n      <td>321.00</td>\n      <td>...</td>\n      <td>0.0</td>\n      <td>1.0</td>\n      <td>19.5</td>\n      <td>19.7</td>\n      <td>0.26</td>\n      <td>0.15</td>\n      <td>1.0</td>\n      <td>0.258</td>\n      <td>0.138</td>\n      <td>1371.0</td>\n    </tr>\n    <tr>\n      <th>...</th>\n      <td>...</td>\n      <td>...</td>\n      <td>...</td>\n      <td>...</td>\n      <td>...</td>\n      <td>...</td>\n      <td>...</td>\n      <td>...</td>\n      <td>...</td>\n      <td>...</td>\n      <td>...</td>\n      <td>...</td>\n      <td>...</td>\n      <td>...</td>\n      <td>...</td>\n      <td>...</td>\n      <td>...</td>\n      <td>...</td>\n      <td>...</td>\n      <td>...</td>\n      <td>...</td>\n    </tr>\n    <tr>\n      <th>84</th>\n      <td>116.113</td>\n      <td>0.423190</td>\n      <td>310.323385</td>\n      <td>9.232</td>\n      <td>108319.0</td>\n      <td>100.5</td>\n      <td>0.0</td>\n      <td>5459.0</td>\n      <td>1006.7848</td>\n      <td>284.40</td>\n      <td>...</td>\n      <td>NaN</td>\n      <td>NaN</td>\n      <td>NaN</td>\n      <td>NaN</td>\n      <td>NaN</td>\n      <td>NaN</td>\n      <td>NaN</td>\n      <td>NaN</td>\n      <td>NaN</td>\n      <td>NaN</td>\n    </tr>\n    <tr>\n      <th>0</th>\n      <td>111.602</td>\n      <td>0.421175</td>\n      <td>310.326910</td>\n      <td>9.232</td>\n      <td>108323.0</td>\n      <td>100.5</td>\n      <td>0.0</td>\n      <td>5587.0</td>\n      <td>920.8135</td>\n      <td>285.78</td>\n      <td>...</td>\n      <td>NaN</td>\n      <td>NaN</td>\n      <td>NaN</td>\n      <td>NaN</td>\n      <td>NaN</td>\n      <td>NaN</td>\n      <td>NaN</td>\n      <td>NaN</td>\n      <td>NaN</td>\n      <td>NaN</td>\n    </tr>\n    <tr>\n      <th>2</th>\n      <td>109.576</td>\n      <td>0.415191</td>\n      <td>300.318501</td>\n      <td>9.231</td>\n      <td>108335.0</td>\n      <td>100.5</td>\n      <td>0.0</td>\n      <td>7466.0</td>\n      <td>989.3378</td>\n      <td>270.72</td>\n      <td>...</td>\n      <td>NaN</td>\n      <td>NaN</td>\n      <td>NaN</td>\n      <td>NaN</td>\n      <td>NaN</td>\n      <td>NaN</td>\n      <td>NaN</td>\n      <td>NaN</td>\n      <td>NaN</td>\n      <td>NaN</td>\n    </tr>\n    <tr>\n      <th>164</th>\n      <td>105.536</td>\n      <td>0.413314</td>\n      <td>300.313284</td>\n      <td>9.229</td>\n      <td>108348.0</td>\n      <td>100.5</td>\n      <td>0.0</td>\n      <td>2697.0</td>\n      <td>1670.1683</td>\n      <td>341.89</td>\n      <td>...</td>\n      <td>NaN</td>\n      <td>NaN</td>\n      <td>NaN</td>\n      <td>NaN</td>\n      <td>NaN</td>\n      <td>NaN</td>\n      <td>NaN</td>\n      <td>NaN</td>\n      <td>NaN</td>\n      <td>NaN</td>\n    </tr>\n    <tr>\n      <th>58</th>\n      <td>111.690</td>\n      <td>0.416120</td>\n      <td>310.322650</td>\n      <td>9.230</td>\n      <td>108337.0</td>\n      <td>100.5</td>\n      <td>0.0</td>\n      <td>7143.0</td>\n      <td>986.2278</td>\n      <td>283.27</td>\n      <td>...</td>\n      <td>NaN</td>\n      <td>NaN</td>\n      <td>NaN</td>\n      <td>NaN</td>\n      <td>NaN</td>\n      <td>NaN</td>\n      <td>NaN</td>\n      <td>NaN</td>\n      <td>NaN</td>\n      <td>NaN</td>\n    </tr>\n  </tbody>\n</table>\n<p>2400 rows × 566 columns</p>\n</div>"
     },
     "execution_count": 30,
     "metadata": {},
     "output_type": "execute_result"
    }
   ],
   "source": [
    "dataset_y.sort_values(by='rocksdb_bytes_per_read_count')"
   ],
   "metadata": {
    "collapsed": false,
    "pycharm": {
     "name": "#%%\n"
    }
   }
  },
  {
   "cell_type": "code",
   "execution_count": 56,
   "outputs": [
    {
     "data": {
      "text/plain": "tensor([[-0.0000,  0.2024,  0.0000,  0.0000, -0.0000,  1.6478,  0.0000, -0.0000,\n          0.0000,  0.0000],\n        [-0.0000,  1.6429, -0.0000, -0.0000, -0.0000, -1.6431, -0.0000, -0.0000,\n          0.0000, -0.0000],\n        [ 0.0000,  0.3813, -0.0000, -0.0000,  0.0000, -0.4932,  0.0000, -0.0000,\n          0.0000,  0.0000],\n        [-0.0000, -0.2194, -0.0000, -0.0000,  0.0000,  1.0457,  0.0000,  0.0000,\n          0.0000, -0.0000],\n        [-0.0000, -1.5892, -0.0000, -0.0000,  0.0000,  0.3837, -0.0000, -0.0000,\n          0.0000, -0.0000]])"
     },
     "execution_count": 56,
     "metadata": {},
     "output_type": "execute_result"
    }
   ],
   "source": [
    "import torch\n",
    "\n",
    "vals = torch.randn((5, 10))\n",
    "mask = torch.zeros_like(vals)\n",
    "\n",
    "vals * (mask + torch.tensor([0,1,0,0,0,1,0,0,0,0]).reshape(1,-1))\n",
    "# dataset_y['rocksdb_read_block_get_micros_p99']"
   ],
   "metadata": {
    "collapsed": false,
    "pycharm": {
     "name": "#%%\n"
    }
   }
  }
 ],
 "metadata": {
  "kernelspec": {
   "display_name": "Python 3",
   "language": "python",
   "name": "python3"
  },
  "language_info": {
   "codemirror_mode": {
    "name": "ipython",
    "version": 2
   },
   "file_extension": ".py",
   "mimetype": "text/x-python",
   "name": "python",
   "nbconvert_exporter": "python",
   "pygments_lexer": "ipython2",
   "version": "2.7.6"
  }
 },
 "nbformat": 4,
 "nbformat_minor": 0
}