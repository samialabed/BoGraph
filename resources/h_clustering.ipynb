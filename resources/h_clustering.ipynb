{
 "cells": [
  {
   "cell_type": "code",
   "execution_count": 1,
   "metadata": {
    "collapsed": true
   },
   "outputs": [],
   "source": [
    "\n",
    "%matplotlib inline\n",
    "%load_ext autoreload\n",
    "%autoreload 2"
   ]
  },
  {
   "cell_type": "code",
   "execution_count": 3,
   "outputs": [],
   "source": [
    "from sklearn.datasets import load_boston\n",
    "import pandas as pd\n",
    "import numpy as np\n",
    "import matplotlib\n",
    "import matplotlib.pyplot as plt\n",
    "import seaborn as sns\n",
    "import statsmodels.api as sm\n",
    "import scipy.cluster.hierarchy as sch"
   ],
   "metadata": {
    "collapsed": false,
    "pycharm": {
     "name": "#%%\n"
    }
   }
  },
  {
   "cell_type": "code",
   "execution_count": 221,
   "outputs": [],
   "source": [
    "from pathlib import Path\n",
    "sns.set_context('notebook')\n",
    "sns.set_style('darkgrid')\n",
    "paper_path = Path(\"/home/salabed/workspace/latex/eurosys-2021/figs\")\n",
    "\n",
    "\n",
    "dataset_x = pd.read_csv(\"params_all.csv\", index_col = 0)\n",
    "dataset_y = pd.read_csv(\"slo_all.csv\", index_col = 0).fillna(0)"
   ],
   "metadata": {
    "collapsed": false,
    "pycharm": {
     "name": "#%%\n"
    }
   }
  },
  {
   "cell_type": "code",
   "execution_count": 49,
   "outputs": [],
   "source": [
    "dataset_x_w_target = dataset_x.copy()\n",
    "dataset_x_w_target = pd.concat([dataset_x_w_target, dataset_y[['mixgraph_iops',\n",
    "                                        'rocksdb_bytes_per_read_count',\n",
    "                                        'rocksdb_read_block_get_micros_p99',\n",
    "                                        'FileReadStatsLevel1_p99'\n",
    "                                        ]]\n",
    "                               ], axis=1\n",
    "                               )"
   ],
   "metadata": {
    "collapsed": false,
    "pycharm": {
     "name": "#%%\n"
    }
   }
  },
  {
   "cell_type": "code",
   "execution_count": 51,
   "outputs": [
    {
     "data": {
      "text/plain": "max_background_compactions            0.166573\nmax_background_flushes                0.168114\nwrite_buffer_size                     0.919303\nmax_write_buffer_number               0.221628\nmin_write_buffer_number_to_merge      0.128936\nmax_bytes_for_level_multiplier        0.157850\nblock_size                            0.050316\nlevel0_file_num_compaction_trigger    0.138635\nlevel0_slowdown_writes_trigger        0.082847\nlevel0_stop_writes_trigger            0.101703\nmixgraph_iops                         1.000000\nrocksdb_bytes_per_read_count          1.000000\nrocksdb_read_block_get_micros_p99    -0.434052\nFileReadStatsLevel1_p99              -0.412893\nName: mixgraph_iops, dtype: float64"
     },
     "execution_count": 51,
     "metadata": {},
     "output_type": "execute_result"
    }
   ],
   "source": [
    "dataset_x_w_target.corr()['mixgraph_iops']"
   ],
   "metadata": {
    "collapsed": false,
    "pycharm": {
     "name": "#%%\n"
    }
   }
  },
  {
   "cell_type": "code",
   "execution_count": 222,
   "outputs": [],
   "source": [
    "correlations = dataset_y.corr()\n",
    "iops_corr = abs(correlations['mixgraph_iops'])\n",
    "highly_relv_features = iops_corr[iops_corr>0.5].keys().tolist()"
   ],
   "metadata": {
    "collapsed": false,
    "pycharm": {
     "name": "#%%\n"
    }
   }
  },
  {
   "cell_type": "code",
   "execution_count": 223,
   "outputs": [],
   "source": [
    "dataset_x_w_target = dataset_x.copy()\n",
    "dataset_x_w_target = pd.concat([\n",
    "    dataset_x_w_target,\n",
    "    dataset_y[highly_relv_features]\n",
    "    ], axis=1\n",
    ")\n",
    "results_corr =  dataset_x_w_target.corr()"
   ],
   "metadata": {
    "collapsed": false,
    "pycharm": {
     "name": "#%%\n"
    }
   }
  },
  {
   "cell_type": "code",
   "execution_count": 224,
   "outputs": [],
   "source": [
    "rocksdb_params = dataset_x.columns.tolist()\n",
    "\n",
    "relevant_map = {}\n",
    "for param in rocksdb_params:\n",
    "    param_corr = abs(results_corr[param])\n",
    "    relevant_map[param] = param_corr[param_corr > 0.5].keys().tolist()"
   ],
   "metadata": {
    "collapsed": false,
    "pycharm": {
     "name": "#%%\n"
    }
   }
  },
  {
   "cell_type": "code",
   "execution_count": 225,
   "outputs": [
    {
     "name": "stdout",
     "output_type": "stream",
     "text": [
      "[('max_background_compactions', 1), ('max_background_flushes', 1), ('write_buffer_size', 1), ('mem_p99', 1), ('mixgraph_latency', 1), ('mixgraph_iops', 1), ('mixgraph_io_size', 1), ('rocksdb_memtable_miss_count', 1), ('rocksdb_number_keys_written_count', 1), ('rocksdb_number_keys_read_count', 1)]\n"
     ]
    },
    {
     "data": {
      "text/plain": "defaultdict(list,\n            {'max_background_compactions': ['max_background_compactions'],\n             'max_background_flushes': ['max_background_flushes'],\n             'write_buffer_size': ['write_buffer_size'],\n             'mem_p99': ['write_buffer_size'],\n             'mixgraph_latency': ['write_buffer_size'],\n             'mixgraph_iops': ['write_buffer_size'],\n             'mixgraph_io_size': ['write_buffer_size'],\n             'rocksdb_memtable_miss_count': ['write_buffer_size'],\n             'rocksdb_number_keys_written_count': ['write_buffer_size'],\n             'rocksdb_number_keys_read_count': ['write_buffer_size'],\n             'rocksdb_bytes_written_count': ['write_buffer_size'],\n             'rocksdb_number_db_seek_count': ['write_buffer_size'],\n             'rocksdb_number_db_next_count': ['write_buffer_size'],\n             'rocksdb_number_db_seek_found_count': ['write_buffer_size'],\n             'rocksdb_number_db_next_found_count': ['write_buffer_size'],\n             'rocksdb_db_iter_bytes_read_count': ['write_buffer_size'],\n             'rocksdb_wal_bytes_count': ['write_buffer_size'],\n             'rocksdb_write_self_count': ['write_buffer_size'],\n             'rocksdb_write_wal_count': ['write_buffer_size'],\n             'rocksdb_number_iter_skip_count': ['write_buffer_size'],\n             'rocksdb_num_iterator_created_count': ['write_buffer_size'],\n             'rocksdb_num_iterator_deleted_count': ['write_buffer_size'],\n             'rocksdb_db_get_micros_p50': ['write_buffer_size'],\n             'rocksdb_db_get_micros_count': ['write_buffer_size'],\n             'rocksdb_db_get_micros_sum': ['write_buffer_size'],\n             'rocksdb_db_write_micros_p50': ['write_buffer_size'],\n             'rocksdb_db_write_micros_count': ['write_buffer_size'],\n             'rocksdb_db_write_micros_sum': ['write_buffer_size'],\n             'rocksdb_db_seek_micros_p50': ['write_buffer_size'],\n             'rocksdb_db_seek_micros_count': ['write_buffer_size'],\n             'rocksdb_bytes_per_read_count': ['write_buffer_size'],\n             'rocksdb_bytes_per_write_p50': ['write_buffer_size'],\n             'rocksdb_bytes_per_write_p95': ['write_buffer_size'],\n             'rocksdb_bytes_per_write_count': ['write_buffer_size'],\n             'rocksdb_bytes_per_write_sum': ['write_buffer_size'],\n             'max_write_buffer_number': ['max_write_buffer_number'],\n             'min_write_buffer_number_to_merge': ['min_write_buffer_number_to_merge'],\n             'max_bytes_for_level_multiplier': ['max_bytes_for_level_multiplier'],\n             'block_size': ['block_size'],\n             'level0_file_num_compaction_trigger': ['level0_file_num_compaction_trigger'],\n             'level0_slowdown_writes_trigger': ['level0_slowdown_writes_trigger'],\n             'level0_stop_writes_trigger': ['level0_stop_writes_trigger']})"
     },
     "execution_count": 225,
     "metadata": {},
     "output_type": "execute_result"
    }
   ],
   "source": [
    "from collections import Counter, defaultdict\n",
    "\n",
    "d = defaultdict(int)\n",
    "seen = defaultdict(list)\n",
    "for k, values in relevant_map.items():\n",
    "    for v in values:\n",
    "        d[v] += 1\n",
    "        seen[v].append(k)\n",
    "print(Counter(d).most_common(10))\n",
    "seen"
   ],
   "metadata": {
    "collapsed": false,
    "pycharm": {
     "name": "#%%\n"
    }
   }
  },
  {
   "cell_type": "code",
   "execution_count": 226,
   "outputs": [
    {
     "data": {
      "text/plain": "{'max_background_compactions': ['max_background_compactions'],\n 'max_background_flushes': ['max_background_flushes'],\n 'write_buffer_size': ['write_buffer_size',\n  'mem_p99',\n  'mixgraph_latency',\n  'mixgraph_iops',\n  'mixgraph_io_size',\n  'rocksdb_memtable_miss_count',\n  'rocksdb_number_keys_written_count',\n  'rocksdb_number_keys_read_count',\n  'rocksdb_bytes_written_count',\n  'rocksdb_number_db_seek_count',\n  'rocksdb_number_db_next_count',\n  'rocksdb_number_db_seek_found_count',\n  'rocksdb_number_db_next_found_count',\n  'rocksdb_db_iter_bytes_read_count',\n  'rocksdb_wal_bytes_count',\n  'rocksdb_write_self_count',\n  'rocksdb_write_wal_count',\n  'rocksdb_number_iter_skip_count',\n  'rocksdb_num_iterator_created_count',\n  'rocksdb_num_iterator_deleted_count',\n  'rocksdb_db_get_micros_p50',\n  'rocksdb_db_get_micros_count',\n  'rocksdb_db_get_micros_sum',\n  'rocksdb_db_write_micros_p50',\n  'rocksdb_db_write_micros_count',\n  'rocksdb_db_write_micros_sum',\n  'rocksdb_db_seek_micros_p50',\n  'rocksdb_db_seek_micros_count',\n  'rocksdb_bytes_per_read_count',\n  'rocksdb_bytes_per_write_p50',\n  'rocksdb_bytes_per_write_p95',\n  'rocksdb_bytes_per_write_count',\n  'rocksdb_bytes_per_write_sum'],\n 'max_write_buffer_number': ['max_write_buffer_number'],\n 'min_write_buffer_number_to_merge': ['min_write_buffer_number_to_merge'],\n 'max_bytes_for_level_multiplier': ['max_bytes_for_level_multiplier'],\n 'block_size': ['block_size'],\n 'level0_file_num_compaction_trigger': ['level0_file_num_compaction_trigger'],\n 'level0_slowdown_writes_trigger': ['level0_slowdown_writes_trigger'],\n 'level0_stop_writes_trigger': ['level0_stop_writes_trigger']}"
     },
     "execution_count": 226,
     "metadata": {},
     "output_type": "execute_result"
    }
   ],
   "source": [
    "relevant_map"
   ],
   "metadata": {
    "collapsed": false,
    "pycharm": {
     "name": "#%%\n"
    }
   }
  },
  {
   "cell_type": "code",
   "execution_count": 227,
   "outputs": [],
   "source": [
    "# {\n",
    "# \"level_1_rn_gb\": ['max_background_compactions',\n",
    "#               'max_background_flushes',\n",
    "#               'max_write_buffer_number',\n",
    "#               'min_write_buffer_number_to_merge',\n",
    "#               'block_size',\n",
    "#               'level0_slowdown_writes_trigger',\n",
    "#               'level0_stop_writes_trigger']\n",
    "# \"level_1_wnew_gb\" #\n",
    "# \"level_1_out_files\" #\n",
    "# \"FileReadStatsLevel1_min\" # 1"
   ],
   "metadata": {
    "collapsed": false,
    "pycharm": {
     "name": "#%%\n"
    }
   }
  },
  {
   "cell_type": "code",
   "execution_count": 293,
   "outputs": [],
   "source": [
    "# correlations['level_1_w_amp'][abs(correlations['level_1_w_amp']) > 0.5]\n",
    "\n",
    "\n",
    "correlations = dataset_y.corr()\n",
    "iops_corr = abs(correlations['mixgraph_iops'])\n",
    "highly_relv_features = iops_corr[iops_corr>0.5].keys().tolist()"
   ],
   "metadata": {
    "collapsed": false,
    "pycharm": {
     "name": "#%%\n"
    }
   }
  },
  {
   "cell_type": "code",
   "execution_count": 294,
   "outputs": [],
   "source": [
    "dataset_x_w_target = dataset_x.copy()\n",
    "dataset_x_w_target = pd.concat([\n",
    "    dataset_x_w_target,\n",
    "    dataset_y[highly_relv_features]\n",
    "    ], axis=1\n",
    ")\n",
    "results_corr =  dataset_x_w_target.corr()"
   ],
   "metadata": {
    "collapsed": false,
    "pycharm": {
     "name": "#%%\n"
    }
   }
  },
  {
   "cell_type": "code",
   "execution_count": 295,
   "outputs": [],
   "source": [
    "rocksdb_params = dataset_x.columns.tolist()\n",
    "\n",
    "relevant_map = {}\n",
    "for param in rocksdb_params:\n",
    "    param_corr = abs(results_corr[param])\n",
    "    relevant_map[param] = param_corr[param_corr > 0.5].keys().tolist()"
   ],
   "metadata": {
    "collapsed": false,
    "pycharm": {
     "name": "#%%\n"
    }
   }
  },
  {
   "cell_type": "code",
   "execution_count": 296,
   "outputs": [
    {
     "data": {
      "text/plain": "[('max_background_compactions', 1),\n ('max_background_flushes', 1),\n ('write_buffer_size', 1)]"
     },
     "execution_count": 296,
     "metadata": {},
     "output_type": "execute_result"
    }
   ],
   "source": [
    "from collections import Counter, defaultdict\n",
    "\n",
    "d = defaultdict(int)\n",
    "seen = defaultdict(list)\n",
    "for k, values in relevant_map.items():\n",
    "    for v in values:\n",
    "        d[v] += 1\n",
    "        seen[v].append(k)\n",
    "# print(Counter(d).most_common(10))\n",
    "# seen\n",
    "Counter(d).most_common(3)"
   ],
   "metadata": {
    "collapsed": false,
    "pycharm": {
     "name": "#%%\n"
    }
   }
  },
  {
   "cell_type": "code",
   "execution_count": 257,
   "outputs": [
    {
     "data": {
      "text/plain": "{'max_background_compactions': ['max_background_compactions'],\n 'max_background_flushes': ['max_background_flushes'],\n 'write_buffer_size': ['write_buffer_size',\n  'mixgraph_latency',\n  'rocksdb_db_seek_micros_p50'],\n 'max_write_buffer_number': ['max_write_buffer_number'],\n 'min_write_buffer_number_to_merge': ['min_write_buffer_number_to_merge'],\n 'max_bytes_for_level_multiplier': ['max_bytes_for_level_multiplier'],\n 'block_size': ['block_size'],\n 'level0_file_num_compaction_trigger': ['level0_file_num_compaction_trigger'],\n 'level0_slowdown_writes_trigger': ['level0_slowdown_writes_trigger'],\n 'level0_stop_writes_trigger': ['level0_stop_writes_trigger']}"
     },
     "execution_count": 257,
     "metadata": {},
     "output_type": "execute_result"
    }
   ],
   "source": [
    "relevant_map"
   ],
   "metadata": {
    "collapsed": false,
    "pycharm": {
     "name": "#%%\n"
    }
   }
  },
  {
   "cell_type": "code",
   "execution_count": 246,
   "outputs": [
    {
     "name": "stdout",
     "output_type": "stream",
     "text": [
      "mem_p99\n",
      "mixgraph_latency\n",
      "mixgraph_iops\n",
      "mixgraph_io_size\n",
      "rocksdb_memtable_miss_count\n",
      "rocksdb_number_keys_written_count\n",
      "rocksdb_number_keys_read_count\n",
      "rocksdb_bytes_written_count\n",
      "rocksdb_number_db_seek_count\n",
      "rocksdb_number_db_next_count\n",
      "rocksdb_number_db_seek_found_count\n",
      "rocksdb_number_db_next_found_count\n",
      "rocksdb_db_iter_bytes_read_count\n",
      "rocksdb_wal_bytes_count\n",
      "rocksdb_write_self_count\n",
      "rocksdb_write_wal_count\n",
      "rocksdb_number_superversion_releases_count\n",
      "rocksdb_number_superversion_cleanups_count\n",
      "rocksdb_num_iterator_created_count\n",
      "rocksdb_num_iterator_deleted_count\n",
      "rocksdb_db_get_micros_p50\n",
      "rocksdb_db_get_micros_p95\n",
      "rocksdb_db_get_micros_p99\n",
      "rocksdb_db_get_micros_count\n",
      "rocksdb_db_get_micros_sum\n",
      "rocksdb_db_write_micros_p50\n",
      "rocksdb_db_write_micros_count\n",
      "rocksdb_table_sync_micros_count\n",
      "rocksdb_table_sync_micros_sum\n",
      "rocksdb_numfiles_in_singlecompaction_p50\n",
      "rocksdb_numfiles_in_singlecompaction_p95\n",
      "rocksdb_numfiles_in_singlecompaction_p99\n",
      "rocksdb_numfiles_in_singlecompaction_p100\n",
      "rocksdb_db_seek_micros_p50\n",
      "rocksdb_db_seek_micros_p95\n",
      "rocksdb_db_seek_micros_p99\n",
      "rocksdb_db_seek_micros_count\n",
      "rocksdb_bytes_per_read_count\n",
      "rocksdb_bytes_per_write_p95\n",
      "rocksdb_bytes_per_write_p100\n",
      "rocksdb_bytes_per_write_count\n",
      "rocksdb_bytes_per_write_sum\n",
      "rocksdb_db_flush_micros_count\n",
      "level_0_out_files\n",
      "level_0_comp_cnt\n"
     ]
    }
   ],
   "source": [
    "for c in highly_relv_features:\n",
    "    print(c)\n",
    "# dataset_y['rocksdb_read_amp_total_read_bytes_count'].unique()\n",
    "# rocksdb_read_amp_estimate_useful_bytes_count\n",
    "# rocksdb_read_amp_total_read_bytes_count\n",
    "#['rocksdb.read.amp.total.read.bytes']\n",
    "# rocksdb_db_write_micros_p99\n",
    "\n",
    "  # // Read amplification can be calculated using this formula\n",
    "  # // (READ_AMP_TOTAL_READ_BYTES / READ_AMP_ESTIMATE_USEFUL_BYTES)"
   ],
   "metadata": {
    "collapsed": false,
    "pycharm": {
     "name": "#%%\n"
    }
   }
  },
  {
   "cell_type": "code",
   "execution_count": 312,
   "outputs": [
    {
     "name": "stdout",
     "output_type": "stream",
     "text": [
      "     mixgraph_iops  rocksdb_bytes_per_write_p95\n",
      "4           6827.0                   186.040053\n",
      "184        27486.0                   186.091491\n",
      "207        19279.0                   186.103397\n",
      "401        27530.0                   186.107639\n",
      "461        27019.0                   186.118760\n",
      "..             ...                          ...\n",
      "486        94568.0                   186.592747\n",
      "398        94578.0                   186.593091\n",
      "354        94613.0                   186.593438\n",
      "254        94611.0                   186.593438\n",
      "401        94572.0                   186.594541\n",
      "\n",
      "[2600 rows x 2 columns]\n"
     ]
    },
    {
     "data": {
      "text/plain": "<Figure size 432x288 with 1 Axes>",
      "image/png": "[encoded data removed]"
     },
     "metadata": {},
     "output_type": "display_data"
    }
   ],
   "source": [
    "v = 'rocksdb_bytes_per_write_p95'\n",
    "view_df = dataset_y[['mixgraph_iops', v]]\n",
    "sns.lineplot(data=view_df, x=v, y=\"mixgraph_iops\")\n",
    "print(view_df.sort_values(by=v))\n",
    "\n"
   ],
   "metadata": {
    "collapsed": false,
    "pycharm": {
     "name": "#%%\n"
    }
   }
  },
  {
   "cell_type": "code",
   "execution_count": 300,
   "outputs": [
    {
     "data": {
      "text/plain": "['max_background_compactions']"
     },
     "execution_count": 300,
     "metadata": {},
     "output_type": "execute_result"
    }
   ],
   "source": [
    "from autorocks.envs.rocksdb.space import RocksDBParamsSpaceV1\n",
    "params = RocksDBParamsSpaceV1()"
   ],
   "metadata": {
    "collapsed": false,
    "pycharm": {
     "name": "#%%\n"
    }
   }
  },
  {
   "cell_type": "code",
   "execution_count": 308,
   "outputs": [
    {
     "data": {
      "text/plain": "['FileReadStatsLevel0_count',\n 'FileReadStatsLevel0_average',\n 'FileReadStatsLevel0_stddev',\n 'FileReadStatsLevel0_median',\n 'FileReadStatsLevel0_max',\n 'FileReadStatsLevel0_p50',\n 'FileReadStatsLevel0_p75',\n 'FileReadStatsLevel0_p99',\n 'FileReadStatsLevel0_p99_9',\n 'FileReadStatsLevel0_p99_99',\n 'rocksdb_flush_write_bytes_count',\n 'rocksdb_read_block_get_micros_p95',\n 'rocksdb_read_block_get_micros_p99',\n 'rocksdb_read_block_get_micros_sum',\n 'rocksdb_db_seek_micros_p100',\n 'rocksdb_sst_read_micros_p50',\n 'rocksdb_sst_read_micros_p95',\n 'rocksdb_sst_read_micros_p99',\n 'rocksdb_sst_read_micros_p100',\n 'rocksdb_sst_read_micros_count',\n 'rocksdb_sst_read_micros_sum',\n 'rocksdb_db_flush_micros_sum',\n 'flush_gb_total',\n 'flush_gb_interval',\n 'level_0_score',\n 'level_0_write_gb',\n 'level_0_wnew_gb',\n 'level_0_w_amp',\n 'level_0_wr_mb_per_s',\n 'level_0_comp_sec',\n 'level_0_comp_merge_cpu_sec',\n 'min_write_buffer_number_to_merge']"
     },
     "execution_count": 308,
     "metadata": {},
     "output_type": "execute_result"
    }
   ],
   "source": [
    "t_v = params.min_write_buffer_number_to_merge.name\n",
    "param_to_cor = dataset_y.copy()\n",
    "param_to_cor[t_v] = dataset_x[t_v]\n",
    "correlations = param_to_cor.corr()\n",
    "iops_corr = abs(correlations[t_v])\n",
    "highly_relv_features = iops_corr[iops_corr>0.5].keys().tolist()\n",
    "highly_relv_features"
   ],
   "metadata": {
    "collapsed": false,
    "pycharm": {
     "name": "#%%\n"
    }
   }
  },
  {
   "cell_type": "code",
   "execution_count": null,
   "outputs": [],
   "source": [],
   "metadata": {
    "collapsed": false,
    "pycharm": {
     "name": "#%%\n"
    }
   }
  }
 ],
 "metadata": {
  "kernelspec": {
   "display_name": "Python 3",
   "language": "python",
   "name": "python3"
  },
  "language_info": {
   "codemirror_mode": {
    "name": "ipython",
    "version": 2
   },
   "file_extension": ".py",
   "mimetype": "text/x-python",
   "name": "python",
   "nbconvert_exporter": "python",
   "pygments_lexer": "ipython2",
   "version": "2.7.6"
  }
 },
 "nbformat": 4,
 "nbformat_minor": 0
}
