{
 "cells": [
  {
   "cell_type": "code",
   "execution_count": 1,
   "metadata": {
    "collapsed": true
   },
   "outputs": [],
   "source": [
    "\n",
    "%matplotlib inline\n",
    "%load_ext autoreload\n",
    "%autoreload 2"
   ]
  },
  {
   "cell_type": "code",
   "execution_count": 3,
   "outputs": [],
   "source": [
    "from pathlib import Path\n",
    "\n",
    "import seaborn as sns\n",
    "import pandas as pd\n",
    "import numpy as np\n",
    "\n",
    "from autorocks.envs.rocksdb.space import RocksDBParamsSpaceV1"
   ],
   "metadata": {
    "collapsed": false,
    "pycharm": {
     "name": "#%%\n"
    }
   }
  },
  {
   "cell_type": "code",
   "execution_count": null,
   "outputs": [],
   "source": [
    "\"\"\"\n",
    "Useless found metrics:\n",
    "* level_1_rn_gb: always 0\n",
    "* w_amp has no correlation to iops (also always 0 or 1)\n",
    "* FileReadStatsLevel1_min too jumpy?\n",
    "\n",
    "No direct correalation but usefl:\n",
    "* rocksdb_db_get_micros_p99\n",
    "* rocksdb_db_write_micros_p99\n",
    "\"\"\"\n",
    "\n",
    "params = RocksDBParamsSpaceV1()\n",
    "\n",
    "byte_per_read  = \"BytePerRead\"\n",
    "read_p99 = \"ReadBlockGetP99\"\n",
    "level0 = \"Level0ToLevel1P9\"\n",
    "\n",
    "# new\n",
    "iops='IOPS'\n",
    "read_stats = \"FileReadStatsLevel1_min\"\n",
    "\n",
    "## v2\n",
    "\n",
    "# get_p99 = 'GetP99' # \"rocksdb_db_get_micros_p99\"\n",
    "# write_p99 = 'WriteP99' # \"rocksdb_db_write_micros_p99\"\n",
    "byte_per_write = 'BytePerWRite' # rocksdb_bytes_per_write_p95\n",
    "mem = 'mem_p99' # maxi\n",
    "latency = 'mixgraph_latency' # mini\n",
    "\n",
    "\n",
    "tasks_to_dict = {\n",
    "    params.max_background_compactions.name: [ mem],\n",
    "    params.max_background_flushes.name: [read_stats, ],\n",
    "    params.write_buffer_size.name: [iops, latency, mem],\n",
    "    params.max_write_buffer_number.name: [mem],\n",
    "    params.min_write_buffer_number_to_merge.name: [read_stats, mem],\n",
    "    params.max_bytes_for_level_multiplier.name: [mem],\n",
    "    params.block_size.name: [read_stats, ],\n",
    "    params.level0_file_num_compaction_trigger.name: [read_stats, ],\n",
    "    params.level0_slowdown_writes_trigger.name: [ ],\n",
    "    params.level0_stop_writes_trigger.name: [ read_stats, ],\n",
    "}\n",
    "\n",
    "pd.DataFrame()"
   ],
   "metadata": {
    "collapsed": false,
    "pycharm": {
     "name": "#%%\n"
    }
   }
  },
  {
   "cell_type": "code",
   "execution_count": null,
   "outputs": [],
   "source": [
    "['max_background_compactions',\n",
    " 'write_buffer_size',\n",
    " 'max_write_buffer_number',\n",
    " 'min_write_buffer_number_to_merge',\n",
    " 'max_bytes_for_level_multiplier',\n",
    " 'mem_p99']\n",
    "# Good candidates:\n",
    "# minimize: rocksdb_db_get_micros_p99, rocksdb_db_write_micros_p99\n",
    "# w_amp"
   ],
   "metadata": {
    "collapsed": false,
    "pycharm": {
     "name": "#%%\n"
    }
   }
  },
  {
   "cell_type": "code",
   "execution_count": null,
   "outputs": [],
   "source": [
    "{'max_background_compactions': ['max_background_compactions'],\n",
    " 'max_background_flushes': ['max_background_flushes'],\n",
    " 'write_buffer_size': ['write_buffer_size',\n",
    "  'mixgraph_latency',\n",
    "  'rocksdb_db_seek_micros_p50'],\n",
    " 'max_write_buffer_number': ['max_write_buffer_number'],\n",
    " 'min_write_buffer_number_to_merge': ['min_write_buffer_number_to_merge'],\n",
    " 'max_bytes_for_level_multiplier': ['max_bytes_for_level_multiplier'],\n",
    " 'block_size': ['block_size'],\n",
    " 'level0_file_num_compaction_trigger': ['level0_file_num_compaction_trigger'],\n",
    " 'level0_slowdown_writes_trigger': ['level0_slowdown_writes_trigger'],\n",
    " 'level0_stop_writes_trigger': ['level0_stop_writes_trigger']}"
   ],
   "metadata": {
    "collapsed": false,
    "pycharm": {
     "name": "#%%\n"
    }
   }
  },
  {
   "cell_type": "code",
   "execution_count": null,
   "outputs": [],
   "source": [
    "# iops\n",
    "'level_1_wnew_gb': ['max_background_compactions',\n",
    "              'max_background_flushes',\n",
    "              'max_write_buffer_number',\n",
    "              'min_write_buffer_number_to_merge',\n",
    "              'block_size',\n",
    "              'level0_slowdown_writes_trigger',\n",
    "              'level0_stop_writes_trigger'],\n",
    "             'level_1_out_files': ['max_background_flushes',\n",
    "              'max_write_buffer_number',\n",
    "              'min_write_buffer_number_to_merge',\n",
    "              'block_size',\n",
    "              'level0_file_num_compaction_trigger',\n",
    "              'level0_stop_writes_trigger'],\n",
    "             'level_1_score': ['max_background_flushes',\n",
    "              'write_buffer_size',\n",
    "              'block_size',\n",
    "              'level0_file_num_compaction_trigger'],\n",
    "             'level_1_key_drop': ['max_background_flushes',\n",
    "              'level0_file_num_compaction_trigger'],)"
   ],
   "metadata": {
    "collapsed": false,
    "pycharm": {
     "name": "#%%\n"
    }
   }
  }
 ],
 "metadata": {
  "kernelspec": {
   "display_name": "Python 3",
   "language": "python",
   "name": "python3"
  },
  "language_info": {
   "codemirror_mode": {
    "name": "ipython",
    "version": 2
   },
   "file_extension": ".py",
   "mimetype": "text/x-python",
   "name": "python",
   "nbconvert_exporter": "python",
   "pygments_lexer": "ipython2",
   "version": "2.7.6"
  }
 },
 "nbformat": 4,
 "nbformat_minor": 0
}